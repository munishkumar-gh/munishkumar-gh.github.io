{
 "cells": [
  {
   "cell_type": "code",
   "execution_count": 1,
   "metadata": {},
   "outputs": [],
   "source": [
    "import warnings\n",
    "warnings.filterwarnings(\"ignore\")"
   ]
  },
  {
   "cell_type": "code",
   "execution_count": 2,
   "metadata": {},
   "outputs": [],
   "source": [
    "#pip install --upgrade ipykernel\n",
    "#pip install autocorrect\n",
    "#pip install textblob\n",
    "#pip install gensim==3.8.3\n",
    "#!pip install pyLDAvis\n",
    "#pip install spacy"
   ]
  },
  {
   "cell_type": "code",
   "execution_count": 3,
   "metadata": {},
   "outputs": [
    {
     "name": "stderr",
     "output_type": "stream",
     "text": [
      "/opt/anaconda3/lib/python3.8/site-packages/sklearn/decomposition/_lda.py:28: DeprecationWarning: `np.float` is a deprecated alias for the builtin `float`. To silence this warning, use `float` by itself. Doing this will not modify any behavior and is safe. If you specifically wanted the numpy scalar type, use `np.float64` here.\n",
      "Deprecated in NumPy 1.20; for more details and guidance: https://numpy.org/devdocs/release/1.20.0-notes.html#deprecations\n",
      "  EPS = np.finfo(np.float).eps\n",
      "[nltk_data] Downloading package stopwords to\n",
      "[nltk_data]     /Users/janine/nltk_data...\n",
      "[nltk_data]   Package stopwords is already up-to-date!\n"
     ]
    },
    {
     "data": {
      "text/plain": [
       "True"
      ]
     },
     "execution_count": 3,
     "metadata": {},
     "output_type": "execute_result"
    }
   ],
   "source": [
    "import numpy as np\n",
    "import pandas as pd\n",
    "import matplotlib.pyplot as plt\n",
    "import regex as re\n",
    "import nltk\n",
    "import scipy\n",
    "from nltk.corpus import stopwords\n",
    "from nltk.stem import WordNetLemmatizer\n",
    "from nltk.corpus import wordnet\n",
    "from autocorrect import Speller\n",
    "from sklearn.feature_extraction.text import TfidfVectorizer\n",
    "from textblob import TextBlob\n",
    "from gensim.models import CoherenceModel\n",
    "import gensim\n",
    "import gensim.corpora as corpora\n",
    "import spacy\n",
    "import pyLDAvis\n",
    "import pyLDAvis.gensim_models\n",
    "import logging, warnings\n",
    "import gensim.corpora as corpora\n",
    "from gensim.utils import lemmatize, simple_preprocess\n",
    "from gensim.models import CoherenceModel\n",
    "import matplotlib.pyplot as plt\n",
    "nltk.download('stopwords')"
   ]
  },
  {
   "cell_type": "code",
   "execution_count": 4,
   "metadata": {},
   "outputs": [],
   "source": [
    "from sklearn.feature_extraction.text import TfidfVectorizer\n",
    "from sklearn.decomposition import NMF\n",
    "from gensim.corpora.dictionary import Dictionary\n",
    "from gensim.models.nmf import Nmf\n",
    "from operator import itemgetter\n",
    "import random\n",
    "from collections import Counter\n",
    "import matplotlib.colors as mcolors"
   ]
  },
  {
   "cell_type": "code",
   "execution_count": 5,
   "metadata": {},
   "outputs": [
    {
     "name": "stdout",
     "output_type": "stream",
     "text": [
      "pip is /Library/Frameworks/Python.framework/Versions/3.9/bin/pip\r\n"
     ]
    }
   ],
   "source": [
    "!type -a pip"
   ]
  },
  {
   "cell_type": "code",
   "execution_count": 6,
   "metadata": {
    "scrolled": true
   },
   "outputs": [
    {
     "data": {
      "text/plain": [
       "0     This paper aims to compute the performances of...\n",
       "1     Renewable energy project development is highly...\n",
       "2     This study assesses the factors responsible fo...\n",
       "3     Minigrids are expected by the UN Sustainable E...\n",
       "4     Energy security and environmental sustainabili...\n",
       "                            ...                        \n",
       "95    Expansion of renewable energies is a central p...\n",
       "96    Stakeholders strongly influence project succes...\n",
       "97    This paper aims to analyse reasons for the abs...\n",
       "98    Citizens own nearly half the renewable energy ...\n",
       "99    Power generation using wind has been extensive...\n",
       "Name: Content, Length: 100, dtype: object"
      ]
     },
     "execution_count": 6,
     "metadata": {},
     "output_type": "execute_result"
    }
   ],
   "source": [
    "merged = pd.read_csv(\"merged_new.csv\")\n",
    "merged.Content"
   ]
  },
  {
   "cell_type": "code",
   "execution_count": 7,
   "metadata": {
    "scrolled": true
   },
   "outputs": [
    {
     "data": {
      "text/html": [
       "<div>\n",
       "<style scoped>\n",
       "    .dataframe tbody tr th:only-of-type {\n",
       "        vertical-align: middle;\n",
       "    }\n",
       "\n",
       "    .dataframe tbody tr th {\n",
       "        vertical-align: top;\n",
       "    }\n",
       "\n",
       "    .dataframe thead th {\n",
       "        text-align: right;\n",
       "    }\n",
       "</style>\n",
       "<table border=\"1\" class=\"dataframe\">\n",
       "  <thead>\n",
       "    <tr style=\"text-align: right;\">\n",
       "      <th></th>\n",
       "      <th>Content</th>\n",
       "      <th>word_count</th>\n",
       "    </tr>\n",
       "  </thead>\n",
       "  <tbody>\n",
       "    <tr>\n",
       "      <th>0</th>\n",
       "      <td>This paper aims to compute the performances of...</td>\n",
       "      <td>834</td>\n",
       "    </tr>\n",
       "    <tr>\n",
       "      <th>1</th>\n",
       "      <td>Renewable energy project development is highly...</td>\n",
       "      <td>768</td>\n",
       "    </tr>\n",
       "    <tr>\n",
       "      <th>2</th>\n",
       "      <td>This study assesses the factors responsible fo...</td>\n",
       "      <td>817</td>\n",
       "    </tr>\n",
       "    <tr>\n",
       "      <th>3</th>\n",
       "      <td>Minigrids are expected by the UN Sustainable E...</td>\n",
       "      <td>926</td>\n",
       "    </tr>\n",
       "    <tr>\n",
       "      <th>4</th>\n",
       "      <td>Energy security and environmental sustainabili...</td>\n",
       "      <td>828</td>\n",
       "    </tr>\n",
       "  </tbody>\n",
       "</table>\n",
       "</div>"
      ],
      "text/plain": [
       "                                             Content  word_count\n",
       "0  This paper aims to compute the performances of...         834\n",
       "1  Renewable energy project development is highly...         768\n",
       "2  This study assesses the factors responsible fo...         817\n",
       "3  Minigrids are expected by the UN Sustainable E...         926\n",
       "4  Energy security and environmental sustainabili...         828"
      ]
     },
     "execution_count": 7,
     "metadata": {},
     "output_type": "execute_result"
    }
   ],
   "source": [
    "#display word count\n",
    "merged['word_count'] = merged['Content'].apply(lambda x: len(str(x).split(\" \")))\n",
    "merged[['Content','word_count']].head()"
   ]
  },
  {
   "cell_type": "markdown",
   "metadata": {},
   "source": [
    "# Data Prep"
   ]
  },
  {
   "cell_type": "code",
   "execution_count": 8,
   "metadata": {},
   "outputs": [
    {
     "name": "stderr",
     "output_type": "stream",
     "text": [
      "<>:5: DeprecationWarning: invalid escape sequence \\w\n",
      "<>:5: DeprecationWarning: invalid escape sequence \\w\n",
      "/var/folders/0j/p1sf5x296z57_lsn25m7m2y80000gn/T/ipykernel_96595/3633260353.py:5: DeprecationWarning: invalid escape sequence \\w\n",
      "  merged['Content'] = merged['Content'].str.replace('[^\\w\\s]','')\n"
     ]
    },
    {
     "data": {
      "text/plain": [
       "0    this paper aims to compute the performances of...\n",
       "1    renewable energy project development is highly...\n",
       "2    this study assesses the factors responsible fo...\n",
       "3    minigrids are expected by the un sustainable e...\n",
       "4    energy security and environmental sustainabili...\n",
       "Name: Content, dtype: object"
      ]
     },
     "execution_count": 8,
     "metadata": {},
     "output_type": "execute_result"
    }
   ],
   "source": [
    "#lowercase content\n",
    "merged['Content'] = merged['Content'].apply(lambda x: \" \".join(x.lower() for x in x.split()))\n",
    "\n",
    "#remove punctuations\n",
    "merged['Content'] = merged['Content'].str.replace('[^\\w\\s]','')\n",
    "merged['Content'].head()"
   ]
  },
  {
   "cell_type": "code",
   "execution_count": 9,
   "metadata": {},
   "outputs": [
    {
     "data": {
      "text/plain": [
       "0    paper aims compute performances smaller versio...\n",
       "1    renewable energy project development highly co...\n",
       "2    study assesses factors responsible success fai...\n",
       "3    minigrids expected un sustainable energy se4al...\n",
       "4    energy security environmental sustainability b...\n",
       "Name: Content, dtype: object"
      ]
     },
     "execution_count": 9,
     "metadata": {},
     "output_type": "execute_result"
    }
   ],
   "source": [
    "#display number of stopwords\n",
    "stop = stopwords.words('english')\n",
    "merged['stopwords'] = merged['Content'].apply(lambda x: len([x for x in x.split() if x in stop]))\n",
    "\n",
    "#remove stopwords\n",
    "merged['Content'] = merged['Content'].apply(lambda x: \" \".join(x for x in x.split() if x not in stop))\n",
    "merged['Content'].head()"
   ]
  },
  {
   "cell_type": "markdown",
   "metadata": {},
   "source": [
    "# Exploratory analysis "
   ]
  },
  {
   "cell_type": "code",
   "execution_count": 10,
   "metadata": {},
   "outputs": [
    {
     "data": {
      "text/plain": [
       "0    aims compute performances smaller version sola...\n",
       "1    development highly complex means guaranteed de...\n",
       "2    assesses responsible failure access programs b...\n",
       "3    minigrids expected un sustainable se4all initi...\n",
       "4    security environmental sustainability become i...\n",
       "Name: Content, dtype: object"
      ]
     },
     "execution_count": 10,
     "metadata": {},
     "output_type": "execute_result"
    }
   ],
   "source": [
    "#add new stop words\n",
    "stop = stopwords.words('english')\n",
    "newStopWords = ['also','1','2','3','4','critical','renwable','renewables','rd','projects','china','turkey','et','al','csfs','different','jordan','maan','anman','important','results','however','paper','new','implications','research','may','factors','study','success','this''csf','project','finding','result','decision','impact''important','solar','wind','renewable','energy','factors','projects','success','study']\n",
    "stop.extend(newStopWords)\n",
    "\n",
    "merged['Content'] = merged['Content'].apply(lambda x: \" \".join(x for x in x.split() if x not in stop))\n",
    "merged['Content'].head()"
   ]
  },
  {
   "cell_type": "code",
   "execution_count": 11,
   "metadata": {},
   "outputs": [],
   "source": [
    "#new most frequent words after inputting new stop words\n",
    "freq = pd.Series(' '.join(merged['Content']).split()).value_counts()[:20]\n"
   ]
  },
  {
   "cell_type": "markdown",
   "metadata": {},
   "source": [
    "# Data prep"
   ]
  },
  {
   "cell_type": "code",
   "execution_count": 12,
   "metadata": {
    "scrolled": true
   },
   "outputs": [
    {
     "data": {
      "text/plain": [
       "0    aim compute performance smaller version solana...\n",
       "1    development highly complex mean guaranteed dec...\n",
       "2    ass responsible failure access program banglad...\n",
       "3    minigrids expected un sustainable se4all initi...\n",
       "4    security environmental sustainability become i...\n",
       "Name: Content, dtype: object"
      ]
     },
     "execution_count": 12,
     "metadata": {},
     "output_type": "execute_result"
    }
   ],
   "source": [
    "#tokenization\n",
    "TextBlob(merged['Content'][1]).words\n",
    "\n",
    "#lemmatization\n",
    "from textblob import Word\n",
    "merged['Content'] = merged['Content'].apply(lambda x: \" \".join([Word(word).lemmatize() for word in x.split()]))\n",
    "merged['Content'].head()"
   ]
  },
  {
   "cell_type": "markdown",
   "metadata": {},
   "source": [
    "# Non-Negative Matrix Factorisation\n",
    "first source: https://stackabuse.com/python-for-nlp-topic-modeling/\n"
   ]
  },
  {
   "cell_type": "code",
   "execution_count": 13,
   "metadata": {},
   "outputs": [],
   "source": [
    "# use the TFIDF vectorizers\n",
    "tfidf_vect = TfidfVectorizer(max_df=0.8, min_df=2, stop_words=stop)\n",
    "\n",
    "#create document term matrix\n",
    "doc_term_matrix = tfidf_vect.fit_transform(merged['Content'].values.astype ('U'))"
   ]
  },
  {
   "cell_type": "code",
   "execution_count": 14,
   "metadata": {
    "scrolled": true
   },
   "outputs": [
    {
     "data": {
      "text/plain": [
       "NMF(n_components=5, random_state=42)"
      ]
     },
     "execution_count": 14,
     "metadata": {},
     "output_type": "execute_result"
    }
   ],
   "source": [
    "#Assign number of topics \n",
    "nmf = NMF(n_components=5, random_state=42)\n",
    "nmf.fit(doc_term_matrix)"
   ]
  },
  {
   "cell_type": "code",
   "execution_count": 15,
   "metadata": {},
   "outputs": [],
   "source": [
    "#Random check for 10 words\n",
    "for i in range(10):\n",
    "    random_id = random.randint(0,len(tfidf_vect.get_feature_names()))"
   ]
  },
  {
   "cell_type": "code",
   "execution_count": 16,
   "metadata": {},
   "outputs": [],
   "source": [
    "# Retrieve 10 words with highest probablities\n",
    "first_topic = nmf.components_[0]\n",
    "top_topic_words = first_topic.argsort()[-10:]"
   ]
  },
  {
   "cell_type": "code",
   "execution_count": 17,
   "metadata": {},
   "outputs": [
    {
     "data": {
      "text/html": [
       "<div>\n",
       "<style scoped>\n",
       "    .dataframe tbody tr th:only-of-type {\n",
       "        vertical-align: middle;\n",
       "    }\n",
       "\n",
       "    .dataframe tbody tr th {\n",
       "        vertical-align: top;\n",
       "    }\n",
       "\n",
       "    .dataframe thead th {\n",
       "        text-align: right;\n",
       "    }\n",
       "</style>\n",
       "<table border=\"1\" class=\"dataframe\">\n",
       "  <thead>\n",
       "    <tr style=\"text-align: right;\">\n",
       "      <th></th>\n",
       "      <th>Title</th>\n",
       "      <th>Content</th>\n",
       "      <th>Journal Name</th>\n",
       "      <th>Unnamed: 3</th>\n",
       "      <th>Unnamed: 4</th>\n",
       "      <th>word_count</th>\n",
       "      <th>stopwords</th>\n",
       "      <th>Topic</th>\n",
       "    </tr>\n",
       "  </thead>\n",
       "  <tbody>\n",
       "    <tr>\n",
       "      <th>0</th>\n",
       "      <td>A 140 MW Solar Thermal Plant in Jordan</td>\n",
       "      <td>aim compute performance smaller version solana...</td>\n",
       "      <td>Processes</td>\n",
       "      <td>NaN</td>\n",
       "      <td>NaN</td>\n",
       "      <td>834</td>\n",
       "      <td>319</td>\n",
       "      <td>4</td>\n",
       "    </tr>\n",
       "    <tr>\n",
       "      <th>1</th>\n",
       "      <td>A fuzzy levelised energy cost method for renew...</td>\n",
       "      <td>development highly complex mean guaranteed dec...</td>\n",
       "      <td>Energy Policy</td>\n",
       "      <td>NaN</td>\n",
       "      <td>NaN</td>\n",
       "      <td>768</td>\n",
       "      <td>315</td>\n",
       "      <td>2</td>\n",
       "    </tr>\n",
       "    <tr>\n",
       "      <th>2</th>\n",
       "      <td>A qualitative factor analysis of renewable ene...</td>\n",
       "      <td>ass responsible failure access program banglad...</td>\n",
       "      <td>Energy Policy</td>\n",
       "      <td>NaN</td>\n",
       "      <td>NaN</td>\n",
       "      <td>817</td>\n",
       "      <td>277</td>\n",
       "      <td>1</td>\n",
       "    </tr>\n",
       "    <tr>\n",
       "      <th>3</th>\n",
       "      <td>A Review of Factors Influencing the Success of...</td>\n",
       "      <td>minigrids expected un sustainable se4all initi...</td>\n",
       "      <td>Asia-Pacific Solar Research Conference</td>\n",
       "      <td>NaN</td>\n",
       "      <td>NaN</td>\n",
       "      <td>926</td>\n",
       "      <td>354</td>\n",
       "      <td>1</td>\n",
       "    </tr>\n",
       "    <tr>\n",
       "      <th>4</th>\n",
       "      <td>An empirical analysis of the non-linear impact...</td>\n",
       "      <td>security environmental sustainability become i...</td>\n",
       "      <td>Environmental Science and Pollution Research</td>\n",
       "      <td>NaN</td>\n",
       "      <td>NaN</td>\n",
       "      <td>828</td>\n",
       "      <td>323</td>\n",
       "      <td>0</td>\n",
       "    </tr>\n",
       "  </tbody>\n",
       "</table>\n",
       "</div>"
      ],
      "text/plain": [
       "                                               Title  \\\n",
       "0             A 140 MW Solar Thermal Plant in Jordan   \n",
       "1  A fuzzy levelised energy cost method for renew...   \n",
       "2  A qualitative factor analysis of renewable ene...   \n",
       "3  A Review of Factors Influencing the Success of...   \n",
       "4  An empirical analysis of the non-linear impact...   \n",
       "\n",
       "                                             Content  \\\n",
       "0  aim compute performance smaller version solana...   \n",
       "1  development highly complex mean guaranteed dec...   \n",
       "2  ass responsible failure access program banglad...   \n",
       "3  minigrids expected un sustainable se4all initi...   \n",
       "4  security environmental sustainability become i...   \n",
       "\n",
       "                                   Journal Name  Unnamed: 3 Unnamed: 4  \\\n",
       "0                                     Processes         NaN        NaN   \n",
       "1                                 Energy Policy         NaN        NaN   \n",
       "2                                 Energy Policy         NaN        NaN   \n",
       "3        Asia-Pacific Solar Research Conference         NaN        NaN   \n",
       "4  Environmental Science and Pollution Research         NaN        NaN   \n",
       "\n",
       "   word_count  stopwords  Topic  \n",
       "0         834        319      4  \n",
       "1         768        315      2  \n",
       "2         817        277      1  \n",
       "3         926        354      1  \n",
       "4         828        323      0  "
      ]
     },
     "execution_count": 17,
     "metadata": {},
     "output_type": "execute_result"
    }
   ],
   "source": [
    "# combine the df\n",
    "topic_values = nmf.transform(doc_term_matrix)\n",
    "merged['Topic'] = topic_values.argmax(axis=1)\n",
    "merged.head()"
   ]
  },
  {
   "cell_type": "code",
   "execution_count": 18,
   "metadata": {},
   "outputs": [
    {
     "data": {
      "text/html": [
       "<div>\n",
       "<style scoped>\n",
       "    .dataframe tbody tr th:only-of-type {\n",
       "        vertical-align: middle;\n",
       "    }\n",
       "\n",
       "    .dataframe tbody tr th {\n",
       "        vertical-align: top;\n",
       "    }\n",
       "\n",
       "    .dataframe thead th {\n",
       "        text-align: right;\n",
       "    }\n",
       "</style>\n",
       "<table border=\"1\" class=\"dataframe\">\n",
       "  <thead>\n",
       "    <tr style=\"text-align: right;\">\n",
       "      <th></th>\n",
       "      <th>005</th>\n",
       "      <th>01</th>\n",
       "      <th>10</th>\n",
       "      <th>100</th>\n",
       "      <th>11</th>\n",
       "      <th>12</th>\n",
       "      <th>13</th>\n",
       "      <th>14</th>\n",
       "      <th>15</th>\n",
       "      <th>16</th>\n",
       "      <th>...</th>\n",
       "      <th>worth</th>\n",
       "      <th>worthy</th>\n",
       "      <th>would</th>\n",
       "      <th>written</th>\n",
       "      <th>yang</th>\n",
       "      <th>year</th>\n",
       "      <th>yet</th>\n",
       "      <th>yield</th>\n",
       "      <th>yielded</th>\n",
       "      <th>zero</th>\n",
       "    </tr>\n",
       "  </thead>\n",
       "  <tbody>\n",
       "    <tr>\n",
       "      <th>0</th>\n",
       "      <td>0.001023</td>\n",
       "      <td>0.000000</td>\n",
       "      <td>0.028720</td>\n",
       "      <td>0.021584</td>\n",
       "      <td>0.005171</td>\n",
       "      <td>0.026362</td>\n",
       "      <td>0.000391</td>\n",
       "      <td>0.013129</td>\n",
       "      <td>0.005738</td>\n",
       "      <td>0.000000</td>\n",
       "      <td>...</td>\n",
       "      <td>0.007835</td>\n",
       "      <td>0.002507</td>\n",
       "      <td>0.040478</td>\n",
       "      <td>0.001238</td>\n",
       "      <td>0.001687</td>\n",
       "      <td>0.072206</td>\n",
       "      <td>0.044006</td>\n",
       "      <td>0.000000</td>\n",
       "      <td>0.003496</td>\n",
       "      <td>0.000917</td>\n",
       "    </tr>\n",
       "    <tr>\n",
       "      <th>1</th>\n",
       "      <td>0.000044</td>\n",
       "      <td>0.000000</td>\n",
       "      <td>0.023297</td>\n",
       "      <td>0.004039</td>\n",
       "      <td>0.003901</td>\n",
       "      <td>0.000000</td>\n",
       "      <td>0.023243</td>\n",
       "      <td>0.002318</td>\n",
       "      <td>0.006358</td>\n",
       "      <td>0.010672</td>\n",
       "      <td>...</td>\n",
       "      <td>0.003556</td>\n",
       "      <td>0.000000</td>\n",
       "      <td>0.009954</td>\n",
       "      <td>0.006559</td>\n",
       "      <td>0.000000</td>\n",
       "      <td>0.016971</td>\n",
       "      <td>0.004604</td>\n",
       "      <td>0.003414</td>\n",
       "      <td>0.000470</td>\n",
       "      <td>0.000709</td>\n",
       "    </tr>\n",
       "    <tr>\n",
       "      <th>2</th>\n",
       "      <td>0.007251</td>\n",
       "      <td>0.000000</td>\n",
       "      <td>0.001762</td>\n",
       "      <td>0.000000</td>\n",
       "      <td>0.013506</td>\n",
       "      <td>0.006247</td>\n",
       "      <td>0.015484</td>\n",
       "      <td>0.000000</td>\n",
       "      <td>0.004466</td>\n",
       "      <td>0.005543</td>\n",
       "      <td>...</td>\n",
       "      <td>0.010237</td>\n",
       "      <td>0.010581</td>\n",
       "      <td>0.000000</td>\n",
       "      <td>0.000000</td>\n",
       "      <td>0.009483</td>\n",
       "      <td>0.000000</td>\n",
       "      <td>0.011286</td>\n",
       "      <td>0.000000</td>\n",
       "      <td>0.003191</td>\n",
       "      <td>0.016942</td>\n",
       "    </tr>\n",
       "    <tr>\n",
       "      <th>3</th>\n",
       "      <td>0.014712</td>\n",
       "      <td>0.042285</td>\n",
       "      <td>0.005210</td>\n",
       "      <td>0.000000</td>\n",
       "      <td>0.003910</td>\n",
       "      <td>0.001703</td>\n",
       "      <td>0.003578</td>\n",
       "      <td>0.007335</td>\n",
       "      <td>0.008721</td>\n",
       "      <td>0.000000</td>\n",
       "      <td>...</td>\n",
       "      <td>0.000000</td>\n",
       "      <td>0.001272</td>\n",
       "      <td>0.056982</td>\n",
       "      <td>0.000000</td>\n",
       "      <td>0.000000</td>\n",
       "      <td>0.036564</td>\n",
       "      <td>0.042666</td>\n",
       "      <td>0.034231</td>\n",
       "      <td>0.000000</td>\n",
       "      <td>0.000000</td>\n",
       "    </tr>\n",
       "    <tr>\n",
       "      <th>4</th>\n",
       "      <td>0.000000</td>\n",
       "      <td>0.000000</td>\n",
       "      <td>0.006877</td>\n",
       "      <td>0.011733</td>\n",
       "      <td>0.005232</td>\n",
       "      <td>0.005000</td>\n",
       "      <td>0.000562</td>\n",
       "      <td>0.000000</td>\n",
       "      <td>0.001573</td>\n",
       "      <td>0.012123</td>\n",
       "      <td>...</td>\n",
       "      <td>0.000000</td>\n",
       "      <td>0.000000</td>\n",
       "      <td>0.050203</td>\n",
       "      <td>0.000000</td>\n",
       "      <td>0.002000</td>\n",
       "      <td>0.049587</td>\n",
       "      <td>0.010238</td>\n",
       "      <td>0.000000</td>\n",
       "      <td>0.000000</td>\n",
       "      <td>0.001077</td>\n",
       "    </tr>\n",
       "  </tbody>\n",
       "</table>\n",
       "<p>5 rows × 3065 columns</p>\n",
       "</div>"
      ],
      "text/plain": [
       "        005        01        10       100        11        12        13  \\\n",
       "0  0.001023  0.000000  0.028720  0.021584  0.005171  0.026362  0.000391   \n",
       "1  0.000044  0.000000  0.023297  0.004039  0.003901  0.000000  0.023243   \n",
       "2  0.007251  0.000000  0.001762  0.000000  0.013506  0.006247  0.015484   \n",
       "3  0.014712  0.042285  0.005210  0.000000  0.003910  0.001703  0.003578   \n",
       "4  0.000000  0.000000  0.006877  0.011733  0.005232  0.005000  0.000562   \n",
       "\n",
       "         14        15        16  ...     worth    worthy     would   written  \\\n",
       "0  0.013129  0.005738  0.000000  ...  0.007835  0.002507  0.040478  0.001238   \n",
       "1  0.002318  0.006358  0.010672  ...  0.003556  0.000000  0.009954  0.006559   \n",
       "2  0.000000  0.004466  0.005543  ...  0.010237  0.010581  0.000000  0.000000   \n",
       "3  0.007335  0.008721  0.000000  ...  0.000000  0.001272  0.056982  0.000000   \n",
       "4  0.000000  0.001573  0.012123  ...  0.000000  0.000000  0.050203  0.000000   \n",
       "\n",
       "       yang      year       yet     yield   yielded      zero  \n",
       "0  0.001687  0.072206  0.044006  0.000000  0.003496  0.000917  \n",
       "1  0.000000  0.016971  0.004604  0.003414  0.000470  0.000709  \n",
       "2  0.009483  0.000000  0.011286  0.000000  0.003191  0.016942  \n",
       "3  0.000000  0.036564  0.042666  0.034231  0.000000  0.000000  \n",
       "4  0.002000  0.049587  0.010238  0.000000  0.000000  0.001077  \n",
       "\n",
       "[5 rows x 3065 columns]"
      ]
     },
     "execution_count": 18,
     "metadata": {},
     "output_type": "execute_result"
    }
   ],
   "source": [
    "components_df = pd.DataFrame(nmf.components_, columns=tfidf_vect.get_feature_names())\n",
    "components_df"
   ]
  },
  {
   "cell_type": "markdown",
   "metadata": {},
   "source": [
    "# Results"
   ]
  },
  {
   "cell_type": "code",
   "execution_count": 19,
   "metadata": {
    "collapsed": true
   },
   "outputs": [
    {
     "name": "stdout",
     "output_type": "stream",
     "text": [
      "For topic 1 the words with the highest value are:\n",
      "policy         0.710506\n",
      "technology     0.339605\n",
      "industry       0.269175\n",
      "sector         0.264546\n",
      "development    0.239205\n",
      "country        0.192277\n",
      "trade          0.173723\n",
      "government     0.173619\n",
      "mix            0.159058\n",
      "firm           0.156536\n",
      "Name: 0, dtype: float64\n",
      "\n",
      "\n",
      "For topic 2 the words with the highest value are:\n",
      "community        0.806816\n",
      "local            0.235139\n",
      "program          0.221262\n",
      "beneficiary      0.164662\n",
      "management       0.154987\n",
      "social           0.143125\n",
      "development      0.136969\n",
      "participation    0.131470\n",
      "partnership      0.115006\n",
      "rural            0.105213\n",
      "Name: 1, dtype: float64\n",
      "\n",
      "\n",
      "For topic 3 the words with the highest value are:\n",
      "stakeholder       0.499758\n",
      "communication     0.245046\n",
      "retrofit          0.238311\n",
      "relationship      0.236696\n",
      "team              0.218225\n",
      "organizational    0.204742\n",
      "mediating         0.192310\n",
      "method            0.176600\n",
      "variable          0.160888\n",
      "satisfaction      0.150512\n",
      "Name: 2, dtype: float64\n",
      "\n",
      "\n",
      "For topic 4 the words with the highest value are:\n",
      "investment     0.538192\n",
      "investor       0.518138\n",
      "preference     0.181746\n",
      "technology     0.137934\n",
      "portfolio      0.128919\n",
      "performance    0.124317\n",
      "financial      0.124166\n",
      "policy         0.124018\n",
      "retail         0.116239\n",
      "belief         0.107498\n",
      "Name: 3, dtype: float64\n",
      "\n",
      "\n",
      "For topic 5 the words with the highest value are:\n",
      "state          0.330523\n",
      "expansion      0.312364\n",
      "system         0.281107\n",
      "power          0.265692\n",
      "electricity    0.256933\n",
      "plant          0.215152\n",
      "promotion      0.210596\n",
      "fit            0.188707\n",
      "capacity       0.185971\n",
      "scheme         0.169868\n",
      "Name: 4, dtype: float64\n",
      "\n",
      "\n"
     ]
    }
   ],
   "source": [
    "#NNMF Results with topic words and values\n",
    "for topic in range(components_df.shape[0]):\n",
    "    tmp = components_df.iloc[topic]\n",
    "    print(f'For topic {topic+1} the words with the highest value are:')\n",
    "    print(tmp.nlargest(10))\n",
    "    print('\\n')"
   ]
  },
  {
   "cell_type": "markdown",
   "metadata": {},
   "source": [
    "# NMF coherence score\n",
    "second source: https://predictivehacks.com/topic-modelling-with-nmf-in-python/"
   ]
  },
  {
   "cell_type": "code",
   "execution_count": 20,
   "metadata": {
    "scrolled": true
   },
   "outputs": [],
   "source": [
    "#Split Text\n",
    "merged_content = [text.split(\" \") for text in merged.Content]\n",
    "\n",
    "#Link to original and Check\n",
    "merged ['processed_text']= merged_content "
   ]
  },
  {
   "cell_type": "code",
   "execution_count": 21,
   "metadata": {
    "scrolled": false
   },
   "outputs": [],
   "source": [
    "texts = merged ['processed_text']\n",
    "tfidf_vectorizer = TfidfVectorizer(\n",
    "    min_df=3,\n",
    "    max_df=0.85,\n",
    "    max_features=5000,\n",
    "    ngram_range=(1, 2),\n",
    "    preprocessor=' '.join\n",
    ")\n",
    "tfidf = tfidf_vectorizer.fit_transform(texts)"
   ]
  },
  {
   "cell_type": "code",
   "execution_count": 27,
   "metadata": {
    "scrolled": true
   },
   "outputs": [
    {
     "name": "stdout",
     "output_type": "stream",
     "text": [
      "[(1, 0.31004), (2, 0.34775), (3, 0.36805), (4, 0.38845), (5, 0.3724), (6, 0.32525), (7, 0.37717), (8, 0.40349), (9, 0.38907), (10, 0.35313)]\n"
     ]
    }
   ],
   "source": [
    "# Use Gensim's NMF to get the best num of topics via coherence score\n",
    "texts = merged ['processed_text']\n",
    "\n",
    "# Create a dictionary\n",
    "# In gensim a dictionary is a mapping between words and their integer id\n",
    "dictionary = Dictionary(texts)\n",
    "\n",
    "# Filter out extremes to limit the number of features\n",
    "dictionary.filter_extremes(\n",
    "    no_below=3,\n",
    "    no_above=0.85,\n",
    "    keep_n=5000\n",
    ")\n",
    "\n",
    "# Create the bag-of-words format (list of (token_id, token_count))\n",
    "corpus = [dictionary.doc2bow(text) for text in texts]\n",
    "\n",
    "# Create a list of the topic numbers we want to try\n",
    "topic_nums = list(np.arange(1, 10 + 1, 1))\n",
    "#topic_nums = list(np.arange(5, 75 + 1, 5))\n",
    "\n",
    "# Run the nmf model and calculate the coherence score\n",
    "# for each number of topics\n",
    "coherence_scores = []\n",
    "\n",
    "for num in topic_nums:\n",
    "    nmf = Nmf(\n",
    "        corpus=corpus,\n",
    "        num_topics=num,\n",
    "        id2word=dictionary,\n",
    "        chunksize=2000,\n",
    "        passes=5,\n",
    "        kappa=.1,\n",
    "        minimum_probability=0.01,\n",
    "        w_max_iter=300,\n",
    "        w_stop_condition=0.0001,\n",
    "        h_max_iter=100,\n",
    "        h_stop_condition=0.001,\n",
    "        eval_every=10,\n",
    "        normalize=True,\n",
    "        random_state=42\n",
    "    )\n",
    "    \n",
    "    # Run the coherence model to get the score\n",
    "    cm = CoherenceModel(\n",
    "        model=nmf,\n",
    "        texts=texts,\n",
    "        dictionary=dictionary,\n",
    "        coherence='c_v'\n",
    "    )\n",
    "    \n",
    "    coherence_scores.append(round(cm.get_coherence(), 5))\n",
    "    \n",
    "# Get the coherence score of each numbers of topics\n",
    "scores = list(zip(topic_nums, coherence_scores))\n",
    "best_num_topics = sorted(scores, key=itemgetter(1), reverse=True)[0][0]\n",
    "\n",
    "print(scores)"
   ]
  },
  {
   "cell_type": "markdown",
   "metadata": {},
   "source": [
    "# Visualization\n"
   ]
  },
  {
   "cell_type": "code",
   "execution_count": 24,
   "metadata": {},
   "outputs": [
    {
     "data": {
      "image/png": "[encoded data removed]",
      "text/plain": [
       "<Figure size 1200x1200 with 12 Axes>"
      ]
     },
     "metadata": {
      "needs_background": "light"
     },
     "output_type": "display_data"
    }
   ],
   "source": [
    "#Word count and Weight Graph\n",
    "topics = []\n",
    "\n",
    "for topic in range(components_df.shape[0]):\n",
    "    tmp = components_df.iloc[topic]\n",
    "    s = tmp.nlargest(10)\n",
    "    l = s.reset_index().values.tolist()\n",
    "    topics.append([topic,l])\n",
    "    \n",
    "data_flat = [w for w_list in merged_content for w in w_list]#merged_content\n",
    "counter = Counter(data_flat)\n",
    "\n",
    "out = []\n",
    "for i, topic in topics:\n",
    "    for word, weight in topic:\n",
    "        out.append([word, i , weight, counter[word]])\n",
    "\n",
    "df = pd.DataFrame(out, columns=['word', 'topic_id', 'importance', 'word_count'])        \n",
    "\n",
    "# Plot Word Count and Weights of Topic Keywords\n",
    "fig, axes = plt.subplots(3, 2, figsize=(10,10), sharey=True, dpi= 120)\n",
    "cols = [color for name, color in mcolors.TABLEAU_COLORS.items()]\n",
    "for i, ax in enumerate(axes.flatten()):\n",
    "    ax.bar(x='word', height=\"word_count\", data=df.loc[df.topic_id==i, :], color=cols[i], width=0.5, alpha=0.3, label='Word Count')\n",
    "    ax_twin = ax.twinx()\n",
    "    ax_twin.bar(x='word', height=\"importance\", data=df.loc[df.topic_id==i, :], color=cols[i], width=0.2, label='Weights')\n",
    "    ax.set_ylabel('Word Count', color=cols[i])\n",
    "    ax_twin.set_ylim(0, 1); ax.set_ylim(0, 800)\n",
    "    ax.set_title('NMF Topic: ' + str(i), color=cols[i], fontsize=16)\n",
    "    ax.tick_params(axis='y', left=False)\n",
    "    ax.set_xticklabels(df.loc[df.topic_id==i, 'word'], rotation=30, horizontalalignment= 'right')\n",
    "    ax.legend(loc='upper left'); ax_twin.legend(loc='upper right')\n",
    "    #ax.set_ylim (0,2000)\n",
    "    \n",
    "fig.tight_layout(w_pad=1)\n",
    "fig.suptitle('Word Count and Importance of Topic Keywords- nmf', fontsize=22, y=1.05)    \n",
    "plt.show()"
   ]
  },
  {
   "cell_type": "markdown",
   "metadata": {},
   "source": [
    "# Histogram graph - problem"
   ]
  },
  {
   "cell_type": "code",
   "execution_count": 30,
   "metadata": {},
   "outputs": [
    {
     "name": "stdout",
     "output_type": "stream",
     "text": [
      "[(0, 0.07640636011774743), (2, 0.0388481454903795), (3, 0.03022054980632643), (4, 0.019569570228161217), (5, 0.02375560773759993), (6, 0.6834395808442886), (7, 0.09501201201638383), (8, 0.014784821779772358), (9, 0.015892148856793145)]\n"
     ]
    },
    {
     "ename": "ValueError",
     "evalue": "too many values to unpack (expected 3)",
     "output_type": "error",
     "traceback": [
      "\u001b[0;31m---------------------------------------------------------------------------\u001b[0m",
      "\u001b[0;31mValueError\u001b[0m                                Traceback (most recent call last)",
      "\u001b[0;32m/var/folders/0j/p1sf5x296z57_lsn25m7m2y80000gn/T/ipykernel_96595/3508643624.py\u001b[0m in \u001b[0;36m<module>\u001b[0;34m\u001b[0m\n\u001b[1;32m     14\u001b[0m     \u001b[0;32mreturn\u001b[0m\u001b[0;34m(\u001b[0m\u001b[0mdominant_topics\u001b[0m\u001b[0;34m,\u001b[0m \u001b[0mtopic_percentages\u001b[0m\u001b[0;34m)\u001b[0m\u001b[0;34m\u001b[0m\u001b[0;34m\u001b[0m\u001b[0m\n\u001b[1;32m     15\u001b[0m \u001b[0;34m\u001b[0m\u001b[0m\n\u001b[0;32m---> 16\u001b[0;31m \u001b[0mdominant_topics\u001b[0m\u001b[0;34m,\u001b[0m \u001b[0mtopic_percentages\u001b[0m \u001b[0;34m=\u001b[0m \u001b[0mtopics_per_document\u001b[0m\u001b[0;34m(\u001b[0m\u001b[0mmodel\u001b[0m\u001b[0;34m=\u001b[0m\u001b[0mlda_model\u001b[0m\u001b[0;34m,\u001b[0m \u001b[0mcorpus\u001b[0m\u001b[0;34m=\u001b[0m\u001b[0mcorpus\u001b[0m\u001b[0;34m,\u001b[0m \u001b[0mend\u001b[0m\u001b[0;34m=\u001b[0m\u001b[0;34m-\u001b[0m\u001b[0;36m1\u001b[0m\u001b[0;34m)\u001b[0m\u001b[0;34m\u001b[0m\u001b[0;34m\u001b[0m\u001b[0m\n\u001b[0m\u001b[1;32m     17\u001b[0m \u001b[0;34m\u001b[0m\u001b[0m\n\u001b[1;32m     18\u001b[0m \u001b[0;31m# Distribution of Dominant Topics in Each Document\u001b[0m\u001b[0;34m\u001b[0m\u001b[0;34m\u001b[0m\u001b[0;34m\u001b[0m\u001b[0m\n",
      "\u001b[0;32m/var/folders/0j/p1sf5x296z57_lsn25m7m2y80000gn/T/ipykernel_96595/3508643624.py\u001b[0m in \u001b[0;36mtopics_per_document\u001b[0;34m(model, corpus, start, end)\u001b[0m\n\u001b[1;32m      8\u001b[0m     \u001b[0;32mfor\u001b[0m \u001b[0mi\u001b[0m\u001b[0;34m,\u001b[0m \u001b[0mcorp\u001b[0m \u001b[0;32min\u001b[0m \u001b[0menumerate\u001b[0m\u001b[0;34m(\u001b[0m\u001b[0mcorpus_sel\u001b[0m\u001b[0;34m)\u001b[0m\u001b[0;34m:\u001b[0m\u001b[0;34m\u001b[0m\u001b[0;34m\u001b[0m\u001b[0m\n\u001b[1;32m      9\u001b[0m         \u001b[0mprint\u001b[0m\u001b[0;34m(\u001b[0m\u001b[0mmodel\u001b[0m\u001b[0;34m[\u001b[0m\u001b[0mcorp\u001b[0m\u001b[0;34m]\u001b[0m\u001b[0;34m)\u001b[0m\u001b[0;34m\u001b[0m\u001b[0;34m\u001b[0m\u001b[0m\n\u001b[0;32m---> 10\u001b[0;31m         \u001b[0mtopic_percs\u001b[0m\u001b[0;34m,\u001b[0m \u001b[0mwordid_topics\u001b[0m\u001b[0;34m,\u001b[0m \u001b[0mwordid_phivalues\u001b[0m \u001b[0;34m=\u001b[0m \u001b[0mmodel\u001b[0m\u001b[0;34m[\u001b[0m\u001b[0mcorp\u001b[0m\u001b[0;34m]\u001b[0m\u001b[0;34m\u001b[0m\u001b[0;34m\u001b[0m\u001b[0m\n\u001b[0m\u001b[1;32m     11\u001b[0m         \u001b[0mdominant_topic\u001b[0m \u001b[0;34m=\u001b[0m \u001b[0msorted\u001b[0m\u001b[0;34m(\u001b[0m\u001b[0mtopic_percs\u001b[0m\u001b[0;34m,\u001b[0m \u001b[0mkey\u001b[0m \u001b[0;34m=\u001b[0m \u001b[0;32mlambda\u001b[0m \u001b[0mx\u001b[0m\u001b[0;34m:\u001b[0m \u001b[0mx\u001b[0m\u001b[0;34m[\u001b[0m\u001b[0;36m1\u001b[0m\u001b[0;34m]\u001b[0m\u001b[0;34m,\u001b[0m \u001b[0mreverse\u001b[0m\u001b[0;34m=\u001b[0m\u001b[0;32mTrue\u001b[0m\u001b[0;34m)\u001b[0m\u001b[0;34m[\u001b[0m\u001b[0;36m0\u001b[0m\u001b[0;34m]\u001b[0m\u001b[0;34m[\u001b[0m\u001b[0;36m0\u001b[0m\u001b[0;34m]\u001b[0m\u001b[0;34m\u001b[0m\u001b[0;34m\u001b[0m\u001b[0m\n\u001b[1;32m     12\u001b[0m         \u001b[0mdominant_topics\u001b[0m\u001b[0;34m.\u001b[0m\u001b[0mappend\u001b[0m\u001b[0;34m(\u001b[0m\u001b[0;34m(\u001b[0m\u001b[0mi\u001b[0m\u001b[0;34m,\u001b[0m \u001b[0mdominant_topic\u001b[0m\u001b[0;34m)\u001b[0m\u001b[0;34m)\u001b[0m\u001b[0;34m\u001b[0m\u001b[0;34m\u001b[0m\u001b[0m\n",
      "\u001b[0;31mValueError\u001b[0m: too many values to unpack (expected 3)"
     ]
    }
   ],
   "source": [
    "lda_model = nmf\n",
    "\n",
    "# Sentence Coloring of N Sentences\n",
    "def topics_per_document(model, corpus, start=0, end=1):\n",
    "    corpus_sel = corpus[start:end]\n",
    "    dominant_topics = []\n",
    "    topic_percentages = []\n",
    "    for i, corp in enumerate(corpus_sel):\n",
    "        print(model[corp])\n",
    "        topic_percs, wordid_topics, wordid_phivalues = model[corp]\n",
    "        dominant_topic = sorted(topic_percs, key = lambda x: x[1], reverse=True)[0][0]\n",
    "        dominant_topics.append((i, dominant_topic))\n",
    "        topic_percentages.append(topic_percs)\n",
    "    return(dominant_topics, topic_percentages)\n",
    "\n",
    "dominant_topics, topic_percentages = topics_per_document(model=lda_model, corpus=corpus, end=-1)            \n",
    "\n",
    "# Distribution of Dominant Topics in Each Document\n",
    "df = pd.DataFrame(dominant_topics, columns=['Document_Id', 'Dominant_Topic'])\n",
    "dominant_topic_in_each_doc = df.groupby('Dominant_Topic').size()\n",
    "df_dominant_topic_in_each_doc = dominant_topic_in_each_doc.to_frame(name='count').reset_index()\n",
    "\n",
    "# Total Topic Distribution by actual weight\n",
    "top\n",
    "ic_weightage_by_doc = pd.DataFrame([dict(t) for t in topic_percentages])\n",
    "df_topic_weightage_by_doc = topic_weightage_by_doc.sum().to_frame(name='count').reset_index()\n",
    "\n",
    "# Top 3 Keywords for each Topic\n",
    "topic_top3words = [(i, topic) for i, topics in ldamallet.show_topics(formatted=False) \n",
    "                                 for j, (topic, wt) in enumerate(topics) if j < 3]\n",
    "\n",
    "df_top3words_stacked = pd.DataFrame(topic_top3words, columns=['topic_id', 'words'])\n",
    "df_top3words = df_top3words_stacked.groupby('topic_id').agg(', \\n'.join)\n",
    "df_top3words.reset_index(level=0,inplace=True)\n",
    "\n"
   ]
  },
  {
   "cell_type": "code",
   "execution_count": null,
   "metadata": {
    "scrolled": true
   },
   "outputs": [],
   "source": [
    "from matplotlib.ticker import FuncFormatter\n",
    "\n",
    "# Plot\n",
    "fig, (ax1, ax2) = plt.subplots(1, 2, figsize=(12, 5), dpi=120, sharey=True)\n",
    "\n",
    "# Topic Distribution by Dominant Topics\n",
    "ax1.bar(x='Dominant_Topic', height='count', data=df_dominant_topic_in_each_doc, width=.5, color='firebrick')\n",
    "ax1.set_xticks(range(df_dominant_topic_in_each_doc.Dominant_Topic.unique().__len__()))\n",
    "tick_formatter = FuncFormatter(lambda x, pos: 'Topic ' + str(x)+ '\\n' + df_top3words.loc[df_top3words.topic_id==x, 'words'].values[0])\n",
    "ax1.xaxis.set_major_formatter(tick_formatter)\n",
    "ax1.set_title('Number of Documents by Dominant Topic', fontdict=dict(size=10))\n",
    "ax1.set_ylabel('Number of Documents')\n",
    "ax1.set_ylim(0, 30)\n",
    "\n",
    "\n",
    "# Topic Distribution by Topic Weights\n",
    "ax2.bar(x='index', height='count', data=df_topic_weightage_by_doc, width=.5, color='steelblue')\n",
    "ax2.set_xticks(range(df_topic_weightage_by_doc.index.unique().__len__()))\n",
    "ax2.xaxis.set_major_formatter(tick_formatter)\n",
    "ax2.set_title('Number of Documents by Topic Weightage', fontdict=dict(size=10))\n",
    "ax2.set_ylabel('Number of Documents')\n",
    "ax1.set_ylim(0, 30)\n",
    "\n",
    "plt.show()"
   ]
  },
  {
   "cell_type": "code",
   "execution_count": null,
   "metadata": {},
   "outputs": [],
   "source": [
    "# Def yourfn():\n",
    "# ………..\n",
    "# ……….\n",
    "# ………..\n",
    "# ………..\n",
    "# Variable_x, variable_y, variable_z = …\n",
    "# Variable_dfx = pd.DataFrame(variable_x)\n",
    "# Variable_dfy = pd.DataFrame(variable_y)\n",
    "# Variable_dfz = pd.DataFrame(variable_z)\n",
    " \n",
    "# Variable_dfx.to_csv(output1.csv, index=false, header = true)\n",
    "# Variable_dfy.to_csv(output2.csv, index=false, header = true)\n",
    "# Variable_dfz.to_csv(output3.csv, index=false, header = true)\n",
    "# return"
   ]
  },
  {
   "cell_type": "markdown",
   "metadata": {},
   "source": [
    "# # Tried extracting data manually, but did not work \n",
    "Aimed to get the results that shown here https://www.machinelearningplus.com/nlp/topic-modeling-gensim-python/ under \"Find the most representative document for each topic\" and \"Topic distribution across documents\".\n"
   ]
  },
  {
   "cell_type": "code",
   "execution_count": null,
   "metadata": {},
   "outputs": [],
   "source": [
    "optimal_model = model_list[3]\n",
    "model_topics = optimal_model.show_topics(formatted=False)\n",
    "pprint(optimal_model.print_topics(num_words=10))"
   ]
  },
  {
   "cell_type": "code",
   "execution_count": 29,
   "metadata": {},
   "outputs": [
    {
     "data": {
      "text/html": [
       "<div>\n",
       "<style scoped>\n",
       "    .dataframe tbody tr th:only-of-type {\n",
       "        vertical-align: middle;\n",
       "    }\n",
       "\n",
       "    .dataframe tbody tr th {\n",
       "        vertical-align: top;\n",
       "    }\n",
       "\n",
       "    .dataframe thead th {\n",
       "        text-align: right;\n",
       "    }\n",
       "</style>\n",
       "<table border=\"1\" class=\"dataframe\">\n",
       "  <thead>\n",
       "    <tr style=\"text-align: right;\">\n",
       "      <th></th>\n",
       "      <th>Document_No</th>\n",
       "      <th>Dominant_Topic</th>\n",
       "      <th>Topic_Perc_Contrib</th>\n",
       "      <th>Keywords</th>\n",
       "      <th>Text</th>\n",
       "    </tr>\n",
       "  </thead>\n",
       "  <tbody>\n",
       "    <tr>\n",
       "      <th>0</th>\n",
       "      <td>0</td>\n",
       "      <td>6.0</td>\n",
       "      <td>0.2999</td>\n",
       "      <td>international, capacity, agency, plant, policy...</td>\n",
       "      <td>[aim, compute, performance, smaller, version, ...</td>\n",
       "    </tr>\n",
       "    <tr>\n",
       "      <th>1</th>\n",
       "      <td>1</td>\n",
       "      <td>6.0</td>\n",
       "      <td>0.4295</td>\n",
       "      <td>international, capacity, agency, plant, policy...</td>\n",
       "      <td>[development, highly, complex, mean, guarantee...</td>\n",
       "    </tr>\n",
       "    <tr>\n",
       "      <th>2</th>\n",
       "      <td>2</td>\n",
       "      <td>6.0</td>\n",
       "      <td>0.3151</td>\n",
       "      <td>international, capacity, agency, plant, policy...</td>\n",
       "      <td>[ass, responsible, failure, access, program, b...</td>\n",
       "    </tr>\n",
       "    <tr>\n",
       "      <th>3</th>\n",
       "      <td>3</td>\n",
       "      <td>6.0</td>\n",
       "      <td>0.3205</td>\n",
       "      <td>international, capacity, agency, plant, policy...</td>\n",
       "      <td>[minigrids, expected, un, sustainable, se4all,...</td>\n",
       "    </tr>\n",
       "    <tr>\n",
       "      <th>4</th>\n",
       "      <td>4</td>\n",
       "      <td>6.0</td>\n",
       "      <td>0.6509</td>\n",
       "      <td>international, capacity, agency, plant, policy...</td>\n",
       "      <td>[security, environmental, sustainability, beco...</td>\n",
       "    </tr>\n",
       "    <tr>\n",
       "      <th>5</th>\n",
       "      <td>5</td>\n",
       "      <td>6.0</td>\n",
       "      <td>0.5880</td>\n",
       "      <td>international, capacity, agency, plant, policy...</td>\n",
       "      <td>[climate, change, increasingly, recognized, wo...</td>\n",
       "    </tr>\n",
       "    <tr>\n",
       "      <th>6</th>\n",
       "      <td>6</td>\n",
       "      <td>7.0</td>\n",
       "      <td>0.3469</td>\n",
       "      <td>investment, emission, carbon, sustainable, pro...</td>\n",
       "      <td>[key, stakeholder, industry, highly, responsib...</td>\n",
       "    </tr>\n",
       "    <tr>\n",
       "      <th>7</th>\n",
       "      <td>7</td>\n",
       "      <td>6.0</td>\n",
       "      <td>0.4809</td>\n",
       "      <td>international, capacity, agency, plant, policy...</td>\n",
       "      <td>[examine, stock, price, reaction, merger, acqu...</td>\n",
       "    </tr>\n",
       "    <tr>\n",
       "      <th>8</th>\n",
       "      <td>8</td>\n",
       "      <td>6.0</td>\n",
       "      <td>0.4495</td>\n",
       "      <td>international, capacity, agency, plant, policy...</td>\n",
       "      <td>[serious, problem, related, supply, based, mai...</td>\n",
       "    </tr>\n",
       "    <tr>\n",
       "      <th>9</th>\n",
       "      <td>9</td>\n",
       "      <td>6.0</td>\n",
       "      <td>0.3496</td>\n",
       "      <td>international, capacity, agency, plant, policy...</td>\n",
       "      <td>[photovoltaics, pv, deployment, easy, dense, u...</td>\n",
       "    </tr>\n",
       "  </tbody>\n",
       "</table>\n",
       "</div>"
      ],
      "text/plain": [
       "   Document_No  Dominant_Topic  Topic_Perc_Contrib  \\\n",
       "0            0             6.0              0.2999   \n",
       "1            1             6.0              0.4295   \n",
       "2            2             6.0              0.3151   \n",
       "3            3             6.0              0.3205   \n",
       "4            4             6.0              0.6509   \n",
       "5            5             6.0              0.5880   \n",
       "6            6             7.0              0.3469   \n",
       "7            7             6.0              0.4809   \n",
       "8            8             6.0              0.4495   \n",
       "9            9             6.0              0.3496   \n",
       "\n",
       "                                            Keywords  \\\n",
       "0  international, capacity, agency, plant, policy...   \n",
       "1  international, capacity, agency, plant, policy...   \n",
       "2  international, capacity, agency, plant, policy...   \n",
       "3  international, capacity, agency, plant, policy...   \n",
       "4  international, capacity, agency, plant, policy...   \n",
       "5  international, capacity, agency, plant, policy...   \n",
       "6  investment, emission, carbon, sustainable, pro...   \n",
       "7  international, capacity, agency, plant, policy...   \n",
       "8  international, capacity, agency, plant, policy...   \n",
       "9  international, capacity, agency, plant, policy...   \n",
       "\n",
       "                                                Text  \n",
       "0  [aim, compute, performance, smaller, version, ...  \n",
       "1  [development, highly, complex, mean, guarantee...  \n",
       "2  [ass, responsible, failure, access, program, b...  \n",
       "3  [minigrids, expected, un, sustainable, se4all,...  \n",
       "4  [security, environmental, sustainability, beco...  \n",
       "5  [climate, change, increasingly, recognized, wo...  \n",
       "6  [key, stakeholder, industry, highly, responsib...  \n",
       "7  [examine, stock, price, reaction, merger, acqu...  \n",
       "8  [serious, problem, related, supply, based, mai...  \n",
       "9  [photovoltaics, pv, deployment, easy, dense, u...  "
      ]
     },
     "execution_count": 29,
     "metadata": {},
     "output_type": "execute_result"
    }
   ],
   "source": [
    "def format_topics_sentences(ldamodel=nmf, corpus=corpus, texts=texts):\n",
    "    # Init output\n",
    "    sent_topics_df = pd.DataFrame()\n",
    "\n",
    "    # Get main topic in each document\n",
    "    for i, row in enumerate(ldamodel[corpus]):\n",
    "        row = sorted(row, key=lambda x: (x[1]), reverse=True)\n",
    "        # Get the Dominant topic, Perc Contribution and Keywords for each document\n",
    "        for j, (topic_num, prop_topic) in enumerate(row):\n",
    "            if j == 0:  # => dominant topic\n",
    "                wp = ldamodel.show_topic(topic_num)\n",
    "                topic_keywords = \", \".join([word for word, prop in wp])\n",
    "                sent_topics_df = sent_topics_df.append(pd.Series([int(topic_num), round(prop_topic,4), topic_keywords]), ignore_index=True)\n",
    "            else:\n",
    "                break\n",
    "    sent_topics_df.columns = ['Dominant_Topic', 'Perc_Contribution', 'Topic_Keywords']\n",
    "\n",
    "    # Add original text to the end of the output\n",
    "    contents = pd.Series(texts)\n",
    "    sent_topics_df = pd.concat([sent_topics_df, contents], axis=1)\n",
    "    return(sent_topics_df)\n",
    "\n",
    "df_topic_sents_keywords = format_topics_sentences(ldamodel=nmf, corpus=corpus, texts=texts)\n",
    "# df_topic_sents_keywords = format_topics_sentences(ldamodel=optimal_model, corpus=corpus, texts=data)\n",
    "\n",
    "# Format\n",
    "df_dominant_topic = df_topic_sents_keywords.reset_index()\n",
    "df_dominant_topic.columns = ['Document_No', 'Dominant_Topic', 'Topic_Perc_Contrib', 'Keywords', 'Text']\n",
    "\n",
    "# Show\n",
    "df_dominant_topic.head(10)"
   ]
  }
 ],
 "metadata": {
  "kernelspec": {
   "display_name": "Python 3 (ipykernel)",
   "language": "python",
   "name": "python3"
  },
  "language_info": {
   "codemirror_mode": {
    "name": "ipython",
    "version": 3
   },
   "file_extension": ".py",
   "mimetype": "text/x-python",
   "name": "python",
   "nbconvert_exporter": "python",
   "pygments_lexer": "ipython3",
   "version": "3.8.8"
  }
 },
 "nbformat": 4,
 "nbformat_minor": 4
}
