{
 "cells": [
  {
   "cell_type": "code",
   "execution_count": 3,
   "metadata": {},
   "outputs": [
    {
     "name": "stdout",
     "output_type": "stream",
     "text": [
      "Libraries imported\n"
     ]
    }
   ],
   "source": [
    "# General Libraries\n",
    "import itertools\n",
    "import pandas as pd\n",
    "import numpy as np\n",
    "import matplotlib.pyplot as plt\n",
    "import matplotlib.ticker as ticker\n",
    "from matplotlib.ticker import NullFormatter\n",
    "import time\n",
    "import re\n",
    "import requests\n",
    "import pickle\n",
    "import seaborn as sns\n",
    "import os\n",
    "import glob\n",
    "import sys\n",
    "sns.set()\n",
    "from pulp import *\n",
    "\n",
    "# Sklearn Liraries\n",
    "from sklearn import preprocessing\n",
    "\n",
    "import datetime\n",
    "from datetime import timedelta, date \n",
    "start = time.time()\n",
    "%matplotlib inline\n",
    "\n",
    "# Forces the print statement to show everything and not truncate\n",
    "# np.set_printoptions(threshold=sys.maxsize) \n",
    "print('Libraries imported')"
   ]
  },
  {
   "cell_type": "code",
   "execution_count": 4,
   "metadata": {},
   "outputs": [],
   "source": [
    "df = pd.DataFrame({'Variable': ['x1', 'x2'],\n",
    "                   'Price': [45, 20],\n",
    "                   'Cost': [30, 10],\n",
    "                   'Demand': [2000, 8000]\n",
    "                    })\n",
    "\n",
    "df.eval('Margin=Price-Cost', inplace=True)"
   ]
  },
  {
   "cell_type": "code",
   "execution_count": 5,
   "metadata": {},
   "outputs": [
    {
     "data": {
      "text/html": [
       "<div>\n",
       "<style scoped>\n",
       "    .dataframe tbody tr th:only-of-type {\n",
       "        vertical-align: middle;\n",
       "    }\n",
       "\n",
       "    .dataframe tbody tr th {\n",
       "        vertical-align: top;\n",
       "    }\n",
       "\n",
       "    .dataframe thead th {\n",
       "        text-align: right;\n",
       "    }\n",
       "</style>\n",
       "<table border=\"1\" class=\"dataframe\">\n",
       "  <thead>\n",
       "    <tr style=\"text-align: right;\">\n",
       "      <th></th>\n",
       "      <th>Variable</th>\n",
       "      <th>Price</th>\n",
       "      <th>Cost</th>\n",
       "      <th>Demand</th>\n",
       "      <th>Margin</th>\n",
       "    </tr>\n",
       "  </thead>\n",
       "  <tbody>\n",
       "    <tr>\n",
       "      <th>0</th>\n",
       "      <td>x1</td>\n",
       "      <td>45</td>\n",
       "      <td>30</td>\n",
       "      <td>2000</td>\n",
       "      <td>15</td>\n",
       "    </tr>\n",
       "    <tr>\n",
       "      <th>1</th>\n",
       "      <td>x2</td>\n",
       "      <td>20</td>\n",
       "      <td>10</td>\n",
       "      <td>8000</td>\n",
       "      <td>10</td>\n",
       "    </tr>\n",
       "  </tbody>\n",
       "</table>\n",
       "</div>"
      ],
      "text/plain": [
       "  Variable  Price  Cost  Demand  Margin\n",
       "0       x1     45    30    2000      15\n",
       "1       x2     20    10    8000      10"
      ]
     },
     "execution_count": 5,
     "metadata": {},
     "output_type": "execute_result"
    }
   ],
   "source": [
    "df"
   ]
  },
  {
   "cell_type": "code",
   "execution_count": 7,
   "metadata": {},
   "outputs": [],
   "source": [
    "# set the dictionary for each feature\n",
    "prob = LpProblem('Sell', LpMaximize) # Objective function\n",
    "\n",
    "inv_items = list(df['Variable']) # Variable name\n",
    "\n",
    "margin = dict(zip(inv_items, df['Margin'])) # Function \n",
    "\n",
    "demand = dict(zip(inv_items, df['Demand'])) # Function\n",
    "\n",
    "# next, we are defining our decision variables as investments and are adding a few parameters to it\n",
    "inv_vars = LpVariable.dicts('Vairable', inv_items, lowBound=0, cat='Integar')\n",
    "\n",
    "# set the decision variables\n",
    "# all add in the problem setting\n",
    "prob += lpSum([inv_vars[i] * margin[i] for i in inv_items])\n",
    "\n",
    "# Constraint\n",
    "prob += lpSum([inv_vars[i] for i in inv_items]) <= 8000, 'Total Demand'\n",
    "\n",
    "# Constraint\n",
    "prob += inv_vars['x1'] <= 2000, 'x1 Demand'\n",
    "\n",
    "# Constraint\n",
    "prob += inv_vars['x2'] <= 8000, 'x2 Demand'"
   ]
  },
  {
   "cell_type": "code",
   "execution_count": 11,
   "metadata": {},
   "outputs": [
    {
     "data": {
      "text/plain": [
       "1"
      ]
     },
     "execution_count": 11,
     "metadata": {},
     "output_type": "execute_result"
    }
   ],
   "source": [
    "prob.solve()"
   ]
  },
  {
   "cell_type": "code",
   "execution_count": 12,
   "metadata": {},
   "outputs": [
    {
     "name": "stdout",
     "output_type": "stream",
     "text": [
      "The optimal answer\n",
      "----------------------------------------------------------------------\n",
      "Vairable_x1 = 2000.0\n",
      "Vairable_x2 = 6000.0\n"
     ]
    }
   ],
   "source": [
    "# Answer\n",
    "value(prob.objective) # 9000\n",
    "\n",
    "# Variables' values\n",
    "print('The optimal answer\\n'+'-'*70)\n",
    "for v in prob.variables():\n",
    "    if v.varValue > 0:\n",
    "       print(v.name, '=', v.varValue)"
   ]
  },
  {
   "cell_type": "code",
   "execution_count": null,
   "metadata": {},
   "outputs": [],
   "source": [
    "# Create the 'prob' variable to contain the problem data\n",
    "#prob = LpProblem(\"Example_Problem\", LpMinimize)\n",
    "\n",
    "#https://stackoverflow.com/questions/4634317/excel-solver-in-python/46340060"
   ]
  }
 ],
 "metadata": {
  "kernelspec": {
   "display_name": "Python 3 (ipykernel)",
   "language": "python",
   "name": "python3"
  },
  "language_info": {
   "codemirror_mode": {
    "name": "ipython",
    "version": 3
   },
   "file_extension": ".py",
   "mimetype": "text/x-python",
   "name": "python",
   "nbconvert_exporter": "python",
   "pygments_lexer": "ipython3",
   "version": "3.8.8"
  }
 },
 "nbformat": 4,
 "nbformat_minor": 4
}
