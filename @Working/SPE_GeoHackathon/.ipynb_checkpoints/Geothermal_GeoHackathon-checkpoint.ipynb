{
 "cells": [
  {
   "cell_type": "markdown",
   "id": "a3bc718f",
   "metadata": {},
   "source": [
    "<h1 align=center><font size = 5>SPE Europe Energy GeoHackathon</font></h1>\n",
    "\n",
    "Society of Petroleum Engieers|  ERCE Equipoise | Geothermal Challenge  \n",
    ":-------------------------:|:-------------------------:|:-------------------------:\n",
    "<a href=\"https://www.spehackathon-eu.com\"> <img src = \"https://upload.wikimedia.org/wikipedia/en/thumb/4/42/Society_of_Petroleum_Engineers_Logo.svg/1200px-Society_of_Petroleum_Engineers_Logo.svg.png\" width = 200 /> | <a href=\"https://www.erce.energy/\"> <img src = \"https://energycouncil.com/wp-content/uploads/ERCE.png\" width = 200/> | <img src = \"https://solutions.vallourec.com/-/media/Solutions-img/Low-Carbon-Energy/Medias/Geothermal-energy/Header-Corner_Geothermal.ashx\" width = 200/>\n",
    "    \n"
   ]
  },
  {
   "cell_type": "markdown",
   "id": "5765f903",
   "metadata": {},
   "source": [
    "<h1 align=center><font size = 4> Team ERCE Munish Kumar </font></h1>\n",
    "<h1 align=center><font size = 3> 2021 </font></h1>"
   ]
  },
  {
   "cell_type": "code",
   "execution_count": 18,
   "id": "6bf04459",
   "metadata": {},
   "outputs": [],
   "source": [
    "from IPython.display import HTML, display\n",
    "from IPython.display import Image\n",
    "\n",
    "# To use, just type set_background('XXX') where XXX is whatever colour you want\n",
    "def set_background(color):         \n",
    "    script = (\"var cell = this.closest('.code_cell');\" \n",
    "              \"var editor = cell.querySelector('.input_area');\"         \n",
    "              \"editor.style.background='{}';\"         \n",
    "              \"this.parentNode.removeChild(this)\"     \n",
    "             ).format(color)      \n",
    "    display(HTML('<img src onerror=\"{}\">'.format(script)))"
   ]
  },
  {
   "cell_type": "code",
   "execution_count": 22,
   "id": "2d9af563",
   "metadata": {},
   "outputs": [
    {
     "data": {
      "text/html": [
       "<img src onerror=\"var cell = this.closest('.code_cell');var editor = cell.querySelector('.input_area');editor.style.background='purple';this.parentNode.removeChild(this)\">"
      ],
      "text/plain": [
       "<IPython.core.display.HTML object>"
      ]
     },
     "metadata": {},
     "output_type": "display_data"
    }
   ],
   "source": [
    "set_background('purple')"
   ]
  },
  {
   "cell_type": "code",
   "execution_count": null,
   "id": "56c70e0c",
   "metadata": {
    "scrolled": true
   },
   "outputs": [],
   "source": [
    "# Only uncomment if none of the following is installed\n",
    "\n",
    "#!conda install -c anaconda scikit-learn --yes\n",
    "#!conda install -c anaconda scipy --yes\n",
    "#!conda install -c anaconda dash --yes\n",
    "#!conda install -c anaconda plotly --yes\n",
    "#!conda install -c anaconda multiprocess --yes\n",
    "#!conda install -c anaconda nltk --yes\n",
    "#!conda install -c https://conda.anaconda.org/conda-forge wordcloud --yes\n",
    "#!conda install -c conda-forge textblob --yes\n",
    "#!conda install -c districtdatalabs yellowbrick --yes"
   ]
  },
  {
   "cell_type": "code",
   "execution_count": null,
   "id": "57a77dcb",
   "metadata": {},
   "outputs": [],
   "source": [
    "# General Libraries\n",
    "import itertools\n",
    "import pandas as pd\n",
    "import numpy as np\n",
    "import matplotlib.pyplot as plt\n",
    "import matplotlib.ticker as ticker\n",
    "from matplotlib.ticker import NullFormatter\n",
    "import time\n",
    "import re\n",
    "import requests\n",
    "import pickle\n",
    "import seaborn as sns\n",
    "import os\n",
    "import glob\n",
    "import scipy\n",
    "import sys\n",
    "sns.set()\n",
    "\n",
    "# Sklearn & NLP libraries\n",
    "from sklearn import preprocessing\n",
    "import nltk\n",
    "from nltk import FreqDist\n",
    "from nltk.stem import PorterStemmer, LancasterStemmer, SnowballStemmer # Preprocessing - Stemming\n",
    "from textblob import TextBlob #spelling corrections\n",
    "from textblob import Word # Preprocessing - Lematization \n",
    "from wordcloud import WordCloud, STOPWORDS\n",
    "from yellowbrick.text import TSNEVisualizer\n",
    "# Word Embedding + ML libraries\n",
    "\n",
    "from sklearn.feature_extraction.text import CountVectorizer, TfidfVectorizer  #Word embedding\n",
    "from sklearn import model_selection, linear_model, naive_bayes, ensemble, metrics, preprocessing  # different ML\n",
    "from xgboost import XGBClassifier #ML algo\n",
    "\n",
    "import datetime\n",
    "from datetime import timedelta, date \n",
    "start = time.time()\n",
    "%matplotlib inline\n",
    "\n",
    "# Forces the print statement to show everything and not truncate\n",
    "# np.set_printoptions(threshold=sys.maxsize) \n",
    "print('Libraries imported')"
   ]
  },
  {
   "cell_type": "markdown",
   "id": "00d75242",
   "metadata": {},
   "source": [
    "### Conclusion"
   ]
  },
  {
   "cell_type": "code",
   "execution_count": null,
   "id": "fea1babf",
   "metadata": {},
   "outputs": [],
   "source": [
    "count = 'Completed Process'\n",
    "elapsed = (time.time() - start)\n",
    "print (\"%s in %s seconds\" % (count,elapsed))"
   ]
  },
  {
   "cell_type": "code",
   "execution_count": null,
   "id": "2ca44d1d",
   "metadata": {},
   "outputs": [],
   "source": []
  }
 ],
 "metadata": {
  "kernelspec": {
   "display_name": "Python 3 (ipykernel)",
   "language": "python",
   "name": "python3"
  },
  "language_info": {
   "codemirror_mode": {
    "name": "ipython",
    "version": 3
   },
   "file_extension": ".py",
   "mimetype": "text/x-python",
   "name": "python",
   "nbconvert_exporter": "python",
   "pygments_lexer": "ipython3",
   "version": "3.8.8"
  }
 },
 "nbformat": 4,
 "nbformat_minor": 5
}
