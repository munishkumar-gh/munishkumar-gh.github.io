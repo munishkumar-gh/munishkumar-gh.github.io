{
 "cells": [
  {
   "cell_type": "markdown",
   "metadata": {},
   "source": [
    "## <span style=\"color:red\"> Run data generation with DARTS</span>"
   ]
  },
  {
   "cell_type": "code",
   "execution_count": null,
   "metadata": {
    "scrolled": true
   },
   "outputs": [],
   "source": [
    "import pandas as pd\n",
    "from darts.hdata.model import Model"
   ]
  },
  {
   "cell_type": "code",
   "execution_count": null,
   "metadata": {},
   "outputs": [],
   "source": [
    "# dimensions for the model\n",
    "nx = 230\n",
    "ny = 206\n",
    "\n",
    "# pre-defined wells - do not change list\n",
    "exist_well_list = ['I01', 'P01', 'I02', 'P02', 'I03', 'P03', 'E01', 'E02', 'E03', 'E04', 'E05', 'E06']\n",
    "exist_well_type = ['INJ', 'PRD', 'INJ', 'PRD', 'INJ', 'PRD', 'EXP', 'EXP', 'EXP', 'EXP', 'EXP', 'EXP']\n",
    "exist_well_x    = [190, 164, 136, 162, 109, 134, 195, 145, 46, 52, 72, 170]\n",
    "exist_well_y    = [100, 110, 75, 87, 113, 115, 70, 41, 46, 100, 152, 170]\n",
    "\n",
    "# user introduced wells\n",
    "new_well_list = ['I11', 'P11', 'I12', 'P12', 'I13', 'P13', 'I14', 'P14']\n",
    "new_well_x    = [   20,    20,   100,   100,   150,   150,  1,     1   ]\n",
    "new_well_y    = [   20,    40,   100,   120,   150,   170,  1,     2   ]\n",
    "n_new_wells = len(new_well_list)\n",
    "\n",
    "# define the model\n",
    "m = Model()\n",
    "\n",
    "# adding new wells to the model\n",
    "for i in range(n_new_wells):\n",
    "    m.add_well(new_well_list[i], new_well_x[i], new_well_y[i])\n",
    "        \n",
    "m.init()  # initiate the model\n",
    "m.run_python(m.params.first_ts)  # initial run of DARTS"
   ]
  },
  {
   "cell_type": "code",
   "execution_count": null,
   "metadata": {},
   "outputs": [],
   "source": [
    "# define controls for all wells\n",
    "for i, w in enumerate(m.reservoir.wells):\n",
    "    # Producers\n",
    "    if 'P' in w.name:\n",
    "        m.set_well_control(w, -350 * 24) # rate in m3/day\n",
    "    # Injectors\n",
    "    elif 'I' in w.name:\n",
    "        m.set_well_control(w, +350 * 24) # rate in m3/day\n",
    "\n",
    "m.run_python(10*365, restart_dt=1.36e-6)  # run the 10 years\n",
    "\n",
    "# define controls for all wells\n",
    "for i, w in enumerate(m.reservoir.wells):\n",
    "    # Producers\n",
    "    if 'P' in w.name:\n",
    "        m.set_well_control(w, -250 * 24) # rate in m3/day\n",
    "    # Injectors\n",
    "    elif 'I' in w.name:\n",
    "        m.set_well_control(w, +250 * 24) # rate in m3/day\n",
    "        \n",
    "m.run_python(10*365, restart_dt=1e-1)  # run the second control for 10 years\n",
    "\n",
    "# define controls for all wells\n",
    "for i, w in enumerate(m.reservoir.wells):\n",
    "    # Producers\n",
    "    if 'P' in w.name:\n",
    "        m.set_well_control(w, -450 * 24) # rate in m3/day\n",
    "    # Injectors\n",
    "    elif 'I' in w.name:\n",
    "        m.set_well_control(w, +450 * 24) # rate in m3/day\n",
    "        \n",
    "m.run_python(10*365, restart_dt=1e-1)  # run the third control for 10 years\n",
    "    \n",
    "m.print_timers()    "
   ]
  },
  {
   "cell_type": "code",
   "execution_count": null,
   "metadata": {},
   "outputs": [],
   "source": [
    "time_data = pd.DataFrame.from_dict(m.physics.engine.time_data)\n",
    "time_data.to_pickle(\"darts_time_data.pkl\")\n",
    "writer = pd.ExcelWriter('time_data.xlsx')\n",
    "time_data.to_excel(writer, 'Sheet1')\n",
    "writer.save()"
   ]
  },
  {
   "cell_type": "code",
   "execution_count": null,
   "metadata": {},
   "outputs": [],
   "source": [
    "time_data = pd.read_pickle(\"darts_time_data.pkl\")\n",
    "search_str = 'I13 : water rate'\n",
    "ax = time_data.plot(x='time', y=[col for col in time_data.columns if search_str in col])\n",
    "search_str = 'I13 : BHP'\n",
    "ax = time_data.plot(x='time', y=[col for col in time_data.columns if search_str in col])\n",
    "plt.show()\n",
    "search_str = 'P03 : temp'\n",
    "ax = time_data.plot(x='time', y=[col for col in time_data.columns if search_str in col])\n",
    "plt.show()"
   ]
  }
 ],
 "metadata": {
  "kernelspec": {
   "display_name": "Python 3 (ipykernel)",
   "language": "python",
   "name": "python3"
  },
  "language_info": {
   "codemirror_mode": {
    "name": "ipython",
    "version": 3
   },
   "file_extension": ".py",
   "mimetype": "text/x-python",
   "name": "python",
   "nbconvert_exporter": "python",
   "pygments_lexer": "ipython3",
   "version": "3.8.8"
  }
 },
 "nbformat": 4,
 "nbformat_minor": 2
}
