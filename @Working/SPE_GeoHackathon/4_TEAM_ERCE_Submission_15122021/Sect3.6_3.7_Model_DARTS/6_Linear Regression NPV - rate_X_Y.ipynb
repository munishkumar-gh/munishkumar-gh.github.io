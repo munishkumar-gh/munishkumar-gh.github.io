{
 "cells": [
  {
   "cell_type": "markdown",
   "id": "bae3c5c0",
   "metadata": {},
   "source": [
    "<h1 align=center><font size = 5>SPE Europe Energy GeoHackathon</font></h1>\n",
    "\n",
    "Society of Petroleum Engieers|  ERCE Equipoise | Geothermal Challenge  \n",
    ":-------------------------:|:-------------------------:|:-------------------------:\n",
    "<a href=\"https://www.spehackathon-eu.com\"> <img src = \"https://upload.wikimedia.org/wikipedia/en/thumb/4/42/Society_of_Petroleum_Engineers_Logo.svg/1200px-Society_of_Petroleum_Engineers_Logo.svg.png\" width = 200 /> | <a href=\"https://www.erce.energy/\"> <img src = \"https://energycouncil.com/wp-content/uploads/ERCE.png\" width = 200/> | <img src = \"https://solutions.vallourec.com/-/media/Solutions-img/Low-Carbon-Energy/Medias/Geothermal-energy/Header-Corner_Geothermal.ashx\" width = 200/>"
   ]
  },
  {
   "cell_type": "markdown",
   "id": "00c19981",
   "metadata": {},
   "source": [
    "<h1 align=center><font size = 4> Team ERCE - Munish Kumar, Kanna Swaminathan & Ivan Maulana </font></h1>\n",
    "<h1 align=center><font size = 3> 2021 </font></h1>"
   ]
  },
  {
   "cell_type": "markdown",
   "id": "784e4684",
   "metadata": {},
   "source": [
    "We now use the results of the multiple DART runs to build a machine learning based solution, using a multilinear regression. The input data set is split into train-test, and the model is built on the train set. We verify teh results of the model on the test set"
   ]
  },
  {
   "cell_type": "markdown",
   "id": "7f63a7cf",
   "metadata": {},
   "source": [
    "Import the required packages:"
   ]
  },
  {
   "cell_type": "code",
   "execution_count": 1,
   "id": "f55e4309",
   "metadata": {},
   "outputs": [],
   "source": [
    "import pandas as pd\n",
    "import matplotlib.pyplot as plt\n",
    "import numpy as np\n",
    "import sklearn as sk\n",
    "import warnings\n",
    "warnings.filterwarnings('ignore')\n",
    "\n",
    "from sklearn import preprocessing\n",
    "from sklearn.model_selection import train_test_split\n",
    "from sklearn.linear_model import LinearRegression\n",
    "from sklearn.linear_model import Ridge\n",
    "from sklearn.linear_model import Lasso\n",
    "from math import sqrt\n",
    "from sklearn.preprocessing import PolynomialFeatures\n",
    "from sklearn import metrics"
   ]
  },
  {
   "cell_type": "markdown",
   "id": "be5f3a94",
   "metadata": {},
   "source": [
    "Data loading:"
   ]
  },
  {
   "cell_type": "code",
   "execution_count": 2,
   "id": "e35e0fee",
   "metadata": {},
   "outputs": [
    {
     "data": {
      "text/html": [
       "<div>\n",
       "<style scoped>\n",
       "    .dataframe tbody tr th:only-of-type {\n",
       "        vertical-align: middle;\n",
       "    }\n",
       "\n",
       "    .dataframe tbody tr th {\n",
       "        vertical-align: top;\n",
       "    }\n",
       "\n",
       "    .dataframe thead th {\n",
       "        text-align: right;\n",
       "    }\n",
       "</style>\n",
       "<table border=\"1\" class=\"dataframe\">\n",
       "  <thead>\n",
       "    <tr style=\"text-align: right;\">\n",
       "      <th></th>\n",
       "      <th>P01_Rate</th>\n",
       "      <th>I01_Rate</th>\n",
       "      <th>P02_Rate</th>\n",
       "      <th>I02_Rate</th>\n",
       "      <th>P03_Rate</th>\n",
       "      <th>I03_Rate</th>\n",
       "      <th>P04_Rate</th>\n",
       "      <th>E03_Rate</th>\n",
       "      <th>P05_Rate</th>\n",
       "      <th>E02_Rate</th>\n",
       "      <th>...</th>\n",
       "      <th>E05_Y</th>\n",
       "      <th>P08_Y</th>\n",
       "      <th>E01_Y</th>\n",
       "      <th>P09_Y</th>\n",
       "      <th>E06_Y</th>\n",
       "      <th>P10_Y</th>\n",
       "      <th>I10_Y</th>\n",
       "      <th>NPV</th>\n",
       "      <th>Power</th>\n",
       "      <th>LCOH</th>\n",
       "    </tr>\n",
       "  </thead>\n",
       "  <tbody>\n",
       "    <tr>\n",
       "      <th>0</th>\n",
       "      <td>-350</td>\n",
       "      <td>350</td>\n",
       "      <td>-315</td>\n",
       "      <td>315</td>\n",
       "      <td>-350</td>\n",
       "      <td>350</td>\n",
       "      <td>-350</td>\n",
       "      <td>350</td>\n",
       "      <td>-350</td>\n",
       "      <td>350</td>\n",
       "      <td>...</td>\n",
       "      <td>152</td>\n",
       "      <td>65</td>\n",
       "      <td>70</td>\n",
       "      <td>170</td>\n",
       "      <td>170</td>\n",
       "      <td>86</td>\n",
       "      <td>70</td>\n",
       "      <td>2315.085403</td>\n",
       "      <td>149.970882</td>\n",
       "      <td>1.40</td>\n",
       "    </tr>\n",
       "    <tr>\n",
       "      <th>1</th>\n",
       "      <td>-350</td>\n",
       "      <td>350</td>\n",
       "      <td>-315</td>\n",
       "      <td>315</td>\n",
       "      <td>-350</td>\n",
       "      <td>350</td>\n",
       "      <td>-500</td>\n",
       "      <td>500</td>\n",
       "      <td>-350</td>\n",
       "      <td>350</td>\n",
       "      <td>...</td>\n",
       "      <td>152</td>\n",
       "      <td>65</td>\n",
       "      <td>70</td>\n",
       "      <td>170</td>\n",
       "      <td>170</td>\n",
       "      <td>86</td>\n",
       "      <td>70</td>\n",
       "      <td>2460.667798</td>\n",
       "      <td>158.453752</td>\n",
       "      <td>1.32</td>\n",
       "    </tr>\n",
       "    <tr>\n",
       "      <th>2</th>\n",
       "      <td>-350</td>\n",
       "      <td>350</td>\n",
       "      <td>-315</td>\n",
       "      <td>315</td>\n",
       "      <td>-350</td>\n",
       "      <td>350</td>\n",
       "      <td>-500</td>\n",
       "      <td>500</td>\n",
       "      <td>-350</td>\n",
       "      <td>350</td>\n",
       "      <td>...</td>\n",
       "      <td>152</td>\n",
       "      <td>65</td>\n",
       "      <td>70</td>\n",
       "      <td>170</td>\n",
       "      <td>170</td>\n",
       "      <td>86</td>\n",
       "      <td>70</td>\n",
       "      <td>2494.698990</td>\n",
       "      <td>164.962886</td>\n",
       "      <td>1.32</td>\n",
       "    </tr>\n",
       "    <tr>\n",
       "      <th>3</th>\n",
       "      <td>-350</td>\n",
       "      <td>350</td>\n",
       "      <td>-315</td>\n",
       "      <td>315</td>\n",
       "      <td>-350</td>\n",
       "      <td>350</td>\n",
       "      <td>-500</td>\n",
       "      <td>500</td>\n",
       "      <td>-350</td>\n",
       "      <td>350</td>\n",
       "      <td>...</td>\n",
       "      <td>152</td>\n",
       "      <td>65</td>\n",
       "      <td>70</td>\n",
       "      <td>170</td>\n",
       "      <td>170</td>\n",
       "      <td>86</td>\n",
       "      <td>70</td>\n",
       "      <td>2535.085614</td>\n",
       "      <td>159.006140</td>\n",
       "      <td>1.27</td>\n",
       "    </tr>\n",
       "    <tr>\n",
       "      <th>4</th>\n",
       "      <td>-350</td>\n",
       "      <td>350</td>\n",
       "      <td>-315</td>\n",
       "      <td>315</td>\n",
       "      <td>-350</td>\n",
       "      <td>350</td>\n",
       "      <td>-500</td>\n",
       "      <td>500</td>\n",
       "      <td>-350</td>\n",
       "      <td>350</td>\n",
       "      <td>...</td>\n",
       "      <td>152</td>\n",
       "      <td>65</td>\n",
       "      <td>70</td>\n",
       "      <td>170</td>\n",
       "      <td>170</td>\n",
       "      <td>86</td>\n",
       "      <td>70</td>\n",
       "      <td>2545.716731</td>\n",
       "      <td>163.208926</td>\n",
       "      <td>1.29</td>\n",
       "    </tr>\n",
       "  </tbody>\n",
       "</table>\n",
       "<p>5 rows × 63 columns</p>\n",
       "</div>"
      ],
      "text/plain": [
       "   P01_Rate  I01_Rate  P02_Rate  I02_Rate  P03_Rate  I03_Rate  P04_Rate  \\\n",
       "0      -350       350      -315       315      -350       350      -350   \n",
       "1      -350       350      -315       315      -350       350      -500   \n",
       "2      -350       350      -315       315      -350       350      -500   \n",
       "3      -350       350      -315       315      -350       350      -500   \n",
       "4      -350       350      -315       315      -350       350      -500   \n",
       "\n",
       "   E03_Rate  P05_Rate  E02_Rate  ...  E05_Y  P08_Y  E01_Y  P09_Y  E06_Y  \\\n",
       "0       350      -350       350  ...    152     65     70    170    170   \n",
       "1       500      -350       350  ...    152     65     70    170    170   \n",
       "2       500      -350       350  ...    152     65     70    170    170   \n",
       "3       500      -350       350  ...    152     65     70    170    170   \n",
       "4       500      -350       350  ...    152     65     70    170    170   \n",
       "\n",
       "   P10_Y  I10_Y          NPV       Power  LCOH  \n",
       "0     86     70  2315.085403  149.970882  1.40  \n",
       "1     86     70  2460.667798  158.453752  1.32  \n",
       "2     86     70  2494.698990  164.962886  1.32  \n",
       "3     86     70  2535.085614  159.006140  1.27  \n",
       "4     86     70  2545.716731  163.208926  1.29  \n",
       "\n",
       "[5 rows x 63 columns]"
      ]
     },
     "execution_count": 2,
     "metadata": {},
     "output_type": "execute_result"
    }
   ],
   "source": [
    "df = pd.read_csv(\"DARTS output.csv\")\n",
    "df.head()"
   ]
  },
  {
   "cell_type": "code",
   "execution_count": 3,
   "id": "9bfcd03e-039c-4da6-b168-57783c8f445a",
   "metadata": {},
   "outputs": [
    {
     "data": {
      "text/plain": [
       "LinearRegression()"
      ]
     },
     "execution_count": 3,
     "metadata": {},
     "output_type": "execute_result"
    }
   ],
   "source": [
    "#create a relationship between NPV and power\n",
    "X = df.iloc[:, 61:62].values\n",
    "y = df.iloc[:, 60].values\n",
    "poly_reg = PolynomialFeatures(degree=3)\n",
    "X_poly = poly_reg.fit_transform(X)\n",
    "pol_reg = LinearRegression()\n",
    "pol_reg.fit(X_poly, y)"
   ]
  },
  {
   "cell_type": "code",
   "execution_count": 4,
   "id": "b079e22f-887f-4aea-bd62-d78b82bf5bed",
   "metadata": {},
   "outputs": [
    {
     "data": {
      "image/png": "[encoded data removed]",
      "text/plain": [
       "<Figure size 432x288 with 1 Axes>"
      ]
     },
     "metadata": {
      "needs_background": "light"
     },
     "output_type": "display_data"
    }
   ],
   "source": [
    "def viz_polymonial():\n",
    "    plt.scatter(X, y, color='red')\n",
    "    plt.plot(X, pol_reg.predict(poly_reg.fit_transform(X)), color='blue')\n",
    "    plt.title('NPV vs Avg Power per year')\n",
    "    plt.xlabel('Power (MWh)')\n",
    "    plt.ylabel('NPV (MM€)')\n",
    "    plt.show()\n",
    "    return\n",
    "viz_polymonial()"
   ]
  },
  {
   "cell_type": "code",
   "execution_count": 5,
   "id": "aa5eb403-40a6-4990-b475-7055f2a0bfc6",
   "metadata": {},
   "outputs": [
    {
     "data": {
      "text/plain": [
       "array([2520.02351482])"
      ]
     },
     "execution_count": 5,
     "metadata": {},
     "output_type": "execute_result"
    }
   ],
   "source": [
    "pol_reg.predict(poly_reg.fit_transform([[180]]))"
   ]
  },
  {
   "cell_type": "markdown",
   "id": "31b2bb73",
   "metadata": {},
   "source": [
    "### Normalise dataset\n",
    "\n",
    "The following functions will be used to normalize the data set"
   ]
  },
  {
   "cell_type": "code",
   "execution_count": 6,
   "id": "f813e114",
   "metadata": {},
   "outputs": [
    {
     "name": "stdout",
     "output_type": "stream",
     "text": [
      "P01_Rate    0.3250\n",
      "I01_Rate    0.3250\n",
      "P02_Rate    0.3425\n",
      "I02_Rate    0.3425\n",
      "P03_Rate    0.3250\n",
      "dtype: float64\n",
      "P01_Rate    0.6750\n",
      "I01_Rate    0.6750\n",
      "P02_Rate    0.6575\n",
      "I02_Rate    0.6575\n",
      "P03_Rate    0.6750\n",
      "dtype: float64\n"
     ]
    }
   ],
   "source": [
    "#Min-max normalisation of flow rates\n",
    "def flow_norm(x):\n",
    "    return (x + 1000) / 2000\n",
    "\n",
    "df.iloc[:,0:20] = df.iloc[:,0:20].apply(flow_norm)\n",
    "\n",
    "print(df.min()[0:20].head())\n",
    "print(df.max()[0:20].head())"
   ]
  },
  {
   "cell_type": "code",
   "execution_count": 7,
   "id": "1e1e4526",
   "metadata": {},
   "outputs": [
    {
     "name": "stdout",
     "output_type": "stream",
     "text": [
      "P01_X    0.713043\n",
      "I01_X    0.826087\n",
      "P02_X    0.704348\n",
      "I02_X    0.591304\n",
      "P03_X    0.582609\n",
      "dtype: float64\n",
      "P01_X    0.713043\n",
      "I01_X    0.826087\n",
      "P02_X    0.704348\n",
      "I02_X    0.591304\n",
      "P03_X    0.582609\n",
      "dtype: float64\n"
     ]
    }
   ],
   "source": [
    "#Min-max normalisation of x-coord\n",
    "def x_norm(x):\n",
    "    return x / 230\n",
    "\n",
    "df.iloc[:,20:40] = df.iloc[:,20:40].apply(x_norm)\n",
    "\n",
    "print(df.min()[20:40].head())\n",
    "print(df.max()[20:40].head())"
   ]
  },
  {
   "cell_type": "code",
   "execution_count": 8,
   "id": "e035a667",
   "metadata": {},
   "outputs": [
    {
     "name": "stdout",
     "output_type": "stream",
     "text": [
      "P01_Y    0.533981\n",
      "I01_Y    0.485437\n",
      "P02_Y    0.422330\n",
      "I02_Y    0.364078\n",
      "P03_Y    0.558252\n",
      "dtype: float64\n",
      "P01_Y    0.533981\n",
      "I01_Y    0.485437\n",
      "P02_Y    0.422330\n",
      "I02_Y    0.364078\n",
      "P03_Y    0.558252\n",
      "dtype: float64\n"
     ]
    }
   ],
   "source": [
    "#Min-max normalisation of y-coord\n",
    "def y_norm(y):\n",
    "    return y / 206\n",
    "\n",
    "df.iloc[:,40:60] = df.iloc[:,40:60].apply(y_norm)\n",
    "\n",
    "print(df.min()[40:60].head())\n",
    "print(df.max()[40:60].head())"
   ]
  },
  {
   "cell_type": "code",
   "execution_count": 9,
   "id": "750ddd73-ce58-49d4-893b-f8b851a0b2f1",
   "metadata": {},
   "outputs": [
    {
     "data": {
      "text/html": [
       "<div>\n",
       "<style scoped>\n",
       "    .dataframe tbody tr th:only-of-type {\n",
       "        vertical-align: middle;\n",
       "    }\n",
       "\n",
       "    .dataframe tbody tr th {\n",
       "        vertical-align: top;\n",
       "    }\n",
       "\n",
       "    .dataframe thead th {\n",
       "        text-align: right;\n",
       "    }\n",
       "</style>\n",
       "<table border=\"1\" class=\"dataframe\">\n",
       "  <thead>\n",
       "    <tr style=\"text-align: right;\">\n",
       "      <th></th>\n",
       "      <th>P01_Rate</th>\n",
       "      <th>I01_Rate</th>\n",
       "      <th>P02_Rate</th>\n",
       "      <th>I02_Rate</th>\n",
       "      <th>P03_Rate</th>\n",
       "      <th>I03_Rate</th>\n",
       "      <th>P04_Rate</th>\n",
       "      <th>E03_Rate</th>\n",
       "      <th>P05_Rate</th>\n",
       "      <th>E02_Rate</th>\n",
       "      <th>...</th>\n",
       "      <th>E04_Y</th>\n",
       "      <th>P07_Y</th>\n",
       "      <th>E05_Y</th>\n",
       "      <th>P08_Y</th>\n",
       "      <th>E01_Y</th>\n",
       "      <th>P09_Y</th>\n",
       "      <th>E06_Y</th>\n",
       "      <th>P10_Y</th>\n",
       "      <th>I10_Y</th>\n",
       "      <th>Power</th>\n",
       "    </tr>\n",
       "  </thead>\n",
       "  <tbody>\n",
       "    <tr>\n",
       "      <th>0</th>\n",
       "      <td>0.325</td>\n",
       "      <td>0.675</td>\n",
       "      <td>0.3425</td>\n",
       "      <td>0.6575</td>\n",
       "      <td>0.325</td>\n",
       "      <td>0.675</td>\n",
       "      <td>0.325</td>\n",
       "      <td>0.675</td>\n",
       "      <td>0.325</td>\n",
       "      <td>0.675</td>\n",
       "      <td>...</td>\n",
       "      <td>0.485437</td>\n",
       "      <td>0.776699</td>\n",
       "      <td>0.737864</td>\n",
       "      <td>0.315534</td>\n",
       "      <td>0.339806</td>\n",
       "      <td>0.825243</td>\n",
       "      <td>0.825243</td>\n",
       "      <td>0.417476</td>\n",
       "      <td>0.339806</td>\n",
       "      <td>149.970882</td>\n",
       "    </tr>\n",
       "    <tr>\n",
       "      <th>1</th>\n",
       "      <td>0.325</td>\n",
       "      <td>0.675</td>\n",
       "      <td>0.3425</td>\n",
       "      <td>0.6575</td>\n",
       "      <td>0.325</td>\n",
       "      <td>0.675</td>\n",
       "      <td>0.250</td>\n",
       "      <td>0.750</td>\n",
       "      <td>0.325</td>\n",
       "      <td>0.675</td>\n",
       "      <td>...</td>\n",
       "      <td>0.485437</td>\n",
       "      <td>0.776699</td>\n",
       "      <td>0.737864</td>\n",
       "      <td>0.315534</td>\n",
       "      <td>0.339806</td>\n",
       "      <td>0.825243</td>\n",
       "      <td>0.825243</td>\n",
       "      <td>0.417476</td>\n",
       "      <td>0.339806</td>\n",
       "      <td>158.453752</td>\n",
       "    </tr>\n",
       "    <tr>\n",
       "      <th>2</th>\n",
       "      <td>0.325</td>\n",
       "      <td>0.675</td>\n",
       "      <td>0.3425</td>\n",
       "      <td>0.6575</td>\n",
       "      <td>0.325</td>\n",
       "      <td>0.675</td>\n",
       "      <td>0.250</td>\n",
       "      <td>0.750</td>\n",
       "      <td>0.325</td>\n",
       "      <td>0.675</td>\n",
       "      <td>...</td>\n",
       "      <td>0.485437</td>\n",
       "      <td>0.776699</td>\n",
       "      <td>0.737864</td>\n",
       "      <td>0.315534</td>\n",
       "      <td>0.339806</td>\n",
       "      <td>0.825243</td>\n",
       "      <td>0.825243</td>\n",
       "      <td>0.417476</td>\n",
       "      <td>0.339806</td>\n",
       "      <td>164.962886</td>\n",
       "    </tr>\n",
       "    <tr>\n",
       "      <th>3</th>\n",
       "      <td>0.325</td>\n",
       "      <td>0.675</td>\n",
       "      <td>0.3425</td>\n",
       "      <td>0.6575</td>\n",
       "      <td>0.325</td>\n",
       "      <td>0.675</td>\n",
       "      <td>0.250</td>\n",
       "      <td>0.750</td>\n",
       "      <td>0.325</td>\n",
       "      <td>0.675</td>\n",
       "      <td>...</td>\n",
       "      <td>0.485437</td>\n",
       "      <td>0.776699</td>\n",
       "      <td>0.737864</td>\n",
       "      <td>0.315534</td>\n",
       "      <td>0.339806</td>\n",
       "      <td>0.825243</td>\n",
       "      <td>0.825243</td>\n",
       "      <td>0.417476</td>\n",
       "      <td>0.339806</td>\n",
       "      <td>159.006140</td>\n",
       "    </tr>\n",
       "    <tr>\n",
       "      <th>4</th>\n",
       "      <td>0.325</td>\n",
       "      <td>0.675</td>\n",
       "      <td>0.3425</td>\n",
       "      <td>0.6575</td>\n",
       "      <td>0.325</td>\n",
       "      <td>0.675</td>\n",
       "      <td>0.250</td>\n",
       "      <td>0.750</td>\n",
       "      <td>0.325</td>\n",
       "      <td>0.675</td>\n",
       "      <td>...</td>\n",
       "      <td>0.485437</td>\n",
       "      <td>0.776699</td>\n",
       "      <td>0.737864</td>\n",
       "      <td>0.315534</td>\n",
       "      <td>0.339806</td>\n",
       "      <td>0.825243</td>\n",
       "      <td>0.825243</td>\n",
       "      <td>0.417476</td>\n",
       "      <td>0.339806</td>\n",
       "      <td>163.208926</td>\n",
       "    </tr>\n",
       "  </tbody>\n",
       "</table>\n",
       "<p>5 rows × 61 columns</p>\n",
       "</div>"
      ],
      "text/plain": [
       "   P01_Rate  I01_Rate  P02_Rate  I02_Rate  P03_Rate  I03_Rate  P04_Rate  \\\n",
       "0     0.325     0.675    0.3425    0.6575     0.325     0.675     0.325   \n",
       "1     0.325     0.675    0.3425    0.6575     0.325     0.675     0.250   \n",
       "2     0.325     0.675    0.3425    0.6575     0.325     0.675     0.250   \n",
       "3     0.325     0.675    0.3425    0.6575     0.325     0.675     0.250   \n",
       "4     0.325     0.675    0.3425    0.6575     0.325     0.675     0.250   \n",
       "\n",
       "   E03_Rate  P05_Rate  E02_Rate  ...     E04_Y     P07_Y     E05_Y     P08_Y  \\\n",
       "0     0.675     0.325     0.675  ...  0.485437  0.776699  0.737864  0.315534   \n",
       "1     0.750     0.325     0.675  ...  0.485437  0.776699  0.737864  0.315534   \n",
       "2     0.750     0.325     0.675  ...  0.485437  0.776699  0.737864  0.315534   \n",
       "3     0.750     0.325     0.675  ...  0.485437  0.776699  0.737864  0.315534   \n",
       "4     0.750     0.325     0.675  ...  0.485437  0.776699  0.737864  0.315534   \n",
       "\n",
       "      E01_Y     P09_Y     E06_Y     P10_Y     I10_Y       Power  \n",
       "0  0.339806  0.825243  0.825243  0.417476  0.339806  149.970882  \n",
       "1  0.339806  0.825243  0.825243  0.417476  0.339806  158.453752  \n",
       "2  0.339806  0.825243  0.825243  0.417476  0.339806  164.962886  \n",
       "3  0.339806  0.825243  0.825243  0.417476  0.339806  159.006140  \n",
       "4  0.339806  0.825243  0.825243  0.417476  0.339806  163.208926  \n",
       "\n",
       "[5 rows x 61 columns]"
      ]
     },
     "execution_count": 9,
     "metadata": {},
     "output_type": "execute_result"
    }
   ],
   "source": [
    "df2 = df.drop(['NPV', 'LCOH'], axis=1)\n",
    "df2.head()"
   ]
  },
  {
   "cell_type": "markdown",
   "id": "00b4726d",
   "metadata": {},
   "source": [
    "Splitting data into training and test:"
   ]
  },
  {
   "cell_type": "code",
   "execution_count": 10,
   "id": "d508a208",
   "metadata": {},
   "outputs": [
    {
     "name": "stdout",
     "output_type": "stream",
     "text": [
      "(21, 61)\n",
      "(10, 61)\n",
      "-----------------------------\n"
     ]
    },
    {
     "data": {
      "text/html": [
       "<div>\n",
       "<style scoped>\n",
       "    .dataframe tbody tr th:only-of-type {\n",
       "        vertical-align: middle;\n",
       "    }\n",
       "\n",
       "    .dataframe tbody tr th {\n",
       "        vertical-align: top;\n",
       "    }\n",
       "\n",
       "    .dataframe thead th {\n",
       "        text-align: right;\n",
       "    }\n",
       "</style>\n",
       "<table border=\"1\" class=\"dataframe\">\n",
       "  <thead>\n",
       "    <tr style=\"text-align: right;\">\n",
       "      <th></th>\n",
       "      <th>P01_Rate</th>\n",
       "      <th>I01_Rate</th>\n",
       "      <th>P02_Rate</th>\n",
       "      <th>I02_Rate</th>\n",
       "      <th>P03_Rate</th>\n",
       "      <th>I03_Rate</th>\n",
       "      <th>P04_Rate</th>\n",
       "      <th>E03_Rate</th>\n",
       "      <th>P05_Rate</th>\n",
       "      <th>E02_Rate</th>\n",
       "      <th>...</th>\n",
       "      <th>E04_Y</th>\n",
       "      <th>P07_Y</th>\n",
       "      <th>E05_Y</th>\n",
       "      <th>P08_Y</th>\n",
       "      <th>E01_Y</th>\n",
       "      <th>P09_Y</th>\n",
       "      <th>E06_Y</th>\n",
       "      <th>P10_Y</th>\n",
       "      <th>I10_Y</th>\n",
       "      <th>Power</th>\n",
       "    </tr>\n",
       "  </thead>\n",
       "  <tbody>\n",
       "    <tr>\n",
       "      <th>0</th>\n",
       "      <td>0.325</td>\n",
       "      <td>0.675</td>\n",
       "      <td>0.3425</td>\n",
       "      <td>0.6575</td>\n",
       "      <td>0.325</td>\n",
       "      <td>0.675</td>\n",
       "      <td>0.325</td>\n",
       "      <td>0.675</td>\n",
       "      <td>0.325</td>\n",
       "      <td>0.675</td>\n",
       "      <td>...</td>\n",
       "      <td>0.485437</td>\n",
       "      <td>0.776699</td>\n",
       "      <td>0.737864</td>\n",
       "      <td>0.315534</td>\n",
       "      <td>0.339806</td>\n",
       "      <td>0.825243</td>\n",
       "      <td>0.825243</td>\n",
       "      <td>0.417476</td>\n",
       "      <td>0.339806</td>\n",
       "      <td>149.970882</td>\n",
       "    </tr>\n",
       "    <tr>\n",
       "      <th>1</th>\n",
       "      <td>0.325</td>\n",
       "      <td>0.675</td>\n",
       "      <td>0.3425</td>\n",
       "      <td>0.6575</td>\n",
       "      <td>0.325</td>\n",
       "      <td>0.675</td>\n",
       "      <td>0.250</td>\n",
       "      <td>0.750</td>\n",
       "      <td>0.325</td>\n",
       "      <td>0.675</td>\n",
       "      <td>...</td>\n",
       "      <td>0.485437</td>\n",
       "      <td>0.776699</td>\n",
       "      <td>0.737864</td>\n",
       "      <td>0.315534</td>\n",
       "      <td>0.339806</td>\n",
       "      <td>0.825243</td>\n",
       "      <td>0.825243</td>\n",
       "      <td>0.417476</td>\n",
       "      <td>0.339806</td>\n",
       "      <td>158.453752</td>\n",
       "    </tr>\n",
       "    <tr>\n",
       "      <th>2</th>\n",
       "      <td>0.325</td>\n",
       "      <td>0.675</td>\n",
       "      <td>0.3425</td>\n",
       "      <td>0.6575</td>\n",
       "      <td>0.325</td>\n",
       "      <td>0.675</td>\n",
       "      <td>0.250</td>\n",
       "      <td>0.750</td>\n",
       "      <td>0.325</td>\n",
       "      <td>0.675</td>\n",
       "      <td>...</td>\n",
       "      <td>0.485437</td>\n",
       "      <td>0.776699</td>\n",
       "      <td>0.737864</td>\n",
       "      <td>0.315534</td>\n",
       "      <td>0.339806</td>\n",
       "      <td>0.825243</td>\n",
       "      <td>0.825243</td>\n",
       "      <td>0.417476</td>\n",
       "      <td>0.339806</td>\n",
       "      <td>164.962886</td>\n",
       "    </tr>\n",
       "    <tr>\n",
       "      <th>3</th>\n",
       "      <td>0.325</td>\n",
       "      <td>0.675</td>\n",
       "      <td>0.3425</td>\n",
       "      <td>0.6575</td>\n",
       "      <td>0.325</td>\n",
       "      <td>0.675</td>\n",
       "      <td>0.250</td>\n",
       "      <td>0.750</td>\n",
       "      <td>0.325</td>\n",
       "      <td>0.675</td>\n",
       "      <td>...</td>\n",
       "      <td>0.485437</td>\n",
       "      <td>0.776699</td>\n",
       "      <td>0.737864</td>\n",
       "      <td>0.315534</td>\n",
       "      <td>0.339806</td>\n",
       "      <td>0.825243</td>\n",
       "      <td>0.825243</td>\n",
       "      <td>0.417476</td>\n",
       "      <td>0.339806</td>\n",
       "      <td>159.006140</td>\n",
       "    </tr>\n",
       "    <tr>\n",
       "      <th>4</th>\n",
       "      <td>0.325</td>\n",
       "      <td>0.675</td>\n",
       "      <td>0.3425</td>\n",
       "      <td>0.6575</td>\n",
       "      <td>0.325</td>\n",
       "      <td>0.675</td>\n",
       "      <td>0.250</td>\n",
       "      <td>0.750</td>\n",
       "      <td>0.325</td>\n",
       "      <td>0.675</td>\n",
       "      <td>...</td>\n",
       "      <td>0.485437</td>\n",
       "      <td>0.776699</td>\n",
       "      <td>0.737864</td>\n",
       "      <td>0.315534</td>\n",
       "      <td>0.339806</td>\n",
       "      <td>0.825243</td>\n",
       "      <td>0.825243</td>\n",
       "      <td>0.417476</td>\n",
       "      <td>0.339806</td>\n",
       "      <td>163.208926</td>\n",
       "    </tr>\n",
       "  </tbody>\n",
       "</table>\n",
       "<p>5 rows × 61 columns</p>\n",
       "</div>"
      ],
      "text/plain": [
       "   P01_Rate  I01_Rate  P02_Rate  I02_Rate  P03_Rate  I03_Rate  P04_Rate  \\\n",
       "0     0.325     0.675    0.3425    0.6575     0.325     0.675     0.325   \n",
       "1     0.325     0.675    0.3425    0.6575     0.325     0.675     0.250   \n",
       "2     0.325     0.675    0.3425    0.6575     0.325     0.675     0.250   \n",
       "3     0.325     0.675    0.3425    0.6575     0.325     0.675     0.250   \n",
       "4     0.325     0.675    0.3425    0.6575     0.325     0.675     0.250   \n",
       "\n",
       "   E03_Rate  P05_Rate  E02_Rate  ...     E04_Y     P07_Y     E05_Y     P08_Y  \\\n",
       "0     0.675     0.325     0.675  ...  0.485437  0.776699  0.737864  0.315534   \n",
       "1     0.750     0.325     0.675  ...  0.485437  0.776699  0.737864  0.315534   \n",
       "2     0.750     0.325     0.675  ...  0.485437  0.776699  0.737864  0.315534   \n",
       "3     0.750     0.325     0.675  ...  0.485437  0.776699  0.737864  0.315534   \n",
       "4     0.750     0.325     0.675  ...  0.485437  0.776699  0.737864  0.315534   \n",
       "\n",
       "      E01_Y     P09_Y     E06_Y     P10_Y     I10_Y       Power  \n",
       "0  0.339806  0.825243  0.825243  0.417476  0.339806  149.970882  \n",
       "1  0.339806  0.825243  0.825243  0.417476  0.339806  158.453752  \n",
       "2  0.339806  0.825243  0.825243  0.417476  0.339806  164.962886  \n",
       "3  0.339806  0.825243  0.825243  0.417476  0.339806  159.006140  \n",
       "4  0.339806  0.825243  0.825243  0.417476  0.339806  163.208926  \n",
       "\n",
       "[5 rows x 61 columns]"
      ]
     },
     "execution_count": 10,
     "metadata": {},
     "output_type": "execute_result"
    }
   ],
   "source": [
    "df_train, df_test = train_test_split(df2, test_size = 0.3, random_state = 308)\n",
    "\n",
    "print(df_train.shape)\n",
    "print(df_test.shape)\n",
    "\n",
    "print(\"-----------------------------\")\n",
    "df2.head()"
   ]
  },
  {
   "cell_type": "markdown",
   "id": "d2d5352b",
   "metadata": {},
   "source": [
    "Training linear regression models:"
   ]
  },
  {
   "cell_type": "code",
   "execution_count": 11,
   "id": "e3f99c31",
   "metadata": {},
   "outputs": [],
   "source": [
    "# For the linear regression, we test the effect of regularisation on the output\n",
    "# The regularisation will penalise the model to prevent overfitting\n",
    "\n",
    "#With L2 (ridge) regularisation\n",
    "df_ridge_reg = Ridge(max_iter=1000, tol=0.01)\n",
    "train_df_ridge_reg = df_ridge_reg.fit(df_train.drop('Power', axis=1), df_train['Power'])\n",
    "\n",
    "#With L1 (lasso) regularisation\n",
    "df_lasso_reg = Lasso(max_iter=1000, tol=0.01)\n",
    "train_df_lasso_reg = df_lasso_reg.fit(df_train.drop('Power', axis=1), df_train['Power'])"
   ]
  },
  {
   "cell_type": "markdown",
   "id": "877afc67",
   "metadata": {},
   "source": [
    "Using the regression models to predict values:"
   ]
  },
  {
   "cell_type": "code",
   "execution_count": 12,
   "id": "f6e29a06",
   "metadata": {},
   "outputs": [
    {
     "name": "stdout",
     "output_type": "stream",
     "text": [
      "Actual Output: [167.2688408, 163.284755, 202.9717716, 193.3985786, 210.4562877, 163.2089265, 219.9905105, 216.0523285, 159.0061397, 160.7618191]\n",
      "----------------------------------\n",
      "Output from Ridge: [168.65283192 166.9364583  214.03355612 176.23226516 213.90580263\n",
      " 166.78879237 215.27669401 214.10187966 166.17802944 168.05855287]\n",
      "----------------------------------\n",
      "Output from Lasso: [167.44861469 167.44861469 212.37855509 176.41052552 212.37855509\n",
      " 167.44861469 212.37855509 212.37855509 167.44861469 167.44861469]\n",
      "----------------------------------\n"
     ]
    }
   ],
   "source": [
    "test_df_ridge_pred = df_ridge_reg.predict(df_test.drop('Power', axis=1))\n",
    "test_df_lasso_pred = df_lasso_reg.predict(df_test.drop('Power', axis=1))\n",
    "\n",
    "print(\"Actual Output:\", df_test['Power'].tolist())\n",
    "print(\"----------------------------------\")\n",
    "print(\"Output from Ridge:\", test_df_ridge_pred)\n",
    "print(\"----------------------------------\")\n",
    "print(\"Output from Lasso:\", test_df_lasso_pred)\n",
    "print(\"----------------------------------\")"
   ]
  },
  {
   "cell_type": "markdown",
   "id": "434d28cc",
   "metadata": {},
   "source": [
    "Evaluating models using a set of metrics:"
   ]
  },
  {
   "cell_type": "code",
   "execution_count": 13,
   "id": "8e8a509e",
   "metadata": {},
   "outputs": [
    {
     "name": "stdout",
     "output_type": "stream",
     "text": [
      "         Ridge     Lasso\n",
      "MAE   6.142606  6.331543\n",
      "RMSE  7.666244  6.331543\n",
      "R2    0.897789  0.895035\n"
     ]
    }
   ],
   "source": [
    "#Calculating MAE, RMSE, and R-squared for both models\n",
    "\n",
    "df_ridge_mae = metrics.mean_absolute_error(df_test['Power'], test_df_ridge_pred)\n",
    "df_ridge_rmse = sqrt(metrics.mean_squared_error(df_test['Power'], test_df_ridge_pred))\n",
    "df_ridge_r2 = metrics.r2_score(df_test['Power'], test_df_ridge_pred)\n",
    "\n",
    "df_lasso_mae = metrics.mean_absolute_error(df_test['Power'], test_df_lasso_pred)\n",
    "df_lasso_rmse = sqrt(metrics.mean_squared_error(df_test['Power'], test_df_lasso_pred))\n",
    "df_lasso_r2 = metrics.r2_score(df_test['Power'], test_df_lasso_pred)\n",
    "\n",
    "df_eval = pd.DataFrame({\"Ridge\":{\"MAE\":df_ridge_mae, \"RMSE\":df_ridge_rmse,\n",
    "                                    \"R2\":df_ridge_r2},\n",
    "                           \"Lasso\":{\"MAE\":df_lasso_mae, \"RMSE\":df_lasso_mae,\n",
    "                                    \"R2\":df_lasso_r2}\n",
    "                          })\n",
    "\n",
    "print(df_eval)"
   ]
  },
  {
   "cell_type": "markdown",
   "id": "4a9a6c71",
   "metadata": {},
   "source": [
    "### We observe that the prediction on the test set is highly accurate, with >80% accuracy.\n",
    "\n",
    "#### We now apply the model in a blind test"
   ]
  },
  {
   "cell_type": "markdown",
   "id": "c18c7407",
   "metadata": {},
   "source": [
    "-------------------------------"
   ]
  },
  {
   "cell_type": "markdown",
   "id": "1145c0f2",
   "metadata": {},
   "source": [
    "Insert new validation data set never before used in the training and testing of the model"
   ]
  },
  {
   "cell_type": "code",
   "execution_count": 14,
   "id": "6882231e-3b6e-4515-94ef-d0d82802f4e1",
   "metadata": {},
   "outputs": [],
   "source": [
    "df180 = pd.read_csv(\"DARTS output_test_180.csv\")"
   ]
  },
  {
   "cell_type": "code",
   "execution_count": 15,
   "id": "4115dc97-ab91-443f-bae1-1aa21c53d6a0",
   "metadata": {},
   "outputs": [],
   "source": [
    "# Normalize the dataset\n",
    "df180.iloc[:,0:20] = df180.iloc[:,0:20].apply(flow_norm)\n",
    "df180.iloc[:,20:40] = df180.iloc[:,20:40].apply(x_norm)\n",
    "df180.iloc[:,40:60] = df180.iloc[:,40:60].apply(y_norm)"
   ]
  },
  {
   "cell_type": "code",
   "execution_count": 16,
   "id": "64009bae-1cfa-4886-aa97-74a01f9a518c",
   "metadata": {},
   "outputs": [
    {
     "data": {
      "text/html": [
       "<div>\n",
       "<style scoped>\n",
       "    .dataframe tbody tr th:only-of-type {\n",
       "        vertical-align: middle;\n",
       "    }\n",
       "\n",
       "    .dataframe tbody tr th {\n",
       "        vertical-align: top;\n",
       "    }\n",
       "\n",
       "    .dataframe thead th {\n",
       "        text-align: right;\n",
       "    }\n",
       "</style>\n",
       "<table border=\"1\" class=\"dataframe\">\n",
       "  <thead>\n",
       "    <tr style=\"text-align: right;\">\n",
       "      <th></th>\n",
       "      <th>P01_Rate</th>\n",
       "      <th>I01_Rate</th>\n",
       "      <th>P02_Rate</th>\n",
       "      <th>I02_Rate</th>\n",
       "      <th>P03_Rate</th>\n",
       "      <th>I03_Rate</th>\n",
       "      <th>P04_Rate</th>\n",
       "      <th>E03_Rate</th>\n",
       "      <th>P05_Rate</th>\n",
       "      <th>E02_Rate</th>\n",
       "      <th>...</th>\n",
       "      <th>P06_Y</th>\n",
       "      <th>E04_Y</th>\n",
       "      <th>P07_Y</th>\n",
       "      <th>E05_Y</th>\n",
       "      <th>P08_Y</th>\n",
       "      <th>E01_Y</th>\n",
       "      <th>P09_Y</th>\n",
       "      <th>E06_Y</th>\n",
       "      <th>P10_Y</th>\n",
       "      <th>I10_Y</th>\n",
       "    </tr>\n",
       "  </thead>\n",
       "  <tbody>\n",
       "    <tr>\n",
       "      <th>0</th>\n",
       "      <td>0.3425</td>\n",
       "      <td>0.6575</td>\n",
       "      <td>0.35825</td>\n",
       "      <td>0.64175</td>\n",
       "      <td>0.3425</td>\n",
       "      <td>0.6575</td>\n",
       "      <td>0.185</td>\n",
       "      <td>0.815</td>\n",
       "      <td>0.3425</td>\n",
       "      <td>0.6575</td>\n",
       "      <td>...</td>\n",
       "      <td>0.402913</td>\n",
       "      <td>0.485437</td>\n",
       "      <td>0.776699</td>\n",
       "      <td>0.737864</td>\n",
       "      <td>0.315534</td>\n",
       "      <td>0.339806</td>\n",
       "      <td>0.825243</td>\n",
       "      <td>0.825243</td>\n",
       "      <td>0.082524</td>\n",
       "      <td>0.218447</td>\n",
       "    </tr>\n",
       "  </tbody>\n",
       "</table>\n",
       "<p>1 rows × 60 columns</p>\n",
       "</div>"
      ],
      "text/plain": [
       "   P01_Rate  I01_Rate  P02_Rate  I02_Rate  P03_Rate  I03_Rate  P04_Rate  \\\n",
       "0    0.3425    0.6575   0.35825   0.64175    0.3425    0.6575     0.185   \n",
       "\n",
       "   E03_Rate  P05_Rate  E02_Rate  ...     P06_Y     E04_Y     P07_Y     E05_Y  \\\n",
       "0     0.815    0.3425    0.6575  ...  0.402913  0.485437  0.776699  0.737864   \n",
       "\n",
       "      P08_Y     E01_Y     P09_Y     E06_Y     P10_Y     I10_Y  \n",
       "0  0.315534  0.339806  0.825243  0.825243  0.082524  0.218447  \n",
       "\n",
       "[1 rows x 60 columns]"
      ]
     },
     "execution_count": 16,
     "metadata": {},
     "output_type": "execute_result"
    }
   ],
   "source": [
    "df180_nopower = df180.drop(['Power'], axis=1)\n",
    "df180_nopower.head()"
   ]
  },
  {
   "cell_type": "markdown",
   "id": "dd17282b",
   "metadata": {},
   "source": [
    "Run various scenarios by changing the injection rate so that the demand capacity is met"
   ]
  },
  {
   "cell_type": "code",
   "execution_count": 17,
   "id": "82806f12-5497-41a9-a9c7-d822fd01cc12",
   "metadata": {},
   "outputs": [],
   "source": [
    "a = 1\n",
    "b = 0.85\n",
    "c = 0.8\n",
    "\n",
    "df180_nopower00 = df180_nopower.copy()\n",
    "df180_nopower00.iloc[:,0:20] = df180_nopower00.iloc[:,0:20].multiply(a)\n",
    "\n",
    "df180_nopower01 = df180_nopower.copy()\n",
    "df180_nopower01.iloc[:,0:20] = df180_nopower01.iloc[:,0:20].multiply(b)\n",
    "\n",
    "df180_nopower02 = df180_nopower.copy()\n",
    "df180_nopower02.iloc[:,0:20] = df180_nopower02.iloc[:,0:20].multiply(c)"
   ]
  },
  {
   "cell_type": "code",
   "execution_count": 18,
   "id": "21f1cc3b-ed96-4dba-bddf-b781dbe984aa",
   "metadata": {},
   "outputs": [
    {
     "name": "stdout",
     "output_type": "stream",
     "text": [
      "[175.53607254]\n",
      "[171.14040843]\n"
     ]
    }
   ],
   "source": [
    "#Predict for all \n",
    "y1 = df_ridge_reg.predict(df180_nopower00)\n",
    "y2 = df_lasso_reg.predict(df180_nopower00)\n",
    "\n",
    "print(y1)\n",
    "print(y2)"
   ]
  },
  {
   "cell_type": "code",
   "execution_count": 19,
   "id": "9c95d4c8-3eb8-4ef6-87ec-c2d1450b24c4",
   "metadata": {},
   "outputs": [
    {
     "name": "stdout",
     "output_type": "stream",
     "text": [
      "[180.68393688]\n",
      "[178.27039887]\n"
     ]
    }
   ],
   "source": [
    "y3 = df_ridge_reg.predict(df180_nopower01)\n",
    "y4 = df_lasso_reg.predict(df180_nopower01)\n",
    "\n",
    "print(y3)\n",
    "print(y4)"
   ]
  },
  {
   "cell_type": "code",
   "execution_count": 20,
   "id": "ba1d991a",
   "metadata": {},
   "outputs": [
    {
     "name": "stdout",
     "output_type": "stream",
     "text": [
      "[182.39989167]\n",
      "[180.64706235]\n"
     ]
    }
   ],
   "source": [
    "y5 = df_ridge_reg.predict(df180_nopower02)\n",
    "y6 = df_lasso_reg.predict(df180_nopower02)\n",
    "\n",
    "print(y5)\n",
    "print(y6)"
   ]
  },
  {
   "cell_type": "markdown",
   "id": "62cd4db4",
   "metadata": {},
   "source": [
    "#### From the above, varying the rate by 15-20% would allow for demand capacity exactly to be met."
   ]
  },
  {
   "cell_type": "code",
   "execution_count": null,
   "id": "fcdb0e77-0108-42df-9633-306f6fc63cea",
   "metadata": {},
   "outputs": [],
   "source": []
  }
 ],
 "metadata": {
  "kernelspec": {
   "display_name": "Python 3 (ipykernel)",
   "language": "python",
   "name": "python3"
  },
  "language_info": {
   "codemirror_mode": {
    "name": "ipython",
    "version": 3
   },
   "file_extension": ".py",
   "mimetype": "text/x-python",
   "name": "python",
   "nbconvert_exporter": "python",
   "pygments_lexer": "ipython3",
   "version": "3.9.7"
  }
 },
 "nbformat": 4,
 "nbformat_minor": 5
}
