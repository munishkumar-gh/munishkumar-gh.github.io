{
 "cells": [
  {
   "cell_type": "markdown",
   "id": "149825f9",
   "metadata": {},
   "source": [
    "<h1 align=center><font size = 5>SPE Europe Energy GeoHackathon</font></h1>\n",
    "\n",
    "Society of Petroleum Engieers|  ERCE Equipoise | Geothermal Challenge  \n",
    ":-------------------------:|:-------------------------:|:-------------------------:\n",
    "<a href=\"https://www.spehackathon-eu.com\"> <img src = \"https://upload.wikimedia.org/wikipedia/en/thumb/4/42/Society_of_Petroleum_Engineers_Logo.svg/1200px-Society_of_Petroleum_Engineers_Logo.svg.png\" width = 200 /> | <a href=\"https://www.erce.energy/\"> <img src = \"https://energycouncil.com/wp-content/uploads/ERCE.png\" width = 200/> | <img src = \"https://solutions.vallourec.com/-/media/Solutions-img/Low-Carbon-Energy/Medias/Geothermal-energy/Header-Corner_Geothermal.ashx\" width = 200/>"
   ]
  },
  {
   "cell_type": "markdown",
   "id": "69aca7c7",
   "metadata": {},
   "source": [
    "<h1 align=center><font size = 4> Team ERCE - Munish Kumar, Kanna Swaminathan & Ivan Maulana </font></h1>\n",
    "<h1 align=center><font size = 3> 2021 </font></h1>"
   ]
  },
  {
   "cell_type": "markdown",
   "id": "9f80685a",
   "metadata": {},
   "source": [
    "The following code is used to crudely classify wells defined by their proximity to centriods defined by each demand location"
   ]
  },
  {
   "cell_type": "markdown",
   "id": "b25d7dbd",
   "metadata": {},
   "source": [
    "Import Libraries"
   ]
  },
  {
   "cell_type": "code",
   "execution_count": 1,
   "id": "9ed4e905",
   "metadata": {},
   "outputs": [],
   "source": [
    "import pylab as pl\n",
    "import pandas as pd\n",
    "import numpy as np\n",
    "import matplotlib.pyplot as plt\n",
    "from pylab import *\n",
    "from sklearn.cluster import KMeans\n",
    "from sklearn.preprocessing import MinMaxScaler\n",
    "from sklearn.preprocessing import StandardScaler\n",
    "from sklearn.decomposition import PCA\n",
    "\n",
    "import warnings\n",
    "warnings.filterwarnings('ignore')"
   ]
  },
  {
   "cell_type": "markdown",
   "id": "ceb0c675",
   "metadata": {},
   "source": [
    "Load and explore data"
   ]
  },
  {
   "cell_type": "code",
   "execution_count": 2,
   "id": "819fe0bf",
   "metadata": {},
   "outputs": [
    {
     "data": {
      "text/html": [
       "<div>\n",
       "<style scoped>\n",
       "    .dataframe tbody tr th:only-of-type {\n",
       "        vertical-align: middle;\n",
       "    }\n",
       "\n",
       "    .dataframe tbody tr th {\n",
       "        vertical-align: top;\n",
       "    }\n",
       "\n",
       "    .dataframe thead th {\n",
       "        text-align: right;\n",
       "    }\n",
       "</style>\n",
       "<table border=\"1\" class=\"dataframe\">\n",
       "  <thead>\n",
       "    <tr style=\"text-align: right;\">\n",
       "      <th></th>\n",
       "      <th>Label</th>\n",
       "      <th>Type</th>\n",
       "      <th>x</th>\n",
       "      <th>y</th>\n",
       "    </tr>\n",
       "  </thead>\n",
       "  <tbody>\n",
       "    <tr>\n",
       "      <th>0</th>\n",
       "      <td>E01</td>\n",
       "      <td>Exploration</td>\n",
       "      <td>195</td>\n",
       "      <td>70</td>\n",
       "    </tr>\n",
       "    <tr>\n",
       "      <th>1</th>\n",
       "      <td>E02</td>\n",
       "      <td>Exploration</td>\n",
       "      <td>145</td>\n",
       "      <td>41</td>\n",
       "    </tr>\n",
       "    <tr>\n",
       "      <th>2</th>\n",
       "      <td>E03</td>\n",
       "      <td>Exploration</td>\n",
       "      <td>46</td>\n",
       "      <td>46</td>\n",
       "    </tr>\n",
       "    <tr>\n",
       "      <th>3</th>\n",
       "      <td>E04</td>\n",
       "      <td>Exploration</td>\n",
       "      <td>52</td>\n",
       "      <td>100</td>\n",
       "    </tr>\n",
       "    <tr>\n",
       "      <th>4</th>\n",
       "      <td>E05</td>\n",
       "      <td>Exploration</td>\n",
       "      <td>72</td>\n",
       "      <td>152</td>\n",
       "    </tr>\n",
       "  </tbody>\n",
       "</table>\n",
       "</div>"
      ],
      "text/plain": [
       "  Label         Type    x    y\n",
       "0   E01  Exploration  195   70\n",
       "1   E02  Exploration  145   41\n",
       "2   E03  Exploration   46   46\n",
       "3   E04  Exploration   52  100\n",
       "4   E05  Exploration   72  152"
      ]
     },
     "execution_count": 2,
     "metadata": {},
     "output_type": "execute_result"
    }
   ],
   "source": [
    "data = pd.read_csv('Surface locations.csv')\n",
    "data.head()"
   ]
  },
  {
   "cell_type": "code",
   "execution_count": 3,
   "id": "804089d0",
   "metadata": {},
   "outputs": [
    {
     "name": "stdout",
     "output_type": "stream",
     "text": [
      "<class 'pandas.core.frame.DataFrame'>\n",
      "RangeIndex: 14 entries, 0 to 13\n",
      "Data columns (total 4 columns):\n",
      " #   Column  Non-Null Count  Dtype \n",
      "---  ------  --------------  ----- \n",
      " 0   Label   14 non-null     object\n",
      " 1   Type    14 non-null     object\n",
      " 2   x       14 non-null     int64 \n",
      " 3   y       14 non-null     int64 \n",
      "dtypes: int64(2), object(2)\n",
      "memory usage: 576.0+ bytes\n"
     ]
    }
   ],
   "source": [
    "data.info()"
   ]
  },
  {
   "cell_type": "code",
   "execution_count": 4,
   "id": "083dbc79",
   "metadata": {},
   "outputs": [],
   "source": [
    "data['Type'] = data['Type'].astype(\"category\")"
   ]
  },
  {
   "cell_type": "code",
   "execution_count": 5,
   "id": "7c4d9e44",
   "metadata": {},
   "outputs": [
    {
     "data": {
      "text/plain": [
       "['Exploration', 'Injector', 'Producer', 'Demand']\n",
       "Categories (4, object): ['Demand', 'Exploration', 'Injector', 'Producer']"
      ]
     },
     "execution_count": 5,
     "metadata": {},
     "output_type": "execute_result"
    }
   ],
   "source": [
    "data['Type'].unique()"
   ]
  },
  {
   "cell_type": "code",
   "execution_count": 6,
   "id": "a99a93bc",
   "metadata": {},
   "outputs": [
    {
     "data": {
      "text/plain": [
       "<matplotlib.legend.Legend at 0x1be0643ee80>"
      ]
     },
     "execution_count": 6,
     "metadata": {},
     "output_type": "execute_result"
    },
    {
     "data": {
      "image/png": "[encoded data removed]",
      "text/plain": [
       "<Figure size 432x288 with 1 Axes>"
      ]
     },
     "metadata": {
      "needs_background": "light"
     },
     "output_type": "display_data"
    }
   ],
   "source": [
    "%matplotlib inline\n",
    "groups = data.groupby('Type')\n",
    "for name, group in groups:\n",
    "    plt.plot(group['x'], group['y'], marker = \"o\", linestyle = \"\", label = name)\n",
    "plt.legend(prop={'size':6})"
   ]
  },
  {
   "cell_type": "markdown",
   "id": "a6a4a237",
   "metadata": {},
   "source": [
    "Define demand locations as centroids"
   ]
  },
  {
   "cell_type": "code",
   "execution_count": 7,
   "id": "3886e918",
   "metadata": {},
   "outputs": [
    {
     "data": {
      "text/html": [
       "<div>\n",
       "<style scoped>\n",
       "    .dataframe tbody tr th:only-of-type {\n",
       "        vertical-align: middle;\n",
       "    }\n",
       "\n",
       "    .dataframe tbody tr th {\n",
       "        vertical-align: top;\n",
       "    }\n",
       "\n",
       "    .dataframe thead th {\n",
       "        text-align: right;\n",
       "    }\n",
       "</style>\n",
       "<table border=\"1\" class=\"dataframe\">\n",
       "  <thead>\n",
       "    <tr style=\"text-align: right;\">\n",
       "      <th></th>\n",
       "      <th>Label</th>\n",
       "      <th>Type</th>\n",
       "      <th>x</th>\n",
       "      <th>y</th>\n",
       "    </tr>\n",
       "  </thead>\n",
       "  <tbody>\n",
       "    <tr>\n",
       "      <th>12</th>\n",
       "      <td>D1</td>\n",
       "      <td>Demand</td>\n",
       "      <td>94</td>\n",
       "      <td>65</td>\n",
       "    </tr>\n",
       "    <tr>\n",
       "      <th>13</th>\n",
       "      <td>D2</td>\n",
       "      <td>Demand</td>\n",
       "      <td>125</td>\n",
       "      <td>170</td>\n",
       "    </tr>\n",
       "  </tbody>\n",
       "</table>\n",
       "</div>"
      ],
      "text/plain": [
       "   Label    Type    x    y\n",
       "12    D1  Demand   94   65\n",
       "13    D2  Demand  125  170"
      ]
     },
     "execution_count": 7,
     "metadata": {},
     "output_type": "execute_result"
    }
   ],
   "source": [
    "data.query('Type==\"Demand\"').head()"
   ]
  },
  {
   "cell_type": "code",
   "execution_count": 8,
   "id": "39ae7980",
   "metadata": {},
   "outputs": [
    {
     "name": "stdout",
     "output_type": "stream",
     "text": [
      "      x    y\n",
      "12   94   65\n",
      "13  125  170\n"
     ]
    }
   ],
   "source": [
    "#remove unneeded columns\n",
    "df = data.drop(data.columns[[0,1]], axis=1)\n",
    "centroids = df[12:14] #let data points 12 and 13 be centroids\n",
    "print(centroids)"
   ]
  },
  {
   "cell_type": "code",
   "execution_count": 9,
   "id": "31439c62",
   "metadata": {},
   "outputs": [
    {
     "data": {
      "text/plain": [
       "array([0, 0, 0, 0, 1, 1, 1, 0, 0, 1, 0, 1, 0, 1])"
      ]
     },
     "execution_count": 9,
     "metadata": {},
     "output_type": "execute_result"
    }
   ],
   "source": [
    "kmeans = KMeans(n_clusters=2, init = centroids, max_iter=1) #just run one k-Means iteration so that the centroids are not updated\n",
    "kmeans.fit(df)\n",
    "labels = kmeans.labels_\n",
    "labels"
   ]
  },
  {
   "cell_type": "code",
   "execution_count": 10,
   "id": "9c087918",
   "metadata": {},
   "outputs": [
    {
     "data": {
      "text/html": [
       "<div>\n",
       "<style scoped>\n",
       "    .dataframe tbody tr th:only-of-type {\n",
       "        vertical-align: middle;\n",
       "    }\n",
       "\n",
       "    .dataframe tbody tr th {\n",
       "        vertical-align: top;\n",
       "    }\n",
       "\n",
       "    .dataframe thead th {\n",
       "        text-align: right;\n",
       "    }\n",
       "</style>\n",
       "<table border=\"1\" class=\"dataframe\">\n",
       "  <thead>\n",
       "    <tr style=\"text-align: right;\">\n",
       "      <th></th>\n",
       "      <th>sqdist</th>\n",
       "    </tr>\n",
       "  </thead>\n",
       "  <tbody>\n",
       "    <tr>\n",
       "      <th>0</th>\n",
       "      <td>13181.31</td>\n",
       "    </tr>\n",
       "    <tr>\n",
       "      <th>1</th>\n",
       "      <td>10956.73</td>\n",
       "    </tr>\n",
       "    <tr>\n",
       "      <th>2</th>\n",
       "      <td>23356.06</td>\n",
       "    </tr>\n",
       "    <tr>\n",
       "      <th>3</th>\n",
       "      <td>14416.06</td>\n",
       "    </tr>\n",
       "    <tr>\n",
       "      <th>4</th>\n",
       "      <td>13266.73</td>\n",
       "    </tr>\n",
       "    <tr>\n",
       "      <th>5</th>\n",
       "      <td>13766.73</td>\n",
       "    </tr>\n",
       "    <tr>\n",
       "      <th>6</th>\n",
       "      <td>9482.56</td>\n",
       "    </tr>\n",
       "    <tr>\n",
       "      <th>7</th>\n",
       "      <td>4130.64</td>\n",
       "    </tr>\n",
       "    <tr>\n",
       "      <th>8</th>\n",
       "      <td>3201.73</td>\n",
       "    </tr>\n",
       "    <tr>\n",
       "      <th>9</th>\n",
       "      <td>4572.23</td>\n",
       "    </tr>\n",
       "    <tr>\n",
       "      <th>10</th>\n",
       "      <td>4942.14</td>\n",
       "    </tr>\n",
       "    <tr>\n",
       "      <th>11</th>\n",
       "      <td>2426.81</td>\n",
       "    </tr>\n",
       "    <tr>\n",
       "      <th>12</th>\n",
       "      <td>8055.98</td>\n",
       "    </tr>\n",
       "    <tr>\n",
       "      <th>13</th>\n",
       "      <td>10605.48</td>\n",
       "    </tr>\n",
       "  </tbody>\n",
       "</table>\n",
       "</div>"
      ],
      "text/plain": [
       "      sqdist\n",
       "0   13181.31\n",
       "1   10956.73\n",
       "2   23356.06\n",
       "3   14416.06\n",
       "4   13266.73\n",
       "5   13766.73\n",
       "6    9482.56\n",
       "7    4130.64\n",
       "8    3201.73\n",
       "9    4572.23\n",
       "10   4942.14\n",
       "11   2426.81\n",
       "12   8055.98\n",
       "13  10605.48"
      ]
     },
     "execution_count": 10,
     "metadata": {},
     "output_type": "execute_result"
    }
   ],
   "source": [
    "#what is the squared distance to demand location?\n",
    "df_dist = kmeans.transform(df)**2\n",
    "df_dist = pd.DataFrame(df_dist.sum(axis=1).round(2), columns=['sqdist'])\n",
    "df_dist"
   ]
  },
  {
   "cell_type": "markdown",
   "id": "043b4fbd",
   "metadata": {},
   "source": [
    "Create an output copy of data"
   ]
  },
  {
   "cell_type": "code",
   "execution_count": 11,
   "id": "c64691fb",
   "metadata": {},
   "outputs": [
    {
     "name": "stdout",
     "output_type": "stream",
     "text": [
      "   Label         Type    x    y  Cluster  sqdist\n",
      "4    E05  Exploration   72  152        1  sqdist\n",
      "5    E06  Exploration  170  170        1  sqdist\n",
      "6    I01     Injector  190  100        1  sqdist\n",
      "9    P01     Producer  164  110        1  sqdist\n",
      "11   P03     Producer  134  115        1  sqdist\n",
      "13    D2       Demand  125  170        1  sqdist\n",
      "0    E01  Exploration  195   70        0  sqdist\n",
      "1    E02  Exploration  145   41        0  sqdist\n",
      "2    E03  Exploration   46   46        0  sqdist\n",
      "3    E04  Exploration   52  100        0  sqdist\n",
      "7    I02     Injector  136   75        0  sqdist\n",
      "8    I03     Injector  109  113        0  sqdist\n",
      "10   P02     Producer  162   87        0  sqdist\n",
      "12    D1       Demand   94   65        0  sqdist\n"
     ]
    }
   ],
   "source": [
    "#Add a column with cluster assignment labels\n",
    "output = data.copy()\n",
    "output.insert(4,'Cluster', labels)\n",
    "output.insert(5,'sqdist', df_dist)\n",
    "output = output.sort_values([\"Cluster\", \"sqdist\"], ascending = (False, True))\n",
    "print(output)"
   ]
  },
  {
   "cell_type": "code",
   "execution_count": 12,
   "id": "e3e06bda",
   "metadata": {},
   "outputs": [
    {
     "data": {
      "image/png": "[encoded data removed]",
      "text/plain": [
       "<Figure size 432x288 with 1 Axes>"
      ]
     },
     "metadata": {
      "needs_background": "light"
     },
     "output_type": "display_data"
    }
   ],
   "source": [
    "%matplotlib inline\n",
    "groups = output.groupby('Cluster')\n",
    "for name, group in groups:\n",
    "    plt.plot(group['x'], group['y'], marker = \"o\", linestyle = \"\", label = name)\n",
    "plt.legend(prop={'size':6})\n",
    "\n",
    "for idx, row in output.iterrows():\n",
    "    plt.annotate(row['Label'], (row['x'], row['y']))"
   ]
  }
 ],
 "metadata": {
  "kernelspec": {
   "display_name": "Python 3 (ipykernel)",
   "language": "python",
   "name": "python3"
  },
  "language_info": {
   "codemirror_mode": {
    "name": "ipython",
    "version": 3
   },
   "file_extension": ".py",
   "mimetype": "text/x-python",
   "name": "python",
   "nbconvert_exporter": "python",
   "pygments_lexer": "ipython3",
   "version": "3.8.8"
  }
 },
 "nbformat": 4,
 "nbformat_minor": 5
}
