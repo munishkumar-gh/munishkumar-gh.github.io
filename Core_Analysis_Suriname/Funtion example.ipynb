{
 "cells": [
  {
   "cell_type": "markdown",
   "id": "80e34fb0",
   "metadata": {},
   "source": [
    "### Function Test"
   ]
  },
  {
   "cell_type": "code",
   "execution_count": 14,
   "id": "12d4cb17",
   "metadata": {},
   "outputs": [],
   "source": [
    "a = 0\n",
    "b = 10\n",
    "c = 20\n",
    "d = 30"
   ]
  },
  {
   "cell_type": "code",
   "execution_count": 15,
   "id": "4aba21a5",
   "metadata": {},
   "outputs": [],
   "source": [
    "def summation(x, y):\n",
    "    z = x + y\n",
    "    z1 = x*y\n",
    "    z2 = x/y\n",
    "    return z, z1, z2"
   ]
  },
  {
   "cell_type": "code",
   "execution_count": 16,
   "id": "b1c1509a",
   "metadata": {},
   "outputs": [
    {
     "name": "stdout",
     "output_type": "stream",
     "text": [
      "20 0 0.0\n"
     ]
    }
   ],
   "source": [
    "zz0, zz1, zz2 = summation(a, c)\n",
    "print(zz0, zz1, zz2)"
   ]
  },
  {
   "cell_type": "code",
   "execution_count": null,
   "id": "136de2d4",
   "metadata": {},
   "outputs": [],
   "source": []
  },
  {
   "cell_type": "code",
   "execution_count": null,
   "id": "4a3d41ef",
   "metadata": {},
   "outputs": [],
   "source": []
  },
  {
   "cell_type": "code",
   "execution_count": null,
   "id": "3d27992d",
   "metadata": {},
   "outputs": [],
   "source": []
  },
  {
   "cell_type": "code",
   "execution_count": 4,
   "id": "27b3012a",
   "metadata": {},
   "outputs": [
    {
     "ename": "NameError",
     "evalue": "name 'x' is not defined",
     "output_type": "error",
     "traceback": [
      "\u001b[1;31m---------------------------------------------------------------------------\u001b[0m",
      "\u001b[1;31mNameError\u001b[0m                                 Traceback (most recent call last)",
      "Input \u001b[1;32mIn [4]\u001b[0m, in \u001b[0;36m<cell line: 1>\u001b[1;34m()\u001b[0m\n\u001b[1;32m----> 1\u001b[0m z \u001b[38;5;241m=\u001b[39m \u001b[43mx\u001b[49m \u001b[38;5;241m+\u001b[39m y\n\u001b[0;32m      2\u001b[0m z1 \u001b[38;5;241m=\u001b[39m x\u001b[38;5;241m*\u001b[39my\n\u001b[0;32m      3\u001b[0m z2 \u001b[38;5;241m=\u001b[39m x\u001b[38;5;241m/\u001b[39my\n",
      "\u001b[1;31mNameError\u001b[0m: name 'x' is not defined"
     ]
    }
   ],
   "source": [
    "x = a\n",
    "y = c\n",
    "\n",
    "z = x + y\n",
    "z1 = x*y\n",
    "z2 = x/y"
   ]
  },
  {
   "cell_type": "code",
   "execution_count": null,
   "id": "9d9fad30",
   "metadata": {},
   "outputs": [],
   "source": [
    "x = a\n",
    "y = d\n",
    "\n",
    "z = x + y\n",
    "z1 = x*y\n",
    "z2 = x/y"
   ]
  },
  {
   "cell_type": "code",
   "execution_count": null,
   "id": "370eaf57",
   "metadata": {},
   "outputs": [],
   "source": [
    "x = a\n",
    "y = d\n",
    "\n",
    "z = x + y\n",
    "z1 = x*y\n",
    "z2 = x/y"
   ]
  },
  {
   "cell_type": "code",
   "execution_count": null,
   "id": "a5369786",
   "metadata": {},
   "outputs": [],
   "source": [
    "x = a\n",
    "y = d\n",
    "\n",
    "z = x + y\n",
    "z1 = x*y\n",
    "z2 = x/y"
   ]
  }
 ],
 "metadata": {
  "kernelspec": {
   "display_name": "Python 3 (ipykernel)",
   "language": "python",
   "name": "python3"
  },
  "language_info": {
   "codemirror_mode": {
    "name": "ipython",
    "version": 3
   },
   "file_extension": ".py",
   "mimetype": "text/x-python",
   "name": "python",
   "nbconvert_exporter": "python",
   "pygments_lexer": "ipython3",
   "version": "3.8.13"
  }
 },
 "nbformat": 4,
 "nbformat_minor": 5
}
