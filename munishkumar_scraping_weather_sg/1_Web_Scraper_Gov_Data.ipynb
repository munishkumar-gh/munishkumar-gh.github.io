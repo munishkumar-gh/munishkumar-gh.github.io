{
 "cells": [
  {
   "cell_type": "markdown",
   "metadata": {},
   "source": [
    "Munish Kumar (14 May 2020)\n",
    "\n",
    "This following is a web scraper to extract open source information from data.gov.sg. The data sets are weather patterns namely rainfall, temperature and humidity data. I will be using this with dengue cluster data at a later stage.\n",
    "\n",
    "The question being answered is: \"We know dengue and rainfall are related (more water means more likely pools of stagnation), but can we predict with some certainy periods of inclement weather? If yes, can we pre-empt spikes in dengue cases through active management (could be more manpower to fumigate or check areas more regularly)\n",
    "\n",
    "Unfortunately, the data I extract will not be zone specific, as the only data available is measured at the Changi Climate Station. Thus, this solution is more a generalized one and should be considered with a grain of salt.\n",
    "\n",
    "In this work, I will showcase the following:\n",
    "\n",
    "1. Scraping multiple websites\n",
    "2. Combining the different data sets into 1 set\n",
    "3. Preprocessing i.e. descriptive statistics and deal with missing values\n",
    "4. Standardize, shuffling and pickling the data\n",
    "5. Different regressions (MLR, logistic?) and clustering to indetify patterns\n",
    "6. Look at time series \n",
    "7. Nueral Net solution \n",
    "\n",
    "Lets see if (5), (6) or (7) is the best solution"
   ]
  },
  {
   "cell_type": "code",
   "execution_count": 1,
   "metadata": {},
   "outputs": [],
   "source": [
    "import pandas as pd\n",
    "import numpy as np\n",
    "import matplotlib.pyplot as plt\n",
    "import time\n",
    "import re\n",
    "import requests\n",
    "import pickle\n",
    "import seaborn as sns\n",
    "import os\n",
    "import glob\n",
    "sns.set()\n",
    "\n",
    "#Library for webscraping\n",
    "from bs4 import BeautifulSoup\n",
    "from requests.exceptions import HTTPError\n",
    "\n",
    "from datetime import timedelta, date \n",
    "start = time.time()"
   ]
  },
  {
   "cell_type": "markdown",
   "metadata": {},
   "source": [
    "Declare some global variables"
   ]
  },
  {
   "cell_type": "code",
   "execution_count": 2,
   "metadata": {},
   "outputs": [],
   "source": [
    "dir_name = 'C:/Users/quant/Anaconda3/@Projects'\n",
    "filename_suffix = 'csv'"
   ]
  },
  {
   "cell_type": "markdown",
   "metadata": {},
   "source": [
    "I tried doing this with BeautifulSoup (BS) but I later realized the website is actually Javascript rendered, and BS does not work with this, unless I use selenium as well - a complicated solution!\n",
    "\n",
    "Instead, use requests and pass it to a .json method. The added benefit is I dont have to iterate through \"pages\""
   ]
  },
  {
   "cell_type": "code",
   "execution_count": 3,
   "metadata": {},
   "outputs": [],
   "source": [
    " def data_extract(url):\n",
    "    payload = {'limit':'2000000'}\n",
    "\n",
    "    # Persists parameters across requests\n",
    "    s = requests.Session()\n",
    "\n",
    "    # To determine success of request, and error code\n",
    "    try:\n",
    "        response = s.get(url)      \n",
    "        # If the response was successful, no Exception will be raised \n",
    "        response.raise_for_status()\n",
    "    except HTTPError as http_err:\n",
    "        print(f'HTTP error occurred: {http_err}')\n",
    "    except Exception as err:\n",
    "        print(f'Other error occurred: {err}')\n",
    "    else:\n",
    "        # Ret\n",
    "        jsonData = s.get(url, params=payload).json()\n",
    "        print('Success!')\n",
    "\n",
    "    df_tmr = pd.DataFrame(jsonData['records'])\n",
    "    print ('Items in Dataframe:\\n',  df_tmr.count())\n",
    "    return df_tmr"
   ]
  },
  {
   "cell_type": "markdown",
   "metadata": {},
   "source": [
    "Here are the websites that will be scrapped.\n",
    "\n",
    "1. Rainfall - Monthly Total (total_rainfall): The total monthly rainfall recorded at the Changi Climate Station.\n",
    "2. Rainfall - Monthly Number of Rain Days (no_of_rainy_days): The number of rain days (day with rainfall amount of 0.2mm or more) in a month recorded at the Changi Climate Station.\n",
    "3. Rainfall - Monthly Maximum Daily Total (maximum_rainfall_in_a_day): The highest daily total rainfall for the month recorded at the Changi Climate Station.\n",
    "***\n",
    "4. Sunshine Duration- Monthly Mean Daily Duration (mean_sunshine_hrs): The monthly mean sunshine hours in a day recorded at the Changi Climate Station.\n",
    "5. Wet Bulb Temperature, Hourly (wet_bulb_temperature): The hourly wet bulb temperature recorded at the Changi Climate Station\n",
    "6. Surface Air Temperature - Mean Daily Minimum (temp_mean_daily_min): The monthly and annual mean daily minimum temperature recorded at the Changi Climate Station.\n",
    "7. Surface Air Temperature - Monthly Absolute Extreme Minimum (temp_extremes_min): The absolute extreme minimum air temperature recorded at the Changi Climate Station.\n",
    "8. Surface Air Temperature - Monthly Mean (mean_temp): The monthly mean air temperature recorded at the Changi Climate Station.\n",
    "9. Surface Air Temperature - Mean Daily Maximum (temp_mean_daily_max): The monthly and annual mean daily maximum temperature recorded at the Changi Climate Station.\n",
    "10. Surface Air Temperature - Monthly Absolute Extreme Maximum (max_temperature): The monthly extreme maximum air temperature recorded at the Changi Climate Station.\n",
    "***\n",
    "11. Relative Humidity - Monthly Absolute Extreme Minimum (rh_extremes_minimum): The absolute extreme minimum relative humidity for the month recorded at the Changi Climate Station.\n",
    "12. Relative Humidity - Monthly Mean (mean_rh): The monthly mean relative humidity recorded at the Changi Climate Station.\n",
    "13. Relative Humidity - Annual Means (rh_mean_daily): The annual average values for the daily mean relative humidity, daily maximum relative humidity and daily minimum relative humidity recorded at the Changi Climate Station."
   ]
  },
  {
   "cell_type": "code",
   "execution_count": 4,
   "metadata": {},
   "outputs": [
    {
     "name": "stdout",
     "output_type": "stream",
     "text": [
      "------------------------------------\n",
      "Name of Dataframe: 0\n",
      "Success!\n",
      "Items in Dataframe:\n",
      " _id               459\n",
      "total_rainfall    459\n",
      "month             459\n",
      "dtype: int64\n",
      "------------------------------------\n",
      "Name of Dataframe: 1\n",
      "Success!\n",
      "Items in Dataframe:\n",
      " _id                 459\n",
      "no_of_rainy_days    459\n",
      "month               459\n",
      "dtype: int64\n",
      "------------------------------------\n",
      "Name of Dataframe: 2\n",
      "Success!\n",
      "Items in Dataframe:\n",
      " maximum_rainfall_in_a_day    459\n",
      "_id                          459\n",
      "month                        459\n",
      "dtype: int64\n",
      "------------------------------------\n",
      "Name of Dataframe: 3\n",
      "Success!\n",
      "Items in Dataframe:\n",
      " mean_sunshine_hrs    459\n",
      "_id                  459\n",
      "month                459\n",
      "dtype: int64\n",
      "------------------------------------\n",
      "Name of Dataframe: 4\n",
      "Success!\n",
      "Items in Dataframe:\n",
      " wbt_date                295030\n",
      "wet_bulb_temperature    295030\n",
      "_id                     295030\n",
      "wbt_time                295030\n",
      "dtype: int64\n",
      "------------------------------------\n",
      "Name of Dataframe: 5\n",
      "Success!\n",
      "Items in Dataframe:\n",
      " _id                    209\n",
      "temp_mean_daily_min    209\n",
      "month                  209\n",
      "dtype: int64\n",
      "------------------------------------\n",
      "Name of Dataframe: 6\n",
      "Success!\n",
      "Items in Dataframe:\n",
      " temp_extremes_min    459\n",
      "_id                  459\n",
      "month                459\n",
      "dtype: int64\n",
      "------------------------------------\n",
      "Name of Dataframe: 7\n",
      "Success!\n",
      "Items in Dataframe:\n",
      " mean_temp    459\n",
      "_id          459\n",
      "month        459\n",
      "dtype: int64\n",
      "------------------------------------\n",
      "Name of Dataframe: 8\n",
      "Success!\n",
      "Items in Dataframe:\n",
      " temp_mean_daily_max    459\n",
      "_id                    459\n",
      "month                  459\n",
      "dtype: int64\n",
      "------------------------------------\n",
      "Name of Dataframe: 9\n",
      "Success!\n",
      "Items in Dataframe:\n",
      " max_temperature    459\n",
      "_id                459\n",
      "month              459\n",
      "dtype: int64\n",
      "------------------------------------\n",
      "Name of Dataframe: 10\n",
      "Success!\n",
      "Items in Dataframe:\n",
      " _id                    459\n",
      "rh_extremes_minimum    459\n",
      "month                  459\n",
      "dtype: int64\n",
      "------------------------------------\n",
      "Name of Dataframe: 11\n",
      "Success!\n",
      "Items in Dataframe:\n",
      " mean_rh    459\n",
      "_id        459\n",
      "month      459\n",
      "dtype: int64\n",
      "------------------------------------\n",
      "Name of Dataframe: 12\n",
      "Success!\n",
      "Items in Dataframe:\n",
      " rh_mean_daily             38\n",
      "_id                       38\n",
      "rh_mean_daily_minimum     38\n",
      "rh_means_daily_maximum    38\n",
      "year                      38\n",
      "dtype: int64\n"
     ]
    }
   ],
   "source": [
    "# extract data directly with json, drop everything in the hyperlink \n",
    "# after /view and replace with /data\n",
    "urls_ori = {\n",
    "    # Rainfall data\n",
    "    'tot_rain_mth': 'https://data.gov.sg/dataset/5942f8bd-4240-4f68-acd2-a5a276958237/resource/778814b8-1b96-404b-9ac9-68d6c00e637b/data',\n",
    "    'no_days_rain_mth': 'https://data.gov.sg/dataset/rainfall-monthly-number-of-rain-days/resource/8b94f596-91fd-4545-bf9e-7a426493b674/data',\n",
    "    'max_rain_mth': 'https://data.gov.sg/dataset/rainfall-monthly-maximum-daily-total/resource/df4d391e-6950-4fc6-80cd-c9b9ef6354fe/data',\n",
    "    # Temperature Data\n",
    "    'mean_sun_dur_mth': 'https://data.gov.sg/dataset/sunshine-duration-monthly-mean-daily-duration/resource/0230819f-1c83-4980-b738-56136d6dc300/data',\n",
    "    'wet_bulb_hr': 'https://data.gov.sg/dataset/wet-bulb-temperature-hourly/resource/0195dc7a-2f49-4107-ac7c-3112ca4a09a8/data',\n",
    "    'min_air_temp_day': 'https://data.gov.sg/dataset/surface-air-temperature-mean-daily-minimum/resource/ad0d8a97-9321-42e9-ac6f-46bf12845d44/data',\n",
    "    'min_air_temp_mth': 'https://data.gov.sg/dataset/surface-air-temperature-monthly-absolute-extreme-minimum/resource/0c5b9752-2488-46cc-ae1c-42318d0f8865/data',\n",
    "    'mean_air_temp_mth': 'https://data.gov.sg/dataset/surface-air-temperature-monthly-mean/resource/07654ce7-f97f-49c9-81c6-bd41beba4e96/data',\n",
    "    'max_air_temp_day': 'https://data.gov.sg/dataset/surface-air-temperature-mean-daily-maximum/resource/c7a7d2fd-9d32-4508-92ef-d1019e030a2f/data',\n",
    "    'max_air_temp_mth': 'https://data.gov.sg/dataset/air-temperature-absolute-extremes-maximum/resource/96e66346-68bb-4ca9-b001-58bbf39e36a7/data',\n",
    "    # Humidity Data\n",
    "    'min_hum_mth': 'https://data.gov.sg/dataset/relative-humidity-monthly-absolute-extreme-minimum/resource/585c24a5-76cd-4c48-9341-9223de5adc1d/data',\n",
    "    'mean_hum_mth': 'https://data.gov.sg/dataset/relative-humidity-monthly-mean/resource/4631174f-9858-463d-8a88-f3cb21588c67/data',\n",
    "    'mean_hum_yr': 'https://data.gov.sg/dataset/relative-humidity-annual-mean/resource/77b9059f-cc9a-4f4f-a495-9c268945191b/data' \n",
    "}\n",
    "\n",
    "df={}\n",
    "urls = list(urls_ori.values())\n",
    "for i in range(len(urls)):\n",
    "    print(\"------------------------------------\")\n",
    "    print(\"Name of Dataframe:\", i)\n",
    "    df[str(i)] = data_extract(urls[i])\n",
    "    df[i] = pd.DataFrame.from_dict(df[str(i)])\n",
    "countr = i # hold count of total number of files read"
   ]
  },
  {
   "cell_type": "markdown",
   "metadata": {},
   "source": [
    "Create a series of checkpoint files; also combine the files into a master file that we can then later analyse.\n",
    "\n",
    "PS: I will admit, this is a rather long winded way of doing this, as really, on every one of the URLs, you can just download the sheet. However, the objective of this is NOT just the data, but rather the process of scraping for the data."
   ]
  },
  {
   "cell_type": "code",
   "execution_count": 5,
   "metadata": {},
   "outputs": [
    {
     "name": "stdout",
     "output_type": "stream",
     "text": [
      "Final File Extract Produced\n"
     ]
    }
   ],
   "source": [
    "def combine_multiple():\n",
    "    filenames = glob.glob(\"*.\" + filename_suffix, recursive=True)\n",
    "    olddf=pd.DataFrame()\n",
    "    for num, f in enumerate(filenames,start=1):\n",
    "        if len(f)>0:\n",
    "            df=pd.read_csv(f)\n",
    "            olddf=pd.concat([olddf,df], ignore_index=True).reset_index(drop=True)\n",
    "    olddf.to_csv('1_Weather_Raw.csv')    \n",
    "    print (\"Final File Extract Produced\")\n",
    "    return\n",
    "\n",
    "#Each csv file will be output and names as per the dict keys; the files\n",
    "#will later be combined to 1 master file\n",
    "base_filename = list(urls_ori.keys())\n",
    "for i in range(countr+1): \n",
    "    csvs_sht = os.path.join(dir_name, base_filename[i] + \".\" + filename_suffix)    \n",
    "    df[i].to_csv (csvs_sht, index = False, header=True)\n",
    "\n",
    "combine_multiple()"
   ]
  },
  {
   "cell_type": "markdown",
   "metadata": {},
   "source": [
    "Checking the properties of the extracted data frame, some columns need to be dropped and others need to be recast before further clean up can be done"
   ]
  },
  {
   "cell_type": "code",
   "execution_count": 6,
   "metadata": {},
   "outputs": [
    {
     "name": "stderr",
     "output_type": "stream",
     "text": [
      "C:\\Users\\quant\\Anaconda3\\lib\\site-packages\\IPython\\core\\interactiveshell.py:3063: DtypeWarning: Columns (3) have mixed types.Specify dtype option on import or set low_memory=False.\n",
      "  interactivity=interactivity, compiler=compiler, result=result)\n"
     ]
    },
    {
     "name": "stdout",
     "output_type": "stream",
     "text": [
      "Column labels in Dataframe:\n",
      " ['temp_mean_daily_max' 'month' 'max_temperature'\n",
      " 'maximum_rainfall_in_a_day' 'mean_temp' 'mean_rh' 'rh_mean_daily'\n",
      " 'rh_mean_daily_minimum' 'rh_means_daily_maximum' 'year'\n",
      " 'mean_sunshine_hrs' 'temp_mean_daily_min' 'temp_extremes_min'\n",
      " 'rh_extremes_minimum' 'no_of_rainy_days' 'total_rainfall' 'wbt_date'\n",
      " 'wet_bulb_temperature' 'wbt_time']\n",
      "<class 'pandas.core.frame.DataFrame'>\n",
      "RangeIndex: 299867 entries, 0 to 299866\n",
      "Data columns (total 19 columns):\n",
      " #   Column                     Non-Null Count   Dtype         \n",
      "---  ------                     --------------   -----         \n",
      " 0   temp_mean_daily_max        459 non-null     float64       \n",
      " 1   month                      4799 non-null    datetime64[ns]\n",
      " 2   max_temperature            459 non-null     float64       \n",
      " 3   maximum_rainfall_in_a_day  459 non-null     float64       \n",
      " 4   mean_temp                  459 non-null     float64       \n",
      " 5   mean_rh                    459 non-null     float64       \n",
      " 6   rh_mean_daily              38 non-null      float64       \n",
      " 7   rh_mean_daily_minimum      38 non-null      float64       \n",
      " 8   rh_means_daily_maximum     38 non-null      float64       \n",
      " 9   year                       38 non-null      float64       \n",
      " 10  mean_sunshine_hrs          459 non-null     float64       \n",
      " 11  temp_mean_daily_min        209 non-null     float64       \n",
      " 12  temp_extremes_min          459 non-null     float64       \n",
      " 13  rh_extremes_minimum        459 non-null     float64       \n",
      " 14  no_of_rainy_days           459 non-null     float64       \n",
      " 15  total_rainfall             459 non-null     float64       \n",
      " 16  wbt_date                   295030 non-null  datetime64[ns]\n",
      " 17  wet_bulb_temperature       295030 non-null  float64       \n",
      " 18  wbt_time                   295030 non-null  float64       \n",
      "dtypes: datetime64[ns](2), float64(17)\n",
      "memory usage: 43.5 MB\n"
     ]
    }
   ],
   "source": [
    "df_tmr=pd.read_csv('@Weather_Final.csv')\n",
    "# Drop column [0], cast to float if needed and convert to datetime\n",
    "df_tmr = df_tmr.drop('_id', axis = 1)\n",
    "df_tmr = df_tmr.loc[:, ~df_tmr.columns.str.contains('^Unnamed')]\n",
    "#df_tmr['total_rainfall'] = df_tmr['total_rainfall'].astype(float)\n",
    "df_tmr['month'] = pd.to_datetime(df_tmr['month'], \n",
    "                                 infer_datetime_format=True\n",
    "                                )\n",
    "df_tmr['wbt_date'] = pd.to_datetime(df_tmr['wbt_date'], \n",
    "                                 infer_datetime_format=True\n",
    "                                )\n",
    "\n",
    "print(\"Column labels in Dataframe:\\n\", df_tmr.columns.values)\n",
    "df_tmr.info()"
   ]
  },
  {
   "cell_type": "markdown",
   "metadata": {},
   "source": [
    "Plot the Data to verify that everything is good. For convenience, will use subplots to do this so we can see the data holistically"
   ]
  },
  {
   "cell_type": "code",
   "execution_count": 7,
   "metadata": {
    "scrolled": true
   },
   "outputs": [
    {
     "data": {
      "text/plain": [
       "Text(0, 0.5, 'Rainfall (mm)')"
      ]
     },
     "execution_count": 7,
     "metadata": {},
     "output_type": "execute_result"
    },
    {
     "data": {
      "image/png": "[encoded data removed]",
      "text/plain": [
       "<Figure size 720x288 with 2 Axes>"
      ]
     },
     "metadata": {},
     "output_type": "display_data"
    }
   ],
   "source": [
    "fig, axs = plt.subplots(ncols=2)\n",
    "fig.set_figwidth(10)\n",
    "\n",
    "sns.distplot(df_tmr['total_rainfall'], ax=axs[0])\n",
    "plt.title('Histogram - Data Distribution')\n",
    "# Set x-axis label\n",
    "plt.xlabel('Total Rainfall (mm)')\n",
    "# Set y-axis label\n",
    "plt.ylabel('Frequency')\n",
    "\n",
    "sns.lineplot(x=df_tmr['month'], y=df_tmr['total_rainfall'], \n",
    "             color='black', ax=axs[1])\n",
    "plt.title('Rainfall per month')\n",
    "plt.xlabel('Month and Year')\n",
    "plt.ylabel('Rainfall (mm)')"
   ]
  },
  {
   "cell_type": "markdown",
   "metadata": {},
   "source": [
    "End of Web-Scraping phase"
   ]
  },
  {
   "cell_type": "code",
   "execution_count": 8,
   "metadata": {},
   "outputs": [
    {
     "name": "stdout",
     "output_type": "stream",
     "text": [
      "Completed Process in 46.68236994743347 seconds\n"
     ]
    }
   ],
   "source": [
    "count = 'Completed Process'\n",
    "elapsed = (time.time() - start)\n",
    "print (\"%s in %s seconds\" % (count,elapsed))"
   ]
  }
 ],
 "metadata": {
  "kernelspec": {
   "display_name": "Python 3",
   "language": "python",
   "name": "python3"
  },
  "language_info": {
   "codemirror_mode": {
    "name": "ipython",
    "version": 3
   },
   "file_extension": ".py",
   "mimetype": "text/x-python",
   "name": "python",
   "nbconvert_exporter": "python",
   "pygments_lexer": "ipython3",
   "version": "3.7.7"
  }
 },
 "nbformat": 4,
 "nbformat_minor": 4
}
