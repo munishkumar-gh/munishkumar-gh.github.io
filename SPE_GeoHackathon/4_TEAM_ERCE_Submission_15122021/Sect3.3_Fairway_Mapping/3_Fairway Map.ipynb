{
 "cells": [
  {
   "cell_type": "markdown",
   "id": "63b44da0",
   "metadata": {},
   "source": [
    "<h1 align=center><font size = 5>SPE Europe Energy GeoHackathon</font></h1>\n",
    "\n",
    "Society of Petroleum Engieers|  ERCE Equipoise | Geothermal Challenge  \n",
    ":-------------------------:|:-------------------------:|:-------------------------:\n",
    "<a href=\"https://www.spehackathon-eu.com\"> <img src = \"https://upload.wikimedia.org/wikipedia/en/thumb/4/42/Society_of_Petroleum_Engineers_Logo.svg/1200px-Society_of_Petroleum_Engineers_Logo.svg.png\" width = 200 /> | <a href=\"https://www.erce.energy/\"> <img src = \"https://energycouncil.com/wp-content/uploads/ERCE.png\" width = 200/> | <img src = \"https://solutions.vallourec.com/-/media/Solutions-img/Low-Carbon-Energy/Medias/Geothermal-energy/Header-Corner_Geothermal.ashx\" width = 200/>"
   ]
  },
  {
   "cell_type": "markdown",
   "id": "463604d4",
   "metadata": {},
   "source": [
    "<h1 align=center><font size = 4> Team ERCE - Munish Kumar, Kanna Swaminathan & Ivan Maulana </font></h1>\n",
    "<h1 align=center><font size = 3> 2021 </font></h1>"
   ]
  },
  {
   "cell_type": "markdown",
   "id": "8d4635ff",
   "metadata": {},
   "source": [
    "Code here generates a fairway map from static properties derived from the well logs and well test"
   ]
  },
  {
   "cell_type": "markdown",
   "id": "58bfbefd",
   "metadata": {},
   "source": [
    "Import Libraries"
   ]
  },
  {
   "cell_type": "code",
   "execution_count": 1,
   "id": "5c525fce",
   "metadata": {},
   "outputs": [],
   "source": [
    "# Uncomment if needed\n",
    "#!pip install dash"
   ]
  },
  {
   "cell_type": "code",
   "execution_count": 2,
   "id": "eee6d486",
   "metadata": {},
   "outputs": [],
   "source": [
    "import pandas as pd\n",
    "import numpy as np\n",
    "import plotly.graph_objs as go\n",
    "import plotly.express as px\n",
    "import plotly.io as pio\n",
    "import plotly\n",
    "from plotly.subplots import make_subplots\n",
    "from plotly.validators.scatter.marker import SymbolValidator\n",
    "from itertools import cycle\n",
    "#import dash\n",
    "#from dash import dcc\n",
    "#from dash import html"
   ]
  },
  {
   "cell_type": "markdown",
   "id": "9405a0a9",
   "metadata": {},
   "source": [
    "Load Data"
   ]
  },
  {
   "cell_type": "code",
   "execution_count": 3,
   "id": "3b7019c1",
   "metadata": {},
   "outputs": [
    {
     "data": {
      "text/html": [
       "<div>\n",
       "<style scoped>\n",
       "    .dataframe tbody tr th:only-of-type {\n",
       "        vertical-align: middle;\n",
       "    }\n",
       "\n",
       "    .dataframe tbody tr th {\n",
       "        vertical-align: top;\n",
       "    }\n",
       "\n",
       "    .dataframe thead th {\n",
       "        text-align: right;\n",
       "    }\n",
       "</style>\n",
       "<table border=\"1\" class=\"dataframe\">\n",
       "  <thead>\n",
       "    <tr style=\"text-align: right;\">\n",
       "      <th></th>\n",
       "      <th>Unnamed: 0</th>\n",
       "      <th>Label</th>\n",
       "      <th>Type</th>\n",
       "      <th>x</th>\n",
       "      <th>y</th>\n",
       "      <th>Cluster</th>\n",
       "      <th>dist_D1</th>\n",
       "      <th>dist_D2</th>\n",
       "      <th>phi</th>\n",
       "      <th>k</th>\n",
       "      <th>Net Thickness</th>\n",
       "    </tr>\n",
       "  </thead>\n",
       "  <tbody>\n",
       "    <tr>\n",
       "      <th>0</th>\n",
       "      <td>12</td>\n",
       "      <td>D1</td>\n",
       "      <td>Demand</td>\n",
       "      <td>94</td>\n",
       "      <td>65</td>\n",
       "      <td>0</td>\n",
       "      <td>0.000000</td>\n",
       "      <td>109.480592</td>\n",
       "      <td>NaN</td>\n",
       "      <td>NaN</td>\n",
       "      <td>NaN</td>\n",
       "    </tr>\n",
       "    <tr>\n",
       "      <th>1</th>\n",
       "      <td>7</td>\n",
       "      <td>I02</td>\n",
       "      <td>Injector</td>\n",
       "      <td>136</td>\n",
       "      <td>75</td>\n",
       "      <td>0</td>\n",
       "      <td>43.174066</td>\n",
       "      <td>95.634722</td>\n",
       "      <td>0.1990</td>\n",
       "      <td>1108.824338</td>\n",
       "      <td>27.33600</td>\n",
       "    </tr>\n",
       "    <tr>\n",
       "      <th>2</th>\n",
       "      <td>8</td>\n",
       "      <td>I03</td>\n",
       "      <td>Injector</td>\n",
       "      <td>109</td>\n",
       "      <td>113</td>\n",
       "      <td>0</td>\n",
       "      <td>50.289164</td>\n",
       "      <td>59.203040</td>\n",
       "      <td>0.1518</td>\n",
       "      <td>575.398382</td>\n",
       "      <td>152.26624</td>\n",
       "    </tr>\n",
       "    <tr>\n",
       "      <th>3</th>\n",
       "      <td>2</td>\n",
       "      <td>E03</td>\n",
       "      <td>Exploration</td>\n",
       "      <td>46</td>\n",
       "      <td>46</td>\n",
       "      <td>0</td>\n",
       "      <td>51.623638</td>\n",
       "      <td>147.027208</td>\n",
       "      <td>0.1786</td>\n",
       "      <td>849.327413</td>\n",
       "      <td>200.64000</td>\n",
       "    </tr>\n",
       "    <tr>\n",
       "      <th>4</th>\n",
       "      <td>3</td>\n",
       "      <td>E04</td>\n",
       "      <td>Exploration</td>\n",
       "      <td>52</td>\n",
       "      <td>100</td>\n",
       "      <td>0</td>\n",
       "      <td>54.671748</td>\n",
       "      <td>101.138519</td>\n",
       "      <td>NaN</td>\n",
       "      <td>646.327975</td>\n",
       "      <td>NaN</td>\n",
       "    </tr>\n",
       "    <tr>\n",
       "      <th>5</th>\n",
       "      <td>1</td>\n",
       "      <td>E02</td>\n",
       "      <td>Exploration</td>\n",
       "      <td>145</td>\n",
       "      <td>41</td>\n",
       "      <td>0</td>\n",
       "      <td>56.364883</td>\n",
       "      <td>130.541181</td>\n",
       "      <td>NaN</td>\n",
       "      <td>751.443521</td>\n",
       "      <td>NaN</td>\n",
       "    </tr>\n",
       "    <tr>\n",
       "      <th>6</th>\n",
       "      <td>10</td>\n",
       "      <td>P02</td>\n",
       "      <td>Producer</td>\n",
       "      <td>162</td>\n",
       "      <td>87</td>\n",
       "      <td>0</td>\n",
       "      <td>71.470274</td>\n",
       "      <td>90.873538</td>\n",
       "      <td>NaN</td>\n",
       "      <td>NaN</td>\n",
       "      <td>NaN</td>\n",
       "    </tr>\n",
       "    <tr>\n",
       "      <th>7</th>\n",
       "      <td>0</td>\n",
       "      <td>E01</td>\n",
       "      <td>Exploration</td>\n",
       "      <td>195</td>\n",
       "      <td>70</td>\n",
       "      <td>0</td>\n",
       "      <td>101.123687</td>\n",
       "      <td>122.065556</td>\n",
       "      <td>0.1487</td>\n",
       "      <td>548.123345</td>\n",
       "      <td>46.65800</td>\n",
       "    </tr>\n",
       "    <tr>\n",
       "      <th>8</th>\n",
       "      <td>11</td>\n",
       "      <td>P03</td>\n",
       "      <td>Producer</td>\n",
       "      <td>134</td>\n",
       "      <td>115</td>\n",
       "      <td>1</td>\n",
       "      <td>64.031242</td>\n",
       "      <td>55.731499</td>\n",
       "      <td>NaN</td>\n",
       "      <td>NaN</td>\n",
       "      <td>NaN</td>\n",
       "    </tr>\n",
       "    <tr>\n",
       "      <th>9</th>\n",
       "      <td>9</td>\n",
       "      <td>P01</td>\n",
       "      <td>Producer</td>\n",
       "      <td>164</td>\n",
       "      <td>110</td>\n",
       "      <td>1</td>\n",
       "      <td>83.216585</td>\n",
       "      <td>71.561163</td>\n",
       "      <td>0.1680</td>\n",
       "      <td>732.476238</td>\n",
       "      <td>67.79120</td>\n",
       "    </tr>\n",
       "    <tr>\n",
       "      <th>10</th>\n",
       "      <td>4</td>\n",
       "      <td>E05</td>\n",
       "      <td>Exploration</td>\n",
       "      <td>72</td>\n",
       "      <td>152</td>\n",
       "      <td>1</td>\n",
       "      <td>89.738509</td>\n",
       "      <td>55.973208</td>\n",
       "      <td>0.1408</td>\n",
       "      <td>482.434550</td>\n",
       "      <td>131.10840</td>\n",
       "    </tr>\n",
       "    <tr>\n",
       "      <th>11</th>\n",
       "      <td>6</td>\n",
       "      <td>I01</td>\n",
       "      <td>Injector</td>\n",
       "      <td>190</td>\n",
       "      <td>100</td>\n",
       "      <td>1</td>\n",
       "      <td>102.181212</td>\n",
       "      <td>95.524866</td>\n",
       "      <td>NaN</td>\n",
       "      <td>NaN</td>\n",
       "      <td>NaN</td>\n",
       "    </tr>\n",
       "    <tr>\n",
       "      <th>12</th>\n",
       "      <td>13</td>\n",
       "      <td>D2</td>\n",
       "      <td>Demand</td>\n",
       "      <td>125</td>\n",
       "      <td>170</td>\n",
       "      <td>1</td>\n",
       "      <td>109.480592</td>\n",
       "      <td>0.000000</td>\n",
       "      <td>NaN</td>\n",
       "      <td>NaN</td>\n",
       "      <td>NaN</td>\n",
       "    </tr>\n",
       "    <tr>\n",
       "      <th>13</th>\n",
       "      <td>5</td>\n",
       "      <td>E06</td>\n",
       "      <td>Exploration</td>\n",
       "      <td>170</td>\n",
       "      <td>170</td>\n",
       "      <td>1</td>\n",
       "      <td>129.618672</td>\n",
       "      <td>45.000000</td>\n",
       "      <td>NaN</td>\n",
       "      <td>515.023173</td>\n",
       "      <td>NaN</td>\n",
       "    </tr>\n",
       "  </tbody>\n",
       "</table>\n",
       "</div>"
      ],
      "text/plain": [
       "    Unnamed: 0 Label         Type    x    y  Cluster     dist_D1     dist_D2  \\\n",
       "0           12    D1       Demand   94   65        0    0.000000  109.480592   \n",
       "1            7   I02     Injector  136   75        0   43.174066   95.634722   \n",
       "2            8   I03     Injector  109  113        0   50.289164   59.203040   \n",
       "3            2   E03  Exploration   46   46        0   51.623638  147.027208   \n",
       "4            3   E04  Exploration   52  100        0   54.671748  101.138519   \n",
       "5            1   E02  Exploration  145   41        0   56.364883  130.541181   \n",
       "6           10   P02     Producer  162   87        0   71.470274   90.873538   \n",
       "7            0   E01  Exploration  195   70        0  101.123687  122.065556   \n",
       "8           11   P03     Producer  134  115        1   64.031242   55.731499   \n",
       "9            9   P01     Producer  164  110        1   83.216585   71.561163   \n",
       "10           4   E05  Exploration   72  152        1   89.738509   55.973208   \n",
       "11           6   I01     Injector  190  100        1  102.181212   95.524866   \n",
       "12          13    D2       Demand  125  170        1  109.480592    0.000000   \n",
       "13           5   E06  Exploration  170  170        1  129.618672   45.000000   \n",
       "\n",
       "       phi            k  Net Thickness  \n",
       "0      NaN          NaN            NaN  \n",
       "1   0.1990  1108.824338       27.33600  \n",
       "2   0.1518   575.398382      152.26624  \n",
       "3   0.1786   849.327413      200.64000  \n",
       "4      NaN   646.327975            NaN  \n",
       "5      NaN   751.443521            NaN  \n",
       "6      NaN          NaN            NaN  \n",
       "7   0.1487   548.123345       46.65800  \n",
       "8      NaN          NaN            NaN  \n",
       "9   0.1680   732.476238       67.79120  \n",
       "10  0.1408   482.434550      131.10840  \n",
       "11     NaN          NaN            NaN  \n",
       "12     NaN          NaN            NaN  \n",
       "13     NaN   515.023173            NaN  "
      ]
     },
     "execution_count": 3,
     "metadata": {},
     "output_type": "execute_result"
    }
   ],
   "source": [
    "df = pd.read_csv('Wells.csv')\n",
    "df"
   ]
  },
  {
   "cell_type": "markdown",
   "id": "c302dc10",
   "metadata": {},
   "source": [
    "Normalise data"
   ]
  },
  {
   "cell_type": "code",
   "execution_count": 4,
   "id": "c3cccb6e",
   "metadata": {},
   "outputs": [
    {
     "data": {
      "text/html": [
       "<div>\n",
       "<style scoped>\n",
       "    .dataframe tbody tr th:only-of-type {\n",
       "        vertical-align: middle;\n",
       "    }\n",
       "\n",
       "    .dataframe tbody tr th {\n",
       "        vertical-align: top;\n",
       "    }\n",
       "\n",
       "    .dataframe thead th {\n",
       "        text-align: right;\n",
       "    }\n",
       "</style>\n",
       "<table border=\"1\" class=\"dataframe\">\n",
       "  <thead>\n",
       "    <tr style=\"text-align: right;\">\n",
       "      <th></th>\n",
       "      <th>Unnamed: 0</th>\n",
       "      <th>Label</th>\n",
       "      <th>Type</th>\n",
       "      <th>x</th>\n",
       "      <th>y</th>\n",
       "      <th>Cluster</th>\n",
       "      <th>dist_D1</th>\n",
       "      <th>dist_D2</th>\n",
       "      <th>phi</th>\n",
       "      <th>k</th>\n",
       "      <th>Net Thickness</th>\n",
       "    </tr>\n",
       "  </thead>\n",
       "  <tbody>\n",
       "    <tr>\n",
       "      <th>0</th>\n",
       "      <td>12</td>\n",
       "      <td>D1</td>\n",
       "      <td>Demand</td>\n",
       "      <td>94</td>\n",
       "      <td>65</td>\n",
       "      <td>0</td>\n",
       "      <td>0.000000</td>\n",
       "      <td>109.480592</td>\n",
       "      <td>NaN</td>\n",
       "      <td>NaN</td>\n",
       "      <td>NaN</td>\n",
       "    </tr>\n",
       "    <tr>\n",
       "      <th>1</th>\n",
       "      <td>7</td>\n",
       "      <td>I02</td>\n",
       "      <td>Injector</td>\n",
       "      <td>136</td>\n",
       "      <td>75</td>\n",
       "      <td>0</td>\n",
       "      <td>43.174066</td>\n",
       "      <td>95.634722</td>\n",
       "      <td>0.1990</td>\n",
       "      <td>0.600821</td>\n",
       "      <td>-0.233435</td>\n",
       "    </tr>\n",
       "    <tr>\n",
       "      <th>2</th>\n",
       "      <td>8</td>\n",
       "      <td>I03</td>\n",
       "      <td>Injector</td>\n",
       "      <td>109</td>\n",
       "      <td>113</td>\n",
       "      <td>0</td>\n",
       "      <td>50.289164</td>\n",
       "      <td>59.203040</td>\n",
       "      <td>0.1518</td>\n",
       "      <td>-0.250767</td>\n",
       "      <td>0.487438</td>\n",
       "    </tr>\n",
       "    <tr>\n",
       "      <th>3</th>\n",
       "      <td>2</td>\n",
       "      <td>E03</td>\n",
       "      <td>Exploration</td>\n",
       "      <td>46</td>\n",
       "      <td>46</td>\n",
       "      <td>0</td>\n",
       "      <td>51.623638</td>\n",
       "      <td>147.027208</td>\n",
       "      <td>0.1786</td>\n",
       "      <td>0.186547</td>\n",
       "      <td>0.766565</td>\n",
       "    </tr>\n",
       "    <tr>\n",
       "      <th>4</th>\n",
       "      <td>3</td>\n",
       "      <td>E04</td>\n",
       "      <td>Exploration</td>\n",
       "      <td>52</td>\n",
       "      <td>100</td>\n",
       "      <td>0</td>\n",
       "      <td>54.671748</td>\n",
       "      <td>101.138519</td>\n",
       "      <td>NaN</td>\n",
       "      <td>-0.137531</td>\n",
       "      <td>NaN</td>\n",
       "    </tr>\n",
       "    <tr>\n",
       "      <th>5</th>\n",
       "      <td>1</td>\n",
       "      <td>E02</td>\n",
       "      <td>Exploration</td>\n",
       "      <td>145</td>\n",
       "      <td>41</td>\n",
       "      <td>0</td>\n",
       "      <td>56.364883</td>\n",
       "      <td>130.541181</td>\n",
       "      <td>NaN</td>\n",
       "      <td>0.030280</td>\n",
       "      <td>NaN</td>\n",
       "    </tr>\n",
       "    <tr>\n",
       "      <th>6</th>\n",
       "      <td>10</td>\n",
       "      <td>P02</td>\n",
       "      <td>Producer</td>\n",
       "      <td>162</td>\n",
       "      <td>87</td>\n",
       "      <td>0</td>\n",
       "      <td>71.470274</td>\n",
       "      <td>90.873538</td>\n",
       "      <td>NaN</td>\n",
       "      <td>NaN</td>\n",
       "      <td>NaN</td>\n",
       "    </tr>\n",
       "    <tr>\n",
       "      <th>7</th>\n",
       "      <td>0</td>\n",
       "      <td>E01</td>\n",
       "      <td>Exploration</td>\n",
       "      <td>195</td>\n",
       "      <td>70</td>\n",
       "      <td>0</td>\n",
       "      <td>101.123687</td>\n",
       "      <td>122.065556</td>\n",
       "      <td>0.1487</td>\n",
       "      <td>-0.294310</td>\n",
       "      <td>-0.121943</td>\n",
       "    </tr>\n",
       "    <tr>\n",
       "      <th>8</th>\n",
       "      <td>11</td>\n",
       "      <td>P03</td>\n",
       "      <td>Producer</td>\n",
       "      <td>134</td>\n",
       "      <td>115</td>\n",
       "      <td>1</td>\n",
       "      <td>64.031242</td>\n",
       "      <td>55.731499</td>\n",
       "      <td>NaN</td>\n",
       "      <td>NaN</td>\n",
       "      <td>NaN</td>\n",
       "    </tr>\n",
       "    <tr>\n",
       "      <th>9</th>\n",
       "      <td>9</td>\n",
       "      <td>P01</td>\n",
       "      <td>Producer</td>\n",
       "      <td>164</td>\n",
       "      <td>110</td>\n",
       "      <td>1</td>\n",
       "      <td>83.216585</td>\n",
       "      <td>71.561163</td>\n",
       "      <td>0.1680</td>\n",
       "      <td>0.000000</td>\n",
       "      <td>0.000000</td>\n",
       "    </tr>\n",
       "    <tr>\n",
       "      <th>10</th>\n",
       "      <td>4</td>\n",
       "      <td>E05</td>\n",
       "      <td>Exploration</td>\n",
       "      <td>72</td>\n",
       "      <td>152</td>\n",
       "      <td>1</td>\n",
       "      <td>89.738509</td>\n",
       "      <td>55.973208</td>\n",
       "      <td>0.1408</td>\n",
       "      <td>-0.399179</td>\n",
       "      <td>0.365353</td>\n",
       "    </tr>\n",
       "    <tr>\n",
       "      <th>11</th>\n",
       "      <td>6</td>\n",
       "      <td>I01</td>\n",
       "      <td>Injector</td>\n",
       "      <td>190</td>\n",
       "      <td>100</td>\n",
       "      <td>1</td>\n",
       "      <td>102.181212</td>\n",
       "      <td>95.524866</td>\n",
       "      <td>NaN</td>\n",
       "      <td>NaN</td>\n",
       "      <td>NaN</td>\n",
       "    </tr>\n",
       "    <tr>\n",
       "      <th>12</th>\n",
       "      <td>13</td>\n",
       "      <td>D2</td>\n",
       "      <td>Demand</td>\n",
       "      <td>125</td>\n",
       "      <td>170</td>\n",
       "      <td>1</td>\n",
       "      <td>109.480592</td>\n",
       "      <td>0.000000</td>\n",
       "      <td>NaN</td>\n",
       "      <td>NaN</td>\n",
       "      <td>NaN</td>\n",
       "    </tr>\n",
       "    <tr>\n",
       "      <th>13</th>\n",
       "      <td>5</td>\n",
       "      <td>E06</td>\n",
       "      <td>Exploration</td>\n",
       "      <td>170</td>\n",
       "      <td>170</td>\n",
       "      <td>1</td>\n",
       "      <td>129.618672</td>\n",
       "      <td>45.000000</td>\n",
       "      <td>NaN</td>\n",
       "      <td>-0.347153</td>\n",
       "      <td>NaN</td>\n",
       "    </tr>\n",
       "  </tbody>\n",
       "</table>\n",
       "</div>"
      ],
      "text/plain": [
       "    Unnamed: 0 Label         Type    x    y  Cluster     dist_D1     dist_D2  \\\n",
       "0           12    D1       Demand   94   65        0    0.000000  109.480592   \n",
       "1            7   I02     Injector  136   75        0   43.174066   95.634722   \n",
       "2            8   I03     Injector  109  113        0   50.289164   59.203040   \n",
       "3            2   E03  Exploration   46   46        0   51.623638  147.027208   \n",
       "4            3   E04  Exploration   52  100        0   54.671748  101.138519   \n",
       "5            1   E02  Exploration  145   41        0   56.364883  130.541181   \n",
       "6           10   P02     Producer  162   87        0   71.470274   90.873538   \n",
       "7            0   E01  Exploration  195   70        0  101.123687  122.065556   \n",
       "8           11   P03     Producer  134  115        1   64.031242   55.731499   \n",
       "9            9   P01     Producer  164  110        1   83.216585   71.561163   \n",
       "10           4   E05  Exploration   72  152        1   89.738509   55.973208   \n",
       "11           6   I01     Injector  190  100        1  102.181212   95.524866   \n",
       "12          13    D2       Demand  125  170        1  109.480592    0.000000   \n",
       "13           5   E06  Exploration  170  170        1  129.618672   45.000000   \n",
       "\n",
       "       phi         k  Net Thickness  \n",
       "0      NaN       NaN            NaN  \n",
       "1   0.1990  0.600821      -0.233435  \n",
       "2   0.1518 -0.250767       0.487438  \n",
       "3   0.1786  0.186547       0.766565  \n",
       "4      NaN -0.137531            NaN  \n",
       "5      NaN  0.030280            NaN  \n",
       "6      NaN       NaN            NaN  \n",
       "7   0.1487 -0.294310      -0.121943  \n",
       "8      NaN       NaN            NaN  \n",
       "9   0.1680  0.000000       0.000000  \n",
       "10  0.1408 -0.399179       0.365353  \n",
       "11     NaN       NaN            NaN  \n",
       "12     NaN       NaN            NaN  \n",
       "13     NaN -0.347153            NaN  "
      ]
     },
     "execution_count": 4,
     "metadata": {},
     "output_type": "execute_result"
    }
   ],
   "source": [
    "#normalisation of k and net thickness to P01\n",
    "df['k'] = (df['k'] - df['k'].iloc[9]) / (df['k'].max() - df['k'].min())\n",
    "df['Net Thickness'] = (df['Net Thickness'] - df['Net Thickness'].iloc[9]) / (df['Net Thickness'].max() - df['Net Thickness'].min())\n",
    "\n",
    "#create feature of spatial variation of permeability relative to P01\n",
    "#df['k'] =  df[['phi','k_norm']].sum(axis=1, min_count=1)\n",
    "df"
   ]
  },
  {
   "cell_type": "markdown",
   "id": "e8e889cd",
   "metadata": {},
   "source": [
    "Plot spatial variation of permeability relative to P01"
   ]
  },
  {
   "cell_type": "code",
   "execution_count": 12,
   "id": "d4079b9e",
   "metadata": {},
   "outputs": [
    {
     "data": {
      "application/vnd.plotly.v1+json": {
       "config": {
        "plotlyServerURL": "https://plot.ly"
       },
       "data": [
        {
         "type": "contour",
         "x": [
          94,
          136,
          109,
          46,
          52,
          145,
          162,
          195,
          134,
          164,
          72,
          190,
          125,
          170
         ],
         "y": [
          65,
          75,
          113,
          46,
          100,
          41,
          87,
          70,
          115,
          110,
          152,
          100,
          170,
          170
         ],
         "z": [
          null,
          0.6008209382871862,
          -0.25076694832657975,
          0.18654706233074997,
          -0.1375313964169981,
          0.03028031994015821,
          null,
          -0.29431018147804794,
          null,
          0,
          -0.3991790617128139,
          null,
          null,
          -0.34715295320417777
         ]
        },
        {
         "customdata": [
          [
           "D1",
           null,
           "Demand"
          ],
          [
           "D2",
           null,
           "Demand"
          ]
         ],
         "hovertemplate": "<b>Location Name:</b> %{customdata[0]}<br><b>Perm. relative to P01:</b> %{customdata[1]:.2f}<br><b>Type:</b> %{customdata[2]}<extra></extra>",
         "marker": {
          "color": "rgb(228,26,28)",
          "size": 16
         },
         "mode": "markers",
         "name": "Demand",
         "type": "scatter",
         "x": [
          94,
          125
         ],
         "y": [
          65,
          170
         ]
        },
        {
         "customdata": [
          [
           "I02",
           0.6008209382871862,
           "Injector"
          ],
          [
           "I03",
           -0.25076694832657975,
           "Injector"
          ],
          [
           "I01",
           null,
           "Injector"
          ]
         ],
         "hovertemplate": "<b>Location Name:</b> %{customdata[0]}<br><b>Perm. relative to P01:</b> %{customdata[1]:.2f}<br><b>Type:</b> %{customdata[2]}<extra></extra>",
         "marker": {
          "color": "rgb(55,126,184)",
          "size": 16
         },
         "mode": "markers",
         "name": "Injector",
         "type": "scatter",
         "x": [
          136,
          109,
          190
         ],
         "y": [
          75,
          113,
          100
         ]
        },
        {
         "customdata": [
          [
           "E03",
           0.18654706233074997,
           "Exploration"
          ],
          [
           "E04",
           -0.1375313964169981,
           "Exploration"
          ],
          [
           "E02",
           0.03028031994015821,
           "Exploration"
          ],
          [
           "E01",
           -0.29431018147804794,
           "Exploration"
          ],
          [
           "E05",
           -0.3991790617128139,
           "Exploration"
          ],
          [
           "E06",
           -0.34715295320417777,
           "Exploration"
          ]
         ],
         "hovertemplate": "<b>Location Name:</b> %{customdata[0]}<br><b>Perm. relative to P01:</b> %{customdata[1]:.2f}<br><b>Type:</b> %{customdata[2]}<extra></extra>",
         "marker": {
          "color": "rgb(77,175,74)",
          "size": 16
         },
         "mode": "markers",
         "name": "Exploration",
         "type": "scatter",
         "x": [
          46,
          52,
          145,
          195,
          72,
          170
         ],
         "y": [
          46,
          100,
          41,
          70,
          152,
          170
         ]
        },
        {
         "customdata": [
          [
           "P02",
           null,
           "Producer"
          ],
          [
           "P03",
           null,
           "Producer"
          ],
          [
           "P01",
           0,
           "Producer"
          ]
         ],
         "hovertemplate": "<b>Location Name:</b> %{customdata[0]}<br><b>Perm. relative to P01:</b> %{customdata[1]:.2f}<br><b>Type:</b> %{customdata[2]}<extra></extra>",
         "marker": {
          "color": "rgb(152,78,163)",
          "size": 16
         },
         "mode": "markers",
         "name": "Producer",
         "type": "scatter",
         "x": [
          162,
          134,
          164
         ],
         "y": [
          87,
          115,
          110
         ]
        }
       ],
       "layout": {
        "legend": {
         "orientation": "h"
        },
        "template": {
         "data": {
          "bar": [
           {
            "error_x": {
             "color": "#2a3f5f"
            },
            "error_y": {
             "color": "#2a3f5f"
            },
            "marker": {
             "line": {
              "color": "#E5ECF6",
              "width": 0.5
             }
            },
            "type": "bar"
           }
          ],
          "barpolar": [
           {
            "marker": {
             "line": {
              "color": "#E5ECF6",
              "width": 0.5
             }
            },
            "type": "barpolar"
           }
          ],
          "carpet": [
           {
            "aaxis": {
             "endlinecolor": "#2a3f5f",
             "gridcolor": "white",
             "linecolor": "white",
             "minorgridcolor": "white",
             "startlinecolor": "#2a3f5f"
            },
            "baxis": {
             "endlinecolor": "#2a3f5f",
             "gridcolor": "white",
             "linecolor": "white",
             "minorgridcolor": "white",
             "startlinecolor": "#2a3f5f"
            },
            "type": "carpet"
           }
          ],
          "choropleth": [
           {
            "colorbar": {
             "outlinewidth": 0,
             "ticks": ""
            },
            "type": "choropleth"
           }
          ],
          "contour": [
           {
            "colorbar": {
             "outlinewidth": 0,
             "ticks": ""
            },
            "colorscale": [
             [
              0,
              "#0d0887"
             ],
             [
              0.1111111111111111,
              "#46039f"
             ],
             [
              0.2222222222222222,
              "#7201a8"
             ],
             [
              0.3333333333333333,
              "#9c179e"
             ],
             [
              0.4444444444444444,
              "#bd3786"
             ],
             [
              0.5555555555555556,
              "#d8576b"
             ],
             [
              0.6666666666666666,
              "#ed7953"
             ],
             [
              0.7777777777777778,
              "#fb9f3a"
             ],
             [
              0.8888888888888888,
              "#fdca26"
             ],
             [
              1,
              "#f0f921"
             ]
            ],
            "type": "contour"
           }
          ],
          "contourcarpet": [
           {
            "colorbar": {
             "outlinewidth": 0,
             "ticks": ""
            },
            "type": "contourcarpet"
           }
          ],
          "heatmap": [
           {
            "colorbar": {
             "outlinewidth": 0,
             "ticks": ""
            },
            "colorscale": [
             [
              0,
              "#0d0887"
             ],
             [
              0.1111111111111111,
              "#46039f"
             ],
             [
              0.2222222222222222,
              "#7201a8"
             ],
             [
              0.3333333333333333,
              "#9c179e"
             ],
             [
              0.4444444444444444,
              "#bd3786"
             ],
             [
              0.5555555555555556,
              "#d8576b"
             ],
             [
              0.6666666666666666,
              "#ed7953"
             ],
             [
              0.7777777777777778,
              "#fb9f3a"
             ],
             [
              0.8888888888888888,
              "#fdca26"
             ],
             [
              1,
              "#f0f921"
             ]
            ],
            "type": "heatmap"
           }
          ],
          "heatmapgl": [
           {
            "colorbar": {
             "outlinewidth": 0,
             "ticks": ""
            },
            "colorscale": [
             [
              0,
              "#0d0887"
             ],
             [
              0.1111111111111111,
              "#46039f"
             ],
             [
              0.2222222222222222,
              "#7201a8"
             ],
             [
              0.3333333333333333,
              "#9c179e"
             ],
             [
              0.4444444444444444,
              "#bd3786"
             ],
             [
              0.5555555555555556,
              "#d8576b"
             ],
             [
              0.6666666666666666,
              "#ed7953"
             ],
             [
              0.7777777777777778,
              "#fb9f3a"
             ],
             [
              0.8888888888888888,
              "#fdca26"
             ],
             [
              1,
              "#f0f921"
             ]
            ],
            "type": "heatmapgl"
           }
          ],
          "histogram": [
           {
            "marker": {
             "colorbar": {
              "outlinewidth": 0,
              "ticks": ""
             }
            },
            "type": "histogram"
           }
          ],
          "histogram2d": [
           {
            "colorbar": {
             "outlinewidth": 0,
             "ticks": ""
            },
            "colorscale": [
             [
              0,
              "#0d0887"
             ],
             [
              0.1111111111111111,
              "#46039f"
             ],
             [
              0.2222222222222222,
              "#7201a8"
             ],
             [
              0.3333333333333333,
              "#9c179e"
             ],
             [
              0.4444444444444444,
              "#bd3786"
             ],
             [
              0.5555555555555556,
              "#d8576b"
             ],
             [
              0.6666666666666666,
              "#ed7953"
             ],
             [
              0.7777777777777778,
              "#fb9f3a"
             ],
             [
              0.8888888888888888,
              "#fdca26"
             ],
             [
              1,
              "#f0f921"
             ]
            ],
            "type": "histogram2d"
           }
          ],
          "histogram2dcontour": [
           {
            "colorbar": {
             "outlinewidth": 0,
             "ticks": ""
            },
            "colorscale": [
             [
              0,
              "#0d0887"
             ],
             [
              0.1111111111111111,
              "#46039f"
             ],
             [
              0.2222222222222222,
              "#7201a8"
             ],
             [
              0.3333333333333333,
              "#9c179e"
             ],
             [
              0.4444444444444444,
              "#bd3786"
             ],
             [
              0.5555555555555556,
              "#d8576b"
             ],
             [
              0.6666666666666666,
              "#ed7953"
             ],
             [
              0.7777777777777778,
              "#fb9f3a"
             ],
             [
              0.8888888888888888,
              "#fdca26"
             ],
             [
              1,
              "#f0f921"
             ]
            ],
            "type": "histogram2dcontour"
           }
          ],
          "mesh3d": [
           {
            "colorbar": {
             "outlinewidth": 0,
             "ticks": ""
            },
            "type": "mesh3d"
           }
          ],
          "parcoords": [
           {
            "line": {
             "colorbar": {
              "outlinewidth": 0,
              "ticks": ""
             }
            },
            "type": "parcoords"
           }
          ],
          "pie": [
           {
            "automargin": true,
            "type": "pie"
           }
          ],
          "scatter": [
           {
            "marker": {
             "colorbar": {
              "outlinewidth": 0,
              "ticks": ""
             }
            },
            "type": "scatter"
           }
          ],
          "scatter3d": [
           {
            "line": {
             "colorbar": {
              "outlinewidth": 0,
              "ticks": ""
             }
            },
            "marker": {
             "colorbar": {
              "outlinewidth": 0,
              "ticks": ""
             }
            },
            "type": "scatter3d"
           }
          ],
          "scattercarpet": [
           {
            "marker": {
             "colorbar": {
              "outlinewidth": 0,
              "ticks": ""
             }
            },
            "type": "scattercarpet"
           }
          ],
          "scattergeo": [
           {
            "marker": {
             "colorbar": {
              "outlinewidth": 0,
              "ticks": ""
             }
            },
            "type": "scattergeo"
           }
          ],
          "scattergl": [
           {
            "marker": {
             "colorbar": {
              "outlinewidth": 0,
              "ticks": ""
             }
            },
            "type": "scattergl"
           }
          ],
          "scattermapbox": [
           {
            "marker": {
             "colorbar": {
              "outlinewidth": 0,
              "ticks": ""
             }
            },
            "type": "scattermapbox"
           }
          ],
          "scatterpolar": [
           {
            "marker": {
             "colorbar": {
              "outlinewidth": 0,
              "ticks": ""
             }
            },
            "type": "scatterpolar"
           }
          ],
          "scatterpolargl": [
           {
            "marker": {
             "colorbar": {
              "outlinewidth": 0,
              "ticks": ""
             }
            },
            "type": "scatterpolargl"
           }
          ],
          "scatterternary": [
           {
            "marker": {
             "colorbar": {
              "outlinewidth": 0,
              "ticks": ""
             }
            },
            "type": "scatterternary"
           }
          ],
          "surface": [
           {
            "colorbar": {
             "outlinewidth": 0,
             "ticks": ""
            },
            "colorscale": [
             [
              0,
              "#0d0887"
             ],
             [
              0.1111111111111111,
              "#46039f"
             ],
             [
              0.2222222222222222,
              "#7201a8"
             ],
             [
              0.3333333333333333,
              "#9c179e"
             ],
             [
              0.4444444444444444,
              "#bd3786"
             ],
             [
              0.5555555555555556,
              "#d8576b"
             ],
             [
              0.6666666666666666,
              "#ed7953"
             ],
             [
              0.7777777777777778,
              "#fb9f3a"
             ],
             [
              0.8888888888888888,
              "#fdca26"
             ],
             [
              1,
              "#f0f921"
             ]
            ],
            "type": "surface"
           }
          ],
          "table": [
           {
            "cells": {
             "fill": {
              "color": "#EBF0F8"
             },
             "line": {
              "color": "white"
             }
            },
            "header": {
             "fill": {
              "color": "#C8D4E3"
             },
             "line": {
              "color": "white"
             }
            },
            "type": "table"
           }
          ]
         },
         "layout": {
          "annotationdefaults": {
           "arrowcolor": "#2a3f5f",
           "arrowhead": 0,
           "arrowwidth": 1
          },
          "coloraxis": {
           "colorbar": {
            "outlinewidth": 0,
            "ticks": ""
           }
          },
          "colorscale": {
           "diverging": [
            [
             0,
             "#8e0152"
            ],
            [
             0.1,
             "#c51b7d"
            ],
            [
             0.2,
             "#de77ae"
            ],
            [
             0.3,
             "#f1b6da"
            ],
            [
             0.4,
             "#fde0ef"
            ],
            [
             0.5,
             "#f7f7f7"
            ],
            [
             0.6,
             "#e6f5d0"
            ],
            [
             0.7,
             "#b8e186"
            ],
            [
             0.8,
             "#7fbc41"
            ],
            [
             0.9,
             "#4d9221"
            ],
            [
             1,
             "#276419"
            ]
           ],
           "sequential": [
            [
             0,
             "#0d0887"
            ],
            [
             0.1111111111111111,
             "#46039f"
            ],
            [
             0.2222222222222222,
             "#7201a8"
            ],
            [
             0.3333333333333333,
             "#9c179e"
            ],
            [
             0.4444444444444444,
             "#bd3786"
            ],
            [
             0.5555555555555556,
             "#d8576b"
            ],
            [
             0.6666666666666666,
             "#ed7953"
            ],
            [
             0.7777777777777778,
             "#fb9f3a"
            ],
            [
             0.8888888888888888,
             "#fdca26"
            ],
            [
             1,
             "#f0f921"
            ]
           ],
           "sequentialminus": [
            [
             0,
             "#0d0887"
            ],
            [
             0.1111111111111111,
             "#46039f"
            ],
            [
             0.2222222222222222,
             "#7201a8"
            ],
            [
             0.3333333333333333,
             "#9c179e"
            ],
            [
             0.4444444444444444,
             "#bd3786"
            ],
            [
             0.5555555555555556,
             "#d8576b"
            ],
            [
             0.6666666666666666,
             "#ed7953"
            ],
            [
             0.7777777777777778,
             "#fb9f3a"
            ],
            [
             0.8888888888888888,
             "#fdca26"
            ],
            [
             1,
             "#f0f921"
            ]
           ]
          },
          "colorway": [
           "#636efa",
           "#EF553B",
           "#00cc96",
           "#ab63fa",
           "#FFA15A",
           "#19d3f3",
           "#FF6692",
           "#B6E880",
           "#FF97FF",
           "#FECB52"
          ],
          "font": {
           "color": "#2a3f5f"
          },
          "geo": {
           "bgcolor": "white",
           "lakecolor": "white",
           "landcolor": "#E5ECF6",
           "showlakes": true,
           "showland": true,
           "subunitcolor": "white"
          },
          "hoverlabel": {
           "align": "left"
          },
          "hovermode": "closest",
          "mapbox": {
           "style": "light"
          },
          "paper_bgcolor": "white",
          "plot_bgcolor": "#E5ECF6",
          "polar": {
           "angularaxis": {
            "gridcolor": "white",
            "linecolor": "white",
            "ticks": ""
           },
           "bgcolor": "#E5ECF6",
           "radialaxis": {
            "gridcolor": "white",
            "linecolor": "white",
            "ticks": ""
           }
          },
          "scene": {
           "xaxis": {
            "backgroundcolor": "#E5ECF6",
            "gridcolor": "white",
            "gridwidth": 2,
            "linecolor": "white",
            "showbackground": true,
            "ticks": "",
            "zerolinecolor": "white"
           },
           "yaxis": {
            "backgroundcolor": "#E5ECF6",
            "gridcolor": "white",
            "gridwidth": 2,
            "linecolor": "white",
            "showbackground": true,
            "ticks": "",
            "zerolinecolor": "white"
           },
           "zaxis": {
            "backgroundcolor": "#E5ECF6",
            "gridcolor": "white",
            "gridwidth": 2,
            "linecolor": "white",
            "showbackground": true,
            "ticks": "",
            "zerolinecolor": "white"
           }
          },
          "shapedefaults": {
           "line": {
            "color": "#2a3f5f"
           }
          },
          "ternary": {
           "aaxis": {
            "gridcolor": "white",
            "linecolor": "white",
            "ticks": ""
           },
           "baxis": {
            "gridcolor": "white",
            "linecolor": "white",
            "ticks": ""
           },
           "bgcolor": "#E5ECF6",
           "caxis": {
            "gridcolor": "white",
            "linecolor": "white",
            "ticks": ""
           }
          },
          "title": {
           "x": 0.05
          },
          "xaxis": {
           "automargin": true,
           "gridcolor": "white",
           "linecolor": "white",
           "ticks": "",
           "title": {
            "standoff": 15
           },
           "zerolinecolor": "white",
           "zerolinewidth": 2
          },
          "yaxis": {
           "automargin": true,
           "gridcolor": "white",
           "linecolor": "white",
           "ticks": "",
           "title": {
            "standoff": 15
           },
           "zerolinecolor": "white",
           "zerolinewidth": 2
          }
         }
        },
        "xaxis": {
         "range": [
          0,
          230
         ]
        },
        "yaxis": {
         "range": [
          0,
          206
         ]
        }
       }
      },
      "text/html": [
       "<div>                            <div id=\"649afe46-3420-4298-a761-1250d0af761b\" class=\"plotly-graph-div\" style=\"height:525px; width:100%;\"></div>            <script type=\"text/javascript\">                require([\"plotly\"], function(Plotly) {                    window.PLOTLYENV=window.PLOTLYENV || {};                                    if (document.getElementById(\"649afe46-3420-4298-a761-1250d0af761b\")) {                    Plotly.newPlot(                        \"649afe46-3420-4298-a761-1250d0af761b\",                        [{\"type\": \"contour\", \"x\": [94, 136, 109, 46, 52, 145, 162, 195, 134, 164, 72, 190, 125, 170], \"y\": [65, 75, 113, 46, 100, 41, 87, 70, 115, 110, 152, 100, 170, 170], \"z\": [null, 0.6008209382871862, -0.25076694832657975, 0.18654706233074997, -0.1375313964169981, 0.03028031994015821, null, -0.29431018147804794, null, 0.0, -0.3991790617128139, null, null, -0.34715295320417777]}, {\"customdata\": [[\"D1\", null, \"Demand\"], [\"D2\", null, \"Demand\"]], \"hovertemplate\": \"<b>Location Name:</b> %{customdata[0]}<br><b>Perm. relative to P01:</b> %{customdata[1]:.2f}<br><b>Type:</b> %{customdata[2]}<extra></extra>\", \"marker\": {\"color\": \"rgb(228,26,28)\", \"size\": 16}, \"mode\": \"markers\", \"name\": \"Demand\", \"type\": \"scatter\", \"x\": [94, 125], \"y\": [65, 170]}, {\"customdata\": [[\"I02\", 0.6008209382871862, \"Injector\"], [\"I03\", -0.25076694832657975, \"Injector\"], [\"I01\", null, \"Injector\"]], \"hovertemplate\": \"<b>Location Name:</b> %{customdata[0]}<br><b>Perm. relative to P01:</b> %{customdata[1]:.2f}<br><b>Type:</b> %{customdata[2]}<extra></extra>\", \"marker\": {\"color\": \"rgb(55,126,184)\", \"size\": 16}, \"mode\": \"markers\", \"name\": \"Injector\", \"type\": \"scatter\", \"x\": [136, 109, 190], \"y\": [75, 113, 100]}, {\"customdata\": [[\"E03\", 0.18654706233074997, \"Exploration\"], [\"E04\", -0.1375313964169981, \"Exploration\"], [\"E02\", 0.03028031994015821, \"Exploration\"], [\"E01\", -0.29431018147804794, \"Exploration\"], [\"E05\", -0.3991790617128139, \"Exploration\"], [\"E06\", -0.34715295320417777, \"Exploration\"]], \"hovertemplate\": \"<b>Location Name:</b> %{customdata[0]}<br><b>Perm. relative to P01:</b> %{customdata[1]:.2f}<br><b>Type:</b> %{customdata[2]}<extra></extra>\", \"marker\": {\"color\": \"rgb(77,175,74)\", \"size\": 16}, \"mode\": \"markers\", \"name\": \"Exploration\", \"type\": \"scatter\", \"x\": [46, 52, 145, 195, 72, 170], \"y\": [46, 100, 41, 70, 152, 170]}, {\"customdata\": [[\"P02\", null, \"Producer\"], [\"P03\", null, \"Producer\"], [\"P01\", 0.0, \"Producer\"]], \"hovertemplate\": \"<b>Location Name:</b> %{customdata[0]}<br><b>Perm. relative to P01:</b> %{customdata[1]:.2f}<br><b>Type:</b> %{customdata[2]}<extra></extra>\", \"marker\": {\"color\": \"rgb(152,78,163)\", \"size\": 16}, \"mode\": \"markers\", \"name\": \"Producer\", \"type\": \"scatter\", \"x\": [162, 134, 164], \"y\": [87, 115, 110]}],                        {\"legend\": {\"orientation\": \"h\"}, \"template\": {\"data\": {\"bar\": [{\"error_x\": {\"color\": \"#2a3f5f\"}, \"error_y\": {\"color\": \"#2a3f5f\"}, \"marker\": {\"line\": {\"color\": \"#E5ECF6\", \"width\": 0.5}}, \"type\": \"bar\"}], \"barpolar\": [{\"marker\": {\"line\": {\"color\": \"#E5ECF6\", \"width\": 0.5}}, \"type\": \"barpolar\"}], \"carpet\": [{\"aaxis\": {\"endlinecolor\": \"#2a3f5f\", \"gridcolor\": \"white\", \"linecolor\": \"white\", \"minorgridcolor\": \"white\", \"startlinecolor\": \"#2a3f5f\"}, \"baxis\": {\"endlinecolor\": \"#2a3f5f\", \"gridcolor\": \"white\", \"linecolor\": \"white\", \"minorgridcolor\": \"white\", \"startlinecolor\": \"#2a3f5f\"}, \"type\": \"carpet\"}], \"choropleth\": [{\"colorbar\": {\"outlinewidth\": 0, \"ticks\": \"\"}, \"type\": \"choropleth\"}], \"contour\": [{\"colorbar\": {\"outlinewidth\": 0, \"ticks\": \"\"}, \"colorscale\": [[0.0, \"#0d0887\"], [0.1111111111111111, \"#46039f\"], [0.2222222222222222, \"#7201a8\"], [0.3333333333333333, \"#9c179e\"], [0.4444444444444444, \"#bd3786\"], [0.5555555555555556, \"#d8576b\"], [0.6666666666666666, \"#ed7953\"], [0.7777777777777778, \"#fb9f3a\"], [0.8888888888888888, \"#fdca26\"], [1.0, \"#f0f921\"]], \"type\": \"contour\"}], \"contourcarpet\": [{\"colorbar\": {\"outlinewidth\": 0, \"ticks\": \"\"}, \"type\": \"contourcarpet\"}], \"heatmap\": [{\"colorbar\": {\"outlinewidth\": 0, \"ticks\": \"\"}, \"colorscale\": [[0.0, \"#0d0887\"], [0.1111111111111111, \"#46039f\"], [0.2222222222222222, \"#7201a8\"], [0.3333333333333333, \"#9c179e\"], [0.4444444444444444, \"#bd3786\"], [0.5555555555555556, \"#d8576b\"], [0.6666666666666666, \"#ed7953\"], [0.7777777777777778, \"#fb9f3a\"], [0.8888888888888888, \"#fdca26\"], [1.0, \"#f0f921\"]], \"type\": \"heatmap\"}], \"heatmapgl\": [{\"colorbar\": {\"outlinewidth\": 0, \"ticks\": \"\"}, \"colorscale\": [[0.0, \"#0d0887\"], [0.1111111111111111, \"#46039f\"], [0.2222222222222222, \"#7201a8\"], [0.3333333333333333, \"#9c179e\"], [0.4444444444444444, \"#bd3786\"], [0.5555555555555556, \"#d8576b\"], [0.6666666666666666, \"#ed7953\"], [0.7777777777777778, \"#fb9f3a\"], [0.8888888888888888, \"#fdca26\"], [1.0, \"#f0f921\"]], \"type\": \"heatmapgl\"}], \"histogram\": [{\"marker\": {\"colorbar\": {\"outlinewidth\": 0, \"ticks\": \"\"}}, \"type\": \"histogram\"}], \"histogram2d\": [{\"colorbar\": {\"outlinewidth\": 0, \"ticks\": \"\"}, \"colorscale\": [[0.0, \"#0d0887\"], [0.1111111111111111, \"#46039f\"], [0.2222222222222222, \"#7201a8\"], [0.3333333333333333, \"#9c179e\"], [0.4444444444444444, \"#bd3786\"], [0.5555555555555556, \"#d8576b\"], [0.6666666666666666, \"#ed7953\"], [0.7777777777777778, \"#fb9f3a\"], [0.8888888888888888, \"#fdca26\"], [1.0, \"#f0f921\"]], \"type\": \"histogram2d\"}], \"histogram2dcontour\": [{\"colorbar\": {\"outlinewidth\": 0, \"ticks\": \"\"}, \"colorscale\": [[0.0, \"#0d0887\"], [0.1111111111111111, \"#46039f\"], [0.2222222222222222, \"#7201a8\"], [0.3333333333333333, \"#9c179e\"], [0.4444444444444444, \"#bd3786\"], [0.5555555555555556, \"#d8576b\"], [0.6666666666666666, \"#ed7953\"], [0.7777777777777778, \"#fb9f3a\"], [0.8888888888888888, \"#fdca26\"], [1.0, \"#f0f921\"]], \"type\": \"histogram2dcontour\"}], \"mesh3d\": [{\"colorbar\": {\"outlinewidth\": 0, \"ticks\": \"\"}, \"type\": \"mesh3d\"}], \"parcoords\": [{\"line\": {\"colorbar\": {\"outlinewidth\": 0, \"ticks\": \"\"}}, \"type\": \"parcoords\"}], \"pie\": [{\"automargin\": true, \"type\": \"pie\"}], \"scatter\": [{\"marker\": {\"colorbar\": {\"outlinewidth\": 0, \"ticks\": \"\"}}, \"type\": \"scatter\"}], \"scatter3d\": [{\"line\": {\"colorbar\": {\"outlinewidth\": 0, \"ticks\": \"\"}}, \"marker\": {\"colorbar\": {\"outlinewidth\": 0, \"ticks\": \"\"}}, \"type\": \"scatter3d\"}], \"scattercarpet\": [{\"marker\": {\"colorbar\": {\"outlinewidth\": 0, \"ticks\": \"\"}}, \"type\": \"scattercarpet\"}], \"scattergeo\": [{\"marker\": {\"colorbar\": {\"outlinewidth\": 0, \"ticks\": \"\"}}, \"type\": \"scattergeo\"}], \"scattergl\": [{\"marker\": {\"colorbar\": {\"outlinewidth\": 0, \"ticks\": \"\"}}, \"type\": \"scattergl\"}], \"scattermapbox\": [{\"marker\": {\"colorbar\": {\"outlinewidth\": 0, \"ticks\": \"\"}}, \"type\": \"scattermapbox\"}], \"scatterpolar\": [{\"marker\": {\"colorbar\": {\"outlinewidth\": 0, \"ticks\": \"\"}}, \"type\": \"scatterpolar\"}], \"scatterpolargl\": [{\"marker\": {\"colorbar\": {\"outlinewidth\": 0, \"ticks\": \"\"}}, \"type\": \"scatterpolargl\"}], \"scatterternary\": [{\"marker\": {\"colorbar\": {\"outlinewidth\": 0, \"ticks\": \"\"}}, \"type\": \"scatterternary\"}], \"surface\": [{\"colorbar\": {\"outlinewidth\": 0, \"ticks\": \"\"}, \"colorscale\": [[0.0, \"#0d0887\"], [0.1111111111111111, \"#46039f\"], [0.2222222222222222, \"#7201a8\"], [0.3333333333333333, \"#9c179e\"], [0.4444444444444444, \"#bd3786\"], [0.5555555555555556, \"#d8576b\"], [0.6666666666666666, \"#ed7953\"], [0.7777777777777778, \"#fb9f3a\"], [0.8888888888888888, \"#fdca26\"], [1.0, \"#f0f921\"]], \"type\": \"surface\"}], \"table\": [{\"cells\": {\"fill\": {\"color\": \"#EBF0F8\"}, \"line\": {\"color\": \"white\"}}, \"header\": {\"fill\": {\"color\": \"#C8D4E3\"}, \"line\": {\"color\": \"white\"}}, \"type\": \"table\"}]}, \"layout\": {\"annotationdefaults\": {\"arrowcolor\": \"#2a3f5f\", \"arrowhead\": 0, \"arrowwidth\": 1}, \"coloraxis\": {\"colorbar\": {\"outlinewidth\": 0, \"ticks\": \"\"}}, \"colorscale\": {\"diverging\": [[0, \"#8e0152\"], [0.1, \"#c51b7d\"], [0.2, \"#de77ae\"], [0.3, \"#f1b6da\"], [0.4, \"#fde0ef\"], [0.5, \"#f7f7f7\"], [0.6, \"#e6f5d0\"], [0.7, \"#b8e186\"], [0.8, \"#7fbc41\"], [0.9, \"#4d9221\"], [1, \"#276419\"]], \"sequential\": [[0.0, \"#0d0887\"], [0.1111111111111111, \"#46039f\"], [0.2222222222222222, \"#7201a8\"], [0.3333333333333333, \"#9c179e\"], [0.4444444444444444, \"#bd3786\"], [0.5555555555555556, \"#d8576b\"], [0.6666666666666666, \"#ed7953\"], [0.7777777777777778, \"#fb9f3a\"], [0.8888888888888888, \"#fdca26\"], [1.0, \"#f0f921\"]], \"sequentialminus\": [[0.0, \"#0d0887\"], [0.1111111111111111, \"#46039f\"], [0.2222222222222222, \"#7201a8\"], [0.3333333333333333, \"#9c179e\"], [0.4444444444444444, \"#bd3786\"], [0.5555555555555556, \"#d8576b\"], [0.6666666666666666, \"#ed7953\"], [0.7777777777777778, \"#fb9f3a\"], [0.8888888888888888, \"#fdca26\"], [1.0, \"#f0f921\"]]}, \"colorway\": [\"#636efa\", \"#EF553B\", \"#00cc96\", \"#ab63fa\", \"#FFA15A\", \"#19d3f3\", \"#FF6692\", \"#B6E880\", \"#FF97FF\", \"#FECB52\"], \"font\": {\"color\": \"#2a3f5f\"}, \"geo\": {\"bgcolor\": \"white\", \"lakecolor\": \"white\", \"landcolor\": \"#E5ECF6\", \"showlakes\": true, \"showland\": true, \"subunitcolor\": \"white\"}, \"hoverlabel\": {\"align\": \"left\"}, \"hovermode\": \"closest\", \"mapbox\": {\"style\": \"light\"}, \"paper_bgcolor\": \"white\", \"plot_bgcolor\": \"#E5ECF6\", \"polar\": {\"angularaxis\": {\"gridcolor\": \"white\", \"linecolor\": \"white\", \"ticks\": \"\"}, \"bgcolor\": \"#E5ECF6\", \"radialaxis\": {\"gridcolor\": \"white\", \"linecolor\": \"white\", \"ticks\": \"\"}}, \"scene\": {\"xaxis\": {\"backgroundcolor\": \"#E5ECF6\", \"gridcolor\": \"white\", \"gridwidth\": 2, \"linecolor\": \"white\", \"showbackground\": true, \"ticks\": \"\", \"zerolinecolor\": \"white\"}, \"yaxis\": {\"backgroundcolor\": \"#E5ECF6\", \"gridcolor\": \"white\", \"gridwidth\": 2, \"linecolor\": \"white\", \"showbackground\": true, \"ticks\": \"\", \"zerolinecolor\": \"white\"}, \"zaxis\": {\"backgroundcolor\": \"#E5ECF6\", \"gridcolor\": \"white\", \"gridwidth\": 2, \"linecolor\": \"white\", \"showbackground\": true, \"ticks\": \"\", \"zerolinecolor\": \"white\"}}, \"shapedefaults\": {\"line\": {\"color\": \"#2a3f5f\"}}, \"ternary\": {\"aaxis\": {\"gridcolor\": \"white\", \"linecolor\": \"white\", \"ticks\": \"\"}, \"baxis\": {\"gridcolor\": \"white\", \"linecolor\": \"white\", \"ticks\": \"\"}, \"bgcolor\": \"#E5ECF6\", \"caxis\": {\"gridcolor\": \"white\", \"linecolor\": \"white\", \"ticks\": \"\"}}, \"title\": {\"x\": 0.05}, \"xaxis\": {\"automargin\": true, \"gridcolor\": \"white\", \"linecolor\": \"white\", \"ticks\": \"\", \"title\": {\"standoff\": 15}, \"zerolinecolor\": \"white\", \"zerolinewidth\": 2}, \"yaxis\": {\"automargin\": true, \"gridcolor\": \"white\", \"linecolor\": \"white\", \"ticks\": \"\", \"title\": {\"standoff\": 15}, \"zerolinecolor\": \"white\", \"zerolinewidth\": 2}}}, \"xaxis\": {\"range\": [0, 230]}, \"yaxis\": {\"range\": [0, 206]}},                        {\"responsive\": true}                    ).then(function(){\n",
       "                            \n",
       "var gd = document.getElementById('649afe46-3420-4298-a761-1250d0af761b');\n",
       "var x = new MutationObserver(function (mutations, observer) {{\n",
       "        var display = window.getComputedStyle(gd).display;\n",
       "        if (!display || display === 'none') {{\n",
       "            console.log([gd, 'removed!']);\n",
       "            Plotly.purge(gd);\n",
       "            observer.disconnect();\n",
       "        }}\n",
       "}});\n",
       "\n",
       "// Listen for the removal of the full notebook cells\n",
       "var notebookContainer = gd.closest('#notebook-container');\n",
       "if (notebookContainer) {{\n",
       "    x.observe(notebookContainer, {childList: true});\n",
       "}}\n",
       "\n",
       "// Listen for the clearing of the current output cell\n",
       "var outputEl = gd.closest('.output');\n",
       "if (outputEl) {{\n",
       "    x.observe(outputEl, {childList: true});\n",
       "}}\n",
       "\n",
       "                        })                };                });            </script>        </div>"
      ]
     },
     "metadata": {},
     "output_type": "display_data"
    }
   ],
   "source": [
    "#colors = plotly.colors.qualitative.swatches()\n",
    "#colors.show()\n",
    "colors = cycle(plotly.colors.qualitative.Set1)\n",
    "\n",
    "fig1 = go.Figure()\n",
    "fig1.add_trace(go.Contour(\n",
    "                x = df['x'],\n",
    "                y = df['y'],\n",
    "                z = df['k']))\n",
    "\n",
    "for s in df.Type.unique():\n",
    "    dfi = df[df.Type == s]\n",
    "    fig1.add_trace(go.Scatter(x = dfi['x'],\n",
    "                              y = dfi['y'],\n",
    "                              mode = 'markers',\n",
    "                              name = s,\n",
    "                              marker = dict(size=16),\n",
    "                              marker_color = next(colors),\n",
    "                              customdata = np.stack((dfi['Label'], dfi['k'], dfi['Type']), axis = -1),\n",
    "                              hovertemplate =\n",
    "                              '<b>Location Name:</b> %{customdata[0]}' +\n",
    "                              '<br><b>Perm. relative to P01:</b> %{customdata[1]:.2f}' +\n",
    "                              '<br><b>Type:</b> %{customdata[2]}<extra></extra>',\n",
    "                              #autocontour = True\n",
    "                             ))\n",
    "\n",
    "fig1.update_layout(legend_orientation=\"h\", xaxis_range = [0,230], yaxis_range = [0,206])    \n",
    "    \n",
    "fig1.show()"
   ]
  },
  {
   "cell_type": "markdown",
   "id": "296f69bc",
   "metadata": {},
   "source": [
    "Plot spatial variation of net thickness relative to P01"
   ]
  },
  {
   "cell_type": "code",
   "execution_count": 13,
   "id": "9b5c6499",
   "metadata": {},
   "outputs": [
    {
     "data": {
      "application/vnd.plotly.v1+json": {
       "config": {
        "plotlyServerURL": "https://plot.ly"
       },
       "data": [
        {
         "type": "contour",
         "x": [
          94,
          136,
          109,
          46,
          52,
          145,
          162,
          195,
          134,
          164,
          72,
          190,
          125,
          170
         ],
         "y": [
          65,
          75,
          113,
          46,
          100,
          41,
          87,
          70,
          115,
          110,
          152,
          100,
          170,
          170
         ],
         "z": [
          null,
          -0.23343488898121226,
          0.4874384895905462,
          0.7665651110187878,
          null,
          null,
          null,
          -0.12194294419055536,
          null,
          0,
          0.3653533674929603,
          null,
          null,
          null
         ]
        },
        {
         "customdata": [
          [
           "D1",
           null
          ],
          [
           "D2",
           null
          ]
         ],
         "hovertemplate": "<b>Well Name:</b> %{customdata[0]}<br><b>Net thickness relative to P01:</b> %{customdata[1]:.2f}<extra></extra>",
         "marker": {
          "color": "rgb(228,26,28)",
          "size": 16
         },
         "mode": "markers",
         "name": "Demand",
         "type": "scatter",
         "x": [
          94,
          125
         ],
         "y": [
          65,
          170
         ]
        },
        {
         "customdata": [
          [
           "I02",
           -0.23343488898121226
          ],
          [
           "I03",
           0.4874384895905462
          ],
          [
           "I01",
           null
          ]
         ],
         "hovertemplate": "<b>Well Name:</b> %{customdata[0]}<br><b>Net thickness relative to P01:</b> %{customdata[1]:.2f}<extra></extra>",
         "marker": {
          "color": "rgb(55,126,184)",
          "size": 16
         },
         "mode": "markers",
         "name": "Injector",
         "type": "scatter",
         "x": [
          136,
          109,
          190
         ],
         "y": [
          75,
          113,
          100
         ]
        },
        {
         "customdata": [
          [
           "E03",
           0.7665651110187878
          ],
          [
           "E04",
           null
          ],
          [
           "E02",
           null
          ],
          [
           "E01",
           -0.12194294419055536
          ],
          [
           "E05",
           0.3653533674929603
          ],
          [
           "E06",
           null
          ]
         ],
         "hovertemplate": "<b>Well Name:</b> %{customdata[0]}<br><b>Net thickness relative to P01:</b> %{customdata[1]:.2f}<extra></extra>",
         "marker": {
          "color": "rgb(77,175,74)",
          "size": 16
         },
         "mode": "markers",
         "name": "Exploration",
         "type": "scatter",
         "x": [
          46,
          52,
          145,
          195,
          72,
          170
         ],
         "y": [
          46,
          100,
          41,
          70,
          152,
          170
         ]
        },
        {
         "customdata": [
          [
           "P02",
           null
          ],
          [
           "P03",
           null
          ],
          [
           "P01",
           0
          ]
         ],
         "hovertemplate": "<b>Well Name:</b> %{customdata[0]}<br><b>Net thickness relative to P01:</b> %{customdata[1]:.2f}<extra></extra>",
         "marker": {
          "color": "rgb(152,78,163)",
          "size": 16
         },
         "mode": "markers",
         "name": "Producer",
         "type": "scatter",
         "x": [
          162,
          134,
          164
         ],
         "y": [
          87,
          115,
          110
         ]
        }
       ],
       "layout": {
        "legend": {
         "orientation": "h"
        },
        "template": {
         "data": {
          "bar": [
           {
            "error_x": {
             "color": "#2a3f5f"
            },
            "error_y": {
             "color": "#2a3f5f"
            },
            "marker": {
             "line": {
              "color": "#E5ECF6",
              "width": 0.5
             }
            },
            "type": "bar"
           }
          ],
          "barpolar": [
           {
            "marker": {
             "line": {
              "color": "#E5ECF6",
              "width": 0.5
             }
            },
            "type": "barpolar"
           }
          ],
          "carpet": [
           {
            "aaxis": {
             "endlinecolor": "#2a3f5f",
             "gridcolor": "white",
             "linecolor": "white",
             "minorgridcolor": "white",
             "startlinecolor": "#2a3f5f"
            },
            "baxis": {
             "endlinecolor": "#2a3f5f",
             "gridcolor": "white",
             "linecolor": "white",
             "minorgridcolor": "white",
             "startlinecolor": "#2a3f5f"
            },
            "type": "carpet"
           }
          ],
          "choropleth": [
           {
            "colorbar": {
             "outlinewidth": 0,
             "ticks": ""
            },
            "type": "choropleth"
           }
          ],
          "contour": [
           {
            "colorbar": {
             "outlinewidth": 0,
             "ticks": ""
            },
            "colorscale": [
             [
              0,
              "#0d0887"
             ],
             [
              0.1111111111111111,
              "#46039f"
             ],
             [
              0.2222222222222222,
              "#7201a8"
             ],
             [
              0.3333333333333333,
              "#9c179e"
             ],
             [
              0.4444444444444444,
              "#bd3786"
             ],
             [
              0.5555555555555556,
              "#d8576b"
             ],
             [
              0.6666666666666666,
              "#ed7953"
             ],
             [
              0.7777777777777778,
              "#fb9f3a"
             ],
             [
              0.8888888888888888,
              "#fdca26"
             ],
             [
              1,
              "#f0f921"
             ]
            ],
            "type": "contour"
           }
          ],
          "contourcarpet": [
           {
            "colorbar": {
             "outlinewidth": 0,
             "ticks": ""
            },
            "type": "contourcarpet"
           }
          ],
          "heatmap": [
           {
            "colorbar": {
             "outlinewidth": 0,
             "ticks": ""
            },
            "colorscale": [
             [
              0,
              "#0d0887"
             ],
             [
              0.1111111111111111,
              "#46039f"
             ],
             [
              0.2222222222222222,
              "#7201a8"
             ],
             [
              0.3333333333333333,
              "#9c179e"
             ],
             [
              0.4444444444444444,
              "#bd3786"
             ],
             [
              0.5555555555555556,
              "#d8576b"
             ],
             [
              0.6666666666666666,
              "#ed7953"
             ],
             [
              0.7777777777777778,
              "#fb9f3a"
             ],
             [
              0.8888888888888888,
              "#fdca26"
             ],
             [
              1,
              "#f0f921"
             ]
            ],
            "type": "heatmap"
           }
          ],
          "heatmapgl": [
           {
            "colorbar": {
             "outlinewidth": 0,
             "ticks": ""
            },
            "colorscale": [
             [
              0,
              "#0d0887"
             ],
             [
              0.1111111111111111,
              "#46039f"
             ],
             [
              0.2222222222222222,
              "#7201a8"
             ],
             [
              0.3333333333333333,
              "#9c179e"
             ],
             [
              0.4444444444444444,
              "#bd3786"
             ],
             [
              0.5555555555555556,
              "#d8576b"
             ],
             [
              0.6666666666666666,
              "#ed7953"
             ],
             [
              0.7777777777777778,
              "#fb9f3a"
             ],
             [
              0.8888888888888888,
              "#fdca26"
             ],
             [
              1,
              "#f0f921"
             ]
            ],
            "type": "heatmapgl"
           }
          ],
          "histogram": [
           {
            "marker": {
             "colorbar": {
              "outlinewidth": 0,
              "ticks": ""
             }
            },
            "type": "histogram"
           }
          ],
          "histogram2d": [
           {
            "colorbar": {
             "outlinewidth": 0,
             "ticks": ""
            },
            "colorscale": [
             [
              0,
              "#0d0887"
             ],
             [
              0.1111111111111111,
              "#46039f"
             ],
             [
              0.2222222222222222,
              "#7201a8"
             ],
             [
              0.3333333333333333,
              "#9c179e"
             ],
             [
              0.4444444444444444,
              "#bd3786"
             ],
             [
              0.5555555555555556,
              "#d8576b"
             ],
             [
              0.6666666666666666,
              "#ed7953"
             ],
             [
              0.7777777777777778,
              "#fb9f3a"
             ],
             [
              0.8888888888888888,
              "#fdca26"
             ],
             [
              1,
              "#f0f921"
             ]
            ],
            "type": "histogram2d"
           }
          ],
          "histogram2dcontour": [
           {
            "colorbar": {
             "outlinewidth": 0,
             "ticks": ""
            },
            "colorscale": [
             [
              0,
              "#0d0887"
             ],
             [
              0.1111111111111111,
              "#46039f"
             ],
             [
              0.2222222222222222,
              "#7201a8"
             ],
             [
              0.3333333333333333,
              "#9c179e"
             ],
             [
              0.4444444444444444,
              "#bd3786"
             ],
             [
              0.5555555555555556,
              "#d8576b"
             ],
             [
              0.6666666666666666,
              "#ed7953"
             ],
             [
              0.7777777777777778,
              "#fb9f3a"
             ],
             [
              0.8888888888888888,
              "#fdca26"
             ],
             [
              1,
              "#f0f921"
             ]
            ],
            "type": "histogram2dcontour"
           }
          ],
          "mesh3d": [
           {
            "colorbar": {
             "outlinewidth": 0,
             "ticks": ""
            },
            "type": "mesh3d"
           }
          ],
          "parcoords": [
           {
            "line": {
             "colorbar": {
              "outlinewidth": 0,
              "ticks": ""
             }
            },
            "type": "parcoords"
           }
          ],
          "pie": [
           {
            "automargin": true,
            "type": "pie"
           }
          ],
          "scatter": [
           {
            "marker": {
             "colorbar": {
              "outlinewidth": 0,
              "ticks": ""
             }
            },
            "type": "scatter"
           }
          ],
          "scatter3d": [
           {
            "line": {
             "colorbar": {
              "outlinewidth": 0,
              "ticks": ""
             }
            },
            "marker": {
             "colorbar": {
              "outlinewidth": 0,
              "ticks": ""
             }
            },
            "type": "scatter3d"
           }
          ],
          "scattercarpet": [
           {
            "marker": {
             "colorbar": {
              "outlinewidth": 0,
              "ticks": ""
             }
            },
            "type": "scattercarpet"
           }
          ],
          "scattergeo": [
           {
            "marker": {
             "colorbar": {
              "outlinewidth": 0,
              "ticks": ""
             }
            },
            "type": "scattergeo"
           }
          ],
          "scattergl": [
           {
            "marker": {
             "colorbar": {
              "outlinewidth": 0,
              "ticks": ""
             }
            },
            "type": "scattergl"
           }
          ],
          "scattermapbox": [
           {
            "marker": {
             "colorbar": {
              "outlinewidth": 0,
              "ticks": ""
             }
            },
            "type": "scattermapbox"
           }
          ],
          "scatterpolar": [
           {
            "marker": {
             "colorbar": {
              "outlinewidth": 0,
              "ticks": ""
             }
            },
            "type": "scatterpolar"
           }
          ],
          "scatterpolargl": [
           {
            "marker": {
             "colorbar": {
              "outlinewidth": 0,
              "ticks": ""
             }
            },
            "type": "scatterpolargl"
           }
          ],
          "scatterternary": [
           {
            "marker": {
             "colorbar": {
              "outlinewidth": 0,
              "ticks": ""
             }
            },
            "type": "scatterternary"
           }
          ],
          "surface": [
           {
            "colorbar": {
             "outlinewidth": 0,
             "ticks": ""
            },
            "colorscale": [
             [
              0,
              "#0d0887"
             ],
             [
              0.1111111111111111,
              "#46039f"
             ],
             [
              0.2222222222222222,
              "#7201a8"
             ],
             [
              0.3333333333333333,
              "#9c179e"
             ],
             [
              0.4444444444444444,
              "#bd3786"
             ],
             [
              0.5555555555555556,
              "#d8576b"
             ],
             [
              0.6666666666666666,
              "#ed7953"
             ],
             [
              0.7777777777777778,
              "#fb9f3a"
             ],
             [
              0.8888888888888888,
              "#fdca26"
             ],
             [
              1,
              "#f0f921"
             ]
            ],
            "type": "surface"
           }
          ],
          "table": [
           {
            "cells": {
             "fill": {
              "color": "#EBF0F8"
             },
             "line": {
              "color": "white"
             }
            },
            "header": {
             "fill": {
              "color": "#C8D4E3"
             },
             "line": {
              "color": "white"
             }
            },
            "type": "table"
           }
          ]
         },
         "layout": {
          "annotationdefaults": {
           "arrowcolor": "#2a3f5f",
           "arrowhead": 0,
           "arrowwidth": 1
          },
          "coloraxis": {
           "colorbar": {
            "outlinewidth": 0,
            "ticks": ""
           }
          },
          "colorscale": {
           "diverging": [
            [
             0,
             "#8e0152"
            ],
            [
             0.1,
             "#c51b7d"
            ],
            [
             0.2,
             "#de77ae"
            ],
            [
             0.3,
             "#f1b6da"
            ],
            [
             0.4,
             "#fde0ef"
            ],
            [
             0.5,
             "#f7f7f7"
            ],
            [
             0.6,
             "#e6f5d0"
            ],
            [
             0.7,
             "#b8e186"
            ],
            [
             0.8,
             "#7fbc41"
            ],
            [
             0.9,
             "#4d9221"
            ],
            [
             1,
             "#276419"
            ]
           ],
           "sequential": [
            [
             0,
             "#0d0887"
            ],
            [
             0.1111111111111111,
             "#46039f"
            ],
            [
             0.2222222222222222,
             "#7201a8"
            ],
            [
             0.3333333333333333,
             "#9c179e"
            ],
            [
             0.4444444444444444,
             "#bd3786"
            ],
            [
             0.5555555555555556,
             "#d8576b"
            ],
            [
             0.6666666666666666,
             "#ed7953"
            ],
            [
             0.7777777777777778,
             "#fb9f3a"
            ],
            [
             0.8888888888888888,
             "#fdca26"
            ],
            [
             1,
             "#f0f921"
            ]
           ],
           "sequentialminus": [
            [
             0,
             "#0d0887"
            ],
            [
             0.1111111111111111,
             "#46039f"
            ],
            [
             0.2222222222222222,
             "#7201a8"
            ],
            [
             0.3333333333333333,
             "#9c179e"
            ],
            [
             0.4444444444444444,
             "#bd3786"
            ],
            [
             0.5555555555555556,
             "#d8576b"
            ],
            [
             0.6666666666666666,
             "#ed7953"
            ],
            [
             0.7777777777777778,
             "#fb9f3a"
            ],
            [
             0.8888888888888888,
             "#fdca26"
            ],
            [
             1,
             "#f0f921"
            ]
           ]
          },
          "colorway": [
           "#636efa",
           "#EF553B",
           "#00cc96",
           "#ab63fa",
           "#FFA15A",
           "#19d3f3",
           "#FF6692",
           "#B6E880",
           "#FF97FF",
           "#FECB52"
          ],
          "font": {
           "color": "#2a3f5f"
          },
          "geo": {
           "bgcolor": "white",
           "lakecolor": "white",
           "landcolor": "#E5ECF6",
           "showlakes": true,
           "showland": true,
           "subunitcolor": "white"
          },
          "hoverlabel": {
           "align": "left"
          },
          "hovermode": "closest",
          "mapbox": {
           "style": "light"
          },
          "paper_bgcolor": "white",
          "plot_bgcolor": "#E5ECF6",
          "polar": {
           "angularaxis": {
            "gridcolor": "white",
            "linecolor": "white",
            "ticks": ""
           },
           "bgcolor": "#E5ECF6",
           "radialaxis": {
            "gridcolor": "white",
            "linecolor": "white",
            "ticks": ""
           }
          },
          "scene": {
           "xaxis": {
            "backgroundcolor": "#E5ECF6",
            "gridcolor": "white",
            "gridwidth": 2,
            "linecolor": "white",
            "showbackground": true,
            "ticks": "",
            "zerolinecolor": "white"
           },
           "yaxis": {
            "backgroundcolor": "#E5ECF6",
            "gridcolor": "white",
            "gridwidth": 2,
            "linecolor": "white",
            "showbackground": true,
            "ticks": "",
            "zerolinecolor": "white"
           },
           "zaxis": {
            "backgroundcolor": "#E5ECF6",
            "gridcolor": "white",
            "gridwidth": 2,
            "linecolor": "white",
            "showbackground": true,
            "ticks": "",
            "zerolinecolor": "white"
           }
          },
          "shapedefaults": {
           "line": {
            "color": "#2a3f5f"
           }
          },
          "ternary": {
           "aaxis": {
            "gridcolor": "white",
            "linecolor": "white",
            "ticks": ""
           },
           "baxis": {
            "gridcolor": "white",
            "linecolor": "white",
            "ticks": ""
           },
           "bgcolor": "#E5ECF6",
           "caxis": {
            "gridcolor": "white",
            "linecolor": "white",
            "ticks": ""
           }
          },
          "title": {
           "x": 0.05
          },
          "xaxis": {
           "automargin": true,
           "gridcolor": "white",
           "linecolor": "white",
           "ticks": "",
           "title": {
            "standoff": 15
           },
           "zerolinecolor": "white",
           "zerolinewidth": 2
          },
          "yaxis": {
           "automargin": true,
           "gridcolor": "white",
           "linecolor": "white",
           "ticks": "",
           "title": {
            "standoff": 15
           },
           "zerolinecolor": "white",
           "zerolinewidth": 2
          }
         }
        },
        "xaxis": {
         "range": [
          0,
          230
         ]
        },
        "yaxis": {
         "range": [
          0,
          206
         ]
        }
       }
      },
      "text/html": [
       "<div>                            <div id=\"e15422ac-2261-4447-8ca7-16ea888e7fdf\" class=\"plotly-graph-div\" style=\"height:525px; width:100%;\"></div>            <script type=\"text/javascript\">                require([\"plotly\"], function(Plotly) {                    window.PLOTLYENV=window.PLOTLYENV || {};                                    if (document.getElementById(\"e15422ac-2261-4447-8ca7-16ea888e7fdf\")) {                    Plotly.newPlot(                        \"e15422ac-2261-4447-8ca7-16ea888e7fdf\",                        [{\"type\": \"contour\", \"x\": [94, 136, 109, 46, 52, 145, 162, 195, 134, 164, 72, 190, 125, 170], \"y\": [65, 75, 113, 46, 100, 41, 87, 70, 115, 110, 152, 100, 170, 170], \"z\": [null, -0.23343488898121226, 0.4874384895905462, 0.7665651110187878, null, null, null, -0.12194294419055536, null, 0.0, 0.3653533674929603, null, null, null]}, {\"customdata\": [[\"D1\", null], [\"D2\", null]], \"hovertemplate\": \"<b>Well Name:</b> %{customdata[0]}<br><b>Net thickness relative to P01:</b> %{customdata[1]:.2f}<extra></extra>\", \"marker\": {\"color\": \"rgb(228,26,28)\", \"size\": 16}, \"mode\": \"markers\", \"name\": \"Demand\", \"type\": \"scatter\", \"x\": [94, 125], \"y\": [65, 170]}, {\"customdata\": [[\"I02\", -0.23343488898121226], [\"I03\", 0.4874384895905462], [\"I01\", null]], \"hovertemplate\": \"<b>Well Name:</b> %{customdata[0]}<br><b>Net thickness relative to P01:</b> %{customdata[1]:.2f}<extra></extra>\", \"marker\": {\"color\": \"rgb(55,126,184)\", \"size\": 16}, \"mode\": \"markers\", \"name\": \"Injector\", \"type\": \"scatter\", \"x\": [136, 109, 190], \"y\": [75, 113, 100]}, {\"customdata\": [[\"E03\", 0.7665651110187878], [\"E04\", null], [\"E02\", null], [\"E01\", -0.12194294419055536], [\"E05\", 0.3653533674929603], [\"E06\", null]], \"hovertemplate\": \"<b>Well Name:</b> %{customdata[0]}<br><b>Net thickness relative to P01:</b> %{customdata[1]:.2f}<extra></extra>\", \"marker\": {\"color\": \"rgb(77,175,74)\", \"size\": 16}, \"mode\": \"markers\", \"name\": \"Exploration\", \"type\": \"scatter\", \"x\": [46, 52, 145, 195, 72, 170], \"y\": [46, 100, 41, 70, 152, 170]}, {\"customdata\": [[\"P02\", null], [\"P03\", null], [\"P01\", 0.0]], \"hovertemplate\": \"<b>Well Name:</b> %{customdata[0]}<br><b>Net thickness relative to P01:</b> %{customdata[1]:.2f}<extra></extra>\", \"marker\": {\"color\": \"rgb(152,78,163)\", \"size\": 16}, \"mode\": \"markers\", \"name\": \"Producer\", \"type\": \"scatter\", \"x\": [162, 134, 164], \"y\": [87, 115, 110]}],                        {\"legend\": {\"orientation\": \"h\"}, \"template\": {\"data\": {\"bar\": [{\"error_x\": {\"color\": \"#2a3f5f\"}, \"error_y\": {\"color\": \"#2a3f5f\"}, \"marker\": {\"line\": {\"color\": \"#E5ECF6\", \"width\": 0.5}}, \"type\": \"bar\"}], \"barpolar\": [{\"marker\": {\"line\": {\"color\": \"#E5ECF6\", \"width\": 0.5}}, \"type\": \"barpolar\"}], \"carpet\": [{\"aaxis\": {\"endlinecolor\": \"#2a3f5f\", \"gridcolor\": \"white\", \"linecolor\": \"white\", \"minorgridcolor\": \"white\", \"startlinecolor\": \"#2a3f5f\"}, \"baxis\": {\"endlinecolor\": \"#2a3f5f\", \"gridcolor\": \"white\", \"linecolor\": \"white\", \"minorgridcolor\": \"white\", \"startlinecolor\": \"#2a3f5f\"}, \"type\": \"carpet\"}], \"choropleth\": [{\"colorbar\": {\"outlinewidth\": 0, \"ticks\": \"\"}, \"type\": \"choropleth\"}], \"contour\": [{\"colorbar\": {\"outlinewidth\": 0, \"ticks\": \"\"}, \"colorscale\": [[0.0, \"#0d0887\"], [0.1111111111111111, \"#46039f\"], [0.2222222222222222, \"#7201a8\"], [0.3333333333333333, \"#9c179e\"], [0.4444444444444444, \"#bd3786\"], [0.5555555555555556, \"#d8576b\"], [0.6666666666666666, \"#ed7953\"], [0.7777777777777778, \"#fb9f3a\"], [0.8888888888888888, \"#fdca26\"], [1.0, \"#f0f921\"]], \"type\": \"contour\"}], \"contourcarpet\": [{\"colorbar\": {\"outlinewidth\": 0, \"ticks\": \"\"}, \"type\": \"contourcarpet\"}], \"heatmap\": [{\"colorbar\": {\"outlinewidth\": 0, \"ticks\": \"\"}, \"colorscale\": [[0.0, \"#0d0887\"], [0.1111111111111111, \"#46039f\"], [0.2222222222222222, \"#7201a8\"], [0.3333333333333333, \"#9c179e\"], [0.4444444444444444, \"#bd3786\"], [0.5555555555555556, \"#d8576b\"], [0.6666666666666666, \"#ed7953\"], [0.7777777777777778, \"#fb9f3a\"], [0.8888888888888888, \"#fdca26\"], [1.0, \"#f0f921\"]], \"type\": \"heatmap\"}], \"heatmapgl\": [{\"colorbar\": {\"outlinewidth\": 0, \"ticks\": \"\"}, \"colorscale\": [[0.0, \"#0d0887\"], [0.1111111111111111, \"#46039f\"], [0.2222222222222222, \"#7201a8\"], [0.3333333333333333, \"#9c179e\"], [0.4444444444444444, \"#bd3786\"], [0.5555555555555556, \"#d8576b\"], [0.6666666666666666, \"#ed7953\"], [0.7777777777777778, \"#fb9f3a\"], [0.8888888888888888, \"#fdca26\"], [1.0, \"#f0f921\"]], \"type\": \"heatmapgl\"}], \"histogram\": [{\"marker\": {\"colorbar\": {\"outlinewidth\": 0, \"ticks\": \"\"}}, \"type\": \"histogram\"}], \"histogram2d\": [{\"colorbar\": {\"outlinewidth\": 0, \"ticks\": \"\"}, \"colorscale\": [[0.0, \"#0d0887\"], [0.1111111111111111, \"#46039f\"], [0.2222222222222222, \"#7201a8\"], [0.3333333333333333, \"#9c179e\"], [0.4444444444444444, \"#bd3786\"], [0.5555555555555556, \"#d8576b\"], [0.6666666666666666, \"#ed7953\"], [0.7777777777777778, \"#fb9f3a\"], [0.8888888888888888, \"#fdca26\"], [1.0, \"#f0f921\"]], \"type\": \"histogram2d\"}], \"histogram2dcontour\": [{\"colorbar\": {\"outlinewidth\": 0, \"ticks\": \"\"}, \"colorscale\": [[0.0, \"#0d0887\"], [0.1111111111111111, \"#46039f\"], [0.2222222222222222, \"#7201a8\"], [0.3333333333333333, \"#9c179e\"], [0.4444444444444444, \"#bd3786\"], [0.5555555555555556, \"#d8576b\"], [0.6666666666666666, \"#ed7953\"], [0.7777777777777778, \"#fb9f3a\"], [0.8888888888888888, \"#fdca26\"], [1.0, \"#f0f921\"]], \"type\": \"histogram2dcontour\"}], \"mesh3d\": [{\"colorbar\": {\"outlinewidth\": 0, \"ticks\": \"\"}, \"type\": \"mesh3d\"}], \"parcoords\": [{\"line\": {\"colorbar\": {\"outlinewidth\": 0, \"ticks\": \"\"}}, \"type\": \"parcoords\"}], \"pie\": [{\"automargin\": true, \"type\": \"pie\"}], \"scatter\": [{\"marker\": {\"colorbar\": {\"outlinewidth\": 0, \"ticks\": \"\"}}, \"type\": \"scatter\"}], \"scatter3d\": [{\"line\": {\"colorbar\": {\"outlinewidth\": 0, \"ticks\": \"\"}}, \"marker\": {\"colorbar\": {\"outlinewidth\": 0, \"ticks\": \"\"}}, \"type\": \"scatter3d\"}], \"scattercarpet\": [{\"marker\": {\"colorbar\": {\"outlinewidth\": 0, \"ticks\": \"\"}}, \"type\": \"scattercarpet\"}], \"scattergeo\": [{\"marker\": {\"colorbar\": {\"outlinewidth\": 0, \"ticks\": \"\"}}, \"type\": \"scattergeo\"}], \"scattergl\": [{\"marker\": {\"colorbar\": {\"outlinewidth\": 0, \"ticks\": \"\"}}, \"type\": \"scattergl\"}], \"scattermapbox\": [{\"marker\": {\"colorbar\": {\"outlinewidth\": 0, \"ticks\": \"\"}}, \"type\": \"scattermapbox\"}], \"scatterpolar\": [{\"marker\": {\"colorbar\": {\"outlinewidth\": 0, \"ticks\": \"\"}}, \"type\": \"scatterpolar\"}], \"scatterpolargl\": [{\"marker\": {\"colorbar\": {\"outlinewidth\": 0, \"ticks\": \"\"}}, \"type\": \"scatterpolargl\"}], \"scatterternary\": [{\"marker\": {\"colorbar\": {\"outlinewidth\": 0, \"ticks\": \"\"}}, \"type\": \"scatterternary\"}], \"surface\": [{\"colorbar\": {\"outlinewidth\": 0, \"ticks\": \"\"}, \"colorscale\": [[0.0, \"#0d0887\"], [0.1111111111111111, \"#46039f\"], [0.2222222222222222, \"#7201a8\"], [0.3333333333333333, \"#9c179e\"], [0.4444444444444444, \"#bd3786\"], [0.5555555555555556, \"#d8576b\"], [0.6666666666666666, \"#ed7953\"], [0.7777777777777778, \"#fb9f3a\"], [0.8888888888888888, \"#fdca26\"], [1.0, \"#f0f921\"]], \"type\": \"surface\"}], \"table\": [{\"cells\": {\"fill\": {\"color\": \"#EBF0F8\"}, \"line\": {\"color\": \"white\"}}, \"header\": {\"fill\": {\"color\": \"#C8D4E3\"}, \"line\": {\"color\": \"white\"}}, \"type\": \"table\"}]}, \"layout\": {\"annotationdefaults\": {\"arrowcolor\": \"#2a3f5f\", \"arrowhead\": 0, \"arrowwidth\": 1}, \"coloraxis\": {\"colorbar\": {\"outlinewidth\": 0, \"ticks\": \"\"}}, \"colorscale\": {\"diverging\": [[0, \"#8e0152\"], [0.1, \"#c51b7d\"], [0.2, \"#de77ae\"], [0.3, \"#f1b6da\"], [0.4, \"#fde0ef\"], [0.5, \"#f7f7f7\"], [0.6, \"#e6f5d0\"], [0.7, \"#b8e186\"], [0.8, \"#7fbc41\"], [0.9, \"#4d9221\"], [1, \"#276419\"]], \"sequential\": [[0.0, \"#0d0887\"], [0.1111111111111111, \"#46039f\"], [0.2222222222222222, \"#7201a8\"], [0.3333333333333333, \"#9c179e\"], [0.4444444444444444, \"#bd3786\"], [0.5555555555555556, \"#d8576b\"], [0.6666666666666666, \"#ed7953\"], [0.7777777777777778, \"#fb9f3a\"], [0.8888888888888888, \"#fdca26\"], [1.0, \"#f0f921\"]], \"sequentialminus\": [[0.0, \"#0d0887\"], [0.1111111111111111, \"#46039f\"], [0.2222222222222222, \"#7201a8\"], [0.3333333333333333, \"#9c179e\"], [0.4444444444444444, \"#bd3786\"], [0.5555555555555556, \"#d8576b\"], [0.6666666666666666, \"#ed7953\"], [0.7777777777777778, \"#fb9f3a\"], [0.8888888888888888, \"#fdca26\"], [1.0, \"#f0f921\"]]}, \"colorway\": [\"#636efa\", \"#EF553B\", \"#00cc96\", \"#ab63fa\", \"#FFA15A\", \"#19d3f3\", \"#FF6692\", \"#B6E880\", \"#FF97FF\", \"#FECB52\"], \"font\": {\"color\": \"#2a3f5f\"}, \"geo\": {\"bgcolor\": \"white\", \"lakecolor\": \"white\", \"landcolor\": \"#E5ECF6\", \"showlakes\": true, \"showland\": true, \"subunitcolor\": \"white\"}, \"hoverlabel\": {\"align\": \"left\"}, \"hovermode\": \"closest\", \"mapbox\": {\"style\": \"light\"}, \"paper_bgcolor\": \"white\", \"plot_bgcolor\": \"#E5ECF6\", \"polar\": {\"angularaxis\": {\"gridcolor\": \"white\", \"linecolor\": \"white\", \"ticks\": \"\"}, \"bgcolor\": \"#E5ECF6\", \"radialaxis\": {\"gridcolor\": \"white\", \"linecolor\": \"white\", \"ticks\": \"\"}}, \"scene\": {\"xaxis\": {\"backgroundcolor\": \"#E5ECF6\", \"gridcolor\": \"white\", \"gridwidth\": 2, \"linecolor\": \"white\", \"showbackground\": true, \"ticks\": \"\", \"zerolinecolor\": \"white\"}, \"yaxis\": {\"backgroundcolor\": \"#E5ECF6\", \"gridcolor\": \"white\", \"gridwidth\": 2, \"linecolor\": \"white\", \"showbackground\": true, \"ticks\": \"\", \"zerolinecolor\": \"white\"}, \"zaxis\": {\"backgroundcolor\": \"#E5ECF6\", \"gridcolor\": \"white\", \"gridwidth\": 2, \"linecolor\": \"white\", \"showbackground\": true, \"ticks\": \"\", \"zerolinecolor\": \"white\"}}, \"shapedefaults\": {\"line\": {\"color\": \"#2a3f5f\"}}, \"ternary\": {\"aaxis\": {\"gridcolor\": \"white\", \"linecolor\": \"white\", \"ticks\": \"\"}, \"baxis\": {\"gridcolor\": \"white\", \"linecolor\": \"white\", \"ticks\": \"\"}, \"bgcolor\": \"#E5ECF6\", \"caxis\": {\"gridcolor\": \"white\", \"linecolor\": \"white\", \"ticks\": \"\"}}, \"title\": {\"x\": 0.05}, \"xaxis\": {\"automargin\": true, \"gridcolor\": \"white\", \"linecolor\": \"white\", \"ticks\": \"\", \"title\": {\"standoff\": 15}, \"zerolinecolor\": \"white\", \"zerolinewidth\": 2}, \"yaxis\": {\"automargin\": true, \"gridcolor\": \"white\", \"linecolor\": \"white\", \"ticks\": \"\", \"title\": {\"standoff\": 15}, \"zerolinecolor\": \"white\", \"zerolinewidth\": 2}}}, \"xaxis\": {\"range\": [0, 230]}, \"yaxis\": {\"range\": [0, 206]}},                        {\"responsive\": true}                    ).then(function(){\n",
       "                            \n",
       "var gd = document.getElementById('e15422ac-2261-4447-8ca7-16ea888e7fdf');\n",
       "var x = new MutationObserver(function (mutations, observer) {{\n",
       "        var display = window.getComputedStyle(gd).display;\n",
       "        if (!display || display === 'none') {{\n",
       "            console.log([gd, 'removed!']);\n",
       "            Plotly.purge(gd);\n",
       "            observer.disconnect();\n",
       "        }}\n",
       "}});\n",
       "\n",
       "// Listen for the removal of the full notebook cells\n",
       "var notebookContainer = gd.closest('#notebook-container');\n",
       "if (notebookContainer) {{\n",
       "    x.observe(notebookContainer, {childList: true});\n",
       "}}\n",
       "\n",
       "// Listen for the clearing of the current output cell\n",
       "var outputEl = gd.closest('.output');\n",
       "if (outputEl) {{\n",
       "    x.observe(outputEl, {childList: true});\n",
       "}}\n",
       "\n",
       "                        })                };                });            </script>        </div>"
      ]
     },
     "metadata": {},
     "output_type": "display_data"
    }
   ],
   "source": [
    "colors = cycle(plotly.colors.qualitative.Set1)\n",
    "\n",
    "fig2 = go.Figure()\n",
    "fig2.add_trace(go.Contour(\n",
    "                x = df['x'],\n",
    "                y = df['y'],\n",
    "                z = df['Net Thickness']))\n",
    "\n",
    "for s in df.Type.unique():\n",
    "    dfi = df[df.Type == s]\n",
    "    fig2.add_trace(go.Scatter(x = dfi['x'],\n",
    "                              y = dfi['y'],\n",
    "                              mode = 'markers',\n",
    "                              name = s,\n",
    "                              marker = dict(size=16),\n",
    "                              marker_color = next(colors),\n",
    "                              customdata = np.stack((dfi['Label'], dfi['Net Thickness']), axis = -1),\n",
    "                              hovertemplate =\n",
    "                              '<b>Well Name:</b> %{customdata[0]}' +\n",
    "                              '<br><b>Net thickness relative to P01:</b> %{customdata[1]:.2f}<extra></extra>'\n",
    "                             ))\n",
    "\n",
    "fig2.update_layout(legend_orientation=\"h\", xaxis_range = [0,230], yaxis_range = [0,206])    \n",
    "    \n",
    "fig2.show()"
   ]
  },
  {
   "cell_type": "markdown",
   "id": "74dad2b7",
   "metadata": {},
   "source": [
    "The southwest quadrant is high-graded as the area with higher permeability and higher net thickness according to the static properties we calculated from the data."
   ]
  }
 ],
 "metadata": {
  "kernelspec": {
   "display_name": "Python 3 (ipykernel)",
   "language": "python",
   "name": "python3"
  },
  "language_info": {
   "codemirror_mode": {
    "name": "ipython",
    "version": 3
   },
   "file_extension": ".py",
   "mimetype": "text/x-python",
   "name": "python",
   "nbconvert_exporter": "python",
   "pygments_lexer": "ipython3",
   "version": "3.8.8"
  }
 },
 "nbformat": 4,
 "nbformat_minor": 5
}
