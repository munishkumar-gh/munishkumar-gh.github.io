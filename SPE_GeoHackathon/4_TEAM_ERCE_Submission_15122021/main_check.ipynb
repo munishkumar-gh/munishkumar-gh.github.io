{
 "cells": [
  {
   "cell_type": "markdown",
   "metadata": {},
   "source": [
    "## <span style=\"color:red\"> Run data generation with DARTS</span>"
   ]
  },
  {
   "cell_type": "code",
   "execution_count": null,
   "metadata": {
    "scrolled": true
   },
   "outputs": [],
   "source": [
    "import pandas as pd\n",
    "from darts.hdata.model import Model"
   ]
  },
  {
   "cell_type": "code",
   "execution_count": null,
   "metadata": {},
   "outputs": [],
   "source": [
    "# user introduced wells\n",
    "new_well_list = ['P04', 'P05', 'P06', 'P09', 'I10', 'P110']\n",
    "new_well_x    = [   17,    113,   88,   144,   87,   65   ]\n",
    "new_well_y    = [   18,    17,   83,   170,   45,   17   ]\n",
    "n_new_wells = len(new_well_list)\n",
    "\n",
    "# define the model\n",
    "m = Model()\n",
    "\n",
    "# adding new wells to the model\n",
    "for i in range(n_new_wells):\n",
    "    m.add_well(new_well_list[i], new_well_x[i], new_well_y[i])\n",
    "        \n",
    "m.init()  # initiate the model\n",
    "m.run_python(m.params.first_ts)  # initial run of DARTS\n",
    "\n",
    "# Define you infromation and strategy below:\n",
    "\n",
    "group_name = 'ERCE'\n",
    "\n",
    "# define controls for all wells\n",
    "for i, w in enumerate(m.reservoir.wells):\n",
    "    if 'I02' in w.name:\n",
    "        m.set_well_control(w, +315 * 24) # rate in m3/day\n",
    "    elif 'P02' in w.name:\n",
    "        m.set_well_control(w, -315 * 24) # rate in m3/day\n",
    "    # Operate E03 as I04\n",
    "    elif 'E03' in w.name:\n",
    "        m.set_well_control(w, +700 * 24) # rate in m3/day\n",
    "    elif 'P04' in w.name:\n",
    "        m.set_well_control(w, -700 * 24) # rate in m3/day\n",
    "    # Operate E02 as I05\n",
    "    elif 'E02' in w.name:\n",
    "        m.set_well_control(w, +350 * 24) # rate in m3/day\n",
    "    # Operate E04 as I06\n",
    "    elif 'E04' in w.name:\n",
    "        m.set_well_control(w, +500 * 24) # rate in m3/day\n",
    "    elif 'P06' in w.name:\n",
    "        m.set_well_control(w, -500 * 24) # rate in m3/day\n",
    "    # Operate E06 as I09\n",
    "    elif 'E06' in w.name:\n",
    "        m.set_well_control(w, -350 * 24) # rate in m3/day\n",
    "    elif 'I09' in w.name:\n",
    "        m.set_well_control(w, +240 * 24) # rate in m3/day\n",
    "    elif 'I10' in w.name:\n",
    "        m.set_well_control(w, +450 * 24) # rate in m3/day\n",
    "    elif 'P10' in w.name:\n",
    "        m.set_well_control(w, -450 * 24) # rate in m3/day\n",
    "    # Injectors\n",
    "    elif 'I' in w.name:\n",
    "        m.set_well_control(w, +350 * 24) # rate in m3/day\n",
    "    # Producers\n",
    "    else:\n",
    "        m.set_well_control(w, -350 * 24) # rate in m3/day\n",
    "\n",
    "m.run_python(365, restart_dt=1.36e-6)  # run the first control for 1 year\n",
    "m.run_python(49*365)  # ... and the rest for 50 years"
   ]
  },
  {
   "cell_type": "code",
   "execution_count": null,
   "metadata": {},
   "outputs": [],
   "source": [
    "time_data = pd.DataFrame.from_dict(m.physics.engine.time_data)\n",
    "writer = pd.ExcelWriter(group_name + '_time_data.xlsx')\n",
    "time_data.to_excel(writer, 'Sheet1')\n",
    "writer.save()"
   ]
  }
 ],
 "metadata": {
  "kernelspec": {
   "display_name": "Python 3 (ipykernel)",
   "language": "python",
   "name": "python3"
  },
  "language_info": {
   "codemirror_mode": {
    "name": "ipython",
    "version": 3
   },
   "file_extension": ".py",
   "mimetype": "text/x-python",
   "name": "python",
   "nbconvert_exporter": "python",
   "pygments_lexer": "ipython3",
   "version": "3.9.7"
  }
 },
 "nbformat": 4,
 "nbformat_minor": 4
}
