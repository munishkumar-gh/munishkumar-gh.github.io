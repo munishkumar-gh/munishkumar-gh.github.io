{
 "cells": [
  {
   "cell_type": "markdown",
   "id": "7f63a7cf",
   "metadata": {},
   "source": [
    "Import the required packages:"
   ]
  },
  {
   "cell_type": "code",
   "execution_count": 58,
   "id": "f55e4309",
   "metadata": {},
   "outputs": [],
   "source": [
    "import pandas as pd\n",
    "import matplotlib.pyplot as plt\n",
    "import numpy as np\n",
    "import sklearn as sk\n",
    "import warnings\n",
    "warnings.filterwarnings('ignore')\n",
    "\n",
    "from sklearn import preprocessing\n",
    "from sklearn.linear_model import LinearRegression\n",
    "from sklearn.linear_model import Ridge\n",
    "from sklearn.linear_model import Lasso\n",
    "from math import sqrt\n",
    "from sklearn import metrics #import utility functions to evaluate some metrics"
   ]
  },
  {
   "cell_type": "markdown",
   "id": "be5f3a94",
   "metadata": {},
   "source": [
    "Data loading:"
   ]
  },
  {
   "cell_type": "code",
   "execution_count": 43,
   "id": "e35e0fee",
   "metadata": {},
   "outputs": [],
   "source": [
    "df = pd.read_csv(\"DARTS output.csv\")"
   ]
  },
  {
   "cell_type": "markdown",
   "id": "31b2bb73",
   "metadata": {},
   "source": [
    "Normalise dataset:"
   ]
  },
  {
   "cell_type": "code",
   "execution_count": 44,
   "id": "f813e114",
   "metadata": {},
   "outputs": [
    {
     "name": "stdout",
     "output_type": "stream",
     "text": [
      "P01_Rate      0.3250\n",
      "I01_Rate      0.3250\n",
      "P02_Rate      0.3425\n",
      "I02_Rate      0.3425\n",
      "P03_Rate      0.3250\n",
      "I03_Rate      0.3250\n",
      "P04_Rate      0.0000\n",
      "E03_Rate      0.0325\n",
      "P05_Rate      0.0000\n",
      "E02_Rate      0.3250\n",
      "P06_Rate      0.0000\n",
      "E02_Rate.1    0.0000\n",
      "P07_Rate      0.4125\n",
      "E05_Rate      0.5000\n",
      "P08_Rate      0.3250\n",
      "E01_Rate      0.5000\n",
      "P09_Rate      0.3800\n",
      "E06_Rate      0.3250\n",
      "P10_Rate      0.2750\n",
      "I10_Rate      0.2750\n",
      "dtype: float64\n",
      "P01_Rate      0.6750\n",
      "I01_Rate      0.6750\n",
      "P02_Rate      0.6575\n",
      "I02_Rate      0.6575\n",
      "P03_Rate      0.6750\n",
      "I03_Rate      0.6750\n",
      "P04_Rate      0.7500\n",
      "E03_Rate      1.0000\n",
      "P05_Rate      0.6750\n",
      "E02_Rate      1.0000\n",
      "P06_Rate      0.7500\n",
      "E02_Rate.1    0.7500\n",
      "P07_Rate      0.5000\n",
      "E05_Rate      0.5875\n",
      "P08_Rate      0.5000\n",
      "E01_Rate      0.6750\n",
      "P09_Rate      0.6750\n",
      "E06_Rate      0.6200\n",
      "P10_Rate      0.7250\n",
      "I10_Rate      0.7250\n",
      "dtype: float64\n"
     ]
    }
   ],
   "source": [
    "#Find minimum and maximum of flow rates\n",
    "#print(df.min()[0:20])\n",
    "#print(df.max()[0:20])\n",
    "\n",
    "#Min-max normalisation of flow rates\n",
    "def flow_norm(x):\n",
    "    return (x + 1000) / 2000\n",
    "\n",
    "df.iloc[:,0:20] = df.iloc[:,0:20].apply(flow_norm)\n",
    "\n",
    "print(df.min()[0:20])\n",
    "print(df.max()[0:20])"
   ]
  },
  {
   "cell_type": "code",
   "execution_count": 45,
   "id": "1e1e4526",
   "metadata": {},
   "outputs": [
    {
     "name": "stdout",
     "output_type": "stream",
     "text": [
      "P01_X    0.713043\n",
      "I01_X    0.826087\n",
      "P02_X    0.704348\n",
      "I02_X    0.591304\n",
      "P03_X    0.582609\n",
      "I03_X    0.469565\n",
      "P04_X    0.073913\n",
      "E03_X    0.200000\n",
      "P05_X    0.491304\n",
      "E02_X    0.630435\n",
      "P06_X    0.313043\n",
      "E04_X    0.226087\n",
      "P07_X    0.421739\n",
      "E05_X    0.313043\n",
      "P08_X    0.734783\n",
      "E01_X    0.847826\n",
      "P09_X    0.626087\n",
      "E06_X    0.739130\n",
      "P10_X    0.282609\n",
      "I10_X    0.291304\n",
      "dtype: float64\n",
      "P01_X    0.713043\n",
      "I01_X    0.826087\n",
      "P02_X    0.704348\n",
      "I02_X    0.591304\n",
      "P03_X    0.582609\n",
      "I03_X    0.469565\n",
      "P04_X    0.304348\n",
      "E03_X    0.200000\n",
      "P05_X    0.526087\n",
      "E02_X    0.630435\n",
      "P06_X    0.382609\n",
      "E04_X    0.226087\n",
      "P07_X    0.421739\n",
      "E05_X    0.313043\n",
      "P08_X    0.782609\n",
      "E01_X    0.847826\n",
      "P09_X    0.626087\n",
      "E06_X    0.739130\n",
      "P10_X    0.469565\n",
      "I10_X    0.382609\n",
      "dtype: float64\n"
     ]
    }
   ],
   "source": [
    "#Min-max normalisation of x-coord\n",
    "def x_norm(x):\n",
    "    return x / 230\n",
    "\n",
    "df.iloc[:,20:40] = df.iloc[:,20:40].apply(x_norm)\n",
    "\n",
    "print(df.min()[20:40])\n",
    "print(df.max()[20:40])"
   ]
  },
  {
   "cell_type": "code",
   "execution_count": 46,
   "id": "e035a667",
   "metadata": {},
   "outputs": [
    {
     "name": "stdout",
     "output_type": "stream",
     "text": [
      "P01_Y    0.533981\n",
      "I01_Y    0.485437\n",
      "P02_Y    0.422330\n",
      "I02_Y    0.364078\n",
      "P03_Y    0.558252\n",
      "I03_Y    0.548544\n",
      "P04_Y    0.087379\n",
      "E03_Y    0.223301\n",
      "P05_Y    0.082524\n",
      "E02_Y    0.199029\n",
      "P06_Y    0.402913\n",
      "E04_Y    0.485437\n",
      "P07_Y    0.776699\n",
      "E05_Y    0.737864\n",
      "P08_Y    0.169903\n",
      "E01_Y    0.339806\n",
      "P09_Y    0.825243\n",
      "E06_Y    0.825243\n",
      "P10_Y    0.048544\n",
      "I10_Y    0.082524\n",
      "dtype: float64\n",
      "P01_Y    0.533981\n",
      "I01_Y    0.485437\n",
      "P02_Y    0.422330\n",
      "I02_Y    0.364078\n",
      "P03_Y    0.558252\n",
      "I03_Y    0.548544\n",
      "P04_Y    0.271845\n",
      "E03_Y    0.223301\n",
      "P05_Y    0.252427\n",
      "E02_Y    0.199029\n",
      "P06_Y    0.402913\n",
      "E04_Y    0.485437\n",
      "P07_Y    0.776699\n",
      "E05_Y    0.737864\n",
      "P08_Y    0.315534\n",
      "E01_Y    0.339806\n",
      "P09_Y    0.825243\n",
      "E06_Y    0.825243\n",
      "P10_Y    0.417476\n",
      "I10_Y    0.339806\n",
      "dtype: float64\n"
     ]
    }
   ],
   "source": [
    "#Min-max normalisation of y-coord\n",
    "def y_norm(y):\n",
    "    return y / 206\n",
    "\n",
    "df.iloc[:,40:60] = df.iloc[:,40:60].apply(y_norm)\n",
    "\n",
    "print(df.min()[40:60])\n",
    "print(df.max()[40:60])"
   ]
  },
  {
   "cell_type": "markdown",
   "id": "00b4726d",
   "metadata": {},
   "source": [
    "Splitting data into training and test:"
   ]
  },
  {
   "cell_type": "code",
   "execution_count": 53,
   "id": "c1e51c18",
   "metadata": {},
   "outputs": [
    {
     "name": "stdout",
     "output_type": "stream",
     "text": [
      "(27, 61)\n",
      "(4, 61)\n"
     ]
    }
   ],
   "source": [
    "np.random.seed(308)\n",
    "df.is_train = np.random.uniform(0, 1, len(df)) <= 0.7\n",
    "df_train = df[df.is_train]\n",
    "df_test = df[df.is_train == False]\n",
    "\n",
    "print(df_train.shape)\n",
    "print(df_test.shape)"
   ]
  },
  {
   "cell_type": "markdown",
   "id": "d2d5352b",
   "metadata": {},
   "source": [
    "Training linear regression models:"
   ]
  },
  {
   "cell_type": "code",
   "execution_count": 56,
   "id": "e3f99c31",
   "metadata": {},
   "outputs": [],
   "source": [
    "#With L2 (ridge) regularisation\n",
    "df_ridge_reg = Ridge(max_iter=1000, tol=0.01)\n",
    "df_ridge_reg = df_ridge_reg.fit(df_train.drop('NPV', axis=1), df_train['NPV'])\n",
    "\n",
    "#With L1 (lasso) regularisation\n",
    "df_lasso_reg = Lasso(max_iter=1000, tol=0.01)\n",
    "df_lasso_reg = df_lasso_reg.fit(df_train.drop('NPV', axis=1), df_train['NPV'])"
   ]
  },
  {
   "cell_type": "markdown",
   "id": "877afc67",
   "metadata": {},
   "source": [
    "Using the regression models to predict values:"
   ]
  },
  {
   "cell_type": "code",
   "execution_count": 57,
   "id": "f6e29a06",
   "metadata": {},
   "outputs": [],
   "source": [
    "df_ridge_pred = df_ridge_reg.predict(df_test.drop('NPV', axis=1))\n",
    "df_lasso_pred = df_lasso_reg.predict(df_test.drop('NPV', axis=1))"
   ]
  },
  {
   "cell_type": "markdown",
   "id": "434d28cc",
   "metadata": {},
   "source": [
    "Evaluating models using a set of metrics:"
   ]
  },
  {
   "cell_type": "code",
   "execution_count": 60,
   "id": "8e8a509e",
   "metadata": {},
   "outputs": [
    {
     "name": "stdout",
     "output_type": "stream",
     "text": [
      "           Ridge      Lasso\n",
      "MAE    82.532510  82.394061\n",
      "RMSE  106.805248  82.394061\n",
      "R2      0.553330   0.633009\n"
     ]
    }
   ],
   "source": [
    "#Calculating MAE, RMSE, and R-squared for both models\n",
    "df_ridge_mae = metrics.mean_absolute_error(df_test['NPV'], df_ridge_pred)\n",
    "df_ridge_rmse = sqrt(metrics.mean_squared_error(df_test['NPV'], df_ridge_pred))\n",
    "df_ridge_r2 = metrics.r2_score(df_test['NPV'], df_ridge_pred)\n",
    "\n",
    "df_lasso_mae = metrics.mean_absolute_error(df_test['NPV'], df_lasso_pred)\n",
    "df_lasso_rmse = sqrt(metrics.mean_squared_error(df_test['NPV'], df_lasso_pred))\n",
    "df_lasso_r2 = metrics.r2_score(df_test['NPV'], df_lasso_pred)\n",
    "\n",
    "df_eval = pd.DataFrame({\"Ridge\":{\"MAE\":df_ridge_mae, \"RMSE\":df_ridge_rmse,\n",
    "                                    \"R2\":df_ridge_r2},\n",
    "                           \"Lasso\":{\"MAE\":df_lasso_mae, \"RMSE\":df_lasso_mae,\n",
    "                                    \"R2\":df_lasso_r2}\n",
    "                          })\n",
    "\n",
    "print(df_eval)"
   ]
  }
 ],
 "metadata": {
  "kernelspec": {
   "display_name": "Python 3 (ipykernel)",
   "language": "python",
   "name": "python3"
  },
  "language_info": {
   "codemirror_mode": {
    "name": "ipython",
    "version": 3
   },
   "file_extension": ".py",
   "mimetype": "text/x-python",
   "name": "python",
   "nbconvert_exporter": "python",
   "pygments_lexer": "ipython3",
   "version": "3.8.8"
  }
 },
 "nbformat": 4,
 "nbformat_minor": 5
}
