{
 "cells": [
  {
   "cell_type": "markdown",
   "id": "822a7528",
   "metadata": {},
   "source": [
    "<a href=\"http://www.sundagas.com/\"><img src = \"data:image/jpeg;base64,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\" width = 400> \n",
    "\n",
    "<h1 align=center><font size = 5>Core Analysis - Chuditch 1 </font></h1>"
   ]
  },
  {
   "cell_type": "markdown",
   "id": "a60489b7",
   "metadata": {},
   "source": [
    "<h1 align=center><font size = 4> Munish Kumar </font></h1>\n",
    "<h1 align=center><font size = 4> P6059_Chuditch_CPR </font></h1>\n",
    "<h1 align=center><font size = 3> ERCE 2022 </font></h1>"
   ]
  },
  {
   "cell_type": "markdown",
   "id": "663d360f",
   "metadata": {},
   "source": [
    "#### Libraries"
   ]
  },
  {
   "cell_type": "code",
   "execution_count": 1,
   "id": "89afe242",
   "metadata": {},
   "outputs": [
    {
     "name": "stdout",
     "output_type": "stream",
     "text": [
      "Libraries imported\n"
     ]
    }
   ],
   "source": [
    "# Only install the following libraries if you dont have it, otherwise leave it commented out\n",
    "\n",
    "#!conda install -c anaconda natsort --yes\n",
    "#!conda install -c anaconda xlrd --yes\n",
    "#!pip install sympy --user\n",
    "\n",
    "# General Libraries\n",
    "import itertools\n",
    "import pandas as pd\n",
    "import numpy as np\n",
    "import matplotlib.pyplot as plt\n",
    "import matplotlib.ticker as ticker\n",
    "from matplotlib.ticker import NullFormatter\n",
    "import time\n",
    "import re\n",
    "import requests\n",
    "import pickle\n",
    "import seaborn as sns\n",
    "import os\n",
    "import glob\n",
    "import sys\n",
    "from natsort import natsorted\n",
    "sns.set()\n",
    "\n",
    "# Sklearn Liraries\n",
    "from sklearn import preprocessing\n",
    "\n",
    "# For Latex style text\n",
    "from sympy import S, symbols, printing\n",
    "\n",
    "import datetime\n",
    "from datetime import timedelta, date \n",
    "start = time.time()\n",
    "%matplotlib inline\n",
    "\n",
    "# Forces the print statement to show everything and not truncate\n",
    "# np.set_printoptions(threshold=sys.maxsize) \n",
    "print('Libraries imported')"
   ]
  },
  {
   "cell_type": "markdown",
   "id": "af4d5f6e",
   "metadata": {},
   "source": [
    "###### Declare some global variables"
   ]
  },
  {
   "cell_type": "code",
   "execution_count": 2,
   "id": "a6b69527",
   "metadata": {},
   "outputs": [],
   "source": [
    "dir_name = r'C:\\Users\\mkumar\\Documents\\GitHub\\CoreData_Chuditch'\n",
    "filename_suffix = 'csv'\n",
    "\n",
    "# Font, marker size and axis rotation\n",
    "edgecolors = 'black'\n",
    "markersize = 16\n",
    "alpha = 0.5\n",
    "size = 18\n",
    "rotation = 0"
   ]
  },
  {
   "cell_type": "markdown",
   "id": "c12e7ecb",
   "metadata": {},
   "source": [
    "###### Series of Functions"
   ]
  },
  {
   "cell_type": "code",
   "execution_count": null,
   "id": "7e2f4b52",
   "metadata": {},
   "outputs": [],
   "source": [
    "# Function to look at first 5 and last 5 elements in a dataframe\n",
    "def ends(df, x=5):\n",
    "    return df.head(x).append(df.tail(x))\n",
    "setattr(pd.DataFrame,'ends',ends)"
   ]
  },
  {
   "cell_type": "code",
   "execution_count": null,
   "id": "daff0ca1",
   "metadata": {},
   "outputs": [],
   "source": [
    "# Function to read out file\n",
    "def file_out(df, dir_name, base_filename, filename_suffix):\n",
    "    try:\n",
    "        csvs_sht = os.path.join(dir_name, base_filename + \".\" + filename_suffix)\n",
    "        df.to_csv(csvs_sht, index = False, header=True)\n",
    "        print (\"Final File Extract Produced\")\n",
    "    except IOError:\n",
    "        print(\"I/O error\")\n",
    "    return"
   ]
  },
  {
   "cell_type": "code",
   "execution_count": null,
   "id": "0959348a",
   "metadata": {},
   "outputs": [],
   "source": [
    "# Function to search for a text string\n",
    "def search_words(text):\n",
    "    result = re.findall(r'\\b[^\\d\\W]+\\b', text)\n",
    "    return \" \".join(result)"
   ]
  },
  {
   "cell_type": "code",
   "execution_count": null,
   "id": "3a16e935",
   "metadata": {},
   "outputs": [],
   "source": [
    "# Function to plot grain density\n",
    "def plot_grain_density(mod_df, title, bins, xmin, xmax, savefn):\n",
    "    sns.set()\n",
    "    sns.set_style(\"whitegrid\")     \n",
    "    sns.set_style(\"ticks\", \n",
    "                  {\"xtick.major.size\":size,\n",
    "                  \"ytick.major.size\":size}\n",
    "                 )\n",
    "    sns.axes_style(\"whitegrid\")\n",
    "    kwargs = {'cumulative': True}\n",
    "\n",
    "    ax = sns.distplot(mod_df, \n",
    "                      bins = bins, \n",
    "                      kde=False, \n",
    "                      norm_hist=False, \n",
    "                      color = 'r',\n",
    "                      #bw_adjust=.25,\n",
    "                      #hist_kws=kwargs, \n",
    "                      #kde_kws=kwargs\n",
    "                     )\n",
    "\n",
    "    ax.set(ylabel='Frequency', \n",
    "           #xlabel='common ylabel',\n",
    "           xlim = (xmin, xmax),\n",
    "          )\n",
    "\n",
    "    ax.legend(labels=['Histogram', 'Frequency'])\n",
    "    plt.title(title)\n",
    "    plt.grid(True)\n",
    "\n",
    "    plt.savefig(savefn, transparent=True)\n",
    "    return"
   ]
  },
  {
   "cell_type": "code",
   "execution_count": null,
   "id": "79ea8e1e",
   "metadata": {},
   "outputs": [],
   "source": [
    "# Plotting the effect of NOBP\n",
    "def plot_NOBP(mod_df, df_sub, grouped, color, savefn):\n",
    "    # Plot per group\n",
    "    fig = plt.figure(figsize=(14, 8))\n",
    "    ax = fig.add_subplot(121)\n",
    "\n",
    "    for i, (name, group) in enumerate(grouped):\n",
    "        sc = ax.scatter(\n",
    "            group[\"NOB (psi)\"],\n",
    "            group[\"Porosity (%)\"],\n",
    "            s = markersize**2,\n",
    "            alpha=0.5,\n",
    "            label=name,\n",
    "            edgecolors = edgecolors,\n",
    "        )  \n",
    "\n",
    "    # Add legends (one for gender, other for size)\n",
    "    ax.add_artist(ax.legend(title='Well Name'))\n",
    "    ax.legend(*sc.legend_elements(\"colors\", num=6))\n",
    "    ax.set_xlabel('Net Overburden Pressure (psi)', fontsize=size)\n",
    "    ax.set_ylabel('Porosity (%)', fontsize=size)\n",
    "\n",
    "    plt.xticks(rotation = rotation, fontsize=size)\n",
    "    plt.yticks(rotation = rotation, fontsize=size)\n",
    "    plt.ylim(0,20) \n",
    "    plt.grid(True)\n",
    "    \n",
    "    ax1 = fig.add_subplot(122)\n",
    "\n",
    "    for i, (name, group) in enumerate(grouped):\n",
    "        sc1 = ax1.scatter(\n",
    "            group[\"NOB (psi)\"],\n",
    "            group[\"K_klin (mD)\"],\n",
    "            s = markersize**2,\n",
    "            alpha=0.5,\n",
    "            label=name,\n",
    "            edgecolors = edgecolors,\n",
    "        )  \n",
    "\n",
    "    # Add legends \n",
    "    ax1.add_artist(ax1.legend(title='Well Name'))\n",
    "    ax1.legend(*sc1.legend_elements(\"colors\", num=6))\n",
    "    ax1.set_xlabel('Net Overburden Pressure (psi)', fontsize=size)\n",
    "    ax1.set_ylabel('Permeability (mD)', fontsize=size)\n",
    "\n",
    "    plt.xticks(rotation = rotation, fontsize=size)\n",
    "    plt.yticks(rotation = rotation, fontsize=size)\n",
    "    #plt.ylim(0,20)\n",
    "\n",
    "    plt.tight_layout()\n",
    "    plt.grid(True)\n",
    "\n",
    "    plt.savefig(savefn, transparent=True)\n",
    "    return"
   ]
  },
  {
   "cell_type": "code",
   "execution_count": null,
   "id": "4053d0af",
   "metadata": {},
   "outputs": [],
   "source": [
    "def plot_PP(mod_df, df_sub, grouped, color, title, savefn, xint1, yint1, xint2, yint2):\n",
    "    fig = plt.figure(figsize=(14, 8))\n",
    "    ax = fig.add_subplot(111)\n",
    "\n",
    "    for i, (name, group) in enumerate(grouped):\n",
    "        sc = ax.scatter(\n",
    "            group[\"Porosity (%)\"],\n",
    "            group[\"K_air (mD)\"],\n",
    "            s = markersize**2,\n",
    "            alpha=0.5,\n",
    "            label=name,\n",
    "            edgecolors = edgecolors,\n",
    "        )  \n",
    "\n",
    "    # Add legends\n",
    "    ax.add_artist(ax.legend(title='Well Name'))\n",
    "    ax.legend(*sc.legend_elements(\"colors\", num=6), prop={'size': 20})\n",
    "    ax.set_xlabel('Porosity (%)', fontsize=size)\n",
    "    ax.set_ylabel('Permeability (mD)', fontsize=size)\n",
    "\n",
    "    plt.xticks(rotation = rotation, fontsize=size)\n",
    "    plt.yticks(rotation = rotation, fontsize=size)\n",
    "    plt.xlim(0,45)\n",
    "    plt.ylim(0.001,10000)\n",
    "\n",
    "    # Fit to linear-log\n",
    "    y1 = df_sub[\"Porosity (%)\"] # x-value\n",
    "    y2 = df_sub[\"K_air (mD)\"] #y-value\n",
    "    \n",
    "    # For fitting y = Ae^(Bx), log y = log A + Bx. So fit (log y) against x.\n",
    "    #p = np.polyfit(y1, np.log(y2), 1, w=np.sqrt(y2)) # w is weight to bias against larger values of y\n",
    "    #p = np.polyfit(y1, np.log(y2), 1)\n",
    "    #f = np.poly1d(p)\n",
    "\n",
    "    #ax.semilogy(y1, np.exp(p[0] * y1 + p[1]), 'k--', linewidth = 2.5)\n",
    "    ax.set_yscale('log')\n",
    "\n",
    "    #Display Equation\n",
    "    #plt.text(16, 10, r'Equation ={}'.format(f), fontsize = size,bbox=dict(facecolor='white', alpha=0.25))\n",
    "    #plt.title (title, fontsize = size)\n",
    "\n",
    "    # here we add the vertical and horizontal line 1\n",
    "    plt.axvline(x=xint1, color='darkorange',linestyle='--',linewidth=2)\n",
    "    plt.axhline(y=yint1, color='darkorange',linestyle='--',linewidth=2)\n",
    "    \n",
    "    # here we add the horizontal and horizontal line 2\n",
    "    plt.axvline(x=xint2, color='darkgreen',linestyle=':',linewidth=2)\n",
    "    plt.axhline(y=yint2, color='darkgreen',linestyle=':',linewidth=2)\n",
    "\n",
    "    plt.tight_layout()\n",
    "    plt.grid(True)\n",
    "    \n",
    "    plt.savefig(savefn, transparent=True)\n",
    "    return"
   ]
  },
  {
   "cell_type": "markdown",
   "id": "0e77274f",
   "metadata": {},
   "source": [
    "##### Read in the data and some preprocessing"
   ]
  },
  {
   "cell_type": "code",
   "execution_count": null,
   "id": "c09303dc",
   "metadata": {},
   "outputs": [],
   "source": [
    "# Header file comes preformatted as 1st row is variable name, 2nd row reads \"Low, Best, High\"\n",
    "# Combines the first 2 rows of header into 1 header\n",
    "\n",
    "df = pd.read_excel(\n",
    "    'CoreData_Suriname.xlsx', \n",
    "    header=[0, 1], \n",
    "    sheet_name='MASTER', \n",
    "    keep_default_na=False,\n",
    "    #usecols=\"A,C:AA\"\n",
    ")\n",
    "df.columns=df.columns.to_flat_index()\n",
    "\n",
    "# renaming the columns\n",
    "df.columns = ['Well Name', 'Sample ID', 'Depth (m)', 'NOB (psi)', 'K_air (mD)', 'Porosity (%)', 'Grain Density (g/cc)', 'Core Type']\n",
    "df.ends(10)"
   ]
  },
  {
   "cell_type": "markdown",
   "id": "66b8873a",
   "metadata": {},
   "source": [
    "##### Remove Missing Rows based on Missing Permeability and Porosity Values"
   ]
  },
  {
   "cell_type": "code",
   "execution_count": null,
   "id": "f52a3ee9",
   "metadata": {
    "scrolled": true
   },
   "outputs": [],
   "source": [
    "df = df.replace(r'^\\s*$', np.nan, regex=True)\n",
    "\n",
    "cols = ['K_air (mD)', 'Porosity (%)']\n",
    "\n",
    "mod_df = df.dropna(how='any', subset=cols)\n",
    "mod_df = df[df['K_air (mD)'] > 0.01]\n",
    "mod_df"
   ]
  },
  {
   "cell_type": "markdown",
   "id": "930fa559",
   "metadata": {},
   "source": [
    "###### Mapping each well to a colour"
   ]
  },
  {
   "cell_type": "code",
   "execution_count": null,
   "id": "4dae4038",
   "metadata": {},
   "outputs": [],
   "source": [
    "df_colors = pd.read_csv('https://raw.githubusercontent.com/codebrainz/color-names/master/output/colors.csv',header=None)\n",
    "df_colors.columns = ['color_name', 'color_description', 'hex_value', 'r', 'g','b']\n",
    "\n",
    "names = mod_df['Well Name'].unique()\n",
    "c = df_colors[['hex_value']].astype(str).agg(','.join,axis=1).tolist()\n",
    "colors = dict(zip(names,c))\n",
    "\n",
    "mod_df['color'] = mod_df['Well Name'].apply(lambda x: colors[x])\n",
    "mod_df.info()"
   ]
  },
  {
   "cell_type": "code",
   "execution_count": null,
   "id": "25cc1e70",
   "metadata": {
    "scrolled": false
   },
   "outputs": [],
   "source": [
    "for well in mod_df['Well Name'].unique():\n",
    "        print(mod_df[mod_df['Well Name'] == well].info())      \n",
    "        print(mod_df[mod_df['Well Name'] == well].describe(include='all'))       "
   ]
  },
  {
   "cell_type": "code",
   "execution_count": null,
   "id": "6519b83e",
   "metadata": {},
   "outputs": [],
   "source": [
    "print(mod_df.info())\n",
    "print(mod_df.describe(include='all'))"
   ]
  },
  {
   "cell_type": "markdown",
   "id": "c5dd3270",
   "metadata": {},
   "source": [
    "## Determine Properties based on a particular Net Overburden Pressure (NOBP) value"
   ]
  },
  {
   "cell_type": "code",
   "execution_count": null,
   "id": "dfe080d8",
   "metadata": {},
   "outputs": [],
   "source": [
    "a = mod_df['NOB (psi)'].unique()\n",
    "print(sorted(a))"
   ]
  },
  {
   "cell_type": "markdown",
   "id": "0b4dc64c",
   "metadata": {},
   "source": [
    "Some of the net overburden values are missing. It will be assumed that these are ambient values i.e. 800 psi"
   ]
  },
  {
   "cell_type": "code",
   "execution_count": null,
   "id": "e273f615",
   "metadata": {},
   "outputs": [],
   "source": [
    "mod_df['NOB (psi)'].fillna(14.7, inplace=True)\n",
    "mod_df['NOB (psi)'].isnull().values.any()"
   ]
  },
  {
   "cell_type": "code",
   "execution_count": null,
   "id": "fb0fad80",
   "metadata": {},
   "outputs": [],
   "source": [
    "NOBP = 800\n",
    "\n",
    "df_sub = mod_df[mod_df['NOB (psi)'] <= NOBP]\n",
    "grouped = df_sub.groupby(\"Well Name\")\n",
    "color = df_sub['color']"
   ]
  },
  {
   "cell_type": "markdown",
   "id": "28d505cb",
   "metadata": {},
   "source": [
    "#### Histogram - Plotting the Grain Density, Porosity and Permeability at Ambient (800 psi)"
   ]
  },
  {
   "cell_type": "code",
   "execution_count": null,
   "id": "f6608d26",
   "metadata": {},
   "outputs": [],
   "source": [
    "savefn = \"Hist_GD_800.png\"\n",
    "\n",
    "# fuction to plot - usage\n",
    "# plot_grain_density (dataframe_column, plot_title, number_bins, x-axis_min, x_axis_max savefile_name)\n",
    "\n",
    "plot_grain_density(df_sub['Grain Density (g/cc)'], \"Grain Density (Ambient)\", 100, 2, 3, savefn)"
   ]
  },
  {
   "cell_type": "code",
   "execution_count": null,
   "id": "50f88f31",
   "metadata": {},
   "outputs": [],
   "source": [
    "savefn = \"Hist_Poro_800.png\"\n",
    "plot_grain_density(df_sub[\"Porosity (%)\"], \"Porosity (%) (Ambient)\", 20, 0, 35, savefn)"
   ]
  },
  {
   "cell_type": "code",
   "execution_count": null,
   "id": "b060b313",
   "metadata": {},
   "outputs": [],
   "source": [
    "savefn = \"Hist_Perm_800.png\"\n",
    "\n",
    "x= df_sub[\"K_air (mD)\"]\n",
    "\n",
    "logbins = np.geomspace(x.min(), x.max(), 20)\n",
    "plot_grain_density(df_sub[\"K_air (mD)\"], \"Permeability (mD) (Ambient)\", logbins, 0.01, x.max()+1000, savefn)\n",
    "plt.xscale('log')"
   ]
  },
  {
   "cell_type": "markdown",
   "id": "6bdee4ef",
   "metadata": {},
   "source": [
    "#### Plot cross-plot of Porosity-Permeability"
   ]
  },
  {
   "cell_type": "code",
   "execution_count": null,
   "id": "be996541",
   "metadata": {
    "scrolled": false
   },
   "outputs": [],
   "source": [
    "savefn = \"Poro_Perm_800.png\"\n",
    "\n",
    "#Cutoff intercept\n",
    "yint1 = 1\n",
    "xint1 = 14\n",
    "\n",
    "yint2 = 0.1\n",
    "xint2 = 11\n",
    "\n",
    "plot_PP(mod_df, df_sub, grouped, color, \"Ambient Porosity vs Permeability\", savefn, xint1, yint1, xint2, yint2)"
   ]
  },
  {
   "cell_type": "markdown",
   "id": "a9e1c0dc",
   "metadata": {},
   "source": [
    "##### Cross-plot for values not at NOBP of 800 psi"
   ]
  },
  {
   "cell_type": "code",
   "execution_count": null,
   "id": "20dcfaf4",
   "metadata": {},
   "outputs": [],
   "source": [
    "# df_sub = mod_df[mod_df['NOB (psi)'] > NOBP]\n",
    "# grouped = df_sub.groupby(\"Well Name\")\n",
    "# color = df_sub['color']"
   ]
  },
  {
   "cell_type": "code",
   "execution_count": null,
   "id": "10659dd6",
   "metadata": {},
   "outputs": [],
   "source": [
    "# savefn = \"Hist_GD_not_800.png\"\n",
    "\n",
    "# # fuction to plot - usage\n",
    "# # plot_grain_density (dataframe_column, plot_title, number_bins, x-axis_min, x_axis_max savefile_name)\n",
    "\n",
    "# plot_grain_density(df_sub['Grain Density (g/cc)'], \"Grain Density (>800 psi)\", 20, 2.6, 2.8, savefn)"
   ]
  },
  {
   "cell_type": "code",
   "execution_count": null,
   "id": "f6328d31",
   "metadata": {},
   "outputs": [],
   "source": [
    "# savefn = \"Hist_Poro_not_800.png\"\n",
    "# plot_grain_density(df_sub[\"Porosity (%)\"], \"Porosity (%) (>800 psi)\", 20, 0, 30, savefn)"
   ]
  },
  {
   "cell_type": "code",
   "execution_count": null,
   "id": "bdf9f70a",
   "metadata": {},
   "outputs": [],
   "source": [
    "# savefn = \"Hist_Perm_not_800.png\"\n",
    "# plot_grain_density(df_sub[\"K_klin (mD)\"], \"Permeability (mD) (>800 psi)\", 100, 0, 50, savefn)"
   ]
  },
  {
   "cell_type": "code",
   "execution_count": null,
   "id": "dbb671a5",
   "metadata": {
    "scrolled": false
   },
   "outputs": [],
   "source": [
    "# savefn = \"Poro_Perm_not_800.png\"\n",
    "\n",
    "# #Cutoff intercept\n",
    "# yint1 = 1\n",
    "# xint1 = 6.498/0.5204\n",
    "\n",
    "# yint2 = 0.1\n",
    "# xint2 = (np.log(0.1)+6.498)/0.5204\n",
    "\n",
    "# plot_PP(mod_df, df_sub, grouped, color, \"Overburden Porosity vs Permeability\", savefn, xint1, yint1, xint2, yint2)"
   ]
  }
 ],
 "metadata": {
  "kernelspec": {
   "display_name": "Python 3 (ipykernel)",
   "language": "python",
   "name": "python3"
  },
  "language_info": {
   "codemirror_mode": {
    "name": "ipython",
    "version": 3
   },
   "file_extension": ".py",
   "mimetype": "text/x-python",
   "name": "python",
   "nbconvert_exporter": "python",
   "pygments_lexer": "ipython3",
   "version": "3.9.12"
  }
 },
 "nbformat": 4,
 "nbformat_minor": 5
}
