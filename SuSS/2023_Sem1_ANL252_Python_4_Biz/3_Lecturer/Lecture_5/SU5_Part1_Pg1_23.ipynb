{
 "cells": [
  {
   "cell_type": "markdown",
   "id": "963cd296",
   "metadata": {},
   "source": [
    "# Study Unit 5 Data Analytics in Python\n",
    "Yao Renjie (rjyao001@suss.edu.sg)"
   ]
  },
  {
   "cell_type": "markdown",
   "id": "83f2f484",
   "metadata": {
    "tags": []
   },
   "source": [
    "## scikit-learn\n",
    "\n",
    "* Simple and efficient tools for **predictive data analysis**\n",
    "* Accessible to everybody, and reusable in various contexts\n",
    "* Built on NumPy, SciPy, and matplotlib\n",
    "* Open source, commercially usable - BSD license"
   ]
  },
  {
   "cell_type": "markdown",
   "id": "5e8df082",
   "metadata": {},
   "source": [
    "## Algorithms in scikit-learn\n",
    "\n",
    "1. Supervised learning: learn with labled data\n",
    "2. Unsupervised learning: learn with unlabled data"
   ]
  },
  {
   "cell_type": "code",
   "execution_count": 33,
   "id": "657821fd",
   "metadata": {},
   "outputs": [
    {
     "name": "stdout",
     "output_type": "stream",
     "text": [
      "Requirement already satisfied: scikit-learn in c:\\users\\jamestan\\anaconda3\\lib\\site-packages (0.24.2)\n",
      "Requirement already satisfied: scipy>=0.19.1 in c:\\users\\jamestan\\anaconda3\\lib\\site-packages (from scikit-learn) (1.7.1)\n",
      "Requirement already satisfied: joblib>=0.11 in c:\\users\\jamestan\\anaconda3\\lib\\site-packages (from scikit-learn) (1.1.0)\n",
      "Requirement already satisfied: threadpoolctl>=2.0.0 in c:\\users\\jamestan\\anaconda3\\lib\\site-packages (from scikit-learn) (2.2.0)\n",
      "Requirement already satisfied: numpy>=1.13.3 in c:\\users\\jamestan\\anaconda3\\lib\\site-packages (from scikit-learn) (1.20.3)\n"
     ]
    }
   ],
   "source": [
    "# Install a pip package in the current Jupyter kernel\n",
    "# https://jakevdp.github.io/blog/2017/12/05/installing-python-packages-from-jupyter/\n",
    "import sys\n",
    "!{sys.executable} -m pip install scikit-learn"
   ]
  },
  {
   "cell_type": "markdown",
   "id": "d5209360",
   "metadata": {},
   "source": [
    "## Page 5: Install and import scikit-learn\n",
    "\n",
    "Importing whole sklearn takes longer time. Usually we only import packages we need."
   ]
  },
  {
   "cell_type": "code",
   "execution_count": 34,
   "id": "1a4bfcb4",
   "metadata": {},
   "outputs": [
    {
     "name": "stdout",
     "output_type": "stream",
     "text": [
      "Requirement already satisfied: scikit-learn in c:\\users\\jamestan\\anaconda3\\lib\\site-packages (0.24.2)\n",
      "Requirement already satisfied: joblib>=0.11 in c:\\users\\jamestan\\anaconda3\\lib\\site-packages (from scikit-learn) (1.1.0)\n",
      "Requirement already satisfied: scipy>=0.19.1 in c:\\users\\jamestan\\anaconda3\\lib\\site-packages (from scikit-learn) (1.7.1)\n",
      "Requirement already satisfied: threadpoolctl>=2.0.0 in c:\\users\\jamestan\\anaconda3\\lib\\site-packages (from scikit-learn) (2.2.0)\n",
      "Requirement already satisfied: numpy>=1.13.3 in c:\\users\\jamestan\\anaconda3\\lib\\site-packages (from scikit-learn) (1.20.3)\n"
     ]
    }
   ],
   "source": [
    "!pip install scikit-learn"
   ]
  },
  {
   "cell_type": "code",
   "execution_count": 35,
   "id": "b82d960a",
   "metadata": {},
   "outputs": [],
   "source": [
    "# import sklearn\n",
    "\n",
    "from sklearn.linear_model import LinearRegression\n",
    "import pandas as pd\n",
    "import numpy as np"
   ]
  },
  {
   "cell_type": "markdown",
   "id": "ee833410",
   "metadata": {},
   "source": [
    "## Page 7 Activity"
   ]
  },
  {
   "cell_type": "code",
   "execution_count": 36,
   "id": "14aa982c",
   "metadata": {},
   "outputs": [],
   "source": [
    "from sklearn.model_selection import train_test_split\n",
    "from sklearn import metrics\n",
    "from sklearn import preprocessing\n",
    "from sklearn import tree\n",
    "from sklearn.cluster import KMeans\n",
    "from sklearn import decomposition "
   ]
  },
  {
   "cell_type": "markdown",
   "id": "d396e674",
   "metadata": {},
   "source": [
    "## Page 8: Discussion\n",
    "\n",
    "1. What is the difference between supervised and unsupervised machine learning?\n",
    "2. Is it sensible to use alias when importing a module or an estimator of an algorithm from the scikit-learn package?"
   ]
  },
  {
   "cell_type": "markdown",
   "id": "85c9728c",
   "metadata": {},
   "source": [
    "## Page 10: Specify and remove missing values\n",
    "\n",
    "1. If `na_filter` is True, pandas will convert all white spaces `\"\"` to `NaN`.\n",
    "2. With `na_values`, we can declare certain strings from our DataFrame to be recognised as missing values. \n"
   ]
  },
  {
   "cell_type": "code",
   "execution_count": 37,
   "id": "b36940ff",
   "metadata": {},
   "outputs": [
    {
     "data": {
      "text/html": [
       "<div>\n",
       "<style scoped>\n",
       "    .dataframe tbody tr th:only-of-type {\n",
       "        vertical-align: middle;\n",
       "    }\n",
       "\n",
       "    .dataframe tbody tr th {\n",
       "        vertical-align: top;\n",
       "    }\n",
       "\n",
       "    .dataframe thead th {\n",
       "        text-align: right;\n",
       "    }\n",
       "</style>\n",
       "<table border=\"1\" class=\"dataframe\">\n",
       "  <thead>\n",
       "    <tr style=\"text-align: right;\">\n",
       "      <th></th>\n",
       "      <th>Year</th>\n",
       "      <th>Make</th>\n",
       "      <th>Model</th>\n",
       "      <th>Price</th>\n",
       "    </tr>\n",
       "  </thead>\n",
       "  <tbody>\n",
       "    <tr>\n",
       "      <th>0</th>\n",
       "      <td>2021</td>\n",
       "      <td>Acura</td>\n",
       "      <td>ILX</td>\n",
       "      <td>NaN</td>\n",
       "    </tr>\n",
       "    <tr>\n",
       "      <th>1</th>\n",
       "      <td>2021</td>\n",
       "      <td>Acura</td>\n",
       "      <td>RDX</td>\n",
       "      <td>NaN</td>\n",
       "    </tr>\n",
       "    <tr>\n",
       "      <th>2</th>\n",
       "      <td>2021</td>\n",
       "      <td>Acura</td>\n",
       "      <td>TLX</td>\n",
       "      <td>37500.0</td>\n",
       "    </tr>\n",
       "    <tr>\n",
       "      <th>3</th>\n",
       "      <td>2021</td>\n",
       "      <td>Alfa Romeo</td>\n",
       "      <td>Giulia</td>\n",
       "      <td>40350.0</td>\n",
       "    </tr>\n",
       "    <tr>\n",
       "      <th>4</th>\n",
       "      <td>2021</td>\n",
       "      <td>Alfa Romeo</td>\n",
       "      <td>Stelvio</td>\n",
       "      <td>42350.0</td>\n",
       "    </tr>\n",
       "  </tbody>\n",
       "</table>\n",
       "</div>"
      ],
      "text/plain": [
       "   Year        Make    Model    Price\n",
       "0  2021       Acura      ILX      NaN\n",
       "1  2021       Acura      RDX      NaN\n",
       "2  2021       Acura      TLX  37500.0\n",
       "3  2021  Alfa Romeo   Giulia  40350.0\n",
       "4  2021  Alfa Romeo  Stelvio  42350.0"
      ]
     },
     "execution_count": 37,
     "metadata": {},
     "output_type": "execute_result"
    }
   ],
   "source": [
    "# make sure you upload the csv file first\n",
    "\n",
    "#car_model = pd.read_csv('./car_model.csv', na_values='na_string', na_filter=True)\n",
    "# car_price = pd.read_csv('./car_price_model.csv', na_values='na_string', na_filter=True)\n",
    "#car_df = car_model.merge(car_price, how='inner', on=['Year', 'Make', 'Model'])\n",
    "car_df = pd.read_csv('./car_price_model.csv', na_values='na_string', na_filter=True)\n",
    "car_df.dropna(axis=0, how='any')\n",
    "car_df.head()\n",
    "#display(car_df)"
   ]
  },
  {
   "cell_type": "markdown",
   "id": "2c14f3e4",
   "metadata": {},
   "source": [
    "## Page 14-16: Selection using iloc vs. loc\n",
    "\n",
    "Using `loc` can avoid problems named \"Magic Number\"."
   ]
  },
  {
   "cell_type": "code",
   "execution_count": 38,
   "id": "ddf6705d",
   "metadata": {},
   "outputs": [
    {
     "data": {
      "text/html": [
       "<div>\n",
       "<style scoped>\n",
       "    .dataframe tbody tr th:only-of-type {\n",
       "        vertical-align: middle;\n",
       "    }\n",
       "\n",
       "    .dataframe tbody tr th {\n",
       "        vertical-align: top;\n",
       "    }\n",
       "\n",
       "    .dataframe thead th {\n",
       "        text-align: right;\n",
       "    }\n",
       "</style>\n",
       "<table border=\"1\" class=\"dataframe\">\n",
       "  <thead>\n",
       "    <tr style=\"text-align: right;\">\n",
       "      <th></th>\n",
       "      <th>Year</th>\n",
       "    </tr>\n",
       "  </thead>\n",
       "  <tbody>\n",
       "    <tr>\n",
       "      <th>0</th>\n",
       "      <td>2021</td>\n",
       "    </tr>\n",
       "    <tr>\n",
       "      <th>1</th>\n",
       "      <td>2021</td>\n",
       "    </tr>\n",
       "  </tbody>\n",
       "</table>\n",
       "</div>"
      ],
      "text/plain": [
       "   Year\n",
       "0  2021\n",
       "1  2021"
      ]
     },
     "metadata": {},
     "output_type": "display_data"
    },
    {
     "data": {
      "text/html": [
       "<div>\n",
       "<style scoped>\n",
       "    .dataframe tbody tr th:only-of-type {\n",
       "        vertical-align: middle;\n",
       "    }\n",
       "\n",
       "    .dataframe tbody tr th {\n",
       "        vertical-align: top;\n",
       "    }\n",
       "\n",
       "    .dataframe thead th {\n",
       "        text-align: right;\n",
       "    }\n",
       "</style>\n",
       "<table border=\"1\" class=\"dataframe\">\n",
       "  <thead>\n",
       "    <tr style=\"text-align: right;\">\n",
       "      <th></th>\n",
       "      <th>Year</th>\n",
       "    </tr>\n",
       "  </thead>\n",
       "  <tbody>\n",
       "    <tr>\n",
       "      <th>0</th>\n",
       "      <td>2021</td>\n",
       "    </tr>\n",
       "    <tr>\n",
       "      <th>1</th>\n",
       "      <td>2021</td>\n",
       "    </tr>\n",
       "  </tbody>\n",
       "</table>\n",
       "</div>"
      ],
      "text/plain": [
       "   Year\n",
       "0  2021\n",
       "1  2021"
      ]
     },
     "metadata": {},
     "output_type": "display_data"
    }
   ],
   "source": [
    "display(car_df.loc[:, ['Year']].head(2))\n",
    "display(car_df.iloc[:, 0:1].head(2))"
   ]
  },
  {
   "cell_type": "markdown",
   "id": "520b792c",
   "metadata": {},
   "source": [
    "## Page 17: Rename variables\n",
    "\n",
    "Standardize column name."
   ]
  },
  {
   "cell_type": "code",
   "execution_count": 39,
   "id": "acf39184",
   "metadata": {},
   "outputs": [
    {
     "data": {
      "text/html": [
       "<div>\n",
       "<style scoped>\n",
       "    .dataframe tbody tr th:only-of-type {\n",
       "        vertical-align: middle;\n",
       "    }\n",
       "\n",
       "    .dataframe tbody tr th {\n",
       "        vertical-align: top;\n",
       "    }\n",
       "\n",
       "    .dataframe thead th {\n",
       "        text-align: right;\n",
       "    }\n",
       "</style>\n",
       "<table border=\"1\" class=\"dataframe\">\n",
       "  <thead>\n",
       "    <tr style=\"text-align: right;\">\n",
       "      <th></th>\n",
       "      <th>Year</th>\n",
       "      <th>Make</th>\n",
       "      <th>Model</th>\n",
       "      <th>Price</th>\n",
       "    </tr>\n",
       "  </thead>\n",
       "  <tbody>\n",
       "    <tr>\n",
       "      <th>0</th>\n",
       "      <td>2021</td>\n",
       "      <td>Acura</td>\n",
       "      <td>ILX</td>\n",
       "      <td>NaN</td>\n",
       "    </tr>\n",
       "    <tr>\n",
       "      <th>1</th>\n",
       "      <td>2021</td>\n",
       "      <td>Acura</td>\n",
       "      <td>RDX</td>\n",
       "      <td>NaN</td>\n",
       "    </tr>\n",
       "    <tr>\n",
       "      <th>2</th>\n",
       "      <td>2021</td>\n",
       "      <td>Acura</td>\n",
       "      <td>TLX</td>\n",
       "      <td>37500.0</td>\n",
       "    </tr>\n",
       "    <tr>\n",
       "      <th>3</th>\n",
       "      <td>2021</td>\n",
       "      <td>Alfa Romeo</td>\n",
       "      <td>Giulia</td>\n",
       "      <td>40350.0</td>\n",
       "    </tr>\n",
       "    <tr>\n",
       "      <th>4</th>\n",
       "      <td>2021</td>\n",
       "      <td>Alfa Romeo</td>\n",
       "      <td>Stelvio</td>\n",
       "      <td>42350.0</td>\n",
       "    </tr>\n",
       "  </tbody>\n",
       "</table>\n",
       "</div>"
      ],
      "text/plain": [
       "   Year        Make    Model    Price\n",
       "0  2021       Acura      ILX      NaN\n",
       "1  2021       Acura      RDX      NaN\n",
       "2  2021       Acura      TLX  37500.0\n",
       "3  2021  Alfa Romeo   Giulia  40350.0\n",
       "4  2021  Alfa Romeo  Stelvio  42350.0"
      ]
     },
     "execution_count": 39,
     "metadata": {},
     "output_type": "execute_result"
    }
   ],
   "source": [
    "car_df = car_df.rename(columns={'model': 'Model', 'category': 'Category'})\n",
    "\n",
    "# if you do not assign back to car_df, you will still see the old columcn names\n",
    "car_df.head()"
   ]
  },
  {
   "cell_type": "markdown",
   "id": "7d31109e",
   "metadata": {},
   "source": [
    "## Page 18: Create dummy variables\n",
    "\n",
    "Dummy coding the categorical data. \n",
    "In our example, it is a 2-bit code.\n",
    "1. `Acura` => `10`\n",
    "2. `Alfa Romeo` => `01`\n",
    "\n",
    "But, can we use a 1-bit code? For example\n",
    "1. `Acura` => `0`\n",
    "2. `Alfa Romeo` => `1`\n",
    "\n",
    "Actually, we only needs `K-1` bit, to represent `K` categories."
   ]
  },
  {
   "cell_type": "code",
   "execution_count": 40,
   "id": "678ff84a",
   "metadata": {},
   "outputs": [
    {
     "data": {
      "text/plain": [
       "0         Acura\n",
       "1         Acura\n",
       "2         Acura\n",
       "3    Alfa Romeo\n",
       "4    Alfa Romeo\n",
       "Name: Make, dtype: object"
      ]
     },
     "metadata": {},
     "output_type": "display_data"
    },
    {
     "data": {
      "text/html": [
       "<div>\n",
       "<style scoped>\n",
       "    .dataframe tbody tr th:only-of-type {\n",
       "        vertical-align: middle;\n",
       "    }\n",
       "\n",
       "    .dataframe tbody tr th {\n",
       "        vertical-align: top;\n",
       "    }\n",
       "\n",
       "    .dataframe thead th {\n",
       "        text-align: right;\n",
       "    }\n",
       "</style>\n",
       "<table border=\"1\" class=\"dataframe\">\n",
       "  <thead>\n",
       "    <tr style=\"text-align: right;\">\n",
       "      <th></th>\n",
       "      <th>Acura</th>\n",
       "      <th>Alfa Romeo</th>\n",
       "    </tr>\n",
       "  </thead>\n",
       "  <tbody>\n",
       "    <tr>\n",
       "      <th>0</th>\n",
       "      <td>1</td>\n",
       "      <td>0</td>\n",
       "    </tr>\n",
       "    <tr>\n",
       "      <th>1</th>\n",
       "      <td>1</td>\n",
       "      <td>0</td>\n",
       "    </tr>\n",
       "    <tr>\n",
       "      <th>2</th>\n",
       "      <td>1</td>\n",
       "      <td>0</td>\n",
       "    </tr>\n",
       "    <tr>\n",
       "      <th>3</th>\n",
       "      <td>0</td>\n",
       "      <td>1</td>\n",
       "    </tr>\n",
       "    <tr>\n",
       "      <th>4</th>\n",
       "      <td>0</td>\n",
       "      <td>1</td>\n",
       "    </tr>\n",
       "  </tbody>\n",
       "</table>\n",
       "</div>"
      ],
      "text/plain": [
       "   Acura  Alfa Romeo\n",
       "0      1           0\n",
       "1      1           0\n",
       "2      1           0\n",
       "3      0           1\n",
       "4      0           1"
      ]
     },
     "metadata": {},
     "output_type": "display_data"
    },
    {
     "data": {
      "text/html": [
       "<div>\n",
       "<style scoped>\n",
       "    .dataframe tbody tr th:only-of-type {\n",
       "        vertical-align: middle;\n",
       "    }\n",
       "\n",
       "    .dataframe tbody tr th {\n",
       "        vertical-align: top;\n",
       "    }\n",
       "\n",
       "    .dataframe thead th {\n",
       "        text-align: right;\n",
       "    }\n",
       "</style>\n",
       "<table border=\"1\" class=\"dataframe\">\n",
       "  <thead>\n",
       "    <tr style=\"text-align: right;\">\n",
       "      <th></th>\n",
       "      <th>Alfa Romeo</th>\n",
       "    </tr>\n",
       "  </thead>\n",
       "  <tbody>\n",
       "    <tr>\n",
       "      <th>0</th>\n",
       "      <td>0</td>\n",
       "    </tr>\n",
       "    <tr>\n",
       "      <th>1</th>\n",
       "      <td>0</td>\n",
       "    </tr>\n",
       "    <tr>\n",
       "      <th>2</th>\n",
       "      <td>0</td>\n",
       "    </tr>\n",
       "    <tr>\n",
       "      <th>3</th>\n",
       "      <td>1</td>\n",
       "    </tr>\n",
       "    <tr>\n",
       "      <th>4</th>\n",
       "      <td>1</td>\n",
       "    </tr>\n",
       "  </tbody>\n",
       "</table>\n",
       "</div>"
      ],
      "text/plain": [
       "   Alfa Romeo\n",
       "0           0\n",
       "1           0\n",
       "2           0\n",
       "3           1\n",
       "4           1"
      ]
     },
     "metadata": {},
     "output_type": "display_data"
    }
   ],
   "source": [
    "column_make = car_df['Make'].head(5)\n",
    "display(column_make)\n",
    "display(pd.get_dummies(column_make, drop_first=False))\n",
    "display(pd.get_dummies(column_make, drop_first=True))"
   ]
  },
  {
   "cell_type": "code",
   "execution_count": 41,
   "id": "9680ad32",
   "metadata": {},
   "outputs": [
    {
     "data": {
      "text/html": [
       "<div>\n",
       "<style scoped>\n",
       "    .dataframe tbody tr th:only-of-type {\n",
       "        vertical-align: middle;\n",
       "    }\n",
       "\n",
       "    .dataframe tbody tr th {\n",
       "        vertical-align: top;\n",
       "    }\n",
       "\n",
       "    .dataframe thead th {\n",
       "        text-align: right;\n",
       "    }\n",
       "</style>\n",
       "<table border=\"1\" class=\"dataframe\">\n",
       "  <thead>\n",
       "    <tr style=\"text-align: right;\">\n",
       "      <th></th>\n",
       "      <th>Year</th>\n",
       "      <th>Make</th>\n",
       "      <th>Model</th>\n",
       "      <th>Price</th>\n",
       "    </tr>\n",
       "  </thead>\n",
       "  <tbody>\n",
       "    <tr>\n",
       "      <th>0</th>\n",
       "      <td>2021</td>\n",
       "      <td>Acura</td>\n",
       "      <td>ILX</td>\n",
       "      <td>NaN</td>\n",
       "    </tr>\n",
       "    <tr>\n",
       "      <th>1</th>\n",
       "      <td>2021</td>\n",
       "      <td>Acura</td>\n",
       "      <td>RDX</td>\n",
       "      <td>NaN</td>\n",
       "    </tr>\n",
       "    <tr>\n",
       "      <th>2</th>\n",
       "      <td>2021</td>\n",
       "      <td>Acura</td>\n",
       "      <td>TLX</td>\n",
       "      <td>37500.0</td>\n",
       "    </tr>\n",
       "    <tr>\n",
       "      <th>3</th>\n",
       "      <td>2021</td>\n",
       "      <td>Alfa Romeo</td>\n",
       "      <td>Giulia</td>\n",
       "      <td>40350.0</td>\n",
       "    </tr>\n",
       "    <tr>\n",
       "      <th>4</th>\n",
       "      <td>2021</td>\n",
       "      <td>Alfa Romeo</td>\n",
       "      <td>Stelvio</td>\n",
       "      <td>42350.0</td>\n",
       "    </tr>\n",
       "  </tbody>\n",
       "</table>\n",
       "</div>"
      ],
      "text/plain": [
       "   Year        Make    Model    Price\n",
       "0  2021       Acura      ILX      NaN\n",
       "1  2021       Acura      RDX      NaN\n",
       "2  2021       Acura      TLX  37500.0\n",
       "3  2021  Alfa Romeo   Giulia  40350.0\n",
       "4  2021  Alfa Romeo  Stelvio  42350.0"
      ]
     },
     "execution_count": 41,
     "metadata": {},
     "output_type": "execute_result"
    }
   ],
   "source": [
    "car_df.head()"
   ]
  },
  {
   "cell_type": "code",
   "execution_count": 42,
   "id": "1c589d9d",
   "metadata": {},
   "outputs": [],
   "source": [
    "year_str_column = car_df.astype({'Year': str})['Year']"
   ]
  },
  {
   "cell_type": "code",
   "execution_count": 43,
   "id": "2f711551",
   "metadata": {},
   "outputs": [
    {
     "data": {
      "text/plain": [
       "0    2021\n",
       "1    2021\n",
       "2    2021\n",
       "3    2021\n",
       "4    2021\n",
       "Name: Year, dtype: object"
      ]
     },
     "execution_count": 43,
     "metadata": {},
     "output_type": "execute_result"
    }
   ],
   "source": [
    "year_str_column.head()"
   ]
  },
  {
   "cell_type": "code",
   "execution_count": 44,
   "id": "7a7a3f7d",
   "metadata": {},
   "outputs": [
    {
     "data": {
      "text/plain": [
       "str"
      ]
     },
     "metadata": {},
     "output_type": "display_data"
    },
    {
     "data": {
      "text/plain": [
       "numpy.int64"
      ]
     },
     "metadata": {},
     "output_type": "display_data"
    }
   ],
   "source": [
    "display(type(year_str_column[0])) # data frame after `astype`\n",
    "display(type(car_df['Year'][0])) # origin data frame"
   ]
  },
  {
   "cell_type": "markdown",
   "id": "fe10276d",
   "metadata": {},
   "source": [
    "## Page19: *Data Tranformation\n",
    "\n",
    "\n",
    "* The `StandardScaler` assumes your data is normally distributed within each feature and will scale them such that the distribution is now centred around 0, with a standard deviation of 1. `z = (x - u) / s, u: mean, s: standard deviation.` **If data is not normally distributed, this is not the best scaler to use.**\n",
    "\n",
    "![](./images/StandardScaler.png)\n",
    "* The `Normalizer` scales each value by dividing each value by its magnitude in n-dimensional space for n number of features. Each sample is rescaled independently of other samples so that its **norm (l1, l2 or inf) equals one**.\n",
    "For l2 norm, [1, 2, 3] => [1/sqrt(1\\*1 + 2\\*2 + 3\\*3), ...]\n",
    "\n",
    "![](./images/Normalizer.png)"
   ]
  },
  {
   "cell_type": "code",
   "execution_count": 45,
   "id": "2382e352",
   "metadata": {},
   "outputs": [
    {
     "name": "stdout",
     "output_type": "stream",
     "text": [
      "[1.66666667 2.66666667 5.33333333]\n",
      "[1.24721913 0.47140452 1.88561808]\n"
     ]
    },
    {
     "data": {
      "text/plain": [
       "array([[-1.33630621, -1.41421356,  1.41421356],\n",
       "       [ 0.26726124,  0.70710678, -0.70710678],\n",
       "       [ 1.06904497,  0.70710678, -0.70710678]])"
      ]
     },
     "execution_count": 45,
     "metadata": {},
     "output_type": "execute_result"
    }
   ],
   "source": [
    "from sklearn.preprocessing import Normalizer, StandardScaler\n",
    "\n",
    "X = np.array([[0, 2, 8], \n",
    "              [2, 3, 4],\n",
    "              [3, 3, 4]],)\n",
    "print(np.mean(X, axis=0))\n",
    "print(np.std(X, axis=0))\n",
    "\n",
    "# works on **columns**\n",
    "# the first column [0,2,3] has mean=1.666 and population stdevP = 1.247\n",
    "# 0 becomes (0-1.666)/1.247 = -1.09\n",
    "# 2 becomes (2-1.666)/1.247 = 0.267\n",
    "scaler = preprocessing.StandardScaler()\n",
    "# the fit(X) function does nothing and return the estimator unchanged\n",
    "scaler.fit(X)\n",
    "scaler.transform(X)"
   ]
  },
  {
   "cell_type": "code",
   "execution_count": 46,
   "id": "ed77f9e2",
   "metadata": {},
   "outputs": [
    {
     "data": {
      "text/plain": [
       "array([[0.1, 0.2, 0.7],\n",
       "       [0.3, 0.3, 0.4]])"
      ]
     },
     "execution_count": 46,
     "metadata": {},
     "output_type": "execute_result"
    }
   ],
   "source": [
    "X = np.array([[1, 2, 7], \n",
    "              [3, 3, 4]])\n",
    "\n",
    "# [0,2,8] becomes [0/10, 2/10, 8/10]\n",
    "normalizer = preprocessing.Normalizer(norm='l1') \n",
    "normalizer.fit(X)\n",
    "normalizer.transform(X)"
   ]
  },
  {
   "cell_type": "markdown",
   "id": "87e7628d",
   "metadata": {},
   "source": [
    "## Page 20: Training and Testing Data"
   ]
  },
  {
   "cell_type": "code",
   "execution_count": 50,
   "id": "a5f71c27",
   "metadata": {},
   "outputs": [
    {
     "name": "stdout",
     "output_type": "stream",
     "text": [
      "car_df size: 960, train_df size: 720, test_df size: 240\n"
     ]
    }
   ],
   "source": [
    "train_df, test_df = train_test_split(car_df, train_size=0.75, test_size=0.25)\n",
    "print(f'car_df size: {car_df.size}, train_df size: {train_df.size}, test_df size: {test_df.size}')"
   ]
  },
  {
   "cell_type": "markdown",
   "id": "3eb128be",
   "metadata": {},
   "source": [
    "# Page 23: Activity"
   ]
  },
  {
   "cell_type": "code",
   "execution_count": 51,
   "id": "5008fb0d",
   "metadata": {},
   "outputs": [
    {
     "data": {
      "text/html": [
       "<div>\n",
       "<style scoped>\n",
       "    .dataframe tbody tr th:only-of-type {\n",
       "        vertical-align: middle;\n",
       "    }\n",
       "\n",
       "    .dataframe tbody tr th {\n",
       "        vertical-align: top;\n",
       "    }\n",
       "\n",
       "    .dataframe thead th {\n",
       "        text-align: right;\n",
       "    }\n",
       "</style>\n",
       "<table border=\"1\" class=\"dataframe\">\n",
       "  <thead>\n",
       "    <tr style=\"text-align: right;\">\n",
       "      <th></th>\n",
       "      <th>Year</th>\n",
       "      <th>Make</th>\n",
       "      <th>Category</th>\n",
       "    </tr>\n",
       "  </thead>\n",
       "  <tbody>\n",
       "    <tr>\n",
       "      <th>0</th>\n",
       "      <td>2021</td>\n",
       "      <td>Acura</td>\n",
       "      <td>Sedan</td>\n",
       "    </tr>\n",
       "    <tr>\n",
       "      <th>1</th>\n",
       "      <td>2021</td>\n",
       "      <td>Acura</td>\n",
       "      <td>SUV</td>\n",
       "    </tr>\n",
       "    <tr>\n",
       "      <th>2</th>\n",
       "      <td>2021</td>\n",
       "      <td>Acura</td>\n",
       "      <td>Sedan</td>\n",
       "    </tr>\n",
       "    <tr>\n",
       "      <th>3</th>\n",
       "      <td>2021</td>\n",
       "      <td>Alfa Romeo</td>\n",
       "      <td>Sedan</td>\n",
       "    </tr>\n",
       "    <tr>\n",
       "      <th>4</th>\n",
       "      <td>2021</td>\n",
       "      <td>Alfa Romeo</td>\n",
       "      <td>SUV</td>\n",
       "    </tr>\n",
       "  </tbody>\n",
       "</table>\n",
       "</div>"
      ],
      "text/plain": [
       "   Year        Make Category\n",
       "0  2021       Acura    Sedan\n",
       "1  2021       Acura      SUV\n",
       "2  2021       Acura    Sedan\n",
       "3  2021  Alfa Romeo    Sedan\n",
       "4  2021  Alfa Romeo      SUV"
      ]
     },
     "execution_count": 51,
     "metadata": {},
     "output_type": "execute_result"
    }
   ],
   "source": [
    "car = pd.read_csv('./car_model.csv', na_values='na_string', na_filter=True)## Page 23: Activity\n",
    "new_car_df = car.drop(columns=['Model'])\n",
    "new_car_df.head()"
   ]
  },
  {
   "cell_type": "code",
   "execution_count": 52,
   "id": "fdd83d7b",
   "metadata": {},
   "outputs": [
    {
     "name": "stdout",
     "output_type": "stream",
     "text": [
      "===\n",
      "{'Convertible,Sedan,Coupe': 'Convertible', 'Convertible,Coupe': 'Convertible', 'Coupe,Convertible': 'Coupe', 'Hatchback,Sedan': 'Hatchback', 'Wagon,Sedan': 'Wagon'}\n"
     ]
    }
   ],
   "source": [
    "#print(new_car_df['Category'])\n",
    "c_unique = new_car_df['Category'].unique()\n",
    "#print(c_unique)\n",
    "\n",
    "# we want to split the strings using the special character ','\n",
    "# then take the first element from this split\n",
    "# if the special character ',' exists in the column, catgeory\n",
    "\n",
    "# d is a new dictionary that stores data values in key:value pairs.\n",
    "d = {}\n",
    "\n",
    "for c in new_car_df['Category'].unique():\n",
    "# print(c)\n",
    " if ',' in c:\n",
    "# d has c as the key, and it has the first item before ',' as the value\n",
    "# example: key:value is 'Convertible,Sedan,Coupe': 'Convertible' respectively\n",
    "  d[c] = c.split(',')[0]\n",
    "\n",
    "print(\"===\")\n",
    "print(d)\n",
    "    \n",
    "# following is a one-line code that is hard to understand\n",
    "# d = {category: category.split(',')[0] for category in new_car_df['Category'].unique() if ',' in category}"
   ]
  },
  {
   "cell_type": "code",
   "execution_count": null,
   "id": "613122ef",
   "metadata": {},
   "outputs": [],
   "source": [
    "# verify that the command works\n",
    "# d is made up of two elements\n",
    "# the first element is before ':', it is the unique category found in new_car_df['Category'].unique()\n",
    "# the second element is after ':', it is the item extracted before ',' in the first element\n",
    "# note: single item 'Category' has no ',', hence not captured\n",
    "d"
   ]
  },
  {
   "cell_type": "code",
   "execution_count": 53,
   "id": "5a65468c",
   "metadata": {},
   "outputs": [
    {
     "data": {
      "text/plain": [
       "array(['Sedan', 'SUV', 'Wagon', 'Convertible,Sedan,Coupe', 'Hatchback',\n",
       "       'Coupe', 'Pickup', 'Convertible,Coupe', 'Van/Minivan',\n",
       "       'Coupe,Convertible', 'Hatchback,Sedan', 'Convertible',\n",
       "       'Wagon,Sedan'], dtype=object)"
      ]
     },
     "metadata": {},
     "output_type": "display_data"
    }
   ],
   "source": [
    "# show all unique entries in the column, Category\n",
    "display(new_car_df['Category'].unique())"
   ]
  },
  {
   "cell_type": "code",
   "execution_count": 54,
   "id": "4467ba61",
   "metadata": {},
   "outputs": [
    {
     "data": {
      "text/html": [
       "<div>\n",
       "<style scoped>\n",
       "    .dataframe tbody tr th:only-of-type {\n",
       "        vertical-align: middle;\n",
       "    }\n",
       "\n",
       "    .dataframe tbody tr th {\n",
       "        vertical-align: top;\n",
       "    }\n",
       "\n",
       "    .dataframe thead th {\n",
       "        text-align: right;\n",
       "    }\n",
       "</style>\n",
       "<table border=\"1\" class=\"dataframe\">\n",
       "  <thead>\n",
       "    <tr style=\"text-align: right;\">\n",
       "      <th></th>\n",
       "      <th>Year</th>\n",
       "      <th>Make</th>\n",
       "      <th>Category</th>\n",
       "    </tr>\n",
       "  </thead>\n",
       "  <tbody>\n",
       "    <tr>\n",
       "      <th>0</th>\n",
       "      <td>2021</td>\n",
       "      <td>Acura</td>\n",
       "      <td>Sedan</td>\n",
       "    </tr>\n",
       "    <tr>\n",
       "      <th>1</th>\n",
       "      <td>2021</td>\n",
       "      <td>Acura</td>\n",
       "      <td>SUV</td>\n",
       "    </tr>\n",
       "    <tr>\n",
       "      <th>2</th>\n",
       "      <td>2021</td>\n",
       "      <td>Acura</td>\n",
       "      <td>Sedan</td>\n",
       "    </tr>\n",
       "    <tr>\n",
       "      <th>3</th>\n",
       "      <td>2021</td>\n",
       "      <td>Alfa Romeo</td>\n",
       "      <td>Sedan</td>\n",
       "    </tr>\n",
       "    <tr>\n",
       "      <th>4</th>\n",
       "      <td>2021</td>\n",
       "      <td>Alfa Romeo</td>\n",
       "      <td>SUV</td>\n",
       "    </tr>\n",
       "    <tr>\n",
       "      <th>...</th>\n",
       "      <td>...</td>\n",
       "      <td>...</td>\n",
       "      <td>...</td>\n",
       "    </tr>\n",
       "    <tr>\n",
       "      <th>235</th>\n",
       "      <td>2021</td>\n",
       "      <td>Volvo</td>\n",
       "      <td>Wagon</td>\n",
       "    </tr>\n",
       "    <tr>\n",
       "      <th>236</th>\n",
       "      <td>2021</td>\n",
       "      <td>Volkswagen</td>\n",
       "      <td>SUV</td>\n",
       "    </tr>\n",
       "    <tr>\n",
       "      <th>237</th>\n",
       "      <td>2021</td>\n",
       "      <td>Volvo</td>\n",
       "      <td>SUV</td>\n",
       "    </tr>\n",
       "    <tr>\n",
       "      <th>238</th>\n",
       "      <td>2021</td>\n",
       "      <td>Volvo</td>\n",
       "      <td>SUV</td>\n",
       "    </tr>\n",
       "    <tr>\n",
       "      <th>239</th>\n",
       "      <td>2021</td>\n",
       "      <td>Volvo</td>\n",
       "      <td>SUV</td>\n",
       "    </tr>\n",
       "  </tbody>\n",
       "</table>\n",
       "<p>240 rows × 3 columns</p>\n",
       "</div>"
      ],
      "text/plain": [
       "     Year        Make Category\n",
       "0    2021       Acura    Sedan\n",
       "1    2021       Acura      SUV\n",
       "2    2021       Acura    Sedan\n",
       "3    2021  Alfa Romeo    Sedan\n",
       "4    2021  Alfa Romeo      SUV\n",
       "..    ...         ...      ...\n",
       "235  2021       Volvo    Wagon\n",
       "236  2021  Volkswagen      SUV\n",
       "237  2021       Volvo      SUV\n",
       "238  2021       Volvo      SUV\n",
       "239  2021       Volvo      SUV\n",
       "\n",
       "[240 rows x 3 columns]"
      ]
     },
     "execution_count": 54,
     "metadata": {},
     "output_type": "execute_result"
    }
   ],
   "source": [
    "# replace the entries of Category, using the dictionary d\n",
    "new_car_df['Category'].replace(to_replace=d, inplace=True)\n",
    "new_car_df"
   ]
  },
  {
   "cell_type": "code",
   "execution_count": 55,
   "id": "5d2d379f",
   "metadata": {},
   "outputs": [
    {
     "data": {
      "text/plain": [
       "array(['Sedan', 'SUV', 'Wagon', 'Convertible', 'Hatchback', 'Coupe',\n",
       "       'Pickup', 'Van/Minivan'], dtype=object)"
      ]
     },
     "metadata": {},
     "output_type": "display_data"
    }
   ],
   "source": [
    "# check that the replacement works, by looking at unique entries in Category\n",
    "display(new_car_df['Category'].unique())"
   ]
  },
  {
   "cell_type": "code",
   "execution_count": 56,
   "id": "43680ad9",
   "metadata": {},
   "outputs": [
    {
     "data": {
      "text/html": [
       "<div>\n",
       "<style scoped>\n",
       "    .dataframe tbody tr th:only-of-type {\n",
       "        vertical-align: middle;\n",
       "    }\n",
       "\n",
       "    .dataframe tbody tr th {\n",
       "        vertical-align: top;\n",
       "    }\n",
       "\n",
       "    .dataframe thead th {\n",
       "        text-align: right;\n",
       "    }\n",
       "</style>\n",
       "<table border=\"1\" class=\"dataframe\">\n",
       "  <thead>\n",
       "    <tr style=\"text-align: right;\">\n",
       "      <th></th>\n",
       "      <th>Year</th>\n",
       "      <th>Make</th>\n",
       "      <th>Category</th>\n",
       "    </tr>\n",
       "  </thead>\n",
       "  <tbody>\n",
       "    <tr>\n",
       "      <th>0</th>\n",
       "      <td>2021</td>\n",
       "      <td>Acura</td>\n",
       "      <td>Sedan</td>\n",
       "    </tr>\n",
       "    <tr>\n",
       "      <th>1</th>\n",
       "      <td>2021</td>\n",
       "      <td>Acura</td>\n",
       "      <td>SUV</td>\n",
       "    </tr>\n",
       "    <tr>\n",
       "      <th>2</th>\n",
       "      <td>2021</td>\n",
       "      <td>Acura</td>\n",
       "      <td>Sedan</td>\n",
       "    </tr>\n",
       "    <tr>\n",
       "      <th>3</th>\n",
       "      <td>2021</td>\n",
       "      <td>Alfa Romeo</td>\n",
       "      <td>Sedan</td>\n",
       "    </tr>\n",
       "    <tr>\n",
       "      <th>4</th>\n",
       "      <td>2021</td>\n",
       "      <td>Alfa Romeo</td>\n",
       "      <td>SUV</td>\n",
       "    </tr>\n",
       "    <tr>\n",
       "      <th>...</th>\n",
       "      <td>...</td>\n",
       "      <td>...</td>\n",
       "      <td>...</td>\n",
       "    </tr>\n",
       "    <tr>\n",
       "      <th>235</th>\n",
       "      <td>2021</td>\n",
       "      <td>Volvo</td>\n",
       "      <td>Wagon</td>\n",
       "    </tr>\n",
       "    <tr>\n",
       "      <th>236</th>\n",
       "      <td>2021</td>\n",
       "      <td>Volkswagen</td>\n",
       "      <td>SUV</td>\n",
       "    </tr>\n",
       "    <tr>\n",
       "      <th>237</th>\n",
       "      <td>2021</td>\n",
       "      <td>Volvo</td>\n",
       "      <td>SUV</td>\n",
       "    </tr>\n",
       "    <tr>\n",
       "      <th>238</th>\n",
       "      <td>2021</td>\n",
       "      <td>Volvo</td>\n",
       "      <td>SUV</td>\n",
       "    </tr>\n",
       "    <tr>\n",
       "      <th>239</th>\n",
       "      <td>2021</td>\n",
       "      <td>Volvo</td>\n",
       "      <td>SUV</td>\n",
       "    </tr>\n",
       "  </tbody>\n",
       "</table>\n",
       "<p>240 rows × 3 columns</p>\n",
       "</div>"
      ],
      "text/plain": [
       "     Year        Make Category\n",
       "0    2021       Acura    Sedan\n",
       "1    2021       Acura      SUV\n",
       "2    2021       Acura    Sedan\n",
       "3    2021  Alfa Romeo    Sedan\n",
       "4    2021  Alfa Romeo      SUV\n",
       "..    ...         ...      ...\n",
       "235  2021       Volvo    Wagon\n",
       "236  2021  Volkswagen      SUV\n",
       "237  2021       Volvo      SUV\n",
       "238  2021       Volvo      SUV\n",
       "239  2021       Volvo      SUV\n",
       "\n",
       "[240 rows x 3 columns]"
      ]
     },
     "execution_count": 56,
     "metadata": {},
     "output_type": "execute_result"
    }
   ],
   "source": [
    "new_car_df"
   ]
  },
  {
   "cell_type": "code",
   "execution_count": 57,
   "id": "27d091c0",
   "metadata": {},
   "outputs": [],
   "source": [
    "# split into a training dataframe, and a testing dataframe with a 70%-30% split\n",
    "train_df, test_df = train_test_split(new_car_df, train_size=0.7, random_state = 10)"
   ]
  },
  {
   "cell_type": "code",
   "execution_count": 59,
   "id": "f7ce1e2d",
   "metadata": {},
   "outputs": [
    {
     "name": "stdout",
     "output_type": "stream",
     "text": [
      "car_df size: 720, train_df size: 504, test_df size: 216\n"
     ]
    }
   ],
   "source": [
    "# we need training and testing dataframe to see if ML method learns the true relationship\n",
    "# by definition, testing dataframe not used in the training process\n",
    "print(f'car_df size: {new_car_df.size}, train_df size: {train_df.size}, test_df size: {test_df.size}')"
   ]
  },
  {
   "cell_type": "code",
   "execution_count": null,
   "id": "c2554dbb",
   "metadata": {},
   "outputs": [],
   "source": []
  }
 ],
 "metadata": {
  "kernelspec": {
   "display_name": "Python 3 (ipykernel)",
   "language": "python",
   "name": "python3"
  },
  "language_info": {
   "codemirror_mode": {
    "name": "ipython",
    "version": 3
   },
   "file_extension": ".py",
   "mimetype": "text/x-python",
   "name": "python",
   "nbconvert_exporter": "python",
   "pygments_lexer": "ipython3",
   "version": "3.8.13"
  }
 },
 "nbformat": 4,
 "nbformat_minor": 5
}
