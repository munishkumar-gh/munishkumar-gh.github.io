{
 "cells": [
  {
   "cell_type": "markdown",
   "id": "38ca9684",
   "metadata": {},
   "source": [
    "## The following is an example of a function"
   ]
  },
  {
   "cell_type": "markdown",
   "id": "f1ff2ab8",
   "metadata": {},
   "source": [
    "### We will be evaluating the root of a number and raise the same number to a power of the users choice"
   ]
  },
  {
   "cell_type": "code",
   "execution_count": 2,
   "id": "2e8dc7d4",
   "metadata": {},
   "outputs": [],
   "source": [
    "# Function to determine root\n",
    "def get_root(use_num, root_num):\n",
    "    root = use_num**(1/root_num)\n",
    "    return root"
   ]
  },
  {
   "cell_type": "code",
   "execution_count": 4,
   "id": "8647185c",
   "metadata": {},
   "outputs": [],
   "source": [
    "# Function to raise power\n",
    "def raise_root(use_num, root_num):\n",
    "    root2 = use_num**(root_num)\n",
    "    return root2"
   ]
  },
  {
   "cell_type": "code",
   "execution_count": 10,
   "id": "44fd1432",
   "metadata": {},
   "outputs": [
    {
     "name": "stdout",
     "output_type": "stream",
     "text": [
      "Inputs - Number = 20, Power = 4\n",
      "Root - 2.114742526881128\n",
      "Raise - 160000\n"
     ]
    }
   ],
   "source": [
    "x = 20\n",
    "y = 4\n",
    "\n",
    "print(f\"Inputs - Number = {x}, Power = {y}\")\n",
    "print(f\"Root - {get_root(x, y)}\")\n",
    "print(f\"Raise - {raise_root(x, y)}\")"
   ]
  },
  {
   "cell_type": "code",
   "execution_count": null,
   "id": "abea2ab8",
   "metadata": {},
   "outputs": [],
   "source": []
  }
 ],
 "metadata": {
  "kernelspec": {
   "display_name": "Python 3 (ipykernel)",
   "language": "python",
   "name": "python3"
  },
  "language_info": {
   "codemirror_mode": {
    "name": "ipython",
    "version": 3
   },
   "file_extension": ".py",
   "mimetype": "text/x-python",
   "name": "python",
   "nbconvert_exporter": "python",
   "pygments_lexer": "ipython3",
   "version": "3.9.12"
  }
 },
 "nbformat": 4,
 "nbformat_minor": 5
}
