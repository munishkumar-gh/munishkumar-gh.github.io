{
 "cells": [
  {
   "cell_type": "markdown",
   "id": "0b9306d6",
   "metadata": {},
   "source": [
    "## Learn about concating Tuples and Lists"
   ]
  },
  {
   "cell_type": "code",
   "execution_count": 1,
   "id": "81a5cd3d",
   "metadata": {},
   "outputs": [],
   "source": [
    "a = [1, 2, 3]\n",
    "b = ['a', 'b', 'c']"
   ]
  },
  {
   "cell_type": "code",
   "execution_count": 2,
   "id": "d42d74de",
   "metadata": {},
   "outputs": [
    {
     "name": "stdout",
     "output_type": "stream",
     "text": [
      "[1, 2, 3, 4]\n"
     ]
    }
   ],
   "source": [
    "add_a = 4\n",
    "list_new = a + [add_a]\n",
    "print(list_new)"
   ]
  },
  {
   "cell_type": "code",
   "execution_count": 3,
   "id": "da66b313",
   "metadata": {},
   "outputs": [
    {
     "name": "stdout",
     "output_type": "stream",
     "text": [
      "[1, 2, 3, 4]\n"
     ]
    }
   ],
   "source": [
    "add_a = [4]\n",
    "\n",
    "list_new = a + add_a\n",
    "print(list_new)"
   ]
  },
  {
   "cell_type": "code",
   "execution_count": 4,
   "id": "52bdcb7d",
   "metadata": {},
   "outputs": [
    {
     "name": "stdout",
     "output_type": "stream",
     "text": [
      "['a', 'b', 'c', 'a', 'b', 'c']\n"
     ]
    }
   ],
   "source": [
    "b = ['a', 'b', 'c']\n",
    "list_a = b + b\n",
    "print(list_a)"
   ]
  },
  {
   "cell_type": "code",
   "execution_count": 5,
   "id": "8b0fe4ee",
   "metadata": {},
   "outputs": [
    {
     "name": "stdout",
     "output_type": "stream",
     "text": [
      "['a', 'b', 'c', 'd']\n"
     ]
    }
   ],
   "source": [
    "b_new = 'd'\n",
    "\n",
    "list_a = b + [b_new]\n",
    "print(list_a)"
   ]
  },
  {
   "cell_type": "markdown",
   "id": "b298e328",
   "metadata": {},
   "source": [
    "### This is a tuple"
   ]
  },
  {
   "cell_type": "code",
   "execution_count": 6,
   "id": "d766a270",
   "metadata": {},
   "outputs": [],
   "source": [
    "tup_num1 = (1, 2, 3)\n",
    "tup_alp1 = ('a', 'b', 'c')"
   ]
  },
  {
   "cell_type": "code",
   "execution_count": 7,
   "id": "324bc545",
   "metadata": {},
   "outputs": [],
   "source": [
    "tup_num2 = 4\n",
    "tup_alp2 = 'd'"
   ]
  },
  {
   "cell_type": "code",
   "execution_count": 8,
   "id": "f20b9ecf",
   "metadata": {},
   "outputs": [
    {
     "name": "stdout",
     "output_type": "stream",
     "text": [
      "(1, 2, 3, 4)\n"
     ]
    }
   ],
   "source": [
    "tup3 = tup_num1 + (tup_num2,)\n",
    "print(tup3)"
   ]
  },
  {
   "cell_type": "code",
   "execution_count": 9,
   "id": "2f14f9c2",
   "metadata": {},
   "outputs": [
    {
     "name": "stdout",
     "output_type": "stream",
     "text": [
      "('a', 'b', 'c', 'd')\n"
     ]
    }
   ],
   "source": [
    "tup4 = tup_alp1 + (tup_alp2,)\n",
    "print(tup4)"
   ]
  },
  {
   "cell_type": "markdown",
   "id": "39a32d4b",
   "metadata": {},
   "source": [
    "### Dictionary"
   ]
  },
  {
   "cell_type": "code",
   "execution_count": 10,
   "id": "6b5207f9",
   "metadata": {},
   "outputs": [],
   "source": [
    "my_dict = {\"Rome\": 1000, \"Singapore\": 2, \"India\": 17}"
   ]
  },
  {
   "cell_type": "code",
   "execution_count": 11,
   "id": "7306e2bd",
   "metadata": {},
   "outputs": [
    {
     "data": {
      "text/plain": [
       "{'Rome': 1000, 'Singapore': 2, 'India': 17}"
      ]
     },
     "execution_count": 11,
     "metadata": {},
     "output_type": "execute_result"
    }
   ],
   "source": [
    "my_dict"
   ]
  },
  {
   "cell_type": "code",
   "execution_count": 12,
   "id": "08fb0e1c",
   "metadata": {},
   "outputs": [
    {
     "data": {
      "text/plain": [
       "1000"
      ]
     },
     "execution_count": 12,
     "metadata": {},
     "output_type": "execute_result"
    }
   ],
   "source": [
    "my_dict[\"Rome\"]"
   ]
  },
  {
   "cell_type": "code",
   "execution_count": 13,
   "id": "ca171f4f",
   "metadata": {},
   "outputs": [
    {
     "data": {
      "text/plain": [
       "dict_keys(['Rome', 'Singapore', 'India'])"
      ]
     },
     "execution_count": 13,
     "metadata": {},
     "output_type": "execute_result"
    }
   ],
   "source": [
    "my_dict.keys()"
   ]
  },
  {
   "cell_type": "code",
   "execution_count": 14,
   "id": "9a6cd6e3",
   "metadata": {},
   "outputs": [
    {
     "data": {
      "text/plain": [
       "dict_values([1000, 2, 17])"
      ]
     },
     "execution_count": 14,
     "metadata": {},
     "output_type": "execute_result"
    }
   ],
   "source": [
    "my_dict.values()"
   ]
  },
  {
   "cell_type": "code",
   "execution_count": 15,
   "id": "0b63f4d6",
   "metadata": {},
   "outputs": [
    {
     "data": {
      "text/plain": [
       "dict_items([('Rome', 1000), ('Singapore', 2), ('India', 17)])"
      ]
     },
     "execution_count": 15,
     "metadata": {},
     "output_type": "execute_result"
    }
   ],
   "source": [
    "my_dict.items()"
   ]
  },
  {
   "cell_type": "code",
   "execution_count": 16,
   "id": "eea5a84a",
   "metadata": {},
   "outputs": [],
   "source": [
    "my_dict2 = {\"Rome\": [1000, 2000], \"Singapore\": 2, \"India\": 17}"
   ]
  },
  {
   "cell_type": "code",
   "execution_count": 17,
   "id": "8b308274",
   "metadata": {},
   "outputs": [
    {
     "data": {
      "text/plain": [
       "{'Rome': [1000, 2000], 'Singapore': 2, 'India': 17}"
      ]
     },
     "execution_count": 17,
     "metadata": {},
     "output_type": "execute_result"
    }
   ],
   "source": [
    "my_dict2"
   ]
  },
  {
   "cell_type": "code",
   "execution_count": 18,
   "id": "b6605aa8",
   "metadata": {},
   "outputs": [
    {
     "data": {
      "text/plain": [
       "[1000, 2000]"
      ]
     },
     "execution_count": 18,
     "metadata": {},
     "output_type": "execute_result"
    }
   ],
   "source": [
    "my_dict2[\"Rome\"]"
   ]
  },
  {
   "cell_type": "code",
   "execution_count": 19,
   "id": "fb0841da",
   "metadata": {},
   "outputs": [],
   "source": [
    "my_dict['Rome'] = 5000"
   ]
  },
  {
   "cell_type": "code",
   "execution_count": 20,
   "id": "40299fad",
   "metadata": {},
   "outputs": [
    {
     "data": {
      "text/plain": [
       "{'Rome': 5000, 'Singapore': 2, 'India': 17}"
      ]
     },
     "execution_count": 20,
     "metadata": {},
     "output_type": "execute_result"
    }
   ],
   "source": [
    "my_dict"
   ]
  }
 ],
 "metadata": {
  "kernelspec": {
   "display_name": "Python 3 (ipykernel)",
   "language": "python",
   "name": "python3"
  },
  "language_info": {
   "codemirror_mode": {
    "name": "ipython",
    "version": 3
   },
   "file_extension": ".py",
   "mimetype": "text/x-python",
   "name": "python",
   "nbconvert_exporter": "python",
   "pygments_lexer": "ipython3",
   "version": "3.9.12"
  }
 },
 "nbformat": 4,
 "nbformat_minor": 5
}
