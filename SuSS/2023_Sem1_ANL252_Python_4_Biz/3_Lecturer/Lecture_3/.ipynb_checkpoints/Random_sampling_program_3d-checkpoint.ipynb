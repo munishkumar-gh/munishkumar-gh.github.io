{
 "cells": [
  {
   "cell_type": "markdown",
   "id": "3f51a719",
   "metadata": {},
   "source": [
    "# Random sampling program:\n",
    "\n",
    "##### The following array contains the 0.01 to 0.99 quantiles of the standard normal distribution:\n",
    "(-2.33, -2.06, -1.88, -1.75, -1.65, -1.56, -1.48, -1.41, -1.35, -1.29, -1.23, -1.18, -1.13, \n",
    "-1.09, -1.04, -1.00, -0.96, -0.92, -0.88, -0.85, -0.81, -0.78, -0.75, -0.71, -0.68, -0.65, \n",
    "-0.62, -0.59, -0.56, -0.53, -0.50, -0.48, -0.45, -0.42, -0.39, -0.37, -0.34, -0.32, -0.29, \n",
    "-0.26, -0.24, -0.21, -0.19, -0.16, -0.14, -0.11, -0.09, -0.06, -0.04, -0.01, 0.01, 0.04, 0.06, \n",
    "0.09, 0.11, 0.14, 0.16, 0.19, 0.21, 0.24, 0.26, 0.29, 0.32, 0.34, 0.37, 0.39, 0.42, 0.45, \n",
    "0.48, 0.50, 0.53, 0.56, 0.59, 0.62, 0.65, 0.68, 0.71, 0.75, 0.78, 0.81, 0.85, 0.88, 0.92, \n",
    "0.96, 1.00, 1.04, 1.09, 1.13, 1.18, 1.23, 1.29, 1.35, 1.41, 1.48, 1.56, 1.65, 1.75, 1.88, \n",
    "2.06, 2.33)\n",
    "\n",
    "##### Generate a scatter plot with the quantiles of the standard normal distribution as the values of the x-axis and the drawn sample (after sorting in the ascending order) as the values of the y-axis.\n",
    "\n",
    "##### Draw a 45-degree red line to go through all the scatter plot."
   ]
  },
  {
   "cell_type": "code",
   "execution_count": 1,
   "id": "8a880bdf",
   "metadata": {},
   "outputs": [],
   "source": [
    "import pandas as pd\n",
    "import matplotlib.pyplot as plt\n",
    "import numpy as np"
   ]
  },
  {
   "cell_type": "markdown",
   "id": "9da5aa5b",
   "metadata": {},
   "source": [
    "#### So what is a quantile? Lets figure this out using some simple code"
   ]
  },
  {
   "cell_type": "code",
   "execution_count": 2,
   "id": "2e18d35b",
   "metadata": {
    "scrolled": true
   },
   "outputs": [
    {
     "data": {
      "text/html": [
       "<div>\n",
       "<style scoped>\n",
       "    .dataframe tbody tr th:only-of-type {\n",
       "        vertical-align: middle;\n",
       "    }\n",
       "\n",
       "    .dataframe tbody tr th {\n",
       "        vertical-align: top;\n",
       "    }\n",
       "\n",
       "    .dataframe thead th {\n",
       "        text-align: right;\n",
       "    }\n",
       "</style>\n",
       "<table border=\"1\" class=\"dataframe\">\n",
       "  <thead>\n",
       "    <tr style=\"text-align: right;\">\n",
       "      <th></th>\n",
       "      <th>a</th>\n",
       "      <th>b</th>\n",
       "    </tr>\n",
       "  </thead>\n",
       "  <tbody>\n",
       "    <tr>\n",
       "      <th>0</th>\n",
       "      <td>1</td>\n",
       "      <td>1</td>\n",
       "    </tr>\n",
       "    <tr>\n",
       "      <th>1</th>\n",
       "      <td>2</td>\n",
       "      <td>10</td>\n",
       "    </tr>\n",
       "    <tr>\n",
       "      <th>2</th>\n",
       "      <td>3</td>\n",
       "      <td>100</td>\n",
       "    </tr>\n",
       "    <tr>\n",
       "      <th>3</th>\n",
       "      <td>4</td>\n",
       "      <td>100</td>\n",
       "    </tr>\n",
       "  </tbody>\n",
       "</table>\n",
       "</div>"
      ],
      "text/plain": [
       "   a    b\n",
       "0  1    1\n",
       "1  2   10\n",
       "2  3  100\n",
       "3  4  100"
      ]
     },
     "execution_count": 2,
     "metadata": {},
     "output_type": "execute_result"
    }
   ],
   "source": [
    "df = pd.DataFrame(np.array([[1, 1], [2, 10], [3, 100], [4, 100]]),\n",
    "                  columns=['a', 'b'])\n",
    "df"
   ]
  },
  {
   "cell_type": "code",
   "execution_count": 3,
   "id": "3447969a",
   "metadata": {},
   "outputs": [
    {
     "data": {
      "text/plain": [
       "a     2.5\n",
       "b    55.0\n",
       "Name: 0.5, dtype: float64"
      ]
     },
     "execution_count": 3,
     "metadata": {},
     "output_type": "execute_result"
    }
   ],
   "source": [
    "df.quantile(q = .5)"
   ]
  },
  {
   "cell_type": "markdown",
   "id": "24f67db9",
   "metadata": {},
   "source": [
    "So this simple program tells us that quantiles are points in a distribution that relate to the rank order of values in that distribution. For a sample, you can find any quantile by sorting the sample. The middle value of the sorted sample (middle quantile, 50th percentile) is known as the median."
   ]
  },
  {
   "cell_type": "code",
   "execution_count": 4,
   "id": "cd23d6f2",
   "metadata": {},
   "outputs": [
    {
     "name": "stdout",
     "output_type": "stream",
     "text": [
      "This is the first dataframe:\n",
      "     Values\n",
      "0    -2.33\n",
      "1    -2.06\n",
      "2    -1.88\n",
      "3    -1.75\n",
      "4    -1.65\n",
      "..     ...\n",
      "95    1.65\n",
      "96    1.75\n",
      "97    1.88\n",
      "98    2.06\n",
      "99    2.33\n",
      "\n",
      "[100 rows x 1 columns]\n",
      "This is the second dataframe:\n",
      "     Values\n",
      "0    -2.33\n",
      "1    -2.06\n",
      "2    -1.88\n",
      "3    -1.75\n",
      "4    -1.65\n",
      "..     ...\n",
      "95    1.65\n",
      "96    1.75\n",
      "97    1.88\n",
      "98    2.06\n",
      "99    2.33\n",
      "\n",
      "[100 rows x 1 columns]\n"
     ]
    }
   ],
   "source": [
    "lst = [-2.33, -2.06, -1.88, -1.75, -1.65, -1.56, -1.48, -1.41, -1.35, -1.29, -1.23, -1.18, -1.13, \n",
    "-1.09, -1.04, -1.00, -0.96, -0.92, -0.88, -0.85, -0.81, -0.78, -0.75, -0.71, -0.68, -0.65, \n",
    "-0.62, -0.59, -0.56, -0.53, -0.50, -0.48, -0.45, -0.42, -0.39, -0.37, -0.34, -0.32, -0.29, \n",
    "-0.26, -0.24, -0.21, -0.19, -0.16, -0.14, -0.11, -0.09, -0.06, -0.04, -0.01, 0.01, 0.04, 0.06, \n",
    "0.09, 0.11, 0.14, 0.16, 0.19, 0.21, 0.24, 0.26, 0.29, 0.32, 0.34, 0.37, 0.39, 0.42, 0.45, \n",
    "0.48, 0.50, 0.53, 0.56, 0.59, 0.62, 0.65, 0.68, 0.71, 0.75, 0.78, 0.81, 0.85, 0.88, 0.92, \n",
    "0.96, 1.00, 1.04, 1.09, 1.13, 1.18, 1.23, 1.29, 1.35, 1.41, 1.48, 1.56, 1.65, 1.75, 1.88, \n",
    "2.06, 2.33]\n",
    "\n",
    "df_1 = pd.DataFrame(lst)\n",
    "df_1 = df_1.rename(columns = {0:'Values'})\n",
    "df_2 = df_1.sort_values(by = ['Values'], axis = 0, ascending=True, inplace=False)\n",
    "print(f\"This is the first dataframe:\\n {df_1}\")\n",
    "print(f\"This is the second dataframe:\\n {df_2}\")"
   ]
  },
  {
   "cell_type": "code",
   "execution_count": 5,
   "id": "12c4090e",
   "metadata": {},
   "outputs": [
    {
     "name": "stdout",
     "output_type": "stream",
     "text": [
      "[0.85, 0.46, 0.38, 0.03, 0.62, 0.4, 0.34, 0.44, 0.25, 0.04, 0.93, 0.85, 0.18, 0.86, 0.45, 0.75, 0.16, 0.79, 0.16, 0.05]\n"
     ]
    }
   ],
   "source": [
    "# Randomly generate some quartiles from first dataframe\n",
    "\n",
    "import random\n",
    "my_randoms=[]\n",
    "for i in range (20):\n",
    "    my_randoms.append(random.randrange(0, 100, 1))\n",
    "#print (my_randoms)\n",
    "\n",
    "myInt = 100\n",
    "newList = [x / myInt for x in my_randoms]\n",
    "print (newList)"
   ]
  },
  {
   "cell_type": "code",
   "execution_count": 6,
   "id": "c25da254",
   "metadata": {},
   "outputs": [
    {
     "data": {
      "text/html": [
       "<div>\n",
       "<style scoped>\n",
       "    .dataframe tbody tr th:only-of-type {\n",
       "        vertical-align: middle;\n",
       "    }\n",
       "\n",
       "    .dataframe tbody tr th {\n",
       "        vertical-align: top;\n",
       "    }\n",
       "\n",
       "    .dataframe thead th {\n",
       "        text-align: right;\n",
       "    }\n",
       "</style>\n",
       "<table border=\"1\" class=\"dataframe\">\n",
       "  <thead>\n",
       "    <tr style=\"text-align: right;\">\n",
       "      <th></th>\n",
       "      <th>Values</th>\n",
       "    </tr>\n",
       "  </thead>\n",
       "  <tbody>\n",
       "    <tr>\n",
       "      <th>0.03</th>\n",
       "      <td>-1.7539</td>\n",
       "    </tr>\n",
       "    <tr>\n",
       "      <th>0.04</th>\n",
       "      <td>-1.6540</td>\n",
       "    </tr>\n",
       "    <tr>\n",
       "      <th>0.05</th>\n",
       "      <td>-1.5645</td>\n",
       "    </tr>\n",
       "    <tr>\n",
       "      <th>0.16</th>\n",
       "      <td>-0.9664</td>\n",
       "    </tr>\n",
       "    <tr>\n",
       "      <th>0.16</th>\n",
       "      <td>-0.9664</td>\n",
       "    </tr>\n",
       "    <tr>\n",
       "      <th>0.18</th>\n",
       "      <td>-0.8872</td>\n",
       "    </tr>\n",
       "    <tr>\n",
       "      <th>0.25</th>\n",
       "      <td>-0.6575</td>\n",
       "    </tr>\n",
       "    <tr>\n",
       "      <th>0.34</th>\n",
       "      <td>-0.4002</td>\n",
       "    </tr>\n",
       "    <tr>\n",
       "      <th>0.38</th>\n",
       "      <td>-0.3014</td>\n",
       "    </tr>\n",
       "    <tr>\n",
       "      <th>0.40</th>\n",
       "      <td>-0.2480</td>\n",
       "    </tr>\n",
       "    <tr>\n",
       "      <th>0.44</th>\n",
       "      <td>-0.1488</td>\n",
       "    </tr>\n",
       "    <tr>\n",
       "      <th>0.45</th>\n",
       "      <td>-0.1235</td>\n",
       "    </tr>\n",
       "    <tr>\n",
       "      <th>0.46</th>\n",
       "      <td>-0.0992</td>\n",
       "    </tr>\n",
       "    <tr>\n",
       "      <th>0.62</th>\n",
       "      <td>0.3014</td>\n",
       "    </tr>\n",
       "    <tr>\n",
       "      <th>0.75</th>\n",
       "      <td>0.6575</td>\n",
       "    </tr>\n",
       "    <tr>\n",
       "      <th>0.79</th>\n",
       "      <td>0.7863</td>\n",
       "    </tr>\n",
       "    <tr>\n",
       "      <th>0.85</th>\n",
       "      <td>1.0060</td>\n",
       "    </tr>\n",
       "    <tr>\n",
       "      <th>0.85</th>\n",
       "      <td>1.0060</td>\n",
       "    </tr>\n",
       "    <tr>\n",
       "      <th>0.86</th>\n",
       "      <td>1.0470</td>\n",
       "    </tr>\n",
       "    <tr>\n",
       "      <th>0.93</th>\n",
       "      <td>1.4149</td>\n",
       "    </tr>\n",
       "  </tbody>\n",
       "</table>\n",
       "</div>"
      ],
      "text/plain": [
       "      Values\n",
       "0.03 -1.7539\n",
       "0.04 -1.6540\n",
       "0.05 -1.5645\n",
       "0.16 -0.9664\n",
       "0.16 -0.9664\n",
       "0.18 -0.8872\n",
       "0.25 -0.6575\n",
       "0.34 -0.4002\n",
       "0.38 -0.3014\n",
       "0.40 -0.2480\n",
       "0.44 -0.1488\n",
       "0.45 -0.1235\n",
       "0.46 -0.0992\n",
       "0.62  0.3014\n",
       "0.75  0.6575\n",
       "0.79  0.7863\n",
       "0.85  1.0060\n",
       "0.85  1.0060\n",
       "0.86  1.0470\n",
       "0.93  1.4149"
      ]
     },
     "execution_count": 6,
     "metadata": {},
     "output_type": "execute_result"
    }
   ],
   "source": [
    "df_1_ele = df_1.quantile(q = newList)\n",
    "df_1_ele.sort_values(by = ['Values'], axis = 0, ascending=True)"
   ]
  },
  {
   "cell_type": "code",
   "execution_count": 7,
   "id": "dcef1331",
   "metadata": {},
   "outputs": [
    {
     "data": {
      "text/html": [
       "<div>\n",
       "<style scoped>\n",
       "    .dataframe tbody tr th:only-of-type {\n",
       "        vertical-align: middle;\n",
       "    }\n",
       "\n",
       "    .dataframe tbody tr th {\n",
       "        vertical-align: top;\n",
       "    }\n",
       "\n",
       "    .dataframe thead th {\n",
       "        text-align: right;\n",
       "    }\n",
       "</style>\n",
       "<table border=\"1\" class=\"dataframe\">\n",
       "  <thead>\n",
       "    <tr style=\"text-align: right;\">\n",
       "      <th></th>\n",
       "      <th>Values</th>\n",
       "    </tr>\n",
       "  </thead>\n",
       "  <tbody>\n",
       "    <tr>\n",
       "      <th>96</th>\n",
       "      <td>1.75</td>\n",
       "    </tr>\n",
       "    <tr>\n",
       "      <th>74</th>\n",
       "      <td>0.65</td>\n",
       "    </tr>\n",
       "    <tr>\n",
       "      <th>91</th>\n",
       "      <td>1.35</td>\n",
       "    </tr>\n",
       "    <tr>\n",
       "      <th>35</th>\n",
       "      <td>-0.37</td>\n",
       "    </tr>\n",
       "    <tr>\n",
       "      <th>40</th>\n",
       "      <td>-0.24</td>\n",
       "    </tr>\n",
       "    <tr>\n",
       "      <th>92</th>\n",
       "      <td>1.41</td>\n",
       "    </tr>\n",
       "    <tr>\n",
       "      <th>36</th>\n",
       "      <td>-0.34</td>\n",
       "    </tr>\n",
       "    <tr>\n",
       "      <th>47</th>\n",
       "      <td>-0.06</td>\n",
       "    </tr>\n",
       "    <tr>\n",
       "      <th>28</th>\n",
       "      <td>-0.56</td>\n",
       "    </tr>\n",
       "    <tr>\n",
       "      <th>21</th>\n",
       "      <td>-0.78</td>\n",
       "    </tr>\n",
       "    <tr>\n",
       "      <th>84</th>\n",
       "      <td>1.00</td>\n",
       "    </tr>\n",
       "    <tr>\n",
       "      <th>76</th>\n",
       "      <td>0.71</td>\n",
       "    </tr>\n",
       "    <tr>\n",
       "      <th>98</th>\n",
       "      <td>2.06</td>\n",
       "    </tr>\n",
       "    <tr>\n",
       "      <th>54</th>\n",
       "      <td>0.11</td>\n",
       "    </tr>\n",
       "    <tr>\n",
       "      <th>77</th>\n",
       "      <td>0.75</td>\n",
       "    </tr>\n",
       "    <tr>\n",
       "      <th>64</th>\n",
       "      <td>0.37</td>\n",
       "    </tr>\n",
       "    <tr>\n",
       "      <th>55</th>\n",
       "      <td>0.14</td>\n",
       "    </tr>\n",
       "    <tr>\n",
       "      <th>0</th>\n",
       "      <td>-2.33</td>\n",
       "    </tr>\n",
       "    <tr>\n",
       "      <th>13</th>\n",
       "      <td>-1.09</td>\n",
       "    </tr>\n",
       "    <tr>\n",
       "      <th>34</th>\n",
       "      <td>-0.39</td>\n",
       "    </tr>\n",
       "  </tbody>\n",
       "</table>\n",
       "</div>"
      ],
      "text/plain": [
       "    Values\n",
       "96    1.75\n",
       "74    0.65\n",
       "91    1.35\n",
       "35   -0.37\n",
       "40   -0.24\n",
       "92    1.41\n",
       "36   -0.34\n",
       "47   -0.06\n",
       "28   -0.56\n",
       "21   -0.78\n",
       "84    1.00\n",
       "76    0.71\n",
       "98    2.06\n",
       "54    0.11\n",
       "77    0.75\n",
       "64    0.37\n",
       "55    0.14\n",
       "0    -2.33\n",
       "13   -1.09\n",
       "34   -0.39"
      ]
     },
     "execution_count": 7,
     "metadata": {},
     "output_type": "execute_result"
    }
   ],
   "source": [
    "# Randomly sample 20 elements from second dataframe\n",
    "df_2_ele = df_2.sample(n=20)\n",
    "df_2_ele"
   ]
  },
  {
   "cell_type": "code",
   "execution_count": 8,
   "id": "b4dd1f85",
   "metadata": {},
   "outputs": [
    {
     "data": {
      "text/plain": [
       "(-3.05, 3.05)"
      ]
     },
     "execution_count": 8,
     "metadata": {},
     "output_type": "execute_result"
    },
    {
     "data": {
      "image/png": "[encoded data removed]",
      "text/plain": [
       "<Figure size 432x288 with 1 Axes>"
      ]
     },
     "metadata": {
      "needs_background": "light"
     },
     "output_type": "display_data"
    }
   ],
   "source": [
    "plt.scatter(df_1_ele, df_2_ele)\n",
    "plt.plot([-3, 3], [-3, 3], color = 'red', linewidth = 5)\n",
    "plt.xlim(-3.05, 3.05)\n",
    "plt.ylim(-3.05, 3.05)"
   ]
  }
 ],
 "metadata": {
  "kernelspec": {
   "display_name": "Python 3 (ipykernel)",
   "language": "python",
   "name": "python3"
  },
  "language_info": {
   "codemirror_mode": {
    "name": "ipython",
    "version": 3
   },
   "file_extension": ".py",
   "mimetype": "text/x-python",
   "name": "python",
   "nbconvert_exporter": "python",
   "pygments_lexer": "ipython3",
   "version": "3.9.12"
  }
 },
 "nbformat": 4,
 "nbformat_minor": 5
}
