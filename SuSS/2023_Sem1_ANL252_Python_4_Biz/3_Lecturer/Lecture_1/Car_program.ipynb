{
 "cells": [
  {
   "cell_type": "markdown",
   "id": "3fae0095",
   "metadata": {},
   "source": [
    "<a href=\"https://www.suss.edu.sg/\"> \n",
    "    <img src = \"https://library.suss.edu.sg/wp/wp-content/themes/suss/img/logo1.png\" width = 200>\n",
    "    <h1 align=center><font size = 5> ANL 252 Intro to Python </font></h1>"
   ]
  },
  {
   "cell_type": "markdown",
   "id": "4cdd95ca",
   "metadata": {},
   "source": [
    "### Program to input car parameters"
   ]
  },
  {
   "cell_type": "code",
   "execution_count": 1,
   "id": "8f1506be",
   "metadata": {},
   "outputs": [],
   "source": [
    "# Car sales program:\n",
    "# Create a program in which the user is asked to enter the brand, model and\n",
    "# selling price of a car. Print the information in one print() command\n",
    "# subsequently using formatting printing."
   ]
  },
  {
   "cell_type": "code",
   "execution_count": 2,
   "id": "2f065a66",
   "metadata": {},
   "outputs": [
    {
     "name": "stdout",
     "output_type": "stream",
     "text": [
      "Please Enter Car Brand:Toyota\n",
      "Please Enter Car Model:Harrier\n",
      "Please Enter Car Selling Price:$1000000\n"
     ]
    }
   ],
   "source": [
    "input_brand = str(input(\"Please Enter Car Brand:\"))\n",
    "input_model = str(input(\"Please Enter Car Model:\"))\n",
    "input_price = int(input(\"Please Enter Car Selling Price:$\"))"
   ]
  },
  {
   "cell_type": "code",
   "execution_count": 3,
   "id": "33f24889",
   "metadata": {},
   "outputs": [
    {
     "name": "stdout",
     "output_type": "stream",
     "text": [
      "--------------------\n",
      "Welcome to the program to print your car parameters\n"
     ]
    }
   ],
   "source": [
    "print(\"--------------------\")\n",
    "print(\"Welcome to the program to print your car parameters\")"
   ]
  },
  {
   "cell_type": "code",
   "execution_count": 5,
   "id": "7addd21c",
   "metadata": {},
   "outputs": [
    {
     "name": "stdout",
     "output_type": "stream",
     "text": [
      "The car Brand you have entered is Toyota\n",
      "The car Model you have entered is Harrier\n",
      "The car Price you have entered is 1000000\n"
     ]
    }
   ],
   "source": [
    "print(f\"The car Brand you have entered is {input_brand}\")\n",
    "print(f\"The car Model you have entered is {input_model}\")\n",
    "print(f\"The car Price you have entered is {input_price}\")"
   ]
  },
  {
   "cell_type": "code",
   "execution_count": 7,
   "id": "478a3c64",
   "metadata": {},
   "outputs": [
    {
     "name": "stdout",
     "output_type": "stream",
     "text": [
      "--------------------\n",
      "Here it is combined:\n",
      "The car you have entered is Toyota, Harrier, $1000000\n"
     ]
    }
   ],
   "source": [
    "print(\"--------------------\")\n",
    "print(\"Here it is combined:\")\n",
    "print(f\"The car you have entered is {input_brand}, {input_model}, ${input_price}\")"
   ]
  }
 ],
 "metadata": {
  "kernelspec": {
   "display_name": "Python 3 (ipykernel)",
   "language": "python",
   "name": "python3"
  },
  "language_info": {
   "codemirror_mode": {
    "name": "ipython",
    "version": 3
   },
   "file_extension": ".py",
   "mimetype": "text/x-python",
   "name": "python",
   "nbconvert_exporter": "python",
   "pygments_lexer": "ipython3",
   "version": "3.8.13"
  }
 },
 "nbformat": 4,
 "nbformat_minor": 5
}
