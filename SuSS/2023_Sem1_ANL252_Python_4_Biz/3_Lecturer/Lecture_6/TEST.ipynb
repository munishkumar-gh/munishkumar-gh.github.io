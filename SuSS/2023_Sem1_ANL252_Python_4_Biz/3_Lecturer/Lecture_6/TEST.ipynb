{
 "cells": [
  {
   "cell_type": "markdown",
   "id": "b9139da0",
   "metadata": {},
   "source": [
    "### Car sales program:\n",
    "#### Carry out the following tasks in JupyterLab:\n",
    "##### Modify the program created in Study Units 1 & 2 in a way that the user can enter the brand, model, buying price and satisfaction rate (1 = “totally dissatisfied”, …, 5 = “totally satisfied”) of the car he purchased.\n",
    "##### Save the input as “car_purchase” in a text file (preferably .csv file)."
   ]
  },
  {
   "cell_type": "code",
   "execution_count": 1,
   "id": "a125e4a2",
   "metadata": {},
   "outputs": [
    {
     "name": "stdout",
     "output_type": "stream",
     "text": [
      "Add a new car (yes / no):yes\n",
      "Please Enter Car Brand:Toyota\n",
      "Please Enter Car Model:Harrier\n",
      "Please Enter Car Buying Price:100000\n",
      "Please Enter Car Satisfaction from 1 to 5 (1 - least satisfied): 5\n",
      "You have entered is Toyota, Harrier, 100000, 5\n",
      "Add a new car (yes / no):no\n",
      "Goodbye!\n",
      "[{'Brand': 'Toyota', 'Model': 'Harrier', 'Price': 100000, 'Satisfaction': 5}]\n"
     ]
    }
   ],
   "source": [
    "import pandas as pd\n",
    "import numpy as np\n",
    "\n",
    "user_in = []\n",
    "\n",
    "valid_input = False\n",
    "while valid_input == False:\n",
    "    try:\n",
    "        add_car = str(input(\"Add a new car (yes / no):\"))\n",
    "        if add_car == \"yes\":\n",
    "            input_b = str(input(\"Please Enter Car Brand:\"))\n",
    "            input_m = str(input(\"Please Enter Car Model:\"))\n",
    "            input_p = int(input(\"Please Enter Car Buying Price:\"))\n",
    "            input_s = int(input(\"Please Enter Car Satisfaction from 1 to 5 (1 - least satisfied): \"))\n",
    "            print(f\"You have entered is {input_b}, {input_m}, {input_p}, {input_s}\")\n",
    "            \n",
    "            user_in.append({'Brand': input_b, 'Model': input_m, 'Price': input_p, 'Satisfaction':input_s})\n",
    "        \n",
    "        elif add_car == \"no\":\n",
    "            valid_input = True\n",
    "            print(f\"Goodbye!\")\n",
    "            break\n",
    "    \n",
    "    except ValueError:\n",
    "        print(f\"Your input is of the wrong type. Please try again\")\n",
    "        \n",
    "print(user_in)"
   ]
  },
  {
   "cell_type": "code",
   "execution_count": 4,
   "id": "f847db20",
   "metadata": {},
   "outputs": [],
   "source": [
    "headers = [\"Brand\", \"Model\", \"Price\", \"Satisfaction\"]\n",
    "df = pd.DataFrame(user_in, columns = headers)"
   ]
  },
  {
   "cell_type": "code",
   "execution_count": 6,
   "id": "0922f9df",
   "metadata": {},
   "outputs": [],
   "source": [
    "df.to_csv(\"car_purchase.csv\", index = False)"
   ]
  },
  {
   "cell_type": "code",
   "execution_count": 7,
   "id": "ad4eeccf",
   "metadata": {},
   "outputs": [],
   "source": [
    "# How to create a database"
   ]
  },
  {
   "cell_type": "code",
   "execution_count": 8,
   "id": "d0d5a8cb",
   "metadata": {},
   "outputs": [],
   "source": [
    "import sqlite3"
   ]
  },
  {
   "cell_type": "code",
   "execution_count": 10,
   "id": "dca8a0a8",
   "metadata": {},
   "outputs": [],
   "source": [
    "conn = sqlite3.connect(\"car_model.db\")\n",
    "cur = conn.cursor()"
   ]
  },
  {
   "cell_type": "code",
   "execution_count": 12,
   "id": "eb98422f",
   "metadata": {},
   "outputs": [
    {
     "data": {
      "text/plain": [
       "1"
      ]
     },
     "execution_count": 12,
     "metadata": {},
     "output_type": "execute_result"
    }
   ],
   "source": [
    "df.to_sql(\"df\", conn, if_exists = \"replace\", index = False)"
   ]
  },
  {
   "cell_type": "code",
   "execution_count": 13,
   "id": "e6361610",
   "metadata": {},
   "outputs": [],
   "source": [
    "# test our data base"
   ]
  },
  {
   "cell_type": "code",
   "execution_count": 14,
   "id": "14f6bb77",
   "metadata": {},
   "outputs": [
    {
     "data": {
      "text/plain": [
       "<sqlite3.Cursor at 0x27f55e5e490>"
      ]
     },
     "execution_count": 14,
     "metadata": {},
     "output_type": "execute_result"
    }
   ],
   "source": [
    "cur.execute(\"Select * from df;\")"
   ]
  },
  {
   "cell_type": "code",
   "execution_count": 15,
   "id": "8e45906d",
   "metadata": {},
   "outputs": [
    {
     "name": "stdout",
     "output_type": "stream",
     "text": [
      "[('Toyota', 'Harrier', 100000, 5)]\n"
     ]
    }
   ],
   "source": [
    "print(cur.fetchall())"
   ]
  },
  {
   "cell_type": "code",
   "execution_count": null,
   "id": "1266de27",
   "metadata": {},
   "outputs": [],
   "source": []
  },
  {
   "cell_type": "code",
   "execution_count": null,
   "id": "c6769645",
   "metadata": {},
   "outputs": [],
   "source": []
  },
  {
   "cell_type": "code",
   "execution_count": null,
   "id": "692a0933",
   "metadata": {},
   "outputs": [],
   "source": []
  },
  {
   "cell_type": "code",
   "execution_count": null,
   "id": "59d2617c",
   "metadata": {},
   "outputs": [],
   "source": []
  }
 ],
 "metadata": {
  "kernelspec": {
   "display_name": "Python 3 (ipykernel)",
   "language": "python",
   "name": "python3"
  },
  "language_info": {
   "codemirror_mode": {
    "name": "ipython",
    "version": 3
   },
   "file_extension": ".py",
   "mimetype": "text/x-python",
   "name": "python",
   "nbconvert_exporter": "python",
   "pygments_lexer": "ipython3",
   "version": "3.8.13"
  }
 },
 "nbformat": 4,
 "nbformat_minor": 5
}
