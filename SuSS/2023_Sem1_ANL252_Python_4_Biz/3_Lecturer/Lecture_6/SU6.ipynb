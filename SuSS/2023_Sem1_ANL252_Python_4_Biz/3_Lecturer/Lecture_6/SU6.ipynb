{
 "cells": [
  {
   "cell_type": "markdown",
   "metadata": {},
   "source": [
    "**<font color=blue size=5 face=ARIAL>SU6</font>**"
   ]
  },
  {
   "cell_type": "markdown",
   "metadata": {},
   "source": [
    "**<font color=green size=3 face=ARIAL> Introduction to SQL and SQLite3 </font>**"
   ]
  },
  {
   "cell_type": "code",
   "execution_count": 1,
   "metadata": {},
   "outputs": [],
   "source": [
    "# import all the packages\n",
    "import sqlite3\n",
    "import pandas as pd\n",
    "import csv"
   ]
  },
  {
   "cell_type": "code",
   "execution_count": 2,
   "metadata": {},
   "outputs": [],
   "source": [
    "# example of how to write CSV files\n",
    "with open(\"./imported_fruits.csv\", mode = \"w\") as csv_file:\n",
    "    fieldnames = [\"Fruits\", \"Prices\", \"Country\"]\n",
    "    writer = csv.DictWriter(csv_file, fieldnames= fieldnames)\n",
    "    writer.writeheader()\n",
    "    writer.writerow({\"Fruits\": \"Apple\", \"Prices\": \"1.20\", \"Country\": \"Russia\"})\n",
    "    writer.writerow({\"Fruits\": \"Banana\", \"Prices\": \"0.70\", \"Country\": \"Africa\"})\n",
    "    writer.writerow({\"Fruits\": \"Tomato\", \"Prices\": \"0.90\", \"Country\": \"Portugal\"})"
   ]
  },
  {
   "cell_type": "code",
   "execution_count": 3,
   "metadata": {},
   "outputs": [
    {
     "name": "stdout",
     "output_type": "stream",
     "text": [
      "Fruits,Prices,Country\n",
      "Apple,1.20,Russia\n",
      "Banana,0.70,Africa\n",
      "Tomato,0.90,Portugal\n",
      "\n"
     ]
    }
   ],
   "source": [
    "# check that we have written the CSV file correctly\n",
    "f = open(\"imported_fruits.csv\", 'r')\n",
    "content = f.read()\n",
    "print(content)"
   ]
  },
  {
   "cell_type": "code",
   "execution_count": 4,
   "metadata": {},
   "outputs": [],
   "source": [
    "# import the csv\n",
    "imported_fruits = pd.read_csv(\"imported_fruits.csv\")"
   ]
  },
  {
   "cell_type": "code",
   "execution_count": 5,
   "metadata": {},
   "outputs": [
    {
     "data": {
      "text/html": [
       "<div>\n",
       "<style scoped>\n",
       "    .dataframe tbody tr th:only-of-type {\n",
       "        vertical-align: middle;\n",
       "    }\n",
       "\n",
       "    .dataframe tbody tr th {\n",
       "        vertical-align: top;\n",
       "    }\n",
       "\n",
       "    .dataframe thead th {\n",
       "        text-align: right;\n",
       "    }\n",
       "</style>\n",
       "<table border=\"1\" class=\"dataframe\">\n",
       "  <thead>\n",
       "    <tr style=\"text-align: right;\">\n",
       "      <th></th>\n",
       "      <th>Fruits</th>\n",
       "      <th>Prices</th>\n",
       "      <th>Country</th>\n",
       "    </tr>\n",
       "  </thead>\n",
       "  <tbody>\n",
       "    <tr>\n",
       "      <th>0</th>\n",
       "      <td>Apple</td>\n",
       "      <td>1.2</td>\n",
       "      <td>Russia</td>\n",
       "    </tr>\n",
       "    <tr>\n",
       "      <th>1</th>\n",
       "      <td>Banana</td>\n",
       "      <td>0.7</td>\n",
       "      <td>Africa</td>\n",
       "    </tr>\n",
       "    <tr>\n",
       "      <th>2</th>\n",
       "      <td>Tomato</td>\n",
       "      <td>0.9</td>\n",
       "      <td>Portugal</td>\n",
       "    </tr>\n",
       "  </tbody>\n",
       "</table>\n",
       "</div>"
      ],
      "text/plain": [
       "   Fruits  Prices   Country\n",
       "0   Apple     1.2    Russia\n",
       "1  Banana     0.7    Africa\n",
       "2  Tomato     0.9  Portugal"
      ]
     },
     "execution_count": 5,
     "metadata": {},
     "output_type": "execute_result"
    }
   ],
   "source": [
    "imported_fruits"
   ]
  },
  {
   "cell_type": "code",
   "execution_count": 6,
   "metadata": {},
   "outputs": [],
   "source": [
    "# generate a connection; will be created if it doesnt exist\n",
    "conn = sqlite3.connect('imported_fruits.db')\n",
    "# generate a cursor object\n",
    "cur = conn.cursor()"
   ]
  },
  {
   "cell_type": "code",
   "execution_count": 7,
   "metadata": {},
   "outputs": [],
   "source": [
    "# export to sql database\n",
    "imported_fruits.to_sql(\"imported_fruits\", con = conn, if_exists='replace')"
   ]
  },
  {
   "cell_type": "code",
   "execution_count": 8,
   "metadata": {},
   "outputs": [
    {
     "data": {
      "text/plain": [
       "[(0, 'Apple', 1.2, 'Russia'),\n",
       " (1, 'Banana', 0.7, 'Africa'),\n",
       " (2, 'Tomato', 0.9, 'Portugal')]"
      ]
     },
     "execution_count": 8,
     "metadata": {},
     "output_type": "execute_result"
    }
   ],
   "source": [
    "# use cursor object to select all the entries\n",
    "cur.execute('select * from imported_fruits').fetchall()"
   ]
  },
  {
   "cell_type": "code",
   "execution_count": 9,
   "metadata": {},
   "outputs": [
    {
     "data": {
      "text/plain": [
       "(0, 'Apple', 1.2, 'Russia')"
      ]
     },
     "execution_count": 9,
     "metadata": {},
     "output_type": "execute_result"
    }
   ],
   "source": [
    "# use cursor object to select some entries\n",
    "cur.execute('select * from imported_fruits').fetchone()"
   ]
  },
  {
   "cell_type": "code",
   "execution_count": 10,
   "metadata": {},
   "outputs": [],
   "source": [
    "# commit/save the changes to the sql database\n",
    "conn.commit()\n",
    "# close the connection\n",
    "conn.close()"
   ]
  },
  {
   "cell_type": "markdown",
   "metadata": {},
   "source": [
    "**<font color=blue size=3 face=ARIAL> Activity 1 </font>**"
   ]
  },
  {
   "cell_type": "markdown",
   "metadata": {},
   "source": [
    "**<font color=blue size=2 face=ARIAL> database connection </font>**"
   ]
  },
  {
   "cell_type": "code",
   "execution_count": 11,
   "metadata": {},
   "outputs": [],
   "source": [
    "conn = sqlite3.connect('Activity1.db')\n",
    "c = conn.cursor()"
   ]
  },
  {
   "cell_type": "code",
   "execution_count": 12,
   "metadata": {},
   "outputs": [
    {
     "name": "stdout",
     "output_type": "stream",
     "text": [
      "What is the brand of your car? BMW\n",
      "What is the model of your car? A100\n",
      "What is the price of your car? 100000\n",
      "What is your level of satisfaction1\n",
      "Would you like to enter the information for another car? yes\n",
      "What is the brand of your car? Audi\n",
      "What is the model of your car? A6\n",
      "What is the price of your car? 200000\n",
      "What is your level of satisfaction5\n",
      "Would you like to enter the information for another car? no\n"
     ]
    }
   ],
   "source": [
    "brand = []\n",
    "model = []\n",
    "price = []\n",
    "satisfaction = []\n",
    "query = 'yes'\n",
    "while query == 'yes':\n",
    "    brand_inputs = input(\"What is the brand of your car? \")\n",
    "    model_inputs = input(\"What is the model of your car? \")\n",
    "    try:\n",
    "        price_inputs = int(input(\"What is the price of your car? \"))\n",
    "    except ValueError:\n",
    "        print(\"Your input is not numeric. Please try again.\")\n",
    "    satisfaction_inputs = input(\"What is your level of satisfaction\")\n",
    "    brand.append(brand_inputs)\n",
    "    model.append(model_inputs)\n",
    "    price.append(price_inputs)\n",
    "    satisfaction.append(satisfaction_inputs)\n",
    "    #this is where we ask the user if s/he wants to continue\n",
    "    query = input(\"Would you like to enter the information for another car? \")\n",
    "    while query.lower() not in (\"yes\",\"no\"):\n",
    "        query = input(\"Please enter yes or no only \")"
   ]
  },
  {
   "cell_type": "code",
   "execution_count": 13,
   "metadata": {},
   "outputs": [],
   "source": [
    "# zip all the inputs\n",
    "data = list(zip(brand,model,price,satisfaction))"
   ]
  },
  {
   "cell_type": "code",
   "execution_count": 14,
   "metadata": {},
   "outputs": [],
   "source": [
    "# convert into a pandas df and export to csv\n",
    "df = pd.DataFrame(data, columns = ['Brand', 'Model', 'Price', 'Satisfaction'])\n",
    "df.to_csv('car_purchase.csv')"
   ]
  },
  {
   "cell_type": "code",
   "execution_count": 15,
   "metadata": {},
   "outputs": [],
   "source": [
    "car_purchase = pd.read_csv(\"car_purchase.csv\")"
   ]
  },
  {
   "cell_type": "markdown",
   "metadata": {},
   "source": [
    "**<font color=blue size=2 face=ARIAL> save to database table </font>**"
   ]
  },
  {
   "cell_type": "code",
   "execution_count": 16,
   "metadata": {},
   "outputs": [
    {
     "name": "stderr",
     "output_type": "stream",
     "text": [
      "/Library/Frameworks/Python.framework/Versions/3.10/lib/python3.10/site-packages/pandas/core/generic.py:2872: UserWarning: The spaces in these column names will not be changed. In pandas versions < 0.14, spaces were converted to underscores.\n",
      "  sql.to_sql(\n"
     ]
    }
   ],
   "source": [
    "car_purchase.to_sql(\"car_purchase\", con=conn, if_exists='replace')"
   ]
  },
  {
   "cell_type": "code",
   "execution_count": 17,
   "metadata": {},
   "outputs": [
    {
     "data": {
      "text/plain": [
       "[(0, 0, 'BMW', 'A100', 100000, 1), (1, 1, 'Audi', 'A6', 200000, 5)]"
      ]
     },
     "execution_count": 17,
     "metadata": {},
     "output_type": "execute_result"
    }
   ],
   "source": [
    "c.execute('select * from car_purchase').fetchall()"
   ]
  },
  {
   "cell_type": "markdown",
   "metadata": {},
   "source": [
    "**<font color=blue size=2 face=ARIAL> save to database table </font>**"
   ]
  },
  {
   "cell_type": "code",
   "execution_count": 18,
   "metadata": {},
   "outputs": [],
   "source": [
    "car_model = pd.read_csv(\"./car_model.csv\")"
   ]
  },
  {
   "cell_type": "code",
   "execution_count": 19,
   "metadata": {},
   "outputs": [],
   "source": [
    "car_price = pd.read_csv(\"./car_price.csv\")"
   ]
  },
  {
   "cell_type": "code",
   "execution_count": 20,
   "metadata": {},
   "outputs": [],
   "source": [
    "car_model.to_sql(\"car_model\", con=conn, if_exists='replace')"
   ]
  },
  {
   "cell_type": "code",
   "execution_count": 21,
   "metadata": {},
   "outputs": [],
   "source": [
    "car_price.to_sql(\"car_price\", con=conn, if_exists='replace')"
   ]
  },
  {
   "cell_type": "markdown",
   "metadata": {},
   "source": [
    "**<font color=blue size=2 face=ARIAL> define SQL sentence </font>**"
   ]
  },
  {
   "cell_type": "code",
   "execution_count": 22,
   "metadata": {},
   "outputs": [],
   "source": [
    "sql_query = \"\"\"SELECT name FROM sqlite_master \n",
    "    WHERE type='table';\"\"\""
   ]
  },
  {
   "cell_type": "markdown",
   "metadata": {},
   "source": [
    "**<font color=blue size=3 face=ARIAL> Print all tables </font>**"
   ]
  },
  {
   "cell_type": "code",
   "execution_count": 23,
   "metadata": {},
   "outputs": [
    {
     "data": {
      "text/plain": [
       "<sqlite3.Cursor at 0x11250d0c0>"
      ]
     },
     "execution_count": 23,
     "metadata": {},
     "output_type": "execute_result"
    }
   ],
   "source": [
    "c.execute(sql_query)"
   ]
  },
  {
   "cell_type": "code",
   "execution_count": 24,
   "metadata": {},
   "outputs": [
    {
     "name": "stdout",
     "output_type": "stream",
     "text": [
      "[('car_purchase',), ('car_model',), ('car_price',)]\n"
     ]
    }
   ],
   "source": [
    "print(c.fetchall())"
   ]
  },
  {
   "cell_type": "markdown",
   "metadata": {},
   "source": [
    "**<font color=blue size=2 face=ARIAL> perform 1st selection </font>**"
   ]
  },
  {
   "cell_type": "code",
   "execution_count": 25,
   "metadata": {},
   "outputs": [],
   "source": [
    "sql_query = \"select * from car_price\""
   ]
  },
  {
   "cell_type": "code",
   "execution_count": 26,
   "metadata": {},
   "outputs": [
    {
     "data": {
      "text/plain": [
       "(0, 2021, 'Acura', 'ILX', None)"
      ]
     },
     "execution_count": 26,
     "metadata": {},
     "output_type": "execute_result"
    }
   ],
   "source": [
    "c.execute(sql_query).fetchone()"
   ]
  },
  {
   "cell_type": "code",
   "execution_count": 27,
   "metadata": {},
   "outputs": [
    {
     "data": {
      "text/plain": [
       "(0, 2021, 'Acura', 'ILX', None)"
      ]
     },
     "execution_count": 27,
     "metadata": {},
     "output_type": "execute_result"
    }
   ],
   "source": [
    "c.execute('select * from car_price').fetchone()"
   ]
  },
  {
   "cell_type": "code",
   "execution_count": 28,
   "metadata": {},
   "outputs": [
    {
     "data": {
      "text/plain": [
       "(0, 2021, 'Acura', 'ILX', 'Sedan')"
      ]
     },
     "execution_count": 28,
     "metadata": {},
     "output_type": "execute_result"
    }
   ],
   "source": [
    "c.execute('select * from car_model').fetchone()"
   ]
  },
  {
   "cell_type": "code",
   "execution_count": 29,
   "metadata": {},
   "outputs": [
    {
     "data": {
      "text/plain": [
       "[(0, 2021, 'Acura', 'ILX', 'Sedan'),\n",
       " (1, 2021, 'Acura', 'RDX', 'SUV'),\n",
       " (2, 2021, 'Acura', 'TLX', 'Sedan'),\n",
       " (3, 2021, 'Alfa Romeo', 'Giulia', 'Sedan'),\n",
       " (4, 2021, 'Alfa Romeo', 'Stelvio', 'SUV')]"
      ]
     },
     "execution_count": 29,
     "metadata": {},
     "output_type": "execute_result"
    }
   ],
   "source": [
    "c.execute('select * from car_model').fetchmany(5)"
   ]
  },
  {
   "cell_type": "markdown",
   "metadata": {},
   "source": [
    "**<font color=blue size=3 face=ARIAL> Data Selection </font>**"
   ]
  },
  {
   "cell_type": "code",
   "execution_count": 30,
   "metadata": {},
   "outputs": [
    {
     "data": {
      "text/plain": [
       "[(0, 2021, 'Acura', 'ILX', 'Sedan'),\n",
       " (1, 2021, 'Acura', 'RDX', 'SUV'),\n",
       " (2, 2021, 'Acura', 'TLX', 'Sedan'),\n",
       " (3, 2021, 'Alfa Romeo', 'Giulia', 'Sedan'),\n",
       " (4, 2021, 'Alfa Romeo', 'Stelvio', 'SUV')]"
      ]
     },
     "execution_count": 30,
     "metadata": {},
     "output_type": "execute_result"
    }
   ],
   "source": [
    "c.execute('select * from car_model').fetchmany(5)"
   ]
  },
  {
   "cell_type": "code",
   "execution_count": 31,
   "metadata": {},
   "outputs": [
    {
     "data": {
      "text/plain": [
       "[(0, 2021, 'Acura', 'ILX', 'Sedan'),\n",
       " (1, 2021, 'Acura', 'RDX', 'SUV'),\n",
       " (2, 2021, 'Acura', 'TLX', 'Sedan'),\n",
       " (3, 2021, 'Alfa Romeo', 'Giulia', 'Sedan'),\n",
       " (4, 2021, 'Alfa Romeo', 'Stelvio', 'SUV'),\n",
       " (5, 2021, 'Audi', 'A6 allroad', 'Wagon'),\n",
       " (6, 2021, 'Audi', 'A7', 'Sedan'),\n",
       " (7, 2021, 'Audi', 'Q3', 'SUV'),\n",
       " (8, 2021, 'Audi', 'Q5', 'SUV'),\n",
       " (9, 2021, 'Audi', 'Q8', 'SUV')]"
      ]
     },
     "execution_count": 31,
     "metadata": {},
     "output_type": "execute_result"
    }
   ],
   "source": [
    "c.execute(\"select * from car_model\").fetchmany(10)"
   ]
  },
  {
   "cell_type": "markdown",
   "metadata": {},
   "source": [
    "**<font color=green size=3 face=ARIAL> Data Query </font>**"
   ]
  },
  {
   "cell_type": "code",
   "execution_count": 32,
   "metadata": {},
   "outputs": [
    {
     "data": {
      "text/plain": [
       "(('index', None, None, None, None, None, None),\n",
       " ('Year', None, None, None, None, None, None),\n",
       " ('Make', None, None, None, None, None, None),\n",
       " ('Model', None, None, None, None, None, None),\n",
       " ('Category', None, None, None, None, None, None))"
      ]
     },
     "execution_count": 32,
     "metadata": {},
     "output_type": "execute_result"
    }
   ],
   "source": [
    "c.description"
   ]
  },
  {
   "cell_type": "code",
   "execution_count": 33,
   "metadata": {},
   "outputs": [
    {
     "data": {
      "text/plain": [
       "[(0, 2021, 'Acura', 'ILX', 'Sedan'),\n",
       " (1, 2021, 'Acura', 'RDX', 'SUV'),\n",
       " (2, 2021, 'Acura', 'TLX', 'Sedan'),\n",
       " (3, 2021, 'Alfa Romeo', 'Giulia', 'Sedan'),\n",
       " (4, 2021, 'Alfa Romeo', 'Stelvio', 'SUV'),\n",
       " (5, 2021, 'Audi', 'A6 allroad', 'Wagon'),\n",
       " (6, 2021, 'Audi', 'A7', 'Sedan'),\n",
       " (7, 2021, 'Audi', 'Q3', 'SUV'),\n",
       " (8, 2021, 'Audi', 'Q5', 'SUV'),\n",
       " (9, 2021, 'Audi', 'Q8', 'SUV')]"
      ]
     },
     "execution_count": 33,
     "metadata": {},
     "output_type": "execute_result"
    }
   ],
   "source": [
    "c.execute(\"select * from car_model WHERE Year = 2021\").fetchmany(10)"
   ]
  },
  {
   "cell_type": "code",
   "execution_count": 34,
   "metadata": {},
   "outputs": [
    {
     "data": {
      "text/plain": [
       "[(7, 2021, 'Audi', 'Q3', 'SUV')]"
      ]
     },
     "execution_count": 34,
     "metadata": {},
     "output_type": "execute_result"
    }
   ],
   "source": [
    "c.execute(\"select * from car_model WHERE Model = 'Q3'\").fetchmany(10)"
   ]
  },
  {
   "cell_type": "code",
   "execution_count": 35,
   "metadata": {},
   "outputs": [
    {
     "data": {
      "text/plain": [
       "[(0, 2021, 'Acura', 'ILX', 'Sedan'),\n",
       " (1, 2021, 'Acura', 'RDX', 'SUV'),\n",
       " (2, 2021, 'Acura', 'TLX', 'Sedan'),\n",
       " (3, 2021, 'Alfa Romeo', 'Giulia', 'Sedan'),\n",
       " (4, 2021, 'Alfa Romeo', 'Stelvio', 'SUV'),\n",
       " (5, 2021, 'Audi', 'A6 allroad', 'Wagon'),\n",
       " (6, 2021, 'Audi', 'A7', 'Sedan'),\n",
       " (7, 2021, 'Audi', 'Q3', 'SUV'),\n",
       " (8, 2021, 'Audi', 'Q5', 'SUV'),\n",
       " (9, 2021, 'Audi', 'Q8', 'SUV')]"
      ]
     },
     "execution_count": 35,
     "metadata": {},
     "output_type": "execute_result"
    }
   ],
   "source": [
    "c.execute(\"select * from car_model ORDER BY Make ASC\").fetchmany(10)"
   ]
  },
  {
   "cell_type": "code",
   "execution_count": 36,
   "metadata": {},
   "outputs": [
    {
     "data": {
      "text/plain": [
       "[(0, 2021, 'Acura', 'ILX', 'Sedan'),\n",
       " (1, 2021, 'Acura', 'RDX', 'SUV'),\n",
       " (2, 2021, 'Acura', 'TLX', 'Sedan'),\n",
       " (3, 2021, 'Alfa Romeo', 'Giulia', 'Sedan'),\n",
       " (4, 2021, 'Alfa Romeo', 'Stelvio', 'SUV'),\n",
       " (5, 2021, 'Audi', 'A6 allroad', 'Wagon'),\n",
       " (6, 2021, 'Audi', 'A7', 'Sedan'),\n",
       " (7, 2021, 'Audi', 'Q3', 'SUV'),\n",
       " (8, 2021, 'Audi', 'Q5', 'SUV'),\n",
       " (9, 2021, 'Audi', 'Q8', 'SUV')]"
      ]
     },
     "execution_count": 36,
     "metadata": {},
     "output_type": "execute_result"
    }
   ],
   "source": [
    "c.execute(\"select * from car_model WHERE Year <> 2020 ORDER BY Make ASC\").fetchmany(10)"
   ]
  },
  {
   "cell_type": "markdown",
   "metadata": {},
   "source": [
    "**<font color=blue size=3 face=ARIAL> Activity 2 </font>**"
   ]
  },
  {
   "cell_type": "code",
   "execution_count": 37,
   "metadata": {},
   "outputs": [
    {
     "data": {
      "text/plain": [
       "[(0, 2021, 'Acura', 'ILX', 'Sedan'),\n",
       " (1, 2021, 'Acura', 'RDX', 'SUV'),\n",
       " (2, 2021, 'Acura', 'TLX', 'Sedan'),\n",
       " (3, 2021, 'Alfa Romeo', 'Giulia', 'Sedan'),\n",
       " (4, 2021, 'Alfa Romeo', 'Stelvio', 'SUV'),\n",
       " (6, 2021, 'Audi', 'A7', 'Sedan'),\n",
       " (7, 2021, 'Audi', 'Q3', 'SUV'),\n",
       " (8, 2021, 'Audi', 'Q5', 'SUV'),\n",
       " (9, 2021, 'Audi', 'Q8', 'SUV'),\n",
       " (11, 2021, 'Audi', 'S6', 'Sedan')]"
      ]
     },
     "execution_count": 37,
     "metadata": {},
     "output_type": "execute_result"
    }
   ],
   "source": [
    "c.execute(\"select * from car_model WHERE Category = 'Sedan' or Category = 'SUV'\").fetchmany(10)"
   ]
  },
  {
   "cell_type": "code",
   "execution_count": 38,
   "metadata": {},
   "outputs": [
    {
     "data": {
      "text/plain": [
       "[(0, 2021, 'Acura', 'ILX', 'Sedan'),\n",
       " (1, 2021, 'Acura', 'RDX', 'SUV'),\n",
       " (2, 2021, 'Acura', 'TLX', 'Sedan'),\n",
       " (3, 2021, 'Alfa Romeo', 'Giulia', 'Sedan'),\n",
       " (4, 2021, 'Alfa Romeo', 'Stelvio', 'SUV'),\n",
       " (6, 2021, 'Audi', 'A7', 'Sedan'),\n",
       " (7, 2021, 'Audi', 'Q3', 'SUV'),\n",
       " (8, 2021, 'Audi', 'Q5', 'SUV'),\n",
       " (9, 2021, 'Audi', 'Q8', 'SUV'),\n",
       " (11, 2021, 'Audi', 'S6', 'Sedan')]"
      ]
     },
     "execution_count": 38,
     "metadata": {},
     "output_type": "execute_result"
    }
   ],
   "source": [
    "c.execute(\"select * from car_model WHERE Category in ('Sedan','SUV')\").fetchmany(10)"
   ]
  },
  {
   "cell_type": "code",
   "execution_count": 39,
   "metadata": {},
   "outputs": [
    {
     "data": {
      "text/plain": [
       "[(5, 2021, 'Audi', 'A6 allroad', 65900.0),\n",
       " (6, 2021, 'Audi', 'A7', 69200.0),\n",
       " (9, 2021, 'Audi', 'Q8', 68200.0),\n",
       " (10, 2021, 'Audi', 'S5', 52500.0),\n",
       " (11, 2021, 'Audi', 'S6', 74400.0),\n",
       " (15, 2021, 'BMW', 'X5', 59400.0),\n",
       " (16, 2021, 'BMW', 'X7', 74900.0),\n",
       " (23, 2021, 'Cadillac', 'Escalade', 76195.0),\n",
       " (24, 2021, 'Cadillac', 'Escalade ESV', 79195.0),\n",
       " (33, 2021, 'Chevrolet', 'Corvette', 59900.0)]"
      ]
     },
     "execution_count": 39,
     "metadata": {},
     "output_type": "execute_result"
    }
   ],
   "source": [
    "c.execute(\"select * from car_price WHERE Price >=50000\").fetchmany(10)"
   ]
  },
  {
   "cell_type": "code",
   "execution_count": 40,
   "metadata": {},
   "outputs": [
    {
     "data": {
      "text/plain": [
       "(('index', None, None, None, None, None, None),\n",
       " ('Unnamed: 0', None, None, None, None, None, None),\n",
       " ('Brand', None, None, None, None, None, None),\n",
       " ('Model', None, None, None, None, None, None),\n",
       " ('Price', None, None, None, None, None, None),\n",
       " ('Satisfaction', None, None, None, None, None, None))"
      ]
     },
     "execution_count": 40,
     "metadata": {},
     "output_type": "execute_result"
    }
   ],
   "source": [
    "c.execute(\"select * from car_purchase\").description"
   ]
  },
  {
   "cell_type": "code",
   "execution_count": 41,
   "metadata": {},
   "outputs": [
    {
     "data": {
      "text/plain": [
       "[(0, 0, 'BMW', 'A100', 100000, 1), (1, 1, 'Audi', 'A6', 200000, 5)]"
      ]
     },
     "execution_count": 41,
     "metadata": {},
     "output_type": "execute_result"
    }
   ],
   "source": [
    "c.execute(\"select * from car_purchase\").fetchmany(10)"
   ]
  },
  {
   "cell_type": "code",
   "execution_count": 42,
   "metadata": {},
   "outputs": [
    {
     "data": {
      "text/plain": [
       "[(0, 0, 'BMW', 'A100', 100000, 1), (1, 1, 'Audi', 'A6', 200000, 5)]"
      ]
     },
     "execution_count": 42,
     "metadata": {},
     "output_type": "execute_result"
    }
   ],
   "source": [
    "c.execute(\"select * from car_purchase\").fetchall()"
   ]
  },
  {
   "cell_type": "code",
   "execution_count": 43,
   "metadata": {},
   "outputs": [
    {
     "data": {
      "text/plain": [
       "[(0, 0, 'BMW', 'A100', 100000, 1)]"
      ]
     },
     "execution_count": 43,
     "metadata": {},
     "output_type": "execute_result"
    }
   ],
   "source": [
    "c.execute(\"select * from car_purchase where Satisfaction = 1\").fetchall()"
   ]
  },
  {
   "cell_type": "markdown",
   "metadata": {},
   "source": [
    "**<font color=green size=3 face=ARIAL> Activity 3 -- Join Tables </font>**"
   ]
  },
  {
   "cell_type": "code",
   "execution_count": 44,
   "metadata": {},
   "outputs": [
    {
     "data": {
      "text/plain": [
       "(('index', None, None, None, None, None, None),\n",
       " ('Year', None, None, None, None, None, None),\n",
       " ('Make', None, None, None, None, None, None),\n",
       " ('Model', None, None, None, None, None, None),\n",
       " ('Category', None, None, None, None, None, None))"
      ]
     },
     "execution_count": 44,
     "metadata": {},
     "output_type": "execute_result"
    }
   ],
   "source": [
    "c.execute(\"select * from car_model\").description"
   ]
  },
  {
   "cell_type": "code",
   "execution_count": 45,
   "metadata": {},
   "outputs": [
    {
     "data": {
      "text/plain": [
       "(('index', None, None, None, None, None, None),\n",
       " ('Year', None, None, None, None, None, None),\n",
       " ('Make', None, None, None, None, None, None),\n",
       " ('Model', None, None, None, None, None, None),\n",
       " ('Price', None, None, None, None, None, None))"
      ]
     },
     "execution_count": 45,
     "metadata": {},
     "output_type": "execute_result"
    }
   ],
   "source": [
    "c.execute(\"select * from car_price\").description"
   ]
  },
  {
   "cell_type": "code",
   "execution_count": 46,
   "metadata": {},
   "outputs": [],
   "source": [
    "sql_query = \"select * from car_price INNER JOIN car_model on car_price.Model = car_model.Model AND car_model.Year = car_price.Year \""
   ]
  },
  {
   "cell_type": "code",
   "execution_count": 47,
   "metadata": {},
   "outputs": [
    {
     "data": {
      "text/plain": [
       "[(0, 2021, 'Acura', 'ILX', None, 0, 2021, 'Acura', 'ILX', 'Sedan'),\n",
       " (1, 2021, 'Acura', 'RDX', None, 1, 2021, 'Acura', 'RDX', 'SUV'),\n",
       " (2, 2021, 'Acura', 'TLX', 37500.0, 2, 2021, 'Acura', 'TLX', 'Sedan')]"
      ]
     },
     "execution_count": 47,
     "metadata": {},
     "output_type": "execute_result"
    }
   ],
   "source": [
    "c.execute(sql_query).fetchmany(3)"
   ]
  },
  {
   "cell_type": "markdown",
   "metadata": {},
   "source": [
    "**<font color=blue size=3 face=ARIAL> Activity 4 </font>**"
   ]
  },
  {
   "cell_type": "code",
   "execution_count": 48,
   "metadata": {},
   "outputs": [
    {
     "data": {
      "text/plain": [
       "<sqlite3.Cursor at 0x11250d0c0>"
      ]
     },
     "execution_count": 48,
     "metadata": {},
     "output_type": "execute_result"
    }
   ],
   "source": [
    "# alter the car_purchase table, by adding a new variable, purchase_price_sgd\n",
    "c.execute(\"ALTER TABLE car_purchase ADD Purchase_price_SGD\")\n",
    "# alter the car_price table, by adding a new variable, Selling_price_sgd\n",
    "c.execute(\"ALTER TABLE car_price ADD Selling_price_SGD\")\n",
    "# update the car_purchase table, where we set purchase_price_sgd = price*1.35\n",
    "c.execute(\"UPDATE car_purchase SET Purchase_price_SGD = Price*1.35\")\n",
    "# update the car_price table, where we set selling_price_sgd = price*1.35\n",
    "c.execute(\"UPDATE car_price SET Selling_price_SGD = Price*1.35\")"
   ]
  },
  {
   "cell_type": "code",
   "execution_count": 49,
   "metadata": {},
   "outputs": [
    {
     "data": {
      "text/plain": [
       "(('index', None, None, None, None, None, None),\n",
       " ('Unnamed: 0', None, None, None, None, None, None),\n",
       " ('Brand', None, None, None, None, None, None),\n",
       " ('Model', None, None, None, None, None, None),\n",
       " ('Price', None, None, None, None, None, None),\n",
       " ('Satisfaction', None, None, None, None, None, None),\n",
       " ('Purchase_price_SGD', None, None, None, None, None, None))"
      ]
     },
     "execution_count": 49,
     "metadata": {},
     "output_type": "execute_result"
    }
   ],
   "source": [
    "# check that we have the new variable, Purchase_price_sgd\n",
    "c.execute(\"select * from car_purchase\").description"
   ]
  },
  {
   "cell_type": "code",
   "execution_count": 50,
   "metadata": {},
   "outputs": [
    {
     "data": {
      "text/plain": [
       "(('index', None, None, None, None, None, None),\n",
       " ('Year', None, None, None, None, None, None),\n",
       " ('Make', None, None, None, None, None, None),\n",
       " ('Model', None, None, None, None, None, None),\n",
       " ('Price', None, None, None, None, None, None),\n",
       " ('Selling_price_SGD', None, None, None, None, None, None))"
      ]
     },
     "execution_count": 50,
     "metadata": {},
     "output_type": "execute_result"
    }
   ],
   "source": [
    "# check that we have the new variable, Selling_price_sgd\n",
    "c.execute(\"select * from car_price\").description"
   ]
  },
  {
   "cell_type": "code",
   "execution_count": 51,
   "metadata": {},
   "outputs": [],
   "source": [
    "conn.commit()\n",
    "conn.close()"
   ]
  },
  {
   "cell_type": "code",
   "execution_count": null,
   "metadata": {},
   "outputs": [],
   "source": []
  }
 ],
 "metadata": {
  "kernelspec": {
   "display_name": "Python 3 (ipykernel)",
   "language": "python",
   "name": "python3"
  },
  "language_info": {
   "codemirror_mode": {
    "name": "ipython",
    "version": 3
   },
   "file_extension": ".py",
   "mimetype": "text/x-python",
   "name": "python",
   "nbconvert_exporter": "python",
   "pygments_lexer": "ipython3",
   "version": "3.8.13"
  }
 },
 "nbformat": 4,
 "nbformat_minor": 4
}
