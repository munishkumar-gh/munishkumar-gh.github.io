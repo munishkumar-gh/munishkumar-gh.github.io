{
 "cells": [
  {
   "cell_type": "markdown",
   "id": "c99b36bc",
   "metadata": {},
   "source": [
    "# Random sampling program:\n",
    "\n",
    "##### Generate a 10 x 10 array which contains 100 random numbers from the normally distributed population with mean 0 and variance 1.\n"
   ]
  },
  {
   "cell_type": "code",
   "execution_count": 1,
   "id": "cb829d45",
   "metadata": {},
   "outputs": [],
   "source": [
    "import numpy as np"
   ]
  },
  {
   "cell_type": "markdown",
   "id": "d5bc90ae",
   "metadata": {},
   "source": [
    "##### Generate Random numbers with mu = 0 and sigma = 1"
   ]
  },
  {
   "cell_type": "code",
   "execution_count": 2,
   "id": "3362d6bc",
   "metadata": {},
   "outputs": [
    {
     "name": "stdout",
     "output_type": "stream",
     "text": [
      "[-0.02735809 -1.3597234   0.5710212  -0.73310976  1.2049505 ]\n"
     ]
    }
   ],
   "source": [
    "# random.normal(loc=0.0, scale=1.0, size=None)\n",
    "# 1. loc = mean\n",
    "# 2. scale = standard deviation = sq root of variance\n",
    "# 3. Size = Output shape. If the given shape is, e.g., (m, n, k), \n",
    "#           then m * n * k samples are drawn.\n",
    "\n",
    "random_array = np.random.normal(0.0, 1.0, 5)\n",
    "print(random_array)"
   ]
  },
  {
   "cell_type": "code",
   "execution_count": 3,
   "id": "7fefa8ce",
   "metadata": {
    "scrolled": true
   },
   "outputs": [
    {
     "name": "stdout",
     "output_type": "stream",
     "text": [
      "Array Generated:\n",
      "[[-0.0339612  -0.48898916  0.09306762  0.60363114  1.18973503 -1.29435415\n",
      "   2.16995235 -2.5244525  -0.53826356  0.47483428]\n",
      " [-0.46178755 -0.84007918  2.98724892  0.33517091 -1.15338197  0.80002415\n",
      "  -0.17003032  0.82458331 -0.46176816 -2.26043227]\n",
      " [-1.44397346 -0.16917537 -0.85806122 -0.11188853 -2.20220846 -0.85067693\n",
      "  -1.3751642  -0.94390698  0.2264332  -1.15119151]\n",
      " [-0.26911026 -1.77072703 -1.85955636 -1.09598111  0.4291322  -0.43806407\n",
      "  -0.42261064 -0.54086185  0.69659358  0.66508586]\n",
      " [-2.77869952  0.07414758  0.23078206 -1.14240961 -0.59165504 -1.93385829\n",
      "  -0.59683749  1.66421062  0.27262683 -1.50824104]\n",
      " [ 0.64692205  0.84367539 -0.58504826 -0.50702184 -1.80243323  0.32999288\n",
      "  -0.91182151  0.98150258  0.28851255 -1.43296336]\n",
      " [ 0.11615529 -0.23968109 -0.57285887 -1.07583401 -0.73142914  0.03144326\n",
      "   0.45873208 -0.55485145  0.45878316 -2.12614718]\n",
      " [ 1.08062964 -1.23060889  1.5775332   2.22796947  0.32645318 -0.65105987\n",
      "  -0.36326001  2.33324891 -0.40231208 -0.57692317]\n",
      " [ 0.84827208 -0.12989996  1.21511864 -0.78239555  1.66039377 -1.16215395\n",
      "  -0.08488868 -0.26338645 -1.19319364 -0.02606963]\n",
      " [ 0.30105818 -0.51796284 -0.20588991 -0.30280111  0.47575085 -0.88162393\n",
      "  -0.3086587   0.83763397  0.03108668 -1.47322003]]\n"
     ]
    }
   ],
   "source": [
    "random_array = np.random.normal(0.0, 1.0, size = (10,10))\n",
    "print(f\"Array Generated:\\n{random_array}\")"
   ]
  },
  {
   "cell_type": "markdown",
   "id": "3ca5132b",
   "metadata": {},
   "source": [
    "##### Compute the mean, median and mode of each array column as well as the entire array."
   ]
  },
  {
   "cell_type": "code",
   "execution_count": 4,
   "id": "531d137b",
   "metadata": {},
   "outputs": [
    {
     "name": "stdout",
     "output_type": "stream",
     "text": [
      "Column Mean:\n",
      "[-0.19944947 -0.44693005  0.20223358 -0.18515602 -0.23996428 -0.60503309\n",
      " -0.16045871  0.18137202 -0.06215014 -0.9415268 ]\n",
      "Column Median:\n",
      "[ 0.04109705 -0.36433512 -0.05641115 -0.40491147 -0.13260093 -0.7508684\n",
      " -0.33595935  0.28059843  0.12875994 -1.29207744]\n"
     ]
    }
   ],
   "source": [
    "# Mean, Median and Mode Array Column\n",
    "# axis = 0 for column \n",
    "# axis = 1 for row \n",
    "\n",
    "column_mean = np.mean(random_array, axis = 0)\n",
    "print (f\"Column Mean:\\n{column_mean}\")\n",
    "\n",
    "column_median = np.median(random_array, axis = 0)\n",
    "print (f\"Column Median:\\n{column_median}\")"
   ]
  },
  {
   "cell_type": "code",
   "execution_count": 5,
   "id": "a0b4687d",
   "metadata": {},
   "outputs": [
    {
     "name": "stdout",
     "output_type": "stream",
     "text": [
      "Column mode:\n",
      "ModeResult(mode=array([[-2.77869952, -1.77072703, -1.85955636, -1.14240961, -2.20220846,\n",
      "        -1.93385829, -1.3751642 , -2.5244525 , -1.19319364, -2.26043227]]), count=array([[1, 1, 1, 1, 1, 1, 1, 1, 1, 1]]))\n"
     ]
    }
   ],
   "source": [
    "# There is no in-built function for finding mode using any numpy function.\n",
    "from scipy import stats\n",
    "\n",
    "column_mode = stats.mode(random_array, axis = 0)\n",
    "print (f\"Column mode:\\n{column_mode}\")"
   ]
  },
  {
   "cell_type": "markdown",
   "id": "5357c5cb",
   "metadata": {},
   "source": [
    "The above output is very interesting. There is no real mode. So the least value is considered as the mode and the count of each mode is 1"
   ]
  },
  {
   "cell_type": "markdown",
   "id": "3a1f45a8",
   "metadata": {},
   "source": [
    "##### Now we compute for the entire array"
   ]
  },
  {
   "cell_type": "code",
   "execution_count": 6,
   "id": "2acbd567",
   "metadata": {},
   "outputs": [
    {
     "name": "stdout",
     "output_type": "stream",
     "text": [
      "All Mean:\n",
      "-0.24570629853291492\n"
     ]
    }
   ],
   "source": [
    "All_mean = np.mean(random_array, axis = None)\n",
    "print (f\"All Mean:\\n{All_mean}\")"
   ]
  },
  {
   "cell_type": "code",
   "execution_count": 7,
   "id": "6f41dbd2",
   "metadata": {},
   "outputs": [
    {
     "name": "stdout",
     "output_type": "stream",
     "text": [
      "All Median:\n",
      "-0.30572990319501947\n"
     ]
    }
   ],
   "source": [
    "All_median = np.median(random_array, axis = None)\n",
    "print (f\"All Median:\\n{All_median}\")"
   ]
  },
  {
   "cell_type": "code",
   "execution_count": 8,
   "id": "4e564d28",
   "metadata": {},
   "outputs": [
    {
     "name": "stdout",
     "output_type": "stream",
     "text": [
      "All mode:\n",
      "ModeResult(mode=array([-2.77869952]), count=array([1]))\n"
     ]
    }
   ],
   "source": [
    "All_mode = stats.mode(random_array, axis = None)\n",
    "print (f\"All mode:\\n{All_mode}\")"
   ]
  },
  {
   "cell_type": "markdown",
   "id": "ff05ce5b",
   "metadata": {},
   "source": [
    "##### Select those numbers from the array within the interval [-0.5, 0.5] and store those numbers in a one-dimensional array. \n"
   ]
  },
  {
   "cell_type": "code",
   "execution_count": 9,
   "id": "8f3e97ea",
   "metadata": {},
   "outputs": [
    {
     "name": "stdout",
     "output_type": "stream",
     "text": [
      "All mode:\n",
      "[[-0.0339612  -0.48898916  0.09306762  0.60363114  1.18973503 -1.29435415\n",
      "   2.16995235 -2.5244525  -0.53826356  0.47483428]\n",
      " [-0.46178755 -0.84007918  2.98724892  0.33517091 -1.15338197  0.80002415\n",
      "  -0.17003032  0.82458331 -0.46176816 -2.26043227]\n",
      " [-0.26911026 -1.77072703 -1.85955636 -1.09598111  0.4291322  -0.43806407\n",
      "  -0.42261064 -0.54086185  0.69659358  0.66508586]\n",
      " [ 0.11615529 -0.23968109 -0.57285887 -1.07583401 -0.73142914  0.03144326\n",
      "   0.45873208 -0.55485145  0.45878316 -2.12614718]\n",
      " [ 0.30105818 -0.51796284 -0.20588991 -0.30280111  0.47575085 -0.88162393\n",
      "  -0.3086587   0.83763397  0.03108668 -1.47322003]]\n"
     ]
    }
   ],
   "source": [
    " # Column mask\n",
    "mask_col = (random_array[:,0]>=-0.5) & (random_array[:,0]<=0.5)\n",
    "result_new = random_array[mask_col]\n",
    "print(f\"All mode:\\n{result_new}\")"
   ]
  },
  {
   "cell_type": "markdown",
   "id": "0bc75ecc",
   "metadata": {},
   "source": [
    "\n",
    "Determine the size of the resulting array."
   ]
  },
  {
   "cell_type": "code",
   "execution_count": 10,
   "id": "2fe61b14",
   "metadata": {},
   "outputs": [
    {
     "name": "stdout",
     "output_type": "stream",
     "text": [
      "Size of array:\n",
      "50\n",
      "Shape of array:\n",
      "(5, 10)\n"
     ]
    }
   ],
   "source": [
    "# Size returns the count of all the elements\n",
    "print(f\"Size of array:\\n{result_new.size}\")\n",
    "\n",
    "# Shape returns the number of dimensions (rows) followed by elements (cols)\n",
    "print(f\"Shape of array:\\n{result_new.shape}\")"
   ]
  }
 ],
 "metadata": {
  "kernelspec": {
   "display_name": "Python 3 (ipykernel)",
   "language": "python",
   "name": "python3"
  },
  "language_info": {
   "codemirror_mode": {
    "name": "ipython",
    "version": 3
   },
   "file_extension": ".py",
   "mimetype": "text/x-python",
   "name": "python",
   "nbconvert_exporter": "python",
   "pygments_lexer": "ipython3",
   "version": "3.9.12"
  }
 },
 "nbformat": 4,
 "nbformat_minor": 5
}
