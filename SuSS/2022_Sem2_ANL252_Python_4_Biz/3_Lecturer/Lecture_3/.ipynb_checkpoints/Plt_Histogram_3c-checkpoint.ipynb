{
 "cells": [
  {
   "cell_type": "markdown",
   "id": "18b3c258",
   "metadata": {},
   "source": [
    "# Random sampling program:\n",
    "\n",
    "##### Generate a histogram of the 100 random numbers drawn in the previous Chapter. Provide a title as well as labels for both axes in the chart.\n"
   ]
  },
  {
   "cell_type": "code",
   "execution_count": 1,
   "id": "26839b34",
   "metadata": {},
   "outputs": [],
   "source": [
    "#!pip install ipynb"
   ]
  },
  {
   "cell_type": "code",
   "execution_count": 2,
   "id": "54850be4",
   "metadata": {},
   "outputs": [
    {
     "name": "stdout",
     "output_type": "stream",
     "text": [
      "[-0.04475678  0.95442166  0.30650552  1.06605392  0.68304379]\n",
      "Array Generated:\n",
      "[[ 1.10394825 -1.52677651 -0.15298629  1.24617257 -0.10050098  0.43203279\n",
      "  -0.20735577  0.72843373 -0.45208036  0.3804213 ]\n",
      " [ 1.02842069 -1.8620867  -0.97239876  0.14898792  0.6196189   1.20884448\n",
      "  -0.71635478 -1.1976848   1.13292629 -0.89963468]\n",
      " [ 0.45555045 -0.09832342  1.59485603  1.23561518 -1.36435086  0.47532142\n",
      "  -1.3230665   1.05099511 -0.99416119  1.49352553]\n",
      " [-0.28363011 -0.20031914  0.8195228   0.92727444  0.5787284  -0.58470704\n",
      "  -1.81173036  0.34350534 -0.7794594  -0.30116306]\n",
      " [-0.58618864 -0.82207124  1.23031048 -1.14821486 -0.09353753 -0.97509595\n",
      "  -1.31480604 -0.67096852 -0.25527759 -1.05126029]\n",
      " [ 0.84600594 -0.014463   -1.4002727   2.62205541 -0.51075794  0.73306318\n",
      "   0.25154701  0.41428494  0.21944181  0.88385465]\n",
      " [ 0.32491114  0.58664409 -0.56971147 -0.93417379 -1.87146523  0.00640034\n",
      "   0.07209012  0.93865304 -0.28176287  0.57886489]\n",
      " [ 0.55307257  1.3918571   0.49480749  0.97113226  0.5878795  -0.25464177\n",
      "   0.6043973  -1.79646377 -0.16071384 -0.38020209]\n",
      " [-0.27397892  0.04093974 -1.09877436  1.90672614 -1.36478835  0.65119113\n",
      "   0.99099449 -0.30459911  0.17904727  0.23494811]\n",
      " [ 0.09048072 -0.1545136  -0.58608757  0.36191821 -1.51836518 -1.07947675\n",
      "  -1.13366356 -2.28747984  0.23812699 -0.7861935 ]]\n",
      "Column Mean:\n",
      "[ 0.32585921 -0.26591127 -0.06407343  0.73374935 -0.50375393  0.06129318\n",
      " -0.45879481 -0.27813239 -0.11539129  0.01531609]\n",
      "Column Median:\n",
      "[ 0.3902308  -0.12641851 -0.36134888  0.94920335 -0.30562946  0.21921657\n",
      " -0.46185527  0.01945312 -0.20799572 -0.03310748]\n",
      "Column mode:\n",
      "ModeResult(mode=array([[-0.58618864, -1.8620867 , -1.4002727 , -1.14821486, -1.87146523,\n",
      "        -1.07947675, -1.81173036, -2.28747984, -0.99416119, -1.05126029]]), count=array([[1, 1, 1, 1, 1, 1, 1, 1, 1, 1]]))\n",
      "All Mean:\n",
      "-0.054983928735546674\n",
      "All Median:\n",
      "-0.05400026459684074\n",
      "All mode:\n",
      "ModeResult(mode=array([-2.28747984]), count=array([1]))\n",
      "All mode:\n",
      "[[ 0.45555045 -0.09832342  1.59485603  1.23561518 -1.36435086  0.47532142\n",
      "  -1.3230665   1.05099511 -0.99416119  1.49352553]\n",
      " [-0.28363011 -0.20031914  0.8195228   0.92727444  0.5787284  -0.58470704\n",
      "  -1.81173036  0.34350534 -0.7794594  -0.30116306]\n",
      " [ 0.32491114  0.58664409 -0.56971147 -0.93417379 -1.87146523  0.00640034\n",
      "   0.07209012  0.93865304 -0.28176287  0.57886489]\n",
      " [-0.27397892  0.04093974 -1.09877436  1.90672614 -1.36478835  0.65119113\n",
      "   0.99099449 -0.30459911  0.17904727  0.23494811]\n",
      " [ 0.09048072 -0.1545136  -0.58608757  0.36191821 -1.51836518 -1.07947675\n",
      "  -1.13366356 -2.28747984  0.23812699 -0.7861935 ]]\n",
      "Size of array:\n",
      "50\n",
      "Shape of array:\n",
      "(5, 10)\n"
     ]
    }
   ],
   "source": [
    "# Will import and run my previous python code. Note that it does not import the outputs, but rahter the whole code\n",
    "# This means when you run it, you will get a different output each time\n",
    "# For purposes of this excercise, thats fine\n",
    "from ipynb.fs.full.Generate_Array_3b import *"
   ]
  },
  {
   "cell_type": "code",
   "execution_count": 3,
   "id": "2f20ba26",
   "metadata": {},
   "outputs": [
    {
     "name": "stdout",
     "output_type": "stream",
     "text": [
      "[[ 1.10394825 -1.52677651 -0.15298629  1.24617257 -0.10050098  0.43203279\n",
      "  -0.20735577  0.72843373 -0.45208036  0.3804213 ]\n",
      " [ 1.02842069 -1.8620867  -0.97239876  0.14898792  0.6196189   1.20884448\n",
      "  -0.71635478 -1.1976848   1.13292629 -0.89963468]\n",
      " [ 0.45555045 -0.09832342  1.59485603  1.23561518 -1.36435086  0.47532142\n",
      "  -1.3230665   1.05099511 -0.99416119  1.49352553]\n",
      " [-0.28363011 -0.20031914  0.8195228   0.92727444  0.5787284  -0.58470704\n",
      "  -1.81173036  0.34350534 -0.7794594  -0.30116306]\n",
      " [-0.58618864 -0.82207124  1.23031048 -1.14821486 -0.09353753 -0.97509595\n",
      "  -1.31480604 -0.67096852 -0.25527759 -1.05126029]\n",
      " [ 0.84600594 -0.014463   -1.4002727   2.62205541 -0.51075794  0.73306318\n",
      "   0.25154701  0.41428494  0.21944181  0.88385465]\n",
      " [ 0.32491114  0.58664409 -0.56971147 -0.93417379 -1.87146523  0.00640034\n",
      "   0.07209012  0.93865304 -0.28176287  0.57886489]\n",
      " [ 0.55307257  1.3918571   0.49480749  0.97113226  0.5878795  -0.25464177\n",
      "   0.6043973  -1.79646377 -0.16071384 -0.38020209]\n",
      " [-0.27397892  0.04093974 -1.09877436  1.90672614 -1.36478835  0.65119113\n",
      "   0.99099449 -0.30459911  0.17904727  0.23494811]\n",
      " [ 0.09048072 -0.1545136  -0.58608757  0.36191821 -1.51836518 -1.07947675\n",
      "  -1.13366356 -2.28747984  0.23812699 -0.7861935 ]]\n"
     ]
    }
   ],
   "source": [
    "print(random_array)"
   ]
  },
  {
   "cell_type": "code",
   "execution_count": 4,
   "id": "43e2351e",
   "metadata": {},
   "outputs": [],
   "source": [
    "import matplotlib.pyplot as plt"
   ]
  },
  {
   "cell_type": "code",
   "execution_count": 5,
   "id": "3b3f7528",
   "metadata": {},
   "outputs": [
    {
     "data": {
      "text/plain": [
       "Text(0, 0.5, 'Frequency')"
      ]
     },
     "execution_count": 5,
     "metadata": {},
     "output_type": "execute_result"
    },
    {
     "data": {
      "image/png": "[encoded data removed]",
      "text/plain": [
       "<Figure size 432x288 with 1 Axes>"
      ]
     },
     "metadata": {
      "needs_background": "light"
     },
     "output_type": "display_data"
    }
   ],
   "source": [
    "fs = 20\n",
    "\n",
    "plt.hist(random_array, bins='auto')\n",
    "plt.title(\"Histogram with 'auto' bins\", fontsize = fs)\n",
    "plt.xlabel(\"Bins\", fontsize = fs)\n",
    "plt.ylabel(\"Frequency\", fontsize = fs)"
   ]
  }
 ],
 "metadata": {
  "kernelspec": {
   "display_name": "Python 3 (ipykernel)",
   "language": "python",
   "name": "python3"
  },
  "language_info": {
   "codemirror_mode": {
    "name": "ipython",
    "version": 3
   },
   "file_extension": ".py",
   "mimetype": "text/x-python",
   "name": "python",
   "nbconvert_exporter": "python",
   "pygments_lexer": "ipython3",
   "version": "3.9.12"
  }
 },
 "nbformat": 4,
 "nbformat_minor": 5
}
