{
 "cells": [
  {
   "cell_type": "markdown",
   "id": "18b3c258",
   "metadata": {},
   "source": [
    "# Random sampling program:\n",
    "\n",
    "##### Generate a histogram of the 100 random numbers drawn in the previous Chapter. Provide a title as well as labels for both axes in the chart.\n"
   ]
  },
  {
   "cell_type": "code",
   "execution_count": 1,
   "id": "26839b34",
   "metadata": {},
   "outputs": [],
   "source": [
    "#!pip install ipynb"
   ]
  },
  {
   "cell_type": "code",
   "execution_count": 2,
   "id": "54850be4",
   "metadata": {},
   "outputs": [
    {
     "name": "stdout",
     "output_type": "stream",
     "text": [
      "[-0.42969198 -1.81097733 -0.53885415  0.65953079  0.42459567]\n",
      "Array Generated:\n",
      "[[-1.2881524  -0.58977318 -0.07533097 -0.61309982  0.89204315  0.96668945\n",
      "   0.7709819   0.46720873  0.23714    -0.29270515]\n",
      " [ 0.19886255 -0.52648727 -0.26271627 -0.43299743  2.49178038 -1.74303151\n",
      "   2.52584559  1.06653834  1.12868721 -1.50596761]\n",
      " [-1.24799334  1.15620058 -0.86408538  0.14290475  0.64858237  1.74951959\n",
      "  -0.65015052 -0.48265772 -0.38226278  0.43869126]\n",
      " [ 0.97376882  1.22787081 -0.12447915  0.84382589 -1.00797179  0.83429754\n",
      "   1.0785361   0.40227866  0.30929549 -0.69044142]\n",
      " [-0.06887604  0.75893756  2.76154494  1.13877084  0.28312893 -0.47152186\n",
      "  -0.33935396  2.04561621 -0.62757925  0.57480241]\n",
      " [ 1.6206618   0.49728103 -0.12873043  0.28930219  0.81998304  0.47238683\n",
      "  -0.878346    0.55318888  0.77296616 -0.80981006]\n",
      " [-0.4387071   1.72096149 -0.65432226 -1.11989449  0.2802145  -0.56813391\n",
      "  -0.39434183  0.07340551  0.67339043  0.86619708]\n",
      " [-0.93394217 -0.77895911 -1.59216567  0.78213583  0.33460177  1.27508984\n",
      "  -1.20390306 -0.70015681 -0.95761034 -0.02523392]\n",
      " [ 1.09791061  1.09416895 -0.95018445 -1.34884996  0.34906031  0.15002043\n",
      "   0.01242679  1.0305546  -1.21374762 -0.30333884]\n",
      " [ 0.69184088  2.01511146 -0.48678221 -1.01709454 -0.46492431  0.85836246\n",
      "   1.36610479 -1.15570744  1.65607924 -0.78629468]]\n",
      "Column Mean:\n",
      "[ 0.06053736  0.65753123 -0.23772518 -0.13349967  0.46264983  0.35236789\n",
      "  0.22877998  0.3300269   0.15963585 -0.25341009]\n",
      "Column Median:\n",
      "[ 0.06499326  0.92655325 -0.37474924 -0.14504634  0.34183104  0.65334219\n",
      " -0.16346358  0.43474369  0.27321774 -0.29802199]\n",
      "Column mode:\n",
      "ModeResult(mode=array([[-1.2881524 , -0.77895911, -1.59216567, -1.34884996, -1.00797179,\n",
      "        -1.74303151, -1.20390306, -1.15570744, -1.21374762, -1.50596761]]), count=array([[1, 1, 1, 1, 1, 1, 1, 1, 1, 1]]))\n",
      "All Mean:\n",
      "0.16268940960179343\n",
      "All Median:\n",
      "0.17444149022846916\n",
      "All mode:\n",
      "ModeResult(mode=array([-1.74303151]), count=array([1]))\n",
      "All mode:\n",
      "[[ 0.19886255 -0.52648727 -0.26271627 -0.43299743  2.49178038 -1.74303151\n",
      "   2.52584559  1.06653834  1.12868721 -1.50596761]\n",
      " [-0.06887604  0.75893756  2.76154494  1.13877084  0.28312893 -0.47152186\n",
      "  -0.33935396  2.04561621 -0.62757925  0.57480241]\n",
      " [-0.4387071   1.72096149 -0.65432226 -1.11989449  0.2802145  -0.56813391\n",
      "  -0.39434183  0.07340551  0.67339043  0.86619708]]\n",
      "Size of array:\n",
      "30\n",
      "Shape of array:\n",
      "(3, 10)\n"
     ]
    }
   ],
   "source": [
    "from ipynb.fs.full.Generate_Array_3b import *"
   ]
  },
  {
   "cell_type": "code",
   "execution_count": 3,
   "id": "2f20ba26",
   "metadata": {},
   "outputs": [
    {
     "name": "stdout",
     "output_type": "stream",
     "text": [
      "[[-1.2881524  -0.58977318 -0.07533097 -0.61309982  0.89204315  0.96668945\n",
      "   0.7709819   0.46720873  0.23714    -0.29270515]\n",
      " [ 0.19886255 -0.52648727 -0.26271627 -0.43299743  2.49178038 -1.74303151\n",
      "   2.52584559  1.06653834  1.12868721 -1.50596761]\n",
      " [-1.24799334  1.15620058 -0.86408538  0.14290475  0.64858237  1.74951959\n",
      "  -0.65015052 -0.48265772 -0.38226278  0.43869126]\n",
      " [ 0.97376882  1.22787081 -0.12447915  0.84382589 -1.00797179  0.83429754\n",
      "   1.0785361   0.40227866  0.30929549 -0.69044142]\n",
      " [-0.06887604  0.75893756  2.76154494  1.13877084  0.28312893 -0.47152186\n",
      "  -0.33935396  2.04561621 -0.62757925  0.57480241]\n",
      " [ 1.6206618   0.49728103 -0.12873043  0.28930219  0.81998304  0.47238683\n",
      "  -0.878346    0.55318888  0.77296616 -0.80981006]\n",
      " [-0.4387071   1.72096149 -0.65432226 -1.11989449  0.2802145  -0.56813391\n",
      "  -0.39434183  0.07340551  0.67339043  0.86619708]\n",
      " [-0.93394217 -0.77895911 -1.59216567  0.78213583  0.33460177  1.27508984\n",
      "  -1.20390306 -0.70015681 -0.95761034 -0.02523392]\n",
      " [ 1.09791061  1.09416895 -0.95018445 -1.34884996  0.34906031  0.15002043\n",
      "   0.01242679  1.0305546  -1.21374762 -0.30333884]\n",
      " [ 0.69184088  2.01511146 -0.48678221 -1.01709454 -0.46492431  0.85836246\n",
      "   1.36610479 -1.15570744  1.65607924 -0.78629468]]\n"
     ]
    }
   ],
   "source": [
    "print(random_array)"
   ]
  },
  {
   "cell_type": "code",
   "execution_count": 4,
   "id": "43e2351e",
   "metadata": {},
   "outputs": [],
   "source": [
    "import matplotlib.pyplot as plt"
   ]
  },
  {
   "cell_type": "code",
   "execution_count": 5,
   "id": "3b3f7528",
   "metadata": {},
   "outputs": [
    {
     "data": {
      "text/plain": [
       "Text(0, 0.5, 'Frequency')"
      ]
     },
     "execution_count": 5,
     "metadata": {},
     "output_type": "execute_result"
    },
    {
     "data": {
      "image/png": "[encoded data removed]",
      "text/plain": [
       "<Figure size 432x288 with 1 Axes>"
      ]
     },
     "metadata": {
      "needs_background": "light"
     },
     "output_type": "display_data"
    }
   ],
   "source": [
    "fs = 20\n",
    "\n",
    "plt.hist(random_array, bins='auto')\n",
    "plt.title(\"Histogram with 'auto' bins\", fontsize = fs)\n",
    "plt.xlabel(\"Bins\", fontsize = fs)\n",
    "plt.ylabel(\"Frequency\", fontsize = fs)"
   ]
  }
 ],
 "metadata": {
  "kernelspec": {
   "display_name": "Python 3",
   "language": "python",
   "name": "python3"
  },
  "language_info": {
   "codemirror_mode": {
    "name": "ipython",
    "version": 3
   },
   "file_extension": ".py",
   "mimetype": "text/x-python",
   "name": "python",
   "nbconvert_exporter": "python",
   "pygments_lexer": "ipython3",
   "version": "3.8.10"
  }
 },
 "nbformat": 4,
 "nbformat_minor": 5
}
