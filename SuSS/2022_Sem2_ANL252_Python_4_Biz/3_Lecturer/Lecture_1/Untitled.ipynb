{
 "cells": [
  {
   "cell_type": "code",
   "execution_count": 1,
   "id": "38faa56c",
   "metadata": {},
   "outputs": [],
   "source": [
    "# Car sales program:\n",
    "# Extend the Car sales program created in the previous chapter with the\n",
    "# following functionality:\n",
    "\n",
    "# After entering the brand, model and price of the first car, the user is\n",
    "# required to answer they would like enter the same information of a second\n",
    "# car. If the user’s reply is yes, ask the user those questions from the\n",
    "# previous chapter again. If his reply is no, end the program"
   ]
  },
  {
   "cell_type": "code",
   "execution_count": 3,
   "id": "b4de2c46",
   "metadata": {},
   "outputs": [
    {
     "name": "stdout",
     "output_type": "stream",
     "text": [
      "Add a new car (y/n):jh\n",
      "Add a new car (y/n):jf\n",
      "Add a new car (y/n):,kx\n",
      "Add a new car (y/n):knjsdf\n",
      "Add a new car (y/n):n\n",
      "Goodbye\n"
     ]
    }
   ],
   "source": [
    "valid_input = False\n",
    "\n",
    "while valid_input == False:\n",
    "    try:\n",
    "        add_car = str(input(\"Add a new car (y/n):\"))\n",
    "        if add_car == \"y\":\n",
    "            input_b = str(input(\"please enter car brand:\"))\n",
    "        elif add_car == \"n\": #else\n",
    "            #valid_input = True # terination clause for while loop\n",
    "            print(\"Goodbye\")\n",
    "            break\n",
    "    except ValueError:\n",
    "        print(\"Wrong out\")         \n",
    "\n",
    "    "
   ]
  },
  {
   "cell_type": "code",
   "execution_count": null,
   "id": "bac31239",
   "metadata": {},
   "outputs": [],
   "source": []
  }
 ],
 "metadata": {
  "kernelspec": {
   "display_name": "Python 3 (ipykernel)",
   "language": "python",
   "name": "python3"
  },
  "language_info": {
   "codemirror_mode": {
    "name": "ipython",
    "version": 3
   },
   "file_extension": ".py",
   "mimetype": "text/x-python",
   "name": "python",
   "nbconvert_exporter": "python",
   "pygments_lexer": "ipython3",
   "version": "3.8.13"
  }
 },
 "nbformat": 4,
 "nbformat_minor": 5
}
