{
 "cells": [
  {
   "cell_type": "markdown",
   "id": "be399a63",
   "metadata": {},
   "source": [
    "### Car sales program:\n",
    "\n",
    "##### Carry out the following tasks in JupyterLab:\n",
    "##### Since there are many car models (especially their names are complicated and not comparable with each other) in the market, it is rather more important to include “category” than “model” in our analysis later.\n",
    "##### Remove “model” from the DataFrame."
   ]
  },
  {
   "cell_type": "code",
   "execution_count": 2,
   "id": "5f33d2ec",
   "metadata": {},
   "outputs": [
    {
     "data": {
      "text/html": [
       "<div>\n",
       "<style scoped>\n",
       "    .dataframe tbody tr th:only-of-type {\n",
       "        vertical-align: middle;\n",
       "    }\n",
       "\n",
       "    .dataframe tbody tr th {\n",
       "        vertical-align: top;\n",
       "    }\n",
       "\n",
       "    .dataframe thead th {\n",
       "        text-align: right;\n",
       "    }\n",
       "</style>\n",
       "<table border=\"1\" class=\"dataframe\">\n",
       "  <thead>\n",
       "    <tr style=\"text-align: right;\">\n",
       "      <th></th>\n",
       "      <th>Year</th>\n",
       "      <th>Make</th>\n",
       "      <th>Model</th>\n",
       "      <th>Category</th>\n",
       "      <th>Price</th>\n",
       "    </tr>\n",
       "  </thead>\n",
       "  <tbody>\n",
       "    <tr>\n",
       "      <th>0</th>\n",
       "      <td>2020</td>\n",
       "      <td>Audi</td>\n",
       "      <td>Q3</td>\n",
       "      <td>SUV</td>\n",
       "      <td>NaN</td>\n",
       "    </tr>\n",
       "    <tr>\n",
       "      <th>1</th>\n",
       "      <td>2020</td>\n",
       "      <td>Chevrolet</td>\n",
       "      <td>Malibu</td>\n",
       "      <td>Sedan</td>\n",
       "      <td>NaN</td>\n",
       "    </tr>\n",
       "    <tr>\n",
       "      <th>2</th>\n",
       "      <td>2020</td>\n",
       "      <td>Cadillac</td>\n",
       "      <td>Escalade ESV</td>\n",
       "      <td>SUV</td>\n",
       "      <td>NaN</td>\n",
       "    </tr>\n",
       "    <tr>\n",
       "      <th>3</th>\n",
       "      <td>2020</td>\n",
       "      <td>Chevrolet</td>\n",
       "      <td>Corvette</td>\n",
       "      <td>Coupe, Convertible</td>\n",
       "      <td>NaN</td>\n",
       "    </tr>\n",
       "    <tr>\n",
       "      <th>4</th>\n",
       "      <td>2020</td>\n",
       "      <td>Acura</td>\n",
       "      <td>RLX</td>\n",
       "      <td>Sedan</td>\n",
       "      <td>NaN</td>\n",
       "    </tr>\n",
       "    <tr>\n",
       "      <th>...</th>\n",
       "      <td>...</td>\n",
       "      <td>...</td>\n",
       "      <td>...</td>\n",
       "      <td>...</td>\n",
       "      <td>...</td>\n",
       "    </tr>\n",
       "    <tr>\n",
       "      <th>9831</th>\n",
       "      <td>2022</td>\n",
       "      <td>Mitsubishi</td>\n",
       "      <td>Eclipse Cross</td>\n",
       "      <td>SUV</td>\n",
       "      <td>NaN</td>\n",
       "    </tr>\n",
       "    <tr>\n",
       "      <th>9832</th>\n",
       "      <td>2022</td>\n",
       "      <td>Nissan</td>\n",
       "      <td>Frontier Crew Cab</td>\n",
       "      <td>Pickup</td>\n",
       "      <td>NaN</td>\n",
       "    </tr>\n",
       "    <tr>\n",
       "      <th>9833</th>\n",
       "      <td>2022</td>\n",
       "      <td>Nissan</td>\n",
       "      <td>Pathfinder</td>\n",
       "      <td>SUV</td>\n",
       "      <td>NaN</td>\n",
       "    </tr>\n",
       "    <tr>\n",
       "      <th>9834</th>\n",
       "      <td>2022</td>\n",
       "      <td>Subaru</td>\n",
       "      <td>BRZ</td>\n",
       "      <td>Coupe</td>\n",
       "      <td>NaN</td>\n",
       "    </tr>\n",
       "    <tr>\n",
       "      <th>9835</th>\n",
       "      <td>2022</td>\n",
       "      <td>Volkswagen</td>\n",
       "      <td>Tiguan</td>\n",
       "      <td>SUV</td>\n",
       "      <td>NaN</td>\n",
       "    </tr>\n",
       "  </tbody>\n",
       "</table>\n",
       "<p>9836 rows × 5 columns</p>\n",
       "</div>"
      ],
      "text/plain": [
       "      Year        Make              Model            Category  Price\n",
       "0     2020        Audi                 Q3                 SUV    NaN\n",
       "1     2020   Chevrolet             Malibu               Sedan    NaN\n",
       "2     2020    Cadillac       Escalade ESV                 SUV    NaN\n",
       "3     2020   Chevrolet           Corvette  Coupe, Convertible    NaN\n",
       "4     2020       Acura                RLX               Sedan    NaN\n",
       "...    ...         ...                ...                 ...    ...\n",
       "9831  2022  Mitsubishi      Eclipse Cross                 SUV    NaN\n",
       "9832  2022      Nissan  Frontier Crew Cab              Pickup    NaN\n",
       "9833  2022      Nissan         Pathfinder                 SUV    NaN\n",
       "9834  2022      Subaru                BRZ               Coupe    NaN\n",
       "9835  2022  Volkswagen             Tiguan                 SUV    NaN\n",
       "\n",
       "[9836 rows x 5 columns]"
      ]
     },
     "execution_count": 2,
     "metadata": {},
     "output_type": "execute_result"
    }
   ],
   "source": [
    "import pandas as pd\n",
    "# You can also use the full path C:\\Users\\blah\\blah\\blah\\blah\\car_model_price.csv\n",
    "#However, note that \"/\" direction (back-slash)\n",
    "#If you dont want to worry about this, then use just use (r\"C:\\Users\\blah\\blah\\blah\\blah\\car_model_price.csv\")\n",
    "\n",
    "car_model_price = pd.read_csv(\"../Lecture_4/car_model_price.csv\")\n",
    "car_model_price"
   ]
  },
  {
   "cell_type": "code",
   "execution_count": 3,
   "id": "811faaa4",
   "metadata": {},
   "outputs": [
    {
     "data": {
      "text/html": [
       "<div>\n",
       "<style scoped>\n",
       "    .dataframe tbody tr th:only-of-type {\n",
       "        vertical-align: middle;\n",
       "    }\n",
       "\n",
       "    .dataframe tbody tr th {\n",
       "        vertical-align: top;\n",
       "    }\n",
       "\n",
       "    .dataframe thead th {\n",
       "        text-align: right;\n",
       "    }\n",
       "</style>\n",
       "<table border=\"1\" class=\"dataframe\">\n",
       "  <thead>\n",
       "    <tr style=\"text-align: right;\">\n",
       "      <th></th>\n",
       "      <th>Year</th>\n",
       "      <th>Make</th>\n",
       "      <th>Category</th>\n",
       "      <th>Price</th>\n",
       "    </tr>\n",
       "  </thead>\n",
       "  <tbody>\n",
       "    <tr>\n",
       "      <th>0</th>\n",
       "      <td>2020</td>\n",
       "      <td>Audi</td>\n",
       "      <td>SUV</td>\n",
       "      <td>NaN</td>\n",
       "    </tr>\n",
       "    <tr>\n",
       "      <th>1</th>\n",
       "      <td>2020</td>\n",
       "      <td>Chevrolet</td>\n",
       "      <td>Sedan</td>\n",
       "      <td>NaN</td>\n",
       "    </tr>\n",
       "    <tr>\n",
       "      <th>2</th>\n",
       "      <td>2020</td>\n",
       "      <td>Cadillac</td>\n",
       "      <td>SUV</td>\n",
       "      <td>NaN</td>\n",
       "    </tr>\n",
       "    <tr>\n",
       "      <th>3</th>\n",
       "      <td>2020</td>\n",
       "      <td>Chevrolet</td>\n",
       "      <td>Coupe, Convertible</td>\n",
       "      <td>NaN</td>\n",
       "    </tr>\n",
       "    <tr>\n",
       "      <th>4</th>\n",
       "      <td>2020</td>\n",
       "      <td>Acura</td>\n",
       "      <td>Sedan</td>\n",
       "      <td>NaN</td>\n",
       "    </tr>\n",
       "    <tr>\n",
       "      <th>...</th>\n",
       "      <td>...</td>\n",
       "      <td>...</td>\n",
       "      <td>...</td>\n",
       "      <td>...</td>\n",
       "    </tr>\n",
       "    <tr>\n",
       "      <th>9831</th>\n",
       "      <td>2022</td>\n",
       "      <td>Mitsubishi</td>\n",
       "      <td>SUV</td>\n",
       "      <td>NaN</td>\n",
       "    </tr>\n",
       "    <tr>\n",
       "      <th>9832</th>\n",
       "      <td>2022</td>\n",
       "      <td>Nissan</td>\n",
       "      <td>Pickup</td>\n",
       "      <td>NaN</td>\n",
       "    </tr>\n",
       "    <tr>\n",
       "      <th>9833</th>\n",
       "      <td>2022</td>\n",
       "      <td>Nissan</td>\n",
       "      <td>SUV</td>\n",
       "      <td>NaN</td>\n",
       "    </tr>\n",
       "    <tr>\n",
       "      <th>9834</th>\n",
       "      <td>2022</td>\n",
       "      <td>Subaru</td>\n",
       "      <td>Coupe</td>\n",
       "      <td>NaN</td>\n",
       "    </tr>\n",
       "    <tr>\n",
       "      <th>9835</th>\n",
       "      <td>2022</td>\n",
       "      <td>Volkswagen</td>\n",
       "      <td>SUV</td>\n",
       "      <td>NaN</td>\n",
       "    </tr>\n",
       "  </tbody>\n",
       "</table>\n",
       "<p>9836 rows × 4 columns</p>\n",
       "</div>"
      ],
      "text/plain": [
       "      Year        Make            Category  Price\n",
       "0     2020        Audi                 SUV    NaN\n",
       "1     2020   Chevrolet               Sedan    NaN\n",
       "2     2020    Cadillac                 SUV    NaN\n",
       "3     2020   Chevrolet  Coupe, Convertible    NaN\n",
       "4     2020       Acura               Sedan    NaN\n",
       "...    ...         ...                 ...    ...\n",
       "9831  2022  Mitsubishi                 SUV    NaN\n",
       "9832  2022      Nissan              Pickup    NaN\n",
       "9833  2022      Nissan                 SUV    NaN\n",
       "9834  2022      Subaru               Coupe    NaN\n",
       "9835  2022  Volkswagen                 SUV    NaN\n",
       "\n",
       "[9836 rows x 4 columns]"
      ]
     },
     "execution_count": 3,
     "metadata": {},
     "output_type": "execute_result"
    }
   ],
   "source": [
    "car_dropmodel_price = car_model_price.drop(\"Model\", axis = 1)\n",
    "car_dropmodel_price"
   ]
  },
  {
   "cell_type": "markdown",
   "id": "66c0e3c6",
   "metadata": {},
   "source": [
    "##### Reduce the categories in “category” by assigning each car to a SOLE category if it has more than one in the original dataset such as “Convertible, Coupe” or “Coupe, Convertible”."
   ]
  },
  {
   "cell_type": "markdown",
   "id": "527db396",
   "metadata": {},
   "source": [
    "We should firstly determine how many cells are unique and what the unique values are. In order to do this, we can use the \"get_Dummies\" approach"
   ]
  },
  {
   "cell_type": "code",
   "execution_count": 4,
   "id": "2ca56023",
   "metadata": {},
   "outputs": [
    {
     "data": {
      "text/plain": [
       "Convertible                 964\n",
       "Convertible,Coupe             1\n",
       "Convertible,Sedan,Coupe       1\n",
       "Coupe                      1253\n",
       "Coupe,Convertible             3\n",
       "Hatchback                   754\n",
       "Hatchback,Sedan               3\n",
       "Pickup                     1645\n",
       "SUV                        2278\n",
       "SUV1992                       1\n",
       "SUV2020                       1\n",
       "Sedan                      2817\n",
       "Van/Minivan                1153\n",
       "Wagon                       620\n",
       "Wagon,Sedan                   1\n",
       "dtype: int64"
      ]
     },
     "execution_count": 4,
     "metadata": {},
     "output_type": "execute_result"
    }
   ],
   "source": [
    "car_dropmodel_price[\"Category\"].str.get_dummies(sep=', ').sum()"
   ]
  },
  {
   "cell_type": "markdown",
   "id": "d58a4987",
   "metadata": {},
   "source": [
    "Well, there are a lot of categories, and I can see the ones with multiple categories have a comma in them (if they have 2 or more) categories. So it perhaps makes sense of split along that."
   ]
  },
  {
   "cell_type": "code",
   "execution_count": 6,
   "id": "20c8d8d8",
   "metadata": {},
   "outputs": [
    {
     "data": {
      "text/html": [
       "<div>\n",
       "<style scoped>\n",
       "    .dataframe tbody tr th:only-of-type {\n",
       "        vertical-align: middle;\n",
       "    }\n",
       "\n",
       "    .dataframe tbody tr th {\n",
       "        vertical-align: top;\n",
       "    }\n",
       "\n",
       "    .dataframe thead th {\n",
       "        text-align: right;\n",
       "    }\n",
       "</style>\n",
       "<table border=\"1\" class=\"dataframe\">\n",
       "  <thead>\n",
       "    <tr style=\"text-align: right;\">\n",
       "      <th></th>\n",
       "      <th>a</th>\n",
       "    </tr>\n",
       "  </thead>\n",
       "  <tbody>\n",
       "    <tr>\n",
       "      <th>0</th>\n",
       "      <td>SUV</td>\n",
       "    </tr>\n",
       "    <tr>\n",
       "      <th>1</th>\n",
       "      <td>Sedan</td>\n",
       "    </tr>\n",
       "    <tr>\n",
       "      <th>2</th>\n",
       "      <td>SUV</td>\n",
       "    </tr>\n",
       "    <tr>\n",
       "      <th>3</th>\n",
       "      <td>Coupe</td>\n",
       "    </tr>\n",
       "    <tr>\n",
       "      <th>4</th>\n",
       "      <td>Sedan</td>\n",
       "    </tr>\n",
       "  </tbody>\n",
       "</table>\n",
       "</div>"
      ],
      "text/plain": [
       "       a\n",
       "0    SUV\n",
       "1  Sedan\n",
       "2    SUV\n",
       "3  Coupe\n",
       "4  Sedan"
      ]
     },
     "execution_count": 6,
     "metadata": {},
     "output_type": "execute_result"
    }
   ],
   "source": [
    "split_data = car_dropmodel_price[\"Category\"].str.split(\",\")\n",
    "data = split_data.to_list()\n",
    "names = [\"a\", \"b\", \"c\",\"d\"]\n",
    "new_df = pd.DataFrame(data, columns=names).drop(['b','c','d'], axis = 1)\n",
    "new_df.head()"
   ]
  },
  {
   "cell_type": "markdown",
   "id": "51fa7997",
   "metadata": {},
   "source": [
    "So my new temp column 'a' now has a single category each (look at row 4 for instance)"
   ]
  },
  {
   "cell_type": "code",
   "execution_count": 7,
   "id": "ea42dcab",
   "metadata": {},
   "outputs": [
    {
     "data": {
      "text/html": [
       "<div>\n",
       "<style scoped>\n",
       "    .dataframe tbody tr th:only-of-type {\n",
       "        vertical-align: middle;\n",
       "    }\n",
       "\n",
       "    .dataframe tbody tr th {\n",
       "        vertical-align: top;\n",
       "    }\n",
       "\n",
       "    .dataframe thead th {\n",
       "        text-align: right;\n",
       "    }\n",
       "</style>\n",
       "<table border=\"1\" class=\"dataframe\">\n",
       "  <thead>\n",
       "    <tr style=\"text-align: right;\">\n",
       "      <th></th>\n",
       "      <th>Year</th>\n",
       "      <th>Make</th>\n",
       "      <th>Price</th>\n",
       "      <th>Category</th>\n",
       "    </tr>\n",
       "  </thead>\n",
       "  <tbody>\n",
       "    <tr>\n",
       "      <th>0</th>\n",
       "      <td>2020</td>\n",
       "      <td>Audi</td>\n",
       "      <td>NaN</td>\n",
       "      <td>SUV</td>\n",
       "    </tr>\n",
       "    <tr>\n",
       "      <th>1</th>\n",
       "      <td>2020</td>\n",
       "      <td>Chevrolet</td>\n",
       "      <td>NaN</td>\n",
       "      <td>Sedan</td>\n",
       "    </tr>\n",
       "    <tr>\n",
       "      <th>2</th>\n",
       "      <td>2020</td>\n",
       "      <td>Cadillac</td>\n",
       "      <td>NaN</td>\n",
       "      <td>SUV</td>\n",
       "    </tr>\n",
       "    <tr>\n",
       "      <th>3</th>\n",
       "      <td>2020</td>\n",
       "      <td>Chevrolet</td>\n",
       "      <td>NaN</td>\n",
       "      <td>Coupe</td>\n",
       "    </tr>\n",
       "    <tr>\n",
       "      <th>4</th>\n",
       "      <td>2020</td>\n",
       "      <td>Acura</td>\n",
       "      <td>NaN</td>\n",
       "      <td>Sedan</td>\n",
       "    </tr>\n",
       "    <tr>\n",
       "      <th>...</th>\n",
       "      <td>...</td>\n",
       "      <td>...</td>\n",
       "      <td>...</td>\n",
       "      <td>...</td>\n",
       "    </tr>\n",
       "    <tr>\n",
       "      <th>9831</th>\n",
       "      <td>2022</td>\n",
       "      <td>Mitsubishi</td>\n",
       "      <td>NaN</td>\n",
       "      <td>SUV</td>\n",
       "    </tr>\n",
       "    <tr>\n",
       "      <th>9832</th>\n",
       "      <td>2022</td>\n",
       "      <td>Nissan</td>\n",
       "      <td>NaN</td>\n",
       "      <td>Pickup</td>\n",
       "    </tr>\n",
       "    <tr>\n",
       "      <th>9833</th>\n",
       "      <td>2022</td>\n",
       "      <td>Nissan</td>\n",
       "      <td>NaN</td>\n",
       "      <td>SUV</td>\n",
       "    </tr>\n",
       "    <tr>\n",
       "      <th>9834</th>\n",
       "      <td>2022</td>\n",
       "      <td>Subaru</td>\n",
       "      <td>NaN</td>\n",
       "      <td>Coupe</td>\n",
       "    </tr>\n",
       "    <tr>\n",
       "      <th>9835</th>\n",
       "      <td>2022</td>\n",
       "      <td>Volkswagen</td>\n",
       "      <td>NaN</td>\n",
       "      <td>SUV</td>\n",
       "    </tr>\n",
       "  </tbody>\n",
       "</table>\n",
       "<p>9836 rows × 4 columns</p>\n",
       "</div>"
      ],
      "text/plain": [
       "      Year        Make  Price Category\n",
       "0     2020        Audi    NaN      SUV\n",
       "1     2020   Chevrolet    NaN    Sedan\n",
       "2     2020    Cadillac    NaN      SUV\n",
       "3     2020   Chevrolet    NaN    Coupe\n",
       "4     2020       Acura    NaN    Sedan\n",
       "...    ...         ...    ...      ...\n",
       "9831  2022  Mitsubishi    NaN      SUV\n",
       "9832  2022      Nissan    NaN   Pickup\n",
       "9833  2022      Nissan    NaN      SUV\n",
       "9834  2022      Subaru    NaN    Coupe\n",
       "9835  2022  Volkswagen    NaN      SUV\n",
       "\n",
       "[9836 rows x 4 columns]"
      ]
     },
     "execution_count": 7,
     "metadata": {},
     "output_type": "execute_result"
    }
   ],
   "source": [
    "car_dropmodel_price= pd.concat([car_dropmodel_price, new_df], axis = 1)\n",
    "car_dropmodel_price = car_dropmodel_price.drop(['Category'], axis = 1)\n",
    "car_dropmodel_price.rename(columns = {'a':'Category'}, inplace = True)\n",
    "car_dropmodel_price"
   ]
  },
  {
   "cell_type": "markdown",
   "id": "a50b6554",
   "metadata": {},
   "source": [
    "Upon checking most are correct, except for \"Van/Minivan\", which is NOT seperated by a comma. That has to be replaced as well\n",
    "\n",
    "And what about \"SUV1992\" & \"SUV2020\"? We can categorise them both as \"SUV\""
   ]
  },
  {
   "cell_type": "code",
   "execution_count": 9,
   "id": "0b05926c",
   "metadata": {},
   "outputs": [
    {
     "data": {
      "text/plain": [
       "Convertible     459\n",
       "Coupe           902\n",
       "Hatchback       594\n",
       "Pickup         1642\n",
       "SUV            2274\n",
       "SUV1992           1\n",
       "SUV2020           1\n",
       "Sedan          2510\n",
       "Van/Minivan    1153\n",
       "Wagon           300\n",
       "dtype: int64"
      ]
     },
     "execution_count": 9,
     "metadata": {},
     "output_type": "execute_result"
    }
   ],
   "source": [
    "car_dropmodel_price[\"Category\"].str.get_dummies(sep=', ').sum()"
   ]
  },
  {
   "cell_type": "code",
   "execution_count": 10,
   "id": "14eeba26",
   "metadata": {},
   "outputs": [
    {
     "data": {
      "text/plain": [
       "Convertible     459\n",
       "Coupe           902\n",
       "Hatchback       594\n",
       "Pickup         1642\n",
       "SUV            2276\n",
       "Sedan          2510\n",
       "Van            1153\n",
       "Wagon           300\n",
       "dtype: int64"
      ]
     },
     "execution_count": 10,
     "metadata": {},
     "output_type": "execute_result"
    }
   ],
   "source": [
    "car_dropmodel_price['Category'] = car_dropmodel_price['Category'].str.replace('Van/Minivan', 'Van')\n",
    "car_dropmodel_price['Category'] = car_dropmodel_price['Category'].str.replace('SUV1992', 'SUV')\n",
    "car_dropmodel_price['Category'] = car_dropmodel_price['Category'].str.replace('SUV2020', 'SUV')\n",
    "car_dropmodel_price[\"Category\"].str.get_dummies(sep=', ').sum()"
   ]
  },
  {
   "cell_type": "markdown",
   "id": "cf5dc6d0",
   "metadata": {},
   "source": [
    "At this stage, the data set is clean and ready for the next stage. This is a good place to create a checkpoint file"
   ]
  },
  {
   "cell_type": "code",
   "execution_count": 11,
   "id": "c02782a3",
   "metadata": {},
   "outputs": [],
   "source": [
    "car_dropmodel_price.to_csv(\"car_dropmodel_price.csv\", index = False)"
   ]
  },
  {
   "cell_type": "markdown",
   "id": "c9e46e9d",
   "metadata": {},
   "source": [
    "##### Create a training and a testing dataset. The proportion here should be 0.7:0.3 and the random state should be set to 0."
   ]
  },
  {
   "cell_type": "code",
   "execution_count": 14,
   "id": "d9a0a0c5",
   "metadata": {},
   "outputs": [],
   "source": [
    "# Sklearn Liraries\n",
    "from sklearn import preprocessing\n",
    "from sklearn.model_selection import train_test_split"
   ]
  },
  {
   "cell_type": "markdown",
   "id": "ee567d7e",
   "metadata": {},
   "source": [
    "##### Now we will create a train: test data set. Actually, in machine learning, you need 3 sets called a \"train\", \"test\" and \"validate\" set. \n",
    "\n",
    "1) Training Dataset: The sample of data used to fit the model.\n",
    "\n",
    "2) Test Dataset: The sample of data used to provide an unbiased evaluation of a model fit on the training dataset while tuning model hyperparameters. The evaluation becomes more biased as skill on the test dataset is incorporated into the model configuration.\n",
    "\n",
    "3) Validation Dataset (also known as an \"out-of-sample\" test set: The sample of data used to provide an unbiased evaluation of a final model fit on the training dataset. A validation dataset is often newly collected data you want to put through your machine learning model\n",
    "\n",
    "(I wont cover how to get this, here because I dont want to deviate from your lessons, but note such things do exist)"
   ]
  },
  {
   "cell_type": "markdown",
   "id": "017785d4",
   "metadata": {},
   "source": [
    "##### There are 2 stages that you need to do when you want to crete a train-test split. The first stage is known as feature selection"
   ]
  },
  {
   "cell_type": "code",
   "execution_count": 12,
   "id": "03f8abd7",
   "metadata": {},
   "outputs": [
    {
     "name": "stdout",
     "output_type": "stream",
     "text": [
      "   Year       Make Category\n",
      "0  2020       Audi      SUV\n",
      "1  2020  Chevrolet    Sedan\n",
      "2  2020   Cadillac      SUV\n",
      "3  2020  Chevrolet    Coupe\n",
      "4  2020      Acura    Sedan\n",
      "[nan nan nan nan nan]\n",
      "(9836, 3) (9836,)\n"
     ]
    }
   ],
   "source": [
    "# Feature Selection on data frame\n",
    "\n",
    "#Create a copy\n",
    "car_train_test_set=car_dropmodel_price.copy()\n",
    "\n",
    "Feature = car_train_test_set[[\n",
    "    'Year', \n",
    "    'Make', \n",
    "    'Category',\n",
    "]]\n",
    "x=Feature\n",
    "\n",
    "y = car_train_test_set['Price'].values\n",
    "\n",
    "print(x.head())\n",
    "print(y[0:5])\n",
    "print(x.shape, y.shape)"
   ]
  },
  {
   "cell_type": "markdown",
   "id": "c970af29",
   "metadata": {},
   "source": [
    "##### Now we do the train test split proper. A random state of \"0\" is simply a seed to the random generator, so that your train-test splits are always deterministic. If you don't set a seed, it is different each time."
   ]
  },
  {
   "cell_type": "code",
   "execution_count": 15,
   "id": "c7eac9a8",
   "metadata": {
    "scrolled": true
   },
   "outputs": [
    {
     "name": "stdout",
     "output_type": "stream",
     "text": [
      "Train Set:  (6885, 3) (6885,)\n",
      "6017           GMC\n",
      "7663        Subaru\n",
      "828          Honda\n",
      "6465        Suzuki\n",
      "2310    Volkswagen\n",
      "Name: Make, dtype: object\n",
      "\n",
      "\n",
      "Test Set:  (2951, 3) (2951,)\n",
      "4869     Chevrolet\n",
      "9502       Mercury\n",
      "9835    Volkswagen\n",
      "6533     Chevrolet\n",
      "9784        Toyota\n",
      "Name: Make, dtype: object\n"
     ]
    }
   ],
   "source": [
    "random_state = 0\n",
    "test_size = 0.3\n",
    "\n",
    "x_train, x_test, y_train, y_test  = train_test_split(\n",
    "            x, y, test_size = test_size, random_state = random_state\n",
    ")\n",
    "\n",
    "print('Train Set: ', x_train.shape, y_train.shape)\n",
    "print(x_train['Make'][0:5])\n",
    "print(\"\\n\")\n",
    "print('Test Set: ', x_test.shape, y_test.shape)\n",
    "print(x_test['Make'][0:5])"
   ]
  },
  {
   "cell_type": "markdown",
   "id": "899ee0df",
   "metadata": {},
   "source": [
    "##### Now I am going to teach you something new, called \"pickling\", which is basically a way to convert an object in memory to a byte stream that can be stored on disk or sent over a network. Useful within python, but should not be used across different programming languages"
   ]
  },
  {
   "cell_type": "code",
   "execution_count": null,
   "id": "209c7a7a",
   "metadata": {},
   "outputs": [],
   "source": [
    "import pickle\n",
    "# Pickle all sets and models\n",
    "\n",
    "# Train and Test Set\n",
    "with open('x_train', 'wb') as file:\n",
    "    pickle.dump(x_train, file)\n",
    "with open('x_test', 'wb') as file:\n",
    "    pickle.dump(x_test, file)\n",
    "with open('y_train', 'wb') as file:\n",
    "    pickle.dump(y_train, file)\n",
    "with open('y_test', 'wb') as file:\n",
    "    pickle.dump(y_test, file)"
   ]
  },
  {
   "cell_type": "markdown",
   "id": "8198f2c1",
   "metadata": {},
   "source": [
    "For completeness this is how you now \"unpickle\" or extract the data you need"
   ]
  },
  {
   "cell_type": "code",
   "execution_count": null,
   "id": "3f8a8f86",
   "metadata": {},
   "outputs": [],
   "source": [
    "# Unpickle all the training and testing data sets\n",
    "\n",
    "x_train = pickle.load(open(\"x_train\", \"rb\"))\n",
    "print('x Training Set: ', x_train[0:5])\n",
    "print('Shape x Training Set: ', x_train.shape)\n",
    "print('\\n')\n",
    "\n",
    "x_test = pickle.load(open(\"x_test\", \"rb\"))\n",
    "print('x Testing Set: ', x_test[0:5])\n",
    "print('Shape x Testing Set: ', x_test.shape)\n",
    "print('\\n')\n",
    "\n",
    "y_train  = pickle.load(open(\"y_train\", \"rb\"))\n",
    "#print('Y Training Set: ', y_train[0:5])\n",
    "#print('Shape Y Training Set: ', y_train.shape)\n",
    "#print('\\n')\n",
    "\n",
    "y_test  = pickle.load(open(\"y_test\", \"rb\"))\n",
    "#print('Y Testing Set: ', y_test[0:5])\n",
    "#print('Shape Y Testing Set: ', y_test.shape)"
   ]
  }
 ],
 "metadata": {
  "kernelspec": {
   "display_name": "Python 3",
   "language": "python",
   "name": "python3"
  },
  "language_info": {
   "codemirror_mode": {
    "name": "ipython",
    "version": 3
   },
   "file_extension": ".py",
   "mimetype": "text/x-python",
   "name": "python",
   "nbconvert_exporter": "python",
   "pygments_lexer": "ipython3",
   "version": "3.8.10"
  }
 },
 "nbformat": 4,
 "nbformat_minor": 5
}
