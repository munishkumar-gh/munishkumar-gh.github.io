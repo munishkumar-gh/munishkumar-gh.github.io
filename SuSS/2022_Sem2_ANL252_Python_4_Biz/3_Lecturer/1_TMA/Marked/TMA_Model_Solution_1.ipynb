{
 "cells": [
  {
   "cell_type": "code",
   "execution_count": 1,
   "id": "45ad803a",
   "metadata": {},
   "outputs": [],
   "source": [
    "import math"
   ]
  },
  {
   "cell_type": "code",
   "execution_count": 2,
   "id": "43074af9",
   "metadata": {},
   "outputs": [
    {
     "name": "stdout",
     "output_type": "stream",
     "text": [
      "Enter the mean of the distribution (minus infinity (–∞) and plus infinity (+∞), default is mean = 0): 5\n",
      "The mean entered is 5.0\n"
     ]
    }
   ],
   "source": [
    "while True:\n",
    "    try:\n",
    "        mean_input = float(input(\"Enter the mean of the distribution (minus infinity (–∞) and plus infinity (+∞), default is mean = 0): \") or \"0\")\n",
    "    except ValueError:\n",
    "        print(\"\")\n",
    "        print(\"The value of the mean must be a number.\\nPlease try again.\")\n",
    "        print(\"\")\n",
    "        continue\n",
    "    else:\n",
    "        print(f\"The mean entered is {mean_input}\")\n",
    "        break \n"
   ]
  },
  {
   "cell_type": "code",
   "execution_count": 3,
   "id": "91eed46c",
   "metadata": {},
   "outputs": [
    {
     "name": "stdout",
     "output_type": "stream",
     "text": [
      "Enter the variance of the distribution (value must be larger than 0, default is variance = 1): 5\n",
      "The variance entered is 5.0\n"
     ]
    }
   ],
   "source": [
    "while True:\n",
    "    try:\n",
    "        variance_input = float(input(\"Enter the variance of the distribution (value must be larger than 0, default is variance = 1): \") or \"1\")\n",
    "    except ValueError:\n",
    "        print(\"\")\n",
    "        print(\"The value of the variance must be a number.\\nPlease try again.\")\n",
    "        print(\"\")\n",
    "        continue\n",
    "    if variance_input <= 0:\n",
    "        print(\"\")\n",
    "        print(\"The value of the variance must be larger than 0.\\nPlease try again.\")\n",
    "        print(\"\")\n",
    "        continue\n",
    "    else:\n",
    "        print(f\"The variance entered is {variance_input}\")\n",
    "        break \n"
   ]
  },
  {
   "cell_type": "code",
   "execution_count": 4,
   "id": "dc73aaab",
   "metadata": {},
   "outputs": [
    {
     "name": "stdout",
     "output_type": "stream",
     "text": [
      "Please enter the value of X (minus infinity (–∞) and plus infinity (+∞)): 5\n",
      "The value of x entered is 5.0\n",
      "\n"
     ]
    }
   ],
   "source": [
    "while True:\n",
    "    try:\n",
    "        x_input = float(input(\"Please enter the value of X (minus infinity (–∞) and plus infinity (+∞)): \"))\n",
    "    except ValueError:\n",
    "        print(\"\")\n",
    "        print(\"The value of X must be a number.\\nPlease try again.\")\n",
    "        print(\"\")\n",
    "        continue\n",
    "    else:\n",
    "        print(f\"The value of x entered is {x_input}\")\n",
    "        break\n",
    "print(\"\")\n"
   ]
  },
  {
   "cell_type": "code",
   "execution_count": 5,
   "id": "5963a798",
   "metadata": {},
   "outputs": [],
   "source": [
    "def pdf_function(mean, variance, X):\n",
    "    fx_value = (1 / math.sqrt(2*math.pi*variance))*math.exp(-(X-mean)**2 / 2*variance)\n",
    "    return fx_value\n",
    "# Using the earlier inputs for the pdf_function.\n",
    "pdf = pdf_function(mean_input, variance_input, x_input)\n"
   ]
  },
  {
   "cell_type": "code",
   "execution_count": 6,
   "id": "eaa3c056",
   "metadata": {},
   "outputs": [
    {
     "name": "stdout",
     "output_type": "stream",
     "text": [
      "-------------------------------------------------------------------------------------------------------------------------------------------------------------------------------------\n",
      "The probability of a normally distributed random variable (X) = 5.0 given the distribution mean = 5.0 and variance = 5.0 is:\n",
      "fx(x): 0.1784124116152771\n",
      "-------------------------------------------------------------------------------------------------------------------------------------------------------------------------------------\n",
      "\n"
     ]
    }
   ],
   "source": [
    "# Formatted printing to display the result of (d) to the user.\n",
    "print(\"-------------------------------------------------------------------------------------------------------------------------------------------------------------------------------------\")\n",
    "print(f\"The probability of a normally distributed random variable (X) = {x_input} given the distribution mean = {mean_input} and variance = {variance_input} is:\\nfx(x): {pdf}\")\n",
    "print(\"-------------------------------------------------------------------------------------------------------------------------------------------------------------------------------------\")\n",
    "print(\"\")\n"
   ]
  },
  {
   "cell_type": "code",
   "execution_count": 7,
   "id": "636f438a",
   "metadata": {},
   "outputs": [
    {
     "name": "stdout",
     "output_type": "stream",
     "text": [
      "The next program is to compute the probability of a normally distributed random variable X smaller equal to a value k P(X ≤ k) which can be determined by the cumulative distribution function (cdf).\n",
      "Please enter the following values. (Note: if you do not provide any values for the alpha and a, the values will be 0.01 and -100 respectively.)\n",
      "\n",
      "Enter Alpha (step range, default is alpha = 0.01): \n",
      "The Alpha entered is 0.01\n"
     ]
    }
   ],
   "source": [
    "# This part is to use cumulative distribution function (cdf) to compute P(X ≤ k).\n",
    "# ----------------------------------------------------------------------------------------\n",
    "# Start the next part of program (cdf) by print to tell the user what the program is about.\n",
    "print(\"The next program is to compute the probability of a normally distributed random variable X smaller equal to a value k P(X ≤ k) which can be determined by the cumulative distribution function (cdf).\")\n",
    "print(\"Please enter the following values. (Note: if you do not provide any values for the alpha and a, the values will be 0.01 and -100 respectively.)\")\n",
    "print(\"\")\n",
    "\n",
    "# User to enter the alpha value (step range).\n",
    "# Use try, except and else for error handling in case user enter the wrong input types. This is to ensure that the user's input is numeric.\n",
    "# Use while loop so that if user enters the wrong inputs, program does not crash and instead, allows user a chance to enter the right input.\n",
    "# Use 'or' to ensure that if user press ENTER without providing any values, program will automatically set alpha to 0.01.\n",
    "# Print the value entered to display to the user.\n",
    "while True:\n",
    "    try:\n",
    "        alpha_input = float(input(\"Enter Alpha (step range, default is alpha = 0.01): \") or \"0.01\")\n",
    "    except ValueError:\n",
    "        print(\"\")\n",
    "        print(\"The value of Alpha must be a number.\\nPlease try again.\")\n",
    "        print(\"\")\n",
    "        continue\n",
    "    else:\n",
    "        print(f\"The Alpha entered is {alpha_input}\")\n",
    "        break \n"
   ]
  },
  {
   "cell_type": "code",
   "execution_count": 8,
   "id": "4771ea77",
   "metadata": {},
   "outputs": [
    {
     "name": "stdout",
     "output_type": "stream",
     "text": [
      "Enter value a (a number close to minus infinity (–∞), default is a = -100): \n",
      "The value of a entered is -100.0\n",
      "\n"
     ]
    }
   ],
   "source": [
    "# User to enter the a value.\n",
    "# Use try, except and else for error handling in case user enter the wrong input types. This is to ensure that the user's input is numeric.\n",
    "# Use if function to ensure that the input value is negative.\n",
    "# Use while loop so that if user enters the wrong inputs, program does not crash and instead, allows user a chance to enter the right input.\n",
    "# Use 'or' to ensure that if user press ENTER without providing any values, program will automatically set the value of a to -100.\n",
    "# Print the value entered to display to the user.\n",
    "while True:\n",
    "    try:\n",
    "        a_input = float(input(\"Enter value a (a number close to minus infinity (–∞), default is a = -100): \") or \"-100\")\n",
    "    except ValueError:\n",
    "        print(\"\")\n",
    "        print(\"The value of a must be a number.\\nPlease try again.\")\n",
    "        print(\"\")\n",
    "        continue\n",
    "    if a_input >= 0:\n",
    "        print(\"\")\n",
    "        print(\"The value of a must be negative.\\nPlease try again.\")\n",
    "        print(\"\")\n",
    "        continue\n",
    "    else:\n",
    "        print(f\"The value of a entered is {a_input}\")\n",
    "        break\n",
    "print(\"\")\n"
   ]
  },
  {
   "cell_type": "code",
   "execution_count": 9,
   "id": "2308d5d8",
   "metadata": {},
   "outputs": [
    {
     "name": "stdout",
     "output_type": "stream",
     "text": [
      "-------------------------------------------------------------------------------------------------------------------------------------------------------------------------------------\n",
      "The probability of a normally distributed random variable X of smaller equal to a value k (P(X ≤ k)) when k = 5.0, with mean = 5.0, variance = 5.0, alpha = 0.01 and a = -100.0 is:\n",
      "P(X ≤ 5.0): 0.10089206205807642\n",
      "-------------------------------------------------------------------------------------------------------------------------------------------------------------------------------------\n",
      "\n"
     ]
    }
   ],
   "source": [
    "# Creating a CDF calculator using def.\n",
    "# CDF is the sum of cdf1, cdf2 and cd3 multiplied by alpha.\n",
    "def cdf_function(mean, variance, K, alpha, a):\n",
    "    cdf1 = pdf_function(mean, variance, a)\n",
    "\n",
    "# alpha is the step width.\n",
    "# terms_cdf2 is the number of terms we can put between a and k.\n",
    "# To find the number of terms, we take the difference of a and k and divide it by the step width (alpha).\n",
    "    terms_cdf2 = ((K - a) / alpha)\n",
    "    cdf2 = 0\n",
    "    while terms_cdf2 > 0:\n",
    "        variable_cdf2 = K - terms_cdf2*alpha\n",
    "        terms_cdf2 = terms_cdf2 - 1\n",
    "        cdf2 = cdf2 + pdf_function(mean, variance, variable_cdf2)\n",
    "    cdf3 = pdf_function(mean, variance, K)\n",
    "    fx_value2 = alpha*(cdf1 + cdf2 + cdf3)\n",
    "    return fx_value2\n",
    "# Using the earlier inputs for the cdf_function.\n",
    "CDF = cdf_function(mean_input, variance_input, x_input, alpha_input, a_input)\n",
    "# Formatted printing to show the result of the cdf.\n",
    "print(\"-------------------------------------------------------------------------------------------------------------------------------------------------------------------------------------\")\n",
    "print(f\"The probability of a normally distributed random variable X of smaller equal to a value k (P(X ≤ k)) when k = {x_input}, with mean = {mean_input}, variance = {variance_input}, alpha = {alpha_input} and a = {a_input} is:\\nP(X ≤ {x_input}): {CDF}\")\n",
    "print(\"-------------------------------------------------------------------------------------------------------------------------------------------------------------------------------------\")\n",
    "print(\"\")\n"
   ]
  },
  {
   "cell_type": "code",
   "execution_count": 10,
   "id": "8871c5a0",
   "metadata": {},
   "outputs": [
    {
     "name": "stdout",
     "output_type": "stream",
     "text": [
      "Furthermore, the probability results (P(X ≤ k)) when k = [0, 1.64, 1.96], with mean = 0, variance = 1, alpha = 0.01 and a = -100.0 is: \n",
      "P(X ≤ 0): 0.5019947114020076\n",
      "P(X ≤ 1.64): 0.9500158012001703\n",
      "P(X ≤ 1.96): 0.9752933550393629\n",
      "\n"
     ]
    }
   ],
   "source": [
    "# Checking the results for k from the the given k values with a mean and variance of 0 and 1.\n",
    "# Used a list for the k values.\n",
    "# Use the for loop to print the results of the different k values\n",
    "# Mean and variance is 0 and 1 respectively, thus hard code 0 and 1 into cdf_function\n",
    "k_variables = [0, 1.64, 1.96]\n",
    "print(f\"Furthermore, the probability results (P(X ≤ k)) when k = {k_variables}, with mean = 0, variance = 1, alpha = {alpha_input} and a = {a_input} is: \")\n",
    "for e in k_variables:\n",
    "    CDF_check = cdf_function(0, 1, e, alpha_input, a_input)\n",
    "    print(f\"P(X ≤ {e}): {CDF_check}\")\n",
    "print(\"\")\n"
   ]
  },
  {
   "cell_type": "code",
   "execution_count": 11,
   "id": "8d80787c",
   "metadata": {},
   "outputs": [
    {
     "name": "stdout",
     "output_type": "stream",
     "text": [
      "The probabilities (with the corresponding x) of those x’s between -2 and 2, with mean = 0, variance = 1, alpha = 0.01 and a = -100.0 is: \n",
      "P(X ≤ -2.0): 0.02302098662868725\n",
      "P(X ≤ -1.5): 0.06745640821915706\n",
      "P(X ≤ -1.0): 0.15986712398347858\n",
      "P(X ≤ -0.5): 0.31029933230539347\n",
      "P(X ≤ 0.0): 0.5019947114020076\n",
      "P(X ≤ 0.5): 0.6932213209622503\n",
      "P(X ≤ 1.0): 0.8425525832617138\n",
      "P(X ≤ 1.5): 0.9338387677375029\n",
      "P(X ≤ 2.0): 0.9775189230364457\n",
      "-------------------------------------------------------------------------------------------------------------------------------------------------------------------------------------\n",
      "\n",
      "Thank you for using this program.\n"
     ]
    }
   ],
   "source": [
    "# (h).\n",
    "# Create a dictionary to store the probabilities of the normal distribution for the given x values\n",
    "# ----------------------------------------------------------------------------------------\n",
    "# x values are the keys, and the corresponding probabilities are the values of the dictionary.\n",
    "# Mean and variance is 0 and 1 respectively, thus hard code 0 and 1 into cdf_function\n",
    "# Store x values from -5 to 5 with a step of 0.1 into the dictionary.\n",
    "d_P = {}\n",
    "x_keys = -5.0\n",
    "\n",
    "while round(x_keys, 1) <= 5.0:\n",
    "    CDF2_values = cdf_function(0, 1, round(x_keys,1), alpha_input, a_input)\n",
    "    d_P[round(x_keys, 1)] = CDF2_values\n",
    "    x_keys = x_keys + 0.1\n",
    "# print(d_P). This is to check if the dictionary is working.\n",
    "\n",
    "# Print all the probabilities (with the corresponding x) of those x’s between -2 and 2 with a step width of 0.5 from the dictionary onto the screen.\n",
    "print(f\"The probabilities (with the corresponding x) of those x’s between -2 and 2, with mean = 0, variance = 1, alpha = {alpha_input} and a = {a_input} is: \")\n",
    "x_keys = -2.0\n",
    "while round(x_keys, 1) <= 2.0:\n",
    "    print(f\"P(X ≤ {round(x_keys, 1)}): {d_P[round(x_keys, 1)]}\")\n",
    "    x_keys = x_keys + 0.5\n",
    "print(\"-------------------------------------------------------------------------------------------------------------------------------------------------------------------------------------\")\n",
    "print(\"\")\n",
    "print(\"Thank you for using this program.\")\n"
   ]
  },
  {
   "cell_type": "code",
   "execution_count": null,
   "id": "fcb5fd44",
   "metadata": {},
   "outputs": [],
   "source": []
  }
 ],
 "metadata": {
  "kernelspec": {
   "display_name": "Python 3",
   "language": "python",
   "name": "python3"
  },
  "language_info": {
   "codemirror_mode": {
    "name": "ipython",
    "version": 3
   },
   "file_extension": ".py",
   "mimetype": "text/x-python",
   "name": "python",
   "nbconvert_exporter": "python",
   "pygments_lexer": "ipython3",
   "version": "3.8.10"
  }
 },
 "nbformat": 4,
 "nbformat_minor": 5
}
