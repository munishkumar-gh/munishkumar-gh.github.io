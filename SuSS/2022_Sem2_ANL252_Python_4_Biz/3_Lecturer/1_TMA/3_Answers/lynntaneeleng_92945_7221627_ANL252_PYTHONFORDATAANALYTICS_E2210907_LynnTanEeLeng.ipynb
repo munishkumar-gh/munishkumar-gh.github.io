{
 "cells": [
  {
   "cell_type": "code",
   "execution_count": 1,
   "id": "d43156e6",
   "metadata": {},
   "outputs": [
    {
     "ename": "ModuleNotFoundError",
     "evalue": "No module named 'pandas'",
     "output_type": "error",
     "traceback": [
      "\u001b[1;31m---------------------------------------------------------------------------\u001b[0m",
      "\u001b[1;31mModuleNotFoundError\u001b[0m                       Traceback (most recent call last)",
      "Input \u001b[1;32mIn [1]\u001b[0m, in \u001b[0;36m<cell line: 1>\u001b[1;34m()\u001b[0m\n\u001b[1;32m----> 1\u001b[0m \u001b[38;5;28;01mimport\u001b[39;00m \u001b[38;5;21;01mpandas\u001b[39;00m \u001b[38;5;28;01mas\u001b[39;00m \u001b[38;5;21;01mpd\u001b[39;00m\n",
      "\u001b[1;31mModuleNotFoundError\u001b[0m: No module named 'pandas'"
     ]
    }
   ],
   "source": [
    "import pandas as pd"
   ]
  },
  {
   "cell_type": "code",
   "execution_count": null,
   "id": "ab6209a0",
   "metadata": {},
   "outputs": [],
   "source": [
    "df = pd.read_csv('TMA_Data.csv', parse_dates=['BirthYear', 'JoinDate', 'LeftDate'])"
   ]
  },
  {
   "cell_type": "code",
   "execution_count": null,
   "id": "bbdb4457",
   "metadata": {},
   "outputs": [],
   "source": [
    "df.head()"
   ]
  },
  {
   "cell_type": "code",
   "execution_count": null,
   "id": "7b10d97e",
   "metadata": {},
   "outputs": [],
   "source": [
    "df.plot.scatter(x='Salary', y='Satisfaction')"
   ]
  },
  {
   "cell_type": "code",
   "execution_count": null,
   "id": "b944aaf3",
   "metadata": {},
   "outputs": [],
   "source": [
    "df_groups = df.groupby('PerformanceScore')"
   ]
  },
  {
   "cell_type": "code",
   "execution_count": null,
   "id": "ce986f96",
   "metadata": {},
   "outputs": [],
   "source": [
    "mean_absence_of_performance = df_groups['Absence'].agg('mean')"
   ]
  },
  {
   "cell_type": "code",
   "execution_count": null,
   "id": "b163524a",
   "metadata": {},
   "outputs": [],
   "source": [
    "mean_absence_of_performance.plot.bar()"
   ]
  },
  {
   "cell_type": "code",
   "execution_count": null,
   "id": "a523221a",
   "metadata": {},
   "outputs": [],
   "source": [
    "df.LeftDate.fillna('2022-05-01', inplace=True)"
   ]
  },
  {
   "cell_type": "code",
   "execution_count": null,
   "id": "95361b4a",
   "metadata": {},
   "outputs": [],
   "source": [
    "df.head()"
   ]
  },
  {
   "cell_type": "code",
   "execution_count": null,
   "id": "12950b24",
   "metadata": {},
   "outputs": [],
   "source": [
    "df['Duration'] = df['LeftDate'] - df['JoinDate']"
   ]
  },
  {
   "cell_type": "code",
   "execution_count": null,
   "id": "d53dea72",
   "metadata": {},
   "outputs": [],
   "source": [
    "df.head()"
   ]
  },
  {
   "cell_type": "code",
   "execution_count": null,
   "id": "c4e51ee3",
   "metadata": {},
   "outputs": [],
   "source": [
    "from datetime import timedelta\n",
    "\n",
    "year = timedelta(days=365)"
   ]
  },
  {
   "cell_type": "code",
   "execution_count": null,
   "id": "c7750597",
   "metadata": {},
   "outputs": [],
   "source": [
    "minimum_duration = df.Duration.min()"
   ]
  },
  {
   "cell_type": "code",
   "execution_count": null,
   "id": "3743b220",
   "metadata": {},
   "outputs": [],
   "source": [
    "print(f\"{minimum_duration / year :.1f}\")"
   ]
  },
  {
   "cell_type": "markdown",
   "id": "d98d8770",
   "metadata": {},
   "source": [
    "The minimum duration of service is 0.1 years"
   ]
  },
  {
   "cell_type": "code",
   "execution_count": null,
   "id": "b03dc8b4",
   "metadata": {},
   "outputs": [],
   "source": [
    "maximum_duration = df.Duration.max()"
   ]
  },
  {
   "cell_type": "code",
   "execution_count": null,
   "id": "8f50a3a8",
   "metadata": {},
   "outputs": [],
   "source": [
    "print(f\"{maximum_duration / year :.1f}\")"
   ]
  },
  {
   "cell_type": "markdown",
   "id": "c6f7cd73",
   "metadata": {},
   "source": [
    "The maximum duration of service if 16.3 years"
   ]
  },
  {
   "cell_type": "code",
   "execution_count": null,
   "id": "d18f4ddb",
   "metadata": {},
   "outputs": [],
   "source": [
    "mean_duration = df.Duration.mean()"
   ]
  },
  {
   "cell_type": "code",
   "execution_count": null,
   "id": "96bd14f2",
   "metadata": {},
   "outputs": [],
   "source": [
    "print(f\"{mean_duration / year :.1f}\")"
   ]
  },
  {
   "cell_type": "markdown",
   "id": "a21f0689",
   "metadata": {},
   "source": [
    "The average length of service is 6.8 years"
   ]
  },
  {
   "cell_type": "code",
   "execution_count": null,
   "id": "7d710cfc",
   "metadata": {},
   "outputs": [],
   "source": [
    "def program():\n",
    "    while True:\n",
    "        print(\"Enter name to check if person is in organization or hit <enter> key to quit\")\n",
    "        name = input(\"Enter:  \")\n",
    "        \n",
    "        if name == '':\n",
    "            break\n",
    "        elif name in df.Staff.values:\n",
    "            print(f\"{name} is a staff in the organization\")\n",
    "        else:\n",
    "            print(f\"Could not find {name}\")\n",
    "    \n",
    "    print(\"Application Ended\")"
   ]
  },
  {
   "cell_type": "code",
   "execution_count": null,
   "id": "61205b01",
   "metadata": {},
   "outputs": [],
   "source": [
    "## Uncomment to run\n",
    "# program()"
   ]
  }
 ],
 "metadata": {
  "kernelspec": {
   "display_name": "Python 3 (ipykernel)",
   "language": "python",
   "name": "python3"
  },
  "language_info": {
   "codemirror_mode": {
    "name": "ipython",
    "version": 3
   },
   "file_extension": ".py",
   "mimetype": "text/x-python",
   "name": "python",
   "nbconvert_exporter": "python",
   "pygments_lexer": "ipython3",
   "version": "3.10.4"
  }
 },
 "nbformat": 4,
 "nbformat_minor": 5
}
