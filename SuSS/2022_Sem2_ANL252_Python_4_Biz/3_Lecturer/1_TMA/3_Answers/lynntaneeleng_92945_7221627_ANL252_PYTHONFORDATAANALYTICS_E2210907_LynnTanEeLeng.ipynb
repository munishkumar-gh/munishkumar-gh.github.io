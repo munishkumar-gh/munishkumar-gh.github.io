{
 "cells": [
  {
   "cell_type": "code",
   "execution_count": 1,
   "id": "d43156e6",
   "metadata": {},
   "outputs": [],
   "source": [
    "import pandas as pd"
   ]
  },
  {
   "cell_type": "code",
   "execution_count": 2,
   "id": "ab6209a0",
   "metadata": {},
   "outputs": [],
   "source": [
    "df = pd.read_csv('TMA_Data.csv', parse_dates=['BirthYear', 'JoinDate', 'LeftDate'])"
   ]
  },
  {
   "cell_type": "code",
   "execution_count": 3,
   "id": "bbdb4457",
   "metadata": {},
   "outputs": [
    {
     "data": {
      "text/html": [
       "<div>\n",
       "<style scoped>\n",
       "    .dataframe tbody tr th:only-of-type {\n",
       "        vertical-align: middle;\n",
       "    }\n",
       "\n",
       "    .dataframe tbody tr th {\n",
       "        vertical-align: top;\n",
       "    }\n",
       "\n",
       "    .dataframe thead th {\n",
       "        text-align: right;\n",
       "    }\n",
       "</style>\n",
       "<table border=\"1\" class=\"dataframe\">\n",
       "  <thead>\n",
       "    <tr style=\"text-align: right;\">\n",
       "      <th></th>\n",
       "      <th>ID</th>\n",
       "      <th>Staff</th>\n",
       "      <th>BirthYear</th>\n",
       "      <th>Gender</th>\n",
       "      <th>Marital</th>\n",
       "      <th>Citizenship</th>\n",
       "      <th>Minority</th>\n",
       "      <th>JoinDate</th>\n",
       "      <th>LeftDate</th>\n",
       "      <th>Unit</th>\n",
       "      <th>Salary</th>\n",
       "      <th>PerformanceScore</th>\n",
       "      <th>Survey</th>\n",
       "      <th>Satisfaction</th>\n",
       "      <th>Absence</th>\n",
       "    </tr>\n",
       "  </thead>\n",
       "  <tbody>\n",
       "    <tr>\n",
       "      <th>0</th>\n",
       "      <td>1</td>\n",
       "      <td>Aairah Hastings</td>\n",
       "      <td>1986-10-07</td>\n",
       "      <td>F</td>\n",
       "      <td>Single</td>\n",
       "      <td>Citizen</td>\n",
       "      <td>Yes</td>\n",
       "      <td>2012-04-02</td>\n",
       "      <td>NaT</td>\n",
       "      <td>Manufacturing</td>\n",
       "      <td>46335</td>\n",
       "      <td>Meet</td>\n",
       "      <td>3.4</td>\n",
       "      <td>5</td>\n",
       "      <td>15</td>\n",
       "    </tr>\n",
       "    <tr>\n",
       "      <th>1</th>\n",
       "      <td>2</td>\n",
       "      <td>Aaminah Mcmillan</td>\n",
       "      <td>1986-05-25</td>\n",
       "      <td>F</td>\n",
       "      <td>Married</td>\n",
       "      <td>Citizen</td>\n",
       "      <td>No</td>\n",
       "      <td>2014-05-12</td>\n",
       "      <td>NaT</td>\n",
       "      <td>Manufacturing</td>\n",
       "      <td>66825</td>\n",
       "      <td>Meet</td>\n",
       "      <td>4.6</td>\n",
       "      <td>3</td>\n",
       "      <td>20</td>\n",
       "    </tr>\n",
       "    <tr>\n",
       "      <th>2</th>\n",
       "      <td>3</td>\n",
       "      <td>Aamna Howell</td>\n",
       "      <td>1985-04-20</td>\n",
       "      <td>F</td>\n",
       "      <td>Single</td>\n",
       "      <td>Citizen</td>\n",
       "      <td>No</td>\n",
       "      <td>2014-09-29</td>\n",
       "      <td>NaT</td>\n",
       "      <td>Manufacturing</td>\n",
       "      <td>60446</td>\n",
       "      <td>Meet</td>\n",
       "      <td>3.4</td>\n",
       "      <td>4</td>\n",
       "      <td>14</td>\n",
       "    </tr>\n",
       "    <tr>\n",
       "      <th>3</th>\n",
       "      <td>4</td>\n",
       "      <td>Aayan Ferrell</td>\n",
       "      <td>1984-06-10</td>\n",
       "      <td>M</td>\n",
       "      <td>Married</td>\n",
       "      <td>Citizen</td>\n",
       "      <td>No</td>\n",
       "      <td>2016-01-05</td>\n",
       "      <td>NaT</td>\n",
       "      <td>Admin</td>\n",
       "      <td>93046</td>\n",
       "      <td>Meet</td>\n",
       "      <td>4.1</td>\n",
       "      <td>4</td>\n",
       "      <td>20</td>\n",
       "    </tr>\n",
       "    <tr>\n",
       "      <th>4</th>\n",
       "      <td>5</td>\n",
       "      <td>Ace Potter</td>\n",
       "      <td>1989-09-08</td>\n",
       "      <td>F</td>\n",
       "      <td>Divorced</td>\n",
       "      <td>Citizen</td>\n",
       "      <td>No</td>\n",
       "      <td>2011-07-11</td>\n",
       "      <td>2020-09-06</td>\n",
       "      <td>Manufacturing</td>\n",
       "      <td>50825</td>\n",
       "      <td>Meet</td>\n",
       "      <td>5.0</td>\n",
       "      <td>4</td>\n",
       "      <td>2</td>\n",
       "    </tr>\n",
       "  </tbody>\n",
       "</table>\n",
       "</div>"
      ],
      "text/plain": [
       "   ID             Staff  BirthYear Gender   Marital Citizenship Minority  \\\n",
       "0   1   Aairah Hastings 1986-10-07      F    Single     Citizen      Yes   \n",
       "1   2  Aaminah Mcmillan 1986-05-25      F   Married     Citizen       No   \n",
       "2   3      Aamna Howell 1985-04-20      F    Single     Citizen       No   \n",
       "3   4     Aayan Ferrell 1984-06-10     M    Married     Citizen       No   \n",
       "4   5        Ace Potter 1989-09-08      F  Divorced     Citizen       No   \n",
       "\n",
       "    JoinDate   LeftDate           Unit  Salary PerformanceScore  Survey  \\\n",
       "0 2012-04-02        NaT  Manufacturing   46335             Meet     3.4   \n",
       "1 2014-05-12        NaT  Manufacturing   66825             Meet     4.6   \n",
       "2 2014-09-29        NaT  Manufacturing   60446             Meet     3.4   \n",
       "3 2016-01-05        NaT         Admin    93046             Meet     4.1   \n",
       "4 2011-07-11 2020-09-06  Manufacturing   50825             Meet     5.0   \n",
       "\n",
       "   Satisfaction  Absence  \n",
       "0             5       15  \n",
       "1             3       20  \n",
       "2             4       14  \n",
       "3             4       20  \n",
       "4             4        2  "
      ]
     },
     "execution_count": 3,
     "metadata": {},
     "output_type": "execute_result"
    }
   ],
   "source": [
    "df.head()"
   ]
  },
  {
   "cell_type": "code",
   "execution_count": 4,
   "id": "7b10d97e",
   "metadata": {},
   "outputs": [
    {
     "data": {
      "text/plain": [
       "<AxesSubplot:xlabel='Salary', ylabel='Satisfaction'>"
      ]
     },
     "execution_count": 4,
     "metadata": {},
     "output_type": "execute_result"
    },
    {
     "data": {
      "image/png": "[encoded data removed]",
      "text/plain": [
       "<Figure size 432x288 with 1 Axes>"
      ]
     },
     "metadata": {
      "needs_background": "light"
     },
     "output_type": "display_data"
    }
   ],
   "source": [
    "df.plot.scatter(x='Salary', y='Satisfaction')"
   ]
  },
  {
   "cell_type": "code",
   "execution_count": 5,
   "id": "b944aaf3",
   "metadata": {},
   "outputs": [],
   "source": [
    "df_groups = df.groupby('PerformanceScore')"
   ]
  },
  {
   "cell_type": "code",
   "execution_count": 6,
   "id": "ce986f96",
   "metadata": {},
   "outputs": [],
   "source": [
    "mean_absence_of_performance = df_groups['Absence'].agg('mean')"
   ]
  },
  {
   "cell_type": "code",
   "execution_count": 7,
   "id": "b163524a",
   "metadata": {},
   "outputs": [
    {
     "data": {
      "text/plain": [
       "<AxesSubplot:xlabel='PerformanceScore'>"
      ]
     },
     "execution_count": 7,
     "metadata": {},
     "output_type": "execute_result"
    },
    {
     "data": {
      "image/png": "[encoded data removed]",
      "text/plain": [
       "<Figure size 432x288 with 1 Axes>"
      ]
     },
     "metadata": {
      "needs_background": "light"
     },
     "output_type": "display_data"
    }
   ],
   "source": [
    "mean_absence_of_performance.plot.bar()"
   ]
  },
  {
   "cell_type": "code",
   "execution_count": 8,
   "id": "a523221a",
   "metadata": {},
   "outputs": [],
   "source": [
    "df.LeftDate.fillna('2022-05-01', inplace=True)"
   ]
  },
  {
   "cell_type": "code",
   "execution_count": 9,
   "id": "95361b4a",
   "metadata": {},
   "outputs": [
    {
     "data": {
      "text/html": [
       "<div>\n",
       "<style scoped>\n",
       "    .dataframe tbody tr th:only-of-type {\n",
       "        vertical-align: middle;\n",
       "    }\n",
       "\n",
       "    .dataframe tbody tr th {\n",
       "        vertical-align: top;\n",
       "    }\n",
       "\n",
       "    .dataframe thead th {\n",
       "        text-align: right;\n",
       "    }\n",
       "</style>\n",
       "<table border=\"1\" class=\"dataframe\">\n",
       "  <thead>\n",
       "    <tr style=\"text-align: right;\">\n",
       "      <th></th>\n",
       "      <th>ID</th>\n",
       "      <th>Staff</th>\n",
       "      <th>BirthYear</th>\n",
       "      <th>Gender</th>\n",
       "      <th>Marital</th>\n",
       "      <th>Citizenship</th>\n",
       "      <th>Minority</th>\n",
       "      <th>JoinDate</th>\n",
       "      <th>LeftDate</th>\n",
       "      <th>Unit</th>\n",
       "      <th>Salary</th>\n",
       "      <th>PerformanceScore</th>\n",
       "      <th>Survey</th>\n",
       "      <th>Satisfaction</th>\n",
       "      <th>Absence</th>\n",
       "    </tr>\n",
       "  </thead>\n",
       "  <tbody>\n",
       "    <tr>\n",
       "      <th>0</th>\n",
       "      <td>1</td>\n",
       "      <td>Aairah Hastings</td>\n",
       "      <td>1986-10-07</td>\n",
       "      <td>F</td>\n",
       "      <td>Single</td>\n",
       "      <td>Citizen</td>\n",
       "      <td>Yes</td>\n",
       "      <td>2012-04-02</td>\n",
       "      <td>2022-05-01</td>\n",
       "      <td>Manufacturing</td>\n",
       "      <td>46335</td>\n",
       "      <td>Meet</td>\n",
       "      <td>3.4</td>\n",
       "      <td>5</td>\n",
       "      <td>15</td>\n",
       "    </tr>\n",
       "    <tr>\n",
       "      <th>1</th>\n",
       "      <td>2</td>\n",
       "      <td>Aaminah Mcmillan</td>\n",
       "      <td>1986-05-25</td>\n",
       "      <td>F</td>\n",
       "      <td>Married</td>\n",
       "      <td>Citizen</td>\n",
       "      <td>No</td>\n",
       "      <td>2014-05-12</td>\n",
       "      <td>2022-05-01</td>\n",
       "      <td>Manufacturing</td>\n",
       "      <td>66825</td>\n",
       "      <td>Meet</td>\n",
       "      <td>4.6</td>\n",
       "      <td>3</td>\n",
       "      <td>20</td>\n",
       "    </tr>\n",
       "    <tr>\n",
       "      <th>2</th>\n",
       "      <td>3</td>\n",
       "      <td>Aamna Howell</td>\n",
       "      <td>1985-04-20</td>\n",
       "      <td>F</td>\n",
       "      <td>Single</td>\n",
       "      <td>Citizen</td>\n",
       "      <td>No</td>\n",
       "      <td>2014-09-29</td>\n",
       "      <td>2022-05-01</td>\n",
       "      <td>Manufacturing</td>\n",
       "      <td>60446</td>\n",
       "      <td>Meet</td>\n",
       "      <td>3.4</td>\n",
       "      <td>4</td>\n",
       "      <td>14</td>\n",
       "    </tr>\n",
       "    <tr>\n",
       "      <th>3</th>\n",
       "      <td>4</td>\n",
       "      <td>Aayan Ferrell</td>\n",
       "      <td>1984-06-10</td>\n",
       "      <td>M</td>\n",
       "      <td>Married</td>\n",
       "      <td>Citizen</td>\n",
       "      <td>No</td>\n",
       "      <td>2016-01-05</td>\n",
       "      <td>2022-05-01</td>\n",
       "      <td>Admin</td>\n",
       "      <td>93046</td>\n",
       "      <td>Meet</td>\n",
       "      <td>4.1</td>\n",
       "      <td>4</td>\n",
       "      <td>20</td>\n",
       "    </tr>\n",
       "    <tr>\n",
       "      <th>4</th>\n",
       "      <td>5</td>\n",
       "      <td>Ace Potter</td>\n",
       "      <td>1989-09-08</td>\n",
       "      <td>F</td>\n",
       "      <td>Divorced</td>\n",
       "      <td>Citizen</td>\n",
       "      <td>No</td>\n",
       "      <td>2011-07-11</td>\n",
       "      <td>2020-09-06</td>\n",
       "      <td>Manufacturing</td>\n",
       "      <td>50825</td>\n",
       "      <td>Meet</td>\n",
       "      <td>5.0</td>\n",
       "      <td>4</td>\n",
       "      <td>2</td>\n",
       "    </tr>\n",
       "  </tbody>\n",
       "</table>\n",
       "</div>"
      ],
      "text/plain": [
       "   ID             Staff  BirthYear Gender   Marital Citizenship Minority  \\\n",
       "0   1   Aairah Hastings 1986-10-07      F    Single     Citizen      Yes   \n",
       "1   2  Aaminah Mcmillan 1986-05-25      F   Married     Citizen       No   \n",
       "2   3      Aamna Howell 1985-04-20      F    Single     Citizen       No   \n",
       "3   4     Aayan Ferrell 1984-06-10     M    Married     Citizen       No   \n",
       "4   5        Ace Potter 1989-09-08      F  Divorced     Citizen       No   \n",
       "\n",
       "    JoinDate   LeftDate           Unit  Salary PerformanceScore  Survey  \\\n",
       "0 2012-04-02 2022-05-01  Manufacturing   46335             Meet     3.4   \n",
       "1 2014-05-12 2022-05-01  Manufacturing   66825             Meet     4.6   \n",
       "2 2014-09-29 2022-05-01  Manufacturing   60446             Meet     3.4   \n",
       "3 2016-01-05 2022-05-01         Admin    93046             Meet     4.1   \n",
       "4 2011-07-11 2020-09-06  Manufacturing   50825             Meet     5.0   \n",
       "\n",
       "   Satisfaction  Absence  \n",
       "0             5       15  \n",
       "1             3       20  \n",
       "2             4       14  \n",
       "3             4       20  \n",
       "4             4        2  "
      ]
     },
     "execution_count": 9,
     "metadata": {},
     "output_type": "execute_result"
    }
   ],
   "source": [
    "df.head()"
   ]
  },
  {
   "cell_type": "code",
   "execution_count": 10,
   "id": "12950b24",
   "metadata": {},
   "outputs": [],
   "source": [
    "df['Duration'] = df['LeftDate'] - df['JoinDate']"
   ]
  },
  {
   "cell_type": "code",
   "execution_count": 11,
   "id": "d53dea72",
   "metadata": {},
   "outputs": [
    {
     "data": {
      "text/html": [
       "<div>\n",
       "<style scoped>\n",
       "    .dataframe tbody tr th:only-of-type {\n",
       "        vertical-align: middle;\n",
       "    }\n",
       "\n",
       "    .dataframe tbody tr th {\n",
       "        vertical-align: top;\n",
       "    }\n",
       "\n",
       "    .dataframe thead th {\n",
       "        text-align: right;\n",
       "    }\n",
       "</style>\n",
       "<table border=\"1\" class=\"dataframe\">\n",
       "  <thead>\n",
       "    <tr style=\"text-align: right;\">\n",
       "      <th></th>\n",
       "      <th>ID</th>\n",
       "      <th>Staff</th>\n",
       "      <th>BirthYear</th>\n",
       "      <th>Gender</th>\n",
       "      <th>Marital</th>\n",
       "      <th>Citizenship</th>\n",
       "      <th>Minority</th>\n",
       "      <th>JoinDate</th>\n",
       "      <th>LeftDate</th>\n",
       "      <th>Unit</th>\n",
       "      <th>Salary</th>\n",
       "      <th>PerformanceScore</th>\n",
       "      <th>Survey</th>\n",
       "      <th>Satisfaction</th>\n",
       "      <th>Absence</th>\n",
       "      <th>Duration</th>\n",
       "    </tr>\n",
       "  </thead>\n",
       "  <tbody>\n",
       "    <tr>\n",
       "      <th>0</th>\n",
       "      <td>1</td>\n",
       "      <td>Aairah Hastings</td>\n",
       "      <td>1986-10-07</td>\n",
       "      <td>F</td>\n",
       "      <td>Single</td>\n",
       "      <td>Citizen</td>\n",
       "      <td>Yes</td>\n",
       "      <td>2012-04-02</td>\n",
       "      <td>2022-05-01</td>\n",
       "      <td>Manufacturing</td>\n",
       "      <td>46335</td>\n",
       "      <td>Meet</td>\n",
       "      <td>3.4</td>\n",
       "      <td>5</td>\n",
       "      <td>15</td>\n",
       "      <td>3681 days</td>\n",
       "    </tr>\n",
       "    <tr>\n",
       "      <th>1</th>\n",
       "      <td>2</td>\n",
       "      <td>Aaminah Mcmillan</td>\n",
       "      <td>1986-05-25</td>\n",
       "      <td>F</td>\n",
       "      <td>Married</td>\n",
       "      <td>Citizen</td>\n",
       "      <td>No</td>\n",
       "      <td>2014-05-12</td>\n",
       "      <td>2022-05-01</td>\n",
       "      <td>Manufacturing</td>\n",
       "      <td>66825</td>\n",
       "      <td>Meet</td>\n",
       "      <td>4.6</td>\n",
       "      <td>3</td>\n",
       "      <td>20</td>\n",
       "      <td>2911 days</td>\n",
       "    </tr>\n",
       "    <tr>\n",
       "      <th>2</th>\n",
       "      <td>3</td>\n",
       "      <td>Aamna Howell</td>\n",
       "      <td>1985-04-20</td>\n",
       "      <td>F</td>\n",
       "      <td>Single</td>\n",
       "      <td>Citizen</td>\n",
       "      <td>No</td>\n",
       "      <td>2014-09-29</td>\n",
       "      <td>2022-05-01</td>\n",
       "      <td>Manufacturing</td>\n",
       "      <td>60446</td>\n",
       "      <td>Meet</td>\n",
       "      <td>3.4</td>\n",
       "      <td>4</td>\n",
       "      <td>14</td>\n",
       "      <td>2771 days</td>\n",
       "    </tr>\n",
       "    <tr>\n",
       "      <th>3</th>\n",
       "      <td>4</td>\n",
       "      <td>Aayan Ferrell</td>\n",
       "      <td>1984-06-10</td>\n",
       "      <td>M</td>\n",
       "      <td>Married</td>\n",
       "      <td>Citizen</td>\n",
       "      <td>No</td>\n",
       "      <td>2016-01-05</td>\n",
       "      <td>2022-05-01</td>\n",
       "      <td>Admin</td>\n",
       "      <td>93046</td>\n",
       "      <td>Meet</td>\n",
       "      <td>4.1</td>\n",
       "      <td>4</td>\n",
       "      <td>20</td>\n",
       "      <td>2308 days</td>\n",
       "    </tr>\n",
       "    <tr>\n",
       "      <th>4</th>\n",
       "      <td>5</td>\n",
       "      <td>Ace Potter</td>\n",
       "      <td>1989-09-08</td>\n",
       "      <td>F</td>\n",
       "      <td>Divorced</td>\n",
       "      <td>Citizen</td>\n",
       "      <td>No</td>\n",
       "      <td>2011-07-11</td>\n",
       "      <td>2020-09-06</td>\n",
       "      <td>Manufacturing</td>\n",
       "      <td>50825</td>\n",
       "      <td>Meet</td>\n",
       "      <td>5.0</td>\n",
       "      <td>4</td>\n",
       "      <td>2</td>\n",
       "      <td>3345 days</td>\n",
       "    </tr>\n",
       "  </tbody>\n",
       "</table>\n",
       "</div>"
      ],
      "text/plain": [
       "   ID             Staff  BirthYear Gender   Marital Citizenship Minority  \\\n",
       "0   1   Aairah Hastings 1986-10-07      F    Single     Citizen      Yes   \n",
       "1   2  Aaminah Mcmillan 1986-05-25      F   Married     Citizen       No   \n",
       "2   3      Aamna Howell 1985-04-20      F    Single     Citizen       No   \n",
       "3   4     Aayan Ferrell 1984-06-10     M    Married     Citizen       No   \n",
       "4   5        Ace Potter 1989-09-08      F  Divorced     Citizen       No   \n",
       "\n",
       "    JoinDate   LeftDate           Unit  Salary PerformanceScore  Survey  \\\n",
       "0 2012-04-02 2022-05-01  Manufacturing   46335             Meet     3.4   \n",
       "1 2014-05-12 2022-05-01  Manufacturing   66825             Meet     4.6   \n",
       "2 2014-09-29 2022-05-01  Manufacturing   60446             Meet     3.4   \n",
       "3 2016-01-05 2022-05-01         Admin    93046             Meet     4.1   \n",
       "4 2011-07-11 2020-09-06  Manufacturing   50825             Meet     5.0   \n",
       "\n",
       "   Satisfaction  Absence  Duration  \n",
       "0             5       15 3681 days  \n",
       "1             3       20 2911 days  \n",
       "2             4       14 2771 days  \n",
       "3             4       20 2308 days  \n",
       "4             4        2 3345 days  "
      ]
     },
     "execution_count": 11,
     "metadata": {},
     "output_type": "execute_result"
    }
   ],
   "source": [
    "df.head()"
   ]
  },
  {
   "cell_type": "code",
   "execution_count": 12,
   "id": "c4e51ee3",
   "metadata": {},
   "outputs": [],
   "source": [
    "from datetime import timedelta\n",
    "\n",
    "year = timedelta(days=365)"
   ]
  },
  {
   "cell_type": "code",
   "execution_count": 13,
   "id": "c7750597",
   "metadata": {},
   "outputs": [],
   "source": [
    "minimum_duration = df.Duration.min()"
   ]
  },
  {
   "cell_type": "code",
   "execution_count": 14,
   "id": "3743b220",
   "metadata": {},
   "outputs": [
    {
     "name": "stdout",
     "output_type": "stream",
     "text": [
      "0.1\n"
     ]
    }
   ],
   "source": [
    "print(f\"{minimum_duration / year :.1f}\")"
   ]
  },
  {
   "cell_type": "markdown",
   "id": "d98d8770",
   "metadata": {},
   "source": [
    "The minimum duration of service is 0.1 years"
   ]
  },
  {
   "cell_type": "code",
   "execution_count": 15,
   "id": "b03dc8b4",
   "metadata": {},
   "outputs": [],
   "source": [
    "maximum_duration = df.Duration.max()"
   ]
  },
  {
   "cell_type": "code",
   "execution_count": 16,
   "id": "8f50a3a8",
   "metadata": {},
   "outputs": [
    {
     "name": "stdout",
     "output_type": "stream",
     "text": [
      "16.3\n"
     ]
    }
   ],
   "source": [
    "print(f\"{maximum_duration / year :.1f}\")"
   ]
  },
  {
   "cell_type": "markdown",
   "id": "c6f7cd73",
   "metadata": {},
   "source": [
    "The maximum duration of service if 16.3 years"
   ]
  },
  {
   "cell_type": "code",
   "execution_count": 17,
   "id": "d18f4ddb",
   "metadata": {},
   "outputs": [],
   "source": [
    "mean_duration = df.Duration.mean()"
   ]
  },
  {
   "cell_type": "code",
   "execution_count": 18,
   "id": "96bd14f2",
   "metadata": {},
   "outputs": [
    {
     "name": "stdout",
     "output_type": "stream",
     "text": [
      "6.8\n"
     ]
    }
   ],
   "source": [
    "print(f\"{mean_duration / year :.1f}\")"
   ]
  },
  {
   "cell_type": "markdown",
   "id": "a21f0689",
   "metadata": {},
   "source": [
    "The average length of service is 6.8 years"
   ]
  },
  {
   "cell_type": "code",
   "execution_count": 19,
   "id": "7d710cfc",
   "metadata": {},
   "outputs": [],
   "source": [
    "def program():\n",
    "    while True:\n",
    "        print(\"Enter name to check if person is in organization or hit <enter> key to quit\")\n",
    "        name = input(\"Enter:  \")\n",
    "        \n",
    "        if name == '':\n",
    "            break\n",
    "        elif name in df.Staff.values:\n",
    "            print(f\"{name} is a staff in the organization\")\n",
    "        else:\n",
    "            print(f\"Could not find {name}\")\n",
    "    \n",
    "    print(\"Application Ended\")"
   ]
  },
  {
   "cell_type": "code",
   "execution_count": 21,
   "id": "61205b01",
   "metadata": {},
   "outputs": [
    {
     "name": "stdout",
     "output_type": "stream",
     "text": [
      "Enter name to check if person is in organization or hit <enter> key to quit\n",
      "Enter:  Munish\n",
      "Could not find Munish\n",
      "Enter name to check if person is in organization or hit <enter> key to quit\n",
      "Enter:  Anaya Fischer\n",
      "Anaya Fischer is a staff in the organization\n",
      "Enter name to check if person is in organization or hit <enter> key to quit\n",
      "Enter:  Anaya\n",
      "Could not find Anaya\n",
      "Enter name to check if person is in organization or hit <enter> key to quit\n",
      "Enter:  anaya fischer\n",
      "Could not find anaya fischer\n",
      "Enter name to check if person is in organization or hit <enter> key to quit\n",
      "Enter:  \n",
      "Application Ended\n"
     ]
    }
   ],
   "source": [
    "## Uncomment to run\n",
    "program()"
   ]
  },
  {
   "cell_type": "code",
   "execution_count": null,
   "id": "e024f10a",
   "metadata": {},
   "outputs": [],
   "source": []
  }
 ],
 "metadata": {
  "kernelspec": {
   "display_name": "Python 3 (ipykernel)",
   "language": "python",
   "name": "python3"
  },
  "language_info": {
   "codemirror_mode": {
    "name": "ipython",
    "version": 3
   },
   "file_extension": ".py",
   "mimetype": "text/x-python",
   "name": "python",
   "nbconvert_exporter": "python",
   "pygments_lexer": "ipython3",
   "version": "3.9.12"
  }
 },
 "nbformat": 4,
 "nbformat_minor": 5
}
