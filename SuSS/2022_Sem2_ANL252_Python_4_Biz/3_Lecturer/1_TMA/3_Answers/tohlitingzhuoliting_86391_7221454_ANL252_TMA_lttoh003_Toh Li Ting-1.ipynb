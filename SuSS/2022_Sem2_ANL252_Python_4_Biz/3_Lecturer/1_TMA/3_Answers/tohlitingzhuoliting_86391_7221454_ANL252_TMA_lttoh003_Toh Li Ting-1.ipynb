{
 "cells": [
  {
   "cell_type": "markdown",
   "id": "e6e60cbf",
   "metadata": {},
   "source": [
    "# TMA"
   ]
  },
  {
   "cell_type": "code",
   "execution_count": 1,
   "id": "da730b5c",
   "metadata": {
    "scrolled": true
   },
   "outputs": [
    {
     "name": "stdout",
     "output_type": "stream",
     "text": [
      "      ID             Staff  BirthYear Gender  Gender.1   Marital  \\\n",
      "0      1   Aairah Hastings 1986-10-07      F         1    Single   \n",
      "1      2  Aaminah Mcmillan 1986-05-25      F         1   Married   \n",
      "2      3      Aamna Howell 1985-04-20      F         1    Single   \n",
      "3      4     Aayan Ferrell 1984-06-10     M          1   Married   \n",
      "4      5        Ace Potter 1989-09-08      F         1  Divorced   \n",
      "..   ...               ...        ...    ...       ...       ...   \n",
      "245  246     Zaina Parrish 1981-10-11      F         1   Married   \n",
      "246  247       Zane Downes 1987-10-24     M          1   Married   \n",
      "247  248       Zayd Farley 1970-07-09     M          1    Single   \n",
      "248  249       Zoya Easton 1980-08-02      F         1    Single   \n",
      "249  250    Zuzanna Pruitt 1987-05-21      F         1    Single   \n",
      "\n",
      "      Citizenship Minority   JoinDate   LeftDate in Company  in Company Y  \\\n",
      "0         Citizen      Yes 2012-04-02        NaT          Y             1   \n",
      "1         Citizen       No 2014-05-12        NaT          Y             1   \n",
      "2         Citizen       No 2014-09-29        NaT          Y             1   \n",
      "3         Citizen       No 2016-01-05        NaT          Y             1   \n",
      "4         Citizen       No 2011-07-11 2020-09-06          N             0   \n",
      "..            ...      ...        ...        ...        ...           ...   \n",
      "245  Non-Resident       No 2015-02-16        NaT          Y             1   \n",
      "246  Non-Resident       No 2017-04-20        NaT          Y             1   \n",
      "247  Non-Resident       No 2014-01-05        NaT          Y             1   \n",
      "248  Non-Resident       No 2012-08-13 2015-09-01          N             0   \n",
      "249  Non-Resident       No 2015-03-30        NaT          Y             1   \n",
      "\n",
      "     in Company N           Unit  Salary PerformanceScore  Survey  \\\n",
      "0               0  Manufacturing   46335             Meet    3.40   \n",
      "1               0  Manufacturing   66825             Meet    4.60   \n",
      "2               0  Manufacturing   60446             Meet    3.40   \n",
      "3               0         Admin    93046             Meet    4.10   \n",
      "4               1  Manufacturing   50825             Meet    5.00   \n",
      "..            ...            ...     ...              ...     ...   \n",
      "245             0             IT   89883             Meet    3.69   \n",
      "246             0             IT   90100             Meet    3.40   \n",
      "247             0             IT  138888           Exceed    4.30   \n",
      "248             1  Manufacturing   50274       To Improve    2.50   \n",
      "249             0  Manufacturing   55315             Meet    5.00   \n",
      "\n",
      "     Satisfaction  Absence  \n",
      "0               5       15  \n",
      "1               3       20  \n",
      "2               4       14  \n",
      "3               4       20  \n",
      "4               4        2  \n",
      "..            ...      ...  \n",
      "245             5       15  \n",
      "246             3       14  \n",
      "247             5        4  \n",
      "248             3       13  \n",
      "249             5       16  \n",
      "\n",
      "[250 rows x 19 columns]\n"
     ]
    }
   ],
   "source": [
    "import pandas as pd\n",
    "\n",
    "data = pd.read_excel (r'C:\\Users\\Jacelyne\\Desktop\\TMA.xlsx', sheet_name='TMA_Data')\n",
    "print (data)"
   ]
  },
  {
   "cell_type": "code",
   "execution_count": 2,
   "id": "604bdf7c",
   "metadata": {},
   "outputs": [],
   "source": [
    "import math\n",
    "import numpy as np\n",
    "import matplotlib.pyplot as plt\n"
   ]
  },
  {
   "cell_type": "code",
   "execution_count": 3,
   "id": "ca05ed63",
   "metadata": {},
   "outputs": [
    {
     "name": "stdout",
     "output_type": "stream",
     "text": [
      "      ID             Staff  BirthYear Gender  Gender.1   Marital  \\\n",
      "0      1   Aairah Hastings 1986-10-07      F         1    Single   \n",
      "1      2  Aaminah Mcmillan 1986-05-25      F         1   Married   \n",
      "2      3      Aamna Howell 1985-04-20      F         1    Single   \n",
      "3      4     Aayan Ferrell 1984-06-10     M          1   Married   \n",
      "4      5        Ace Potter 1989-09-08      F         1  Divorced   \n",
      "..   ...               ...        ...    ...       ...       ...   \n",
      "245  246     Zaina Parrish 1981-10-11      F         1   Married   \n",
      "246  247       Zane Downes 1987-10-24     M          1   Married   \n",
      "247  248       Zayd Farley 1970-07-09     M          1    Single   \n",
      "248  249       Zoya Easton 1980-08-02      F         1    Single   \n",
      "249  250    Zuzanna Pruitt 1987-05-21      F         1    Single   \n",
      "\n",
      "      Citizenship Minority   JoinDate   LeftDate in Company  in Company Y  \\\n",
      "0         Citizen      Yes 2012-04-02        NaT          Y             1   \n",
      "1         Citizen       No 2014-05-12        NaT          Y             1   \n",
      "2         Citizen       No 2014-09-29        NaT          Y             1   \n",
      "3         Citizen       No 2016-01-05        NaT          Y             1   \n",
      "4         Citizen       No 2011-07-11 2020-09-06          N             0   \n",
      "..            ...      ...        ...        ...        ...           ...   \n",
      "245  Non-Resident       No 2015-02-16        NaT          Y             1   \n",
      "246  Non-Resident       No 2017-04-20        NaT          Y             1   \n",
      "247  Non-Resident       No 2014-01-05        NaT          Y             1   \n",
      "248  Non-Resident       No 2012-08-13 2015-09-01          N             0   \n",
      "249  Non-Resident       No 2015-03-30        NaT          Y             1   \n",
      "\n",
      "     in Company N           Unit  Salary PerformanceScore  Survey  \\\n",
      "0               0  Manufacturing   46335             Meet    3.40   \n",
      "1               0  Manufacturing   66825             Meet    4.60   \n",
      "2               0  Manufacturing   60446             Meet    3.40   \n",
      "3               0         Admin    93046             Meet    4.10   \n",
      "4               1  Manufacturing   50825             Meet    5.00   \n",
      "..            ...            ...     ...              ...     ...   \n",
      "245             0             IT   89883             Meet    3.69   \n",
      "246             0             IT   90100             Meet    3.40   \n",
      "247             0             IT  138888           Exceed    4.30   \n",
      "248             1  Manufacturing   50274       To Improve    2.50   \n",
      "249             0  Manufacturing   55315             Meet    5.00   \n",
      "\n",
      "     Satisfaction  Absence  \n",
      "0               5       15  \n",
      "1               3       20  \n",
      "2               4       14  \n",
      "3               4       20  \n",
      "4               4        2  \n",
      "..            ...      ...  \n",
      "245             5       15  \n",
      "246             3       14  \n",
      "247             5        4  \n",
      "248             3       13  \n",
      "249             5       16  \n",
      "\n",
      "[250 rows x 19 columns]\n"
     ]
    }
   ],
   "source": [
    "df = pd.DataFrame(data)\n",
    "df[[ 'Staff','Marital', 'Citizenship', 'Minority', 'Unit', 'PerformanceScore', 'in Company']] = df[['Staff','Marital', 'Citizenship', 'Minority', 'Unit', 'PerformanceScore', 'in Company']].astype(str)\n",
    "print(data)"
   ]
  },
  {
   "cell_type": "markdown",
   "id": "f30a341b",
   "metadata": {},
   "source": [
    "___________\n"
   ]
  },
  {
   "cell_type": "markdown",
   "id": "4de37265",
   "metadata": {},
   "source": [
    "# b)"
   ]
  },
  {
   "cell_type": "code",
   "execution_count": 4,
   "id": "72b86a2b",
   "metadata": {},
   "outputs": [
    {
     "data": {
      "image/png": "[encoded data removed]",
      "text/plain": [
       "<Figure size 432x288 with 1 Axes>"
      ]
     },
     "metadata": {
      "needs_background": "light"
     },
     "output_type": "display_data"
    }
   ],
   "source": [
    "# importing the required module\n",
    "import matplotlib.pyplot as plt\n",
    "  \n",
    "# x axis values\n",
    "x = ['Divorced','Married','Others','Single']\n",
    "# corresponding y axis values\n",
    "y = [13,56,13,83]\n",
    "  \n",
    "# plotting the points \n",
    "plt.plot(x, y)\n",
    "  \n",
    "# naming the x axis\n",
    "plt.xlabel('Marital Status')\n",
    "# naming the y axis\n",
    "plt.ylabel('Current Employee')\n",
    "  \n",
    "# giving a title to my graph\n",
    "plt.title('Employment Status By Marital Status - Current')\n",
    "  \n",
    "# function to show the plot\n",
    "plt.show()"
   ]
  },
  {
   "cell_type": "code",
   "execution_count": 5,
   "id": "b44616b6",
   "metadata": {},
   "outputs": [
    {
     "data": {
      "image/png": "[encoded data removed]",
      "text/plain": [
       "<Figure size 432x288 with 1 Axes>"
      ]
     },
     "metadata": {
      "needs_background": "light"
     },
     "output_type": "display_data"
    }
   ],
   "source": [
    "# importing the required module\n",
    "import matplotlib.pyplot as plt\n",
    "\n",
    "# x axis values\n",
    "x = ['Divorced','Married','Others','Single']\n",
    "# corresponding y axis values\n",
    "y = [13,38,3,31]\n",
    "  \n",
    "# plotting the points \n",
    "plt.plot(x, y)\n",
    "  \n",
    "# naming the x axis\n",
    "plt.xlabel('Marital Status')\n",
    "# naming the y axis\n",
    "plt.ylabel('Former Employee')\n",
    "  \n",
    "# giving a title to my graph\n",
    "plt.title('Employment Status By Marital Status - Former')\n",
    "  \n",
    "# function to show the plot\n",
    "plt.show()"
   ]
  },
  {
   "cell_type": "code",
   "execution_count": 6,
   "id": "38d87d3a",
   "metadata": {},
   "outputs": [
    {
     "data": {
      "image/png": "[encoded data removed]",
      "text/plain": [
       "<Figure size 432x288 with 1 Axes>"
      ]
     },
     "metadata": {
      "needs_background": "light"
     },
     "output_type": "display_data"
    }
   ],
   "source": [
    "# importing the required module\n",
    "import matplotlib.pyplot as plt\n",
    "  \n",
    "# x axis values\n",
    "x = [1,2,3,4,5]\n",
    "# corresponding y axis values\n",
    "y = [1,1,45,48,49]\n",
    "  \n",
    "# plotting the points \n",
    "plt.plot(x, y)\n",
    "  \n",
    "# naming the x axis\n",
    "plt.xlabel('Satisfaction Score')\n",
    "# naming the y axis\n",
    "plt.ylabel('No. of Female Employee')\n",
    "  \n",
    "# giving a title to my graph\n",
    "plt.title('Employee Satisifaction Level By Gender (Female)')\n",
    "  \n",
    "# function to show the plot\n",
    "plt.show()"
   ]
  },
  {
   "cell_type": "code",
   "execution_count": 7,
   "id": "2fb7feda",
   "metadata": {
    "scrolled": false
   },
   "outputs": [
    {
     "data": {
      "image/png": "[encoded data removed]",
      "text/plain": [
       "<Figure size 432x288 with 1 Axes>"
      ]
     },
     "metadata": {
      "needs_background": "light"
     },
     "output_type": "display_data"
    }
   ],
   "source": [
    "# importing the required module\n",
    "import matplotlib.pyplot as plt\n",
    "  \n",
    "\n",
    "# x axis values\n",
    "x = [1,2,3,4,5]\n",
    "# corresponding y axis values\n",
    "y = [0,3,39,32,32]\n",
    "  \n",
    "# plotting the points \n",
    "plt.plot(x, y)\n",
    "  \n",
    "# naming the x axis\n",
    "plt.xlabel('Satisfaction Score')\n",
    "# naming the y axis\n",
    "plt.ylabel('No. of Female Employee')\n",
    "  \n",
    "# giving a title to my graph\n",
    "plt.title('Employee Satisifaction Level By Gender (Male)')\n",
    "  \n",
    "# function to show the plot\n",
    "plt.show()"
   ]
  },
  {
   "cell_type": "markdown",
   "id": "0f446c67",
   "metadata": {},
   "source": [
    "# c)"
   ]
  },
  {
   "cell_type": "code",
   "execution_count": 8,
   "id": "51738253",
   "metadata": {
    "scrolled": false
   },
   "outputs": [
    {
     "name": "stdout",
     "output_type": "stream",
     "text": [
      "                Staff Employment   JoinDate   LeftDate\n",
      "0     Aairah Hastings   Employee 2012-04-02 2022-05-01\n",
      "1    Aaminah Mcmillan   Employee 2014-05-12 2022-05-01\n",
      "2        Aamna Howell   Employee 2014-09-29 2022-05-01\n",
      "3       Aayan Ferrell   Employee 2016-01-05 2022-05-01\n",
      "4          Ace Potter   Employee 2011-07-11 2020-09-06\n",
      "..                ...        ...        ...        ...\n",
      "245     Zaina Parrish   Employee 2015-02-16 2022-05-01\n",
      "246       Zane Downes   Employee 2017-04-20 2022-05-01\n",
      "247       Zayd Farley   Employee 2014-01-05 2022-05-01\n",
      "248       Zoya Easton   Employee 2012-08-13 2015-09-01\n",
      "249    Zuzanna Pruitt   Employee 2015-03-30 2022-05-01\n",
      "\n",
      "[250 rows x 4 columns]\n"
     ]
    }
   ],
   "source": [
    "import pandas as pd\n",
    "import numpy as np\n",
    "\n",
    "\n",
    "Ldata = pd.read_excel (r'C:\\Users\\Jacelyne\\Desktop\\TMA.xlsx', sheet_name='Left Date')\n",
    "print (Ldata)"
   ]
  },
  {
   "cell_type": "code",
   "execution_count": 20,
   "id": "7c0be159",
   "metadata": {
    "scrolled": true
   },
   "outputs": [
    {
     "name": "stdout",
     "output_type": "stream",
     "text": [
      "      JoinDate   LeftDate\n",
      "0   2012-04-02 2022-05-01\n",
      "1   2014-05-12 2022-05-01\n",
      "2   2014-09-29 2022-05-01\n",
      "3   2016-01-05 2022-05-01\n",
      "4   2011-07-11 2020-09-06\n",
      "..         ...        ...\n",
      "245 2015-02-16 2022-05-01\n",
      "246 2017-04-20 2022-05-01\n",
      "247 2014-01-05 2022-05-01\n",
      "248 2012-08-13 2015-09-01\n",
      "249 2015-03-30 2022-05-01\n",
      "\n",
      "[250 rows x 2 columns]\n"
     ]
    }
   ],
   "source": [
    "df = pd.DataFrame(Ldata, columns= ['JoinDate','LeftDate'])\n",
    "print(df)"
   ]
  },
  {
   "cell_type": "code",
   "execution_count": null,
   "id": "c020d4b9",
   "metadata": {},
   "outputs": [],
   "source": []
  },
  {
   "cell_type": "code",
   "execution_count": 2,
   "id": "78000f60",
   "metadata": {},
   "outputs": [
    {
     "ename": "NameError",
     "evalue": "name 'Param1' is not defined",
     "output_type": "error",
     "traceback": [
      "\u001b[1;31m---------------------------------------------------------------------------\u001b[0m",
      "\u001b[1;31mNameError\u001b[0m                                 Traceback (most recent call last)",
      "Input \u001b[1;32mIn [2]\u001b[0m, in \u001b[0;36m<cell line: 5>\u001b[1;34m()\u001b[0m\n\u001b[0;32m      2\u001b[0m \u001b[38;5;28;01mimport\u001b[39;00m \u001b[38;5;21;01mpandas\u001b[39;00m \u001b[38;5;28;01mas\u001b[39;00m \u001b[38;5;21;01mpd\u001b[39;00m\n\u001b[0;32m      3\u001b[0m \u001b[38;5;28;01mimport\u001b[39;00m \u001b[38;5;21;01mdatetime\u001b[39;00m \u001b[38;5;28;01mas\u001b[39;00m \u001b[38;5;21;01mdatetime\u001b[39;00m\n\u001b[1;32m----> 5\u001b[0m data \u001b[38;5;241m=\u001b[39m pd\u001b[38;5;241m.\u001b[39mDataFrame({\u001b[38;5;124m'\u001b[39m\u001b[38;5;124mp1\u001b[39m\u001b[38;5;124m'\u001b[39m: \u001b[43mParam1\u001b[49m,\u001b[38;5;124m'\u001b[39m\u001b[38;5;124mp2\u001b[39m\u001b[38;5;124m'\u001b[39m: Param2})\n\u001b[0;32m      6\u001b[0m startDT \u001b[38;5;241m=\u001b[39m data[\u001b[38;5;124m'\u001b[39m\u001b[38;5;124mp1\u001b[39m\u001b[38;5;124m'\u001b[39m]\n\u001b[0;32m      7\u001b[0m endDT \u001b[38;5;241m=\u001b[39m data[\u001b[38;5;124m'\u001b[39m\u001b[38;5;124mp2\u001b[39m\u001b[38;5;124m'\u001b[39m]\n",
      "\u001b[1;31mNameError\u001b[0m: name 'Param1' is not defined"
     ]
    }
   ],
   "source": [
    "import numpy as np\n",
    "import pandas as pd\n",
    "import datetime as datetime\n",
    "\n",
    "data = pd.DataFrame({'p1': Param1,'p2': Param2})\n",
    "startDT = data['p1']\n",
    "endDT = data['p2']"
   ]
  },
  {
   "cell_type": "code",
   "execution_count": null,
   "id": "f864b6ef",
   "metadata": {},
   "outputs": [],
   "source": []
  },
  {
   "cell_type": "code",
   "execution_count": null,
   "id": "588c77b1",
   "metadata": {},
   "outputs": [],
   "source": []
  },
  {
   "cell_type": "markdown",
   "id": "374f84d7",
   "metadata": {},
   "source": [
    "# d)"
   ]
  },
  {
   "cell_type": "code",
   "execution_count": 10,
   "id": "df03bfc2",
   "metadata": {
    "scrolled": true
   },
   "outputs": [
    {
     "name": "stdout",
     "output_type": "stream",
     "text": [
      "                Staff\n",
      "0     Aairah Hastings\n",
      "1    Aaminah Mcmillan\n",
      "2        Aamna Howell\n",
      "3       Aayan Ferrell\n",
      "4          Ace Potter\n",
      "..                ...\n",
      "245     Zaina Parrish\n",
      "246       Zane Downes\n",
      "247       Zayd Farley\n",
      "248       Zoya Easton\n",
      "249    Zuzanna Pruitt\n",
      "\n",
      "[250 rows x 1 columns]\n"
     ]
    }
   ],
   "source": [
    "name = pd.DataFrame(data, columns= [('Staff')])\n",
    "print(name)"
   ]
  },
  {
   "cell_type": "code",
   "execution_count": 19,
   "id": "7f812e8b",
   "metadata": {
    "scrolled": false
   },
   "outputs": [
    {
     "name": "stdout",
     "output_type": "stream",
     "text": [
      "What is the name of the employee?Aairah Hastingsb\n",
      "Invalid input. Please try again.Aairah Hastings\n",
      "What is the name of the employee?Aairah Hastings\n",
      "The staff of name Aairah Hastings is employed by the company.\n"
     ]
    }
   ],
   "source": [
    "name = (\"Aairah Hastings\",\"Aaminah Mcmillan\",\"Aamna Howell\")\n",
    "employment_status = (\"employed\")\n",
    "\n",
    "while True:\n",
    "        user_input = input(\"What is the name of the employee?\")\n",
    "        if user_input in name:\n",
    "            name_index = name.index(user_input)\n",
    "            employment_status = employment_status\n",
    "            print(f\"The staff of name {user_input} is {employment_status} by the company.\")\n",
    "            break\n",
    "        else:\n",
    "            user_input = input(\"Invalid input. Please try again.\")"
   ]
  },
  {
   "cell_type": "code",
   "execution_count": null,
   "id": "bf7a0167",
   "metadata": {},
   "outputs": [],
   "source": []
  },
  {
   "cell_type": "code",
   "execution_count": null,
   "id": "ea1b5b05",
   "metadata": {},
   "outputs": [],
   "source": []
  },
  {
   "cell_type": "code",
   "execution_count": null,
   "id": "2f43c1e5",
   "metadata": {},
   "outputs": [],
   "source": []
  },
  {
   "cell_type": "code",
   "execution_count": null,
   "id": "cb5580c0",
   "metadata": {},
   "outputs": [],
   "source": []
  },
  {
   "cell_type": "code",
   "execution_count": null,
   "id": "769cf934",
   "metadata": {},
   "outputs": [],
   "source": []
  },
  {
   "cell_type": "code",
   "execution_count": null,
   "id": "f40dacd9",
   "metadata": {},
   "outputs": [],
   "source": []
  },
  {
   "cell_type": "code",
   "execution_count": null,
   "id": "8ec43720",
   "metadata": {},
   "outputs": [],
   "source": []
  },
  {
   "cell_type": "markdown",
   "id": "45e37c13",
   "metadata": {},
   "source": [
    "# Other working"
   ]
  },
  {
   "cell_type": "code",
   "execution_count": null,
   "id": "1854e006",
   "metadata": {
    "scrolled": true
   },
   "outputs": [],
   "source": [
    "Marital_InCompany = pd.DataFrame(data, columns= [('Marital'),('in Company')])\n",
    "print(Marital_InCompany)"
   ]
  },
  {
   "cell_type": "code",
   "execution_count": null,
   "id": "22762baf",
   "metadata": {
    "scrolled": true
   },
   "outputs": [],
   "source": [
    "# the histogram of the data\n",
    "\n",
    "#for y in data.ndim: \n",
    "#    print(data[:,in Company]\n",
    "print(data.shape)\n",
    "print(data.size)\n",
    "print(data.ndim) #ndim = 2 because this is a 2D table\n",
    "feature_names = ['Single', 'Married', 'Divorced', 'Others']\n"
   ]
  },
  {
   "cell_type": "code",
   "execution_count": null,
   "id": "260f094c",
   "metadata": {
    "scrolled": true
   },
   "outputs": [],
   "source": [
    "y = pd.DataFrame(data, columns= ['in Company N'])\n",
    "print(y)"
   ]
  },
  {
   "cell_type": "code",
   "execution_count": null,
   "id": "e8f8a9d1",
   "metadata": {},
   "outputs": [],
   "source": [
    "Divorced = [13,13]\n",
    "Married = [56,58]\n",
    "Others = [13,3]\n",
    "Single = [83,31]\n",
    "\n",
    "Marital_Status = [\"Divorced,Married,Others,Single\"]"
   ]
  }
 ],
 "metadata": {
  "kernelspec": {
   "display_name": "Python 3 (ipykernel)",
   "language": "python",
   "name": "python3"
  },
  "language_info": {
   "codemirror_mode": {
    "name": "ipython",
    "version": 3
   },
   "file_extension": ".py",
   "mimetype": "text/x-python",
   "name": "python",
   "nbconvert_exporter": "python",
   "pygments_lexer": "ipython3",
   "version": "3.9.12"
  }
 },
 "nbformat": 4,
 "nbformat_minor": 5
}
