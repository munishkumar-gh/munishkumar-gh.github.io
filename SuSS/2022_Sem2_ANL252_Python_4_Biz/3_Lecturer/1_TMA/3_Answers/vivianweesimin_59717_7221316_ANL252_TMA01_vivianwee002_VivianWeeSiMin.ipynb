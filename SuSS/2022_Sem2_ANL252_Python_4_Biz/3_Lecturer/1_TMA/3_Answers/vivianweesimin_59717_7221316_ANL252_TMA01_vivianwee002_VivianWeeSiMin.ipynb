{
 "cells": [
  {
   "cell_type": "markdown",
   "id": "9f9cd0ff",
   "metadata": {},
   "source": [
    "# <center style=\"color:green\"> ANL252 </center>\n",
    "## <center style=\"color:green\"> Python for Data Analytics </center>\n",
    "<p>_______________________________________________________________________________________________________________________</p>\n",
    "\n",
    "### <center> Tutor Marked-Assignment </center>\n",
    "### <center> July 2022 Presentation </center>\n",
    "\n",
    "\n"
   ]
  },
  {
   "cell_type": "markdown",
   "id": "88b3eab2",
   "metadata": {},
   "source": [
    "### Import the required libraries "
   ]
  },
  {
   "cell_type": "code",
   "execution_count": 1,
   "id": "82a7932c",
   "metadata": {},
   "outputs": [],
   "source": [
    "# Import numpy library as np\n",
    "import numpy as np\n",
    "# Import pandas library as pd\n",
    "import pandas as pd\n",
    "# Import matplotlib import pyplot as plt\n",
    "from matplotlib import pyplot as plt\n",
    "# Import the library seaborn as snn \n",
    "import seaborn as sns\n",
    "# Import matplotlib as mtpl \n",
    "import matplotlib as mtpl\n",
    "# Adopt plotting style. the seaborn style looks good so I am using seaborn\n",
    "plt.style.use('seaborn')\n",
    "# Also make grid with white background \n",
    "sns.set_theme(style=\"whitegrid\")\n",
    "# Adopt font for the text in chart. I like Times New Roman so I am using \"serif\" as the font.family. \n",
    "mtpl.rcParams['font.family'] = 'serif'"
   ]
  },
  {
   "cell_type": "markdown",
   "id": "947f5583",
   "metadata": {},
   "source": [
    "### Import data into the jupyter as dataframe using pandas and view it  "
   ]
  },
  {
   "cell_type": "code",
   "execution_count": 2,
   "id": "0b855854",
   "metadata": {},
   "outputs": [
    {
     "data": {
      "text/html": [
       "<div>\n",
       "<style scoped>\n",
       "    .dataframe tbody tr th:only-of-type {\n",
       "        vertical-align: middle;\n",
       "    }\n",
       "\n",
       "    .dataframe tbody tr th {\n",
       "        vertical-align: top;\n",
       "    }\n",
       "\n",
       "    .dataframe thead th {\n",
       "        text-align: right;\n",
       "    }\n",
       "</style>\n",
       "<table border=\"1\" class=\"dataframe\">\n",
       "  <thead>\n",
       "    <tr style=\"text-align: right;\">\n",
       "      <th></th>\n",
       "      <th>ID</th>\n",
       "      <th>Staff</th>\n",
       "      <th>BirthYear</th>\n",
       "      <th>Gender</th>\n",
       "      <th>Marital</th>\n",
       "      <th>Citizenship</th>\n",
       "      <th>Minority</th>\n",
       "      <th>JoinDate</th>\n",
       "      <th>LeftDate</th>\n",
       "      <th>Unit</th>\n",
       "      <th>Salary</th>\n",
       "      <th>PerformanceScore</th>\n",
       "      <th>Survey</th>\n",
       "      <th>Satisfaction</th>\n",
       "      <th>Absence</th>\n",
       "    </tr>\n",
       "  </thead>\n",
       "  <tbody>\n",
       "    <tr>\n",
       "      <th>0</th>\n",
       "      <td>1</td>\n",
       "      <td>Aairah Hastings</td>\n",
       "      <td>10/07/1986</td>\n",
       "      <td>F</td>\n",
       "      <td>Single</td>\n",
       "      <td>Citizen</td>\n",
       "      <td>Yes</td>\n",
       "      <td>04/02/2012</td>\n",
       "      <td>NaN</td>\n",
       "      <td>Manufacturing</td>\n",
       "      <td>46335</td>\n",
       "      <td>Meet</td>\n",
       "      <td>3.4</td>\n",
       "      <td>5</td>\n",
       "      <td>15</td>\n",
       "    </tr>\n",
       "    <tr>\n",
       "      <th>1</th>\n",
       "      <td>2</td>\n",
       "      <td>Aaminah Mcmillan</td>\n",
       "      <td>05/25/86</td>\n",
       "      <td>F</td>\n",
       "      <td>Married</td>\n",
       "      <td>Citizen</td>\n",
       "      <td>No</td>\n",
       "      <td>05/12/2014</td>\n",
       "      <td>NaN</td>\n",
       "      <td>Manufacturing</td>\n",
       "      <td>66825</td>\n",
       "      <td>Meet</td>\n",
       "      <td>4.6</td>\n",
       "      <td>3</td>\n",
       "      <td>20</td>\n",
       "    </tr>\n",
       "    <tr>\n",
       "      <th>2</th>\n",
       "      <td>3</td>\n",
       "      <td>Aamna Howell</td>\n",
       "      <td>04/20/85</td>\n",
       "      <td>F</td>\n",
       "      <td>Single</td>\n",
       "      <td>Citizen</td>\n",
       "      <td>No</td>\n",
       "      <td>9/29/2014</td>\n",
       "      <td>NaN</td>\n",
       "      <td>Manufacturing</td>\n",
       "      <td>60446</td>\n",
       "      <td>Meet</td>\n",
       "      <td>3.4</td>\n",
       "      <td>4</td>\n",
       "      <td>14</td>\n",
       "    </tr>\n",
       "    <tr>\n",
       "      <th>3</th>\n",
       "      <td>4</td>\n",
       "      <td>Aayan Ferrell</td>\n",
       "      <td>06/10/1984</td>\n",
       "      <td>M</td>\n",
       "      <td>Married</td>\n",
       "      <td>Citizen</td>\n",
       "      <td>No</td>\n",
       "      <td>01/05/2016</td>\n",
       "      <td>NaN</td>\n",
       "      <td>Admin</td>\n",
       "      <td>93046</td>\n",
       "      <td>Meet</td>\n",
       "      <td>4.1</td>\n",
       "      <td>4</td>\n",
       "      <td>20</td>\n",
       "    </tr>\n",
       "    <tr>\n",
       "      <th>4</th>\n",
       "      <td>5</td>\n",
       "      <td>Ace Potter</td>\n",
       "      <td>09/08/1989</td>\n",
       "      <td>F</td>\n",
       "      <td>Divorced</td>\n",
       "      <td>Citizen</td>\n",
       "      <td>No</td>\n",
       "      <td>07/11/2011</td>\n",
       "      <td>09/06/2020</td>\n",
       "      <td>Manufacturing</td>\n",
       "      <td>50825</td>\n",
       "      <td>Meet</td>\n",
       "      <td>5.0</td>\n",
       "      <td>4</td>\n",
       "      <td>2</td>\n",
       "    </tr>\n",
       "  </tbody>\n",
       "</table>\n",
       "</div>"
      ],
      "text/plain": [
       "   ID             Staff   BirthYear Gender   Marital Citizenship Minority  \\\n",
       "0   1   Aairah Hastings  10/07/1986      F    Single     Citizen      Yes   \n",
       "1   2  Aaminah Mcmillan    05/25/86      F   Married     Citizen       No   \n",
       "2   3      Aamna Howell    04/20/85      F    Single     Citizen       No   \n",
       "3   4     Aayan Ferrell  06/10/1984     M    Married     Citizen       No   \n",
       "4   5        Ace Potter  09/08/1989      F  Divorced     Citizen       No   \n",
       "\n",
       "     JoinDate    LeftDate           Unit  Salary PerformanceScore  Survey  \\\n",
       "0  04/02/2012         NaN  Manufacturing   46335             Meet     3.4   \n",
       "1  05/12/2014         NaN  Manufacturing   66825             Meet     4.6   \n",
       "2   9/29/2014         NaN  Manufacturing   60446             Meet     3.4   \n",
       "3  01/05/2016         NaN         Admin    93046             Meet     4.1   \n",
       "4  07/11/2011  09/06/2020  Manufacturing   50825             Meet     5.0   \n",
       "\n",
       "   Satisfaction  Absence  \n",
       "0             5       15  \n",
       "1             3       20  \n",
       "2             4       14  \n",
       "3             4       20  \n",
       "4             4        2  "
      ]
     },
     "execution_count": 2,
     "metadata": {},
     "output_type": "execute_result"
    }
   ],
   "source": [
    "givenData = pd.read_csv(r'C:\\Users\\vivia\\Desktop\\ANL252\\TMA\\TMA_Data.csv')\n",
    "# Let's look at some rows of the data using head() function in pandas \n",
    "givenData.head()"
   ]
  },
  {
   "cell_type": "markdown",
   "id": "1d0782e3",
   "metadata": {},
   "source": [
    "### Let us make the chart 1 i.e.,  boxplot of salary for each business unit"
   ]
  },
  {
   "cell_type": "code",
   "execution_count": 3,
   "id": "f6309b3c",
   "metadata": {},
   "outputs": [
    {
     "data": {
      "image/png": "[encoded data removed]",
      "text/plain": [
       "<Figure size 864x576 with 1 Axes>"
      ]
     },
     "metadata": {},
     "output_type": "display_data"
    }
   ],
   "source": [
    "## Create a blank chart space with some specified width and height. I like width 12 pixel and height 8 pixel. \n",
    "plt.figure(figsize=(12,8)) \n",
    "## pyplot.figure() just create a blank space for chart and figsize(12,8) tells python that width and height should be \n",
    "## 12 and 8 pixels respectively. \n",
    "ax = sns.boxplot(x=\"Unit\", y=\"Salary\", data=givenData, color=\"#0073e6\")\n",
    "## seaborn.boxplot() makes a boxplot for categorical data and numerical data. \n",
    "## x = \" categorical column\", y=\" numerical column\" and data=\" given data frame that we have imported\", \n",
    "## I tried to match the color from excel using the color code : \"#0073e6\"\n",
    "plt.ylabel(\"Salary\", fontsize=12) # specify the y-axis label \n",
    "plt.xlabel(\"Business Unit\", fontsize=12) # specify the x-axis label \n",
    "plt.title(\"Range of Salary of Employees in each Unit\",fontdict= {'fontsize':16, 'fontweight':\"bold\"}) # Give some title to chart\n",
    "plt.show() ## Show the plot"
   ]
  },
  {
   "cell_type": "markdown",
   "id": "defae597",
   "metadata": {},
   "source": [
    "### Let us create the corresponding table to the above box plot."
   ]
  },
  {
   "cell_type": "code",
   "execution_count": 4,
   "id": "f4a5f460",
   "metadata": {},
   "outputs": [
    {
     "data": {
      "text/html": [
       "<div>\n",
       "<style scoped>\n",
       "    .dataframe tbody tr th:only-of-type {\n",
       "        vertical-align: middle;\n",
       "    }\n",
       "\n",
       "    .dataframe tbody tr th {\n",
       "        vertical-align: top;\n",
       "    }\n",
       "\n",
       "    .dataframe thead tr th {\n",
       "        text-align: left;\n",
       "    }\n",
       "\n",
       "    .dataframe thead tr:last-of-type th {\n",
       "        text-align: right;\n",
       "    }\n",
       "</style>\n",
       "<table border=\"1\" class=\"dataframe\">\n",
       "  <thead>\n",
       "    <tr>\n",
       "      <th></th>\n",
       "      <th colspan=\"8\" halign=\"left\">Salary</th>\n",
       "    </tr>\n",
       "    <tr>\n",
       "      <th></th>\n",
       "      <th>count</th>\n",
       "      <th>mean</th>\n",
       "      <th>std</th>\n",
       "      <th>min</th>\n",
       "      <th>25%</th>\n",
       "      <th>50%</th>\n",
       "      <th>75%</th>\n",
       "      <th>max</th>\n",
       "    </tr>\n",
       "    <tr>\n",
       "      <th>Unit</th>\n",
       "      <th></th>\n",
       "      <th></th>\n",
       "      <th></th>\n",
       "      <th></th>\n",
       "      <th></th>\n",
       "      <th></th>\n",
       "      <th></th>\n",
       "      <th></th>\n",
       "    </tr>\n",
       "  </thead>\n",
       "  <tbody>\n",
       "    <tr>\n",
       "      <th>Admin</th>\n",
       "      <td>7.0</td>\n",
       "      <td>77315.285714</td>\n",
       "      <td>21584.867305</td>\n",
       "      <td>51920.0</td>\n",
       "      <td>63001.50</td>\n",
       "      <td>64520.0</td>\n",
       "      <td>96198.50</td>\n",
       "      <td>106367.0</td>\n",
       "    </tr>\n",
       "    <tr>\n",
       "      <th>C-Level</th>\n",
       "      <td>1.0</td>\n",
       "      <td>250000.000000</td>\n",
       "      <td>NaN</td>\n",
       "      <td>250000.0</td>\n",
       "      <td>250000.00</td>\n",
       "      <td>250000.0</td>\n",
       "      <td>250000.00</td>\n",
       "      <td>250000.0</td>\n",
       "    </tr>\n",
       "    <tr>\n",
       "      <th>Engineering</th>\n",
       "      <td>10.0</td>\n",
       "      <td>95867.000000</td>\n",
       "      <td>9605.963715</td>\n",
       "      <td>77692.0</td>\n",
       "      <td>93090.75</td>\n",
       "      <td>97470.0</td>\n",
       "      <td>101003.25</td>\n",
       "      <td>108987.0</td>\n",
       "    </tr>\n",
       "    <tr>\n",
       "      <th>IT</th>\n",
       "      <td>41.0</td>\n",
       "      <td>95550.756098</td>\n",
       "      <td>29139.612035</td>\n",
       "      <td>50178.0</td>\n",
       "      <td>76029.00</td>\n",
       "      <td>92328.0</td>\n",
       "      <td>107226.00</td>\n",
       "      <td>178000.0</td>\n",
       "    </tr>\n",
       "    <tr>\n",
       "      <th>Manufacturing</th>\n",
       "      <td>169.0</td>\n",
       "      <td>59412.905325</td>\n",
       "      <td>8545.835276</td>\n",
       "      <td>45046.0</td>\n",
       "      <td>53018.00</td>\n",
       "      <td>59472.0</td>\n",
       "      <td>64246.00</td>\n",
       "      <td>83667.0</td>\n",
       "    </tr>\n",
       "    <tr>\n",
       "      <th>Sales</th>\n",
       "      <td>22.0</td>\n",
       "      <td>71426.590909</td>\n",
       "      <td>24888.012537</td>\n",
       "      <td>55875.0</td>\n",
       "      <td>61817.75</td>\n",
       "      <td>67029.5</td>\n",
       "      <td>71615.00</td>\n",
       "      <td>180000.0</td>\n",
       "    </tr>\n",
       "  </tbody>\n",
       "</table>\n",
       "</div>"
      ],
      "text/plain": [
       "              Salary                                                    \\\n",
       "               count           mean           std       min        25%   \n",
       "Unit                                                                     \n",
       "Admin            7.0   77315.285714  21584.867305   51920.0   63001.50   \n",
       "C-Level          1.0  250000.000000           NaN  250000.0  250000.00   \n",
       "Engineering     10.0   95867.000000   9605.963715   77692.0   93090.75   \n",
       "IT              41.0   95550.756098  29139.612035   50178.0   76029.00   \n",
       "Manufacturing  169.0   59412.905325   8545.835276   45046.0   53018.00   \n",
       "Sales           22.0   71426.590909  24888.012537   55875.0   61817.75   \n",
       "\n",
       "                                              \n",
       "                    50%        75%       max  \n",
       "Unit                                          \n",
       "Admin           64520.0   96198.50  106367.0  \n",
       "C-Level        250000.0  250000.00  250000.0  \n",
       "Engineering     97470.0  101003.25  108987.0  \n",
       "IT              92328.0  107226.00  178000.0  \n",
       "Manufacturing   59472.0   64246.00   83667.0  \n",
       "Sales           67029.5   71615.00  180000.0  "
      ]
     },
     "execution_count": 4,
     "metadata": {},
     "output_type": "execute_result"
    }
   ],
   "source": [
    "data4table= givenData[['Unit', 'Gender', 'Salary']]\n",
    "# Table for the above plot\n",
    "data4table.groupby(['Unit']).describe()"
   ]
  },
  {
   "cell_type": "markdown",
   "id": "19631a55",
   "metadata": {},
   "source": [
    "### Let us create the second chart. The chart of average absentees of both genders based on marital status"
   ]
  },
  {
   "cell_type": "code",
   "execution_count": 5,
   "id": "016c0695",
   "metadata": {},
   "outputs": [
    {
     "data": {
      "image/png": "[encoded data removed]",
      "text/plain": [
       "<Figure size 864x576 with 1 Axes>"
      ]
     },
     "metadata": {},
     "output_type": "display_data"
    }
   ],
   "source": [
    "# Create an order list so that bins can be arranged as we obtained in Excel \n",
    "odrLst=[\"Single\",\"Married\",\"Divorced\", \"Others\"]\n",
    "# Create blank chart of width 12 and height 8 pixels\n",
    "plt.figure(figsize=(12,8))\n",
    "# Using seaborn.barplot() method we can create a cluster bar plot for the given data. \n",
    "ax = sns.barplot(x=\"Marital\",y=\"Absence\", data=givenData, hue=\"Gender\", order=odrLst, estimator=np.mean, ci=0)\n",
    "# In the above code, the argument x= \" categorical column in our data\", y=\" Numerical column in given data\"\n",
    "# data=\" the variable in which data is stored in Jupyter\", hue= \" Legend\" \n",
    "# We need mean or average so I used nump.mean to average of salary in each category\n",
    "# ci= confidence interval but I don't need confidence interval so I just put ci = 0\n",
    "plt.legend(loc=\"center left\", bbox_to_anchor=(1,0.5))  # position of legend on the chart. I like center left \n",
    "plt.ylabel(\"Average No. of Absentees\", fontsize=12)  # y-axis label \n",
    "plt.xlabel(\"Marital Status\", fontsize=12) # x-axis label\n",
    "plt.title(\"Average No. of Absentees of Male and Female Employees based on Marital Status\",fontdict= {'fontsize':15, 'fontweight':\"bold\"}) # title\n",
    "plt.show() # show the plot "
   ]
  },
  {
   "cell_type": "markdown",
   "id": "db3d20c6",
   "metadata": {},
   "source": [
    "### Let us create corresponding table to the above clustered bar graph"
   ]
  },
  {
   "cell_type": "code",
   "execution_count": 6,
   "id": "7d2c2783",
   "metadata": {},
   "outputs": [
    {
     "data": {
      "text/html": [
       "<div>\n",
       "<style scoped>\n",
       "    .dataframe tbody tr th:only-of-type {\n",
       "        vertical-align: middle;\n",
       "    }\n",
       "\n",
       "    .dataframe tbody tr th {\n",
       "        vertical-align: top;\n",
       "    }\n",
       "\n",
       "    .dataframe thead th {\n",
       "        text-align: right;\n",
       "    }\n",
       "</style>\n",
       "<table border=\"1\" class=\"dataframe\">\n",
       "  <thead>\n",
       "    <tr style=\"text-align: right;\">\n",
       "      <th>Gender</th>\n",
       "      <th>F</th>\n",
       "      <th>M</th>\n",
       "    </tr>\n",
       "    <tr>\n",
       "      <th>Marital</th>\n",
       "      <th></th>\n",
       "      <th></th>\n",
       "    </tr>\n",
       "  </thead>\n",
       "  <tbody>\n",
       "    <tr>\n",
       "      <th>Divorced</th>\n",
       "      <td>10.600000</td>\n",
       "      <td>8.181818</td>\n",
       "    </tr>\n",
       "    <tr>\n",
       "      <th>Married</th>\n",
       "      <td>11.448276</td>\n",
       "      <td>10.527778</td>\n",
       "    </tr>\n",
       "    <tr>\n",
       "      <th>Others</th>\n",
       "      <td>5.888889</td>\n",
       "      <td>12.714286</td>\n",
       "    </tr>\n",
       "    <tr>\n",
       "      <th>Single</th>\n",
       "      <td>9.774194</td>\n",
       "      <td>10.346154</td>\n",
       "    </tr>\n",
       "  </tbody>\n",
       "</table>\n",
       "</div>"
      ],
      "text/plain": [
       "Gender            F         M \n",
       "Marital                       \n",
       "Divorced  10.600000   8.181818\n",
       "Married   11.448276  10.527778\n",
       "Others     5.888889  12.714286\n",
       "Single     9.774194  10.346154"
      ]
     },
     "execution_count": 6,
     "metadata": {},
     "output_type": "execute_result"
    }
   ],
   "source": [
    "#Capturing the data for the second chart\n",
    "data4table= givenData[['Marital', 'Gender', 'Absence']]\n",
    "# Table for the below plot\n",
    "data4table.groupby(['Marital']).describe()\n",
    "# We can use groupby() method from pandas to get the mean of each category and reshape the table using unstack() method \n",
    "T1=data4table.groupby(['Marital', 'Gender']).mean().unstack()['Absence']\n",
    "T1"
   ]
  },
  {
   "cell_type": "markdown",
   "id": "d73fa65a",
   "metadata": {},
   "source": [
    "### (Question 1c). Here we will just calculate the length of service of a staff"
   ]
  },
  {
   "cell_type": "code",
   "execution_count": 7,
   "id": "00e6065f",
   "metadata": {},
   "outputs": [
    {
     "name": "stdout",
     "output_type": "stream",
     "text": [
      "Result: The minimum duration of service is 0.1 year; the maximum duration of service is  16.3 years and  the average duration of service is 6.8 years. \n"
     ]
    }
   ],
   "source": [
    "#We are given the data with some missing values of LeftDates. In the python the missing value is just nan \n",
    "# and its data-type is float. Length of service of a staff can be calculated using the basic algebra. \n",
    "# Length of Srvice = date of Joining  - date of Leaving the company.\n",
    "# we can easily subtract integres and floats but here the data is date and time. \n",
    "# It is also mentioned that the Left date where it is missing, the date 1st May 2022 or 5/1/2022\n",
    "# is to be considered as the leftDate.\n",
    "# Now the missing values in the leftDate column must be replaced by 5/1/2022\n",
    "# Let us replace the missing values in the givenData\n",
    "updatedData = givenData.iloc[:].replace(np.nan, str(\"5/1/2022\"))\n",
    "# The date is in the string format. to make algebraic calculation, let us modified the column\n",
    "# joinDate and leftDate as datetime \n",
    "updatedData['JoinDate'] = pd.to_datetime( updatedData['JoinDate']).dt.date\n",
    "updatedData['LeftDate'] = pd.to_datetime(updatedData ['LeftDate']).dt.date\n",
    "# It is the time to make calculation. The updatedData has JoinDate and LeftDate as datetime not string\n",
    "updatedData['Length_of_Service']=(updatedData['LeftDate']-updatedData['JoinDate']).astype(\"timedelta64[D]\")/365\n",
    "#Now we have a new column Length_of_Service. It is the time to print minimum, maximum and average length of servic \n",
    "# from the column Length_of_Service\n",
    "print(f\"Result: The minimum duration of service is {round(updatedData['Length_of_Service'].min(),1)} year; \"\n",
    "+ f\"the maximum duration of service is  {round(updatedData['Length_of_Service'].max(),1)} years and \"\n",
    "+f\" the average duration of service is {round(updatedData['Length_of_Service'].mean(),1)} years. \")"
   ]
  },
  {
   "cell_type": "markdown",
   "id": "356d0500",
   "metadata": {},
   "source": [
    "### (d) Creating an interactive user interface. User will type the full name of an employee and program will find out if the typed name is in the record.  "
   ]
  },
  {
   "cell_type": "code",
   "execution_count": null,
   "id": "32e426a7",
   "metadata": {},
   "outputs": [
    {
     "name": "stdout",
     "output_type": "stream",
     "text": [
      "\n",
      "Please enter the full name of the staff to be found in record:   Addie Terrell\n",
      "\n",
      "Addie Terrell joined the organization on 07/05/2011 and left on 09/05/2016.\n"
     ]
    }
   ],
   "source": [
    "# For this part we have to make an infinite loop that runs until the user decide to exit the program. \n",
    "## We can make an infinite loop using for and while loop or try except statement. But we will use while\n",
    "state = 1  # This is the condition to stop the program or continue the program for another task.\n",
    "while state ==1:   # The loop will run until state is not equal to 1\n",
    "    # Now we have to save input from the user. We have syntax \"variable= input()\"\n",
    "    # The function input takes value from the keyboard and save it in the variable. \n",
    "    user_input = input(\"\\nPlease enter the full name of the staff to be found in record:   \")\n",
    "    ## Now we have the value to check in the record of column Staff. To do this we can use for or while loop.\n",
    "    check=0 # condition to use the print on the screen. We have many options like a record can be found, not found, \n",
    "    # found but left the company or  found and still working. \n",
    "    for name_of_staff in givenData[\"Staff\"]:  # Here name_of_Staff is a variable to get the value from data and check \n",
    "        # whether it matches the user_input\n",
    "        if name_of_staff == user_input:\n",
    "            state=1        \n",
    "            break;\n",
    "        else: state =0\n",
    "    if state ==1: # If record found than we have to take join date and left date from the data\n",
    "        record_check = givenData.loc[givenData[\"Staff\"]==user_input][\"LeftDate\"].values[0]\n",
    "        join_date= givenData.loc[givenData[\"Staff\"]==user_input][\"JoinDate\"].values[0]\n",
    "        if type(record_check)!=str: # Missing value is float and date is string so we check if value found not string\n",
    "            # it means the employee has not left the organization. And he/she is still working. \n",
    "            print(f\"\\n{user_input} joined the organization on {join_date} and is still working.\")\n",
    "        else:  print(f\"\\n{user_input} joined the organization on {join_date} and left on {record_check}.\")\n",
    "    else: print(f\"\\n{user_input} is not found in the record.\")\n",
    "        # Now we have print the finding on the screen. we need to continue until user decide to quit. \n",
    "        # for this purpose, we will use while loop and try inside the while loop.\n",
    "    while True:\n",
    "        try: \n",
    "            state=int(input(\"\\nDo you want to find record for other staff? \" \n",
    "                            +\"Please type 1 for Yes and any other number to Exit:   \"))\n",
    "            # To be successfully run the program, we to just update the value in state. \n",
    "            break\n",
    "        except ValueError: print(\"\\n !!Invalid input!! Please try again.\")\n",
    "    if state != 1: \n",
    "        print(\"\\nIt was a pleasure to help. \\nThank you.\")\n"
   ]
  },
  {
   "cell_type": "markdown",
   "id": "28579428",
   "metadata": {},
   "source": [
    "### <center>Thank you</center> "
   ]
  }
 ],
 "metadata": {
  "kernelspec": {
   "display_name": "Python 3 (ipykernel)",
   "language": "python",
   "name": "python3"
  },
  "language_info": {
   "codemirror_mode": {
    "name": "ipython",
    "version": 3
   },
   "file_extension": ".py",
   "mimetype": "text/x-python",
   "name": "python",
   "nbconvert_exporter": "python",
   "pygments_lexer": "ipython3",
   "version": "3.9.12"
  }
 },
 "nbformat": 4,
 "nbformat_minor": 5
}
