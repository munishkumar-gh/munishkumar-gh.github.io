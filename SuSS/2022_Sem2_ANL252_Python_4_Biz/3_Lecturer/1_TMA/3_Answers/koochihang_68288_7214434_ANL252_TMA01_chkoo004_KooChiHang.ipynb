{
 "cells": [
  {
   "cell_type": "code",
   "execution_count": null,
   "id": "ce9060ab-7e72-4774-8a06-ae029b9d2a10",
   "metadata": {},
   "outputs": [],
   "source": [
    "#Part(b) first graph\n",
    "import matplotlib.pyplot as plt\n",
    "import pandas as pd\n",
    "\n",
    "annual_salaries = pd.read_csv(\"/Users/chihang/Desktop/TMA_Data.csv\")\n",
    "\n",
    "salaries_list = list(annual_salaries[\"Salary\"])\n",
    "\n",
    "rmin = min(salaries_list)\n",
    "rmax = max(salaries_list)\n",
    "\n",
    "plt.figure(figsize=(6,6), dpi=100)\n",
    "\n",
    "plt.hist(salaries_list, bins=10, range=(rmin, rmax), align=\"mid\", orientation=\"vertical\", rwidth=0.8)\n",
    "plt.title(\"Histogram of Annual Salaries\")\n",
    "plt.xlabel(\"Annual Salaries in ($)\")\n",
    "plt.ylabel(\"Frequency\")\n",
    "plt.show()"
   ]
  },
  {
   "cell_type": "code",
   "execution_count": null,
   "id": "20a203f2-9c86-4242-8f57-05c73fba19ae",
   "metadata": {},
   "outputs": [],
   "source": [
    "#Part(b) 2nd graph\n",
    "import pandas as pd\n",
    "import matplotlib.pyplot as plt\n",
    "\n",
    "Data = {'Unit': ['Admin','C-level','Engineering','IT','Manufacturing','Sales'],\n",
    "        'Average_Salary': [77315.29,250000,95867,95550.76,59412.91,71426.59]}\n",
    "\n",
    "df = pd.DataFrame(Data,columns=['Unit','Average_Salary'])\n",
    "\n",
    "plt.bar(df['Unit'], df['Average_Salary'])\n",
    "plt.title('Average annual salaries of workers according to the relevant departments', fontsize=12)\n",
    "plt.xlabel('Unit', fontsize=12)\n",
    "plt.ylabel('Average Salary in ($)', fontsize=12)\n",
    "plt.show()\n"
   ]
  },
  {
   "cell_type": "code",
   "execution_count": null,
   "id": "aa68056f-a947-4c15-9615-68777a2a8b37",
   "metadata": {},
   "outputs": [],
   "source": [
    "#Part (c)\n",
    "import pandas as pd\n",
    "import numpy as np\n",
    "import datetime\n",
    "\n",
    "#Length service of all staffs known as tenure \n",
    "Data = pd.read_csv(\"/Users/chihang/Desktop/TMA_Data.csv\")\n",
    "df = pd.DataFrame(Data,columns=['ID','Staff','JoinDate','LeftDate'])\n",
    "df['JoinDate'] = pd.to_datetime(df['JoinDate'])\n",
    "df['LeftDate'] = pd.to_datetime(df['LeftDate'])\n",
    "end = pd.to_datetime('2022-05-01')\n",
    "df['LeftDate'] = df['LeftDate'].fillna(end)\n",
    "df['Tenure(years)'] = round((((df['LeftDate'] - df['JoinDate']).dt.days)/365),1)\n",
    "print(df)\n",
    "\n",
    "#Average tenure \n",
    "def Average(lst):\n",
    "    return sum(lst) / len(lst)\n",
    "lst = df['Tenure(years)']\n",
    "average = Average(lst)\n",
    "print(\"Average tenure is\", average, \"years\")\n",
    "\n",
    "#Maximum tenure \n",
    "maximum = max(df['Tenure(years)'])\n",
    "print(\"Maximum tenure is\", maximum, \"years\")\n",
    "\n",
    "#Minimum tenure \n",
    "minimum = min(df['Tenure(years)'])\n",
    "print(\"Minimum tenure is\", minimum, \"years\")"
   ]
  },
  {
   "cell_type": "code",
   "execution_count": null,
   "id": "b8ef71dd-f79a-46c6-883b-f4b61f7aaca6",
   "metadata": {},
   "outputs": [],
   "source": [
    "#part (d)\n",
    "import pandas as pd\n",
    "\n",
    "data = pd.read_csv(\"/Users/chihang/Desktop/TMA_Data.csv\")\n",
    "name_list = list(data[\"Staff\"])\n",
    "\n",
    "user_want_to_exit = True \n",
    "\n",
    "while user_want_to_exit:\n",
    "    staff_name = str(input(\"Please Enter Full Name of Staff:\"))\n",
    "    if staff_name in name_list:\n",
    "        print(\"Staff is a valid employee\")\n",
    "    else:\n",
    "        print(\"Staff is an invalid employee\")\n",
    "        \n",
    "    while user_want_to_exit:\n",
    "        terminate_qns = str(input(\"Would you like to try again? (Y/N)\"))\n",
    "        if terminate_qns == \"N\":\n",
    "            print(\"Good Bye\")\n",
    "            user_want_to_exit = False \n",
    "           \n",
    "        elif terminate_qns == \"Y\":\n",
    "            break \n",
    "            \n",
    "        else: print(\"Invalid input, please try again\")"
   ]
  },
  {
   "cell_type": "code",
   "execution_count": null,
   "id": "1147ee8d-0556-422f-ba79-051fa621915b",
   "metadata": {},
   "outputs": [],
   "source": []
  },
  {
   "cell_type": "code",
   "execution_count": null,
   "id": "d61d5b85-0fe5-438e-8a02-2d33c015638b",
   "metadata": {},
   "outputs": [],
   "source": []
  }
 ],
 "metadata": {
  "kernelspec": {
   "display_name": "Python 3 (ipykernel)",
   "language": "python",
   "name": "python3"
  },
  "language_info": {
   "codemirror_mode": {
    "name": "ipython",
    "version": 3
   },
   "file_extension": ".py",
   "mimetype": "text/x-python",
   "name": "python",
   "nbconvert_exporter": "python",
   "pygments_lexer": "ipython3",
   "version": "3.9.12"
  },
  "toc-autonumbering": false
 },
 "nbformat": 4,
 "nbformat_minor": 5
}
