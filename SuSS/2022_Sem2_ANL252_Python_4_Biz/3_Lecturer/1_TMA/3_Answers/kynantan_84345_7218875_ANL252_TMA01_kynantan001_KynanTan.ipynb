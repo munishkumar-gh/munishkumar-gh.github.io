{
 "cells": [
  {
   "cell_type": "markdown",
   "id": "50e414d9",
   "metadata": {},
   "source": [
    "## 1b: Re-creating pie-chart"
   ]
  },
  {
   "cell_type": "code",
   "execution_count": 1,
   "id": "a135d21c",
   "metadata": {},
   "outputs": [],
   "source": [
    "# import relevant libraries.\n",
    "import pandas as pd\n",
    "import numpy as np\n",
    "from datetime import date\n",
    "from matplotlib import pyplot as plt"
   ]
  },
  {
   "cell_type": "code",
   "execution_count": 2,
   "id": "d75970e8",
   "metadata": {
    "scrolled": true
   },
   "outputs": [],
   "source": [
    "# read data into pandas dataframe\n",
    "df = pd.read_csv(\"TMA_Data.csv\")"
   ]
  },
  {
   "cell_type": "code",
   "execution_count": 3,
   "id": "2113b347",
   "metadata": {
    "scrolled": false
   },
   "outputs": [
    {
     "data": {
      "text/html": [
       "<div>\n",
       "<style scoped>\n",
       "    .dataframe tbody tr th:only-of-type {\n",
       "        vertical-align: middle;\n",
       "    }\n",
       "\n",
       "    .dataframe tbody tr th {\n",
       "        vertical-align: top;\n",
       "    }\n",
       "\n",
       "    .dataframe thead th {\n",
       "        text-align: right;\n",
       "    }\n",
       "</style>\n",
       "<table border=\"1\" class=\"dataframe\">\n",
       "  <thead>\n",
       "    <tr style=\"text-align: right;\">\n",
       "      <th></th>\n",
       "      <th>PerformanceScore</th>\n",
       "      <th>Employee Count</th>\n",
       "    </tr>\n",
       "  </thead>\n",
       "  <tbody>\n",
       "    <tr>\n",
       "      <th>0</th>\n",
       "      <td>Exceed</td>\n",
       "      <td>30</td>\n",
       "    </tr>\n",
       "    <tr>\n",
       "      <th>1</th>\n",
       "      <td>Meet</td>\n",
       "      <td>201</td>\n",
       "    </tr>\n",
       "    <tr>\n",
       "      <th>2</th>\n",
       "      <td>PIP</td>\n",
       "      <td>2</td>\n",
       "    </tr>\n",
       "    <tr>\n",
       "      <th>3</th>\n",
       "      <td>To Improve</td>\n",
       "      <td>17</td>\n",
       "    </tr>\n",
       "  </tbody>\n",
       "</table>\n",
       "</div>"
      ],
      "text/plain": [
       "  PerformanceScore  Employee Count\n",
       "0           Exceed              30\n",
       "1             Meet             201\n",
       "2              PIP               2\n",
       "3       To Improve              17"
      ]
     },
     "metadata": {},
     "output_type": "display_data"
    }
   ],
   "source": [
    "# creating summary table by counting the number of employees that met their respective performance\n",
    "performance_table = df.groupby(['PerformanceScore'])['PerformanceScore'].count()\n",
    "\n",
    "# creating a dataframe for performance_table\n",
    "performance_table = pd.DataFrame(performance_table)\n",
    "\n",
    "# renaming PerformanceScore to Employee Count to replicate Excel's table output\n",
    "performance_table.rename(columns = {'PerformanceScore' : 'Employee Count'}, inplace=True)\n",
    "\n",
    "# resetting index of performance_table\n",
    "performance_table = performance_table.reset_index()\n",
    "\n",
    "# corresponding summarized table for pie chart\n",
    "display(performance_table)"
   ]
  },
  {
   "cell_type": "code",
   "execution_count": 4,
   "id": "876bab86",
   "metadata": {
    "scrolled": false
   },
   "outputs": [
    {
     "data": {
      "image/png": "[encoded data removed]",
      "text/plain": [
       "<Figure size 432x288 with 1 Axes>"
      ]
     },
     "metadata": {},
     "output_type": "display_data"
    }
   ],
   "source": [
    "# creating pie chart using the summary table\n",
    "performance_table.groupby(['PerformanceScore']).sum().plot(kind='pie', title='Overall Performance of Company', y='Employee Count', autopct='%1.1f%%')\n",
    "plt.ylabel('') # removing ylabel from pie chart output\n",
    "plt.show()"
   ]
  },
  {
   "cell_type": "markdown",
   "id": "f2daaf1e",
   "metadata": {},
   "source": [
    "## 1b: Re-creating bar chart"
   ]
  },
  {
   "cell_type": "code",
   "execution_count": 5,
   "id": "79e685f1",
   "metadata": {
    "scrolled": true
   },
   "outputs": [],
   "source": [
    "# creating summary table by grouping the average salary of employees by unit\n",
    "avg_unit_salary = df.groupby(['Unit'])['Salary'].mean()\n",
    "\n",
    "# creating a dataframe for avg_unit_salary\n",
    "avg_unit_salary = pd.DataFrame(avg_unit_salary)\n",
    "\n",
    "# removing the only C-level unit from the data because there is only one employee in that unit\n",
    "avg_unit_salary = avg_unit_salary.drop('C-Level')\n",
    "\n",
    "# resetting index of avg_unit_salary\n",
    "avg_unit_salary = avg_unit_salary.reset_index()"
   ]
  },
  {
   "cell_type": "code",
   "execution_count": 6,
   "id": "ed8addbe",
   "metadata": {},
   "outputs": [],
   "source": [
    "# creating lists with average salary values of each citizenship status\n",
    "unit_list = ['Admin ', 'Engineering', 'IT', 'Manufacturing', 'Sales']\n",
    "citizen_list = [79701.17, 97033.00, 93964.23, 59883.29, 71502.32]\n",
    "non_resident_list = [0, 100416.00, 94490.40, 58696.10, 0]\n",
    "PR_list = [63000.00, 89511.50, 104367.00, 57178.36, 70947.00]\n",
    "\n",
    "# creating a dataframe for avg_citizen_salary\n",
    "avg_citizen_salary_df = pd.DataFrame({'Unit':unit_list, 'Citizen':citizen_list, 'Non-Resident':non_resident_list, 'PR':PR_list})"
   ]
  },
  {
   "cell_type": "code",
   "execution_count": 7,
   "id": "3c5e5108",
   "metadata": {},
   "outputs": [
    {
     "data": {
      "text/html": [
       "<div>\n",
       "<style scoped>\n",
       "    .dataframe tbody tr th:only-of-type {\n",
       "        vertical-align: middle;\n",
       "    }\n",
       "\n",
       "    .dataframe tbody tr th {\n",
       "        vertical-align: top;\n",
       "    }\n",
       "\n",
       "    .dataframe thead th {\n",
       "        text-align: right;\n",
       "    }\n",
       "</style>\n",
       "<table border=\"1\" class=\"dataframe\">\n",
       "  <thead>\n",
       "    <tr style=\"text-align: right;\">\n",
       "      <th></th>\n",
       "      <th>Unit</th>\n",
       "      <th>Average Salary</th>\n",
       "      <th>Citizen</th>\n",
       "      <th>Non-Resident</th>\n",
       "      <th>PR</th>\n",
       "    </tr>\n",
       "  </thead>\n",
       "  <tbody>\n",
       "    <tr>\n",
       "      <th>0</th>\n",
       "      <td>Admin</td>\n",
       "      <td>77315.285714</td>\n",
       "      <td>79701.17</td>\n",
       "      <td>0.0</td>\n",
       "      <td>63000.00</td>\n",
       "    </tr>\n",
       "    <tr>\n",
       "      <th>1</th>\n",
       "      <td>Engineering</td>\n",
       "      <td>95867.000000</td>\n",
       "      <td>97033.00</td>\n",
       "      <td>100416.0</td>\n",
       "      <td>89511.50</td>\n",
       "    </tr>\n",
       "    <tr>\n",
       "      <th>2</th>\n",
       "      <td>IT</td>\n",
       "      <td>95550.756098</td>\n",
       "      <td>93964.23</td>\n",
       "      <td>94490.4</td>\n",
       "      <td>104367.00</td>\n",
       "    </tr>\n",
       "    <tr>\n",
       "      <th>3</th>\n",
       "      <td>Manufacturing</td>\n",
       "      <td>59412.905325</td>\n",
       "      <td>59883.29</td>\n",
       "      <td>58696.1</td>\n",
       "      <td>57178.36</td>\n",
       "    </tr>\n",
       "    <tr>\n",
       "      <th>4</th>\n",
       "      <td>Sales</td>\n",
       "      <td>71426.590909</td>\n",
       "      <td>71502.32</td>\n",
       "      <td>0.0</td>\n",
       "      <td>70947.00</td>\n",
       "    </tr>\n",
       "  </tbody>\n",
       "</table>\n",
       "</div>"
      ],
      "text/plain": [
       "            Unit  Average Salary   Citizen  Non-Resident         PR\n",
       "0         Admin     77315.285714  79701.17           0.0   63000.00\n",
       "1    Engineering    95867.000000  97033.00      100416.0   89511.50\n",
       "2             IT    95550.756098  93964.23       94490.4  104367.00\n",
       "3  Manufacturing    59412.905325  59883.29       58696.1   57178.36\n",
       "4          Sales    71426.590909  71502.32           0.0   70947.00"
      ]
     },
     "metadata": {},
     "output_type": "display_data"
    }
   ],
   "source": [
    "# merging both dataframes, avg_unit_salary and avg_citizen_salary, into one dataframe before plotting bar graph\n",
    "after_merging = avg_unit_salary.merge(avg_citizen_salary_df)\n",
    "after_merging.rename(columns = {'Salary':'Average Salary'}, inplace = True)\n",
    "\n",
    "# corresponding summarized table for bar chart\n",
    "display(after_merging)"
   ]
  },
  {
   "cell_type": "code",
   "execution_count": 8,
   "id": "b4d35c8f",
   "metadata": {},
   "outputs": [
    {
     "data": {
      "image/png": "[encoded data removed]",
      "text/plain": [
       "<Figure size 432x288 with 1 Axes>"
      ]
     },
     "metadata": {
      "needs_background": "light"
     },
     "output_type": "display_data"
    }
   ],
   "source": [
    "# plotting bar chart\n",
    "after_merging.plot(x='Unit', kind='bar', stacked=False, title='Will citizenship affect the average salary per business unit?')\n",
    "\n",
    "# rotate x-axis labels vertically\n",
    "plt.xticks(rotation = 0)\n",
    "plt.show()"
   ]
  },
  {
   "cell_type": "markdown",
   "id": "ce97870d",
   "metadata": {},
   "source": [
    "## 1c: Length of service of all the staff"
   ]
  },
  {
   "cell_type": "code",
   "execution_count": 9,
   "id": "2b026d00",
   "metadata": {
    "scrolled": true
   },
   "outputs": [],
   "source": [
    "# converting JoinDate column to datetime object to perform arithmetic operations\n",
    "df['JoinDate'] = pd.to_datetime(df['JoinDate'])\n",
    "\n",
    "# converting LeftDate column to datetime objects to perform arithmetic operations\n",
    "df['LeftDate'] = pd.to_datetime(df['LeftDate'])\n",
    "\n",
    "# replacing the missing values of LeftDate for staff who has not left the organisation using the date provided, 1st May 2022.\n",
    "df['LeftDate'].fillna(value = \"5/1/2022\", inplace = True)"
   ]
  },
  {
   "cell_type": "code",
   "execution_count": 10,
   "id": "a915f479",
   "metadata": {
    "scrolled": true
   },
   "outputs": [],
   "source": [
    "# finding the length of service of all the staff in days\n",
    "df['Difference in years'] = df['LeftDate'] - df['JoinDate']\n",
    "\n",
    "# finding the length of service of all the staff in years\n",
    "df['Difference in years'] = ((df['Difference in years']).dt.days / 365)\n",
    "service_in_years = df['Difference in years']\n",
    "service_in_years = pd.DataFrame(service_in_years)"
   ]
  },
  {
   "cell_type": "code",
   "execution_count": 11,
   "id": "954fd910",
   "metadata": {},
   "outputs": [
    {
     "name": "stdout",
     "output_type": "stream",
     "text": [
      "The minimum length of service is 0.1 years.\n"
     ]
    }
   ],
   "source": [
    "# finding the minimum length of service in years\n",
    "min_service = float(df['Difference in years'].min())\n",
    "print(\"The minimum length of service is \" + str(\"%.1f\" % min_service) + \" years.\")"
   ]
  },
  {
   "cell_type": "code",
   "execution_count": 12,
   "id": "e0e27c3b",
   "metadata": {},
   "outputs": [
    {
     "name": "stdout",
     "output_type": "stream",
     "text": [
      "The maximum length of service is 16.3 years.\n"
     ]
    }
   ],
   "source": [
    "# finding the maximum length of service in years\n",
    "max_service = float(df['Difference in years'].max())\n",
    "print(\"The maximum length of service is \" + str(\"%.1f\" % max_service) + \" years.\")"
   ]
  },
  {
   "cell_type": "code",
   "execution_count": 13,
   "id": "37beb33c",
   "metadata": {},
   "outputs": [
    {
     "name": "stdout",
     "output_type": "stream",
     "text": [
      "The average length of service is 6.8 years.\n"
     ]
    }
   ],
   "source": [
    "# finding the average length of service in years\n",
    "mean_service = float(df['Difference in years'].mean())\n",
    "print(\"The average length of service is \" + str(\"%.1f\" % mean_service) + \" years.\")"
   ]
  },
  {
   "cell_type": "markdown",
   "id": "170c4d69",
   "metadata": {},
   "source": [
    "## 1d: Interactive user input"
   ]
  },
  {
   "cell_type": "code",
   "execution_count": null,
   "id": "48f495e4",
   "metadata": {
    "scrolled": true
   },
   "outputs": [
    {
     "name": "stdout",
     "output_type": "stream",
     "text": [
      "This program checks if a particular person was/is a staff of the organization.\n",
      "Please enter the person's full name: \n",
      "The name  is not in the organization's records.\n",
      "Please enter the person's full name: \n",
      "The name  is not in the organization's records.\n"
     ]
    }
   ],
   "source": [
    "print(\"This program checks if a particular person was/is a staff of the organization.\")\n",
    "\n",
    "conditional_date = pd.Timestamp(year=2022, month=5, day=1, hour=0) # setting conditional date to 1st May 2022\n",
    "status = True # status is the break condition for the while-loop\n",
    "\n",
    "while status == True:\n",
    "    try:\n",
    "        name_entry = input(\"Please enter the person's full name: \")\n",
    "        Name_Entry = name_entry.title() # capitalize the first character in every word\n",
    "            \n",
    "        check_person = df.loc[df.Staff == Name_Entry] # checking if the name entered exists in the organization's records\n",
    "        join_date = check_person.values[0,7]\n",
    "        left_date = check_person.values[0,8]\n",
    "        \n",
    "        if left_date == conditional_date:\n",
    "            joindate = join_date.strftime('%d %B %Y.') # changing the date format to (day of the month, month's full name, full year) to be read easily\n",
    "            print(f\"{Name_Entry} is currently a staff of the organization, and has been a staff since {joindate}\")\n",
    "            \n",
    "        else:\n",
    "            leftdate = left_date.strftime(\"%d %B %Y.\") # changing the date format to (day of the month, month's full name, full year) to be read easily\n",
    "            print(f\"{Name_Entry} was a staff of the organization, and has left the organization since {leftdate}\")\n",
    "                \n",
    "        while True: \n",
    "            go_again = input(\"Would you like to enter another person's name (yes/no): \") # allowing the user to choose to enter another person's name\n",
    "            if go_again == 'yes':\n",
    "                break # break out of this while-loop to start from name_entry\n",
    "\n",
    "            elif go_again == 'no':\n",
    "                status = False # setting status to False would indicate that the bigger while-loop would not execute\n",
    "                print('Stopping program.')            \n",
    "                break # break out of this while-loop to end the program\n",
    "\n",
    "            else:\n",
    "                print('Invalid input, please enter yes or no.')\n",
    "                continue # continue this while-loop if the input for go_again is neither 'yes' or 'no'\n",
    "        \n",
    "    except IndexError:\n",
    "        print(f\"The name {Name_Entry} is not in the organization's records.\")\n",
    "        \n"
   ]
  },
  {
   "cell_type": "code",
   "execution_count": null,
   "id": "729f81f0",
   "metadata": {},
   "outputs": [],
   "source": []
  }
 ],
 "metadata": {
  "kernelspec": {
   "display_name": "Python 3 (ipykernel)",
   "language": "python",
   "name": "python3"
  },
  "language_info": {
   "codemirror_mode": {
    "name": "ipython",
    "version": 3
   },
   "file_extension": ".py",
   "mimetype": "text/x-python",
   "name": "python",
   "nbconvert_exporter": "python",
   "pygments_lexer": "ipython3",
   "version": "3.9.12"
  }
 },
 "nbformat": 4,
 "nbformat_minor": 5
}
