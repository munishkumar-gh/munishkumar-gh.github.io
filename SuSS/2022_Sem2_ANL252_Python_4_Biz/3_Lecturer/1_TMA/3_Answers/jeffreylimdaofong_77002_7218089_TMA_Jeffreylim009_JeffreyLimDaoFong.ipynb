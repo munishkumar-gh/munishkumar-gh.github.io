{
 "cells": [
  {
   "cell_type": "markdown",
   "id": "20dd155b",
   "metadata": {},
   "source": [
    "# ANL252 - Python for Data Analytics"
   ]
  },
  {
   "cell_type": "markdown",
   "id": "4430e7a9",
   "metadata": {},
   "source": [
    "## Data Cleaning & Processing\n",
    "In this section, the data will be cleaned and processed to be used for the data study."
   ]
  },
  {
   "cell_type": "code",
   "execution_count": 1,
   "id": "14247db6",
   "metadata": {},
   "outputs": [],
   "source": [
    "# importing libraries\n",
    "\n",
    "import warnings\n",
    "warnings.filterwarnings(\"ignore\")\n",
    "\n",
    "import numpy as np\n",
    "import pandas as pd\n",
    "import io\n",
    "import requests\n",
    "\n",
    "pd.set_option('display.max_columns', None)\n",
    "\n",
    "import matplotlib.pyplot as plt\n",
    "import seaborn as sns\n",
    "%matplotlib inline \n",
    "%config InlineBackend.figure_format = 'retina'\n",
    "plt.style.use(\"ggplot\")"
   ]
  },
  {
   "cell_type": "code",
   "execution_count": 2,
   "id": "b2405682",
   "metadata": {},
   "outputs": [],
   "source": [
    "df = pd.read_csv(\"TMA_Data.csv\")"
   ]
  },
  {
   "cell_type": "code",
   "execution_count": 3,
   "id": "dd771235",
   "metadata": {},
   "outputs": [
    {
     "data": {
      "text/html": [
       "<div>\n",
       "<style scoped>\n",
       "    .dataframe tbody tr th:only-of-type {\n",
       "        vertical-align: middle;\n",
       "    }\n",
       "\n",
       "    .dataframe tbody tr th {\n",
       "        vertical-align: top;\n",
       "    }\n",
       "\n",
       "    .dataframe thead th {\n",
       "        text-align: right;\n",
       "    }\n",
       "</style>\n",
       "<table border=\"1\" class=\"dataframe\">\n",
       "  <thead>\n",
       "    <tr style=\"text-align: right;\">\n",
       "      <th></th>\n",
       "      <th>ID</th>\n",
       "      <th>Staff</th>\n",
       "      <th>BirthYear</th>\n",
       "      <th>Gender</th>\n",
       "      <th>Marital</th>\n",
       "      <th>Citizenship</th>\n",
       "      <th>Minority</th>\n",
       "      <th>JoinDate</th>\n",
       "      <th>LeftDate</th>\n",
       "      <th>Unit</th>\n",
       "      <th>Salary</th>\n",
       "      <th>PerformanceScore</th>\n",
       "      <th>Survey</th>\n",
       "      <th>Satisfaction</th>\n",
       "      <th>Absence</th>\n",
       "    </tr>\n",
       "  </thead>\n",
       "  <tbody>\n",
       "    <tr>\n",
       "      <th>173</th>\n",
       "      <td>174</td>\n",
       "      <td>Neelam Clarkson</td>\n",
       "      <td>03/16/81</td>\n",
       "      <td>F</td>\n",
       "      <td>Married</td>\n",
       "      <td>PR</td>\n",
       "      <td>No</td>\n",
       "      <td>1/9/2012</td>\n",
       "      <td>NaN</td>\n",
       "      <td>Manufacturing</td>\n",
       "      <td>58530</td>\n",
       "      <td>Meet</td>\n",
       "      <td>5.00</td>\n",
       "      <td>5</td>\n",
       "      <td>19</td>\n",
       "    </tr>\n",
       "    <tr>\n",
       "      <th>73</th>\n",
       "      <td>74</td>\n",
       "      <td>Evie-May Mcneill</td>\n",
       "      <td>10/9/1974</td>\n",
       "      <td>F</td>\n",
       "      <td>Married</td>\n",
       "      <td>Citizen</td>\n",
       "      <td>No</td>\n",
       "      <td>19/8/2013</td>\n",
       "      <td>NaN</td>\n",
       "      <td>Manufacturing</td>\n",
       "      <td>49256</td>\n",
       "      <td>Meet</td>\n",
       "      <td>4.10</td>\n",
       "      <td>5</td>\n",
       "      <td>3</td>\n",
       "    </tr>\n",
       "    <tr>\n",
       "      <th>226</th>\n",
       "      <td>227</td>\n",
       "      <td>Susannah Sumner</td>\n",
       "      <td>1/7/1987</td>\n",
       "      <td>F</td>\n",
       "      <td>Married</td>\n",
       "      <td>Non-Resident</td>\n",
       "      <td>No</td>\n",
       "      <td>1/7/2013</td>\n",
       "      <td>NaN</td>\n",
       "      <td>Manufacturing</td>\n",
       "      <td>62810</td>\n",
       "      <td>Meet</td>\n",
       "      <td>3.93</td>\n",
       "      <td>3</td>\n",
       "      <td>20</td>\n",
       "    </tr>\n",
       "    <tr>\n",
       "      <th>20</th>\n",
       "      <td>21</td>\n",
       "      <td>Antonina Needham</td>\n",
       "      <td>09/22/89</td>\n",
       "      <td>F</td>\n",
       "      <td>Single</td>\n",
       "      <td>Citizen</td>\n",
       "      <td>No</td>\n",
       "      <td>16/2/2015</td>\n",
       "      <td>NaN</td>\n",
       "      <td>Sales</td>\n",
       "      <td>61555</td>\n",
       "      <td>Meet</td>\n",
       "      <td>4.50</td>\n",
       "      <td>5</td>\n",
       "      <td>20</td>\n",
       "    </tr>\n",
       "    <tr>\n",
       "      <th>218</th>\n",
       "      <td>219</td>\n",
       "      <td>Simeon Gentry</td>\n",
       "      <td>10/31/77</td>\n",
       "      <td>M</td>\n",
       "      <td>Married</td>\n",
       "      <td>Citizen</td>\n",
       "      <td>No</td>\n",
       "      <td>5/16/2011</td>\n",
       "      <td>6/8/2016</td>\n",
       "      <td>Manufacturing</td>\n",
       "      <td>55722</td>\n",
       "      <td>Meet</td>\n",
       "      <td>5.00</td>\n",
       "      <td>4</td>\n",
       "      <td>14</td>\n",
       "    </tr>\n",
       "  </tbody>\n",
       "</table>\n",
       "</div>"
      ],
      "text/plain": [
       "      ID             Staff  BirthYear Gender  Marital   Citizenship Minority  \\\n",
       "173  174   Neelam Clarkson   03/16/81      F  Married            PR       No   \n",
       "73    74  Evie-May Mcneill  10/9/1974      F  Married       Citizen       No   \n",
       "226  227   Susannah Sumner   1/7/1987      F  Married  Non-Resident       No   \n",
       "20    21  Antonina Needham   09/22/89      F   Single       Citizen       No   \n",
       "218  219     Simeon Gentry   10/31/77     M   Married       Citizen       No   \n",
       "\n",
       "      JoinDate  LeftDate           Unit  Salary PerformanceScore  Survey  \\\n",
       "173   1/9/2012       NaN  Manufacturing   58530             Meet    5.00   \n",
       "73   19/8/2013       NaN  Manufacturing   49256             Meet    4.10   \n",
       "226   1/7/2013       NaN  Manufacturing   62810             Meet    3.93   \n",
       "20   16/2/2015       NaN          Sales   61555             Meet    4.50   \n",
       "218  5/16/2011  6/8/2016  Manufacturing   55722             Meet    5.00   \n",
       "\n",
       "     Satisfaction  Absence  \n",
       "173             5       19  \n",
       "73              5        3  \n",
       "226             3       20  \n",
       "20              5       20  \n",
       "218             4       14  "
      ]
     },
     "execution_count": 3,
     "metadata": {},
     "output_type": "execute_result"
    }
   ],
   "source": [
    "df.sample(5, random_state=999)"
   ]
  },
  {
   "cell_type": "code",
   "execution_count": 4,
   "id": "cd9cb0dc",
   "metadata": {},
   "outputs": [],
   "source": [
    "df['LeftDate'].fillna('1/5/2022', inplace=True)"
   ]
  },
  {
   "cell_type": "code",
   "execution_count": 5,
   "id": "e076aeb8",
   "metadata": {},
   "outputs": [],
   "source": [
    "df['BirthYear'] = pd.to_datetime(df['BirthYear'])\n",
    "df['JoinDate'] = pd.to_datetime(df['JoinDate'])\n",
    "df['LeftDate'] = pd.to_datetime(df['LeftDate'])"
   ]
  },
  {
   "cell_type": "code",
   "execution_count": 6,
   "id": "9aabd5c5",
   "metadata": {
    "scrolled": true
   },
   "outputs": [
    {
     "data": {
      "text/html": [
       "<div>\n",
       "<style scoped>\n",
       "    .dataframe tbody tr th:only-of-type {\n",
       "        vertical-align: middle;\n",
       "    }\n",
       "\n",
       "    .dataframe tbody tr th {\n",
       "        vertical-align: top;\n",
       "    }\n",
       "\n",
       "    .dataframe thead th {\n",
       "        text-align: right;\n",
       "    }\n",
       "</style>\n",
       "<table border=\"1\" class=\"dataframe\">\n",
       "  <thead>\n",
       "    <tr style=\"text-align: right;\">\n",
       "      <th></th>\n",
       "      <th>ID</th>\n",
       "      <th>Staff</th>\n",
       "      <th>BirthYear</th>\n",
       "      <th>Gender</th>\n",
       "      <th>Marital</th>\n",
       "      <th>Citizenship</th>\n",
       "      <th>Minority</th>\n",
       "      <th>JoinDate</th>\n",
       "      <th>LeftDate</th>\n",
       "      <th>Unit</th>\n",
       "      <th>Salary</th>\n",
       "      <th>PerformanceScore</th>\n",
       "      <th>Survey</th>\n",
       "      <th>Satisfaction</th>\n",
       "      <th>Absence</th>\n",
       "    </tr>\n",
       "  </thead>\n",
       "  <tbody>\n",
       "    <tr>\n",
       "      <th>173</th>\n",
       "      <td>174</td>\n",
       "      <td>Neelam Clarkson</td>\n",
       "      <td>1981-03-16</td>\n",
       "      <td>F</td>\n",
       "      <td>Married</td>\n",
       "      <td>PR</td>\n",
       "      <td>No</td>\n",
       "      <td>2012-01-09</td>\n",
       "      <td>2022-01-05</td>\n",
       "      <td>Manufacturing</td>\n",
       "      <td>58530</td>\n",
       "      <td>Meet</td>\n",
       "      <td>5.00</td>\n",
       "      <td>5</td>\n",
       "      <td>19</td>\n",
       "    </tr>\n",
       "    <tr>\n",
       "      <th>73</th>\n",
       "      <td>74</td>\n",
       "      <td>Evie-May Mcneill</td>\n",
       "      <td>1974-10-09</td>\n",
       "      <td>F</td>\n",
       "      <td>Married</td>\n",
       "      <td>Citizen</td>\n",
       "      <td>No</td>\n",
       "      <td>2013-08-19</td>\n",
       "      <td>2022-01-05</td>\n",
       "      <td>Manufacturing</td>\n",
       "      <td>49256</td>\n",
       "      <td>Meet</td>\n",
       "      <td>4.10</td>\n",
       "      <td>5</td>\n",
       "      <td>3</td>\n",
       "    </tr>\n",
       "    <tr>\n",
       "      <th>226</th>\n",
       "      <td>227</td>\n",
       "      <td>Susannah Sumner</td>\n",
       "      <td>1987-01-07</td>\n",
       "      <td>F</td>\n",
       "      <td>Married</td>\n",
       "      <td>Non-Resident</td>\n",
       "      <td>No</td>\n",
       "      <td>2013-01-07</td>\n",
       "      <td>2022-01-05</td>\n",
       "      <td>Manufacturing</td>\n",
       "      <td>62810</td>\n",
       "      <td>Meet</td>\n",
       "      <td>3.93</td>\n",
       "      <td>3</td>\n",
       "      <td>20</td>\n",
       "    </tr>\n",
       "    <tr>\n",
       "      <th>20</th>\n",
       "      <td>21</td>\n",
       "      <td>Antonina Needham</td>\n",
       "      <td>1989-09-22</td>\n",
       "      <td>F</td>\n",
       "      <td>Single</td>\n",
       "      <td>Citizen</td>\n",
       "      <td>No</td>\n",
       "      <td>2015-02-16</td>\n",
       "      <td>2022-01-05</td>\n",
       "      <td>Sales</td>\n",
       "      <td>61555</td>\n",
       "      <td>Meet</td>\n",
       "      <td>4.50</td>\n",
       "      <td>5</td>\n",
       "      <td>20</td>\n",
       "    </tr>\n",
       "    <tr>\n",
       "      <th>218</th>\n",
       "      <td>219</td>\n",
       "      <td>Simeon Gentry</td>\n",
       "      <td>1977-10-31</td>\n",
       "      <td>M</td>\n",
       "      <td>Married</td>\n",
       "      <td>Citizen</td>\n",
       "      <td>No</td>\n",
       "      <td>2011-05-16</td>\n",
       "      <td>2016-06-08</td>\n",
       "      <td>Manufacturing</td>\n",
       "      <td>55722</td>\n",
       "      <td>Meet</td>\n",
       "      <td>5.00</td>\n",
       "      <td>4</td>\n",
       "      <td>14</td>\n",
       "    </tr>\n",
       "  </tbody>\n",
       "</table>\n",
       "</div>"
      ],
      "text/plain": [
       "      ID             Staff  BirthYear Gender  Marital   Citizenship Minority  \\\n",
       "173  174   Neelam Clarkson 1981-03-16      F  Married            PR       No   \n",
       "73    74  Evie-May Mcneill 1974-10-09      F  Married       Citizen       No   \n",
       "226  227   Susannah Sumner 1987-01-07      F  Married  Non-Resident       No   \n",
       "20    21  Antonina Needham 1989-09-22      F   Single       Citizen       No   \n",
       "218  219     Simeon Gentry 1977-10-31     M   Married       Citizen       No   \n",
       "\n",
       "      JoinDate   LeftDate           Unit  Salary PerformanceScore  Survey  \\\n",
       "173 2012-01-09 2022-01-05  Manufacturing   58530             Meet    5.00   \n",
       "73  2013-08-19 2022-01-05  Manufacturing   49256             Meet    4.10   \n",
       "226 2013-01-07 2022-01-05  Manufacturing   62810             Meet    3.93   \n",
       "20  2015-02-16 2022-01-05          Sales   61555             Meet    4.50   \n",
       "218 2011-05-16 2016-06-08  Manufacturing   55722             Meet    5.00   \n",
       "\n",
       "     Satisfaction  Absence  \n",
       "173             5       19  \n",
       "73              5        3  \n",
       "226             3       20  \n",
       "20              5       20  \n",
       "218             4       14  "
      ]
     },
     "execution_count": 6,
     "metadata": {},
     "output_type": "execute_result"
    }
   ],
   "source": [
    "df.sample(5, random_state=999)"
   ]
  },
  {
   "cell_type": "markdown",
   "id": "4c5d6108",
   "metadata": {},
   "source": [
    "## 1b) Data Exploration and Visualisation\n",
    "\n",
    "The dataset is now considered to be cleaned and we are ready to start visualising and exploring the features."
   ]
  },
  {
   "cell_type": "code",
   "execution_count": 7,
   "id": "23989745",
   "metadata": {},
   "outputs": [
    {
     "data": {
      "image/png": "[encoded data removed]",
      "text/plain": [
       "<Figure size 1440x1080 with 1 Axes>"
      ]
     },
     "metadata": {
      "image/png": {
       "height": 879,
       "width": 1191
      }
     },
     "output_type": "display_data"
    }
   ],
   "source": [
    "plt.figure(figsize = (20,15))\n",
    "sns.boxplot(df['Gender'], df['Salary']);\n",
    "plt.title('Figure 1: Boxplot of Gender and Salary', fontsize = 15)\n",
    "plt.show();"
   ]
  },
  {
   "cell_type": "code",
   "execution_count": 8,
   "id": "e9927154",
   "metadata": {},
   "outputs": [
    {
     "data": {
      "image/png": "[encoded data removed]",
      "text/plain": [
       "<Figure size 1440x1080 with 1 Axes>"
      ]
     },
     "metadata": {
      "image/png": {
       "height": 879,
       "width": 1172
      }
     },
     "output_type": "display_data"
    }
   ],
   "source": [
    "plt.figure(figsize = (20,15))\n",
    "fig = sns.countplot(x = 'Citizenship', data = df, palette = 'magma', \n",
    "                    order = df['Citizenship'].value_counts().index)\n",
    "fig = plt.title('Figure 2: Citizenship', fontsize = 15)\n",
    "plt.show()"
   ]
  },
  {
   "cell_type": "markdown",
   "id": "b28fb719",
   "metadata": {},
   "source": [
    "## 1c) Finding the length of service"
   ]
  },
  {
   "cell_type": "code",
   "execution_count": 9,
   "id": "5d54c6ba",
   "metadata": {},
   "outputs": [
    {
     "data": {
      "text/html": [
       "<div>\n",
       "<style scoped>\n",
       "    .dataframe tbody tr th:only-of-type {\n",
       "        vertical-align: middle;\n",
       "    }\n",
       "\n",
       "    .dataframe tbody tr th {\n",
       "        vertical-align: top;\n",
       "    }\n",
       "\n",
       "    .dataframe thead th {\n",
       "        text-align: right;\n",
       "    }\n",
       "</style>\n",
       "<table border=\"1\" class=\"dataframe\">\n",
       "  <thead>\n",
       "    <tr style=\"text-align: right;\">\n",
       "      <th></th>\n",
       "      <th>ID</th>\n",
       "      <th>Staff</th>\n",
       "      <th>BirthYear</th>\n",
       "      <th>Gender</th>\n",
       "      <th>Marital</th>\n",
       "      <th>Citizenship</th>\n",
       "      <th>Minority</th>\n",
       "      <th>JoinDate</th>\n",
       "      <th>LeftDate</th>\n",
       "      <th>Unit</th>\n",
       "      <th>Salary</th>\n",
       "      <th>PerformanceScore</th>\n",
       "      <th>Survey</th>\n",
       "      <th>Satisfaction</th>\n",
       "      <th>Absence</th>\n",
       "    </tr>\n",
       "  </thead>\n",
       "  <tbody>\n",
       "    <tr>\n",
       "      <th>0</th>\n",
       "      <td>1</td>\n",
       "      <td>Aairah Hastings</td>\n",
       "      <td>1986-10-07</td>\n",
       "      <td>F</td>\n",
       "      <td>Single</td>\n",
       "      <td>Citizen</td>\n",
       "      <td>Yes</td>\n",
       "      <td>2012-04-02</td>\n",
       "      <td>2022-01-05</td>\n",
       "      <td>Manufacturing</td>\n",
       "      <td>46335</td>\n",
       "      <td>Meet</td>\n",
       "      <td>3.4</td>\n",
       "      <td>5</td>\n",
       "      <td>15</td>\n",
       "    </tr>\n",
       "    <tr>\n",
       "      <th>1</th>\n",
       "      <td>2</td>\n",
       "      <td>Aaminah Mcmillan</td>\n",
       "      <td>1986-05-25</td>\n",
       "      <td>F</td>\n",
       "      <td>Married</td>\n",
       "      <td>Citizen</td>\n",
       "      <td>No</td>\n",
       "      <td>2014-05-12</td>\n",
       "      <td>2022-01-05</td>\n",
       "      <td>Manufacturing</td>\n",
       "      <td>66825</td>\n",
       "      <td>Meet</td>\n",
       "      <td>4.6</td>\n",
       "      <td>3</td>\n",
       "      <td>20</td>\n",
       "    </tr>\n",
       "    <tr>\n",
       "      <th>2</th>\n",
       "      <td>3</td>\n",
       "      <td>Aamna Howell</td>\n",
       "      <td>1985-04-20</td>\n",
       "      <td>F</td>\n",
       "      <td>Single</td>\n",
       "      <td>Citizen</td>\n",
       "      <td>No</td>\n",
       "      <td>2014-04-29</td>\n",
       "      <td>2022-01-05</td>\n",
       "      <td>Manufacturing</td>\n",
       "      <td>60446</td>\n",
       "      <td>Meet</td>\n",
       "      <td>3.4</td>\n",
       "      <td>4</td>\n",
       "      <td>14</td>\n",
       "    </tr>\n",
       "    <tr>\n",
       "      <th>3</th>\n",
       "      <td>4</td>\n",
       "      <td>Aayan Ferrell</td>\n",
       "      <td>1984-06-10</td>\n",
       "      <td>M</td>\n",
       "      <td>Married</td>\n",
       "      <td>Citizen</td>\n",
       "      <td>No</td>\n",
       "      <td>2016-01-05</td>\n",
       "      <td>2022-01-05</td>\n",
       "      <td>Admin</td>\n",
       "      <td>93046</td>\n",
       "      <td>Meet</td>\n",
       "      <td>4.1</td>\n",
       "      <td>4</td>\n",
       "      <td>20</td>\n",
       "    </tr>\n",
       "    <tr>\n",
       "      <th>4</th>\n",
       "      <td>5</td>\n",
       "      <td>Ace Potter</td>\n",
       "      <td>1989-09-08</td>\n",
       "      <td>F</td>\n",
       "      <td>Divorced</td>\n",
       "      <td>Citizen</td>\n",
       "      <td>No</td>\n",
       "      <td>2011-07-11</td>\n",
       "      <td>2020-09-06</td>\n",
       "      <td>Manufacturing</td>\n",
       "      <td>50825</td>\n",
       "      <td>Meet</td>\n",
       "      <td>5.0</td>\n",
       "      <td>4</td>\n",
       "      <td>2</td>\n",
       "    </tr>\n",
       "  </tbody>\n",
       "</table>\n",
       "</div>"
      ],
      "text/plain": [
       "   ID             Staff  BirthYear Gender   Marital Citizenship Minority  \\\n",
       "0   1   Aairah Hastings 1986-10-07      F    Single     Citizen      Yes   \n",
       "1   2  Aaminah Mcmillan 1986-05-25      F   Married     Citizen       No   \n",
       "2   3      Aamna Howell 1985-04-20      F    Single     Citizen       No   \n",
       "3   4     Aayan Ferrell 1984-06-10     M    Married     Citizen       No   \n",
       "4   5        Ace Potter 1989-09-08      F  Divorced     Citizen       No   \n",
       "\n",
       "    JoinDate   LeftDate           Unit  Salary PerformanceScore  Survey  \\\n",
       "0 2012-04-02 2022-01-05  Manufacturing   46335             Meet     3.4   \n",
       "1 2014-05-12 2022-01-05  Manufacturing   66825             Meet     4.6   \n",
       "2 2014-04-29 2022-01-05  Manufacturing   60446             Meet     3.4   \n",
       "3 2016-01-05 2022-01-05         Admin    93046             Meet     4.1   \n",
       "4 2011-07-11 2020-09-06  Manufacturing   50825             Meet     5.0   \n",
       "\n",
       "   Satisfaction  Absence  \n",
       "0             5       15  \n",
       "1             3       20  \n",
       "2             4       14  \n",
       "3             4       20  \n",
       "4             4        2  "
      ]
     },
     "execution_count": 9,
     "metadata": {},
     "output_type": "execute_result"
    }
   ],
   "source": [
    "df.head()"
   ]
  },
  {
   "cell_type": "code",
   "execution_count": 10,
   "id": "a7c6d921",
   "metadata": {},
   "outputs": [],
   "source": [
    "df['ServiceDays'] = (df['LeftDate'] - df['JoinDate'])"
   ]
  },
  {
   "cell_type": "code",
   "execution_count": 11,
   "id": "79fe6cb1",
   "metadata": {},
   "outputs": [],
   "source": [
    "df['ServiceYears'] = round(df['ServiceDays'] / np.timedelta64(1, 'Y'),1)"
   ]
  },
  {
   "cell_type": "code",
   "execution_count": 12,
   "id": "17aa6b23",
   "metadata": {},
   "outputs": [
    {
     "data": {
      "text/html": [
       "<div>\n",
       "<style scoped>\n",
       "    .dataframe tbody tr th:only-of-type {\n",
       "        vertical-align: middle;\n",
       "    }\n",
       "\n",
       "    .dataframe tbody tr th {\n",
       "        vertical-align: top;\n",
       "    }\n",
       "\n",
       "    .dataframe thead th {\n",
       "        text-align: right;\n",
       "    }\n",
       "</style>\n",
       "<table border=\"1\" class=\"dataframe\">\n",
       "  <thead>\n",
       "    <tr style=\"text-align: right;\">\n",
       "      <th></th>\n",
       "      <th>ID</th>\n",
       "      <th>Staff</th>\n",
       "      <th>BirthYear</th>\n",
       "      <th>Gender</th>\n",
       "      <th>Marital</th>\n",
       "      <th>Citizenship</th>\n",
       "      <th>Minority</th>\n",
       "      <th>JoinDate</th>\n",
       "      <th>LeftDate</th>\n",
       "      <th>Unit</th>\n",
       "      <th>Salary</th>\n",
       "      <th>PerformanceScore</th>\n",
       "      <th>Survey</th>\n",
       "      <th>Satisfaction</th>\n",
       "      <th>Absence</th>\n",
       "      <th>ServiceDays</th>\n",
       "      <th>ServiceYears</th>\n",
       "    </tr>\n",
       "  </thead>\n",
       "  <tbody>\n",
       "    <tr>\n",
       "      <th>0</th>\n",
       "      <td>1</td>\n",
       "      <td>Aairah Hastings</td>\n",
       "      <td>1986-10-07</td>\n",
       "      <td>F</td>\n",
       "      <td>Single</td>\n",
       "      <td>Citizen</td>\n",
       "      <td>Yes</td>\n",
       "      <td>2012-04-02</td>\n",
       "      <td>2022-01-05</td>\n",
       "      <td>Manufacturing</td>\n",
       "      <td>46335</td>\n",
       "      <td>Meet</td>\n",
       "      <td>3.4</td>\n",
       "      <td>5</td>\n",
       "      <td>15</td>\n",
       "      <td>3565 days</td>\n",
       "      <td>9.8</td>\n",
       "    </tr>\n",
       "    <tr>\n",
       "      <th>1</th>\n",
       "      <td>2</td>\n",
       "      <td>Aaminah Mcmillan</td>\n",
       "      <td>1986-05-25</td>\n",
       "      <td>F</td>\n",
       "      <td>Married</td>\n",
       "      <td>Citizen</td>\n",
       "      <td>No</td>\n",
       "      <td>2014-05-12</td>\n",
       "      <td>2022-01-05</td>\n",
       "      <td>Manufacturing</td>\n",
       "      <td>66825</td>\n",
       "      <td>Meet</td>\n",
       "      <td>4.6</td>\n",
       "      <td>3</td>\n",
       "      <td>20</td>\n",
       "      <td>2795 days</td>\n",
       "      <td>7.7</td>\n",
       "    </tr>\n",
       "    <tr>\n",
       "      <th>2</th>\n",
       "      <td>3</td>\n",
       "      <td>Aamna Howell</td>\n",
       "      <td>1985-04-20</td>\n",
       "      <td>F</td>\n",
       "      <td>Single</td>\n",
       "      <td>Citizen</td>\n",
       "      <td>No</td>\n",
       "      <td>2014-04-29</td>\n",
       "      <td>2022-01-05</td>\n",
       "      <td>Manufacturing</td>\n",
       "      <td>60446</td>\n",
       "      <td>Meet</td>\n",
       "      <td>3.4</td>\n",
       "      <td>4</td>\n",
       "      <td>14</td>\n",
       "      <td>2808 days</td>\n",
       "      <td>7.7</td>\n",
       "    </tr>\n",
       "    <tr>\n",
       "      <th>3</th>\n",
       "      <td>4</td>\n",
       "      <td>Aayan Ferrell</td>\n",
       "      <td>1984-06-10</td>\n",
       "      <td>M</td>\n",
       "      <td>Married</td>\n",
       "      <td>Citizen</td>\n",
       "      <td>No</td>\n",
       "      <td>2016-01-05</td>\n",
       "      <td>2022-01-05</td>\n",
       "      <td>Admin</td>\n",
       "      <td>93046</td>\n",
       "      <td>Meet</td>\n",
       "      <td>4.1</td>\n",
       "      <td>4</td>\n",
       "      <td>20</td>\n",
       "      <td>2192 days</td>\n",
       "      <td>6.0</td>\n",
       "    </tr>\n",
       "    <tr>\n",
       "      <th>4</th>\n",
       "      <td>5</td>\n",
       "      <td>Ace Potter</td>\n",
       "      <td>1989-09-08</td>\n",
       "      <td>F</td>\n",
       "      <td>Divorced</td>\n",
       "      <td>Citizen</td>\n",
       "      <td>No</td>\n",
       "      <td>2011-07-11</td>\n",
       "      <td>2020-09-06</td>\n",
       "      <td>Manufacturing</td>\n",
       "      <td>50825</td>\n",
       "      <td>Meet</td>\n",
       "      <td>5.0</td>\n",
       "      <td>4</td>\n",
       "      <td>2</td>\n",
       "      <td>3345 days</td>\n",
       "      <td>9.2</td>\n",
       "    </tr>\n",
       "  </tbody>\n",
       "</table>\n",
       "</div>"
      ],
      "text/plain": [
       "   ID             Staff  BirthYear Gender   Marital Citizenship Minority  \\\n",
       "0   1   Aairah Hastings 1986-10-07      F    Single     Citizen      Yes   \n",
       "1   2  Aaminah Mcmillan 1986-05-25      F   Married     Citizen       No   \n",
       "2   3      Aamna Howell 1985-04-20      F    Single     Citizen       No   \n",
       "3   4     Aayan Ferrell 1984-06-10     M    Married     Citizen       No   \n",
       "4   5        Ace Potter 1989-09-08      F  Divorced     Citizen       No   \n",
       "\n",
       "    JoinDate   LeftDate           Unit  Salary PerformanceScore  Survey  \\\n",
       "0 2012-04-02 2022-01-05  Manufacturing   46335             Meet     3.4   \n",
       "1 2014-05-12 2022-01-05  Manufacturing   66825             Meet     4.6   \n",
       "2 2014-04-29 2022-01-05  Manufacturing   60446             Meet     3.4   \n",
       "3 2016-01-05 2022-01-05         Admin    93046             Meet     4.1   \n",
       "4 2011-07-11 2020-09-06  Manufacturing   50825             Meet     5.0   \n",
       "\n",
       "   Satisfaction  Absence ServiceDays  ServiceYears  \n",
       "0             5       15   3565 days           9.8  \n",
       "1             3       20   2795 days           7.7  \n",
       "2             4       14   2808 days           7.7  \n",
       "3             4       20   2192 days           6.0  \n",
       "4             4        2   3345 days           9.2  "
      ]
     },
     "execution_count": 12,
     "metadata": {},
     "output_type": "execute_result"
    }
   ],
   "source": [
    "df.head()"
   ]
  },
  {
   "cell_type": "markdown",
   "id": "d66fc639",
   "metadata": {},
   "source": [
    "#### Maximum number of years in service"
   ]
  },
  {
   "cell_type": "code",
   "execution_count": 13,
   "id": "a1508524",
   "metadata": {},
   "outputs": [
    {
     "data": {
      "text/plain": [
       "16.0"
      ]
     },
     "execution_count": 13,
     "metadata": {},
     "output_type": "execute_result"
    }
   ],
   "source": [
    "df['ServiceYears'].max()"
   ]
  },
  {
   "cell_type": "markdown",
   "id": "a96be252",
   "metadata": {},
   "source": [
    "#### Minimum number of years in service"
   ]
  },
  {
   "cell_type": "code",
   "execution_count": 14,
   "id": "7a94f4de",
   "metadata": {},
   "outputs": [
    {
     "data": {
      "text/plain": [
       "0.1"
      ]
     },
     "execution_count": 14,
     "metadata": {},
     "output_type": "execute_result"
    }
   ],
   "source": [
    "df['ServiceYears'].min()"
   ]
  },
  {
   "cell_type": "markdown",
   "id": "ac698c2e",
   "metadata": {},
   "source": [
    "#### Average number of years in service"
   ]
  },
  {
   "cell_type": "code",
   "execution_count": 15,
   "id": "922fd035",
   "metadata": {},
   "outputs": [
    {
     "data": {
      "text/plain": [
       "6.6"
      ]
     },
     "execution_count": 15,
     "metadata": {},
     "output_type": "execute_result"
    }
   ],
   "source": [
    "round(df['ServiceYears'].mean(),1)"
   ]
  },
  {
   "cell_type": "markdown",
   "id": "4bf87d44",
   "metadata": {},
   "source": [
    "## 1d)interactive user input which allows the user to query if a particular person was/is a staff of the organization"
   ]
  },
  {
   "cell_type": "code",
   "execution_count": null,
   "id": "7cd0f1bb",
   "metadata": {},
   "outputs": [
    {
     "name": "stdout",
     "output_type": "stream",
     "text": [
      "Enter name or \"exit\" to quit.\n"
     ]
    }
   ],
   "source": [
    "def check(name):\n",
    "    if name == 'exit':\n",
    "        return\n",
    "    elif name in df['Staff'].unique():\n",
    "        print('He/she is a staff.\\n\\nEnter name or \"exit\" to quit.')\n",
    "        check(input())\n",
    "    else:\n",
    "        print('He/she is not a staff.\\n\\nEnter name or \"exit\" to quit.')\n",
    "        check(input())\n",
    "\n",
    "print('Enter name or \"exit\" to quit.')\n",
    "name = input()\n",
    "check(name)"
   ]
  },
  {
   "cell_type": "code",
   "execution_count": null,
   "id": "79e66d01",
   "metadata": {},
   "outputs": [],
   "source": []
  }
 ],
 "metadata": {
  "kernelspec": {
   "display_name": "Python 3 (ipykernel)",
   "language": "python",
   "name": "python3"
  },
  "language_info": {
   "codemirror_mode": {
    "name": "ipython",
    "version": 3
   },
   "file_extension": ".py",
   "mimetype": "text/x-python",
   "name": "python",
   "nbconvert_exporter": "python",
   "pygments_lexer": "ipython3",
   "version": "3.9.12"
  }
 },
 "nbformat": 4,
 "nbformat_minor": 5
}
