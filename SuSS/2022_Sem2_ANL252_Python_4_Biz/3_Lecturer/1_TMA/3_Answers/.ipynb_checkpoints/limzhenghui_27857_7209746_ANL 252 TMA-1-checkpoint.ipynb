{
 "cells": [
  {
   "cell_type": "code",
   "execution_count": 1,
   "id": "3df4bc94",
   "metadata": {},
   "outputs": [
    {
     "data": {
      "text/html": [
       "<div>\n",
       "<style scoped>\n",
       "    .dataframe tbody tr th:only-of-type {\n",
       "        vertical-align: middle;\n",
       "    }\n",
       "\n",
       "    .dataframe tbody tr th {\n",
       "        vertical-align: top;\n",
       "    }\n",
       "\n",
       "    .dataframe thead th {\n",
       "        text-align: right;\n",
       "    }\n",
       "</style>\n",
       "<table border=\"1\" class=\"dataframe\">\n",
       "  <thead>\n",
       "    <tr style=\"text-align: right;\">\n",
       "      <th></th>\n",
       "      <th>ID</th>\n",
       "      <th>Staff</th>\n",
       "      <th>BirthYear</th>\n",
       "      <th>Gender</th>\n",
       "      <th>Marital</th>\n",
       "      <th>Citizenship</th>\n",
       "      <th>Minority</th>\n",
       "      <th>JoinDate</th>\n",
       "      <th>LeftDate</th>\n",
       "      <th>Unit</th>\n",
       "      <th>Salary</th>\n",
       "      <th>PerformanceScore</th>\n",
       "      <th>Survey</th>\n",
       "      <th>Satisfaction</th>\n",
       "      <th>Absence</th>\n",
       "    </tr>\n",
       "  </thead>\n",
       "  <tbody>\n",
       "    <tr>\n",
       "      <th>0</th>\n",
       "      <td>1</td>\n",
       "      <td>Aairah Hastings</td>\n",
       "      <td>10/7/1986</td>\n",
       "      <td>F</td>\n",
       "      <td>Single</td>\n",
       "      <td>Citizen</td>\n",
       "      <td>Yes</td>\n",
       "      <td>4/2/2012</td>\n",
       "      <td>NaN</td>\n",
       "      <td>Manufacturing</td>\n",
       "      <td>46335</td>\n",
       "      <td>Meet</td>\n",
       "      <td>3.4</td>\n",
       "      <td>5</td>\n",
       "      <td>15</td>\n",
       "    </tr>\n",
       "    <tr>\n",
       "      <th>1</th>\n",
       "      <td>2</td>\n",
       "      <td>Aaminah Mcmillan</td>\n",
       "      <td>05/25/86</td>\n",
       "      <td>F</td>\n",
       "      <td>Married</td>\n",
       "      <td>Citizen</td>\n",
       "      <td>No</td>\n",
       "      <td>5/12/2014</td>\n",
       "      <td>NaN</td>\n",
       "      <td>Manufacturing</td>\n",
       "      <td>66825</td>\n",
       "      <td>Meet</td>\n",
       "      <td>4.6</td>\n",
       "      <td>3</td>\n",
       "      <td>20</td>\n",
       "    </tr>\n",
       "    <tr>\n",
       "      <th>2</th>\n",
       "      <td>3</td>\n",
       "      <td>Aamna Howell</td>\n",
       "      <td>04/20/85</td>\n",
       "      <td>F</td>\n",
       "      <td>Single</td>\n",
       "      <td>Citizen</td>\n",
       "      <td>No</td>\n",
       "      <td>9/29/2014</td>\n",
       "      <td>NaN</td>\n",
       "      <td>Manufacturing</td>\n",
       "      <td>60446</td>\n",
       "      <td>Meet</td>\n",
       "      <td>3.4</td>\n",
       "      <td>4</td>\n",
       "      <td>14</td>\n",
       "    </tr>\n",
       "    <tr>\n",
       "      <th>3</th>\n",
       "      <td>4</td>\n",
       "      <td>Aayan Ferrell</td>\n",
       "      <td>6/10/1984</td>\n",
       "      <td>M</td>\n",
       "      <td>Married</td>\n",
       "      <td>Citizen</td>\n",
       "      <td>No</td>\n",
       "      <td>1/5/2016</td>\n",
       "      <td>NaN</td>\n",
       "      <td>Admin</td>\n",
       "      <td>93046</td>\n",
       "      <td>Meet</td>\n",
       "      <td>4.1</td>\n",
       "      <td>4</td>\n",
       "      <td>20</td>\n",
       "    </tr>\n",
       "    <tr>\n",
       "      <th>4</th>\n",
       "      <td>5</td>\n",
       "      <td>Ace Potter</td>\n",
       "      <td>9/8/1989</td>\n",
       "      <td>F</td>\n",
       "      <td>Divorced</td>\n",
       "      <td>Citizen</td>\n",
       "      <td>No</td>\n",
       "      <td>7/11/2011</td>\n",
       "      <td>9/6/2020</td>\n",
       "      <td>Manufacturing</td>\n",
       "      <td>50825</td>\n",
       "      <td>Meet</td>\n",
       "      <td>5.0</td>\n",
       "      <td>4</td>\n",
       "      <td>2</td>\n",
       "    </tr>\n",
       "  </tbody>\n",
       "</table>\n",
       "</div>"
      ],
      "text/plain": [
       "   ID             Staff  BirthYear Gender   Marital Citizenship Minority  \\\n",
       "0   1   Aairah Hastings  10/7/1986      F    Single     Citizen      Yes   \n",
       "1   2  Aaminah Mcmillan   05/25/86      F   Married     Citizen       No   \n",
       "2   3      Aamna Howell   04/20/85      F    Single     Citizen       No   \n",
       "3   4     Aayan Ferrell  6/10/1984     M    Married     Citizen       No   \n",
       "4   5        Ace Potter   9/8/1989      F  Divorced     Citizen       No   \n",
       "\n",
       "    JoinDate  LeftDate           Unit  Salary PerformanceScore  Survey  \\\n",
       "0   4/2/2012       NaN  Manufacturing   46335             Meet     3.4   \n",
       "1  5/12/2014       NaN  Manufacturing   66825             Meet     4.6   \n",
       "2  9/29/2014       NaN  Manufacturing   60446             Meet     3.4   \n",
       "3   1/5/2016       NaN         Admin    93046             Meet     4.1   \n",
       "4  7/11/2011  9/6/2020  Manufacturing   50825             Meet     5.0   \n",
       "\n",
       "   Satisfaction  Absence  \n",
       "0             5       15  \n",
       "1             3       20  \n",
       "2             4       14  \n",
       "3             4       20  \n",
       "4             4        2  "
      ]
     },
     "execution_count": 1,
     "metadata": {},
     "output_type": "execute_result"
    }
   ],
   "source": [
    "#for part (b) of TMA\n",
    "#importing required libraries\n",
    "import pandas as pd\n",
    "import seaborn \n",
    "#read data from csv into dataframe\n",
    "dataframe = pd.read_csv(\"TMA_Data.csv\")\n",
    "dataframe.head()"
   ]
  },
  {
   "cell_type": "code",
   "execution_count": 2,
   "id": "928c1396",
   "metadata": {},
   "outputs": [
    {
     "data": {
      "text/plain": [
       "[Text(0.5, 1.0, \"Working Unit's Count with respect to field\")]"
      ]
     },
     "execution_count": 2,
     "metadata": {},
     "output_type": "execute_result"
    },
    {
     "data": {
      "image/png": "[encoded data removed]",
      "text/plain": [
       "<Figure size 432x288 with 1 Axes>"
      ]
     },
     "metadata": {
      "needs_background": "light"
     },
     "output_type": "display_data"
    }
   ],
   "source": [
    "seaborn.countplot(x=dataframe['Unit']).set(title=\"Working Unit's Count with respect to field\")"
   ]
  },
  {
   "cell_type": "code",
   "execution_count": 3,
   "id": "2f432b62",
   "metadata": {},
   "outputs": [
    {
     "data": {
      "text/plain": [
       "[Text(0.5, 1.0, 'PerformanceScore Counts'),\n",
       " Text(0.5, 0, 'Performance score'),\n",
       " Text(0, 0.5, 'count')]"
      ]
     },
     "execution_count": 3,
     "metadata": {},
     "output_type": "execute_result"
    },
    {
     "data": {
      "image/png": "[encoded data removed]",
      "text/plain": [
       "<Figure size 432x288 with 1 Axes>"
      ]
     },
     "metadata": {
      "needs_background": "light"
     },
     "output_type": "display_data"
    }
   ],
   "source": [
    "x= ['Meet' , 'Exceed' , 'To Improve' , 'PIP']\n",
    "y = [(dataframe['PerformanceScore']=='Meet').sum() , (dataframe['PerformanceScore']=='Exceed').sum() ,\n",
    "     (dataframe['PerformanceScore']=='To Improve').sum() , (dataframe['PerformanceScore']=='PIP').sum() ]\n",
    "seaborn.lineplot(x=x, y = y).set(title=\"PerformanceScore Counts\" , xlabel = 'Performance score' , ylabel = 'count')"
   ]
  },
  {
   "cell_type": "code",
   "execution_count": null,
   "id": "41739f9a",
   "metadata": {},
   "outputs": [],
   "source": [
    "#for part (c) of TMA\n",
    "#importing required libraries\n",
    "from numpy import int64\n",
    "import pandas as pd\n",
    "from dateutil import parser\n",
    "#reading dataset into a pandas dataframe\n",
    "dataframe = pd.read_csv('TMA_Data.csv')\n",
    "#displaying dataframe head \n",
    "dataframe.head()"
   ]
  },
  {
   "cell_type": "code",
   "execution_count": null,
   "id": "a877ef26",
   "metadata": {},
   "outputs": [],
   "source": [
    "#filling all the NAN values with 5/1/2022\n",
    "dataframe['LeftDate'].fillna('5/1/2022', inplace=True)\n",
    "#dataframe after removing nan values from LeftDate\n",
    "dataframe.head()"
   ]
  },
  {
   "cell_type": "code",
   "execution_count": null,
   "id": "df2fb04c",
   "metadata": {},
   "outputs": [],
   "source": [
    "#Converting Join Date and LeftDate into timestamps object and then calculating service year\n",
    "dataframe['JoinDate'] = dataframe['JoinDate'].apply(parser.parse)\n",
    "dataframe['LeftDate'] = dataframe['LeftDate'].apply(parser.parse)\n",
    "dataframe['ServiceYear'] = dataframe['LeftDate'] - dataframe['JoinDate']\n",
    "dataframe['ServiceYear'] = dataframe['ServiceYear'].astype(str).str.split().str[0].astype(int64)\n",
    "dataframe['ServiceYear'] = dataframe['ServiceYear'] / 365\n",
    "#showing Maximum service year rounded to 1 decimal\n",
    "print(f'Maximum Length of Service is {dataframe[\"ServiceYear\"].max():.1f} Years')"
   ]
  },
  {
   "cell_type": "code",
   "execution_count": null,
   "id": "21c3e1e5",
   "metadata": {},
   "outputs": [],
   "source": [
    "#showing Minimum service year rounded to 1 decimal\n",
    "print(f'Minimum Length of Service is {dataframe[\"ServiceYear\"].min():.1f} Years')"
   ]
  },
  {
   "cell_type": "code",
   "execution_count": null,
   "id": "32c124dc",
   "metadata": {},
   "outputs": [],
   "source": [
    "#showing Average service year rounded to 1 decimal\n",
    "print(f'Average Length of Service is {dataframe[\"ServiceYear\"].mean():.1f} Years')"
   ]
  },
  {
   "cell_type": "code",
   "execution_count": null,
   "id": "1870fe5f",
   "metadata": {},
   "outputs": [],
   "source": [
    "#for part (d) of TMA\n",
    "#importing required library for reading data\n",
    "import pandas as pd\n",
    "#reading data into pandas dataframe\n",
    "dataframe = pd.read_csv('TMA_Data.csv')\n",
    "#converting all staff names into lower case for easy searching\n",
    "dataframe['Staff'] = dataframe['Staff'].str.lower()\n",
    "#Required Variables\n",
    "default = 'f'\n",
    "print('\\t\\t **************** ')\n",
    "welcome = '\\t Welcome to Staff Search Engine!'\n",
    "menu = '''\\t\\n Press F To Find a Staff Member\\n Press Q To Quit the program'''\n",
    "\n",
    "#Show welcome message\n",
    "print(welcome)\n",
    "\n",
    "print('\\t\\t **************** ')\n",
    "\n",
    "#while quit key is not pressed\n",
    "count = 0 \n",
    "while default != 'q':\n",
    "\n",
    " \n",
    "    if count!= 0:\n",
    "      print('\\t\\t **************** ')\n",
    "      print('To Search Again ')\n",
    "    #Show Menu & take input\n",
    "    print(menu)\n",
    "    count = count +1\n",
    "    default = input('Input your option ')\n",
    "\n",
    "    #if find key is pressed\n",
    "    if default.lower() == 'f':\n",
    "        \n",
    "        # take staff member's name to match with the database\n",
    "        staff_name = input(\"\\nInput Staff Member's Full Name: \")\n",
    "        \n",
    "        # display result\n",
    "        if staff_name.lower() in dataframe['Staff'].values:\n",
    "            print('\\nStaff Member Found!')\n",
    "        else:\n",
    "            print('\\nStaff Member Not Found!')\n",
    "\n",
    "    #if any other letter is pressed\n",
    "    elif default.lower() != 'q':\n",
    "        print('\\nInvalid Options  \\n please try again with valid input!')\n",
    "\n",
    "    #if quit key is pressed\n",
    "    else:\n",
    "        print('\\nProgram exited successfully.')"
   ]
  },
  {
   "cell_type": "code",
   "execution_count": null,
   "id": "a46112aa",
   "metadata": {},
   "outputs": [],
   "source": []
  }
 ],
 "metadata": {
  "kernelspec": {
   "display_name": "Python 3 (ipykernel)",
   "language": "python",
   "name": "python3"
  },
  "language_info": {
   "codemirror_mode": {
    "name": "ipython",
    "version": 3
   },
   "file_extension": ".py",
   "mimetype": "text/x-python",
   "name": "python",
   "nbconvert_exporter": "python",
   "pygments_lexer": "ipython3",
   "version": "3.9.12"
  }
 },
 "nbformat": 4,
 "nbformat_minor": 5
}
