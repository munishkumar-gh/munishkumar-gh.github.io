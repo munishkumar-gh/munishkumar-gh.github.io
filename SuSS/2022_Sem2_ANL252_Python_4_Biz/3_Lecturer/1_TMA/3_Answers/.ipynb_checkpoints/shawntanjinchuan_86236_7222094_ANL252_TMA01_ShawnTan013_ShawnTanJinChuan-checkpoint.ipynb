{
 "cells": [
  {
   "cell_type": "markdown",
   "id": "fd9282b2",
   "metadata": {},
   "source": [
    "### ANL252 Python for Data Analytics - TMA"
   ]
  },
  {
   "cell_type": "code",
   "execution_count": 1,
   "id": "b3b6480b",
   "metadata": {},
   "outputs": [],
   "source": [
    "#import libraries\n",
    "import pandas as pd\n",
    "import numpy as np\n",
    "import matplotlib.pyplot as plt"
   ]
  },
  {
   "cell_type": "markdown",
   "id": "f9129452",
   "metadata": {},
   "source": [
    "### (b)"
   ]
  },
  {
   "cell_type": "markdown",
   "id": "db5e4384",
   "metadata": {},
   "source": [
    "#### Read the data and create the same two (2) charts and their corresponding summarised tables produced in Part (a), using Python. "
   ]
  },
  {
   "cell_type": "code",
   "execution_count": 2,
   "id": "495fa19a",
   "metadata": {},
   "outputs": [],
   "source": [
    "#read data\n",
    "tmadf = pd.read_csv('TMA_Data.csv')"
   ]
  },
  {
   "cell_type": "code",
   "execution_count": 3,
   "id": "f61fbfe5",
   "metadata": {},
   "outputs": [
    {
     "name": "stdout",
     "output_type": "stream",
     "text": [
      "Index(['ID', 'Staff', 'BirthYear', 'Gender', 'Marital', 'Citizenship',\n",
      "       'Minority', 'JoinDate', 'LeftDate', 'Unit', 'Salary',\n",
      "       'PerformanceScore', 'Survey', 'Satisfaction', 'Absence'],\n",
      "      dtype='object')\n"
     ]
    },
    {
     "data": {
      "text/plain": [
       "ID                    int64\n",
       "Staff                object\n",
       "BirthYear            object\n",
       "Gender               object\n",
       "Marital              object\n",
       "Citizenship          object\n",
       "Minority             object\n",
       "JoinDate             object\n",
       "LeftDate             object\n",
       "Unit                 object\n",
       "Salary                int64\n",
       "PerformanceScore     object\n",
       "Survey              float64\n",
       "Satisfaction          int64\n",
       "Absence               int64\n",
       "dtype: object"
      ]
     },
     "execution_count": 3,
     "metadata": {},
     "output_type": "execute_result"
    }
   ],
   "source": [
    "#print columns & datatypes\n",
    "print(tmadf.columns)\n",
    "tmadf.dtypes"
   ]
  },
  {
   "cell_type": "markdown",
   "id": "28e8e038",
   "metadata": {},
   "source": [
    "### Bar Chart"
   ]
  },
  {
   "cell_type": "code",
   "execution_count": 4,
   "id": "fa682ca2",
   "metadata": {},
   "outputs": [],
   "source": [
    "#replace and group scores to status\n",
    "tmadf['Satisfaction'] = tmadf['Satisfaction'].apply(str)\n",
    "tmadf['Satisfaction'].replace(\"1\", \"Not Satis\", inplace = True)\n",
    "tmadf['Satisfaction'].replace(\"2\", \"Not Satis\", inplace = True)\n",
    "tmadf['Satisfaction'].replace(\"3\", \"Neutral\", inplace = True)\n",
    "tmadf['Satisfaction'].replace(\"4\", \"Satis\", inplace = True)\n",
    "tmadf['Satisfaction'].replace(\"5\", \"Satis\", inplace = True)"
   ]
  },
  {
   "cell_type": "code",
   "execution_count": 5,
   "id": "dbf9dd3c",
   "metadata": {},
   "outputs": [
    {
     "name": "stdout",
     "output_type": "stream",
     "text": [
      "[0 1 2]\n"
     ]
    }
   ],
   "source": [
    "#create x axis\n",
    "satis = ['Satis', 'Neutral', 'Not Satis']\n",
    "x_axis = np.arange(len(satis))\n",
    "print(x_axis)"
   ]
  },
  {
   "cell_type": "code",
   "execution_count": 6,
   "id": "201ca287",
   "metadata": {},
   "outputs": [],
   "source": [
    "#assign status \n",
    "y_satis = tmadf['Satisfaction'] == 'Satis'\n",
    "y_neutral = tmadf['Satisfaction'] == 'Neutral'\n",
    "y_notsatis = tmadf['Satisfaction'] == 'Not Satis'"
   ]
  },
  {
   "cell_type": "code",
   "execution_count": 7,
   "id": "c581ff54",
   "metadata": {},
   "outputs": [
    {
     "data": {
      "text/plain": [
       "[161, 84, 5]"
      ]
     },
     "execution_count": 7,
     "metadata": {},
     "output_type": "execute_result"
    }
   ],
   "source": [
    "#create y axis\n",
    "y_axis = [y_satis.sum(),y_neutral.sum(),y_notsatis.sum()]\n",
    "y_axis"
   ]
  },
  {
   "cell_type": "code",
   "execution_count": 8,
   "id": "0cf2483a",
   "metadata": {},
   "outputs": [
    {
     "data": {
      "image/png": "[encoded data removed]",
      "text/plain": [
       "<Figure size 432x288 with 1 Axes>"
      ]
     },
     "metadata": {
      "needs_background": "light"
     },
     "output_type": "display_data"
    }
   ],
   "source": [
    "#plot bar chart\n",
    "plt.bar(x_axis,y_axis,color=\"tan\", edgecolor=\"black\")\n",
    "plt.title(\"Bar Chart of Employees' Satisfaction \\n\", fontsize = 20)\n",
    "plt.xticks(x_axis,satis)\n",
    "plt.ylabel(\"No. of Employees\", fontsize = 14)\n",
    "for x,y in zip(x_axis,y_axis):\n",
    "    label = y\n",
    "    plt.annotate(label, #text\n",
    "                 (x,y), #coordinates to position the label\n",
    "                 textcoords=\"offset points\", #position text\n",
    "                 xytext=(0,10), #distance from text to points (x,y)\n",
    "                 ha='center',bbox = dict(facecolor = 'beige'))\n",
    "plt.show()"
   ]
  },
  {
   "cell_type": "markdown",
   "id": "379cee09",
   "metadata": {},
   "source": [
    "### Histogram"
   ]
  },
  {
   "cell_type": "code",
   "execution_count": 9,
   "id": "cde19cc5",
   "metadata": {},
   "outputs": [
    {
     "name": "stdout",
     "output_type": "stream",
     "text": [
      "[46335, 66825, 60446, 93046, 50825, 58062, 48413, 66808, 66593, 66738, 46998, 46799, 106367, 47837, 52984, 59026, 74312, 50178, 47414, 68099, 61555, 47961, 54670, 61809, 51044, 62061, 70131, 72992, 53060, 74241, 64995, 63003, 60380, 58275, 61844, 71707, 65729, 57575, 75281, 62514, 89292, 58370, 95920, 64971, 53018, 59238, 46664, 48285, 93093, 71339, 63025, 74226, 46837, 68999, 68051, 62957, 64816, 114800, 77692, 59892, 55425, 108987, 70545, 51777, 61242, 60270, 99351, 48888, 52249, 52057, 65714, 105688, 57859, 49256, 61962, 70621, 45069, 64066, 64955, 63025, 60724, 148999, 57815, 113999, 59124, 64786, 93554, 57583, 63430, 157000, 67251, 87826, 59369, 62385, 51505, 62910, 54005, 57748, 63763, 63322, 95660, 66541, 92328, 140920, 63813, 70468, 50470, 150290, 60627, 61242, 53250, 65902, 178000, 81584, 250000, 64991, 59365, 51259, 72106, 54285, 110000, 66149, 57568, 65288, 107226, 180000, 47434, 83552, 55875, 74679, 50482, 63353, 77915, 74417, 96820, 54933, 71860, 83667, 65893, 45115, 51920, 85028, 46430, 61422, 55578, 53171, 50923, 53180, 92989, 72609, 76029, 55800, 56147, 80512, 70507, 57834, 59472, 82758, 62506, 47211, 64724, 63291, 59728, 46738, 53492, 61349, 74326, 110929, 60340, 57815, 56339, 45433, 63676, 58530, 64919, 60120, 71966, 46428, 64246, 62162, 59144, 68182, 61729, 52788, 45395, 99020, 63000, 66074, 92329, 47001, 93396, 63878, 68407, 52846, 57954, 53564, 61154, 83363, 55965, 57975, 60070, 75188, 63381, 99280, 56847, 58371, 61656, 73330, 69340, 55688, 62068, 74669, 50750, 65707, 100416, 72640, 64520, 61584, 55722, 63108, 63478, 101199, 74813, 67176, 84903, 51908, 62810, 45998, 68678, 62659, 100031, 50428, 72202, 47750, 97999, 54828, 93206, 63682, 64397, 83082, 49773, 88527, 56294, 45046, 50373, 89883, 90100, 138888, 50274, 55315]\n"
     ]
    }
   ],
   "source": [
    "#check salary data\n",
    "salary_data = list(tmadf['Salary'])\n",
    "print(salary_data)"
   ]
  },
  {
   "cell_type": "code",
   "execution_count": 10,
   "id": "386d3b43",
   "metadata": {},
   "outputs": [
    {
     "name": "stdout",
     "output_type": "stream",
     "text": [
      "Lowest Annual Salary:  45046\n",
      "Highest Annual Salary:  250000\n",
      "Average Annual Salary:  69118.496\n"
     ]
    }
   ],
   "source": [
    "#print min, max, mean salary\n",
    "print('Lowest Annual Salary: ', tmadf['Salary'].min())\n",
    "print('Highest Annual Salary: ', tmadf['Salary'].max())\n",
    "print('Average Annual Salary: ', tmadf['Salary'].mean())"
   ]
  },
  {
   "cell_type": "code",
   "execution_count": 11,
   "id": "3e21d0c3",
   "metadata": {},
   "outputs": [
    {
     "name": "stdout",
     "output_type": "stream",
     "text": [
      "0       40000\n",
      "1       60000\n",
      "2       60000\n",
      "3       90000\n",
      "4       50000\n",
      "        ...  \n",
      "245     80000\n",
      "246     90000\n",
      "247    130000\n",
      "248     50000\n",
      "249     50000\n",
      "Name: Salary, Length: 250, dtype: category\n",
      "Categories (28, int64): [0 < 10000 < 20000 < 30000 ... 240000 < 250000 < 260000 < 270000]\n"
     ]
    }
   ],
   "source": [
    "#create bin\n",
    "salary_bin = pd.cut(tmadf['Salary'], bins=np.linspace(0, 280000, 29),labels=[0,10000,20000,30000,40000,50000,60000,70000,80000,90000,100000,110000,120000,130000,140000,150000,160000,170000,180000,190000,200000,210000,220000,230000,240000,250000,260000,270000])\n",
    "print(salary_bin)"
   ]
  },
  {
   "cell_type": "code",
   "execution_count": 12,
   "id": "c31e8071",
   "metadata": {},
   "outputs": [
    {
     "name": "stdout",
     "output_type": "stream",
     "text": [
      "      Bins  Frequency\n",
      "0    40000         26\n",
      "1    60000         80\n",
      "2    90000         16\n",
      "3    50000         68\n",
      "4   100000          8\n",
      "5    70000         28\n",
      "6    80000         13\n",
      "7   110000          3\n",
      "8   140000          2\n",
      "9   150000          2\n",
      "10  170000          2\n",
      "11  240000          1\n",
      "12  130000          1\n"
     ]
    }
   ],
   "source": [
    "#create histogram frequency table\n",
    "import collections\n",
    "from collections import Counter\n",
    "c=Counter(salary_bin)\n",
    "hist_data = c.values()\n",
    "hist_bin = c.keys()\n",
    "hist_freq = pd.DataFrame({'Bins':hist_bin, 'Frequency':hist_data})\n",
    "print(hist_freq)"
   ]
  },
  {
   "cell_type": "code",
   "execution_count": 13,
   "id": "83ebbd60",
   "metadata": {},
   "outputs": [
    {
     "data": {
      "image/png": "[encoded data removed]",
      "text/plain": [
       "<Figure size 720x720 with 1 Axes>"
      ]
     },
     "metadata": {
      "needs_background": "light"
     },
     "output_type": "display_data"
    }
   ],
   "source": [
    "#plot histogram\n",
    "bin_size = np.arange(0, 280000, 10000)\n",
    "plt.figure(figsize=(8,8), dpi=90)\n",
    "plt.hist(salary_bin, bins=bin_size, align=\"mid\", color=\"yellowgreen\")\n",
    "plt.title(\"Histogram of Employees' Salary\", fontsize=22)\n",
    "plt.xlabel(\"Salary\", fontsize=16)\n",
    "plt.ylabel(\"No. of Employees\", fontsize=16)\n",
    "plt.xticks(bin_size,labels=bin_size, rotation=40, size=9)\n",
    "plt.show()"
   ]
  },
  {
   "cell_type": "markdown",
   "id": "38e96f3b",
   "metadata": {},
   "source": [
    "### (c)"
   ]
  },
  {
   "cell_type": "markdown",
   "id": "7cd104d7",
   "metadata": {},
   "source": [
    "#### Find the length of service of all the staff, using Python. For staff who has not left the organization, use 1st May 2022 as the LeftDate. State the minimum, maximum and average length of service, expressing in years, rounded to 1 decimal place. (1 year is taken as 365 days.)"
   ]
  },
  {
   "cell_type": "code",
   "execution_count": null,
   "id": "fc90b5f8",
   "metadata": {},
   "outputs": [],
   "source": [
    "#print df\n",
    "print(tmadf['JoinDate'])\n",
    "print('---------------')\n",
    "print(tmadf['LeftDate'])"
   ]
  },
  {
   "cell_type": "code",
   "execution_count": null,
   "id": "c4d7304e",
   "metadata": {},
   "outputs": [],
   "source": [
    "#fill empty rows with 1st May 2022\n",
    "tmadf['LeftDate'] = tmadf['LeftDate'].fillna('5/1/2022')\n",
    "print(tmadf['LeftDate'])"
   ]
  },
  {
   "cell_type": "code",
   "execution_count": null,
   "id": "54564798",
   "metadata": {},
   "outputs": [],
   "source": [
    "#convert object to datetime format\n",
    "tmadf[['JoinDate','LeftDate']] = tmadf[['JoinDate','LeftDate']].apply(pd.to_datetime)\n",
    "\n",
    "#calculate difference between dates in days and assign to Service Lenth df\n",
    "#tmadf['ServiceLength'] = round(((tmadf['LeftDate'] - tmadf['JoinDate']) / np.timedelta64(1, 'D'))/365,1)\n",
    "tmadf['ServiceLength'] = ((tmadf['LeftDate'] - tmadf['JoinDate']) / np.timedelta64(1, 'D'))/365\n",
    "\n",
    "#view updated df\n",
    "print(tmadf['ServiceLength'])"
   ]
  },
  {
   "cell_type": "code",
   "execution_count": null,
   "id": "291e4e55",
   "metadata": {},
   "outputs": [],
   "source": [
    "#round off values\n",
    "min_sl = round(tmadf['ServiceLength'].min(),1)\n",
    "max_sl = round(tmadf['ServiceLength'].max(),1)\n",
    "avg_sl = round(tmadf['ServiceLength'].mean(),1)\n",
    "\n",
    "print('Minimum Service Length: ', min_sl)\n",
    "print('Maximum Service Length: ', max_sl)\n",
    "print('Average Service Length: ', avg_sl)"
   ]
  },
  {
   "cell_type": "code",
   "execution_count": null,
   "id": "aa255776",
   "metadata": {},
   "outputs": [],
   "source": [
    "#answer\n",
    "print(f'(c) For length of service of all the staff, the minimum is {min_sl} year(s), the maximum is {max_sl} year(s), and the average is {avg_sl} year(s).')"
   ]
  },
  {
   "cell_type": "markdown",
   "id": "04900588",
   "metadata": {},
   "source": [
    "### (d)"
   ]
  },
  {
   "cell_type": "markdown",
   "id": "b78d5097",
   "metadata": {},
   "source": [
    "#### Develop an interactive user input which allows the user to query if a particular person was/is a staff of the organization. One can assume the full name is entered by the user. The output should print the answer to the user’s question if that person can be found in the organization’s records. The interactive user input should also allow the user to continue to make another query, till the user chooses otherwise."
   ]
  },
  {
   "cell_type": "code",
   "execution_count": null,
   "id": "07510ae1",
   "metadata": {},
   "outputs": [],
   "source": [
    "#convert df to list\n",
    "stafflist = tmadf['Staff'].values.tolist()\n",
    "print(stafflist)"
   ]
  },
  {
   "cell_type": "code",
   "execution_count": null,
   "id": "0dca2cc0",
   "metadata": {},
   "outputs": [],
   "source": [
    "#check staff program\n",
    "valid_input = False\n",
    "\n",
    "while valid_input == False:\n",
    "    try:\n",
    "        check_staff = str(input(\"Check Staff (Y/N):\"))\n",
    "        if check_staff == \"Y\" or check_staff == \"y\":\n",
    "            enter_name = str(input(\"Please Enter Name: \"))\n",
    "            if enter_name in stafflist:\n",
    "                print(f\"{enter_name} is a staff!\")\n",
    "            elif enter_name not in stafflist:\n",
    "                print(f\"{enter_name} is not a staff!\")\n",
    "        elif check_staff == \"N\" or check_staff == \"n\":\n",
    "            valid_input = True\n",
    "            print(\"------------------------\")\n",
    "            print(\"Thanks! Exiting Program.\")\n",
    "        else:\n",
    "            print(\"----------------\")\n",
    "            print(\"Please Try Again\")\n",
    "    except ValueError:\n",
    "        print(\"Wrong\")"
   ]
  },
  {
   "cell_type": "code",
   "execution_count": null,
   "id": "a4ed4a1b",
   "metadata": {},
   "outputs": [],
   "source": []
  }
 ],
 "metadata": {
  "kernelspec": {
   "display_name": "Python 3 (ipykernel)",
   "language": "python",
   "name": "python3"
  },
  "language_info": {
   "codemirror_mode": {
    "name": "ipython",
    "version": 3
   },
   "file_extension": ".py",
   "mimetype": "text/x-python",
   "name": "python",
   "nbconvert_exporter": "python",
   "pygments_lexer": "ipython3",
   "version": "3.9.12"
  }
 },
 "nbformat": 4,
 "nbformat_minor": 5
}
