{
 "cells": [
  {
   "cell_type": "markdown",
   "id": "5d77d37c",
   "metadata": {},
   "source": [
    "# ANL252\n",
    "# TMA01\n",
    "# B1410552\n",
    "# Ong Jia Ying\n",
    "# 14/08/2022\n",
    "\n",
    "### Question 1b"
   ]
  },
  {
   "cell_type": "code",
   "execution_count": 2,
   "id": "9915e9b7",
   "metadata": {},
   "outputs": [
    {
     "data": {
      "text/plain": [
       "[<matplotlib.lines.Line2D at 0x2543f4991f0>]"
      ]
     },
     "execution_count": 2,
     "metadata": {},
     "output_type": "execute_result"
    },
    {
     "data": {
      "image/png": "[encoded data removed]",
      "text/plain": [
       "<Figure size 432x288 with 1 Axes>"
      ]
     },
     "metadata": {
      "needs_background": "light"
     },
     "output_type": "display_data"
    }
   ],
   "source": [
    "import pandas as pd\n",
    "import matplotlib.pyplot as plt\n",
    "import numpy as np\n",
    "\n",
    "#read data from CSV file\n",
    "data = pd.read_csv(r'TMA_Data.csv')\n",
    "df = pd.DataFrame(data, columns= ['Unit','Salary'])\n",
    "#summing the 'Salary' by 'Unit'\n",
    "df_1 = df.groupby(by='Unit').sum()\n",
    "#Plot graph\n",
    "plt.plot(df_1['Salary'])"
   ]
  },
  {
   "cell_type": "markdown",
   "id": "eddcf024",
   "metadata": {},
   "source": [
    "### Question 1c"
   ]
  },
  {
   "cell_type": "code",
   "execution_count": 3,
   "id": "1ff8fc43",
   "metadata": {},
   "outputs": [],
   "source": [
    "import pandas as pd\n",
    "import matplotlib.pyplot as plt\n",
    "import numpy as np\n",
    "\n",
    "from datetime import date\n",
    "import math\n",
    "\n",
    "#read data from CSV file\n",
    "data = pd.read_csv(r'TMA_Data.csv')\n",
    "#replace missing data with \"5/1/2022\"\n",
    "data['LeftDate'].fillna('5/1/2022',inplace=True)\n",
    "df = pd.DataFrame(data, columns=['JoinDate','LeftDate'])\n",
    "#convert string to datetime\n",
    "df['JoinDate'] = pd.to_datetime(df['JoinDate'])\n",
    "df['LeftDate'] = pd.to_datetime(df['LeftDate'])\n",
    "d0 = df['JoinDate']\n",
    "d1 = df['LeftDate']\n",
    "#calculate length of service in days\n",
    "delta = d1 - d0\n",
    "data['Delta'] = delta\n",
    "#Minimum length of service\n",
    "min_delta = min(delta)\n",
    "#Maximum length of service\n",
    "max_delta = max(delta)"
   ]
  },
  {
   "cell_type": "markdown",
   "id": "4a627893",
   "metadata": {},
   "source": [
    "### Question 1d"
   ]
  },
  {
   "cell_type": "code",
   "execution_count": 4,
   "id": "89cc32ad",
   "metadata": {},
   "outputs": [
    {
     "name": "stdout",
     "output_type": "stream",
     "text": [
      "Munish\n"
     ]
    },
    {
     "ename": "TypeError",
     "evalue": "expected str, bytes or os.PathLike object, not DataFrame",
     "output_type": "error",
     "traceback": [
      "\u001b[1;31m---------------------------------------------------------------------------\u001b[0m",
      "\u001b[1;31mTypeError\u001b[0m                                 Traceback (most recent call last)",
      "Input \u001b[1;32mIn [4]\u001b[0m, in \u001b[0;36m<cell line: 8>\u001b[1;34m()\u001b[0m\n\u001b[0;32m      4\u001b[0m df \u001b[38;5;241m=\u001b[39m pd\u001b[38;5;241m.\u001b[39mDataFrame(data, columns\u001b[38;5;241m=\u001b[39m[\u001b[38;5;124m'\u001b[39m\u001b[38;5;124mStaff\u001b[39m\u001b[38;5;124m'\u001b[39m])\n\u001b[0;32m      6\u001b[0m username \u001b[38;5;241m=\u001b[39m \u001b[38;5;28minput\u001b[39m()\n\u001b[1;32m----> 8\u001b[0m \u001b[38;5;28;01mif\u001b[39;00m username \u001b[38;5;129;01min\u001b[39;00m \u001b[38;5;28;43mopen\u001b[39;49m\u001b[43m(\u001b[49m\u001b[43mdf\u001b[49m\u001b[43m)\u001b[49m\u001b[38;5;241m.\u001b[39mread():\n\u001b[0;32m      9\u001b[0m     \u001b[38;5;28mprint\u001b[39m(\u001b[38;5;124m\"\u001b[39m\u001b[38;5;124mTrue\u001b[39m\u001b[38;5;124m\"\u001b[39m)\n\u001b[0;32m     10\u001b[0m \u001b[38;5;28;01melse\u001b[39;00m:\n",
      "\u001b[1;31mTypeError\u001b[0m: expected str, bytes or os.PathLike object, not DataFrame"
     ]
    }
   ],
   "source": [
    "import pandas as pd\n",
    "\n",
    "data = pd.read_csv(r'TMA_Data.csv')\n",
    "df = pd.DataFrame(data, columns=['Staff'])\n",
    "\n",
    "username = input()\n",
    "\n",
    "if username in open(df).read():\n",
    "    print(\"True\")\n",
    "else:\n",
    "    print(\"False\")"
   ]
  },
  {
   "cell_type": "code",
   "execution_count": null,
   "id": "1dea6134",
   "metadata": {},
   "outputs": [],
   "source": []
  }
 ],
 "metadata": {
  "kernelspec": {
   "display_name": "Python 3 (ipykernel)",
   "language": "python",
   "name": "python3"
  },
  "language_info": {
   "codemirror_mode": {
    "name": "ipython",
    "version": 3
   },
   "file_extension": ".py",
   "mimetype": "text/x-python",
   "name": "python",
   "nbconvert_exporter": "python",
   "pygments_lexer": "ipython3",
   "version": "3.9.12"
  }
 },
 "nbformat": 4,
 "nbformat_minor": 5
}
