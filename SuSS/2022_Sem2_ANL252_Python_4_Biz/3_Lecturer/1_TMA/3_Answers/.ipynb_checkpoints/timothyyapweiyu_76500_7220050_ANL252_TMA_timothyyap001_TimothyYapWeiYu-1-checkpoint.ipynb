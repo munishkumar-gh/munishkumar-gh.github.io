{
 "cells": [
  {
   "cell_type": "code",
   "execution_count": null,
   "metadata": {
    "pycharm": {
     "is_executing": true,
     "name": "#%%\n"
    }
   },
   "outputs": [],
   "source": [
    "#To import the necessary libraries that are required for the code to run\n",
    "import pandas as pd\n",
    "import numpy as np\n",
    "import matplotlib.pyplot as plt"
   ]
  },
  {
   "cell_type": "code",
   "execution_count": null,
   "metadata": {
    "pycharm": {
     "name": "#%%\n"
    }
   },
   "outputs": [],
   "source": [
    "#to read the CSV as a Pandas DataFrame\n",
    "raw_df = pd.read_csv(r\"C:\\Users\\timot\\OneDrive\\Documents\\SUSS\\ANL252 - Python\\TMA\\Raw dataset\\TMA_Data.csv\")\n",
    "raw_df"
   ]
  },
  {
   "cell_type": "code",
   "execution_count": null,
   "metadata": {
    "pycharm": {
     "name": "#%%\n"
    }
   },
   "outputs": [],
   "source": [
    "# ========1(B)========\n",
    "\n",
    "#a copy of raw_df is created so that it can be cleaned up and transformed for the purposes of 1(b)\n",
    "df_1b = raw_df.copy()\n",
    "#As 'ID' is a unique identifier for each employee, it is set as the index of the df_1b DataFrame\n",
    "df_1b.set_index(\"ID\", inplace=True)\n",
    "df_1b"
   ]
  },
  {
   "cell_type": "code",
   "execution_count": null,
   "metadata": {
    "pycharm": {
     "name": "#%%\n"
    }
   },
   "outputs": [],
   "source": [
    "#---SALARY STATISTICS---\n",
    "\n",
    "#This is to aggregate the df_1b DataFrame at a 'Unit' level\n",
    "unit_group = df_1b.groupby(\"Unit\")\n",
    "#This computes the mean salary aggregated at a 'Unit' level, and then stores it in a DataFrame called salary_output_table\n",
    "salary_output_table = unit_group[\"Salary\"].mean()\n",
    "#This computes the population standard deviation aggregated at a 'Unit' level\n",
    "salary_std_dev = unit_group[\"Salary\"].std(ddof=0)\n",
    "salary_output_table = pd.DataFrame(salary_output_table)\n",
    "salary_output_table"
   ]
  },
  {
   "cell_type": "code",
   "execution_count": null,
   "metadata": {
    "pycharm": {
     "name": "#%%\n"
    }
   },
   "outputs": [],
   "source": [
    "#To create a new column for standard deviation of salary in the salary_output_table DataFrame\n",
    "salary_output_table[\"Standard Deviation\"] = salary_std_dev\n",
    "salary_output_table"
   ]
  },
  {
   "cell_type": "code",
   "execution_count": null,
   "metadata": {
    "pycharm": {
     "name": "#%%\n"
    }
   },
   "outputs": [],
   "source": [
    "#This step serves to filter out the C-level employee record, and subsequently delete that row in the df_1b DataFrame. The purpose is to compute the organisational mean and standard deviation of salary excluding that of the C-level employee\n",
    "c_level_filt = (df_1b[\"Unit\"] == \"C-Level\")\n",
    "df_1b.drop(index=df_1b[c_level_filt].index, inplace=True)\n",
    "\n",
    "organisational_average_salary = df_1b[\"Salary\"].mean()\n",
    "organisational_StdDev_salary = df_1b[\"Salary\"].std(ddof=0)"
   ]
  },
  {
   "cell_type": "code",
   "execution_count": null,
   "metadata": {
    "pycharm": {
     "name": "#%%\n"
    }
   },
   "outputs": [],
   "source": [
    "#This is to add a new row in the salary_output_table DataFrame for the data on the Organisational mean and standard deviation of salary excluding that of the C-level employee\n",
    "salary_output_table.loc['Organisational Average (excluding C-level)'] = [organisational_average_salary, organisational_StdDev_salary]\n",
    "salary_output_table"
   ]
  },
  {
   "cell_type": "code",
   "execution_count": null,
   "metadata": {
    "pycharm": {
     "name": "#%%\n"
    }
   },
   "outputs": [],
   "source": [
    "#This is to cast the format of the salary and standard deviation figures to be that of currency to 2 d.p.\n",
    "salary_output_table['Salary'] = salary_output_table['Salary'].map('${:,.2f}'.format)\n",
    "salary_output_table['Standard Deviation'] = salary_output_table['Standard Deviation'].map('${:,.2f}'.format)\n",
    "salary_output_table"
   ]
  },
  {
   "cell_type": "code",
   "execution_count": null,
   "metadata": {
    "pycharm": {
     "name": "#%%\n"
    }
   },
   "outputs": [],
   "source": [
    "#as the step above converted the salary and standard deviation figures to be strings, we will need to recast them to be a float again so that we can plot a graph later on. To simplify the code, parsing is done using regex\n",
    "salary_output_table_for_graph = salary_output_table.copy()\n",
    "salary_output_table_for_graph.drop(index=['C-Level', 'Organisational Average (excluding C-level)'], inplace=True)\n",
    "salary_output_table_for_graph\n",
    "\n",
    "salary_output_table_for_graph['Salary'] = salary_output_table_for_graph['Salary'].replace({'\\$': '', ',': ''}, regex=True).astype(float)\n",
    "salary_output_table_for_graph['Standard Deviation'] = salary_output_table_for_graph['Standard Deviation'].replace({'\\$': '', ',': ''}, regex=True).astype(float)\n",
    "salary_output_table_for_graph"
   ]
  },
  {
   "cell_type": "code",
   "execution_count": null,
   "metadata": {
    "pycharm": {
     "name": "#%%\n"
    }
   },
   "outputs": [],
   "source": [
    "#matplotlib is used to create a comparative vertical bar chart. The parameters (e.g. title, colour, legend location, etc.) are specified accordingly. As there is no direct method to create a comparative bar chart in matplotlib, both bars have to be manually offset via the 'width' variable\n",
    "plt.figure(figsize=(15,8))\n",
    "\n",
    "title = 'Mean and Standard Deviation of Salary'\n",
    "\n",
    "x_index_list = ['Admin','Engineering','IT','Manufacturing','Sales']\n",
    "x_index_values = np.arange(len(x_index_list))\n",
    "width = 0.25\n",
    "\n",
    "plt.bar(x_index_values-width/2, salary_output_table_for_graph['Salary'], width=width, color='royalblue', label='Salary')\n",
    "plt.bar(x_index_values+width/2, salary_output_table_for_graph['Standard Deviation'], width=width, color='darkorange',label='Standard Deviation')\n",
    "\n",
    "plt.style.use('fivethirtyeight')\n",
    "\n",
    "plt.legend(bbox_to_anchor = (1.05,1))\n",
    "plt.xticks(ticks=x_index_values, labels=x_index_list)\n",
    "plt.xlabel('Unit')\n",
    "plt.ylabel(\"Mean Salary ($)\")\n",
    "plt.title(title)\n",
    "\n",
    "plt.tight_layout()\n",
    "\n",
    "plt.show()"
   ]
  },
  {
   "cell_type": "code",
   "execution_count": null,
   "metadata": {
    "pycharm": {
     "name": "#%%\n"
    }
   },
   "outputs": [],
   "source": [
    "#---GENDER STATISTICS---\n",
    "\n",
    "#This is to aggregate the df_1b DataFrame at a 'Unit' and then 'Gender' level as new DataFrame, i.e. gender_group\n",
    "gender_group = raw_df.groupby(['Unit','Gender'])\n",
    "#this serves to count the number of non-NA values in each row/column in the gender_group DataFrame\n",
    "gender_count_table = gender_group.count()\n",
    "gender_count_table"
   ]
  },
  {
   "cell_type": "code",
   "execution_count": null,
   "metadata": {
    "pycharm": {
     "name": "#%%\n"
    }
   },
   "outputs": [],
   "source": [
    "#Due to the structure of the DataFrame and aggreation type, the gender_group DataFrame is multiIndexed. For ease of plotting the bar chart later on, we can transform it to a DataFrame that has a single index via the unstack() function\n",
    "gender_count_table = gender_count_table.unstack()\n",
    "gender_count_table = gender_count_table['Staff']\n",
    "gender_count_table"
   ]
  },
  {
   "cell_type": "code",
   "execution_count": null,
   "metadata": {
    "pycharm": {
     "name": "#%%\n"
    }
   },
   "outputs": [],
   "source": [
    "#matplotlib is used to create a comparative grouped horizontal bar chart. The parameters (e.g. title, colour, legend location, etc.) are specified accordingly. As there is no direct method to create a comparative bar chart in matplotlib, both bars have to be manually offset via the 'width' variable\n",
    "plt.figure(figsize=(15,8))\n",
    "\n",
    "title = 'Number of Female and Male Employees by Unit'\n",
    "\n",
    "y_index_list = ['Admin','C-level','Engineering','IT','Manufacturing','Sales']\n",
    "y_index_values = np.arange(len(y_index_list))\n",
    "\n",
    "height = 0.25\n",
    "\n",
    "plt.barh(y_index_values-height/2, gender_count_table['F'],height=height, color='royalblue', label='Female')\n",
    "plt.barh(y_index_values+height/2, gender_count_table['M '],height=height, color='darkorange', label='Male')\n",
    "\n",
    "plt.style.use('fivethirtyeight')\n",
    "\n",
    "plt.legend(bbox_to_anchor = (1.05,1))\n",
    "plt.yticks(ticks=y_index_values, labels=y_index_list)\n",
    "plt.xlabel('Number of Employees')\n",
    "plt.ylabel(\"Unit\")\n",
    "plt.title(title)\n",
    "\n",
    "plt.tight_layout()\n",
    "\n",
    "plt.show()"
   ]
  },
  {
   "cell_type": "code",
   "execution_count": null,
   "metadata": {
    "pycharm": {
     "name": "#%%\n"
    }
   },
   "outputs": [],
   "source": [
    "# ========1(C)========\n",
    "\n",
    "#a copy of raw_df is created so that it can be cleaned up and transformed for the purposes of 1(c)\n",
    "df_1c = raw_df.copy()"
   ]
  },
  {
   "cell_type": "code",
   "execution_count": null,
   "metadata": {
    "pycharm": {
     "name": "#%%\n"
    }
   },
   "outputs": [],
   "source": [
    "#This is to convert the data in the 'JoinDate' and 'LeftDate' columns to a datetime datatype. This will allow us to compute the length of service later via a timedelta\n",
    "df_1c['JoinDate'] = pd.to_datetime(df_1c['JoinDate'])\n",
    "df_1c['LeftDate'] = pd.to_datetime(df_1c['LeftDate'])\n",
    "df_1c"
   ]
  },
  {
   "cell_type": "code",
   "execution_count": null,
   "metadata": {},
   "outputs": [],
   "source": [
    "#This is to replace the blank values in the LeftDate column (i.e. staff who are still in the organisation) with a value of 1 May 2022\n",
    "df_1c['LeftDate'].fillna(value=pd.to_datetime('1/5/2022', format='%d/%m/%Y'), inplace=True)"
   ]
  },
  {
   "cell_type": "code",
   "execution_count": null,
   "metadata": {
    "pycharm": {
     "name": "#%%\n"
    }
   },
   "outputs": [],
   "source": [
    "#This computes the length of service of each staff (in days) as a timedelta object\n",
    "df_1c[\"Length of service\"] = df_1c[\"LeftDate\"] - df_1c[\"JoinDate\"]\n",
    "df_1c"
   ]
  },
  {
   "cell_type": "code",
   "execution_count": null,
   "metadata": {
    "pycharm": {
     "name": "#%%\n"
    }
   },
   "outputs": [],
   "source": [
    "#As arithmetical operations cannot be performed on timedelta objects directly, the 'Length of service' column can be cased into an int16 data type, and thereafter divided by 365 days to derive the length of service in years\n",
    "df_1c['Length of service (in years)'] = df_1c['Length of service'].dt.days.astype('int16', errors='ignore')/365\n",
    "df_1c"
   ]
  },
  {
   "cell_type": "code",
   "execution_count": null,
   "metadata": {
    "pycharm": {
     "name": "#%%\n"
    }
   },
   "outputs": [],
   "source": [
    "#This computes the minimum length of service (rounded to 1 d.p.) and displays the output in a formatted string\n",
    "min_length_of_service = round(df_1c['Length of service (in years)'].min(),1)\n",
    "print(f'The minimum length of service rounded to 1 d.p. is {min_length_of_service} years')"
   ]
  },
  {
   "cell_type": "code",
   "execution_count": null,
   "metadata": {
    "pycharm": {
     "name": "#%%\n"
    }
   },
   "outputs": [],
   "source": [
    "#This computes the maximum length of service (rounded to 1 d.p.) and displays the output in a formatted string\n",
    "max_length_of_service = round(df_1c['Length of service (in years)'].max(), 1)\n",
    "print(f'The maximum length of service rounded to 1 d.p. is {max_length_of_service} years')"
   ]
  },
  {
   "cell_type": "code",
   "execution_count": null,
   "metadata": {
    "pycharm": {
     "name": "#%%\n"
    }
   },
   "outputs": [],
   "source": [
    "#This computes the average length of service (rounded to 1 d.p.) and displays the output in a formatted string\n",
    "average_length_of_service = round(df_1c['Length of service (in years)'].mean(), 1)\n",
    "print(f'The average length of service rounded to 1 d.p. is {average_length_of_service} years')"
   ]
  },
  {
   "cell_type": "code",
   "execution_count": null,
   "metadata": {
    "pycharm": {
     "name": "#%%\n"
    }
   },
   "outputs": [],
   "source": [
    "# ========1(D)========\n",
    "\n",
    "#a copy of raw_df is created so that it can be cleaned up and transformed for the purposes of 1(d)\n",
    "df_1d = raw_df.copy()\n",
    "df_1d.set_index(\"ID\", inplace=True)\n",
    "#the staff name is transformed to lower case in a new column called 'Staff_lower'. this is to allow for a case-agnostic validation of user input in the next step\n",
    "df_1d[\"Staff_lower\"] = df_1d[\"Staff\"].str.lower()\n",
    "#this serves to clean the source data by removing all leading and trailing whitespaces (if any) from the \"Staff_lower\" column\n",
    "df_1d[\"Staff_lower\"].str.rstrip()\n",
    "df_1d[\"Staff_lower\"].str.lstrip()\n",
    "df_1d"
   ]
  },
  {
   "cell_type": "code",
   "execution_count": null,
   "metadata": {
    "pycharm": {
     "name": "#%%\n"
    }
   },
   "outputs": [],
   "source": [
    "#a function is defined to check if the name entered by the user is in the DataFrame\n",
    "def name_check():\n",
    "    name = input(\"Please enter the username that you will like to check:\\n\")\n",
    "    #this removes all trailing and leading whitespaces from the user input, thus allowing for the programme to function properly if the user improperly enters the name in this regard\n",
    "    name = name.rstrip()\n",
    "    name = name.lstrip()\n",
    "    #the input is converted to lower case, thus allowing for the check to be case-agnostic\n",
    "    if name.lower() in df_1d[\"Staff_lower\"].values:\n",
    "        print(f\"The name entered ({name.title()}) can be found in the organisation's records\")\n",
    "    else:\n",
    "        print(f\"The name entered ({name.title()}) cannot be found in the organisation's records\")"
   ]
  },
  {
   "cell_type": "code",
   "execution_count": null,
   "metadata": {
    "pycharm": {
     "name": "#%%\n"
    }
   },
   "outputs": [],
   "source": [
    "name_check()\n",
    "\n",
    "#this step serves to allow users to choose whether to continue searching for more names or quit the program\n",
    "#note that the input is case-agnostic as it is converted to lower case\n",
    "#a while loop is used to execute this block of code\n",
    "    #if user input is 'Y', the name_check() function is executed again\n",
    "    #if user input is 'N', the loop is broken out of and the program ends\n",
    "    #if the user input is some other value besides 'Y' or 'N', the user is informed that their input is invalid and the loop continues through another iteration\n",
    "\n",
    "while True:\n",
    "    user_option = input(\"Do you want to continue searching for more names (Y/N)?\\n\")\n",
    "    if user_option.lower() ==\"y\":\n",
    "        name_check()\n",
    "        continue\n",
    "    elif user_option.lower() == \"n\":\n",
    "        print('You have successfully exit the program.')\n",
    "        break\n",
    "    else:\n",
    "        print(f'{user_option} is not a valid input. Please either enter \"Y\" or \"N\".\\n')\n",
    "        continue"
   ]
  }
 ],
 "metadata": {
  "kernelspec": {
   "display_name": "Python 3 (ipykernel)",
   "language": "python",
   "name": "python3"
  },
  "language_info": {
   "codemirror_mode": {
    "name": "ipython",
    "version": 3
   },
   "file_extension": ".py",
   "mimetype": "text/x-python",
   "name": "python",
   "nbconvert_exporter": "python",
   "pygments_lexer": "ipython3",
   "version": "3.9.12"
  },
  "vscode": {
   "interpreter": {
    "hash": "36a680cd583cdfc2eebf6855c4e86e37b9fd3a3a938857fa785679c368e83c14"
   }
  }
 },
 "nbformat": 4,
 "nbformat_minor": 1
}
