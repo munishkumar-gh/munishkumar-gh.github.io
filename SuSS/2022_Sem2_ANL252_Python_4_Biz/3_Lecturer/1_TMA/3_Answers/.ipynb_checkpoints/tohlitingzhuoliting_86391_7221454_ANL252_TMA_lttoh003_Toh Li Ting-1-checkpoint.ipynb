{
 "cells": [
  {
   "cell_type": "markdown",
   "id": "e6e60cbf",
   "metadata": {},
   "source": [
    "# TMA"
   ]
  },
  {
   "cell_type": "code",
   "execution_count": null,
   "id": "da730b5c",
   "metadata": {
    "scrolled": true
   },
   "outputs": [],
   "source": [
    "import pandas as pd\n",
    "\n",
    "data = pd.read_excel (r'TMA.xlsx', sheet_name='TMA_Data')\n",
    "print (data)"
   ]
  },
  {
   "cell_type": "code",
   "execution_count": null,
   "id": "604bdf7c",
   "metadata": {},
   "outputs": [],
   "source": [
    "import math\n",
    "import numpy as np\n",
    "import matplotlib.pyplot as plt\n"
   ]
  },
  {
   "cell_type": "code",
   "execution_count": null,
   "id": "ca05ed63",
   "metadata": {},
   "outputs": [],
   "source": [
    "df = pd.DataFrame(data)\n",
    "df[[ 'Staff','Marital', 'Citizenship', 'Minority', 'Unit', 'PerformanceScore', 'in Company']] = df[['Staff','Marital', 'Citizenship', 'Minority', 'Unit', 'PerformanceScore', 'in Company']].astype(str)\n",
    "print(data)"
   ]
  },
  {
   "cell_type": "markdown",
   "id": "f30a341b",
   "metadata": {},
   "source": [
    "___________\n"
   ]
  },
  {
   "cell_type": "markdown",
   "id": "4de37265",
   "metadata": {},
   "source": [
    "# b)"
   ]
  },
  {
   "cell_type": "code",
   "execution_count": null,
   "id": "72b86a2b",
   "metadata": {},
   "outputs": [],
   "source": [
    "# importing the required module\n",
    "import matplotlib.pyplot as plt\n",
    "  \n",
    "# x axis values\n",
    "x = ['Divorced','Married','Others','Single']\n",
    "# corresponding y axis values\n",
    "y = [13,56,13,83]\n",
    "  \n",
    "# plotting the points \n",
    "plt.plot(x, y)\n",
    "  \n",
    "# naming the x axis\n",
    "plt.xlabel('Marital Status')\n",
    "# naming the y axis\n",
    "plt.ylabel('Current Employee')\n",
    "  \n",
    "# giving a title to my graph\n",
    "plt.title('Employment Status By Marital Status - Current')\n",
    "  \n",
    "# function to show the plot\n",
    "plt.show()"
   ]
  },
  {
   "cell_type": "code",
   "execution_count": null,
   "id": "b44616b6",
   "metadata": {},
   "outputs": [],
   "source": [
    "# importing the required module\n",
    "import matplotlib.pyplot as plt\n",
    "\n",
    "# x axis values\n",
    "x = ['Divorced','Married','Others','Single']\n",
    "# corresponding y axis values\n",
    "y = [13,38,3,31]\n",
    "  \n",
    "# plotting the points \n",
    "plt.plot(x, y)\n",
    "  \n",
    "# naming the x axis\n",
    "plt.xlabel('Marital Status')\n",
    "# naming the y axis\n",
    "plt.ylabel('Former Employee')\n",
    "  \n",
    "# giving a title to my graph\n",
    "plt.title('Employment Status By Marital Status - Former')\n",
    "  \n",
    "# function to show the plot\n",
    "plt.show()"
   ]
  },
  {
   "cell_type": "code",
   "execution_count": null,
   "id": "38d87d3a",
   "metadata": {},
   "outputs": [],
   "source": [
    "# importing the required module\n",
    "import matplotlib.pyplot as plt\n",
    "  \n",
    "# x axis values\n",
    "x = [1,2,3,4,5]\n",
    "# corresponding y axis values\n",
    "y = [1,1,45,48,49]\n",
    "  \n",
    "# plotting the points \n",
    "plt.plot(x, y)\n",
    "  \n",
    "# naming the x axis\n",
    "plt.xlabel('Satisfaction Score')\n",
    "# naming the y axis\n",
    "plt.ylabel('No. of Female Employee')\n",
    "  \n",
    "# giving a title to my graph\n",
    "plt.title('Employee Satisifaction Level By Gender (Female)')\n",
    "  \n",
    "# function to show the plot\n",
    "plt.show()"
   ]
  },
  {
   "cell_type": "code",
   "execution_count": null,
   "id": "2fb7feda",
   "metadata": {
    "scrolled": false
   },
   "outputs": [],
   "source": [
    "# importing the required module\n",
    "import matplotlib.pyplot as plt\n",
    "  \n",
    "\n",
    "# x axis values\n",
    "x = [1,2,3,4,5]\n",
    "# corresponding y axis values\n",
    "y = [0,3,39,32,32]\n",
    "  \n",
    "# plotting the points \n",
    "plt.plot(x, y)\n",
    "  \n",
    "# naming the x axis\n",
    "plt.xlabel('Satisfaction Score')\n",
    "# naming the y axis\n",
    "plt.ylabel('No. of Female Employee')\n",
    "  \n",
    "# giving a title to my graph\n",
    "plt.title('Employee Satisifaction Level By Gender (Male)')\n",
    "  \n",
    "# function to show the plot\n",
    "plt.show()"
   ]
  },
  {
   "cell_type": "markdown",
   "id": "0f446c67",
   "metadata": {},
   "source": [
    "# c)"
   ]
  },
  {
   "cell_type": "code",
   "execution_count": null,
   "id": "51738253",
   "metadata": {
    "scrolled": false
   },
   "outputs": [],
   "source": [
    "import pandas as pd\n",
    "import numpy as np\n",
    "\n",
    "\n",
    "Ldata = pd.read_excel (r'C:\\Users\\Jacelyne\\Desktop\\TMA.xlsx', sheet_name='Left Date')\n",
    "print (Ldata)"
   ]
  },
  {
   "cell_type": "code",
   "execution_count": null,
   "id": "7c0be159",
   "metadata": {
    "scrolled": true
   },
   "outputs": [],
   "source": [
    "df = pd.DataFrame(Ldata, columns= ['JoinDate','LeftDate'])\n",
    "print(df)"
   ]
  },
  {
   "cell_type": "code",
   "execution_count": null,
   "id": "c020d4b9",
   "metadata": {},
   "outputs": [],
   "source": []
  },
  {
   "cell_type": "code",
   "execution_count": null,
   "id": "78000f60",
   "metadata": {},
   "outputs": [],
   "source": [
    "import numpy as np\n",
    "import pandas as pd\n",
    "import datetime as datetime\n",
    "\n",
    "data = pd.DataFrame({'p1': Param1,'p2': Param2})\n",
    "startDT = data['p1']\n",
    "endDT = data['p2']"
   ]
  },
  {
   "cell_type": "code",
   "execution_count": null,
   "id": "f864b6ef",
   "metadata": {},
   "outputs": [],
   "source": []
  },
  {
   "cell_type": "code",
   "execution_count": null,
   "id": "588c77b1",
   "metadata": {},
   "outputs": [],
   "source": []
  },
  {
   "cell_type": "markdown",
   "id": "374f84d7",
   "metadata": {},
   "source": [
    "# d)"
   ]
  },
  {
   "cell_type": "code",
   "execution_count": null,
   "id": "df03bfc2",
   "metadata": {
    "scrolled": true
   },
   "outputs": [],
   "source": [
    "name = pd.DataFrame(data, columns= [('Staff')])\n",
    "print(name)"
   ]
  },
  {
   "cell_type": "code",
   "execution_count": null,
   "id": "7f812e8b",
   "metadata": {
    "scrolled": false
   },
   "outputs": [],
   "source": [
    "name = (\"Aairah Hastings\",\"Aaminah Mcmillan\",\"Aamna Howell\")\n",
    "employment_status = (\"employed\")\n",
    "\n",
    "while True:\n",
    "        user_input = input(\"What is the name of the employee?\")\n",
    "        if user_input in name:\n",
    "            name_index = name.index(user_input)\n",
    "            employment_status = employment_status\n",
    "            print(f\"The staff of name {user_input} is {employment_status} by the company.\")\n",
    "            break\n",
    "        else:\n",
    "            user_input = input(\"Invalid input. Please try again.\")"
   ]
  },
  {
   "cell_type": "code",
   "execution_count": null,
   "id": "bf7a0167",
   "metadata": {},
   "outputs": [],
   "source": []
  },
  {
   "cell_type": "code",
   "execution_count": null,
   "id": "ea1b5b05",
   "metadata": {},
   "outputs": [],
   "source": []
  },
  {
   "cell_type": "code",
   "execution_count": null,
   "id": "2f43c1e5",
   "metadata": {},
   "outputs": [],
   "source": []
  },
  {
   "cell_type": "code",
   "execution_count": null,
   "id": "cb5580c0",
   "metadata": {},
   "outputs": [],
   "source": []
  },
  {
   "cell_type": "code",
   "execution_count": null,
   "id": "769cf934",
   "metadata": {},
   "outputs": [],
   "source": []
  },
  {
   "cell_type": "code",
   "execution_count": null,
   "id": "f40dacd9",
   "metadata": {},
   "outputs": [],
   "source": []
  },
  {
   "cell_type": "code",
   "execution_count": null,
   "id": "8ec43720",
   "metadata": {},
   "outputs": [],
   "source": []
  },
  {
   "cell_type": "markdown",
   "id": "45e37c13",
   "metadata": {},
   "source": [
    "# Other working"
   ]
  },
  {
   "cell_type": "code",
   "execution_count": null,
   "id": "1854e006",
   "metadata": {
    "scrolled": true
   },
   "outputs": [],
   "source": [
    "Marital_InCompany = pd.DataFrame(data, columns= [('Marital'),('in Company')])\n",
    "print(Marital_InCompany)"
   ]
  },
  {
   "cell_type": "code",
   "execution_count": null,
   "id": "22762baf",
   "metadata": {
    "scrolled": true
   },
   "outputs": [],
   "source": [
    "# the histogram of the data\n",
    "\n",
    "#for y in data.ndim: \n",
    "#    print(data[:,in Company]\n",
    "print(data.shape)\n",
    "print(data.size)\n",
    "print(data.ndim) #ndim = 2 because this is a 2D table\n",
    "feature_names = ['Single', 'Married', 'Divorced', 'Others']\n"
   ]
  },
  {
   "cell_type": "code",
   "execution_count": null,
   "id": "260f094c",
   "metadata": {
    "scrolled": true
   },
   "outputs": [],
   "source": [
    "y = pd.DataFrame(data, columns= ['in Company N'])\n",
    "print(y)"
   ]
  },
  {
   "cell_type": "code",
   "execution_count": null,
   "id": "e8f8a9d1",
   "metadata": {},
   "outputs": [],
   "source": [
    "Divorced = [13,13]\n",
    "Married = [56,58]\n",
    "Others = [13,3]\n",
    "Single = [83,31]\n",
    "\n",
    "Marital_Status = [\"Divorced,Married,Others,Single\"]"
   ]
  }
 ],
 "metadata": {
  "kernelspec": {
   "display_name": "Python 3 (ipykernel)",
   "language": "python",
   "name": "python3"
  },
  "language_info": {
   "codemirror_mode": {
    "name": "ipython",
    "version": 3
   },
   "file_extension": ".py",
   "mimetype": "text/x-python",
   "name": "python",
   "nbconvert_exporter": "python",
   "pygments_lexer": "ipython3",
   "version": "3.9.12"
  }
 },
 "nbformat": 4,
 "nbformat_minor": 5
}
