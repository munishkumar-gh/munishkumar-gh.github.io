{
 "cells": [
  {
   "cell_type": "markdown",
   "id": "0651352a",
   "metadata": {},
   "source": [
    "### Qns 1b"
   ]
  },
  {
   "cell_type": "code",
   "execution_count": null,
   "id": "9706a4c3",
   "metadata": {},
   "outputs": [],
   "source": [
    "import matplotlib.pyplot as plt"
   ]
  },
  {
   "cell_type": "code",
   "execution_count": null,
   "id": "3d698c1e",
   "metadata": {},
   "outputs": [],
   "source": [
    "Female_scores= [80160,250000,99045,87905,59655,75900]\n",
    "Male_scores= [73523,0,92689,101534,59015,66952]\n",
    "Department= [\"Admin\",\"C-Level\",\"Engineering\",\"IT\",\"Manufacturing\",\"Sales\"]"
   ]
  },
  {
   "cell_type": "code",
   "execution_count": null,
   "id": "73ae67bf",
   "metadata": {},
   "outputs": [],
   "source": [
    "plt.plot(Department, Female_scores, color = \"green\", marker = \"o\", markerfacecolor = \"black\",markeredgecolor=\"black\")\n",
    "plt.plot(Department, Male_scores, color = \"blue\", marker = \"o\", markerfacecolor = \"black\",markeredgecolor=\"black\")\n",
    "plt.xlabel(\"Department\")\n",
    "plt.ylabel(\"Average salary\")\n",
    "\n",
    "plt.xticks(Department,labels = Department)\n",
    "plt.yticks([50000,100000,150000,200000,250000,300000],[\"50000\",\"100000\",\"150000\",\"200000\",\"250000\",\"300000\"])\n",
    "plt.grid(axis=\"y\")\n",
    "\n",
    "plt.legend([\"F\", \"M\"])\n",
    "plt.title(\"Average salary for the individual department\")\n",
    "\n",
    "plt.xticks(Department, labels = Department)\n",
    "\n",
    "plt.show()"
   ]
  },
  {
   "cell_type": "code",
   "execution_count": null,
   "id": "16a9a1e8",
   "metadata": {},
   "outputs": [],
   "source": [
    "x=28.6\n",
    "y=3.6\n",
    "x1=30\n",
    "y1=3.5\n",
    "x2=36.6\n",
    "y2=5.7\n",
    "x3=21.9\n",
    "y3=3.1\n",
    "x4=18.2\n",
    "y4=2.9"
   ]
  },
  {
   "cell_type": "code",
   "execution_count": null,
   "id": "430a9e1d",
   "metadata": {},
   "outputs": [],
   "source": [
    "plt.scatter(x,y, s=100, c='orange',marker='s',edgecolor='orange', linewidth=1,alpha=0.75)\n",
    "plt.scatter(x1,y1, s=100, c='grey',marker='^',edgecolor='grey', linewidth=1,alpha=0.75)\n",
    "plt.scatter(x2,y2, s=100, c='yellow',marker='x',edgecolor='yellow', linewidth=1,alpha=0.75)\n",
    "plt.scatter(x3,y3, s=100, c='black',marker='2',edgecolor='black', linewidth=1,alpha=0.75)\n",
    "plt.scatter(x4,y4, s=100, c='blue',marker='o',edgecolor='blue', linewidth=1,alpha=0.75)\n",
    "\n",
    "plt.xlabel(\"Percentage performance score\")\n",
    "plt.ylabel(\"Average point\")\n",
    "plt.grid()\n",
    "\n",
    "plt.xticks([0,5,10,15,20,25,30,35,40],[\"0\",\"5\",\"10\",\"15\",\"20\",\"25\",\"30\",\"35\",\"40\"])\n",
    "plt.yticks([1,2,3,4,5,6],[\"1\",\"2\",\"3\",\"4\",\"5\",\"6\"])\n",
    "\n",
    "plt.legend([\"Admin\",\"Engineering\",\"IT\",\"Manufacturing\",\"Sales\"],loc='upper left')\n",
    "plt.title(\"Overall score\")\n",
    "\n",
    "plt.show()"
   ]
  },
  {
   "cell_type": "markdown",
   "id": "f48b5071",
   "metadata": {},
   "source": [
    "### Qns 1c"
   ]
  },
  {
   "cell_type": "code",
   "execution_count": null,
   "id": "7ab824c7",
   "metadata": {},
   "outputs": [],
   "source": [
    "import pandas as pd\n",
    "import matplotlib.pyplot as plt\n",
    "import numpy as np\n",
    "from datetime import datetime"
   ]
  },
  {
   "cell_type": "code",
   "execution_count": null,
   "id": "778b67c9",
   "metadata": {},
   "outputs": [],
   "source": [
    "data=pd.read_csv(\"TMA_Data.csv\")"
   ]
  },
  {
   "cell_type": "code",
   "execution_count": null,
   "id": "03b8ae7a",
   "metadata": {},
   "outputs": [],
   "source": [
    "data.head()"
   ]
  },
  {
   "cell_type": "code",
   "execution_count": null,
   "id": "223a5607",
   "metadata": {},
   "outputs": [],
   "source": [
    "Join_Date = data['JoinDate']=pd.to_datetime(data['JoinDate'])\n",
    "Left_Date = data['LeftDate']=pd.to_datetime(data['LeftDate'])\n",
    "print(Join_Date,Left_Date)"
   ]
  },
  {
   "cell_type": "code",
   "execution_count": null,
   "id": "d07cfaf8",
   "metadata": {},
   "outputs": [],
   "source": [
    "Left_Date2 = Left_Date.fillna(\"2022-05-01\")\n",
    "print(Left_Date2)"
   ]
  },
  {
   "cell_type": "code",
   "execution_count": null,
   "id": "b34652f7",
   "metadata": {},
   "outputs": [],
   "source": [
    "Days = (Left_Date2 - Join_Date).dt.days\n",
    "print(Days)"
   ]
  },
  {
   "cell_type": "code",
   "execution_count": null,
   "id": "6af43956",
   "metadata": {},
   "outputs": [],
   "source": [
    "Years = Days / 365"
   ]
  },
  {
   "cell_type": "code",
   "execution_count": null,
   "id": "976de4cb",
   "metadata": {},
   "outputs": [],
   "source": [
    "max_number = max(Years)\n",
    "print(\"The maximum length of service is\",round(max_number,1),\"years\")"
   ]
  },
  {
   "cell_type": "code",
   "execution_count": null,
   "id": "b60273e5",
   "metadata": {},
   "outputs": [],
   "source": [
    "min_number = min(Years)\n",
    "print(\"The minimum length of service is\",round(min_number,1),\"years\")"
   ]
  },
  {
   "cell_type": "code",
   "execution_count": null,
   "id": "d6bd477f",
   "metadata": {},
   "outputs": [],
   "source": [
    "mean_number = sum(Years)/ len(Years)\n",
    "print(\"The average length of service is\",round(mean_number,1),\"years\")"
   ]
  },
  {
   "cell_type": "markdown",
   "id": "064454e7",
   "metadata": {},
   "source": [
    "### Qns 1d"
   ]
  },
  {
   "cell_type": "code",
   "execution_count": null,
   "id": "ff1feddd",
   "metadata": {},
   "outputs": [],
   "source": [
    "import matplotlib.pyplot as plt\n",
    "import numpy as np\n",
    "from datetime import datetime\n",
    "import pandas as pd"
   ]
  },
  {
   "cell_type": "code",
   "execution_count": null,
   "id": "6eb6ae45",
   "metadata": {},
   "outputs": [],
   "source": [
    "data1=pd.read_csv(\"TMA_Data.csv\")"
   ]
  },
  {
   "cell_type": "code",
   "execution_count": null,
   "id": "78d22dc5",
   "metadata": {},
   "outputs": [],
   "source": [
    "newcolumn1 = data1.sort_values(by=\"LeftDate\")\n",
    "pd.set_option(\"display.max_column\",None)\n",
    "pd.set_option(\"display.max_row\",None)\n",
    "newcolumn1.head(251)\n",
    "extract = newcolumn1[['Staff','LeftDate']].reset_index(drop= True)\n",
    "extract.head(251)\n",
    "y = extract.values[0:85,0]\n",
    "z = extract.values[0:85,1]"
   ]
  },
  {
   "cell_type": "code",
   "execution_count": null,
   "id": "75bcc90b",
   "metadata": {},
   "outputs": [],
   "source": [
    "left = {}\n",
    "for i in range(len(z)):\n",
    "    left[y[i]] = z[i]\n",
    "    current = extract.values[85:250, 0]"
   ]
  },
  {
   "cell_type": "code",
   "execution_count": null,
   "id": "2ab4c268",
   "metadata": {},
   "outputs": [],
   "source": [
    "today = datetime.today()\n",
    "d1 = today.strftime(\"%d/%m/%Y\")"
   ]
  },
  {
   "cell_type": "code",
   "execution_count": null,
   "id": "98a5b20c",
   "metadata": {},
   "outputs": [],
   "source": [
    "name=str(input(\"Please enter the staff name \"))\n",
    "answer = name\n",
    "def gameplay(): \n",
    "    answer = input(name)\n",
    "if answer in left:\n",
    "        print(\"The employee has left the organisation on {}\".format(left[answer]))\n",
    "elif answer in current: \n",
    "            print(\"This employee still working as of\", d1)\n",
    "else:\n",
    "                print(\"No such person in the organisation\")\n",
    "while True:\n",
    "    answer1 = input(\"Do you want to make another query within the organisation? (Y/N) \").upper()\n",
    "    if answer1 == \"Y\":\n",
    "        gameplay()\n",
    "    elif answer1 == \"N\":\n",
    "        print(\"Your search ends here \\nThank you and have a nice day!\")\n",
    "        break\n",
    "    else:\n",
    "        print(\" Please enter Y or N \")"
   ]
  },
  {
   "cell_type": "code",
   "execution_count": null,
   "id": "2f741418",
   "metadata": {},
   "outputs": [],
   "source": []
  },
  {
   "cell_type": "code",
   "execution_count": null,
   "id": "93422e89",
   "metadata": {},
   "outputs": [],
   "source": []
  }
 ],
 "metadata": {
  "kernelspec": {
   "display_name": "Python 3 (ipykernel)",
   "language": "python",
   "name": "python3"
  },
  "language_info": {
   "codemirror_mode": {
    "name": "ipython",
    "version": 3
   },
   "file_extension": ".py",
   "mimetype": "text/x-python",
   "name": "python",
   "nbconvert_exporter": "python",
   "pygments_lexer": "ipython3",
   "version": "3.9.12"
  }
 },
 "nbformat": 4,
 "nbformat_minor": 5
}
