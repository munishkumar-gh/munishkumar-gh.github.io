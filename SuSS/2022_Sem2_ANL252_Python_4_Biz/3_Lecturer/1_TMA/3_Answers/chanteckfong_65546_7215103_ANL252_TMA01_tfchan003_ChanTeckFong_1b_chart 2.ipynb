{
 "cells": [
  {
   "cell_type": "code",
   "execution_count": 1,
   "id": "a44f8f54",
   "metadata": {},
   "outputs": [],
   "source": [
    "import numpy as np"
   ]
  },
  {
   "cell_type": "code",
   "execution_count": 22,
   "id": "50eab1b8",
   "metadata": {},
   "outputs": [],
   "source": [
    "import pandas as pd"
   ]
  },
  {
   "cell_type": "code",
   "execution_count": 3,
   "id": "bef12c99",
   "metadata": {},
   "outputs": [],
   "source": [
    "import matplotlib.pyplot as plt"
   ]
  },
  {
   "cell_type": "code",
   "execution_count": 4,
   "id": "29842ac7",
   "metadata": {},
   "outputs": [],
   "source": [
    "pd.set_option(\"display.max_columns\", None)"
   ]
  },
  {
   "cell_type": "code",
   "execution_count": 5,
   "id": "b59f07fc",
   "metadata": {},
   "outputs": [],
   "source": [
    "df = pd.read_csv(\"C:\\\\Users\\\\Candice\\\\Desktop\\\\Python practice\\\\TMA_Data.csv\")"
   ]
  },
  {
   "cell_type": "code",
   "execution_count": 6,
   "id": "c685bcf8",
   "metadata": {},
   "outputs": [],
   "source": [
    "df1 = df.groupby(['Unit']) ['Salary'].sum(numeric_only=False)"
   ]
  },
  {
   "cell_type": "code",
   "execution_count": 7,
   "id": "ff419c3a",
   "metadata": {},
   "outputs": [],
   "source": [
    "search_product_df = df.groupby(['Unit'])"
   ]
  },
  {
   "cell_type": "code",
   "execution_count": 8,
   "id": "cb908e75",
   "metadata": {},
   "outputs": [],
   "source": [
    "## find the average of salary per business unit"
   ]
  },
  {
   "cell_type": "code",
   "execution_count": 9,
   "id": "376e70ec",
   "metadata": {},
   "outputs": [],
   "source": [
    "def findavg(itemname):\n",
    "    selected_items = search_product_df.get_group(itemname)\n",
    "    unit_count=selected_items['Salary'].count()\n",
    "    unit_total_sal=selected_items['Salary'].sum()\n",
    "    unit_avg=round(unit_total_sal/unit_count,2)\n",
    "    return unit_avg"
   ]
  },
  {
   "cell_type": "code",
   "execution_count": 10,
   "id": "b1418756",
   "metadata": {},
   "outputs": [],
   "source": [
    "## Assign average value to dictionaries"
   ]
  },
  {
   "cell_type": "code",
   "execution_count": 11,
   "id": "1f08e9ef",
   "metadata": {},
   "outputs": [],
   "source": [
    "data = {'C-Level':(findavg('C-Level')),'Engineering':(findavg('Engineering')),\\\n",
    "         'IT':(findavg('IT')),'Admin':(findavg('Admin ')),'Sales':(findavg('Sales')),\\\n",
    "        'Manufacturing':(findavg('Manufacturing'))}"
   ]
  },
  {
   "cell_type": "code",
   "execution_count": 12,
   "id": "05dd78b7",
   "metadata": {},
   "outputs": [],
   "source": [
    "units = list(data.keys())"
   ]
  },
  {
   "cell_type": "code",
   "execution_count": 13,
   "id": "f5ac6ed0",
   "metadata": {},
   "outputs": [
    {
     "name": "stdout",
     "output_type": "stream",
     "text": [
      "['C-Level', 'Engineering', 'IT', 'Admin', 'Sales', 'Manufacturing']\n"
     ]
    }
   ],
   "source": [
    "print(units)"
   ]
  },
  {
   "cell_type": "code",
   "execution_count": 29,
   "id": "8d040008",
   "metadata": {},
   "outputs": [],
   "source": [
    "values = list(data.values())"
   ]
  },
  {
   "cell_type": "code",
   "execution_count": 15,
   "id": "503aca33",
   "metadata": {},
   "outputs": [
    {
     "name": "stdout",
     "output_type": "stream",
     "text": [
      "[250000.0, 95867.0, 95550.76, 77315.29, 71426.59, 59412.91]\n"
     ]
    }
   ],
   "source": [
    "print(values)"
   ]
  },
  {
   "cell_type": "code",
   "execution_count": 16,
   "id": "085a7440",
   "metadata": {},
   "outputs": [
    {
     "data": {
      "text/plain": [
       "<Figure size 1440x720 with 0 Axes>"
      ]
     },
     "metadata": {},
     "output_type": "display_data"
    }
   ],
   "source": [
    "figure = plt.figure(figsize = (20,10))"
   ]
  },
  {
   "cell_type": "code",
   "execution_count": 31,
   "id": "5fe05e82",
   "metadata": {},
   "outputs": [
    {
     "data": {
      "text/html": [
       "<div>\n",
       "<style scoped>\n",
       "    .dataframe tbody tr th:only-of-type {\n",
       "        vertical-align: middle;\n",
       "    }\n",
       "\n",
       "    .dataframe tbody tr th {\n",
       "        vertical-align: top;\n",
       "    }\n",
       "\n",
       "    .dataframe thead th {\n",
       "        text-align: right;\n",
       "    }\n",
       "</style>\n",
       "<table border=\"1\" class=\"dataframe\">\n",
       "  <thead>\n",
       "    <tr style=\"text-align: right;\">\n",
       "      <th></th>\n",
       "      <th>Unit</th>\n",
       "      <th>Average of Salary</th>\n",
       "    </tr>\n",
       "  </thead>\n",
       "  <tbody>\n",
       "    <tr>\n",
       "      <th>0</th>\n",
       "      <td>C-Level</td>\n",
       "      <td>250000</td>\n",
       "    </tr>\n",
       "    <tr>\n",
       "      <th>1</th>\n",
       "      <td>Engineering</td>\n",
       "      <td>95867</td>\n",
       "    </tr>\n",
       "    <tr>\n",
       "      <th>2</th>\n",
       "      <td>IT</td>\n",
       "      <td>95551</td>\n",
       "    </tr>\n",
       "    <tr>\n",
       "      <th>3</th>\n",
       "      <td>Admin</td>\n",
       "      <td>77315</td>\n",
       "    </tr>\n",
       "    <tr>\n",
       "      <th>4</th>\n",
       "      <td>Sales</td>\n",
       "      <td>71427</td>\n",
       "    </tr>\n",
       "    <tr>\n",
       "      <th>5</th>\n",
       "      <td>Manufacturing</td>\n",
       "      <td>59413</td>\n",
       "    </tr>\n",
       "    <tr>\n",
       "      <th>6</th>\n",
       "      <td>Grand Total</td>\n",
       "      <td>69119</td>\n",
       "    </tr>\n",
       "  </tbody>\n",
       "</table>\n",
       "</div>"
      ],
      "text/plain": [
       "            Unit  Average of Salary\n",
       "0        C-Level             250000\n",
       "1    Engineering              95867\n",
       "2             IT              95551\n",
       "3          Admin              77315\n",
       "4          Sales              71427\n",
       "5  Manufacturing              59413\n",
       "6    Grand Total              69119"
      ]
     },
     "execution_count": 31,
     "metadata": {},
     "output_type": "execute_result"
    }
   ],
   "source": [
    "from tabulate import tabulate\n",
    "Table = pd.DataFrame({\"Unit\":['C-Level', 'Engineering', 'IT', 'Admin', 'Sales', 'Manufacturing', 'Grand Total'], \"Average of Salary\":[250000, 95867, 95551, 77315, 71427, 59413, 69119]})\n",
    "Table\n",
    "\n",
    "## Summarised table for Unit & Average of Salary is produced"
   ]
  },
  {
   "cell_type": "code",
   "execution_count": 18,
   "id": "41c85889",
   "metadata": {},
   "outputs": [
    {
     "data": {
      "text/plain": [
       "Text(0.5, 1.0, 'Average of Salary by Business Unit')"
      ]
     },
     "execution_count": 18,
     "metadata": {},
     "output_type": "execute_result"
    },
    {
     "data": {
      "image/png": "[encoded data removed]",
      "text/plain": [
       "<Figure size 432x288 with 1 Axes>"
      ]
     },
     "metadata": {
      "needs_background": "light"
     },
     "output_type": "display_data"
    }
   ],
   "source": [
    "plt.bar(units, values, color = 'blue', width = 0.5)\n",
    "plt.xlabel(\"Business Unit\")\n",
    "plt.ylabel(\"Average salary\")\n",
    "plt.title(\"Average of Salary by Business Unit\")\n",
    "\n",
    "## Average of Salary by Business Unit Chart is produced"
   ]
  },
  {
   "cell_type": "code",
   "execution_count": 19,
   "id": "133e9f2d",
   "metadata": {},
   "outputs": [],
   "source": [
    "plt.show()"
   ]
  },
  {
   "cell_type": "code",
   "execution_count": null,
   "id": "d8f241b6",
   "metadata": {},
   "outputs": [],
   "source": []
  }
 ],
 "metadata": {
  "kernelspec": {
   "display_name": "Python 3 (ipykernel)",
   "language": "python",
   "name": "python3"
  },
  "language_info": {
   "codemirror_mode": {
    "name": "ipython",
    "version": 3
   },
   "file_extension": ".py",
   "mimetype": "text/x-python",
   "name": "python",
   "nbconvert_exporter": "python",
   "pygments_lexer": "ipython3",
   "version": "3.9.12"
  }
 },
 "nbformat": 4,
 "nbformat_minor": 5
}
