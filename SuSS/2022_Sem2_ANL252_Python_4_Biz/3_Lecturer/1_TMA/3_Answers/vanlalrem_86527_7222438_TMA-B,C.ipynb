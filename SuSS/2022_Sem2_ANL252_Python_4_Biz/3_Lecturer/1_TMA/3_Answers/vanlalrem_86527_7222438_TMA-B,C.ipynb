{
 "cells": [
  {
   "cell_type": "markdown",
   "id": "366410b8",
   "metadata": {},
   "source": [
    "### Questin 1(b)Read the data and create the same two (2) charts and their corresponding summarised tables produced in Part (a), using Python."
   ]
  },
  {
   "cell_type": "markdown",
   "id": "c937f501",
   "metadata": {},
   "source": [
    "#### Count of Citizenship"
   ]
  },
  {
   "cell_type": "code",
   "execution_count": 1,
   "id": "20127b24",
   "metadata": {},
   "outputs": [
    {
     "name": "stdout",
     "output_type": "stream",
     "text": [
      "    Citizenship  Count of Citizenship\n",
      "0       Citizen                   197\n",
      "1  Non-Resident                    16\n",
      "2            PR                    37\n"
     ]
    }
   ],
   "source": [
    "import pandas as pd\n",
    "\n",
    "data = {'Citizenship': ['Citizen', 'Non-Resident', 'PR'],\n",
    "        'Count of Citizenship': [197, 16, 37]\n",
    "        }\n",
    "\n",
    "df = pd.DataFrame(data)\n",
    "\n",
    "print (df)"
   ]
  },
  {
   "cell_type": "code",
   "execution_count": 2,
   "id": "96e011c6",
   "metadata": {},
   "outputs": [
    {
     "data": {
      "image/png": "[encoded data removed]",
      "text/plain": [
       "<Figure size 432x288 with 1 Axes>"
      ]
     },
     "metadata": {
      "needs_background": "light"
     },
     "output_type": "display_data"
    }
   ],
   "source": [
    "import pandas as pd\n",
    "import matplotlib.pyplot as plt\n",
    "   \n",
    "data = {'Citizenship': ['Citizen', 'Non-Resident', 'PR'],\n",
    "        'Count of Citizenship': [197, 16, 37]}\n",
    "\n",
    "df = pd.DataFrame(data,columns=['Citizenship', 'Count of Citizenship'])\n",
    "df.plot(x ='Citizenship', y='Count of Citizenship', kind = 'bar')\n",
    "plt.show()"
   ]
  },
  {
   "cell_type": "markdown",
   "id": "a8eea29d",
   "metadata": {},
   "source": [
    "#### Count of Performance Score"
   ]
  },
  {
   "cell_type": "code",
   "execution_count": 3,
   "id": "62899d86",
   "metadata": {},
   "outputs": [
    {
     "name": "stdout",
     "output_type": "stream",
     "text": [
      "  Performance Score  Count of Performance Score\n",
      "0            Exceed                          30\n",
      "1              Meet                         201\n",
      "2               PIP                           2\n",
      "3        To Improve                          17\n"
     ]
    }
   ],
   "source": [
    "import pandas as pd\n",
    "\n",
    "data = {'Performance Score': ['Exceed', 'Meet', 'PIP', 'To Improve'],\n",
    "        'Count of Performance Score': [30, 201, 2, 17]\n",
    "        }\n",
    "\n",
    "df = pd.DataFrame(data)\n",
    "\n",
    "print (df)"
   ]
  },
  {
   "cell_type": "code",
   "execution_count": 4,
   "id": "74f81bbf",
   "metadata": {},
   "outputs": [
    {
     "data": {
      "image/png": "[encoded data removed]",
      "text/plain": [
       "<Figure size 432x288 with 1 Axes>"
      ]
     },
     "metadata": {
      "needs_background": "light"
     },
     "output_type": "display_data"
    }
   ],
   "source": [
    "import pandas as pd\n",
    "import matplotlib.pyplot as plt\n",
    "   \n",
    "data = {'Performance Score': ['Exceed', 'Meet', 'PIP', 'To Improve'],\n",
    "        'Count of Performance Score': [30, 201, 2, 17]\n",
    "        }\n",
    "\n",
    "df = pd.DataFrame(data,columns=['Performance Score', 'Count of Performance Score'])\n",
    "df.plot(x ='Performance Score', y='Count of Performance Score', kind = 'bar')\n",
    "plt.show()"
   ]
  },
  {
   "cell_type": "markdown",
   "id": "f5ed437d",
   "metadata": {},
   "source": [
    "### Question 1(c) Find the length of service of all the staff, using Python. For staff who has not left the organization, use 1st May 2022 as the LeftDate. State the minimum, maximum and average length of service, expressing in years, rounded to 1 decimal place. (1 year is taken as 365 days.)"
   ]
  },
  {
   "cell_type": "markdown",
   "id": "46b181fa",
   "metadata": {},
   "source": [
    "#### Import TMA_Data esxcel table to Python"
   ]
  },
  {
   "cell_type": "code",
   "execution_count": 5,
   "id": "e3e78039",
   "metadata": {},
   "outputs": [
    {
     "name": "stdout",
     "output_type": "stream",
     "text": [
      "<class 'pandas.core.frame.DataFrame'>\n"
     ]
    },
    {
     "data": {
      "text/html": [
       "<div>\n",
       "<style scoped>\n",
       "    .dataframe tbody tr th:only-of-type {\n",
       "        vertical-align: middle;\n",
       "    }\n",
       "\n",
       "    .dataframe tbody tr th {\n",
       "        vertical-align: top;\n",
       "    }\n",
       "\n",
       "    .dataframe thead th {\n",
       "        text-align: right;\n",
       "    }\n",
       "</style>\n",
       "<table border=\"1\" class=\"dataframe\">\n",
       "  <thead>\n",
       "    <tr style=\"text-align: right;\">\n",
       "      <th></th>\n",
       "      <th>ID</th>\n",
       "      <th>Staff</th>\n",
       "      <th>BirthYear</th>\n",
       "      <th>Gender</th>\n",
       "      <th>Marital</th>\n",
       "      <th>Citizenship</th>\n",
       "      <th>Minority</th>\n",
       "      <th>JoinDate</th>\n",
       "      <th>LeftDate</th>\n",
       "      <th>Unit</th>\n",
       "      <th>Salary</th>\n",
       "      <th>PerformanceScore</th>\n",
       "      <th>Survey</th>\n",
       "      <th>Satisfaction</th>\n",
       "      <th>Absence</th>\n",
       "    </tr>\n",
       "  </thead>\n",
       "  <tbody>\n",
       "    <tr>\n",
       "      <th>0</th>\n",
       "      <td>1</td>\n",
       "      <td>Aairah Hastings</td>\n",
       "      <td>1986-07-10 00:00:00</td>\n",
       "      <td>F</td>\n",
       "      <td>Single</td>\n",
       "      <td>Citizen</td>\n",
       "      <td>Yes</td>\n",
       "      <td>2012-02-04 00:00:00</td>\n",
       "      <td>NaN</td>\n",
       "      <td>Manufacturing</td>\n",
       "      <td>46335</td>\n",
       "      <td>Meet</td>\n",
       "      <td>3.4</td>\n",
       "      <td>5</td>\n",
       "      <td>15</td>\n",
       "    </tr>\n",
       "    <tr>\n",
       "      <th>1</th>\n",
       "      <td>2</td>\n",
       "      <td>Aaminah Mcmillan</td>\n",
       "      <td>05/25/86</td>\n",
       "      <td>F</td>\n",
       "      <td>Married</td>\n",
       "      <td>Citizen</td>\n",
       "      <td>No</td>\n",
       "      <td>2014-12-05 00:00:00</td>\n",
       "      <td>NaN</td>\n",
       "      <td>Manufacturing</td>\n",
       "      <td>66825</td>\n",
       "      <td>Meet</td>\n",
       "      <td>4.6</td>\n",
       "      <td>3</td>\n",
       "      <td>20</td>\n",
       "    </tr>\n",
       "    <tr>\n",
       "      <th>2</th>\n",
       "      <td>3</td>\n",
       "      <td>Aamna Howell</td>\n",
       "      <td>04/20/85</td>\n",
       "      <td>F</td>\n",
       "      <td>Single</td>\n",
       "      <td>Citizen</td>\n",
       "      <td>No</td>\n",
       "      <td>9/29/2014</td>\n",
       "      <td>NaN</td>\n",
       "      <td>Manufacturing</td>\n",
       "      <td>60446</td>\n",
       "      <td>Meet</td>\n",
       "      <td>3.4</td>\n",
       "      <td>4</td>\n",
       "      <td>14</td>\n",
       "    </tr>\n",
       "    <tr>\n",
       "      <th>3</th>\n",
       "      <td>4</td>\n",
       "      <td>Aayan Ferrell</td>\n",
       "      <td>1984-10-06 00:00:00</td>\n",
       "      <td>M</td>\n",
       "      <td>Married</td>\n",
       "      <td>Citizen</td>\n",
       "      <td>No</td>\n",
       "      <td>2016-05-01 00:00:00</td>\n",
       "      <td>NaN</td>\n",
       "      <td>Admin</td>\n",
       "      <td>93046</td>\n",
       "      <td>Meet</td>\n",
       "      <td>4.1</td>\n",
       "      <td>4</td>\n",
       "      <td>20</td>\n",
       "    </tr>\n",
       "    <tr>\n",
       "      <th>4</th>\n",
       "      <td>5</td>\n",
       "      <td>Ace Potter</td>\n",
       "      <td>1989-08-09 00:00:00</td>\n",
       "      <td>F</td>\n",
       "      <td>Divorced</td>\n",
       "      <td>Citizen</td>\n",
       "      <td>No</td>\n",
       "      <td>2011-11-07 00:00:00</td>\n",
       "      <td>2020-06-09 00:00:00</td>\n",
       "      <td>Manufacturing</td>\n",
       "      <td>50825</td>\n",
       "      <td>Meet</td>\n",
       "      <td>5.0</td>\n",
       "      <td>4</td>\n",
       "      <td>2</td>\n",
       "    </tr>\n",
       "  </tbody>\n",
       "</table>\n",
       "</div>"
      ],
      "text/plain": [
       "   ID             Staff            BirthYear Gender   Marital Citizenship  \\\n",
       "0   1   Aairah Hastings  1986-07-10 00:00:00      F    Single     Citizen   \n",
       "1   2  Aaminah Mcmillan             05/25/86      F   Married     Citizen   \n",
       "2   3      Aamna Howell             04/20/85      F    Single     Citizen   \n",
       "3   4     Aayan Ferrell  1984-10-06 00:00:00     M    Married     Citizen   \n",
       "4   5        Ace Potter  1989-08-09 00:00:00      F  Divorced     Citizen   \n",
       "\n",
       "  Minority             JoinDate             LeftDate           Unit  Salary  \\\n",
       "0      Yes  2012-02-04 00:00:00                  NaN  Manufacturing   46335   \n",
       "1       No  2014-12-05 00:00:00                  NaN  Manufacturing   66825   \n",
       "2       No            9/29/2014                  NaN  Manufacturing   60446   \n",
       "3       No  2016-05-01 00:00:00                  NaN         Admin    93046   \n",
       "4       No  2011-11-07 00:00:00  2020-06-09 00:00:00  Manufacturing   50825   \n",
       "\n",
       "  PerformanceScore  Survey  Satisfaction  Absence  \n",
       "0             Meet     3.4             5       15  \n",
       "1             Meet     4.6             3       20  \n",
       "2             Meet     3.4             4       14  \n",
       "3             Meet     4.1             4       20  \n",
       "4             Meet     5.0             4        2  "
      ]
     },
     "execution_count": 5,
     "metadata": {},
     "output_type": "execute_result"
    }
   ],
   "source": [
    "import pandas as pd\n",
    "import numpy as np\n",
    "import datetime as dt\n",
    "from datetime import date\n",
    "import datetime\n",
    "\n",
    "Data = pd.read_excel (r'TMA.xlsx')\n",
    "print(type(Data))\n",
    "Data.head()"
   ]
  },
  {
   "cell_type": "markdown",
   "id": "a6dbf70e",
   "metadata": {},
   "source": [
    "#### Find the length of service of all the staff using Python"
   ]
  },
  {
   "cell_type": "code",
   "execution_count": 6,
   "id": "8a171c26",
   "metadata": {},
   "outputs": [
    {
     "data": {
      "text/plain": [
       "0   2022-05-01\n",
       "1   2022-05-01\n",
       "2   2022-05-01\n",
       "3   2022-05-01\n",
       "4   2020-06-09\n",
       "Name: LeftDate, dtype: datetime64[ns]"
      ]
     },
     "execution_count": 6,
     "metadata": {},
     "output_type": "execute_result"
    }
   ],
   "source": [
    "Data[\"JoinDate\"] = pd.to_datetime(Data[\"JoinDate\"])\n",
    "Data[\"LeftDate\"] = Data[\"LeftDate\"].replace(np.NaN,\"2022-05-01\")\n",
    "Data[\"LeftDate\"] = pd.to_datetime(Data[\"LeftDate\"])\n",
    "Data[\"LeftDate\"].head()                               "
   ]
  },
  {
   "cell_type": "code",
   "execution_count": 7,
   "id": "d5453be2",
   "metadata": {},
   "outputs": [
    {
     "data": {
      "text/plain": [
       "0   2012-02-04\n",
       "1   2014-12-05\n",
       "2   2014-09-29\n",
       "3   2016-05-01\n",
       "4   2011-11-07\n",
       "Name: JoinDate, dtype: datetime64[ns]"
      ]
     },
     "execution_count": 7,
     "metadata": {},
     "output_type": "execute_result"
    }
   ],
   "source": [
    "Data[\"JoinDate\"].head() "
   ]
  },
  {
   "cell_type": "code",
   "execution_count": 8,
   "id": "f1aec1b1",
   "metadata": {},
   "outputs": [
    {
     "data": {
      "text/plain": [
       "0   3739 days\n",
       "1   2704 days\n",
       "2   2771 days\n",
       "3   2191 days\n",
       "4   3137 days\n",
       "Name: Duration, dtype: timedelta64[ns]"
      ]
     },
     "execution_count": 8,
     "metadata": {},
     "output_type": "execute_result"
    }
   ],
   "source": [
    "Data[\"Duration\"]=Data[\"LeftDate\"].sub(Data[\"JoinDate\"])\n",
    "Data[\"Duration\"].head()"
   ]
  },
  {
   "cell_type": "code",
   "execution_count": 9,
   "id": "92521ef9",
   "metadata": {},
   "outputs": [
    {
     "data": {
      "text/plain": [
       "0    10.24\n",
       "1     7.41\n",
       "2     7.59\n",
       "3     6.00\n",
       "4     8.59\n",
       "Name: Duration, dtype: float64"
      ]
     },
     "execution_count": 9,
     "metadata": {},
     "output_type": "execute_result"
    }
   ],
   "source": [
    "Data[\"Duration\"] = Data[\"Duration\"].dt.days\n",
    "Data[\"Duration\"] = Data[\"Duration\"]/365\n",
    "Data[\"Duration\"] = Data[\"Duration\"].round(decimals=2)\n",
    "Data[\"Duration\"].head()"
   ]
  },
  {
   "cell_type": "code",
   "execution_count": 10,
   "id": "115c3dbe",
   "metadata": {},
   "outputs": [
    {
     "data": {
      "text/plain": [
       "count    250.000000\n",
       "mean       6.768440\n",
       "std        3.158164\n",
       "min        0.070000\n",
       "25%        4.640000\n",
       "50%        7.280000\n",
       "75%        8.740000\n",
       "max       15.670000\n",
       "Name: Duration, dtype: float64"
      ]
     },
     "execution_count": 10,
     "metadata": {},
     "output_type": "execute_result"
    }
   ],
   "source": [
    "Data[\"Duration\"].describe()"
   ]
  },
  {
   "cell_type": "code",
   "execution_count": null,
   "id": "907073db",
   "metadata": {},
   "outputs": [],
   "source": []
  }
 ],
 "metadata": {
  "kernelspec": {
   "display_name": "Python 3 (ipykernel)",
   "language": "python",
   "name": "python3"
  },
  "language_info": {
   "codemirror_mode": {
    "name": "ipython",
    "version": 3
   },
   "file_extension": ".py",
   "mimetype": "text/x-python",
   "name": "python",
   "nbconvert_exporter": "python",
   "pygments_lexer": "ipython3",
   "version": "3.9.12"
  }
 },
 "nbformat": 4,
 "nbformat_minor": 5
}
