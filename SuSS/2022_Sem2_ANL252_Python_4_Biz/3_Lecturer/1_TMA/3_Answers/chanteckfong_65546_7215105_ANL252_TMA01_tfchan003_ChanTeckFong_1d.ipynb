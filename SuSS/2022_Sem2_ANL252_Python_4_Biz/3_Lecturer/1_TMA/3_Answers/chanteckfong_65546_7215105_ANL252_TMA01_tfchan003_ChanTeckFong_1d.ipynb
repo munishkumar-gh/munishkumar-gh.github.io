{
 "cells": [
  {
   "cell_type": "code",
   "execution_count": 1,
   "id": "b937d261",
   "metadata": {},
   "outputs": [],
   "source": [
    "import pandas as pd"
   ]
  },
  {
   "cell_type": "code",
   "execution_count": 2,
   "id": "101b31b6",
   "metadata": {},
   "outputs": [],
   "source": [
    "df = pd.read_csv(\"C:\\\\Users\\\\Candice\\\\Desktop\\\\Python practice\\\\TMA_Data.csv\")"
   ]
  },
  {
   "cell_type": "code",
   "execution_count": 4,
   "id": "c17179a1",
   "metadata": {},
   "outputs": [
    {
     "name": "stdout",
     "output_type": "stream",
     "text": [
      "Enter the full name of employee to enquire or type END to exit:\n",
      "Adaline Deacon\n",
      "Adaline Deacon is no more with us!\n",
      "\n",
      "Enter the full name of employee to enquire or type END to exit:\n",
      "Aaminah Mcmillan\n",
      "Aaminah Mcmillan is still around.\n",
      "\n",
      "Enter the full name of employee to enquire or type END to exit:\n",
      "END\n",
      "\n",
      "Thanks you for using ME :)\n"
     ]
    }
   ],
   "source": [
    "while True:\n",
    "    keyinname=input(\"Enter the full name of employee to enquire or type END to exit:\\n\")\n",
    "    if keyinname == \"END\" or keyinname ==\"end\" or keyinname ==\"End\":  ## Request user to exit from the loop\n",
    "        print(\"\\nThanks you for using ME :)\")\n",
    "        break\n",
    "    test=df[df['Staff'].str.match(keyinname)] ## to check the column of Staff for name matching\n",
    "    if test.empty:\n",
    "        print(\"\\033[1m\",keyinname,\"\\033[0m\" , \"cannot be found in the system.\\n\")\n",
    "    else:\n",
    "        if (pd.isnull(test['LeftDate'].iloc[0])) == True:\n",
    "            print(keyinname + \" is still around.\\n\") ## if the name can be found from the Staff column\n",
    "        else:    \n",
    "            print(keyinname + \" is no more with us!\\n\")  ## if the name cannot be found from the Staff column"
   ]
  },
  {
   "cell_type": "code",
   "execution_count": null,
   "id": "78d44d83",
   "metadata": {},
   "outputs": [],
   "source": []
  }
 ],
 "metadata": {
  "kernelspec": {
   "display_name": "Python 3 (ipykernel)",
   "language": "python",
   "name": "python3"
  },
  "language_info": {
   "codemirror_mode": {
    "name": "ipython",
    "version": 3
   },
   "file_extension": ".py",
   "mimetype": "text/x-python",
   "name": "python",
   "nbconvert_exporter": "python",
   "pygments_lexer": "ipython3",
   "version": "3.9.12"
  }
 },
 "nbformat": 4,
 "nbformat_minor": 5
}
