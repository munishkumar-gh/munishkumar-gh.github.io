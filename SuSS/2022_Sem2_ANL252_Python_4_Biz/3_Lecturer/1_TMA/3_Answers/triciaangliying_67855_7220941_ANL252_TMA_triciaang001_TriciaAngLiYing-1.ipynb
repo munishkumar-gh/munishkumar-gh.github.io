{
 "cells": [
  {
   "cell_type": "markdown",
   "id": "6690bfba",
   "metadata": {},
   "source": [
    "## Importing libraries"
   ]
  },
  {
   "cell_type": "code",
   "execution_count": 1,
   "id": "7e71aa55",
   "metadata": {},
   "outputs": [],
   "source": [
    "# Pandas for managing datasets\n",
    "import pandas as pd"
   ]
  },
  {
   "cell_type": "code",
   "execution_count": 2,
   "id": "7d9be766",
   "metadata": {},
   "outputs": [],
   "source": [
    "# Matplotlib for additional customization\n",
    "from matplotlib import pyplot as plt\n",
    "%matplotlib inline"
   ]
  },
  {
   "cell_type": "code",
   "execution_count": 3,
   "id": "a4e72bfe",
   "metadata": {},
   "outputs": [],
   "source": [
    "# Seaborn for plotting and styling\n",
    "import seaborn as sns"
   ]
  },
  {
   "cell_type": "markdown",
   "id": "0e9426f9",
   "metadata": {},
   "source": [
    "## Importing dataset from excel file"
   ]
  },
  {
   "cell_type": "code",
   "execution_count": 5,
   "id": "80275e57",
   "metadata": {},
   "outputs": [
    {
     "data": {
      "text/html": [
       "<div>\n",
       "<style scoped>\n",
       "    .dataframe tbody tr th:only-of-type {\n",
       "        vertical-align: middle;\n",
       "    }\n",
       "\n",
       "    .dataframe tbody tr th {\n",
       "        vertical-align: top;\n",
       "    }\n",
       "\n",
       "    .dataframe thead th {\n",
       "        text-align: right;\n",
       "    }\n",
       "</style>\n",
       "<table border=\"1\" class=\"dataframe\">\n",
       "  <thead>\n",
       "    <tr style=\"text-align: right;\">\n",
       "      <th></th>\n",
       "      <th>ID</th>\n",
       "      <th>Staff</th>\n",
       "      <th>BirthYear</th>\n",
       "      <th>Gender</th>\n",
       "      <th>Marital</th>\n",
       "      <th>Citizenship</th>\n",
       "      <th>Minority</th>\n",
       "      <th>JoinDate</th>\n",
       "      <th>LeftDate</th>\n",
       "      <th>Unit</th>\n",
       "      <th>Salary</th>\n",
       "      <th>PerformanceScore</th>\n",
       "      <th>Survey</th>\n",
       "      <th>Satisfaction</th>\n",
       "      <th>Absence</th>\n",
       "    </tr>\n",
       "  </thead>\n",
       "  <tbody>\n",
       "    <tr>\n",
       "      <th>0</th>\n",
       "      <td>1</td>\n",
       "      <td>Aairah Hastings</td>\n",
       "      <td>1986-07-10 00:00:00</td>\n",
       "      <td>F</td>\n",
       "      <td>Single</td>\n",
       "      <td>Citizen</td>\n",
       "      <td>Yes</td>\n",
       "      <td>2012-02-04 00:00:00</td>\n",
       "      <td>NaN</td>\n",
       "      <td>Manufacturing</td>\n",
       "      <td>46335</td>\n",
       "      <td>Meet</td>\n",
       "      <td>3.40</td>\n",
       "      <td>5</td>\n",
       "      <td>15</td>\n",
       "    </tr>\n",
       "    <tr>\n",
       "      <th>1</th>\n",
       "      <td>2</td>\n",
       "      <td>Aaminah Mcmillan</td>\n",
       "      <td>05/25/86</td>\n",
       "      <td>F</td>\n",
       "      <td>Married</td>\n",
       "      <td>Citizen</td>\n",
       "      <td>No</td>\n",
       "      <td>2014-12-05 00:00:00</td>\n",
       "      <td>NaN</td>\n",
       "      <td>Manufacturing</td>\n",
       "      <td>66825</td>\n",
       "      <td>Meet</td>\n",
       "      <td>4.60</td>\n",
       "      <td>3</td>\n",
       "      <td>20</td>\n",
       "    </tr>\n",
       "    <tr>\n",
       "      <th>2</th>\n",
       "      <td>3</td>\n",
       "      <td>Aamna Howell</td>\n",
       "      <td>04/20/85</td>\n",
       "      <td>F</td>\n",
       "      <td>Single</td>\n",
       "      <td>Citizen</td>\n",
       "      <td>No</td>\n",
       "      <td>9/29/2014</td>\n",
       "      <td>NaN</td>\n",
       "      <td>Manufacturing</td>\n",
       "      <td>60446</td>\n",
       "      <td>Meet</td>\n",
       "      <td>3.40</td>\n",
       "      <td>4</td>\n",
       "      <td>14</td>\n",
       "    </tr>\n",
       "    <tr>\n",
       "      <th>3</th>\n",
       "      <td>4</td>\n",
       "      <td>Aayan Ferrell</td>\n",
       "      <td>1984-10-06 00:00:00</td>\n",
       "      <td>M</td>\n",
       "      <td>Married</td>\n",
       "      <td>Citizen</td>\n",
       "      <td>No</td>\n",
       "      <td>2016-05-01 00:00:00</td>\n",
       "      <td>NaN</td>\n",
       "      <td>Admin</td>\n",
       "      <td>93046</td>\n",
       "      <td>Meet</td>\n",
       "      <td>4.10</td>\n",
       "      <td>4</td>\n",
       "      <td>20</td>\n",
       "    </tr>\n",
       "    <tr>\n",
       "      <th>4</th>\n",
       "      <td>5</td>\n",
       "      <td>Ace Potter</td>\n",
       "      <td>1989-08-09 00:00:00</td>\n",
       "      <td>F</td>\n",
       "      <td>Divorced</td>\n",
       "      <td>Citizen</td>\n",
       "      <td>No</td>\n",
       "      <td>2011-11-07 00:00:00</td>\n",
       "      <td>2020-06-09 00:00:00</td>\n",
       "      <td>Manufacturing</td>\n",
       "      <td>50825</td>\n",
       "      <td>Meet</td>\n",
       "      <td>5.00</td>\n",
       "      <td>4</td>\n",
       "      <td>2</td>\n",
       "    </tr>\n",
       "    <tr>\n",
       "      <th>...</th>\n",
       "      <td>...</td>\n",
       "      <td>...</td>\n",
       "      <td>...</td>\n",
       "      <td>...</td>\n",
       "      <td>...</td>\n",
       "      <td>...</td>\n",
       "      <td>...</td>\n",
       "      <td>...</td>\n",
       "      <td>...</td>\n",
       "      <td>...</td>\n",
       "      <td>...</td>\n",
       "      <td>...</td>\n",
       "      <td>...</td>\n",
       "      <td>...</td>\n",
       "      <td>...</td>\n",
       "    </tr>\n",
       "    <tr>\n",
       "      <th>245</th>\n",
       "      <td>246</td>\n",
       "      <td>Zaina Parrish</td>\n",
       "      <td>1981-11-10 00:00:00</td>\n",
       "      <td>F</td>\n",
       "      <td>Married</td>\n",
       "      <td>Non-Resident</td>\n",
       "      <td>No</td>\n",
       "      <td>2/16/2015</td>\n",
       "      <td>NaN</td>\n",
       "      <td>IT</td>\n",
       "      <td>89883</td>\n",
       "      <td>Meet</td>\n",
       "      <td>3.69</td>\n",
       "      <td>5</td>\n",
       "      <td>15</td>\n",
       "    </tr>\n",
       "    <tr>\n",
       "      <th>246</th>\n",
       "      <td>247</td>\n",
       "      <td>Zane Downes</td>\n",
       "      <td>10/24/87</td>\n",
       "      <td>M</td>\n",
       "      <td>Married</td>\n",
       "      <td>Non-Resident</td>\n",
       "      <td>No</td>\n",
       "      <td>4/20/2017</td>\n",
       "      <td>NaN</td>\n",
       "      <td>IT</td>\n",
       "      <td>90100</td>\n",
       "      <td>Meet</td>\n",
       "      <td>3.40</td>\n",
       "      <td>3</td>\n",
       "      <td>14</td>\n",
       "    </tr>\n",
       "    <tr>\n",
       "      <th>247</th>\n",
       "      <td>248</td>\n",
       "      <td>Zayd Farley</td>\n",
       "      <td>1970-09-07 00:00:00</td>\n",
       "      <td>M</td>\n",
       "      <td>Single</td>\n",
       "      <td>Non-Resident</td>\n",
       "      <td>No</td>\n",
       "      <td>2014-05-01 00:00:00</td>\n",
       "      <td>NaN</td>\n",
       "      <td>IT</td>\n",
       "      <td>138888</td>\n",
       "      <td>Exceed</td>\n",
       "      <td>4.30</td>\n",
       "      <td>5</td>\n",
       "      <td>4</td>\n",
       "    </tr>\n",
       "    <tr>\n",
       "      <th>248</th>\n",
       "      <td>249</td>\n",
       "      <td>Zoya Easton</td>\n",
       "      <td>1980-02-08 00:00:00</td>\n",
       "      <td>F</td>\n",
       "      <td>Single</td>\n",
       "      <td>Non-Resident</td>\n",
       "      <td>No</td>\n",
       "      <td>8/13/2012</td>\n",
       "      <td>2015-01-09 00:00:00</td>\n",
       "      <td>Manufacturing</td>\n",
       "      <td>50274</td>\n",
       "      <td>To Improve</td>\n",
       "      <td>2.50</td>\n",
       "      <td>3</td>\n",
       "      <td>13</td>\n",
       "    </tr>\n",
       "    <tr>\n",
       "      <th>249</th>\n",
       "      <td>250</td>\n",
       "      <td>Zuzanna Pruitt</td>\n",
       "      <td>05/21/87</td>\n",
       "      <td>F</td>\n",
       "      <td>Single</td>\n",
       "      <td>Non-Resident</td>\n",
       "      <td>No</td>\n",
       "      <td>3/30/2015</td>\n",
       "      <td>NaN</td>\n",
       "      <td>Manufacturing</td>\n",
       "      <td>55315</td>\n",
       "      <td>Meet</td>\n",
       "      <td>5.00</td>\n",
       "      <td>5</td>\n",
       "      <td>16</td>\n",
       "    </tr>\n",
       "  </tbody>\n",
       "</table>\n",
       "<p>250 rows × 15 columns</p>\n",
       "</div>"
      ],
      "text/plain": [
       "      ID             Staff            BirthYear Gender   Marital  \\\n",
       "0      1   Aairah Hastings  1986-07-10 00:00:00      F    Single   \n",
       "1      2  Aaminah Mcmillan             05/25/86      F   Married   \n",
       "2      3      Aamna Howell             04/20/85      F    Single   \n",
       "3      4     Aayan Ferrell  1984-10-06 00:00:00     M    Married   \n",
       "4      5        Ace Potter  1989-08-09 00:00:00      F  Divorced   \n",
       "..   ...               ...                  ...    ...       ...   \n",
       "245  246     Zaina Parrish  1981-11-10 00:00:00      F   Married   \n",
       "246  247       Zane Downes             10/24/87     M    Married   \n",
       "247  248       Zayd Farley  1970-09-07 00:00:00     M     Single   \n",
       "248  249       Zoya Easton  1980-02-08 00:00:00      F    Single   \n",
       "249  250    Zuzanna Pruitt             05/21/87      F    Single   \n",
       "\n",
       "      Citizenship Minority             JoinDate             LeftDate  \\\n",
       "0         Citizen      Yes  2012-02-04 00:00:00                  NaN   \n",
       "1         Citizen       No  2014-12-05 00:00:00                  NaN   \n",
       "2         Citizen       No            9/29/2014                  NaN   \n",
       "3         Citizen       No  2016-05-01 00:00:00                  NaN   \n",
       "4         Citizen       No  2011-11-07 00:00:00  2020-06-09 00:00:00   \n",
       "..            ...      ...                  ...                  ...   \n",
       "245  Non-Resident       No            2/16/2015                  NaN   \n",
       "246  Non-Resident       No            4/20/2017                  NaN   \n",
       "247  Non-Resident       No  2014-05-01 00:00:00                  NaN   \n",
       "248  Non-Resident       No            8/13/2012  2015-01-09 00:00:00   \n",
       "249  Non-Resident       No            3/30/2015                  NaN   \n",
       "\n",
       "              Unit  Salary PerformanceScore  Survey  Satisfaction  Absence  \n",
       "0    Manufacturing   46335             Meet    3.40             5       15  \n",
       "1    Manufacturing   66825             Meet    4.60             3       20  \n",
       "2    Manufacturing   60446             Meet    3.40             4       14  \n",
       "3           Admin    93046             Meet    4.10             4       20  \n",
       "4    Manufacturing   50825             Meet    5.00             4        2  \n",
       "..             ...     ...              ...     ...           ...      ...  \n",
       "245             IT   89883             Meet    3.69             5       15  \n",
       "246             IT   90100             Meet    3.40             3       14  \n",
       "247             IT  138888           Exceed    4.30             5        4  \n",
       "248  Manufacturing   50274       To Improve    2.50             3       13  \n",
       "249  Manufacturing   55315             Meet    5.00             5       16  \n",
       "\n",
       "[250 rows x 15 columns]"
      ]
     },
     "metadata": {},
     "output_type": "display_data"
    }
   ],
   "source": [
    "# Import data from excel\n",
    "TMAData = pd.read_excel(r'TMA.xlsx') # Replace r'...' with new file location\n",
    "\n",
    "#Setting dataframe\n",
    "df_TMA = pd.DataFrame(TMAData)\n",
    "\n",
    "#Print TMA Dataset\n",
    "display(df_TMA)"
   ]
  },
  {
   "cell_type": "markdown",
   "id": "5a1830cf",
   "metadata": {},
   "source": [
    "## Calculating \"Employees by Performance Score\" for Chart A data table"
   ]
  },
  {
   "cell_type": "code",
   "execution_count": 6,
   "id": "adae1484",
   "metadata": {},
   "outputs": [
    {
     "name": "stdout",
     "output_type": "stream",
     "text": [
      "2\n",
      "17\n",
      "201\n",
      "30\n"
     ]
    }
   ],
   "source": [
    "#Calculating number of employees in \"PIP\"\n",
    "PIP = (sum(df_TMA.PerformanceScore ==\"PIP\"))\n",
    "print(PIP)\n",
    "\n",
    "#Calculating number of employees in \"To Improve\"\n",
    "To_Improve = (sum(df_TMA.PerformanceScore ==\"To Improve\"))\n",
    "print(To_Improve)\n",
    "\n",
    "#Calculating number of employees in \"Meet\"\n",
    "Meet = (sum(df_TMA.PerformanceScore ==\"Meet\"))\n",
    "print(Meet)\n",
    "\n",
    "#Calculating number of employees in \"Exceed\"\n",
    "Exceed = (sum(df_TMA.PerformanceScore ==\"Exceed\"))\n",
    "print(Exceed)"
   ]
  },
  {
   "cell_type": "markdown",
   "id": "ffe9f38d",
   "metadata": {},
   "source": [
    "## Calculating \"Average Satisfaction\" for Chart A data table"
   ]
  },
  {
   "cell_type": "code",
   "execution_count": 7,
   "id": "6bd6bb3a",
   "metadata": {},
   "outputs": [
    {
     "name": "stdout",
     "output_type": "stream",
     "text": [
      "1.5\n",
      "3.6470588235294117\n",
      "3.970149253731343\n",
      "4.1\n"
     ]
    }
   ],
   "source": [
    "#Calculating average satisfaction in \"PIP\"\n",
    "AS_PIP=(df_TMA.loc[df_TMA['PerformanceScore'] == 'PIP', 'Satisfaction'].sum() / PIP)\n",
    "print(AS_PIP)\n",
    "\n",
    "#Calculating average satisfaction in \"To Improve\"\n",
    "AS_To_Improve=(df_TMA.loc[df_TMA['PerformanceScore'] == 'To Improve', 'Satisfaction'].sum() / To_Improve)\n",
    "print(AS_To_Improve)\n",
    "\n",
    "#Calculating average satisfaction in \"Meet\"\n",
    "AS_Meet=(df_TMA.loc[df_TMA['PerformanceScore'] == 'Meet', 'Satisfaction'].sum() / Meet)\n",
    "print(AS_Meet)\n",
    "\n",
    "#Calculating average satisfaction in \"Exceed\"\n",
    "AS_Exceed=(df_TMA.loc[df_TMA['PerformanceScore'] == 'Exceed', 'Satisfaction'].sum() / Exceed)\n",
    "print(AS_Exceed)"
   ]
  },
  {
   "cell_type": "markdown",
   "id": "3e09c99a",
   "metadata": {},
   "source": [
    "## Creating Chart A data table"
   ]
  },
  {
   "cell_type": "code",
   "execution_count": 8,
   "id": "67390ac5",
   "metadata": {},
   "outputs": [
    {
     "data": {
      "text/html": [
       "<div>\n",
       "<style scoped>\n",
       "    .dataframe tbody tr th:only-of-type {\n",
       "        vertical-align: middle;\n",
       "    }\n",
       "\n",
       "    .dataframe tbody tr th {\n",
       "        vertical-align: top;\n",
       "    }\n",
       "\n",
       "    .dataframe thead th {\n",
       "        text-align: right;\n",
       "    }\n",
       "</style>\n",
       "<table border=\"1\" class=\"dataframe\">\n",
       "  <thead>\n",
       "    <tr style=\"text-align: right;\">\n",
       "      <th></th>\n",
       "      <th>Performance Score</th>\n",
       "      <th>Employees by Performance Score</th>\n",
       "      <th>Average Satisfaction</th>\n",
       "    </tr>\n",
       "  </thead>\n",
       "  <tbody>\n",
       "    <tr>\n",
       "      <th>0</th>\n",
       "      <td>PIP</td>\n",
       "      <td>2</td>\n",
       "      <td>1.50</td>\n",
       "    </tr>\n",
       "    <tr>\n",
       "      <th>1</th>\n",
       "      <td>To Improve</td>\n",
       "      <td>17</td>\n",
       "      <td>3.65</td>\n",
       "    </tr>\n",
       "    <tr>\n",
       "      <th>2</th>\n",
       "      <td>Meet</td>\n",
       "      <td>201</td>\n",
       "      <td>3.97</td>\n",
       "    </tr>\n",
       "    <tr>\n",
       "      <th>3</th>\n",
       "      <td>Exceed</td>\n",
       "      <td>30</td>\n",
       "      <td>4.10</td>\n",
       "    </tr>\n",
       "  </tbody>\n",
       "</table>\n",
       "</div>"
      ],
      "text/plain": [
       "  Performance Score  Employees by Performance Score  Average Satisfaction\n",
       "0               PIP                               2                  1.50\n",
       "1        To Improve                              17                  3.65\n",
       "2              Meet                             201                  3.97\n",
       "3            Exceed                              30                  4.10"
      ]
     },
     "metadata": {},
     "output_type": "display_data"
    }
   ],
   "source": [
    "# Creating Chart A data table\n",
    "ChartA_data = {'Performance Score': ['PIP', 'To Improve', 'Meet', 'Exceed'],\n",
    "        'Employees by Performance Score': [PIP, To_Improve, Meet, Exceed],\n",
    "        'Average Satisfaction': [AS_PIP, AS_To_Improve, AS_Meet, AS_Exceed]}\n",
    "\n",
    "# Creating Chart A dataframe\n",
    "ChartA = pd.DataFrame(ChartA_data)\n",
    "\n",
    "# Rounding off Average Satisfaction to 2 decimal places\n",
    "ChartA['Average Satisfaction'] = ChartA['Average Satisfaction'].round(decimals = 2)\n",
    "\n",
    "# Print Chart A data\n",
    "display(ChartA)"
   ]
  },
  {
   "cell_type": "markdown",
   "id": "722993a9",
   "metadata": {},
   "source": [
    "## Creating Chart A, dual-axis chart"
   ]
  },
  {
   "cell_type": "code",
   "execution_count": 9,
   "id": "47908d20",
   "metadata": {
    "scrolled": false
   },
   "outputs": [
    {
     "data": {
      "image/png": "[encoded data removed]",
      "text/plain": [
       "<Figure size 864x432 with 2 Axes>"
      ]
     },
     "metadata": {},
     "output_type": "display_data"
    }
   ],
   "source": [
    "# Set default font family to 'Arial'\n",
    "plt.rcParams.update({'font.family':'Arial'})\n",
    "\n",
    "# Set theme for Chart A\n",
    "sns.set_theme(style='dark',rc={'axes.facecolor':'White', 'figure.facecolor':'White'})\n",
    "fig, ax1 = plt.subplots(figsize=(12,6))\n",
    "\n",
    "\n",
    "\n",
    "# Plot dataset A as dual-axis chart\n",
    "# Plot line chart as left y axis\n",
    "LC=sns.lineplot(data = ChartA, y='Average Satisfaction',x='Performance Score', marker='o', ax=ax1, color='#97b0df',label='Average Satisfaction')\n",
    "ax2 = ax1.twinx()\n",
    "\n",
    "# Plot bar chart as right y axis\n",
    "BC=sns.barplot(data = ChartA, x = 'Performance Score', y = 'Employees by Performance Score', ax=ax2, color='#002060', label='Employees by Performance Score')\n",
    "\n",
    "# Show values on bar chart\n",
    "for i in ax2.containers:\n",
    "    ax2.bar_label(i,label_type='edge', fontsize=9, color='#404141', weight='bold')\n",
    "\n",
    "# Show and format alignment of values on line chart\n",
    "for x, y in zip(ChartA['Performance Score'], ChartA['Average Satisfaction']):\n",
    "    ax1.annotate(y, xy=(x, y), textcoords='data',horizontalalignment='center', verticalalignment='bottom', color='#404141', fontsize=9, weight='bold',)\n",
    "    \n",
    "# Set, format, and move title\n",
    "ax1.set_title(\"Average Satisfaction by Performance Score\", fontsize=16 ,weight='bold', y=1.12)\n",
    "\n",
    "# Add legend and move to top of plot area\n",
    "ax1.legend(loc='upper center', bbox_to_anchor=(0.67, 1.10),frameon=False)\n",
    "ax2.legend(loc='upper center', bbox_to_anchor=(0.38, 1.10),frameon=False)\n",
    "\n",
    "# Format font size of all axes\n",
    "plt.tick_params(axis='both', which='major', labelsize=9)\n",
    "\n",
    "#Set axis limit for left y axis\n",
    "ax1.set_ylim(0, 4.5)\n",
    "\n",
    "#Set axis limit for right y axis\n",
    "ax2.set_ylim(0, 250)\n",
    "\n",
    "# Turn off grid and ticks on left y xaxis\n",
    "ax1.grid(False)\n",
    "ax1.tick_params(left = False)\n",
    "\n",
    "# Turn off grid and ticks on the right y axis\n",
    "ax2.grid(False)\n",
    "ax2.tick_params(right = False)\n",
    "\n",
    "# Show chart\n",
    "plt.show(LC,BC)\n"
   ]
  },
  {
   "cell_type": "markdown",
   "id": "651dbeff",
   "metadata": {},
   "source": [
    "## Creating 'Age' column from BirthYear for Chart B data table"
   ]
  },
  {
   "cell_type": "code",
   "execution_count": 10,
   "id": "78683f56",
   "metadata": {},
   "outputs": [
    {
     "ename": "TypeError",
     "evalue": "unsupported operand type(s) for -: 'Timestamp' and 'str'",
     "output_type": "error",
     "traceback": [
      "\u001b[1;31m---------------------------------------------------------------------------\u001b[0m",
      "\u001b[1;31mTypeError\u001b[0m                                 Traceback (most recent call last)",
      "Input \u001b[1;32mIn [10]\u001b[0m, in \u001b[0;36m<cell line: 11>\u001b[1;34m()\u001b[0m\n\u001b[0;32m      7\u001b[0m     \u001b[38;5;28;01mreturn\u001b[39;00m (today \u001b[38;5;241m-\u001b[39m bd) \u001b[38;5;241m/\u001b[39m pd\u001b[38;5;241m.\u001b[39mTimedelta(days\u001b[38;5;241m=\u001b[39m\u001b[38;5;241m365.25\u001b[39m)  \u001b[38;5;66;03m# divide by days to get years\u001b[39;00m\n\u001b[0;32m     10\u001b[0m \u001b[38;5;66;03m# call function and assign the values to a new column in the dataframe\u001b[39;00m\n\u001b[1;32m---> 11\u001b[0m df_TMA[\u001b[38;5;124m'\u001b[39m\u001b[38;5;124mAge\u001b[39m\u001b[38;5;124m'\u001b[39m] \u001b[38;5;241m=\u001b[39m \u001b[43mcalc_age\u001b[49m\u001b[43m(\u001b[49m\u001b[43mdf_TMA\u001b[49m\u001b[38;5;241;43m.\u001b[39;49m\u001b[43mBirthYear\u001b[49m\u001b[43m)\u001b[49m\n\u001b[0;32m     13\u001b[0m \u001b[38;5;66;03m# Print ID, Staff, and Age columns\u001b[39;00m\n\u001b[0;32m     14\u001b[0m display(df_TMA[[\u001b[38;5;124m'\u001b[39m\u001b[38;5;124mID\u001b[39m\u001b[38;5;124m'\u001b[39m,\u001b[38;5;124m'\u001b[39m\u001b[38;5;124mStaff\u001b[39m\u001b[38;5;124m'\u001b[39m,\u001b[38;5;124m'\u001b[39m\u001b[38;5;124mAge\u001b[39m\u001b[38;5;124m'\u001b[39m]])\n",
      "Input \u001b[1;32mIn [10]\u001b[0m, in \u001b[0;36mcalc_age\u001b[1;34m(bd)\u001b[0m\n\u001b[0;32m      5\u001b[0m \u001b[38;5;28;01mdef\u001b[39;00m \u001b[38;5;21mcalc_age\u001b[39m(bd: pd\u001b[38;5;241m.\u001b[39mSeries) \u001b[38;5;241m-\u001b[39m\u001b[38;5;241m>\u001b[39m pd\u001b[38;5;241m.\u001b[39mSeries:\n\u001b[0;32m      6\u001b[0m     today \u001b[38;5;241m=\u001b[39m pd\u001b[38;5;241m.\u001b[39mto_datetime(date\u001b[38;5;241m.\u001b[39mtoday())  \u001b[38;5;66;03m# convert today to a pandas datetime\u001b[39;00m\n\u001b[1;32m----> 7\u001b[0m     \u001b[38;5;28;01mreturn\u001b[39;00m (\u001b[43mtoday\u001b[49m\u001b[43m \u001b[49m\u001b[38;5;241;43m-\u001b[39;49m\u001b[43m \u001b[49m\u001b[43mbd\u001b[49m) \u001b[38;5;241m/\u001b[39m pd\u001b[38;5;241m.\u001b[39mTimedelta(days\u001b[38;5;241m=\u001b[39m\u001b[38;5;241m365.25\u001b[39m)\n",
      "File \u001b[1;32mC:\\ProgramData\\Anaconda3\\lib\\site-packages\\pandas\\core\\ops\\common.py:70\u001b[0m, in \u001b[0;36m_unpack_zerodim_and_defer.<locals>.new_method\u001b[1;34m(self, other)\u001b[0m\n\u001b[0;32m     66\u001b[0m             \u001b[38;5;28;01mreturn\u001b[39;00m \u001b[38;5;28mNotImplemented\u001b[39m\n\u001b[0;32m     68\u001b[0m other \u001b[38;5;241m=\u001b[39m item_from_zerodim(other)\n\u001b[1;32m---> 70\u001b[0m \u001b[38;5;28;01mreturn\u001b[39;00m \u001b[43mmethod\u001b[49m\u001b[43m(\u001b[49m\u001b[38;5;28;43mself\u001b[39;49m\u001b[43m,\u001b[49m\u001b[43m \u001b[49m\u001b[43mother\u001b[49m\u001b[43m)\u001b[49m\n",
      "File \u001b[1;32mC:\\ProgramData\\Anaconda3\\lib\\site-packages\\pandas\\core\\arraylike.py:112\u001b[0m, in \u001b[0;36mOpsMixin.__rsub__\u001b[1;34m(self, other)\u001b[0m\n\u001b[0;32m    110\u001b[0m \u001b[38;5;129m@unpack_zerodim_and_defer\u001b[39m(\u001b[38;5;124m\"\u001b[39m\u001b[38;5;124m__rsub__\u001b[39m\u001b[38;5;124m\"\u001b[39m)\n\u001b[0;32m    111\u001b[0m \u001b[38;5;28;01mdef\u001b[39;00m \u001b[38;5;21m__rsub__\u001b[39m(\u001b[38;5;28mself\u001b[39m, other):\n\u001b[1;32m--> 112\u001b[0m     \u001b[38;5;28;01mreturn\u001b[39;00m \u001b[38;5;28;43mself\u001b[39;49m\u001b[38;5;241;43m.\u001b[39;49m\u001b[43m_arith_method\u001b[49m\u001b[43m(\u001b[49m\u001b[43mother\u001b[49m\u001b[43m,\u001b[49m\u001b[43m \u001b[49m\u001b[43mroperator\u001b[49m\u001b[38;5;241;43m.\u001b[39;49m\u001b[43mrsub\u001b[49m\u001b[43m)\u001b[49m\n",
      "File \u001b[1;32mC:\\ProgramData\\Anaconda3\\lib\\site-packages\\pandas\\core\\series.py:5639\u001b[0m, in \u001b[0;36mSeries._arith_method\u001b[1;34m(self, other, op)\u001b[0m\n\u001b[0;32m   5637\u001b[0m \u001b[38;5;28;01mdef\u001b[39;00m \u001b[38;5;21m_arith_method\u001b[39m(\u001b[38;5;28mself\u001b[39m, other, op):\n\u001b[0;32m   5638\u001b[0m     \u001b[38;5;28mself\u001b[39m, other \u001b[38;5;241m=\u001b[39m ops\u001b[38;5;241m.\u001b[39malign_method_SERIES(\u001b[38;5;28mself\u001b[39m, other)\n\u001b[1;32m-> 5639\u001b[0m     \u001b[38;5;28;01mreturn\u001b[39;00m \u001b[43mbase\u001b[49m\u001b[38;5;241;43m.\u001b[39;49m\u001b[43mIndexOpsMixin\u001b[49m\u001b[38;5;241;43m.\u001b[39;49m\u001b[43m_arith_method\u001b[49m\u001b[43m(\u001b[49m\u001b[38;5;28;43mself\u001b[39;49m\u001b[43m,\u001b[49m\u001b[43m \u001b[49m\u001b[43mother\u001b[49m\u001b[43m,\u001b[49m\u001b[43m \u001b[49m\u001b[43mop\u001b[49m\u001b[43m)\u001b[49m\n",
      "File \u001b[1;32mC:\\ProgramData\\Anaconda3\\lib\\site-packages\\pandas\\core\\base.py:1295\u001b[0m, in \u001b[0;36mIndexOpsMixin._arith_method\u001b[1;34m(self, other, op)\u001b[0m\n\u001b[0;32m   1292\u001b[0m rvalues \u001b[38;5;241m=\u001b[39m ensure_wrapped_if_datetimelike(rvalues)\n\u001b[0;32m   1294\u001b[0m \u001b[38;5;28;01mwith\u001b[39;00m np\u001b[38;5;241m.\u001b[39merrstate(\u001b[38;5;28mall\u001b[39m\u001b[38;5;241m=\u001b[39m\u001b[38;5;124m\"\u001b[39m\u001b[38;5;124mignore\u001b[39m\u001b[38;5;124m\"\u001b[39m):\n\u001b[1;32m-> 1295\u001b[0m     result \u001b[38;5;241m=\u001b[39m \u001b[43mops\u001b[49m\u001b[38;5;241;43m.\u001b[39;49m\u001b[43marithmetic_op\u001b[49m\u001b[43m(\u001b[49m\u001b[43mlvalues\u001b[49m\u001b[43m,\u001b[49m\u001b[43m \u001b[49m\u001b[43mrvalues\u001b[49m\u001b[43m,\u001b[49m\u001b[43m \u001b[49m\u001b[43mop\u001b[49m\u001b[43m)\u001b[49m\n\u001b[0;32m   1297\u001b[0m \u001b[38;5;28;01mreturn\u001b[39;00m \u001b[38;5;28mself\u001b[39m\u001b[38;5;241m.\u001b[39m_construct_result(result, name\u001b[38;5;241m=\u001b[39mres_name)\n",
      "File \u001b[1;32mC:\\ProgramData\\Anaconda3\\lib\\site-packages\\pandas\\core\\ops\\array_ops.py:216\u001b[0m, in \u001b[0;36marithmetic_op\u001b[1;34m(left, right, op)\u001b[0m\n\u001b[0;32m    203\u001b[0m \u001b[38;5;66;03m# NB: We assume that extract_array and ensure_wrapped_if_datetimelike\u001b[39;00m\n\u001b[0;32m    204\u001b[0m \u001b[38;5;66;03m#  have already been called on `left` and `right`,\u001b[39;00m\n\u001b[0;32m    205\u001b[0m \u001b[38;5;66;03m#  and `maybe_prepare_scalar_for_op` has already been called on `right`\u001b[39;00m\n\u001b[0;32m    206\u001b[0m \u001b[38;5;66;03m# We need to special-case datetime64/timedelta64 dtypes (e.g. because numpy\u001b[39;00m\n\u001b[0;32m    207\u001b[0m \u001b[38;5;66;03m# casts integer dtypes to timedelta64 when operating with timedelta64 - GH#22390)\u001b[39;00m\n\u001b[0;32m    209\u001b[0m \u001b[38;5;28;01mif\u001b[39;00m (\n\u001b[0;32m    210\u001b[0m     should_extension_dispatch(left, right)\n\u001b[0;32m    211\u001b[0m     \u001b[38;5;129;01mor\u001b[39;00m \u001b[38;5;28misinstance\u001b[39m(right, (Timedelta, BaseOffset, Timestamp))\n\u001b[1;32m   (...)\u001b[0m\n\u001b[0;32m    214\u001b[0m     \u001b[38;5;66;03m# Timedelta/Timestamp and other custom scalars are included in the check\u001b[39;00m\n\u001b[0;32m    215\u001b[0m     \u001b[38;5;66;03m# because numexpr will fail on it, see GH#31457\u001b[39;00m\n\u001b[1;32m--> 216\u001b[0m     res_values \u001b[38;5;241m=\u001b[39m \u001b[43mop\u001b[49m\u001b[43m(\u001b[49m\u001b[43mleft\u001b[49m\u001b[43m,\u001b[49m\u001b[43m \u001b[49m\u001b[43mright\u001b[49m\u001b[43m)\u001b[49m\n\u001b[0;32m    217\u001b[0m \u001b[38;5;28;01melse\u001b[39;00m:\n\u001b[0;32m    218\u001b[0m     \u001b[38;5;66;03m# TODO we should handle EAs consistently and move this check before the if/else\u001b[39;00m\n\u001b[0;32m    219\u001b[0m     \u001b[38;5;66;03m# (https://github.com/pandas-dev/pandas/issues/41165)\u001b[39;00m\n\u001b[0;32m    220\u001b[0m     _bool_arith_check(op, left, right)\n",
      "File \u001b[1;32mC:\\ProgramData\\Anaconda3\\lib\\site-packages\\pandas\\core\\roperator.py:13\u001b[0m, in \u001b[0;36mrsub\u001b[1;34m(left, right)\u001b[0m\n\u001b[0;32m     12\u001b[0m \u001b[38;5;28;01mdef\u001b[39;00m \u001b[38;5;21mrsub\u001b[39m(left, right):\n\u001b[1;32m---> 13\u001b[0m     \u001b[38;5;28;01mreturn\u001b[39;00m \u001b[43mright\u001b[49m\u001b[43m \u001b[49m\u001b[38;5;241;43m-\u001b[39;49m\u001b[43m \u001b[49m\u001b[43mleft\u001b[49m\n",
      "\u001b[1;31mTypeError\u001b[0m: unsupported operand type(s) for -: 'Timestamp' and 'str'"
     ]
    }
   ],
   "source": [
    "#Import date from datetime\n",
    "from datetime import date\n",
    "\n",
    "# function\n",
    "def calc_age(bd: pd.Series) -> pd.Series:\n",
    "    today = pd.to_datetime(date.today())  # convert today to a pandas datetime\n",
    "    return (today - bd) / pd.Timedelta(days=365.25)  # divide by days to get years\n",
    "\n",
    "\n",
    "# call function and assign the values to a new column in the dataframe\n",
    "df_TMA['Age'] = calc_age(df_TMA.BirthYear)\n",
    "\n",
    "# Print ID, Staff, and Age columns\n",
    "display(df_TMA[['ID','Staff','Age']])"
   ]
  },
  {
   "cell_type": "markdown",
   "id": "d98594b5",
   "metadata": {},
   "source": [
    "## [Manufacturing] Segregating unit into different age generations"
   ]
  },
  {
   "cell_type": "code",
   "execution_count": null,
   "id": "8adb35e5",
   "metadata": {
    "scrolled": true
   },
   "outputs": [],
   "source": [
    "# Count and print number of Millennials (Age 23-38) in unit \"Manufacturing\"\n",
    "M_M = df_TMA[(df_TMA['Unit']=='Manufacturing') & (df_TMA['Age']>=23) & (df_TMA['Age']<=38)]['Age'].count()\n",
    "print(M_M)\n",
    "\n",
    "# Count and print number of Gen X (Age 39-54) in unit \"Manufacturing\"\n",
    "M_G = df_TMA[(df_TMA['Unit']=='Manufacturing') & (df_TMA['Age']>=39) & (df_TMA['Age']<=54)]['Age'].count()\n",
    "print(M_G)\n",
    "\n",
    "# Count and print number of Gen X (Age 39-54) in unit \"Manufacturing\"\n",
    "M_B = df_TMA[(df_TMA['Unit']=='Manufacturing') & (df_TMA['Age']>=55) & (df_TMA['Age']<=73)]['Age'].count()\n",
    "print(M_B)"
   ]
  },
  {
   "cell_type": "markdown",
   "id": "ed7f11ce",
   "metadata": {},
   "source": [
    "## [IT] Segregating unit into different age generations"
   ]
  },
  {
   "cell_type": "code",
   "execution_count": null,
   "id": "d0cd5640",
   "metadata": {},
   "outputs": [],
   "source": [
    "# Count and print number of Millennials (Age 23-38) in unit \"IT\"\n",
    "IT_M = df_TMA[(df_TMA['Unit']=='IT') & (df_TMA['Age']>=23) & (df_TMA['Age']<=38)]['Age'].count()\n",
    "print(IT_M)\n",
    "\n",
    "# Count and print number of Gen X (Age 39-54) in unit \"IT\"\n",
    "IT_G = df_TMA[(df_TMA['Unit']=='IT') & (df_TMA['Age']>=39) & (df_TMA['Age']<=54)]['Age'].count()\n",
    "print(IT_G)\n",
    "\n",
    "# Count and print number of Boomers(Age 39-54) in unit \"IT\"\n",
    "IT_B = df_TMA[(df_TMA['Unit']=='Manufacturing') & (df_TMA['Age']>=55) & (df_TMA['Age']<=73)]['Age'].count()\n",
    "print(IT_B)"
   ]
  },
  {
   "cell_type": "markdown",
   "id": "1a9412e9",
   "metadata": {},
   "source": [
    "## [Sales] Segregating unit into different age generations"
   ]
  },
  {
   "cell_type": "code",
   "execution_count": null,
   "id": "85b55793",
   "metadata": {},
   "outputs": [],
   "source": [
    "# Count and print number of Millennials (Age 23-38) in unit \"Sales\"\n",
    "Sales_M = df_TMA[(df_TMA['Unit']=='Sales') & (df_TMA['Age']>=23) & (df_TMA['Age']<=38)]['Age'].count()\n",
    "print(Sales_M)\n",
    "\n",
    "# Count and print number of Gen X (Age 39-54) in unit \"Sales\"\n",
    "Sales_G = df_TMA[(df_TMA['Unit']=='Sales') & (df_TMA['Age']>=39) & (df_TMA['Age']<=54)]['Age'].count()\n",
    "print(Sales_G)\n",
    "\n",
    "# Count and print number of Gen X (Age 39-54) in unit \"Sales\"\n",
    "Sales_B = df_TMA[(df_TMA['Unit']=='Sales') & (df_TMA['Age']>=55) & (df_TMA['Age']<=73)]['Age'].count()\n",
    "print(Sales_B)"
   ]
  },
  {
   "cell_type": "markdown",
   "id": "23b1e13f",
   "metadata": {},
   "source": [
    "## [Admin] Segregating unit into different age generations"
   ]
  },
  {
   "cell_type": "code",
   "execution_count": null,
   "id": "8d6f6c8b",
   "metadata": {},
   "outputs": [],
   "source": [
    "# Count and print number of Millennials (Age 23-38) in unit \"Admin\"\n",
    "Admin_M = df_TMA[(df_TMA['Unit']=='Admin ') & (df_TMA['Age']>=23) & (df_TMA['Age']<=38)]['Age'].count()\n",
    "print(Admin_M)\n",
    "\n",
    "# Count and print number of Gen X (Age 39-54) in unit \"Admin\"\n",
    "Admin_G = df_TMA[(df_TMA['Unit']=='Admin ') & (df_TMA['Age']>=39) & (df_TMA['Age']<=54)]['Age'].count()\n",
    "print(Admin_G)\n",
    "\n",
    "# Count and print number of Gen X (Age 39-54) in unit \"Admin\"\n",
    "Admin_B = df_TMA[(df_TMA['Unit']=='Admin ') & (df_TMA['Age']>=55) & (df_TMA['Age']<=73)]['Age'].count()\n",
    "print(Admin_B)"
   ]
  },
  {
   "cell_type": "markdown",
   "id": "94a96ba1",
   "metadata": {},
   "source": [
    "## [Engineering] Segregating unit into different age generations"
   ]
  },
  {
   "cell_type": "code",
   "execution_count": null,
   "id": "defaa8a3",
   "metadata": {},
   "outputs": [],
   "source": [
    "# Count and print number of Millennials (Age 23-38) in unit \"Engineering\"\n",
    "E_M = df_TMA[(df_TMA['Unit']=='Engineering') & (df_TMA['Age']>=23) & (df_TMA['Age']<=38)]['Age'].count()\n",
    "print(E_M)\n",
    "\n",
    "# Count and print number of Gen X (Age 39-54) in unit \"Engineering\"\n",
    "E_G = df_TMA[(df_TMA['Unit']=='Engineering') & (df_TMA['Age']>=39) & (df_TMA['Age']<=54)]['Age'].count()\n",
    "print(E_G)\n",
    "\n",
    "# Count and print number of Gen X (Age 39-54) in unit \"Engineering\"\n",
    "E_B = df_TMA[(df_TMA['Unit']=='Engineering') & (df_TMA['Age']>=55) & (df_TMA['Age']<=73)]['Age'].count()\n",
    "print(E_B)"
   ]
  },
  {
   "cell_type": "markdown",
   "id": "d67ef196",
   "metadata": {},
   "source": [
    "## [C-Level] Segregating unit into different age generations"
   ]
  },
  {
   "cell_type": "code",
   "execution_count": null,
   "id": "a0a2732c",
   "metadata": {},
   "outputs": [],
   "source": [
    "# Count and print number of Millennials (Age 23-38) in unit \"C-Level\"\n",
    "C_M = df_TMA[(df_TMA['Unit']=='C-Level') & (df_TMA['Age']>=23) & (df_TMA['Age']<=38)]['Age'].count()\n",
    "print(C_M)\n",
    "\n",
    "# Count and print number of Gen X (Age 39-54) in unit \"C-Level\"\n",
    "C_G = df_TMA[(df_TMA['Unit']=='C-Level') & (df_TMA['Age']>=39) & (df_TMA['Age']<=54)]['Age'].count()\n",
    "print(C_G)\n",
    "\n",
    "# Count and print number of Gen X (Age 39-54) in unit \"C-Level\"\n",
    "C_B = df_TMA[(df_TMA['Unit']=='C-Level') & (df_TMA['Age']>=55) & (df_TMA['Age']<=73)]['Age'].count()\n",
    "print(C_B)"
   ]
  },
  {
   "cell_type": "markdown",
   "id": "2eeac783",
   "metadata": {},
   "source": [
    "## Creating Chart B data table"
   ]
  },
  {
   "cell_type": "code",
   "execution_count": null,
   "id": "453914d7",
   "metadata": {},
   "outputs": [],
   "source": [
    "# Creating Chart B data table\n",
    "ChartB_data = {'Unit': ['Manufacturing', 'IT', 'Sales', 'Admin', 'Engineering', 'C-Level'],\n",
    "        'Millennials (23-38)': [M_M, IT_M, Sales_M, Admin_M, E_M, C_M],\n",
    "        'Gen X (39-54)': [M_G, IT_G, Sales_G, Admin_G, E_G, C_G],\n",
    "        'Boomers (55-73)': [M_B, IT_B, Sales_B, Admin_B, E_B, C_B]}\n",
    "\n",
    "# Creating Chart B dataframe\n",
    "ChartB_t = pd.DataFrame(ChartB_data)\n",
    "\n",
    "# Print Chart B table\n",
    "display(ChartB_t)"
   ]
  },
  {
   "cell_type": "markdown",
   "id": "eaad180a",
   "metadata": {},
   "source": [
    "## Creating Chart B, horizontal stacked bar chart"
   ]
  },
  {
   "cell_type": "code",
   "execution_count": null,
   "id": "8c5764bb",
   "metadata": {},
   "outputs": [],
   "source": [
    "# Set default font family to 'Arial'\n",
    "plt.rcParams.update({'font.family':'Arial'})\n",
    "\n",
    "# Import Library\n",
    "import matplotlib.pyplot as plt\n",
    "\n",
    "# Increase size of plot in jupyter notebook\n",
    "plt.rcParams[\"figure.figsize\"] = (20,5)\n",
    "\n",
    "# Set seaborn theme for Chart B\n",
    "sns.set_theme(style='dark',rc={'axes.facecolor':'White', # Set axes color to white\n",
    "                               'figure.facecolor':'White'}) #Set figure color to white\n",
    "\n",
    "# Create and format (Color and width) stacked bar chart\n",
    "ChartB=ChartB_t.set_index('Unit').plot(kind='barh', # Sets horizontal\n",
    "                                       stacked=True, # Sets bar chart to stacked\n",
    "                                       color=['#002060', '#2f5597','#8fabdd'], # Sets custom color for bars\n",
    "                                       width=0.7, # Customize width of bar chart to 0.7\n",
    "                                       edgecolor = \"none\") # Removes bar borders\n",
    "\n",
    "# Set and format title\n",
    "ChartB.set_title(\"Age distribution by Unit\", # Set chart title\n",
    "                 fontsize=16 , # Set font size to 16\n",
    "                 weight='bold', # Set title to be bolded\n",
    "                 y=1.12) # Set position of title to exceed plot area at y=1.12\n",
    "\n",
    "# Format legend\n",
    "ChartB.legend(loc='upper center', # Set location of chart to upper center\n",
    "              bbox_to_anchor=(0.5, 1.1), # Set location to exceed plot area at 0.5, 1.1\n",
    "              frameon=False, # Removes frame from legend\n",
    "              ncol=3, # Set legend to one row\n",
    "              fontsize=9) # Set font size to 9\n",
    "\n",
    "# Plot x axis label\n",
    "plt.xlabel(\"Number of Employees\")\n",
    "\n",
    "# Annotate and format data labels\n",
    "if i != 0:\n",
    "    for i in ChartB.containers:\n",
    "        ChartB.bar_label(i, label_type='center', fontsize=9, color='White', weight='bold')\n",
    "\n",
    "# Show chart\n",
    "plt.show(ChartB)"
   ]
  },
  {
   "cell_type": "markdown",
   "id": "64236c76",
   "metadata": {},
   "source": [
    "## Import libraries"
   ]
  },
  {
   "cell_type": "code",
   "execution_count": 19,
   "id": "5bcc3405",
   "metadata": {},
   "outputs": [],
   "source": [
    "# Import statistics\n",
    "import statistics\n",
    "\n",
    "#Import datetime\n",
    "from datetime import datetime"
   ]
  },
  {
   "cell_type": "markdown",
   "id": "44f103c8",
   "metadata": {},
   "source": [
    "## Calculate \"Total Service Years\" using \"JoinDate\" and \"LeftDate\""
   ]
  },
  {
   "cell_type": "code",
   "execution_count": 20,
   "id": "1338dba7",
   "metadata": {},
   "outputs": [
    {
     "ename": "TypeError",
     "evalue": "unsupported operand type(s) for -: 'Timestamp' and 'str'",
     "output_type": "error",
     "traceback": [
      "\u001b[1;31m---------------------------------------------------------------------------\u001b[0m",
      "\u001b[1;31mTypeError\u001b[0m                                 Traceback (most recent call last)",
      "Input \u001b[1;32mIn [20]\u001b[0m, in \u001b[0;36m<cell line: 4>\u001b[1;34m()\u001b[0m\n\u001b[0;32m      5\u001b[0m \u001b[38;5;28;01mif\u001b[39;00m pd\u001b[38;5;241m.\u001b[39misnull(df_TMA[\u001b[38;5;124m'\u001b[39m\u001b[38;5;124mLeftDate\u001b[39m\u001b[38;5;124m'\u001b[39m]\u001b[38;5;241m.\u001b[39miloc[i])\u001b[38;5;241m==\u001b[39m\u001b[38;5;28;01mTrue\u001b[39;00m:  \u001b[38;5;66;03m# If the LeftDate value of data row i is empty then this condition is true\u001b[39;00m\n\u001b[0;32m      6\u001b[0m     x\u001b[38;5;241m=\u001b[39mpd\u001b[38;5;241m.\u001b[39mTimestamp(\u001b[38;5;124m'\u001b[39m\u001b[38;5;124m2022-05-1T12:00:00\u001b[39m\u001b[38;5;124m'\u001b[39m)  \u001b[38;5;66;03m# Set the date as 1/5/2022 for those that have not left yet\u001b[39;00m\n\u001b[1;32m----> 7\u001b[0m     emp\u001b[38;5;241m.\u001b[39mappend(\u001b[38;5;28mround\u001b[39m((\u001b[43mx\u001b[49m\u001b[38;5;241;43m-\u001b[39;49m\u001b[43mdf_TMA\u001b[49m\u001b[43m[\u001b[49m\u001b[38;5;124;43m'\u001b[39;49m\u001b[38;5;124;43mJoinDate\u001b[39;49m\u001b[38;5;124;43m'\u001b[39;49m\u001b[43m]\u001b[49m\u001b[38;5;241;43m.\u001b[39;49m\u001b[43miloc\u001b[49m\u001b[43m[\u001b[49m\u001b[43mi\u001b[49m\u001b[43m]\u001b[49m)\u001b[38;5;241m.\u001b[39mdays\u001b[38;5;241m/\u001b[39m\u001b[38;5;241m365\u001b[39m,\u001b[38;5;241m1\u001b[39m))   \u001b[38;5;66;03m# Convert JoinDate days in service into years\u001b[39;00m\n\u001b[0;32m      8\u001b[0m \u001b[38;5;28;01melse\u001b[39;00m:  \u001b[38;5;66;03m# If staff have left the organisation, run the else condition\u001b[39;00m\n\u001b[0;32m      9\u001b[0m     emp\u001b[38;5;241m.\u001b[39mappend(\u001b[38;5;28mround\u001b[39m((df_TMA[\u001b[38;5;124m'\u001b[39m\u001b[38;5;124mLeftDate\u001b[39m\u001b[38;5;124m'\u001b[39m]\u001b[38;5;241m.\u001b[39miloc[i]\u001b[38;5;241m-\u001b[39mdf_TMA[\u001b[38;5;124m'\u001b[39m\u001b[38;5;124mJoinDate\u001b[39m\u001b[38;5;124m'\u001b[39m]\u001b[38;5;241m.\u001b[39miloc[i])\u001b[38;5;241m.\u001b[39mdays\u001b[38;5;241m/\u001b[39m\u001b[38;5;241m365\u001b[39m,\u001b[38;5;241m1\u001b[39m)) \u001b[38;5;66;03m# Convert LeftDate days in service into years\u001b[39;00m\n",
      "\u001b[1;31mTypeError\u001b[0m: unsupported operand type(s) for -: 'Timestamp' and 'str'"
     ]
    }
   ],
   "source": [
    "emp=[]\n",
    "\n",
    "# Loop to compare till all data is checked\n",
    "for i in range(0,len(df_TMA['JoinDate'])):  \n",
    "    if pd.isnull(df_TMA['LeftDate'].iloc[i])==True:  # If the LeftDate value of data row i is empty then this condition is true\n",
    "        x=pd.Timestamp('2022-05-1T12:00:00')  # Set the date as 1/5/2022 for those that have not left yet\n",
    "        emp.append(round((x-df_TMA['JoinDate'].iloc[i]).days/365,1))   # Convert JoinDate days in service into years\n",
    "    else:  # If staff have left the organisation, run the else condition\n",
    "        emp.append(round((df_TMA['LeftDate'].iloc[i]-df_TMA['JoinDate'].iloc[i]).days/365,1)) # Convert LeftDate days in service into years\n",
    "df_TMA['Total Service Years']=emp # Create new column to save the total service years\n",
    "\n",
    "# Print columns 'ID','Staff', and 'Total Service Years'\n",
    "print('Total Service Years: ')\n",
    "df_TMA[['ID','Staff','Total Service Years']]"
   ]
  },
  {
   "cell_type": "markdown",
   "id": "f3fa75a7",
   "metadata": {},
   "source": [
    "## Calculate and print minimum, maximum, and average service"
   ]
  },
  {
   "cell_type": "code",
   "execution_count": null,
   "id": "98825967",
   "metadata": {},
   "outputs": [],
   "source": [
    "print(\"Minimum Service: \",\"{:.1f}\".format(min(emp)),'years')\n",
    "print(\"Maximum Service: \",\"{:.1f}\".format(max(emp)),'years')\n",
    "print(\"Average Service: \",\"{:.1f}\".format(statistics.mean(emp)),'years')"
   ]
  },
  {
   "cell_type": "markdown",
   "id": "e7a314f8",
   "metadata": {},
   "source": [
    "## Interactive user input to verify employment status"
   ]
  },
  {
   "cell_type": "code",
   "execution_count": null,
   "id": "0150c226",
   "metadata": {},
   "outputs": [
    {
     "name": "stdout",
     "output_type": "stream",
     "text": [
      "Enter full name of staff to verify employment or 'exit' to quit: Ashleigh Mccabe\n",
      "Ashleigh Mccabe 's record was found in the staff of the organization\n",
      "Enter full name of staff to verify employment or 'exit' to quit: ashleigh mccabe\n",
      "Ashleigh Mccabe 's record was found in the staff of the organization\n"
     ]
    }
   ],
   "source": [
    "found=False  # Flag to check if record found \n",
    "while True:  # Run till loop is broken \n",
    "    choice=input(\"Enter full name of staff to verify employment or 'exit' to quit: \")\n",
    "    for i in df_TMA['Staff']:  # Checking all values in Staff column of the dataframe\n",
    "        if i.lower()==choice.lower(): # Check if name is found, lower() allows checking with capital insensitivity\n",
    "            print(i,\"'s record was found in the staff of the organization\")\n",
    "            found=True  # Found variable is set True\n",
    "            \n",
    "# If 'exit' entered is by user then exit the loop\n",
    "    if choice.lower()=='exit':  \n",
    "        print('Quitting...')\n",
    "        break\n",
    "        \n",
    "# If input by user is not found, print record not found\n",
    "    if found==False:\n",
    "        print(choice,\"'s record was NOT found in the staff of the organization\")    "
   ]
  },
  {
   "cell_type": "code",
   "execution_count": null,
   "id": "c11ef560",
   "metadata": {},
   "outputs": [],
   "source": []
  }
 ],
 "metadata": {
  "kernelspec": {
   "display_name": "Python 3 (ipykernel)",
   "language": "python",
   "name": "python3"
  },
  "language_info": {
   "codemirror_mode": {
    "name": "ipython",
    "version": 3
   },
   "file_extension": ".py",
   "mimetype": "text/x-python",
   "name": "python",
   "nbconvert_exporter": "python",
   "pygments_lexer": "ipython3",
   "version": "3.9.12"
  }
 },
 "nbformat": 4,
 "nbformat_minor": 5
}
