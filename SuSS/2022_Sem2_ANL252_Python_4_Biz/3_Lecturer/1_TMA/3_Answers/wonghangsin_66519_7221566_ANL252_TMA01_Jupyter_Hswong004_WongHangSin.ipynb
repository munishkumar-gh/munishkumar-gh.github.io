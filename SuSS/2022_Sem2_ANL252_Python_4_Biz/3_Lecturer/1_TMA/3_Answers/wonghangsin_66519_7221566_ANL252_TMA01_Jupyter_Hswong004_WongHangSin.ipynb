{
 "cells": [
  {
   "cell_type": "markdown",
   "id": "3513b2a3",
   "metadata": {},
   "source": [
    "### Question 1(b)"
   ]
  },
  {
   "cell_type": "code",
   "execution_count": 1,
   "id": "3483ea88",
   "metadata": {},
   "outputs": [],
   "source": [
    "import pandas as pd\n",
    "import numpy as np\n",
    "import matplotlib.pyplot as plt"
   ]
  },
  {
   "cell_type": "code",
   "execution_count": 2,
   "id": "068da607",
   "metadata": {},
   "outputs": [],
   "source": [
    "#Import the dataset\n",
    "TMA_Data = pd.read_csv('TMA_Data.csv')"
   ]
  },
  {
   "cell_type": "code",
   "execution_count": 3,
   "id": "bba0cbb9",
   "metadata": {},
   "outputs": [
    {
     "data": {
      "text/plain": [
       "Unit\n",
       "Admin              541207\n",
       "C-Level            250000\n",
       "Engineering        958670\n",
       "IT                3917581\n",
       "Manufacturing    10040781\n",
       "Sales             1571385\n",
       "Name: Salary, dtype: int64"
      ]
     },
     "execution_count": 3,
     "metadata": {},
     "output_type": "execute_result"
    }
   ],
   "source": [
    "#Plot Table 1 \n",
    "TMA_Data.groupby(['Unit'])['Salary'].sum()"
   ]
  },
  {
   "cell_type": "code",
   "execution_count": 4,
   "id": "f8cad5a3",
   "metadata": {},
   "outputs": [
    {
     "data": {
      "image/png": "[encoded data removed]",
      "text/plain": [
       "<Figure size 432x288 with 1 Axes>"
      ]
     },
     "metadata": {
      "needs_background": "light"
     },
     "output_type": "display_data"
    }
   ],
   "source": [
    "#Plot Graph 1\n",
    "plt.title(\"Unit Salary Expense\")\n",
    "plt.ylabel(\"Total Salary\")\n",
    "TMA_Data.groupby(['Unit'])['Salary'].sum().plot(kind='line')\n",
    "plt.show()"
   ]
  },
  {
   "cell_type": "code",
   "execution_count": 5,
   "id": "52b56a12",
   "metadata": {},
   "outputs": [
    {
     "data": {
      "text/plain": [
       "Unit\n",
       "Admin             7.86\n",
       "C-Level          10.00\n",
       "Engineering       9.40\n",
       "IT               10.61\n",
       "Manufacturing    10.07\n",
       "Sales            12.86\n",
       "Name: Absence, dtype: float64"
      ]
     },
     "execution_count": 5,
     "metadata": {},
     "output_type": "execute_result"
    }
   ],
   "source": [
    "#Plot Table 2\n",
    "round(TMA_Data.groupby(['Unit'])['Absence'].mean(),2)"
   ]
  },
  {
   "cell_type": "code",
   "execution_count": 6,
   "id": "49a96190",
   "metadata": {
    "scrolled": false
   },
   "outputs": [
    {
     "data": {
      "image/png": "[encoded data removed]",
      "text/plain": [
       "<Figure size 432x288 with 1 Axes>"
      ]
     },
     "metadata": {
      "needs_background": "light"
     },
     "output_type": "display_data"
    }
   ],
   "source": [
    "#Plot Graph 2\n",
    "plt.title(\"Unit Average Days of Absence\")\n",
    "plt.ylabel(\"Absence Days\")\n",
    "TMA_Data.groupby(['Unit'])['Absence'].mean().plot(kind='bar')\n",
    "plt.show()"
   ]
  },
  {
   "cell_type": "markdown",
   "id": "b66800e0",
   "metadata": {},
   "source": [
    "### Question 1(c)"
   ]
  },
  {
   "cell_type": "code",
   "execution_count": 7,
   "id": "d7a8ef7e",
   "metadata": {
    "scrolled": false
   },
   "outputs": [],
   "source": [
    "#fill null leftDate with 1st May 2022\n",
    "TMA_Data.LeftDate = TMA_Data.LeftDate.fillna('01/05/2022')"
   ]
  },
  {
   "cell_type": "code",
   "execution_count": 8,
   "id": "a3c0479e",
   "metadata": {},
   "outputs": [],
   "source": [
    "#convert date field into datetime\n",
    "TMA_Data['LeftDate'] = pd.to_datetime(TMA_Data['LeftDate'])\n",
    "TMA_Data['JoinDate'] = pd.to_datetime(TMA_Data['JoinDate'])"
   ]
  },
  {
   "cell_type": "code",
   "execution_count": 9,
   "id": "5d209de4",
   "metadata": {},
   "outputs": [],
   "source": [
    "#calculate number of days elapsed between JoinDate and LeftDate\n",
    "#divided by 365 to convert from days to years, rounded off to 1 significant figure\n",
    "TMA_Data['length_of_service'] = round((TMA_Data.LeftDate - TMA_Data.JoinDate).dt.days/365,1)"
   ]
  },
  {
   "cell_type": "code",
   "execution_count": 10,
   "id": "05e5c501",
   "metadata": {},
   "outputs": [
    {
     "name": "stdout",
     "output_type": "stream",
     "text": [
      "Minimum: 0.1 years\n",
      "Maximum: 16.0 years\n",
      "Mean: 6.6 years\n"
     ]
    }
   ],
   "source": [
    "#display the minimum, maximum and mean length of service \n",
    "print('Minimum: {} years'.format(round(TMA_Data['length_of_service'].min(), 1)))\n",
    "print('Maximum: {} years'.format(round(TMA_Data['length_of_service'].max(), 1)))\n",
    "print('Mean: {} years'.format(round(TMA_Data['length_of_service'].mean(), 1)))"
   ]
  },
  {
   "cell_type": "markdown",
   "id": "1d49b524",
   "metadata": {},
   "source": [
    "### Question 1(d)"
   ]
  },
  {
   "cell_type": "code",
   "execution_count": 11,
   "id": "53ea4ec4",
   "metadata": {
    "scrolled": true
   },
   "outputs": [],
   "source": [
    "#store all staff names in a list\n",
    "staff_names = list (TMA_Data.Staff.str.lower())\n",
    "def search_staff(name):\n",
    "    \n",
    "    #remove trailing newline characters\n",
    "    name = name.lower().rstrip() \n",
    "    if name in staff_names:\n",
    "        print(\"{} is/was a staff of the organization\".format(name))\n",
    "    else:\n",
    "        print(\"{} is not a staff of the organization\".format(name))"
   ]
  },
  {
   "cell_type": "code",
   "execution_count": null,
   "id": "8a36ecd6",
   "metadata": {},
   "outputs": [
    {
     "name": "stdout",
     "output_type": "stream",
     "text": [
      "Please enter staff name: \n",
      " is not a staff of the organization\n",
      "\n",
      "Enter 1 to Search for another user : \n",
      " Enter 2 to exit: \n",
      "\n",
      "\n",
      "Invalid Input. Restarting Process\n",
      "Please enter staff name: \n",
      " is not a staff of the organization\n",
      "\n",
      "Enter 1 to Search for another user : \n",
      " Enter 2 to exit: \n",
      "\n",
      "\n",
      "Invalid Input. Restarting Process\n"
     ]
    }
   ],
   "source": [
    "play = True\n",
    "\n",
    "while play:\n",
    "    name = input(\"Please enter staff name: \")\n",
    "    search_staff(name)\n",
    "    print('\\nEnter 1 to Search for another user : \\n Enter 2 to exit: ')\n",
    "    choice = input()\n",
    "    \n",
    "    if choice == '1':\n",
    "        play = True\n",
    "    elif choice == '2':\n",
    "        play = False\n",
    "        print('\\nThank You.')\n",
    "    else:\n",
    "        print('\\nInvalid Input. Restarting Process')"
   ]
  },
  {
   "cell_type": "code",
   "execution_count": null,
   "id": "d4a9ad5b",
   "metadata": {},
   "outputs": [],
   "source": []
  }
 ],
 "metadata": {
  "kernelspec": {
   "display_name": "Python 3 (ipykernel)",
   "language": "python",
   "name": "python3"
  },
  "language_info": {
   "codemirror_mode": {
    "name": "ipython",
    "version": 3
   },
   "file_extension": ".py",
   "mimetype": "text/x-python",
   "name": "python",
   "nbconvert_exporter": "python",
   "pygments_lexer": "ipython3",
   "version": "3.9.12"
  }
 },
 "nbformat": 4,
 "nbformat_minor": 5
}
