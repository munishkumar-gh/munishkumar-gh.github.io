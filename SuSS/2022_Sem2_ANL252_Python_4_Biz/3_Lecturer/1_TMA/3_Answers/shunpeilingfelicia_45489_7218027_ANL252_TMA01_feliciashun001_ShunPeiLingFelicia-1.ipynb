{
 "cells": [
  {
   "cell_type": "markdown",
   "id": "6621d8d9",
   "metadata": {},
   "source": [
    "(b)"
   ]
  },
  {
   "cell_type": "markdown",
   "id": "ca9abbee",
   "metadata": {},
   "source": [
    "<u>Histogram"
   ]
  },
  {
   "cell_type": "code",
   "execution_count": 1,
   "id": "eb7bd681",
   "metadata": {
    "scrolled": false
   },
   "outputs": [
    {
     "name": "stdout",
     "output_type": "stream",
     "text": [
      "45046\n",
      "250000\n"
     ]
    }
   ],
   "source": [
    "# import relevant modules with pd as an alias for pandas and plt as an alias for matplotlib.pyplot\n",
    "import pandas as pd\n",
    "import matplotlib.pyplot as plt\n",
    "\n",
    "# load csv file \"TMA_Data.csv\" into a dataframe name employee_data\n",
    "employee_data = pd.read_csv(\"/Users/feliciashun/Desktop/SUSS/Y5S1/ANL252/TMA_Data.csv\")\n",
    "\n",
    "# display data rows\n",
    "# employee_data.head()\n",
    "\n",
    "# capture dataframe\n",
    "df = pd.DataFrame(employee_data, columns = [\"Salary\"])\n",
    "\n",
    "# cast \"Price\" column of the dataframe into a list \n",
    "salary_list = list(employee_data[\"Salary\"])\n",
    "\n",
    "# salary_min and salary_max are the minimum and maximum value respectively of the salary list\n",
    "salary_min = min(salary_list)\n",
    "salary_max = max(salary_list)\n",
    "\n",
    "# print salary_min and salary_max to see its values\n",
    "print(salary_min)\n",
    "print(salary_max)"
   ]
  },
  {
   "cell_type": "code",
   "execution_count": 2,
   "id": "3ab67bae",
   "metadata": {},
   "outputs": [
    {
     "data": {
      "text/html": [
       "<div>\n",
       "<style scoped>\n",
       "    .dataframe tbody tr th:only-of-type {\n",
       "        vertical-align: middle;\n",
       "    }\n",
       "\n",
       "    .dataframe tbody tr th {\n",
       "        vertical-align: top;\n",
       "    }\n",
       "\n",
       "    .dataframe thead th {\n",
       "        text-align: right;\n",
       "    }\n",
       "</style>\n",
       "<table border=\"1\" class=\"dataframe\">\n",
       "  <thead>\n",
       "    <tr style=\"text-align: right;\">\n",
       "      <th></th>\n",
       "      <th>Salary</th>\n",
       "    </tr>\n",
       "    <tr>\n",
       "      <th>salaryrange</th>\n",
       "      <th></th>\n",
       "    </tr>\n",
       "  </thead>\n",
       "  <tbody>\n",
       "    <tr>\n",
       "      <th>37500-49999</th>\n",
       "      <td>26</td>\n",
       "    </tr>\n",
       "    <tr>\n",
       "      <th>50000-62499</th>\n",
       "      <td>92</td>\n",
       "    </tr>\n",
       "    <tr>\n",
       "      <th>62500-74999</th>\n",
       "      <td>79</td>\n",
       "    </tr>\n",
       "    <tr>\n",
       "      <th>75000-87499</th>\n",
       "      <td>14</td>\n",
       "    </tr>\n",
       "    <tr>\n",
       "      <th>87500-99999</th>\n",
       "      <td>20</td>\n",
       "    </tr>\n",
       "    <tr>\n",
       "      <th>100000-112499</th>\n",
       "      <td>9</td>\n",
       "    </tr>\n",
       "    <tr>\n",
       "      <th>112500-124999</th>\n",
       "      <td>2</td>\n",
       "    </tr>\n",
       "    <tr>\n",
       "      <th>125000-137499</th>\n",
       "      <td>0</td>\n",
       "    </tr>\n",
       "    <tr>\n",
       "      <th>137500-149999</th>\n",
       "      <td>3</td>\n",
       "    </tr>\n",
       "    <tr>\n",
       "      <th>150000-162499</th>\n",
       "      <td>2</td>\n",
       "    </tr>\n",
       "    <tr>\n",
       "      <th>162500-174999</th>\n",
       "      <td>0</td>\n",
       "    </tr>\n",
       "    <tr>\n",
       "      <th>175000-187499</th>\n",
       "      <td>2</td>\n",
       "    </tr>\n",
       "    <tr>\n",
       "      <th>187500-199999</th>\n",
       "      <td>0</td>\n",
       "    </tr>\n",
       "    <tr>\n",
       "      <th>200000-212499</th>\n",
       "      <td>0</td>\n",
       "    </tr>\n",
       "    <tr>\n",
       "      <th>212500-224999</th>\n",
       "      <td>0</td>\n",
       "    </tr>\n",
       "    <tr>\n",
       "      <th>225000-237499</th>\n",
       "      <td>0</td>\n",
       "    </tr>\n",
       "    <tr>\n",
       "      <th>237500-250000</th>\n",
       "      <td>1</td>\n",
       "    </tr>\n",
       "  </tbody>\n",
       "</table>\n",
       "</div>"
      ],
      "text/plain": [
       "               Salary\n",
       "salaryrange          \n",
       "37500-49999        26\n",
       "50000-62499        92\n",
       "62500-74999        79\n",
       "75000-87499        14\n",
       "87500-99999        20\n",
       "100000-112499       9\n",
       "112500-124999       2\n",
       "125000-137499       0\n",
       "137500-149999       3\n",
       "150000-162499       2\n",
       "162500-174999       0\n",
       "175000-187499       2\n",
       "187500-199999       0\n",
       "200000-212499       0\n",
       "212500-224999       0\n",
       "225000-237499       0\n",
       "237500-250000       1"
      ]
     },
     "execution_count": 2,
     "metadata": {},
     "output_type": "execute_result"
    }
   ],
   "source": [
    "# create bins and labels. Start from 37,500 as the lowest value to maximum value of 250,000.\n",
    "salary_bins = [37500,50000,62500,75000,87500,100000,112500,125000,137500,150000,162500,175000,187500,200000,212500,225000,237500,250000]\n",
    "salary_labels = ['37500-49999','50000-62499','62500-74999','75000-87499','87500-99999','100000-112499','112500-124999','125000-137499','137500-149999','150000-162499','162500-174999','175000-187499','187500-199999','200000-212499','212500-224999','225000-237499','237500-250000']\n",
    "df['salaryrange'] = pd.cut(df.Salary, bins = salary_bins, labels = salary_labels)\n",
    "\n",
    "# create pivot table\n",
    "pivot_table = pd.pivot_table(df, index ='salaryrange',values=['Salary'], aggfunc='count')\n",
    "pivot_table"
   ]
  },
  {
   "cell_type": "code",
   "execution_count": 3,
   "id": "0ba3192d",
   "metadata": {},
   "outputs": [
    {
     "data": {
      "image/png": "[encoded data removed]",
      "text/plain": [
       "<Figure size 1440x720 with 1 Axes>"
      ]
     },
     "metadata": {
      "needs_background": "light"
     },
     "output_type": "display_data"
    }
   ],
   "source": [
    "# figure assigns an area for the chart. Figsize represents the figure size in inches.\n",
    "plt.figure(figsize = (20,10))\n",
    "\n",
    "# histogram with 20 bins, range from 0 to salary_max, bins are centered between the bin edges, vertical orientation, relative width of 80%\n",
    "plt.hist(salary_list, bins = 20, range = (0, salary_max), color = \"orange\", align = \"mid\", orientation = \"vertical\", rwidth = 0.8)\n",
    "plt.title(\"Distribution of salaries\", fontsize = 30, weight = \"bold\")\n",
    "plt.xticks(ticks = range(37500, 262500, 12500), labels = range(37500, 262500, 12500))\n",
    "plt.yticks(ticks = range(0, 110, 10), labels = range(0, 110, 10))\n",
    "plt.xlabel(\"Salary ($)\", fontsize = 18)\n",
    "plt.ylabel(\"Number of staffs\", fontsize = 18)\n",
    "\n",
    "plt.show()"
   ]
  },
  {
   "cell_type": "markdown",
   "id": "9fb621f0",
   "metadata": {},
   "source": [
    "<u>Bar Chart"
   ]
  },
  {
   "cell_type": "code",
   "execution_count": 4,
   "id": "9b52baa0",
   "metadata": {
    "scrolled": true
   },
   "outputs": [
    {
     "data": {
      "text/html": [
       "<div>\n",
       "<style scoped>\n",
       "    .dataframe tbody tr th:only-of-type {\n",
       "        vertical-align: middle;\n",
       "    }\n",
       "\n",
       "    .dataframe tbody tr th {\n",
       "        vertical-align: top;\n",
       "    }\n",
       "\n",
       "    .dataframe thead tr th {\n",
       "        text-align: left;\n",
       "    }\n",
       "\n",
       "    .dataframe thead tr:last-of-type th {\n",
       "        text-align: right;\n",
       "    }\n",
       "</style>\n",
       "<table border=\"1\" class=\"dataframe\">\n",
       "  <thead>\n",
       "    <tr>\n",
       "      <th></th>\n",
       "      <th colspan=\"2\" halign=\"left\">Frequency</th>\n",
       "    </tr>\n",
       "    <tr>\n",
       "      <th>Gender</th>\n",
       "      <th>F</th>\n",
       "      <th>M</th>\n",
       "    </tr>\n",
       "    <tr>\n",
       "      <th>Unit</th>\n",
       "      <th></th>\n",
       "      <th></th>\n",
       "    </tr>\n",
       "  </thead>\n",
       "  <tbody>\n",
       "    <tr>\n",
       "      <th>Admin</th>\n",
       "      <td>4</td>\n",
       "      <td>3</td>\n",
       "    </tr>\n",
       "    <tr>\n",
       "      <th>C-Level</th>\n",
       "      <td>1</td>\n",
       "      <td>0</td>\n",
       "    </tr>\n",
       "    <tr>\n",
       "      <th>Engineering</th>\n",
       "      <td>5</td>\n",
       "      <td>5</td>\n",
       "    </tr>\n",
       "    <tr>\n",
       "      <th>IT</th>\n",
       "      <td>18</td>\n",
       "      <td>23</td>\n",
       "    </tr>\n",
       "    <tr>\n",
       "      <th>Manufacturing</th>\n",
       "      <td>105</td>\n",
       "      <td>64</td>\n",
       "    </tr>\n",
       "    <tr>\n",
       "      <th>Sales</th>\n",
       "      <td>11</td>\n",
       "      <td>11</td>\n",
       "    </tr>\n",
       "  </tbody>\n",
       "</table>\n",
       "</div>"
      ],
      "text/plain": [
       "              Frequency    \n",
       "Gender                F  M \n",
       "Unit                       \n",
       "Admin                 4   3\n",
       "C-Level               1   0\n",
       "Engineering           5   5\n",
       "IT                   18  23\n",
       "Manufacturing       105  64\n",
       "Sales                11  11"
      ]
     },
     "execution_count": 4,
     "metadata": {},
     "output_type": "execute_result"
    }
   ],
   "source": [
    "# import relevant modules with pd as an alias for pandas and plt as an alias for matplotlib.pyplot\n",
    "import pandas as pd\n",
    "import matplotlib.pyplot as plt\n",
    "\n",
    "# read csv file \"TMA_Data.csv\" into a dataframe name employee_data\n",
    "employee_data = pd.read_csv(\"/Users/feliciashun/Desktop/SUSS/Y5S1/ANL252/TMA_Data.csv\")\n",
    "\n",
    "# capture dataframe\n",
    "df = pd.DataFrame(employee_data, columns = [\"Gender\", \"Unit\"])\n",
    "\n",
    "# create frequency columns based on gender\n",
    "df['Frequency'] = df.groupby([\"Gender\"])[\"Gender\"].transform(\"count\")\n",
    "\n",
    "# create pivot table. Null values replaced with 0 using fill_value.\n",
    "df_pivot = df.pivot_table(index = [\"Unit\"], values = [\"Frequency\"], columns = [\"Gender\"], aggfunc = \"count\", fill_value = 0)\n",
    "df_pivot"
   ]
  },
  {
   "cell_type": "code",
   "execution_count": 5,
   "id": "4370ec57",
   "metadata": {
    "scrolled": false
   },
   "outputs": [
    {
     "data": {
      "text/plain": [
       "Text(0, 0.5, 'Number of staffs')"
      ]
     },
     "execution_count": 5,
     "metadata": {},
     "output_type": "execute_result"
    },
    {
     "data": {
      "image/png": "[encoded data removed]",
      "text/plain": [
       "<Figure size 720x720 with 1 Axes>"
      ]
     },
     "metadata": {
      "needs_background": "light"
     },
     "output_type": "display_data"
    }
   ],
   "source": [
    "# plot bar chart using the dataframe\n",
    "bar_chart = df_pivot.plot.bar(stacked = True, color = [\"red\", \"blue\"], figsize = (10,10), rot = 1)\n",
    "\n",
    "plt.title(\"Gender porportion of staffs by unit\", fontsize = 20, weight = \"bold\")\n",
    "plt.yticks(ticks = range(0, 190, 20), labels = range(0, 190, 20))\n",
    "plt.xlabel(\"Unit\", fontsize = 18)\n",
    "plt.ylabel(\"Number of staffs\", fontsize = 18)"
   ]
  },
  {
   "cell_type": "markdown",
   "id": "5fd760b6",
   "metadata": {},
   "source": [
    "(c)"
   ]
  },
  {
   "cell_type": "code",
   "execution_count": 6,
   "id": "bba4599f",
   "metadata": {
    "scrolled": false
   },
   "outputs": [
    {
     "name": "stdout",
     "output_type": "stream",
     "text": [
      "      ID             Staff   BirthYear Gender   Marital   Citizenship  \\\n",
      "0      1   Aairah Hastings   10/7/1986      F    Single       Citizen   \n",
      "1      2  Aaminah Mcmillan    05/25/86      F   Married       Citizen   \n",
      "2      3      Aamna Howell    04/20/85      F    Single       Citizen   \n",
      "3      4     Aayan Ferrell   6/10/1984     M    Married       Citizen   \n",
      "4      5        Ace Potter    9/8/1989      F  Divorced       Citizen   \n",
      "..   ...               ...         ...    ...       ...           ...   \n",
      "245  246     Zaina Parrish  10/11/1981      F   Married  Non-Resident   \n",
      "246  247       Zane Downes    10/24/87     M    Married  Non-Resident   \n",
      "247  248       Zayd Farley    7/9/1970     M     Single  Non-Resident   \n",
      "248  249       Zoya Easton    8/2/1980      F    Single  Non-Resident   \n",
      "249  250    Zuzanna Pruitt    05/21/87      F    Single  Non-Resident   \n",
      "\n",
      "    Minority   JoinDate   LeftDate           Unit  Salary PerformanceScore  \\\n",
      "0        Yes 2012-04-02 2022-05-01  Manufacturing   46335             Meet   \n",
      "1         No 2014-05-12 2022-05-01  Manufacturing   66825             Meet   \n",
      "2         No 2014-09-29 2022-05-01  Manufacturing   60446             Meet   \n",
      "3         No 2016-01-05 2022-05-01         Admin    93046             Meet   \n",
      "4         No 2011-07-11 2020-09-06  Manufacturing   50825             Meet   \n",
      "..       ...        ...        ...            ...     ...              ...   \n",
      "245       No 2015-02-16 2022-05-01             IT   89883             Meet   \n",
      "246       No 2017-04-20 2022-05-01             IT   90100             Meet   \n",
      "247       No 2014-01-05 2022-05-01             IT  138888           Exceed   \n",
      "248       No 2012-08-13 2015-09-01  Manufacturing   50274       To Improve   \n",
      "249       No 2015-03-30 2022-05-01  Manufacturing   55315             Meet   \n",
      "\n",
      "     Survey  Satisfaction  Absence  LengthOfService  \n",
      "0      3.40             5       15        10.078236  \n",
      "1      4.60             3       20         7.970047  \n",
      "2      3.40             4       14         7.586740  \n",
      "3      4.10             4       20         6.319089  \n",
      "4      5.00             4        2         9.158299  \n",
      "..      ...           ...      ...              ...  \n",
      "245    3.69             5       15         7.203433  \n",
      "246    3.40             3       14         5.029535  \n",
      "247    4.30             5        4         8.317761  \n",
      "248    2.50             3       13         3.050028  \n",
      "249    5.00             5       16         7.088441  \n",
      "\n",
      "[250 rows x 16 columns]\n"
     ]
    }
   ],
   "source": [
    "# import relevant modules with pd as an alias for pandas and np as an alias for numpy\n",
    "import pandas as pd\n",
    "import numpy as np\n",
    "\n",
    "# read csv file \"TMA_Data.csv\" into a dataframe name employee_data\n",
    "employee_data = pd.read_csv(\"/Users/feliciashun/Desktop/SUSS/Y5S1/ANL252/TMA_Data.csv\")\n",
    "\n",
    "# capture dataframe\n",
    "df = pd.DataFrame(employee_data)\n",
    "\n",
    "#fill missing values NaN under LeftDate column with \"1/5/2022\"\n",
    "df[\"LeftDate\"].fillna(\"5/1/2022\", inplace = True)\n",
    "\n",
    "# format JoinDate date format\n",
    "df[\"JoinDate\"] = pd.to_datetime(df.JoinDate)\n",
    "\n",
    "# format LeftDate date format\n",
    "df[\"LeftDate\"] = pd.to_datetime(df.LeftDate)\n",
    "\n",
    "# calculate length of service in years\n",
    "df['LengthOfService'] = df['LeftDate'] - df['JoinDate']\n",
    "df['LengthOfService'] = df['LengthOfService']/np.timedelta64(1,'Y')\n",
    "print(df)"
   ]
  },
  {
   "cell_type": "code",
   "execution_count": 7,
   "id": "2b8e4b20",
   "metadata": {},
   "outputs": [
    {
     "name": "stdout",
     "output_type": "stream",
     "text": [
      "The minimum, maximum and average length of service of the staffs are 0.1, 16.3, 6.8 years respectively.\n"
     ]
    }
   ],
   "source": [
    "# calculate minimum length of service\n",
    "min_srv = df['LengthOfService'].min()\n",
    "min_years = round(min_srv,1)\n",
    "\n",
    "# calculate maximum length of service\n",
    "max_srv = df['LengthOfService'].max()\n",
    "max_years = round(max_srv,1)\n",
    "\n",
    "# calculate average length of service\n",
    "avg_srv = df['LengthOfService'].mean()\n",
    "avg_years = round(avg_srv,1)\n",
    "\n",
    "print(f\"The minimum, maximum and average length of service of the staffs are {min_years}, {max_years}, {avg_years} years respectively.\")"
   ]
  },
  {
   "cell_type": "markdown",
   "id": "e8cd9318",
   "metadata": {},
   "source": [
    "(d)"
   ]
  },
  {
   "cell_type": "code",
   "execution_count": 8,
   "id": "2511dca2",
   "metadata": {},
   "outputs": [],
   "source": [
    "# import relevant modules with pd as an alias for pandas\n",
    "import pandas as pd\n",
    "\n",
    "# read csv file \"TMA_Data.csv\" into a dataframe name employee_data\n",
    "employee_data = pd.read_csv(\"/Users/feliciashun/Desktop/SUSS/Y5S1/ANL252/TMA_Data.csv\")\n",
    "\n",
    "# capture dataframe\n",
    "df = pd.DataFrame(employee_data, columns = [\"Staff\"])"
   ]
  },
  {
   "cell_type": "code",
   "execution_count": null,
   "id": "acfa8f90",
   "metadata": {
    "scrolled": true
   },
   "outputs": [
    {
     "name": "stdout",
     "output_type": "stream",
     "text": [
      "--------------------------------------\n",
      "Welcome to our organization's records.\n"
     ]
    }
   ],
   "source": [
    "# print user input using while loop to allow iterations unless user chooses otherwise\n",
    "print(\"--------------------------------------\")\n",
    "print(\"Welcome to our organization's records.\")\n",
    " \n",
    "valid_input = False\n",
    "\n",
    "while valid_input == False:\n",
    "    try:\n",
    "        enquire_input = str(input(\"Would you like to enquire if a person is a staff of our organization? (Y/N):\"))\n",
    "        if enquire_input == \"Y\":\n",
    "            input_name = str(input(\"Please enter the full name that is registered with our organization:\"))\n",
    "            if input_name in df.values:\n",
    "                print(f\"The name, {input_name}, can be found in our organization's records.\") \n",
    "            else:\n",
    "                print(f\"The name, {input_name}, cannot be found in our organization's records.\") \n",
    "        elif enquire_input == \"N\":\n",
    "            valid_input = True\n",
    "            print(\"The enquiry shall end.\")\n",
    "    except ValueError:\n",
    "        print(\"Wrong out\")"
   ]
  }
 ],
 "metadata": {
  "kernelspec": {
   "display_name": "Python 3",
   "language": "python",
   "name": "python3"
  },
  "language_info": {
   "codemirror_mode": {
    "name": "ipython",
    "version": 3
   },
   "file_extension": ".py",
   "mimetype": "text/x-python",
   "name": "python",
   "nbconvert_exporter": "python",
   "pygments_lexer": "ipython3",
   "version": "3.8.8"
  }
 },
 "nbformat": 4,
 "nbformat_minor": 5
}
