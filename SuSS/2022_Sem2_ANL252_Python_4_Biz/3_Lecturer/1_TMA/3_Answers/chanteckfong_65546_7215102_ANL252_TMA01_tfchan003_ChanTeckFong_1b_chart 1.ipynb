{
 "cells": [
  {
   "cell_type": "code",
   "execution_count": 1,
   "id": "775fc3fd",
   "metadata": {},
   "outputs": [],
   "source": [
    "import pandas as pd"
   ]
  },
  {
   "cell_type": "code",
   "execution_count": 2,
   "id": "87586241",
   "metadata": {},
   "outputs": [],
   "source": [
    "import matplotlib.pyplot as plt"
   ]
  },
  {
   "cell_type": "code",
   "execution_count": 3,
   "id": "8a3d5661",
   "metadata": {},
   "outputs": [],
   "source": [
    "import numpy as np"
   ]
  },
  {
   "cell_type": "code",
   "execution_count": 4,
   "id": "4ead04a6",
   "metadata": {},
   "outputs": [],
   "source": [
    "df = pd.read_csv(\"C:\\\\Users\\\\Candice\\\\Desktop\\\\Python practice\\\\TMA_Data.csv\")"
   ]
  },
  {
   "cell_type": "code",
   "execution_count": 5,
   "id": "c09123af",
   "metadata": {},
   "outputs": [],
   "source": [
    "df1 = df.groupby(['Unit', 'Gender'])['Gender'].count().unstack().fillna(0)"
   ]
  },
  {
   "cell_type": "code",
   "execution_count": 6,
   "id": "1ae1f11a",
   "metadata": {},
   "outputs": [],
   "source": [
    "## Create another column as total to sort stack bar in ascending order"
   ]
  },
  {
   "cell_type": "code",
   "execution_count": 7,
   "id": "58718531",
   "metadata": {},
   "outputs": [],
   "source": [
    "df1['total'] = df1.sum(axis=1)\n",
    "df1=df1.sort_values('total', ascending=False)"
   ]
  },
  {
   "cell_type": "code",
   "execution_count": 8,
   "id": "c533de77",
   "metadata": {},
   "outputs": [
    {
     "name": "stdout",
     "output_type": "stream",
     "text": [
      "Gender             F    M   total\n",
      "Unit                             \n",
      "Manufacturing  105.0  64.0  169.0\n",
      "IT              18.0  23.0   41.0\n",
      "Sales           11.0  11.0   22.0\n",
      "Engineering      5.0   5.0   10.0\n",
      "Admin            4.0   3.0    7.0\n",
      "C-Level          1.0   0.0    1.0\n"
     ]
    }
   ],
   "source": [
    "print(df1)\n",
    "## Summarised table for Staff’s Gender by Business Unit is produced"
   ]
  },
  {
   "cell_type": "code",
   "execution_count": 9,
   "id": "78b547a8",
   "metadata": {},
   "outputs": [],
   "source": [
    "#To drop column total so that when plot stack bar, will not include total figure"
   ]
  },
  {
   "cell_type": "code",
   "execution_count": 10,
   "id": "d40eed56",
   "metadata": {},
   "outputs": [],
   "source": [
    "df1.drop('total', inplace=True, axis=1)"
   ]
  },
  {
   "cell_type": "code",
   "execution_count": 11,
   "id": "29943c20",
   "metadata": {},
   "outputs": [
    {
     "data": {
      "text/plain": [
       "(array([0, 1, 2, 3, 4, 5]),\n",
       " [Text(0, 0, 'Manufacturing'),\n",
       "  Text(1, 0, 'IT'),\n",
       "  Text(2, 0, 'Sales'),\n",
       "  Text(3, 0, 'Engineering'),\n",
       "  Text(4, 0, 'Admin '),\n",
       "  Text(5, 0, 'C-Level')])"
      ]
     },
     "execution_count": 11,
     "metadata": {},
     "output_type": "execute_result"
    },
    {
     "data": {
      "image/png": "[encoded data removed]",
      "text/plain": [
       "<Figure size 432x288 with 1 Axes>"
      ]
     },
     "metadata": {
      "needs_background": "light"
     },
     "output_type": "display_data"
    }
   ],
   "source": [
    "df1.plot(kind='bar', stacked=True)\n",
    "plt.title(\"Staff's Gender by Business Unit\")\n",
    "plt.xlabel(\"Business Unit\")\n",
    "plt.ylabel(\"No. of Staffs\")\n",
    "plt.xticks(rotation=0, ha='center')"
   ]
  },
  {
   "cell_type": "code",
   "execution_count": 12,
   "id": "b3e1e552",
   "metadata": {},
   "outputs": [],
   "source": [
    "plt.show()"
   ]
  },
  {
   "cell_type": "code",
   "execution_count": null,
   "id": "983587f9",
   "metadata": {},
   "outputs": [],
   "source": []
  }
 ],
 "metadata": {
  "kernelspec": {
   "display_name": "Python 3 (ipykernel)",
   "language": "python",
   "name": "python3"
  },
  "language_info": {
   "codemirror_mode": {
    "name": "ipython",
    "version": 3
   },
   "file_extension": ".py",
   "mimetype": "text/x-python",
   "name": "python",
   "nbconvert_exporter": "python",
   "pygments_lexer": "ipython3",
   "version": "3.9.12"
  }
 },
 "nbformat": 4,
 "nbformat_minor": 5
}
