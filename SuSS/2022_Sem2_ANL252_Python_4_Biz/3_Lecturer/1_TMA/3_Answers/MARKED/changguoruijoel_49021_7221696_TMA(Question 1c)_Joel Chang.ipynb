{
 "cells": [
  {
   "cell_type": "code",
   "execution_count": 1,
   "id": "6a5180db",
   "metadata": {},
   "outputs": [],
   "source": [
    "import pandas as pd\n",
    "import numpy as np\n",
    "import datetime\n",
    "from datetime import datetime\n",
    "from datetime import date\n",
    "df = pd.read_csv('TMA_Data.csv')\n",
    "df2 = df[df['LeftDate'].isna()]"
   ]
  },
  {
   "cell_type": "code",
   "execution_count": 2,
   "id": "877a4c35",
   "metadata": {},
   "outputs": [
    {
     "name": "stdout",
     "output_type": "stream",
     "text": [
      "The minimum service length of Staff (as of 1 May 2022) is 0.5 years\n",
      "The longest service length of Staff (as of 1 May 2022) is 16.3 years\n",
      "The average service length of Staff (as of 1 May 2022) is 8.4 years\n"
     ]
    },
    {
     "name": "stderr",
     "output_type": "stream",
     "text": [
      "C:\\Users\\mkumar\\AppData\\Local\\Temp\\ipykernel_11812\\3849979920.py:3: SettingWithCopyWarning: \n",
      "A value is trying to be set on a copy of a slice from a DataFrame.\n",
      "Try using .loc[row_indexer,col_indexer] = value instead\n",
      "\n",
      "See the caveats in the documentation: https://pandas.pydata.org/pandas-docs/stable/user_guide/indexing.html#returning-a-view-versus-a-copy\n",
      "  df2['JoinDate'] = pd.to_datetime(df2['JoinDate'])\n"
     ]
    }
   ],
   "source": [
    "#a date to substract dates in csv\n",
    "defined_date = pd.to_datetime('5/1/2022')\n",
    "df2['JoinDate'] = pd.to_datetime(df2['JoinDate'])\n",
    "\n",
    "diff=(defined_date - df2['JoinDate']).dt.days\n",
    "minmum=diff.min()/365\n",
    "maximum=diff.max()/365\n",
    "average=diff.mean()/365\n",
    "\n",
    "print('The minimum service length of Staff (as of 1 May 2022) is ' + \"{:.1f}\".format(minmum) +' years')\n",
    "print('The longest service length of Staff (as of 1 May 2022) is ' + \"{:.1f}\".format(maximum) +' years')\n",
    "print('The average service length of Staff (as of 1 May 2022) is ' + \"{:.1f}\".format(average) +' years')"
   ]
  },
  {
   "cell_type": "code",
   "execution_count": null,
   "id": "f1d56826",
   "metadata": {},
   "outputs": [],
   "source": []
  }
 ],
 "metadata": {
  "kernelspec": {
   "display_name": "Python 3 (ipykernel)",
   "language": "python",
   "name": "python3"
  },
  "language_info": {
   "codemirror_mode": {
    "name": "ipython",
    "version": 3
   },
   "file_extension": ".py",
   "mimetype": "text/x-python",
   "name": "python",
   "nbconvert_exporter": "python",
   "pygments_lexer": "ipython3",
   "version": "3.9.12"
  }
 },
 "nbformat": 4,
 "nbformat_minor": 5
}
