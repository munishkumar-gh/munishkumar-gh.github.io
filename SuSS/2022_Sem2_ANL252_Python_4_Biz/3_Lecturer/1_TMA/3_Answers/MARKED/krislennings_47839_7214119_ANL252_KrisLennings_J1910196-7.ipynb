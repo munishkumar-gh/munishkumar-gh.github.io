{
 "cells": [
  {
   "attachments": {
    "1.jpg": {
     "image/jpeg": "[encoded data removed]"
    }
   },
   "cell_type": "markdown",
   "id": "9256e32d",
   "metadata": {},
   "source": [
    "![1.jpg](attachment:1.jpg)\n",
    "# <p style ='text-align: center;'> ANL252 </p>\n",
    "## <p style ='text-align: center;'> Python for Data Analysis </p>\n",
    "## <p style ='text-align: center;'> Tutor-Marked Assignment </p>"
   ]
  },
  {
   "cell_type": "markdown",
   "id": "2f00280f",
   "metadata": {},
   "source": [
    "# Qn1b "
   ]
  },
  {
   "cell_type": "markdown",
   "id": "b98f31ab",
   "metadata": {},
   "source": [
    "#### i.\n",
    "\n",
    "#### In order to generate the above charts and tables, we need to import the following packages and modules into the Jupyter environment. "
   ]
  },
  {
   "cell_type": "code",
   "execution_count": 1,
   "id": "d3e95c5a",
   "metadata": {},
   "outputs": [],
   "source": [
    "# import pandas as pd: This module provides users to access the pandas module functions that enables them to read a csv or xlxs data file.\n",
    "# import numpy as np: This module allows users to work the high multidimensional array and matrices contain in the data file.\n",
    "# from matplotlib import pyplot as plt. This module allows users to create figures, plots and labels in the Jupyter environment\n",
    "# import seaborn as sns. This module allows users to visualise data by creating of graphs and plots.\n",
    "\n",
    "import pandas as pd\n",
    "\n",
    "import numpy as np\n",
    "\n",
    "from matplotlib import pyplot as plt\n",
    "\n",
    "import seaborn as sns"
   ]
  },
  {
   "cell_type": "markdown",
   "id": "2b4030d8",
   "metadata": {},
   "source": [
    "#### ii.\n",
    "\n",
    "#### Next, we need to load the TMA_Data as a data frame (df) and inspect its structure."
   ]
  },
  {
   "cell_type": "code",
   "execution_count": 2,
   "id": "123a322e",
   "metadata": {
    "scrolled": false
   },
   "outputs": [
    {
     "data": {
      "text/html": [
       "<div>\n",
       "<style scoped>\n",
       "    .dataframe tbody tr th:only-of-type {\n",
       "        vertical-align: middle;\n",
       "    }\n",
       "\n",
       "    .dataframe tbody tr th {\n",
       "        vertical-align: top;\n",
       "    }\n",
       "\n",
       "    .dataframe thead th {\n",
       "        text-align: right;\n",
       "    }\n",
       "</style>\n",
       "<table border=\"1\" class=\"dataframe\">\n",
       "  <thead>\n",
       "    <tr style=\"text-align: right;\">\n",
       "      <th></th>\n",
       "      <th>ID</th>\n",
       "      <th>Staff</th>\n",
       "      <th>BirthYear</th>\n",
       "      <th>Gender</th>\n",
       "      <th>Marital</th>\n",
       "      <th>Citizenship</th>\n",
       "      <th>Minority</th>\n",
       "      <th>JoinDate</th>\n",
       "      <th>LeftDate</th>\n",
       "      <th>Unit</th>\n",
       "      <th>Salary</th>\n",
       "      <th>PerformanceScore</th>\n",
       "      <th>Survey</th>\n",
       "      <th>Satisfaction</th>\n",
       "      <th>Absence</th>\n",
       "    </tr>\n",
       "  </thead>\n",
       "  <tbody>\n",
       "    <tr>\n",
       "      <th>0</th>\n",
       "      <td>1</td>\n",
       "      <td>Aairah Hastings</td>\n",
       "      <td>1986-07-10 00:00:00</td>\n",
       "      <td>F</td>\n",
       "      <td>Single</td>\n",
       "      <td>Citizen</td>\n",
       "      <td>Yes</td>\n",
       "      <td>2012-02-04 00:00:00</td>\n",
       "      <td>NaN</td>\n",
       "      <td>Manufacturing</td>\n",
       "      <td>46335</td>\n",
       "      <td>Meet</td>\n",
       "      <td>3.40</td>\n",
       "      <td>5</td>\n",
       "      <td>15</td>\n",
       "    </tr>\n",
       "    <tr>\n",
       "      <th>1</th>\n",
       "      <td>2</td>\n",
       "      <td>Aaminah Mcmillan</td>\n",
       "      <td>05/25/86</td>\n",
       "      <td>F</td>\n",
       "      <td>Married</td>\n",
       "      <td>Citizen</td>\n",
       "      <td>No</td>\n",
       "      <td>2014-12-05 00:00:00</td>\n",
       "      <td>NaN</td>\n",
       "      <td>Manufacturing</td>\n",
       "      <td>66825</td>\n",
       "      <td>Meet</td>\n",
       "      <td>4.60</td>\n",
       "      <td>3</td>\n",
       "      <td>20</td>\n",
       "    </tr>\n",
       "    <tr>\n",
       "      <th>2</th>\n",
       "      <td>3</td>\n",
       "      <td>Aamna Howell</td>\n",
       "      <td>04/20/85</td>\n",
       "      <td>F</td>\n",
       "      <td>Single</td>\n",
       "      <td>Citizen</td>\n",
       "      <td>No</td>\n",
       "      <td>9/29/2014</td>\n",
       "      <td>NaN</td>\n",
       "      <td>Manufacturing</td>\n",
       "      <td>60446</td>\n",
       "      <td>Meet</td>\n",
       "      <td>3.40</td>\n",
       "      <td>4</td>\n",
       "      <td>14</td>\n",
       "    </tr>\n",
       "    <tr>\n",
       "      <th>3</th>\n",
       "      <td>4</td>\n",
       "      <td>Aayan Ferrell</td>\n",
       "      <td>1984-10-06 00:00:00</td>\n",
       "      <td>M</td>\n",
       "      <td>Married</td>\n",
       "      <td>Citizen</td>\n",
       "      <td>No</td>\n",
       "      <td>2016-05-01 00:00:00</td>\n",
       "      <td>NaN</td>\n",
       "      <td>Admin</td>\n",
       "      <td>93046</td>\n",
       "      <td>Meet</td>\n",
       "      <td>4.10</td>\n",
       "      <td>4</td>\n",
       "      <td>20</td>\n",
       "    </tr>\n",
       "    <tr>\n",
       "      <th>4</th>\n",
       "      <td>5</td>\n",
       "      <td>Ace Potter</td>\n",
       "      <td>1989-08-09 00:00:00</td>\n",
       "      <td>F</td>\n",
       "      <td>Divorced</td>\n",
       "      <td>Citizen</td>\n",
       "      <td>No</td>\n",
       "      <td>2011-11-07 00:00:00</td>\n",
       "      <td>2020-06-09 00:00:00</td>\n",
       "      <td>Manufacturing</td>\n",
       "      <td>50825</td>\n",
       "      <td>Meet</td>\n",
       "      <td>5.00</td>\n",
       "      <td>4</td>\n",
       "      <td>2</td>\n",
       "    </tr>\n",
       "    <tr>\n",
       "      <th>...</th>\n",
       "      <td>...</td>\n",
       "      <td>...</td>\n",
       "      <td>...</td>\n",
       "      <td>...</td>\n",
       "      <td>...</td>\n",
       "      <td>...</td>\n",
       "      <td>...</td>\n",
       "      <td>...</td>\n",
       "      <td>...</td>\n",
       "      <td>...</td>\n",
       "      <td>...</td>\n",
       "      <td>...</td>\n",
       "      <td>...</td>\n",
       "      <td>...</td>\n",
       "      <td>...</td>\n",
       "    </tr>\n",
       "    <tr>\n",
       "      <th>245</th>\n",
       "      <td>246</td>\n",
       "      <td>Zaina Parrish</td>\n",
       "      <td>1981-11-10 00:00:00</td>\n",
       "      <td>F</td>\n",
       "      <td>Married</td>\n",
       "      <td>Non-Resident</td>\n",
       "      <td>No</td>\n",
       "      <td>2/16/2015</td>\n",
       "      <td>NaN</td>\n",
       "      <td>IT</td>\n",
       "      <td>89883</td>\n",
       "      <td>Meet</td>\n",
       "      <td>3.69</td>\n",
       "      <td>5</td>\n",
       "      <td>15</td>\n",
       "    </tr>\n",
       "    <tr>\n",
       "      <th>246</th>\n",
       "      <td>247</td>\n",
       "      <td>Zane Downes</td>\n",
       "      <td>10/24/87</td>\n",
       "      <td>M</td>\n",
       "      <td>Married</td>\n",
       "      <td>Non-Resident</td>\n",
       "      <td>No</td>\n",
       "      <td>4/20/2017</td>\n",
       "      <td>NaN</td>\n",
       "      <td>IT</td>\n",
       "      <td>90100</td>\n",
       "      <td>Meet</td>\n",
       "      <td>3.40</td>\n",
       "      <td>3</td>\n",
       "      <td>14</td>\n",
       "    </tr>\n",
       "    <tr>\n",
       "      <th>247</th>\n",
       "      <td>248</td>\n",
       "      <td>Zayd Farley</td>\n",
       "      <td>1970-09-07 00:00:00</td>\n",
       "      <td>M</td>\n",
       "      <td>Single</td>\n",
       "      <td>Non-Resident</td>\n",
       "      <td>No</td>\n",
       "      <td>2014-05-01 00:00:00</td>\n",
       "      <td>NaN</td>\n",
       "      <td>IT</td>\n",
       "      <td>138888</td>\n",
       "      <td>Exceed</td>\n",
       "      <td>4.30</td>\n",
       "      <td>5</td>\n",
       "      <td>4</td>\n",
       "    </tr>\n",
       "    <tr>\n",
       "      <th>248</th>\n",
       "      <td>249</td>\n",
       "      <td>Zoya Easton</td>\n",
       "      <td>1980-02-08 00:00:00</td>\n",
       "      <td>F</td>\n",
       "      <td>Single</td>\n",
       "      <td>Non-Resident</td>\n",
       "      <td>No</td>\n",
       "      <td>8/13/2012</td>\n",
       "      <td>2015-01-09 00:00:00</td>\n",
       "      <td>Manufacturing</td>\n",
       "      <td>50274</td>\n",
       "      <td>To Improve</td>\n",
       "      <td>2.50</td>\n",
       "      <td>3</td>\n",
       "      <td>13</td>\n",
       "    </tr>\n",
       "    <tr>\n",
       "      <th>249</th>\n",
       "      <td>250</td>\n",
       "      <td>Zuzanna Pruitt</td>\n",
       "      <td>05/21/87</td>\n",
       "      <td>F</td>\n",
       "      <td>Single</td>\n",
       "      <td>Non-Resident</td>\n",
       "      <td>No</td>\n",
       "      <td>3/30/2015</td>\n",
       "      <td>NaN</td>\n",
       "      <td>Manufacturing</td>\n",
       "      <td>55315</td>\n",
       "      <td>Meet</td>\n",
       "      <td>5.00</td>\n",
       "      <td>5</td>\n",
       "      <td>16</td>\n",
       "    </tr>\n",
       "  </tbody>\n",
       "</table>\n",
       "<p>250 rows × 15 columns</p>\n",
       "</div>"
      ],
      "text/plain": [
       "      ID             Staff            BirthYear Gender   Marital  \\\n",
       "0      1   Aairah Hastings  1986-07-10 00:00:00      F    Single   \n",
       "1      2  Aaminah Mcmillan             05/25/86      F   Married   \n",
       "2      3      Aamna Howell             04/20/85      F    Single   \n",
       "3      4     Aayan Ferrell  1984-10-06 00:00:00     M    Married   \n",
       "4      5        Ace Potter  1989-08-09 00:00:00      F  Divorced   \n",
       "..   ...               ...                  ...    ...       ...   \n",
       "245  246     Zaina Parrish  1981-11-10 00:00:00      F   Married   \n",
       "246  247       Zane Downes             10/24/87     M    Married   \n",
       "247  248       Zayd Farley  1970-09-07 00:00:00     M     Single   \n",
       "248  249       Zoya Easton  1980-02-08 00:00:00      F    Single   \n",
       "249  250    Zuzanna Pruitt             05/21/87      F    Single   \n",
       "\n",
       "      Citizenship Minority             JoinDate             LeftDate  \\\n",
       "0         Citizen      Yes  2012-02-04 00:00:00                  NaN   \n",
       "1         Citizen       No  2014-12-05 00:00:00                  NaN   \n",
       "2         Citizen       No            9/29/2014                  NaN   \n",
       "3         Citizen       No  2016-05-01 00:00:00                  NaN   \n",
       "4         Citizen       No  2011-11-07 00:00:00  2020-06-09 00:00:00   \n",
       "..            ...      ...                  ...                  ...   \n",
       "245  Non-Resident       No            2/16/2015                  NaN   \n",
       "246  Non-Resident       No            4/20/2017                  NaN   \n",
       "247  Non-Resident       No  2014-05-01 00:00:00                  NaN   \n",
       "248  Non-Resident       No            8/13/2012  2015-01-09 00:00:00   \n",
       "249  Non-Resident       No            3/30/2015                  NaN   \n",
       "\n",
       "              Unit  Salary PerformanceScore  Survey  Satisfaction  Absence  \n",
       "0    Manufacturing   46335             Meet    3.40             5       15  \n",
       "1    Manufacturing   66825             Meet    4.60             3       20  \n",
       "2    Manufacturing   60446             Meet    3.40             4       14  \n",
       "3           Admin    93046             Meet    4.10             4       20  \n",
       "4    Manufacturing   50825             Meet    5.00             4        2  \n",
       "..             ...     ...              ...     ...           ...      ...  \n",
       "245             IT   89883             Meet    3.69             5       15  \n",
       "246             IT   90100             Meet    3.40             3       14  \n",
       "247             IT  138888           Exceed    4.30             5        4  \n",
       "248  Manufacturing   50274       To Improve    2.50             3       13  \n",
       "249  Manufacturing   55315             Meet    5.00             5       16  \n",
       "\n",
       "[250 rows x 15 columns]"
      ]
     },
     "execution_count": 2,
     "metadata": {},
     "output_type": "execute_result"
    }
   ],
   "source": [
    "df = pd.read_excel('TMA.xlsx')\n",
    "\n",
    "df"
   ]
  },
  {
   "cell_type": "markdown",
   "id": "dd065f55",
   "metadata": {},
   "source": [
    "#### iii.\n",
    "\n",
    "#### Next, we must explore the data types and check for any missing data in the data frame (df). This is to help users understand the data types and objects contained in the dataset. From the output below, we can observe that the ‘LeftDate’ column contains about 165 (250-85) missing values. "
   ]
  },
  {
   "cell_type": "code",
   "execution_count": 3,
   "id": "1db42c91",
   "metadata": {},
   "outputs": [
    {
     "name": "stdout",
     "output_type": "stream",
     "text": [
      "<class 'pandas.core.frame.DataFrame'>\n",
      "RangeIndex: 250 entries, 0 to 249\n",
      "Data columns (total 15 columns):\n",
      " #   Column            Non-Null Count  Dtype  \n",
      "---  ------            --------------  -----  \n",
      " 0   ID                250 non-null    int64  \n",
      " 1   Staff             250 non-null    object \n",
      " 2   BirthYear         250 non-null    object \n",
      " 3   Gender            250 non-null    object \n",
      " 4   Marital           250 non-null    object \n",
      " 5   Citizenship       250 non-null    object \n",
      " 6   Minority          250 non-null    object \n",
      " 7   JoinDate          250 non-null    object \n",
      " 8   LeftDate          85 non-null     object \n",
      " 9   Unit              250 non-null    object \n",
      " 10  Salary            250 non-null    int64  \n",
      " 11  PerformanceScore  250 non-null    object \n",
      " 12  Survey            250 non-null    float64\n",
      " 13  Satisfaction      250 non-null    int64  \n",
      " 14  Absence           250 non-null    int64  \n",
      "dtypes: float64(1), int64(4), object(10)\n",
      "memory usage: 29.4+ KB\n"
     ]
    }
   ],
   "source": [
    "df.info()"
   ]
  },
  {
   "cell_type": "code",
   "execution_count": 4,
   "id": "3333b1e8",
   "metadata": {},
   "outputs": [
    {
     "data": {
      "text/plain": [
       "ID                    0\n",
       "Staff                 0\n",
       "BirthYear             0\n",
       "Gender                0\n",
       "Marital               0\n",
       "Citizenship           0\n",
       "Minority              0\n",
       "JoinDate              0\n",
       "LeftDate            165\n",
       "Unit                  0\n",
       "Salary                0\n",
       "PerformanceScore      0\n",
       "Survey                0\n",
       "Satisfaction          0\n",
       "Absence               0\n",
       "dtype: int64"
      ]
     },
     "execution_count": 4,
     "metadata": {},
     "output_type": "execute_result"
    }
   ],
   "source": [
    "df.isna().sum()"
   ]
  },
  {
   "cell_type": "markdown",
   "id": "febae499",
   "metadata": {},
   "source": [
    "#### iv.\n",
    "\n",
    "#### To replace the missing values in the ‘LeftDate’ column with 2022-05-01, we need to input the following codes below. Once the missing data has been replaced, we can begin generating the necessary charts and tables in the Jupyter environment."
   ]
  },
  {
   "cell_type": "code",
   "execution_count": 5,
   "id": "6702de22",
   "metadata": {},
   "outputs": [
    {
     "data": {
      "text/html": [
       "<div>\n",
       "<style scoped>\n",
       "    .dataframe tbody tr th:only-of-type {\n",
       "        vertical-align: middle;\n",
       "    }\n",
       "\n",
       "    .dataframe tbody tr th {\n",
       "        vertical-align: top;\n",
       "    }\n",
       "\n",
       "    .dataframe thead th {\n",
       "        text-align: right;\n",
       "    }\n",
       "</style>\n",
       "<table border=\"1\" class=\"dataframe\">\n",
       "  <thead>\n",
       "    <tr style=\"text-align: right;\">\n",
       "      <th></th>\n",
       "      <th>ID</th>\n",
       "      <th>Staff</th>\n",
       "      <th>BirthYear</th>\n",
       "      <th>Gender</th>\n",
       "      <th>Marital</th>\n",
       "      <th>Citizenship</th>\n",
       "      <th>Minority</th>\n",
       "      <th>JoinDate</th>\n",
       "      <th>LeftDate</th>\n",
       "      <th>Unit</th>\n",
       "      <th>Salary</th>\n",
       "      <th>PerformanceScore</th>\n",
       "      <th>Survey</th>\n",
       "      <th>Satisfaction</th>\n",
       "      <th>Absence</th>\n",
       "    </tr>\n",
       "  </thead>\n",
       "  <tbody>\n",
       "    <tr>\n",
       "      <th>0</th>\n",
       "      <td>1</td>\n",
       "      <td>Aairah Hastings</td>\n",
       "      <td>1986-07-10 00:00:00</td>\n",
       "      <td>F</td>\n",
       "      <td>Single</td>\n",
       "      <td>Citizen</td>\n",
       "      <td>Yes</td>\n",
       "      <td>2012-02-04 00:00:00</td>\n",
       "      <td>2022-05-01 00:00:00</td>\n",
       "      <td>Manufacturing</td>\n",
       "      <td>46335</td>\n",
       "      <td>Meet</td>\n",
       "      <td>3.40</td>\n",
       "      <td>5</td>\n",
       "      <td>15</td>\n",
       "    </tr>\n",
       "    <tr>\n",
       "      <th>1</th>\n",
       "      <td>2</td>\n",
       "      <td>Aaminah Mcmillan</td>\n",
       "      <td>05/25/86</td>\n",
       "      <td>F</td>\n",
       "      <td>Married</td>\n",
       "      <td>Citizen</td>\n",
       "      <td>No</td>\n",
       "      <td>2014-12-05 00:00:00</td>\n",
       "      <td>2022-05-01 00:00:00</td>\n",
       "      <td>Manufacturing</td>\n",
       "      <td>66825</td>\n",
       "      <td>Meet</td>\n",
       "      <td>4.60</td>\n",
       "      <td>3</td>\n",
       "      <td>20</td>\n",
       "    </tr>\n",
       "    <tr>\n",
       "      <th>2</th>\n",
       "      <td>3</td>\n",
       "      <td>Aamna Howell</td>\n",
       "      <td>04/20/85</td>\n",
       "      <td>F</td>\n",
       "      <td>Single</td>\n",
       "      <td>Citizen</td>\n",
       "      <td>No</td>\n",
       "      <td>9/29/2014</td>\n",
       "      <td>2022-05-01 00:00:00</td>\n",
       "      <td>Manufacturing</td>\n",
       "      <td>60446</td>\n",
       "      <td>Meet</td>\n",
       "      <td>3.40</td>\n",
       "      <td>4</td>\n",
       "      <td>14</td>\n",
       "    </tr>\n",
       "    <tr>\n",
       "      <th>3</th>\n",
       "      <td>4</td>\n",
       "      <td>Aayan Ferrell</td>\n",
       "      <td>1984-10-06 00:00:00</td>\n",
       "      <td>M</td>\n",
       "      <td>Married</td>\n",
       "      <td>Citizen</td>\n",
       "      <td>No</td>\n",
       "      <td>2016-05-01 00:00:00</td>\n",
       "      <td>2022-05-01 00:00:00</td>\n",
       "      <td>Admin</td>\n",
       "      <td>93046</td>\n",
       "      <td>Meet</td>\n",
       "      <td>4.10</td>\n",
       "      <td>4</td>\n",
       "      <td>20</td>\n",
       "    </tr>\n",
       "    <tr>\n",
       "      <th>4</th>\n",
       "      <td>5</td>\n",
       "      <td>Ace Potter</td>\n",
       "      <td>1989-08-09 00:00:00</td>\n",
       "      <td>F</td>\n",
       "      <td>Divorced</td>\n",
       "      <td>Citizen</td>\n",
       "      <td>No</td>\n",
       "      <td>2011-11-07 00:00:00</td>\n",
       "      <td>2020-06-09 00:00:00</td>\n",
       "      <td>Manufacturing</td>\n",
       "      <td>50825</td>\n",
       "      <td>Meet</td>\n",
       "      <td>5.00</td>\n",
       "      <td>4</td>\n",
       "      <td>2</td>\n",
       "    </tr>\n",
       "    <tr>\n",
       "      <th>...</th>\n",
       "      <td>...</td>\n",
       "      <td>...</td>\n",
       "      <td>...</td>\n",
       "      <td>...</td>\n",
       "      <td>...</td>\n",
       "      <td>...</td>\n",
       "      <td>...</td>\n",
       "      <td>...</td>\n",
       "      <td>...</td>\n",
       "      <td>...</td>\n",
       "      <td>...</td>\n",
       "      <td>...</td>\n",
       "      <td>...</td>\n",
       "      <td>...</td>\n",
       "      <td>...</td>\n",
       "    </tr>\n",
       "    <tr>\n",
       "      <th>245</th>\n",
       "      <td>246</td>\n",
       "      <td>Zaina Parrish</td>\n",
       "      <td>1981-11-10 00:00:00</td>\n",
       "      <td>F</td>\n",
       "      <td>Married</td>\n",
       "      <td>Non-Resident</td>\n",
       "      <td>No</td>\n",
       "      <td>2/16/2015</td>\n",
       "      <td>2022-05-01 00:00:00</td>\n",
       "      <td>IT</td>\n",
       "      <td>89883</td>\n",
       "      <td>Meet</td>\n",
       "      <td>3.69</td>\n",
       "      <td>5</td>\n",
       "      <td>15</td>\n",
       "    </tr>\n",
       "    <tr>\n",
       "      <th>246</th>\n",
       "      <td>247</td>\n",
       "      <td>Zane Downes</td>\n",
       "      <td>10/24/87</td>\n",
       "      <td>M</td>\n",
       "      <td>Married</td>\n",
       "      <td>Non-Resident</td>\n",
       "      <td>No</td>\n",
       "      <td>4/20/2017</td>\n",
       "      <td>2022-05-01 00:00:00</td>\n",
       "      <td>IT</td>\n",
       "      <td>90100</td>\n",
       "      <td>Meet</td>\n",
       "      <td>3.40</td>\n",
       "      <td>3</td>\n",
       "      <td>14</td>\n",
       "    </tr>\n",
       "    <tr>\n",
       "      <th>247</th>\n",
       "      <td>248</td>\n",
       "      <td>Zayd Farley</td>\n",
       "      <td>1970-09-07 00:00:00</td>\n",
       "      <td>M</td>\n",
       "      <td>Single</td>\n",
       "      <td>Non-Resident</td>\n",
       "      <td>No</td>\n",
       "      <td>2014-05-01 00:00:00</td>\n",
       "      <td>2022-05-01 00:00:00</td>\n",
       "      <td>IT</td>\n",
       "      <td>138888</td>\n",
       "      <td>Exceed</td>\n",
       "      <td>4.30</td>\n",
       "      <td>5</td>\n",
       "      <td>4</td>\n",
       "    </tr>\n",
       "    <tr>\n",
       "      <th>248</th>\n",
       "      <td>249</td>\n",
       "      <td>Zoya Easton</td>\n",
       "      <td>1980-02-08 00:00:00</td>\n",
       "      <td>F</td>\n",
       "      <td>Single</td>\n",
       "      <td>Non-Resident</td>\n",
       "      <td>No</td>\n",
       "      <td>8/13/2012</td>\n",
       "      <td>2015-01-09 00:00:00</td>\n",
       "      <td>Manufacturing</td>\n",
       "      <td>50274</td>\n",
       "      <td>To Improve</td>\n",
       "      <td>2.50</td>\n",
       "      <td>3</td>\n",
       "      <td>13</td>\n",
       "    </tr>\n",
       "    <tr>\n",
       "      <th>249</th>\n",
       "      <td>250</td>\n",
       "      <td>Zuzanna Pruitt</td>\n",
       "      <td>05/21/87</td>\n",
       "      <td>F</td>\n",
       "      <td>Single</td>\n",
       "      <td>Non-Resident</td>\n",
       "      <td>No</td>\n",
       "      <td>3/30/2015</td>\n",
       "      <td>2022-05-01 00:00:00</td>\n",
       "      <td>Manufacturing</td>\n",
       "      <td>55315</td>\n",
       "      <td>Meet</td>\n",
       "      <td>5.00</td>\n",
       "      <td>5</td>\n",
       "      <td>16</td>\n",
       "    </tr>\n",
       "  </tbody>\n",
       "</table>\n",
       "<p>250 rows × 15 columns</p>\n",
       "</div>"
      ],
      "text/plain": [
       "      ID             Staff            BirthYear Gender   Marital  \\\n",
       "0      1   Aairah Hastings  1986-07-10 00:00:00      F    Single   \n",
       "1      2  Aaminah Mcmillan             05/25/86      F   Married   \n",
       "2      3      Aamna Howell             04/20/85      F    Single   \n",
       "3      4     Aayan Ferrell  1984-10-06 00:00:00     M    Married   \n",
       "4      5        Ace Potter  1989-08-09 00:00:00      F  Divorced   \n",
       "..   ...               ...                  ...    ...       ...   \n",
       "245  246     Zaina Parrish  1981-11-10 00:00:00      F   Married   \n",
       "246  247       Zane Downes             10/24/87     M    Married   \n",
       "247  248       Zayd Farley  1970-09-07 00:00:00     M     Single   \n",
       "248  249       Zoya Easton  1980-02-08 00:00:00      F    Single   \n",
       "249  250    Zuzanna Pruitt             05/21/87      F    Single   \n",
       "\n",
       "      Citizenship Minority             JoinDate             LeftDate  \\\n",
       "0         Citizen      Yes  2012-02-04 00:00:00  2022-05-01 00:00:00   \n",
       "1         Citizen       No  2014-12-05 00:00:00  2022-05-01 00:00:00   \n",
       "2         Citizen       No            9/29/2014  2022-05-01 00:00:00   \n",
       "3         Citizen       No  2016-05-01 00:00:00  2022-05-01 00:00:00   \n",
       "4         Citizen       No  2011-11-07 00:00:00  2020-06-09 00:00:00   \n",
       "..            ...      ...                  ...                  ...   \n",
       "245  Non-Resident       No            2/16/2015  2022-05-01 00:00:00   \n",
       "246  Non-Resident       No            4/20/2017  2022-05-01 00:00:00   \n",
       "247  Non-Resident       No  2014-05-01 00:00:00  2022-05-01 00:00:00   \n",
       "248  Non-Resident       No            8/13/2012  2015-01-09 00:00:00   \n",
       "249  Non-Resident       No            3/30/2015  2022-05-01 00:00:00   \n",
       "\n",
       "              Unit  Salary PerformanceScore  Survey  Satisfaction  Absence  \n",
       "0    Manufacturing   46335             Meet    3.40             5       15  \n",
       "1    Manufacturing   66825             Meet    4.60             3       20  \n",
       "2    Manufacturing   60446             Meet    3.40             4       14  \n",
       "3           Admin    93046             Meet    4.10             4       20  \n",
       "4    Manufacturing   50825             Meet    5.00             4        2  \n",
       "..             ...     ...              ...     ...           ...      ...  \n",
       "245             IT   89883             Meet    3.69             5       15  \n",
       "246             IT   90100             Meet    3.40             3       14  \n",
       "247             IT  138888           Exceed    4.30             5        4  \n",
       "248  Manufacturing   50274       To Improve    2.50             3       13  \n",
       "249  Manufacturing   55315             Meet    5.00             5       16  \n",
       "\n",
       "[250 rows x 15 columns]"
      ]
     },
     "execution_count": 5,
     "metadata": {},
     "output_type": "execute_result"
    }
   ],
   "source": [
    "end = pd.to_datetime('2022-05-01')\n",
    "\n",
    "df['LeftDate'] = df['LeftDate'].fillna(end)\n",
    "\n",
    "df"
   ]
  },
  {
   "cell_type": "markdown",
   "id": "eb6a0e3d",
   "metadata": {},
   "source": [
    "#### v.\n",
    "\n",
    "#### To generate the chart for ‘Distribution of Staff by Gender', we need to input the following codes below."
   ]
  },
  {
   "cell_type": "code",
   "execution_count": 6,
   "id": "0672aa22",
   "metadata": {},
   "outputs": [
    {
     "data": {
      "text/plain": [
       "Text(0.5, 1.0, 'Distribution of Staff by Gender')"
      ]
     },
     "execution_count": 6,
     "metadata": {},
     "output_type": "execute_result"
    },
    {
     "data": {
      "image/png": "[encoded data removed]",
      "text/plain": [
       "<Figure size 432x288 with 1 Axes>"
      ]
     },
     "metadata": {
      "needs_background": "light"
     },
     "output_type": "display_data"
    }
   ],
   "source": [
    "Unit_order = ['Admin','C-Level','Engineering','IT','Manufacturing','Sales']\n",
    "\n",
    "ax = sns.countplot(x='Unit',data=df, hue='Gender', order=Unit_order)\n",
    "\n",
    "for container in ax.containers:\n",
    "    ax.bar_label(container)\n",
    "\n",
    "p = ax\n",
    "\n",
    "p.set_title(\"Distribution of Staff by Gender\")\n"
   ]
  },
  {
   "cell_type": "markdown",
   "id": "a46a678d",
   "metadata": {},
   "source": [
    "#### vi.\n",
    "\n",
    "#### To generate the chart for ‘Distribution of Staff by Citizenship', we need to input the following codes below."
   ]
  },
  {
   "cell_type": "code",
   "execution_count": 7,
   "id": "b8266b18",
   "metadata": {},
   "outputs": [
    {
     "data": {
      "text/plain": [
       "Text(0.5, 1.0, 'Distribution of Staff by Citizenship')"
      ]
     },
     "execution_count": 7,
     "metadata": {},
     "output_type": "execute_result"
    },
    {
     "data": {
      "image/png": "[encoded data removed]",
      "text/plain": [
       "<Figure size 432x288 with 1 Axes>"
      ]
     },
     "metadata": {
      "needs_background": "light"
     },
     "output_type": "display_data"
    }
   ],
   "source": [
    "Unit_order = ['Admin','C-Level','Engineering','IT','Manufacturing','Sales']\n",
    "\n",
    "ax = sns.countplot(x='Unit',data=df, hue='Citizenship', order=Unit_order)\n",
    "\n",
    "for container in ax.containers:\n",
    "    ax.bar_label(container)\n",
    "\n",
    "p = ax\n",
    "\n",
    "p.set_title(\"Distribution of Staff by Citizenship\")\n"
   ]
  },
  {
   "cell_type": "markdown",
   "id": "a384cf7d",
   "metadata": {},
   "source": [
    "#### vii.\n",
    "\n",
    "#### Before we can generate the 'Corresponding Summarised tables,' we must first install the following packages in the Jupyter environment.  First, we need to install the ‘pip install prettytable’ module. This module allows users to create an ASCII table in the Jupyter environment. "
   ]
  },
  {
   "cell_type": "code",
   "execution_count": 8,
   "id": "1c285d17",
   "metadata": {},
   "outputs": [
    {
     "name": "stdout",
     "output_type": "stream",
     "text": [
      "Requirement already satisfied: prettytable in c:\\users\\quant\\anaconda3\\lib\\site-packages (0.7.2)\n",
      "Note: you may need to restart the kernel to use updated packages.\n"
     ]
    }
   ],
   "source": [
    "#pip install prettytable"
   ]
  },
  {
   "cell_type": "markdown",
   "id": "5e6d2209",
   "metadata": {},
   "source": [
    "#### Next, to generate the ‘Corresponding Summarised tables’, we need to input the following codes below."
   ]
  },
  {
   "cell_type": "code",
   "execution_count": 9,
   "id": "2c2d20f0",
   "metadata": {},
   "outputs": [
    {
     "data": {
      "text/plain": [
       "<prettytable.PrettyTable at 0x1d03c26d488>"
      ]
     },
     "execution_count": 9,
     "metadata": {},
     "output_type": "execute_result"
    }
   ],
   "source": [
    "from prettytable import PrettyTable\n",
    "\n",
    "SummarisedTable = PrettyTable(['','Admin','C-Level','Engineering','IT', 'Manufacturing', 'Sales', 'Total'])\n",
    "SummarisedTable.add_row(['Female','4','1','5','18','105','11','144'])\n",
    "SummarisedTable.add_row(['Male','3','0','5','23','64','11','106'])\n",
    "SummarisedTable.add_row(['Citizen','6','1','7','30','134','19','197'])\n",
    "SummarisedTable.add_row(['Non-Resident','0','0','1','5','10','0','16'])\n",
    "SummarisedTable.add_row(['PR','1','0','2','6','25','3','37'])\n",
    "(SummarisedTable)"
   ]
  },
  {
   "cell_type": "markdown",
   "id": "5c16d154",
   "metadata": {},
   "source": [
    "# Qn1c"
   ]
  },
  {
   "cell_type": "markdown",
   "id": "9459d444",
   "metadata": {},
   "source": [
    "#### i.\n",
    "\n",
    "#### To calculate the length of service for all staff, we must create a new column that subtracts the values from the 'LeftDate' column from the values in the 'JoinDate’ column. The obtained subtracted values will then be converted into time-delta days before being divided by the value 365. The new column's final values will then be rounded to one decimal place.\n"
   ]
  },
  {
   "cell_type": "code",
   "execution_count": 10,
   "id": "4edba3c3",
   "metadata": {
    "scrolled": false
   },
   "outputs": [
    {
     "ename": "TypeError",
     "evalue": "unsupported operand type(s) for -: 'Timestamp' and 'str'",
     "output_type": "error",
     "traceback": [
      "\u001b[1;31m---------------------------------------------------------------------------\u001b[0m",
      "\u001b[1;31mTypeError\u001b[0m                                 Traceback (most recent call last)",
      "\u001b[1;32m~\\Anaconda3\\lib\\site-packages\\pandas\\core\\ops\\array_ops.py\u001b[0m in \u001b[0;36m_na_arithmetic_op\u001b[1;34m(left, right, op, is_cmp)\u001b[0m\n\u001b[0;32m    165\u001b[0m     \u001b[1;32mtry\u001b[0m\u001b[1;33m:\u001b[0m\u001b[1;33m\u001b[0m\u001b[1;33m\u001b[0m\u001b[0m\n\u001b[1;32m--> 166\u001b[1;33m         \u001b[0mresult\u001b[0m \u001b[1;33m=\u001b[0m \u001b[0mfunc\u001b[0m\u001b[1;33m(\u001b[0m\u001b[0mleft\u001b[0m\u001b[1;33m,\u001b[0m \u001b[0mright\u001b[0m\u001b[1;33m)\u001b[0m\u001b[1;33m\u001b[0m\u001b[1;33m\u001b[0m\u001b[0m\n\u001b[0m\u001b[0;32m    167\u001b[0m     \u001b[1;32mexcept\u001b[0m \u001b[0mTypeError\u001b[0m\u001b[1;33m:\u001b[0m\u001b[1;33m\u001b[0m\u001b[1;33m\u001b[0m\u001b[0m\n",
      "\u001b[1;32m~\\Anaconda3\\lib\\site-packages\\pandas\\core\\computation\\expressions.py\u001b[0m in \u001b[0;36mevaluate\u001b[1;34m(op, a, b, use_numexpr)\u001b[0m\n\u001b[0;32m    238\u001b[0m             \u001b[1;31m# error: \"None\" not callable\u001b[0m\u001b[1;33m\u001b[0m\u001b[1;33m\u001b[0m\u001b[1;33m\u001b[0m\u001b[0m\n\u001b[1;32m--> 239\u001b[1;33m             \u001b[1;32mreturn\u001b[0m \u001b[0m_evaluate\u001b[0m\u001b[1;33m(\u001b[0m\u001b[0mop\u001b[0m\u001b[1;33m,\u001b[0m \u001b[0mop_str\u001b[0m\u001b[1;33m,\u001b[0m \u001b[0ma\u001b[0m\u001b[1;33m,\u001b[0m \u001b[0mb\u001b[0m\u001b[1;33m)\u001b[0m  \u001b[1;31m# type: ignore[misc]\u001b[0m\u001b[1;33m\u001b[0m\u001b[1;33m\u001b[0m\u001b[0m\n\u001b[0m\u001b[0;32m    240\u001b[0m     \u001b[1;32mreturn\u001b[0m \u001b[0m_evaluate_standard\u001b[0m\u001b[1;33m(\u001b[0m\u001b[0mop\u001b[0m\u001b[1;33m,\u001b[0m \u001b[0mop_str\u001b[0m\u001b[1;33m,\u001b[0m \u001b[0ma\u001b[0m\u001b[1;33m,\u001b[0m \u001b[0mb\u001b[0m\u001b[1;33m)\u001b[0m\u001b[1;33m\u001b[0m\u001b[1;33m\u001b[0m\u001b[0m\n",
      "\u001b[1;32m~\\Anaconda3\\lib\\site-packages\\pandas\\core\\computation\\expressions.py\u001b[0m in \u001b[0;36m_evaluate_numexpr\u001b[1;34m(op, op_str, a, b)\u001b[0m\n\u001b[0;32m    127\u001b[0m     \u001b[1;32mif\u001b[0m \u001b[0mresult\u001b[0m \u001b[1;32mis\u001b[0m \u001b[1;32mNone\u001b[0m\u001b[1;33m:\u001b[0m\u001b[1;33m\u001b[0m\u001b[1;33m\u001b[0m\u001b[0m\n\u001b[1;32m--> 128\u001b[1;33m         \u001b[0mresult\u001b[0m \u001b[1;33m=\u001b[0m \u001b[0m_evaluate_standard\u001b[0m\u001b[1;33m(\u001b[0m\u001b[0mop\u001b[0m\u001b[1;33m,\u001b[0m \u001b[0mop_str\u001b[0m\u001b[1;33m,\u001b[0m \u001b[0ma\u001b[0m\u001b[1;33m,\u001b[0m \u001b[0mb\u001b[0m\u001b[1;33m)\u001b[0m\u001b[1;33m\u001b[0m\u001b[1;33m\u001b[0m\u001b[0m\n\u001b[0m\u001b[0;32m    129\u001b[0m \u001b[1;33m\u001b[0m\u001b[0m\n",
      "\u001b[1;32m~\\Anaconda3\\lib\\site-packages\\pandas\\core\\computation\\expressions.py\u001b[0m in \u001b[0;36m_evaluate_standard\u001b[1;34m(op, op_str, a, b)\u001b[0m\n\u001b[0;32m     68\u001b[0m         \u001b[0m_store_test_result\u001b[0m\u001b[1;33m(\u001b[0m\u001b[1;32mFalse\u001b[0m\u001b[1;33m)\u001b[0m\u001b[1;33m\u001b[0m\u001b[1;33m\u001b[0m\u001b[0m\n\u001b[1;32m---> 69\u001b[1;33m     \u001b[1;32mreturn\u001b[0m \u001b[0mop\u001b[0m\u001b[1;33m(\u001b[0m\u001b[0ma\u001b[0m\u001b[1;33m,\u001b[0m \u001b[0mb\u001b[0m\u001b[1;33m)\u001b[0m\u001b[1;33m\u001b[0m\u001b[1;33m\u001b[0m\u001b[0m\n\u001b[0m\u001b[0;32m     70\u001b[0m \u001b[1;33m\u001b[0m\u001b[0m\n",
      "\u001b[1;31mTypeError\u001b[0m: unsupported operand type(s) for -: 'Timestamp' and 'str'",
      "\nDuring handling of the above exception, another exception occurred:\n",
      "\u001b[1;31mTypeError\u001b[0m                                 Traceback (most recent call last)",
      "\u001b[1;32m~\\AppData\\Local\\Temp\\ipykernel_13632\\3078103369.py\u001b[0m in \u001b[0;36m<module>\u001b[1;34m\u001b[0m\n\u001b[1;32m----> 1\u001b[1;33m \u001b[0mdf\u001b[0m\u001b[1;33m[\u001b[0m\u001b[1;34m'Length of Service (Years)'\u001b[0m\u001b[1;33m]\u001b[0m \u001b[1;33m=\u001b[0m \u001b[1;33m(\u001b[0m\u001b[0mdf\u001b[0m\u001b[1;33m[\u001b[0m\u001b[1;34m'LeftDate'\u001b[0m\u001b[1;33m]\u001b[0m \u001b[1;33m-\u001b[0m \u001b[0mdf\u001b[0m\u001b[1;33m[\u001b[0m\u001b[1;34m'JoinDate'\u001b[0m\u001b[1;33m]\u001b[0m\u001b[1;33m)\u001b[0m\u001b[1;33m\u001b[0m\u001b[1;33m\u001b[0m\u001b[0m\n\u001b[0m\u001b[0;32m      2\u001b[0m \u001b[1;33m\u001b[0m\u001b[0m\n\u001b[0;32m      3\u001b[0m \u001b[0mdf\u001b[0m\u001b[1;33m[\u001b[0m\u001b[1;34m'Length of Service (Years)'\u001b[0m\u001b[1;33m]\u001b[0m \u001b[1;33m=\u001b[0m \u001b[0mdf\u001b[0m\u001b[1;33m[\u001b[0m\u001b[1;34m'Length of Service (Years)'\u001b[0m\u001b[1;33m]\u001b[0m \u001b[1;33m/\u001b[0m \u001b[0mnp\u001b[0m\u001b[1;33m.\u001b[0m\u001b[0mtimedelta64\u001b[0m\u001b[1;33m(\u001b[0m\u001b[1;36m1\u001b[0m\u001b[1;33m,\u001b[0m \u001b[1;34m'D'\u001b[0m\u001b[1;33m)\u001b[0m\u001b[1;33m\u001b[0m\u001b[1;33m\u001b[0m\u001b[0m\n\u001b[0;32m      4\u001b[0m \u001b[1;33m\u001b[0m\u001b[0m\n\u001b[0;32m      5\u001b[0m \u001b[0mdf\u001b[0m\u001b[1;33m[\u001b[0m\u001b[1;34m'Length of Service (Years)'\u001b[0m\u001b[1;33m]\u001b[0m \u001b[1;33m=\u001b[0m \u001b[0mdf\u001b[0m\u001b[1;33m[\u001b[0m\u001b[1;34m'Length of Service (Years)'\u001b[0m\u001b[1;33m]\u001b[0m \u001b[1;33m/\u001b[0m\u001b[1;36m365\u001b[0m\u001b[1;33m\u001b[0m\u001b[1;33m\u001b[0m\u001b[0m\n",
      "\u001b[1;32m~\\Anaconda3\\lib\\site-packages\\pandas\\core\\ops\\common.py\u001b[0m in \u001b[0;36mnew_method\u001b[1;34m(self, other)\u001b[0m\n\u001b[0;32m     67\u001b[0m         \u001b[0mother\u001b[0m \u001b[1;33m=\u001b[0m \u001b[0mitem_from_zerodim\u001b[0m\u001b[1;33m(\u001b[0m\u001b[0mother\u001b[0m\u001b[1;33m)\u001b[0m\u001b[1;33m\u001b[0m\u001b[1;33m\u001b[0m\u001b[0m\n\u001b[0;32m     68\u001b[0m \u001b[1;33m\u001b[0m\u001b[0m\n\u001b[1;32m---> 69\u001b[1;33m         \u001b[1;32mreturn\u001b[0m \u001b[0mmethod\u001b[0m\u001b[1;33m(\u001b[0m\u001b[0mself\u001b[0m\u001b[1;33m,\u001b[0m \u001b[0mother\u001b[0m\u001b[1;33m)\u001b[0m\u001b[1;33m\u001b[0m\u001b[1;33m\u001b[0m\u001b[0m\n\u001b[0m\u001b[0;32m     70\u001b[0m \u001b[1;33m\u001b[0m\u001b[0m\n\u001b[0;32m     71\u001b[0m     \u001b[1;32mreturn\u001b[0m \u001b[0mnew_method\u001b[0m\u001b[1;33m\u001b[0m\u001b[1;33m\u001b[0m\u001b[0m\n",
      "\u001b[1;32m~\\Anaconda3\\lib\\site-packages\\pandas\\core\\arraylike.py\u001b[0m in \u001b[0;36m__sub__\u001b[1;34m(self, other)\u001b[0m\n\u001b[0;32m     98\u001b[0m     \u001b[1;33m@\u001b[0m\u001b[0munpack_zerodim_and_defer\u001b[0m\u001b[1;33m(\u001b[0m\u001b[1;34m\"__sub__\"\u001b[0m\u001b[1;33m)\u001b[0m\u001b[1;33m\u001b[0m\u001b[1;33m\u001b[0m\u001b[0m\n\u001b[0;32m     99\u001b[0m     \u001b[1;32mdef\u001b[0m \u001b[0m__sub__\u001b[0m\u001b[1;33m(\u001b[0m\u001b[0mself\u001b[0m\u001b[1;33m,\u001b[0m \u001b[0mother\u001b[0m\u001b[1;33m)\u001b[0m\u001b[1;33m:\u001b[0m\u001b[1;33m\u001b[0m\u001b[1;33m\u001b[0m\u001b[0m\n\u001b[1;32m--> 100\u001b[1;33m         \u001b[1;32mreturn\u001b[0m \u001b[0mself\u001b[0m\u001b[1;33m.\u001b[0m\u001b[0m_arith_method\u001b[0m\u001b[1;33m(\u001b[0m\u001b[0mother\u001b[0m\u001b[1;33m,\u001b[0m \u001b[0moperator\u001b[0m\u001b[1;33m.\u001b[0m\u001b[0msub\u001b[0m\u001b[1;33m)\u001b[0m\u001b[1;33m\u001b[0m\u001b[1;33m\u001b[0m\u001b[0m\n\u001b[0m\u001b[0;32m    101\u001b[0m \u001b[1;33m\u001b[0m\u001b[0m\n\u001b[0;32m    102\u001b[0m     \u001b[1;33m@\u001b[0m\u001b[0munpack_zerodim_and_defer\u001b[0m\u001b[1;33m(\u001b[0m\u001b[1;34m\"__rsub__\"\u001b[0m\u001b[1;33m)\u001b[0m\u001b[1;33m\u001b[0m\u001b[1;33m\u001b[0m\u001b[0m\n",
      "\u001b[1;32m~\\Anaconda3\\lib\\site-packages\\pandas\\core\\series.py\u001b[0m in \u001b[0;36m_arith_method\u001b[1;34m(self, other, op)\u001b[0m\n\u001b[0;32m   5524\u001b[0m \u001b[1;33m\u001b[0m\u001b[0m\n\u001b[0;32m   5525\u001b[0m         \u001b[1;32mwith\u001b[0m \u001b[0mnp\u001b[0m\u001b[1;33m.\u001b[0m\u001b[0merrstate\u001b[0m\u001b[1;33m(\u001b[0m\u001b[0mall\u001b[0m\u001b[1;33m=\u001b[0m\u001b[1;34m\"ignore\"\u001b[0m\u001b[1;33m)\u001b[0m\u001b[1;33m:\u001b[0m\u001b[1;33m\u001b[0m\u001b[1;33m\u001b[0m\u001b[0m\n\u001b[1;32m-> 5526\u001b[1;33m             \u001b[0mresult\u001b[0m \u001b[1;33m=\u001b[0m \u001b[0mops\u001b[0m\u001b[1;33m.\u001b[0m\u001b[0marithmetic_op\u001b[0m\u001b[1;33m(\u001b[0m\u001b[0mlvalues\u001b[0m\u001b[1;33m,\u001b[0m \u001b[0mrvalues\u001b[0m\u001b[1;33m,\u001b[0m \u001b[0mop\u001b[0m\u001b[1;33m)\u001b[0m\u001b[1;33m\u001b[0m\u001b[1;33m\u001b[0m\u001b[0m\n\u001b[0m\u001b[0;32m   5527\u001b[0m \u001b[1;33m\u001b[0m\u001b[0m\n\u001b[0;32m   5528\u001b[0m         \u001b[1;32mreturn\u001b[0m \u001b[0mself\u001b[0m\u001b[1;33m.\u001b[0m\u001b[0m_construct_result\u001b[0m\u001b[1;33m(\u001b[0m\u001b[0mresult\u001b[0m\u001b[1;33m,\u001b[0m \u001b[0mname\u001b[0m\u001b[1;33m=\u001b[0m\u001b[0mres_name\u001b[0m\u001b[1;33m)\u001b[0m\u001b[1;33m\u001b[0m\u001b[1;33m\u001b[0m\u001b[0m\n",
      "\u001b[1;32m~\\Anaconda3\\lib\\site-packages\\pandas\\core\\ops\\array_ops.py\u001b[0m in \u001b[0;36marithmetic_op\u001b[1;34m(left, right, op)\u001b[0m\n\u001b[0;32m    222\u001b[0m         \u001b[0m_bool_arith_check\u001b[0m\u001b[1;33m(\u001b[0m\u001b[0mop\u001b[0m\u001b[1;33m,\u001b[0m \u001b[0mleft\u001b[0m\u001b[1;33m,\u001b[0m \u001b[0mright\u001b[0m\u001b[1;33m)\u001b[0m\u001b[1;33m\u001b[0m\u001b[1;33m\u001b[0m\u001b[0m\n\u001b[0;32m    223\u001b[0m \u001b[1;33m\u001b[0m\u001b[0m\n\u001b[1;32m--> 224\u001b[1;33m         \u001b[0mres_values\u001b[0m \u001b[1;33m=\u001b[0m \u001b[0m_na_arithmetic_op\u001b[0m\u001b[1;33m(\u001b[0m\u001b[0mleft\u001b[0m\u001b[1;33m,\u001b[0m \u001b[0mright\u001b[0m\u001b[1;33m,\u001b[0m \u001b[0mop\u001b[0m\u001b[1;33m)\u001b[0m\u001b[1;33m\u001b[0m\u001b[1;33m\u001b[0m\u001b[0m\n\u001b[0m\u001b[0;32m    225\u001b[0m \u001b[1;33m\u001b[0m\u001b[0m\n\u001b[0;32m    226\u001b[0m     \u001b[1;32mreturn\u001b[0m \u001b[0mres_values\u001b[0m\u001b[1;33m\u001b[0m\u001b[1;33m\u001b[0m\u001b[0m\n",
      "\u001b[1;32m~\\Anaconda3\\lib\\site-packages\\pandas\\core\\ops\\array_ops.py\u001b[0m in \u001b[0;36m_na_arithmetic_op\u001b[1;34m(left, right, op, is_cmp)\u001b[0m\n\u001b[0;32m    171\u001b[0m             \u001b[1;31m# Don't do this for comparisons, as that will handle complex numbers\u001b[0m\u001b[1;33m\u001b[0m\u001b[1;33m\u001b[0m\u001b[1;33m\u001b[0m\u001b[0m\n\u001b[0;32m    172\u001b[0m             \u001b[1;31m#  incorrectly, see GH#32047\u001b[0m\u001b[1;33m\u001b[0m\u001b[1;33m\u001b[0m\u001b[1;33m\u001b[0m\u001b[0m\n\u001b[1;32m--> 173\u001b[1;33m             \u001b[0mresult\u001b[0m \u001b[1;33m=\u001b[0m \u001b[0m_masked_arith_op\u001b[0m\u001b[1;33m(\u001b[0m\u001b[0mleft\u001b[0m\u001b[1;33m,\u001b[0m \u001b[0mright\u001b[0m\u001b[1;33m,\u001b[0m \u001b[0mop\u001b[0m\u001b[1;33m)\u001b[0m\u001b[1;33m\u001b[0m\u001b[1;33m\u001b[0m\u001b[0m\n\u001b[0m\u001b[0;32m    174\u001b[0m         \u001b[1;32melse\u001b[0m\u001b[1;33m:\u001b[0m\u001b[1;33m\u001b[0m\u001b[1;33m\u001b[0m\u001b[0m\n\u001b[0;32m    175\u001b[0m             \u001b[1;32mraise\u001b[0m\u001b[1;33m\u001b[0m\u001b[1;33m\u001b[0m\u001b[0m\n",
      "\u001b[1;32m~\\Anaconda3\\lib\\site-packages\\pandas\\core\\ops\\array_ops.py\u001b[0m in \u001b[0;36m_masked_arith_op\u001b[1;34m(x, y, op)\u001b[0m\n\u001b[0;32m    110\u001b[0m         \u001b[1;31m# See GH#5284, GH#5035, GH#19448 for historical reference\u001b[0m\u001b[1;33m\u001b[0m\u001b[1;33m\u001b[0m\u001b[1;33m\u001b[0m\u001b[0m\n\u001b[0;32m    111\u001b[0m         \u001b[1;32mif\u001b[0m \u001b[0mmask\u001b[0m\u001b[1;33m.\u001b[0m\u001b[0many\u001b[0m\u001b[1;33m(\u001b[0m\u001b[1;33m)\u001b[0m\u001b[1;33m:\u001b[0m\u001b[1;33m\u001b[0m\u001b[1;33m\u001b[0m\u001b[0m\n\u001b[1;32m--> 112\u001b[1;33m             \u001b[0mresult\u001b[0m\u001b[1;33m[\u001b[0m\u001b[0mmask\u001b[0m\u001b[1;33m]\u001b[0m \u001b[1;33m=\u001b[0m \u001b[0mop\u001b[0m\u001b[1;33m(\u001b[0m\u001b[0mxrav\u001b[0m\u001b[1;33m[\u001b[0m\u001b[0mmask\u001b[0m\u001b[1;33m]\u001b[0m\u001b[1;33m,\u001b[0m \u001b[0myrav\u001b[0m\u001b[1;33m[\u001b[0m\u001b[0mmask\u001b[0m\u001b[1;33m]\u001b[0m\u001b[1;33m)\u001b[0m\u001b[1;33m\u001b[0m\u001b[1;33m\u001b[0m\u001b[0m\n\u001b[0m\u001b[0;32m    113\u001b[0m \u001b[1;33m\u001b[0m\u001b[0m\n\u001b[0;32m    114\u001b[0m     \u001b[1;32melse\u001b[0m\u001b[1;33m:\u001b[0m\u001b[1;33m\u001b[0m\u001b[1;33m\u001b[0m\u001b[0m\n",
      "\u001b[1;31mTypeError\u001b[0m: unsupported operand type(s) for -: 'Timestamp' and 'str'"
     ]
    }
   ],
   "source": [
    "df['Length of Service (Years)'] = (df['LeftDate'] - df['JoinDate'])\n",
    "\n",
    "df['Length of Service (Years)'] = df['Length of Service (Years)'] / np.timedelta64(1, 'D')\n",
    "\n",
    "df['Length of Service (Years)'] = df['Length of Service (Years)'] /365\n",
    "\n",
    "df = df.round({'Length of Service (Years)': 1})\n",
    "\n",
    "df"
   ]
  },
  {
   "cell_type": "markdown",
   "id": "e9e91116",
   "metadata": {},
   "source": [
    "#### ii.\n",
    "\n",
    "#### To generate the min, max and average ‘Length of Service (Years)’, we need to input the following codes below.\n"
   ]
  },
  {
   "cell_type": "code",
   "execution_count": 11,
   "id": "03f59342",
   "metadata": {},
   "outputs": [
    {
     "ename": "KeyError",
     "evalue": "'Length of Service (Years)'",
     "output_type": "error",
     "traceback": [
      "\u001b[1;31m---------------------------------------------------------------------------\u001b[0m",
      "\u001b[1;31mKeyError\u001b[0m                                  Traceback (most recent call last)",
      "\u001b[1;32m~\\Anaconda3\\lib\\site-packages\\pandas\\core\\indexes\\base.py\u001b[0m in \u001b[0;36mget_loc\u001b[1;34m(self, key, method, tolerance)\u001b[0m\n\u001b[0;32m   3360\u001b[0m             \u001b[1;32mtry\u001b[0m\u001b[1;33m:\u001b[0m\u001b[1;33m\u001b[0m\u001b[1;33m\u001b[0m\u001b[0m\n\u001b[1;32m-> 3361\u001b[1;33m                 \u001b[1;32mreturn\u001b[0m \u001b[0mself\u001b[0m\u001b[1;33m.\u001b[0m\u001b[0m_engine\u001b[0m\u001b[1;33m.\u001b[0m\u001b[0mget_loc\u001b[0m\u001b[1;33m(\u001b[0m\u001b[0mcasted_key\u001b[0m\u001b[1;33m)\u001b[0m\u001b[1;33m\u001b[0m\u001b[1;33m\u001b[0m\u001b[0m\n\u001b[0m\u001b[0;32m   3362\u001b[0m             \u001b[1;32mexcept\u001b[0m \u001b[0mKeyError\u001b[0m \u001b[1;32mas\u001b[0m \u001b[0merr\u001b[0m\u001b[1;33m:\u001b[0m\u001b[1;33m\u001b[0m\u001b[1;33m\u001b[0m\u001b[0m\n",
      "\u001b[1;32m~\\Anaconda3\\lib\\site-packages\\pandas\\_libs\\index.pyx\u001b[0m in \u001b[0;36mpandas._libs.index.IndexEngine.get_loc\u001b[1;34m()\u001b[0m\n",
      "\u001b[1;32m~\\Anaconda3\\lib\\site-packages\\pandas\\_libs\\index.pyx\u001b[0m in \u001b[0;36mpandas._libs.index.IndexEngine.get_loc\u001b[1;34m()\u001b[0m\n",
      "\u001b[1;32mpandas\\_libs\\hashtable_class_helper.pxi\u001b[0m in \u001b[0;36mpandas._libs.hashtable.PyObjectHashTable.get_item\u001b[1;34m()\u001b[0m\n",
      "\u001b[1;32mpandas\\_libs\\hashtable_class_helper.pxi\u001b[0m in \u001b[0;36mpandas._libs.hashtable.PyObjectHashTable.get_item\u001b[1;34m()\u001b[0m\n",
      "\u001b[1;31mKeyError\u001b[0m: 'Length of Service (Years)'",
      "\nThe above exception was the direct cause of the following exception:\n",
      "\u001b[1;31mKeyError\u001b[0m                                  Traceback (most recent call last)",
      "\u001b[1;32m~\\AppData\\Local\\Temp\\ipykernel_13632\\4120446218.py\u001b[0m in \u001b[0;36m<module>\u001b[1;34m\u001b[0m\n\u001b[1;32m----> 1\u001b[1;33m \u001b[0mdf\u001b[0m\u001b[1;33m[\u001b[0m\u001b[1;34m'Length of Service (Years)'\u001b[0m\u001b[1;33m]\u001b[0m\u001b[1;33m.\u001b[0m\u001b[0mmin\u001b[0m\u001b[1;33m(\u001b[0m\u001b[1;33m)\u001b[0m\u001b[1;33m,\u001b[0m \u001b[0mdf\u001b[0m\u001b[1;33m[\u001b[0m\u001b[1;34m'Length of Service (Years)'\u001b[0m\u001b[1;33m]\u001b[0m\u001b[1;33m.\u001b[0m\u001b[0mmax\u001b[0m\u001b[1;33m(\u001b[0m\u001b[1;33m)\u001b[0m\u001b[1;33m,\u001b[0m \u001b[0mdf\u001b[0m\u001b[1;33m[\u001b[0m\u001b[1;34m'Length of Service (Years)'\u001b[0m\u001b[1;33m]\u001b[0m\u001b[1;33m.\u001b[0m\u001b[0mmean\u001b[0m\u001b[1;33m(\u001b[0m\u001b[1;33m)\u001b[0m\u001b[1;33m\u001b[0m\u001b[1;33m\u001b[0m\u001b[0m\n\u001b[0m\u001b[0;32m      2\u001b[0m \u001b[1;33m\u001b[0m\u001b[0m\n\u001b[0;32m      3\u001b[0m \u001b[0mmean\u001b[0m \u001b[1;33m=\u001b[0m \u001b[0mdf\u001b[0m\u001b[1;33m[\u001b[0m\u001b[1;34m'Length of Service (Years)'\u001b[0m\u001b[1;33m]\u001b[0m\u001b[1;33m.\u001b[0m\u001b[0mmean\u001b[0m\u001b[1;33m(\u001b[0m\u001b[1;33m)\u001b[0m\u001b[1;33m\u001b[0m\u001b[1;33m\u001b[0m\u001b[0m\n\u001b[0;32m      4\u001b[0m \u001b[1;33m\u001b[0m\u001b[0m\n\u001b[0;32m      5\u001b[0m \u001b[1;33m(\u001b[0m\u001b[0mround\u001b[0m\u001b[1;33m(\u001b[0m\u001b[0mmean\u001b[0m\u001b[1;33m,\u001b[0m\u001b[1;36m1\u001b[0m\u001b[1;33m)\u001b[0m\u001b[1;33m)\u001b[0m\u001b[1;33m\u001b[0m\u001b[1;33m\u001b[0m\u001b[0m\n",
      "\u001b[1;32m~\\Anaconda3\\lib\\site-packages\\pandas\\core\\frame.py\u001b[0m in \u001b[0;36m__getitem__\u001b[1;34m(self, key)\u001b[0m\n\u001b[0;32m   3456\u001b[0m             \u001b[1;32mif\u001b[0m \u001b[0mself\u001b[0m\u001b[1;33m.\u001b[0m\u001b[0mcolumns\u001b[0m\u001b[1;33m.\u001b[0m\u001b[0mnlevels\u001b[0m \u001b[1;33m>\u001b[0m \u001b[1;36m1\u001b[0m\u001b[1;33m:\u001b[0m\u001b[1;33m\u001b[0m\u001b[1;33m\u001b[0m\u001b[0m\n\u001b[0;32m   3457\u001b[0m                 \u001b[1;32mreturn\u001b[0m \u001b[0mself\u001b[0m\u001b[1;33m.\u001b[0m\u001b[0m_getitem_multilevel\u001b[0m\u001b[1;33m(\u001b[0m\u001b[0mkey\u001b[0m\u001b[1;33m)\u001b[0m\u001b[1;33m\u001b[0m\u001b[1;33m\u001b[0m\u001b[0m\n\u001b[1;32m-> 3458\u001b[1;33m             \u001b[0mindexer\u001b[0m \u001b[1;33m=\u001b[0m \u001b[0mself\u001b[0m\u001b[1;33m.\u001b[0m\u001b[0mcolumns\u001b[0m\u001b[1;33m.\u001b[0m\u001b[0mget_loc\u001b[0m\u001b[1;33m(\u001b[0m\u001b[0mkey\u001b[0m\u001b[1;33m)\u001b[0m\u001b[1;33m\u001b[0m\u001b[1;33m\u001b[0m\u001b[0m\n\u001b[0m\u001b[0;32m   3459\u001b[0m             \u001b[1;32mif\u001b[0m \u001b[0mis_integer\u001b[0m\u001b[1;33m(\u001b[0m\u001b[0mindexer\u001b[0m\u001b[1;33m)\u001b[0m\u001b[1;33m:\u001b[0m\u001b[1;33m\u001b[0m\u001b[1;33m\u001b[0m\u001b[0m\n\u001b[0;32m   3460\u001b[0m                 \u001b[0mindexer\u001b[0m \u001b[1;33m=\u001b[0m \u001b[1;33m[\u001b[0m\u001b[0mindexer\u001b[0m\u001b[1;33m]\u001b[0m\u001b[1;33m\u001b[0m\u001b[1;33m\u001b[0m\u001b[0m\n",
      "\u001b[1;32m~\\Anaconda3\\lib\\site-packages\\pandas\\core\\indexes\\base.py\u001b[0m in \u001b[0;36mget_loc\u001b[1;34m(self, key, method, tolerance)\u001b[0m\n\u001b[0;32m   3361\u001b[0m                 \u001b[1;32mreturn\u001b[0m \u001b[0mself\u001b[0m\u001b[1;33m.\u001b[0m\u001b[0m_engine\u001b[0m\u001b[1;33m.\u001b[0m\u001b[0mget_loc\u001b[0m\u001b[1;33m(\u001b[0m\u001b[0mcasted_key\u001b[0m\u001b[1;33m)\u001b[0m\u001b[1;33m\u001b[0m\u001b[1;33m\u001b[0m\u001b[0m\n\u001b[0;32m   3362\u001b[0m             \u001b[1;32mexcept\u001b[0m \u001b[0mKeyError\u001b[0m \u001b[1;32mas\u001b[0m \u001b[0merr\u001b[0m\u001b[1;33m:\u001b[0m\u001b[1;33m\u001b[0m\u001b[1;33m\u001b[0m\u001b[0m\n\u001b[1;32m-> 3363\u001b[1;33m                 \u001b[1;32mraise\u001b[0m \u001b[0mKeyError\u001b[0m\u001b[1;33m(\u001b[0m\u001b[0mkey\u001b[0m\u001b[1;33m)\u001b[0m \u001b[1;32mfrom\u001b[0m \u001b[0merr\u001b[0m\u001b[1;33m\u001b[0m\u001b[1;33m\u001b[0m\u001b[0m\n\u001b[0m\u001b[0;32m   3364\u001b[0m \u001b[1;33m\u001b[0m\u001b[0m\n\u001b[0;32m   3365\u001b[0m         \u001b[1;32mif\u001b[0m \u001b[0mis_scalar\u001b[0m\u001b[1;33m(\u001b[0m\u001b[0mkey\u001b[0m\u001b[1;33m)\u001b[0m \u001b[1;32mand\u001b[0m \u001b[0misna\u001b[0m\u001b[1;33m(\u001b[0m\u001b[0mkey\u001b[0m\u001b[1;33m)\u001b[0m \u001b[1;32mand\u001b[0m \u001b[1;32mnot\u001b[0m \u001b[0mself\u001b[0m\u001b[1;33m.\u001b[0m\u001b[0mhasnans\u001b[0m\u001b[1;33m:\u001b[0m\u001b[1;33m\u001b[0m\u001b[1;33m\u001b[0m\u001b[0m\n",
      "\u001b[1;31mKeyError\u001b[0m: 'Length of Service (Years)'"
     ]
    }
   ],
   "source": [
    "df['Length of Service (Years)'].min(), df['Length of Service (Years)'].max(), df['Length of Service (Years)'].mean()\n",
    "\n",
    "mean = df['Length of Service (Years)'].mean()\n",
    "\n",
    "(round(mean,1))\n",
    "\n",
    "print (f\"The Min, Max and Avg Length of Service (Years) is {df['Length of Service (Years)'].min()}, {df['Length of Service (Years)'].max()} and {(round(mean,1))} respectively\")"
   ]
  },
  {
   "cell_type": "markdown",
   "id": "b6c08c81",
   "metadata": {},
   "source": [
    "# Qn1d"
   ]
  },
  {
   "cell_type": "markdown",
   "id": "415207b2",
   "metadata": {},
   "source": [
    "#### i.\n",
    "#### We need to generate a list of ‘Previous_Staff’ names so that users can enter their query about employees who have left the company. To accomplish this, we need to input the following codes below.\n"
   ]
  },
  {
   "cell_type": "code",
   "execution_count": 12,
   "id": "da81e095",
   "metadata": {},
   "outputs": [
    {
     "name": "stdout",
     "output_type": "stream",
     "text": [
      "Series([], Name: Staff, dtype: object)\n"
     ]
    }
   ],
   "source": [
    "df['Staff'].where(df['Unit'] == 'Previous_Staff')\n",
    "Previous_Staff = df['Staff'].where(df['LeftDate'] == '2022-05-01')\n",
    "print(Previous_Staff.dropna())"
   ]
  },
  {
   "cell_type": "markdown",
   "id": "05b2aa1a",
   "metadata": {},
   "source": [
    "#### After we have generated the list of 'Previous_Staff' names, we need to enter the following codes so that the user can determine whether or not a particular person was an ex-member of the organization's staff. We also need to create a query statement in which users can enter the employees' names to determine their employment status."
   ]
  },
  {
   "cell_type": "code",
   "execution_count": 17,
   "id": "15dd8060",
   "metadata": {},
   "outputs": [
    {
     "name": "stdout",
     "output_type": "stream",
     "text": [
      "Press 0 to stop or Enter the name of the staff: kk\n",
      "No, kk was not part of the previous staff\n",
      "Press 0 to stop or Enter the name of the staff: \n",
      "No,  was not part of the previous staff\n",
      "Press 0 to stop or Enter the name of the staff: \n",
      "No,  was not part of the previous staff\n",
      "Press 0 to stop or Enter the name of the staff: 0\n"
     ]
    }
   ],
   "source": [
    "my_list = list(Previous_Staff)\n",
    "\n",
    "while True:\n",
    "    inp = input(\"Press 0 to stop or Enter the name of the staff: \")\n",
    "    if (inp == \"0\"):\n",
    "        break\n",
    "\n",
    "    if inp in my_list:\n",
    "            print(f\"Yes, {inp} was part of the previous staff\")\n",
    "   \n",
    "    else:\n",
    "        print(f\"No, {inp} was not part of the previous staff\")"
   ]
  },
  {
   "cell_type": "markdown",
   "id": "1096fdd3",
   "metadata": {},
   "source": [
    "#### ii.\n",
    "\n",
    "#### To allow users to query about employees who are still employed by the company, we need to generate a list of 'Current_Staff' names. To accomplish this, we need to input the following codes below.\n"
   ]
  },
  {
   "cell_type": "code",
   "execution_count": 15,
   "id": "bddf5950",
   "metadata": {},
   "outputs": [
    {
     "name": "stdout",
     "output_type": "stream",
     "text": [
      "0       Aairah Hastings\n",
      "1      Aaminah Mcmillan\n",
      "2          Aamna Howell\n",
      "3         Aayan Ferrell\n",
      "4            Ace Potter\n",
      "             ...       \n",
      "245       Zaina Parrish\n",
      "246         Zane Downes\n",
      "247         Zayd Farley\n",
      "248         Zoya Easton\n",
      "249      Zuzanna Pruitt\n",
      "Name: Staff, Length: 250, dtype: object\n"
     ]
    }
   ],
   "source": [
    "df['Staff'].where(df['Unit'] == 'Current_Staff')\n",
    "Current_Staff = df['Staff'].where(df['LeftDate'] != '2022-05-01')\n",
    "print(Current_Staff.dropna())"
   ]
  },
  {
   "cell_type": "markdown",
   "id": "5dfe44de",
   "metadata": {},
   "source": [
    "#### After we have generated the list of 'Current_Staff' names, we need to enter the following codes so that the user can determine whether or not a particular person is still a member of the organization's staff. We also need to create a query statement in which users can enter the employees' names to determine their employment status."
   ]
  },
  {
   "cell_type": "code",
   "execution_count": 18,
   "id": "814e885f",
   "metadata": {},
   "outputs": [
    {
     "name": "stdout",
     "output_type": "stream",
     "text": [
      "Press 0 to stop or Enter the name of the staff: kk\n",
      "No, kk is not part of the current staff\n",
      "Press 0 to stop or Enter the name of the staff: ; I was alos not able to run the rest of your date time code \n",
      "No, ; I was alos not able to run the rest of your date time code  is not part of the current staff\n",
      "Press 0 to stop or Enter the name of the staff: \n",
      "No,  is not part of the current staff\n",
      "Press 0 to stop or Enter the name of the staff: 0\n"
     ]
    }
   ],
   "source": [
    "my_list2 = list(Current_Staff)\n",
    "\n",
    "while True:\n",
    "    inp = input(\"Press 0 to stop or Enter the name of the staff: \")\n",
    "    if (inp == \"0\"):\n",
    "        break\n",
    "\n",
    "    if inp in my_list2:\n",
    "            print(f\"Yes, {inp} is part of the current staff\")\n",
    "   \n",
    "    else:\n",
    "        print(f\"No, {inp} is not part of the current staff\")"
   ]
  },
  {
   "cell_type": "code",
   "execution_count": null,
   "id": "9b3d8ff8",
   "metadata": {},
   "outputs": [],
   "source": []
  }
 ],
 "metadata": {
  "kernelspec": {
   "display_name": "Python 3 (ipykernel)",
   "language": "python",
   "name": "python3"
  },
  "language_info": {
   "codemirror_mode": {
    "name": "ipython",
    "version": 3
   },
   "file_extension": ".py",
   "mimetype": "text/x-python",
   "name": "python",
   "nbconvert_exporter": "python",
   "pygments_lexer": "ipython3",
   "version": "3.7.13"
  }
 },
 "nbformat": 4,
 "nbformat_minor": 5
}
