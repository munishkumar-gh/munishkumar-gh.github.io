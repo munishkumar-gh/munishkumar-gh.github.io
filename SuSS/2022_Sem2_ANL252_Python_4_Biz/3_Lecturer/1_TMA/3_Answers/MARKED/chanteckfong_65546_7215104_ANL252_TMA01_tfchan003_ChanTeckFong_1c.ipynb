{
 "cells": [
  {
   "cell_type": "code",
   "execution_count": 1,
   "id": "60d4b819",
   "metadata": {},
   "outputs": [],
   "source": [
    "import pandas as pd"
   ]
  },
  {
   "cell_type": "code",
   "execution_count": 2,
   "id": "568c8a73",
   "metadata": {},
   "outputs": [],
   "source": [
    "df = pd.read_csv(\"TMA_Data.csv\")"
   ]
  },
  {
   "cell_type": "code",
   "execution_count": 3,
   "id": "416465a9",
   "metadata": {},
   "outputs": [],
   "source": [
    "## Find out missing date at \"LeftDate\" and replace with 1-May-2022"
   ]
  },
  {
   "cell_type": "code",
   "execution_count": 4,
   "id": "e7e9ede4",
   "metadata": {},
   "outputs": [],
   "source": [
    "df['LeftDate'] = df['LeftDate'].fillna('1-May-2022')                                                                                                                                                          "
   ]
  },
  {
   "cell_type": "code",
   "execution_count": 5,
   "id": "0e435f06",
   "metadata": {},
   "outputs": [],
   "source": [
    "## Find out length of service and round to 1 decimal place"
   ]
  },
  {
   "cell_type": "code",
   "execution_count": 6,
   "id": "cf1eceb4",
   "metadata": {},
   "outputs": [],
   "source": [
    "i=0\n",
    "while i <(len(df.index)):\n",
    "    JoinDate=pd.to_datetime((df.loc[i,\"JoinDate\"]),dayfirst=False) \n",
    "    LeftDate=pd.to_datetime((df.loc[i,\"LeftDate\"]),dayfirst=False)\n",
    "    Duration=round((len(pd.date_range(start=JoinDate,end=LeftDate,freq='D'))/365),1)\n",
    "    df.at[i,\"length of service\"]=Duration\n",
    "    i=i+1"
   ]
  },
  {
   "cell_type": "code",
   "execution_count": 7,
   "id": "076bf6f7",
   "metadata": {
    "scrolled": true
   },
   "outputs": [
    {
     "name": "stdout",
     "output_type": "stream",
     "text": [
      "                Staff   JoinDate    LeftDate  length of service\n",
      "0     Aairah Hastings   4/2/2012  1-May-2022               10.1\n",
      "1    Aaminah Mcmillan  5/12/2014  1-May-2022                8.0\n",
      "2        Aamna Howell  9/29/2014  1-May-2022                7.6\n",
      "3       Aayan Ferrell   1/5/2016  1-May-2022                6.3\n",
      "4          Ace Potter  7/11/2011    9/6/2020                9.2\n",
      "..                ...        ...         ...                ...\n",
      "245     Zaina Parrish  2/16/2015  1-May-2022                7.2\n",
      "246       Zane Downes  4/20/2017  1-May-2022                5.0\n",
      "247       Zayd Farley   1/5/2014  1-May-2022                8.3\n",
      "248       Zoya Easton  8/13/2012    9/1/2015                3.1\n",
      "249    Zuzanna Pruitt  3/30/2015  1-May-2022                7.1\n",
      "\n",
      "[250 rows x 4 columns]\n"
     ]
    }
   ],
   "source": [
    "print(df[['Staff', 'JoinDate', 'LeftDate', 'length of service']])\n",
    "## Lngth of service for all staff is produced"
   ]
  },
  {
   "cell_type": "code",
   "execution_count": 8,
   "id": "79a0d443",
   "metadata": {},
   "outputs": [],
   "source": [
    "## Analysis of employee's length of service (in years)"
   ]
  },
  {
   "cell_type": "code",
   "execution_count": 9,
   "id": "81db97b0",
   "metadata": {},
   "outputs": [
    {
     "name": "stdout",
     "output_type": "stream",
     "text": [
      "Minimum length of service is :\u001b[4m\u001b[1m 0.1 \u001b[0m years\n"
     ]
    }
   ],
   "source": [
    "print(\"Minimum length of service is :\\033[4m\\033[1m\",(df['length of service'].min()),\"\\033[0m years\")"
   ]
  },
  {
   "cell_type": "code",
   "execution_count": 10,
   "id": "fa7ce8fe",
   "metadata": {},
   "outputs": [
    {
     "name": "stdout",
     "output_type": "stream",
     "text": [
      "Maximum length of service is :\u001b[4m\u001b[1m 16.3 \u001b[0m years\n"
     ]
    }
   ],
   "source": [
    "print(\"Maximum length of service is :\\033[4m\\033[1m\",(df['length of service'].max()),\"\\033[0m years\")"
   ]
  },
  {
   "cell_type": "code",
   "execution_count": 11,
   "id": "90ba73df",
   "metadata": {},
   "outputs": [
    {
     "name": "stdout",
     "output_type": "stream",
     "text": [
      "Average length of service is :\u001b[4m\u001b[1m 6.8 \u001b[0m years\n"
     ]
    }
   ],
   "source": [
    "print(\"Average length of service is :\\033[4m\\033[1m\",(round(df['length of service'].mean(),1)),\"\\033[0m years\")"
   ]
  },
  {
   "cell_type": "code",
   "execution_count": null,
   "id": "8d81090d",
   "metadata": {},
   "outputs": [],
   "source": []
  }
 ],
 "metadata": {
  "kernelspec": {
   "display_name": "Python 3 (ipykernel)",
   "language": "python",
   "name": "python3"
  },
  "language_info": {
   "codemirror_mode": {
    "name": "ipython",
    "version": 3
   },
   "file_extension": ".py",
   "mimetype": "text/x-python",
   "name": "python",
   "nbconvert_exporter": "python",
   "pygments_lexer": "ipython3",
   "version": "3.7.13"
  }
 },
 "nbformat": 4,
 "nbformat_minor": 5
}
