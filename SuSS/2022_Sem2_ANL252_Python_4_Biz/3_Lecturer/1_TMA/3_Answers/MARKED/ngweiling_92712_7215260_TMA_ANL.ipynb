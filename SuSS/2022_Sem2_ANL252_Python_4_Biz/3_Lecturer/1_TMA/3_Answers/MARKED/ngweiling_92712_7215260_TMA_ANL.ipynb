{
 "cells": [
  {
   "cell_type": "markdown",
   "id": "f409b7a3",
   "metadata": {},
   "source": [
    "### ANL 252, Jupyter File Submission, B2210595, Ng Wei Ling, and 12/08/22"
   ]
  },
  {
   "cell_type": "markdown",
   "id": "90931b4d",
   "metadata": {},
   "source": [
    "### 1b) Histogram - Performance data"
   ]
  },
  {
   "cell_type": "code",
   "execution_count": 1,
   "id": "df78c717",
   "metadata": {},
   "outputs": [],
   "source": [
    "import pandas as pd\n",
    "import matplotlib.pyplot as plt"
   ]
  },
  {
   "cell_type": "code",
   "execution_count": 2,
   "id": "53c3a862",
   "metadata": {},
   "outputs": [],
   "source": [
    "import numpy as np"
   ]
  },
  {
   "cell_type": "code",
   "execution_count": 3,
   "id": "47a2a17a",
   "metadata": {},
   "outputs": [],
   "source": [
    "import matplotlib.pyplot as plt"
   ]
  },
  {
   "cell_type": "code",
   "execution_count": 5,
   "id": "88c7091e",
   "metadata": {},
   "outputs": [
    {
     "data": {
      "text/html": [
       "<div>\n",
       "<style scoped>\n",
       "    .dataframe tbody tr th:only-of-type {\n",
       "        vertical-align: middle;\n",
       "    }\n",
       "\n",
       "    .dataframe tbody tr th {\n",
       "        vertical-align: top;\n",
       "    }\n",
       "\n",
       "    .dataframe thead th {\n",
       "        text-align: right;\n",
       "    }\n",
       "</style>\n",
       "<table border=\"1\" class=\"dataframe\">\n",
       "  <thead>\n",
       "    <tr style=\"text-align: right;\">\n",
       "      <th></th>\n",
       "      <th>ID</th>\n",
       "      <th>Staff</th>\n",
       "      <th>BirthYear</th>\n",
       "      <th>Gender</th>\n",
       "      <th>Marital</th>\n",
       "      <th>Citizenship</th>\n",
       "      <th>Minority</th>\n",
       "      <th>JoinDate</th>\n",
       "      <th>LeftDate</th>\n",
       "      <th>Unit</th>\n",
       "      <th>Salary</th>\n",
       "      <th>PerformanceScore</th>\n",
       "      <th>Survey</th>\n",
       "      <th>Satisfaction</th>\n",
       "      <th>Absence</th>\n",
       "    </tr>\n",
       "  </thead>\n",
       "  <tbody>\n",
       "    <tr>\n",
       "      <th>0</th>\n",
       "      <td>1</td>\n",
       "      <td>Aairah Hastings</td>\n",
       "      <td>1986-07-10 00:00:00</td>\n",
       "      <td>F</td>\n",
       "      <td>Single</td>\n",
       "      <td>Citizen</td>\n",
       "      <td>Yes</td>\n",
       "      <td>2012-02-04 00:00:00</td>\n",
       "      <td>NaN</td>\n",
       "      <td>Manufacturing</td>\n",
       "      <td>46335</td>\n",
       "      <td>Meet</td>\n",
       "      <td>3.40</td>\n",
       "      <td>5</td>\n",
       "      <td>15</td>\n",
       "    </tr>\n",
       "    <tr>\n",
       "      <th>1</th>\n",
       "      <td>2</td>\n",
       "      <td>Aaminah Mcmillan</td>\n",
       "      <td>05/25/86</td>\n",
       "      <td>F</td>\n",
       "      <td>Married</td>\n",
       "      <td>Citizen</td>\n",
       "      <td>No</td>\n",
       "      <td>2014-12-05 00:00:00</td>\n",
       "      <td>NaN</td>\n",
       "      <td>Manufacturing</td>\n",
       "      <td>66825</td>\n",
       "      <td>Meet</td>\n",
       "      <td>4.60</td>\n",
       "      <td>3</td>\n",
       "      <td>20</td>\n",
       "    </tr>\n",
       "    <tr>\n",
       "      <th>2</th>\n",
       "      <td>3</td>\n",
       "      <td>Aamna Howell</td>\n",
       "      <td>04/20/85</td>\n",
       "      <td>F</td>\n",
       "      <td>Single</td>\n",
       "      <td>Citizen</td>\n",
       "      <td>No</td>\n",
       "      <td>9/29/2014</td>\n",
       "      <td>NaN</td>\n",
       "      <td>Manufacturing</td>\n",
       "      <td>60446</td>\n",
       "      <td>Meet</td>\n",
       "      <td>3.40</td>\n",
       "      <td>4</td>\n",
       "      <td>14</td>\n",
       "    </tr>\n",
       "    <tr>\n",
       "      <th>3</th>\n",
       "      <td>4</td>\n",
       "      <td>Aayan Ferrell</td>\n",
       "      <td>1984-10-06 00:00:00</td>\n",
       "      <td>M</td>\n",
       "      <td>Married</td>\n",
       "      <td>Citizen</td>\n",
       "      <td>No</td>\n",
       "      <td>2016-05-01 00:00:00</td>\n",
       "      <td>NaN</td>\n",
       "      <td>Admin</td>\n",
       "      <td>93046</td>\n",
       "      <td>Meet</td>\n",
       "      <td>4.10</td>\n",
       "      <td>4</td>\n",
       "      <td>20</td>\n",
       "    </tr>\n",
       "    <tr>\n",
       "      <th>4</th>\n",
       "      <td>5</td>\n",
       "      <td>Ace Potter</td>\n",
       "      <td>1989-08-09 00:00:00</td>\n",
       "      <td>F</td>\n",
       "      <td>Divorced</td>\n",
       "      <td>Citizen</td>\n",
       "      <td>No</td>\n",
       "      <td>2011-11-07 00:00:00</td>\n",
       "      <td>2020-06-09 00:00:00</td>\n",
       "      <td>Manufacturing</td>\n",
       "      <td>50825</td>\n",
       "      <td>Meet</td>\n",
       "      <td>5.00</td>\n",
       "      <td>4</td>\n",
       "      <td>2</td>\n",
       "    </tr>\n",
       "    <tr>\n",
       "      <th>...</th>\n",
       "      <td>...</td>\n",
       "      <td>...</td>\n",
       "      <td>...</td>\n",
       "      <td>...</td>\n",
       "      <td>...</td>\n",
       "      <td>...</td>\n",
       "      <td>...</td>\n",
       "      <td>...</td>\n",
       "      <td>...</td>\n",
       "      <td>...</td>\n",
       "      <td>...</td>\n",
       "      <td>...</td>\n",
       "      <td>...</td>\n",
       "      <td>...</td>\n",
       "      <td>...</td>\n",
       "    </tr>\n",
       "    <tr>\n",
       "      <th>245</th>\n",
       "      <td>246</td>\n",
       "      <td>Zaina Parrish</td>\n",
       "      <td>1981-11-10 00:00:00</td>\n",
       "      <td>F</td>\n",
       "      <td>Married</td>\n",
       "      <td>Non-Resident</td>\n",
       "      <td>No</td>\n",
       "      <td>2/16/2015</td>\n",
       "      <td>NaN</td>\n",
       "      <td>IT</td>\n",
       "      <td>89883</td>\n",
       "      <td>Meet</td>\n",
       "      <td>3.69</td>\n",
       "      <td>5</td>\n",
       "      <td>15</td>\n",
       "    </tr>\n",
       "    <tr>\n",
       "      <th>246</th>\n",
       "      <td>247</td>\n",
       "      <td>Zane Downes</td>\n",
       "      <td>10/24/87</td>\n",
       "      <td>M</td>\n",
       "      <td>Married</td>\n",
       "      <td>Non-Resident</td>\n",
       "      <td>No</td>\n",
       "      <td>4/20/2017</td>\n",
       "      <td>NaN</td>\n",
       "      <td>IT</td>\n",
       "      <td>90100</td>\n",
       "      <td>Meet</td>\n",
       "      <td>3.40</td>\n",
       "      <td>3</td>\n",
       "      <td>14</td>\n",
       "    </tr>\n",
       "    <tr>\n",
       "      <th>247</th>\n",
       "      <td>248</td>\n",
       "      <td>Zayd Farley</td>\n",
       "      <td>1970-09-07 00:00:00</td>\n",
       "      <td>M</td>\n",
       "      <td>Single</td>\n",
       "      <td>Non-Resident</td>\n",
       "      <td>No</td>\n",
       "      <td>2014-05-01 00:00:00</td>\n",
       "      <td>NaN</td>\n",
       "      <td>IT</td>\n",
       "      <td>138888</td>\n",
       "      <td>Exceed</td>\n",
       "      <td>4.30</td>\n",
       "      <td>5</td>\n",
       "      <td>4</td>\n",
       "    </tr>\n",
       "    <tr>\n",
       "      <th>248</th>\n",
       "      <td>249</td>\n",
       "      <td>Zoya Easton</td>\n",
       "      <td>1980-02-08 00:00:00</td>\n",
       "      <td>F</td>\n",
       "      <td>Single</td>\n",
       "      <td>Non-Resident</td>\n",
       "      <td>No</td>\n",
       "      <td>8/13/2012</td>\n",
       "      <td>2015-01-09 00:00:00</td>\n",
       "      <td>Manufacturing</td>\n",
       "      <td>50274</td>\n",
       "      <td>To Improve</td>\n",
       "      <td>2.50</td>\n",
       "      <td>3</td>\n",
       "      <td>13</td>\n",
       "    </tr>\n",
       "    <tr>\n",
       "      <th>249</th>\n",
       "      <td>250</td>\n",
       "      <td>Zuzanna Pruitt</td>\n",
       "      <td>05/21/87</td>\n",
       "      <td>F</td>\n",
       "      <td>Single</td>\n",
       "      <td>Non-Resident</td>\n",
       "      <td>No</td>\n",
       "      <td>3/30/2015</td>\n",
       "      <td>NaN</td>\n",
       "      <td>Manufacturing</td>\n",
       "      <td>55315</td>\n",
       "      <td>Meet</td>\n",
       "      <td>5.00</td>\n",
       "      <td>5</td>\n",
       "      <td>16</td>\n",
       "    </tr>\n",
       "  </tbody>\n",
       "</table>\n",
       "<p>250 rows × 15 columns</p>\n",
       "</div>"
      ],
      "text/plain": [
       "      ID             Staff            BirthYear Gender   Marital  \\\n",
       "0      1   Aairah Hastings  1986-07-10 00:00:00      F    Single   \n",
       "1      2  Aaminah Mcmillan             05/25/86      F   Married   \n",
       "2      3      Aamna Howell             04/20/85      F    Single   \n",
       "3      4     Aayan Ferrell  1984-10-06 00:00:00     M    Married   \n",
       "4      5        Ace Potter  1989-08-09 00:00:00      F  Divorced   \n",
       "..   ...               ...                  ...    ...       ...   \n",
       "245  246     Zaina Parrish  1981-11-10 00:00:00      F   Married   \n",
       "246  247       Zane Downes             10/24/87     M    Married   \n",
       "247  248       Zayd Farley  1970-09-07 00:00:00     M     Single   \n",
       "248  249       Zoya Easton  1980-02-08 00:00:00      F    Single   \n",
       "249  250    Zuzanna Pruitt             05/21/87      F    Single   \n",
       "\n",
       "      Citizenship Minority             JoinDate             LeftDate  \\\n",
       "0         Citizen      Yes  2012-02-04 00:00:00                  NaN   \n",
       "1         Citizen       No  2014-12-05 00:00:00                  NaN   \n",
       "2         Citizen       No            9/29/2014                  NaN   \n",
       "3         Citizen       No  2016-05-01 00:00:00                  NaN   \n",
       "4         Citizen       No  2011-11-07 00:00:00  2020-06-09 00:00:00   \n",
       "..            ...      ...                  ...                  ...   \n",
       "245  Non-Resident       No            2/16/2015                  NaN   \n",
       "246  Non-Resident       No            4/20/2017                  NaN   \n",
       "247  Non-Resident       No  2014-05-01 00:00:00                  NaN   \n",
       "248  Non-Resident       No            8/13/2012  2015-01-09 00:00:00   \n",
       "249  Non-Resident       No            3/30/2015                  NaN   \n",
       "\n",
       "              Unit  Salary PerformanceScore  Survey  Satisfaction  Absence  \n",
       "0    Manufacturing   46335             Meet    3.40             5       15  \n",
       "1    Manufacturing   66825             Meet    4.60             3       20  \n",
       "2    Manufacturing   60446             Meet    3.40             4       14  \n",
       "3           Admin    93046             Meet    4.10             4       20  \n",
       "4    Manufacturing   50825             Meet    5.00             4        2  \n",
       "..             ...     ...              ...     ...           ...      ...  \n",
       "245             IT   89883             Meet    3.69             5       15  \n",
       "246             IT   90100             Meet    3.40             3       14  \n",
       "247             IT  138888           Exceed    4.30             5        4  \n",
       "248  Manufacturing   50274       To Improve    2.50             3       13  \n",
       "249  Manufacturing   55315             Meet    5.00             5       16  \n",
       "\n",
       "[250 rows x 15 columns]"
      ]
     },
     "execution_count": 5,
     "metadata": {},
     "output_type": "execute_result"
    }
   ],
   "source": [
    "pd.read_excel(r'TMA.xlsx')"
   ]
  },
  {
   "cell_type": "code",
   "execution_count": 6,
   "id": "a379fc3f",
   "metadata": {},
   "outputs": [],
   "source": [
    "y_values = [320638, 220569, 250000, 495223, 463447, 1582297, 2335284, 6263799, 3776982, 834903, 736482]"
   ]
  },
  {
   "cell_type": "code",
   "execution_count": 7,
   "id": "82d5b240",
   "metadata": {},
   "outputs": [],
   "source": [
    "x_values = ['Admin F', 'Admin M', 'C-Level F', 'Engineering F', 'Engineering M', 'IT F', 'IT M', 'Manufacturing F', 'Manufacturing M', 'Sales F', 'Sales M']"
   ]
  },
  {
   "cell_type": "code",
   "execution_count": 8,
   "id": "c22da83d",
   "metadata": {
    "scrolled": false
   },
   "outputs": [
    {
     "data": {
      "text/plain": [
       "(0.0, 7000000.0)"
      ]
     },
     "execution_count": 8,
     "metadata": {},
     "output_type": "execute_result"
    },
    {
     "data": {
      "image/png": "[encoded data removed]",
      "text/plain": [
       "<Figure size 432x288 with 1 Axes>"
      ]
     },
     "metadata": {
      "needs_background": "light"
     },
     "output_type": "display_data"
    }
   ],
   "source": [
    "plt.ylabel('Salary')\n",
    "plt.xlabel('Unit/Gender')\n",
    "plt.bar(x_values, y_values, color = 'blue', width = 0.5)\n",
    "plt.title('Total salary')\n",
    "plt.xticks(rotation=90)\n",
    "plt.ylim(0,7000000)"
   ]
  },
  {
   "cell_type": "markdown",
   "id": "aef33129",
   "metadata": {},
   "source": [
    "### From the graph, we can conculde that staffs from the Manufacturing department ($10040781) has the highest salary among all the other business unit following by IT (3917581), Sales Engineering(958670), Admin(541207) and lastly C-Level (250000). As such, we can conclude that there are more people from the manufacturing department, earning slightly more than the other staff from other department.\n",
    "\n",
    "### However, from the graph, we can also conclude that females from manufacturing department in total are earning more compared to the males in the department. Whereas, males from the IT department has a higher population and earning more salary in total compared to the females in IT deparement."
   ]
  },
  {
   "cell_type": "markdown",
   "id": "8f5f7be3",
   "metadata": {},
   "source": [
    "### Second Chart -Pie Chart"
   ]
  },
  {
   "cell_type": "code",
   "execution_count": null,
   "id": "9b5b4b44",
   "metadata": {},
   "outputs": [],
   "source": [
    "pd.read_excel(r'C:\\Users\\USer\\Desktop\\ANL 252\\TMA_data.xlsx')\n"
   ]
  },
  {
   "cell_type": "code",
   "execution_count": 9,
   "id": "dccedb08",
   "metadata": {},
   "outputs": [],
   "source": [
    "import matplotlib.pyplot as plt"
   ]
  },
  {
   "cell_type": "code",
   "execution_count": 10,
   "id": "2f207c12",
   "metadata": {},
   "outputs": [],
   "source": [
    "import numpy as np"
   ]
  },
  {
   "cell_type": "code",
   "execution_count": 11,
   "id": "c1551bc8",
   "metadata": {},
   "outputs": [],
   "source": [
    "y = np.array([123, 798, 62])"
   ]
  },
  {
   "cell_type": "code",
   "execution_count": 12,
   "id": "bc4c6593",
   "metadata": {},
   "outputs": [],
   "source": [
    "mylabels = ['Exceed, 123 , 13%', 'Meet, 798, 81%', 'To improve, 62, 6%']"
   ]
  },
  {
   "cell_type": "code",
   "execution_count": 13,
   "id": "405fc310",
   "metadata": {},
   "outputs": [],
   "source": [
    "myexplode = [0.1, 0.1, 0.05]"
   ]
  },
  {
   "cell_type": "code",
   "execution_count": 14,
   "id": "9667a687",
   "metadata": {},
   "outputs": [
    {
     "data": {
      "image/png": "[encoded data removed]",
      "text/plain": [
       "<Figure size 432x288 with 1 Axes>"
      ]
     },
     "metadata": {},
     "output_type": "display_data"
    }
   ],
   "source": [
    "plt.pie(y, labels = mylabels, startangle = 90, explode = myexplode, shadow =True )\n",
    "plt.legend(title = 'Performance Score')\n",
    "plt.show()"
   ]
  },
  {
   "cell_type": "markdown",
   "id": "90ebd347",
   "metadata": {},
   "source": [
    "### As shown in the data graph, with a total of 983 employess, 798 employees (81%) meets their satifaction , with 128 employess (13%) exceeding their expectation and only 62 employees (6%) that needs to improve on their performances as they did not meet the needs.\n",
    "### This shows that on average, most employees are happy with their good performance, achieving their goal in mind while only 6% of the whole employees have to work harder to achieve what they wanted."
   ]
  },
  {
   "cell_type": "markdown",
   "id": "97a954d1",
   "metadata": {},
   "source": [
    "### 1c)"
   ]
  },
  {
   "cell_type": "code",
   "execution_count": 15,
   "id": "31c40246",
   "metadata": {},
   "outputs": [],
   "source": [
    "import pandas as pd"
   ]
  },
  {
   "cell_type": "code",
   "execution_count": 16,
   "id": "af7de180",
   "metadata": {},
   "outputs": [],
   "source": [
    "import numpy as np\n",
    "import datetime "
   ]
  },
  {
   "cell_type": "code",
   "execution_count": 18,
   "id": "87a63b53",
   "metadata": {},
   "outputs": [],
   "source": [
    "df = pd.read_excel(r'TMA.xlsx')"
   ]
  },
  {
   "cell_type": "code",
   "execution_count": 19,
   "id": "1be40768",
   "metadata": {},
   "outputs": [
    {
     "name": "stdout",
     "output_type": "stream",
     "text": [
      "      ID             Staff            BirthYear Gender   Marital  \\\n",
      "0      1   Aairah Hastings  1986-07-10 00:00:00      F    Single   \n",
      "1      2  Aaminah Mcmillan             05/25/86      F   Married   \n",
      "2      3      Aamna Howell             04/20/85      F    Single   \n",
      "3      4     Aayan Ferrell  1984-10-06 00:00:00     M    Married   \n",
      "4      5        Ace Potter  1989-08-09 00:00:00      F  Divorced   \n",
      "..   ...               ...                  ...    ...       ...   \n",
      "245  246     Zaina Parrish  1981-11-10 00:00:00      F   Married   \n",
      "246  247       Zane Downes             10/24/87     M    Married   \n",
      "247  248       Zayd Farley  1970-09-07 00:00:00     M     Single   \n",
      "248  249       Zoya Easton  1980-02-08 00:00:00      F    Single   \n",
      "249  250    Zuzanna Pruitt             05/21/87      F    Single   \n",
      "\n",
      "      Citizenship Minority             JoinDate             LeftDate  \\\n",
      "0         Citizen      Yes  2012-02-04 00:00:00                  NaN   \n",
      "1         Citizen       No  2014-12-05 00:00:00                  NaN   \n",
      "2         Citizen       No            9/29/2014                  NaN   \n",
      "3         Citizen       No  2016-05-01 00:00:00                  NaN   \n",
      "4         Citizen       No  2011-11-07 00:00:00  2020-06-09 00:00:00   \n",
      "..            ...      ...                  ...                  ...   \n",
      "245  Non-Resident       No            2/16/2015                  NaN   \n",
      "246  Non-Resident       No            4/20/2017                  NaN   \n",
      "247  Non-Resident       No  2014-05-01 00:00:00                  NaN   \n",
      "248  Non-Resident       No            8/13/2012  2015-01-09 00:00:00   \n",
      "249  Non-Resident       No            3/30/2015                  NaN   \n",
      "\n",
      "              Unit  Salary PerformanceScore  Survey  Satisfaction  Absence  \n",
      "0    Manufacturing   46335             Meet    3.40             5       15  \n",
      "1    Manufacturing   66825             Meet    4.60             3       20  \n",
      "2    Manufacturing   60446             Meet    3.40             4       14  \n",
      "3           Admin    93046             Meet    4.10             4       20  \n",
      "4    Manufacturing   50825             Meet    5.00             4        2  \n",
      "..             ...     ...              ...     ...           ...      ...  \n",
      "245             IT   89883             Meet    3.69             5       15  \n",
      "246             IT   90100             Meet    3.40             3       14  \n",
      "247             IT  138888           Exceed    4.30             5        4  \n",
      "248  Manufacturing   50274       To Improve    2.50             3       13  \n",
      "249  Manufacturing   55315             Meet    5.00             5       16  \n",
      "\n",
      "[250 rows x 15 columns]\n"
     ]
    }
   ],
   "source": [
    "print(df)"
   ]
  },
  {
   "cell_type": "code",
   "execution_count": 20,
   "id": "5eace80d",
   "metadata": {},
   "outputs": [],
   "source": [
    "df4 = pd.read_excel(r'TMA.xlsx', usecols='H,I')"
   ]
  },
  {
   "cell_type": "code",
   "execution_count": 21,
   "id": "87bf761c",
   "metadata": {},
   "outputs": [
    {
     "name": "stdout",
     "output_type": "stream",
     "text": [
      "                JoinDate             LeftDate\n",
      "0    2012-02-04 00:00:00                  NaN\n",
      "1    2014-12-05 00:00:00                  NaN\n",
      "2              9/29/2014                  NaN\n",
      "3    2016-05-01 00:00:00                  NaN\n",
      "4    2011-11-07 00:00:00  2020-06-09 00:00:00\n",
      "..                   ...                  ...\n",
      "245            2/16/2015                  NaN\n",
      "246            4/20/2017                  NaN\n",
      "247  2014-05-01 00:00:00                  NaN\n",
      "248            8/13/2012  2015-01-09 00:00:00\n",
      "249            3/30/2015                  NaN\n",
      "\n",
      "[250 rows x 2 columns]\n"
     ]
    }
   ],
   "source": [
    "print(df4)"
   ]
  },
  {
   "cell_type": "code",
   "execution_count": 22,
   "id": "356ce34f",
   "metadata": {},
   "outputs": [
    {
     "name": "stdout",
     "output_type": "stream",
     "text": [
      "                JoinDate\n",
      "0    2012-02-04 00:00:00\n",
      "1    2014-12-05 00:00:00\n",
      "2              9/29/2014\n",
      "3    2016-05-01 00:00:00\n",
      "4    2011-11-07 00:00:00\n",
      "..                   ...\n",
      "245            2/16/2015\n",
      "246            4/20/2017\n",
      "247  2014-05-01 00:00:00\n",
      "248            8/13/2012\n",
      "249            3/30/2015\n",
      "\n",
      "[250 rows x 1 columns]\n"
     ]
    }
   ],
   "source": [
    "df2 = pd.read_excel(r'TMA.xlsx', usecols='H')\n",
    "print(df2)"
   ]
  },
  {
   "cell_type": "code",
   "execution_count": 23,
   "id": "3c414cb0",
   "metadata": {},
   "outputs": [],
   "source": [
    "df2['JoinDate'] = pd.to_datetime(df2['JoinDate'])"
   ]
  },
  {
   "cell_type": "code",
   "execution_count": 25,
   "id": "c605b8a8",
   "metadata": {},
   "outputs": [
    {
     "name": "stdout",
     "output_type": "stream",
     "text": [
      "                LeftDate\n",
      "0                    NaN\n",
      "1                    NaN\n",
      "2                    NaN\n",
      "3                    NaN\n",
      "4    2020-06-09 00:00:00\n",
      "..                   ...\n",
      "245                  NaN\n",
      "246                  NaN\n",
      "247                  NaN\n",
      "248  2015-01-09 00:00:00\n",
      "249                  NaN\n",
      "\n",
      "[250 rows x 1 columns]\n"
     ]
    }
   ],
   "source": [
    "df3 = pd.read_excel(r'TMA.xlsx', usecols='I')\n",
    "print(df3)"
   ]
  },
  {
   "cell_type": "code",
   "execution_count": 26,
   "id": "e5418861",
   "metadata": {},
   "outputs": [],
   "source": [
    "df3 = df3.fillna(value = pd.to_datetime('1/5/2022'))"
   ]
  },
  {
   "cell_type": "code",
   "execution_count": 27,
   "id": "3085be40",
   "metadata": {},
   "outputs": [],
   "source": [
    "df3['LeftDate'] = pd.to_datetime(df3['LeftDate'])"
   ]
  },
  {
   "cell_type": "code",
   "execution_count": 28,
   "id": "25f57765",
   "metadata": {},
   "outputs": [
    {
     "data": {
      "text/plain": [
       "LeftDate    datetime64[ns]\n",
       "dtype: object"
      ]
     },
     "execution_count": 28,
     "metadata": {},
     "output_type": "execute_result"
    }
   ],
   "source": [
    "df3.dtypes"
   ]
  },
  {
   "cell_type": "code",
   "execution_count": 29,
   "id": "c946155c",
   "metadata": {},
   "outputs": [
    {
     "data": {
      "text/plain": [
       "JoinDate    datetime64[ns]\n",
       "dtype: object"
      ]
     },
     "execution_count": 29,
     "metadata": {},
     "output_type": "execute_result"
    }
   ],
   "source": [
    "df2.dtypes"
   ]
  },
  {
   "cell_type": "code",
   "execution_count": 30,
   "id": "50ea2653",
   "metadata": {},
   "outputs": [
    {
     "name": "stdout",
     "output_type": "stream",
     "text": [
      "      LeftDate\n",
      "0   2022-01-05\n",
      "1   2022-01-05\n",
      "2   2022-01-05\n",
      "3   2022-01-05\n",
      "4   2020-06-09\n",
      "..         ...\n",
      "245 2022-01-05\n",
      "246 2022-01-05\n",
      "247 2022-01-05\n",
      "248 2015-01-09\n",
      "249 2022-01-05\n",
      "\n",
      "[250 rows x 1 columns]\n"
     ]
    }
   ],
   "source": [
    "print(df3)"
   ]
  },
  {
   "cell_type": "code",
   "execution_count": 31,
   "id": "4fc6e15c",
   "metadata": {},
   "outputs": [],
   "source": [
    "df4['diff_days'] = (df3['LeftDate'] - df2['JoinDate']) / np.timedelta64(1, 'Y')"
   ]
  },
  {
   "cell_type": "code",
   "execution_count": 32,
   "id": "46f33f8a",
   "metadata": {},
   "outputs": [
    {
     "name": "stdout",
     "output_type": "stream",
     "text": [
      "                JoinDate             LeftDate  diff_days\n",
      "0    2012-02-04 00:00:00                  NaN   9.919437\n",
      "1    2014-12-05 00:00:00                  NaN   7.085703\n",
      "2              9/29/2014                  NaN   7.269143\n",
      "3    2016-05-01 00:00:00                  NaN   5.681157\n",
      "4    2011-11-07 00:00:00  2020-06-09 00:00:00   8.588814\n",
      "..                   ...                  ...        ...\n",
      "245            2/16/2015                  NaN   6.885836\n",
      "246            4/20/2017                  NaN   4.711938\n",
      "247  2014-05-01 00:00:00                  NaN   7.682567\n",
      "248            8/13/2012  2015-01-09 00:00:00   2.406620\n",
      "249            3/30/2015                  NaN   6.770844\n",
      "\n",
      "[250 rows x 3 columns]\n"
     ]
    }
   ],
   "source": [
    "print(df4)"
   ]
  },
  {
   "cell_type": "code",
   "execution_count": 33,
   "id": "4e7a6ae7",
   "metadata": {},
   "outputs": [
    {
     "data": {
      "text/plain": [
       "min      0.071186\n",
       "max     15.345969\n",
       "mean     6.554330\n",
       "Name: diff_days, dtype: float64"
      ]
     },
     "execution_count": 33,
     "metadata": {},
     "output_type": "execute_result"
    }
   ],
   "source": [
    "df4['diff_days'].agg(['min', 'max', 'mean'])"
   ]
  },
  {
   "cell_type": "markdown",
   "id": "ecf1501c",
   "metadata": {},
   "source": [
    "### 1d)"
   ]
  },
  {
   "cell_type": "code",
   "execution_count": 34,
   "id": "f2dbbd53",
   "metadata": {},
   "outputs": [
    {
     "name": "stdout",
     "output_type": "stream",
     "text": [
      "      ID             Staff            BirthYear Gender   Marital  \\\n",
      "0      1   Aairah Hastings  1986-07-10 00:00:00      F    Single   \n",
      "1      2  Aaminah Mcmillan             05/25/86      F   Married   \n",
      "2      3      Aamna Howell             04/20/85      F    Single   \n",
      "3      4     Aayan Ferrell  1984-10-06 00:00:00     M    Married   \n",
      "4      5        Ace Potter  1989-08-09 00:00:00      F  Divorced   \n",
      "..   ...               ...                  ...    ...       ...   \n",
      "245  246     Zaina Parrish  1981-11-10 00:00:00      F   Married   \n",
      "246  247       Zane Downes             10/24/87     M    Married   \n",
      "247  248       Zayd Farley  1970-09-07 00:00:00     M     Single   \n",
      "248  249       Zoya Easton  1980-02-08 00:00:00      F    Single   \n",
      "249  250    Zuzanna Pruitt             05/21/87      F    Single   \n",
      "\n",
      "      Citizenship Minority             JoinDate             LeftDate  \\\n",
      "0         Citizen      Yes  2012-02-04 00:00:00                  NaN   \n",
      "1         Citizen       No  2014-12-05 00:00:00                  NaN   \n",
      "2         Citizen       No            9/29/2014                  NaN   \n",
      "3         Citizen       No  2016-05-01 00:00:00                  NaN   \n",
      "4         Citizen       No  2011-11-07 00:00:00  2020-06-09 00:00:00   \n",
      "..            ...      ...                  ...                  ...   \n",
      "245  Non-Resident       No            2/16/2015                  NaN   \n",
      "246  Non-Resident       No            4/20/2017                  NaN   \n",
      "247  Non-Resident       No  2014-05-01 00:00:00                  NaN   \n",
      "248  Non-Resident       No            8/13/2012  2015-01-09 00:00:00   \n",
      "249  Non-Resident       No            3/30/2015                  NaN   \n",
      "\n",
      "              Unit  Salary PerformanceScore  Survey  Satisfaction  Absence  \n",
      "0    Manufacturing   46335             Meet    3.40             5       15  \n",
      "1    Manufacturing   66825             Meet    4.60             3       20  \n",
      "2    Manufacturing   60446             Meet    3.40             4       14  \n",
      "3           Admin    93046             Meet    4.10             4       20  \n",
      "4    Manufacturing   50825             Meet    5.00             4        2  \n",
      "..             ...     ...              ...     ...           ...      ...  \n",
      "245             IT   89883             Meet    3.69             5       15  \n",
      "246             IT   90100             Meet    3.40             3       14  \n",
      "247             IT  138888           Exceed    4.30             5        4  \n",
      "248  Manufacturing   50274       To Improve    2.50             3       13  \n",
      "249  Manufacturing   55315             Meet    5.00             5       16  \n",
      "\n",
      "[250 rows x 15 columns]\n"
     ]
    }
   ],
   "source": [
    "import pandas as pd\n",
    "import numpy as np\n",
    "df = pd.read_excel(r'TMA.xlsx')\n",
    "print(df)"
   ]
  },
  {
   "cell_type": "code",
   "execution_count": 35,
   "id": "e9265449",
   "metadata": {},
   "outputs": [
    {
     "name": "stdout",
     "output_type": "stream",
     "text": [
      "                Staff\n",
      "0     Aairah Hastings\n",
      "1    Aaminah Mcmillan\n",
      "2        Aamna Howell\n",
      "3       Aayan Ferrell\n",
      "4          Ace Potter\n",
      "..                ...\n",
      "245     Zaina Parrish\n",
      "246       Zane Downes\n",
      "247       Zayd Farley\n",
      "248       Zoya Easton\n",
      "249    Zuzanna Pruitt\n",
      "\n",
      "[250 rows x 1 columns]\n"
     ]
    }
   ],
   "source": [
    "df2 = pd.read_excel(r'TMA.xlsx', usecols='B')\n",
    "print(df2)"
   ]
  },
  {
   "cell_type": "code",
   "execution_count": 36,
   "id": "61019a20",
   "metadata": {},
   "outputs": [
    {
     "name": "stdout",
     "output_type": "stream",
     "text": [
      "0       Aairah Hastings\n",
      "1      Aaminah Mcmillan\n",
      "2          Aamna Howell\n",
      "3         Aayan Ferrell\n",
      "4            Ace Potter\n",
      "             ...       \n",
      "245       Zaina Parrish\n",
      "246         Zane Downes\n",
      "247         Zayd Farley\n",
      "248         Zoya Easton\n",
      "249      Zuzanna Pruitt\n",
      "Name: Staff, Length: 250, dtype: object\n"
     ]
    }
   ],
   "source": [
    "print(df2['Staff'])"
   ]
  },
  {
   "cell_type": "code",
   "execution_count": 37,
   "id": "53da4d63",
   "metadata": {},
   "outputs": [],
   "source": [
    "staff_name = df2['Staff'].tolist()"
   ]
  },
  {
   "cell_type": "code",
   "execution_count": 38,
   "id": "3e0e64ad",
   "metadata": {},
   "outputs": [
    {
     "name": "stdout",
     "output_type": "stream",
     "text": [
      "\n",
      "User is/was not part of the organization\n",
      "Antonina Needham\n",
      "Antonina NeedhamUser is/was part of the organization\n"
     ]
    }
   ],
   "source": [
    "check = False \n",
    "while check != True:\n",
    "    name = input()\n",
    "    if name in staff_name:\n",
    "        check = True\n",
    "        print(name + 'User is/was part of the organization')\n",
    "    else:\n",
    "        print(name + 'User is/was not part of the organization')"
   ]
  },
  {
   "cell_type": "code",
   "execution_count": null,
   "id": "d6308987",
   "metadata": {},
   "outputs": [],
   "source": []
  }
 ],
 "metadata": {
  "kernelspec": {
   "display_name": "Python 3 (ipykernel)",
   "language": "python",
   "name": "python3"
  },
  "language_info": {
   "codemirror_mode": {
    "name": "ipython",
    "version": 3
   },
   "file_extension": ".py",
   "mimetype": "text/x-python",
   "name": "python",
   "nbconvert_exporter": "python",
   "pygments_lexer": "ipython3",
   "version": "3.9.12"
  }
 },
 "nbformat": 4,
 "nbformat_minor": 5
}
