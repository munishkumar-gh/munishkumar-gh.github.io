{
 "cells": [
  {
   "cell_type": "code",
   "execution_count": 1,
   "metadata": {},
   "outputs": [],
   "source": [
    "import pandas as pd\n",
    "from datetime import datetime"
   ]
  },
  {
   "cell_type": "code",
   "execution_count": 2,
   "metadata": {},
   "outputs": [
    {
     "data": {
      "text/html": [
       "<div>\n",
       "<style scoped>\n",
       "    .dataframe tbody tr th:only-of-type {\n",
       "        vertical-align: middle;\n",
       "    }\n",
       "\n",
       "    .dataframe tbody tr th {\n",
       "        vertical-align: top;\n",
       "    }\n",
       "\n",
       "    .dataframe thead th {\n",
       "        text-align: right;\n",
       "    }\n",
       "</style>\n",
       "<table border=\"1\" class=\"dataframe\">\n",
       "  <thead>\n",
       "    <tr style=\"text-align: right;\">\n",
       "      <th></th>\n",
       "      <th>ID</th>\n",
       "      <th>Staff</th>\n",
       "      <th>BirthYear</th>\n",
       "      <th>Gender</th>\n",
       "      <th>Marital</th>\n",
       "      <th>Citizenship</th>\n",
       "      <th>Minority</th>\n",
       "      <th>JoinDate</th>\n",
       "      <th>LeftDate</th>\n",
       "      <th>Unit</th>\n",
       "      <th>Salary</th>\n",
       "      <th>PerformanceScore</th>\n",
       "      <th>Survey</th>\n",
       "      <th>Satisfaction</th>\n",
       "      <th>Absence</th>\n",
       "    </tr>\n",
       "  </thead>\n",
       "  <tbody>\n",
       "    <tr>\n",
       "      <th>0</th>\n",
       "      <td>1</td>\n",
       "      <td>Aairah Hastings</td>\n",
       "      <td>10/7/1986</td>\n",
       "      <td>F</td>\n",
       "      <td>Single</td>\n",
       "      <td>Citizen</td>\n",
       "      <td>Yes</td>\n",
       "      <td>4/2/2012</td>\n",
       "      <td>NaN</td>\n",
       "      <td>Manufacturing</td>\n",
       "      <td>46335</td>\n",
       "      <td>Meet</td>\n",
       "      <td>3.4</td>\n",
       "      <td>5</td>\n",
       "      <td>15</td>\n",
       "    </tr>\n",
       "    <tr>\n",
       "      <th>1</th>\n",
       "      <td>2</td>\n",
       "      <td>Aaminah Mcmillan</td>\n",
       "      <td>05/25/86</td>\n",
       "      <td>F</td>\n",
       "      <td>Married</td>\n",
       "      <td>Citizen</td>\n",
       "      <td>No</td>\n",
       "      <td>5/12/2014</td>\n",
       "      <td>NaN</td>\n",
       "      <td>Manufacturing</td>\n",
       "      <td>66825</td>\n",
       "      <td>Meet</td>\n",
       "      <td>4.6</td>\n",
       "      <td>3</td>\n",
       "      <td>20</td>\n",
       "    </tr>\n",
       "    <tr>\n",
       "      <th>2</th>\n",
       "      <td>3</td>\n",
       "      <td>Aamna Howell</td>\n",
       "      <td>04/20/85</td>\n",
       "      <td>F</td>\n",
       "      <td>Single</td>\n",
       "      <td>Citizen</td>\n",
       "      <td>No</td>\n",
       "      <td>9/29/2014</td>\n",
       "      <td>NaN</td>\n",
       "      <td>Manufacturing</td>\n",
       "      <td>60446</td>\n",
       "      <td>Meet</td>\n",
       "      <td>3.4</td>\n",
       "      <td>4</td>\n",
       "      <td>14</td>\n",
       "    </tr>\n",
       "    <tr>\n",
       "      <th>3</th>\n",
       "      <td>4</td>\n",
       "      <td>Aayan Ferrell</td>\n",
       "      <td>6/10/1984</td>\n",
       "      <td>M</td>\n",
       "      <td>Married</td>\n",
       "      <td>Citizen</td>\n",
       "      <td>No</td>\n",
       "      <td>1/5/2016</td>\n",
       "      <td>NaN</td>\n",
       "      <td>Admin</td>\n",
       "      <td>93046</td>\n",
       "      <td>Meet</td>\n",
       "      <td>4.1</td>\n",
       "      <td>4</td>\n",
       "      <td>20</td>\n",
       "    </tr>\n",
       "    <tr>\n",
       "      <th>4</th>\n",
       "      <td>5</td>\n",
       "      <td>Ace Potter</td>\n",
       "      <td>9/8/1989</td>\n",
       "      <td>F</td>\n",
       "      <td>Divorced</td>\n",
       "      <td>Citizen</td>\n",
       "      <td>No</td>\n",
       "      <td>7/11/2011</td>\n",
       "      <td>9/6/2020</td>\n",
       "      <td>Manufacturing</td>\n",
       "      <td>50825</td>\n",
       "      <td>Meet</td>\n",
       "      <td>5.0</td>\n",
       "      <td>4</td>\n",
       "      <td>2</td>\n",
       "    </tr>\n",
       "  </tbody>\n",
       "</table>\n",
       "</div>"
      ],
      "text/plain": [
       "   ID             Staff  BirthYear Gender   Marital Citizenship Minority  \\\n",
       "0   1   Aairah Hastings  10/7/1986      F    Single     Citizen      Yes   \n",
       "1   2  Aaminah Mcmillan   05/25/86      F   Married     Citizen       No   \n",
       "2   3      Aamna Howell   04/20/85      F    Single     Citizen       No   \n",
       "3   4     Aayan Ferrell  6/10/1984     M    Married     Citizen       No   \n",
       "4   5        Ace Potter   9/8/1989      F  Divorced     Citizen       No   \n",
       "\n",
       "    JoinDate  LeftDate           Unit  Salary PerformanceScore  Survey  \\\n",
       "0   4/2/2012       NaN  Manufacturing   46335             Meet     3.4   \n",
       "1  5/12/2014       NaN  Manufacturing   66825             Meet     4.6   \n",
       "2  9/29/2014       NaN  Manufacturing   60446             Meet     3.4   \n",
       "3   1/5/2016       NaN         Admin    93046             Meet     4.1   \n",
       "4  7/11/2011  9/6/2020  Manufacturing   50825             Meet     5.0   \n",
       "\n",
       "   Satisfaction  Absence  \n",
       "0             5       15  \n",
       "1             3       20  \n",
       "2             4       14  \n",
       "3             4       20  \n",
       "4             4        2  "
      ]
     },
     "execution_count": 2,
     "metadata": {},
     "output_type": "execute_result"
    }
   ],
   "source": [
    "df = pd.read_csv(r'TMA_Data.csv')\n",
    "df.head()"
   ]
  },
  {
   "cell_type": "code",
   "execution_count": 3,
   "metadata": {},
   "outputs": [],
   "source": [
    "df['Performance Score'] = df['PerformanceScore']"
   ]
  },
  {
   "cell_type": "markdown",
   "metadata": {},
   "source": [
    "# Question 1(b): \n",
    "Read the data and create the same two (2) charts and their corresponding summarised tables produced in Part (a), using Python."
   ]
  },
  {
   "cell_type": "code",
   "execution_count": 4,
   "metadata": {},
   "outputs": [
    {
     "data": {
      "text/plain": [
       "Performance Score  Gender\n",
       "Exceed             F          16\n",
       "                   M          14\n",
       "Meet               F         119\n",
       "                   M          82\n",
       "PIP                F           1\n",
       "                   M           1\n",
       "To Improve         F           8\n",
       "                   M           9\n",
       "dtype: int64"
      ]
     },
     "execution_count": 4,
     "metadata": {},
     "output_type": "execute_result"
    }
   ],
   "source": [
    "df1 = df[[\"Gender\",'Performance Score']].copy()\n",
    "df1.groupby(['Performance Score', 'Gender']).size()"
   ]
  },
  {
   "cell_type": "code",
   "execution_count": 5,
   "metadata": {},
   "outputs": [
    {
     "data": {
      "text/plain": [
       "<AxesSubplot:xlabel='Performance Score,Gender'>"
      ]
     },
     "execution_count": 5,
     "metadata": {},
     "output_type": "execute_result"
    },
    {
     "data": {
      "image/png": "[encoded data removed]",
      "text/plain": [
       "<Figure size 432x288 with 1 Axes>"
      ]
     },
     "metadata": {
      "needs_background": "light"
     },
     "output_type": "display_data"
    }
   ],
   "source": [
    "df1.groupby(['Performance Score', 'Gender']).size().plot(kind=\"bar\")"
   ]
  },
  {
   "cell_type": "code",
   "execution_count": 6,
   "metadata": {},
   "outputs": [
    {
     "data": {
      "text/html": [
       "<div>\n",
       "<style scoped>\n",
       "    .dataframe tbody tr th:only-of-type {\n",
       "        vertical-align: middle;\n",
       "    }\n",
       "\n",
       "    .dataframe tbody tr th {\n",
       "        vertical-align: top;\n",
       "    }\n",
       "\n",
       "    .dataframe thead th {\n",
       "        text-align: right;\n",
       "    }\n",
       "</style>\n",
       "<table border=\"1\" class=\"dataframe\">\n",
       "  <thead>\n",
       "    <tr style=\"text-align: right;\">\n",
       "      <th></th>\n",
       "      <th></th>\n",
       "      <th>Performance Score</th>\n",
       "    </tr>\n",
       "    <tr>\n",
       "      <th>PerformanceScore</th>\n",
       "      <th>Gender</th>\n",
       "      <th></th>\n",
       "    </tr>\n",
       "  </thead>\n",
       "  <tbody>\n",
       "    <tr>\n",
       "      <th rowspan=\"2\" valign=\"top\">Exceed</th>\n",
       "      <th>F</th>\n",
       "      <td>16</td>\n",
       "    </tr>\n",
       "    <tr>\n",
       "      <th>M</th>\n",
       "      <td>14</td>\n",
       "    </tr>\n",
       "    <tr>\n",
       "      <th rowspan=\"2\" valign=\"top\">Meet</th>\n",
       "      <th>F</th>\n",
       "      <td>119</td>\n",
       "    </tr>\n",
       "    <tr>\n",
       "      <th>M</th>\n",
       "      <td>82</td>\n",
       "    </tr>\n",
       "    <tr>\n",
       "      <th rowspan=\"2\" valign=\"top\">PIP</th>\n",
       "      <th>F</th>\n",
       "      <td>1</td>\n",
       "    </tr>\n",
       "    <tr>\n",
       "      <th>M</th>\n",
       "      <td>1</td>\n",
       "    </tr>\n",
       "    <tr>\n",
       "      <th rowspan=\"2\" valign=\"top\">To Improve</th>\n",
       "      <th>F</th>\n",
       "      <td>8</td>\n",
       "    </tr>\n",
       "    <tr>\n",
       "      <th>M</th>\n",
       "      <td>9</td>\n",
       "    </tr>\n",
       "  </tbody>\n",
       "</table>\n",
       "</div>"
      ],
      "text/plain": [
       "                         Performance Score\n",
       "PerformanceScore Gender                   \n",
       "Exceed           F                      16\n",
       "                 M                      14\n",
       "Meet             F                     119\n",
       "                 M                      82\n",
       "PIP              F                       1\n",
       "                 M                       1\n",
       "To Improve       F                       8\n",
       "                 M                       9"
      ]
     },
     "execution_count": 6,
     "metadata": {},
     "output_type": "execute_result"
    }
   ],
   "source": [
    "output = pd.pivot_table(data=df, \n",
    "                        index=['PerformanceScore','Gender'],\n",
    "                        values=['Performance Score'],\n",
    "                        aggfunc='count')\n",
    "output"
   ]
  },
  {
   "cell_type": "code",
   "execution_count": 7,
   "metadata": {},
   "outputs": [
    {
     "data": {
      "text/plain": [
       "<AxesSubplot:xlabel='PerformanceScore,Gender'>"
      ]
     },
     "execution_count": 7,
     "metadata": {},
     "output_type": "execute_result"
    },
    {
     "data": {
      "image/png": "[encoded data removed]",
      "text/plain": [
       "<Figure size 432x288 with 1 Axes>"
      ]
     },
     "metadata": {
      "needs_background": "light"
     },
     "output_type": "display_data"
    }
   ],
   "source": [
    "output.plot(kind=\"bar\")"
   ]
  },
  {
   "cell_type": "code",
   "execution_count": 8,
   "metadata": {},
   "outputs": [
    {
     "data": {
      "text/plain": [
       "Citizenship   Marital \n",
       "Citizen       Divorced    1314902\n",
       "              Married     5284697\n",
       "              Others       905391\n",
       "              Single      6104280\n",
       "Non-Resident  Married      356644\n",
       "              Others        67176\n",
       "              Single       736009\n",
       "PR            Divorced     355489\n",
       "              Married     1110477\n",
       "              Others        52788\n",
       "              Single       991771\n",
       "Name: Salary, dtype: int64"
      ]
     },
     "execution_count": 8,
     "metadata": {},
     "output_type": "execute_result"
    }
   ],
   "source": [
    "df1 = df[[\"Citizenship\",'Marital',\"Salary\"]].copy()\n",
    "df1.groupby(['Citizenship', 'Marital']).aggregate(\"Salary\").sum()"
   ]
  },
  {
   "cell_type": "code",
   "execution_count": 9,
   "metadata": {},
   "outputs": [
    {
     "data": {
      "text/plain": [
       "<AxesSubplot:xlabel='Citizenship,Marital'>"
      ]
     },
     "execution_count": 9,
     "metadata": {},
     "output_type": "execute_result"
    },
    {
     "data": {
      "image/png": "[encoded data removed]",
      "text/plain": [
       "<Figure size 432x288 with 1 Axes>"
      ]
     },
     "metadata": {
      "needs_background": "light"
     },
     "output_type": "display_data"
    }
   ],
   "source": [
    "df1.groupby(['Citizenship', 'Marital']).aggregate(\"Salary\").sum().plot(kind=\"bar\")"
   ]
  },
  {
   "cell_type": "code",
   "execution_count": 10,
   "metadata": {},
   "outputs": [
    {
     "data": {
      "text/html": [
       "<div>\n",
       "<style scoped>\n",
       "    .dataframe tbody tr th:only-of-type {\n",
       "        vertical-align: middle;\n",
       "    }\n",
       "\n",
       "    .dataframe tbody tr th {\n",
       "        vertical-align: top;\n",
       "    }\n",
       "\n",
       "    .dataframe thead th {\n",
       "        text-align: right;\n",
       "    }\n",
       "</style>\n",
       "<table border=\"1\" class=\"dataframe\">\n",
       "  <thead>\n",
       "    <tr style=\"text-align: right;\">\n",
       "      <th></th>\n",
       "      <th></th>\n",
       "      <th>Salary</th>\n",
       "    </tr>\n",
       "    <tr>\n",
       "      <th>Citizenship</th>\n",
       "      <th>Marital</th>\n",
       "      <th></th>\n",
       "    </tr>\n",
       "  </thead>\n",
       "  <tbody>\n",
       "    <tr>\n",
       "      <th rowspan=\"4\" valign=\"top\">Citizen</th>\n",
       "      <th>Divorced</th>\n",
       "      <td>1314902</td>\n",
       "    </tr>\n",
       "    <tr>\n",
       "      <th>Married</th>\n",
       "      <td>5284697</td>\n",
       "    </tr>\n",
       "    <tr>\n",
       "      <th>Others</th>\n",
       "      <td>905391</td>\n",
       "    </tr>\n",
       "    <tr>\n",
       "      <th>Single</th>\n",
       "      <td>6104280</td>\n",
       "    </tr>\n",
       "    <tr>\n",
       "      <th rowspan=\"3\" valign=\"top\">Non-Resident</th>\n",
       "      <th>Married</th>\n",
       "      <td>356644</td>\n",
       "    </tr>\n",
       "    <tr>\n",
       "      <th>Others</th>\n",
       "      <td>67176</td>\n",
       "    </tr>\n",
       "    <tr>\n",
       "      <th>Single</th>\n",
       "      <td>736009</td>\n",
       "    </tr>\n",
       "    <tr>\n",
       "      <th rowspan=\"4\" valign=\"top\">PR</th>\n",
       "      <th>Divorced</th>\n",
       "      <td>355489</td>\n",
       "    </tr>\n",
       "    <tr>\n",
       "      <th>Married</th>\n",
       "      <td>1110477</td>\n",
       "    </tr>\n",
       "    <tr>\n",
       "      <th>Others</th>\n",
       "      <td>52788</td>\n",
       "    </tr>\n",
       "    <tr>\n",
       "      <th>Single</th>\n",
       "      <td>991771</td>\n",
       "    </tr>\n",
       "  </tbody>\n",
       "</table>\n",
       "</div>"
      ],
      "text/plain": [
       "                        Salary\n",
       "Citizenship  Marital          \n",
       "Citizen      Divorced  1314902\n",
       "             Married   5284697\n",
       "             Others     905391\n",
       "             Single    6104280\n",
       "Non-Resident Married    356644\n",
       "             Others      67176\n",
       "             Single     736009\n",
       "PR           Divorced   355489\n",
       "             Married   1110477\n",
       "             Others      52788\n",
       "             Single     991771"
      ]
     },
     "execution_count": 10,
     "metadata": {},
     "output_type": "execute_result"
    }
   ],
   "source": [
    "output2 = pd.pivot_table(data=df, \n",
    "                        index=['Citizenship','Marital'],\n",
    "                        values=['Salary'],\n",
    "                        aggfunc='sum')\n",
    "output2"
   ]
  },
  {
   "cell_type": "code",
   "execution_count": 11,
   "metadata": {},
   "outputs": [
    {
     "data": {
      "text/plain": [
       "<AxesSubplot:xlabel='Citizenship,Marital'>"
      ]
     },
     "execution_count": 11,
     "metadata": {},
     "output_type": "execute_result"
    },
    {
     "data": {
      "image/png": "[encoded data removed]",
      "text/plain": [
       "<Figure size 432x288 with 1 Axes>"
      ]
     },
     "metadata": {
      "needs_background": "light"
     },
     "output_type": "display_data"
    }
   ],
   "source": [
    "output2.plot(kind=\"bar\")"
   ]
  },
  {
   "cell_type": "markdown",
   "metadata": {},
   "source": [
    "# Question 1(c): \n",
    "Find the length of service of all the staff, using Python. For staff who has not left the organization, use 1st May 2022 as the LeftDate. State the minimum, maximum and average length of service, expressing in years, rounded to 1 decimal place. (1 year is taken as 365 days.)"
   ]
  },
  {
   "cell_type": "code",
   "execution_count": 12,
   "metadata": {},
   "outputs": [],
   "source": [
    "df1 = df[[\"JoinDate\",\"LeftDate\"]].copy()\n",
    "for i in range(len(df1)):\n",
    "    try:\n",
    "        df1.iloc[i]['JoinDate'] = (datetime.strptime(df1.iloc[i]['JoinDate'],  \"%m-%d-%Y\")).date()\n",
    "    except:\n",
    "        df1.iloc[i]['JoinDate'] = (datetime.strptime(df1.iloc[i]['JoinDate'],  \"%m/%d/%Y\")).date()\n",
    "for i in range(len(df1)):\n",
    "    if type(df1.iloc[i]['LeftDate']) == str:\n",
    "        try:\n",
    "            df1.iloc[i]['LeftDate'] = (datetime.strptime(df1.iloc[i]['LeftDate'],  \"%m-%d-%Y\")).date()\n",
    "        except:\n",
    "            df1.iloc[i]['LeftDate'] = (datetime.strptime(df1.iloc[i]['LeftDate'],  \"%m/%d/%Y\")).date()\n",
    "    else:\n",
    "        df1.iloc[i]['LeftDate'] = (datetime.strptime(\"05/01/2022\",  \"%m/%d/%Y\")).date()"
   ]
  },
  {
   "cell_type": "code",
   "execution_count": 13,
   "metadata": {},
   "outputs": [
    {
     "data": {
      "text/html": [
       "<div>\n",
       "<style scoped>\n",
       "    .dataframe tbody tr th:only-of-type {\n",
       "        vertical-align: middle;\n",
       "    }\n",
       "\n",
       "    .dataframe tbody tr th {\n",
       "        vertical-align: top;\n",
       "    }\n",
       "\n",
       "    .dataframe thead th {\n",
       "        text-align: right;\n",
       "    }\n",
       "</style>\n",
       "<table border=\"1\" class=\"dataframe\">\n",
       "  <thead>\n",
       "    <tr style=\"text-align: right;\">\n",
       "      <th></th>\n",
       "      <th>Service Length in Years</th>\n",
       "    </tr>\n",
       "  </thead>\n",
       "  <tbody>\n",
       "    <tr>\n",
       "      <th>count</th>\n",
       "      <td>250.000000</td>\n",
       "    </tr>\n",
       "    <tr>\n",
       "      <th>mean</th>\n",
       "      <td>6.818400</td>\n",
       "    </tr>\n",
       "    <tr>\n",
       "      <th>std</th>\n",
       "      <td>3.172304</td>\n",
       "    </tr>\n",
       "    <tr>\n",
       "      <th>min</th>\n",
       "      <td>0.100000</td>\n",
       "    </tr>\n",
       "    <tr>\n",
       "      <th>25%</th>\n",
       "      <td>4.725000</td>\n",
       "    </tr>\n",
       "    <tr>\n",
       "      <th>50%</th>\n",
       "      <td>7.300000</td>\n",
       "    </tr>\n",
       "    <tr>\n",
       "      <th>75%</th>\n",
       "      <td>8.800000</td>\n",
       "    </tr>\n",
       "    <tr>\n",
       "      <th>max</th>\n",
       "      <td>16.300000</td>\n",
       "    </tr>\n",
       "  </tbody>\n",
       "</table>\n",
       "</div>"
      ],
      "text/plain": [
       "       Service Length in Years\n",
       "count               250.000000\n",
       "mean                  6.818400\n",
       "std                   3.172304\n",
       "min                   0.100000\n",
       "25%                   4.725000\n",
       "50%                   7.300000\n",
       "75%                   8.800000\n",
       "max                  16.300000"
      ]
     },
     "execution_count": 13,
     "metadata": {},
     "output_type": "execute_result"
    }
   ],
   "source": [
    "df1['Service Length in Years'] = round(((df1['LeftDate'] - df1['JoinDate']).dt.days / 365),1)\n",
    "df1.describe()"
   ]
  },
  {
   "cell_type": "code",
   "execution_count": 14,
   "metadata": {},
   "outputs": [
    {
     "name": "stdout",
     "output_type": "stream",
     "text": [
      "Select from the options below:\n",
      "1. Search\n",
      "2. Quit\n",
      "Enter your choice: 1\n",
      "\n",
      "Please enter full name to search: Munish\n",
      "Staff not found!\n",
      "Select from the options below:\n",
      "1. Search\n",
      "2. Quit\n",
      "Enter your choice: Antonina Needham\n",
      "Wrong Choice\n",
      "\n",
      "Select from the options below:\n",
      "1. Search\n",
      "2. Quit\n",
      "Enter your choice: 1\n",
      "\n",
      "Please enter full name to search: Antonina Needham\n",
      "Staff found!\n",
      "Select from the options below:\n",
      "1. Search\n",
      "2. Quit\n",
      "Enter your choice: 1\n",
      "\n",
      "Please enter full name to search: Becky Kent\n",
      "Staff found!\n",
      "Select from the options below:\n",
      "1. Search\n",
      "2. Quit\n",
      "Enter your choice: 2\n",
      "\n",
      "Quiting!\n"
     ]
    }
   ],
   "source": [
    "while True:\n",
    "    print(\"Select from the options below:\")\n",
    "    print(\"1. Search\")\n",
    "    print(\"2. Quit\")\n",
    "    x = input(\"Enter your choice: \")\n",
    "    if x == \"2\":\n",
    "        print()\n",
    "        print(\"Quiting!\")\n",
    "        break\n",
    "    elif x == \"1\":\n",
    "        print()\n",
    "        f = False\n",
    "        name = input(\"Please enter full name to search: \")\n",
    "        for i in range(len(df)):\n",
    "            if df.iloc[i]['Staff'] == name:\n",
    "                f = True\n",
    "        if f:\n",
    "            print(\"Staff found!\")\n",
    "        else: \n",
    "            print(\"Staff not found!\")\n",
    "    else:\n",
    "        print(\"Wrong Choice\")\n",
    "        print()"
   ]
  },
  {
   "cell_type": "code",
   "execution_count": null,
   "metadata": {},
   "outputs": [],
   "source": []
  }
 ],
 "metadata": {
  "kernelspec": {
   "display_name": "Python 3 (ipykernel)",
   "language": "python",
   "name": "python3"
  },
  "language_info": {
   "codemirror_mode": {
    "name": "ipython",
    "version": 3
   },
   "file_extension": ".py",
   "mimetype": "text/x-python",
   "name": "python",
   "nbconvert_exporter": "python",
   "pygments_lexer": "ipython3",
   "version": "3.7.13"
  },
  "vscode": {
   "interpreter": {
    "hash": "6a926afa313b26ae1264fdcf81c726a97e69f6ba2ba780f6aa901948710f8d6e"
   }
  }
 },
 "nbformat": 4,
 "nbformat_minor": 2
}
