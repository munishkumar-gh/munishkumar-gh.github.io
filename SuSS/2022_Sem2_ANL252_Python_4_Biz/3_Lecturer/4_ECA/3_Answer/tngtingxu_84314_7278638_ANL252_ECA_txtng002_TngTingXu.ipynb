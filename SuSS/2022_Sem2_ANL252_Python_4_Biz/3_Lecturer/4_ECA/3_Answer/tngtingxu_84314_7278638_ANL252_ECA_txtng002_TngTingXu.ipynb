{
 "cells": [
  {
   "cell_type": "markdown",
   "id": "65d0b97b",
   "metadata": {},
   "source": [
    "<a href=\"https://www.suss.edu.sg/\">\n",
    "   <img src = \"https://www.suss.edu.sg/images/default-source/default-album/logo-with-tagline.png\" width =200> "
   ]
  },
  {
   "cell_type": "markdown",
   "id": "38382788",
   "metadata": {},
   "source": [
    "# <center>ANL252</center>\n",
    "# <center>Python for Data Analytics</center>\n",
    "\n",
    "# <center>-------------------------------------------------------------------------------------------------</center>\n",
    "\n",
    "# <center>End-of-Course Assessment</center>\n",
    "# <center>July 2022 Presentation</center>\n",
    "# <center>Dr Munish Kumar</center>\n",
    "\n",
    "# <center>-------------------------------------------------------------------------------------------------</center>\n",
    "\n",
    "# <center>Name: Tng Ting Xu</center>\n",
    "# <center>PI Number: K2181584</center>\n",
    "# <center>Date of Submission: 5 September 2022</center>"
   ]
  },
  {
   "cell_type": "markdown",
   "id": "4ec776d3",
   "metadata": {},
   "source": [
    "## Question 1"
   ]
  },
  {
   "cell_type": "markdown",
   "id": "4d6421ec",
   "metadata": {},
   "source": [
    "#### Categorical Variables: \n",
    "1. Gender\n",
    "2. Education\n",
    "3. Marital\n",
    "4. S(n)\n",
    "5. Rating\n",
    "6. ID\n",
    "\n",
    "#### Numeric Variables: \n",
    "1. Limit\n",
    "2. Balance\n",
    "3. Income\n",
    "4. Age\n",
    "5. B(n)\n",
    "6. R(n)"
   ]
  },
  {
   "cell_type": "markdown",
   "id": "ab637311",
   "metadata": {},
   "source": [
    "\n",
    "## Question 2"
   ]
  },
  {
   "cell_type": "code",
   "execution_count": 1,
   "id": "6c229f7c",
   "metadata": {},
   "outputs": [],
   "source": [
    "# Import Libraries\n",
    "import pandas as pd\n",
    "import numpy as np\n",
    "from matplotlib import pyplot as plt\n",
    "\n",
    "# Reads data from file\n",
    "PATH = r\"ECA_data.csv\"\n",
    "DF = pd.read_csv(PATH)"
   ]
  },
  {
   "cell_type": "code",
   "execution_count": 2,
   "id": "5d8ba3a2",
   "metadata": {
    "scrolled": true
   },
   "outputs": [
    {
     "data": {
      "text/html": [
       "<div>\n",
       "<style scoped>\n",
       "    .dataframe tbody tr th:only-of-type {\n",
       "        vertical-align: middle;\n",
       "    }\n",
       "\n",
       "    .dataframe tbody tr th {\n",
       "        vertical-align: top;\n",
       "    }\n",
       "\n",
       "    .dataframe thead th {\n",
       "        text-align: right;\n",
       "    }\n",
       "</style>\n",
       "<table border=\"1\" class=\"dataframe\">\n",
       "  <thead>\n",
       "    <tr style=\"text-align: right;\">\n",
       "      <th></th>\n",
       "      <th>ID</th>\n",
       "      <th>LIMIT</th>\n",
       "      <th>BALANCE</th>\n",
       "      <th>INCOME</th>\n",
       "      <th>RATING</th>\n",
       "      <th>GENDER</th>\n",
       "      <th>EDUCATION</th>\n",
       "      <th>MARITAL</th>\n",
       "      <th>AGE</th>\n",
       "      <th>S1</th>\n",
       "      <th>...</th>\n",
       "      <th>B1</th>\n",
       "      <th>B2</th>\n",
       "      <th>B3</th>\n",
       "      <th>B4</th>\n",
       "      <th>B5</th>\n",
       "      <th>R1</th>\n",
       "      <th>R2</th>\n",
       "      <th>R3</th>\n",
       "      <th>R4</th>\n",
       "      <th>R5</th>\n",
       "    </tr>\n",
       "  </thead>\n",
       "  <tbody>\n",
       "    <tr>\n",
       "      <th>0</th>\n",
       "      <td>1</td>\n",
       "      <td>210000</td>\n",
       "      <td>0.000</td>\n",
       "      <td>235822</td>\n",
       "      <td>1</td>\n",
       "      <td>1</td>\n",
       "      <td>1.0</td>\n",
       "      <td>2.0</td>\n",
       "      <td>30</td>\n",
       "      <td>0</td>\n",
       "      <td>...</td>\n",
       "      <td>0</td>\n",
       "      <td>0</td>\n",
       "      <td>0</td>\n",
       "      <td>0</td>\n",
       "      <td>0</td>\n",
       "      <td>0</td>\n",
       "      <td>0</td>\n",
       "      <td>0</td>\n",
       "      <td>0</td>\n",
       "      <td>0</td>\n",
       "    </tr>\n",
       "    <tr>\n",
       "      <th>1</th>\n",
       "      <td>2</td>\n",
       "      <td>260000</td>\n",
       "      <td>10928.050</td>\n",
       "      <td>278481</td>\n",
       "      <td>0</td>\n",
       "      <td>0</td>\n",
       "      <td>2.0</td>\n",
       "      <td>2.0</td>\n",
       "      <td>31</td>\n",
       "      <td>0</td>\n",
       "      <td>...</td>\n",
       "      <td>54074</td>\n",
       "      <td>46407</td>\n",
       "      <td>38874</td>\n",
       "      <td>31324</td>\n",
       "      <td>24031</td>\n",
       "      <td>2000</td>\n",
       "      <td>2000</td>\n",
       "      <td>2000</td>\n",
       "      <td>2000</td>\n",
       "      <td>72000</td>\n",
       "    </tr>\n",
       "    <tr>\n",
       "      <th>2</th>\n",
       "      <td>3</td>\n",
       "      <td>400000</td>\n",
       "      <td>65397.850</td>\n",
       "      <td>431993</td>\n",
       "      <td>0</td>\n",
       "      <td>0</td>\n",
       "      <td>3.0</td>\n",
       "      <td>1.0</td>\n",
       "      <td>51</td>\n",
       "      <td>0</td>\n",
       "      <td>...</td>\n",
       "      <td>343591</td>\n",
       "      <td>352484</td>\n",
       "      <td>338823</td>\n",
       "      <td>283288</td>\n",
       "      <td>185288</td>\n",
       "      <td>15000</td>\n",
       "      <td>14000</td>\n",
       "      <td>11500</td>\n",
       "      <td>8000</td>\n",
       "      <td>7000</td>\n",
       "    </tr>\n",
       "    <tr>\n",
       "      <th>3</th>\n",
       "      <td>4</td>\n",
       "      <td>20000</td>\n",
       "      <td>3695.300</td>\n",
       "      <td>22368</td>\n",
       "      <td>0</td>\n",
       "      <td>0</td>\n",
       "      <td>2.0</td>\n",
       "      <td>1.0</td>\n",
       "      <td>58</td>\n",
       "      <td>-1</td>\n",
       "      <td>...</td>\n",
       "      <td>21470</td>\n",
       "      <td>200</td>\n",
       "      <td>0</td>\n",
       "      <td>28740</td>\n",
       "      <td>1295</td>\n",
       "      <td>0</td>\n",
       "      <td>0</td>\n",
       "      <td>28740</td>\n",
       "      <td>1565</td>\n",
       "      <td>0</td>\n",
       "    </tr>\n",
       "    <tr>\n",
       "      <th>4</th>\n",
       "      <td>5</td>\n",
       "      <td>180000</td>\n",
       "      <td>68.250</td>\n",
       "      <td>166900</td>\n",
       "      <td>0</td>\n",
       "      <td>1</td>\n",
       "      <td>2.0</td>\n",
       "      <td>1.0</td>\n",
       "      <td>42</td>\n",
       "      <td>0</td>\n",
       "      <td>...</td>\n",
       "      <td>1260</td>\n",
       "      <td>598</td>\n",
       "      <td>2056</td>\n",
       "      <td>4300</td>\n",
       "      <td>1802</td>\n",
       "      <td>598</td>\n",
       "      <td>2056</td>\n",
       "      <td>4300</td>\n",
       "      <td>1802</td>\n",
       "      <td>3691</td>\n",
       "    </tr>\n",
       "    <tr>\n",
       "      <th>...</th>\n",
       "      <td>...</td>\n",
       "      <td>...</td>\n",
       "      <td>...</td>\n",
       "      <td>...</td>\n",
       "      <td>...</td>\n",
       "      <td>...</td>\n",
       "      <td>...</td>\n",
       "      <td>...</td>\n",
       "      <td>...</td>\n",
       "      <td>...</td>\n",
       "      <td>...</td>\n",
       "      <td>...</td>\n",
       "      <td>...</td>\n",
       "      <td>...</td>\n",
       "      <td>...</td>\n",
       "      <td>...</td>\n",
       "      <td>...</td>\n",
       "      <td>...</td>\n",
       "      <td>...</td>\n",
       "      <td>...</td>\n",
       "      <td>...</td>\n",
       "    </tr>\n",
       "    <tr>\n",
       "      <th>18764</th>\n",
       "      <td>18762</td>\n",
       "      <td>220000</td>\n",
       "      <td>33065.900</td>\n",
       "      <td>225862</td>\n",
       "      <td>0</td>\n",
       "      <td>0</td>\n",
       "      <td>3.0</td>\n",
       "      <td>1.0</td>\n",
       "      <td>39</td>\n",
       "      <td>0</td>\n",
       "      <td>...</td>\n",
       "      <td>192815</td>\n",
       "      <td>208365</td>\n",
       "      <td>88004</td>\n",
       "      <td>31237</td>\n",
       "      <td>15980</td>\n",
       "      <td>20000</td>\n",
       "      <td>5003</td>\n",
       "      <td>3047</td>\n",
       "      <td>5000</td>\n",
       "      <td>1000</td>\n",
       "    </tr>\n",
       "    <tr>\n",
       "      <th>18765</th>\n",
       "      <td>18763</td>\n",
       "      <td>150000</td>\n",
       "      <td>294.525</td>\n",
       "      <td>149966</td>\n",
       "      <td>0</td>\n",
       "      <td>0</td>\n",
       "      <td>3.0</td>\n",
       "      <td>2.0</td>\n",
       "      <td>43</td>\n",
       "      <td>-1</td>\n",
       "      <td>...</td>\n",
       "      <td>1828</td>\n",
       "      <td>3502</td>\n",
       "      <td>8979</td>\n",
       "      <td>5190</td>\n",
       "      <td>0</td>\n",
       "      <td>3526</td>\n",
       "      <td>8998</td>\n",
       "      <td>129</td>\n",
       "      <td>0</td>\n",
       "      <td>0</td>\n",
       "    </tr>\n",
       "    <tr>\n",
       "      <th>18766</th>\n",
       "      <td>18764</td>\n",
       "      <td>30000</td>\n",
       "      <td>623.875</td>\n",
       "      <td>30327</td>\n",
       "      <td>1</td>\n",
       "      <td>0</td>\n",
       "      <td>2.0</td>\n",
       "      <td>2.0</td>\n",
       "      <td>37</td>\n",
       "      <td>3</td>\n",
       "      <td>...</td>\n",
       "      <td>3356</td>\n",
       "      <td>2758</td>\n",
       "      <td>20878</td>\n",
       "      <td>20582</td>\n",
       "      <td>19357</td>\n",
       "      <td>0</td>\n",
       "      <td>22000</td>\n",
       "      <td>4200</td>\n",
       "      <td>2000</td>\n",
       "      <td>3100</td>\n",
       "    </tr>\n",
       "    <tr>\n",
       "      <th>18767</th>\n",
       "      <td>18765</td>\n",
       "      <td>80000</td>\n",
       "      <td>0.000</td>\n",
       "      <td>94607</td>\n",
       "      <td>1</td>\n",
       "      <td>0</td>\n",
       "      <td>3.0</td>\n",
       "      <td>1.0</td>\n",
       "      <td>41</td>\n",
       "      <td>-1</td>\n",
       "      <td>...</td>\n",
       "      <td>78379</td>\n",
       "      <td>76304</td>\n",
       "      <td>52774</td>\n",
       "      <td>11855</td>\n",
       "      <td>48944</td>\n",
       "      <td>3409</td>\n",
       "      <td>1178</td>\n",
       "      <td>1926</td>\n",
       "      <td>52964</td>\n",
       "      <td>1804</td>\n",
       "    </tr>\n",
       "    <tr>\n",
       "      <th>18768</th>\n",
       "      <td>18766</td>\n",
       "      <td>50000</td>\n",
       "      <td>8387.575</td>\n",
       "      <td>40267</td>\n",
       "      <td>1</td>\n",
       "      <td>0</td>\n",
       "      <td>2.0</td>\n",
       "      <td>1.0</td>\n",
       "      <td>46</td>\n",
       "      <td>0</td>\n",
       "      <td>...</td>\n",
       "      <td>48905</td>\n",
       "      <td>49764</td>\n",
       "      <td>36535</td>\n",
       "      <td>32428</td>\n",
       "      <td>15313</td>\n",
       "      <td>1800</td>\n",
       "      <td>1430</td>\n",
       "      <td>1000</td>\n",
       "      <td>1000</td>\n",
       "      <td>1000</td>\n",
       "    </tr>\n",
       "  </tbody>\n",
       "</table>\n",
       "<p>18769 rows × 24 columns</p>\n",
       "</div>"
      ],
      "text/plain": [
       "          ID   LIMIT    BALANCE  INCOME  RATING  GENDER  EDUCATION  MARITAL  \\\n",
       "0          1  210000      0.000  235822       1       1        1.0      2.0   \n",
       "1          2  260000  10928.050  278481       0       0        2.0      2.0   \n",
       "2          3  400000  65397.850  431993       0       0        3.0      1.0   \n",
       "3          4   20000   3695.300   22368       0       0        2.0      1.0   \n",
       "4          5  180000     68.250  166900       0       1        2.0      1.0   \n",
       "...      ...     ...        ...     ...     ...     ...        ...      ...   \n",
       "18764  18762  220000  33065.900  225862       0       0        3.0      1.0   \n",
       "18765  18763  150000    294.525  149966       0       0        3.0      2.0   \n",
       "18766  18764   30000    623.875   30327       1       0        2.0      2.0   \n",
       "18767  18765   80000      0.000   94607       1       0        3.0      1.0   \n",
       "18768  18766   50000   8387.575   40267       1       0        2.0      1.0   \n",
       "\n",
       "       AGE  S1  ...      B1      B2      B3      B4      B5     R1     R2  \\\n",
       "0       30   0  ...       0       0       0       0       0      0      0   \n",
       "1       31   0  ...   54074   46407   38874   31324   24031   2000   2000   \n",
       "2       51   0  ...  343591  352484  338823  283288  185288  15000  14000   \n",
       "3       58  -1  ...   21470     200       0   28740    1295      0      0   \n",
       "4       42   0  ...    1260     598    2056    4300    1802    598   2056   \n",
       "...    ...  ..  ...     ...     ...     ...     ...     ...    ...    ...   \n",
       "18764   39   0  ...  192815  208365   88004   31237   15980  20000   5003   \n",
       "18765   43  -1  ...    1828    3502    8979    5190       0   3526   8998   \n",
       "18766   37   3  ...    3356    2758   20878   20582   19357      0  22000   \n",
       "18767   41  -1  ...   78379   76304   52774   11855   48944   3409   1178   \n",
       "18768   46   0  ...   48905   49764   36535   32428   15313   1800   1430   \n",
       "\n",
       "          R3     R4     R5  \n",
       "0          0      0      0  \n",
       "1       2000   2000  72000  \n",
       "2      11500   8000   7000  \n",
       "3      28740   1565      0  \n",
       "4       4300   1802   3691  \n",
       "...      ...    ...    ...  \n",
       "18764   3047   5000   1000  \n",
       "18765    129      0      0  \n",
       "18766   4200   2000   3100  \n",
       "18767   1926  52964   1804  \n",
       "18768   1000   1000   1000  \n",
       "\n",
       "[18769 rows x 24 columns]"
      ]
     },
     "metadata": {},
     "output_type": "display_data"
    }
   ],
   "source": [
    "# To check the dataset\n",
    "display(DF)"
   ]
  },
  {
   "cell_type": "markdown",
   "id": "8374847e",
   "metadata": {},
   "source": [
    "### Pre-Procesing Task 1: Removal of Null Values"
   ]
  },
  {
   "cell_type": "code",
   "execution_count": 3,
   "id": "b6551a80",
   "metadata": {
    "scrolled": true
   },
   "outputs": [
    {
     "data": {
      "text/plain": [
       "EDUCATION    13\n",
       "MARITAL      38\n",
       "dtype: int64"
      ]
     },
     "execution_count": 3,
     "metadata": {},
     "output_type": "execute_result"
    }
   ],
   "source": [
    "# Get the sum of null for columns with at least one null value\n",
    "DF[DF.columns[DF.isnull().any()]].isnull().sum()"
   ]
  },
  {
   "cell_type": "code",
   "execution_count": 4,
   "id": "1621a61e",
   "metadata": {
    "scrolled": false
   },
   "outputs": [
    {
     "data": {
      "text/html": [
       "<div>\n",
       "<style scoped>\n",
       "    .dataframe tbody tr th:only-of-type {\n",
       "        vertical-align: middle;\n",
       "    }\n",
       "\n",
       "    .dataframe tbody tr th {\n",
       "        vertical-align: top;\n",
       "    }\n",
       "\n",
       "    .dataframe thead th {\n",
       "        text-align: right;\n",
       "    }\n",
       "</style>\n",
       "<table border=\"1\" class=\"dataframe\">\n",
       "  <thead>\n",
       "    <tr style=\"text-align: right;\">\n",
       "      <th></th>\n",
       "      <th>percent_missing</th>\n",
       "    </tr>\n",
       "  </thead>\n",
       "  <tbody>\n",
       "    <tr>\n",
       "      <th>ID</th>\n",
       "      <td>0.000000</td>\n",
       "    </tr>\n",
       "    <tr>\n",
       "      <th>LIMIT</th>\n",
       "      <td>0.000000</td>\n",
       "    </tr>\n",
       "    <tr>\n",
       "      <th>BALANCE</th>\n",
       "      <td>0.000000</td>\n",
       "    </tr>\n",
       "    <tr>\n",
       "      <th>INCOME</th>\n",
       "      <td>0.000000</td>\n",
       "    </tr>\n",
       "    <tr>\n",
       "      <th>RATING</th>\n",
       "      <td>0.000000</td>\n",
       "    </tr>\n",
       "    <tr>\n",
       "      <th>GENDER</th>\n",
       "      <td>0.000000</td>\n",
       "    </tr>\n",
       "    <tr>\n",
       "      <th>EDUCATION</th>\n",
       "      <td>0.069263</td>\n",
       "    </tr>\n",
       "    <tr>\n",
       "      <th>MARITAL</th>\n",
       "      <td>0.202462</td>\n",
       "    </tr>\n",
       "    <tr>\n",
       "      <th>AGE</th>\n",
       "      <td>0.000000</td>\n",
       "    </tr>\n",
       "    <tr>\n",
       "      <th>S1</th>\n",
       "      <td>0.000000</td>\n",
       "    </tr>\n",
       "    <tr>\n",
       "      <th>S2</th>\n",
       "      <td>0.000000</td>\n",
       "    </tr>\n",
       "    <tr>\n",
       "      <th>S3</th>\n",
       "      <td>0.000000</td>\n",
       "    </tr>\n",
       "    <tr>\n",
       "      <th>S4</th>\n",
       "      <td>0.000000</td>\n",
       "    </tr>\n",
       "    <tr>\n",
       "      <th>S5</th>\n",
       "      <td>0.000000</td>\n",
       "    </tr>\n",
       "    <tr>\n",
       "      <th>B1</th>\n",
       "      <td>0.000000</td>\n",
       "    </tr>\n",
       "    <tr>\n",
       "      <th>B2</th>\n",
       "      <td>0.000000</td>\n",
       "    </tr>\n",
       "    <tr>\n",
       "      <th>B3</th>\n",
       "      <td>0.000000</td>\n",
       "    </tr>\n",
       "    <tr>\n",
       "      <th>B4</th>\n",
       "      <td>0.000000</td>\n",
       "    </tr>\n",
       "    <tr>\n",
       "      <th>B5</th>\n",
       "      <td>0.000000</td>\n",
       "    </tr>\n",
       "    <tr>\n",
       "      <th>R1</th>\n",
       "      <td>0.000000</td>\n",
       "    </tr>\n",
       "    <tr>\n",
       "      <th>R2</th>\n",
       "      <td>0.000000</td>\n",
       "    </tr>\n",
       "    <tr>\n",
       "      <th>R3</th>\n",
       "      <td>0.000000</td>\n",
       "    </tr>\n",
       "    <tr>\n",
       "      <th>R4</th>\n",
       "      <td>0.000000</td>\n",
       "    </tr>\n",
       "    <tr>\n",
       "      <th>R5</th>\n",
       "      <td>0.000000</td>\n",
       "    </tr>\n",
       "  </tbody>\n",
       "</table>\n",
       "</div>"
      ],
      "text/plain": [
       "           percent_missing\n",
       "ID                0.000000\n",
       "LIMIT             0.000000\n",
       "BALANCE           0.000000\n",
       "INCOME            0.000000\n",
       "RATING            0.000000\n",
       "GENDER            0.000000\n",
       "EDUCATION         0.069263\n",
       "MARITAL           0.202462\n",
       "AGE               0.000000\n",
       "S1                0.000000\n",
       "S2                0.000000\n",
       "S3                0.000000\n",
       "S4                0.000000\n",
       "S5                0.000000\n",
       "B1                0.000000\n",
       "B2                0.000000\n",
       "B3                0.000000\n",
       "B4                0.000000\n",
       "B5                0.000000\n",
       "R1                0.000000\n",
       "R2                0.000000\n",
       "R3                0.000000\n",
       "R4                0.000000\n",
       "R5                0.000000"
      ]
     },
     "metadata": {},
     "output_type": "display_data"
    }
   ],
   "source": [
    "# Find out the percentage of null in each column\n",
    "percent_missing = DF.isnull().sum() * 100 / len(DF)\n",
    "DF1 = pd.DataFrame({'percent_missing': percent_missing})\n",
    "display(DF1)"
   ]
  },
  {
   "cell_type": "code",
   "execution_count": 5,
   "id": "0dcdb7c0",
   "metadata": {},
   "outputs": [
    {
     "data": {
      "text/plain": [
       "Series([], dtype: float64)"
      ]
     },
     "execution_count": 5,
     "metadata": {},
     "output_type": "execute_result"
    }
   ],
   "source": [
    "# Replace null values in the \"EDUCATION\" and \"MARTIAL\" columns with modal value since its a categorical numerical\n",
    "for column in ['EDUCATION', 'MARITAL']:\n",
    "    DF[column].fillna(DF[column].mode()[0], inplace=True)\n",
    "\n",
    "# Check to confirm DF is free of NaN values\n",
    "DF[DF.columns[DF.isnull().any()]].isnull().sum()"
   ]
  },
  {
   "cell_type": "markdown",
   "id": "b970da33",
   "metadata": {},
   "source": [
    "### Pre-Processing Task 2: Removal of Abnormal Values Under 'AGE' Column"
   ]
  },
  {
   "cell_type": "code",
   "execution_count": 6,
   "id": "4f36f259",
   "metadata": {},
   "outputs": [
    {
     "data": {
      "text/plain": [
       "ID           18766\n",
       "LIMIT           80\n",
       "BALANCE      14860\n",
       "INCOME       17701\n",
       "RATING           2\n",
       "GENDER           2\n",
       "EDUCATION        4\n",
       "MARITAL          3\n",
       "AGE             59\n",
       "S1               9\n",
       "S2              10\n",
       "S3               9\n",
       "S4               8\n",
       "S5               8\n",
       "B1           14839\n",
       "B2           14636\n",
       "B3           14359\n",
       "B4           14021\n",
       "B5           13807\n",
       "R1            5987\n",
       "R2            5770\n",
       "R3            5218\n",
       "R4            5143\n",
       "R5            5201\n",
       "dtype: int64"
      ]
     },
     "execution_count": 6,
     "metadata": {},
     "output_type": "execute_result"
    }
   ],
   "source": [
    "# First, check for the number of unique values for each column\n",
    "DF.nunique()"
   ]
  },
  {
   "cell_type": "code",
   "execution_count": 7,
   "id": "04ab9372",
   "metadata": {},
   "outputs": [
    {
     "data": {
      "text/plain": [
       "array([ -1,  21,  22,  23,  24,  25,  26,  27,  28,  29,  30,  31,  32,\n",
       "        33,  34,  35,  36,  37,  38,  39,  40,  41,  42,  43,  44,  45,\n",
       "        46,  47,  48,  49,  50,  51,  52,  53,  54,  55,  56,  57,  58,\n",
       "        59,  60,  61,  62,  63,  64,  65,  66,  67,  68,  69,  70,  71,\n",
       "        72,  73,  74,  75,  79,  80, 199], dtype=int64)"
      ]
     },
     "execution_count": 7,
     "metadata": {},
     "output_type": "execute_result"
    }
   ],
   "source": [
    "# Shows an overview of unique values in the \"AGE\" column\n",
    "np.unique(DF[\"AGE\"])"
   ]
  },
  {
   "cell_type": "code",
   "execution_count": 8,
   "id": "985c98eb",
   "metadata": {},
   "outputs": [
    {
     "data": {
      "text/plain": [
       "array([21, 22, 23, 24, 25, 26, 27, 28, 29, 30, 31, 32, 33, 34, 35, 36, 37,\n",
       "       38, 39, 40, 41, 42, 43, 44, 45, 46, 47, 48, 49, 50, 51, 52, 53, 54,\n",
       "       55, 56, 57, 58, 59, 60, 61, 62, 63, 64, 65, 66, 67, 68, 69, 70, 71,\n",
       "       72, 73, 74, 75, 79, 80], dtype=int64)"
      ]
     },
     "execution_count": 8,
     "metadata": {},
     "output_type": "execute_result"
    }
   ],
   "source": [
    "# Since age cannot be -1 & 199, drop these rows\n",
    "DF = DF.drop(DF.index[DF[\"AGE\"].isin([-1, 199])])\n",
    "\n",
    "# Check if rows have been dropped\n",
    "np.unique(DF[\"AGE\"])"
   ]
  },
  {
   "cell_type": "markdown",
   "id": "476838e1",
   "metadata": {},
   "source": [
    "### Pre-Procesing Task 3: Converting columns \"EDUCATION\", \"MARITAL\" and \"R3\" from Object to Int64"
   ]
  },
  {
   "cell_type": "code",
   "execution_count": 9,
   "id": "a10a692e",
   "metadata": {},
   "outputs": [
    {
     "data": {
      "text/plain": [
       "ID             int64\n",
       "LIMIT          int64\n",
       "BALANCE      float64\n",
       "INCOME         int64\n",
       "RATING         int64\n",
       "GENDER         int64\n",
       "EDUCATION    float64\n",
       "MARITAL      float64\n",
       "AGE            int64\n",
       "S1             int64\n",
       "S2             int64\n",
       "S3             int64\n",
       "S4             int64\n",
       "S5             int64\n",
       "B1             int64\n",
       "B2             int64\n",
       "B3             int64\n",
       "B4             int64\n",
       "B5             int64\n",
       "R1             int64\n",
       "R2             int64\n",
       "R3            object\n",
       "R4             int64\n",
       "R5             int64\n",
       "dtype: object"
      ]
     },
     "execution_count": 9,
     "metadata": {},
     "output_type": "execute_result"
    }
   ],
   "source": [
    "# Check the data types\n",
    "DF.dtypes"
   ]
  },
  {
   "cell_type": "code",
   "execution_count": 10,
   "id": "18e9e560",
   "metadata": {
    "scrolled": true
   },
   "outputs": [
    {
     "data": {
      "text/plain": [
       "array(['$0', '$13,069', '$2,089', ..., '997', '998', '999'], dtype=object)"
      ]
     },
     "execution_count": 10,
     "metadata": {},
     "output_type": "execute_result"
    }
   ],
   "source": [
    "# Check for special characters\n",
    "np.unique(DF[\"R3\"])"
   ]
  },
  {
   "cell_type": "code",
   "execution_count": 11,
   "id": "65157c8b",
   "metadata": {},
   "outputs": [
    {
     "data": {
      "text/plain": [
       "array(['0', '1', '10', ..., '997', '998', '999'], dtype=object)"
      ]
     },
     "execution_count": 11,
     "metadata": {},
     "output_type": "execute_result"
    }
   ],
   "source": [
    "# Pass them to df.replace() to remove \"$\" and \",\" sign\n",
    "DF['R3'] = DF['R3'].replace({'\\$': '', ',': ''}, regex=True)\n",
    "\n",
    "# Run a check again\n",
    "np.unique(DF[\"R3\"])"
   ]
  },
  {
   "cell_type": "code",
   "execution_count": 12,
   "id": "c7de2ae3",
   "metadata": {},
   "outputs": [
    {
     "data": {
      "text/plain": [
       "ID             int64\n",
       "LIMIT          int64\n",
       "BALANCE      float64\n",
       "INCOME         int64\n",
       "RATING         int64\n",
       "GENDER         int64\n",
       "EDUCATION      Int64\n",
       "MARITAL        Int64\n",
       "AGE            int64\n",
       "S1             int64\n",
       "S2             int64\n",
       "S3             int64\n",
       "S4             int64\n",
       "S5             int64\n",
       "B1             int64\n",
       "B2             int64\n",
       "B3             int64\n",
       "B4             int64\n",
       "B5             int64\n",
       "R1             int64\n",
       "R2             int64\n",
       "R3             Int64\n",
       "R4             int64\n",
       "R5             int64\n",
       "dtype: object"
      ]
     },
     "execution_count": 12,
     "metadata": {},
     "output_type": "execute_result"
    }
   ],
   "source": [
    "# Change columns \"EDUCATION\", \"MARITAL\" and \"R3\" from object to int64\n",
    "DF['EDUCATION'] = DF['EDUCATION'].astype('Int64')\n",
    "DF['MARITAL'] = DF['MARITAL'].astype('Int64')\n",
    "DF['R3'] = DF['R3'].astype('float').astype('Int64')\n",
    "\n",
    "# Run a check\n",
    "DF.dtypes"
   ]
  },
  {
   "cell_type": "markdown",
   "id": "122f0560",
   "metadata": {},
   "source": [
    "### Pre-Procesing Task 4: Removing Duplicated Rows"
   ]
  },
  {
   "cell_type": "code",
   "execution_count": 13,
   "id": "35e3fa6c",
   "metadata": {},
   "outputs": [
    {
     "name": "stdout",
     "output_type": "stream",
     "text": [
      "Number of Duplicates\n",
      "3\n"
     ]
    }
   ],
   "source": [
    "# To check for duplicates\n",
    "DF_duplicates = DF.duplicated().sum()\n",
    "print('Number of Duplicates')\n",
    "print(DF_duplicates)"
   ]
  },
  {
   "cell_type": "code",
   "execution_count": 14,
   "id": "eace0ec4",
   "metadata": {},
   "outputs": [
    {
     "data": {
      "text/html": [
       "<div>\n",
       "<style scoped>\n",
       "    .dataframe tbody tr th:only-of-type {\n",
       "        vertical-align: middle;\n",
       "    }\n",
       "\n",
       "    .dataframe tbody tr th {\n",
       "        vertical-align: top;\n",
       "    }\n",
       "\n",
       "    .dataframe thead th {\n",
       "        text-align: right;\n",
       "    }\n",
       "</style>\n",
       "<table border=\"1\" class=\"dataframe\">\n",
       "  <thead>\n",
       "    <tr style=\"text-align: right;\">\n",
       "      <th></th>\n",
       "      <th>ID</th>\n",
       "      <th>LIMIT</th>\n",
       "      <th>BALANCE</th>\n",
       "      <th>INCOME</th>\n",
       "      <th>RATING</th>\n",
       "      <th>GENDER</th>\n",
       "      <th>EDUCATION</th>\n",
       "      <th>MARITAL</th>\n",
       "      <th>AGE</th>\n",
       "      <th>S1</th>\n",
       "      <th>...</th>\n",
       "      <th>B1</th>\n",
       "      <th>B2</th>\n",
       "      <th>B3</th>\n",
       "      <th>B4</th>\n",
       "      <th>B5</th>\n",
       "      <th>R1</th>\n",
       "      <th>R2</th>\n",
       "      <th>R3</th>\n",
       "      <th>R4</th>\n",
       "      <th>R5</th>\n",
       "    </tr>\n",
       "  </thead>\n",
       "  <tbody>\n",
       "    <tr>\n",
       "      <th>131</th>\n",
       "      <td>132</td>\n",
       "      <td>200000</td>\n",
       "      <td>1270.675</td>\n",
       "      <td>188181</td>\n",
       "      <td>0</td>\n",
       "      <td>1</td>\n",
       "      <td>2</td>\n",
       "      <td>1</td>\n",
       "      <td>40</td>\n",
       "      <td>-1</td>\n",
       "      <td>...</td>\n",
       "      <td>32333</td>\n",
       "      <td>12610</td>\n",
       "      <td>7850</td>\n",
       "      <td>977</td>\n",
       "      <td>9205</td>\n",
       "      <td>13587</td>\n",
       "      <td>7850</td>\n",
       "      <td>0</td>\n",
       "      <td>9205</td>\n",
       "      <td>0</td>\n",
       "    </tr>\n",
       "    <tr>\n",
       "      <th>132</th>\n",
       "      <td>132</td>\n",
       "      <td>200000</td>\n",
       "      <td>1270.675</td>\n",
       "      <td>188181</td>\n",
       "      <td>0</td>\n",
       "      <td>1</td>\n",
       "      <td>2</td>\n",
       "      <td>1</td>\n",
       "      <td>40</td>\n",
       "      <td>-1</td>\n",
       "      <td>...</td>\n",
       "      <td>32333</td>\n",
       "      <td>12610</td>\n",
       "      <td>7850</td>\n",
       "      <td>977</td>\n",
       "      <td>9205</td>\n",
       "      <td>13587</td>\n",
       "      <td>7850</td>\n",
       "      <td>0</td>\n",
       "      <td>9205</td>\n",
       "      <td>0</td>\n",
       "    </tr>\n",
       "    <tr>\n",
       "      <th>378</th>\n",
       "      <td>378</td>\n",
       "      <td>240000</td>\n",
       "      <td>39804.975</td>\n",
       "      <td>256476</td>\n",
       "      <td>0</td>\n",
       "      <td>1</td>\n",
       "      <td>2</td>\n",
       "      <td>2</td>\n",
       "      <td>35</td>\n",
       "      <td>0</td>\n",
       "      <td>...</td>\n",
       "      <td>232729</td>\n",
       "      <td>223431</td>\n",
       "      <td>226361</td>\n",
       "      <td>223508</td>\n",
       "      <td>238587</td>\n",
       "      <td>10000</td>\n",
       "      <td>8000</td>\n",
       "      <td>9000</td>\n",
       "      <td>19000</td>\n",
       "      <td>9000</td>\n",
       "    </tr>\n",
       "    <tr>\n",
       "      <th>379</th>\n",
       "      <td>378</td>\n",
       "      <td>240000</td>\n",
       "      <td>39804.975</td>\n",
       "      <td>256476</td>\n",
       "      <td>0</td>\n",
       "      <td>1</td>\n",
       "      <td>2</td>\n",
       "      <td>2</td>\n",
       "      <td>35</td>\n",
       "      <td>0</td>\n",
       "      <td>...</td>\n",
       "      <td>232729</td>\n",
       "      <td>223431</td>\n",
       "      <td>226361</td>\n",
       "      <td>223508</td>\n",
       "      <td>238587</td>\n",
       "      <td>10000</td>\n",
       "      <td>8000</td>\n",
       "      <td>9000</td>\n",
       "      <td>19000</td>\n",
       "      <td>9000</td>\n",
       "    </tr>\n",
       "    <tr>\n",
       "      <th>421</th>\n",
       "      <td>420</td>\n",
       "      <td>30000</td>\n",
       "      <td>1883.700</td>\n",
       "      <td>32877</td>\n",
       "      <td>1</td>\n",
       "      <td>1</td>\n",
       "      <td>1</td>\n",
       "      <td>2</td>\n",
       "      <td>23</td>\n",
       "      <td>2</td>\n",
       "      <td>...</td>\n",
       "      <td>10454</td>\n",
       "      <td>11862</td>\n",
       "      <td>12104</td>\n",
       "      <td>12351</td>\n",
       "      <td>8000</td>\n",
       "      <td>2000</td>\n",
       "      <td>242</td>\n",
       "      <td>247</td>\n",
       "      <td>2000</td>\n",
       "      <td>0</td>\n",
       "    </tr>\n",
       "    <tr>\n",
       "      <th>422</th>\n",
       "      <td>420</td>\n",
       "      <td>30000</td>\n",
       "      <td>1883.700</td>\n",
       "      <td>32877</td>\n",
       "      <td>1</td>\n",
       "      <td>1</td>\n",
       "      <td>1</td>\n",
       "      <td>2</td>\n",
       "      <td>23</td>\n",
       "      <td>2</td>\n",
       "      <td>...</td>\n",
       "      <td>10454</td>\n",
       "      <td>11862</td>\n",
       "      <td>12104</td>\n",
       "      <td>12351</td>\n",
       "      <td>8000</td>\n",
       "      <td>2000</td>\n",
       "      <td>242</td>\n",
       "      <td>247</td>\n",
       "      <td>2000</td>\n",
       "      <td>0</td>\n",
       "    </tr>\n",
       "  </tbody>\n",
       "</table>\n",
       "<p>6 rows × 24 columns</p>\n",
       "</div>"
      ],
      "text/plain": [
       "      ID   LIMIT    BALANCE  INCOME  RATING  GENDER  EDUCATION  MARITAL  AGE  \\\n",
       "131  132  200000   1270.675  188181       0       1          2        1   40   \n",
       "132  132  200000   1270.675  188181       0       1          2        1   40   \n",
       "378  378  240000  39804.975  256476       0       1          2        2   35   \n",
       "379  378  240000  39804.975  256476       0       1          2        2   35   \n",
       "421  420   30000   1883.700   32877       1       1          1        2   23   \n",
       "422  420   30000   1883.700   32877       1       1          1        2   23   \n",
       "\n",
       "     S1  ...      B1      B2      B3      B4      B5     R1    R2    R3  \\\n",
       "131  -1  ...   32333   12610    7850     977    9205  13587  7850     0   \n",
       "132  -1  ...   32333   12610    7850     977    9205  13587  7850     0   \n",
       "378   0  ...  232729  223431  226361  223508  238587  10000  8000  9000   \n",
       "379   0  ...  232729  223431  226361  223508  238587  10000  8000  9000   \n",
       "421   2  ...   10454   11862   12104   12351    8000   2000   242   247   \n",
       "422   2  ...   10454   11862   12104   12351    8000   2000   242   247   \n",
       "\n",
       "        R4    R5  \n",
       "131   9205     0  \n",
       "132   9205     0  \n",
       "378  19000  9000  \n",
       "379  19000  9000  \n",
       "421   2000     0  \n",
       "422   2000     0  \n",
       "\n",
       "[6 rows x 24 columns]"
      ]
     },
     "execution_count": 14,
     "metadata": {},
     "output_type": "execute_result"
    }
   ],
   "source": [
    "# Use the DataFrame.duplicated() method to check for duplicate values using 'ID' column as unique identifier\n",
    "DF[DF.duplicated(['ID'], keep = False)]"
   ]
  },
  {
   "cell_type": "code",
   "execution_count": 15,
   "id": "f9a58ab2",
   "metadata": {},
   "outputs": [
    {
     "name": "stdout",
     "output_type": "stream",
     "text": [
      "Number of Duplicates\n",
      "0\n"
     ]
    }
   ],
   "source": [
    "# Drop duplicate rows\n",
    "DF.drop_duplicates(inplace = True)\n",
    "\n",
    "# To check if duplicates have been removed\n",
    "DF_duplicates = DF.duplicated().sum()\n",
    "print('Number of Duplicates')\n",
    "print(DF_duplicates)"
   ]
  },
  {
   "cell_type": "markdown",
   "id": "a2bec0d9",
   "metadata": {},
   "source": [
    "\n",
    "## Question 3"
   ]
  },
  {
   "cell_type": "code",
   "execution_count": 16,
   "id": "46ad2a83",
   "metadata": {},
   "outputs": [],
   "source": [
    "# Copy over and rename dataframe\n",
    "DF_CLEAN = DF.copy()"
   ]
  },
  {
   "cell_type": "markdown",
   "id": "38117f4b",
   "metadata": {},
   "source": [
    "### Relevant Insight 1: Income by Gender"
   ]
  },
  {
   "cell_type": "code",
   "execution_count": 17,
   "id": "bcfb8b64",
   "metadata": {},
   "outputs": [
    {
     "data": {
      "image/png": "[encoded data removed]",
      "text/plain": [
       "<Figure size 800x480 with 1 Axes>"
      ]
     },
     "metadata": {
      "needs_background": "light"
     },
     "output_type": "display_data"
    }
   ],
   "source": [
    "# Define the plot settings\n",
    "COL = \"INCOME\"\n",
    "TITLE = \"Average Income by Gender\"\n",
    "Y_LABEL = \"Income ($)\"\n",
    "X_LABEL = \"Gender\"\n",
    "\n",
    "gen_dict = { \"0\":\"Male\", \"1\":\"Female\"}\n",
    "\n",
    "df_dict = {\n",
    "    \"Gender\":DF_CLEAN[\"GENDER\"].unique(),\n",
    "    \"Income\":[]\n",
    "}\n",
    "tmp = []\n",
    "\n",
    "# Prepare data for plotting\n",
    "for gen in df_dict[\"Gender\"]:\n",
    "  df_gen = DF_CLEAN[DF_CLEAN[\"GENDER\"]==gen]\n",
    "  df_dict[\"Income\"] = df_dict[\"Income\"] + [round(df_gen[\"INCOME\"].mean(), 2)]\n",
    "  tmp.append(gen_dict[str(gen)])\n",
    "\n",
    "df_dict[\"Gender\"] = tmp\n",
    "\n",
    "# Plot & create figure\n",
    "ax = plt.figure(figsize=(10, 6), dpi=80)\n",
    "\n",
    "# Plot the bars\n",
    "plt1 = plt.bar(df_dict[\"Gender\"], df_dict[\"Income\"], width = 0.45, zorder=3)\n",
    "\n",
    "# Change colours\n",
    "plt1[0].set_color('pink')\n",
    "plt1[1].set_color('lightskyblue')\n",
    "\n",
    "# Change the current limits of both x and y axis\n",
    "plt.ylim(0, 200000)\n",
    "plt.xlim(-1, 2)\n",
    "\n",
    "# Plot the display settings for bar plots\n",
    "plt.ylabel(Y_LABEL, labelpad=15, fontsize=15)\n",
    "plt.xlabel(X_LABEL, labelpad=15, fontsize=15)\n",
    "plt.grid(True, which=\"Major\", axis='y')\n",
    "plt.title(label = TITLE, pad=20, fontsize=15, weight='bold')\n",
    "plt.show()"
   ]
  },
  {
   "cell_type": "markdown",
   "id": "f8aba583",
   "metadata": {},
   "source": [
    "### Insight 2: Average Credit Balance by Educational Level"
   ]
  },
  {
   "cell_type": "code",
   "execution_count": 18,
   "id": "822c38fb",
   "metadata": {},
   "outputs": [
    {
     "data": {
      "image/png": "[encoded data removed]",
      "text/plain": [
       "<Figure size 1200x640 with 1 Axes>"
      ]
     },
     "metadata": {
      "needs_background": "light"
     },
     "output_type": "display_data"
    },
    {
     "data": {
      "text/html": [
       "<div>\n",
       "<style scoped>\n",
       "    .dataframe tbody tr th:only-of-type {\n",
       "        vertical-align: middle;\n",
       "    }\n",
       "\n",
       "    .dataframe tbody tr th {\n",
       "        vertical-align: top;\n",
       "    }\n",
       "\n",
       "    .dataframe thead th {\n",
       "        text-align: right;\n",
       "    }\n",
       "</style>\n",
       "<table border=\"1\" class=\"dataframe\">\n",
       "  <thead>\n",
       "    <tr style=\"text-align: right;\">\n",
       "      <th></th>\n",
       "      <th>Education</th>\n",
       "      <th>Average_Balance</th>\n",
       "    </tr>\n",
       "  </thead>\n",
       "  <tbody>\n",
       "    <tr>\n",
       "      <th>0</th>\n",
       "      <td>Postgraduate</td>\n",
       "      <td>8662.20</td>\n",
       "    </tr>\n",
       "    <tr>\n",
       "      <th>1</th>\n",
       "      <td>Tertiary</td>\n",
       "      <td>9581.33</td>\n",
       "    </tr>\n",
       "    <tr>\n",
       "      <th>2</th>\n",
       "      <td>High School</td>\n",
       "      <td>8366.04</td>\n",
       "    </tr>\n",
       "    <tr>\n",
       "      <th>3</th>\n",
       "      <td>Others</td>\n",
       "      <td>12756.65</td>\n",
       "    </tr>\n",
       "  </tbody>\n",
       "</table>\n",
       "</div>"
      ],
      "text/plain": [
       "      Education  Average_Balance\n",
       "0  Postgraduate          8662.20\n",
       "1      Tertiary          9581.33\n",
       "2   High School          8366.04\n",
       "3        Others         12756.65"
      ]
     },
     "execution_count": 18,
     "metadata": {},
     "output_type": "execute_result"
    }
   ],
   "source": [
    "# Create title and labels\n",
    "TITLE = \"Average Credit Balance by Educational Level\"\n",
    "Y_LABEL = \"Dollar ($)\"\n",
    "X_LABEL = \"Educational Level\"\n",
    "\n",
    "# Create dict\n",
    "df_dict = {\n",
    "  \"Education\": DF_CLEAN[\"EDUCATION\"].unique(),\n",
    "  \"Average_Balance\":[]\n",
    "}\n",
    "\n",
    "edu_dict = {\n",
    "    \"0\":\"Others\",\n",
    "    \"1\":\"Postgraduate\",\n",
    "    \"2\":\"Tertiary\",\n",
    "    \"3\":\"High School\"\n",
    "}\n",
    "tmp = []\n",
    "for edu in df_dict[\"Education\"]:\n",
    "  df_dict[\"Average_Balance\"] = df_dict[\"Average_Balance\"] + [round(DF_CLEAN[DF_CLEAN[\"EDUCATION\"]==edu][\"BALANCE\"].mean(),2)]\n",
    "  tmp.append(edu_dict[str(edu)])\n",
    "\n",
    "df_dict[\"Education\"] = tmp\n",
    "\n",
    "# Create figure\n",
    "ax = plt.figure(figsize=(15, 8), dpi=80)\n",
    "\n",
    "# Plot bars\n",
    "plt1 = plt.bar(df_dict[\"Education\"], df_dict[\"Average_Balance\"], width = 0.2, zorder=3, color='dimgrey')\n",
    "\n",
    "# Change the current limits of both x and y axis\n",
    "plt.ylim(0, 13500)\n",
    "plt.xlim(-0.5, 3.5)\n",
    "\n",
    "# Plot the display settings for bar plots\n",
    "plt.ylabel(Y_LABEL,labelpad=15,fontsize=15)\n",
    "plt.xlabel(X_LABEL,labelpad=15,fontsize=15)\n",
    "plt.grid(True,which=\"Major\",axis='y')\n",
    "\n",
    "# Plot settings\n",
    "plt.title(label=TITLE, pad=20, fontsize=15, weight='bold')\n",
    "\n",
    "plt.show()\n",
    "\n",
    "# Display Data\n",
    "pd.DataFrame(df_dict)"
   ]
  },
  {
   "cell_type": "markdown",
   "id": "e177daaf",
   "metadata": {},
   "source": [
    "### Insight 3: Repayment Amount by Marital Status"
   ]
  },
  {
   "cell_type": "code",
   "execution_count": 19,
   "id": "3b319256",
   "metadata": {},
   "outputs": [
    {
     "data": {
      "image/png": "[encoded data removed]",
      "text/plain": [
       "<Figure size 800x480 with 1 Axes>"
      ]
     },
     "metadata": {
      "needs_background": "light"
     },
     "output_type": "display_data"
    }
   ],
   "source": [
    "# Define plot settings\n",
    "TITLE = \"Repayment Amount by Marital Status\"\n",
    "Y_LABEL = \"Repayment Amount ($)\"\n",
    "X_LABEL = \"Marital Status\"\n",
    "\n",
    "legend_dict = {\n",
    "    '0':\"Others\",\n",
    "    '1':\"Single\",\n",
    "    '2':\"Married\"\n",
    "}\n",
    "\n",
    "df_dict = {\n",
    "    \"Marital_status\":DF_CLEAN[\"MARITAL\"].unique(),\n",
    "    \"Repayment\":[],\n",
    "    \"Mean\":[]\n",
    "}\n",
    "legend = []\n",
    "for idx,mar in enumerate(df_dict[\"Marital_status\"]):\n",
    "  tmp_df = DF_CLEAN[DF_CLEAN[\"MARITAL\"]==mar]\n",
    "  for i in range(1,6): tmp_list = list(tmp_df[~tmp_df['R'+str(i)].isin([-1,0])]['R'+str(i)])\n",
    "  df_dict[\"Mean\"] = df_dict[\"Mean\"] + [np.array(tmp_list).mean()]\n",
    "  legend.append(legend_dict[str(mar)])\n",
    "\n",
    "  if idx == 0: tmp = [tmp_list]\n",
    "  else: tmp.append(tmp_list)\n",
    "\n",
    "df_dict[\"repayment\"] = tmp\n",
    "data = df_dict[\"repayment\"]\n",
    "df_dict[\"Marital_status\"] = legend\n",
    "\n",
    "# Data plottings\n",
    "fig_sz = (10,6)\n",
    "ax = plt.figure(figsize=fig_sz, dpi=80).add_axes([0, 0, 1, 1])\n",
    "bp = ax.boxplot(data,patch_artist=True,whis=1.5,showfliers=False,widths=0.2)\n",
    "\n",
    "# Boxplot settings\n",
    "for i,T in enumerate(DF_CLEAN[\"MARITAL\"].unique()):\n",
    "  if i == 0: bp[\"boxes\"][i].set_facecolor(\"orange\")\n",
    "  elif i == 1: bp[\"boxes\"][i].set_facecolor(\"red\")\n",
    "  else: bp[\"boxes\"][i].set_facecolor(\"Green\")\n",
    "  bp[\"medians\"][i].set_color('black')\n",
    "\n",
    "# Chart settings\n",
    "plt.title(label=TITLE,pad=20,fontsize=15,weight='bold')\n",
    "plt.ylabel(Y_LABEL,labelpad=15,fontsize=15)\n",
    "plt.xlabel(X_LABEL,labelpad=15,fontsize=15)\n",
    "plt.xticks([1,2,3],labels=df_dict[\"Marital_status\"],fontsize=13)\n",
    "plt.grid(True,which=\"Major\",axis='y')\n",
    "plt.show()"
   ]
  },
  {
   "cell_type": "markdown",
   "id": "425ed19f",
   "metadata": {},
   "source": [
    "### Insight 4: Delayed Payments by Age"
   ]
  },
  {
   "cell_type": "code",
   "execution_count": 20,
   "id": "912b90c5",
   "metadata": {},
   "outputs": [
    {
     "name": "stderr",
     "output_type": "stream",
     "text": [
      "C:\\Users\\mkumar\\AppData\\Local\\Temp\\ipykernel_27616\\3717961515.py:7: SettingWithCopyWarning: \n",
      "A value is trying to be set on a copy of a slice from a DataFrame.\n",
      "Try using .loc[row_indexer,col_indexer] = value instead\n",
      "\n",
      "See the caveats in the documentation: https://pandas.pydata.org/pandas-docs/stable/user_guide/indexing.html#returning-a-view-versus-a-copy\n",
      "  df_interested[\"S_Total\"] = df_interested[\"S1\"] + df_interested[\"S2\"] + df_interested[\"S3\"] + df_interested[\"S4\"] + df_interested[\"S5\"]\n"
     ]
    },
    {
     "data": {
      "image/png": "[encoded data removed]",
      "text/plain": [
       "<Figure size 1200x480 with 1 Axes>"
      ]
     },
     "metadata": {
      "needs_background": "light"
     },
     "output_type": "display_data"
    }
   ],
   "source": [
    "# Define plot settings\n",
    "TITLE = \"Delayed Payments by Age\"\n",
    "Y_LABEL = \"Months Delayed\"\n",
    "X_LABEL = \"Age\"\n",
    "\n",
    "df_interested = DF_CLEAN[(DF_CLEAN[\"S1\"]>0)&(DF_CLEAN[\"S2\"]>0)&(DF_CLEAN[\"S3\"]>0)&(DF_CLEAN[\"S4\"]>0)&(DF_CLEAN[\"S5\"]>0)]\n",
    "df_interested[\"S_Total\"] = df_interested[\"S1\"] + df_interested[\"S2\"] + df_interested[\"S3\"] + df_interested[\"S4\"] + df_interested[\"S5\"] \n",
    "\n",
    "plt.figure(figsize=(15, 6), dpi=80)\n",
    "X = df_interested[\"AGE\"]\n",
    "Y = df_interested[\"S_Total\"]\n",
    "plt.scatter(X,Y,zorder=3,alpha=0.5)\n",
    "\n",
    "# Plot settings\n",
    "plt.title(label=TITLE,pad=20,fontsize=15,weight='bold')\n",
    "plt.xlabel(X_LABEL,labelpad=15,fontsize=15)\n",
    "plt.ylabel(Y_LABEL,labelpad=15,fontsize=15)\n",
    "plt.grid(True,which=\"Major\",axis='y')\n",
    "plt.show()"
   ]
  },
  {
   "cell_type": "markdown",
   "id": "6816cfe8",
   "metadata": {},
   "source": [
    "### Insight 5: Age Spread Grouped by Gender"
   ]
  },
  {
   "cell_type": "code",
   "execution_count": 21,
   "id": "703ee8cb",
   "metadata": {},
   "outputs": [
    {
     "data": {
      "image/png": "[encoded data removed]",
      "text/plain": [
       "<Figure size 1200x480 with 1 Axes>"
      ]
     },
     "metadata": {
      "needs_background": "light"
     },
     "output_type": "display_data"
    }
   ],
   "source": [
    "# Define plot settings\n",
    "BINS = 20\n",
    "COL = \"AGE\"\n",
    "TITLE = \"Distribution of Age in Sample\"\n",
    "Y_LABEL = \"Count of Customers\"\n",
    "X_LABEL = \"Age\"\n",
    "\n",
    "gen_dict = { \"0\":\"Male\", \"1\":\"Female\"}\n",
    "\n",
    "# Create figures and plot histograms\n",
    "plt.figure(figsize=(15, 6), dpi=80)\n",
    "\n",
    "for gen in [0,1]:\n",
    "  df_tmp = DF_CLEAN[DF_CLEAN[\"GENDER\"]==gen]\n",
    "  DAT = df_tmp[COL]\n",
    "  plt.hist(DAT,alpha=0.5,bins = BINS,label=gen_dict[str(gen)])\n",
    "\n",
    "# Plot settings\n",
    "plt.title(label=TITLE,pad=20,fontsize=15,weight='bold')\n",
    "plt.xlabel(X_LABEL,labelpad=15,fontsize=15)\n",
    "plt.ylabel(Y_LABEL,labelpad=15,fontsize=15)\n",
    "plt.xticks([i for i in range(int(DF_CLEAN[COL].min())-5,int(DF_CLEAN[COL].max()+5),5)])\n",
    "plt.legend()\n",
    "plt.grid(True,which=\"Major\",axis='y')\n",
    "plt.show()"
   ]
  },
  {
   "cell_type": "markdown",
   "id": "216dbb33",
   "metadata": {},
   "source": [
    "\n",
    "## Question 4"
   ]
  },
  {
   "cell_type": "code",
   "execution_count": 22,
   "id": "ea441b42",
   "metadata": {
    "scrolled": false
   },
   "outputs": [
    {
     "data": {
      "text/plain": [
       "B1           1.000000\n",
       "BALANCE      0.950885\n",
       "B2           0.939005\n",
       "B3           0.894164\n",
       "B4           0.853458\n",
       "B5           0.824070\n",
       "LIMIT        0.279476\n",
       "INCOME       0.277372\n",
       "R5           0.187239\n",
       "R4           0.145382\n",
       "R3           0.144877\n",
       "R2           0.124793\n",
       "S1           0.116328\n",
       "R1           0.113953\n",
       "S2           0.111645\n",
       "S4           0.090657\n",
       "S5           0.088766\n",
       "S3           0.084994\n",
       "AGE          0.057451\n",
       "ID           0.016897\n",
       "EDUCATION   -0.011115\n",
       "MARITAL     -0.011988\n",
       "RATING      -0.015495\n",
       "GENDER      -0.033734\n",
       "Name: B1, dtype: float64"
      ]
     },
     "execution_count": 22,
     "metadata": {},
     "output_type": "execute_result"
    }
   ],
   "source": [
    "# Creation of Correlation Matrix\n",
    "cor_mat = DF_CLEAN.corr()\n",
    "\n",
    "# Correlation rankings\n",
    "# 1st row will always have 100% correlation with itself\n",
    "# Full Correlation rankings\n",
    "cor_mat.sort_values(by=[\"B1\"],ascending=False)[\"B1\"]"
   ]
  },
  {
   "cell_type": "code",
   "execution_count": 23,
   "id": "3cf04b2d",
   "metadata": {},
   "outputs": [
    {
     "name": "stdout",
     "output_type": "stream",
     "text": [
      "Available columns are: ['ID', 'LIMIT', 'BALANCE', 'INCOME', 'RATING', 'GENDER', 'EDUCATION', 'MARITAL', 'AGE', 'S1', 'S2', 'S3', 'S4', 'S5', 'B1', 'B2', 'B3', 'B4', 'B5', 'R1', 'R2', 'R3', 'R4', 'R5']\n",
      "Please Enter Column to perform linear regression with B1: B4\n"
     ]
    },
    {
     "ename": "InvalidIndexError",
     "evalue": "(slice(None, None, None), None)",
     "output_type": "error",
     "traceback": [
      "\u001b[1;31m---------------------------------------------------------------------------\u001b[0m",
      "\u001b[1;31mTypeError\u001b[0m                                 Traceback (most recent call last)",
      "File \u001b[1;32mC:\\ProgramData\\Anaconda3\\lib\\site-packages\\pandas\\core\\indexes\\base.py:3621\u001b[0m, in \u001b[0;36mIndex.get_loc\u001b[1;34m(self, key, method, tolerance)\u001b[0m\n\u001b[0;32m   3620\u001b[0m \u001b[38;5;28;01mtry\u001b[39;00m:\n\u001b[1;32m-> 3621\u001b[0m     \u001b[38;5;28;01mreturn\u001b[39;00m \u001b[38;5;28;43mself\u001b[39;49m\u001b[38;5;241;43m.\u001b[39;49m\u001b[43m_engine\u001b[49m\u001b[38;5;241;43m.\u001b[39;49m\u001b[43mget_loc\u001b[49m\u001b[43m(\u001b[49m\u001b[43mcasted_key\u001b[49m\u001b[43m)\u001b[49m\n\u001b[0;32m   3622\u001b[0m \u001b[38;5;28;01mexcept\u001b[39;00m \u001b[38;5;167;01mKeyError\u001b[39;00m \u001b[38;5;28;01mas\u001b[39;00m err:\n",
      "File \u001b[1;32mC:\\ProgramData\\Anaconda3\\lib\\site-packages\\pandas\\_libs\\index.pyx:136\u001b[0m, in \u001b[0;36mpandas._libs.index.IndexEngine.get_loc\u001b[1;34m()\u001b[0m\n",
      "File \u001b[1;32mC:\\ProgramData\\Anaconda3\\lib\\site-packages\\pandas\\_libs\\index.pyx:142\u001b[0m, in \u001b[0;36mpandas._libs.index.IndexEngine.get_loc\u001b[1;34m()\u001b[0m\n",
      "\u001b[1;31mTypeError\u001b[0m: '(slice(None, None, None), None)' is an invalid key",
      "\nDuring handling of the above exception, another exception occurred:\n",
      "\u001b[1;31mInvalidIndexError\u001b[0m                         Traceback (most recent call last)",
      "Input \u001b[1;32mIn [23]\u001b[0m, in \u001b[0;36m<cell line: 32>\u001b[1;34m()\u001b[0m\n\u001b[0;32m     29\u001b[0m plt\u001b[38;5;241m.\u001b[39mscatter(X, Y,zorder\u001b[38;5;241m=\u001b[39m\u001b[38;5;241m3\u001b[39m)\n\u001b[0;32m     31\u001b[0m \u001b[38;5;66;03m# Plot the predicted values from regression model\u001b[39;00m\n\u001b[1;32m---> 32\u001b[0m \u001b[43mplt\u001b[49m\u001b[38;5;241;43m.\u001b[39;49m\u001b[43mplot\u001b[49m\u001b[43m(\u001b[49m\u001b[43mX\u001b[49m\u001b[43m,\u001b[49m\u001b[43m \u001b[49m\u001b[43mY_pred\u001b[49m\u001b[43m,\u001b[49m\u001b[43m \u001b[49m\u001b[43mcolor\u001b[49m\u001b[38;5;241;43m=\u001b[39;49m\u001b[38;5;124;43m'\u001b[39;49m\u001b[38;5;124;43mblack\u001b[39;49m\u001b[38;5;124;43m'\u001b[39;49m\u001b[43m,\u001b[49m\u001b[43mzorder\u001b[49m\u001b[38;5;241;43m=\u001b[39;49m\u001b[38;5;241;43m3\u001b[39;49m\u001b[43m)\u001b[49m                         \n\u001b[0;32m     34\u001b[0m \u001b[38;5;66;03m# Plot settings\u001b[39;00m\n\u001b[0;32m     35\u001b[0m plt\u001b[38;5;241m.\u001b[39mtitle(\u001b[38;5;124m'\u001b[39m\u001b[38;5;130;01m\\n\u001b[39;00m\u001b[38;5;124m'\u001b[39m\u001b[38;5;241m+\u001b[39mx_col\u001b[38;5;241m+\u001b[39m\u001b[38;5;124m\"\u001b[39m\u001b[38;5;124m Vs B1\u001b[39m\u001b[38;5;124m\"\u001b[39m,fontsize\u001b[38;5;241m=\u001b[39m\u001b[38;5;241m15\u001b[39m,weight\u001b[38;5;241m=\u001b[39m\u001b[38;5;124m'\u001b[39m\u001b[38;5;124mbold\u001b[39m\u001b[38;5;124m'\u001b[39m,pad\u001b[38;5;241m=\u001b[39m\u001b[38;5;241m20\u001b[39m)\n",
      "File \u001b[1;32mC:\\ProgramData\\Anaconda3\\lib\\site-packages\\matplotlib\\pyplot.py:2757\u001b[0m, in \u001b[0;36mplot\u001b[1;34m(scalex, scaley, data, *args, **kwargs)\u001b[0m\n\u001b[0;32m   2755\u001b[0m \u001b[38;5;129m@_copy_docstring_and_deprecators\u001b[39m(Axes\u001b[38;5;241m.\u001b[39mplot)\n\u001b[0;32m   2756\u001b[0m \u001b[38;5;28;01mdef\u001b[39;00m \u001b[38;5;21mplot\u001b[39m(\u001b[38;5;241m*\u001b[39margs, scalex\u001b[38;5;241m=\u001b[39m\u001b[38;5;28;01mTrue\u001b[39;00m, scaley\u001b[38;5;241m=\u001b[39m\u001b[38;5;28;01mTrue\u001b[39;00m, data\u001b[38;5;241m=\u001b[39m\u001b[38;5;28;01mNone\u001b[39;00m, \u001b[38;5;241m*\u001b[39m\u001b[38;5;241m*\u001b[39mkwargs):\n\u001b[1;32m-> 2757\u001b[0m     \u001b[38;5;28;01mreturn\u001b[39;00m gca()\u001b[38;5;241m.\u001b[39mplot(\n\u001b[0;32m   2758\u001b[0m         \u001b[38;5;241m*\u001b[39margs, scalex\u001b[38;5;241m=\u001b[39mscalex, scaley\u001b[38;5;241m=\u001b[39mscaley,\n\u001b[0;32m   2759\u001b[0m         \u001b[38;5;241m*\u001b[39m\u001b[38;5;241m*\u001b[39m({\u001b[38;5;124m\"\u001b[39m\u001b[38;5;124mdata\u001b[39m\u001b[38;5;124m\"\u001b[39m: data} \u001b[38;5;28;01mif\u001b[39;00m data \u001b[38;5;129;01mis\u001b[39;00m \u001b[38;5;129;01mnot\u001b[39;00m \u001b[38;5;28;01mNone\u001b[39;00m \u001b[38;5;28;01melse\u001b[39;00m {}), \u001b[38;5;241m*\u001b[39m\u001b[38;5;241m*\u001b[39mkwargs)\n",
      "File \u001b[1;32mC:\\ProgramData\\Anaconda3\\lib\\site-packages\\matplotlib\\axes\\_axes.py:1632\u001b[0m, in \u001b[0;36mAxes.plot\u001b[1;34m(self, scalex, scaley, data, *args, **kwargs)\u001b[0m\n\u001b[0;32m   1390\u001b[0m \u001b[38;5;124;03m\"\"\"\u001b[39;00m\n\u001b[0;32m   1391\u001b[0m \u001b[38;5;124;03mPlot y versus x as lines and/or markers.\u001b[39;00m\n\u001b[0;32m   1392\u001b[0m \n\u001b[1;32m   (...)\u001b[0m\n\u001b[0;32m   1629\u001b[0m \u001b[38;5;124;03m(``'green'``) or hex strings (``'#008000'``).\u001b[39;00m\n\u001b[0;32m   1630\u001b[0m \u001b[38;5;124;03m\"\"\"\u001b[39;00m\n\u001b[0;32m   1631\u001b[0m kwargs \u001b[38;5;241m=\u001b[39m cbook\u001b[38;5;241m.\u001b[39mnormalize_kwargs(kwargs, mlines\u001b[38;5;241m.\u001b[39mLine2D)\n\u001b[1;32m-> 1632\u001b[0m lines \u001b[38;5;241m=\u001b[39m [\u001b[38;5;241m*\u001b[39m\u001b[38;5;28mself\u001b[39m\u001b[38;5;241m.\u001b[39m_get_lines(\u001b[38;5;241m*\u001b[39margs, data\u001b[38;5;241m=\u001b[39mdata, \u001b[38;5;241m*\u001b[39m\u001b[38;5;241m*\u001b[39mkwargs)]\n\u001b[0;32m   1633\u001b[0m \u001b[38;5;28;01mfor\u001b[39;00m line \u001b[38;5;129;01min\u001b[39;00m lines:\n\u001b[0;32m   1634\u001b[0m     \u001b[38;5;28mself\u001b[39m\u001b[38;5;241m.\u001b[39madd_line(line)\n",
      "File \u001b[1;32mC:\\ProgramData\\Anaconda3\\lib\\site-packages\\matplotlib\\axes\\_base.py:312\u001b[0m, in \u001b[0;36m_process_plot_var_args.__call__\u001b[1;34m(self, data, *args, **kwargs)\u001b[0m\n\u001b[0;32m    310\u001b[0m     this \u001b[38;5;241m+\u001b[39m\u001b[38;5;241m=\u001b[39m args[\u001b[38;5;241m0\u001b[39m],\n\u001b[0;32m    311\u001b[0m     args \u001b[38;5;241m=\u001b[39m args[\u001b[38;5;241m1\u001b[39m:]\n\u001b[1;32m--> 312\u001b[0m \u001b[38;5;28;01myield from\u001b[39;00m \u001b[38;5;28;43mself\u001b[39;49m\u001b[38;5;241;43m.\u001b[39;49m\u001b[43m_plot_args\u001b[49m\u001b[43m(\u001b[49m\u001b[43mthis\u001b[49m\u001b[43m,\u001b[49m\u001b[43m \u001b[49m\u001b[43mkwargs\u001b[49m\u001b[43m)\u001b[49m\n",
      "File \u001b[1;32mC:\\ProgramData\\Anaconda3\\lib\\site-packages\\matplotlib\\axes\\_base.py:487\u001b[0m, in \u001b[0;36m_process_plot_var_args._plot_args\u001b[1;34m(self, tup, kwargs, return_kwargs)\u001b[0m\n\u001b[0;32m    484\u001b[0m         kw[prop_name] \u001b[38;5;241m=\u001b[39m val\n\u001b[0;32m    486\u001b[0m \u001b[38;5;28;01mif\u001b[39;00m \u001b[38;5;28mlen\u001b[39m(xy) \u001b[38;5;241m==\u001b[39m \u001b[38;5;241m2\u001b[39m:\n\u001b[1;32m--> 487\u001b[0m     x \u001b[38;5;241m=\u001b[39m \u001b[43m_check_1d\u001b[49m\u001b[43m(\u001b[49m\u001b[43mxy\u001b[49m\u001b[43m[\u001b[49m\u001b[38;5;241;43m0\u001b[39;49m\u001b[43m]\u001b[49m\u001b[43m)\u001b[49m\n\u001b[0;32m    488\u001b[0m     y \u001b[38;5;241m=\u001b[39m _check_1d(xy[\u001b[38;5;241m1\u001b[39m])\n\u001b[0;32m    489\u001b[0m \u001b[38;5;28;01melse\u001b[39;00m:\n",
      "File \u001b[1;32mC:\\ProgramData\\Anaconda3\\lib\\site-packages\\matplotlib\\cbook\\__init__.py:1327\u001b[0m, in \u001b[0;36m_check_1d\u001b[1;34m(x)\u001b[0m\n\u001b[0;32m   1321\u001b[0m \u001b[38;5;28;01mwith\u001b[39;00m warnings\u001b[38;5;241m.\u001b[39mcatch_warnings(record\u001b[38;5;241m=\u001b[39m\u001b[38;5;28;01mTrue\u001b[39;00m) \u001b[38;5;28;01mas\u001b[39;00m w:\n\u001b[0;32m   1322\u001b[0m     warnings\u001b[38;5;241m.\u001b[39mfilterwarnings(\n\u001b[0;32m   1323\u001b[0m         \u001b[38;5;124m\"\u001b[39m\u001b[38;5;124malways\u001b[39m\u001b[38;5;124m\"\u001b[39m,\n\u001b[0;32m   1324\u001b[0m         category\u001b[38;5;241m=\u001b[39m\u001b[38;5;167;01mWarning\u001b[39;00m,\n\u001b[0;32m   1325\u001b[0m         message\u001b[38;5;241m=\u001b[39m\u001b[38;5;124m'\u001b[39m\u001b[38;5;124mSupport for multi-dimensional indexing\u001b[39m\u001b[38;5;124m'\u001b[39m)\n\u001b[1;32m-> 1327\u001b[0m     ndim \u001b[38;5;241m=\u001b[39m \u001b[43mx\u001b[49m\u001b[43m[\u001b[49m\u001b[43m:\u001b[49m\u001b[43m,\u001b[49m\u001b[43m \u001b[49m\u001b[38;5;28;43;01mNone\u001b[39;49;00m\u001b[43m]\u001b[49m\u001b[38;5;241m.\u001b[39mndim\n\u001b[0;32m   1328\u001b[0m     \u001b[38;5;66;03m# we have definitely hit a pandas index or series object\u001b[39;00m\n\u001b[0;32m   1329\u001b[0m     \u001b[38;5;66;03m# cast to a numpy array.\u001b[39;00m\n\u001b[0;32m   1330\u001b[0m     \u001b[38;5;28;01mif\u001b[39;00m \u001b[38;5;28mlen\u001b[39m(w) \u001b[38;5;241m>\u001b[39m \u001b[38;5;241m0\u001b[39m:\n",
      "File \u001b[1;32mC:\\ProgramData\\Anaconda3\\lib\\site-packages\\pandas\\core\\frame.py:3505\u001b[0m, in \u001b[0;36mDataFrame.__getitem__\u001b[1;34m(self, key)\u001b[0m\n\u001b[0;32m   3503\u001b[0m \u001b[38;5;28;01mif\u001b[39;00m \u001b[38;5;28mself\u001b[39m\u001b[38;5;241m.\u001b[39mcolumns\u001b[38;5;241m.\u001b[39mnlevels \u001b[38;5;241m>\u001b[39m \u001b[38;5;241m1\u001b[39m:\n\u001b[0;32m   3504\u001b[0m     \u001b[38;5;28;01mreturn\u001b[39;00m \u001b[38;5;28mself\u001b[39m\u001b[38;5;241m.\u001b[39m_getitem_multilevel(key)\n\u001b[1;32m-> 3505\u001b[0m indexer \u001b[38;5;241m=\u001b[39m \u001b[38;5;28;43mself\u001b[39;49m\u001b[38;5;241;43m.\u001b[39;49m\u001b[43mcolumns\u001b[49m\u001b[38;5;241;43m.\u001b[39;49m\u001b[43mget_loc\u001b[49m\u001b[43m(\u001b[49m\u001b[43mkey\u001b[49m\u001b[43m)\u001b[49m\n\u001b[0;32m   3506\u001b[0m \u001b[38;5;28;01mif\u001b[39;00m is_integer(indexer):\n\u001b[0;32m   3507\u001b[0m     indexer \u001b[38;5;241m=\u001b[39m [indexer]\n",
      "File \u001b[1;32mC:\\ProgramData\\Anaconda3\\lib\\site-packages\\pandas\\core\\indexes\\base.py:3628\u001b[0m, in \u001b[0;36mIndex.get_loc\u001b[1;34m(self, key, method, tolerance)\u001b[0m\n\u001b[0;32m   3623\u001b[0m         \u001b[38;5;28;01mraise\u001b[39;00m \u001b[38;5;167;01mKeyError\u001b[39;00m(key) \u001b[38;5;28;01mfrom\u001b[39;00m \u001b[38;5;21;01merr\u001b[39;00m\n\u001b[0;32m   3624\u001b[0m     \u001b[38;5;28;01mexcept\u001b[39;00m \u001b[38;5;167;01mTypeError\u001b[39;00m:\n\u001b[0;32m   3625\u001b[0m         \u001b[38;5;66;03m# If we have a listlike key, _check_indexing_error will raise\u001b[39;00m\n\u001b[0;32m   3626\u001b[0m         \u001b[38;5;66;03m#  InvalidIndexError. Otherwise we fall through and re-raise\u001b[39;00m\n\u001b[0;32m   3627\u001b[0m         \u001b[38;5;66;03m#  the TypeError.\u001b[39;00m\n\u001b[1;32m-> 3628\u001b[0m         \u001b[38;5;28;43mself\u001b[39;49m\u001b[38;5;241;43m.\u001b[39;49m\u001b[43m_check_indexing_error\u001b[49m\u001b[43m(\u001b[49m\u001b[43mkey\u001b[49m\u001b[43m)\u001b[49m\n\u001b[0;32m   3629\u001b[0m         \u001b[38;5;28;01mraise\u001b[39;00m\n\u001b[0;32m   3631\u001b[0m \u001b[38;5;66;03m# GH#42269\u001b[39;00m\n",
      "File \u001b[1;32mC:\\ProgramData\\Anaconda3\\lib\\site-packages\\pandas\\core\\indexes\\base.py:5637\u001b[0m, in \u001b[0;36mIndex._check_indexing_error\u001b[1;34m(self, key)\u001b[0m\n\u001b[0;32m   5633\u001b[0m \u001b[38;5;28;01mdef\u001b[39;00m \u001b[38;5;21m_check_indexing_error\u001b[39m(\u001b[38;5;28mself\u001b[39m, key):\n\u001b[0;32m   5634\u001b[0m     \u001b[38;5;28;01mif\u001b[39;00m \u001b[38;5;129;01mnot\u001b[39;00m is_scalar(key):\n\u001b[0;32m   5635\u001b[0m         \u001b[38;5;66;03m# if key is not a scalar, directly raise an error (the code below\u001b[39;00m\n\u001b[0;32m   5636\u001b[0m         \u001b[38;5;66;03m# would convert to numpy arrays and raise later any way) - GH29926\u001b[39;00m\n\u001b[1;32m-> 5637\u001b[0m         \u001b[38;5;28;01mraise\u001b[39;00m InvalidIndexError(key)\n",
      "\u001b[1;31mInvalidIndexError\u001b[0m: (slice(None, None, None), None)"
     ]
    },
    {
     "data": {
      "image/png": "[encoded data removed]",
      "text/plain": [
       "<Figure size 1080x504 with 1 Axes>"
      ]
     },
     "metadata": {
      "needs_background": "light"
     },
     "output_type": "display_data"
    }
   ],
   "source": [
    "# import LinearRegression library\n",
    "from sklearn.linear_model import LinearRegression\n",
    "\n",
    "# Preparation of data to be fed to the linear regression model\n",
    "# Y values: B1\n",
    "# X values: BALANCE \n",
    "\n",
    "while True:\n",
    "  print(\"Available columns are:\",list(DF_CLEAN.columns))\n",
    "  x_col = input(\"Please Enter Column to perform linear regression with B1: \")   # Allows user input to change desired column to do linear regression with B1 here\n",
    "  if x_col not in DF_CLEAN.columns: print(\"Please Enter value column\")\n",
    "  else: break\n",
    "\n",
    "X = DF_CLEAN[[x_col]]\n",
    "Y = DF_CLEAN['B1']\n",
    "\n",
    "# Perform linear regression\n",
    "# Creates the base of the linear regression model\n",
    "linear_regressor = LinearRegression()\n",
    "\n",
    "# Feeds data into model & prediction\n",
    "linear_regressor.fit(X, Y)\n",
    "Y_pred = linear_regressor.predict(X)\n",
    "\n",
    "# Plot the regression model and its variables\n",
    "plt.figure(figsize=[15, 7])\n",
    "\n",
    "# Plot data from desired column against B1\n",
    "plt.scatter(X, Y,zorder=3)\n",
    "\n",
    "# Plot the predicted values from regression model\n",
    "plt.plot(X, Y_pred, color='black',zorder=3)                         \n",
    "\n",
    "# Plot settings\n",
    "plt.title('\\n'+x_col+\" Vs B1\",fontsize=15,weight='bold',pad=20)\n",
    "plt.xlabel(x_col,fontsize=13,weight='bold',labelpad=15)\n",
    "plt.ylabel(\"B1\",fontsize=13,weight='bold',rotation=0,labelpad=15)\n",
    "plt.grid(True)\n",
    "\n",
    "# Plot the graph\n",
    "plt.show()"
   ]
  },
  {
   "cell_type": "code",
   "execution_count": 24,
   "id": "ef348138-8404-4737-9344-d3613070084a",
   "metadata": {
    "jupyter": {
     "source_hidden": true
    },
    "tags": []
   },
   "outputs": [
    {
     "name": "stdout",
     "output_type": "stream",
     "text": [
      "Available columns are: ['ID', 'LIMIT', 'BALANCE', 'INCOME', 'RATING', 'GENDER', 'EDUCATION', 'MARITAL', 'AGE', 'S1', 'S2', 'S3', 'S4', 'S5', 'B1', 'B2', 'B3', 'B4', 'B5', 'R1', 'R2', 'R3', 'R4', 'R5']\n",
      "Please Enter Column to perform linear regression with B1: B5\n"
     ]
    },
    {
     "ename": "InvalidIndexError",
     "evalue": "(slice(None, None, None), None)",
     "output_type": "error",
     "traceback": [
      "\u001b[1;31m---------------------------------------------------------------------------\u001b[0m",
      "\u001b[1;31mTypeError\u001b[0m                                 Traceback (most recent call last)",
      "File \u001b[1;32mC:\\ProgramData\\Anaconda3\\lib\\site-packages\\pandas\\core\\indexes\\base.py:3621\u001b[0m, in \u001b[0;36mIndex.get_loc\u001b[1;34m(self, key, method, tolerance)\u001b[0m\n\u001b[0;32m   3620\u001b[0m \u001b[38;5;28;01mtry\u001b[39;00m:\n\u001b[1;32m-> 3621\u001b[0m     \u001b[38;5;28;01mreturn\u001b[39;00m \u001b[38;5;28;43mself\u001b[39;49m\u001b[38;5;241;43m.\u001b[39;49m\u001b[43m_engine\u001b[49m\u001b[38;5;241;43m.\u001b[39;49m\u001b[43mget_loc\u001b[49m\u001b[43m(\u001b[49m\u001b[43mcasted_key\u001b[49m\u001b[43m)\u001b[49m\n\u001b[0;32m   3622\u001b[0m \u001b[38;5;28;01mexcept\u001b[39;00m \u001b[38;5;167;01mKeyError\u001b[39;00m \u001b[38;5;28;01mas\u001b[39;00m err:\n",
      "File \u001b[1;32mC:\\ProgramData\\Anaconda3\\lib\\site-packages\\pandas\\_libs\\index.pyx:136\u001b[0m, in \u001b[0;36mpandas._libs.index.IndexEngine.get_loc\u001b[1;34m()\u001b[0m\n",
      "File \u001b[1;32mC:\\ProgramData\\Anaconda3\\lib\\site-packages\\pandas\\_libs\\index.pyx:142\u001b[0m, in \u001b[0;36mpandas._libs.index.IndexEngine.get_loc\u001b[1;34m()\u001b[0m\n",
      "\u001b[1;31mTypeError\u001b[0m: '(slice(None, None, None), None)' is an invalid key",
      "\nDuring handling of the above exception, another exception occurred:\n",
      "\u001b[1;31mInvalidIndexError\u001b[0m                         Traceback (most recent call last)",
      "Input \u001b[1;32mIn [24]\u001b[0m, in \u001b[0;36m<cell line: 32>\u001b[1;34m()\u001b[0m\n\u001b[0;32m     29\u001b[0m plt\u001b[38;5;241m.\u001b[39mscatter(X, Y,zorder\u001b[38;5;241m=\u001b[39m\u001b[38;5;241m3\u001b[39m)\n\u001b[0;32m     31\u001b[0m \u001b[38;5;66;03m# Plot the predicted values from regression model\u001b[39;00m\n\u001b[1;32m---> 32\u001b[0m \u001b[43mplt\u001b[49m\u001b[38;5;241;43m.\u001b[39;49m\u001b[43mplot\u001b[49m\u001b[43m(\u001b[49m\u001b[43mX\u001b[49m\u001b[43m,\u001b[49m\u001b[43m \u001b[49m\u001b[43mY_pred\u001b[49m\u001b[43m,\u001b[49m\u001b[43m \u001b[49m\u001b[43mcolor\u001b[49m\u001b[38;5;241;43m=\u001b[39;49m\u001b[38;5;124;43m'\u001b[39;49m\u001b[38;5;124;43mblack\u001b[39;49m\u001b[38;5;124;43m'\u001b[39;49m\u001b[43m,\u001b[49m\u001b[43mzorder\u001b[49m\u001b[38;5;241;43m=\u001b[39;49m\u001b[38;5;241;43m3\u001b[39;49m\u001b[43m)\u001b[49m                         \n\u001b[0;32m     34\u001b[0m \u001b[38;5;66;03m# Plot settings\u001b[39;00m\n\u001b[0;32m     35\u001b[0m plt\u001b[38;5;241m.\u001b[39mtitle(\u001b[38;5;124m'\u001b[39m\u001b[38;5;130;01m\\n\u001b[39;00m\u001b[38;5;124m'\u001b[39m\u001b[38;5;241m+\u001b[39mx_col\u001b[38;5;241m+\u001b[39m\u001b[38;5;124m\"\u001b[39m\u001b[38;5;124m Vs B1\u001b[39m\u001b[38;5;124m\"\u001b[39m,fontsize\u001b[38;5;241m=\u001b[39m\u001b[38;5;241m15\u001b[39m,weight\u001b[38;5;241m=\u001b[39m\u001b[38;5;124m'\u001b[39m\u001b[38;5;124mbold\u001b[39m\u001b[38;5;124m'\u001b[39m,pad\u001b[38;5;241m=\u001b[39m\u001b[38;5;241m20\u001b[39m)\n",
      "File \u001b[1;32mC:\\ProgramData\\Anaconda3\\lib\\site-packages\\matplotlib\\pyplot.py:2757\u001b[0m, in \u001b[0;36mplot\u001b[1;34m(scalex, scaley, data, *args, **kwargs)\u001b[0m\n\u001b[0;32m   2755\u001b[0m \u001b[38;5;129m@_copy_docstring_and_deprecators\u001b[39m(Axes\u001b[38;5;241m.\u001b[39mplot)\n\u001b[0;32m   2756\u001b[0m \u001b[38;5;28;01mdef\u001b[39;00m \u001b[38;5;21mplot\u001b[39m(\u001b[38;5;241m*\u001b[39margs, scalex\u001b[38;5;241m=\u001b[39m\u001b[38;5;28;01mTrue\u001b[39;00m, scaley\u001b[38;5;241m=\u001b[39m\u001b[38;5;28;01mTrue\u001b[39;00m, data\u001b[38;5;241m=\u001b[39m\u001b[38;5;28;01mNone\u001b[39;00m, \u001b[38;5;241m*\u001b[39m\u001b[38;5;241m*\u001b[39mkwargs):\n\u001b[1;32m-> 2757\u001b[0m     \u001b[38;5;28;01mreturn\u001b[39;00m gca()\u001b[38;5;241m.\u001b[39mplot(\n\u001b[0;32m   2758\u001b[0m         \u001b[38;5;241m*\u001b[39margs, scalex\u001b[38;5;241m=\u001b[39mscalex, scaley\u001b[38;5;241m=\u001b[39mscaley,\n\u001b[0;32m   2759\u001b[0m         \u001b[38;5;241m*\u001b[39m\u001b[38;5;241m*\u001b[39m({\u001b[38;5;124m\"\u001b[39m\u001b[38;5;124mdata\u001b[39m\u001b[38;5;124m\"\u001b[39m: data} \u001b[38;5;28;01mif\u001b[39;00m data \u001b[38;5;129;01mis\u001b[39;00m \u001b[38;5;129;01mnot\u001b[39;00m \u001b[38;5;28;01mNone\u001b[39;00m \u001b[38;5;28;01melse\u001b[39;00m {}), \u001b[38;5;241m*\u001b[39m\u001b[38;5;241m*\u001b[39mkwargs)\n",
      "File \u001b[1;32mC:\\ProgramData\\Anaconda3\\lib\\site-packages\\matplotlib\\axes\\_axes.py:1632\u001b[0m, in \u001b[0;36mAxes.plot\u001b[1;34m(self, scalex, scaley, data, *args, **kwargs)\u001b[0m\n\u001b[0;32m   1390\u001b[0m \u001b[38;5;124;03m\"\"\"\u001b[39;00m\n\u001b[0;32m   1391\u001b[0m \u001b[38;5;124;03mPlot y versus x as lines and/or markers.\u001b[39;00m\n\u001b[0;32m   1392\u001b[0m \n\u001b[1;32m   (...)\u001b[0m\n\u001b[0;32m   1629\u001b[0m \u001b[38;5;124;03m(``'green'``) or hex strings (``'#008000'``).\u001b[39;00m\n\u001b[0;32m   1630\u001b[0m \u001b[38;5;124;03m\"\"\"\u001b[39;00m\n\u001b[0;32m   1631\u001b[0m kwargs \u001b[38;5;241m=\u001b[39m cbook\u001b[38;5;241m.\u001b[39mnormalize_kwargs(kwargs, mlines\u001b[38;5;241m.\u001b[39mLine2D)\n\u001b[1;32m-> 1632\u001b[0m lines \u001b[38;5;241m=\u001b[39m [\u001b[38;5;241m*\u001b[39m\u001b[38;5;28mself\u001b[39m\u001b[38;5;241m.\u001b[39m_get_lines(\u001b[38;5;241m*\u001b[39margs, data\u001b[38;5;241m=\u001b[39mdata, \u001b[38;5;241m*\u001b[39m\u001b[38;5;241m*\u001b[39mkwargs)]\n\u001b[0;32m   1633\u001b[0m \u001b[38;5;28;01mfor\u001b[39;00m line \u001b[38;5;129;01min\u001b[39;00m lines:\n\u001b[0;32m   1634\u001b[0m     \u001b[38;5;28mself\u001b[39m\u001b[38;5;241m.\u001b[39madd_line(line)\n",
      "File \u001b[1;32mC:\\ProgramData\\Anaconda3\\lib\\site-packages\\matplotlib\\axes\\_base.py:312\u001b[0m, in \u001b[0;36m_process_plot_var_args.__call__\u001b[1;34m(self, data, *args, **kwargs)\u001b[0m\n\u001b[0;32m    310\u001b[0m     this \u001b[38;5;241m+\u001b[39m\u001b[38;5;241m=\u001b[39m args[\u001b[38;5;241m0\u001b[39m],\n\u001b[0;32m    311\u001b[0m     args \u001b[38;5;241m=\u001b[39m args[\u001b[38;5;241m1\u001b[39m:]\n\u001b[1;32m--> 312\u001b[0m \u001b[38;5;28;01myield from\u001b[39;00m \u001b[38;5;28;43mself\u001b[39;49m\u001b[38;5;241;43m.\u001b[39;49m\u001b[43m_plot_args\u001b[49m\u001b[43m(\u001b[49m\u001b[43mthis\u001b[49m\u001b[43m,\u001b[49m\u001b[43m \u001b[49m\u001b[43mkwargs\u001b[49m\u001b[43m)\u001b[49m\n",
      "File \u001b[1;32mC:\\ProgramData\\Anaconda3\\lib\\site-packages\\matplotlib\\axes\\_base.py:487\u001b[0m, in \u001b[0;36m_process_plot_var_args._plot_args\u001b[1;34m(self, tup, kwargs, return_kwargs)\u001b[0m\n\u001b[0;32m    484\u001b[0m         kw[prop_name] \u001b[38;5;241m=\u001b[39m val\n\u001b[0;32m    486\u001b[0m \u001b[38;5;28;01mif\u001b[39;00m \u001b[38;5;28mlen\u001b[39m(xy) \u001b[38;5;241m==\u001b[39m \u001b[38;5;241m2\u001b[39m:\n\u001b[1;32m--> 487\u001b[0m     x \u001b[38;5;241m=\u001b[39m \u001b[43m_check_1d\u001b[49m\u001b[43m(\u001b[49m\u001b[43mxy\u001b[49m\u001b[43m[\u001b[49m\u001b[38;5;241;43m0\u001b[39;49m\u001b[43m]\u001b[49m\u001b[43m)\u001b[49m\n\u001b[0;32m    488\u001b[0m     y \u001b[38;5;241m=\u001b[39m _check_1d(xy[\u001b[38;5;241m1\u001b[39m])\n\u001b[0;32m    489\u001b[0m \u001b[38;5;28;01melse\u001b[39;00m:\n",
      "File \u001b[1;32mC:\\ProgramData\\Anaconda3\\lib\\site-packages\\matplotlib\\cbook\\__init__.py:1327\u001b[0m, in \u001b[0;36m_check_1d\u001b[1;34m(x)\u001b[0m\n\u001b[0;32m   1321\u001b[0m \u001b[38;5;28;01mwith\u001b[39;00m warnings\u001b[38;5;241m.\u001b[39mcatch_warnings(record\u001b[38;5;241m=\u001b[39m\u001b[38;5;28;01mTrue\u001b[39;00m) \u001b[38;5;28;01mas\u001b[39;00m w:\n\u001b[0;32m   1322\u001b[0m     warnings\u001b[38;5;241m.\u001b[39mfilterwarnings(\n\u001b[0;32m   1323\u001b[0m         \u001b[38;5;124m\"\u001b[39m\u001b[38;5;124malways\u001b[39m\u001b[38;5;124m\"\u001b[39m,\n\u001b[0;32m   1324\u001b[0m         category\u001b[38;5;241m=\u001b[39m\u001b[38;5;167;01mWarning\u001b[39;00m,\n\u001b[0;32m   1325\u001b[0m         message\u001b[38;5;241m=\u001b[39m\u001b[38;5;124m'\u001b[39m\u001b[38;5;124mSupport for multi-dimensional indexing\u001b[39m\u001b[38;5;124m'\u001b[39m)\n\u001b[1;32m-> 1327\u001b[0m     ndim \u001b[38;5;241m=\u001b[39m \u001b[43mx\u001b[49m\u001b[43m[\u001b[49m\u001b[43m:\u001b[49m\u001b[43m,\u001b[49m\u001b[43m \u001b[49m\u001b[38;5;28;43;01mNone\u001b[39;49;00m\u001b[43m]\u001b[49m\u001b[38;5;241m.\u001b[39mndim\n\u001b[0;32m   1328\u001b[0m     \u001b[38;5;66;03m# we have definitely hit a pandas index or series object\u001b[39;00m\n\u001b[0;32m   1329\u001b[0m     \u001b[38;5;66;03m# cast to a numpy array.\u001b[39;00m\n\u001b[0;32m   1330\u001b[0m     \u001b[38;5;28;01mif\u001b[39;00m \u001b[38;5;28mlen\u001b[39m(w) \u001b[38;5;241m>\u001b[39m \u001b[38;5;241m0\u001b[39m:\n",
      "File \u001b[1;32mC:\\ProgramData\\Anaconda3\\lib\\site-packages\\pandas\\core\\frame.py:3505\u001b[0m, in \u001b[0;36mDataFrame.__getitem__\u001b[1;34m(self, key)\u001b[0m\n\u001b[0;32m   3503\u001b[0m \u001b[38;5;28;01mif\u001b[39;00m \u001b[38;5;28mself\u001b[39m\u001b[38;5;241m.\u001b[39mcolumns\u001b[38;5;241m.\u001b[39mnlevels \u001b[38;5;241m>\u001b[39m \u001b[38;5;241m1\u001b[39m:\n\u001b[0;32m   3504\u001b[0m     \u001b[38;5;28;01mreturn\u001b[39;00m \u001b[38;5;28mself\u001b[39m\u001b[38;5;241m.\u001b[39m_getitem_multilevel(key)\n\u001b[1;32m-> 3505\u001b[0m indexer \u001b[38;5;241m=\u001b[39m \u001b[38;5;28;43mself\u001b[39;49m\u001b[38;5;241;43m.\u001b[39;49m\u001b[43mcolumns\u001b[49m\u001b[38;5;241;43m.\u001b[39;49m\u001b[43mget_loc\u001b[49m\u001b[43m(\u001b[49m\u001b[43mkey\u001b[49m\u001b[43m)\u001b[49m\n\u001b[0;32m   3506\u001b[0m \u001b[38;5;28;01mif\u001b[39;00m is_integer(indexer):\n\u001b[0;32m   3507\u001b[0m     indexer \u001b[38;5;241m=\u001b[39m [indexer]\n",
      "File \u001b[1;32mC:\\ProgramData\\Anaconda3\\lib\\site-packages\\pandas\\core\\indexes\\base.py:3628\u001b[0m, in \u001b[0;36mIndex.get_loc\u001b[1;34m(self, key, method, tolerance)\u001b[0m\n\u001b[0;32m   3623\u001b[0m         \u001b[38;5;28;01mraise\u001b[39;00m \u001b[38;5;167;01mKeyError\u001b[39;00m(key) \u001b[38;5;28;01mfrom\u001b[39;00m \u001b[38;5;21;01merr\u001b[39;00m\n\u001b[0;32m   3624\u001b[0m     \u001b[38;5;28;01mexcept\u001b[39;00m \u001b[38;5;167;01mTypeError\u001b[39;00m:\n\u001b[0;32m   3625\u001b[0m         \u001b[38;5;66;03m# If we have a listlike key, _check_indexing_error will raise\u001b[39;00m\n\u001b[0;32m   3626\u001b[0m         \u001b[38;5;66;03m#  InvalidIndexError. Otherwise we fall through and re-raise\u001b[39;00m\n\u001b[0;32m   3627\u001b[0m         \u001b[38;5;66;03m#  the TypeError.\u001b[39;00m\n\u001b[1;32m-> 3628\u001b[0m         \u001b[38;5;28;43mself\u001b[39;49m\u001b[38;5;241;43m.\u001b[39;49m\u001b[43m_check_indexing_error\u001b[49m\u001b[43m(\u001b[49m\u001b[43mkey\u001b[49m\u001b[43m)\u001b[49m\n\u001b[0;32m   3629\u001b[0m         \u001b[38;5;28;01mraise\u001b[39;00m\n\u001b[0;32m   3631\u001b[0m \u001b[38;5;66;03m# GH#42269\u001b[39;00m\n",
      "File \u001b[1;32mC:\\ProgramData\\Anaconda3\\lib\\site-packages\\pandas\\core\\indexes\\base.py:5637\u001b[0m, in \u001b[0;36mIndex._check_indexing_error\u001b[1;34m(self, key)\u001b[0m\n\u001b[0;32m   5633\u001b[0m \u001b[38;5;28;01mdef\u001b[39;00m \u001b[38;5;21m_check_indexing_error\u001b[39m(\u001b[38;5;28mself\u001b[39m, key):\n\u001b[0;32m   5634\u001b[0m     \u001b[38;5;28;01mif\u001b[39;00m \u001b[38;5;129;01mnot\u001b[39;00m is_scalar(key):\n\u001b[0;32m   5635\u001b[0m         \u001b[38;5;66;03m# if key is not a scalar, directly raise an error (the code below\u001b[39;00m\n\u001b[0;32m   5636\u001b[0m         \u001b[38;5;66;03m# would convert to numpy arrays and raise later any way) - GH29926\u001b[39;00m\n\u001b[1;32m-> 5637\u001b[0m         \u001b[38;5;28;01mraise\u001b[39;00m InvalidIndexError(key)\n",
      "\u001b[1;31mInvalidIndexError\u001b[0m: (slice(None, None, None), None)"
     ]
    },
    {
     "data": {
      "image/png": "[encoded data removed]",
      "text/plain": [
       "<Figure size 1080x504 with 1 Axes>"
      ]
     },
     "metadata": {
      "needs_background": "light"
     },
     "output_type": "display_data"
    }
   ],
   "source": [
    "# import LinearRegression library\n",
    "from sklearn.linear_model import LinearRegression\n",
    "\n",
    "# Preparation of data to be fed to the linear regression model\n",
    "# Y values: B1\n",
    "# X values: BALANCE \n",
    "\n",
    "while True:\n",
    "  print(\"Available columns are:\",list(DF_CLEAN.columns))\n",
    "  x_col = input(\"Please Enter Column to perform linear regression with B1: \")   # Allows user input to change desired column to do linear regression with B1 here\n",
    "  if x_col not in DF_CLEAN.columns: print(\"Please Enter value column\")\n",
    "  else: break\n",
    "\n",
    "X = DF_CLEAN[[x_col]]\n",
    "Y = DF_CLEAN['B1']\n",
    "\n",
    "# Perform linear regression\n",
    "# Creates the base of the linear regression model\n",
    "linear_regressor = LinearRegression()\n",
    "\n",
    "# Feeds data into model & prediction\n",
    "linear_regressor.fit(X, Y)\n",
    "Y_pred = linear_regressor.predict(X)\n",
    "\n",
    "# Plot the regression model and its variables\n",
    "plt.figure(figsize=[15, 7])\n",
    "\n",
    "# Plot data from desired column against B1\n",
    "plt.scatter(X, Y,zorder=3)\n",
    "\n",
    "# Plot the predicted values from regression model\n",
    "plt.plot(X, Y_pred, color='black',zorder=3)                         \n",
    "\n",
    "# Plot settings\n",
    "plt.title('\\n'+x_col+\" Vs B1\",fontsize=15,weight='bold',pad=20)\n",
    "plt.xlabel(x_col,fontsize=13,weight='bold',labelpad=15)\n",
    "plt.ylabel(\"B1\",fontsize=13,weight='bold',rotation=0,labelpad=15)\n",
    "plt.grid(True)\n",
    "\n",
    "# Plot the graph\n",
    "plt.show()"
   ]
  },
  {
   "cell_type": "markdown",
   "id": "62e2057f",
   "metadata": {},
   "source": [
    "\n",
    "## Question 5"
   ]
  },
  {
   "cell_type": "code",
   "execution_count": 25,
   "id": "ff98f4b8",
   "metadata": {},
   "outputs": [
    {
     "name": "stdout",
     "output_type": "stream",
     "text": [
      "Accuracy (R^2): 0.679\n",
      "Linear Regression Equation: Y = 0.99 X + 10782.74\n"
     ]
    }
   ],
   "source": [
    "# Gets Parameters from linear regression model and display it\n",
    "r_sq = round(linear_regressor.score(X, Y), 3)\n",
    "M    = round(linear_regressor.coef_[0], 2)\n",
    "C    = round(linear_regressor.intercept_,2)\n",
    "print(\"Accuracy (R^2):\", r_sq)\n",
    "print(\"Linear Regression Equation: Y =\", M, \"X +\", C)"
   ]
  },
  {
   "cell_type": "markdown",
   "id": "06afac5b",
   "metadata": {},
   "source": [
    "### Key Insights Observed:\n",
    "\n",
    "1. Customers with a higher bank balance have the tendency to pay off more of what they owe within the first bill. This can be seen by the number of data points recorded above the best fit line as the balance amount increases.\n",
    "\n",
    "2. Females are observed to pay off more of what they owe within the first bill as compared to Males. This can be seen from the “Gender vs B1” regression model where there are a higher number of data points recorded under (1) which represents the Female customers.\n",
    "\n",
    "3. Based on the correlation rankings, “Gender”, “Credit Rating”, “Marital” and “Education” were observed to have negative correlation with B1. This indicates that the first bill amount (B1) is unlikely to be determined by these variables and should not be used in the regression model."
   ]
  }
 ],
 "metadata": {
  "kernelspec": {
   "display_name": "Python 3 (ipykernel)",
   "language": "python",
   "name": "python3"
  },
  "language_info": {
   "codemirror_mode": {
    "name": "ipython",
    "version": 3
   },
   "file_extension": ".py",
   "mimetype": "text/x-python",
   "name": "python",
   "nbconvert_exporter": "python",
   "pygments_lexer": "ipython3",
   "version": "3.9.12"
  }
 },
 "nbformat": 4,
 "nbformat_minor": 5
}
