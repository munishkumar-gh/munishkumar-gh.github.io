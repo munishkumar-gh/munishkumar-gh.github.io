{
 "cells": [
  {
   "cell_type": "code",
   "execution_count": 1,
   "id": "0eb7afb6",
   "metadata": {},
   "outputs": [
    {
     "name": "stdout",
     "output_type": "stream",
     "text": [
      "Old Shape:  (18769, 24)\n",
      "New Shape:  (18596, 24)\n"
     ]
    }
   ],
   "source": [
    "# importing required module\n",
    "import numpy as np\n",
    "import pandas as pd\n",
    "import matplotlib.pyplot as plt\n",
    "\n",
    "# read the data\n",
    "df = pd.read_csv(\"ECA_Data.csv\")\n",
    "\n",
    "# replace blank values to NaN\n",
    "df.replace(r'^\\s+$', np.nan, regex=True)\n",
    "\n",
    "# remove outliers in age column using Interquartile range\n",
    "q1 = df[\"AGE\"].quantile(q=.25)\n",
    "q3 = df[\"AGE\"].quantile(q=.75)\n",
    "iqr = q3-q1\n",
    "print(\"Old Shape: \", df.shape)\n",
    " \n",
    "# Upper bound\n",
    "upper = np.where(df['AGE'] >= (q3+1.5*iqr))\n",
    "# Lower bound\n",
    "lower = np.where(df['AGE'] <= (q1-1.5*iqr))\n",
    " \n",
    "# Removing the Outliers \n",
    "df.drop(upper[0], inplace = True)\n",
    "df.drop(lower[0], inplace = True)\n",
    " \n",
    "print(\"New Shape: \", df.shape)\n",
    "\n",
    "# remove duplicates from ID column\n",
    "df.drop_duplicates(subset=[\"ID\"], keep=\"last\", inplace=True)\n",
    "\n",
    "# round the numbers to make data consistent\n",
    "df = df.round({'BALANCE': 0})\n",
    "\n"
   ]
  },
  {
   "cell_type": "code",
   "execution_count": 2,
   "id": "1e22d1ca",
   "metadata": {},
   "outputs": [
    {
     "data": {
      "text/plain": [
       "count     18593.0\n",
       "mean     167901.0\n",
       "std      129168.0\n",
       "min       10000.0\n",
       "25%       50000.0\n",
       "50%      140000.0\n",
       "75%      240000.0\n",
       "max      800000.0\n",
       "Name: LIMIT, dtype: float64"
      ]
     },
     "execution_count": 2,
     "metadata": {},
     "output_type": "execute_result"
    }
   ],
   "source": [
    "# first insight for question 3\n",
    "df['LIMIT'].describe().round()"
   ]
  },
  {
   "cell_type": "code",
   "execution_count": 3,
   "id": "2bb68ea7",
   "metadata": {},
   "outputs": [
    {
     "data": {
      "text/plain": [
       "<AxesSubplot:ylabel='Frequency'>"
      ]
     },
     "execution_count": 3,
     "metadata": {},
     "output_type": "execute_result"
    },
    {
     "data": {
      "image/png": "[encoded data removed]",
      "text/plain": [
       "<Figure size 432x288 with 1 Axes>"
      ]
     },
     "metadata": {
      "needs_background": "light"
     },
     "output_type": "display_data"
    }
   ],
   "source": [
    "# first insight for question 3\n",
    "df['LIMIT'].plot(kind='hist', bins=5)"
   ]
  },
  {
   "cell_type": "code",
   "execution_count": 4,
   "id": "6c206de4",
   "metadata": {},
   "outputs": [
    {
     "data": {
      "text/plain": [
       "count    18593.0\n",
       "mean         1.0\n",
       "std          0.0\n",
       "min          0.0\n",
       "25%          0.0\n",
       "50%          1.0\n",
       "75%          1.0\n",
       "max          1.0\n",
       "Name: GENDER, dtype: float64"
      ]
     },
     "execution_count": 4,
     "metadata": {},
     "output_type": "execute_result"
    }
   ],
   "source": [
    "# second insight for question 3\n",
    "df['GENDER'].describe().round()"
   ]
  },
  {
   "cell_type": "code",
   "execution_count": 5,
   "id": "6ca4de9a",
   "metadata": {},
   "outputs": [
    {
     "data": {
      "text/plain": [
       "<AxesSubplot:ylabel='Frequency'>"
      ]
     },
     "execution_count": 5,
     "metadata": {},
     "output_type": "execute_result"
    },
    {
     "data": {
      "image/png": "[encoded data removed]",
      "text/plain": [
       "<Figure size 432x288 with 1 Axes>"
      ]
     },
     "metadata": {
      "needs_background": "light"
     },
     "output_type": "display_data"
    }
   ],
   "source": [
    "# second insight for question 3\n",
    "df['GENDER'].plot(kind='hist', bins=3)"
   ]
  },
  {
   "cell_type": "code",
   "execution_count": 6,
   "id": "5dd46b5c",
   "metadata": {},
   "outputs": [
    {
     "data": {
      "text/plain": [
       "count    18580.0\n",
       "mean         2.0\n",
       "std          1.0\n",
       "min          0.0\n",
       "25%          1.0\n",
       "50%          2.0\n",
       "75%          2.0\n",
       "max          3.0\n",
       "Name: EDUCATION, dtype: float64"
      ]
     },
     "execution_count": 6,
     "metadata": {},
     "output_type": "execute_result"
    }
   ],
   "source": [
    "# third insight for question 3\n",
    "df['EDUCATION'].describe().round()"
   ]
  },
  {
   "cell_type": "code",
   "execution_count": 7,
   "id": "785a145d",
   "metadata": {},
   "outputs": [
    {
     "data": {
      "text/plain": [
       "<AxesSubplot:ylabel='Frequency'>"
      ]
     },
     "execution_count": 7,
     "metadata": {},
     "output_type": "execute_result"
    },
    {
     "data": {
      "image/png": "[encoded data removed]",
      "text/plain": [
       "<Figure size 432x288 with 1 Axes>"
      ]
     },
     "metadata": {
      "needs_background": "light"
     },
     "output_type": "display_data"
    }
   ],
   "source": [
    "# third insight for question 3\n",
    "df['EDUCATION'].plot(kind='hist', bins=5)"
   ]
  },
  {
   "cell_type": "code",
   "execution_count": 8,
   "id": "216e62d2",
   "metadata": {},
   "outputs": [
    {
     "data": {
      "text/plain": [
       "count    18555.0\n",
       "mean         2.0\n",
       "std          1.0\n",
       "min          0.0\n",
       "25%          1.0\n",
       "50%          2.0\n",
       "75%          2.0\n",
       "max          2.0\n",
       "Name: MARITAL, dtype: float64"
      ]
     },
     "execution_count": 8,
     "metadata": {},
     "output_type": "execute_result"
    }
   ],
   "source": [
    "# fourth insight for question 3\n",
    "df['MARITAL'].describe().round()"
   ]
  },
  {
   "cell_type": "code",
   "execution_count": 9,
   "id": "1d2770dd",
   "metadata": {},
   "outputs": [
    {
     "data": {
      "text/plain": [
       "<AxesSubplot:ylabel='Frequency'>"
      ]
     },
     "execution_count": 9,
     "metadata": {},
     "output_type": "execute_result"
    },
    {
     "data": {
      "image/png": "[encoded data removed]",
      "text/plain": [
       "<Figure size 432x288 with 1 Axes>"
      ]
     },
     "metadata": {
      "needs_background": "light"
     },
     "output_type": "display_data"
    }
   ],
   "source": [
    "# fourth insight for question 3\n",
    "df['MARITAL'].plot(kind='hist', bins=4)"
   ]
  },
  {
   "cell_type": "code",
   "execution_count": 10,
   "id": "ed4b7351",
   "metadata": {},
   "outputs": [
    {
     "data": {
      "text/plain": [
       "count    18593.0\n",
       "mean        35.0\n",
       "std          9.0\n",
       "min         21.0\n",
       "25%         28.0\n",
       "50%         34.0\n",
       "75%         41.0\n",
       "max         60.0\n",
       "Name: AGE, dtype: float64"
      ]
     },
     "execution_count": 10,
     "metadata": {},
     "output_type": "execute_result"
    }
   ],
   "source": [
    "# fifth insight for question 3\n",
    "df['AGE'].describe().round()"
   ]
  },
  {
   "cell_type": "code",
   "execution_count": 11,
   "id": "a76b71bc",
   "metadata": {},
   "outputs": [
    {
     "data": {
      "text/plain": [
       "<AxesSubplot:ylabel='Frequency'>"
      ]
     },
     "execution_count": 11,
     "metadata": {},
     "output_type": "execute_result"
    },
    {
     "data": {
      "image/png": "[encoded data removed]",
      "text/plain": [
       "<Figure size 432x288 with 1 Axes>"
      ]
     },
     "metadata": {
      "needs_background": "light"
     },
     "output_type": "display_data"
    }
   ],
   "source": [
    "# fifth insight for question 3\n",
    "df['AGE'].plot(kind='hist', bins=12)"
   ]
  }
 ],
 "metadata": {
  "kernelspec": {
   "display_name": "Python 3 (ipykernel)",
   "language": "python",
   "name": "python3"
  },
  "language_info": {
   "codemirror_mode": {
    "name": "ipython",
    "version": 3
   },
   "file_extension": ".py",
   "mimetype": "text/x-python",
   "name": "python",
   "nbconvert_exporter": "python",
   "pygments_lexer": "ipython3",
   "version": "3.9.12"
  }
 },
 "nbformat": 4,
 "nbformat_minor": 5
}
