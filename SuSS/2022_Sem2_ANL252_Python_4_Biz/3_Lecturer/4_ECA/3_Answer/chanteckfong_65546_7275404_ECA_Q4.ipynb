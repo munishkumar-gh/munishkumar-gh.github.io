{
 "cells": [
  {
   "cell_type": "code",
   "execution_count": 1,
   "id": "6ee2f310",
   "metadata": {},
   "outputs": [],
   "source": [
    "import pandas as pd"
   ]
  },
  {
   "cell_type": "code",
   "execution_count": 2,
   "id": "361d244f",
   "metadata": {},
   "outputs": [],
   "source": [
    "import numpy as np"
   ]
  },
  {
   "cell_type": "code",
   "execution_count": 3,
   "id": "f29ca39e",
   "metadata": {},
   "outputs": [],
   "source": [
    "import matplotlib.pyplot as plt"
   ]
  },
  {
   "cell_type": "code",
   "execution_count": 4,
   "id": "21d32229",
   "metadata": {},
   "outputs": [],
   "source": [
    "df = pd.read_csv(\"ECA_data.csv\")"
   ]
  },
  {
   "cell_type": "code",
   "execution_count": 5,
   "id": "4a07add9",
   "metadata": {},
   "outputs": [
    {
     "data": {
      "text/plain": [
       "(18769, 24)"
      ]
     },
     "execution_count": 5,
     "metadata": {},
     "output_type": "execute_result"
    }
   ],
   "source": [
    "df.shape # find the size of dataframe (rows, columns)"
   ]
  },
  {
   "cell_type": "code",
   "execution_count": 6,
   "id": "dbeb9a8c",
   "metadata": {
    "scrolled": true
   },
   "outputs": [
    {
     "name": "stdout",
     "output_type": "stream",
     "text": [
      "<class 'pandas.core.frame.DataFrame'>\n",
      "RangeIndex: 18769 entries, 0 to 18768\n",
      "Data columns (total 24 columns):\n",
      " #   Column     Non-Null Count  Dtype  \n",
      "---  ------     --------------  -----  \n",
      " 0   ID         18769 non-null  int64  \n",
      " 1   LIMIT      18769 non-null  int64  \n",
      " 2   BALANCE    18769 non-null  float64\n",
      " 3   INCOME     18769 non-null  int64  \n",
      " 4   RATING     18769 non-null  int64  \n",
      " 5   GENDER     18769 non-null  int64  \n",
      " 6   EDUCATION  18756 non-null  float64\n",
      " 7   MARITAL    18731 non-null  float64\n",
      " 8   AGE        18769 non-null  int64  \n",
      " 9   S1         18769 non-null  int64  \n",
      " 10  S2         18769 non-null  int64  \n",
      " 11  S3         18769 non-null  int64  \n",
      " 12  S4         18769 non-null  int64  \n",
      " 13  S5         18769 non-null  int64  \n",
      " 14  B1         18769 non-null  int64  \n",
      " 15  B2         18769 non-null  int64  \n",
      " 16  B3         18769 non-null  int64  \n",
      " 17  B4         18769 non-null  int64  \n",
      " 18  B5         18769 non-null  int64  \n",
      " 19  R1         18769 non-null  int64  \n",
      " 20  R2         18769 non-null  int64  \n",
      " 21  R3         18769 non-null  object \n",
      " 22  R4         18769 non-null  int64  \n",
      " 23  R5         18769 non-null  int64  \n",
      "dtypes: float64(3), int64(20), object(1)\n",
      "memory usage: 3.4+ MB\n",
      "None\n"
     ]
    }
   ],
   "source": [
    "print(df.info()) # to check the data type"
   ]
  },
  {
   "cell_type": "code",
   "execution_count": 7,
   "id": "15ac49d9",
   "metadata": {},
   "outputs": [],
   "source": [
    "df['R3'] = pd.to_numeric(df['R3'],errors = 'coerce') # convert variable type"
   ]
  },
  {
   "cell_type": "code",
   "execution_count": 8,
   "id": "bb2af047",
   "metadata": {},
   "outputs": [
    {
     "name": "stdout",
     "output_type": "stream",
     "text": [
      "<class 'pandas.core.frame.DataFrame'>\n",
      "RangeIndex: 18769 entries, 0 to 18768\n",
      "Data columns (total 24 columns):\n",
      " #   Column     Non-Null Count  Dtype  \n",
      "---  ------     --------------  -----  \n",
      " 0   ID         18769 non-null  int64  \n",
      " 1   LIMIT      18769 non-null  int64  \n",
      " 2   BALANCE    18769 non-null  float64\n",
      " 3   INCOME     18769 non-null  int64  \n",
      " 4   RATING     18769 non-null  int64  \n",
      " 5   GENDER     18769 non-null  int64  \n",
      " 6   EDUCATION  18756 non-null  float64\n",
      " 7   MARITAL    18731 non-null  float64\n",
      " 8   AGE        18769 non-null  int64  \n",
      " 9   S1         18769 non-null  int64  \n",
      " 10  S2         18769 non-null  int64  \n",
      " 11  S3         18769 non-null  int64  \n",
      " 12  S4         18769 non-null  int64  \n",
      " 13  S5         18769 non-null  int64  \n",
      " 14  B1         18769 non-null  int64  \n",
      " 15  B2         18769 non-null  int64  \n",
      " 16  B3         18769 non-null  int64  \n",
      " 17  B4         18769 non-null  int64  \n",
      " 18  B5         18769 non-null  int64  \n",
      " 19  R1         18769 non-null  int64  \n",
      " 20  R2         18769 non-null  int64  \n",
      " 21  R3         18759 non-null  float64\n",
      " 22  R4         18769 non-null  int64  \n",
      " 23  R5         18769 non-null  int64  \n",
      "dtypes: float64(4), int64(20)\n",
      "memory usage: 3.4 MB\n",
      "None\n"
     ]
    }
   ],
   "source": [
    "print(df.info()) # print info to check again after convert R3 type"
   ]
  },
  {
   "cell_type": "markdown",
   "id": "43434b82",
   "metadata": {},
   "source": [
    "Data Cleaning process : remove blank, extremes/ outliers"
   ]
  },
  {
   "cell_type": "code",
   "execution_count": 9,
   "id": "3593e55a",
   "metadata": {},
   "outputs": [
    {
     "data": {
      "text/plain": [
       "ID            0\n",
       "LIMIT         0\n",
       "BALANCE       0\n",
       "INCOME        0\n",
       "RATING        0\n",
       "GENDER        0\n",
       "EDUCATION    13\n",
       "MARITAL      38\n",
       "AGE           0\n",
       "S1            0\n",
       "S2            0\n",
       "S3            0\n",
       "S4            0\n",
       "S5            0\n",
       "B1            0\n",
       "B2            0\n",
       "B3            0\n",
       "B4            0\n",
       "B5            0\n",
       "R1            0\n",
       "R2            0\n",
       "R3           10\n",
       "R4            0\n",
       "R5            0\n",
       "dtype: int64"
      ]
     },
     "execution_count": 9,
     "metadata": {},
     "output_type": "execute_result"
    }
   ],
   "source": [
    "df.isnull().sum() # check the null objects from dataset"
   ]
  },
  {
   "cell_type": "code",
   "execution_count": 10,
   "id": "63cd7123",
   "metadata": {},
   "outputs": [],
   "source": [
    "df1 = df.dropna() # remove rows which have null objects"
   ]
  },
  {
   "cell_type": "code",
   "execution_count": 11,
   "id": "739e391b",
   "metadata": {},
   "outputs": [
    {
     "data": {
      "text/plain": [
       "5"
      ]
     },
     "execution_count": 11,
     "metadata": {},
     "output_type": "execute_result"
    }
   ],
   "source": [
    "df1['AGE'].value_counts()[199]\n",
    "# count the total number of occurrence of age \"199\" and \"-1\" in the dataset"
   ]
  },
  {
   "cell_type": "code",
   "execution_count": 12,
   "id": "dab390fc",
   "metadata": {},
   "outputs": [
    {
     "data": {
      "text/plain": [
       "5"
      ]
     },
     "execution_count": 12,
     "metadata": {},
     "output_type": "execute_result"
    }
   ],
   "source": [
    "df1['AGE'].value_counts()[-1]\n",
    "# count the total number of occurrence of age \"199\" and \"-1\" in the dataset"
   ]
  },
  {
   "cell_type": "code",
   "execution_count": 13,
   "id": "c75ee1f0",
   "metadata": {},
   "outputs": [
    {
     "name": "stderr",
     "output_type": "stream",
     "text": [
      "C:\\Users\\mkumar\\AppData\\Local\\Temp\\ipykernel_18276\\125969068.py:3: SettingWithCopyWarning: \n",
      "A value is trying to be set on a copy of a slice from a DataFrame\n",
      "\n",
      "See the caveats in the documentation: https://pandas.pydata.org/pandas-docs/stable/user_guide/indexing.html#returning-a-view-versus-a-copy\n",
      "  df1.drop(index, inplace=True)  # remove these index rows from data\n"
     ]
    },
    {
     "data": {
      "text/plain": [
       "count    18700.000000\n",
       "mean        35.539198\n",
       "std          9.161942\n",
       "min         21.000000\n",
       "25%         28.000000\n",
       "50%         34.000000\n",
       "75%         41.000000\n",
       "max         80.000000\n",
       "Name: AGE, dtype: float64"
      ]
     },
     "execution_count": 13,
     "metadata": {},
     "output_type": "execute_result"
    }
   ],
   "source": [
    "# remove the 10 extremes/ outliers' data points consider 'AGE' variable had a minimum of -1 and a maximum value of 199. \n",
    "index = df1[(df1['AGE'] >= 199) | (df1['AGE'] <= -1)].index \n",
    "df1.drop(index, inplace=True)  # remove these index rows from data\n",
    "df1['AGE'].describe()  # print summary statistics for the variable to ensure it has been removed "
   ]
  },
  {
   "cell_type": "code",
   "execution_count": 14,
   "id": "7b97fbb0",
   "metadata": {},
   "outputs": [
    {
     "data": {
      "text/plain": [
       "array(['ID', 'LIMIT', 'BALANCE', 'INCOME', 'RATING', 'GENDER',\n",
       "       'EDUCATION', 'MARITAL', 'AGE', 'S1', 'S2', 'S3', 'S4', 'S5', 'B1',\n",
       "       'B2', 'B3', 'B4', 'B5', 'R1', 'R2', 'R3', 'R4', 'R5'], dtype=object)"
      ]
     },
     "execution_count": 14,
     "metadata": {},
     "output_type": "execute_result"
    }
   ],
   "source": [
    "df1.columns.values # list all the variables after data cleaning"
   ]
  },
  {
   "cell_type": "code",
   "execution_count": 15,
   "id": "1c0f4d12",
   "metadata": {},
   "outputs": [
    {
     "data": {
      "text/plain": [
       "array([    0,     1,     2, ..., 18766, 18767, 18768], dtype=int64)"
      ]
     },
     "execution_count": 15,
     "metadata": {},
     "output_type": "execute_result"
    }
   ],
   "source": [
    "df1.index.values # list the index after data cleaning"
   ]
  },
  {
   "cell_type": "code",
   "execution_count": 16,
   "id": "669ffe90",
   "metadata": {},
   "outputs": [
    {
     "name": "stdout",
     "output_type": "stream",
     "text": [
      "<class 'pandas.core.indexes.base.Index'>\n",
      "<class 'pandas.core.indexes.numeric.Int64Index'>\n"
     ]
    }
   ],
   "source": [
    "print(type(df1.columns))\n",
    "print(type(df1.index))"
   ]
  },
  {
   "cell_type": "code",
   "execution_count": 17,
   "id": "4d946163",
   "metadata": {},
   "outputs": [
    {
     "name": "stdout",
     "output_type": "stream",
     "text": [
      "<class 'list'>\n",
      "<class 'list'>\n"
     ]
    }
   ],
   "source": [
    "df1.columns.tolist()\n",
    "df1.index.tolist()\n",
    "print (type(df1.columns.tolist()))\n",
    "print (type(df1.index.tolist()))"
   ]
  },
  {
   "cell_type": "code",
   "execution_count": 18,
   "id": "5916f123",
   "metadata": {},
   "outputs": [
    {
     "name": "stderr",
     "output_type": "stream",
     "text": [
      "C:\\Users\\mkumar\\AppData\\Local\\Temp\\ipykernel_18276\\1864342384.py:1: SettingWithCopyWarning: \n",
      "A value is trying to be set on a copy of a slice from a DataFrame\n",
      "\n",
      "See the caveats in the documentation: https://pandas.pydata.org/pandas-docs/stable/user_guide/indexing.html#returning-a-view-versus-a-copy\n",
      "  df1.drop(['ID'], axis=1, inplace=True) # VARIBALE is NO MEANING, as it an identity, no impact to predict variable\n"
     ]
    }
   ],
   "source": [
    "df1.drop(['ID'], axis=1, inplace=True) # VARIBALE is NO MEANING, as it an identity, no impact to predict variable "
   ]
  },
  {
   "cell_type": "code",
   "execution_count": 19,
   "id": "5c3a4d0f",
   "metadata": {},
   "outputs": [
    {
     "data": {
      "text/html": [
       "<div>\n",
       "<style scoped>\n",
       "    .dataframe tbody tr th:only-of-type {\n",
       "        vertical-align: middle;\n",
       "    }\n",
       "\n",
       "    .dataframe tbody tr th {\n",
       "        vertical-align: top;\n",
       "    }\n",
       "\n",
       "    .dataframe thead th {\n",
       "        text-align: right;\n",
       "    }\n",
       "</style>\n",
       "<table border=\"1\" class=\"dataframe\">\n",
       "  <thead>\n",
       "    <tr style=\"text-align: right;\">\n",
       "      <th></th>\n",
       "      <th>LIMIT</th>\n",
       "      <th>BALANCE</th>\n",
       "      <th>INCOME</th>\n",
       "      <th>RATING</th>\n",
       "      <th>GENDER</th>\n",
       "      <th>EDUCATION</th>\n",
       "      <th>MARITAL</th>\n",
       "      <th>AGE</th>\n",
       "      <th>S1</th>\n",
       "      <th>S2</th>\n",
       "      <th>...</th>\n",
       "      <th>B1</th>\n",
       "      <th>B2</th>\n",
       "      <th>B3</th>\n",
       "      <th>B4</th>\n",
       "      <th>B5</th>\n",
       "      <th>R1</th>\n",
       "      <th>R2</th>\n",
       "      <th>R3</th>\n",
       "      <th>R4</th>\n",
       "      <th>R5</th>\n",
       "    </tr>\n",
       "  </thead>\n",
       "  <tbody>\n",
       "    <tr>\n",
       "      <th>0</th>\n",
       "      <td>210000</td>\n",
       "      <td>0.00</td>\n",
       "      <td>235822</td>\n",
       "      <td>1</td>\n",
       "      <td>1</td>\n",
       "      <td>1.0</td>\n",
       "      <td>2.0</td>\n",
       "      <td>30</td>\n",
       "      <td>0</td>\n",
       "      <td>0</td>\n",
       "      <td>...</td>\n",
       "      <td>0</td>\n",
       "      <td>0</td>\n",
       "      <td>0</td>\n",
       "      <td>0</td>\n",
       "      <td>0</td>\n",
       "      <td>0</td>\n",
       "      <td>0</td>\n",
       "      <td>0.0</td>\n",
       "      <td>0</td>\n",
       "      <td>0</td>\n",
       "    </tr>\n",
       "    <tr>\n",
       "      <th>1</th>\n",
       "      <td>260000</td>\n",
       "      <td>10928.05</td>\n",
       "      <td>278481</td>\n",
       "      <td>0</td>\n",
       "      <td>0</td>\n",
       "      <td>2.0</td>\n",
       "      <td>2.0</td>\n",
       "      <td>31</td>\n",
       "      <td>0</td>\n",
       "      <td>0</td>\n",
       "      <td>...</td>\n",
       "      <td>54074</td>\n",
       "      <td>46407</td>\n",
       "      <td>38874</td>\n",
       "      <td>31324</td>\n",
       "      <td>24031</td>\n",
       "      <td>2000</td>\n",
       "      <td>2000</td>\n",
       "      <td>2000.0</td>\n",
       "      <td>2000</td>\n",
       "      <td>72000</td>\n",
       "    </tr>\n",
       "  </tbody>\n",
       "</table>\n",
       "<p>2 rows × 23 columns</p>\n",
       "</div>"
      ],
      "text/plain": [
       "    LIMIT   BALANCE  INCOME  RATING  GENDER  EDUCATION  MARITAL  AGE  S1  S2  \\\n",
       "0  210000      0.00  235822       1       1        1.0      2.0   30   0   0   \n",
       "1  260000  10928.05  278481       0       0        2.0      2.0   31   0   0   \n",
       "\n",
       "   ...     B1     B2     B3     B4     B5    R1    R2      R3    R4     R5  \n",
       "0  ...      0      0      0      0      0     0     0     0.0     0      0  \n",
       "1  ...  54074  46407  38874  31324  24031  2000  2000  2000.0  2000  72000  \n",
       "\n",
       "[2 rows x 23 columns]"
      ]
     },
     "execution_count": 19,
     "metadata": {},
     "output_type": "execute_result"
    }
   ],
   "source": [
    "df1.head(2) # removed ID"
   ]
  },
  {
   "cell_type": "code",
   "execution_count": 20,
   "id": "a86a4a29",
   "metadata": {},
   "outputs": [],
   "source": [
    "from sklearn.linear_model import LinearRegression\n",
    "from sklearn import datasets, linear_model\n",
    "from sklearn.metrics import mean_squared_error, r2_score\n",
    "model = LinearRegression()"
   ]
  },
  {
   "cell_type": "code",
   "execution_count": 21,
   "id": "a4d84c66",
   "metadata": {},
   "outputs": [],
   "source": [
    "# Creating new variables\n",
    "X = df1[['LIMIT', 'BALANCE', 'INCOME', 'RATING', 'GENDER', 'EDUCATION', 'MARITAL', 'AGE', 'S1', 'S2', 'S3', 'S4', 'S5', 'B2', 'B3', 'B4', 'B5', 'R1', 'R2', 'R3', 'R4', 'R5']]\n",
    "y = df1['B1']"
   ]
  },
  {
   "cell_type": "code",
   "execution_count": 22,
   "id": "d8ed22e9",
   "metadata": {},
   "outputs": [],
   "source": [
    "# Splitting the data into training and testing (80%,20% ratio)\n",
    "from sklearn.model_selection import train_test_split\n",
    "X_train, X_test, y_train, y_test = train_test_split(X, y, shuffle=True, train_size=0.2)"
   ]
  },
  {
   "cell_type": "code",
   "execution_count": 23,
   "id": "b7f19851",
   "metadata": {},
   "outputs": [
    {
     "data": {
      "text/html": [
       "<style>#sk-container-id-1 {color: black;background-color: white;}#sk-container-id-1 pre{padding: 0;}#sk-container-id-1 div.sk-toggleable {background-color: white;}#sk-container-id-1 label.sk-toggleable__label {cursor: pointer;display: block;width: 100%;margin-bottom: 0;padding: 0.3em;box-sizing: border-box;text-align: center;}#sk-container-id-1 label.sk-toggleable__label-arrow:before {content: \"▸\";float: left;margin-right: 0.25em;color: #696969;}#sk-container-id-1 label.sk-toggleable__label-arrow:hover:before {color: black;}#sk-container-id-1 div.sk-estimator:hover label.sk-toggleable__label-arrow:before {color: black;}#sk-container-id-1 div.sk-toggleable__content {max-height: 0;max-width: 0;overflow: hidden;text-align: left;background-color: #f0f8ff;}#sk-container-id-1 div.sk-toggleable__content pre {margin: 0.2em;color: black;border-radius: 0.25em;background-color: #f0f8ff;}#sk-container-id-1 input.sk-toggleable__control:checked~div.sk-toggleable__content {max-height: 200px;max-width: 100%;overflow: auto;}#sk-container-id-1 input.sk-toggleable__control:checked~label.sk-toggleable__label-arrow:before {content: \"▾\";}#sk-container-id-1 div.sk-estimator input.sk-toggleable__control:checked~label.sk-toggleable__label {background-color: #d4ebff;}#sk-container-id-1 div.sk-label input.sk-toggleable__control:checked~label.sk-toggleable__label {background-color: #d4ebff;}#sk-container-id-1 input.sk-hidden--visually {border: 0;clip: rect(1px 1px 1px 1px);clip: rect(1px, 1px, 1px, 1px);height: 1px;margin: -1px;overflow: hidden;padding: 0;position: absolute;width: 1px;}#sk-container-id-1 div.sk-estimator {font-family: monospace;background-color: #f0f8ff;border: 1px dotted black;border-radius: 0.25em;box-sizing: border-box;margin-bottom: 0.5em;}#sk-container-id-1 div.sk-estimator:hover {background-color: #d4ebff;}#sk-container-id-1 div.sk-parallel-item::after {content: \"\";width: 100%;border-bottom: 1px solid gray;flex-grow: 1;}#sk-container-id-1 div.sk-label:hover label.sk-toggleable__label {background-color: #d4ebff;}#sk-container-id-1 div.sk-serial::before {content: \"\";position: absolute;border-left: 1px solid gray;box-sizing: border-box;top: 0;bottom: 0;left: 50%;z-index: 0;}#sk-container-id-1 div.sk-serial {display: flex;flex-direction: column;align-items: center;background-color: white;padding-right: 0.2em;padding-left: 0.2em;position: relative;}#sk-container-id-1 div.sk-item {position: relative;z-index: 1;}#sk-container-id-1 div.sk-parallel {display: flex;align-items: stretch;justify-content: center;background-color: white;position: relative;}#sk-container-id-1 div.sk-item::before, #sk-container-id-1 div.sk-parallel-item::before {content: \"\";position: absolute;border-left: 1px solid gray;box-sizing: border-box;top: 0;bottom: 0;left: 50%;z-index: -1;}#sk-container-id-1 div.sk-parallel-item {display: flex;flex-direction: column;z-index: 1;position: relative;background-color: white;}#sk-container-id-1 div.sk-parallel-item:first-child::after {align-self: flex-end;width: 50%;}#sk-container-id-1 div.sk-parallel-item:last-child::after {align-self: flex-start;width: 50%;}#sk-container-id-1 div.sk-parallel-item:only-child::after {width: 0;}#sk-container-id-1 div.sk-dashed-wrapped {border: 1px dashed gray;margin: 0 0.4em 0.5em 0.4em;box-sizing: border-box;padding-bottom: 0.4em;background-color: white;}#sk-container-id-1 div.sk-label label {font-family: monospace;font-weight: bold;display: inline-block;line-height: 1.2em;}#sk-container-id-1 div.sk-label-container {text-align: center;}#sk-container-id-1 div.sk-container {/* jupyter's `normalize.less` sets `[hidden] { display: none; }` but bootstrap.min.css set `[hidden] { display: none !important; }` so we also need the `!important` here to be able to override the default hidden behavior on the sphinx rendered scikit-learn.org. See: https://github.com/scikit-learn/scikit-learn/issues/21755 */display: inline-block !important;position: relative;}#sk-container-id-1 div.sk-text-repr-fallback {display: none;}</style><div id=\"sk-container-id-1\" class=\"sk-top-container\"><div class=\"sk-text-repr-fallback\"><pre>LinearRegression()</pre><b>In a Jupyter environment, please rerun this cell to show the HTML representation or trust the notebook. <br />On GitHub, the HTML representation is unable to render, please try loading this page with nbviewer.org.</b></div><div class=\"sk-container\" hidden><div class=\"sk-item\"><div class=\"sk-estimator sk-toggleable\"><input class=\"sk-toggleable__control sk-hidden--visually\" id=\"sk-estimator-id-1\" type=\"checkbox\" checked><label for=\"sk-estimator-id-1\" class=\"sk-toggleable__label sk-toggleable__label-arrow\">LinearRegression</label><div class=\"sk-toggleable__content\"><pre>LinearRegression()</pre></div></div></div></div></div>"
      ],
      "text/plain": [
       "LinearRegression()"
      ]
     },
     "execution_count": 23,
     "metadata": {},
     "output_type": "execute_result"
    }
   ],
   "source": [
    "# Creating a new model and fitting it\n",
    "multi_model = LinearRegression()\n",
    "multi_model.fit(X_train, y_train)"
   ]
  },
  {
   "cell_type": "code",
   "execution_count": 24,
   "id": "398990da",
   "metadata": {},
   "outputs": [],
   "source": [
    "# Prediction new values\n",
    "predictions = multi_model.predict(X_test)\n",
    "r2 = r2_score(y_test, predictions)\n",
    "rmse = mean_squared_error(y_test, predictions, squared=False)"
   ]
  },
  {
   "cell_type": "code",
   "execution_count": 25,
   "id": "c01a9b7c",
   "metadata": {},
   "outputs": [
    {
     "name": "stdout",
     "output_type": "stream",
     "text": [
      "The r2 is:  0.9474872303079385\n",
      "The rmse is:  16502.563177099302\n"
     ]
    }
   ],
   "source": [
    "print('The r2 is: ', r2)\n",
    "print('The rmse is: ', rmse)"
   ]
  },
  {
   "cell_type": "code",
   "execution_count": 26,
   "id": "7057ffe5",
   "metadata": {},
   "outputs": [
    {
     "name": "stdout",
     "output_type": "stream",
     "text": [
      "[ 8.02489110e-03  2.66123348e+00 -1.23077411e-02  1.62942175e+02\n",
      "  1.00732999e+03 -6.24867332e+02 -4.87386159e+02  1.98677983e+01\n",
      " -1.11334627e+03  1.49104558e+03  7.03274029e+02 -8.24297698e+02\n",
      " -2.93613416e+02  5.35653736e-01 -2.11746206e-02 -3.69446984e-02\n",
      "  5.62317611e-02 -3.42260438e-01  2.27783204e-01  1.71389601e-01\n",
      " -7.46516333e-02  2.68933722e-02]\n",
      "1680.7929116042724\n"
     ]
    }
   ],
   "source": [
    "# Printing coefficients and intercept\n",
    "print(multi_model.coef_)\n",
    "print(multi_model.intercept_)"
   ]
  },
  {
   "cell_type": "code",
   "execution_count": 27,
   "id": "504ac1d5",
   "metadata": {},
   "outputs": [],
   "source": [
    "# Writing a function to predict limit\n",
    "coefficients = multi_model.coef_\n",
    "intercept = multi_model.intercept_\n",
    "def calculate_B1(LIMIT, BALANCE, INCOME, RATING, GENDER, EDUCATION, MARITAL, AGE, S1, S2, S3, S4, S5, B2, B3, B4, B5, R1, R2, R3, R4, R5):\n",
    "    return ((LIMIT * coefficients[0]) + (BALANCE * coefficients[1]) + (INCOME * coefficients[2]) + (RATING * coefficients[3]))\\\n",
    "+(GENDER * coefficients[4]) + (EDUCATION * coefficients[5]) +(MARITAL * coefficients[6]) +(AGE * coefficients[7])\\\n",
    "+(S1 * coefficients[8]) +(S2 * coefficients[9]) +(S3 * coefficients[10]) + (S4 * coefficients[11]) + (S5 * coefficients[12])\\\n",
    "+(B2 * coefficients[13]) +(B3 * coefficients[14]) + (B4 * coefficients[15]) + (B5 * coefficients[16])\\\n",
    "+(R1 * coefficients[17]) +(R2 * coefficients[18]) +(R3 * coefficients[19]) + (R4 * coefficients[20]) + (R5 * coefficients[21])\\\n",
    "+ intercept"
   ]
  },
  {
   "cell_type": "code",
   "execution_count": 28,
   "id": "bb099800",
   "metadata": {},
   "outputs": [
    {
     "name": "stdout",
     "output_type": "stream",
     "text": [
      "15656.242024745916\n"
     ]
    }
   ],
   "source": [
    "# Predicted B1 value \n",
    "print (calculate_B1(10000, 5000, 8000, 0, 1, 3, 2, 45, -1, 0, 0, 0, -1, 400, 400, 400, 400, 390, 390, 450, 450, 600))"
   ]
  },
  {
   "cell_type": "code",
   "execution_count": null,
   "id": "99b3f853",
   "metadata": {},
   "outputs": [],
   "source": []
  }
 ],
 "metadata": {
  "kernelspec": {
   "display_name": "Python 3 (ipykernel)",
   "language": "python",
   "name": "python3"
  },
  "language_info": {
   "codemirror_mode": {
    "name": "ipython",
    "version": 3
   },
   "file_extension": ".py",
   "mimetype": "text/x-python",
   "name": "python",
   "nbconvert_exporter": "python",
   "pygments_lexer": "ipython3",
   "version": "3.9.12"
  }
 },
 "nbformat": 4,
 "nbformat_minor": 5
}
