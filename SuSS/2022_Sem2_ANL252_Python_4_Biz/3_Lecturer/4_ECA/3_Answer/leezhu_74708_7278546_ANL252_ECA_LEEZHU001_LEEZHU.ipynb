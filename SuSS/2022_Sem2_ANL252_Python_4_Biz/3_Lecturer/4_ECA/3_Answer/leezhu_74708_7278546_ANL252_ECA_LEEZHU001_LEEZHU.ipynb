{
 "cells": [
  {
   "cell_type": "markdown",
   "id": "41e098b1-d579-4b50-a4dc-0c814b8d8507",
   "metadata": {},
   "source": [
    "## Question 1: Categorial and Numeric variables"
   ]
  },
  {
   "cell_type": "markdown",
   "id": "25f6eae4-b544-476c-98f0-7250058d435f",
   "metadata": {},
   "source": [
    "#### Importing Packages"
   ]
  },
  {
   "cell_type": "code",
   "execution_count": 1,
   "id": "d892b8c1-2c54-4a29-baae-b9b435f03182",
   "metadata": {},
   "outputs": [],
   "source": [
    "import pandas as pd\n",
    "import numpy as np\n",
    "from sklearn.model_selection import train_test_split\n",
    "from sklearn.linear_model import LinearRegression\n",
    "from sklearn.preprocessing import StandardScaler\n",
    "from sklearn.metrics import mean_squared_error\n",
    "from matplotlib import pyplot as plt"
   ]
  },
  {
   "cell_type": "markdown",
   "id": "9db9e43d-ced3-4e77-9113-ffe036c081fb",
   "metadata": {},
   "source": [
    "#### Reading in CSV file"
   ]
  },
  {
   "cell_type": "code",
   "execution_count": 2,
   "id": "98beed8d-d626-4499-92d3-398dbb4d8a2c",
   "metadata": {},
   "outputs": [],
   "source": [
    "df = pd.read_csv('ECA_data.csv')"
   ]
  },
  {
   "cell_type": "markdown",
   "id": "07e9a7e7-1745-489f-b025-a07bfdce0a3b",
   "metadata": {},
   "source": [
    "Categorical variables are columns that have a limited number of possibilities of values. A numeric variable covers a range of values.\n",
    "\n",
    "From the definitions provided in the ECA document, the following are categorical variables:\n",
    "\n",
    "* Rating can only take 2 values (0 and 1), which corresponds to 'Good' and 'Bad' respectively. Hence, it's a categorical variable.\n",
    "* Gender can only take 2 values (0 and 2), which corresponds to 'Male' and 'Female' respectively. Hence, it's a categorical variable.\n",
    "* Education can only take 4 values (0, 1, 2, 3), which corresponds to 'Others', 'Postgraduate', 'Tertiary' and 'High School' respectively. Hence, it's a * categorical variable.\n",
    "* Marital can only take 3 values (0, 1 and 2), which corresponds to 'Others', 'Single' and 'Married' respectively. Hence, it's a categorical variable.\n",
    "* Age can only take a finite ordered numeric values as categorical variables.\n",
    "* S(n) is a mixed of fixed values (-1 and 0) corresponding to 'Prompt Payment' and 'Minimum Sum Payment', and finite ordered numeric variable. Hence, it's a categorical variable\n",
    "\n",
    "The following are numeric variables:\n",
    "<br>Limit, Balance, Income, R(n), B(n)"
   ]
  },
  {
   "cell_type": "markdown",
   "id": "e15b7894-8345-4523-9769-8baac2c4d205",
   "metadata": {},
   "source": [
    "## Question 2: Pre-processing Tasks"
   ]
  },
  {
   "cell_type": "markdown",
   "id": "ad2425eb-e51b-4689-9175-785d5fa20fa2",
   "metadata": {},
   "source": [
    "#### Task 1: Filling missing values and Fixing Invalid Values"
   ]
  },
  {
   "cell_type": "code",
   "execution_count": 3,
   "id": "b774686f-bbbb-4f41-bb84-b7b4f5a24a84",
   "metadata": {},
   "outputs": [
    {
     "data": {
      "text/html": [
       "<div>\n",
       "<style scoped>\n",
       "    .dataframe tbody tr th:only-of-type {\n",
       "        vertical-align: middle;\n",
       "    }\n",
       "\n",
       "    .dataframe tbody tr th {\n",
       "        vertical-align: top;\n",
       "    }\n",
       "\n",
       "    .dataframe thead th {\n",
       "        text-align: right;\n",
       "    }\n",
       "</style>\n",
       "<table border=\"1\" class=\"dataframe\">\n",
       "  <thead>\n",
       "    <tr style=\"text-align: right;\">\n",
       "      <th></th>\n",
       "      <th>count</th>\n",
       "      <th>mean</th>\n",
       "      <th>std</th>\n",
       "      <th>min</th>\n",
       "      <th>25%</th>\n",
       "      <th>50%</th>\n",
       "      <th>75%</th>\n",
       "      <th>max</th>\n",
       "    </tr>\n",
       "  </thead>\n",
       "  <tbody>\n",
       "    <tr>\n",
       "      <th>ID</th>\n",
       "      <td>18769.0</td>\n",
       "      <td>9382.049710</td>\n",
       "      <td>5418.203513</td>\n",
       "      <td>1.0</td>\n",
       "      <td>4690.000</td>\n",
       "      <td>9382.000</td>\n",
       "      <td>14074.00</td>\n",
       "      <td>18766.00</td>\n",
       "    </tr>\n",
       "    <tr>\n",
       "      <th>LIMIT</th>\n",
       "      <td>18769.0</td>\n",
       "      <td>168275.543716</td>\n",
       "      <td>129405.294386</td>\n",
       "      <td>10000.0</td>\n",
       "      <td>50000.000</td>\n",
       "      <td>140000.000</td>\n",
       "      <td>240000.00</td>\n",
       "      <td>800000.00</td>\n",
       "    </tr>\n",
       "    <tr>\n",
       "      <th>BALANCE</th>\n",
       "      <td>18769.0</td>\n",
       "      <td>9119.887343</td>\n",
       "      <td>13045.368642</td>\n",
       "      <td>0.0</td>\n",
       "      <td>640.325</td>\n",
       "      <td>3959.025</td>\n",
       "      <td>11975.25</td>\n",
       "      <td>130692.45</td>\n",
       "    </tr>\n",
       "    <tr>\n",
       "      <th>INCOME</th>\n",
       "      <td>18769.0</td>\n",
       "      <td>177765.809100</td>\n",
       "      <td>143092.431648</td>\n",
       "      <td>10000.0</td>\n",
       "      <td>56494.000</td>\n",
       "      <td>148225.000</td>\n",
       "      <td>256826.00</td>\n",
       "      <td>908846.00</td>\n",
       "    </tr>\n",
       "    <tr>\n",
       "      <th>RATING</th>\n",
       "      <td>18769.0</td>\n",
       "      <td>0.219244</td>\n",
       "      <td>0.413746</td>\n",
       "      <td>0.0</td>\n",
       "      <td>0.000</td>\n",
       "      <td>0.000</td>\n",
       "      <td>0.00</td>\n",
       "      <td>1.00</td>\n",
       "    </tr>\n",
       "    <tr>\n",
       "      <th>GENDER</th>\n",
       "      <td>18769.0</td>\n",
       "      <td>0.618307</td>\n",
       "      <td>0.485815</td>\n",
       "      <td>0.0</td>\n",
       "      <td>0.000</td>\n",
       "      <td>1.000</td>\n",
       "      <td>1.00</td>\n",
       "      <td>1.00</td>\n",
       "    </tr>\n",
       "    <tr>\n",
       "      <th>EDUCATION</th>\n",
       "      <td>18756.0</td>\n",
       "      <td>1.789934</td>\n",
       "      <td>0.732326</td>\n",
       "      <td>0.0</td>\n",
       "      <td>1.000</td>\n",
       "      <td>2.000</td>\n",
       "      <td>2.00</td>\n",
       "      <td>3.00</td>\n",
       "    </tr>\n",
       "    <tr>\n",
       "      <th>MARITAL</th>\n",
       "      <td>18731.0</td>\n",
       "      <td>1.514922</td>\n",
       "      <td>0.519588</td>\n",
       "      <td>0.0</td>\n",
       "      <td>1.000</td>\n",
       "      <td>2.000</td>\n",
       "      <td>2.00</td>\n",
       "      <td>2.00</td>\n",
       "    </tr>\n",
       "    <tr>\n",
       "      <th>AGE</th>\n",
       "      <td>18769.0</td>\n",
       "      <td>35.578614</td>\n",
       "      <td>9.556397</td>\n",
       "      <td>-1.0</td>\n",
       "      <td>28.000</td>\n",
       "      <td>34.000</td>\n",
       "      <td>41.00</td>\n",
       "      <td>199.00</td>\n",
       "    </tr>\n",
       "    <tr>\n",
       "      <th>S1</th>\n",
       "      <td>18769.0</td>\n",
       "      <td>0.128776</td>\n",
       "      <td>0.954745</td>\n",
       "      <td>-1.0</td>\n",
       "      <td>0.000</td>\n",
       "      <td>0.000</td>\n",
       "      <td>0.00</td>\n",
       "      <td>7.00</td>\n",
       "    </tr>\n",
       "    <tr>\n",
       "      <th>S2</th>\n",
       "      <td>18769.0</td>\n",
       "      <td>0.111514</td>\n",
       "      <td>0.929861</td>\n",
       "      <td>-1.0</td>\n",
       "      <td>0.000</td>\n",
       "      <td>0.000</td>\n",
       "      <td>0.00</td>\n",
       "      <td>8.00</td>\n",
       "    </tr>\n",
       "    <tr>\n",
       "      <th>S3</th>\n",
       "      <td>18769.0</td>\n",
       "      <td>0.088817</td>\n",
       "      <td>0.921901</td>\n",
       "      <td>-1.0</td>\n",
       "      <td>0.000</td>\n",
       "      <td>0.000</td>\n",
       "      <td>0.00</td>\n",
       "      <td>7.00</td>\n",
       "    </tr>\n",
       "    <tr>\n",
       "      <th>S4</th>\n",
       "      <td>18769.0</td>\n",
       "      <td>0.040759</td>\n",
       "      <td>0.860155</td>\n",
       "      <td>-1.0</td>\n",
       "      <td>0.000</td>\n",
       "      <td>0.000</td>\n",
       "      <td>0.00</td>\n",
       "      <td>7.00</td>\n",
       "    </tr>\n",
       "    <tr>\n",
       "      <th>S5</th>\n",
       "      <td>18769.0</td>\n",
       "      <td>0.038628</td>\n",
       "      <td>0.849596</td>\n",
       "      <td>-1.0</td>\n",
       "      <td>0.000</td>\n",
       "      <td>0.000</td>\n",
       "      <td>0.00</td>\n",
       "      <td>7.00</td>\n",
       "    </tr>\n",
       "    <tr>\n",
       "      <th>B1</th>\n",
       "      <td>18769.0</td>\n",
       "      <td>49985.762587</td>\n",
       "      <td>71927.408384</td>\n",
       "      <td>-69777.0</td>\n",
       "      <td>3081.000</td>\n",
       "      <td>21386.000</td>\n",
       "      <td>65145.00</td>\n",
       "      <td>743970.00</td>\n",
       "    </tr>\n",
       "    <tr>\n",
       "      <th>B2</th>\n",
       "      <td>18769.0</td>\n",
       "      <td>48168.321541</td>\n",
       "      <td>70318.908697</td>\n",
       "      <td>-157264.0</td>\n",
       "      <td>2845.000</td>\n",
       "      <td>20421.000</td>\n",
       "      <td>61943.00</td>\n",
       "      <td>855086.00</td>\n",
       "    </tr>\n",
       "    <tr>\n",
       "      <th>B3</th>\n",
       "      <td>18769.0</td>\n",
       "      <td>45025.373328</td>\n",
       "      <td>66107.280567</td>\n",
       "      <td>-65167.0</td>\n",
       "      <td>2513.000</td>\n",
       "      <td>19502.000</td>\n",
       "      <td>57687.00</td>\n",
       "      <td>706864.00</td>\n",
       "    </tr>\n",
       "    <tr>\n",
       "      <th>B4</th>\n",
       "      <td>18769.0</td>\n",
       "      <td>41058.509137</td>\n",
       "      <td>61697.041169</td>\n",
       "      <td>-81334.0</td>\n",
       "      <td>1950.000</td>\n",
       "      <td>18356.000</td>\n",
       "      <td>50758.00</td>\n",
       "      <td>823540.00</td>\n",
       "    </tr>\n",
       "    <tr>\n",
       "      <th>B5</th>\n",
       "      <td>18769.0</td>\n",
       "      <td>39624.961319</td>\n",
       "      <td>59913.089587</td>\n",
       "      <td>-209051.0</td>\n",
       "      <td>1430.000</td>\n",
       "      <td>17419.000</td>\n",
       "      <td>49792.00</td>\n",
       "      <td>514975.00</td>\n",
       "    </tr>\n",
       "    <tr>\n",
       "      <th>R1</th>\n",
       "      <td>18769.0</td>\n",
       "      <td>6026.392296</td>\n",
       "      <td>22898.993031</td>\n",
       "      <td>0.0</td>\n",
       "      <td>1000.000</td>\n",
       "      <td>2132.000</td>\n",
       "      <td>5002.00</td>\n",
       "      <td>1227082.00</td>\n",
       "    </tr>\n",
       "    <tr>\n",
       "      <th>R2</th>\n",
       "      <td>18769.0</td>\n",
       "      <td>5651.754862</td>\n",
       "      <td>18614.886581</td>\n",
       "      <td>0.0</td>\n",
       "      <td>579.000</td>\n",
       "      <td>2000.000</td>\n",
       "      <td>5000.00</td>\n",
       "      <td>889043.00</td>\n",
       "    </tr>\n",
       "    <tr>\n",
       "      <th>R4</th>\n",
       "      <td>18769.0</td>\n",
       "      <td>4764.085354</td>\n",
       "      <td>15031.279673</td>\n",
       "      <td>0.0</td>\n",
       "      <td>285.000</td>\n",
       "      <td>1508.000</td>\n",
       "      <td>4068.00</td>\n",
       "      <td>426529.00</td>\n",
       "    </tr>\n",
       "    <tr>\n",
       "      <th>R5</th>\n",
       "      <td>18769.0</td>\n",
       "      <td>5185.538068</td>\n",
       "      <td>17424.054451</td>\n",
       "      <td>0.0</td>\n",
       "      <td>215.000</td>\n",
       "      <td>1547.000</td>\n",
       "      <td>4095.00</td>\n",
       "      <td>527143.00</td>\n",
       "    </tr>\n",
       "  </tbody>\n",
       "</table>\n",
       "</div>"
      ],
      "text/plain": [
       "             count           mean            std       min        25%  \\\n",
       "ID         18769.0    9382.049710    5418.203513       1.0   4690.000   \n",
       "LIMIT      18769.0  168275.543716  129405.294386   10000.0  50000.000   \n",
       "BALANCE    18769.0    9119.887343   13045.368642       0.0    640.325   \n",
       "INCOME     18769.0  177765.809100  143092.431648   10000.0  56494.000   \n",
       "RATING     18769.0       0.219244       0.413746       0.0      0.000   \n",
       "GENDER     18769.0       0.618307       0.485815       0.0      0.000   \n",
       "EDUCATION  18756.0       1.789934       0.732326       0.0      1.000   \n",
       "MARITAL    18731.0       1.514922       0.519588       0.0      1.000   \n",
       "AGE        18769.0      35.578614       9.556397      -1.0     28.000   \n",
       "S1         18769.0       0.128776       0.954745      -1.0      0.000   \n",
       "S2         18769.0       0.111514       0.929861      -1.0      0.000   \n",
       "S3         18769.0       0.088817       0.921901      -1.0      0.000   \n",
       "S4         18769.0       0.040759       0.860155      -1.0      0.000   \n",
       "S5         18769.0       0.038628       0.849596      -1.0      0.000   \n",
       "B1         18769.0   49985.762587   71927.408384  -69777.0   3081.000   \n",
       "B2         18769.0   48168.321541   70318.908697 -157264.0   2845.000   \n",
       "B3         18769.0   45025.373328   66107.280567  -65167.0   2513.000   \n",
       "B4         18769.0   41058.509137   61697.041169  -81334.0   1950.000   \n",
       "B5         18769.0   39624.961319   59913.089587 -209051.0   1430.000   \n",
       "R1         18769.0    6026.392296   22898.993031       0.0   1000.000   \n",
       "R2         18769.0    5651.754862   18614.886581       0.0    579.000   \n",
       "R4         18769.0    4764.085354   15031.279673       0.0    285.000   \n",
       "R5         18769.0    5185.538068   17424.054451       0.0    215.000   \n",
       "\n",
       "                  50%        75%         max  \n",
       "ID           9382.000   14074.00    18766.00  \n",
       "LIMIT      140000.000  240000.00   800000.00  \n",
       "BALANCE      3959.025   11975.25   130692.45  \n",
       "INCOME     148225.000  256826.00   908846.00  \n",
       "RATING          0.000       0.00        1.00  \n",
       "GENDER          1.000       1.00        1.00  \n",
       "EDUCATION       2.000       2.00        3.00  \n",
       "MARITAL         2.000       2.00        2.00  \n",
       "AGE            34.000      41.00      199.00  \n",
       "S1              0.000       0.00        7.00  \n",
       "S2              0.000       0.00        8.00  \n",
       "S3              0.000       0.00        7.00  \n",
       "S4              0.000       0.00        7.00  \n",
       "S5              0.000       0.00        7.00  \n",
       "B1          21386.000   65145.00   743970.00  \n",
       "B2          20421.000   61943.00   855086.00  \n",
       "B3          19502.000   57687.00   706864.00  \n",
       "B4          18356.000   50758.00   823540.00  \n",
       "B5          17419.000   49792.00   514975.00  \n",
       "R1           2132.000    5002.00  1227082.00  \n",
       "R2           2000.000    5000.00   889043.00  \n",
       "R4           1508.000    4068.00   426529.00  \n",
       "R5           1547.000    4095.00   527143.00  "
      ]
     },
     "execution_count": 3,
     "metadata": {},
     "output_type": "execute_result"
    }
   ],
   "source": [
    "# Checking the distribution of values for each variable\n",
    "df.describe().T"
   ]
  },
  {
   "cell_type": "markdown",
   "id": "d84cefca-1815-4601-9896-b0116c37f369",
   "metadata": {},
   "source": [
    "As shown above, AGE variable seems to be suspicious as it has -1 and 199. Age must be nonnegative and no human has lived to the age of 199 yet. Hence, these valids are most likely invalid entries and should be dropped."
   ]
  },
  {
   "cell_type": "code",
   "execution_count": 4,
   "id": "fa4b5e8a-2289-403e-9cf1-f8073aaa87c2",
   "metadata": {},
   "outputs": [],
   "source": [
    "df = df[df.AGE.isin([-1, 199]) == False]"
   ]
  },
  {
   "cell_type": "code",
   "execution_count": 5,
   "id": "588c5c82-2974-45c7-ac64-bf63674b5418",
   "metadata": {},
   "outputs": [
    {
     "data": {
      "text/plain": [
       "ID            0\n",
       "LIMIT         0\n",
       "BALANCE       0\n",
       "INCOME        0\n",
       "RATING        0\n",
       "GENDER        0\n",
       "EDUCATION    13\n",
       "MARITAL      38\n",
       "AGE           0\n",
       "S1            0\n",
       "S2            0\n",
       "S3            0\n",
       "S4            0\n",
       "S5            0\n",
       "B1            0\n",
       "B2            0\n",
       "B3            0\n",
       "B4            0\n",
       "B5            0\n",
       "R1            0\n",
       "R2            0\n",
       "R3            0\n",
       "R4            0\n",
       "R5            0\n",
       "dtype: int64"
      ]
     },
     "execution_count": 5,
     "metadata": {},
     "output_type": "execute_result"
    }
   ],
   "source": [
    "# Checking if there are any missing values\n",
    "df.isna().sum()"
   ]
  },
  {
   "cell_type": "markdown",
   "id": "61a287e4-8d28-40bd-b68c-a277b2dc7aa7",
   "metadata": {},
   "source": [
    "As seen above, Education and Marital variables have missing values."
   ]
  },
  {
   "cell_type": "code",
   "execution_count": 6,
   "id": "652b07f8-b02a-4544-bfb9-4865ed0bc156",
   "metadata": {},
   "outputs": [
    {
     "data": {
      "text/plain": [
       "['EDUCATION', 'MARITAL']"
      ]
     },
     "execution_count": 6,
     "metadata": {},
     "output_type": "execute_result"
    }
   ],
   "source": [
    "# Getting all columns with missing values for further pre-processing\n",
    "df.columns[df.isnull().any()].tolist()  # to get a list instead of an Index object"
   ]
  },
  {
   "cell_type": "markdown",
   "id": "9064c9d4-9be2-4745-a439-b4e424dccfa1",
   "metadata": {},
   "source": [
    "As we can see, EDUCATION and MARITAL are columns that have missing values. \n",
    "\n",
    "Below is the defintiion for Education:\n",
    "<br> \n",
    "> Customer highest education attained\n",
    "<br> 0: Others, 1: Postgraduate, 2: Tertiary, 3: High School\n",
    "\n",
    "Hence, it makes sense to convert the missing values for EDUCATION to 0 as we are unsure what Education level they are.\n",
    "\n",
    "Below is the defintiion for Marital:\n",
    "<br> \n",
    "> Customer marital status \n",
    "<br> 0: Others, 1: Single, 2: Married\n",
    "\n",
    "Hence, it makes sense to convert the missing values for MARITAL to 0 as we are unsure what Education level they are."
   ]
  },
  {
   "cell_type": "code",
   "execution_count": 7,
   "id": "15a8733a-7a6b-4c14-aa9e-a55095078771",
   "metadata": {},
   "outputs": [],
   "source": [
    "df['MARITAL'] = df['MARITAL'].fillna(0)\n",
    "df['EDUCATION'] = df['EDUCATION'].fillna(0)\n"
   ]
  },
  {
   "cell_type": "markdown",
   "id": "0fc2e7dd-e33c-41e3-91a2-b931e0df49cd",
   "metadata": {},
   "source": [
    "While converting all numeric variables to integer types, R3 has some invalid entries with '$' dollar sign. Hence, I will be converting these to numeric values."
   ]
  },
  {
   "cell_type": "code",
   "execution_count": 8,
   "id": "27dd7b41-eb02-4e91-8300-33ec604364c5",
   "metadata": {},
   "outputs": [],
   "source": [
    "df['R3'] = df['R3'].replace(\"[$,]\", \"\", regex=True).astype(int)"
   ]
  },
  {
   "cell_type": "markdown",
   "id": "29b84b5e-a8c0-4b12-a17e-9d26251aeef8",
   "metadata": {},
   "source": [
    "#### Task 2: Reducing Number of Categorical Variables by Discretisation"
   ]
  },
  {
   "cell_type": "code",
   "execution_count": 9,
   "id": "f7104886-80a1-41de-9d79-ee6b81b671dd",
   "metadata": {},
   "outputs": [],
   "source": [
    "df['AGE'] = pd.cut(np.array(df['AGE']), bins = (0, 30, 60, 100), right = False, labels = ['Age < 30', 'Age 30-59', 'Age 60+'])\n",
    "df['S1'] = pd.cut(np.array(df['S1']), bins = (-1, 0, 1, 999), right = False, labels = ['Prompt Payment', 'Minimum Payment', 'Late Payment'])\n",
    "df['S2'] = pd.cut(np.array(df['S2']), bins = (-1, 0, 1, 999), right = False, labels = ['Prompt Payment', 'Minimum Payment', 'Late Payment'])\n",
    "df['S3'] = pd.cut(np.array(df['S3']), bins = (-1, 0, 1, 999), right = False, labels = ['Prompt Payment', 'Minimum Payment', 'Late Payment'])\n",
    "df['S4'] = pd.cut(np.array(df['S4']), bins = (-1, 0, 1, 999), right = False, labels = ['Prompt Payment', 'Minimum Payment', 'Late Payment'])\n",
    "df['S5'] = pd.cut(np.array(df['S5']), bins = (-1, 0, 1, 999), right = False, labels = ['Prompt Payment', 'Minimum Payment', 'Late Payment'])"
   ]
  },
  {
   "cell_type": "markdown",
   "id": "0f032ddd-7ab4-4bb9-a9d1-7931fb6603a8",
   "metadata": {},
   "source": [
    "As explained in Q1, the above are ordered numeric values as categorical variables. I will convert the values as bins to reduce number of categories upon creating dummy variables in later stages."
   ]
  },
  {
   "cell_type": "markdown",
   "id": "2ea71fa6-fee0-4082-95f8-4a8faf407188",
   "metadata": {},
   "source": [
    "#### Task 3: Selecting and Renaming Column Names (Variables)"
   ]
  },
  {
   "cell_type": "code",
   "execution_count": 10,
   "id": "87938ad1-4373-44ee-b52f-2fa0fea469f3",
   "metadata": {},
   "outputs": [],
   "source": [
    "# Converting values to proper names for easier visualisation and analytics.\n",
    "\n",
    "education_replacement = {0:'Others', 1:'Postgraudate', 2:'Tertiary', 3:'High School'}\n",
    "marital_replacement = {0:'Others', 1:'Single', 2:'Married'}\n",
    "\n",
    "df[\"EDUCATION_new\"] = df[\"EDUCATION\"].replace(education_replacement)\n",
    "df[\"MARITAL_new\"] = df[\"MARITAL\"].replace(marital_replacement)"
   ]
  },
  {
   "cell_type": "markdown",
   "id": "2370c8cb-2f41-4977-b0a5-39f2315ec92e",
   "metadata": {},
   "source": [
    "I have converted thr values for Education and Marital to its proper meaning as per the definition provided. "
   ]
  },
  {
   "cell_type": "code",
   "execution_count": 11,
   "id": "c28625b9-9118-4983-b26c-5cac3baeda71",
   "metadata": {},
   "outputs": [],
   "source": [
    "# Selecting only variables I need for prediction\n",
    "X_var = ['LIMIT', 'BALANCE', 'INCOME', 'RATING',\n",
    "          'AGE', 'GENDER', 'EDUCATION_new', 'MARITAL_new',\n",
    "          'S1', 'S2', 'S3', 'S4', 'S5', \n",
    "          'B2', 'B3', 'B4', 'B5', \n",
    "          'R1', 'R2', 'R3', 'R4', 'R5']\n",
    "y_var = ['B1']\n",
    "df_model = df[y_var + X_var]"
   ]
  },
  {
   "cell_type": "code",
   "execution_count": 12,
   "id": "cd9be1f2-3601-4066-aa52-d5078a4141ce",
   "metadata": {},
   "outputs": [],
   "source": [
    "# Renaming column names for easier visualisation\n",
    "rename_dict = {'EDUCATION_new':'EDUCATION', \n",
    "               'MARITAL_new':'MARITAL'}\n",
    "df_model = df_model.rename(columns = rename_dict)"
   ]
  },
  {
   "cell_type": "markdown",
   "id": "9db14f66-bef9-496b-8017-30a742d976cf",
   "metadata": {},
   "source": [
    "#### Task 4: Creating Dummy Variables"
   ]
  },
  {
   "cell_type": "code",
   "execution_count": 13,
   "id": "263ae13c-fdea-40a8-b04d-fa6911d8f642",
   "metadata": {},
   "outputs": [],
   "source": [
    "categorical_variables = ['AGE', 'EDUCATION', 'MARITAL', 'S1', 'S2', 'S3', 'S4', 'S5']\n",
    "#pd.get_dummies(df_model[categorical_variables]).columns.tolist()\n",
    "df_model = df_model.join(\n",
    "    pd.get_dummies(\n",
    "        df_model[categorical_variables]\n",
    "    )\n",
    ").drop(columns = categorical_variables)"
   ]
  },
  {
   "cell_type": "markdown",
   "id": "9a3c1991-0a73-4440-b12e-8bd1d1908022",
   "metadata": {},
   "source": [
    "Creating dummy variables for the categorical variables. It is noteworthy that I did not convert GENDER and RATING. This is because there is no loss or additional information gain upon converting them to 2 dummy variables. Hence, I left it as it is."
   ]
  },
  {
   "cell_type": "markdown",
   "id": "30718e58-56f6-45ef-ae97-491d29028bf2",
   "metadata": {},
   "source": [
    "## Question 3: Insights and Visualisations"
   ]
  },
  {
   "cell_type": "code",
   "execution_count": 14,
   "id": "66704e22-9c1f-4b55-aa32-700a206baf20",
   "metadata": {},
   "outputs": [],
   "source": [
    "# Copying the current DataFrame for further Exploratory Data Analysis\n",
    "df_visualisation = df.copy()"
   ]
  },
  {
   "cell_type": "code",
   "execution_count": 15,
   "id": "87d44b3b-1a5f-454b-b0f4-525ac8b0fd50",
   "metadata": {},
   "outputs": [],
   "source": [
    "rating_replacement = {0:'Good', 1:'Bad'}\n",
    "gender_replacement = {0:'Male', 1:'Female'}\n",
    "education_replacement = {0:'Others', 1:'Postgraudate', 2:'Tertiary', 3:'High School'}\n",
    "marital_replacement = {0:'Others', 1:'Single', 2:'Married'}\n",
    "\n",
    "df_visualisation[\"EDUCATION\"] = df_visualisation[\"EDUCATION\"].replace(education_replacement)\n",
    "df_visualisation[\"MARITAL\"] = df_visualisation[\"MARITAL\"].replace(marital_replacement)\n",
    "df_visualisation[\"RATING\"] = df_visualisation[\"RATING\"].replace(rating_replacement)\n",
    "df_visualisation[\"GENDER\"] = df_visualisation[\"GENDER\"].replace(gender_replacement)"
   ]
  },
  {
   "cell_type": "markdown",
   "id": "d185f102-a8fe-4664-9982-7d4ec5cf33f7",
   "metadata": {},
   "source": [
    "I have converted the numeric value to its proper definition to aid analysis and visualisation albit no extra gain or loss of information."
   ]
  },
  {
   "cell_type": "markdown",
   "id": "7e65a472-9d2e-43a1-9d3b-8ecef7ec3c3f",
   "metadata": {},
   "source": [
    "#### Insight (1): Age Group Distribution"
   ]
  },
  {
   "cell_type": "code",
   "execution_count": 16,
   "id": "a3d830cb-bd41-494c-815c-7d109674d6d8",
   "metadata": {},
   "outputs": [
    {
     "data": {
      "text/plain": [
       "(array([12629.,     0.,     0.,     0.,     0.,  5931.,     0.,     0.,\n",
       "            0.,   199.]),\n",
       " array([0. , 0.2, 0.4, 0.6, 0.8, 1. , 1.2, 1.4, 1.6, 1.8, 2. ]),\n",
       " <BarContainer object of 10 artists>)"
      ]
     },
     "execution_count": 16,
     "metadata": {},
     "output_type": "execute_result"
    },
    {
     "data": {
      "image/png": "[encoded data removed]",
      "text/plain": [
       "<Figure size 432x288 with 1 Axes>"
      ]
     },
     "metadata": {
      "needs_background": "light"
     },
     "output_type": "display_data"
    }
   ],
   "source": [
    "plt.hist(x = np.array(df_visualisation['AGE']))"
   ]
  },
  {
   "cell_type": "markdown",
   "id": "d83b8296-e75f-4406-a543-325ec42df7e1",
   "metadata": {},
   "source": [
    "As shown above, there are:\n",
    "* Age < 30: 5931\n",
    "* Age 30-59: 12629\n",
    "* Age 60+: 199\n",
    "\n",
    "There is an imbalance in the Age class as there are way more middle-aged adults (30-59) compared to young adults (<30) and elderly (60+)\n"
   ]
  },
  {
   "cell_type": "markdown",
   "id": "f910a542-3904-4b99-9e47-2812ffba0705",
   "metadata": {},
   "source": [
    "#### Insight (2): Rating Distribution"
   ]
  },
  {
   "cell_type": "code",
   "execution_count": 17,
   "id": "f83f5cbf-5c23-424a-87da-a0b9c7e416c0",
   "metadata": {},
   "outputs": [
    {
     "data": {
      "text/plain": [
       "(array([ 4115.,     0.,     0.,     0.,     0.,     0.,     0.,     0.,\n",
       "            0., 14644.]),\n",
       " array([0. , 0.1, 0.2, 0.3, 0.4, 0.5, 0.6, 0.7, 0.8, 0.9, 1. ]),\n",
       " <BarContainer object of 10 artists>)"
      ]
     },
     "execution_count": 17,
     "metadata": {},
     "output_type": "execute_result"
    },
    {
     "data": {
      "image/png": "[encoded data removed]",
      "text/plain": [
       "<Figure size 432x288 with 1 Axes>"
      ]
     },
     "metadata": {
      "needs_background": "light"
     },
     "output_type": "display_data"
    }
   ],
   "source": [
    "plt.hist(x = np.array(df_visualisation['RATING']))"
   ]
  },
  {
   "cell_type": "markdown",
   "id": "369d0238-dd5d-4197-ae96-bf2dc44accb8",
   "metadata": {},
   "source": [
    "As shown above, there are:\n",
    "* Good: 14644\n",
    "* Bad: 4115\n",
    "\n",
    "There is an imbalance in the Rating class as there are way more 'Good' than 'Bad'."
   ]
  },
  {
   "cell_type": "markdown",
   "id": "c184cca8-acfb-4af3-be24-f0f60ddf86bc",
   "metadata": {},
   "source": [
    "Let's see the distribution of Rating amongst the Age groups."
   ]
  },
  {
   "cell_type": "markdown",
   "id": "8cc8d63c-25a2-43a5-88ad-a1c904db34a3",
   "metadata": {},
   "source": [
    "#### Insight (3): Age Group against Rating Distribution"
   ]
  },
  {
   "cell_type": "code",
   "execution_count": 18,
   "id": "e13f002c-349d-43d4-a606-0af4025bf2b7",
   "metadata": {},
   "outputs": [
    {
     "data": {
      "text/plain": [
       "<AxesSubplot:xlabel='AGE,RATING'>"
      ]
     },
     "execution_count": 18,
     "metadata": {},
     "output_type": "execute_result"
    },
    {
     "data": {
      "image/png": "[encoded data removed]",
      "text/plain": [
       "<Figure size 432x288 with 1 Axes>"
      ]
     },
     "metadata": {
      "needs_background": "light"
     },
     "output_type": "display_data"
    }
   ],
   "source": [
    "df_visualisation[['AGE', 'RATING', 'ID']].groupby(['AGE', 'RATING']).agg(['count']).plot.bar(rot = 45)"
   ]
  },
  {
   "cell_type": "markdown",
   "id": "fd593146-29cc-41eb-9237-912cd9474598",
   "metadata": {},
   "source": [
    "To make it clearer, let's see the proposition by groups."
   ]
  },
  {
   "cell_type": "code",
   "execution_count": 19,
   "id": "b7618dfe-7eb1-468e-826e-47363cbaa7df",
   "metadata": {},
   "outputs": [
    {
     "data": {
      "text/html": [
       "<div>\n",
       "<style scoped>\n",
       "    .dataframe tbody tr th:only-of-type {\n",
       "        vertical-align: middle;\n",
       "    }\n",
       "\n",
       "    .dataframe tbody tr th {\n",
       "        vertical-align: top;\n",
       "    }\n",
       "\n",
       "    .dataframe thead tr th {\n",
       "        text-align: left;\n",
       "    }\n",
       "\n",
       "    .dataframe thead tr:last-of-type th {\n",
       "        text-align: right;\n",
       "    }\n",
       "</style>\n",
       "<table border=\"1\" class=\"dataframe\">\n",
       "  <thead>\n",
       "    <tr>\n",
       "      <th></th>\n",
       "      <th></th>\n",
       "      <th>ID</th>\n",
       "    </tr>\n",
       "    <tr>\n",
       "      <th></th>\n",
       "      <th></th>\n",
       "      <th>count</th>\n",
       "    </tr>\n",
       "    <tr>\n",
       "      <th>AGE</th>\n",
       "      <th>RATING</th>\n",
       "      <th></th>\n",
       "    </tr>\n",
       "  </thead>\n",
       "  <tbody>\n",
       "    <tr>\n",
       "      <th rowspan=\"2\" valign=\"top\">Age &lt; 30</th>\n",
       "      <th>Bad</th>\n",
       "      <td>22.154780</td>\n",
       "    </tr>\n",
       "    <tr>\n",
       "      <th>Good</th>\n",
       "      <td>77.845220</td>\n",
       "    </tr>\n",
       "    <tr>\n",
       "      <th rowspan=\"2\" valign=\"top\">Age 30-59</th>\n",
       "      <th>Bad</th>\n",
       "      <td>21.775279</td>\n",
       "    </tr>\n",
       "    <tr>\n",
       "      <th>Good</th>\n",
       "      <td>78.224721</td>\n",
       "    </tr>\n",
       "    <tr>\n",
       "      <th rowspan=\"2\" valign=\"top\">Age 60+</th>\n",
       "      <th>Bad</th>\n",
       "      <td>25.628141</td>\n",
       "    </tr>\n",
       "    <tr>\n",
       "      <th>Good</th>\n",
       "      <td>74.371859</td>\n",
       "    </tr>\n",
       "  </tbody>\n",
       "</table>\n",
       "</div>"
      ],
      "text/plain": [
       "                         ID\n",
       "                      count\n",
       "AGE       RATING           \n",
       "Age < 30  Bad     22.154780\n",
       "          Good    77.845220\n",
       "Age 30-59 Bad     21.775279\n",
       "          Good    78.224721\n",
       "Age 60+   Bad     25.628141\n",
       "          Good    74.371859"
      ]
     },
     "execution_count": 19,
     "metadata": {},
     "output_type": "execute_result"
    }
   ],
   "source": [
    "df_age_rating = df_visualisation[['AGE', 'RATING', 'ID']].groupby(['AGE', 'RATING']).agg(['count'])\n",
    "df_pcts = df_age_rating.groupby(level=0).apply(lambda x: 100 * x / float(x.sum()))\n",
    "df_pcts"
   ]
  },
  {
   "cell_type": "markdown",
   "id": "d63cba64-19be-4826-9e54-43597b4bcde6",
   "metadata": {},
   "source": [
    "Interestingly, the distribution of Rating is almost identical across all 3 Age groups. This shows that Rating is not really affected by the Gender class. "
   ]
  },
  {
   "cell_type": "markdown",
   "id": "fdbb7f02-d1b1-4a87-9e96-b838a0d0ca7e",
   "metadata": {},
   "source": [
    "#### Insight (4): Age against B1 Distribution"
   ]
  },
  {
   "cell_type": "code",
   "execution_count": 20,
   "id": "2e89153f-a92e-4246-b4d2-6920bc81aab2",
   "metadata": {},
   "outputs": [
    {
     "data": {
      "text/plain": [
       "<AxesSubplot:xlabel='AGE'>"
      ]
     },
     "execution_count": 20,
     "metadata": {},
     "output_type": "execute_result"
    },
    {
     "data": {
      "image/png": "[encoded data removed]",
      "text/plain": [
       "<Figure size 432x288 with 1 Axes>"
      ]
     },
     "metadata": {
      "needs_background": "light"
     },
     "output_type": "display_data"
    }
   ],
   "source": [
    "df_visualisation[['AGE', 'B1']].groupby('AGE').describe().plot.bar(rot = 45)"
   ]
  },
  {
   "cell_type": "code",
   "execution_count": 21,
   "id": "2af43d21-c038-4fd7-95be-77899f90bfc5",
   "metadata": {},
   "outputs": [
    {
     "data": {
      "text/html": [
       "<div>\n",
       "<style scoped>\n",
       "    .dataframe tbody tr th:only-of-type {\n",
       "        vertical-align: middle;\n",
       "    }\n",
       "\n",
       "    .dataframe tbody tr th {\n",
       "        vertical-align: top;\n",
       "    }\n",
       "\n",
       "    .dataframe thead tr th {\n",
       "        text-align: left;\n",
       "    }\n",
       "\n",
       "    .dataframe thead tr:last-of-type th {\n",
       "        text-align: right;\n",
       "    }\n",
       "</style>\n",
       "<table border=\"1\" class=\"dataframe\">\n",
       "  <thead>\n",
       "    <tr>\n",
       "      <th></th>\n",
       "      <th colspan=\"8\" halign=\"left\">B1</th>\n",
       "    </tr>\n",
       "    <tr>\n",
       "      <th></th>\n",
       "      <th>count</th>\n",
       "      <th>mean</th>\n",
       "      <th>std</th>\n",
       "      <th>min</th>\n",
       "      <th>25%</th>\n",
       "      <th>50%</th>\n",
       "      <th>75%</th>\n",
       "      <th>max</th>\n",
       "    </tr>\n",
       "    <tr>\n",
       "      <th>AGE</th>\n",
       "      <th></th>\n",
       "      <th></th>\n",
       "      <th></th>\n",
       "      <th></th>\n",
       "      <th></th>\n",
       "      <th></th>\n",
       "      <th></th>\n",
       "      <th></th>\n",
       "    </tr>\n",
       "  </thead>\n",
       "  <tbody>\n",
       "    <tr>\n",
       "      <th>Age &lt; 30</th>\n",
       "      <td>5931.0</td>\n",
       "      <td>43150.034733</td>\n",
       "      <td>57167.000882</td>\n",
       "      <td>-69777.0</td>\n",
       "      <td>5079.5</td>\n",
       "      <td>22781.0</td>\n",
       "      <td>56359.0</td>\n",
       "      <td>524555.0</td>\n",
       "    </tr>\n",
       "    <tr>\n",
       "      <th>Age 30-59</th>\n",
       "      <td>12629.0</td>\n",
       "      <td>52921.201204</td>\n",
       "      <td>77039.948556</td>\n",
       "      <td>-67526.0</td>\n",
       "      <td>2500.0</td>\n",
       "      <td>20669.0</td>\n",
       "      <td>70193.0</td>\n",
       "      <td>743970.0</td>\n",
       "    </tr>\n",
       "    <tr>\n",
       "      <th>Age 60+</th>\n",
       "      <td>199.0</td>\n",
       "      <td>68248.793970</td>\n",
       "      <td>107039.640300</td>\n",
       "      <td>-200.0</td>\n",
       "      <td>1576.0</td>\n",
       "      <td>19647.0</td>\n",
       "      <td>80590.5</td>\n",
       "      <td>577681.0</td>\n",
       "    </tr>\n",
       "  </tbody>\n",
       "</table>\n",
       "</div>"
      ],
      "text/plain": [
       "                B1                                                         \\\n",
       "             count          mean            std      min     25%      50%   \n",
       "AGE                                                                         \n",
       "Age < 30    5931.0  43150.034733   57167.000882 -69777.0  5079.5  22781.0   \n",
       "Age 30-59  12629.0  52921.201204   77039.948556 -67526.0  2500.0  20669.0   \n",
       "Age 60+      199.0  68248.793970  107039.640300   -200.0  1576.0  19647.0   \n",
       "\n",
       "                              \n",
       "               75%       max  \n",
       "AGE                           \n",
       "Age < 30   56359.0  524555.0  \n",
       "Age 30-59  70193.0  743970.0  \n",
       "Age 60+    80590.5  577681.0  "
      ]
     },
     "execution_count": 21,
     "metadata": {},
     "output_type": "execute_result"
    }
   ],
   "source": [
    "df_visualisation[['AGE', 'B1']].groupby('AGE').describe()"
   ]
  },
  {
   "cell_type": "markdown",
   "id": "4005c7b1-e587-45c2-aeaf-502f24f2de05",
   "metadata": {},
   "source": [
    "Surprisingly, the distribution of 'B1' (Billable for most recent month) is similar. It is noteworthy that for the Age < 30 group, the 50-75 percentile and 75-100 percentile are slightly lower than the other 2 groups. This could point to the possibility that the lowest Age group has lowest potential to spend highly. Likewise, the Age 30-59 has the highest 75-100 percentile value as this group is most likely at the peak of their career and has the highest income power to spend."
   ]
  },
  {
   "cell_type": "markdown",
   "id": "70e113fe-7f48-455b-bfa9-3b80fa2cd1eb",
   "metadata": {},
   "source": [
    "#### Insight (5): Credit, Limit against Age, Education Distribution"
   ]
  },
  {
   "cell_type": "code",
   "execution_count": 22,
   "id": "6e7a5d63-fd78-43c7-8efb-1b31acce4528",
   "metadata": {},
   "outputs": [
    {
     "data": {
      "text/plain": [
       "<AxesSubplot:xlabel='AGE,EDUCATION'>"
      ]
     },
     "execution_count": 22,
     "metadata": {},
     "output_type": "execute_result"
    },
    {
     "data": {
      "image/png": "[encoded data removed]",
      "text/plain": [
       "<Figure size 432x288 with 1 Axes>"
      ]
     },
     "metadata": {
      "needs_background": "light"
     },
     "output_type": "display_data"
    }
   ],
   "source": [
    "df_visualisation[['EDUCATION', 'AGE', 'INCOME', 'LIMIT']].groupby(['AGE', 'EDUCATION']).agg(['mean']).plot.bar(rot = 85)"
   ]
  },
  {
   "cell_type": "markdown",
   "id": "1ab4f10f-0a24-4427-8060-9d653e3180dd",
   "metadata": {},
   "source": [
    "From the 3 Age groups, we can see that Limit and Income correlates with the level of Education. As one progresses with higher Education, the Income level, and correspondingly Limit, increases.\n",
    "\n",
    "There is an outlier in the Age 60+ group where those with 'Others' Education seems to outperform other Educational level. \n",
    "\n",
    "Likewise, generally for all Age groups, Income and Credit correlates with Age group. "
   ]
  },
  {
   "cell_type": "markdown",
   "id": "c7ff868b-b82f-4852-a6e1-44432c4d6ed1",
   "metadata": {},
   "source": [
    "#### Insight (6): Credit, Limit against Age, Gender Distribution"
   ]
  },
  {
   "cell_type": "code",
   "execution_count": 23,
   "id": "787fa79f-a30c-41a2-98e2-fd739ff32362",
   "metadata": {},
   "outputs": [
    {
     "data": {
      "text/plain": [
       "<AxesSubplot:xlabel='AGE,GENDER'>"
      ]
     },
     "execution_count": 23,
     "metadata": {},
     "output_type": "execute_result"
    },
    {
     "data": {
      "image/png": "[encoded data removed]",
      "text/plain": [
       "<Figure size 432x288 with 1 Axes>"
      ]
     },
     "metadata": {
      "needs_background": "light"
     },
     "output_type": "display_data"
    }
   ],
   "source": [
    "df_visualisation[['GENDER', 'AGE', 'INCOME', 'LIMIT']].groupby(['AGE', 'GENDER']).agg(['mean']).plot.bar(rot = 75)"
   ]
  },
  {
   "cell_type": "markdown",
   "id": "639bfcd7-249e-4d6d-8979-cc57823d1c89",
   "metadata": {},
   "source": [
    "There is no strong accosiation between Gender and Income/Limit. This shows that there is no detectable gender discrimination over here."
   ]
  },
  {
   "cell_type": "markdown",
   "id": "af589ef4-ae8e-43af-a7a9-027b670d7a61",
   "metadata": {},
   "source": [
    "## Question 4: Linear Regression Prediction & Approach"
   ]
  },
  {
   "cell_type": "markdown",
   "id": "78b146d9-e732-42b1-b388-30cbef06d7f0",
   "metadata": {},
   "source": [
    "#### Task 1: Data Transformation (Standardization)"
   ]
  },
  {
   "cell_type": "code",
   "execution_count": 24,
   "id": "6b6b2b33-7da0-4e95-aca9-0006be1f007b",
   "metadata": {},
   "outputs": [],
   "source": [
    "# Scale for numeric x var\n",
    "col_names_x_to_be_scaled =  ['LIMIT', 'BALANCE', 'INCOME', 'RATING', 'GENDER', 'B2', 'B3', 'B4', 'B5', 'R1', 'R2', 'R3', 'R4', 'R5', 'AGE_Age < 30', 'AGE_Age 30-59', 'AGE_Age 60+', 'EDUCATION_High School', 'EDUCATION_Others', 'EDUCATION_Postgraudate', 'EDUCATION_Tertiary', 'MARITAL_Married', 'MARITAL_Others', 'MARITAL_Single', 'S1_Prompt Payment', 'S1_Minimum Payment', 'S1_Late Payment', 'S2_Prompt Payment', 'S2_Minimum Payment', 'S2_Late Payment', 'S3_Prompt Payment', 'S3_Minimum Payment', 'S3_Late Payment', 'S4_Prompt Payment', 'S4_Minimum Payment', 'S4_Late Payment', 'S5_Prompt Payment', 'S5_Minimum Payment', 'S5_Late Payment']\n",
    "features_x = df_model[col_names_x_to_be_scaled]\n",
    "scaler_x = StandardScaler().fit(features_x.values)\n",
    "features_x = scaler_x.transform(features_x.values)\n",
    "df_model[col_names_x_to_be_scaled] = features_x"
   ]
  },
  {
   "cell_type": "markdown",
   "id": "30cf0cce-af93-4cae-a47b-69ea9a8e226c",
   "metadata": {},
   "source": [
    "Standardisation is applied here across the numeric variables to centralise the values around mean 0. This transform the distribution into a Gaussian distribution, which in this case is necessary as linear regression will assume a Gaussian distribution for its underlying data."
   ]
  },
  {
   "cell_type": "markdown",
   "id": "b763addc-eeee-4412-97d7-3c8302b18be3",
   "metadata": {},
   "source": [
    "#### Task 2: Split Dataset into Training and Testing"
   ]
  },
  {
   "cell_type": "code",
   "execution_count": 25,
   "id": "dc62a552-23be-4be6-92ab-5482068d9964",
   "metadata": {},
   "outputs": [],
   "source": [
    "X_train, X_test, y_train, y_test = train_test_split(df_model.drop(columns = y_var), df_model[y_var], test_size = 0.3, random_state = 2022)"
   ]
  },
  {
   "cell_type": "markdown",
   "id": "e2ac0b16-00cb-4133-b9a3-f4aee0e7d9c2",
   "metadata": {},
   "source": [
    "Data is split into 70% training data and 30% testing data. We use 30% as we need enough data in testing data to make sure that the model does not overfit.\n",
    "\n",
    "Overfitting is when too much training data is used and cannot generalise well to the entire dataset."
   ]
  },
  {
   "cell_type": "markdown",
   "id": "4022ad46-2222-4bad-8db4-b81ef7205aeb",
   "metadata": {},
   "source": [
    "#### Performing linear Regression using sklearn's LinearRegression"
   ]
  },
  {
   "cell_type": "code",
   "execution_count": 26,
   "id": "7f594626-143a-4164-b631-9c5be4aeff8c",
   "metadata": {},
   "outputs": [
    {
     "data": {
      "text/html": [
       "<style>#sk-container-id-1 {color: black;background-color: white;}#sk-container-id-1 pre{padding: 0;}#sk-container-id-1 div.sk-toggleable {background-color: white;}#sk-container-id-1 label.sk-toggleable__label {cursor: pointer;display: block;width: 100%;margin-bottom: 0;padding: 0.3em;box-sizing: border-box;text-align: center;}#sk-container-id-1 label.sk-toggleable__label-arrow:before {content: \"▸\";float: left;margin-right: 0.25em;color: #696969;}#sk-container-id-1 label.sk-toggleable__label-arrow:hover:before {color: black;}#sk-container-id-1 div.sk-estimator:hover label.sk-toggleable__label-arrow:before {color: black;}#sk-container-id-1 div.sk-toggleable__content {max-height: 0;max-width: 0;overflow: hidden;text-align: left;background-color: #f0f8ff;}#sk-container-id-1 div.sk-toggleable__content pre {margin: 0.2em;color: black;border-radius: 0.25em;background-color: #f0f8ff;}#sk-container-id-1 input.sk-toggleable__control:checked~div.sk-toggleable__content {max-height: 200px;max-width: 100%;overflow: auto;}#sk-container-id-1 input.sk-toggleable__control:checked~label.sk-toggleable__label-arrow:before {content: \"▾\";}#sk-container-id-1 div.sk-estimator input.sk-toggleable__control:checked~label.sk-toggleable__label {background-color: #d4ebff;}#sk-container-id-1 div.sk-label input.sk-toggleable__control:checked~label.sk-toggleable__label {background-color: #d4ebff;}#sk-container-id-1 input.sk-hidden--visually {border: 0;clip: rect(1px 1px 1px 1px);clip: rect(1px, 1px, 1px, 1px);height: 1px;margin: -1px;overflow: hidden;padding: 0;position: absolute;width: 1px;}#sk-container-id-1 div.sk-estimator {font-family: monospace;background-color: #f0f8ff;border: 1px dotted black;border-radius: 0.25em;box-sizing: border-box;margin-bottom: 0.5em;}#sk-container-id-1 div.sk-estimator:hover {background-color: #d4ebff;}#sk-container-id-1 div.sk-parallel-item::after {content: \"\";width: 100%;border-bottom: 1px solid gray;flex-grow: 1;}#sk-container-id-1 div.sk-label:hover label.sk-toggleable__label {background-color: #d4ebff;}#sk-container-id-1 div.sk-serial::before {content: \"\";position: absolute;border-left: 1px solid gray;box-sizing: border-box;top: 0;bottom: 0;left: 50%;z-index: 0;}#sk-container-id-1 div.sk-serial {display: flex;flex-direction: column;align-items: center;background-color: white;padding-right: 0.2em;padding-left: 0.2em;position: relative;}#sk-container-id-1 div.sk-item {position: relative;z-index: 1;}#sk-container-id-1 div.sk-parallel {display: flex;align-items: stretch;justify-content: center;background-color: white;position: relative;}#sk-container-id-1 div.sk-item::before, #sk-container-id-1 div.sk-parallel-item::before {content: \"\";position: absolute;border-left: 1px solid gray;box-sizing: border-box;top: 0;bottom: 0;left: 50%;z-index: -1;}#sk-container-id-1 div.sk-parallel-item {display: flex;flex-direction: column;z-index: 1;position: relative;background-color: white;}#sk-container-id-1 div.sk-parallel-item:first-child::after {align-self: flex-end;width: 50%;}#sk-container-id-1 div.sk-parallel-item:last-child::after {align-self: flex-start;width: 50%;}#sk-container-id-1 div.sk-parallel-item:only-child::after {width: 0;}#sk-container-id-1 div.sk-dashed-wrapped {border: 1px dashed gray;margin: 0 0.4em 0.5em 0.4em;box-sizing: border-box;padding-bottom: 0.4em;background-color: white;}#sk-container-id-1 div.sk-label label {font-family: monospace;font-weight: bold;display: inline-block;line-height: 1.2em;}#sk-container-id-1 div.sk-label-container {text-align: center;}#sk-container-id-1 div.sk-container {/* jupyter's `normalize.less` sets `[hidden] { display: none; }` but bootstrap.min.css set `[hidden] { display: none !important; }` so we also need the `!important` here to be able to override the default hidden behavior on the sphinx rendered scikit-learn.org. See: https://github.com/scikit-learn/scikit-learn/issues/21755 */display: inline-block !important;position: relative;}#sk-container-id-1 div.sk-text-repr-fallback {display: none;}</style><div id=\"sk-container-id-1\" class=\"sk-top-container\"><div class=\"sk-text-repr-fallback\"><pre>LinearRegression()</pre><b>In a Jupyter environment, please rerun this cell to show the HTML representation or trust the notebook. <br />On GitHub, the HTML representation is unable to render, please try loading this page with nbviewer.org.</b></div><div class=\"sk-container\" hidden><div class=\"sk-item\"><div class=\"sk-estimator sk-toggleable\"><input class=\"sk-toggleable__control sk-hidden--visually\" id=\"sk-estimator-id-1\" type=\"checkbox\" checked><label for=\"sk-estimator-id-1\" class=\"sk-toggleable__label sk-toggleable__label-arrow\">LinearRegression</label><div class=\"sk-toggleable__content\"><pre>LinearRegression()</pre></div></div></div></div></div>"
      ],
      "text/plain": [
       "LinearRegression()"
      ]
     },
     "execution_count": 26,
     "metadata": {},
     "output_type": "execute_result"
    }
   ],
   "source": [
    "# We fit the training data to the linear regression model.\n",
    "lin_reg = LinearRegression()\n",
    "lin_reg.fit(X_train, y_train)"
   ]
  },
  {
   "cell_type": "code",
   "execution_count": 27,
   "id": "feebc23c-b6ef-45eb-a2df-359bdf240be5",
   "metadata": {},
   "outputs": [
    {
     "data": {
      "text/plain": [
       "0.9474484658137048"
      ]
     },
     "execution_count": 27,
     "metadata": {},
     "output_type": "execute_result"
    }
   ],
   "source": [
    "lin_reg.score(X_test, y_test)"
   ]
  },
  {
   "cell_type": "markdown",
   "id": "7d6e0eae-9a4f-4be0-9fee-b8d233f6016f",
   "metadata": {},
   "source": [
    "The $R^2$ Coefficient is 0.9365. This means 93.65% of the variance is explained by the model."
   ]
  },
  {
   "cell_type": "code",
   "execution_count": 28,
   "id": "7579814a-016b-429f-94da-b46960357de4",
   "metadata": {},
   "outputs": [],
   "source": [
    "evaluation = lin_reg.predict(X_test)"
   ]
  },
  {
   "cell_type": "code",
   "execution_count": 29,
   "id": "c9b2e3df-9fb2-4268-8034-32105528c188",
   "metadata": {},
   "outputs": [
    {
     "data": {
      "text/plain": [
       "15969.06130584739"
      ]
     },
     "execution_count": 29,
     "metadata": {},
     "output_type": "execute_result"
    }
   ],
   "source": [
    "# Getting the Root Mean Squared Error (RSME) of the model\n",
    "#y_true = scaler_y.inverse_transform(y_test)\n",
    "#y_pred = scaler_y.inverse_transform(evaluation)\n",
    "#mean_squared_error(y_true, y_pred, squared = False)\n",
    "mean_squared_error(y_test, evaluation, squared = False)"
   ]
  },
  {
   "cell_type": "markdown",
   "id": "a93b888f-0f14-46b9-aa9c-8bae7d58ddc7",
   "metadata": {},
   "source": [
    "The Root Mean Squared Error (RSME) of the linear regression model is 15936."
   ]
  },
  {
   "cell_type": "markdown",
   "id": "33caea49-fde4-47f8-a5c3-0185be91d164",
   "metadata": {},
   "source": [
    "## Question 5: Linear Regression Equation and Insights"
   ]
  },
  {
   "cell_type": "code",
   "execution_count": 30,
   "id": "c3d28346-6fa1-493b-86ca-d58c2f57e313",
   "metadata": {},
   "outputs": [],
   "source": [
    "np.set_printoptions(suppress=True)"
   ]
  },
  {
   "cell_type": "code",
   "execution_count": 31,
   "id": "e1846ca6-4430-4ca8-91d9-e06278de9089",
   "metadata": {},
   "outputs": [
    {
     "name": "stdout",
     "output_type": "stream",
     "text": [
      "intercept: 50057.34402234574\n"
     ]
    }
   ],
   "source": [
    "print(f\"intercept: {lin_reg.intercept_[0]}\")"
   ]
  },
  {
   "cell_type": "code",
   "execution_count": 32,
   "id": "6de83066-2ae6-4b08-92bd-a039dc5a53a8",
   "metadata": {},
   "outputs": [
    {
     "name": "stdout",
     "output_type": "stream",
     "text": [
      "LIMIT: 2052.229449205921\n",
      "BALANCE: 33312.20290966468\n",
      "INCOME: -2052.742926135905\n",
      "RATING: 60.742237079167815\n",
      "GENDER: -11.664803537141998\n",
      "B2: 39286.011718813716\n",
      "B3: -837.8461098412108\n",
      "B4: -1279.1298245872676\n",
      "B5: 2156.9611823909\n",
      "R1: -6529.968311186207\n",
      "R2: 3294.8366844217803\n",
      "R3: 537.3605209842912\n",
      "R4: -863.3494235620841\n",
      "R5: -110.97405153625506\n",
      "AGE_Age < 30: -741132279530599.0\n",
      "AGE_Age 30-59: -747596071096583.6\n",
      "AGE_Age 60+: -163293093124255.5\n",
      "EDUCATION_High School: -892021790900175.2\n",
      "EDUCATION_Others: -322081001642115.2\n",
      "EDUCATION_Postgraudate: -1133521013320019.2\n",
      "EDUCATION_Tertiary: -1193398151747036.8\n",
      "MARITAL_Married: 266830655011886.0\n",
      "MARITAL_Others: 58415675042377.32\n",
      "MARITAL_Single: 266441855508267.47\n",
      "S1_Prompt Payment: -593515482135648.1\n",
      "S1_Minimum Payment: -714228126759588.9\n",
      "S1_Late Payment: -536318702935831.7\n",
      "S2_Prompt Payment: 907153464174390.0\n",
      "S2_Minimum Payment: 1089183237813602.8\n",
      "S2_Late Payment: 804059809223195.9\n",
      "S3_Prompt Payment: -1239982210992850.0\n",
      "S3_Minimum Payment: -1477372059459107.5\n",
      "S3_Late Payment: -1056160861758014.8\n",
      "S4_Prompt Payment: -1392486912545409.2\n",
      "S4_Minimum Payment: -1626066004007112.8\n",
      "S4_Late Payment: -1077853951396450.0\n",
      "S5_Prompt Payment: 254181966317014.1\n",
      "S5_Minimum Payment: 296958769368086.4\n",
      "S5_Late Payment: 196605134292972.3\n"
     ]
    }
   ],
   "source": [
    "for names, coef in zip(X_train.columns, lin_reg.coef_[0]):\n",
    "    print(f'{names}: {coef}')"
   ]
  },
  {
   "cell_type": "markdown",
   "id": "30912441-f084-43ec-a5ff-ab32be98e55e",
   "metadata": {},
   "source": [
    "From the coefficient, some of the biggest contributers to the linear regression model are: \n",
    "* Age\n",
    "* Education\n",
    "* Marital\n",
    "* S(n)\n",
    "\n",
    "This can be inferred from the large differences between each of the dummy variables. If the difference is large, it shows that there is a larger influence on the outcome (B1)."
   ]
  }
 ],
 "metadata": {
  "kernelspec": {
   "display_name": "Python 3 (ipykernel)",
   "language": "python",
   "name": "python3"
  },
  "language_info": {
   "codemirror_mode": {
    "name": "ipython",
    "version": 3
   },
   "file_extension": ".py",
   "mimetype": "text/x-python",
   "name": "python",
   "nbconvert_exporter": "python",
   "pygments_lexer": "ipython3",
   "version": "3.9.12"
  }
 },
 "nbformat": 4,
 "nbformat_minor": 5
}
