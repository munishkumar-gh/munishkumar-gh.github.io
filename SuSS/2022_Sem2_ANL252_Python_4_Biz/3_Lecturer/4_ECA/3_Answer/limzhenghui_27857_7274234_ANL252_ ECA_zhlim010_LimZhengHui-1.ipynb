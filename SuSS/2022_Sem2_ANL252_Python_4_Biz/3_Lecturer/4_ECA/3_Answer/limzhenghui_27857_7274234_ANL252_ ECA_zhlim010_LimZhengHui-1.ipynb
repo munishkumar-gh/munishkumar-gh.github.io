{
 "cells": [
  {
   "cell_type": "code",
   "execution_count": 1,
   "id": "f3d38c35",
   "metadata": {},
   "outputs": [],
   "source": [
    "# importing required libraries\n",
    "import pandas as pd\n",
    "import numpy as np\n",
    "from matplotlib import pyplot as plt"
   ]
  },
  {
   "cell_type": "code",
   "execution_count": 2,
   "id": "b8ea9574",
   "metadata": {},
   "outputs": [
    {
     "data": {
      "text/html": [
       "<div>\n",
       "<style scoped>\n",
       "    .dataframe tbody tr th:only-of-type {\n",
       "        vertical-align: middle;\n",
       "    }\n",
       "\n",
       "    .dataframe tbody tr th {\n",
       "        vertical-align: top;\n",
       "    }\n",
       "\n",
       "    .dataframe thead th {\n",
       "        text-align: right;\n",
       "    }\n",
       "</style>\n",
       "<table border=\"1\" class=\"dataframe\">\n",
       "  <thead>\n",
       "    <tr style=\"text-align: right;\">\n",
       "      <th></th>\n",
       "      <th>ID</th>\n",
       "      <th>LIMIT</th>\n",
       "      <th>BALANCE</th>\n",
       "      <th>INCOME</th>\n",
       "      <th>RATING</th>\n",
       "      <th>GENDER</th>\n",
       "      <th>EDUCATION</th>\n",
       "      <th>MARITAL</th>\n",
       "      <th>AGE</th>\n",
       "      <th>S1</th>\n",
       "      <th>...</th>\n",
       "      <th>B1</th>\n",
       "      <th>B2</th>\n",
       "      <th>B3</th>\n",
       "      <th>B4</th>\n",
       "      <th>B5</th>\n",
       "      <th>R1</th>\n",
       "      <th>R2</th>\n",
       "      <th>R3</th>\n",
       "      <th>R4</th>\n",
       "      <th>R5</th>\n",
       "    </tr>\n",
       "  </thead>\n",
       "  <tbody>\n",
       "    <tr>\n",
       "      <th>0</th>\n",
       "      <td>1</td>\n",
       "      <td>210000</td>\n",
       "      <td>0.00</td>\n",
       "      <td>235822</td>\n",
       "      <td>1</td>\n",
       "      <td>1</td>\n",
       "      <td>1.0</td>\n",
       "      <td>2.0</td>\n",
       "      <td>30</td>\n",
       "      <td>0</td>\n",
       "      <td>...</td>\n",
       "      <td>0</td>\n",
       "      <td>0</td>\n",
       "      <td>0</td>\n",
       "      <td>0</td>\n",
       "      <td>0</td>\n",
       "      <td>0</td>\n",
       "      <td>0</td>\n",
       "      <td>0</td>\n",
       "      <td>0</td>\n",
       "      <td>0</td>\n",
       "    </tr>\n",
       "    <tr>\n",
       "      <th>1</th>\n",
       "      <td>2</td>\n",
       "      <td>260000</td>\n",
       "      <td>10928.05</td>\n",
       "      <td>278481</td>\n",
       "      <td>0</td>\n",
       "      <td>0</td>\n",
       "      <td>2.0</td>\n",
       "      <td>2.0</td>\n",
       "      <td>31</td>\n",
       "      <td>0</td>\n",
       "      <td>...</td>\n",
       "      <td>54074</td>\n",
       "      <td>46407</td>\n",
       "      <td>38874</td>\n",
       "      <td>31324</td>\n",
       "      <td>24031</td>\n",
       "      <td>2000</td>\n",
       "      <td>2000</td>\n",
       "      <td>2000</td>\n",
       "      <td>2000</td>\n",
       "      <td>72000</td>\n",
       "    </tr>\n",
       "    <tr>\n",
       "      <th>2</th>\n",
       "      <td>3</td>\n",
       "      <td>400000</td>\n",
       "      <td>65397.85</td>\n",
       "      <td>431993</td>\n",
       "      <td>0</td>\n",
       "      <td>0</td>\n",
       "      <td>3.0</td>\n",
       "      <td>1.0</td>\n",
       "      <td>51</td>\n",
       "      <td>0</td>\n",
       "      <td>...</td>\n",
       "      <td>343591</td>\n",
       "      <td>352484</td>\n",
       "      <td>338823</td>\n",
       "      <td>283288</td>\n",
       "      <td>185288</td>\n",
       "      <td>15000</td>\n",
       "      <td>14000</td>\n",
       "      <td>11500</td>\n",
       "      <td>8000</td>\n",
       "      <td>7000</td>\n",
       "    </tr>\n",
       "    <tr>\n",
       "      <th>3</th>\n",
       "      <td>4</td>\n",
       "      <td>20000</td>\n",
       "      <td>3695.30</td>\n",
       "      <td>22368</td>\n",
       "      <td>0</td>\n",
       "      <td>0</td>\n",
       "      <td>2.0</td>\n",
       "      <td>1.0</td>\n",
       "      <td>58</td>\n",
       "      <td>-1</td>\n",
       "      <td>...</td>\n",
       "      <td>21470</td>\n",
       "      <td>200</td>\n",
       "      <td>0</td>\n",
       "      <td>28740</td>\n",
       "      <td>1295</td>\n",
       "      <td>0</td>\n",
       "      <td>0</td>\n",
       "      <td>28740</td>\n",
       "      <td>1565</td>\n",
       "      <td>0</td>\n",
       "    </tr>\n",
       "    <tr>\n",
       "      <th>4</th>\n",
       "      <td>5</td>\n",
       "      <td>180000</td>\n",
       "      <td>68.25</td>\n",
       "      <td>166900</td>\n",
       "      <td>0</td>\n",
       "      <td>1</td>\n",
       "      <td>2.0</td>\n",
       "      <td>1.0</td>\n",
       "      <td>42</td>\n",
       "      <td>0</td>\n",
       "      <td>...</td>\n",
       "      <td>1260</td>\n",
       "      <td>598</td>\n",
       "      <td>2056</td>\n",
       "      <td>4300</td>\n",
       "      <td>1802</td>\n",
       "      <td>598</td>\n",
       "      <td>2056</td>\n",
       "      <td>4300</td>\n",
       "      <td>1802</td>\n",
       "      <td>3691</td>\n",
       "    </tr>\n",
       "  </tbody>\n",
       "</table>\n",
       "<p>5 rows × 24 columns</p>\n",
       "</div>"
      ],
      "text/plain": [
       "   ID   LIMIT   BALANCE  INCOME  RATING  GENDER  EDUCATION  MARITAL  AGE  S1  \\\n",
       "0   1  210000      0.00  235822       1       1        1.0      2.0   30   0   \n",
       "1   2  260000  10928.05  278481       0       0        2.0      2.0   31   0   \n",
       "2   3  400000  65397.85  431993       0       0        3.0      1.0   51   0   \n",
       "3   4   20000   3695.30   22368       0       0        2.0      1.0   58  -1   \n",
       "4   5  180000     68.25  166900       0       1        2.0      1.0   42   0   \n",
       "\n",
       "   ...      B1      B2      B3      B4      B5     R1     R2     R3    R4  \\\n",
       "0  ...       0       0       0       0       0      0      0      0     0   \n",
       "1  ...   54074   46407   38874   31324   24031   2000   2000   2000  2000   \n",
       "2  ...  343591  352484  338823  283288  185288  15000  14000  11500  8000   \n",
       "3  ...   21470     200       0   28740    1295      0      0  28740  1565   \n",
       "4  ...    1260     598    2056    4300    1802    598   2056   4300  1802   \n",
       "\n",
       "      R5  \n",
       "0      0  \n",
       "1  72000  \n",
       "2   7000  \n",
       "3      0  \n",
       "4   3691  \n",
       "\n",
       "[5 rows x 24 columns]"
      ]
     },
     "execution_count": 2,
     "metadata": {},
     "output_type": "execute_result"
    }
   ],
   "source": [
    "# read data from csv file into pandas dataframe \n",
    "data_f = pd.read_csv( \"ECA_data.csv\")\n",
    "data_f.head()"
   ]
  },
  {
   "cell_type": "code",
   "execution_count": 3,
   "id": "87459a1d",
   "metadata": {},
   "outputs": [
    {
     "data": {
      "text/html": [
       "<div>\n",
       "<style scoped>\n",
       "    .dataframe tbody tr th:only-of-type {\n",
       "        vertical-align: middle;\n",
       "    }\n",
       "\n",
       "    .dataframe tbody tr th {\n",
       "        vertical-align: top;\n",
       "    }\n",
       "\n",
       "    .dataframe thead th {\n",
       "        text-align: right;\n",
       "    }\n",
       "</style>\n",
       "<table border=\"1\" class=\"dataframe\">\n",
       "  <thead>\n",
       "    <tr style=\"text-align: right;\">\n",
       "      <th></th>\n",
       "      <th>ID</th>\n",
       "      <th>LIMIT</th>\n",
       "      <th>BALANCE</th>\n",
       "      <th>INCOME</th>\n",
       "      <th>RATING</th>\n",
       "      <th>GENDER</th>\n",
       "      <th>EDUCATION</th>\n",
       "      <th>MARITAL</th>\n",
       "      <th>AGE</th>\n",
       "      <th>S1</th>\n",
       "      <th>...</th>\n",
       "      <th>B1</th>\n",
       "      <th>B2</th>\n",
       "      <th>B3</th>\n",
       "      <th>B4</th>\n",
       "      <th>B5</th>\n",
       "      <th>R1</th>\n",
       "      <th>R2</th>\n",
       "      <th>R3</th>\n",
       "      <th>R4</th>\n",
       "      <th>R5</th>\n",
       "    </tr>\n",
       "  </thead>\n",
       "  <tbody>\n",
       "    <tr>\n",
       "      <th>0</th>\n",
       "      <td>False</td>\n",
       "      <td>False</td>\n",
       "      <td>False</td>\n",
       "      <td>False</td>\n",
       "      <td>False</td>\n",
       "      <td>False</td>\n",
       "      <td>False</td>\n",
       "      <td>False</td>\n",
       "      <td>False</td>\n",
       "      <td>False</td>\n",
       "      <td>...</td>\n",
       "      <td>False</td>\n",
       "      <td>False</td>\n",
       "      <td>False</td>\n",
       "      <td>False</td>\n",
       "      <td>False</td>\n",
       "      <td>False</td>\n",
       "      <td>False</td>\n",
       "      <td>False</td>\n",
       "      <td>False</td>\n",
       "      <td>False</td>\n",
       "    </tr>\n",
       "    <tr>\n",
       "      <th>1</th>\n",
       "      <td>False</td>\n",
       "      <td>False</td>\n",
       "      <td>False</td>\n",
       "      <td>False</td>\n",
       "      <td>False</td>\n",
       "      <td>False</td>\n",
       "      <td>False</td>\n",
       "      <td>False</td>\n",
       "      <td>False</td>\n",
       "      <td>False</td>\n",
       "      <td>...</td>\n",
       "      <td>False</td>\n",
       "      <td>False</td>\n",
       "      <td>False</td>\n",
       "      <td>False</td>\n",
       "      <td>False</td>\n",
       "      <td>False</td>\n",
       "      <td>False</td>\n",
       "      <td>False</td>\n",
       "      <td>False</td>\n",
       "      <td>False</td>\n",
       "    </tr>\n",
       "    <tr>\n",
       "      <th>2</th>\n",
       "      <td>False</td>\n",
       "      <td>False</td>\n",
       "      <td>False</td>\n",
       "      <td>False</td>\n",
       "      <td>False</td>\n",
       "      <td>False</td>\n",
       "      <td>False</td>\n",
       "      <td>False</td>\n",
       "      <td>False</td>\n",
       "      <td>False</td>\n",
       "      <td>...</td>\n",
       "      <td>False</td>\n",
       "      <td>False</td>\n",
       "      <td>False</td>\n",
       "      <td>False</td>\n",
       "      <td>False</td>\n",
       "      <td>False</td>\n",
       "      <td>False</td>\n",
       "      <td>False</td>\n",
       "      <td>False</td>\n",
       "      <td>False</td>\n",
       "    </tr>\n",
       "    <tr>\n",
       "      <th>3</th>\n",
       "      <td>False</td>\n",
       "      <td>False</td>\n",
       "      <td>False</td>\n",
       "      <td>False</td>\n",
       "      <td>False</td>\n",
       "      <td>False</td>\n",
       "      <td>False</td>\n",
       "      <td>False</td>\n",
       "      <td>False</td>\n",
       "      <td>False</td>\n",
       "      <td>...</td>\n",
       "      <td>False</td>\n",
       "      <td>False</td>\n",
       "      <td>False</td>\n",
       "      <td>False</td>\n",
       "      <td>False</td>\n",
       "      <td>False</td>\n",
       "      <td>False</td>\n",
       "      <td>False</td>\n",
       "      <td>False</td>\n",
       "      <td>False</td>\n",
       "    </tr>\n",
       "    <tr>\n",
       "      <th>4</th>\n",
       "      <td>False</td>\n",
       "      <td>False</td>\n",
       "      <td>False</td>\n",
       "      <td>False</td>\n",
       "      <td>False</td>\n",
       "      <td>False</td>\n",
       "      <td>False</td>\n",
       "      <td>False</td>\n",
       "      <td>False</td>\n",
       "      <td>False</td>\n",
       "      <td>...</td>\n",
       "      <td>False</td>\n",
       "      <td>False</td>\n",
       "      <td>False</td>\n",
       "      <td>False</td>\n",
       "      <td>False</td>\n",
       "      <td>False</td>\n",
       "      <td>False</td>\n",
       "      <td>False</td>\n",
       "      <td>False</td>\n",
       "      <td>False</td>\n",
       "    </tr>\n",
       "    <tr>\n",
       "      <th>...</th>\n",
       "      <td>...</td>\n",
       "      <td>...</td>\n",
       "      <td>...</td>\n",
       "      <td>...</td>\n",
       "      <td>...</td>\n",
       "      <td>...</td>\n",
       "      <td>...</td>\n",
       "      <td>...</td>\n",
       "      <td>...</td>\n",
       "      <td>...</td>\n",
       "      <td>...</td>\n",
       "      <td>...</td>\n",
       "      <td>...</td>\n",
       "      <td>...</td>\n",
       "      <td>...</td>\n",
       "      <td>...</td>\n",
       "      <td>...</td>\n",
       "      <td>...</td>\n",
       "      <td>...</td>\n",
       "      <td>...</td>\n",
       "      <td>...</td>\n",
       "    </tr>\n",
       "    <tr>\n",
       "      <th>18764</th>\n",
       "      <td>False</td>\n",
       "      <td>False</td>\n",
       "      <td>False</td>\n",
       "      <td>False</td>\n",
       "      <td>False</td>\n",
       "      <td>False</td>\n",
       "      <td>False</td>\n",
       "      <td>False</td>\n",
       "      <td>False</td>\n",
       "      <td>False</td>\n",
       "      <td>...</td>\n",
       "      <td>False</td>\n",
       "      <td>False</td>\n",
       "      <td>False</td>\n",
       "      <td>False</td>\n",
       "      <td>False</td>\n",
       "      <td>False</td>\n",
       "      <td>False</td>\n",
       "      <td>False</td>\n",
       "      <td>False</td>\n",
       "      <td>False</td>\n",
       "    </tr>\n",
       "    <tr>\n",
       "      <th>18765</th>\n",
       "      <td>False</td>\n",
       "      <td>False</td>\n",
       "      <td>False</td>\n",
       "      <td>False</td>\n",
       "      <td>False</td>\n",
       "      <td>False</td>\n",
       "      <td>False</td>\n",
       "      <td>False</td>\n",
       "      <td>False</td>\n",
       "      <td>False</td>\n",
       "      <td>...</td>\n",
       "      <td>False</td>\n",
       "      <td>False</td>\n",
       "      <td>False</td>\n",
       "      <td>False</td>\n",
       "      <td>False</td>\n",
       "      <td>False</td>\n",
       "      <td>False</td>\n",
       "      <td>False</td>\n",
       "      <td>False</td>\n",
       "      <td>False</td>\n",
       "    </tr>\n",
       "    <tr>\n",
       "      <th>18766</th>\n",
       "      <td>False</td>\n",
       "      <td>False</td>\n",
       "      <td>False</td>\n",
       "      <td>False</td>\n",
       "      <td>False</td>\n",
       "      <td>False</td>\n",
       "      <td>False</td>\n",
       "      <td>False</td>\n",
       "      <td>False</td>\n",
       "      <td>False</td>\n",
       "      <td>...</td>\n",
       "      <td>False</td>\n",
       "      <td>False</td>\n",
       "      <td>False</td>\n",
       "      <td>False</td>\n",
       "      <td>False</td>\n",
       "      <td>False</td>\n",
       "      <td>False</td>\n",
       "      <td>False</td>\n",
       "      <td>False</td>\n",
       "      <td>False</td>\n",
       "    </tr>\n",
       "    <tr>\n",
       "      <th>18767</th>\n",
       "      <td>False</td>\n",
       "      <td>False</td>\n",
       "      <td>False</td>\n",
       "      <td>False</td>\n",
       "      <td>False</td>\n",
       "      <td>False</td>\n",
       "      <td>False</td>\n",
       "      <td>False</td>\n",
       "      <td>False</td>\n",
       "      <td>False</td>\n",
       "      <td>...</td>\n",
       "      <td>False</td>\n",
       "      <td>False</td>\n",
       "      <td>False</td>\n",
       "      <td>False</td>\n",
       "      <td>False</td>\n",
       "      <td>False</td>\n",
       "      <td>False</td>\n",
       "      <td>False</td>\n",
       "      <td>False</td>\n",
       "      <td>False</td>\n",
       "    </tr>\n",
       "    <tr>\n",
       "      <th>18768</th>\n",
       "      <td>False</td>\n",
       "      <td>False</td>\n",
       "      <td>False</td>\n",
       "      <td>False</td>\n",
       "      <td>False</td>\n",
       "      <td>False</td>\n",
       "      <td>False</td>\n",
       "      <td>False</td>\n",
       "      <td>False</td>\n",
       "      <td>False</td>\n",
       "      <td>...</td>\n",
       "      <td>False</td>\n",
       "      <td>False</td>\n",
       "      <td>False</td>\n",
       "      <td>False</td>\n",
       "      <td>False</td>\n",
       "      <td>False</td>\n",
       "      <td>False</td>\n",
       "      <td>False</td>\n",
       "      <td>False</td>\n",
       "      <td>False</td>\n",
       "    </tr>\n",
       "  </tbody>\n",
       "</table>\n",
       "<p>18769 rows × 24 columns</p>\n",
       "</div>"
      ],
      "text/plain": [
       "          ID  LIMIT  BALANCE  INCOME  RATING  GENDER  EDUCATION  MARITAL  \\\n",
       "0      False  False    False   False   False   False      False    False   \n",
       "1      False  False    False   False   False   False      False    False   \n",
       "2      False  False    False   False   False   False      False    False   \n",
       "3      False  False    False   False   False   False      False    False   \n",
       "4      False  False    False   False   False   False      False    False   \n",
       "...      ...    ...      ...     ...     ...     ...        ...      ...   \n",
       "18764  False  False    False   False   False   False      False    False   \n",
       "18765  False  False    False   False   False   False      False    False   \n",
       "18766  False  False    False   False   False   False      False    False   \n",
       "18767  False  False    False   False   False   False      False    False   \n",
       "18768  False  False    False   False   False   False      False    False   \n",
       "\n",
       "         AGE     S1  ...     B1     B2     B3     B4     B5     R1     R2  \\\n",
       "0      False  False  ...  False  False  False  False  False  False  False   \n",
       "1      False  False  ...  False  False  False  False  False  False  False   \n",
       "2      False  False  ...  False  False  False  False  False  False  False   \n",
       "3      False  False  ...  False  False  False  False  False  False  False   \n",
       "4      False  False  ...  False  False  False  False  False  False  False   \n",
       "...      ...    ...  ...    ...    ...    ...    ...    ...    ...    ...   \n",
       "18764  False  False  ...  False  False  False  False  False  False  False   \n",
       "18765  False  False  ...  False  False  False  False  False  False  False   \n",
       "18766  False  False  ...  False  False  False  False  False  False  False   \n",
       "18767  False  False  ...  False  False  False  False  False  False  False   \n",
       "18768  False  False  ...  False  False  False  False  False  False  False   \n",
       "\n",
       "          R3     R4     R5  \n",
       "0      False  False  False  \n",
       "1      False  False  False  \n",
       "2      False  False  False  \n",
       "3      False  False  False  \n",
       "4      False  False  False  \n",
       "...      ...    ...    ...  \n",
       "18764  False  False  False  \n",
       "18765  False  False  False  \n",
       "18766  False  False  False  \n",
       "18767  False  False  False  \n",
       "18768  False  False  False  \n",
       "\n",
       "[18769 rows x 24 columns]"
      ]
     },
     "execution_count": 3,
     "metadata": {},
     "output_type": "execute_result"
    }
   ],
   "source": [
    "# check for nan values in data\n",
    "data_f.isna()"
   ]
  },
  {
   "cell_type": "code",
   "execution_count": 4,
   "id": "3badb934",
   "metadata": {},
   "outputs": [
    {
     "data": {
      "text/plain": [
       "Index(['ID', 'LIMIT', 'BALANCE', 'INCOME', 'RATING', 'GENDER', 'EDUCATION',\n",
       "       'MARITAL', 'AGE', 'S1', 'S2', 'S3', 'S4', 'S5', 'B1', 'B2', 'B3', 'B4',\n",
       "       'B5', 'R1', 'R2', 'R3', 'R4', 'R5'],\n",
       "      dtype='object')"
      ]
     },
     "execution_count": 4,
     "metadata": {},
     "output_type": "execute_result"
    }
   ],
   "source": [
    "# for question 1 of ECA\n",
    "# categorical and numeric variables in this data\n",
    "data_f.columns"
   ]
  },
  {
   "cell_type": "code",
   "execution_count": 5,
   "id": "23a4f519",
   "metadata": {},
   "outputs": [],
   "source": [
    "# for question 3 of ECA\n",
    "# importing required library for graphs\n",
    "import seaborn as sns"
   ]
  },
  {
   "cell_type": "code",
   "execution_count": 6,
   "id": "ae26c44e",
   "metadata": {},
   "outputs": [
    {
     "data": {
      "text/plain": [
       "[Text(0.5, 1.0, 'Education Counts for each level')]"
      ]
     },
     "execution_count": 6,
     "metadata": {},
     "output_type": "execute_result"
    },
    {
     "data": {
      "image/png": "[encoded data removed]",
      "text/plain": [
       "<Figure size 432x288 with 1 Axes>"
      ]
     },
     "metadata": {
      "needs_background": "light"
     },
     "output_type": "display_data"
    }
   ],
   "source": [
    "sns.countplot(x=data_f['EDUCATION']).set(title=\"Education Counts for each level\")"
   ]
  },
  {
   "cell_type": "code",
   "execution_count": 7,
   "id": "cb4cd4b4",
   "metadata": {},
   "outputs": [
    {
     "data": {
      "text/plain": [
       "[Text(0.5, 1.0, 'Distribution of Balance wrt B1')]"
      ]
     },
     "execution_count": 7,
     "metadata": {},
     "output_type": "execute_result"
    },
    {
     "data": {
      "image/png": "[encoded data removed]",
      "text/plain": [
       "<Figure size 432x288 with 1 Axes>"
      ]
     },
     "metadata": {
      "needs_background": "light"
     },
     "output_type": "display_data"
    }
   ],
   "source": [
    "sns.scatterplot(data=data_f, x=\"BALANCE\", y=\"B1\").set(title = 'Distribution of Balance wrt B1')"
   ]
  },
  {
   "cell_type": "code",
   "execution_count": 8,
   "id": "76c96160",
   "metadata": {},
   "outputs": [
    {
     "data": {
      "text/plain": [
       "[Text(0.5, 1.0, 'MARITAL Counts')]"
      ]
     },
     "execution_count": 8,
     "metadata": {},
     "output_type": "execute_result"
    },
    {
     "data": {
      "image/png": "[encoded data removed]",
      "text/plain": [
       "<Figure size 432x288 with 1 Axes>"
      ]
     },
     "metadata": {
      "needs_background": "light"
     },
     "output_type": "display_data"
    }
   ],
   "source": [
    "sns.countplot(x=data_f['MARITAL']).set(title=\"MARITAL Counts\")"
   ]
  },
  {
   "cell_type": "code",
   "execution_count": 9,
   "id": "b61d80f7",
   "metadata": {},
   "outputs": [
    {
     "data": {
      "text/plain": [
       "[Text(0.5, 1.0, 'Limit vs B1'), Text(0.5, 0, 'Limit'), Text(0, 0.5, 'B1')]"
      ]
     },
     "execution_count": 9,
     "metadata": {},
     "output_type": "execute_result"
    },
    {
     "data": {
      "image/png": "[encoded data removed]",
      "text/plain": [
       "<Figure size 432x288 with 1 Axes>"
      ]
     },
     "metadata": {
      "needs_background": "light"
     },
     "output_type": "display_data"
    }
   ],
   "source": [
    "sns.lineplot(x=data_f['LIMIT'], y = data_f['B1']).set(title=\"Limit vs B1\" , xlabel = 'Limit' , ylabel = 'B1')"
   ]
  },
  {
   "cell_type": "code",
   "execution_count": 10,
   "id": "66b53455",
   "metadata": {},
   "outputs": [
    {
     "data": {
      "text/plain": [
       "[Text(0.5, 1.0, 'INCOME vs B1'), Text(0.5, 0, 'INCOME'), Text(0, 0.5, 'B1')]"
      ]
     },
     "execution_count": 10,
     "metadata": {},
     "output_type": "execute_result"
    },
    {
     "data": {
      "image/png": "[encoded data removed]",
      "text/plain": [
       "<Figure size 432x288 with 1 Axes>"
      ]
     },
     "metadata": {
      "needs_background": "light"
     },
     "output_type": "display_data"
    }
   ],
   "source": [
    "# showing approx normal distribution between Income and target variable B1\n",
    "sns.lineplot(x=data_f['INCOME'], y = data_f['B1']).set(title=\"INCOME vs B1\" , xlabel = 'INCOME' , ylabel = 'B1')"
   ]
  },
  {
   "cell_type": "code",
   "execution_count": 11,
   "id": "ddc3a6d7",
   "metadata": {},
   "outputs": [],
   "source": [
    "# for question 2 of ECA\n",
    "# data pre-processing: removing nan values\n",
    "data_f = data_f.dropna()"
   ]
  },
  {
   "cell_type": "code",
   "execution_count": 12,
   "id": "32905ed9",
   "metadata": {},
   "outputs": [],
   "source": [
    "# data pre-procssing: removing special characters\n",
    "data_f[\"R3\"] = (data_f[\"R3\"].map(lambda x: x.strip(\"$\").replace(\",\", \"\"))).astype('int')"
   ]
  },
  {
   "cell_type": "code",
   "execution_count": 13,
   "id": "3f509e86",
   "metadata": {},
   "outputs": [],
   "source": [
    "# data pre-processing: removing column with name ID\n",
    "data_f = data_f.drop([\"ID\"], axis=1)"
   ]
  },
  {
   "cell_type": "code",
   "execution_count": 14,
   "id": "444ec019",
   "metadata": {},
   "outputs": [],
   "source": [
    "# data pre-processing: normalization\n",
    "data_f = (data_f - data_f.min())/ (data_f.max() - data_f.min())"
   ]
  },
  {
   "cell_type": "code",
   "execution_count": 15,
   "id": "fd072886",
   "metadata": {},
   "outputs": [],
   "source": [
    "# for question 4 of ECA\n",
    "# specifying target and features values\n",
    "target = data_f[\"B1\"]\n",
    "features = data_f.drop([\"B1\"], axis=1)"
   ]
  },
  {
   "cell_type": "code",
   "execution_count": 16,
   "id": "db26d1db",
   "metadata": {},
   "outputs": [],
   "source": [
    "# splitting data into Training and Test set\n",
    "from sklearn.model_selection import train_test_split\n",
    "X_train_d, X_test_d, y_train_d, y_test_d = train_test_split( features, target, test_size=0.30)"
   ]
  },
  {
   "cell_type": "code",
   "execution_count": 17,
   "id": "1f50d8d5",
   "metadata": {},
   "outputs": [],
   "source": [
    "# importing libraries required for linear regression modeling \n",
    "from sklearn.linear_model import LinearRegression\n",
    "from sklearn.metrics import r2_score, mean_squared_error"
   ]
  },
  {
   "cell_type": "code",
   "execution_count": 18,
   "id": "d7804b4f",
   "metadata": {},
   "outputs": [
    {
     "data": {
      "text/plain": [
       "LinearRegression()"
      ]
     },
     "execution_count": 18,
     "metadata": {},
     "output_type": "execute_result"
    }
   ],
   "source": [
    "# linear regression model instance\n",
    "reg_model = LinearRegression()\n",
    "reg_model.fit(X_train_d, y_train_d)"
   ]
  },
  {
   "cell_type": "code",
   "execution_count": 19,
   "id": "b7fd801f",
   "metadata": {},
   "outputs": [],
   "source": [
    "# predicting result\n",
    "prediction_t = reg_model.predict(X_test_d)"
   ]
  },
  {
   "cell_type": "code",
   "execution_count": 20,
   "id": "3ba57b52",
   "metadata": {},
   "outputs": [
    {
     "name": "stdout",
     "output_type": "stream",
     "text": [
      "R2_score  0.9541505971234834\n",
      "mean_square_error :  0.00033712576670404007\n"
     ]
    }
   ],
   "source": [
    "# score of the model testing\n",
    "print('R2_score ', r2_score(y_test_d, prediction_t))\n",
    "print('mean_square_error : ', mean_squared_error(y_test_d, prediction_t) )"
   ]
  },
  {
   "cell_type": "code",
   "execution_count": 21,
   "id": "fbe34005",
   "metadata": {},
   "outputs": [
    {
     "name": "stdout",
     "output_type": "stream",
     "text": [
      "equation =  0.0076 LIMIT + 0.4332 BALANCE + -0.007 INCOME + -0.0002 RATING + -0.0003 GENDER + -0.0001 EDUCATION + 0.0006 MARITAL + -0.0007 AGE + -0.0095 S1 + 0.0171 S2 + -0.0032 S3 + -0.0019 S4 + -0.0013 S5 + 0.6693 B2 + -0.0098 B3 + -0.0664 B4 + 0.0602 B5 + -0.3917 R1 + 0.112 R2 + 0.0351 R3 + -0.0432 R4 + -0.0059 R5\n"
     ]
    }
   ],
   "source": [
    "# for question 5 of ECA\n",
    "# building equation of the model by getting coeficients value\n",
    "equation_val = []\n",
    "for i in range(len(reg_model.coef_ )):\n",
    "    equation_val.append(str( np.around(reg_model.coef_ [i], decimals = 4)) + \" \" +str(features.columns[i]))\n",
    "print(\"equation = \", \" + \".join(equation_val))"
   ]
  }
 ],
 "metadata": {
  "kernelspec": {
   "display_name": "Python 3 (ipykernel)",
   "language": "python",
   "name": "python3"
  },
  "language_info": {
   "codemirror_mode": {
    "name": "ipython",
    "version": 3
   },
   "file_extension": ".py",
   "mimetype": "text/x-python",
   "name": "python",
   "nbconvert_exporter": "python",
   "pygments_lexer": "ipython3",
   "version": "3.9.12"
  }
 },
 "nbformat": 4,
 "nbformat_minor": 5
}
