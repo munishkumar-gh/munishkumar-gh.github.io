{
 "cells": [
  {
   "cell_type": "code",
   "execution_count": 1,
   "id": "91e6ffa1",
   "metadata": {},
   "outputs": [],
   "source": [
    "import pandas as pd"
   ]
  },
  {
   "cell_type": "code",
   "execution_count": 2,
   "id": "aa231824",
   "metadata": {},
   "outputs": [],
   "source": [
    "import numpy as np"
   ]
  },
  {
   "cell_type": "code",
   "execution_count": 3,
   "id": "e1948a7e",
   "metadata": {},
   "outputs": [],
   "source": [
    "import matplotlib.pyplot as plt"
   ]
  },
  {
   "cell_type": "code",
   "execution_count": 4,
   "id": "65e818dd",
   "metadata": {},
   "outputs": [],
   "source": [
    "df = pd.read_csv(\"C:\\\\Users\\\\Candice\\\\Desktop\\\\Python practice\\\\ECA_data.csv\")"
   ]
  },
  {
   "cell_type": "code",
   "execution_count": 5,
   "id": "3db3965f",
   "metadata": {},
   "outputs": [
    {
     "data": {
      "text/plain": [
       "(18769, 24)"
      ]
     },
     "execution_count": 5,
     "metadata": {},
     "output_type": "execute_result"
    }
   ],
   "source": [
    "df.shape\n",
    "# find the size of dataframe (rows, columns)"
   ]
  },
  {
   "cell_type": "code",
   "execution_count": 6,
   "id": "2e000ca6",
   "metadata": {},
   "outputs": [
    {
     "data": {
      "text/plain": [
       "ID            0\n",
       "LIMIT         0\n",
       "BALANCE       0\n",
       "INCOME        0\n",
       "RATING        0\n",
       "GENDER        0\n",
       "EDUCATION    13\n",
       "MARITAL      38\n",
       "AGE           0\n",
       "S1            0\n",
       "S2            0\n",
       "S3            0\n",
       "S4            0\n",
       "S5            0\n",
       "B1            0\n",
       "B2            0\n",
       "B3            0\n",
       "B4            0\n",
       "B5            0\n",
       "R1            0\n",
       "R2            0\n",
       "R3            0\n",
       "R4            0\n",
       "R5            0\n",
       "dtype: int64"
      ]
     },
     "execution_count": 6,
     "metadata": {},
     "output_type": "execute_result"
    }
   ],
   "source": [
    "df.isnull().sum()\n",
    "# check the null objects from dataset"
   ]
  },
  {
   "cell_type": "code",
   "execution_count": 7,
   "id": "96aabe7f",
   "metadata": {},
   "outputs": [],
   "source": [
    "df1 = df.dropna()\n",
    "# remove rows which have null objects"
   ]
  },
  {
   "cell_type": "code",
   "execution_count": 8,
   "id": "e28b89b4",
   "metadata": {},
   "outputs": [
    {
     "name": "stderr",
     "output_type": "stream",
     "text": [
      "C:\\Users\\Candice\\AppData\\Local\\Temp\\ipykernel_18596\\1541331866.py:1: SettingWithCopyWarning: \n",
      "A value is trying to be set on a copy of a slice from a DataFrame\n",
      "\n",
      "See the caveats in the documentation: https://pandas.pydata.org/pandas-docs/stable/user_guide/indexing.html#returning-a-view-versus-a-copy\n",
      "  df1.drop(['ID'], axis=1, inplace=True)\n"
     ]
    }
   ],
   "source": [
    "df1.drop(['ID'], axis=1, inplace=True)"
   ]
  },
  {
   "cell_type": "code",
   "execution_count": 9,
   "id": "402a2945",
   "metadata": {},
   "outputs": [
    {
     "data": {
      "text/html": [
       "<div>\n",
       "<style scoped>\n",
       "    .dataframe tbody tr th:only-of-type {\n",
       "        vertical-align: middle;\n",
       "    }\n",
       "\n",
       "    .dataframe tbody tr th {\n",
       "        vertical-align: top;\n",
       "    }\n",
       "\n",
       "    .dataframe thead th {\n",
       "        text-align: right;\n",
       "    }\n",
       "</style>\n",
       "<table border=\"1\" class=\"dataframe\">\n",
       "  <thead>\n",
       "    <tr style=\"text-align: right;\">\n",
       "      <th></th>\n",
       "      <th>LIMIT</th>\n",
       "      <th>BALANCE</th>\n",
       "      <th>INCOME</th>\n",
       "      <th>RATING</th>\n",
       "      <th>GENDER</th>\n",
       "      <th>EDUCATION</th>\n",
       "      <th>MARITAL</th>\n",
       "      <th>AGE</th>\n",
       "      <th>S1</th>\n",
       "      <th>S2</th>\n",
       "      <th>...</th>\n",
       "      <th>S5</th>\n",
       "      <th>B1</th>\n",
       "      <th>B2</th>\n",
       "      <th>B3</th>\n",
       "      <th>B4</th>\n",
       "      <th>B5</th>\n",
       "      <th>R1</th>\n",
       "      <th>R2</th>\n",
       "      <th>R4</th>\n",
       "      <th>R5</th>\n",
       "    </tr>\n",
       "  </thead>\n",
       "  <tbody>\n",
       "    <tr>\n",
       "      <th>count</th>\n",
       "      <td>18720.000000</td>\n",
       "      <td>18720.000000</td>\n",
       "      <td>18720.000000</td>\n",
       "      <td>18720.000000</td>\n",
       "      <td>18720.000000</td>\n",
       "      <td>18720.000000</td>\n",
       "      <td>18720.000000</td>\n",
       "      <td>18720.000000</td>\n",
       "      <td>18720.000000</td>\n",
       "      <td>18720.000000</td>\n",
       "      <td>...</td>\n",
       "      <td>18720.000000</td>\n",
       "      <td>18720.000000</td>\n",
       "      <td>18720.000000</td>\n",
       "      <td>18720.000000</td>\n",
       "      <td>18720.000000</td>\n",
       "      <td>18720.000000</td>\n",
       "      <td>1.872000e+04</td>\n",
       "      <td>18720.000000</td>\n",
       "      <td>18720.000000</td>\n",
       "      <td>18720.000000</td>\n",
       "    </tr>\n",
       "    <tr>\n",
       "      <th>mean</th>\n",
       "      <td>168307.888889</td>\n",
       "      <td>9135.957564</td>\n",
       "      <td>177815.004006</td>\n",
       "      <td>0.219605</td>\n",
       "      <td>0.618056</td>\n",
       "      <td>1.788034</td>\n",
       "      <td>1.514850</td>\n",
       "      <td>35.571902</td>\n",
       "      <td>0.129113</td>\n",
       "      <td>0.111325</td>\n",
       "      <td>...</td>\n",
       "      <td>0.038942</td>\n",
       "      <td>50067.631731</td>\n",
       "      <td>48247.873771</td>\n",
       "      <td>45098.374145</td>\n",
       "      <td>41122.058440</td>\n",
       "      <td>39686.281571</td>\n",
       "      <td>6.031361e+03</td>\n",
       "      <td>5654.627938</td>\n",
       "      <td>4769.774679</td>\n",
       "      <td>5192.497382</td>\n",
       "    </tr>\n",
       "    <tr>\n",
       "      <th>std</th>\n",
       "      <td>129496.631582</td>\n",
       "      <td>13057.178823</td>\n",
       "      <td>143200.252119</td>\n",
       "      <td>0.413990</td>\n",
       "      <td>0.485876</td>\n",
       "      <td>0.731373</td>\n",
       "      <td>0.519602</td>\n",
       "      <td>9.559504</td>\n",
       "      <td>0.954573</td>\n",
       "      <td>0.929309</td>\n",
       "      <td>...</td>\n",
       "      <td>0.849438</td>\n",
       "      <td>71990.258769</td>\n",
       "      <td>70381.552967</td>\n",
       "      <td>66168.457834</td>\n",
       "      <td>61752.249005</td>\n",
       "      <td>59967.041352</td>\n",
       "      <td>2.292327e+04</td>\n",
       "      <td>18633.012946</td>\n",
       "      <td>15048.876656</td>\n",
       "      <td>17443.700195</td>\n",
       "    </tr>\n",
       "    <tr>\n",
       "      <th>min</th>\n",
       "      <td>10000.000000</td>\n",
       "      <td>0.000000</td>\n",
       "      <td>10000.000000</td>\n",
       "      <td>0.000000</td>\n",
       "      <td>0.000000</td>\n",
       "      <td>0.000000</td>\n",
       "      <td>0.000000</td>\n",
       "      <td>-1.000000</td>\n",
       "      <td>-1.000000</td>\n",
       "      <td>-1.000000</td>\n",
       "      <td>...</td>\n",
       "      <td>-1.000000</td>\n",
       "      <td>-69777.000000</td>\n",
       "      <td>-157264.000000</td>\n",
       "      <td>-65167.000000</td>\n",
       "      <td>-81334.000000</td>\n",
       "      <td>-209051.000000</td>\n",
       "      <td>0.000000e+00</td>\n",
       "      <td>0.000000</td>\n",
       "      <td>0.000000</td>\n",
       "      <td>0.000000</td>\n",
       "    </tr>\n",
       "    <tr>\n",
       "      <th>25%</th>\n",
       "      <td>50000.000000</td>\n",
       "      <td>644.612500</td>\n",
       "      <td>56427.750000</td>\n",
       "      <td>0.000000</td>\n",
       "      <td>0.000000</td>\n",
       "      <td>1.000000</td>\n",
       "      <td>1.000000</td>\n",
       "      <td>28.000000</td>\n",
       "      <td>0.000000</td>\n",
       "      <td>0.000000</td>\n",
       "      <td>...</td>\n",
       "      <td>0.000000</td>\n",
       "      <td>3100.750000</td>\n",
       "      <td>2869.000000</td>\n",
       "      <td>2529.500000</td>\n",
       "      <td>1962.000000</td>\n",
       "      <td>1438.750000</td>\n",
       "      <td>1.000000e+03</td>\n",
       "      <td>580.750000</td>\n",
       "      <td>284.750000</td>\n",
       "      <td>220.000000</td>\n",
       "    </tr>\n",
       "    <tr>\n",
       "      <th>50%</th>\n",
       "      <td>140000.000000</td>\n",
       "      <td>3974.512500</td>\n",
       "      <td>148178.000000</td>\n",
       "      <td>0.000000</td>\n",
       "      <td>1.000000</td>\n",
       "      <td>2.000000</td>\n",
       "      <td>2.000000</td>\n",
       "      <td>34.000000</td>\n",
       "      <td>0.000000</td>\n",
       "      <td>0.000000</td>\n",
       "      <td>...</td>\n",
       "      <td>0.000000</td>\n",
       "      <td>21417.000000</td>\n",
       "      <td>20441.000000</td>\n",
       "      <td>19533.000000</td>\n",
       "      <td>18371.500000</td>\n",
       "      <td>17443.000000</td>\n",
       "      <td>2.137500e+03</td>\n",
       "      <td>2000.000000</td>\n",
       "      <td>1507.000000</td>\n",
       "      <td>1550.000000</td>\n",
       "    </tr>\n",
       "    <tr>\n",
       "      <th>75%</th>\n",
       "      <td>240000.000000</td>\n",
       "      <td>11986.318750</td>\n",
       "      <td>257206.750000</td>\n",
       "      <td>0.000000</td>\n",
       "      <td>1.000000</td>\n",
       "      <td>2.000000</td>\n",
       "      <td>2.000000</td>\n",
       "      <td>41.000000</td>\n",
       "      <td>0.000000</td>\n",
       "      <td>0.000000</td>\n",
       "      <td>...</td>\n",
       "      <td>0.000000</td>\n",
       "      <td>65243.250000</td>\n",
       "      <td>62084.000000</td>\n",
       "      <td>57778.250000</td>\n",
       "      <td>50827.500000</td>\n",
       "      <td>49857.750000</td>\n",
       "      <td>5.002000e+03</td>\n",
       "      <td>5000.000000</td>\n",
       "      <td>4073.250000</td>\n",
       "      <td>4100.000000</td>\n",
       "    </tr>\n",
       "    <tr>\n",
       "      <th>max</th>\n",
       "      <td>800000.000000</td>\n",
       "      <td>130692.450000</td>\n",
       "      <td>908846.000000</td>\n",
       "      <td>1.000000</td>\n",
       "      <td>1.000000</td>\n",
       "      <td>3.000000</td>\n",
       "      <td>2.000000</td>\n",
       "      <td>199.000000</td>\n",
       "      <td>7.000000</td>\n",
       "      <td>8.000000</td>\n",
       "      <td>...</td>\n",
       "      <td>7.000000</td>\n",
       "      <td>743970.000000</td>\n",
       "      <td>855086.000000</td>\n",
       "      <td>706864.000000</td>\n",
       "      <td>823540.000000</td>\n",
       "      <td>514975.000000</td>\n",
       "      <td>1.227082e+06</td>\n",
       "      <td>889043.000000</td>\n",
       "      <td>426529.000000</td>\n",
       "      <td>527143.000000</td>\n",
       "    </tr>\n",
       "  </tbody>\n",
       "</table>\n",
       "<p>8 rows × 22 columns</p>\n",
       "</div>"
      ],
      "text/plain": [
       "               LIMIT        BALANCE         INCOME        RATING  \\\n",
       "count   18720.000000   18720.000000   18720.000000  18720.000000   \n",
       "mean   168307.888889    9135.957564  177815.004006      0.219605   \n",
       "std    129496.631582   13057.178823  143200.252119      0.413990   \n",
       "min     10000.000000       0.000000   10000.000000      0.000000   \n",
       "25%     50000.000000     644.612500   56427.750000      0.000000   \n",
       "50%    140000.000000    3974.512500  148178.000000      0.000000   \n",
       "75%    240000.000000   11986.318750  257206.750000      0.000000   \n",
       "max    800000.000000  130692.450000  908846.000000      1.000000   \n",
       "\n",
       "             GENDER     EDUCATION       MARITAL           AGE            S1  \\\n",
       "count  18720.000000  18720.000000  18720.000000  18720.000000  18720.000000   \n",
       "mean       0.618056      1.788034      1.514850     35.571902      0.129113   \n",
       "std        0.485876      0.731373      0.519602      9.559504      0.954573   \n",
       "min        0.000000      0.000000      0.000000     -1.000000     -1.000000   \n",
       "25%        0.000000      1.000000      1.000000     28.000000      0.000000   \n",
       "50%        1.000000      2.000000      2.000000     34.000000      0.000000   \n",
       "75%        1.000000      2.000000      2.000000     41.000000      0.000000   \n",
       "max        1.000000      3.000000      2.000000    199.000000      7.000000   \n",
       "\n",
       "                 S2  ...            S5             B1             B2  \\\n",
       "count  18720.000000  ...  18720.000000   18720.000000   18720.000000   \n",
       "mean       0.111325  ...      0.038942   50067.631731   48247.873771   \n",
       "std        0.929309  ...      0.849438   71990.258769   70381.552967   \n",
       "min       -1.000000  ...     -1.000000  -69777.000000 -157264.000000   \n",
       "25%        0.000000  ...      0.000000    3100.750000    2869.000000   \n",
       "50%        0.000000  ...      0.000000   21417.000000   20441.000000   \n",
       "75%        0.000000  ...      0.000000   65243.250000   62084.000000   \n",
       "max        8.000000  ...      7.000000  743970.000000  855086.000000   \n",
       "\n",
       "                  B3             B4             B5            R1  \\\n",
       "count   18720.000000   18720.000000   18720.000000  1.872000e+04   \n",
       "mean    45098.374145   41122.058440   39686.281571  6.031361e+03   \n",
       "std     66168.457834   61752.249005   59967.041352  2.292327e+04   \n",
       "min    -65167.000000  -81334.000000 -209051.000000  0.000000e+00   \n",
       "25%      2529.500000    1962.000000    1438.750000  1.000000e+03   \n",
       "50%     19533.000000   18371.500000   17443.000000  2.137500e+03   \n",
       "75%     57778.250000   50827.500000   49857.750000  5.002000e+03   \n",
       "max    706864.000000  823540.000000  514975.000000  1.227082e+06   \n",
       "\n",
       "                  R2             R4             R5  \n",
       "count   18720.000000   18720.000000   18720.000000  \n",
       "mean     5654.627938    4769.774679    5192.497382  \n",
       "std     18633.012946   15048.876656   17443.700195  \n",
       "min         0.000000       0.000000       0.000000  \n",
       "25%       580.750000     284.750000     220.000000  \n",
       "50%      2000.000000    1507.000000    1550.000000  \n",
       "75%      5000.000000    4073.250000    4100.000000  \n",
       "max    889043.000000  426529.000000  527143.000000  \n",
       "\n",
       "[8 rows x 22 columns]"
      ]
     },
     "execution_count": 9,
     "metadata": {},
     "output_type": "execute_result"
    }
   ],
   "source": [
    "df1.describe()\n",
    "# Find the statistical summary from dataset"
   ]
  },
  {
   "cell_type": "code",
   "execution_count": 10,
   "id": "963ae291",
   "metadata": {},
   "outputs": [
    {
     "data": {
      "text/plain": [
       "5"
      ]
     },
     "execution_count": 10,
     "metadata": {},
     "output_type": "execute_result"
    }
   ],
   "source": [
    "df1['AGE'].value_counts()[199]\n",
    "# count the total number of occurrence of age \"199\" in the dataset"
   ]
  },
  {
   "cell_type": "code",
   "execution_count": 11,
   "id": "878983c2",
   "metadata": {},
   "outputs": [
    {
     "data": {
      "text/plain": [
       "5"
      ]
     },
     "execution_count": 11,
     "metadata": {},
     "output_type": "execute_result"
    }
   ],
   "source": [
    "df1['AGE'].value_counts()[-1]\n",
    "# count the total number of occurrence of age \"-1\" in the dataset"
   ]
  },
  {
   "cell_type": "code",
   "execution_count": 12,
   "id": "c07e6a29",
   "metadata": {},
   "outputs": [
    {
     "name": "stderr",
     "output_type": "stream",
     "text": [
      "C:\\Users\\Candice\\AppData\\Local\\Temp\\ipykernel_18596\\105469355.py:3: SettingWithCopyWarning: \n",
      "A value is trying to be set on a copy of a slice from a DataFrame\n",
      "\n",
      "See the caveats in the documentation: https://pandas.pydata.org/pandas-docs/stable/user_guide/indexing.html#returning-a-view-versus-a-copy\n",
      "  df1.drop(index, inplace=True)  # remove these index rows from data\n"
     ]
    },
    {
     "data": {
      "text/plain": [
       "count    18710.000000\n",
       "mean        35.538001\n",
       "std          9.161682\n",
       "min         21.000000\n",
       "25%         28.000000\n",
       "50%         34.000000\n",
       "75%         41.000000\n",
       "max         80.000000\n",
       "Name: AGE, dtype: float64"
      ]
     },
     "execution_count": 12,
     "metadata": {},
     "output_type": "execute_result"
    }
   ],
   "source": [
    "# Remove the 10 extremes/ outliers' data points for 'AGE' variable which at minimum of -1 and a maximum value of 199. \n",
    "index = df1[(df1['AGE'] >= 199) | (df1['AGE'] <= -1)].index # creates an index for all the data points where age takes these 2 values \n",
    "df1.drop(index, inplace=True)  # remove these index rows from data\n",
    "df1['AGE'].describe()  # print summary statistics for the variable to ensure it has been removed "
   ]
  },
  {
   "cell_type": "code",
   "execution_count": 13,
   "id": "351755fd",
   "metadata": {},
   "outputs": [
    {
     "name": "stderr",
     "output_type": "stream",
     "text": [
      "C:\\Users\\Candice\\AppData\\Local\\Temp\\ipykernel_18596\\1015223563.py:2: SettingWithCopyWarning: \n",
      "A value is trying to be set on a copy of a slice from a DataFrame.\n",
      "Try using .loc[row_indexer,col_indexer] = value instead\n",
      "\n",
      "See the caveats in the documentation: https://pandas.pydata.org/pandas-docs/stable/user_guide/indexing.html#returning-a-view-versus-a-copy\n",
      "  df1['AGE_GROUP'] = pd.cut(df1['AGE'], bins = (0,30,40,50,60,70,80,100),right=False, labels =['Age 20-29','Age 30-39','Age 40-49','Age 50-59','Age 60-69','Age 70-79','Age > 80'] )\n"
     ]
    },
    {
     "data": {
      "text/html": [
       "<div>\n",
       "<style scoped>\n",
       "    .dataframe tbody tr th:only-of-type {\n",
       "        vertical-align: middle;\n",
       "    }\n",
       "\n",
       "    .dataframe tbody tr th {\n",
       "        vertical-align: top;\n",
       "    }\n",
       "\n",
       "    .dataframe thead th {\n",
       "        text-align: right;\n",
       "    }\n",
       "</style>\n",
       "<table border=\"1\" class=\"dataframe\">\n",
       "  <thead>\n",
       "    <tr style=\"text-align: right;\">\n",
       "      <th></th>\n",
       "      <th>LIMIT</th>\n",
       "      <th>BALANCE</th>\n",
       "      <th>INCOME</th>\n",
       "      <th>RATING</th>\n",
       "      <th>GENDER</th>\n",
       "      <th>EDUCATION</th>\n",
       "      <th>MARITAL</th>\n",
       "      <th>AGE</th>\n",
       "      <th>S1</th>\n",
       "      <th>S2</th>\n",
       "      <th>...</th>\n",
       "      <th>B2</th>\n",
       "      <th>B3</th>\n",
       "      <th>B4</th>\n",
       "      <th>B5</th>\n",
       "      <th>R1</th>\n",
       "      <th>R2</th>\n",
       "      <th>R3</th>\n",
       "      <th>R4</th>\n",
       "      <th>R5</th>\n",
       "      <th>AGE_GROUP</th>\n",
       "    </tr>\n",
       "  </thead>\n",
       "  <tbody>\n",
       "    <tr>\n",
       "      <th>0</th>\n",
       "      <td>210000</td>\n",
       "      <td>0.000</td>\n",
       "      <td>235822</td>\n",
       "      <td>1</td>\n",
       "      <td>1</td>\n",
       "      <td>1.0</td>\n",
       "      <td>2.0</td>\n",
       "      <td>30</td>\n",
       "      <td>0</td>\n",
       "      <td>0</td>\n",
       "      <td>...</td>\n",
       "      <td>0</td>\n",
       "      <td>0</td>\n",
       "      <td>0</td>\n",
       "      <td>0</td>\n",
       "      <td>0</td>\n",
       "      <td>0</td>\n",
       "      <td>0</td>\n",
       "      <td>0</td>\n",
       "      <td>0</td>\n",
       "      <td>Age 30-39</td>\n",
       "    </tr>\n",
       "    <tr>\n",
       "      <th>1</th>\n",
       "      <td>260000</td>\n",
       "      <td>10928.050</td>\n",
       "      <td>278481</td>\n",
       "      <td>0</td>\n",
       "      <td>0</td>\n",
       "      <td>2.0</td>\n",
       "      <td>2.0</td>\n",
       "      <td>31</td>\n",
       "      <td>0</td>\n",
       "      <td>0</td>\n",
       "      <td>...</td>\n",
       "      <td>46407</td>\n",
       "      <td>38874</td>\n",
       "      <td>31324</td>\n",
       "      <td>24031</td>\n",
       "      <td>2000</td>\n",
       "      <td>2000</td>\n",
       "      <td>2000</td>\n",
       "      <td>2000</td>\n",
       "      <td>72000</td>\n",
       "      <td>Age 30-39</td>\n",
       "    </tr>\n",
       "    <tr>\n",
       "      <th>2</th>\n",
       "      <td>400000</td>\n",
       "      <td>65397.850</td>\n",
       "      <td>431993</td>\n",
       "      <td>0</td>\n",
       "      <td>0</td>\n",
       "      <td>3.0</td>\n",
       "      <td>1.0</td>\n",
       "      <td>51</td>\n",
       "      <td>0</td>\n",
       "      <td>0</td>\n",
       "      <td>...</td>\n",
       "      <td>352484</td>\n",
       "      <td>338823</td>\n",
       "      <td>283288</td>\n",
       "      <td>185288</td>\n",
       "      <td>15000</td>\n",
       "      <td>14000</td>\n",
       "      <td>11500</td>\n",
       "      <td>8000</td>\n",
       "      <td>7000</td>\n",
       "      <td>Age 50-59</td>\n",
       "    </tr>\n",
       "    <tr>\n",
       "      <th>3</th>\n",
       "      <td>20000</td>\n",
       "      <td>3695.300</td>\n",
       "      <td>22368</td>\n",
       "      <td>0</td>\n",
       "      <td>0</td>\n",
       "      <td>2.0</td>\n",
       "      <td>1.0</td>\n",
       "      <td>58</td>\n",
       "      <td>-1</td>\n",
       "      <td>2</td>\n",
       "      <td>...</td>\n",
       "      <td>200</td>\n",
       "      <td>0</td>\n",
       "      <td>28740</td>\n",
       "      <td>1295</td>\n",
       "      <td>0</td>\n",
       "      <td>0</td>\n",
       "      <td>28740</td>\n",
       "      <td>1565</td>\n",
       "      <td>0</td>\n",
       "      <td>Age 50-59</td>\n",
       "    </tr>\n",
       "    <tr>\n",
       "      <th>4</th>\n",
       "      <td>180000</td>\n",
       "      <td>68.250</td>\n",
       "      <td>166900</td>\n",
       "      <td>0</td>\n",
       "      <td>1</td>\n",
       "      <td>2.0</td>\n",
       "      <td>1.0</td>\n",
       "      <td>42</td>\n",
       "      <td>0</td>\n",
       "      <td>0</td>\n",
       "      <td>...</td>\n",
       "      <td>598</td>\n",
       "      <td>2056</td>\n",
       "      <td>4300</td>\n",
       "      <td>1802</td>\n",
       "      <td>598</td>\n",
       "      <td>2056</td>\n",
       "      <td>4300</td>\n",
       "      <td>1802</td>\n",
       "      <td>3691</td>\n",
       "      <td>Age 40-49</td>\n",
       "    </tr>\n",
       "    <tr>\n",
       "      <th>...</th>\n",
       "      <td>...</td>\n",
       "      <td>...</td>\n",
       "      <td>...</td>\n",
       "      <td>...</td>\n",
       "      <td>...</td>\n",
       "      <td>...</td>\n",
       "      <td>...</td>\n",
       "      <td>...</td>\n",
       "      <td>...</td>\n",
       "      <td>...</td>\n",
       "      <td>...</td>\n",
       "      <td>...</td>\n",
       "      <td>...</td>\n",
       "      <td>...</td>\n",
       "      <td>...</td>\n",
       "      <td>...</td>\n",
       "      <td>...</td>\n",
       "      <td>...</td>\n",
       "      <td>...</td>\n",
       "      <td>...</td>\n",
       "      <td>...</td>\n",
       "    </tr>\n",
       "    <tr>\n",
       "      <th>18764</th>\n",
       "      <td>220000</td>\n",
       "      <td>33065.900</td>\n",
       "      <td>225862</td>\n",
       "      <td>0</td>\n",
       "      <td>0</td>\n",
       "      <td>3.0</td>\n",
       "      <td>1.0</td>\n",
       "      <td>39</td>\n",
       "      <td>0</td>\n",
       "      <td>0</td>\n",
       "      <td>...</td>\n",
       "      <td>208365</td>\n",
       "      <td>88004</td>\n",
       "      <td>31237</td>\n",
       "      <td>15980</td>\n",
       "      <td>20000</td>\n",
       "      <td>5003</td>\n",
       "      <td>3047</td>\n",
       "      <td>5000</td>\n",
       "      <td>1000</td>\n",
       "      <td>Age 30-39</td>\n",
       "    </tr>\n",
       "    <tr>\n",
       "      <th>18765</th>\n",
       "      <td>150000</td>\n",
       "      <td>294.525</td>\n",
       "      <td>149966</td>\n",
       "      <td>0</td>\n",
       "      <td>0</td>\n",
       "      <td>3.0</td>\n",
       "      <td>2.0</td>\n",
       "      <td>43</td>\n",
       "      <td>-1</td>\n",
       "      <td>-1</td>\n",
       "      <td>...</td>\n",
       "      <td>3502</td>\n",
       "      <td>8979</td>\n",
       "      <td>5190</td>\n",
       "      <td>0</td>\n",
       "      <td>3526</td>\n",
       "      <td>8998</td>\n",
       "      <td>129</td>\n",
       "      <td>0</td>\n",
       "      <td>0</td>\n",
       "      <td>Age 40-49</td>\n",
       "    </tr>\n",
       "    <tr>\n",
       "      <th>18766</th>\n",
       "      <td>30000</td>\n",
       "      <td>623.875</td>\n",
       "      <td>30327</td>\n",
       "      <td>1</td>\n",
       "      <td>0</td>\n",
       "      <td>2.0</td>\n",
       "      <td>2.0</td>\n",
       "      <td>37</td>\n",
       "      <td>3</td>\n",
       "      <td>2</td>\n",
       "      <td>...</td>\n",
       "      <td>2758</td>\n",
       "      <td>20878</td>\n",
       "      <td>20582</td>\n",
       "      <td>19357</td>\n",
       "      <td>0</td>\n",
       "      <td>22000</td>\n",
       "      <td>4200</td>\n",
       "      <td>2000</td>\n",
       "      <td>3100</td>\n",
       "      <td>Age 30-39</td>\n",
       "    </tr>\n",
       "    <tr>\n",
       "      <th>18767</th>\n",
       "      <td>80000</td>\n",
       "      <td>0.000</td>\n",
       "      <td>94607</td>\n",
       "      <td>1</td>\n",
       "      <td>0</td>\n",
       "      <td>3.0</td>\n",
       "      <td>1.0</td>\n",
       "      <td>41</td>\n",
       "      <td>-1</td>\n",
       "      <td>0</td>\n",
       "      <td>...</td>\n",
       "      <td>76304</td>\n",
       "      <td>52774</td>\n",
       "      <td>11855</td>\n",
       "      <td>48944</td>\n",
       "      <td>3409</td>\n",
       "      <td>1178</td>\n",
       "      <td>1926</td>\n",
       "      <td>52964</td>\n",
       "      <td>1804</td>\n",
       "      <td>Age 40-49</td>\n",
       "    </tr>\n",
       "    <tr>\n",
       "      <th>18768</th>\n",
       "      <td>50000</td>\n",
       "      <td>8387.575</td>\n",
       "      <td>40267</td>\n",
       "      <td>1</td>\n",
       "      <td>0</td>\n",
       "      <td>2.0</td>\n",
       "      <td>1.0</td>\n",
       "      <td>46</td>\n",
       "      <td>0</td>\n",
       "      <td>0</td>\n",
       "      <td>...</td>\n",
       "      <td>49764</td>\n",
       "      <td>36535</td>\n",
       "      <td>32428</td>\n",
       "      <td>15313</td>\n",
       "      <td>1800</td>\n",
       "      <td>1430</td>\n",
       "      <td>1000</td>\n",
       "      <td>1000</td>\n",
       "      <td>1000</td>\n",
       "      <td>Age 40-49</td>\n",
       "    </tr>\n",
       "  </tbody>\n",
       "</table>\n",
       "<p>18710 rows × 24 columns</p>\n",
       "</div>"
      ],
      "text/plain": [
       "        LIMIT    BALANCE  INCOME  RATING  GENDER  EDUCATION  MARITAL  AGE  S1  \\\n",
       "0      210000      0.000  235822       1       1        1.0      2.0   30   0   \n",
       "1      260000  10928.050  278481       0       0        2.0      2.0   31   0   \n",
       "2      400000  65397.850  431993       0       0        3.0      1.0   51   0   \n",
       "3       20000   3695.300   22368       0       0        2.0      1.0   58  -1   \n",
       "4      180000     68.250  166900       0       1        2.0      1.0   42   0   \n",
       "...       ...        ...     ...     ...     ...        ...      ...  ...  ..   \n",
       "18764  220000  33065.900  225862       0       0        3.0      1.0   39   0   \n",
       "18765  150000    294.525  149966       0       0        3.0      2.0   43  -1   \n",
       "18766   30000    623.875   30327       1       0        2.0      2.0   37   3   \n",
       "18767   80000      0.000   94607       1       0        3.0      1.0   41  -1   \n",
       "18768   50000   8387.575   40267       1       0        2.0      1.0   46   0   \n",
       "\n",
       "       S2  ...      B2      B3      B4      B5     R1     R2     R3     R4  \\\n",
       "0       0  ...       0       0       0       0      0      0      0      0   \n",
       "1       0  ...   46407   38874   31324   24031   2000   2000   2000   2000   \n",
       "2       0  ...  352484  338823  283288  185288  15000  14000  11500   8000   \n",
       "3       2  ...     200       0   28740    1295      0      0  28740   1565   \n",
       "4       0  ...     598    2056    4300    1802    598   2056   4300   1802   \n",
       "...    ..  ...     ...     ...     ...     ...    ...    ...    ...    ...   \n",
       "18764   0  ...  208365   88004   31237   15980  20000   5003   3047   5000   \n",
       "18765  -1  ...    3502    8979    5190       0   3526   8998    129      0   \n",
       "18766   2  ...    2758   20878   20582   19357      0  22000   4200   2000   \n",
       "18767   0  ...   76304   52774   11855   48944   3409   1178   1926  52964   \n",
       "18768   0  ...   49764   36535   32428   15313   1800   1430   1000   1000   \n",
       "\n",
       "          R5  AGE_GROUP  \n",
       "0          0  Age 30-39  \n",
       "1      72000  Age 30-39  \n",
       "2       7000  Age 50-59  \n",
       "3          0  Age 50-59  \n",
       "4       3691  Age 40-49  \n",
       "...      ...        ...  \n",
       "18764   1000  Age 30-39  \n",
       "18765      0  Age 40-49  \n",
       "18766   3100  Age 30-39  \n",
       "18767   1804  Age 40-49  \n",
       "18768   1000  Age 40-49  \n",
       "\n",
       "[18710 rows x 24 columns]"
      ]
     },
     "metadata": {},
     "output_type": "display_data"
    }
   ],
   "source": [
    "# Discretising a numeric variable into 8 bins\n",
    "df1['AGE_GROUP'] = pd.cut(df1['AGE'], bins = (0,30,40,50,60,70,80,100),right=False, labels =['Age 20-29','Age 30-39','Age 40-49','Age 50-59','Age 60-69','Age 70-79','Age > 80'] )\n",
    "display(df1)"
   ]
  },
  {
   "cell_type": "code",
   "execution_count": 14,
   "id": "ad4a8aae",
   "metadata": {},
   "outputs": [
    {
     "data": {
      "text/html": [
       "<div>\n",
       "<style scoped>\n",
       "    .dataframe tbody tr th:only-of-type {\n",
       "        vertical-align: middle;\n",
       "    }\n",
       "\n",
       "    .dataframe tbody tr th {\n",
       "        vertical-align: top;\n",
       "    }\n",
       "\n",
       "    .dataframe thead th {\n",
       "        text-align: right;\n",
       "    }\n",
       "</style>\n",
       "<table border=\"1\" class=\"dataframe\">\n",
       "  <thead>\n",
       "    <tr style=\"text-align: right;\">\n",
       "      <th></th>\n",
       "      <th>LIMIT</th>\n",
       "      <th>BALANCE</th>\n",
       "      <th>INCOME</th>\n",
       "      <th>RATING</th>\n",
       "      <th>GENDER</th>\n",
       "      <th>EDUCATION</th>\n",
       "      <th>MARITAL</th>\n",
       "      <th>AGE</th>\n",
       "      <th>S1</th>\n",
       "      <th>S2</th>\n",
       "      <th>...</th>\n",
       "      <th>B2</th>\n",
       "      <th>B3</th>\n",
       "      <th>B4</th>\n",
       "      <th>B5</th>\n",
       "      <th>R1</th>\n",
       "      <th>R2</th>\n",
       "      <th>R3</th>\n",
       "      <th>R4</th>\n",
       "      <th>R5</th>\n",
       "      <th>AGE_GROUP</th>\n",
       "    </tr>\n",
       "  </thead>\n",
       "  <tbody>\n",
       "    <tr>\n",
       "      <th>0</th>\n",
       "      <td>210000</td>\n",
       "      <td>0.00</td>\n",
       "      <td>235822</td>\n",
       "      <td>1</td>\n",
       "      <td>1</td>\n",
       "      <td>1.0</td>\n",
       "      <td>2.0</td>\n",
       "      <td>30</td>\n",
       "      <td>0</td>\n",
       "      <td>0</td>\n",
       "      <td>...</td>\n",
       "      <td>0</td>\n",
       "      <td>0</td>\n",
       "      <td>0</td>\n",
       "      <td>0</td>\n",
       "      <td>0</td>\n",
       "      <td>0</td>\n",
       "      <td>0</td>\n",
       "      <td>0</td>\n",
       "      <td>0</td>\n",
       "      <td>Age 30-39</td>\n",
       "    </tr>\n",
       "    <tr>\n",
       "      <th>1</th>\n",
       "      <td>260000</td>\n",
       "      <td>10928.05</td>\n",
       "      <td>278481</td>\n",
       "      <td>0</td>\n",
       "      <td>0</td>\n",
       "      <td>2.0</td>\n",
       "      <td>2.0</td>\n",
       "      <td>31</td>\n",
       "      <td>0</td>\n",
       "      <td>0</td>\n",
       "      <td>...</td>\n",
       "      <td>46407</td>\n",
       "      <td>38874</td>\n",
       "      <td>31324</td>\n",
       "      <td>24031</td>\n",
       "      <td>2000</td>\n",
       "      <td>2000</td>\n",
       "      <td>2000</td>\n",
       "      <td>2000</td>\n",
       "      <td>72000</td>\n",
       "      <td>Age 30-39</td>\n",
       "    </tr>\n",
       "  </tbody>\n",
       "</table>\n",
       "<p>2 rows × 24 columns</p>\n",
       "</div>"
      ],
      "text/plain": [
       "    LIMIT   BALANCE  INCOME  RATING  GENDER  EDUCATION  MARITAL  AGE  S1  S2  \\\n",
       "0  210000      0.00  235822       1       1        1.0      2.0   30   0   0   \n",
       "1  260000  10928.05  278481       0       0        2.0      2.0   31   0   0   \n",
       "\n",
       "   ...     B2     B3     B4     B5    R1    R2    R3    R4     R5  AGE_GROUP  \n",
       "0  ...      0      0      0      0     0     0     0     0      0  Age 30-39  \n",
       "1  ...  46407  38874  31324  24031  2000  2000  2000  2000  72000  Age 30-39  \n",
       "\n",
       "[2 rows x 24 columns]"
      ]
     },
     "execution_count": 14,
     "metadata": {},
     "output_type": "execute_result"
    }
   ],
   "source": [
    "df1.head(2)\n"
   ]
  },
  {
   "cell_type": "code",
   "execution_count": 15,
   "id": "ac5b3231",
   "metadata": {},
   "outputs": [
    {
     "data": {
      "text/plain": [
       "array(['LIMIT', 'BALANCE', 'INCOME', 'RATING', 'GENDER', 'EDUCATION',\n",
       "       'MARITAL', 'AGE', 'S1', 'S2', 'S3', 'S4', 'S5', 'B1', 'B2', 'B3',\n",
       "       'B4', 'B5', 'R1', 'R2', 'R3', 'R4', 'R5', 'AGE_GROUP'],\n",
       "      dtype=object)"
      ]
     },
     "execution_count": 15,
     "metadata": {},
     "output_type": "execute_result"
    }
   ],
   "source": [
    "df1.columns.values \n",
    "# list all the variables after data cleaning"
   ]
  },
  {
   "cell_type": "code",
   "execution_count": 16,
   "id": "b9c85fbe",
   "metadata": {},
   "outputs": [
    {
     "data": {
      "text/plain": [
       "array([    0,     1,     2, ..., 18766, 18767, 18768], dtype=int64)"
      ]
     },
     "execution_count": 16,
     "metadata": {},
     "output_type": "execute_result"
    }
   ],
   "source": [
    "df1.index.values # list the index after data cleaning"
   ]
  },
  {
   "cell_type": "code",
   "execution_count": 17,
   "id": "3e01296a",
   "metadata": {},
   "outputs": [
    {
     "name": "stdout",
     "output_type": "stream",
     "text": [
      "<class 'pandas.core.indexes.base.Index'>\n",
      "<class 'pandas.core.indexes.numeric.Int64Index'>\n"
     ]
    }
   ],
   "source": [
    "print(type(df1.columns))\n",
    "print(type(df1.index))"
   ]
  },
  {
   "cell_type": "code",
   "execution_count": 18,
   "id": "fb36e4a9",
   "metadata": {},
   "outputs": [
    {
     "name": "stdout",
     "output_type": "stream",
     "text": [
      "<class 'list'>\n",
      "<class 'list'>\n"
     ]
    }
   ],
   "source": [
    "df1.columns.tolist()\n",
    "df1.index.tolist()\n",
    "print (type(df1.columns.tolist()))\n",
    "print (type(df1.index.tolist()))"
   ]
  },
  {
   "cell_type": "markdown",
   "id": "35146f00",
   "metadata": {},
   "source": [
    "i. Stack Bar Chart : Customer's Gender by Age Group"
   ]
  },
  {
   "cell_type": "code",
   "execution_count": 19,
   "id": "b868e994",
   "metadata": {},
   "outputs": [],
   "source": [
    "df2 = df1.groupby(['AGE_GROUP', 'GENDER'])['GENDER'].count().unstack().fillna(0).astype(int)"
   ]
  },
  {
   "cell_type": "code",
   "execution_count": 20,
   "id": "6363c978",
   "metadata": {},
   "outputs": [
    {
     "data": {
      "text/plain": [
       "(18710, 24)"
      ]
     },
     "execution_count": 20,
     "metadata": {},
     "output_type": "execute_result"
    }
   ],
   "source": [
    "df1.shape\n",
    "# find the size of dataframe (rows, columns)"
   ]
  },
  {
   "cell_type": "code",
   "execution_count": 21,
   "id": "b6e091c2",
   "metadata": {},
   "outputs": [
    {
     "name": "stdout",
     "output_type": "stream",
     "text": [
      "GENDER        0     1\n",
      "AGE_GROUP            \n",
      "Age 20-29  1917  4007\n",
      "Age 30-39  2776  4267\n",
      "Age 40-49  1686  2393\n",
      "Age 50-59   661   804\n",
      "Age 60-69    96    88\n",
      "Age 70-79     7     7\n",
      "Age > 80      1     0\n"
     ]
    }
   ],
   "source": [
    "print(df2)"
   ]
  },
  {
   "cell_type": "code",
   "execution_count": 22,
   "id": "30ac81bb",
   "metadata": {},
   "outputs": [
    {
     "data": {
      "image/png": "[encoded data removed]",
      "text/plain": [
       "<Figure size 432x288 with 1 Axes>"
      ]
     },
     "metadata": {
      "needs_background": "light"
     },
     "output_type": "display_data"
    },
    {
     "data": {
      "text/plain": [
       "<Figure size 5760x4320 with 0 Axes>"
      ]
     },
     "metadata": {},
     "output_type": "display_data"
    }
   ],
   "source": [
    "## To plot \"Customer's Gender by Age\"\n",
    "df2.plot(kind='bar', stacked=True)\n",
    "plt.title(\"Customer's Gender by Age Group\")\n",
    "plt.xlabel(\"Age Group\")\n",
    "plt.ylabel(\"No. of Customer\")\n",
    "plt.figure(figsize=(80,60))\n",
    "plt.rc('xtick', labelsize= 7.5)\n",
    "plt.rc('ytick', labelsize= 8) "
   ]
  },
  {
   "cell_type": "markdown",
   "id": "cc0b21ba",
   "metadata": {},
   "source": [
    "ii. Bar Chart : Average Customer Income by Age Group"
   ]
  },
  {
   "cell_type": "code",
   "execution_count": 23,
   "id": "04f0dfe1",
   "metadata": {},
   "outputs": [],
   "source": [
    "df3 = df1.groupby(['AGE_GROUP'])['INCOME'].sum(numeric_only=False)"
   ]
  },
  {
   "cell_type": "code",
   "execution_count": 24,
   "id": "ffcfb40e",
   "metadata": {},
   "outputs": [],
   "source": [
    "search_product_df1 = df1.groupby(['AGE_GROUP'])"
   ]
  },
  {
   "cell_type": "code",
   "execution_count": 25,
   "id": "bf871f32",
   "metadata": {},
   "outputs": [],
   "source": [
    "def findavg(itemname):\n",
    "    selected_items = search_product_df1.get_group(itemname)\n",
    "    AGE_GROUP_count=selected_items['INCOME'].count()\n",
    "    AGE_GROUP_total_INC=selected_items['INCOME'].sum()\n",
    "    AGE_GROUP_avg=round(AGE_GROUP_total_INC/AGE_GROUP_count,2)\n",
    "    return AGE_GROUP_avg"
   ]
  },
  {
   "cell_type": "code",
   "execution_count": 26,
   "id": "7eb52a2e",
   "metadata": {},
   "outputs": [],
   "source": [
    "data = {'Age 20-29':(findavg('Age 20-29')),\\\n",
    "         'Age 30-39':(findavg('Age 30-39')),'Age 40-49':(findavg('Age 40-49')),'Age 50-59':(findavg('Age 50-59')),\\\n",
    "        'Age 60-69':(findavg('Age 60-69')), 'Age 70-79':(findavg('Age 70-79')), 'Age > 80':(findavg('Age > 80'))}"
   ]
  },
  {
   "cell_type": "code",
   "execution_count": 27,
   "id": "56441922",
   "metadata": {},
   "outputs": [],
   "source": [
    "AGE_GROUP = list(data.keys())"
   ]
  },
  {
   "cell_type": "code",
   "execution_count": 28,
   "id": "bab626af",
   "metadata": {},
   "outputs": [],
   "source": [
    "values = list(data.values())"
   ]
  },
  {
   "cell_type": "code",
   "execution_count": 29,
   "id": "e758139f",
   "metadata": {},
   "outputs": [
    {
     "name": "stdout",
     "output_type": "stream",
     "text": [
      "   AGE_GROUP  Average Income\n",
      "0  Age 20-29       132096.77\n",
      "1  Age 30-39       208920.82\n",
      "2  Age 40-49       189883.10\n",
      "3  Age 50-59       175779.92\n",
      "4  Age 60-69       202302.01\n",
      "5  Age 70-79       295117.64\n",
      "6   Age > 80        82953.00\n"
     ]
    }
   ],
   "source": [
    "print(pd.DataFrame(data={'AGE_GROUP':AGE_GROUP, 'Average Income': values}))"
   ]
  },
  {
   "cell_type": "code",
   "execution_count": 30,
   "id": "f586c262",
   "metadata": {
    "scrolled": true
   },
   "outputs": [
    {
     "data": {
      "image/png": "[encoded data removed]",
      "text/plain": [
       "<Figure size 432x288 with 1 Axes>"
      ]
     },
     "metadata": {
      "needs_background": "light"
     },
     "output_type": "display_data"
    },
    {
     "data": {
      "text/plain": [
       "<Figure size 7200x4320 with 0 Axes>"
      ]
     },
     "metadata": {},
     "output_type": "display_data"
    }
   ],
   "source": [
    "# Plot average of customer's income by age group \n",
    "plt.bar(AGE_GROUP, values, color = 'blue', width = 0.5)\n",
    "plt.xlabel(\"Age Group\")\n",
    "plt.ylabel(\"Average INCOME\")\n",
    "plt.title(\"Average of INCOME by AGE GROUP\")\n",
    "plt.figure(figsize=(100,60))\n",
    "plt.rc('xtick', labelsize= 8)\n",
    "plt.rc('ytick', labelsize= 8) \n"
   ]
  },
  {
   "cell_type": "markdown",
   "id": "63852544",
   "metadata": {},
   "source": [
    "iii.\n",
    "Pie chart : Customer's Education"
   ]
  },
  {
   "cell_type": "code",
   "execution_count": 31,
   "id": "5bb785fe",
   "metadata": {},
   "outputs": [
    {
     "data": {
      "text/plain": [
       "18710"
      ]
     },
     "execution_count": 31,
     "metadata": {},
     "output_type": "execute_result"
    }
   ],
   "source": [
    "df1.EDUCATION.count()"
   ]
  },
  {
   "cell_type": "code",
   "execution_count": 32,
   "id": "2f10e4a4",
   "metadata": {
    "scrolled": true
   },
   "outputs": [
    {
     "data": {
      "text/plain": [
       "1.0    6404\n",
       "2.0    8865\n",
       "3.0    3107\n",
       "0.0     334\n",
       "Name: EDUCATION, dtype: int64"
      ]
     },
     "execution_count": 32,
     "metadata": {},
     "output_type": "execute_result"
    }
   ],
   "source": [
    "df4 =df1['EDUCATION'].value_counts(sort=False) \n",
    "df4"
   ]
  },
  {
   "cell_type": "code",
   "execution_count": 33,
   "id": "041ee7ec",
   "metadata": {},
   "outputs": [
    {
     "data": {
      "image/png": "[encoded data removed]",
      "text/plain": [
       "<Figure size 432x288 with 1 Axes>"
      ]
     },
     "metadata": {},
     "output_type": "display_data"
    }
   ],
   "source": [
    "# Plot pie chart for customer's education level\n",
    "values = df4\n",
    "labels = df1['EDUCATION'].unique().tolist()\n",
    "plt.pie(df4, labels=values, startangle =90)\n",
    "plt.legend(labels, loc = 3)\n",
    "plt.show()"
   ]
  },
  {
   "cell_type": "markdown",
   "id": "369e1632",
   "metadata": {},
   "source": [
    "iv. Stack bar chart: Customer Rating by Gender"
   ]
  },
  {
   "cell_type": "code",
   "execution_count": 34,
   "id": "b970be3e",
   "metadata": {},
   "outputs": [
    {
     "name": "stdout",
     "output_type": "stream",
     "text": [
      "GENDER     0     1\n",
      "RATING            \n",
      "0       5407  9192\n",
      "1       1737  2374\n"
     ]
    }
   ],
   "source": [
    "df5 = df1.groupby(['RATING', 'GENDER'])['GENDER'].count().unstack().fillna(0)\n",
    "print(df5)"
   ]
  },
  {
   "cell_type": "code",
   "execution_count": 35,
   "id": "08c416e4",
   "metadata": {},
   "outputs": [
    {
     "data": {
      "text/plain": [
       "(array([0, 1]), [Text(0, 0, '0'), Text(1, 0, '1')])"
      ]
     },
     "execution_count": 35,
     "metadata": {},
     "output_type": "execute_result"
    },
    {
     "data": {
      "image/png": "[encoded data removed]",
      "text/plain": [
       "<Figure size 432x288 with 1 Axes>"
      ]
     },
     "metadata": {
      "needs_background": "light"
     },
     "output_type": "display_data"
    }
   ],
   "source": [
    "# Plot customer's rating by gender\n",
    "#Gender: 0:Male, 1:Female\n",
    "#Rating: 0:Good, 1:Bad\n",
    "\n",
    "df5.plot(kind='bar', stacked=True)\n",
    "plt.title(\"Customer's Rating by Gender\")\n",
    "plt.xlabel(\"Customer\\'s Rating\")\n",
    "plt.ylabel(\"No. of Customer\")\n",
    "plt.xticks(rotation=0, ha='center')"
   ]
  },
  {
   "cell_type": "markdown",
   "id": "f31776e6",
   "metadata": {},
   "source": [
    "v. Bar Chart: Average Balance by Customer's Education"
   ]
  },
  {
   "cell_type": "code",
   "execution_count": 43,
   "id": "e25f5e1f",
   "metadata": {},
   "outputs": [],
   "source": [
    "df6 = df1.groupby(['EDUCATION'])['BALANCE'].sum(numeric_only=False)"
   ]
  },
  {
   "cell_type": "code",
   "execution_count": 44,
   "id": "33a72020",
   "metadata": {},
   "outputs": [],
   "source": [
    "search_product_df1 = df1.groupby(['EDUCATION'])"
   ]
  },
  {
   "cell_type": "code",
   "execution_count": 45,
   "id": "9bc110cb",
   "metadata": {},
   "outputs": [],
   "source": [
    "# Find the average of balance per Education\n",
    "def findavg(itemname):\n",
    "    selected_items = search_product_df1.get_group(itemname)\n",
    "    EDUCATION_count=selected_items['BALANCE'].count()\n",
    "    EDUCATION_total_BAL=selected_items['BALANCE'].sum()\n",
    "    EDUCATION_avg=round(EDUCATION_total_BAL/EDUCATION_count,2)\n",
    "    return EDUCATION_avg"
   ]
  },
  {
   "cell_type": "code",
   "execution_count": 46,
   "id": "15cb7e4e",
   "metadata": {},
   "outputs": [],
   "source": [
    "EDUCATION = list(data.keys())"
   ]
  },
  {
   "cell_type": "code",
   "execution_count": 47,
   "id": "58af017e",
   "metadata": {},
   "outputs": [
    {
     "name": "stdout",
     "output_type": "stream",
     "text": [
      "{'0': 12756.65, '1': 8663.8, '2': 9596.87, '3': 8415.06}\n"
     ]
    }
   ],
   "source": [
    "# Assign average value to dictionaries\n",
    "data = {'0':(findavg(0)),'1':(findavg(1)),'2':(findavg(2)),'3':(findavg(3))}\n",
    "print(data)"
   ]
  },
  {
   "cell_type": "code",
   "execution_count": 48,
   "id": "5985b785",
   "metadata": {},
   "outputs": [],
   "source": [
    "values = list(data.values())"
   ]
  },
  {
   "cell_type": "code",
   "execution_count": 49,
   "id": "30fbc2c8",
   "metadata": {
    "scrolled": true
   },
   "outputs": [
    {
     "name": "stdout",
     "output_type": "stream",
     "text": [
      "  Education Level  Average Income\n",
      "0               0        12756.65\n",
      "1               1         8663.80\n",
      "2               2         9596.87\n",
      "3               3         8415.06\n"
     ]
    }
   ],
   "source": [
    "print(pd.DataFrame(data={'Education Level': EDUCATION, 'Average Income': values}))"
   ]
  },
  {
   "cell_type": "code",
   "execution_count": 50,
   "id": "308fd6d1",
   "metadata": {},
   "outputs": [
    {
     "data": {
      "text/plain": [
       "Text(0.5, 1.0, \"Average Balance by Customer's Education\")"
      ]
     },
     "execution_count": 50,
     "metadata": {},
     "output_type": "execute_result"
    },
    {
     "data": {
      "image/png": "[encoded data removed]",
      "text/plain": [
       "<Figure size 432x288 with 1 Axes>"
      ]
     },
     "metadata": {
      "needs_background": "light"
     },
     "output_type": "display_data"
    }
   ],
   "source": [
    "# Plot bar char for the average balance by customer's education level\n",
    "plt.bar(EDUCATION, values, color = 'blue', width = 0.5)\n",
    "plt.xlabel('Customer\\'s Education')\n",
    "plt.ylabel('Average Balance')\n",
    "plt.title('Average Balance by Customer\\'s Education')"
   ]
  },
  {
   "cell_type": "code",
   "execution_count": null,
   "id": "5037c99a",
   "metadata": {},
   "outputs": [],
   "source": []
  }
 ],
 "metadata": {
  "kernelspec": {
   "display_name": "Python 3 (ipykernel)",
   "language": "python",
   "name": "python3"
  },
  "language_info": {
   "codemirror_mode": {
    "name": "ipython",
    "version": 3
   },
   "file_extension": ".py",
   "mimetype": "text/x-python",
   "name": "python",
   "nbconvert_exporter": "python",
   "pygments_lexer": "ipython3",
   "version": "3.9.12"
  }
 },
 "nbformat": 4,
 "nbformat_minor": 5
}
