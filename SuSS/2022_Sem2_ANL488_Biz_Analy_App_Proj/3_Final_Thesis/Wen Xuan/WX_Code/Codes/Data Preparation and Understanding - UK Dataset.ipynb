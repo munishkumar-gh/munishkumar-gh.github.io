{
 "cells": [
  {
   "cell_type": "markdown",
   "id": "348b66ca",
   "metadata": {},
   "source": [
    "# Dataset Initial Preparation and Merging"
   ]
  },
  {
   "cell_type": "markdown",
   "id": "851624ea",
   "metadata": {},
   "source": [
    "## UK Dataset"
   ]
  },
  {
   "cell_type": "markdown",
   "id": "143c265a",
   "metadata": {},
   "source": [
    "## Dataset Merging and Initial Selection"
   ]
  },
  {
   "cell_type": "code",
   "execution_count": 23,
   "id": "0a6dac2b",
   "metadata": {},
   "outputs": [],
   "source": [
    "# importing of relevant libraries\n",
    "import pandas as pd\n",
    "import shutil\n",
    "import os\n",
    "import numpy as np \n",
    "from sklearn.impute import KNNImputer\n",
    "from sklearn.preprocessing import MinMaxScaler"
   ]
  },
  {
   "cell_type": "markdown",
   "id": "afc4ed95",
   "metadata": {},
   "source": [
    "moving of files"
   ]
  },
  {
   "cell_type": "code",
   "execution_count": 8,
   "id": "1c6dfe96",
   "metadata": {},
   "outputs": [],
   "source": [
    "# source + destination\n",
    "source = 'UK\\Data_Sets'\n",
    "destination = 'Destination'"
   ]
  },
  {
   "cell_type": "code",
   "execution_count": 9,
   "id": "f099179e",
   "metadata": {},
   "outputs": [],
   "source": [
    "files = os.listdir(source)\n",
    "for files in files: # subfolders \n",
    "    sub_path = os.path.join(source, file)\n",
    "    subfolders = os.listdir(sub_path)\n",
    "    for one_file in subfolders: # files in the subfolders\n",
    "        if ('core' in one_file or 'Core' in one_file) \\ \n",
    "        and ('Analysis' not in one_file and 'Source' not in one_file) \\\n",
    "        and (one_file.endswith(('xls','xlsx'))): # requirement for file selection\n",
    "        deep_path = os.path.join(one_path, one_file) # full path of files of subfolder\n",
    "        shutil.move(deep_path, destination)\n",
    "print('files have been moved')"
   ]
  },
  {
   "cell_type": "markdown",
   "id": "5da579c4",
   "metadata": {},
   "source": [
    "merging files"
   ]
  },
  {
   "cell_type": "code",
   "execution_count": null,
   "id": "c361d266",
   "metadata": {},
   "outputs": [],
   "source": [
    "# split xls data into 1 folder and xlsx data into another folder and then merge seperately and saved as csv format\n",
    "#xls file \n",
    "source = r'Destination\\xls'\n",
    "destination = r'Destination\\xls'\n",
    "save_name = r'combined'\n",
    "save_format = r'.csv'\n",
    "saved_file_name = save_name + save_format\n",
    "count = 0\n",
    "\n",
    "file_list = os.listdir(source)\n",
    "\n",
    "df = pd.read_excel(source+'\\\\'+file_list[0])\n",
    "df.to_csv(destination+'\\\\'+ saved_file_name, index = False) # first file with the column headers\n",
    "\n",
    "#loop each xls file to append into combined file\n",
    "for i in range(1, len(file_list)):\n",
    "    df = pd.read_excel(source+'\\\\'+file_list[i], engine = 'xlrd')\n",
    "    #print(file) # used for trial and error to remove corrupted files\n",
    "    #print(df) # used for trial and error to remove corrupted files\n",
    "    df.to_csv(destination+'\\\\'+ saved_file_name, index = False, header = False, mode='a+')\n",
    "    count+=1\n",
    "print(f'{count} file is done merging' )"
   ]
  },
  {
   "cell_type": "code",
   "execution_count": null,
   "id": "0d34efa0",
   "metadata": {},
   "outputs": [],
   "source": [
    "#xlsx file \n",
    "source = r'Destination\\xlsx'\n",
    "destination = r'Destination\\xlsx'\n",
    "save_name = r'combined'\n",
    "save_format = r'.csv'\n",
    "saved_file_name = save_name + save_format\n",
    "count = 0\n",
    "\n",
    "file_list = os.listdir(source)\n",
    "\n",
    "df = pd.read_excel(source+'\\\\'+file_list[0])\n",
    "df.to_csv(destination+'\\\\'+ saved_file_name, index = False) # first file with the column headers\n",
    "\n",
    "#loop each xlsx file to append into combined file\n",
    "for i in range(1, len(file_list)):\n",
    "    df = pd.read_excel(source+'\\\\'+file_list[i])\n",
    "    #print(file) # used for trial and error to remove corrupted files\n",
    "    #print(df) # used for trial and error to remove corrupted files\n",
    "    df.to_csv(destination+'\\\\'+ saved_file_name, index = False, header = False, mode='a+')\n",
    "    count+=1\n",
    "print(f'{count} file is done merging' )"
   ]
  },
  {
   "cell_type": "code",
   "execution_count": null,
   "id": "15dd1da4",
   "metadata": {},
   "outputs": [],
   "source": [
    "# merge the two files into a single csv\n",
    "source = r'Destination\\final'\n",
    "destination = r'Destination\\final'\n",
    "save_name = r'combined'\n",
    "save_format = r'.csv'\n",
    "saved_file_name = save_name + save_format\n",
    "count = 0\n",
    "\n",
    "file_list = os.listdir(source)\n",
    "\n",
    "df = pd.read_csv(source+'\\\\'+file_list[0])\n",
    "df.to_csv(destination+'\\\\'+ saved_file_name, index = False) # first file with the column headers\n",
    "\n",
    "#loop to append into combined file\n",
    "for i in range(1, len(file_list)):\n",
    "    df = pd.read_csv(source+'\\\\'+file_list[i])\n",
    "    df.to_csv(destination+'\\\\'+ saved_file_name, index = False, header = False, mode='a+')\n",
    "    count+=1\n",
    "print(f'{count} file is done merging' )"
   ]
  },
  {
   "cell_type": "code",
   "execution_count": 11,
   "id": "2ee21e3c",
   "metadata": {},
   "outputs": [
    {
     "name": "stderr",
     "output_type": "stream",
     "text": [
      "C:\\Users\\tan\\AppData\\Local\\Temp\\ipykernel_6868\\763747586.py:1: DtypeWarning: Columns (1,3,4,5,6,7,8,9,10,12,13,14,15,16,17,18,20,22,23,24,26,28,29,30,32,33,34,35,39,40,41,42,43,45,46) have mixed types. Specify dtype option on import or set low_memory=False.\n",
      "  df_UK = pd.read_csv(\"UK.csv\")\n"
     ]
    }
   ],
   "source": [
    "# Read merged file into dataframe\n",
    "df_UK = pd.read_csv(\"UK.csv\")"
   ]
  },
  {
   "cell_type": "code",
   "execution_count": 15,
   "id": "65ef8c01",
   "metadata": {},
   "outputs": [
    {
     "name": "stdout",
     "output_type": "stream",
     "text": [
      "<bound method Series.to_string of Wellname                                 15794\n",
      "UWN                                      27632\n",
      "CountryCode                              15552\n",
      "CORE_NUMBER                              20450\n",
      "DATE_CUT                                540112\n",
      "WATER_OIL_LEG                           536304\n",
      "AGE                                     546930\n",
      "FORMATION                               583750\n",
      "LITHOLOGY                               579654\n",
      "SAMPLE_NUMBER                           101074\n",
      "SAMPLE_DEPTH                             65538\n",
      "FT_MTR                                   68484\n",
      "CORE_SHIFTS_APPLIED                     552708\n",
      "BRINELL_HARDNESS                        542816\n",
      "GRAIN_DENSITY                           170258\n",
      "SATURATION_OIL                          463162\n",
      "SATURATION_WATER                        447298\n",
      "SATURATION_GAS                          562216\n",
      "F.S.P. (Porosity by Fluid Summation)    469448\n",
      "F.S.P. Note.                            530070\n",
      "POROSITY 1                              168354\n",
      "POROSITY 1_NOTE                         184516\n",
      "POROSITY 2                              560660\n",
      "POROSITY 2_NOTE                         535362\n",
      "HOR_PERMEABILITY 1                      181056\n",
      "HOR_PERMEABILITY 1 (NOTE)               190942\n",
      "HOR_PERMEABILITY 2                      448750\n",
      "HOR_PERMEABILITY 2 (NOTE)               421404\n",
      "HOR_PERMEABILITY 3                      556590\n",
      "HOR_PERMEABILITY 3 (NOTE)               573714\n",
      "VERT_PERMEABILITY 1                     453024\n",
      "VERT_PERMEABILITY 1 (NOTE)              455230\n",
      "VERT_PERMEABILITY 2                     542148\n",
      "VERT_PERMEABILITY 2 (NOTE)              535308\n",
      "VERT_PERMEABILITY 3                     581846\n",
      "VERT_PERMEABILITY 3 (NOTE)              585880\n",
      "REMARKS                                 462172\n",
      "DESCRIPTION                             325704\n",
      "LABORATORY                               86476\n",
      "DATE AMENDED                            579158\n",
      "AMENDED BY                              556148\n",
      "Unnamed: 41                             558666\n",
      "Unnamed: 42                             585212\n",
      "Unnamed: 43                             589862\n",
      "Unnamed: 44                             589968\n",
      "Unnamed: 45                             589138\n",
      "Unnamed: 46                             589588\n",
      "dtype: int64>\n"
     ]
    }
   ],
   "source": [
    "print(df_UK.isnull().sum().to_string)"
   ]
  },
  {
   "cell_type": "code",
   "execution_count": 16,
   "id": "e538e69b",
   "metadata": {},
   "outputs": [],
   "source": [
    "# Initial Selection of Columns\n",
    "df_UK = df_UK[['SATURATION_OIL', 'SATURATION_WATER', 'POROSITY 1', 'HOR_PERMEABILITY 1']]"
   ]
  },
  {
   "cell_type": "code",
   "execution_count": 20,
   "id": "0eae863a",
   "metadata": {},
   "outputs": [
    {
     "name": "stdout",
     "output_type": "stream",
     "text": [
      "(589968, 4)\n",
      "SATURATION_OIL        463162\n",
      "SATURATION_WATER      447298\n",
      "POROSITY 1            168354\n",
      "HOR_PERMEABILITY 1    181056\n",
      "dtype: int64\n"
     ]
    }
   ],
   "source": [
    "print(df_UK.shape)\n",
    "print(df_UK.isnull().sum()) # check number of null data in each column"
   ]
  },
  {
   "cell_type": "code",
   "execution_count": 21,
   "id": "434ff43b",
   "metadata": {},
   "outputs": [],
   "source": [
    "df_UK.to_csv(\"UK1.csv\", index=False) #write to csv format"
   ]
  },
  {
   "cell_type": "markdown",
   "id": "8df838ee",
   "metadata": {},
   "source": [
    "## Dataset  Preparation and Understanding"
   ]
  },
  {
   "cell_type": "code",
   "execution_count": 463,
   "id": "b22881c1",
   "metadata": {},
   "outputs": [
    {
     "name": "stderr",
     "output_type": "stream",
     "text": [
      "C:\\Users\\tan\\AppData\\Local\\Temp\\ipykernel_6868\\2404573795.py:1: DtypeWarning: Columns (2) have mixed types. Specify dtype option on import or set low_memory=False.\n",
      "  df_UK = pd.read_csv(r'Cleaned\\UK\\UK1.csv',skipinitialspace=True)\n"
     ]
    }
   ],
   "source": [
    "df_UK = pd.read_csv(r'Cleaned\\UK\\UK1.csv',skipinitialspace=True)"
   ]
  },
  {
   "cell_type": "code",
   "execution_count": 464,
   "id": "607f11c2",
   "metadata": {},
   "outputs": [
    {
     "data": {
      "text/html": [
       "<div>\n",
       "<style scoped>\n",
       "    .dataframe tbody tr th:only-of-type {\n",
       "        vertical-align: middle;\n",
       "    }\n",
       "\n",
       "    .dataframe tbody tr th {\n",
       "        vertical-align: top;\n",
       "    }\n",
       "\n",
       "    .dataframe thead th {\n",
       "        text-align: right;\n",
       "    }\n",
       "</style>\n",
       "<table border=\"1\" class=\"dataframe\">\n",
       "  <thead>\n",
       "    <tr style=\"text-align: right;\">\n",
       "      <th></th>\n",
       "      <th>SATURATION_OIL</th>\n",
       "      <th>SATURATION_WATER</th>\n",
       "      <th>POROSITY 1</th>\n",
       "      <th>HOR_PERMEABILITY 1</th>\n",
       "    </tr>\n",
       "  </thead>\n",
       "  <tbody>\n",
       "    <tr>\n",
       "      <th>0</th>\n",
       "      <td>NaN</td>\n",
       "      <td>35.5</td>\n",
       "      <td>32.7</td>\n",
       "      <td>922</td>\n",
       "    </tr>\n",
       "    <tr>\n",
       "      <th>1</th>\n",
       "      <td>NaN</td>\n",
       "      <td>NaN</td>\n",
       "      <td>32.8</td>\n",
       "      <td>963</td>\n",
       "    </tr>\n",
       "    <tr>\n",
       "      <th>2</th>\n",
       "      <td>NaN</td>\n",
       "      <td>NaN</td>\n",
       "      <td>33.1</td>\n",
       "      <td>904</td>\n",
       "    </tr>\n",
       "    <tr>\n",
       "      <th>3</th>\n",
       "      <td>NaN</td>\n",
       "      <td>NaN</td>\n",
       "      <td>31.4</td>\n",
       "      <td>903</td>\n",
       "    </tr>\n",
       "    <tr>\n",
       "      <th>4</th>\n",
       "      <td>NaN</td>\n",
       "      <td>NaN</td>\n",
       "      <td>31.8</td>\n",
       "      <td>953</td>\n",
       "    </tr>\n",
       "  </tbody>\n",
       "</table>\n",
       "</div>"
      ],
      "text/plain": [
       "  SATURATION_OIL SATURATION_WATER POROSITY 1 HOR_PERMEABILITY 1\n",
       "0            NaN             35.5       32.7                922\n",
       "1            NaN              NaN       32.8                963\n",
       "2            NaN              NaN       33.1                904\n",
       "3            NaN              NaN       31.4                903\n",
       "4            NaN              NaN       31.8                953"
      ]
     },
     "execution_count": 464,
     "metadata": {},
     "output_type": "execute_result"
    }
   ],
   "source": [
    "df_UK.head()"
   ]
  },
  {
   "cell_type": "code",
   "execution_count": 465,
   "id": "59e6f7e6",
   "metadata": {},
   "outputs": [
    {
     "data": {
      "text/plain": [
       "(589968, 4)"
      ]
     },
     "execution_count": 465,
     "metadata": {},
     "output_type": "execute_result"
    }
   ],
   "source": [
    "df_UK.shape"
   ]
  },
  {
   "cell_type": "code",
   "execution_count": 466,
   "id": "fa27ecf3",
   "metadata": {},
   "outputs": [
    {
     "data": {
      "text/plain": [
       "SATURATION_OIL        463236\n",
       "SATURATION_WATER      447304\n",
       "POROSITY 1            168502\n",
       "HOR_PERMEABILITY 1    181214\n",
       "dtype: int64"
      ]
     },
     "execution_count": 466,
     "metadata": {},
     "output_type": "execute_result"
    }
   ],
   "source": [
    "df_UK.isnull().sum()"
   ]
  },
  {
   "cell_type": "code",
   "execution_count": 467,
   "id": "c831d1ca",
   "metadata": {},
   "outputs": [
    {
     "data": {
      "text/plain": [
       "SATURATION_OIL        object\n",
       "SATURATION_WATER      object\n",
       "POROSITY 1            object\n",
       "HOR_PERMEABILITY 1    object\n",
       "dtype: object"
      ]
     },
     "execution_count": 467,
     "metadata": {},
     "output_type": "execute_result"
    }
   ],
   "source": [
    "df_UK.dtypes"
   ]
  },
  {
   "cell_type": "code",
   "execution_count": 468,
   "id": "f9f1e789",
   "metadata": {},
   "outputs": [],
   "source": [
    "# Replacing Strings (Iterative Manner due to dtype change code)\n",
    "string_list = ['NFSP', 'Tr.','.','Horizontal','Horizontal Helium','Vertical','Helium_Vertical','TRACE','Wet'\\\n",
    "              ,'Depth (ft.)','FAIL','Helium','Helium - Vertical','Helium (500psi)_Vertical', 'KL millidarcies'\\\n",
    "              ,'Vertical Helium','Air','> Kg millidarcies @ 300 psi ','Kg millidarcies @ 300 psi ']\n",
    "df_UK = df_UK.replace(string_list,np.nan)\n",
    "df_UK = df_UK.replace('42. 3',42.3)\n",
    "df_UK = df_UK.replace('<0.01',0.01)\n",
    "df_UK = df_UK.replace('43 .2',43.2)"
   ]
  },
  {
   "cell_type": "code",
   "execution_count": 469,
   "id": "6084e2bb",
   "metadata": {},
   "outputs": [],
   "source": [
    "df_UK = df_UK.dropna(how='all')"
   ]
  },
  {
   "cell_type": "code",
   "execution_count": 470,
   "id": "8501434d",
   "metadata": {},
   "outputs": [
    {
     "data": {
      "text/plain": [
       "SATURATION_OIL        311676\n",
       "SATURATION_WATER      294514\n",
       "POROSITY 1             19420\n",
       "HOR_PERMEABILITY 1     51058\n",
       "dtype: int64"
      ]
     },
     "execution_count": 470,
     "metadata": {},
     "output_type": "execute_result"
    }
   ],
   "source": [
    "df_UK.isnull().sum()"
   ]
  },
  {
   "cell_type": "code",
   "execution_count": 471,
   "id": "7ee18204",
   "metadata": {},
   "outputs": [],
   "source": [
    "df_UK = df_UK.dropna(subset=['SATURATION_OIL','SATURATION_WATER'],how='all')"
   ]
  },
  {
   "cell_type": "code",
   "execution_count": 472,
   "id": "6d490e0d",
   "metadata": {},
   "outputs": [
    {
     "data": {
      "text/plain": [
       "(145208, 4)"
      ]
     },
     "execution_count": 472,
     "metadata": {},
     "output_type": "execute_result"
    }
   ],
   "source": [
    "df_UK.shape"
   ]
  },
  {
   "cell_type": "code",
   "execution_count": 473,
   "id": "dd710248",
   "metadata": {},
   "outputs": [],
   "source": [
    "df_UK = df_UK.dropna(subset=['POROSITY 1','HOR_PERMEABILITY 1'], how='all')"
   ]
  },
  {
   "cell_type": "code",
   "execution_count": 474,
   "id": "28457120",
   "metadata": {},
   "outputs": [
    {
     "data": {
      "text/plain": [
       "(134146, 4)"
      ]
     },
     "execution_count": 474,
     "metadata": {},
     "output_type": "execute_result"
    }
   ],
   "source": [
    "df_UK.shape"
   ]
  },
  {
   "cell_type": "code",
   "execution_count": 475,
   "id": "07ec9a2d",
   "metadata": {},
   "outputs": [
    {
     "data": {
      "text/plain": [
       "SATURATION_OIL        16804\n",
       "SATURATION_WATER       1056\n",
       "POROSITY 1             1258\n",
       "HOR_PERMEABILITY 1     9578\n",
       "dtype: int64"
      ]
     },
     "execution_count": 475,
     "metadata": {},
     "output_type": "execute_result"
    }
   ],
   "source": [
    "df_UK.isnull().sum()"
   ]
  },
  {
   "cell_type": "code",
   "execution_count": 476,
   "id": "fc5f090c",
   "metadata": {},
   "outputs": [],
   "source": [
    "df_UK = df_UK.apply(pd.to_numeric)"
   ]
  },
  {
   "cell_type": "code",
   "execution_count": 477,
   "id": "0b838703",
   "metadata": {},
   "outputs": [
    {
     "name": "stdout",
     "output_type": "stream",
     "text": [
      "<class 'pandas.core.frame.DataFrame'>\n",
      "Int64Index: 134146 entries, 0 to 589963\n",
      "Data columns (total 4 columns):\n",
      " #   Column              Non-Null Count   Dtype  \n",
      "---  ------              --------------   -----  \n",
      " 0   SATURATION_OIL      117342 non-null  float64\n",
      " 1   SATURATION_WATER    133090 non-null  float64\n",
      " 2   POROSITY 1          132888 non-null  float64\n",
      " 3   HOR_PERMEABILITY 1  124568 non-null  float64\n",
      "dtypes: float64(4)\n",
      "memory usage: 5.1 MB\n"
     ]
    }
   ],
   "source": [
    "df_UK.info()"
   ]
  },
  {
   "cell_type": "code",
   "execution_count": 478,
   "id": "3f966fab",
   "metadata": {},
   "outputs": [
    {
     "data": {
      "text/html": [
       "<div>\n",
       "<style scoped>\n",
       "    .dataframe tbody tr th:only-of-type {\n",
       "        vertical-align: middle;\n",
       "    }\n",
       "\n",
       "    .dataframe tbody tr th {\n",
       "        vertical-align: top;\n",
       "    }\n",
       "\n",
       "    .dataframe thead th {\n",
       "        text-align: right;\n",
       "    }\n",
       "</style>\n",
       "<table border=\"1\" class=\"dataframe\">\n",
       "  <thead>\n",
       "    <tr style=\"text-align: right;\">\n",
       "      <th></th>\n",
       "      <th>SATURATION_OIL</th>\n",
       "      <th>SATURATION_WATER</th>\n",
       "      <th>POROSITY 1</th>\n",
       "      <th>HOR_PERMEABILITY 1</th>\n",
       "    </tr>\n",
       "  </thead>\n",
       "  <tbody>\n",
       "    <tr>\n",
       "      <th>SATURATION_OIL</th>\n",
       "      <td>1.000000</td>\n",
       "      <td>-0.524677</td>\n",
       "      <td>0.120355</td>\n",
       "      <td>0.101586</td>\n",
       "    </tr>\n",
       "    <tr>\n",
       "      <th>SATURATION_WATER</th>\n",
       "      <td>-0.524677</td>\n",
       "      <td>1.000000</td>\n",
       "      <td>0.325077</td>\n",
       "      <td>-0.072005</td>\n",
       "    </tr>\n",
       "    <tr>\n",
       "      <th>POROSITY 1</th>\n",
       "      <td>0.120355</td>\n",
       "      <td>0.325077</td>\n",
       "      <td>1.000000</td>\n",
       "      <td>0.424597</td>\n",
       "    </tr>\n",
       "    <tr>\n",
       "      <th>HOR_PERMEABILITY 1</th>\n",
       "      <td>0.101586</td>\n",
       "      <td>-0.072005</td>\n",
       "      <td>0.424597</td>\n",
       "      <td>1.000000</td>\n",
       "    </tr>\n",
       "  </tbody>\n",
       "</table>\n",
       "</div>"
      ],
      "text/plain": [
       "                    SATURATION_OIL  SATURATION_WATER  POROSITY 1  \\\n",
       "SATURATION_OIL            1.000000         -0.524677    0.120355   \n",
       "SATURATION_WATER         -0.524677          1.000000    0.325077   \n",
       "POROSITY 1                0.120355          0.325077    1.000000   \n",
       "HOR_PERMEABILITY 1        0.101586         -0.072005    0.424597   \n",
       "\n",
       "                    HOR_PERMEABILITY 1  \n",
       "SATURATION_OIL                0.101586  \n",
       "SATURATION_WATER             -0.072005  \n",
       "POROSITY 1                    0.424597  \n",
       "HOR_PERMEABILITY 1            1.000000  "
      ]
     },
     "execution_count": 478,
     "metadata": {},
     "output_type": "execute_result"
    }
   ],
   "source": [
    "df_UK.corr()"
   ]
  },
  {
   "cell_type": "code",
   "execution_count": 479,
   "id": "df9161a6",
   "metadata": {},
   "outputs": [],
   "source": [
    "# remove outliers in all columns\n",
    "sd = 3 \n",
    "df_UK = df_UK[df_UK.apply(lambda x:np.abs(x - x.mean()) / x.std() < sd).all(axis=1)]"
   ]
  },
  {
   "cell_type": "code",
   "execution_count": 480,
   "id": "f38a080f",
   "metadata": {},
   "outputs": [],
   "source": [
    "df_UK = df_UK[['POROSITY 1', 'HOR_PERMEABILITY 1']]\n",
    "df_UK.columns = ['Porosity', 'Permeability']"
   ]
  },
  {
   "cell_type": "code",
   "execution_count": 481,
   "id": "7d4a6c69",
   "metadata": {},
   "outputs": [],
   "source": [
    "df_UK['Porosity'] = df_UK['Porosity'].div(100)\n",
    "df_UK['Permeability'] = df_UK['Permeability'].div(100)\n",
    "df_UK.reset_index(inplace=True, drop = True)"
   ]
  },
  {
   "cell_type": "code",
   "execution_count": 482,
   "id": "90e9dd43",
   "metadata": {},
   "outputs": [],
   "source": [
    "UK_knn_df = df_UK.copy()"
   ]
  },
  {
   "cell_type": "code",
   "execution_count": 483,
   "id": "51bf8d6f",
   "metadata": {},
   "outputs": [],
   "source": [
    "# Min Max Scale and Fill in missing data using KNN imputer\n",
    "scaler = MinMaxScaler(feature_range=(0,1))\n",
    "\n",
    "UK_knn_df = pd.DataFrame(scaler.fit_transform(UK_knn_df), columns=UK_knn_df.columns)\n",
    "\n",
    "knnimputer = KNNImputer(n_neighbors=7, weights='uniform', metric='nan_euclidean')\n",
    "\n",
    "new_UK_KNN_df = pd.DataFrame(knnimputer.fit_transform(UK_knn_df), columns=UK_knn_df.columns)"
   ]
  },
  {
   "cell_type": "code",
   "execution_count": 484,
   "id": "bf2deffe",
   "metadata": {},
   "outputs": [
    {
     "data": {
      "text/plain": [
       "Porosity        0\n",
       "Permeability    0\n",
       "dtype: int64"
      ]
     },
     "execution_count": 484,
     "metadata": {},
     "output_type": "execute_result"
    }
   ],
   "source": [
    "new_UK_KNN_df.isnull().sum()"
   ]
  },
  {
   "cell_type": "code",
   "execution_count": 485,
   "id": "a3984d84",
   "metadata": {},
   "outputs": [
    {
     "name": "stderr",
     "output_type": "stream",
     "text": [
      "C:\\Users\\tan\\anaconda3\\lib\\site-packages\\pandas\\core\\arraylike.py:397: RuntimeWarning: divide by zero encountered in log10\n",
      "  result = getattr(ufunc, method)(*inputs, **kwargs)\n",
      "C:\\Users\\tan\\anaconda3\\lib\\site-packages\\pandas\\core\\arraylike.py:397: RuntimeWarning: divide by zero encountered in log10\n",
      "  result = getattr(ufunc, method)(*inputs, **kwargs)\n"
     ]
    }
   ],
   "source": [
    "# Creation of columns based on porosity and permeability needed for the traditional method\n",
    "new_UK_KNN_df['RQI'] = 0.0314*(new_UK_KNN_df['Permeability']/new_UK_KNN_df['Porosity'])**0.5\n",
    "new_UK_KNN_df['Porosity Index'] = new_UK_KNN_df['Porosity']/(1 - new_UK_KNN_df['Porosity'])\n",
    "new_UK_KNN_df['FZI'] = new_UK_KNN_df['RQI']/new_UK_KNN_df['Porosity Index']\n",
    "new_UK_KNN_df['Log Porosity Index'] = np.log10(new_UK_KNN_df['Porosity Index'])\n",
    "new_UK_KNN_df['Log RQI'] = np.log10(new_UK_KNN_df['RQI'])"
   ]
  },
  {
   "cell_type": "code",
   "execution_count": 486,
   "id": "f7e61439",
   "metadata": {},
   "outputs": [
    {
     "data": {
      "text/html": [
       "<div>\n",
       "<style scoped>\n",
       "    .dataframe tbody tr th:only-of-type {\n",
       "        vertical-align: middle;\n",
       "    }\n",
       "\n",
       "    .dataframe tbody tr th {\n",
       "        vertical-align: top;\n",
       "    }\n",
       "\n",
       "    .dataframe thead th {\n",
       "        text-align: right;\n",
       "    }\n",
       "</style>\n",
       "<table border=\"1\" class=\"dataframe\">\n",
       "  <thead>\n",
       "    <tr style=\"text-align: right;\">\n",
       "      <th></th>\n",
       "      <th>Porosity</th>\n",
       "      <th>Permeability</th>\n",
       "    </tr>\n",
       "  </thead>\n",
       "  <tbody>\n",
       "    <tr>\n",
       "      <th>0</th>\n",
       "      <td>0.013</td>\n",
       "      <td>0.0003</td>\n",
       "    </tr>\n",
       "    <tr>\n",
       "      <th>1</th>\n",
       "      <td>0.021</td>\n",
       "      <td>0.0003</td>\n",
       "    </tr>\n",
       "    <tr>\n",
       "      <th>2</th>\n",
       "      <td>0.280</td>\n",
       "      <td>8.9600</td>\n",
       "    </tr>\n",
       "    <tr>\n",
       "      <th>3</th>\n",
       "      <td>0.244</td>\n",
       "      <td>11.2400</td>\n",
       "    </tr>\n",
       "    <tr>\n",
       "      <th>4</th>\n",
       "      <td>0.191</td>\n",
       "      <td>3.6300</td>\n",
       "    </tr>\n",
       "  </tbody>\n",
       "</table>\n",
       "</div>"
      ],
      "text/plain": [
       "   Porosity  Permeability\n",
       "0     0.013        0.0003\n",
       "1     0.021        0.0003\n",
       "2     0.280        8.9600\n",
       "3     0.244       11.2400\n",
       "4     0.191        3.6300"
      ]
     },
     "execution_count": 486,
     "metadata": {},
     "output_type": "execute_result"
    }
   ],
   "source": [
    "df_UK.head()"
   ]
  },
  {
   "cell_type": "code",
   "execution_count": 487,
   "id": "c296767f",
   "metadata": {},
   "outputs": [
    {
     "name": "stdout",
     "output_type": "stream",
     "text": [
      "<class 'list'>\n"
     ]
    }
   ],
   "source": [
    "new_UK_KNN_df[np.isinf(new_UK_KNN_df).any(1)]\n",
    "to_drop = new_UK_KNN_df.index[np.isinf(new_UK_KNN_df).any(1)]"
   ]
  },
  {
   "cell_type": "code",
   "execution_count": 488,
   "id": "1843801b",
   "metadata": {},
   "outputs": [
    {
     "name": "stdout",
     "output_type": "stream",
     "text": [
      "[829, 23194, 25067, 26029, 31192, 53250, 75615, 77488, 78450, 83613]\n"
     ]
    }
   ],
   "source": [
    "to_drop = list(to_drop)"
   ]
  },
  {
   "cell_type": "code",
   "execution_count": 490,
   "id": "a1711969",
   "metadata": {},
   "outputs": [],
   "source": [
    "df_UK = df_UK.drop(to_drop) # remove rows with infinity value for the non normalised data"
   ]
  },
  {
   "cell_type": "code",
   "execution_count": 494,
   "id": "6c827e7d",
   "metadata": {},
   "outputs": [],
   "source": [
    "new_UK_KNN_df = new_UK_KNN_df.drop(to_drop) # remove rows with infity values for the normalised data"
   ]
  },
  {
   "cell_type": "code",
   "execution_count": 496,
   "id": "f08eee2a",
   "metadata": {},
   "outputs": [],
   "source": [
    "df_UK.reset_index(inplace=True, drop = True)\n",
    "new_UK_KNN_df.reset_index(inplace=True, drop = True)"
   ]
  },
  {
   "cell_type": "code",
   "execution_count": 497,
   "id": "8c0734a7",
   "metadata": {},
   "outputs": [],
   "source": [
    "new_UK_KNN_df = new_UK_KNN_df.sort_values(by=['FZI']) # required step for traditional method"
   ]
  },
  {
   "cell_type": "code",
   "execution_count": 500,
   "id": "3f5bdf72",
   "metadata": {},
   "outputs": [
    {
     "data": {
      "text/html": [
       "<div>\n",
       "<style scoped>\n",
       "    .dataframe tbody tr th:only-of-type {\n",
       "        vertical-align: middle;\n",
       "    }\n",
       "\n",
       "    .dataframe tbody tr th {\n",
       "        vertical-align: top;\n",
       "    }\n",
       "\n",
       "    .dataframe thead th {\n",
       "        text-align: right;\n",
       "    }\n",
       "</style>\n",
       "<table border=\"1\" class=\"dataframe\">\n",
       "  <thead>\n",
       "    <tr style=\"text-align: right;\">\n",
       "      <th></th>\n",
       "      <th>Porosity</th>\n",
       "      <th>Permeability</th>\n",
       "    </tr>\n",
       "  </thead>\n",
       "  <tbody>\n",
       "    <tr>\n",
       "      <th>68946</th>\n",
       "      <td>0.380</td>\n",
       "      <td>0.0001</td>\n",
       "    </tr>\n",
       "    <tr>\n",
       "      <th>16530</th>\n",
       "      <td>0.380</td>\n",
       "      <td>0.0001</td>\n",
       "    </tr>\n",
       "    <tr>\n",
       "      <th>54880</th>\n",
       "      <td>0.241</td>\n",
       "      <td>0.0001</td>\n",
       "    </tr>\n",
       "    <tr>\n",
       "      <th>2464</th>\n",
       "      <td>0.241</td>\n",
       "      <td>0.0001</td>\n",
       "    </tr>\n",
       "    <tr>\n",
       "      <th>29639</th>\n",
       "      <td>0.389</td>\n",
       "      <td>0.0115</td>\n",
       "    </tr>\n",
       "    <tr>\n",
       "      <th>...</th>\n",
       "      <td>...</td>\n",
       "      <td>...</td>\n",
       "    </tr>\n",
       "    <tr>\n",
       "      <th>93094</th>\n",
       "      <td>0.003</td>\n",
       "      <td>0.1500</td>\n",
       "    </tr>\n",
       "    <tr>\n",
       "      <th>40666</th>\n",
       "      <td>0.002</td>\n",
       "      <td>0.0540</td>\n",
       "    </tr>\n",
       "    <tr>\n",
       "      <th>93082</th>\n",
       "      <td>0.002</td>\n",
       "      <td>0.0540</td>\n",
       "    </tr>\n",
       "    <tr>\n",
       "      <th>44818</th>\n",
       "      <td>0.005</td>\n",
       "      <td>3.3700</td>\n",
       "    </tr>\n",
       "    <tr>\n",
       "      <th>97234</th>\n",
       "      <td>0.005</td>\n",
       "      <td>3.3700</td>\n",
       "    </tr>\n",
       "  </tbody>\n",
       "</table>\n",
       "<p>104832 rows × 2 columns</p>\n",
       "</div>"
      ],
      "text/plain": [
       "       Porosity  Permeability\n",
       "68946     0.380        0.0001\n",
       "16530     0.380        0.0001\n",
       "54880     0.241        0.0001\n",
       "2464      0.241        0.0001\n",
       "29639     0.389        0.0115\n",
       "...         ...           ...\n",
       "93094     0.003        0.1500\n",
       "40666     0.002        0.0540\n",
       "93082     0.002        0.0540\n",
       "44818     0.005        3.3700\n",
       "97234     0.005        3.3700\n",
       "\n",
       "[104832 rows x 2 columns]"
      ]
     },
     "execution_count": 500,
     "metadata": {},
     "output_type": "execute_result"
    }
   ],
   "source": [
    "df_UK.reindex(new_UK_KNN_df.index) # changing the order of the non normalised data to follow the normalised one for plotting of charts "
   ]
  },
  {
   "cell_type": "code",
   "execution_count": 502,
   "id": "4194bb6b",
   "metadata": {},
   "outputs": [],
   "source": [
    "df_UK.reset_index(inplace=True, drop = True)\n",
    "new_UK_KNN_df.reset_index(inplace=True, drop = True)"
   ]
  },
  {
   "cell_type": "code",
   "execution_count": 503,
   "id": "f8c38a42",
   "metadata": {},
   "outputs": [
    {
     "data": {
      "text/plain": [
       "<AxesSubplot:xlabel='Porosity', ylabel='Permeability'>"
      ]
     },
     "execution_count": 503,
     "metadata": {},
     "output_type": "execute_result"
    },
    {
     "data": {
      "image/png": "[encoded data removed]",
      "text/plain": [
       "<Figure size 432x288 with 1 Axes>"
      ]
     },
     "metadata": {
      "needs_background": "light"
     },
     "output_type": "display_data"
    }
   ],
   "source": [
    "new_UK_KNN_df.plot.scatter(x='Porosity',y='Permeability',xlabel='Porosity',ylabel='Permeability')"
   ]
  },
  {
   "cell_type": "code",
   "execution_count": 509,
   "id": "e051eb75",
   "metadata": {
    "scrolled": true
   },
   "outputs": [
    {
     "data": {
      "text/plain": [
       "<AxesSubplot:>"
      ]
     },
     "execution_count": 509,
     "metadata": {},
     "output_type": "execute_result"
    },
    {
     "data": {
      "image/png": "[encoded data removed]",
      "text/plain": [
       "<Figure size 432x288 with 1 Axes>"
      ]
     },
     "metadata": {
      "needs_background": "light"
     },
     "output_type": "display_data"
    }
   ],
   "source": [
    "new_UK_KNN_df.plot(kind='box', column='Porosity')"
   ]
  },
  {
   "cell_type": "code",
   "execution_count": 510,
   "id": "fc5ae687",
   "metadata": {},
   "outputs": [
    {
     "data": {
      "text/plain": [
       "<AxesSubplot:>"
      ]
     },
     "execution_count": 510,
     "metadata": {},
     "output_type": "execute_result"
    },
    {
     "data": {
      "image/png": "[encoded data removed]",
      "text/plain": [
       "<Figure size 432x288 with 1 Axes>"
      ]
     },
     "metadata": {
      "needs_background": "light"
     },
     "output_type": "display_data"
    }
   ],
   "source": [
    "new_UK_KNN_df.plot(kind='box', column='Permeability')"
   ]
  },
  {
   "cell_type": "code",
   "execution_count": 515,
   "id": "f31293b3",
   "metadata": {},
   "outputs": [],
   "source": [
    "#write to csv format\n",
    "df_UK.to_csv(\"UK_not_normalised.csv\", index=False) \n",
    "df_UK.to_csv(\"UKfortraining1.csv\", index=False) "
   ]
  }
 ],
 "metadata": {
  "kernelspec": {
   "display_name": "Python 3 (ipykernel)",
   "language": "python",
   "name": "python3"
  },
  "language_info": {
   "codemirror_mode": {
    "name": "ipython",
    "version": 3
   },
   "file_extension": ".py",
   "mimetype": "text/x-python",
   "name": "python",
   "nbconvert_exporter": "python",
   "pygments_lexer": "ipython3",
   "version": "3.9.12"
  }
 },
 "nbformat": 4,
 "nbformat_minor": 5
}
