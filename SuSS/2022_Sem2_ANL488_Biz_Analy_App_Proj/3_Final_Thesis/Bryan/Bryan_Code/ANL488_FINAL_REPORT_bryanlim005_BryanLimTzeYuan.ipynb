{
 "cells": [
  {
   "cell_type": "code",
   "execution_count": 1,
   "id": "b4e473b0",
   "metadata": {},
   "outputs": [],
   "source": [
    "# Import relevant libraries\n",
    "import pandas as pd\n",
    "import numpy as np\n",
    "import math\n",
    "import seaborn as sns\n",
    "\n",
    "\n",
    "from datetime import datetime\n",
    "from dateutil.relativedelta import relativedelta\n",
    "from matplotlib import pyplot as plt\n",
    "\n",
    "\n",
    "from tensorflow.keras.models import Sequential\n",
    "from tensorflow.keras.layers import *\n",
    "from tensorflow.keras.callbacks import ModelCheckpoint\n",
    "from tensorflow.keras.losses import MeanSquaredError\n",
    "from tensorflow.keras.metrics import RootMeanSquaredError\n",
    "from tensorflow.keras.optimizers import Adam\n",
    "from tensorflow.keras.models import load_model\n",
    "\n",
    "from sklearn.preprocessing import MinMaxScaler\n",
    "from sklearn.metrics import mean_squared_error as mse\n",
    "from sklearn.metrics import mean_absolute_percentage_error as mape\n",
    "from sklearn.model_selection import train_test_split\n",
    "\n"
   ]
  },
  {
   "cell_type": "code",
   "execution_count": 2,
   "id": "ff6a9690",
   "metadata": {},
   "outputs": [],
   "source": [
    "data_file = 'owid-co2-data.csv' #import data file\n",
    "time_period = 60 # years\n",
    "end_date = 2020 "
   ]
  },
  {
   "cell_type": "code",
   "execution_count": 3,
   "id": "9aecad00",
   "metadata": {
    "scrolled": true
   },
   "outputs": [],
   "source": [
    "# Read and display csv file\n",
    "df = pd.read_csv(data_file)"
   ]
  },
  {
   "cell_type": "code",
   "execution_count": 4,
   "id": "365cb8f5",
   "metadata": {
    "scrolled": true
   },
   "outputs": [],
   "source": [
    "df.index = pd.to_datetime(df['year'], format=\"%Y\") #Convert year to datetime format, make into index\n",
    "df = df[['country','co2','population','gdp']] #Filter out relevant columns"
   ]
  },
  {
   "cell_type": "code",
   "execution_count": 5,
   "id": "6004942c",
   "metadata": {
    "scrolled": true
   },
   "outputs": [],
   "source": [
    "df2 = df.ffill(axis = 0) #Forward fill null or blank values"
   ]
  },
  {
   "cell_type": "code",
   "execution_count": 6,
   "id": "22ed2327",
   "metadata": {
    "scrolled": true
   },
   "outputs": [],
   "source": [
    "df3 = pd.pivot_table(df2,index=['year'],columns=[\"country\"], values=[\"co2\",\"population\",\"gdp\"]) #Pivtoing table"
   ]
  },
  {
   "cell_type": "code",
   "execution_count": 7,
   "id": "fa68aed7",
   "metadata": {},
   "outputs": [],
   "source": [
    "#Filter out all dates before 1960\n",
    "df3 = df3.loc[(df3.index >= (pd.to_datetime(end_date, format='%Y') - relativedelta(years=time_period)))]\n",
    "#Drop any countries that do not have 60 years of data in a row\n",
    "df3 = df3.dropna(axis = 1)\n"
   ]
  },
  {
   "cell_type": "code",
   "execution_count": 8,
   "id": "31db2740",
   "metadata": {
    "scrolled": true
   },
   "outputs": [
    {
     "data": {
      "text/plain": [
       "country\n",
       "World                            1399096.294\n",
       "High-income countries             709485.642\n",
       "Asia                              513924.775\n",
       "Upper-middle-income countries     476690.980\n",
       "Europe                            387346.187\n",
       "North America                     353297.360\n",
       "United States                     300463.019\n",
       "European Union (28)               243060.826\n",
       "China                             231261.562\n",
       "Asia (excl. China & India)        230970.870\n",
       "European Union (27)               209051.156\n",
       "Europe (excl. EU-27)              178295.034\n",
       "Lower-middle-income countries     155248.751\n",
       "Europe (excl. EU-28)              144285.361\n",
       "Russia                            102955.254\n",
       "Japan                              60101.650\n",
       "Germany                            57194.078\n",
       "North America (excl. USA)          52834.344\n",
       "India                              51692.351\n",
       "Africa                             44740.824\n",
       "International transport            40446.743\n",
       "South America                      40162.770\n",
       "United Kingdom                     34009.677\n",
       "Canada                             27516.136\n",
       "Ukraine                            26627.536\n",
       "France                             24632.319\n",
       "Italy                              22401.686\n",
       "Poland                             20894.858\n",
       "South Africa                       18939.863\n",
       "Oceania                            18666.352\n",
       "dtype: float64"
      ]
     },
     "execution_count": 8,
     "metadata": {},
     "output_type": "execute_result"
    }
   ],
   "source": [
    "top_country_emissions = df3['co2'].sum().nlargest(n=30) #Get top 30 emitters\n",
    "top_country_emissions"
   ]
  },
  {
   "cell_type": "code",
   "execution_count": 9,
   "id": "62e9b002",
   "metadata": {
    "scrolled": true
   },
   "outputs": [
    {
     "data": {
      "text/plain": [
       "country\n",
       "Leeward Islands                      2.013\n",
       "St. Kitts-Nevis-Anguilla             2.627\n",
       "Sao Tome and Principe                3.313\n",
       "Saint Pierre and Miquelon            3.368\n",
       "Tonga                                4.316\n",
       "Dominica                             4.766\n",
       "Comoros                              5.290\n",
       "Samoa                                6.691\n",
       "Saint Vincent and the Grenadines     6.891\n",
       "Grenada                              8.150\n",
       "Guinea-Bissau                        9.999\n",
       "Solomon Islands                     10.371\n",
       "Central African Republic            10.448\n",
       "Palau                               10.500\n",
       "Puerto Rico                         12.749\n",
       "Burundi                             12.927\n",
       "Cape Verde                          12.932\n",
       "Gambia                              13.801\n",
       "Saint Lucia                         14.270\n",
       "Eritrea                             18.438\n",
       "Djibouti                            18.588\n",
       "Belize                              18.767\n",
       "Antigua and Barbuda                 21.448\n",
       "Bonaire Sint Eustatius and Saba     22.618\n",
       "Chad                                25.995\n",
       "French Equatorial Africa            26.169\n",
       "French Guiana                       27.351\n",
       "Bermuda                             28.159\n",
       "Rwanda                              28.430\n",
       "French Polynesia                    28.561\n",
       "dtype: float64"
      ]
     },
     "execution_count": 9,
     "metadata": {},
     "output_type": "execute_result"
    }
   ],
   "source": [
    "bottom_country_emissions = df3['co2'].sum().nsmallest(n=30) #Get bottom 30 emitters\n",
    "bottom_country_emissions"
   ]
  },
  {
   "cell_type": "code",
   "execution_count": 10,
   "id": "0d4ddaa5",
   "metadata": {
    "scrolled": true
   },
   "outputs": [
    {
     "data": {
      "text/html": [
       "<div>\n",
       "<style scoped>\n",
       "    .dataframe tbody tr th:only-of-type {\n",
       "        vertical-align: middle;\n",
       "    }\n",
       "\n",
       "    .dataframe tbody tr th {\n",
       "        vertical-align: top;\n",
       "    }\n",
       "\n",
       "    .dataframe thead th {\n",
       "        text-align: right;\n",
       "    }\n",
       "</style>\n",
       "<table border=\"1\" class=\"dataframe\">\n",
       "  <thead>\n",
       "    <tr style=\"text-align: right;\">\n",
       "      <th></th>\n",
       "      <th>co2 United States</th>\n",
       "      <th>gdp United States</th>\n",
       "      <th>population United States</th>\n",
       "      <th>co2 China</th>\n",
       "      <th>gdp China</th>\n",
       "      <th>population China</th>\n",
       "      <th>co2 Russia</th>\n",
       "      <th>gdp Russia</th>\n",
       "      <th>population Russia</th>\n",
       "      <th>co2 Japan</th>\n",
       "      <th>gdp Japan</th>\n",
       "      <th>population Japan</th>\n",
       "      <th>co2 Germany</th>\n",
       "      <th>gdp Germany</th>\n",
       "      <th>population Germany</th>\n",
       "    </tr>\n",
       "    <tr>\n",
       "      <th>year</th>\n",
       "      <th></th>\n",
       "      <th></th>\n",
       "      <th></th>\n",
       "      <th></th>\n",
       "      <th></th>\n",
       "      <th></th>\n",
       "      <th></th>\n",
       "      <th></th>\n",
       "      <th></th>\n",
       "      <th></th>\n",
       "      <th></th>\n",
       "      <th></th>\n",
       "      <th></th>\n",
       "      <th></th>\n",
       "      <th></th>\n",
       "    </tr>\n",
       "  </thead>\n",
       "  <tbody>\n",
       "    <tr>\n",
       "      <th>1960-01-01</th>\n",
       "      <td>2897.138</td>\n",
       "      <td>3.260000e+12</td>\n",
       "      <td>186720570.0</td>\n",
       "      <td>798.800</td>\n",
       "      <td>7.050000e+11</td>\n",
       "      <td>6.604081e+08</td>\n",
       "      <td>882.927</td>\n",
       "      <td>6.650000e+11</td>\n",
       "      <td>119871700.0</td>\n",
       "      <td>232.500</td>\n",
       "      <td>5.980000e+11</td>\n",
       "      <td>93673612.0</td>\n",
       "      <td>813.950</td>\n",
       "      <td>8.900000e+11</td>\n",
       "      <td>73414229.0</td>\n",
       "    </tr>\n",
       "    <tr>\n",
       "      <th>1961-01-01</th>\n",
       "      <td>2886.696</td>\n",
       "      <td>3.340000e+12</td>\n",
       "      <td>189569850.0</td>\n",
       "      <td>570.630</td>\n",
       "      <td>5.770000e+11</td>\n",
       "      <td>6.709527e+08</td>\n",
       "      <td>910.542</td>\n",
       "      <td>7.130000e+11</td>\n",
       "      <td>121403897.0</td>\n",
       "      <td>282.787</td>\n",
       "      <td>6.700000e+11</td>\n",
       "      <td>94560714.0</td>\n",
       "      <td>834.840</td>\n",
       "      <td>9.270000e+11</td>\n",
       "      <td>73928077.0</td>\n",
       "    </tr>\n",
       "    <tr>\n",
       "      <th>1962-01-01</th>\n",
       "      <td>2993.718</td>\n",
       "      <td>3.540000e+12</td>\n",
       "      <td>192313747.0</td>\n",
       "      <td>459.618</td>\n",
       "      <td>6.170000e+11</td>\n",
       "      <td>6.821027e+08</td>\n",
       "      <td>955.667</td>\n",
       "      <td>7.650000e+11</td>\n",
       "      <td>122858215.0</td>\n",
       "      <td>292.864</td>\n",
       "      <td>7.300000e+11</td>\n",
       "      <td>95458517.0</td>\n",
       "      <td>883.169</td>\n",
       "      <td>9.660000e+11</td>\n",
       "      <td>74489450.0</td>\n",
       "    </tr>\n",
       "    <tr>\n",
       "      <th>1963-01-01</th>\n",
       "      <td>3126.294</td>\n",
       "      <td>3.690000e+12</td>\n",
       "      <td>194932400.0</td>\n",
       "      <td>456.779</td>\n",
       "      <td>7.060000e+11</td>\n",
       "      <td>6.943391e+08</td>\n",
       "      <td>1024.911</td>\n",
       "      <td>7.960000e+11</td>\n",
       "      <td>124210253.0</td>\n",
       "      <td>324.835</td>\n",
       "      <td>7.920000e+11</td>\n",
       "      <td>96389422.0</td>\n",
       "      <td>945.498</td>\n",
       "      <td>9.940000e+11</td>\n",
       "      <td>75080749.0</td>\n",
       "    </tr>\n",
       "    <tr>\n",
       "      <th>1964-01-01</th>\n",
       "      <td>3264.111</td>\n",
       "      <td>3.910000e+12</td>\n",
       "      <td>197408497.0</td>\n",
       "      <td>460.637</td>\n",
       "      <td>8.050000e+11</td>\n",
       "      <td>7.082546e+08</td>\n",
       "      <td>1090.020</td>\n",
       "      <td>8.480000e+11</td>\n",
       "      <td>125430991.0</td>\n",
       "      <td>358.891</td>\n",
       "      <td>8.840000e+11</td>\n",
       "      <td>97379402.0</td>\n",
       "      <td>968.917</td>\n",
       "      <td>1.050000e+12</td>\n",
       "      <td>75677305.0</td>\n",
       "    </tr>\n",
       "    <tr>\n",
       "      <th>...</th>\n",
       "      <td>...</td>\n",
       "      <td>...</td>\n",
       "      <td>...</td>\n",
       "      <td>...</td>\n",
       "      <td>...</td>\n",
       "      <td>...</td>\n",
       "      <td>...</td>\n",
       "      <td>...</td>\n",
       "      <td>...</td>\n",
       "      <td>...</td>\n",
       "      <td>...</td>\n",
       "      <td>...</td>\n",
       "      <td>...</td>\n",
       "      <td>...</td>\n",
       "      <td>...</td>\n",
       "    </tr>\n",
       "    <tr>\n",
       "      <th>2016-01-01</th>\n",
       "      <td>5248.024</td>\n",
       "      <td>1.720000e+13</td>\n",
       "      <td>323015992.0</td>\n",
       "      <td>9720.444</td>\n",
       "      <td>1.730000e+13</td>\n",
       "      <td>1.414049e+09</td>\n",
       "      <td>1618.599</td>\n",
       "      <td>3.460000e+12</td>\n",
       "      <td>145275374.0</td>\n",
       "      <td>1203.718</td>\n",
       "      <td>4.730000e+12</td>\n",
       "      <td>127763267.0</td>\n",
       "      <td>800.687</td>\n",
       "      <td>3.740000e+12</td>\n",
       "      <td>82193770.0</td>\n",
       "    </tr>\n",
       "    <tr>\n",
       "      <th>2017-01-01</th>\n",
       "      <td>5207.751</td>\n",
       "      <td>1.760000e+13</td>\n",
       "      <td>325084758.0</td>\n",
       "      <td>9920.459</td>\n",
       "      <td>1.760000e+13</td>\n",
       "      <td>1.421022e+09</td>\n",
       "      <td>1646.457</td>\n",
       "      <td>3.520000e+12</td>\n",
       "      <td>145530091.0</td>\n",
       "      <td>1188.123</td>\n",
       "      <td>4.840000e+12</td>\n",
       "      <td>127502728.0</td>\n",
       "      <td>785.883</td>\n",
       "      <td>3.830000e+12</td>\n",
       "      <td>82658409.0</td>\n",
       "    </tr>\n",
       "    <tr>\n",
       "      <th>2018-01-01</th>\n",
       "      <td>5375.491</td>\n",
       "      <td>1.810000e+13</td>\n",
       "      <td>327096263.0</td>\n",
       "      <td>10289.990</td>\n",
       "      <td>1.820000e+13</td>\n",
       "      <td>1.427648e+09</td>\n",
       "      <td>1691.647</td>\n",
       "      <td>3.610000e+12</td>\n",
       "      <td>145734034.0</td>\n",
       "      <td>1143.458</td>\n",
       "      <td>4.870000e+12</td>\n",
       "      <td>127202190.0</td>\n",
       "      <td>754.112</td>\n",
       "      <td>3.890000e+12</td>\n",
       "      <td>83124413.0</td>\n",
       "    </tr>\n",
       "    <tr>\n",
       "      <th>2019-01-01</th>\n",
       "      <td>5255.816</td>\n",
       "      <td>1.810000e+13</td>\n",
       "      <td>329064917.0</td>\n",
       "      <td>10489.989</td>\n",
       "      <td>1.820000e+13</td>\n",
       "      <td>1.433784e+09</td>\n",
       "      <td>1679.449</td>\n",
       "      <td>3.610000e+12</td>\n",
       "      <td>145872260.0</td>\n",
       "      <td>1105.929</td>\n",
       "      <td>4.870000e+12</td>\n",
       "      <td>126860299.0</td>\n",
       "      <td>711.428</td>\n",
       "      <td>3.890000e+12</td>\n",
       "      <td>83517046.0</td>\n",
       "    </tr>\n",
       "    <tr>\n",
       "      <th>2020-01-01</th>\n",
       "      <td>4712.771</td>\n",
       "      <td>1.810000e+13</td>\n",
       "      <td>331002647.0</td>\n",
       "      <td>10667.887</td>\n",
       "      <td>1.820000e+13</td>\n",
       "      <td>1.439324e+09</td>\n",
       "      <td>1577.136</td>\n",
       "      <td>3.610000e+12</td>\n",
       "      <td>145934460.0</td>\n",
       "      <td>1030.775</td>\n",
       "      <td>4.870000e+12</td>\n",
       "      <td>126476458.0</td>\n",
       "      <td>644.310</td>\n",
       "      <td>3.890000e+12</td>\n",
       "      <td>83783945.0</td>\n",
       "    </tr>\n",
       "  </tbody>\n",
       "</table>\n",
       "<p>61 rows × 15 columns</p>\n",
       "</div>"
      ],
      "text/plain": [
       "            co2 United States  gdp United States  population United States  \\\n",
       "year                                                                         \n",
       "1960-01-01           2897.138       3.260000e+12               186720570.0   \n",
       "1961-01-01           2886.696       3.340000e+12               189569850.0   \n",
       "1962-01-01           2993.718       3.540000e+12               192313747.0   \n",
       "1963-01-01           3126.294       3.690000e+12               194932400.0   \n",
       "1964-01-01           3264.111       3.910000e+12               197408497.0   \n",
       "...                       ...                ...                       ...   \n",
       "2016-01-01           5248.024       1.720000e+13               323015992.0   \n",
       "2017-01-01           5207.751       1.760000e+13               325084758.0   \n",
       "2018-01-01           5375.491       1.810000e+13               327096263.0   \n",
       "2019-01-01           5255.816       1.810000e+13               329064917.0   \n",
       "2020-01-01           4712.771       1.810000e+13               331002647.0   \n",
       "\n",
       "            co2 China     gdp China  population China  co2 Russia  \\\n",
       "year                                                                \n",
       "1960-01-01    798.800  7.050000e+11      6.604081e+08     882.927   \n",
       "1961-01-01    570.630  5.770000e+11      6.709527e+08     910.542   \n",
       "1962-01-01    459.618  6.170000e+11      6.821027e+08     955.667   \n",
       "1963-01-01    456.779  7.060000e+11      6.943391e+08    1024.911   \n",
       "1964-01-01    460.637  8.050000e+11      7.082546e+08    1090.020   \n",
       "...               ...           ...               ...         ...   \n",
       "2016-01-01   9720.444  1.730000e+13      1.414049e+09    1618.599   \n",
       "2017-01-01   9920.459  1.760000e+13      1.421022e+09    1646.457   \n",
       "2018-01-01  10289.990  1.820000e+13      1.427648e+09    1691.647   \n",
       "2019-01-01  10489.989  1.820000e+13      1.433784e+09    1679.449   \n",
       "2020-01-01  10667.887  1.820000e+13      1.439324e+09    1577.136   \n",
       "\n",
       "              gdp Russia  population Russia  co2 Japan     gdp Japan  \\\n",
       "year                                                                   \n",
       "1960-01-01  6.650000e+11        119871700.0    232.500  5.980000e+11   \n",
       "1961-01-01  7.130000e+11        121403897.0    282.787  6.700000e+11   \n",
       "1962-01-01  7.650000e+11        122858215.0    292.864  7.300000e+11   \n",
       "1963-01-01  7.960000e+11        124210253.0    324.835  7.920000e+11   \n",
       "1964-01-01  8.480000e+11        125430991.0    358.891  8.840000e+11   \n",
       "...                  ...                ...        ...           ...   \n",
       "2016-01-01  3.460000e+12        145275374.0   1203.718  4.730000e+12   \n",
       "2017-01-01  3.520000e+12        145530091.0   1188.123  4.840000e+12   \n",
       "2018-01-01  3.610000e+12        145734034.0   1143.458  4.870000e+12   \n",
       "2019-01-01  3.610000e+12        145872260.0   1105.929  4.870000e+12   \n",
       "2020-01-01  3.610000e+12        145934460.0   1030.775  4.870000e+12   \n",
       "\n",
       "            population Japan  co2 Germany   gdp Germany  population Germany  \n",
       "year                                                                         \n",
       "1960-01-01        93673612.0      813.950  8.900000e+11          73414229.0  \n",
       "1961-01-01        94560714.0      834.840  9.270000e+11          73928077.0  \n",
       "1962-01-01        95458517.0      883.169  9.660000e+11          74489450.0  \n",
       "1963-01-01        96389422.0      945.498  9.940000e+11          75080749.0  \n",
       "1964-01-01        97379402.0      968.917  1.050000e+12          75677305.0  \n",
       "...                      ...          ...           ...                 ...  \n",
       "2016-01-01       127763267.0      800.687  3.740000e+12          82193770.0  \n",
       "2017-01-01       127502728.0      785.883  3.830000e+12          82658409.0  \n",
       "2018-01-01       127202190.0      754.112  3.890000e+12          83124413.0  \n",
       "2019-01-01       126860299.0      711.428  3.890000e+12          83517046.0  \n",
       "2020-01-01       126476458.0      644.310  3.890000e+12          83783945.0  \n",
       "\n",
       "[61 rows x 15 columns]"
      ]
     },
     "execution_count": 10,
     "metadata": {},
     "output_type": "execute_result"
    }
   ],
   "source": [
    "main_df = df3.loc[:,(slice(None), [\"United States\",\"China\", \"Russia\", \"Japan\",\"Germany\"])] #Get only top 5 countries\n",
    "main_df.columns = [' '.join(col) for col in main_df.columns.values] \n",
    "main_df"
   ]
  },
  {
   "cell_type": "code",
   "execution_count": 37,
   "id": "35d9bef7",
   "metadata": {
    "scrolled": true
   },
   "outputs": [],
   "source": [
    "#Splitting main_df into respective country dataframes\n",
    "US_df1 = main_df.iloc[:,:3]\n",
    "China_df1 = main_df.iloc[:,3:6]\n",
    "Russia_df1 = main_df.iloc[:,6:9]\n",
    "Japan_df1 = main_df.iloc[:,9:12]\n",
    "Germany_df1 = main_df.iloc[:,12:15]"
   ]
  },
  {
   "cell_type": "code",
   "execution_count": 38,
   "id": "ceb71ec6",
   "metadata": {
    "scrolled": false
   },
   "outputs": [],
   "source": [
    "#Declaring of scalers, each scaler is specific to each country\n",
    "USScaler = MinMaxScaler()\n",
    "ChinaScaler = MinMaxScaler()\n",
    "RussiaScaler = MinMaxScaler()\n",
    "JapanScaler = MinMaxScaler()\n",
    "GermanyScaler = MinMaxScaler()\n",
    "\n",
    "#Normalizing values of all columns from 0 to 1\n",
    "US_df = pd.DataFrame(data = USScaler.fit_transform(US_df1), columns = US_df1.columns, index = US_df1.index)\n",
    "China_df = pd.DataFrame(data = ChinaScaler.fit_transform(China_df1), columns = China_df1.columns, index = China_df1.index)\n",
    "Russia_df = pd.DataFrame(data = RussiaScaler.fit_transform(Russia_df1), columns = Russia_df1.columns, index = Russia_df1.index)\n",
    "Japan_df = pd.DataFrame(data = JapanScaler.fit_transform(Japan_df1), columns = Japan_df1.columns, index = Japan_df1.index)\n",
    "Germany_df = pd.DataFrame(data = GermanyScaler.fit_transform(Germany_df1), columns = Germany_df1.columns, index = Germany_df1.index)\n"
   ]
  },
  {
   "cell_type": "markdown",
   "id": "4716f141",
   "metadata": {},
   "source": [
    "# US LSTM Model"
   ]
  },
  {
   "cell_type": "code",
   "execution_count": 13,
   "id": "9bf4ff0f",
   "metadata": {},
   "outputs": [
    {
     "data": {
      "text/plain": [
       "array([<AxesSubplot:xlabel='year'>, <AxesSubplot:xlabel='year'>,\n",
       "       <AxesSubplot:xlabel='year'>], dtype=object)"
      ]
     },
     "execution_count": 13,
     "metadata": {},
     "output_type": "execute_result"
    },
    {
     "data": {
      "image/png": "[encoded data removed]",
      "text/plain": [
       "<Figure size 432x288 with 3 Axes>"
      ]
     },
     "metadata": {
      "needs_background": "light"
     },
     "output_type": "display_data"
    }
   ],
   "source": [
    "US_df1.plot(subplots=True)"
   ]
  },
  {
   "cell_type": "code",
   "execution_count": 14,
   "id": "58263252",
   "metadata": {},
   "outputs": [],
   "source": [
    "#Sequencing function to properly shape the data for LSTM input\n",
    "def sequence_to_X_y(df, window_size=5): #window size of 5 \n",
    "    df = df.to_numpy() \n",
    "    X = [] #Create empty X and Y list\n",
    "    y = []\n",
    "    for i in range(len(df)-window_size): \n",
    "        row = [a for a in df[i:i+window_size]] # Place the first 5 values into the X list\n",
    "        X.append(row)\n",
    "        yvalue = df[i+window_size] # Place the 6th value into the Y list\n",
    "        y.append(yvalue)\n",
    "    return np.array(X), np.array(y)\n"
   ]
  },
  {
   "cell_type": "code",
   "execution_count": 15,
   "id": "a4c48073",
   "metadata": {},
   "outputs": [
    {
     "name": "stdout",
     "output_type": "stream",
     "text": [
      "(56, 5, 3) (56, 3)\n",
      "[[[0.00321507 0.         0.        ]\n",
      "  [0.         0.00539084 0.01974798]\n",
      "  [0.0329519  0.01886792 0.03876557]\n",
      "  [0.07377183 0.02897574 0.05691511]\n",
      "  [0.11620546 0.04380054 0.07407661]]\n",
      "\n",
      " [[0.         0.00539084 0.01974798]\n",
      "  [0.0329519  0.01886792 0.03876557]\n",
      "  [0.07377183 0.02897574 0.05691511]\n",
      "  [0.11620546 0.04380054 0.07407661]\n",
      "  [0.15784286 0.0606469  0.09019214]]\n",
      "\n",
      " [[0.0329519  0.01886792 0.03876557]\n",
      "  [0.07377183 0.02897574 0.05691511]\n",
      "  [0.11620546 0.04380054 0.07407661]\n",
      "  [0.15784286 0.0606469  0.09019214]\n",
      "  [0.21076043 0.07884097 0.10517724]]\n",
      "\n",
      " [[0.07377183 0.02897574 0.05691511]\n",
      "  [0.11620546 0.04380054 0.07407661]\n",
      "  [0.15784286 0.0606469  0.09019214]\n",
      "  [0.21076043 0.07884097 0.10517724]\n",
      "  [0.25203267 0.08625337 0.11910357]]\n",
      "\n",
      " [[0.11620546 0.04380054 0.07407661]\n",
      "  [0.15784286 0.0606469  0.09019214]\n",
      "  [0.21076043 0.07884097 0.10517724]\n",
      "  [0.25203267 0.08625337 0.11910357]\n",
      "  [0.29373689 0.10040431 0.1322769 ]]\n",
      "\n",
      " [[0.15784286 0.0606469  0.09019214]\n",
      "  [0.21076043 0.07884097 0.10517724]\n",
      "  [0.25203267 0.08625337 0.11910357]\n",
      "  [0.29373689 0.10040431 0.1322769 ]\n",
      "  [0.35353814 0.11051213 0.14512339]]\n",
      "\n",
      " [[0.21076043 0.07884097 0.10517724]\n",
      "  [0.25203267 0.08625337 0.11910357]\n",
      "  [0.29373689 0.10040431 0.1322769 ]\n",
      "  [0.35353814 0.11051213 0.14512339]\n",
      "  [0.44730704 0.11118598 0.15797368]]\n",
      "\n",
      " [[0.25203267 0.08625337 0.11910357]\n",
      "  [0.29373689 0.10040431 0.1322769 ]\n",
      "  [0.35353814 0.11051213 0.14512339]\n",
      "  [0.44730704 0.11118598 0.15797368]\n",
      "  [0.45524343 0.12196765 0.17093952]]\n",
      "\n",
      " [[0.29373689 0.10040431 0.1322769 ]\n",
      "  [0.35353814 0.11051213 0.14512339]\n",
      "  [0.44730704 0.11118598 0.15797368]\n",
      "  [0.45524343 0.12196765 0.17093952]\n",
      "  [0.51914589 0.13948787 0.18400924]]\n",
      "\n",
      " [[0.35353814 0.11051213 0.14512339]\n",
      "  [0.44730704 0.11118598 0.15797368]\n",
      "  [0.45524343 0.12196765 0.17093952]\n",
      "  [0.51914589 0.13948787 0.18400924]\n",
      "  [0.5844302  0.16037736 0.19724021]]\n",
      "\n",
      " [[0.44730704 0.11118598 0.15797368]\n",
      "  [0.45524343 0.12196765 0.17093952]\n",
      "  [0.51914589 0.13948787 0.18400924]\n",
      "  [0.5844302  0.16037736 0.19724021]\n",
      "  [0.53393394 0.15902965 0.21065907]]\n",
      "\n",
      " [[0.45524343 0.12196765 0.17093952]\n",
      "  [0.51914589 0.13948787 0.18400924]\n",
      "  [0.5844302  0.16037736 0.19724021]\n",
      "  [0.53393394 0.15902965 0.21065907]\n",
      "  [0.4899716  0.1583558  0.22428759]]\n",
      "\n",
      " [[0.51914589 0.13948787 0.18400924]\n",
      "  [0.5844302  0.16037736 0.19724021]\n",
      "  [0.53393394 0.15902965 0.21065907]\n",
      "  [0.4899716  0.1583558  0.22428759]\n",
      "  [0.5729579  0.17789757 0.23818521]]\n",
      "\n",
      " [[0.5844302  0.16037736 0.19724021]\n",
      "  [0.53393394 0.15902965 0.21065907]\n",
      "  [0.4899716  0.1583558  0.22428759]\n",
      "  [0.5729579  0.17789757 0.23818521]\n",
      "  [0.61662867 0.19609164 0.25238817]]\n",
      "\n",
      " [[0.53393394 0.15902965 0.21065907]\n",
      "  [0.4899716  0.1583558  0.22428759]\n",
      "  [0.5729579  0.17789757 0.23818521]\n",
      "  [0.61662867 0.19609164 0.25238817]\n",
      "  [0.63256056 0.21967655 0.26685738]]\n",
      "\n",
      " [[0.4899716  0.1583558  0.22428759]\n",
      "  [0.5729579  0.17789757 0.23818521]\n",
      "  [0.61662867 0.19609164 0.25238817]\n",
      "  [0.63256056 0.21967655 0.26685738]\n",
      "  [0.65325656 0.23450135 0.28152319]]\n",
      "\n",
      " [[0.5729579  0.17789757 0.23818521]\n",
      "  [0.61662867 0.19609164 0.25238817]\n",
      "  [0.63256056 0.21967655 0.26685738]\n",
      "  [0.65325656 0.23450135 0.28152319]\n",
      "  [0.59165749 0.23450135 0.29633473]]\n",
      "\n",
      " [[0.61662867 0.19609164 0.25238817]\n",
      "  [0.63256056 0.21967655 0.26685738]\n",
      "  [0.65325656 0.23450135 0.28152319]\n",
      "  [0.59165749 0.23450135 0.29633473]\n",
      "  [0.55405571 0.24595687 0.31130336]]\n",
      "\n",
      " [[0.63256056 0.21967655 0.26685738]\n",
      "  [0.65325656 0.23450135 0.28152319]\n",
      "  [0.59165749 0.23450135 0.29633473]\n",
      "  [0.55405571 0.24595687 0.31130336]\n",
      "  [0.48043968 0.23719677 0.32645275]]\n",
      "\n",
      " [[0.65325656 0.23450135 0.28152319]\n",
      "  [0.59165749 0.23450135 0.29633473]\n",
      "  [0.55405571 0.24595687 0.31130336]\n",
      "  [0.48043968 0.23719677 0.32645275]\n",
      "  [0.47493045 0.25673854 0.34175878]]\n",
      "\n",
      " [[0.59165749 0.23450135 0.29633473]\n",
      "  [0.55405571 0.24595687 0.31130336]\n",
      "  [0.48043968 0.23719677 0.32645275]\n",
      "  [0.47493045 0.25673854 0.34175878]\n",
      "  [0.54658887 0.29110512 0.35719114]]\n",
      "\n",
      " [[0.55405571 0.24595687 0.31130336]\n",
      "  [0.48043968 0.23719677 0.32645275]\n",
      "  [0.47493045 0.25673854 0.34175878]\n",
      "  [0.54658887 0.29110512 0.35719114]\n",
      "  [0.54365214 0.3106469  0.37273689]]\n",
      "\n",
      " [[0.48043968 0.23719677 0.32645275]\n",
      "  [0.47493045 0.25673854 0.34175878]\n",
      "  [0.54658887 0.29110512 0.35719114]\n",
      "  [0.54365214 0.3106469  0.37273689]\n",
      "  [0.5469719  0.32951482 0.38842362]]\n",
      "\n",
      " [[0.47493045 0.25673854 0.34175878]\n",
      "  [0.54658887 0.29110512 0.35719114]\n",
      "  [0.54365214 0.3106469  0.37273689]\n",
      "  [0.5469719  0.32951482 0.38842362]\n",
      "  [0.59693764 0.34838275 0.40429284]]\n",
      "\n",
      " [[0.54658887 0.29110512 0.35719114]\n",
      "  [0.54365214 0.3106469  0.37273689]\n",
      "  [0.5469719  0.32951482 0.38842362]\n",
      "  [0.59693764 0.34838275 0.40429284]\n",
      "  [0.66616028 0.37264151 0.42036883]]\n",
      "\n",
      " [[0.54365214 0.3106469  0.37273689]\n",
      "  [0.5469719  0.32951482 0.38842362]\n",
      "  [0.59693764 0.34838275 0.40429284]\n",
      "  [0.66616028 0.37264151 0.42036883]\n",
      "  [0.69130295 0.39285714 0.43668098]]\n",
      "\n",
      " [[0.5469719  0.32951482 0.38842362]\n",
      "  [0.59693764 0.34838275 0.40429284]\n",
      "  [0.66616028 0.37264151 0.42036883]\n",
      "  [0.69130295 0.39285714 0.43668098]\n",
      "  [0.68561545 0.40363881 0.45327694]]\n",
      "\n",
      " [[0.59693764 0.34838275 0.40429284]\n",
      "  [0.66616028 0.37264151 0.42036883]\n",
      "  [0.69130295 0.39285714 0.43668098]\n",
      "  [0.68561545 0.40363881 0.45327694]\n",
      "  [0.6685197  0.40296496 0.47004314]]\n",
      "\n",
      " [[0.66616028 0.37264151 0.42036883]\n",
      "  [0.69130295 0.39285714 0.43668098]\n",
      "  [0.68561545 0.40363881 0.45327694]\n",
      "  [0.6685197  0.40296496 0.47004314]\n",
      "  [0.70224997 0.42520216 0.48703234]]\n",
      "\n",
      " [[0.69130295 0.39285714 0.43668098]\n",
      "  [0.68561545 0.40363881 0.45327694]\n",
      "  [0.6685197  0.40296496 0.47004314]\n",
      "  [0.70224997 0.42520216 0.48703234]\n",
      "  [0.73299731 0.44272237 0.5046473 ]]\n",
      "\n",
      " [[0.68561545 0.40363881 0.45327694]\n",
      "  [0.6685197  0.40296496 0.47004314]\n",
      "  [0.70224997 0.42520216 0.48703234]\n",
      "  [0.73299731 0.44272237 0.5046473 ]\n",
      "  [0.76116416 0.46765499 0.52342353]]\n",
      "\n",
      " [[0.6685197  0.40296496 0.47004314]\n",
      "  [0.70224997 0.42520216 0.48703234]\n",
      "  [0.73299731 0.44272237 0.5046473 ]\n",
      "  [0.76116416 0.46765499 0.52342353]\n",
      "  [0.78046262 0.48787062 0.54367924]]\n",
      "\n",
      " [[0.70224997 0.42520216 0.48703234]\n",
      "  [0.73299731 0.44272237 0.5046473 ]\n",
      "  [0.76116416 0.46765499 0.52342353]\n",
      "  [0.78046262 0.48787062 0.54367924]\n",
      "  [0.83868004 0.5148248  0.56565887]]\n",
      "\n",
      " [[0.73299731 0.44272237 0.5046473 ]\n",
      "  [0.76116416 0.46765499 0.52342353]\n",
      "  [0.78046262 0.48787062 0.54367924]\n",
      "  [0.83868004 0.5148248  0.56565887]\n",
      "  [0.86204429 0.54851752 0.58907569]]\n",
      "\n",
      " [[0.76116416 0.46765499 0.52342353]\n",
      "  [0.78046262 0.48787062 0.54367924]\n",
      "  [0.83868004 0.5148248  0.56565887]\n",
      "  [0.86204429 0.54851752 0.58907569]\n",
      "  [0.87577194 0.58221024 0.6130681 ]]\n",
      "\n",
      " [[0.78046262 0.48787062 0.54367924]\n",
      "  [0.83868004 0.5148248  0.56565887]\n",
      "  [0.86204429 0.54851752 0.58907569]\n",
      "  [0.87577194 0.58221024 0.6130681 ]\n",
      "  [0.89843911 0.62264151 0.6364448 ]]\n",
      "\n",
      " [[0.83868004 0.5148248  0.56565887]\n",
      "  [0.86204429 0.54851752 0.58907569]\n",
      "  [0.87577194 0.58221024 0.6130681 ]\n",
      "  [0.89843911 0.62264151 0.6364448 ]\n",
      "  [0.9618166  0.65633423 0.65836552]]\n",
      "\n",
      " [[0.86204429 0.54851752 0.58907569]\n",
      "  [0.87577194 0.58221024 0.6130681 ]\n",
      "  [0.89843911 0.62264151 0.6364448 ]\n",
      "  [0.9618166  0.65633423 0.65836552]\n",
      "  [0.92929453 0.66307278 0.67844478]]\n",
      "\n",
      " [[0.87577194 0.58221024 0.6130681 ]\n",
      "  [0.89843911 0.62264151 0.6364448 ]\n",
      "  [0.9618166  0.65633423 0.65836552]\n",
      "  [0.92929453 0.66307278 0.67844478]\n",
      "  [0.94219208 0.67654987 0.69695935]]\n",
      "\n",
      " [[0.89843911 0.62264151 0.6364448 ]\n",
      "  [0.9618166  0.65633423 0.65836552]\n",
      "  [0.92929453 0.66307278 0.67844478]\n",
      "  [0.94219208 0.67654987 0.69695935]\n",
      "  [0.9622258  0.70350404 0.71453779]]\n",
      "\n",
      " [[0.9618166  0.65633423 0.65836552]\n",
      "  [0.92929453 0.66307278 0.67844478]\n",
      "  [0.94219208 0.67654987 0.69695935]\n",
      "  [0.9622258  0.70350404 0.71453779]\n",
      "  [0.99368377 0.73719677 0.73213593]]\n",
      "\n",
      " [[0.92929453 0.66307278 0.67844478]\n",
      "  [0.94219208 0.67654987 0.69695935]\n",
      "  [0.9622258  0.70350404 0.71453779]\n",
      "  [0.99368377 0.73719677 0.73213593]\n",
      "  [1.         0.77088949 0.75042543]]\n",
      "\n",
      " [[0.94219208 0.67654987 0.69695935]\n",
      "  [0.9622258  0.70350404 0.71453779]\n",
      "  [0.99368377 0.73719677 0.73213593]\n",
      "  [1.         0.77088949 0.75042543]\n",
      "  [0.9744897  0.79784367 0.76959252]]\n",
      "\n",
      " [[0.9622258  0.70350404 0.71453779]\n",
      "  [0.99368377 0.73719677 0.73213593]\n",
      "  [1.         0.77088949 0.75042543]\n",
      "  [0.9744897  0.79784367 0.76959252]\n",
      "  [0.99891712 0.8180593  0.78934167]]\n",
      "\n",
      " [[0.99368377 0.73719677 0.73213593]\n",
      "  [1.         0.77088949 0.75042543]\n",
      "  [0.9744897  0.79784367 0.76959252]\n",
      "  [0.99891712 0.8180593  0.78934167]\n",
      "  [0.93212596 0.81132075 0.80928591]]\n",
      "\n",
      " [[1.         0.77088949 0.75042543]\n",
      "  [0.9744897  0.79784367 0.76959252]\n",
      "  [0.99891712 0.8180593  0.78934167]\n",
      "  [0.93212596 0.81132075 0.80928591]\n",
      "  [0.79792292 0.78436658 0.82884165]]\n",
      "\n",
      " [[0.9744897  0.79784367 0.76959252]\n",
      "  [0.99891712 0.8180593  0.78934167]\n",
      "  [0.93212596 0.81132075 0.80928591]\n",
      "  [0.79792292 0.78436658 0.82884165]\n",
      "  [0.85875624 0.81132075 0.84758205]]\n",
      "\n",
      " [[0.99891712 0.8180593  0.78934167]\n",
      "  [0.93212596 0.81132075 0.80928591]\n",
      "  [0.79792292 0.78436658 0.82884165]\n",
      "  [0.85875624 0.81132075 0.84758205]\n",
      "  [0.81700122 0.82479784 0.86541228]]\n",
      "\n",
      " [[0.93212596 0.81132075 0.80928591]\n",
      "  [0.79792292 0.78436658 0.82884165]\n",
      "  [0.85875624 0.81132075 0.84758205]\n",
      "  [0.81700122 0.82479784 0.86541228]\n",
      "  [0.7549674  0.84501348 0.88246106]]\n",
      "\n",
      " [[0.79792292 0.78436658 0.82884165]\n",
      "  [0.85875624 0.81132075 0.84758205]\n",
      "  [0.81700122 0.82479784 0.86541228]\n",
      "  [0.7549674  0.84501348 0.88246106]\n",
      "  [0.7967058  0.86522911 0.89879472]]\n",
      "\n",
      " [[0.85875624 0.81132075 0.84758205]\n",
      "  [0.81700122 0.82479784 0.86541228]\n",
      "  [0.7549674  0.84501348 0.88246106]\n",
      "  [0.7967058  0.86522911 0.89879472]\n",
      "  [0.81165426 0.89218329 0.91454777]]\n",
      "\n",
      " [[0.81700122 0.82479784 0.86541228]\n",
      "  [0.7549674  0.84501348 0.88246106]\n",
      "  [0.7967058  0.86522911 0.89879472]\n",
      "  [0.81165426 0.89218329 0.91454777]\n",
      "  [0.76515052 0.91913747 0.92982957]]\n",
      "\n",
      " [[0.7549674  0.84501348 0.88246106]\n",
      "  [0.7967058  0.86522911 0.89879472]\n",
      "  [0.81165426 0.89218329 0.91454777]\n",
      "  [0.76515052 0.91913747 0.92982957]\n",
      "  [0.72704903 0.9393531  0.94464555]]\n",
      "\n",
      " [[0.7967058  0.86522911 0.89879472]\n",
      "  [0.81165426 0.89218329 0.91454777]\n",
      "  [0.76515052 0.91913747 0.92982957]\n",
      "  [0.72704903 0.9393531  0.94464555]\n",
      "  [0.71464903 0.96630728 0.95898389]]\n",
      "\n",
      " [[0.81165426 0.89218329 0.91454777]\n",
      "  [0.76515052 0.91913747 0.92982957]\n",
      "  [0.72704903 0.9393531  0.94464555]\n",
      "  [0.71464903 0.96630728 0.95898389]\n",
      "  [0.76629591 1.         0.97292537]]\n",
      "\n",
      " [[0.76515052 0.91913747 0.92982957]\n",
      "  [0.72704903 0.9393531  0.94464555]\n",
      "  [0.71464903 0.96630728 0.95898389]\n",
      "  [0.76629591 1.         0.97292537]\n",
      "  [0.72944817 1.         0.98656985]]]\n"
     ]
    }
   ],
   "source": [
    "# Input shape: [[a1,b1,c1],[a2,b2,c2],[a3,b3,c3],[a4,b4,c4],[a5,b5,c5]]\n",
    "# Output shape: [a6,b6,c6]\n",
    "USX1, USy1 = sequence_to_X_y(US_df)\n",
    "print(USX1.shape, USy1.shape)\n",
    "print(USX1)"
   ]
  },
  {
   "cell_type": "code",
   "execution_count": 16,
   "id": "22cdab1d",
   "metadata": {},
   "outputs": [],
   "source": [
    "# Define how much train and how much test (US dataset used assuming all datasets same size)\n",
    "train_size = int(len(USX1) * 0.6) #60% Training\n",
    "validation_size = int(len(USX1) * 0.8) #20% Validation\n",
    "test_size = len(USX1) - train_size #20% Test\n",
    "\n",
    "# Seperating dataset into train, validation and testing\n",
    "USX_train1, USy_train1 = USX1[:train_size], USy1[:train_size]\n",
    "USX_validation1, USy_validation1 = USX1[train_size:validation_size], USy1[train_size:validation_size]\n",
    "USX_test1, USy_test1 = USX1[validation_size:], USy1[validation_size:]\n"
   ]
  },
  {
   "cell_type": "code",
   "execution_count": 40,
   "id": "a9f3f392",
   "metadata": {},
   "outputs": [
    {
     "name": "stdout",
     "output_type": "stream",
     "text": [
      "Model: \"sequential_4\"\n",
      "_________________________________________________________________\n",
      " Layer (type)                Output Shape              Param #   \n",
      "=================================================================\n",
      " lstm_4 (LSTM)               (None, 64)                17408     \n",
      "                                                                 \n",
      " dense_4 (Dense)             (None, 3)                 195       \n",
      "                                                                 \n",
      "=================================================================\n",
      "Total params: 17,603\n",
      "Trainable params: 17,603\n",
      "Non-trainable params: 0\n",
      "_________________________________________________________________\n"
     ]
    }
   ],
   "source": [
    "#Building the model\n",
    "modelUS = Sequential() #Specify the type of model \n",
    "modelUS.add(InputLayer((5, 3))) #Specify the shape of the inputs\n",
    "modelUS.add(LSTM(64)) #Specify the number of memory inputs\n",
    "modelUS.add(Dense(3, 'linear')) #Specify the output shape and activation function\n",
    "\n",
    "modelUS.summary()"
   ]
  },
  {
   "cell_type": "code",
   "execution_count": 41,
   "id": "9d1e69e0",
   "metadata": {},
   "outputs": [],
   "source": [
    "#Checkpoint system\n",
    "cpUS = ModelCheckpoint('modelUS/',save_best_only=True)\n",
    "#Compiling model, define learning rate and loss calculation\n",
    "modelUS.compile(loss=MeanSquaredError(), optimizer=Adam(learning_rate=0.001), metrics=[RootMeanSquaredError()])"
   ]
  },
  {
   "cell_type": "code",
   "execution_count": 42,
   "id": "1aa8c851",
   "metadata": {
    "scrolled": true
   },
   "outputs": [
    {
     "name": "stdout",
     "output_type": "stream",
     "text": [
      "Epoch 1/20\n",
      "1/2 [==============>...............] - ETA: 1s - loss: 0.1726 - root_mean_squared_error: 0.4155"
     ]
    },
    {
     "name": "stderr",
     "output_type": "stream",
     "text": [
      "WARNING:absl:Found untraced functions such as lstm_cell_4_layer_call_fn, lstm_cell_4_layer_call_and_return_conditional_losses while saving (showing 2 of 2). These functions will not be directly callable after loading.\n"
     ]
    },
    {
     "name": "stdout",
     "output_type": "stream",
     "text": [
      "INFO:tensorflow:Assets written to: modelUS\\assets\n"
     ]
    },
    {
     "name": "stderr",
     "output_type": "stream",
     "text": [
      "INFO:tensorflow:Assets written to: modelUS\\assets\n"
     ]
    },
    {
     "name": "stdout",
     "output_type": "stream",
     "text": [
      "2/2 [==============================] - 5s 3s/step - loss: 0.1748 - root_mean_squared_error: 0.4180 - val_loss: 0.5206 - val_root_mean_squared_error: 0.7216\n",
      "Epoch 2/20\n",
      "1/2 [==============>...............] - ETA: 0s - loss: 0.1473 - root_mean_squared_error: 0.3838"
     ]
    },
    {
     "name": "stderr",
     "output_type": "stream",
     "text": [
      "WARNING:absl:Found untraced functions such as lstm_cell_4_layer_call_fn, lstm_cell_4_layer_call_and_return_conditional_losses while saving (showing 2 of 2). These functions will not be directly callable after loading.\n"
     ]
    },
    {
     "name": "stdout",
     "output_type": "stream",
     "text": [
      "INFO:tensorflow:Assets written to: modelUS\\assets\n"
     ]
    },
    {
     "name": "stderr",
     "output_type": "stream",
     "text": [
      "INFO:tensorflow:Assets written to: modelUS\\assets\n"
     ]
    },
    {
     "name": "stdout",
     "output_type": "stream",
     "text": [
      "2/2 [==============================] - 3s 3s/step - loss: 0.1469 - root_mean_squared_error: 0.3833 - val_loss: 0.4394 - val_root_mean_squared_error: 0.6629\n",
      "Epoch 3/20\n",
      "1/2 [==============>...............] - ETA: 0s - loss: 0.1233 - root_mean_squared_error: 0.3512"
     ]
    },
    {
     "name": "stderr",
     "output_type": "stream",
     "text": [
      "WARNING:absl:Found untraced functions such as lstm_cell_4_layer_call_fn, lstm_cell_4_layer_call_and_return_conditional_losses while saving (showing 2 of 2). These functions will not be directly callable after loading.\n"
     ]
    },
    {
     "name": "stdout",
     "output_type": "stream",
     "text": [
      "INFO:tensorflow:Assets written to: modelUS\\assets\n"
     ]
    },
    {
     "name": "stderr",
     "output_type": "stream",
     "text": [
      "INFO:tensorflow:Assets written to: modelUS\\assets\n"
     ]
    },
    {
     "name": "stdout",
     "output_type": "stream",
     "text": [
      "2/2 [==============================] - 3s 3s/step - loss: 0.1216 - root_mean_squared_error: 0.3487 - val_loss: 0.3646 - val_root_mean_squared_error: 0.6038\n",
      "Epoch 4/20\n",
      "1/2 [==============>...............] - ETA: 0s - loss: 0.0968 - root_mean_squared_error: 0.3111"
     ]
    },
    {
     "name": "stderr",
     "output_type": "stream",
     "text": [
      "WARNING:absl:Found untraced functions such as lstm_cell_4_layer_call_fn, lstm_cell_4_layer_call_and_return_conditional_losses while saving (showing 2 of 2). These functions will not be directly callable after loading.\n"
     ]
    },
    {
     "name": "stdout",
     "output_type": "stream",
     "text": [
      "INFO:tensorflow:Assets written to: modelUS\\assets\n"
     ]
    },
    {
     "name": "stderr",
     "output_type": "stream",
     "text": [
      "INFO:tensorflow:Assets written to: modelUS\\assets\n"
     ]
    },
    {
     "name": "stdout",
     "output_type": "stream",
     "text": [
      "2/2 [==============================] - 3s 3s/step - loss: 0.0982 - root_mean_squared_error: 0.3134 - val_loss: 0.2941 - val_root_mean_squared_error: 0.5423\n",
      "Epoch 5/20\n",
      "1/2 [==============>...............] - ETA: 0s - loss: 0.0793 - root_mean_squared_error: 0.2816"
     ]
    },
    {
     "name": "stderr",
     "output_type": "stream",
     "text": [
      "WARNING:absl:Found untraced functions such as lstm_cell_4_layer_call_fn, lstm_cell_4_layer_call_and_return_conditional_losses while saving (showing 2 of 2). These functions will not be directly callable after loading.\n"
     ]
    },
    {
     "name": "stdout",
     "output_type": "stream",
     "text": [
      "INFO:tensorflow:Assets written to: modelUS\\assets\n"
     ]
    },
    {
     "name": "stderr",
     "output_type": "stream",
     "text": [
      "INFO:tensorflow:Assets written to: modelUS\\assets\n"
     ]
    },
    {
     "name": "stdout",
     "output_type": "stream",
     "text": [
      "2/2 [==============================] - 3s 3s/step - loss: 0.0773 - root_mean_squared_error: 0.2780 - val_loss: 0.2308 - val_root_mean_squared_error: 0.4804\n",
      "Epoch 6/20\n",
      "1/2 [==============>...............] - ETA: 0s - loss: 0.0594 - root_mean_squared_error: 0.2437"
     ]
    },
    {
     "name": "stderr",
     "output_type": "stream",
     "text": [
      "WARNING:absl:Found untraced functions such as lstm_cell_4_layer_call_fn, lstm_cell_4_layer_call_and_return_conditional_losses while saving (showing 2 of 2). These functions will not be directly callable after loading.\n"
     ]
    },
    {
     "name": "stdout",
     "output_type": "stream",
     "text": [
      "INFO:tensorflow:Assets written to: modelUS\\assets\n"
     ]
    },
    {
     "name": "stderr",
     "output_type": "stream",
     "text": [
      "INFO:tensorflow:Assets written to: modelUS\\assets\n"
     ]
    },
    {
     "name": "stdout",
     "output_type": "stream",
     "text": [
      "2/2 [==============================] - 3s 3s/step - loss: 0.0584 - root_mean_squared_error: 0.2417 - val_loss: 0.1764 - val_root_mean_squared_error: 0.4200\n",
      "Epoch 7/20\n",
      "1/2 [==============>...............] - ETA: 0s - loss: 0.0430 - root_mean_squared_error: 0.2075"
     ]
    },
    {
     "name": "stderr",
     "output_type": "stream",
     "text": [
      "WARNING:absl:Found untraced functions such as lstm_cell_4_layer_call_fn, lstm_cell_4_layer_call_and_return_conditional_losses while saving (showing 2 of 2). These functions will not be directly callable after loading.\n"
     ]
    },
    {
     "name": "stdout",
     "output_type": "stream",
     "text": [
      "INFO:tensorflow:Assets written to: modelUS\\assets\n"
     ]
    },
    {
     "name": "stderr",
     "output_type": "stream",
     "text": [
      "INFO:tensorflow:Assets written to: modelUS\\assets\n"
     ]
    },
    {
     "name": "stdout",
     "output_type": "stream",
     "text": [
      "2/2 [==============================] - 3s 3s/step - loss: 0.0425 - root_mean_squared_error: 0.2061 - val_loss: 0.1289 - val_root_mean_squared_error: 0.3590\n",
      "Epoch 8/20\n",
      "1/2 [==============>...............] - ETA: 0s - loss: 0.0290 - root_mean_squared_error: 0.1704"
     ]
    },
    {
     "name": "stderr",
     "output_type": "stream",
     "text": [
      "WARNING:absl:Found untraced functions such as lstm_cell_4_layer_call_fn, lstm_cell_4_layer_call_and_return_conditional_losses while saving (showing 2 of 2). These functions will not be directly callable after loading.\n"
     ]
    },
    {
     "name": "stdout",
     "output_type": "stream",
     "text": [
      "INFO:tensorflow:Assets written to: modelUS\\assets\n"
     ]
    },
    {
     "name": "stderr",
     "output_type": "stream",
     "text": [
      "INFO:tensorflow:Assets written to: modelUS\\assets\n"
     ]
    },
    {
     "name": "stdout",
     "output_type": "stream",
     "text": [
      "2/2 [==============================] - 3s 3s/step - loss: 0.0290 - root_mean_squared_error: 0.1702 - val_loss: 0.0885 - val_root_mean_squared_error: 0.2976\n",
      "Epoch 9/20\n",
      "1/2 [==============>...............] - ETA: 0s - loss: 0.0177 - root_mean_squared_error: 0.1331"
     ]
    },
    {
     "name": "stderr",
     "output_type": "stream",
     "text": [
      "WARNING:absl:Found untraced functions such as lstm_cell_4_layer_call_fn, lstm_cell_4_layer_call_and_return_conditional_losses while saving (showing 2 of 2). These functions will not be directly callable after loading.\n"
     ]
    },
    {
     "name": "stdout",
     "output_type": "stream",
     "text": [
      "INFO:tensorflow:Assets written to: modelUS\\assets\n"
     ]
    },
    {
     "name": "stderr",
     "output_type": "stream",
     "text": [
      "INFO:tensorflow:Assets written to: modelUS\\assets\n"
     ]
    },
    {
     "name": "stdout",
     "output_type": "stream",
     "text": [
      "2/2 [==============================] - 3s 3s/step - loss: 0.0178 - root_mean_squared_error: 0.1333 - val_loss: 0.0557 - val_root_mean_squared_error: 0.2360\n",
      "Epoch 10/20\n",
      "1/2 [==============>...............] - ETA: 0s - loss: 0.0100 - root_mean_squared_error: 0.0999"
     ]
    },
    {
     "name": "stderr",
     "output_type": "stream",
     "text": [
      "WARNING:absl:Found untraced functions such as lstm_cell_4_layer_call_fn, lstm_cell_4_layer_call_and_return_conditional_losses while saving (showing 2 of 2). These functions will not be directly callable after loading.\n"
     ]
    },
    {
     "name": "stdout",
     "output_type": "stream",
     "text": [
      "INFO:tensorflow:Assets written to: modelUS\\assets\n"
     ]
    },
    {
     "name": "stderr",
     "output_type": "stream",
     "text": [
      "INFO:tensorflow:Assets written to: modelUS\\assets\n"
     ]
    },
    {
     "name": "stdout",
     "output_type": "stream",
     "text": [
      "2/2 [==============================] - 3s 3s/step - loss: 0.0097 - root_mean_squared_error: 0.0986 - val_loss: 0.0331 - val_root_mean_squared_error: 0.1820\n",
      "Epoch 11/20\n",
      "1/2 [==============>...............] - ETA: 0s - loss: 0.0050 - root_mean_squared_error: 0.0710"
     ]
    },
    {
     "name": "stderr",
     "output_type": "stream",
     "text": [
      "WARNING:absl:Found untraced functions such as lstm_cell_4_layer_call_fn, lstm_cell_4_layer_call_and_return_conditional_losses while saving (showing 2 of 2). These functions will not be directly callable after loading.\n"
     ]
    },
    {
     "name": "stdout",
     "output_type": "stream",
     "text": [
      "INFO:tensorflow:Assets written to: modelUS\\assets\n"
     ]
    },
    {
     "name": "stderr",
     "output_type": "stream",
     "text": [
      "INFO:tensorflow:Assets written to: modelUS\\assets\n"
     ]
    },
    {
     "name": "stdout",
     "output_type": "stream",
     "text": [
      "2/2 [==============================] - 3s 3s/step - loss: 0.0050 - root_mean_squared_error: 0.0706 - val_loss: 0.0220 - val_root_mean_squared_error: 0.1482\n",
      "Epoch 12/20\n",
      "1/2 [==============>...............] - ETA: 0s - loss: 0.0042 - root_mean_squared_error: 0.0646"
     ]
    },
    {
     "name": "stderr",
     "output_type": "stream",
     "text": [
      "WARNING:absl:Found untraced functions such as lstm_cell_4_layer_call_fn, lstm_cell_4_layer_call_and_return_conditional_losses while saving (showing 2 of 2). These functions will not be directly callable after loading.\n"
     ]
    },
    {
     "name": "stdout",
     "output_type": "stream",
     "text": [
      "INFO:tensorflow:Assets written to: modelUS\\assets\n"
     ]
    },
    {
     "name": "stderr",
     "output_type": "stream",
     "text": [
      "INFO:tensorflow:Assets written to: modelUS\\assets\n"
     ]
    },
    {
     "name": "stdout",
     "output_type": "stream",
     "text": [
      "2/2 [==============================] - 3s 3s/step - loss: 0.0041 - root_mean_squared_error: 0.0640 - val_loss: 0.0203 - val_root_mean_squared_error: 0.1425\n",
      "Epoch 13/20\n",
      "2/2 [==============================] - 0s 25ms/step - loss: 0.0061 - root_mean_squared_error: 0.0779 - val_loss: 0.0250 - val_root_mean_squared_error: 0.1580\n",
      "Epoch 14/20\n",
      "2/2 [==============================] - 0s 22ms/step - loss: 0.0092 - root_mean_squared_error: 0.0961 - val_loss: 0.0302 - val_root_mean_squared_error: 0.1737\n",
      "Epoch 15/20\n",
      "2/2 [==============================] - 0s 21ms/step - loss: 0.0117 - root_mean_squared_error: 0.1079 - val_loss: 0.0319 - val_root_mean_squared_error: 0.1787\n",
      "Epoch 16/20\n",
      "2/2 [==============================] - 0s 21ms/step - loss: 0.0122 - root_mean_squared_error: 0.1103 - val_loss: 0.0301 - val_root_mean_squared_error: 0.1735\n",
      "Epoch 17/20\n",
      "2/2 [==============================] - 0s 22ms/step - loss: 0.0109 - root_mean_squared_error: 0.1044 - val_loss: 0.0269 - val_root_mean_squared_error: 0.1639\n",
      "Epoch 18/20\n",
      "2/2 [==============================] - 0s 22ms/step - loss: 0.0087 - root_mean_squared_error: 0.0932 - val_loss: 0.0236 - val_root_mean_squared_error: 0.1538\n",
      "Epoch 19/20\n",
      "2/2 [==============================] - 0s 22ms/step - loss: 0.0064 - root_mean_squared_error: 0.0799 - val_loss: 0.0224 - val_root_mean_squared_error: 0.1496\n",
      "Epoch 20/20\n",
      "2/2 [==============================] - 0s 22ms/step - loss: 0.0046 - root_mean_squared_error: 0.0677 - val_loss: 0.0242 - val_root_mean_squared_error: 0.1557\n"
     ]
    },
    {
     "data": {
      "text/plain": [
       "<keras.callbacks.History at 0x202b289d550>"
      ]
     },
     "execution_count": 42,
     "metadata": {},
     "output_type": "execute_result"
    }
   ],
   "source": [
    "#Fitting the training and validation data into the model, specify epochs\n",
    "modelUS.fit(USX_train1, USy_train1, validation_data=(USX_validation1, USy_validation1), epochs=20, callbacks=[cpUS])"
   ]
  },
  {
   "cell_type": "code",
   "execution_count": 43,
   "id": "9c49bac5",
   "metadata": {},
   "outputs": [],
   "source": [
    "#Plotting a graph to compare predicted with actual train values\n",
    "def US_plot_predictions(model, X, y, start=0, end=100):\n",
    "    #Use model to predict based of train data, tking only the co2 values\n",
    "    predictions = model.predict(X).flatten()[::3]\n",
    "    #Reshape list of values to perform inverse scaling, giving us the actual co2 value predictions\n",
    "    predictions = predictions.reshape(-1,1)\n",
    "    predictions = np.repeat(predictions, US_df.shape[1], axis=-1)\n",
    "    predictions = USScaler.inverse_transform(predictions).flatten()[::3]\n",
    "    #Get actual co2 values and put them into a list\n",
    "    y = y.flatten()[::3]\n",
    "    #Reshape list of values to perform inverse scaling, giving us the actual co2 values\n",
    "    y = y.reshape(-1,1)\n",
    "    y = np.repeat(y, US_df.shape[1], axis=-1)\n",
    "    y = USScaler.inverse_transform(y)[:,0]\n",
    "    #Create a dataframe with both predictions and actuals\n",
    "    df = pd.DataFrame(data={'Predictions':predictions, 'Actuals':y})\n",
    "    #Plot both against each other\n",
    "    plt.plot(df['Predictions'][start:end])\n",
    "    plt.plot(df['Actuals'][start:end])\n",
    "    #Get RMSE and MAPE values\n",
    "    print(f\"The RMSE is {mse(y, predictions, squared=False):.2f} & the MAPE is {mape(y, predictions)*100:.2f}%\")\n",
    "    return  \n",
    "    \n"
   ]
  },
  {
   "cell_type": "code",
   "execution_count": 44,
   "id": "6eb7bdb3",
   "metadata": {
    "scrolled": true
   },
   "outputs": [
    {
     "name": "stdout",
     "output_type": "stream",
     "text": [
      "2/2 [==============================] - 0s 3ms/step\n",
      "The RMSE is 218.60 & the MAPE is 3.76%\n"
     ]
    },
    {
     "data": {
      "image/png": "[encoded data removed]",
      "text/plain": [
       "<Figure size 432x288 with 1 Axes>"
      ]
     },
     "metadata": {
      "needs_background": "light"
     },
     "output_type": "display_data"
    }
   ],
   "source": [
    "US_plot_predictions(modelUS, USX_train1, USy_train1)"
   ]
  },
  {
   "cell_type": "code",
   "execution_count": 45,
   "id": "4185a116",
   "metadata": {},
   "outputs": [
    {
     "name": "stdout",
     "output_type": "stream",
     "text": [
      "1/1 [==============================] - 0s 15ms/step\n",
      "The RMSE is 1178.92 & the MAPE is 21.87%\n"
     ]
    },
    {
     "data": {
      "image/png": "[encoded data removed]",
      "text/plain": [
       "<Figure size 432x288 with 1 Axes>"
      ]
     },
     "metadata": {
      "needs_background": "light"
     },
     "output_type": "display_data"
    }
   ],
   "source": [
    "US_plot_predictions(modelUS, USX_test1, USy_test1)"
   ]
  },
  {
   "cell_type": "code",
   "execution_count": 46,
   "id": "467172ed",
   "metadata": {
    "scrolled": false
   },
   "outputs": [
    {
     "name": "stdout",
     "output_type": "stream",
     "text": [
      "1/1 [==============================] - 0s 20ms/step\n",
      "1/1 [==============================] - 0s 15ms/step\n",
      "1/1 [==============================] - 0s 14ms/step\n",
      "1/1 [==============================] - 0s 14ms/step\n",
      "1/1 [==============================] - 0s 13ms/step\n",
      "1/1 [==============================] - 0s 14ms/step\n",
      "1/1 [==============================] - 0s 16ms/step\n",
      "1/1 [==============================] - 0s 13ms/step\n",
      "1/1 [==============================] - 0s 14ms/step\n",
      "1/1 [==============================] - 0s 14ms/step\n",
      "1/1 [==============================] - 0s 16ms/step\n",
      "1/1 [==============================] - 0s 13ms/step\n",
      "1/1 [==============================] - 0s 14ms/step\n",
      "1/1 [==============================] - 0s 15ms/step\n",
      "1/1 [==============================] - 0s 15ms/step\n",
      "1/1 [==============================] - 0s 14ms/step\n",
      "1/1 [==============================] - 0s 13ms/step\n",
      "1/1 [==============================] - 0s 14ms/step\n",
      "1/1 [==============================] - 0s 14ms/step\n",
      "1/1 [==============================] - 0s 13ms/step\n"
     ]
    }
   ],
   "source": [
    "n_lookback = 5  # length of input sequences (lookback period), essentially how many time steps back we look\n",
    "num_prediction = 20 # Number of years predicted into future\n",
    "\n",
    "# Get the last 5 values of the dataframe, put it into a prediction list\n",
    "prediction_list = US_df[- n_lookback:].values\n",
    "\n",
    "\n",
    "z = 0 #Counter variable\n",
    "\n",
    "#Forecast the 2021 co2 value based on the last 5 years, forecast 2022 value based on the last 5 years,\n",
    "#so on and so forth until the year 2040\n",
    "for r in range(num_prediction):\n",
    "    z += 1\n",
    "    x = prediction_list[:,- n_lookback:] #Get the last 5 values of the prediction list\n",
    "    x = x.reshape(-1,n_lookback,3) #Reshape for prediction\n",
    "    out = modelUS.predict(x) #Forecast next value based on last 5 values\n",
    "    prediction_list = np.append(prediction_list, out) #Append new value to prediction list\n",
    "    prediction_list = prediction_list.reshape((1, n_lookback+z,3)) \n"
   ]
  },
  {
   "cell_type": "code",
   "execution_count": 47,
   "id": "72dea98b",
   "metadata": {
    "scrolled": true
   },
   "outputs": [],
   "source": [
    "#Place forecasted values into a list\n",
    "forecasted_values_US = prediction_list[:,n_lookback:] \n",
    "\n",
    "#Reshape list to inverse scale\n",
    "forecasted_values_US = forecasted_values_US.flatten()\n",
    "forecasted_values_US = forecasted_values_US.reshape(num_prediction,3)\n",
    "\n",
    "#Inverse forecasted values to get actual co2 values\n",
    "forecasted_values_US = USScaler.inverse_transform(forecasted_values_US)[:,0]"
   ]
  },
  {
   "cell_type": "code",
   "execution_count": 90,
   "id": "b83a846e",
   "metadata": {
    "scrolled": true
   },
   "outputs": [
    {
     "data": {
      "text/plain": [
       "<matplotlib.legend.Legend at 0x202a45b47f0>"
      ]
     },
     "execution_count": 90,
     "metadata": {},
     "output_type": "execute_result"
    },
    {
     "data": {
      "image/png": "[encoded data removed]",
      "text/plain": [
       "<Figure size 432x288 with 1 Axes>"
      ]
     },
     "metadata": {
      "needs_background": "light"
     },
     "output_type": "display_data"
    }
   ],
   "source": [
    "#Get a list of dates for forecast, in this case 2021 to 2040\n",
    "predict_period_dates = pd.date_range(start= '2021-12-31', periods=num_prediction, freq='1y').tolist()\n",
    "\n",
    "#Place forecast dates into a list\n",
    "forecast_dates = []\n",
    "for time_i in predict_period_dates:\n",
    "     forecast_dates.append(time_i.date())\n",
    "\n",
    "#Create a dataframe with forecast dates as well as previously forecasted values        \n",
    "df_forecast_US = pd.DataFrame({'Date':np.array(forecast_dates), 'CO2':forecasted_values_US})\n",
    "df_forecast_US['Date']=pd.to_datetime(df_forecast_US['Date'])\n",
    "df_forecast_US = df_forecast_US.set_index('Date')\n",
    "\n",
    "#Concatenate old values with new values into a new dataframe\n",
    "combined_df = [US_df1['co2 United States'],df_forecast_US['CO2']]\n",
    "result = pd.concat(combined_df)\n",
    "\n",
    "#Plot both historical values and forecasted values\n",
    "\n",
    "plt.plot(result, label=\"Past Values\")\n",
    "plt.plot(df_forecast_US['CO2'], label='Forecast')\n",
    "plt.legend()"
   ]
  },
  {
   "cell_type": "markdown",
   "id": "93887374",
   "metadata": {},
   "source": [
    "# China LSTM Model"
   ]
  },
  {
   "cell_type": "code",
   "execution_count": 85,
   "id": "dc0dff63",
   "metadata": {
    "scrolled": true
   },
   "outputs": [
    {
     "data": {
      "text/plain": [
       "array([<AxesSubplot:xlabel='year'>, <AxesSubplot:xlabel='year'>,\n",
       "       <AxesSubplot:xlabel='year'>], dtype=object)"
      ]
     },
     "execution_count": 85,
     "metadata": {},
     "output_type": "execute_result"
    },
    {
     "data": {
      "image/png": "[encoded data removed]",
      "text/plain": [
       "<Figure size 432x288 with 3 Axes>"
      ]
     },
     "metadata": {
      "needs_background": "light"
     },
     "output_type": "display_data"
    }
   ],
   "source": [
    "China_df1.plot(subplots=True)"
   ]
  },
  {
   "cell_type": "code",
   "execution_count": 92,
   "id": "dbf25841",
   "metadata": {},
   "outputs": [],
   "source": [
    "ChinaX, Chinay = sequence_to_X_y(China_df)\n",
    "\n",
    "#Since all dfs same shape and size, no need to redefine train val and test variables\n",
    "\n",
    "train_dates, ChinaX_train, Chinay_train = China_df.index[:train_size],ChinaX[:train_size], Chinay[:train_size]\n",
    "val_dates, ChinaX_validation, Chinay_validation = China_df.index[train_size:validation_size],ChinaX[train_size:validation_size], Chinay[train_size:validation_size]\n",
    "test_dates, ChinaX_test, Chinay_test = China_df.index[validation_size:],ChinaX[validation_size:], Chinay[validation_size:]\n"
   ]
  },
  {
   "cell_type": "code",
   "execution_count": 25,
   "id": "54f48509",
   "metadata": {},
   "outputs": [
    {
     "name": "stdout",
     "output_type": "stream",
     "text": [
      "Model: \"sequential_2\"\n",
      "_________________________________________________________________\n",
      " Layer (type)                Output Shape              Param #   \n",
      "=================================================================\n",
      " lstm_2 (LSTM)               (None, 64)                17408     \n",
      "                                                                 \n",
      " dense_2 (Dense)             (None, 3)                 195       \n",
      "                                                                 \n",
      "=================================================================\n",
      "Total params: 17,603\n",
      "Trainable params: 17,603\n",
      "Non-trainable params: 0\n",
      "_________________________________________________________________\n"
     ]
    }
   ],
   "source": [
    "modelChina = Sequential()\n",
    "modelChina.add(InputLayer((5, 3)))\n",
    "modelChina.add(LSTM(64))\n",
    "modelChina.add(Dense(3, 'linear'))\n",
    "\n",
    "modelChina.summary()"
   ]
  },
  {
   "cell_type": "code",
   "execution_count": 26,
   "id": "46871854",
   "metadata": {},
   "outputs": [],
   "source": [
    "cpChina = ModelCheckpoint('modelChina/',save_best_only=True)\n",
    "modelChina.compile(loss=MeanSquaredError(), optimizer=Adam(learning_rate=0.001), metrics=[RootMeanSquaredError()])"
   ]
  },
  {
   "cell_type": "code",
   "execution_count": 27,
   "id": "6ceeff3e",
   "metadata": {
    "scrolled": true
   },
   "outputs": [
    {
     "name": "stdout",
     "output_type": "stream",
     "text": [
      "Epoch 1/20\n",
      "1/2 [==============>...............] - ETA: 1s - loss: 0.1309 - root_mean_squared_error: 0.3618"
     ]
    },
    {
     "name": "stderr",
     "output_type": "stream",
     "text": [
      "WARNING:absl:Found untraced functions such as lstm_cell_2_layer_call_fn, lstm_cell_2_layer_call_and_return_conditional_losses while saving (showing 2 of 2). These functions will not be directly callable after loading.\n"
     ]
    },
    {
     "name": "stdout",
     "output_type": "stream",
     "text": [
      "INFO:tensorflow:Assets written to: modelChina\\assets\n"
     ]
    },
    {
     "name": "stderr",
     "output_type": "stream",
     "text": [
      "INFO:tensorflow:Assets written to: modelChina\\assets\n"
     ]
    },
    {
     "name": "stdout",
     "output_type": "stream",
     "text": [
      "2/2 [==============================] - 6s 4s/step - loss: 0.1276 - root_mean_squared_error: 0.3573 - val_loss: 0.4264 - val_root_mean_squared_error: 0.6530\n",
      "Epoch 2/20\n",
      "1/2 [==============>...............] - ETA: 0s - loss: 0.1102 - root_mean_squared_error: 0.3320"
     ]
    },
    {
     "name": "stderr",
     "output_type": "stream",
     "text": [
      "WARNING:absl:Found untraced functions such as lstm_cell_2_layer_call_fn, lstm_cell_2_layer_call_and_return_conditional_losses while saving (showing 2 of 2). These functions will not be directly callable after loading.\n"
     ]
    },
    {
     "name": "stdout",
     "output_type": "stream",
     "text": [
      "INFO:tensorflow:Assets written to: modelChina\\assets\n"
     ]
    },
    {
     "name": "stderr",
     "output_type": "stream",
     "text": [
      "INFO:tensorflow:Assets written to: modelChina\\assets\n"
     ]
    },
    {
     "name": "stdout",
     "output_type": "stream",
     "text": [
      "2/2 [==============================] - 4s 4s/step - loss: 0.1107 - root_mean_squared_error: 0.3327 - val_loss: 0.3732 - val_root_mean_squared_error: 0.6109\n",
      "Epoch 3/20\n",
      "1/2 [==============>...............] - ETA: 0s - loss: 0.0965 - root_mean_squared_error: 0.3106"
     ]
    },
    {
     "name": "stderr",
     "output_type": "stream",
     "text": [
      "WARNING:absl:Found untraced functions such as lstm_cell_2_layer_call_fn, lstm_cell_2_layer_call_and_return_conditional_losses while saving (showing 2 of 2). These functions will not be directly callable after loading.\n"
     ]
    },
    {
     "name": "stdout",
     "output_type": "stream",
     "text": [
      "INFO:tensorflow:Assets written to: modelChina\\assets\n"
     ]
    },
    {
     "name": "stderr",
     "output_type": "stream",
     "text": [
      "INFO:tensorflow:Assets written to: modelChina\\assets\n"
     ]
    },
    {
     "name": "stdout",
     "output_type": "stream",
     "text": [
      "2/2 [==============================] - 4s 4s/step - loss: 0.0952 - root_mean_squared_error: 0.3086 - val_loss: 0.3217 - val_root_mean_squared_error: 0.5672\n",
      "Epoch 4/20\n",
      "1/2 [==============>...............] - ETA: 0s - loss: 0.0820 - root_mean_squared_error: 0.2864"
     ]
    },
    {
     "name": "stderr",
     "output_type": "stream",
     "text": [
      "WARNING:absl:Found untraced functions such as lstm_cell_2_layer_call_fn, lstm_cell_2_layer_call_and_return_conditional_losses while saving (showing 2 of 2). These functions will not be directly callable after loading.\n"
     ]
    },
    {
     "name": "stdout",
     "output_type": "stream",
     "text": [
      "INFO:tensorflow:Assets written to: modelChina\\assets\n"
     ]
    },
    {
     "name": "stderr",
     "output_type": "stream",
     "text": [
      "INFO:tensorflow:Assets written to: modelChina\\assets\n"
     ]
    },
    {
     "name": "stdout",
     "output_type": "stream",
     "text": [
      "2/2 [==============================] - 4s 4s/step - loss: 0.0804 - root_mean_squared_error: 0.2836 - val_loss: 0.2746 - val_root_mean_squared_error: 0.5241\n",
      "Epoch 5/20\n",
      "1/2 [==============>...............] - ETA: 0s - loss: 0.0679 - root_mean_squared_error: 0.2606"
     ]
    },
    {
     "name": "stderr",
     "output_type": "stream",
     "text": [
      "WARNING:absl:Found untraced functions such as lstm_cell_2_layer_call_fn, lstm_cell_2_layer_call_and_return_conditional_losses while saving (showing 2 of 2). These functions will not be directly callable after loading.\n"
     ]
    },
    {
     "name": "stdout",
     "output_type": "stream",
     "text": [
      "INFO:tensorflow:Assets written to: modelChina\\assets\n"
     ]
    },
    {
     "name": "stderr",
     "output_type": "stream",
     "text": [
      "INFO:tensorflow:Assets written to: modelChina\\assets\n"
     ]
    },
    {
     "name": "stdout",
     "output_type": "stream",
     "text": [
      "2/2 [==============================] - 3s 3s/step - loss: 0.0669 - root_mean_squared_error: 0.2586 - val_loss: 0.2314 - val_root_mean_squared_error: 0.4811\n",
      "Epoch 6/20\n",
      "1/2 [==============>...............] - ETA: 0s - loss: 0.0563 - root_mean_squared_error: 0.2373"
     ]
    },
    {
     "name": "stderr",
     "output_type": "stream",
     "text": [
      "WARNING:absl:Found untraced functions such as lstm_cell_2_layer_call_fn, lstm_cell_2_layer_call_and_return_conditional_losses while saving (showing 2 of 2). These functions will not be directly callable after loading.\n"
     ]
    },
    {
     "name": "stdout",
     "output_type": "stream",
     "text": [
      "INFO:tensorflow:Assets written to: modelChina\\assets\n"
     ]
    },
    {
     "name": "stderr",
     "output_type": "stream",
     "text": [
      "INFO:tensorflow:Assets written to: modelChina\\assets\n"
     ]
    },
    {
     "name": "stdout",
     "output_type": "stream",
     "text": [
      "2/2 [==============================] - 4s 4s/step - loss: 0.0547 - root_mean_squared_error: 0.2338 - val_loss: 0.1924 - val_root_mean_squared_error: 0.4387\n",
      "Epoch 7/20\n",
      "1/2 [==============>...............] - ETA: 0s - loss: 0.0444 - root_mean_squared_error: 0.2107"
     ]
    },
    {
     "name": "stderr",
     "output_type": "stream",
     "text": [
      "WARNING:absl:Found untraced functions such as lstm_cell_2_layer_call_fn, lstm_cell_2_layer_call_and_return_conditional_losses while saving (showing 2 of 2). These functions will not be directly callable after loading.\n"
     ]
    },
    {
     "name": "stdout",
     "output_type": "stream",
     "text": [
      "INFO:tensorflow:Assets written to: modelChina\\assets\n"
     ]
    },
    {
     "name": "stderr",
     "output_type": "stream",
     "text": [
      "INFO:tensorflow:Assets written to: modelChina\\assets\n"
     ]
    },
    {
     "name": "stdout",
     "output_type": "stream",
     "text": [
      "2/2 [==============================] - 4s 4s/step - loss: 0.0437 - root_mean_squared_error: 0.2090 - val_loss: 0.1573 - val_root_mean_squared_error: 0.3966\n",
      "Epoch 8/20\n",
      "1/2 [==============>...............] - ETA: 0s - loss: 0.0342 - root_mean_squared_error: 0.1850"
     ]
    },
    {
     "name": "stderr",
     "output_type": "stream",
     "text": [
      "WARNING:absl:Found untraced functions such as lstm_cell_2_layer_call_fn, lstm_cell_2_layer_call_and_return_conditional_losses while saving (showing 2 of 2). These functions will not be directly callable after loading.\n"
     ]
    },
    {
     "name": "stdout",
     "output_type": "stream",
     "text": [
      "INFO:tensorflow:Assets written to: modelChina\\assets\n"
     ]
    },
    {
     "name": "stderr",
     "output_type": "stream",
     "text": [
      "INFO:tensorflow:Assets written to: modelChina\\assets\n"
     ]
    },
    {
     "name": "stdout",
     "output_type": "stream",
     "text": [
      "2/2 [==============================] - 4s 4s/step - loss: 0.0339 - root_mean_squared_error: 0.1842 - val_loss: 0.1247 - val_root_mean_squared_error: 0.3532\n",
      "Epoch 9/20\n",
      "1/2 [==============>...............] - ETA: 0s - loss: 0.0237 - root_mean_squared_error: 0.1541"
     ]
    },
    {
     "name": "stderr",
     "output_type": "stream",
     "text": [
      "WARNING:absl:Found untraced functions such as lstm_cell_2_layer_call_fn, lstm_cell_2_layer_call_and_return_conditional_losses while saving (showing 2 of 2). These functions will not be directly callable after loading.\n"
     ]
    },
    {
     "name": "stdout",
     "output_type": "stream",
     "text": [
      "INFO:tensorflow:Assets written to: modelChina\\assets\n"
     ]
    },
    {
     "name": "stderr",
     "output_type": "stream",
     "text": [
      "INFO:tensorflow:Assets written to: modelChina\\assets\n"
     ]
    },
    {
     "name": "stdout",
     "output_type": "stream",
     "text": [
      "2/2 [==============================] - 4s 4s/step - loss: 0.0248 - root_mean_squared_error: 0.1576 - val_loss: 0.0939 - val_root_mean_squared_error: 0.3064\n",
      "Epoch 10/20\n",
      "1/2 [==============>...............] - ETA: 0s - loss: 0.0165 - root_mean_squared_error: 0.1284"
     ]
    },
    {
     "name": "stderr",
     "output_type": "stream",
     "text": [
      "WARNING:absl:Found untraced functions such as lstm_cell_2_layer_call_fn, lstm_cell_2_layer_call_and_return_conditional_losses while saving (showing 2 of 2). These functions will not be directly callable after loading.\n"
     ]
    },
    {
     "name": "stdout",
     "output_type": "stream",
     "text": [
      "INFO:tensorflow:Assets written to: modelChina\\assets\n"
     ]
    },
    {
     "name": "stderr",
     "output_type": "stream",
     "text": [
      "INFO:tensorflow:Assets written to: modelChina\\assets\n"
     ]
    },
    {
     "name": "stdout",
     "output_type": "stream",
     "text": [
      "2/2 [==============================] - 4s 4s/step - loss: 0.0169 - root_mean_squared_error: 0.1301 - val_loss: 0.0661 - val_root_mean_squared_error: 0.2570\n",
      "Epoch 11/20\n",
      "1/2 [==============>...............] - ETA: 0s - loss: 0.0109 - root_mean_squared_error: 0.1042"
     ]
    },
    {
     "name": "stderr",
     "output_type": "stream",
     "text": [
      "WARNING:absl:Found untraced functions such as lstm_cell_2_layer_call_fn, lstm_cell_2_layer_call_and_return_conditional_losses while saving (showing 2 of 2). These functions will not be directly callable after loading.\n"
     ]
    },
    {
     "name": "stdout",
     "output_type": "stream",
     "text": [
      "INFO:tensorflow:Assets written to: modelChina\\assets\n"
     ]
    },
    {
     "name": "stderr",
     "output_type": "stream",
     "text": [
      "INFO:tensorflow:Assets written to: modelChina\\assets\n"
     ]
    },
    {
     "name": "stdout",
     "output_type": "stream",
     "text": [
      "2/2 [==============================] - 3s 3s/step - loss: 0.0106 - root_mean_squared_error: 0.1028 - val_loss: 0.0454 - val_root_mean_squared_error: 0.2130\n",
      "Epoch 12/20\n",
      "1/2 [==============>...............] - ETA: 0s - loss: 0.0062 - root_mean_squared_error: 0.0788"
     ]
    },
    {
     "name": "stderr",
     "output_type": "stream",
     "text": [
      "WARNING:absl:Found untraced functions such as lstm_cell_2_layer_call_fn, lstm_cell_2_layer_call_and_return_conditional_losses while saving (showing 2 of 2). These functions will not be directly callable after loading.\n"
     ]
    },
    {
     "name": "stdout",
     "output_type": "stream",
     "text": [
      "INFO:tensorflow:Assets written to: modelChina\\assets\n"
     ]
    },
    {
     "name": "stderr",
     "output_type": "stream",
     "text": [
      "INFO:tensorflow:Assets written to: modelChina\\assets\n"
     ]
    },
    {
     "name": "stdout",
     "output_type": "stream",
     "text": [
      "2/2 [==============================] - 4s 4s/step - loss: 0.0061 - root_mean_squared_error: 0.0780 - val_loss: 0.0334 - val_root_mean_squared_error: 0.1828\n",
      "Epoch 13/20\n",
      "1/2 [==============>...............] - ETA: 0s - loss: 0.0038 - root_mean_squared_error: 0.0618"
     ]
    },
    {
     "name": "stderr",
     "output_type": "stream",
     "text": [
      "WARNING:absl:Found untraced functions such as lstm_cell_2_layer_call_fn, lstm_cell_2_layer_call_and_return_conditional_losses while saving (showing 2 of 2). These functions will not be directly callable after loading.\n"
     ]
    },
    {
     "name": "stdout",
     "output_type": "stream",
     "text": [
      "INFO:tensorflow:Assets written to: modelChina\\assets\n"
     ]
    },
    {
     "name": "stderr",
     "output_type": "stream",
     "text": [
      "INFO:tensorflow:Assets written to: modelChina\\assets\n"
     ]
    },
    {
     "name": "stdout",
     "output_type": "stream",
     "text": [
      "2/2 [==============================] - 3s 3s/step - loss: 0.0038 - root_mean_squared_error: 0.0616 - val_loss: 0.0290 - val_root_mean_squared_error: 0.1702\n",
      "Epoch 14/20\n",
      "2/2 [==============================] - 0s 25ms/step - loss: 0.0031 - root_mean_squared_error: 0.0560 - val_loss: 0.0301 - val_root_mean_squared_error: 0.1734\n",
      "Epoch 15/20\n",
      "2/2 [==============================] - 0s 27ms/step - loss: 0.0035 - root_mean_squared_error: 0.0588 - val_loss: 0.0343 - val_root_mean_squared_error: 0.1852\n",
      "Epoch 16/20\n",
      "2/2 [==============================] - 0s 28ms/step - loss: 0.0041 - root_mean_squared_error: 0.0638 - val_loss: 0.0393 - val_root_mean_squared_error: 0.1983\n",
      "Epoch 17/20\n",
      "2/2 [==============================] - 0s 28ms/step - loss: 0.0045 - root_mean_squared_error: 0.0671 - val_loss: 0.0425 - val_root_mean_squared_error: 0.2061\n",
      "Epoch 18/20\n",
      "2/2 [==============================] - 0s 30ms/step - loss: 0.0045 - root_mean_squared_error: 0.0673 - val_loss: 0.0435 - val_root_mean_squared_error: 0.2086\n",
      "Epoch 19/20\n",
      "2/2 [==============================] - 0s 33ms/step - loss: 0.0041 - root_mean_squared_error: 0.0643 - val_loss: 0.0436 - val_root_mean_squared_error: 0.2088\n",
      "Epoch 20/20\n",
      "2/2 [==============================] - 0s 33ms/step - loss: 0.0035 - root_mean_squared_error: 0.0594 - val_loss: 0.0431 - val_root_mean_squared_error: 0.2075\n"
     ]
    },
    {
     "data": {
      "text/plain": [
       "<keras.callbacks.History at 0x202ad303670>"
      ]
     },
     "execution_count": 27,
     "metadata": {},
     "output_type": "execute_result"
    }
   ],
   "source": [
    "modelChina.fit(ChinaX_train, Chinay_train, validation_data=(ChinaX_validation, Chinay_validation), epochs=20, callbacks=[cpChina])"
   ]
  },
  {
   "cell_type": "code",
   "execution_count": 93,
   "id": "5ff5488f",
   "metadata": {},
   "outputs": [],
   "source": [
    "def China_plot_predictions(model, X, y, start=0, end=100):\n",
    "    predictions = model.predict(X).flatten()[::3]\n",
    "    predictions = predictions.reshape(-1,1)\n",
    "    predictions = np.repeat(predictions, US_df.shape[1], axis=-1)\n",
    "    predictions = ChinaScaler.inverse_transform(predictions).flatten()[::3]\n",
    "    y = y.flatten()[::3]\n",
    "    y = y.reshape(-1,1)\n",
    "    y = np.repeat(y, China_df.shape[1], axis=-1)\n",
    "    y = ChinaScaler.inverse_transform(y)[:,0]\n",
    "    df = pd.DataFrame(data={'Predictions':predictions, 'Actuals':y})\n",
    "    plt.plot(df['Predictions'][start:end])\n",
    "    plt.plot(df['Actuals'][start:end])\n",
    "    print(f\"The RMSE is {mse(y, predictions, squared=False):.2f} & the MAPE is {mape(y, predictions)*100:.2f}%\")\n",
    "    return  \n",
    "     \n"
   ]
  },
  {
   "cell_type": "code",
   "execution_count": 94,
   "id": "e4a78d51",
   "metadata": {
    "scrolled": true
   },
   "outputs": [
    {
     "name": "stdout",
     "output_type": "stream",
     "text": [
      "2/2 [==============================] - 0s 2ms/step\n",
      "The RMSE is 464.92 & the MAPE is 41.45%\n"
     ]
    },
    {
     "data": {
      "image/png": "[encoded data removed]",
      "text/plain": [
       "<Figure size 432x288 with 1 Axes>"
      ]
     },
     "metadata": {
      "needs_background": "light"
     },
     "output_type": "display_data"
    }
   ],
   "source": [
    "China_plot_predictions(modelChina, ChinaX_train, Chinay_train)"
   ]
  },
  {
   "cell_type": "code",
   "execution_count": 95,
   "id": "3fd72663",
   "metadata": {},
   "outputs": [
    {
     "name": "stdout",
     "output_type": "stream",
     "text": [
      "1/1 [==============================] - 0s 17ms/step\n",
      "The RMSE is 5328.77 & the MAPE is 54.49%\n"
     ]
    },
    {
     "data": {
      "image/png": "[encoded data removed]",
      "text/plain": [
       "<Figure size 432x288 with 1 Axes>"
      ]
     },
     "metadata": {
      "needs_background": "light"
     },
     "output_type": "display_data"
    }
   ],
   "source": [
    "China_plot_predictions(modelChina, ChinaX_test, Chinay_test)"
   ]
  },
  {
   "cell_type": "code",
   "execution_count": 96,
   "id": "a8b1626b",
   "metadata": {},
   "outputs": [
    {
     "name": "stdout",
     "output_type": "stream",
     "text": [
      "1/1 [==============================] - 0s 18ms/step\n",
      "1/1 [==============================] - 0s 19ms/step\n",
      "1/1 [==============================] - 0s 7ms/step\n",
      "1/1 [==============================] - 0s 12ms/step\n",
      "1/1 [==============================] - 0s 13ms/step\n",
      "1/1 [==============================] - 0s 12ms/step\n",
      "1/1 [==============================] - 0s 13ms/step\n",
      "1/1 [==============================] - 0s 12ms/step\n",
      "1/1 [==============================] - 0s 11ms/step\n",
      "1/1 [==============================] - 0s 5ms/step\n",
      "1/1 [==============================] - 0s 10ms/step\n",
      "1/1 [==============================] - 0s 8ms/step\n",
      "1/1 [==============================] - 0s 7ms/step\n",
      "1/1 [==============================] - 0s 13ms/step\n",
      "1/1 [==============================] - 0s 13ms/step\n",
      "1/1 [==============================] - 0s 6ms/step\n",
      "1/1 [==============================] - 0s 11ms/step\n",
      "1/1 [==============================] - 0s 8ms/step\n",
      "1/1 [==============================] - 0s 9ms/step\n",
      "1/1 [==============================] - 0s 11ms/step\n"
     ]
    }
   ],
   "source": [
    "n_lookback = 5  # length of input sequences (lookback period), essentially how many time steps back we look\n",
    "num_prediction = 20 # Number of years predicted into future\n",
    "\n",
    "China_prediction_list = China_df[- n_lookback:].values# last available input sequence\n",
    "\n",
    "z = 0\n",
    "\n",
    "for r in range(num_prediction):\n",
    "    z += 1\n",
    "    x = China_prediction_list[:,- n_lookback:]\n",
    "    x = x.reshape(-1,n_lookback,3)\n",
    "    out = modelChina.predict(x)\n",
    "    China_prediction_list = np.append(China_prediction_list, out)\n",
    "    China_prediction_list = China_prediction_list.reshape((1, n_lookback+z,3))\n"
   ]
  },
  {
   "cell_type": "code",
   "execution_count": 97,
   "id": "2b0a950d",
   "metadata": {
    "scrolled": true
   },
   "outputs": [],
   "source": [
    "forecasted_values_China = China_prediction_list[:,n_lookback:]\n",
    "\n",
    "forecasted_values_China = forecasted_values_China.flatten()\n",
    "forecasted_values_China = forecasted_values_China.reshape(num_prediction,3)\n",
    "\n",
    "\n",
    "forecasted_values_China = ChinaScaler.inverse_transform(forecasted_values_China)[:,0]"
   ]
  },
  {
   "cell_type": "code",
   "execution_count": 98,
   "id": "e9973e97",
   "metadata": {
    "scrolled": false
   },
   "outputs": [
    {
     "data": {
      "text/plain": [
       "<matplotlib.legend.Legend at 0x202a2157e50>"
      ]
     },
     "execution_count": 98,
     "metadata": {},
     "output_type": "execute_result"
    },
    {
     "data": {
      "image/png": "[encoded data removed]",
      "text/plain": [
       "<Figure size 432x288 with 1 Axes>"
      ]
     },
     "metadata": {
      "needs_background": "light"
     },
     "output_type": "display_data"
    }
   ],
   "source": [
    "predict_period_dates = pd.date_range(start= '2021-12-31', periods=num_prediction, freq='1y').tolist()\n",
    "# print(predict_period_dates)\n",
    "\n",
    "\n",
    "forecast_dates = []\n",
    "for time_i in predict_period_dates:\n",
    "     forecast_dates.append(time_i.date())\n",
    "    \n",
    "df_forecast_China = pd.DataFrame({'Date':np.array(forecast_dates), 'CO2':forecasted_values_China})\n",
    "df_forecast_China['Date']=pd.to_datetime(df_forecast_China['Date'])\n",
    "df_forecast_China = df_forecast_China.set_index('Date')\n",
    "\n",
    "combined_df = [China_df1['co2 China'],df_forecast_China['CO2']]\n",
    "\n",
    "result = pd.concat(combined_df)\n",
    "\n",
    "\n",
    "plt.plot(result, label=\"Past Values\")\n",
    "plt.plot(df_forecast_China['CO2'], label='Forecast')\n",
    "plt.legend()"
   ]
  },
  {
   "cell_type": "markdown",
   "id": "69b60703",
   "metadata": {},
   "source": [
    "# Russia LSTM Model"
   ]
  },
  {
   "cell_type": "code",
   "execution_count": 46,
   "id": "036103ad",
   "metadata": {},
   "outputs": [
    {
     "data": {
      "text/plain": [
       "array([<AxesSubplot:xlabel='year'>, <AxesSubplot:xlabel='year'>,\n",
       "       <AxesSubplot:xlabel='year'>], dtype=object)"
      ]
     },
     "execution_count": 46,
     "metadata": {},
     "output_type": "execute_result"
    },
    {
     "data": {
      "image/png": "[encoded data removed]",
      "text/plain": [
       "<Figure size 432x288 with 3 Axes>"
      ]
     },
     "metadata": {
      "needs_background": "light"
     },
     "output_type": "display_data"
    }
   ],
   "source": [
    "Russia_df1.plot(subplots=True)"
   ]
  },
  {
   "cell_type": "code",
   "execution_count": 35,
   "id": "f5e34519",
   "metadata": {},
   "outputs": [],
   "source": [
    "RussiaX, Russiay = sequence_to_X_y(China_df)\n",
    "\n",
    "#Since all dfs same shape and size, no need to redefine train val and test variables\n",
    "\n",
    "train_dates, RussiaX_train, Russiay_train = Russia_df.index[:train_size],RussiaX[:train_size], Russiay[:train_size]\n",
    "val_dates, RussiaX_validation, Russiay_validation = Russia_df.index[train_size:validation_size],RussiaX[train_size:validation_size], Russiay[train_size:validation_size]\n",
    "test_dates, RussiaX_test, Russiay_test = Russia_df.index[validation_size:],RussiaX[validation_size:], Russiay[validation_size:]\n",
    "\n"
   ]
  },
  {
   "cell_type": "code",
   "execution_count": 32,
   "id": "ecbf4970",
   "metadata": {},
   "outputs": [
    {
     "name": "stdout",
     "output_type": "stream",
     "text": [
      "Model: \"sequential_3\"\n",
      "_________________________________________________________________\n",
      " Layer (type)                Output Shape              Param #   \n",
      "=================================================================\n",
      " lstm_3 (LSTM)               (None, 64)                17408     \n",
      "                                                                 \n",
      " dense_3 (Dense)             (None, 3)                 195       \n",
      "                                                                 \n",
      "=================================================================\n",
      "Total params: 17,603\n",
      "Trainable params: 17,603\n",
      "Non-trainable params: 0\n",
      "_________________________________________________________________\n"
     ]
    }
   ],
   "source": [
    "modelRussia = Sequential()\n",
    "modelRussia.add(InputLayer((5, 3)))\n",
    "modelRussia.add(LSTM(64))\n",
    "modelRussia.add(Dense(3, 'linear'))\n",
    "\n",
    "modelRussia.summary()"
   ]
  },
  {
   "cell_type": "code",
   "execution_count": 33,
   "id": "2e536f1b",
   "metadata": {},
   "outputs": [],
   "source": [
    "cpRussia = ModelCheckpoint('modelRussia/',save_best_only=True)\n",
    "modelRussia.compile(loss=MeanSquaredError(), optimizer=Adam(learning_rate=0.001), metrics=[RootMeanSquaredError()])"
   ]
  },
  {
   "cell_type": "code",
   "execution_count": 36,
   "id": "d9a9b298",
   "metadata": {
    "scrolled": true
   },
   "outputs": [
    {
     "name": "stdout",
     "output_type": "stream",
     "text": [
      "Epoch 1/20\n",
      "1/2 [==============>...............] - ETA: 1s - loss: 0.0806 - root_mean_squared_error: 0.2839"
     ]
    },
    {
     "name": "stderr",
     "output_type": "stream",
     "text": [
      "WARNING:absl:Found untraced functions such as lstm_cell_3_layer_call_fn, lstm_cell_3_layer_call_and_return_conditional_losses while saving (showing 2 of 2). These functions will not be directly callable after loading.\n"
     ]
    },
    {
     "name": "stdout",
     "output_type": "stream",
     "text": [
      "INFO:tensorflow:Assets written to: modelRussia\\assets\n"
     ]
    },
    {
     "name": "stderr",
     "output_type": "stream",
     "text": [
      "INFO:tensorflow:Assets written to: modelRussia\\assets\n"
     ]
    },
    {
     "name": "stdout",
     "output_type": "stream",
     "text": [
      "2/2 [==============================] - 6s 4s/step - loss: 0.0799 - root_mean_squared_error: 0.2827 - val_loss: 0.2657 - val_root_mean_squared_error: 0.5155\n",
      "Epoch 2/20\n",
      "1/2 [==============>...............] - ETA: 0s - loss: 0.0671 - root_mean_squared_error: 0.2591"
     ]
    },
    {
     "name": "stderr",
     "output_type": "stream",
     "text": [
      "WARNING:absl:Found untraced functions such as lstm_cell_3_layer_call_fn, lstm_cell_3_layer_call_and_return_conditional_losses while saving (showing 2 of 2). These functions will not be directly callable after loading.\n"
     ]
    },
    {
     "name": "stdout",
     "output_type": "stream",
     "text": [
      "INFO:tensorflow:Assets written to: modelRussia\\assets\n"
     ]
    },
    {
     "name": "stderr",
     "output_type": "stream",
     "text": [
      "INFO:tensorflow:Assets written to: modelRussia\\assets\n"
     ]
    },
    {
     "name": "stdout",
     "output_type": "stream",
     "text": [
      "2/2 [==============================] - 4s 4s/step - loss: 0.0654 - root_mean_squared_error: 0.2556 - val_loss: 0.2214 - val_root_mean_squared_error: 0.4705\n",
      "Epoch 3/20\n",
      "1/2 [==============>...............] - ETA: 0s - loss: 0.0530 - root_mean_squared_error: 0.2303"
     ]
    },
    {
     "name": "stderr",
     "output_type": "stream",
     "text": [
      "WARNING:absl:Found untraced functions such as lstm_cell_3_layer_call_fn, lstm_cell_3_layer_call_and_return_conditional_losses while saving (showing 2 of 2). These functions will not be directly callable after loading.\n"
     ]
    },
    {
     "name": "stdout",
     "output_type": "stream",
     "text": [
      "INFO:tensorflow:Assets written to: modelRussia\\assets\n"
     ]
    },
    {
     "name": "stderr",
     "output_type": "stream",
     "text": [
      "INFO:tensorflow:Assets written to: modelRussia\\assets\n"
     ]
    },
    {
     "name": "stdout",
     "output_type": "stream",
     "text": [
      "2/2 [==============================] - 3s 3s/step - loss: 0.0525 - root_mean_squared_error: 0.2290 - val_loss: 0.1810 - val_root_mean_squared_error: 0.4254\n",
      "Epoch 4/20\n",
      "1/2 [==============>...............] - ETA: 0s - loss: 0.0396 - root_mean_squared_error: 0.1990"
     ]
    },
    {
     "name": "stderr",
     "output_type": "stream",
     "text": [
      "WARNING:absl:Found untraced functions such as lstm_cell_3_layer_call_fn, lstm_cell_3_layer_call_and_return_conditional_losses while saving (showing 2 of 2). These functions will not be directly callable after loading.\n"
     ]
    },
    {
     "name": "stdout",
     "output_type": "stream",
     "text": [
      "INFO:tensorflow:Assets written to: modelRussia\\assets\n"
     ]
    },
    {
     "name": "stderr",
     "output_type": "stream",
     "text": [
      "INFO:tensorflow:Assets written to: modelRussia\\assets\n"
     ]
    },
    {
     "name": "stdout",
     "output_type": "stream",
     "text": [
      "2/2 [==============================] - 4s 4s/step - loss: 0.0408 - root_mean_squared_error: 0.2019 - val_loss: 0.1420 - val_root_mean_squared_error: 0.3768\n",
      "Epoch 5/20\n",
      "1/2 [==============>...............] - ETA: 0s - loss: 0.0304 - root_mean_squared_error: 0.1744"
     ]
    },
    {
     "name": "stderr",
     "output_type": "stream",
     "text": [
      "WARNING:absl:Found untraced functions such as lstm_cell_3_layer_call_fn, lstm_cell_3_layer_call_and_return_conditional_losses while saving (showing 2 of 2). These functions will not be directly callable after loading.\n"
     ]
    },
    {
     "name": "stdout",
     "output_type": "stream",
     "text": [
      "INFO:tensorflow:Assets written to: modelRussia\\assets\n"
     ]
    },
    {
     "name": "stderr",
     "output_type": "stream",
     "text": [
      "INFO:tensorflow:Assets written to: modelRussia\\assets\n"
     ]
    },
    {
     "name": "stdout",
     "output_type": "stream",
     "text": [
      "2/2 [==============================] - 4s 4s/step - loss: 0.0302 - root_mean_squared_error: 0.1738 - val_loss: 0.1062 - val_root_mean_squared_error: 0.3259\n",
      "Epoch 6/20\n",
      "1/2 [==============>...............] - ETA: 0s - loss: 0.0197 - root_mean_squared_error: 0.1403"
     ]
    },
    {
     "name": "stderr",
     "output_type": "stream",
     "text": [
      "WARNING:absl:Found untraced functions such as lstm_cell_3_layer_call_fn, lstm_cell_3_layer_call_and_return_conditional_losses while saving (showing 2 of 2). These functions will not be directly callable after loading.\n"
     ]
    },
    {
     "name": "stdout",
     "output_type": "stream",
     "text": [
      "INFO:tensorflow:Assets written to: modelRussia\\assets\n"
     ]
    },
    {
     "name": "stderr",
     "output_type": "stream",
     "text": [
      "INFO:tensorflow:Assets written to: modelRussia\\assets\n"
     ]
    },
    {
     "name": "stdout",
     "output_type": "stream",
     "text": [
      "2/2 [==============================] - 3s 3s/step - loss: 0.0205 - root_mean_squared_error: 0.1433 - val_loss: 0.0743 - val_root_mean_squared_error: 0.2727\n",
      "Epoch 7/20\n",
      "1/2 [==============>...............] - ETA: 0s - loss: 0.0133 - root_mean_squared_error: 0.1152"
     ]
    },
    {
     "name": "stderr",
     "output_type": "stream",
     "text": [
      "WARNING:absl:Found untraced functions such as lstm_cell_3_layer_call_fn, lstm_cell_3_layer_call_and_return_conditional_losses while saving (showing 2 of 2). These functions will not be directly callable after loading.\n"
     ]
    },
    {
     "name": "stdout",
     "output_type": "stream",
     "text": [
      "INFO:tensorflow:Assets written to: modelRussia\\assets\n"
     ]
    },
    {
     "name": "stderr",
     "output_type": "stream",
     "text": [
      "INFO:tensorflow:Assets written to: modelRussia\\assets\n"
     ]
    },
    {
     "name": "stdout",
     "output_type": "stream",
     "text": [
      "2/2 [==============================] - 4s 4s/step - loss: 0.0129 - root_mean_squared_error: 0.1136 - val_loss: 0.0492 - val_root_mean_squared_error: 0.2218\n",
      "Epoch 8/20\n",
      "1/2 [==============>...............] - ETA: 0s - loss: 0.0072 - root_mean_squared_error: 0.0850"
     ]
    },
    {
     "name": "stderr",
     "output_type": "stream",
     "text": [
      "WARNING:absl:Found untraced functions such as lstm_cell_3_layer_call_fn, lstm_cell_3_layer_call_and_return_conditional_losses while saving (showing 2 of 2). These functions will not be directly callable after loading.\n"
     ]
    },
    {
     "name": "stdout",
     "output_type": "stream",
     "text": [
      "INFO:tensorflow:Assets written to: modelRussia\\assets\n"
     ]
    },
    {
     "name": "stderr",
     "output_type": "stream",
     "text": [
      "INFO:tensorflow:Assets written to: modelRussia\\assets\n"
     ]
    },
    {
     "name": "stdout",
     "output_type": "stream",
     "text": [
      "2/2 [==============================] - 3s 3s/step - loss: 0.0071 - root_mean_squared_error: 0.0841 - val_loss: 0.0327 - val_root_mean_squared_error: 0.1809\n",
      "Epoch 9/20\n",
      "1/2 [==============>...............] - ETA: 0s - loss: 0.0036 - root_mean_squared_error: 0.0597"
     ]
    },
    {
     "name": "stderr",
     "output_type": "stream",
     "text": [
      "WARNING:absl:Found untraced functions such as lstm_cell_3_layer_call_fn, lstm_cell_3_layer_call_and_return_conditional_losses while saving (showing 2 of 2). These functions will not be directly callable after loading.\n"
     ]
    },
    {
     "name": "stdout",
     "output_type": "stream",
     "text": [
      "INFO:tensorflow:Assets written to: modelRussia\\assets\n"
     ]
    },
    {
     "name": "stderr",
     "output_type": "stream",
     "text": [
      "INFO:tensorflow:Assets written to: modelRussia\\assets\n"
     ]
    },
    {
     "name": "stdout",
     "output_type": "stream",
     "text": [
      "2/2 [==============================] - 3s 3s/step - loss: 0.0036 - root_mean_squared_error: 0.0596 - val_loss: 0.0237 - val_root_mean_squared_error: 0.1538\n",
      "Epoch 10/20\n",
      "1/2 [==============>...............] - ETA: 0s - loss: 0.0021 - root_mean_squared_error: 0.0454"
     ]
    },
    {
     "name": "stderr",
     "output_type": "stream",
     "text": [
      "WARNING:absl:Found untraced functions such as lstm_cell_3_layer_call_fn, lstm_cell_3_layer_call_and_return_conditional_losses while saving (showing 2 of 2). These functions will not be directly callable after loading.\n"
     ]
    },
    {
     "name": "stdout",
     "output_type": "stream",
     "text": [
      "INFO:tensorflow:Assets written to: modelRussia\\assets\n"
     ]
    },
    {
     "name": "stderr",
     "output_type": "stream",
     "text": [
      "INFO:tensorflow:Assets written to: modelRussia\\assets\n"
     ]
    },
    {
     "name": "stdout",
     "output_type": "stream",
     "text": [
      "2/2 [==============================] - 3s 3s/step - loss: 0.0020 - root_mean_squared_error: 0.0449 - val_loss: 0.0207 - val_root_mean_squared_error: 0.1440\n",
      "Epoch 11/20\n",
      "2/2 [==============================] - 0s 24ms/step - loss: 0.0022 - root_mean_squared_error: 0.0470 - val_loss: 0.0230 - val_root_mean_squared_error: 0.1518\n",
      "Epoch 12/20\n",
      "2/2 [==============================] - 0s 23ms/step - loss: 0.0035 - root_mean_squared_error: 0.0588 - val_loss: 0.0282 - val_root_mean_squared_error: 0.1678\n",
      "Epoch 13/20\n",
      "2/2 [==============================] - 0s 22ms/step - loss: 0.0046 - root_mean_squared_error: 0.0678 - val_loss: 0.0316 - val_root_mean_squared_error: 0.1777\n",
      "Epoch 14/20\n",
      "2/2 [==============================] - 0s 23ms/step - loss: 0.0048 - root_mean_squared_error: 0.0690 - val_loss: 0.0324 - val_root_mean_squared_error: 0.1799\n",
      "Epoch 15/20\n",
      "2/2 [==============================] - 0s 24ms/step - loss: 0.0041 - root_mean_squared_error: 0.0639 - val_loss: 0.0328 - val_root_mean_squared_error: 0.1810\n",
      "Epoch 16/20\n",
      "2/2 [==============================] - 0s 24ms/step - loss: 0.0031 - root_mean_squared_error: 0.0558 - val_loss: 0.0331 - val_root_mean_squared_error: 0.1820\n",
      "Epoch 17/20\n",
      "2/2 [==============================] - 0s 26ms/step - loss: 0.0022 - root_mean_squared_error: 0.0470 - val_loss: 0.0339 - val_root_mean_squared_error: 0.1840\n",
      "Epoch 18/20\n",
      "2/2 [==============================] - 0s 25ms/step - loss: 0.0016 - root_mean_squared_error: 0.0399 - val_loss: 0.0350 - val_root_mean_squared_error: 0.1872\n",
      "Epoch 19/20\n",
      "2/2 [==============================] - 0s 32ms/step - loss: 0.0013 - root_mean_squared_error: 0.0363 - val_loss: 0.0362 - val_root_mean_squared_error: 0.1902\n",
      "Epoch 20/20\n",
      "2/2 [==============================] - 0s 27ms/step - loss: 0.0013 - root_mean_squared_error: 0.0360 - val_loss: 0.0370 - val_root_mean_squared_error: 0.1923\n"
     ]
    },
    {
     "data": {
      "text/plain": [
       "<keras.callbacks.History at 0x202b2887190>"
      ]
     },
     "execution_count": 36,
     "metadata": {},
     "output_type": "execute_result"
    }
   ],
   "source": [
    "modelRussia.fit(RussiaX_train, Russiay_train, validation_data=(RussiaX_validation, Russiay_validation), epochs=20, callbacks=[cpRussia])"
   ]
  },
  {
   "cell_type": "code",
   "execution_count": 37,
   "id": "48aff891",
   "metadata": {},
   "outputs": [],
   "source": [
    "def Russia_plot_predictions(model, X, y, start=0, end=100):\n",
    "    predictions = model.predict(X).flatten()[::3]\n",
    "    predictions = predictions.reshape(-1,1)\n",
    "    predictions = np.repeat(predictions, US_df.shape[1], axis=-1)\n",
    "    predictions = RussiaScaler.inverse_transform(predictions).flatten()[::3]\n",
    "    y = y.flatten()[::3]\n",
    "    y = y.reshape(-1,1)\n",
    "    y = np.repeat(y, Russia_df.shape[1], axis=-1)\n",
    "    y = RussiaScaler.inverse_transform(y)[:,0]\n",
    "    df = pd.DataFrame(data={'Predictions':predictions, 'Actuals':y})\n",
    "    plt.plot(df['Predictions'][start:end])\n",
    "    plt.plot(df['Actuals'][start:end])\n",
    "    print(f\"The RMSE is {mse(y, predictions, squared=False):.2f} & the MAPE is {mape(y, predictions)*100:.2f}%\")\n",
    "    return  \n",
    "     \n"
   ]
  },
  {
   "cell_type": "code",
   "execution_count": 38,
   "id": "b2936346",
   "metadata": {
    "scrolled": false
   },
   "outputs": [
    {
     "name": "stdout",
     "output_type": "stream",
     "text": [
      "2/2 [==============================] - 0s 2ms/step\n",
      "The RMSE is 70.62 & the MAPE is 4.37%\n"
     ]
    },
    {
     "data": {
      "image/png": "[encoded data removed]",
      "text/plain": [
       "<Figure size 432x288 with 1 Axes>"
      ]
     },
     "metadata": {
      "needs_background": "light"
     },
     "output_type": "display_data"
    }
   ],
   "source": [
    "Russia_plot_predictions(modelRussia, RussiaX_train, Russiay_train)"
   ]
  },
  {
   "cell_type": "code",
   "execution_count": 39,
   "id": "ec21de19",
   "metadata": {},
   "outputs": [
    {
     "name": "stdout",
     "output_type": "stream",
     "text": [
      "1/1 [==============================] - 0s 16ms/step\n",
      "The RMSE is 930.19 & the MAPE is 39.00%\n"
     ]
    },
    {
     "data": {
      "image/png": "[encoded data removed]",
      "text/plain": [
       "<Figure size 432x288 with 1 Axes>"
      ]
     },
     "metadata": {
      "needs_background": "light"
     },
     "output_type": "display_data"
    }
   ],
   "source": [
    "Russia_plot_predictions(modelRussia, RussiaX_test, Russiay_test)"
   ]
  },
  {
   "cell_type": "code",
   "execution_count": 50,
   "id": "a3027bdb",
   "metadata": {},
   "outputs": [
    {
     "name": "stdout",
     "output_type": "stream",
     "text": [
      "1/1 [==============================] - 0s 20ms/step\n",
      "1/1 [==============================] - 0s 19ms/step\n",
      "1/1 [==============================] - 0s 16ms/step\n",
      "1/1 [==============================] - 0s 15ms/step\n",
      "1/1 [==============================] - 0s 15ms/step\n",
      "1/1 [==============================] - 0s 13ms/step\n",
      "1/1 [==============================] - 0s 15ms/step\n",
      "1/1 [==============================] - 0s 18ms/step\n",
      "1/1 [==============================] - 0s 13ms/step\n",
      "1/1 [==============================] - 0s 15ms/step\n",
      "1/1 [==============================] - 0s 14ms/step\n",
      "1/1 [==============================] - 0s 13ms/step\n",
      "1/1 [==============================] - 0s 14ms/step\n",
      "1/1 [==============================] - 0s 13ms/step\n",
      "1/1 [==============================] - 0s 13ms/step\n",
      "1/1 [==============================] - 0s 14ms/step\n",
      "1/1 [==============================] - 0s 14ms/step\n",
      "1/1 [==============================] - 0s 13ms/step\n",
      "1/1 [==============================] - 0s 13ms/step\n",
      "1/1 [==============================] - 0s 13ms/step\n"
     ]
    }
   ],
   "source": [
    "n_lookback = 5  # length of input sequences (lookback period), essentially how many time steps back we look\n",
    "num_prediction = 20 # Number of years predicted into future\n",
    "\n",
    "Russia_prediction_list = Russia_df[- n_lookback:].values# last available input sequence\n",
    "\n",
    "z = 0\n",
    "\n",
    "for r in range(num_prediction):\n",
    "    z += 1\n",
    "    x = Russia_prediction_list[:,- n_lookback:]\n",
    "    x = x.reshape(-1,n_lookback,3)\n",
    "    out = modelRussia.predict(x)\n",
    "    Russia_prediction_list = np.append(Russia_prediction_list, out)\n",
    "    Russia_prediction_list = Russia_prediction_list.reshape((1, n_lookback+z,3))\n",
    "\n"
   ]
  },
  {
   "cell_type": "code",
   "execution_count": 51,
   "id": "74ae4a27",
   "metadata": {
    "scrolled": true
   },
   "outputs": [],
   "source": [
    "forecasted_values_Russia = Russia_prediction_list[:,n_lookback:]\n",
    "\n",
    "forecasted_values_Russia = forecasted_values_Russia.flatten()\n",
    "forecasted_values_Russia = forecasted_values_Russia.reshape(num_prediction,3)\n",
    "\n",
    "forecasted_values_Russia = RussiaScaler.inverse_transform(forecasted_values_Russia)[:,0]"
   ]
  },
  {
   "cell_type": "code",
   "execution_count": 99,
   "id": "4e58aa4a",
   "metadata": {
    "scrolled": true
   },
   "outputs": [
    {
     "data": {
      "text/plain": [
       "<matplotlib.legend.Legend at 0x202af5f30d0>"
      ]
     },
     "execution_count": 99,
     "metadata": {},
     "output_type": "execute_result"
    },
    {
     "data": {
      "image/png": "[encoded data removed]",
      "text/plain": [
       "<Figure size 432x288 with 1 Axes>"
      ]
     },
     "metadata": {
      "needs_background": "light"
     },
     "output_type": "display_data"
    }
   ],
   "source": [
    "predict_period_dates = pd.date_range(start= '2021-12-31', periods=num_prediction, freq='1y').tolist()\n",
    "# print(predict_period_dates)\n",
    "\n",
    "\n",
    "forecast_dates = []\n",
    "for time_i in predict_period_dates:\n",
    "     forecast_dates.append(time_i.date())\n",
    "    \n",
    "df_forecast_Russia = pd.DataFrame({'Date':np.array(forecast_dates), 'CO2':forecasted_values_Russia})\n",
    "df_forecast_Russia['Date']=pd.to_datetime(df_forecast_Russia['Date'])\n",
    "df_forecast_Russia = df_forecast_Russia.set_index('Date')\n",
    "\n",
    "combined_df = [Russia_df1['co2 Russia'],df_forecast_Russia['CO2']]\n",
    "\n",
    "result = pd.concat(combined_df)\n",
    "\n",
    "\n",
    "plt.plot(result, label=\"Past Values\")\n",
    "plt.plot(df_forecast_Russia['CO2'], label='Forecast')\n",
    "plt.legend()"
   ]
  },
  {
   "cell_type": "markdown",
   "id": "2c648588",
   "metadata": {},
   "source": [
    "# Japan LSTM Model"
   ]
  },
  {
   "cell_type": "code",
   "execution_count": 70,
   "id": "c8d9dcd9",
   "metadata": {},
   "outputs": [
    {
     "data": {
      "text/plain": [
       "array([<AxesSubplot:xlabel='year'>, <AxesSubplot:xlabel='year'>,\n",
       "       <AxesSubplot:xlabel='year'>], dtype=object)"
      ]
     },
     "execution_count": 70,
     "metadata": {},
     "output_type": "execute_result"
    },
    {
     "data": {
      "image/png": "[encoded data removed]",
      "text/plain": [
       "<Figure size 432x288 with 3 Axes>"
      ]
     },
     "metadata": {
      "needs_background": "light"
     },
     "output_type": "display_data"
    }
   ],
   "source": [
    "Japan_df1.plot(subplots=True)"
   ]
  },
  {
   "cell_type": "code",
   "execution_count": 17,
   "id": "bb7dcfb7",
   "metadata": {},
   "outputs": [],
   "source": [
    "JapanX, Japany = sequence_to_X_y(Japan_df)\n",
    "\n",
    "#Since all dfs same shape and size, no need to redefine train val and test variables\n",
    "\n",
    "train_dates, JapanX_train, Japany_train = Japan_df.index[:train_size],JapanX[:train_size], Japany[:train_size]\n",
    "val_dates, JapanX_validation, Japany_validation = Japan_df.index[train_size:validation_size],JapanX[train_size:validation_size], Japany[train_size:validation_size]\n",
    "test_dates, JapanX_test, Japany_test = Japan_df.index[validation_size:],JapanX[validation_size:], Japany[validation_size:]\n",
    "\n"
   ]
  },
  {
   "cell_type": "code",
   "execution_count": 21,
   "id": "1d4e97fc",
   "metadata": {},
   "outputs": [
    {
     "name": "stdout",
     "output_type": "stream",
     "text": [
      "Model: \"sequential_1\"\n",
      "_________________________________________________________________\n",
      " Layer (type)                Output Shape              Param #   \n",
      "=================================================================\n",
      " lstm_1 (LSTM)               (None, 64)                17408     \n",
      "                                                                 \n",
      " dense_1 (Dense)             (None, 3)                 195       \n",
      "                                                                 \n",
      "=================================================================\n",
      "Total params: 17,603\n",
      "Trainable params: 17,603\n",
      "Non-trainable params: 0\n",
      "_________________________________________________________________\n"
     ]
    }
   ],
   "source": [
    "modelJapan = Sequential()\n",
    "modelJapan.add(InputLayer((5, 3)))\n",
    "modelJapan.add(LSTM(64))\n",
    "modelJapan.add(Dense(3, 'linear'))\n",
    "\n",
    "modelJapan.summary()"
   ]
  },
  {
   "cell_type": "code",
   "execution_count": 22,
   "id": "c56ec035",
   "metadata": {},
   "outputs": [],
   "source": [
    "cpJapan = ModelCheckpoint('modelJapan/',save_best_only=True)\n",
    "modelJapan.compile(loss=MeanSquaredError(), optimizer=Adam(learning_rate=0.001), metrics=[RootMeanSquaredError()])"
   ]
  },
  {
   "cell_type": "code",
   "execution_count": 23,
   "id": "9ba45af4",
   "metadata": {
    "scrolled": true
   },
   "outputs": [
    {
     "name": "stdout",
     "output_type": "stream",
     "text": [
      "Epoch 1/20\n",
      "1/2 [==============>...............] - ETA: 1s - loss: 0.3555 - root_mean_squared_error: 0.5963"
     ]
    },
    {
     "name": "stderr",
     "output_type": "stream",
     "text": [
      "WARNING:absl:Found untraced functions such as lstm_cell_1_layer_call_fn, lstm_cell_1_layer_call_and_return_conditional_losses while saving (showing 2 of 2). These functions will not be directly callable after loading.\n"
     ]
    },
    {
     "name": "stdout",
     "output_type": "stream",
     "text": [
      "INFO:tensorflow:Assets written to: modelJapan\\assets\n"
     ]
    },
    {
     "name": "stderr",
     "output_type": "stream",
     "text": [
      "INFO:tensorflow:Assets written to: modelJapan\\assets\n"
     ]
    },
    {
     "name": "stdout",
     "output_type": "stream",
     "text": [
      "2/2 [==============================] - 6s 4s/step - loss: 0.3631 - root_mean_squared_error: 0.6026 - val_loss: 0.6768 - val_root_mean_squared_error: 0.8227\n",
      "Epoch 2/20\n",
      "1/2 [==============>...............] - ETA: 0s - loss: 0.3048 - root_mean_squared_error: 0.5521"
     ]
    },
    {
     "name": "stderr",
     "output_type": "stream",
     "text": [
      "WARNING:absl:Found untraced functions such as lstm_cell_1_layer_call_fn, lstm_cell_1_layer_call_and_return_conditional_losses while saving (showing 2 of 2). These functions will not be directly callable after loading.\n"
     ]
    },
    {
     "name": "stdout",
     "output_type": "stream",
     "text": [
      "INFO:tensorflow:Assets written to: modelJapan\\assets\n"
     ]
    },
    {
     "name": "stderr",
     "output_type": "stream",
     "text": [
      "INFO:tensorflow:Assets written to: modelJapan\\assets\n"
     ]
    },
    {
     "name": "stdout",
     "output_type": "stream",
     "text": [
      "2/2 [==============================] - 3s 3s/step - loss: 0.3113 - root_mean_squared_error: 0.5579 - val_loss: 0.5716 - val_root_mean_squared_error: 0.7560\n",
      "Epoch 3/20\n",
      "1/2 [==============>...............] - ETA: 0s - loss: 0.2737 - root_mean_squared_error: 0.5232"
     ]
    },
    {
     "name": "stderr",
     "output_type": "stream",
     "text": [
      "WARNING:absl:Found untraced functions such as lstm_cell_1_layer_call_fn, lstm_cell_1_layer_call_and_return_conditional_losses while saving (showing 2 of 2). These functions will not be directly callable after loading.\n"
     ]
    },
    {
     "name": "stdout",
     "output_type": "stream",
     "text": [
      "INFO:tensorflow:Assets written to: modelJapan\\assets\n"
     ]
    },
    {
     "name": "stderr",
     "output_type": "stream",
     "text": [
      "INFO:tensorflow:Assets written to: modelJapan\\assets\n"
     ]
    },
    {
     "name": "stdout",
     "output_type": "stream",
     "text": [
      "2/2 [==============================] - 4s 4s/step - loss: 0.2658 - root_mean_squared_error: 0.5155 - val_loss: 0.4808 - val_root_mean_squared_error: 0.6934\n",
      "Epoch 4/20\n",
      "1/2 [==============>...............] - ETA: 0s - loss: 0.2248 - root_mean_squared_error: 0.4742"
     ]
    },
    {
     "name": "stderr",
     "output_type": "stream",
     "text": [
      "WARNING:absl:Found untraced functions such as lstm_cell_1_layer_call_fn, lstm_cell_1_layer_call_and_return_conditional_losses while saving (showing 2 of 2). These functions will not be directly callable after loading.\n"
     ]
    },
    {
     "name": "stdout",
     "output_type": "stream",
     "text": [
      "INFO:tensorflow:Assets written to: modelJapan\\assets\n"
     ]
    },
    {
     "name": "stderr",
     "output_type": "stream",
     "text": [
      "INFO:tensorflow:Assets written to: modelJapan\\assets\n"
     ]
    },
    {
     "name": "stdout",
     "output_type": "stream",
     "text": [
      "2/2 [==============================] - 3s 3s/step - loss: 0.2248 - root_mean_squared_error: 0.4741 - val_loss: 0.4000 - val_root_mean_squared_error: 0.6324\n",
      "Epoch 5/20\n",
      "1/2 [==============>...............] - ETA: 0s - loss: 0.1906 - root_mean_squared_error: 0.4365"
     ]
    },
    {
     "name": "stderr",
     "output_type": "stream",
     "text": [
      "WARNING:absl:Found untraced functions such as lstm_cell_1_layer_call_fn, lstm_cell_1_layer_call_and_return_conditional_losses while saving (showing 2 of 2). These functions will not be directly callable after loading.\n"
     ]
    },
    {
     "name": "stdout",
     "output_type": "stream",
     "text": [
      "INFO:tensorflow:Assets written to: modelJapan\\assets\n"
     ]
    },
    {
     "name": "stderr",
     "output_type": "stream",
     "text": [
      "INFO:tensorflow:Assets written to: modelJapan\\assets\n"
     ]
    },
    {
     "name": "stdout",
     "output_type": "stream",
     "text": [
      "2/2 [==============================] - 4s 4s/step - loss: 0.1888 - root_mean_squared_error: 0.4346 - val_loss: 0.3234 - val_root_mean_squared_error: 0.5687\n",
      "Epoch 6/20\n",
      "1/2 [==============>...............] - ETA: 0s - loss: 0.1560 - root_mean_squared_error: 0.3950"
     ]
    },
    {
     "name": "stderr",
     "output_type": "stream",
     "text": [
      "WARNING:absl:Found untraced functions such as lstm_cell_1_layer_call_fn, lstm_cell_1_layer_call_and_return_conditional_losses while saving (showing 2 of 2). These functions will not be directly callable after loading.\n"
     ]
    },
    {
     "name": "stdout",
     "output_type": "stream",
     "text": [
      "INFO:tensorflow:Assets written to: modelJapan\\assets\n"
     ]
    },
    {
     "name": "stderr",
     "output_type": "stream",
     "text": [
      "INFO:tensorflow:Assets written to: modelJapan\\assets\n"
     ]
    },
    {
     "name": "stdout",
     "output_type": "stream",
     "text": [
      "2/2 [==============================] - 4s 4s/step - loss: 0.1545 - root_mean_squared_error: 0.3931 - val_loss: 0.2521 - val_root_mean_squared_error: 0.5021\n",
      "Epoch 7/20\n",
      "1/2 [==============>...............] - ETA: 0s - loss: 0.1232 - root_mean_squared_error: 0.3510"
     ]
    },
    {
     "name": "stderr",
     "output_type": "stream",
     "text": [
      "WARNING:absl:Found untraced functions such as lstm_cell_1_layer_call_fn, lstm_cell_1_layer_call_and_return_conditional_losses while saving (showing 2 of 2). These functions will not be directly callable after loading.\n"
     ]
    },
    {
     "name": "stdout",
     "output_type": "stream",
     "text": [
      "INFO:tensorflow:Assets written to: modelJapan\\assets\n"
     ]
    },
    {
     "name": "stderr",
     "output_type": "stream",
     "text": [
      "INFO:tensorflow:Assets written to: modelJapan\\assets\n"
     ]
    },
    {
     "name": "stdout",
     "output_type": "stream",
     "text": [
      "2/2 [==============================] - 4s 4s/step - loss: 0.1224 - root_mean_squared_error: 0.3499 - val_loss: 0.1858 - val_root_mean_squared_error: 0.4311\n",
      "Epoch 8/20\n",
      "1/2 [==============>...............] - ETA: 0s - loss: 0.0937 - root_mean_squared_error: 0.3061"
     ]
    },
    {
     "name": "stderr",
     "output_type": "stream",
     "text": [
      "WARNING:absl:Found untraced functions such as lstm_cell_1_layer_call_fn, lstm_cell_1_layer_call_and_return_conditional_losses while saving (showing 2 of 2). These functions will not be directly callable after loading.\n"
     ]
    },
    {
     "name": "stdout",
     "output_type": "stream",
     "text": [
      "INFO:tensorflow:Assets written to: modelJapan\\assets\n"
     ]
    },
    {
     "name": "stderr",
     "output_type": "stream",
     "text": [
      "INFO:tensorflow:Assets written to: modelJapan\\assets\n"
     ]
    },
    {
     "name": "stdout",
     "output_type": "stream",
     "text": [
      "2/2 [==============================] - 4s 4s/step - loss: 0.0926 - root_mean_squared_error: 0.3044 - val_loss: 0.1262 - val_root_mean_squared_error: 0.3552\n",
      "Epoch 9/20\n",
      "1/2 [==============>...............] - ETA: 0s - loss: 0.0661 - root_mean_squared_error: 0.2571"
     ]
    },
    {
     "name": "stderr",
     "output_type": "stream",
     "text": [
      "WARNING:absl:Found untraced functions such as lstm_cell_1_layer_call_fn, lstm_cell_1_layer_call_and_return_conditional_losses while saving (showing 2 of 2). These functions will not be directly callable after loading.\n"
     ]
    },
    {
     "name": "stdout",
     "output_type": "stream",
     "text": [
      "INFO:tensorflow:Assets written to: modelJapan\\assets\n"
     ]
    },
    {
     "name": "stderr",
     "output_type": "stream",
     "text": [
      "INFO:tensorflow:Assets written to: modelJapan\\assets\n"
     ]
    },
    {
     "name": "stdout",
     "output_type": "stream",
     "text": [
      "2/2 [==============================] - 3s 3s/step - loss: 0.0655 - root_mean_squared_error: 0.2560 - val_loss: 0.0753 - val_root_mean_squared_error: 0.2744\n",
      "Epoch 10/20\n",
      "1/2 [==============>...............] - ETA: 0s - loss: 0.0438 - root_mean_squared_error: 0.2092"
     ]
    },
    {
     "name": "stderr",
     "output_type": "stream",
     "text": [
      "WARNING:absl:Found untraced functions such as lstm_cell_1_layer_call_fn, lstm_cell_1_layer_call_and_return_conditional_losses while saving (showing 2 of 2). These functions will not be directly callable after loading.\n"
     ]
    },
    {
     "name": "stdout",
     "output_type": "stream",
     "text": [
      "INFO:tensorflow:Assets written to: modelJapan\\assets\n"
     ]
    },
    {
     "name": "stderr",
     "output_type": "stream",
     "text": [
      "INFO:tensorflow:Assets written to: modelJapan\\assets\n"
     ]
    },
    {
     "name": "stdout",
     "output_type": "stream",
     "text": [
      "2/2 [==============================] - 3s 3s/step - loss: 0.0425 - root_mean_squared_error: 0.2061 - val_loss: 0.0365 - val_root_mean_squared_error: 0.1909\n",
      "Epoch 11/20\n",
      "1/2 [==============>...............] - ETA: 0s - loss: 0.0244 - root_mean_squared_error: 0.1563"
     ]
    },
    {
     "name": "stderr",
     "output_type": "stream",
     "text": [
      "WARNING:absl:Found untraced functions such as lstm_cell_1_layer_call_fn, lstm_cell_1_layer_call_and_return_conditional_losses while saving (showing 2 of 2). These functions will not be directly callable after loading.\n"
     ]
    },
    {
     "name": "stdout",
     "output_type": "stream",
     "text": [
      "INFO:tensorflow:Assets written to: modelJapan\\assets\n"
     ]
    },
    {
     "name": "stderr",
     "output_type": "stream",
     "text": [
      "INFO:tensorflow:Assets written to: modelJapan\\assets\n"
     ]
    },
    {
     "name": "stdout",
     "output_type": "stream",
     "text": [
      "2/2 [==============================] - 4s 4s/step - loss: 0.0241 - root_mean_squared_error: 0.1552 - val_loss: 0.0117 - val_root_mean_squared_error: 0.1084\n",
      "Epoch 12/20\n",
      "1/2 [==============>...............] - ETA: 0s - loss: 0.0118 - root_mean_squared_error: 0.1088"
     ]
    },
    {
     "name": "stderr",
     "output_type": "stream",
     "text": [
      "WARNING:absl:Found untraced functions such as lstm_cell_1_layer_call_fn, lstm_cell_1_layer_call_and_return_conditional_losses while saving (showing 2 of 2). These functions will not be directly callable after loading.\n"
     ]
    },
    {
     "name": "stdout",
     "output_type": "stream",
     "text": [
      "INFO:tensorflow:Assets written to: modelJapan\\assets\n"
     ]
    },
    {
     "name": "stderr",
     "output_type": "stream",
     "text": [
      "INFO:tensorflow:Assets written to: modelJapan\\assets\n"
     ]
    },
    {
     "name": "stdout",
     "output_type": "stream",
     "text": [
      "2/2 [==============================] - 4s 4s/step - loss: 0.0116 - root_mean_squared_error: 0.1079 - val_loss: 0.0013 - val_root_mean_squared_error: 0.0355\n",
      "Epoch 13/20\n",
      "2/2 [==============================] - 0s 27ms/step - loss: 0.0052 - root_mean_squared_error: 0.0724 - val_loss: 0.0057 - val_root_mean_squared_error: 0.0755\n",
      "Epoch 14/20\n",
      "2/2 [==============================] - 0s 25ms/step - loss: 0.0051 - root_mean_squared_error: 0.0715 - val_loss: 0.0216 - val_root_mean_squared_error: 0.1471\n",
      "Epoch 15/20\n",
      "2/2 [==============================] - 0s 32ms/step - loss: 0.0097 - root_mean_squared_error: 0.0984 - val_loss: 0.0395 - val_root_mean_squared_error: 0.1987\n",
      "Epoch 16/20\n",
      "2/2 [==============================] - 0s 27ms/step - loss: 0.0153 - root_mean_squared_error: 0.1237 - val_loss: 0.0462 - val_root_mean_squared_error: 0.2149\n",
      "Epoch 17/20\n",
      "2/2 [==============================] - 0s 26ms/step - loss: 0.0167 - root_mean_squared_error: 0.1294 - val_loss: 0.0395 - val_root_mean_squared_error: 0.1986\n",
      "Epoch 18/20\n",
      "2/2 [==============================] - 0s 26ms/step - loss: 0.0135 - root_mean_squared_error: 0.1163 - val_loss: 0.0285 - val_root_mean_squared_error: 0.1689\n",
      "Epoch 19/20\n",
      "2/2 [==============================] - 0s 25ms/step - loss: 0.0094 - root_mean_squared_error: 0.0967 - val_loss: 0.0205 - val_root_mean_squared_error: 0.1430\n",
      "Epoch 20/20\n",
      "2/2 [==============================] - 0s 26ms/step - loss: 0.0066 - root_mean_squared_error: 0.0810 - val_loss: 0.0158 - val_root_mean_squared_error: 0.1259\n"
     ]
    },
    {
     "data": {
      "text/plain": [
       "<keras.callbacks.History at 0x2029ff01c10>"
      ]
     },
     "execution_count": 23,
     "metadata": {},
     "output_type": "execute_result"
    }
   ],
   "source": [
    "modelJapan.fit(JapanX_train, Japany_train, validation_data=(JapanX_validation, Japany_validation), epochs=20, callbacks=[cpJapan])"
   ]
  },
  {
   "cell_type": "code",
   "execution_count": 53,
   "id": "03277e59",
   "metadata": {},
   "outputs": [],
   "source": [
    "def Japan_plot_predictions(model, X, y, start=0, end=100):\n",
    "    predictions = model.predict(X).flatten()[::3]\n",
    "    predictions = predictions.reshape(-1,1)\n",
    "    predictions = np.repeat(predictions, US_df.shape[1], axis=-1)\n",
    "    predictions = JapanScaler.inverse_transform(predictions).flatten()[::3]\n",
    "    y = y.flatten()[::3]\n",
    "    y = y.reshape(-1,1)\n",
    "    y = np.repeat(y, Japan_df.shape[1], axis=-1)\n",
    "    y = JapanScaler.inverse_transform(y)[:,0]\n",
    "    df = pd.DataFrame(data={'Predictions':predictions, 'Actuals':y})\n",
    "    plt.plot(df['Predictions'][start:end])\n",
    "    plt.plot(df['Actuals'][start:end])\n",
    "    print(f\"The RMSE is {mse(y, predictions, squared=False):.2f} & the MAPE is {mape(y, predictions)*100:.2f}%\")\n",
    "    return  \n",
    " \n"
   ]
  },
  {
   "cell_type": "code",
   "execution_count": 54,
   "id": "e8d9d431",
   "metadata": {
    "scrolled": true
   },
   "outputs": [
    {
     "name": "stdout",
     "output_type": "stream",
     "text": [
      "2/2 [==============================] - 0s 998us/step\n",
      "The RMSE is 89.83 & the MAPE is 8.49%\n"
     ]
    },
    {
     "data": {
      "image/png": "[encoded data removed]",
      "text/plain": [
       "<Figure size 432x288 with 1 Axes>"
      ]
     },
     "metadata": {
      "needs_background": "light"
     },
     "output_type": "display_data"
    }
   ],
   "source": [
    "Japan_plot_predictions(modelJapan, JapanX_train, Japany_train)"
   ]
  },
  {
   "cell_type": "code",
   "execution_count": 55,
   "id": "610993fe",
   "metadata": {},
   "outputs": [
    {
     "name": "stdout",
     "output_type": "stream",
     "text": [
      "1/1 [==============================] - 0s 15ms/step\n",
      "The RMSE is 132.02 & the MAPE is 9.53%\n"
     ]
    },
    {
     "data": {
      "image/png": "[encoded data removed]",
      "text/plain": [
       "<Figure size 432x288 with 1 Axes>"
      ]
     },
     "metadata": {
      "needs_background": "light"
     },
     "output_type": "display_data"
    }
   ],
   "source": [
    "Japan_plot_predictions(modelJapan, JapanX_test, Japany_test)"
   ]
  },
  {
   "cell_type": "code",
   "execution_count": 56,
   "id": "fe6c7f8f",
   "metadata": {},
   "outputs": [
    {
     "name": "stdout",
     "output_type": "stream",
     "text": [
      "1/1 [==============================] - 0s 13ms/step\n",
      "1/1 [==============================] - 0s 13ms/step\n",
      "1/1 [==============================] - 0s 13ms/step\n",
      "1/1 [==============================] - 0s 12ms/step\n",
      "1/1 [==============================] - 0s 17ms/step\n",
      "1/1 [==============================] - 0s 14ms/step\n",
      "1/1 [==============================] - 0s 16ms/step\n",
      "1/1 [==============================] - 0s 14ms/step\n",
      "1/1 [==============================] - 0s 13ms/step\n",
      "1/1 [==============================] - 0s 16ms/step\n",
      "1/1 [==============================] - 0s 16ms/step\n",
      "1/1 [==============================] - 0s 12ms/step\n",
      "1/1 [==============================] - 0s 15ms/step\n",
      "1/1 [==============================] - 0s 13ms/step\n",
      "1/1 [==============================] - 0s 14ms/step\n",
      "1/1 [==============================] - 0s 14ms/step\n",
      "1/1 [==============================] - 0s 13ms/step\n",
      "1/1 [==============================] - 0s 14ms/step\n",
      "1/1 [==============================] - 0s 12ms/step\n",
      "1/1 [==============================] - 0s 13ms/step\n"
     ]
    }
   ],
   "source": [
    "n_lookback = 5  # length of input sequences (lookback period), essentially how many time steps back we look\n",
    "num_prediction = 20 # Number of years predicted into future\n",
    "\n",
    "\n",
    "Japan_prediction_list = Japan_df[- n_lookback:].values# last available input sequence\n",
    "\n",
    "z = 0\n",
    "\n",
    "for r in range(num_prediction):\n",
    "    z += 1\n",
    "    x = Japan_prediction_list[:,- n_lookback:]\n",
    "    x = x.reshape(-1,n_lookback,3)\n",
    "    out = modelJapan.predict(x)\n",
    "    Japan_prediction_list = np.append(Japan_prediction_list, out)\n",
    "    Japan_prediction_list = Japan_prediction_list.reshape((1, n_lookback+z,3))\n",
    "\n"
   ]
  },
  {
   "cell_type": "code",
   "execution_count": 57,
   "id": "f3d71a0a",
   "metadata": {
    "scrolled": true
   },
   "outputs": [],
   "source": [
    "forecasted_values_Japan = Japan_prediction_list[:,n_lookback:]\n",
    "\n",
    "forecasted_values_Japan = forecasted_values_Japan.flatten()\n",
    "forecasted_values_Japan = forecasted_values_Japan.reshape(num_prediction,3)\n",
    "\n",
    "forecasted_values_Japan = JapanScaler.inverse_transform(forecasted_values_Japan)[:,0]"
   ]
  },
  {
   "cell_type": "code",
   "execution_count": 100,
   "id": "7c03199b",
   "metadata": {
    "scrolled": true
   },
   "outputs": [
    {
     "data": {
      "text/plain": [
       "<matplotlib.legend.Legend at 0x202bf9dd8b0>"
      ]
     },
     "execution_count": 100,
     "metadata": {},
     "output_type": "execute_result"
    },
    {
     "data": {
      "image/png": "[encoded data removed]",
      "text/plain": [
       "<Figure size 432x288 with 1 Axes>"
      ]
     },
     "metadata": {
      "needs_background": "light"
     },
     "output_type": "display_data"
    }
   ],
   "source": [
    "predict_period_dates = pd.date_range(start= '2021-12-31', periods=num_prediction, freq='1y').tolist()\n",
    "# print(predict_period_dates)\n",
    "\n",
    "\n",
    "forecast_dates = []\n",
    "for time_i in predict_period_dates:\n",
    "     forecast_dates.append(time_i.date())\n",
    "    \n",
    "df_forecast_Japan = pd.DataFrame({'Date':np.array(forecast_dates), 'CO2':forecasted_values_Japan})\n",
    "df_forecast_Japan['Date']=pd.to_datetime(df_forecast_Japan['Date'])\n",
    "df_forecast_Japan = df_forecast_Japan.set_index('Date')\n",
    "\n",
    "combined_df = [Japan_df1['co2 Japan'],df_forecast_Japan['CO2']]\n",
    "\n",
    "result = pd.concat(combined_df)\n",
    "\n",
    "\n",
    "plt.plot(result, label=\"Past Values\")\n",
    "plt.plot(df_forecast_Japan['CO2'], label='Forecast')\n",
    "plt.legend()"
   ]
  },
  {
   "cell_type": "markdown",
   "id": "b21d9f2c",
   "metadata": {},
   "source": [
    "# Germany LSTM Model"
   ]
  },
  {
   "cell_type": "code",
   "execution_count": 88,
   "id": "309d26be",
   "metadata": {},
   "outputs": [
    {
     "data": {
      "text/plain": [
       "array([<AxesSubplot:xlabel='year'>, <AxesSubplot:xlabel='year'>,\n",
       "       <AxesSubplot:xlabel='year'>], dtype=object)"
      ]
     },
     "execution_count": 88,
     "metadata": {},
     "output_type": "execute_result"
    },
    {
     "data": {
      "image/png": "[encoded data removed]",
      "text/plain": [
       "<Figure size 432x288 with 3 Axes>"
      ]
     },
     "metadata": {
      "needs_background": "light"
     },
     "output_type": "display_data"
    }
   ],
   "source": [
    "Germany_df1.plot(subplots=True)"
   ]
  },
  {
   "cell_type": "code",
   "execution_count": 62,
   "id": "4c77813a",
   "metadata": {},
   "outputs": [],
   "source": [
    "GermanyX, Germanyy = sequence_to_X_y(Germany_df)\n",
    "\n",
    "#Since all dfs same shape and size, no need to redefine train val and test variables\n",
    "\n",
    "train_dates, GermanyX_train, Germanyy_train = Germany_df.index[:train_size],GermanyX[:train_size], Germanyy[:train_size]\n",
    "val_dates, GermanyX_validation, Germanyy_validation = Germany_df.index[train_size:validation_size],GermanyX[train_size:validation_size], Germanyy[train_size:validation_size]\n",
    "test_dates, GermanyX_test, Germanyy_test = Germany_df.index[validation_size:],GermanyX[validation_size:], Germanyy[validation_size:]\n",
    "\n"
   ]
  },
  {
   "cell_type": "code",
   "execution_count": 63,
   "id": "798c6f00",
   "metadata": {},
   "outputs": [
    {
     "name": "stdout",
     "output_type": "stream",
     "text": [
      "Model: \"sequential_6\"\n",
      "_________________________________________________________________\n",
      " Layer (type)                Output Shape              Param #   \n",
      "=================================================================\n",
      " lstm_6 (LSTM)               (None, 64)                17408     \n",
      "                                                                 \n",
      " dense_6 (Dense)             (None, 3)                 195       \n",
      "                                                                 \n",
      "=================================================================\n",
      "Total params: 17,603\n",
      "Trainable params: 17,603\n",
      "Non-trainable params: 0\n",
      "_________________________________________________________________\n"
     ]
    }
   ],
   "source": [
    "modelGermany = Sequential()\n",
    "modelGermany.add(InputLayer((5, 3)))\n",
    "modelGermany.add(LSTM(64))\n",
    "modelGermany.add(Dense(3, 'linear'))\n",
    "\n",
    "modelGermany.summary()"
   ]
  },
  {
   "cell_type": "code",
   "execution_count": 64,
   "id": "9bf8d37b",
   "metadata": {},
   "outputs": [],
   "source": [
    "cpGermany = ModelCheckpoint('modelGermany/',save_best_only=True)\n",
    "modelGermany.compile(loss=MeanSquaredError(), optimizer=Adam(learning_rate=0.001), metrics=[RootMeanSquaredError()])"
   ]
  },
  {
   "cell_type": "code",
   "execution_count": 65,
   "id": "ceb8c529",
   "metadata": {
    "scrolled": true
   },
   "outputs": [
    {
     "name": "stdout",
     "output_type": "stream",
     "text": [
      "Epoch 1/20\n",
      "1/2 [==============>...............] - ETA: 1s - loss: 0.2944 - root_mean_squared_error: 0.5426"
     ]
    },
    {
     "name": "stderr",
     "output_type": "stream",
     "text": [
      "WARNING:absl:Found untraced functions such as lstm_cell_6_layer_call_fn, lstm_cell_6_layer_call_and_return_conditional_losses while saving (showing 2 of 2). These functions will not be directly callable after loading.\n"
     ]
    },
    {
     "name": "stdout",
     "output_type": "stream",
     "text": [
      "INFO:tensorflow:Assets written to: modelGermany\\assets\n"
     ]
    },
    {
     "name": "stderr",
     "output_type": "stream",
     "text": [
      "INFO:tensorflow:Assets written to: modelGermany\\assets\n"
     ]
    },
    {
     "name": "stdout",
     "output_type": "stream",
     "text": [
      "2/2 [==============================] - 5s 3s/step - loss: 0.2943 - root_mean_squared_error: 0.5425 - val_loss: 0.3010 - val_root_mean_squared_error: 0.5487\n",
      "Epoch 2/20\n",
      "1/2 [==============>...............] - ETA: 0s - loss: 0.2456 - root_mean_squared_error: 0.4956"
     ]
    },
    {
     "name": "stderr",
     "output_type": "stream",
     "text": [
      "WARNING:absl:Found untraced functions such as lstm_cell_6_layer_call_fn, lstm_cell_6_layer_call_and_return_conditional_losses while saving (showing 2 of 2). These functions will not be directly callable after loading.\n"
     ]
    },
    {
     "name": "stdout",
     "output_type": "stream",
     "text": [
      "INFO:tensorflow:Assets written to: modelGermany\\assets\n"
     ]
    },
    {
     "name": "stderr",
     "output_type": "stream",
     "text": [
      "INFO:tensorflow:Assets written to: modelGermany\\assets\n"
     ]
    },
    {
     "name": "stdout",
     "output_type": "stream",
     "text": [
      "2/2 [==============================] - 3s 3s/step - loss: 0.2448 - root_mean_squared_error: 0.4947 - val_loss: 0.2547 - val_root_mean_squared_error: 0.5047\n",
      "Epoch 3/20\n",
      "1/2 [==============>...............] - ETA: 0s - loss: 0.2005 - root_mean_squared_error: 0.4478"
     ]
    },
    {
     "name": "stderr",
     "output_type": "stream",
     "text": [
      "WARNING:absl:Found untraced functions such as lstm_cell_6_layer_call_fn, lstm_cell_6_layer_call_and_return_conditional_losses while saving (showing 2 of 2). These functions will not be directly callable after loading.\n"
     ]
    },
    {
     "name": "stdout",
     "output_type": "stream",
     "text": [
      "INFO:tensorflow:Assets written to: modelGermany\\assets\n"
     ]
    },
    {
     "name": "stderr",
     "output_type": "stream",
     "text": [
      "INFO:tensorflow:Assets written to: modelGermany\\assets\n"
     ]
    },
    {
     "name": "stdout",
     "output_type": "stream",
     "text": [
      "2/2 [==============================] - 3s 3s/step - loss: 0.2003 - root_mean_squared_error: 0.4476 - val_loss: 0.2135 - val_root_mean_squared_error: 0.4621\n",
      "Epoch 4/20\n",
      "1/2 [==============>...............] - ETA: 0s - loss: 0.1603 - root_mean_squared_error: 0.4004"
     ]
    },
    {
     "name": "stderr",
     "output_type": "stream",
     "text": [
      "WARNING:absl:Found untraced functions such as lstm_cell_6_layer_call_fn, lstm_cell_6_layer_call_and_return_conditional_losses while saving (showing 2 of 2). These functions will not be directly callable after loading.\n"
     ]
    },
    {
     "name": "stdout",
     "output_type": "stream",
     "text": [
      "INFO:tensorflow:Assets written to: modelGermany\\assets\n"
     ]
    },
    {
     "name": "stderr",
     "output_type": "stream",
     "text": [
      "INFO:tensorflow:Assets written to: modelGermany\\assets\n"
     ]
    },
    {
     "name": "stdout",
     "output_type": "stream",
     "text": [
      "2/2 [==============================] - 3s 3s/step - loss: 0.1604 - root_mean_squared_error: 0.4005 - val_loss: 0.1772 - val_root_mean_squared_error: 0.4209\n",
      "Epoch 5/20\n",
      "1/2 [==============>...............] - ETA: 0s - loss: 0.1263 - root_mean_squared_error: 0.3554"
     ]
    },
    {
     "name": "stderr",
     "output_type": "stream",
     "text": [
      "WARNING:absl:Found untraced functions such as lstm_cell_6_layer_call_fn, lstm_cell_6_layer_call_and_return_conditional_losses while saving (showing 2 of 2). These functions will not be directly callable after loading.\n"
     ]
    },
    {
     "name": "stdout",
     "output_type": "stream",
     "text": [
      "INFO:tensorflow:Assets written to: modelGermany\\assets\n"
     ]
    },
    {
     "name": "stderr",
     "output_type": "stream",
     "text": [
      "INFO:tensorflow:Assets written to: modelGermany\\assets\n"
     ]
    },
    {
     "name": "stdout",
     "output_type": "stream",
     "text": [
      "2/2 [==============================] - 3s 3s/step - loss: 0.1250 - root_mean_squared_error: 0.3535 - val_loss: 0.1486 - val_root_mean_squared_error: 0.3854\n",
      "Epoch 6/20\n",
      "1/2 [==============>...............] - ETA: 0s - loss: 0.0942 - root_mean_squared_error: 0.3070"
     ]
    },
    {
     "name": "stderr",
     "output_type": "stream",
     "text": [
      "WARNING:absl:Found untraced functions such as lstm_cell_6_layer_call_fn, lstm_cell_6_layer_call_and_return_conditional_losses while saving (showing 2 of 2). These functions will not be directly callable after loading.\n"
     ]
    },
    {
     "name": "stdout",
     "output_type": "stream",
     "text": [
      "INFO:tensorflow:Assets written to: modelGermany\\assets\n"
     ]
    },
    {
     "name": "stderr",
     "output_type": "stream",
     "text": [
      "INFO:tensorflow:Assets written to: modelGermany\\assets\n"
     ]
    },
    {
     "name": "stdout",
     "output_type": "stream",
     "text": [
      "2/2 [==============================] - 3s 3s/step - loss: 0.0938 - root_mean_squared_error: 0.3063 - val_loss: 0.1258 - val_root_mean_squared_error: 0.3546\n",
      "Epoch 7/20\n",
      "1/2 [==============>...............] - ETA: 0s - loss: 0.0688 - root_mean_squared_error: 0.2622"
     ]
    },
    {
     "name": "stderr",
     "output_type": "stream",
     "text": [
      "WARNING:absl:Found untraced functions such as lstm_cell_6_layer_call_fn, lstm_cell_6_layer_call_and_return_conditional_losses while saving (showing 2 of 2). These functions will not be directly callable after loading.\n"
     ]
    },
    {
     "name": "stdout",
     "output_type": "stream",
     "text": [
      "INFO:tensorflow:Assets written to: modelGermany\\assets\n"
     ]
    },
    {
     "name": "stderr",
     "output_type": "stream",
     "text": [
      "INFO:tensorflow:Assets written to: modelGermany\\assets\n"
     ]
    },
    {
     "name": "stdout",
     "output_type": "stream",
     "text": [
      "2/2 [==============================] - 3s 3s/step - loss: 0.0675 - root_mean_squared_error: 0.2599 - val_loss: 0.1086 - val_root_mean_squared_error: 0.3296\n",
      "Epoch 8/20\n",
      "1/2 [==============>...............] - ETA: 0s - loss: 0.0454 - root_mean_squared_error: 0.2132"
     ]
    },
    {
     "name": "stderr",
     "output_type": "stream",
     "text": [
      "WARNING:absl:Found untraced functions such as lstm_cell_6_layer_call_fn, lstm_cell_6_layer_call_and_return_conditional_losses while saving (showing 2 of 2). These functions will not be directly callable after loading.\n"
     ]
    },
    {
     "name": "stdout",
     "output_type": "stream",
     "text": [
      "INFO:tensorflow:Assets written to: modelGermany\\assets\n"
     ]
    },
    {
     "name": "stderr",
     "output_type": "stream",
     "text": [
      "INFO:tensorflow:Assets written to: modelGermany\\assets\n"
     ]
    },
    {
     "name": "stdout",
     "output_type": "stream",
     "text": [
      "2/2 [==============================] - 3s 3s/step - loss: 0.0455 - root_mean_squared_error: 0.2133 - val_loss: 0.0978 - val_root_mean_squared_error: 0.3127\n",
      "Epoch 9/20\n",
      "1/2 [==============>...............] - ETA: 0s - loss: 0.0291 - root_mean_squared_error: 0.1707"
     ]
    },
    {
     "name": "stderr",
     "output_type": "stream",
     "text": [
      "WARNING:absl:Found untraced functions such as lstm_cell_6_layer_call_fn, lstm_cell_6_layer_call_and_return_conditional_losses while saving (showing 2 of 2). These functions will not be directly callable after loading.\n"
     ]
    },
    {
     "name": "stdout",
     "output_type": "stream",
     "text": [
      "INFO:tensorflow:Assets written to: modelGermany\\assets\n"
     ]
    },
    {
     "name": "stderr",
     "output_type": "stream",
     "text": [
      "INFO:tensorflow:Assets written to: modelGermany\\assets\n"
     ]
    },
    {
     "name": "stdout",
     "output_type": "stream",
     "text": [
      "2/2 [==============================] - 3s 3s/step - loss: 0.0289 - root_mean_squared_error: 0.1700 - val_loss: 0.0923 - val_root_mean_squared_error: 0.3038\n",
      "Epoch 10/20\n",
      "1/2 [==============>...............] - ETA: 0s - loss: 0.0179 - root_mean_squared_error: 0.1339"
     ]
    },
    {
     "name": "stderr",
     "output_type": "stream",
     "text": [
      "WARNING:absl:Found untraced functions such as lstm_cell_6_layer_call_fn, lstm_cell_6_layer_call_and_return_conditional_losses while saving (showing 2 of 2). These functions will not be directly callable after loading.\n"
     ]
    },
    {
     "name": "stdout",
     "output_type": "stream",
     "text": [
      "INFO:tensorflow:Assets written to: modelGermany\\assets\n"
     ]
    },
    {
     "name": "stderr",
     "output_type": "stream",
     "text": [
      "INFO:tensorflow:Assets written to: modelGermany\\assets\n"
     ]
    },
    {
     "name": "stdout",
     "output_type": "stream",
     "text": [
      "2/2 [==============================] - 3s 3s/step - loss: 0.0177 - root_mean_squared_error: 0.1331 - val_loss: 0.0912 - val_root_mean_squared_error: 0.3019\n",
      "Epoch 11/20\n",
      "2/2 [==============================] - 0s 21ms/step - loss: 0.0123 - root_mean_squared_error: 0.1111 - val_loss: 0.0956 - val_root_mean_squared_error: 0.3093\n",
      "Epoch 12/20\n",
      "2/2 [==============================] - 0s 20ms/step - loss: 0.0126 - root_mean_squared_error: 0.1122 - val_loss: 0.1046 - val_root_mean_squared_error: 0.3234\n",
      "Epoch 13/20\n",
      "2/2 [==============================] - 0s 21ms/step - loss: 0.0167 - root_mean_squared_error: 0.1293 - val_loss: 0.1063 - val_root_mean_squared_error: 0.3260\n",
      "Epoch 14/20\n",
      "2/2 [==============================] - 0s 22ms/step - loss: 0.0204 - root_mean_squared_error: 0.1427 - val_loss: 0.0998 - val_root_mean_squared_error: 0.3160\n",
      "Epoch 15/20\n",
      "2/2 [==============================] - 0s 22ms/step - loss: 0.0212 - root_mean_squared_error: 0.1456 - val_loss: 0.0919 - val_root_mean_squared_error: 0.3031\n",
      "Epoch 16/20\n",
      "1/2 [==============>...............] - ETA: 0s - loss: 0.0183 - root_mean_squared_error: 0.1354"
     ]
    },
    {
     "name": "stderr",
     "output_type": "stream",
     "text": [
      "WARNING:absl:Found untraced functions such as lstm_cell_6_layer_call_fn, lstm_cell_6_layer_call_and_return_conditional_losses while saving (showing 2 of 2). These functions will not be directly callable after loading.\n"
     ]
    },
    {
     "name": "stdout",
     "output_type": "stream",
     "text": [
      "INFO:tensorflow:Assets written to: modelGermany\\assets\n"
     ]
    },
    {
     "name": "stderr",
     "output_type": "stream",
     "text": [
      "INFO:tensorflow:Assets written to: modelGermany\\assets\n"
     ]
    },
    {
     "name": "stdout",
     "output_type": "stream",
     "text": [
      "2/2 [==============================] - 3s 3s/step - loss: 0.0190 - root_mean_squared_error: 0.1377 - val_loss: 0.0808 - val_root_mean_squared_error: 0.2843\n",
      "Epoch 17/20\n",
      "1/2 [==============>...............] - ETA: 0s - loss: 0.0158 - root_mean_squared_error: 0.1258"
     ]
    },
    {
     "name": "stderr",
     "output_type": "stream",
     "text": [
      "WARNING:absl:Found untraced functions such as lstm_cell_6_layer_call_fn, lstm_cell_6_layer_call_and_return_conditional_losses while saving (showing 2 of 2). These functions will not be directly callable after loading.\n"
     ]
    },
    {
     "name": "stdout",
     "output_type": "stream",
     "text": [
      "INFO:tensorflow:Assets written to: modelGermany\\assets\n"
     ]
    },
    {
     "name": "stderr",
     "output_type": "stream",
     "text": [
      "INFO:tensorflow:Assets written to: modelGermany\\assets\n"
     ]
    },
    {
     "name": "stdout",
     "output_type": "stream",
     "text": [
      "2/2 [==============================] - 3s 3s/step - loss: 0.0157 - root_mean_squared_error: 0.1251 - val_loss: 0.0706 - val_root_mean_squared_error: 0.2656\n",
      "Epoch 18/20\n",
      "1/2 [==============>...............] - ETA: 0s - loss: 0.0126 - root_mean_squared_error: 0.1121"
     ]
    },
    {
     "name": "stderr",
     "output_type": "stream",
     "text": [
      "WARNING:absl:Found untraced functions such as lstm_cell_6_layer_call_fn, lstm_cell_6_layer_call_and_return_conditional_losses while saving (showing 2 of 2). These functions will not be directly callable after loading.\n"
     ]
    },
    {
     "name": "stdout",
     "output_type": "stream",
     "text": [
      "INFO:tensorflow:Assets written to: modelGermany\\assets\n"
     ]
    },
    {
     "name": "stderr",
     "output_type": "stream",
     "text": [
      "INFO:tensorflow:Assets written to: modelGermany\\assets\n"
     ]
    },
    {
     "name": "stdout",
     "output_type": "stream",
     "text": [
      "2/2 [==============================] - 3s 3s/step - loss: 0.0130 - root_mean_squared_error: 0.1140 - val_loss: 0.0621 - val_root_mean_squared_error: 0.2493\n",
      "Epoch 19/20\n",
      "1/2 [==============>...............] - ETA: 0s - loss: 0.0119 - root_mean_squared_error: 0.1090"
     ]
    },
    {
     "name": "stderr",
     "output_type": "stream",
     "text": [
      "WARNING:absl:Found untraced functions such as lstm_cell_6_layer_call_fn, lstm_cell_6_layer_call_and_return_conditional_losses while saving (showing 2 of 2). These functions will not be directly callable after loading.\n"
     ]
    },
    {
     "name": "stdout",
     "output_type": "stream",
     "text": [
      "INFO:tensorflow:Assets written to: modelGermany\\assets\n"
     ]
    },
    {
     "name": "stderr",
     "output_type": "stream",
     "text": [
      "INFO:tensorflow:Assets written to: modelGermany\\assets\n"
     ]
    },
    {
     "name": "stdout",
     "output_type": "stream",
     "text": [
      "2/2 [==============================] - 3s 3s/step - loss: 0.0115 - root_mean_squared_error: 0.1074 - val_loss: 0.0548 - val_root_mean_squared_error: 0.2341\n",
      "Epoch 20/20\n",
      "1/2 [==============>...............] - ETA: 0s - loss: 0.0113 - root_mean_squared_error: 0.1062"
     ]
    },
    {
     "name": "stderr",
     "output_type": "stream",
     "text": [
      "WARNING:absl:Found untraced functions such as lstm_cell_6_layer_call_fn, lstm_cell_6_layer_call_and_return_conditional_losses while saving (showing 2 of 2). These functions will not be directly callable after loading.\n"
     ]
    },
    {
     "name": "stdout",
     "output_type": "stream",
     "text": [
      "INFO:tensorflow:Assets written to: modelGermany\\assets\n"
     ]
    },
    {
     "name": "stderr",
     "output_type": "stream",
     "text": [
      "INFO:tensorflow:Assets written to: modelGermany\\assets\n"
     ]
    },
    {
     "name": "stdout",
     "output_type": "stream",
     "text": [
      "\b\b\b\b\b\b\b\b\b\b\b\b\b\b\b\b\b\b\b\b\b\b\b\b\b\b\b\b\b\b\b\b\b\b\b\b\b\b\b\b\b\b\b\b\b\b\b\b\b\b\b\b\b\b\b\b\b\b\b\b\b\b\b\b\b\b\b\b\b\b\b\b\b\b\b\b\b\b\b\b\b\b\b\b\b\b\b\b\b\b\b\b\b\b\b\r",
      "2/2 [==============================] - 3s 3s/step - loss: 0.0112 - root_mean_squared_error: 0.1056 - val_loss: 0.0512 - val_root_mean_squared_error: 0.2263\n"
     ]
    },
    {
     "data": {
      "text/plain": [
       "<keras.callbacks.History at 0x202af5ba4c0>"
      ]
     },
     "execution_count": 65,
     "metadata": {},
     "output_type": "execute_result"
    }
   ],
   "source": [
    "modelGermany.fit(GermanyX_train, Germanyy_train, validation_data=(GermanyX_validation, Germanyy_validation), epochs=20, callbacks=[cpGermany])"
   ]
  },
  {
   "cell_type": "code",
   "execution_count": 66,
   "id": "35fb02ba",
   "metadata": {},
   "outputs": [],
   "source": [
    "def Germany_plot_predictions(model, X, y, start=0, end=100):\n",
    "    predictions = model.predict(X).flatten()[::3]\n",
    "    predictions = predictions.reshape(-1,1)\n",
    "    predictions = np.repeat(predictions, US_df.shape[1], axis=-1)\n",
    "    predictions = GermanyScaler.inverse_transform(predictions).flatten()[::3]\n",
    "    y = y.flatten()[::3]\n",
    "    y = y.reshape(-1,1)\n",
    "    y = np.repeat(y, Germany_df.shape[1], axis=-1)\n",
    "    y = GermanyScaler.inverse_transform(y)[:,0]\n",
    "    df = pd.DataFrame(data={'Predictions':predictions, 'Actuals':y})\n",
    "    plt.plot(df['Predictions'][start:end])\n",
    "    plt.plot(df['Actuals'][start:end])\n",
    "    print(f\"The RMSE is {mse(y, predictions, squared=False):.2f} & the MAPE is {mape(y, predictions)*100:.2f}%\")\n",
    "    return  \n",
    "    \n"
   ]
  },
  {
   "cell_type": "code",
   "execution_count": 67,
   "id": "646662c9",
   "metadata": {
    "scrolled": false
   },
   "outputs": [
    {
     "name": "stdout",
     "output_type": "stream",
     "text": [
      "2/2 [==============================] - 0s 2ms/step\n",
      "The RMSE is 59.62 & the MAPE is 5.15%\n"
     ]
    },
    {
     "data": {
      "image/png": "[encoded data removed]",
      "text/plain": [
       "<Figure size 432x288 with 1 Axes>"
      ]
     },
     "metadata": {
      "needs_background": "light"
     },
     "output_type": "display_data"
    }
   ],
   "source": [
    "Germany_plot_predictions(modelGermany, GermanyX_train, Germanyy_train)"
   ]
  },
  {
   "cell_type": "code",
   "execution_count": 68,
   "id": "32578069",
   "metadata": {},
   "outputs": [
    {
     "name": "stdout",
     "output_type": "stream",
     "text": [
      "1/1 [==============================] - 0s 16ms/step\n",
      "The RMSE is 176.97 & the MAPE is 22.28%\n"
     ]
    },
    {
     "data": {
      "image/png": "[encoded data removed]",
      "text/plain": [
       "<Figure size 432x288 with 1 Axes>"
      ]
     },
     "metadata": {
      "needs_background": "light"
     },
     "output_type": "display_data"
    }
   ],
   "source": [
    "Germany_plot_predictions(modelGermany, GermanyX_test, Germanyy_test)"
   ]
  },
  {
   "cell_type": "code",
   "execution_count": 69,
   "id": "fbc24a13",
   "metadata": {},
   "outputs": [
    {
     "name": "stdout",
     "output_type": "stream",
     "text": [
      "1/1 [==============================] - 0s 16ms/step\n",
      "1/1 [==============================] - 0s 15ms/step\n",
      "1/1 [==============================] - 0s 9ms/step\n",
      "1/1 [==============================] - 0s 8ms/step\n",
      "1/1 [==============================] - 0s 5ms/step\n",
      "1/1 [==============================] - 0s 12ms/step\n",
      "1/1 [==============================] - 0s 11ms/step\n",
      "1/1 [==============================] - 0s 4ms/step\n",
      "1/1 [==============================] - 0s 7ms/step\n",
      "1/1 [==============================] - 0s 9ms/step\n",
      "1/1 [==============================] - 0s 16ms/step\n",
      "1/1 [==============================] - 0s 6ms/step\n",
      "1/1 [==============================] - 0s 13ms/step\n",
      "1/1 [==============================] - 0s 8ms/step\n",
      "1/1 [==============================] - 0s 7ms/step\n",
      "1/1 [==============================] - 0s 12ms/step\n",
      "1/1 [==============================] - 0s 13ms/step\n",
      "1/1 [==============================] - 0s 8ms/step\n",
      "1/1 [==============================] - 0s 9ms/step\n",
      "1/1 [==============================] - 0s 14ms/step\n"
     ]
    }
   ],
   "source": [
    "n_lookback = 5  # length of input sequences (lookback period), essentially how many time steps back we look\n",
    "num_prediction = 20 # Number of years predicted into future\n",
    "\n",
    "\n",
    "Germany_prediction_list = Germany_df[- n_lookback:].values# last available input sequence\n",
    "\n",
    "z = 0\n",
    "\n",
    "for r in range(num_prediction):\n",
    "    z += 1\n",
    "    x = Germany_prediction_list[:,- n_lookback:]\n",
    "    x = x.reshape(-1,n_lookback,3)\n",
    "    out = modelGermany.predict(x)\n",
    "    Germany_prediction_list = np.append(Germany_prediction_list, out)\n",
    "    Germany_prediction_list = Germany_prediction_list.reshape((1, n_lookback+z,3))\n"
   ]
  },
  {
   "cell_type": "code",
   "execution_count": 71,
   "id": "c0291240",
   "metadata": {
    "scrolled": true
   },
   "outputs": [],
   "source": [
    "forecasted_values_Germany = Germany_prediction_list[:,n_lookback:]\n",
    "\n",
    "forecasted_values_Germany = forecasted_values_Germany.flatten()\n",
    "forecasted_values_Germany = forecasted_values_Germany.reshape(num_prediction,3)\n",
    "\n",
    "forecasted_values_Germany = GermanyScaler.inverse_transform(forecasted_values_Germany)[:,0]"
   ]
  },
  {
   "cell_type": "code",
   "execution_count": 101,
   "id": "e100c0cd",
   "metadata": {
    "scrolled": true
   },
   "outputs": [
    {
     "data": {
      "text/plain": [
       "<matplotlib.legend.Legend at 0x202b94b6490>"
      ]
     },
     "execution_count": 101,
     "metadata": {},
     "output_type": "execute_result"
    },
    {
     "data": {
      "image/png": "[encoded data removed]",
      "text/plain": [
       "<Figure size 432x288 with 1 Axes>"
      ]
     },
     "metadata": {
      "needs_background": "light"
     },
     "output_type": "display_data"
    }
   ],
   "source": [
    "predict_period_dates = pd.date_range(start= '2021-12-31', periods=num_prediction, freq='1y').tolist()\n",
    "# print(predict_period_dates)\n",
    "\n",
    "\n",
    "forecast_dates = []\n",
    "for time_i in predict_period_dates:\n",
    "     forecast_dates.append(time_i.date())\n",
    "    \n",
    "df_forecast_Germany = pd.DataFrame({'Date':np.array(forecast_dates), 'CO2':forecasted_values_Germany})\n",
    "df_forecast_Germany['Date']=pd.to_datetime(df_forecast_Germany['Date'])\n",
    "df_forecast_Germany = df_forecast_Germany.set_index('Date')\n",
    "\n",
    "combined_df = [Germany_df1['co2 Germany'],df_forecast_Germany['CO2']]\n",
    "\n",
    "result = pd.concat(combined_df)\n",
    "\n",
    "\n",
    "plt.plot(result, label=\"Past Values\")\n",
    "plt.plot(df_forecast_Germany['CO2'], label='Forecast')\n",
    "plt.legend()"
   ]
  },
  {
   "cell_type": "markdown",
   "id": "20186356",
   "metadata": {},
   "source": [
    "# US ARIMA Model"
   ]
  },
  {
   "cell_type": "code",
   "execution_count": 13,
   "id": "64df7f33",
   "metadata": {},
   "outputs": [],
   "source": [
    "import pmdarima as pm #import relevant libraries"
   ]
  },
  {
   "cell_type": "code",
   "execution_count": 56,
   "id": "92b5c2b6",
   "metadata": {},
   "outputs": [
    {
     "name": "stdout",
     "output_type": "stream",
     "text": [
      "Performing stepwise search to minimize aic\n",
      " ARIMA(0,2,0)(0,0,0)[0]             : AIC=789.624, Time=0.01 sec\n",
      " ARIMA(1,2,0)(0,0,0)[0]             : AIC=787.275, Time=0.03 sec\n",
      " ARIMA(0,2,1)(0,0,0)[0]             : AIC=770.239, Time=0.03 sec\n",
      " ARIMA(1,2,1)(0,0,0)[0]             : AIC=771.572, Time=0.04 sec\n",
      " ARIMA(0,2,2)(0,0,0)[0]             : AIC=769.717, Time=0.05 sec\n",
      " ARIMA(1,2,2)(0,0,0)[0]             : AIC=768.428, Time=0.05 sec\n",
      " ARIMA(2,2,2)(0,0,0)[0]             : AIC=767.205, Time=0.08 sec\n",
      " ARIMA(2,2,1)(0,0,0)[0]             : AIC=767.867, Time=0.07 sec\n",
      " ARIMA(3,2,2)(0,0,0)[0]             : AIC=768.941, Time=0.10 sec\n",
      " ARIMA(2,2,3)(0,0,0)[0]             : AIC=inf, Time=0.19 sec\n",
      " ARIMA(1,2,3)(0,0,0)[0]             : AIC=768.556, Time=0.07 sec\n",
      " ARIMA(3,2,1)(0,0,0)[0]             : AIC=767.468, Time=0.09 sec\n",
      " ARIMA(3,2,3)(0,0,0)[0]             : AIC=768.748, Time=0.18 sec\n",
      " ARIMA(2,2,2)(0,0,0)[0] intercept   : AIC=inf, Time=0.12 sec\n",
      "\n",
      "Best model:  ARIMA(2,2,2)(0,0,0)[0]          \n",
      "Total fit time: 1.110 seconds\n"
     ]
    }
   ],
   "source": [
    "# Create an ARIMA model\n",
    "# Specify if there is seasonality, the starting p and q order and test method to determine differencing order\n",
    "ARIMAmodelUS = pm.auto_arima(US_df1['co2 United States'], seasonal_test='ocsb',\n",
    "                      start_p=0, start_q=0, max_order=4, test='adf',error_action='ignore',  \n",
    "                           suppress_warnings=True,\n",
    "                      stepwise=True, trace=True)"
   ]
  },
  {
   "cell_type": "code",
   "execution_count": 25,
   "id": "ee1eaf25",
   "metadata": {},
   "outputs": [],
   "source": [
    "# Define train and test size, 70% and 30% respectively\n",
    "ARIMA_train_size = int(len(US_df1) * 0.7)\n",
    "ARIMA_test_size = len(US_df1) - ARIMA_train_size\n",
    "\n",
    "# Split dataframe into train and test sets\n",
    "ARIMA_US_train = US_df1[:ARIMA_train_size]\n",
    "ARIMA_US_test = US_df1[ARIMA_train_size:]\n"
   ]
  },
  {
   "cell_type": "code",
   "execution_count": 26,
   "id": "4c592a89",
   "metadata": {},
   "outputs": [],
   "source": [
    "# Fit training data into model\n",
    "ARIMAmodelUS.fit(ARIMA_US_train['co2 United States'])\n",
    "\n",
    "# Get predictions for the test \n",
    "ARIMApredictUS = ARIMAmodelUS.predict(n_periods=len(ARIMA_US_test), return_conf_int=True)"
   ]
  },
  {
   "cell_type": "code",
   "execution_count": 28,
   "id": "db6162e8",
   "metadata": {},
   "outputs": [
    {
     "name": "stdout",
     "output_type": "stream",
     "text": [
      "The RMSE is 1154.56 & the MAPE is 13.55%\n"
     ]
    },
    {
     "data": {
      "image/png": "[encoded data removed]",
      "text/plain": [
       "<Figure size 432x288 with 1 Axes>"
      ]
     },
     "metadata": {
      "needs_background": "light"
     },
     "output_type": "display_data"
    }
   ],
   "source": [
    "# Make a dataframe and plot the predicted values against the actual co2 values\n",
    "US_ARIMA_predict_df = pd.DataFrame(ARIMApredictUS[0],index = ARIMA_US_test.index,columns=['Prediction'])\n",
    "pd.concat([US_df1['co2 United States'],US_ARIMA_predict_df],axis=1).plot()\n",
    "\n",
    "#Get the RMSE and MAPE comparing the predicted vs actual co2 values\n",
    "print(f\"The RMSE is {mse(ARIMApredictUS[0], US_df1.loc['2002-01-01':,['co2 United States']].values, squared=False):.2f} & the MAPE is {mape(ARIMApredictUS[0], US_df1.loc['2002-01-01':,['co2 United States']].values)*100:.2f}%\")"
   ]
  },
  {
   "cell_type": "code",
   "execution_count": 31,
   "id": "b30db76a",
   "metadata": {},
   "outputs": [
    {
     "data": {
      "text/html": [
       "<div>\n",
       "<style scoped>\n",
       "    .dataframe tbody tr th:only-of-type {\n",
       "        vertical-align: middle;\n",
       "    }\n",
       "\n",
       "    .dataframe tbody tr th {\n",
       "        vertical-align: top;\n",
       "    }\n",
       "\n",
       "    .dataframe thead th {\n",
       "        text-align: right;\n",
       "    }\n",
       "</style>\n",
       "<table border=\"1\" class=\"dataframe\">\n",
       "  <thead>\n",
       "    <tr style=\"text-align: right;\">\n",
       "      <th></th>\n",
       "      <th>Prediction</th>\n",
       "    </tr>\n",
       "  </thead>\n",
       "  <tbody>\n",
       "    <tr>\n",
       "      <th>2002-01-01</th>\n",
       "      <td>5870.442851</td>\n",
       "    </tr>\n",
       "    <tr>\n",
       "      <th>2003-01-01</th>\n",
       "      <td>5968.249499</td>\n",
       "    </tr>\n",
       "    <tr>\n",
       "      <th>2004-01-01</th>\n",
       "      <td>6037.481385</td>\n",
       "    </tr>\n",
       "    <tr>\n",
       "      <th>2005-01-01</th>\n",
       "      <td>6100.656099</td>\n",
       "    </tr>\n",
       "    <tr>\n",
       "      <th>2006-01-01</th>\n",
       "      <td>6167.236972</td>\n",
       "    </tr>\n",
       "    <tr>\n",
       "      <th>2007-01-01</th>\n",
       "      <td>6233.735634</td>\n",
       "    </tr>\n",
       "    <tr>\n",
       "      <th>2008-01-01</th>\n",
       "      <td>6299.966182</td>\n",
       "    </tr>\n",
       "    <tr>\n",
       "      <th>2009-01-01</th>\n",
       "      <td>6366.249516</td>\n",
       "    </tr>\n",
       "    <tr>\n",
       "      <th>2010-01-01</th>\n",
       "      <td>6432.546013</td>\n",
       "    </tr>\n",
       "    <tr>\n",
       "      <th>2011-01-01</th>\n",
       "      <td>6498.835879</td>\n",
       "    </tr>\n",
       "    <tr>\n",
       "      <th>2012-01-01</th>\n",
       "      <td>6565.125792</td>\n",
       "    </tr>\n",
       "    <tr>\n",
       "      <th>2013-01-01</th>\n",
       "      <td>6631.416246</td>\n",
       "    </tr>\n",
       "    <tr>\n",
       "      <th>2014-01-01</th>\n",
       "      <td>6697.706603</td>\n",
       "    </tr>\n",
       "    <tr>\n",
       "      <th>2015-01-01</th>\n",
       "      <td>6763.996932</td>\n",
       "    </tr>\n",
       "    <tr>\n",
       "      <th>2016-01-01</th>\n",
       "      <td>6830.287274</td>\n",
       "    </tr>\n",
       "    <tr>\n",
       "      <th>2017-01-01</th>\n",
       "      <td>6896.577616</td>\n",
       "    </tr>\n",
       "    <tr>\n",
       "      <th>2018-01-01</th>\n",
       "      <td>6962.867957</td>\n",
       "    </tr>\n",
       "    <tr>\n",
       "      <th>2019-01-01</th>\n",
       "      <td>7029.158298</td>\n",
       "    </tr>\n",
       "    <tr>\n",
       "      <th>2020-01-01</th>\n",
       "      <td>7095.448639</td>\n",
       "    </tr>\n",
       "    <tr>\n",
       "      <th>2021-01-01</th>\n",
       "      <td>7161.738980</td>\n",
       "    </tr>\n",
       "    <tr>\n",
       "      <th>2022-01-01</th>\n",
       "      <td>7228.029321</td>\n",
       "    </tr>\n",
       "    <tr>\n",
       "      <th>2023-01-01</th>\n",
       "      <td>7294.319662</td>\n",
       "    </tr>\n",
       "    <tr>\n",
       "      <th>2024-01-01</th>\n",
       "      <td>7360.610003</td>\n",
       "    </tr>\n",
       "    <tr>\n",
       "      <th>2025-01-01</th>\n",
       "      <td>7426.900344</td>\n",
       "    </tr>\n",
       "    <tr>\n",
       "      <th>2026-01-01</th>\n",
       "      <td>7493.190686</td>\n",
       "    </tr>\n",
       "    <tr>\n",
       "      <th>2027-01-01</th>\n",
       "      <td>7559.481027</td>\n",
       "    </tr>\n",
       "    <tr>\n",
       "      <th>2028-01-01</th>\n",
       "      <td>7625.771368</td>\n",
       "    </tr>\n",
       "    <tr>\n",
       "      <th>2029-01-01</th>\n",
       "      <td>7692.061709</td>\n",
       "    </tr>\n",
       "    <tr>\n",
       "      <th>2030-01-01</th>\n",
       "      <td>7758.352050</td>\n",
       "    </tr>\n",
       "    <tr>\n",
       "      <th>2031-01-01</th>\n",
       "      <td>7824.642391</td>\n",
       "    </tr>\n",
       "    <tr>\n",
       "      <th>2032-01-01</th>\n",
       "      <td>7890.932732</td>\n",
       "    </tr>\n",
       "    <tr>\n",
       "      <th>2033-01-01</th>\n",
       "      <td>7957.223073</td>\n",
       "    </tr>\n",
       "    <tr>\n",
       "      <th>2034-01-01</th>\n",
       "      <td>8023.513415</td>\n",
       "    </tr>\n",
       "    <tr>\n",
       "      <th>2035-01-01</th>\n",
       "      <td>8089.803756</td>\n",
       "    </tr>\n",
       "    <tr>\n",
       "      <th>2036-01-01</th>\n",
       "      <td>8156.094097</td>\n",
       "    </tr>\n",
       "    <tr>\n",
       "      <th>2037-01-01</th>\n",
       "      <td>8222.384438</td>\n",
       "    </tr>\n",
       "    <tr>\n",
       "      <th>2038-01-01</th>\n",
       "      <td>8288.674779</td>\n",
       "    </tr>\n",
       "    <tr>\n",
       "      <th>2039-01-01</th>\n",
       "      <td>8354.965120</td>\n",
       "    </tr>\n",
       "    <tr>\n",
       "      <th>2040-01-01</th>\n",
       "      <td>8421.255461</td>\n",
       "    </tr>\n",
       "  </tbody>\n",
       "</table>\n",
       "</div>"
      ],
      "text/plain": [
       "             Prediction\n",
       "2002-01-01  5870.442851\n",
       "2003-01-01  5968.249499\n",
       "2004-01-01  6037.481385\n",
       "2005-01-01  6100.656099\n",
       "2006-01-01  6167.236972\n",
       "2007-01-01  6233.735634\n",
       "2008-01-01  6299.966182\n",
       "2009-01-01  6366.249516\n",
       "2010-01-01  6432.546013\n",
       "2011-01-01  6498.835879\n",
       "2012-01-01  6565.125792\n",
       "2013-01-01  6631.416246\n",
       "2014-01-01  6697.706603\n",
       "2015-01-01  6763.996932\n",
       "2016-01-01  6830.287274\n",
       "2017-01-01  6896.577616\n",
       "2018-01-01  6962.867957\n",
       "2019-01-01  7029.158298\n",
       "2020-01-01  7095.448639\n",
       "2021-01-01  7161.738980\n",
       "2022-01-01  7228.029321\n",
       "2023-01-01  7294.319662\n",
       "2024-01-01  7360.610003\n",
       "2025-01-01  7426.900344\n",
       "2026-01-01  7493.190686\n",
       "2027-01-01  7559.481027\n",
       "2028-01-01  7625.771368\n",
       "2029-01-01  7692.061709\n",
       "2030-01-01  7758.352050\n",
       "2031-01-01  7824.642391\n",
       "2032-01-01  7890.932732\n",
       "2033-01-01  7957.223073\n",
       "2034-01-01  8023.513415\n",
       "2035-01-01  8089.803756\n",
       "2036-01-01  8156.094097\n",
       "2037-01-01  8222.384438\n",
       "2038-01-01  8288.674779\n",
       "2039-01-01  8354.965120\n",
       "2040-01-01  8421.255461"
      ]
     },
     "execution_count": 31,
     "metadata": {},
     "output_type": "execute_result"
    }
   ],
   "source": [
    "# Generate forecasts using the model, 20 years past the last test date (2021 - 2040)\n",
    "US_ARIMA_forecast= ARIMAmodelUS.predict(n_periods=len(ARIMA_US_test)+20, return_conf_int=True)\n",
    "# Create a date range for 1993 - 2040\n",
    "US_ARIMA_forecast_range=pd.date_range(start='1993-01-01', periods=len(ARIMA_US_test)+20,freq='Y')\n",
    "\n",
    "#Combine forecast and date range to make a forecast df\n",
    "US_ARIMA_forecast_df = pd.DataFrame(US_ARIMA_forecast[0],columns=['Forecast'])\n"
   ]
  },
  {
   "cell_type": "code",
   "execution_count": 32,
   "id": "6390afc1",
   "metadata": {
    "scrolled": true
   },
   "outputs": [
    {
     "data": {
      "text/plain": [
       "<AxesSubplot:>"
      ]
     },
     "execution_count": 32,
     "metadata": {},
     "output_type": "execute_result"
    },
    {
     "data": {
      "image/png": "[encoded data removed]",
      "text/plain": [
       "<Figure size 432x288 with 1 Axes>"
      ]
     },
     "metadata": {
      "needs_background": "light"
     },
     "output_type": "display_data"
    }
   ],
   "source": [
    "#Plot final forecast \n",
    "pd.concat([US_df1['co2 United States'],US_ARIMA_forecast_df],axis=1).plot()"
   ]
  },
  {
   "cell_type": "markdown",
   "id": "cb2c5d4c",
   "metadata": {},
   "source": [
    "# China ARIMA Model"
   ]
  },
  {
   "cell_type": "code",
   "execution_count": 57,
   "id": "af9e4fc8",
   "metadata": {},
   "outputs": [
    {
     "name": "stdout",
     "output_type": "stream",
     "text": [
      "Performing stepwise search to minimize aic\n",
      " ARIMA(0,2,0)(0,0,0)[0]             : AIC=760.535, Time=0.01 sec\n",
      " ARIMA(1,2,0)(0,0,0)[0]             : AIC=762.273, Time=0.02 sec\n",
      " ARIMA(0,2,1)(0,0,0)[0]             : AIC=762.066, Time=0.02 sec\n",
      " ARIMA(1,2,1)(0,0,0)[0]             : AIC=759.640, Time=0.03 sec\n",
      " ARIMA(2,2,1)(0,0,0)[0]             : AIC=761.079, Time=0.08 sec\n",
      " ARIMA(1,2,2)(0,0,0)[0]             : AIC=759.320, Time=0.07 sec\n",
      " ARIMA(0,2,2)(0,0,0)[0]             : AIC=758.986, Time=0.03 sec\n",
      " ARIMA(0,2,3)(0,0,0)[0]             : AIC=760.942, Time=0.05 sec\n",
      " ARIMA(1,2,3)(0,0,0)[0]             : AIC=760.492, Time=0.11 sec\n",
      " ARIMA(0,2,2)(0,0,0)[0] intercept   : AIC=760.768, Time=0.06 sec\n",
      "\n",
      "Best model:  ARIMA(0,2,2)(0,0,0)[0]          \n",
      "Total fit time: 0.492 seconds\n"
     ]
    }
   ],
   "source": [
    "# Create an ARIMA model\n",
    "# Specify if there is seasonality, the starting p and q order and test method to determine stationarity\n",
    "ARIMAmodelChina = pm.auto_arima(China_df1['co2 China'], seasonal_test='ocsb',\n",
    "                      start_p=0, start_q=0, max_order=4, test='adf',error_action='ignore',  \n",
    "                           suppress_warnings=True,\n",
    "                      stepwise=True, trace=True)"
   ]
  },
  {
   "cell_type": "code",
   "execution_count": 34,
   "id": "24a09119",
   "metadata": {},
   "outputs": [],
   "source": [
    "# Split dataframe into train and test sets\n",
    "ARIMA_China_train = China_df1[:ARIMA_train_size]\n",
    "ARIMA_China_test = China_df1[ARIMA_train_size:]\n"
   ]
  },
  {
   "cell_type": "code",
   "execution_count": 35,
   "id": "ad2c4851",
   "metadata": {},
   "outputs": [],
   "source": [
    "# Fit training data into model\n",
    "ARIMAmodelChina.fit(ARIMA_China_train['co2 China'])\n",
    "\n",
    "# Get predictions for the test \n",
    "ARIMApredictChina = ARIMAmodelChina.predict(n_periods=len(ARIMA_China_test), return_conf_int=True)"
   ]
  },
  {
   "cell_type": "code",
   "execution_count": 40,
   "id": "56b48754",
   "metadata": {},
   "outputs": [
    {
     "name": "stdout",
     "output_type": "stream",
     "text": [
      "The RMSE is 4512.62 & the MAPE is 97.22%\n"
     ]
    },
    {
     "data": {
      "image/png": "[encoded data removed]",
      "text/plain": [
       "<Figure size 432x288 with 1 Axes>"
      ]
     },
     "metadata": {
      "needs_background": "light"
     },
     "output_type": "display_data"
    }
   ],
   "source": [
    "# Make a dataframe and plot the predicted values against the actual co2 values\n",
    "China_ARIMA_predict_df = pd.DataFrame(ARIMApredictChina[0],index = ARIMA_China_test.index,columns=['Prediction'])\n",
    "pd.concat([China_df1['co2 China'],China_ARIMA_predict_df],axis=1).plot()\n",
    "\n",
    "#Get the RMSE and MAPE comparing the predicted vs actual co2 values\n",
    "print(f\"The RMSE is {mse(ARIMApredictChina[0], China_df1.loc['2002-01-01':,['co2 China']].values, squared=False):.2f} & the MAPE is {mape(ARIMApredictChina[0], China_df1.loc['2002-01-01':,['co2 China']].values)*100:.2f}%\")"
   ]
  },
  {
   "cell_type": "code",
   "execution_count": 41,
   "id": "f837e8c7",
   "metadata": {},
   "outputs": [],
   "source": [
    "# Generate forecasts using the model, 20 years past the last test date (2021 - 2040)\n",
    "China_ARIMA_forecast= ARIMAmodelChina.predict(n_periods=len(ARIMA_China_test)+20, return_conf_int=True)\n",
    "# Create a date range for 1993 - 2040\n",
    "China_ARIMA_forecast_range=pd.date_range(start='1993-01-01', periods=len(ARIMA_China_test)+20,freq='Y')\n",
    "\n",
    "#Combine forecast and date range to make a forecast df\n",
    "China_ARIMA_forecast_df = pd.DataFrame(China_ARIMA_forecast[0],columns=['Forecast'])\n"
   ]
  },
  {
   "cell_type": "code",
   "execution_count": 43,
   "id": "69c9a3cb",
   "metadata": {
    "scrolled": false
   },
   "outputs": [
    {
     "data": {
      "text/plain": [
       "<AxesSubplot:>"
      ]
     },
     "execution_count": 43,
     "metadata": {},
     "output_type": "execute_result"
    },
    {
     "data": {
      "image/png": "[encoded data removed]",
      "text/plain": [
       "<Figure size 432x288 with 1 Axes>"
      ]
     },
     "metadata": {
      "needs_background": "light"
     },
     "output_type": "display_data"
    }
   ],
   "source": [
    "#Plot final forecast \n",
    "pd.concat([China_df1['co2 China'],China_ARIMA_forecast_df],axis=1).plot()"
   ]
  },
  {
   "cell_type": "markdown",
   "id": "57c30a0d",
   "metadata": {},
   "source": [
    "# Russia ARIMA Model"
   ]
  },
  {
   "cell_type": "code",
   "execution_count": 58,
   "id": "83f597bc",
   "metadata": {},
   "outputs": [
    {
     "name": "stdout",
     "output_type": "stream",
     "text": [
      "Performing stepwise search to minimize aic\n",
      " ARIMA(0,2,0)(0,0,0)[0]             : AIC=709.963, Time=0.01 sec\n",
      " ARIMA(1,2,0)(0,0,0)[0]             : AIC=698.457, Time=0.03 sec\n",
      " ARIMA(0,2,1)(0,0,0)[0]             : AIC=692.362, Time=0.03 sec\n",
      " ARIMA(1,2,1)(0,0,0)[0]             : AIC=694.066, Time=0.05 sec\n",
      " ARIMA(0,2,2)(0,0,0)[0]             : AIC=694.179, Time=0.03 sec\n",
      " ARIMA(1,2,2)(0,0,0)[0]             : AIC=inf, Time=0.05 sec\n",
      " ARIMA(0,2,1)(0,0,0)[0] intercept   : AIC=694.213, Time=0.06 sec\n",
      "\n",
      "Best model:  ARIMA(0,2,1)(0,0,0)[0]          \n",
      "Total fit time: 0.259 seconds\n"
     ]
    }
   ],
   "source": [
    "# Create an ARIMA model\n",
    "# Specify if there is seasonality, the starting p and q order and test method to determine stationarity\n",
    "ARIMAmodelRussia = pm.auto_arima(Russia_df1['co2 Russia'], seasonal_test='ocsb',\n",
    "                      start_p=0, start_q=0, max_order=4, test='adf',error_action='ignore',  \n",
    "                           suppress_warnings=True,\n",
    "                      stepwise=True, trace=True)"
   ]
  },
  {
   "cell_type": "code",
   "execution_count": 45,
   "id": "e3e0ed5f",
   "metadata": {},
   "outputs": [],
   "source": [
    "# Split dataframe into train and test sets\n",
    "ARIMA_Russia_train = Russia_df1[:ARIMA_train_size]\n",
    "ARIMA_Russia_test = Russia_df1[ARIMA_train_size:]\n"
   ]
  },
  {
   "cell_type": "code",
   "execution_count": 47,
   "id": "74eeaac0",
   "metadata": {},
   "outputs": [],
   "source": [
    "# Fit training data into model\n",
    "ARIMAmodelRussia.fit(ARIMA_Russia_train['co2 Russia'])\n",
    "\n",
    "# Get predictions for the test \n",
    "ARIMApredictRussia = ARIMAmodelRussia.predict(n_periods=len(ARIMA_Russia_test), return_conf_int=True)"
   ]
  },
  {
   "cell_type": "code",
   "execution_count": 48,
   "id": "03f1e5f0",
   "metadata": {},
   "outputs": [
    {
     "name": "stdout",
     "output_type": "stream",
     "text": [
      "The RMSE is 126.17 & the MAPE is 7.48%\n"
     ]
    },
    {
     "data": {
      "image/png": "[encoded data removed]",
      "text/plain": [
       "<Figure size 432x288 with 1 Axes>"
      ]
     },
     "metadata": {
      "needs_background": "light"
     },
     "output_type": "display_data"
    }
   ],
   "source": [
    "# Make a dataframe and plot the predicted values against the actual co2 values\n",
    "Russia_ARIMA_predict_df = pd.DataFrame(ARIMApredictRussia[0],index = ARIMA_Russia_test.index,columns=['Prediction'])\n",
    "pd.concat([Russia_df1['co2 Russia'],Russia_ARIMA_predict_df],axis=1).plot()\n",
    "\n",
    "#Get the RMSE and MAPE comparing the predicted vs actual co2 values\n",
    "print(f\"The RMSE is {mse(ARIMApredictRussia[0], Russia_df1.loc['2002-01-01':,['co2 Russia']].values, squared=False):.2f} & the MAPE is {mape(ARIMApredictRussia[0], Russia_df1.loc['2002-01-01':,['co2 Russia']].values)*100:.2f}%\")"
   ]
  },
  {
   "cell_type": "code",
   "execution_count": 49,
   "id": "ce6b8389",
   "metadata": {},
   "outputs": [],
   "source": [
    "# Generate forecasts using the model, 20 years past the last test date (2021 - 2040)\n",
    "Russia_ARIMA_forecast= ARIMAmodelRussia.predict(n_periods=len(ARIMA_Russia_test)+20, return_conf_int=True)\n",
    "# Create a date range for 1993 - 2040\n",
    "Russia_ARIMA_forecast_range=pd.date_range(start='1993-01-01', periods=len(ARIMA_Russia_test)+20,freq='Y')\n",
    "\n",
    "#Combine forecast and date range to make a forecast df\n",
    "Russia_ARIMA_forecast_df = pd.DataFrame(Russia_ARIMA_forecast[0],columns=['Forecast'])\n"
   ]
  },
  {
   "cell_type": "code",
   "execution_count": 50,
   "id": "33d15544",
   "metadata": {
    "scrolled": true
   },
   "outputs": [
    {
     "data": {
      "text/plain": [
       "<AxesSubplot:>"
      ]
     },
     "execution_count": 50,
     "metadata": {},
     "output_type": "execute_result"
    },
    {
     "data": {
      "image/png": "[encoded data removed]",
      "text/plain": [
       "<Figure size 432x288 with 1 Axes>"
      ]
     },
     "metadata": {
      "needs_background": "light"
     },
     "output_type": "display_data"
    }
   ],
   "source": [
    "#Plot final forecast \n",
    "pd.concat([Russia_df1['co2 Russia'],Russia_ARIMA_forecast_df],axis=1).plot()"
   ]
  },
  {
   "cell_type": "markdown",
   "id": "ed6beb76",
   "metadata": {},
   "source": [
    "# Japan ARIMA Model"
   ]
  },
  {
   "cell_type": "code",
   "execution_count": 59,
   "id": "e077f8b2",
   "metadata": {},
   "outputs": [
    {
     "name": "stdout",
     "output_type": "stream",
     "text": [
      "Performing stepwise search to minimize aic\n",
      " ARIMA(0,2,0)(0,0,0)[0]             : AIC=629.817, Time=0.01 sec\n",
      " ARIMA(1,2,0)(0,0,0)[0]             : AIC=620.423, Time=0.02 sec\n",
      " ARIMA(0,2,1)(0,0,0)[0]             : AIC=611.519, Time=0.02 sec\n",
      " ARIMA(1,2,1)(0,0,0)[0]             : AIC=612.318, Time=0.03 sec\n",
      " ARIMA(0,2,2)(0,0,0)[0]             : AIC=612.537, Time=0.05 sec\n",
      " ARIMA(1,2,2)(0,0,0)[0]             : AIC=614.137, Time=0.05 sec\n",
      " ARIMA(0,2,1)(0,0,0)[0] intercept   : AIC=inf, Time=0.07 sec\n",
      "\n",
      "Best model:  ARIMA(0,2,1)(0,0,0)[0]          \n",
      "Total fit time: 0.256 seconds\n"
     ]
    }
   ],
   "source": [
    "# Create an ARIMA model\n",
    "# Specify if there is seasonality, the starting p and q order and test method to determine stationarity\n",
    "ARIMAmodelJapan = pm.auto_arima(Japan_df1['co2 Japan'], seasonal_test='ocsb',\n",
    "                      start_p=0, start_q=0, max_order=4, test='adf',error_action='ignore',  \n",
    "                           suppress_warnings=True,\n",
    "                      stepwise=True, trace=True)"
   ]
  },
  {
   "cell_type": "code",
   "execution_count": 60,
   "id": "4f17c635",
   "metadata": {},
   "outputs": [],
   "source": [
    "# Split dataframe into train and test sets\n",
    "ARIMA_Japan_train = Japan_df1[:ARIMA_train_size]\n",
    "ARIMA_Japan_test = Japan_df1[ARIMA_train_size:]\n"
   ]
  },
  {
   "cell_type": "code",
   "execution_count": 61,
   "id": "4acb1086",
   "metadata": {},
   "outputs": [],
   "source": [
    "# Fit training data into model\n",
    "ARIMAmodelJapan.fit(ARIMA_Japan_train['co2 Japan'])\n",
    "\n",
    "# Get predictions for the test \n",
    "ARIMApredictJapan = ARIMAmodelJapan.predict(n_periods=len(ARIMA_Japan_test), return_conf_int=True)"
   ]
  },
  {
   "cell_type": "code",
   "execution_count": 62,
   "id": "11240337",
   "metadata": {},
   "outputs": [
    {
     "name": "stdout",
     "output_type": "stream",
     "text": [
      "The RMSE is 124.67 & the MAPE is 6.58%\n"
     ]
    },
    {
     "data": {
      "image/png": "[encoded data removed]",
      "text/plain": [
       "<Figure size 432x288 with 1 Axes>"
      ]
     },
     "metadata": {
      "needs_background": "light"
     },
     "output_type": "display_data"
    }
   ],
   "source": [
    "# Make a dataframe and plot the predicted values against the actual co2 values\n",
    "Japan_ARIMA_predict_df = pd.DataFrame(ARIMApredictJapan[0],index = ARIMA_Japan_test.index,columns=['Prediction'])\n",
    "pd.concat([Japan_df1['co2 Japan'],Japan_ARIMA_predict_df],axis=1).plot()\n",
    "\n",
    "#Get the RMSE and MAPE comparing the predicted vs actual co2 values\n",
    "print(f\"The RMSE is {mse(ARIMApredictJapan[0], Japan_df1.loc['2002-01-01':,['co2 Japan']].values, squared=False):.2f} & the MAPE is {mape(ARIMApredictJapan[0], Japan_df1.loc['2002-01-01':,['co2 Japan']].values)*100:.2f}%\")"
   ]
  },
  {
   "cell_type": "code",
   "execution_count": 63,
   "id": "b0e8d748",
   "metadata": {},
   "outputs": [],
   "source": [
    "# Generate forecasts using the model, 20 years past the last test date (2021 - 2040)\n",
    "Japan_ARIMA_forecast= ARIMAmodelJapan.predict(n_periods=len(ARIMA_Japan_test)+20, return_conf_int=True)\n",
    "# Create a date range for 1993 - 2040\n",
    "Japan_ARIMA_forecast_range=pd.date_range(start='1993-01-01', periods=len(ARIMA_Japan_test)+20,freq='Y')\n",
    "\n",
    "#Combine forecast and date range to make a forecast df\n",
    "Japan_ARIMA_forecast_df = pd.DataFrame(Japan_ARIMA_forecast[0],columns=['Forecast'])\n"
   ]
  },
  {
   "cell_type": "code",
   "execution_count": 64,
   "id": "a3f1c1fe",
   "metadata": {
    "scrolled": true
   },
   "outputs": [
    {
     "data": {
      "text/plain": [
       "<AxesSubplot:>"
      ]
     },
     "execution_count": 64,
     "metadata": {},
     "output_type": "execute_result"
    },
    {
     "data": {
      "image/png": "[encoded data removed]",
      "text/plain": [
       "<Figure size 432x288 with 1 Axes>"
      ]
     },
     "metadata": {
      "needs_background": "light"
     },
     "output_type": "display_data"
    }
   ],
   "source": [
    "#Plot final forecast \n",
    "pd.concat([Japan_df1['co2 Japan'],Japan_ARIMA_forecast_df],axis=1).plot()"
   ]
  },
  {
   "cell_type": "markdown",
   "id": "bf554a64",
   "metadata": {},
   "source": [
    "# Germany ARIMA Model"
   ]
  },
  {
   "cell_type": "code",
   "execution_count": 66,
   "id": "a32aed85",
   "metadata": {},
   "outputs": [
    {
     "name": "stdout",
     "output_type": "stream",
     "text": [
      "Performing stepwise search to minimize aic\n",
      " ARIMA(0,1,0)(0,0,0)[0] intercept   : AIC=592.447, Time=0.52 sec\n",
      " ARIMA(1,1,0)(0,0,0)[0] intercept   : AIC=594.423, Time=0.03 sec\n",
      " ARIMA(0,1,1)(0,0,0)[0] intercept   : AIC=594.424, Time=0.04 sec\n",
      " ARIMA(0,1,0)(0,0,0)[0]             : AIC=590.896, Time=0.01 sec\n",
      " ARIMA(1,1,1)(0,0,0)[0] intercept   : AIC=596.297, Time=0.05 sec\n",
      "\n",
      "Best model:  ARIMA(0,1,0)(0,0,0)[0]          \n",
      "Total fit time: 0.670 seconds\n"
     ]
    }
   ],
   "source": [
    "# Create an ARIMA model\n",
    "# Specify if there is seasonality, the starting p and q order and test method to determine stationarity\n",
    "ARIMAmodelGermany = pm.auto_arima(Germany_df1['co2 Germany'], seasonal_test='ocsb',\n",
    "                      start_p=0, start_q=0, max_order=4, test='adf',error_action='ignore',  \n",
    "                           suppress_warnings=True,\n",
    "                      stepwise=True, trace=True)"
   ]
  },
  {
   "cell_type": "code",
   "execution_count": 67,
   "id": "40fda520",
   "metadata": {},
   "outputs": [],
   "source": [
    "# Split dataframe into train and test sets\n",
    "ARIMA_Germany_train = Germany_df1[:ARIMA_train_size]\n",
    "ARIMA_Germany_test = Germany_df1[ARIMA_train_size:]\n"
   ]
  },
  {
   "cell_type": "code",
   "execution_count": 68,
   "id": "74508596",
   "metadata": {},
   "outputs": [],
   "source": [
    "# Fit training data into model\n",
    "ARIMAmodelGermany.fit(ARIMA_Germany_train['co2 Germany'])\n",
    "\n",
    "# Get predictions for the test \n",
    "ARIMApredictGermany = ARIMAmodelGermany.predict(n_periods=len(ARIMA_Germany_test), return_conf_int=True)"
   ]
  },
  {
   "cell_type": "code",
   "execution_count": 69,
   "id": "547b5b1a",
   "metadata": {},
   "outputs": [
    {
     "name": "stdout",
     "output_type": "stream",
     "text": [
      "The RMSE is 118.99 & the MAPE is 10.99%\n"
     ]
    },
    {
     "data": {
      "image/png": "[encoded data removed]",
      "text/plain": [
       "<Figure size 432x288 with 1 Axes>"
      ]
     },
     "metadata": {
      "needs_background": "light"
     },
     "output_type": "display_data"
    }
   ],
   "source": [
    "# Make a dataframe and plot the predicted values against the actual co2 values\n",
    "Germany_ARIMA_predict_df = pd.DataFrame(ARIMApredictGermany[0],index = ARIMA_Germany_test.index,columns=['Prediction'])\n",
    "pd.concat([Germany_df1['co2 Germany'],Germany_ARIMA_predict_df],axis=1).plot()\n",
    "\n",
    "#Get the RMSE and MAPE comparing the predicted vs actual co2 values\n",
    "print(f\"The RMSE is {mse(ARIMApredictGermany[0], Germany_df1.loc['2002-01-01':,['co2 Germany']].values, squared=False):.2f} & the MAPE is {mape(ARIMApredictGermany[0], Germany_df1.loc['2002-01-01':,['co2 Germany']].values)*100:.2f}%\")"
   ]
  },
  {
   "cell_type": "code",
   "execution_count": 70,
   "id": "cb417d6c",
   "metadata": {},
   "outputs": [],
   "source": [
    "# Generate forecasts using the model, 20 years past the last test date (2021 - 2040)\n",
    "Germany_ARIMA_forecast= ARIMAmodelGermany.predict(n_periods=len(ARIMA_Germany_test)+20, return_conf_int=True)\n",
    "# Create a date range for 1993 - 2040\n",
    "Germany_ARIMA_forecast_range=pd.date_range(start='1993-01-01', periods=len(ARIMA_Germany_test)+20,freq='Y')\n",
    "\n",
    "#Combine forecast and date range to make a forecast df\n",
    "Germany_ARIMA_forecast_df = pd.DataFrame(Germany_ARIMA_forecast[0],columns=['Forecast'])\n"
   ]
  },
  {
   "cell_type": "code",
   "execution_count": 72,
   "id": "1c40f73b",
   "metadata": {
    "scrolled": true
   },
   "outputs": [
    {
     "data": {
      "text/plain": [
       "<AxesSubplot:>"
      ]
     },
     "execution_count": 72,
     "metadata": {},
     "output_type": "execute_result"
    },
    {
     "data": {
      "image/png": "[encoded data removed]",
      "text/plain": [
       "<Figure size 432x288 with 1 Axes>"
      ]
     },
     "metadata": {
      "needs_background": "light"
     },
     "output_type": "display_data"
    }
   ],
   "source": [
    "#Plot final forecast \n",
    "pd.concat([Germany_df1['co2 Germany'],Germany_ARIMA_forecast_df],axis=1).plot()"
   ]
  },
  {
   "cell_type": "code",
   "execution_count": null,
   "id": "f81bfa19",
   "metadata": {},
   "outputs": [],
   "source": []
  }
 ],
 "metadata": {
  "kernelspec": {
   "display_name": "Python 3 (ipykernel)",
   "language": "python",
   "name": "python3"
  },
  "language_info": {
   "codemirror_mode": {
    "name": "ipython",
    "version": 3
   },
   "file_extension": ".py",
   "mimetype": "text/x-python",
   "name": "python",
   "nbconvert_exporter": "python",
   "pygments_lexer": "ipython3",
   "version": "3.9.7"
  }
 },
 "nbformat": 4,
 "nbformat_minor": 5
}
