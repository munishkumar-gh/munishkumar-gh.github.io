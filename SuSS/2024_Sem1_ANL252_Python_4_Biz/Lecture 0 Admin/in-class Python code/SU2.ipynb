{
 "cells": [
  {
   "cell_type": "code",
   "execution_count": 1,
   "id": "e99166e7",
   "metadata": {
    "scrolled": true
   },
   "outputs": [
    {
     "name": "stdout",
     "output_type": "stream",
     "text": [
      "Enter the first integer: 30\n",
      "Enter the second integer: 2\n",
      "Addition: 32\n",
      "Subtraction: 28\n",
      "Multiplication: 60\n",
      "Division: 15.0\n"
     ]
    }
   ],
   "source": [
    "def add(x, y):\n",
    "    return x + y\n",
    "\n",
    "def subtract(x, y):\n",
    "    return x - y\n",
    "\n",
    "def multiply(x, y):\n",
    "    return x * y\n",
    "\n",
    "def divide(x, y):\n",
    "    if y != 0:\n",
    "        return x / y\n",
    "    else:\n",
    "        return \"Cannot divide by zero.\"\n",
    "\n",
    "\n",
    "num1 = int(input(\"Enter the first integer: \"))\n",
    "num2 = int(input(\"Enter the second integer: \"))\n",
    "\n",
    "result_add = add(num1, num2)\n",
    "print(f\"Addition: {result_add}\")\n",
    "\n",
    "result_subtract = subtract(num1, num2)\n",
    "print(f\"Subtraction: {result_subtract}\")\n",
    "\n",
    "result_multiply = multiply(num1, num2)\n",
    "print(f\"Multiplication: {result_multiply}\")\n",
    "\n",
    "if num2 != 0:\n",
    "    result_divide = divide(num1, num2)\n",
    "else:\n",
    "    result_divide = \"Cannot divide by zero.\"\n",
    "print(f\"Division: {result_divide}\")"
   ]
  },
  {
   "cell_type": "code",
   "execution_count": null,
   "id": "766f4d6f",
   "metadata": {},
   "outputs": [],
   "source": []
  }
 ],
 "metadata": {
  "kernelspec": {
   "display_name": "Python 3 (ipykernel)",
   "language": "python",
   "name": "python3"
  },
  "language_info": {
   "codemirror_mode": {
    "name": "ipython",
    "version": 3
   },
   "file_extension": ".py",
   "mimetype": "text/x-python",
   "name": "python",
   "nbconvert_exporter": "python",
   "pygments_lexer": "ipython3",
   "version": "3.9.13"
  }
 },
 "nbformat": 4,
 "nbformat_minor": 5
}
