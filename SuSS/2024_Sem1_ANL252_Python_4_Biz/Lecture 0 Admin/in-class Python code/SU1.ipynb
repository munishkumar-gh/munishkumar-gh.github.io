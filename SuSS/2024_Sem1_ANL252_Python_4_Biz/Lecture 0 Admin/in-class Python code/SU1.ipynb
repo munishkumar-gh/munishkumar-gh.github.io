{
 "cells": [
  {
   "cell_type": "markdown",
   "id": "386042d5",
   "metadata": {},
   "source": [
    "### Car Sales"
   ]
  },
  {
   "cell_type": "markdown",
   "id": "06d9713c",
   "metadata": {},
   "source": [
    "##### Code 1"
   ]
  },
  {
   "cell_type": "code",
   "execution_count": 1,
   "id": "63799624",
   "metadata": {},
   "outputs": [
    {
     "name": "stdout",
     "output_type": "stream",
     "text": [
      "What is the brand of your car? Honda\n",
      "What is the model of your car? z980\n",
      "What is the price of your car? 5000\n",
      "The price of Honda z980 is 5000.\n"
     ]
    }
   ],
   "source": [
    "brand = input(\"What is the brand of your car? \")\n",
    "model = input(\"What is the model of your car? \")\n",
    "price = input(\"What is the price of your car? \")\n",
    "print(f\"The price of {brand} {model} is {price}.\")"
   ]
  },
  {
   "cell_type": "markdown",
   "id": "09302a47",
   "metadata": {},
   "source": [
    "##### Code 2"
   ]
  },
  {
   "cell_type": "code",
   "execution_count": 1,
   "id": "589fb8aa",
   "metadata": {
    "scrolled": true
   },
   "outputs": [
    {
     "name": "stdout",
     "output_type": "stream",
     "text": [
      "What is the brand of your car? Daikin\n",
      "What is the model of your car? K98G7\n",
      "What is the price of your car? 3500\n",
      "Would you like to enter the same information for a second car? yes\n",
      "What is the brand of your car? Sanrio\n",
      "What is the model of your car? K1\n",
      "What is the price of your car? 3000\n",
      "The price of Sanrio K1 is 3000.\n"
     ]
    }
   ],
   "source": [
    "brand = input(\"What is the brand of your car? \")\n",
    "model = input(\"What is the model of your car? \")\n",
    "price = input(\"What is the price of your car? \")\n",
    "query = input(\"Would you like to enter the same information for a second car? \")\n",
    "if query == 'yes':\n",
    "    brand1 = input(\"What is the brand of your car? \")\n",
    "    model1 = input(\"What is the model of your car? \")\n",
    "    price1 = input(\"What is the price of your car? \")\n",
    "    print(f\"The price of {brand1} {model1} is {price1}.\")\n",
    "elif query == 'no':\n",
    "    print(f\"The price of {brand} {model} is {price}.\")"
   ]
  },
  {
   "cell_type": "markdown",
   "id": "7d851c73",
   "metadata": {},
   "source": [
    "##### Code 3"
   ]
  },
  {
   "cell_type": "code",
   "execution_count": 1,
   "id": "a5459688",
   "metadata": {
    "scrolled": false
   },
   "outputs": [
    {
     "name": "stdout",
     "output_type": "stream",
     "text": [
      "What is the brand of your car? Honda\n",
      "What is the model of your car? Civic\n",
      "What is the price of your car? 10000\n",
      "The price of Honda Civic is 10000.\n",
      "Would you like to enter the same information for a second car? (yes/no/later) later\n",
      "Sure, you may enter the information in the future.Byebye!\n"
     ]
    }
   ],
   "source": [
    "query = 'yes'\n",
    "while query == 'yes':\n",
    "    brand = input(\"What is the brand of your car? \")\n",
    "    model = input(\"What is the model of your car? \")\n",
    "    try:\n",
    "        price = int(input(\"What is the price of your car? \"))\n",
    "    except ValueError:\n",
    "        print(\"Your input is not numeric. Please try again.\")\n",
    "    print(f\"The price of {brand} {model} is {price}.\")\n",
    "    #this is where we ask the user if s/he wants to continue\n",
    "    query = input(\"Would you like to enter the same information for a second car? (yes/no/later) \")\n",
    "    if query == 'no':\n",
    "        print(f\"Have a nice day.\")\n",
    "    elif query == 'later':\n",
    "        print(f\"Sure, you may enter the information in the future.Byebye!\")"
   ]
  },
  {
   "cell_type": "code",
   "execution_count": null,
   "id": "2bb37eb1",
   "metadata": {},
   "outputs": [],
   "source": []
  }
 ],
 "metadata": {
  "kernelspec": {
   "display_name": "Python 3 (ipykernel)",
   "language": "python",
   "name": "python3"
  },
  "language_info": {
   "codemirror_mode": {
    "name": "ipython",
    "version": 3
   },
   "file_extension": ".py",
   "mimetype": "text/x-python",
   "name": "python",
   "nbconvert_exporter": "python",
   "pygments_lexer": "ipython3",
   "version": "3.9.13"
  }
 },
 "nbformat": 4,
 "nbformat_minor": 5
}
