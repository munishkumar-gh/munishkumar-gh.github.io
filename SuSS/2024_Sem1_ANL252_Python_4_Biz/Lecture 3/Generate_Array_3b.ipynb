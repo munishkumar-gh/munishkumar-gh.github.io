{
 "cells": [
  {
   "cell_type": "markdown",
   "id": "c99b36bc",
   "metadata": {},
   "source": [
    "# Random sampling program:\n",
    "\n",
    "##### Generate a 10 x 10 array which contains 100 random numbers from the normally distributed population with mean 0 and variance 1.\n"
   ]
  },
  {
   "cell_type": "code",
   "execution_count": 1,
   "id": "cb829d45",
   "metadata": {},
   "outputs": [],
   "source": [
    "import numpy as np"
   ]
  },
  {
   "cell_type": "markdown",
   "id": "d5bc90ae",
   "metadata": {},
   "source": [
    "##### Generate Random numbers with mu = 0 and sigma = 1"
   ]
  },
  {
   "cell_type": "code",
   "execution_count": 2,
   "id": "3362d6bc",
   "metadata": {},
   "outputs": [
    {
     "name": "stdout",
     "output_type": "stream",
     "text": [
      "[-0.05957099 -0.93522212 -0.41809334 -0.46750161 -0.31954943]\n"
     ]
    }
   ],
   "source": [
    "# random.normal(loc=0.0, scale=1.0, size=None)\n",
    "# 1. loc = mean\n",
    "# 2. scale = standard deviation = sq root of variance\n",
    "# 3. Size = Output shape. If the given shape is, e.g., (m, n, k), \n",
    "#           then m * n * k samples are drawn.\n",
    "\n",
    "random_array = np.random.normal(0.0, 1.0, 5)\n",
    "print(random_array)"
   ]
  },
  {
   "cell_type": "code",
   "execution_count": 3,
   "id": "7fefa8ce",
   "metadata": {
    "scrolled": false
   },
   "outputs": [
    {
     "name": "stdout",
     "output_type": "stream",
     "text": [
      "Array Generated:\n",
      "[[ 0.61105403  0.38466881  1.42788487  1.77259195  1.13860726 -2.24204073\n",
      "  -0.67152532 -0.64380599  0.03707     0.58687989]\n",
      " [ 1.06201137  0.86220928  0.13458807 -0.8530005   0.94373255  0.94413774\n",
      "   0.80337748  0.39372239  0.75984693  0.9981662 ]\n",
      " [ 0.32372152  0.48788028 -0.59076041  0.08194323  0.60107596 -0.99840798\n",
      "   0.31884287 -0.15089208 -0.06432409  0.07419028]\n",
      " [ 0.35107247 -0.4284562   1.25795066 -0.98868813 -0.18538932 -0.586334\n",
      "   0.52280958  0.71594927  0.29487767 -0.62395929]\n",
      " [ 0.5215861   1.01032708 -2.33882104  1.43545676  0.49677164  0.1618487\n",
      "   0.82672598  0.17417168 -1.48539643 -0.6010026 ]\n",
      " [-1.33270017 -0.08749824 -0.21501598  0.4205877   1.13482433 -0.22824471\n",
      "  -1.06693788 -0.4641071  -1.19533598 -1.40373901]\n",
      " [ 0.80016779  0.35743837 -0.1097081  -0.05476838  0.51274493 -1.70352952\n",
      "  -0.39535187  1.52158998  2.60720182 -0.79335854]\n",
      " [-0.54097829 -0.66152629 -1.96704987 -0.01111496 -0.94075192 -0.49026352\n",
      "   0.27234027 -1.44567643 -0.70337693  0.32202605]\n",
      " [-0.95813708  0.95131748 -2.51152937  0.64281037  0.51644849  1.32074709\n",
      "  -0.90242768 -1.47987464 -1.63750178  0.13272118]\n",
      " [ 1.47960927 -0.36965752  0.07747371 -0.81213962 -2.19504436 -0.65933127\n",
      "  -0.91529329  0.64122952 -1.20596402  0.31268709]]\n"
     ]
    }
   ],
   "source": [
    "random_array = np.random.normal(0.0, 1.0, size = (10,10))\n",
    "print(f\"Array Generated:\\n{random_array}\")"
   ]
  },
  {
   "cell_type": "markdown",
   "id": "3ca5132b",
   "metadata": {},
   "source": [
    "##### Compute the mean, median and mode of each array column as well as the entire array."
   ]
  },
  {
   "cell_type": "code",
   "execution_count": 4,
   "id": "531d137b",
   "metadata": {},
   "outputs": [
    {
     "name": "stdout",
     "output_type": "stream",
     "text": [
      "Column Mean:\n",
      "[ 0.2317407   0.2506703  -0.48349875  0.16336784  0.20230196 -0.44814182\n",
      " -0.12074399 -0.07376934 -0.25929028 -0.09953888]\n",
      "Column Median:\n",
      "[ 0.43632929  0.37105359 -0.16236204  0.03541413  0.51459671 -0.53829876\n",
      " -0.0615058   0.0116398  -0.38385051  0.10345573]\n"
     ]
    }
   ],
   "source": [
    "# Mean, Median and Mode Array Column\n",
    "# axis = 0 for column \n",
    "# axis = 1 for row \n",
    "\n",
    "column_mean = np.mean(random_array, axis = 0)\n",
    "print (f\"Column Mean:\\n{column_mean}\")\n",
    "\n",
    "column_median = np.median(random_array, axis = 0)\n",
    "print (f\"Column Median:\\n{column_median}\")"
   ]
  },
  {
   "cell_type": "code",
   "execution_count": 5,
   "id": "a0b4687d",
   "metadata": {},
   "outputs": [
    {
     "name": "stdout",
     "output_type": "stream",
     "text": [
      "Column mode:\n",
      "ModeResult(mode=array([[-1.33270017, -0.66152629, -2.51152937, -0.98868813, -2.19504436,\n",
      "        -2.24204073, -1.06693788, -1.47987464, -1.63750178, -1.40373901]]), count=array([[1, 1, 1, 1, 1, 1, 1, 1, 1, 1]]))\n"
     ]
    }
   ],
   "source": [
    "# There is no in-built function for finding mode using any numpy function.\n",
    "from scipy import stats\n",
    "\n",
    "column_mode = stats.mode(random_array, axis = 0)\n",
    "print (f\"Column mode:\\n{column_mode}\")"
   ]
  },
  {
   "cell_type": "markdown",
   "id": "5357c5cb",
   "metadata": {},
   "source": [
    "The above output is very interesting. There is no real mode. So the least value is considered as the mode and the count of each mode is 1"
   ]
  },
  {
   "cell_type": "markdown",
   "id": "3a1f45a8",
   "metadata": {},
   "source": [
    "##### Now we compute for the entire array"
   ]
  },
  {
   "cell_type": "code",
   "execution_count": 6,
   "id": "2acbd567",
   "metadata": {},
   "outputs": [
    {
     "name": "stdout",
     "output_type": "stream",
     "text": [
      "All Mean:\n",
      "-0.0636902244424134\n"
     ]
    }
   ],
   "source": [
    "All_mean = np.mean(random_array, axis = None)\n",
    "print (f\"All Mean:\\n{All_mean}\")"
   ]
  },
  {
   "cell_type": "code",
   "execution_count": 7,
   "id": "6f41dbd2",
   "metadata": {},
   "outputs": [
    {
     "name": "stdout",
     "output_type": "stream",
     "text": [
      "All Median:\n",
      "0.0758319951198348\n"
     ]
    }
   ],
   "source": [
    "All_median = np.median(random_array, axis = None)\n",
    "print (f\"All Median:\\n{All_median}\")"
   ]
  },
  {
   "cell_type": "code",
   "execution_count": 8,
   "id": "4e564d28",
   "metadata": {},
   "outputs": [
    {
     "name": "stdout",
     "output_type": "stream",
     "text": [
      "All mode:\n",
      "ModeResult(mode=array([-2.51152937]), count=array([1]))\n"
     ]
    }
   ],
   "source": [
    "All_mode = stats.mode(random_array, axis = None)\n",
    "print (f\"All mode:\\n{All_mode}\")"
   ]
  },
  {
   "cell_type": "markdown",
   "id": "ff05ce5b",
   "metadata": {},
   "source": [
    "##### Select those numbers from the array within the interval [-0.5, 0.5] and store those numbers in a one-dimensional array. \n"
   ]
  },
  {
   "cell_type": "code",
   "execution_count": 9,
   "id": "8f3e97ea",
   "metadata": {},
   "outputs": [
    {
     "name": "stdout",
     "output_type": "stream",
     "text": [
      "All mode:\n",
      "[[ 0.32372152  0.48788028 -0.59076041  0.08194323  0.60107596 -0.99840798\n",
      "   0.31884287 -0.15089208 -0.06432409  0.07419028]\n",
      " [ 0.35107247 -0.4284562   1.25795066 -0.98868813 -0.18538932 -0.586334\n",
      "   0.52280958  0.71594927  0.29487767 -0.62395929]]\n"
     ]
    }
   ],
   "source": [
    " # Column mask\n",
    "mask_col = (random_array[:,0]>=-0.5) & (random_array[:,0]<=0.5)\n",
    "result_new = random_array[mask_col]\n",
    "print(f\"All mode:\\n{result_new}\")"
   ]
  },
  {
   "cell_type": "markdown",
   "id": "0bc75ecc",
   "metadata": {},
   "source": [
    "\n",
    "Determine the size of the resulting array."
   ]
  },
  {
   "cell_type": "code",
   "execution_count": 10,
   "id": "2fe61b14",
   "metadata": {},
   "outputs": [
    {
     "name": "stdout",
     "output_type": "stream",
     "text": [
      "Size of array:\n",
      "20\n",
      "Shape of array:\n",
      "(2, 10)\n"
     ]
    }
   ],
   "source": [
    "# Size returns the count of all the elements\n",
    "print(f\"Size of array:\\n{result_new.size}\")\n",
    "\n",
    "# Shape returns the number of dimensions (rows) followed by elements (cols)\n",
    "print(f\"Shape of array:\\n{result_new.shape}\")"
   ]
  }
 ],
 "metadata": {
  "kernelspec": {
   "display_name": "Python 3 (ipykernel)",
   "language": "python",
   "name": "python3"
  },
  "language_info": {
   "codemirror_mode": {
    "name": "ipython",
    "version": 3
   },
   "file_extension": ".py",
   "mimetype": "text/x-python",
   "name": "python",
   "nbconvert_exporter": "python",
   "pygments_lexer": "ipython3",
   "version": "3.8.13"
  }
 },
 "nbformat": 4,
 "nbformat_minor": 5
}
