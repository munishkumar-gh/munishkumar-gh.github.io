{
 "cells": [
  {
   "cell_type": "markdown",
   "id": "50e68a90",
   "metadata": {},
   "source": [
    "# Seminar 1"
   ]
  },
  {
   "cell_type": "markdown",
   "id": "daa14774",
   "metadata": {},
   "source": [
    "Start JupyterLab, open a new notebook and carry out the following tasks:\n",
    "\n",
    "Carry out simple calculations such as 2 * (3 – 1.5^2)."
   ]
  },
  {
   "cell_type": "code",
   "execution_count": null,
   "id": "8f864b66",
   "metadata": {},
   "outputs": [],
   "source": [
    "2*(3-1.5**2)"
   ]
  },
  {
   "cell_type": "markdown",
   "id": "07a57a21",
   "metadata": {},
   "source": [
    "Print the result of the calculation using formatted printing in another cell."
   ]
  },
  {
   "cell_type": "code",
   "execution_count": null,
   "id": "5d27d933",
   "metadata": {},
   "outputs": [],
   "source": [
    "x = 2*(3-1.5**2)"
   ]
  },
  {
   "cell_type": "code",
   "execution_count": null,
   "id": "0663ec5f",
   "metadata": {},
   "outputs": [],
   "source": [
    "print(f\"\\nThe following is the result:\\n{x}\\n\")"
   ]
  },
  {
   "cell_type": "markdown",
   "id": "77f3f9f9",
   "metadata": {},
   "source": [
    "Insert a markdown cell before the cell of step 1 and describe the calculation to be carried out."
   ]
  },
  {
   "cell_type": "markdown",
   "id": "e9aaebb7",
   "metadata": {},
   "source": [
    "Re-run all cells."
   ]
  },
  {
   "cell_type": "markdown",
   "id": "9e5765d2",
   "metadata": {},
   "source": [
    "Save the notebook on the computer."
   ]
  }
 ],
 "metadata": {
  "kernelspec": {
   "display_name": "Python 3 (ipykernel)",
   "language": "python",
   "name": "python3"
  },
  "language_info": {
   "codemirror_mode": {
    "name": "ipython",
    "version": 3
   },
   "file_extension": ".py",
   "mimetype": "text/x-python",
   "name": "python",
   "nbconvert_exporter": "python",
   "pygments_lexer": "ipython3",
   "version": "3.8.13"
  }
 },
 "nbformat": 4,
 "nbformat_minor": 5
}
