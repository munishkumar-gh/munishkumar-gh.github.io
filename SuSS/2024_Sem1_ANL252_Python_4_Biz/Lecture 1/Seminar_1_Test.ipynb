{
 "cells": [
  {
   "cell_type": "markdown",
   "id": "b9ec940a",
   "metadata": {},
   "source": [
    "## Car sales program:\n",
    "## Create a program in which the user is asked to enter the brand, model and\n",
    "## selling price of a car. Print the information in one print() command\n",
    "## subsequently using formatting printing."
   ]
  },
  {
   "cell_type": "code",
   "execution_count": null,
   "id": "5cb89264",
   "metadata": {},
   "outputs": [],
   "source": [
    "input_brand = str(input(\"Please enter car brand:\"))\n",
    "input_model = str(input(\"Please enter car brand:\"))\n",
    "input_prince = int(input(\"Please enter car brand:$\"))"
   ]
  },
  {
   "cell_type": "code",
   "execution_count": null,
   "id": "2c3c99b6",
   "metadata": {},
   "outputs": [],
   "source": [
    "input_brand"
   ]
  },
  {
   "cell_type": "code",
   "execution_count": null,
   "id": "5f4c09b9",
   "metadata": {},
   "outputs": [],
   "source": [
    "input_model"
   ]
  },
  {
   "cell_type": "code",
   "execution_count": null,
   "id": "7acd8771",
   "metadata": {},
   "outputs": [],
   "source": [
    "input_prince"
   ]
  },
  {
   "cell_type": "code",
   "execution_count": null,
   "id": "92fb7c5f",
   "metadata": {},
   "outputs": [],
   "source": [
    "print(f\"The brand of the car is {input_brand}\")\n",
    "print(f\"The model of the car is {input_model}\")\n",
    "print(input_prince)"
   ]
  },
  {
   "cell_type": "code",
   "execution_count": null,
   "id": "df2009db",
   "metadata": {},
   "outputs": [],
   "source": [
    "print(f\"THe brand, model and price of the car is {input_brand} {input_model} {input_prince}\")"
   ]
  },
  {
   "cell_type": "code",
   "execution_count": null,
   "id": "afa4d7f6",
   "metadata": {},
   "outputs": [],
   "source": [
    "a = 10\n",
    "b = 10\n"
   ]
  },
  {
   "cell_type": "code",
   "execution_count": null,
   "id": "a06f55b1",
   "metadata": {},
   "outputs": [],
   "source": [
    "a>0"
   ]
  },
  {
   "cell_type": "code",
   "execution_count": null,
   "id": "551641c3",
   "metadata": {},
   "outputs": [],
   "source": [
    "if True and False:\n",
    "    XXXXX\n",
    "    "
   ]
  },
  {
   "cell_type": "code",
   "execution_count": null,
   "id": "3e556da8",
   "metadata": {},
   "outputs": [],
   "source": [
    "1 == 2"
   ]
  },
  {
   "cell_type": "code",
   "execution_count": null,
   "id": "9db3c934",
   "metadata": {},
   "outputs": [],
   "source": [
    "a != b"
   ]
  },
  {
   "cell_type": "code",
   "execution_count": null,
   "id": "8375851a",
   "metadata": {},
   "outputs": [],
   "source": [
    "if a < b:\n",
    "    print(True)\n",
    "else:\n",
    "    print(\"wrong\")"
   ]
  },
  {
   "cell_type": "code",
   "execution_count": 2,
   "id": "ffadafbd",
   "metadata": {},
   "outputs": [],
   "source": [
    "i = 1"
   ]
  },
  {
   "cell_type": "code",
   "execution_count": 3,
   "id": "237f0ed5",
   "metadata": {},
   "outputs": [
    {
     "name": "stdout",
     "output_type": "stream",
     "text": [
      "1\n",
      "2\n",
      "3\n",
      "4\n",
      "5\n",
      "6\n"
     ]
    }
   ],
   "source": [
    "while i <=6:\n",
    "    print(i)\n",
    "    i = i + 1"
   ]
  },
  {
   "cell_type": "code",
   "execution_count": 4,
   "id": "5dff1457",
   "metadata": {},
   "outputs": [],
   "source": [
    "i = 1"
   ]
  },
  {
   "cell_type": "code",
   "execution_count": 14,
   "id": "86778396",
   "metadata": {},
   "outputs": [
    {
     "name": "stdout",
     "output_type": "stream",
     "text": [
      "0\n",
      "3\n"
     ]
    }
   ],
   "source": [
    "for i in range(0, 6, 3):\n",
    "    print(i)"
   ]
  },
  {
   "cell_type": "code",
   "execution_count": 6,
   "id": "6c1e254c",
   "metadata": {},
   "outputs": [
    {
     "data": {
      "text/plain": [
       "range(0, 6)"
      ]
     },
     "execution_count": 6,
     "metadata": {},
     "output_type": "execute_result"
    }
   ],
   "source": []
  },
  {
   "cell_type": "code",
   "execution_count": null,
   "id": "836a9099",
   "metadata": {},
   "outputs": [],
   "source": []
  }
 ],
 "metadata": {
  "kernelspec": {
   "display_name": "Python 3 (ipykernel)",
   "language": "python",
   "name": "python3"
  },
  "language_info": {
   "codemirror_mode": {
    "name": "ipython",
    "version": 3
   },
   "file_extension": ".py",
   "mimetype": "text/x-python",
   "name": "python",
   "nbconvert_exporter": "python",
   "pygments_lexer": "ipython3",
   "version": "3.8.13"
  }
 },
 "nbformat": 4,
 "nbformat_minor": 5
}
