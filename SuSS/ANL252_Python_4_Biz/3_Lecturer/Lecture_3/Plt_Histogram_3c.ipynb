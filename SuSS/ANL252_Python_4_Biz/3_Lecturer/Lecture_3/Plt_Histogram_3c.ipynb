{
 "cells": [
  {
   "cell_type": "markdown",
   "id": "18b3c258",
   "metadata": {},
   "source": [
    "# Random sampling program:\n",
    "\n",
    "##### Generate a histogram of the 100 random numbers drawn in the previous Chapter. Provide a title as well as labels for both axes in the chart.\n"
   ]
  },
  {
   "cell_type": "code",
   "execution_count": 1,
   "id": "26839b34",
   "metadata": {},
   "outputs": [],
   "source": [
    "#!pip install ipynb"
   ]
  },
  {
   "cell_type": "code",
   "execution_count": 2,
   "id": "54850be4",
   "metadata": {},
   "outputs": [
    {
     "name": "stdout",
     "output_type": "stream",
     "text": [
      "[-0.16323303  0.45977622 -0.03056182 -0.29102617 -1.78619388]\n",
      "Array Generated:\n",
      "[[ 1.08537698e+00 -1.45336104e+00  7.94230409e-01 -6.27133223e-01\n",
      "  -5.50144826e-01  1.08712674e+00  8.88724026e-01  1.08421364e+00\n",
      "   1.18528931e+00  8.87041522e-01]\n",
      " [ 1.42454116e+00 -9.95783051e-01 -1.21169758e+00  8.80147507e-01\n",
      "   2.10794767e+00  1.37892128e+00  2.25611899e-01 -7.79867668e-01\n",
      "  -1.10247281e+00  3.60003834e-01]\n",
      " [ 1.44062264e-03  3.34226600e-01 -1.32438322e+00  1.45788088e+00\n",
      "  -8.84083369e-01  9.55171417e-01  1.21477324e+00 -1.03053958e-01\n",
      "  -5.22906547e-01 -8.79208141e-02]\n",
      " [ 1.35471383e+00  1.07357816e+00  1.15224270e-01  1.89702028e-01\n",
      "  -5.38852431e-02  2.09678757e-01 -4.59058723e-02 -7.43222507e-02\n",
      "  -1.54681294e-01  2.43045991e+00]\n",
      " [-1.38500730e-01 -4.81484096e-01 -9.54989001e-01  4.73229414e-01\n",
      "  -2.35457934e-01 -3.23433175e-01 -2.75057245e-01 -3.57063470e-01\n",
      "   1.79987409e+00 -6.85189135e-01]\n",
      " [ 1.81515716e-02 -7.92169460e-01  4.35805801e-01 -2.06508170e+00\n",
      "  -2.57736870e-01 -9.78055325e-01  6.17634351e-01 -4.92529858e-01\n",
      "   6.11714290e-01 -5.51603909e-02]\n",
      " [ 1.52168565e-01  3.94956396e-01 -8.72359098e-01  1.48901593e+00\n",
      "  -3.18846384e-01  9.72068436e-01 -2.24977125e-01 -4.51774010e-01\n",
      "   9.83919899e-01  1.51919107e+00]\n",
      " [ 1.21964679e+00 -4.75668455e-01 -2.24280670e-01 -2.80789664e-01\n",
      "  -9.03931102e-02  3.33561295e-02  6.30906457e-01  4.89549604e-01\n",
      "   1.04656909e+00 -1.81782929e+00]\n",
      " [ 1.46151158e+00  9.55252427e-01 -1.51967575e+00  1.25666140e+00\n",
      "   1.15048052e-01  1.79807485e+00  2.14963774e+00  8.26978751e-01\n",
      "  -2.61711605e-01 -9.59173180e-01]\n",
      " [ 3.15618155e-01 -1.30183035e-01 -2.52595751e-01 -1.05298765e+00\n",
      "   1.28715349e-01 -2.02503093e+00  1.02241636e+00 -6.45995038e-01\n",
      "   1.61480494e-01  2.98097906e-01]]\n",
      "Column Mean:\n",
      "[ 0.68946685 -0.15706356 -0.50147206  0.17206449 -0.00388367  0.31078782\n",
      "  0.62037638 -0.05038643  0.37470749  0.18895214]\n",
      "Column Median:\n",
      "[ 0.70049757 -0.30292574 -0.56247742  0.33146572 -0.16292552  0.58242509\n",
      "  0.6242704  -0.23005871  0.38659739  0.12146876]\n",
      "Column mode:\n",
      "ModeResult(mode=array([[-0.13850073, -1.45336104, -1.51967575, -2.0650817 , -0.88408337,\n",
      "        -2.02503093, -0.27505724, -0.77986767, -1.10247281, -1.81782929]]), count=array([[1, 1, 1, 1, 1, 1, 1, 1, 1, 1]]))\n",
      "All Mean:\n",
      "0.16435494709764878\n",
      "All Median:\n",
      "0.07420209060399181\n",
      "All mode:\n",
      "ModeResult(mode=array([-2.0650817]), count=array([1]))\n",
      "All mode:\n",
      "[[ 1.44062264e-03  3.34226600e-01 -1.32438322e+00  1.45788088e+00\n",
      "  -8.84083369e-01  9.55171417e-01  1.21477324e+00 -1.03053958e-01\n",
      "  -5.22906547e-01 -8.79208141e-02]\n",
      " [-1.38500730e-01 -4.81484096e-01 -9.54989001e-01  4.73229414e-01\n",
      "  -2.35457934e-01 -3.23433175e-01 -2.75057245e-01 -3.57063470e-01\n",
      "   1.79987409e+00 -6.85189135e-01]\n",
      " [ 1.81515716e-02 -7.92169460e-01  4.35805801e-01 -2.06508170e+00\n",
      "  -2.57736870e-01 -9.78055325e-01  6.17634351e-01 -4.92529858e-01\n",
      "   6.11714290e-01 -5.51603909e-02]\n",
      " [ 1.52168565e-01  3.94956396e-01 -8.72359098e-01  1.48901593e+00\n",
      "  -3.18846384e-01  9.72068436e-01 -2.24977125e-01 -4.51774010e-01\n",
      "   9.83919899e-01  1.51919107e+00]\n",
      " [ 3.15618155e-01 -1.30183035e-01 -2.52595751e-01 -1.05298765e+00\n",
      "   1.28715349e-01 -2.02503093e+00  1.02241636e+00 -6.45995038e-01\n",
      "   1.61480494e-01  2.98097906e-01]]\n",
      "Size of array:\n",
      "50\n",
      "Shape of array:\n",
      "(5, 10)\n"
     ]
    }
   ],
   "source": [
    "from ipynb.fs.full.Generate_Array_3b import *"
   ]
  },
  {
   "cell_type": "code",
   "execution_count": 3,
   "id": "2f20ba26",
   "metadata": {},
   "outputs": [
    {
     "name": "stdout",
     "output_type": "stream",
     "text": [
      "[[ 1.08537698e+00 -1.45336104e+00  7.94230409e-01 -6.27133223e-01\n",
      "  -5.50144826e-01  1.08712674e+00  8.88724026e-01  1.08421364e+00\n",
      "   1.18528931e+00  8.87041522e-01]\n",
      " [ 1.42454116e+00 -9.95783051e-01 -1.21169758e+00  8.80147507e-01\n",
      "   2.10794767e+00  1.37892128e+00  2.25611899e-01 -7.79867668e-01\n",
      "  -1.10247281e+00  3.60003834e-01]\n",
      " [ 1.44062264e-03  3.34226600e-01 -1.32438322e+00  1.45788088e+00\n",
      "  -8.84083369e-01  9.55171417e-01  1.21477324e+00 -1.03053958e-01\n",
      "  -5.22906547e-01 -8.79208141e-02]\n",
      " [ 1.35471383e+00  1.07357816e+00  1.15224270e-01  1.89702028e-01\n",
      "  -5.38852431e-02  2.09678757e-01 -4.59058723e-02 -7.43222507e-02\n",
      "  -1.54681294e-01  2.43045991e+00]\n",
      " [-1.38500730e-01 -4.81484096e-01 -9.54989001e-01  4.73229414e-01\n",
      "  -2.35457934e-01 -3.23433175e-01 -2.75057245e-01 -3.57063470e-01\n",
      "   1.79987409e+00 -6.85189135e-01]\n",
      " [ 1.81515716e-02 -7.92169460e-01  4.35805801e-01 -2.06508170e+00\n",
      "  -2.57736870e-01 -9.78055325e-01  6.17634351e-01 -4.92529858e-01\n",
      "   6.11714290e-01 -5.51603909e-02]\n",
      " [ 1.52168565e-01  3.94956396e-01 -8.72359098e-01  1.48901593e+00\n",
      "  -3.18846384e-01  9.72068436e-01 -2.24977125e-01 -4.51774010e-01\n",
      "   9.83919899e-01  1.51919107e+00]\n",
      " [ 1.21964679e+00 -4.75668455e-01 -2.24280670e-01 -2.80789664e-01\n",
      "  -9.03931102e-02  3.33561295e-02  6.30906457e-01  4.89549604e-01\n",
      "   1.04656909e+00 -1.81782929e+00]\n",
      " [ 1.46151158e+00  9.55252427e-01 -1.51967575e+00  1.25666140e+00\n",
      "   1.15048052e-01  1.79807485e+00  2.14963774e+00  8.26978751e-01\n",
      "  -2.61711605e-01 -9.59173180e-01]\n",
      " [ 3.15618155e-01 -1.30183035e-01 -2.52595751e-01 -1.05298765e+00\n",
      "   1.28715349e-01 -2.02503093e+00  1.02241636e+00 -6.45995038e-01\n",
      "   1.61480494e-01  2.98097906e-01]]\n"
     ]
    }
   ],
   "source": [
    "print(random_array)"
   ]
  },
  {
   "cell_type": "code",
   "execution_count": 4,
   "id": "43e2351e",
   "metadata": {},
   "outputs": [],
   "source": [
    "import matplotlib.pyplot as plt"
   ]
  },
  {
   "cell_type": "code",
   "execution_count": 7,
   "id": "3b3f7528",
   "metadata": {},
   "outputs": [
    {
     "data": {
      "text/plain": [
       "Text(0, 0.5, 'Frequency')"
      ]
     },
     "execution_count": 7,
     "metadata": {},
     "output_type": "execute_result"
    },
    {
     "data": {
      "image/png": "[encoded data removed]",
      "text/plain": [
       "<Figure size 432x288 with 1 Axes>"
      ]
     },
     "metadata": {
      "needs_background": "light"
     },
     "output_type": "display_data"
    }
   ],
   "source": [
    "fs = 20\n",
    "\n",
    "plt.hist(random_array, bins='auto')\n",
    "plt.title(\"Histogram with 'auto' bins\", fontsize = fs)\n",
    "plt.xlabel(\"Bins\", fontsize = fs)\n",
    "plt.ylabel(\"Frequency\", fontsize = fs)"
   ]
  }
 ],
 "metadata": {
  "kernelspec": {
   "display_name": "Python 3",
   "language": "python",
   "name": "python3"
  },
  "language_info": {
   "codemirror_mode": {
    "name": "ipython",
    "version": 3
   },
   "file_extension": ".py",
   "mimetype": "text/x-python",
   "name": "python",
   "nbconvert_exporter": "python",
   "pygments_lexer": "ipython3",
   "version": "3.7.10"
  }
 },
 "nbformat": 4,
 "nbformat_minor": 5
}
