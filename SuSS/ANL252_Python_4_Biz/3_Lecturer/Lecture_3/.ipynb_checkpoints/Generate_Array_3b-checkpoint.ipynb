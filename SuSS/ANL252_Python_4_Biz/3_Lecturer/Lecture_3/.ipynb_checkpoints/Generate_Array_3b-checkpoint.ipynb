{
 "cells": [
  {
   "cell_type": "markdown",
   "id": "c99b36bc",
   "metadata": {},
   "source": [
    "# Random sampling program:\n",
    "\n",
    "##### Generate a 10 x 10 array which contains 100 random numbers from the normally distributed population with mean 0 and variance 1.\n"
   ]
  },
  {
   "cell_type": "code",
   "execution_count": 1,
   "id": "cb829d45",
   "metadata": {},
   "outputs": [],
   "source": [
    "import numpy as np"
   ]
  },
  {
   "cell_type": "markdown",
   "id": "d5bc90ae",
   "metadata": {},
   "source": [
    "##### Generate Random numbers with mu = 0 and sigma = 1"
   ]
  },
  {
   "cell_type": "code",
   "execution_count": 2,
   "id": "3362d6bc",
   "metadata": {},
   "outputs": [
    {
     "name": "stdout",
     "output_type": "stream",
     "text": [
      "[-0.20532326 -0.91780283  0.65987355  1.7450397   0.07081224]\n"
     ]
    }
   ],
   "source": [
    "# random.normal(loc=0.0, scale=1.0, size=None)\n",
    "# 1. loc = mean\n",
    "# 2. scale = standard deviation = sq root of variance\n",
    "# 3. Size = Output shape. If the given shape is, e.g., (m, n, k), \n",
    "#           then m * n * k samples are drawn.\n",
    "\n",
    "random_array = np.random.normal(0.0, 1.0, 5)\n",
    "print(random_array)"
   ]
  },
  {
   "cell_type": "code",
   "execution_count": 3,
   "id": "7fefa8ce",
   "metadata": {},
   "outputs": [
    {
     "name": "stdout",
     "output_type": "stream",
     "text": [
      "Array Generated:\n",
      "[[ 1.70878319  0.06847375 -0.23869304  1.47199325 -2.07069637 -1.52485331\n",
      "  -0.71911093  0.49215072 -2.64100232 -0.19765141]\n",
      " [ 0.12594766  0.46807225  1.33522854 -0.2462855  -0.64532354  0.10210709\n",
      "  -1.56065857  0.62532628 -0.39240461  1.37315329]\n",
      " [ 0.04821622  1.1478359   1.92684231  0.61182414 -0.69896127  1.62543966\n",
      "  -0.88155672 -0.91175706  1.25762576 -0.96147008]\n",
      " [ 1.57314998 -1.25763539  0.08746501  0.09783802 -0.89919499 -0.75991612\n",
      "  -0.35392212 -1.52283235  0.13925201 -1.26337212]\n",
      " [ 1.796405   -1.33036352 -0.00663044 -0.40030334  2.07715273 -0.12003343\n",
      "  -0.58943443  0.41685453 -1.54457581 -0.34626197]\n",
      " [-0.28001996 -0.6081297   1.27679865  0.204787   -1.69136878  0.25164267\n",
      "   0.08751267 -0.10935702  0.15304267  0.29673571]\n",
      " [-0.61867634  1.32849059  0.59922523  1.00781333  0.11141988 -0.47931218\n",
      "  -2.30404497  1.23677828  0.8261149  -0.12234757]\n",
      " [ 0.5266239  -0.58439625  0.19982809  0.67575923  1.20515382  2.06314176\n",
      "  -0.99003356  0.72220286  0.48663337  2.22964649]\n",
      " [-0.06960194  0.27696893  0.18135212 -0.87976839  1.77913815 -1.42130432\n",
      "   1.33144475 -1.11489745  1.52903729 -0.72393893]\n",
      " [ 1.67697896 -2.45183374  0.04352274  1.10147077 -1.03600968  0.69905601\n",
      "  -1.883664    1.2436118  -0.91022082 -0.71616534]]\n"
     ]
    }
   ],
   "source": [
    "random_array = np.random.normal(0.0, 1.0, size = (10,10))\n",
    "print(f\"Array Generated:\\n{random_array}\")"
   ]
  },
  {
   "cell_type": "markdown",
   "id": "3ca5132b",
   "metadata": {},
   "source": [
    "##### Compute the mean, median and mode of each array column as well as the entire array."
   ]
  },
  {
   "cell_type": "code",
   "execution_count": 4,
   "id": "531d137b",
   "metadata": {},
   "outputs": [
    {
     "name": "stdout",
     "output_type": "stream",
     "text": [
      "Column Mean:\n",
      "[ 0.64878067 -0.29425172  0.54049392  0.36451285 -0.18686901  0.04359678\n",
      " -0.78634679  0.10780806 -0.10964976 -0.04316719]\n",
      "Column Median:\n",
      "[ 0.32628578 -0.25796125  0.19059011  0.40830557 -0.67214241 -0.00896317\n",
      " -0.80033383  0.45450262  0.14614734 -0.27195669]\n"
     ]
    }
   ],
   "source": [
    "# Mean, Median and Mode Array Column\n",
    "# axis = 0 for column \n",
    "# axis = 1 for row \n",
    "\n",
    "column_mean = np.mean(random_array, axis = 0)\n",
    "print (f\"Column Mean:\\n{column_mean}\")\n",
    "\n",
    "column_median = np.median(random_array, axis = 0)\n",
    "print (f\"Column Median:\\n{column_median}\")"
   ]
  },
  {
   "cell_type": "code",
   "execution_count": 5,
   "id": "a0b4687d",
   "metadata": {},
   "outputs": [
    {
     "name": "stdout",
     "output_type": "stream",
     "text": [
      "Column mode:\n",
      "ModeResult(mode=array([[-0.61867634, -2.45183374, -0.23869304, -0.87976839, -2.07069637,\n",
      "        -1.52485331, -2.30404497, -1.52283235, -2.64100232, -1.26337212]]), count=array([[1, 1, 1, 1, 1, 1, 1, 1, 1, 1]]))\n"
     ]
    }
   ],
   "source": [
    "# There is no in-built function for finding mode using any numpy function.\n",
    "from scipy import stats\n",
    "\n",
    "column_mode = stats.mode(random_array, axis = 0)\n",
    "print (f\"Column mode:\\n{column_mode}\")"
   ]
  },
  {
   "cell_type": "markdown",
   "id": "5357c5cb",
   "metadata": {},
   "source": [
    "The above output is very interesting. There is no real mode. So the least value is considered as the mode and the count of each mode is 1"
   ]
  },
  {
   "cell_type": "markdown",
   "id": "3a1f45a8",
   "metadata": {},
   "source": [
    "##### Now we compute for the entire array"
   ]
  },
  {
   "cell_type": "code",
   "execution_count": 6,
   "id": "2acbd567",
   "metadata": {},
   "outputs": [
    {
     "name": "stdout",
     "output_type": "stream",
     "text": [
      "All Mean:\n",
      "0.02849078186835876\n"
     ]
    }
   ],
   "source": [
    "All_mean = np.mean(random_array, axis = None)\n",
    "print (f\"All Mean:\\n{All_mean}\")"
   ]
  },
  {
   "cell_type": "code",
   "execution_count": 7,
   "id": "6f41dbd2",
   "metadata": {},
   "outputs": [
    {
     "name": "stdout",
     "output_type": "stream",
     "text": [
      "All Median:\n",
      "0.07796937916848384\n"
     ]
    }
   ],
   "source": [
    "All_median = np.median(random_array, axis = None)\n",
    "print (f\"All Median:\\n{All_median}\")"
   ]
  },
  {
   "cell_type": "code",
   "execution_count": 8,
   "id": "4e564d28",
   "metadata": {},
   "outputs": [
    {
     "name": "stdout",
     "output_type": "stream",
     "text": [
      "All mode:\n",
      "ModeResult(mode=array([-2.64100232]), count=array([1]))\n"
     ]
    }
   ],
   "source": [
    "All_mode = stats.mode(random_array, axis = None)\n",
    "print (f\"All mode:\\n{All_mode}\")"
   ]
  },
  {
   "cell_type": "markdown",
   "id": "ff05ce5b",
   "metadata": {},
   "source": [
    "##### Select those numbers from the array within the interval [-0.5, 0.5] and store those numbers in a one-dimensional array. \n"
   ]
  },
  {
   "cell_type": "code",
   "execution_count": 9,
   "id": "8f3e97ea",
   "metadata": {},
   "outputs": [
    {
     "name": "stdout",
     "output_type": "stream",
     "text": [
      "All mode:\n",
      "[[ 0.12594766  0.46807225  1.33522854 -0.2462855  -0.64532354  0.10210709\n",
      "  -1.56065857  0.62532628 -0.39240461  1.37315329]\n",
      " [ 0.04821622  1.1478359   1.92684231  0.61182414 -0.69896127  1.62543966\n",
      "  -0.88155672 -0.91175706  1.25762576 -0.96147008]\n",
      " [-0.28001996 -0.6081297   1.27679865  0.204787   -1.69136878  0.25164267\n",
      "   0.08751267 -0.10935702  0.15304267  0.29673571]\n",
      " [-0.06960194  0.27696893  0.18135212 -0.87976839  1.77913815 -1.42130432\n",
      "   1.33144475 -1.11489745  1.52903729 -0.72393893]]\n"
     ]
    }
   ],
   "source": [
    " # Column mask\n",
    "mask_col = (random_array[:,0]>=-0.5) & (random_array[:,0]<=0.5)\n",
    "result_new = random_array[mask_col]\n",
    "print(f\"All mode:\\n{result_new}\")"
   ]
  },
  {
   "cell_type": "markdown",
   "id": "0bc75ecc",
   "metadata": {},
   "source": [
    "\n",
    "Determine the size of the resulting array."
   ]
  },
  {
   "cell_type": "code",
   "execution_count": 10,
   "id": "2fe61b14",
   "metadata": {},
   "outputs": [
    {
     "name": "stdout",
     "output_type": "stream",
     "text": [
      "Size of array:\n",
      "40\n",
      "Shape of array:\n",
      "(4, 10)\n"
     ]
    }
   ],
   "source": [
    "# Size returns the count of all the elements\n",
    "print(f\"Size of array:\\n{result_new.size}\")\n",
    "\n",
    "# Shape returns the number of dimensions (rows) followed by elements (cols)\n",
    "print(f\"Shape of array:\\n{result_new.shape}\")"
   ]
  }
 ],
 "metadata": {
  "kernelspec": {
   "display_name": "Python 3",
   "language": "python",
   "name": "python3"
  },
  "language_info": {
   "codemirror_mode": {
    "name": "ipython",
    "version": 3
   },
   "file_extension": ".py",
   "mimetype": "text/x-python",
   "name": "python",
   "nbconvert_exporter": "python",
   "pygments_lexer": "ipython3",
   "version": "3.8.10"
  }
 },
 "nbformat": 4,
 "nbformat_minor": 5
}
