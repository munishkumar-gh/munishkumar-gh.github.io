{
 "cells": [
  {
   "cell_type": "markdown",
   "metadata": {},
   "source": [
    "# Random sampling program:\n",
    "\n",
    "##### Generate a 10 x 10 array which contains 100 random numbers from the normally distributed population with mean 0 and variance 1.\n"
   ]
  },
  {
   "cell_type": "code",
   "execution_count": 1,
   "metadata": {},
   "outputs": [],
   "source": [
    "import numpy as np"
   ]
  },
  {
   "cell_type": "markdown",
   "metadata": {},
   "source": [
    "##### Generate Random numbers with mu = 0 and sigma = 1"
   ]
  },
  {
   "cell_type": "code",
   "execution_count": 2,
   "metadata": {},
   "outputs": [
    {
     "name": "stdout",
     "output_type": "stream",
     "text": [
      "[-1.12092339  1.09109871  0.50259156  0.76607069  1.06753595]\n"
     ]
    }
   ],
   "source": [
    "# random.normal(loc=0.0, scale=1.0, size=None)\n",
    "# 1. loc = mean\n",
    "# 2. scale = standard deviation = sq root of variance\n",
    "# 3. Size = Output shape. If the given shape is, e.g., (m, n, k), \n",
    "#           then m * n * k samples are drawn.\n",
    "\n",
    "random_array = np.random.normal(0.0, 1.0, 5)\n",
    "print(random_array)"
   ]
  },
  {
   "cell_type": "code",
   "execution_count": 3,
   "metadata": {},
   "outputs": [
    {
     "name": "stdout",
     "output_type": "stream",
     "text": [
      "Array Generated:\n",
      "[[-0.95760689 -2.61445304 -1.28267911  0.46737843 -0.69148161  0.29207651\n",
      "  -0.72017692  1.35986335 -1.21196973 -0.49349021]\n",
      " [-1.25502845  0.3988768   0.08204601 -0.37678463 -0.69853977  2.48551281\n",
      "   0.56411881  1.15786962  0.2929103   0.28468654]\n",
      " [-0.15773894 -1.04269269  0.83021538 -1.90335474  0.62201136  0.14069472\n",
      "   1.21556757 -0.93642939  1.36722393  0.86070654]\n",
      " [ 1.19938573 -0.05396106 -0.96782279 -0.03271544  0.96816534 -0.18845737\n",
      "  -0.07993212 -0.21478064 -0.68934817 -0.54834332]\n",
      " [ 1.44558764  0.59838748  0.36188941 -0.34191641 -1.5188613   0.32776638\n",
      "  -0.40886529 -0.12034615  0.44850283  0.75475917]\n",
      " [ 0.08440907  0.02303063  0.01833099 -0.27377013  0.58752611 -0.61549007\n",
      "   0.44452389 -0.50233535 -0.02426101 -0.66587334]\n",
      " [-0.00771779 -2.01632575 -1.73961729  0.81955435 -1.01893648 -1.17193837\n",
      "   1.31018987  0.79447518 -0.06519023 -1.44696569]\n",
      " [ 0.50263917 -0.42323573 -0.61570159  0.07705867  1.20712104 -1.98038083\n",
      "   1.47773544 -1.59487327 -0.76183736  0.68788417]\n",
      " [ 0.35028669  1.25776373  2.1970789  -0.91127711 -1.06776416 -0.90553078\n",
      "  -0.06712325  1.5733307   0.93561301  0.62341368]\n",
      " [-0.32332353  0.40064879  0.77203647  1.28679585  0.76299432 -1.32833538\n",
      "   1.27612492 -0.52773182  0.46552793  0.77268561]]\n"
     ]
    }
   ],
   "source": [
    "random_array = np.random.normal(0.0, 1.0, size = (10,10))\n",
    "print(f\"Array Generated:\\n{random_array}\")"
   ]
  },
  {
   "cell_type": "markdown",
   "metadata": {},
   "source": [
    "##### Compute the mean, median and mode of each array column as well as the entire array."
   ]
  },
  {
   "cell_type": "code",
   "execution_count": 4,
   "metadata": {},
   "outputs": [
    {
     "name": "stdout",
     "output_type": "stream",
     "text": [
      "Column Mean:\n",
      "[ 0.08808927 -0.34719608 -0.03442236 -0.11890311 -0.08477652 -0.29440824\n",
      "  0.50121629  0.09890422  0.07571715  0.08294632]\n",
      "Column Median:\n",
      "[ 0.03834564 -0.01546522  0.0501885  -0.15324278 -0.05197775 -0.40197372\n",
      "  0.50432135 -0.16756339  0.13432464  0.45405011]\n"
     ]
    }
   ],
   "source": [
    "# Mean, Median and Mode Array Column\n",
    "# axis = 0 for column \n",
    "# axis = 1 for row \n",
    "\n",
    "column_mean = np.mean(random_array, axis = 0)\n",
    "print (f\"Column Mean:\\n{column_mean}\")\n",
    "\n",
    "column_median = np.median(random_array, axis = 0)\n",
    "print (f\"Column Median:\\n{column_median}\")"
   ]
  },
  {
   "cell_type": "code",
   "execution_count": 5,
   "metadata": {},
   "outputs": [
    {
     "name": "stdout",
     "output_type": "stream",
     "text": [
      "Column mode:\n",
      "ModeResult(mode=array([[-1.25502845, -2.61445304, -1.73961729, -1.90335474, -1.5188613 ,\n",
      "        -1.98038083, -0.72017692, -1.59487327, -1.21196973, -1.44696569]]), count=array([[1, 1, 1, 1, 1, 1, 1, 1, 1, 1]]))\n"
     ]
    }
   ],
   "source": [
    "# There is no in-built function for finding mode using any numpy function.\n",
    "from scipy import stats\n",
    "\n",
    "column_mode = stats.mode(random_array, axis = 0)\n",
    "print (f\"Column mode:\\n{column_mode}\")"
   ]
  },
  {
   "cell_type": "markdown",
   "metadata": {},
   "source": [
    "The above output is very interesting. There is no real mode. So the least value is considered as the mode and the count of each mode is 1"
   ]
  },
  {
   "cell_type": "markdown",
   "metadata": {},
   "source": [
    "##### Now we compute for the entire array"
   ]
  },
  {
   "cell_type": "code",
   "execution_count": 6,
   "metadata": {},
   "outputs": [
    {
     "name": "stdout",
     "output_type": "stream",
     "text": [
      "All Mean:\n",
      "-0.003283306476740617\n"
     ]
    }
   ],
   "source": [
    "All_mean = np.mean(random_array, axis = None)\n",
    "print (f\"All Mean:\\n{All_mean}\")"
   ]
  },
  {
   "cell_type": "code",
   "execution_count": 7,
   "metadata": {},
   "outputs": [
    {
     "name": "stdout",
     "output_type": "stream",
     "text": [
      "All Median:\n",
      "0.005306599161193889\n"
     ]
    }
   ],
   "source": [
    "All_median = np.median(random_array, axis = None)\n",
    "print (f\"All Median:\\n{All_median}\")"
   ]
  },
  {
   "cell_type": "code",
   "execution_count": 8,
   "metadata": {},
   "outputs": [
    {
     "name": "stdout",
     "output_type": "stream",
     "text": [
      "All mode:\n",
      "ModeResult(mode=array([-2.61445304]), count=array([1]))\n"
     ]
    }
   ],
   "source": [
    "All_mode = stats.mode(random_array, axis = None)\n",
    "print (f\"All mode:\\n{All_mode}\")"
   ]
  },
  {
   "cell_type": "markdown",
   "metadata": {},
   "source": [
    "##### Select those numbers from the array within the interval [-0.5, 0.5] and store those numbers in a one-dimensional array. \n"
   ]
  },
  {
   "cell_type": "code",
   "execution_count": 9,
   "metadata": {},
   "outputs": [
    {
     "name": "stdout",
     "output_type": "stream",
     "text": [
      "All mode:\n",
      "[[-0.15773894 -1.04269269  0.83021538 -1.90335474  0.62201136  0.14069472\n",
      "   1.21556757 -0.93642939  1.36722393  0.86070654]\n",
      " [ 0.08440907  0.02303063  0.01833099 -0.27377013  0.58752611 -0.61549007\n",
      "   0.44452389 -0.50233535 -0.02426101 -0.66587334]\n",
      " [-0.00771779 -2.01632575 -1.73961729  0.81955435 -1.01893648 -1.17193837\n",
      "   1.31018987  0.79447518 -0.06519023 -1.44696569]\n",
      " [ 0.35028669  1.25776373  2.1970789  -0.91127711 -1.06776416 -0.90553078\n",
      "  -0.06712325  1.5733307   0.93561301  0.62341368]\n",
      " [-0.32332353  0.40064879  0.77203647  1.28679585  0.76299432 -1.32833538\n",
      "   1.27612492 -0.52773182  0.46552793  0.77268561]]\n"
     ]
    }
   ],
   "source": [
    " # Column mask\n",
    "mask_col = (random_array[:,0]>=-0.5) & (random_array[:,0]<=0.5)\n",
    "result_new = random_array[mask_col]\n",
    "print(f\"All mode:\\n{result_new}\")"
   ]
  },
  {
   "cell_type": "markdown",
   "metadata": {},
   "source": [
    "\n",
    "Determine the size of the resulting array."
   ]
  },
  {
   "cell_type": "code",
   "execution_count": 10,
   "metadata": {},
   "outputs": [
    {
     "name": "stdout",
     "output_type": "stream",
     "text": [
      "Size of array:\n",
      "50\n",
      "Shape of array:\n",
      "(5, 10)\n"
     ]
    }
   ],
   "source": [
    "# Size returns the count of all the elements\n",
    "print(f\"Size of array:\\n{result_new.size}\")\n",
    "\n",
    "# Shape returns the number of dimensions (rows) followed by elements (cols)\n",
    "print(f\"Shape of array:\\n{result_new.shape}\")"
   ]
  }
 ],
 "metadata": {
  "kernelspec": {
   "display_name": "Python 3 (ipykernel)",
   "language": "python",
   "name": "python3"
  },
  "language_info": {
   "codemirror_mode": {
    "name": "ipython",
    "version": 3
   },
   "file_extension": ".py",
   "mimetype": "text/x-python",
   "name": "python",
   "nbconvert_exporter": "python",
   "pygments_lexer": "ipython3",
   "version": "3.8.3"
  }
 },
 "nbformat": 4,
 "nbformat_minor": 5
}
