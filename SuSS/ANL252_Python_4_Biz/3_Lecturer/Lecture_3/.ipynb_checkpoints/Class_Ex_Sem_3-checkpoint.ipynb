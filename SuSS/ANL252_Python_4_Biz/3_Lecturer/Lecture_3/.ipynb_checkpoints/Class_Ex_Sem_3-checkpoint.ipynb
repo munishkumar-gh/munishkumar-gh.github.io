{
 "cells": [
  {
   "cell_type": "markdown",
   "id": "9a38797c",
   "metadata": {},
   "source": [
    "# Seminar 3"
   ]
  },
  {
   "cell_type": "markdown",
   "id": "fab19a38",
   "metadata": {},
   "source": [
    "### Munish Kumar\n",
    "###### 14th August 2021"
   ]
  },
  {
   "cell_type": "markdown",
   "id": "3146d09c",
   "metadata": {},
   "source": [
    "Start JupyterLab, open a new notebook and carry out the following tasks:\n",
    "\n",
    "Carry out simple calculations such as 2 * (3 – 1.5^2)."
   ]
  },
  {
   "cell_type": "code",
   "execution_count": 1,
   "id": "fae470d2",
   "metadata": {},
   "outputs": [
    {
     "data": {
      "text/plain": [
       "1.5"
      ]
     },
     "execution_count": 1,
     "metadata": {},
     "output_type": "execute_result"
    }
   ],
   "source": [
    "2*(3-1.5**2)"
   ]
  },
  {
   "cell_type": "markdown",
   "id": "a636975c",
   "metadata": {},
   "source": [
    "Part 2"
   ]
  },
  {
   "cell_type": "markdown",
   "id": "8f387bba",
   "metadata": {},
   "source": [
    "Print the result of the calculation using formatted printing in another cell."
   ]
  },
  {
   "cell_type": "code",
   "execution_count": 2,
   "id": "db637618",
   "metadata": {},
   "outputs": [
    {
     "name": "stdout",
     "output_type": "stream",
     "text": [
      "1.5\n"
     ]
    }
   ],
   "source": [
    "x = 2*(3-1.5**2)\n",
    "print (x)"
   ]
  },
  {
   "cell_type": "code",
   "execution_count": 3,
   "id": "720a05cf",
   "metadata": {},
   "outputs": [
    {
     "name": "stdout",
     "output_type": "stream",
     "text": [
      "\n",
      "The following is the result:\n",
      "1.5\n",
      "\n"
     ]
    }
   ],
   "source": [
    "print(f\"\\nThe following is the result:\\n{x}\\n\")"
   ]
  }
 ],
 "metadata": {
  "kernelspec": {
   "display_name": "Python 3",
   "language": "python",
   "name": "python3"
  },
  "language_info": {
   "codemirror_mode": {
    "name": "ipython",
    "version": 3
   },
   "file_extension": ".py",
   "mimetype": "text/x-python",
   "name": "python",
   "nbconvert_exporter": "python",
   "pygments_lexer": "ipython3",
   "version": "3.8.10"
  }
 },
 "nbformat": 4,
 "nbformat_minor": 5
}
