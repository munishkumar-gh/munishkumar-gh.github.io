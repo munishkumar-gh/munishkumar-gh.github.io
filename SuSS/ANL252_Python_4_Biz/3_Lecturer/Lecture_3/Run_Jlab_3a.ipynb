{
 "cells": [
  {
   "cell_type": "markdown",
   "id": "50e68a90",
   "metadata": {},
   "source": [
    "# Seminar 3"
   ]
  },
  {
   "attachments": {},
   "cell_type": "markdown",
   "id": "daa14774",
   "metadata": {},
   "source": [
    "Start JupyterLab, open a new notebook and carry out the following tasks:\n",
    "\n",
    "Carry out simple calculations such as 2 * (3 – 1.5^2)."
   ]
  },
  {
   "cell_type": "code",
   "execution_count": 5,
   "id": "8f864b66",
   "metadata": {},
   "outputs": [
    {
     "data": {
      "text/plain": [
       "1.5"
      ]
     },
     "execution_count": 5,
     "metadata": {},
     "output_type": "execute_result"
    }
   ],
   "source": [
    "2*(3-1.5**2)"
   ]
  },
  {
   "attachments": {},
   "cell_type": "markdown",
   "id": "07a57a21",
   "metadata": {},
   "source": [
    "Print the result of the calculation using formatted printing in another cell."
   ]
  },
  {
   "cell_type": "code",
   "execution_count": 6,
   "id": "5d27d933",
   "metadata": {},
   "outputs": [],
   "source": [
    "x = 2*(3-1.5**2)"
   ]
  },
  {
   "cell_type": "code",
   "execution_count": 7,
   "id": "0663ec5f",
   "metadata": {},
   "outputs": [
    {
     "name": "stdout",
     "output_type": "stream",
     "text": [
      "\n",
      "The following is the result:\n",
      "1.5\n",
      "\n"
     ]
    }
   ],
   "source": [
    "print(f\"\\nThe following is the result:\\n{x}\\n\")"
   ]
  },
  {
   "attachments": {},
   "cell_type": "markdown",
   "id": "77f3f9f9",
   "metadata": {},
   "source": [
    "Insert a markdown cell before the cell of step 1 and describe the calculation to be carried out."
   ]
  },
  {
   "attachments": {},
   "cell_type": "markdown",
   "id": "e9aaebb7",
   "metadata": {},
   "source": [
    "Re-run all cells."
   ]
  },
  {
   "attachments": {},
   "cell_type": "markdown",
   "id": "9e5765d2",
   "metadata": {},
   "source": [
    "Save the notebook on the computer."
   ]
  }
 ],
 "metadata": {
  "kernelspec": {
   "display_name": "Python 3",
   "language": "python",
   "name": "python3"
  },
  "language_info": {
   "codemirror_mode": {
    "name": "ipython",
    "version": 3
   },
   "file_extension": ".py",
   "mimetype": "text/x-python",
   "name": "python",
   "nbconvert_exporter": "python",
   "pygments_lexer": "ipython3",
   "version": "3.7.10"
  }
 },
 "nbformat": 4,
 "nbformat_minor": 5
}
