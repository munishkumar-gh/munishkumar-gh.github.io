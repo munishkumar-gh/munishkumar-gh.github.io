{
 "cells": [
  {
   "cell_type": "markdown",
   "id": "c99b36bc",
   "metadata": {},
   "source": [
    "# Random sampling program:\n",
    "\n",
    "##### Generate a 10 x 10 array which contains 100 random numbers from the normally distributed population with mean 0 and variance 1.\n"
   ]
  },
  {
   "cell_type": "code",
   "execution_count": 1,
   "id": "cb829d45",
   "metadata": {},
   "outputs": [],
   "source": [
    "import numpy as np"
   ]
  },
  {
   "cell_type": "markdown",
   "id": "d5bc90ae",
   "metadata": {},
   "source": [
    "##### Generate Random numbers with mu = 0 and sigma = 1"
   ]
  },
  {
   "cell_type": "code",
   "execution_count": 2,
   "id": "3362d6bc",
   "metadata": {},
   "outputs": [
    {
     "name": "stdout",
     "output_type": "stream",
     "text": [
      "[ 1.49682394  1.25796556  1.41640578  1.81440594 -0.13566006]\n"
     ]
    }
   ],
   "source": [
    "# random.normal(loc=0.0, scale=1.0, size=None)\n",
    "# 1. loc = mean\n",
    "# 2. scale = standard deviation = sq root of variance\n",
    "# 3. Size = Output shape. If the given shape is, e.g., (m, n, k), \n",
    "#           then m * n * k samples are drawn.\n",
    "\n",
    "random_array = np.random.normal(0.0, 1.0, 5)\n",
    "print(random_array)"
   ]
  },
  {
   "cell_type": "code",
   "execution_count": 3,
   "id": "7fefa8ce",
   "metadata": {},
   "outputs": [
    {
     "name": "stdout",
     "output_type": "stream",
     "text": [
      "Array Generated:\n",
      "[[-1.94532180e+00 -2.53089991e+00  2.49088480e+00  5.29400969e-01\n",
      "   2.16022560e-01 -6.73510020e-01 -1.13513138e+00 -9.46888546e-01\n",
      "  -5.87478331e-01 -1.04309592e+00]\n",
      " [-5.15917873e-01 -6.30470172e-01  2.20887135e+00  3.80390972e-01\n",
      "  -7.92075683e-02 -3.65544601e-02  1.11439595e+00 -4.94792722e-01\n",
      "   1.57552075e+00 -1.14265889e+00]\n",
      " [ 2.01002879e-01 -1.53925044e+00 -1.20126628e+00 -5.93108188e-01\n",
      "   1.13892647e+00  8.37734715e-01 -1.73779363e+00  6.15276741e-01\n",
      "  -9.35226591e-02 -8.16868238e-01]\n",
      " [ 7.91306144e-01 -3.33226188e-01 -8.23201577e-01 -9.74443833e-01\n",
      "  -1.21466313e+00 -6.24683805e-01 -1.44090357e+00 -2.36451439e+00\n",
      "  -6.66096835e-01  4.13892017e-01]\n",
      " [ 5.42092260e-01 -6.91117972e-01  4.21076474e-01  5.20990226e-01\n",
      "   2.39910928e-01 -5.55489619e-01  7.13308334e-01 -2.13913589e+00\n",
      "   8.20100829e-01 -6.57351906e-01]\n",
      " [-1.62068205e+00 -5.27610245e-01  7.30535275e-01  3.37750494e-01\n",
      "  -1.09054765e+00  2.27458375e+00  1.05178049e+00 -3.42250967e-01\n",
      "  -7.17121576e-01  7.42323859e-01]\n",
      " [-1.56043985e+00  1.06538553e+00 -1.58318747e+00  8.22726195e-01\n",
      "   1.21782750e+00 -2.79363708e-01 -2.30003911e+00 -1.61716792e+00\n",
      "   1.74816108e+00  8.27410242e-02]\n",
      " [-6.84606136e-01  3.24612427e-01  8.00807428e-01 -2.93139762e-01\n",
      "   8.04780805e-01  2.11324691e-01 -1.89060830e+00 -1.06669241e+00\n",
      "   8.78345452e-01  4.51118766e-01]\n",
      " [ 4.69174309e-01 -3.56295823e-01  1.57259836e+00  2.24749562e+00\n",
      "  -1.48077250e+00  2.58694811e-01 -4.72510124e-01  2.47534815e-01\n",
      "   5.39759274e-01  1.30920683e+00]\n",
      " [ 1.11273344e+00  1.27716456e+00 -8.29760218e-01  1.93290955e-03\n",
      "   1.31823706e+00 -4.86392243e-01 -2.70092472e-01  9.70151634e-03\n",
      "  -2.03613533e+00  6.86253897e-01]]\n"
     ]
    }
   ],
   "source": [
    "random_array = np.random.normal(0.0, 1.0, size = (10,10))\n",
    "print(f\"Array Generated:\\n{random_array}\")"
   ]
  },
  {
   "cell_type": "markdown",
   "id": "3ca5132b",
   "metadata": {},
   "source": [
    "##### Compute the mean, median and mode of each array column as well as the entire array."
   ]
  },
  {
   "cell_type": "code",
   "execution_count": 4,
   "id": "531d137b",
   "metadata": {},
   "outputs": [
    {
     "name": "stdout",
     "output_type": "stream",
     "text": [
      "Column Mean:\n",
      "[-0.32106587 -0.39417082  0.37873581  0.29799956  0.10705145  0.09263441\n",
      " -0.63675938 -0.80989298  0.14615327  0.00255614]\n",
      "Column Median:\n",
      "[-0.1574575  -0.44195303  0.57580587  0.35907073  0.22796674 -0.15795908\n",
      " -0.80382075 -0.72084063  0.22311831  0.24831652]\n"
     ]
    }
   ],
   "source": [
    "# Mean, Median and Mode Array Column\n",
    "# axis = 0 for column \n",
    "# axis = 1 for row \n",
    "\n",
    "column_mean = np.mean(random_array, axis = 0)\n",
    "print (f\"Column Mean:\\n{column_mean}\")\n",
    "\n",
    "column_median = np.median(random_array, axis = 0)\n",
    "print (f\"Column Median:\\n{column_median}\")"
   ]
  },
  {
   "cell_type": "code",
   "execution_count": 5,
   "id": "a0b4687d",
   "metadata": {},
   "outputs": [
    {
     "name": "stdout",
     "output_type": "stream",
     "text": [
      "Column mode:\n",
      "ModeResult(mode=array([[-1.9453218 , -2.53089991, -1.58318747, -0.97444383, -1.4807725 ,\n",
      "        -0.67351002, -2.30003911, -2.36451439, -2.03613533, -1.14265889]]), count=array([[1, 1, 1, 1, 1, 1, 1, 1, 1, 1]]))\n"
     ]
    }
   ],
   "source": [
    "# There is no in-built function for finding mode using any numpy function.\n",
    "from scipy import stats\n",
    "\n",
    "column_mode = stats.mode(random_array, axis = 0)\n",
    "print (f\"Column mode:\\n{column_mode}\")"
   ]
  },
  {
   "cell_type": "markdown",
   "id": "5357c5cb",
   "metadata": {},
   "source": [
    "The above output is very interesting. There is no real mode. So the least value is considered as the mode and the count of each mode is 1"
   ]
  },
  {
   "cell_type": "markdown",
   "id": "3a1f45a8",
   "metadata": {},
   "source": [
    "##### Now we compute for the entire array"
   ]
  },
  {
   "cell_type": "code",
   "execution_count": 6,
   "id": "2acbd567",
   "metadata": {},
   "outputs": [
    {
     "name": "stdout",
     "output_type": "stream",
     "text": [
      "All Mean:\n",
      "-0.11367584067769071\n"
     ]
    }
   ],
   "source": [
    "All_mean = np.mean(random_array, axis = None)\n",
    "print (f\"All Mean:\\n{All_mean}\")"
   ]
  },
  {
   "cell_type": "code",
   "execution_count": 7,
   "id": "6f41dbd2",
   "metadata": {},
   "outputs": [
    {
     "name": "stdout",
     "output_type": "stream",
     "text": [
      "All Median:\n",
      "-0.08636511373286224\n"
     ]
    }
   ],
   "source": [
    "All_median = np.median(random_array, axis = None)\n",
    "print (f\"All Median:\\n{All_median}\")"
   ]
  },
  {
   "cell_type": "code",
   "execution_count": 8,
   "id": "4e564d28",
   "metadata": {},
   "outputs": [
    {
     "name": "stdout",
     "output_type": "stream",
     "text": [
      "All mode:\n",
      "ModeResult(mode=array([-2.53089991]), count=array([1]))\n"
     ]
    }
   ],
   "source": [
    "All_mode = stats.mode(random_array, axis = None)\n",
    "print (f\"All mode:\\n{All_mode}\")"
   ]
  },
  {
   "cell_type": "markdown",
   "id": "ff05ce5b",
   "metadata": {},
   "source": [
    "##### Select those numbers from the array within the interval [-0.5, 0.5] and store those numbers in a one-dimensional array. \n"
   ]
  },
  {
   "cell_type": "code",
   "execution_count": 9,
   "id": "8f3e97ea",
   "metadata": {},
   "outputs": [
    {
     "name": "stdout",
     "output_type": "stream",
     "text": [
      "All mode:\n",
      "[[ 0.20100288 -1.53925044 -1.20126628 -0.59310819  1.13892647  0.83773471\n",
      "  -1.73779363  0.61527674 -0.09352266 -0.81686824]\n",
      " [ 0.46917431 -0.35629582  1.57259836  2.24749562 -1.4807725   0.25869481\n",
      "  -0.47251012  0.24753481  0.53975927  1.30920683]]\n"
     ]
    }
   ],
   "source": [
    " # Column mask\n",
    "mask_col = (random_array[:,0]>=-0.5) & (random_array[:,0]<=0.5)\n",
    "result_new = random_array[mask_col]\n",
    "print(f\"All mode:\\n{result_new}\")"
   ]
  },
  {
   "cell_type": "markdown",
   "id": "0bc75ecc",
   "metadata": {},
   "source": [
    "\n",
    "Determine the size of the resulting array."
   ]
  },
  {
   "cell_type": "code",
   "execution_count": 10,
   "id": "2fe61b14",
   "metadata": {},
   "outputs": [
    {
     "name": "stdout",
     "output_type": "stream",
     "text": [
      "Size of array:\n",
      "20\n",
      "Shape of array:\n",
      "(2, 10)\n"
     ]
    }
   ],
   "source": [
    "# Size returns the count of all the elements\n",
    "print(f\"Size of array:\\n{result_new.size}\")\n",
    "\n",
    "# Shape returns the number of dimensions (rows) followed by elements (cols)\n",
    "print(f\"Shape of array:\\n{result_new.shape}\")"
   ]
  }
 ],
 "metadata": {
  "kernelspec": {
   "display_name": "Python 3",
   "language": "python",
   "name": "python3"
  },
  "language_info": {
   "codemirror_mode": {
    "name": "ipython",
    "version": 3
   },
   "file_extension": ".py",
   "mimetype": "text/x-python",
   "name": "python",
   "nbconvert_exporter": "python",
   "pygments_lexer": "ipython3",
   "version": "3.8.10"
  }
 },
 "nbformat": 4,
 "nbformat_minor": 5
}
