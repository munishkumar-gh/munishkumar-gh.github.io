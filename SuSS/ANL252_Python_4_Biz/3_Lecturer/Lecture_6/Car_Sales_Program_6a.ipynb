{
 "cells": [
  {
   "cell_type": "markdown",
   "id": "32b586ab",
   "metadata": {},
   "source": [
    "### Car sales program:\n",
    "#### Carry out the following tasks in JupyterLab:\n",
    "##### Modify the program created in Study Units 1 & 2 in a way that the user can enter the brand, model, buying price and satisfaction rate (1 = “totally dissatisfied”, …, 5 = “totally satisfied”) of the car he purchased.\n",
    "##### Save the input as “car_purchase” in a text file (preferably .csv file)."
   ]
  },
  {
   "cell_type": "code",
   "execution_count": 1,
   "id": "4d26ae09",
   "metadata": {},
   "outputs": [
    {
     "name": "stdout",
     "output_type": "stream",
     "text": [
      "Add a new car (yes / no):yes\n",
      "Please Enter Car Brand:Toyota\n",
      "Please Enter Car Model:Harrier\n",
      "Please Enter Car Buying Price:560000\n",
      "Please Enter Car Satisfaction from 1 to 5 (1 - least satisfied): 3\n",
      "You have entered is Toyota, Harrier, 560000, 3\n",
      "Add a new car (yes / no):Toyota\n",
      "Add a new car (yes / no):Wish\n",
      "Add a new car (yes / no):340000\n",
      "Add a new car (yes / no):4\n",
      "Add a new car (yes / no):yes\n",
      "Please Enter Car Brand:Toyota\n",
      "Please Enter Car Model:Wish\n",
      "Please Enter Car Buying Price:340000\n",
      "Please Enter Car Satisfaction from 1 to 5 (1 - least satisfied): 4\n",
      "You have entered is Toyota, Wish, 340000, 4\n",
      "Add a new car (yes / no):yes\n",
      "Please Enter Car Brand:Ferrari\n",
      "Please Enter Car Model:Spider\n",
      "Please Enter Car Buying Price:1300000\n",
      "Please Enter Car Satisfaction from 1 to 5 (1 - least satisfied): 2\n",
      "You have entered is Ferrari, Spider, 1300000, 2\n",
      "Add a new car (yes / no):no\n",
      "Goodbye!\n",
      "[{'Brand': 'Toyota', 'Model': 'Harrier', 'Price': 560000, 'Satisfaction': 3}, {'Brand': 'Toyota', 'Model': 'Wish', 'Price': 340000, 'Satisfaction': 4}, {'Brand': 'Ferrari', 'Model': 'Spider', 'Price': 1300000, 'Satisfaction': 2}]\n"
     ]
    }
   ],
   "source": [
    "import pandas as pd\n",
    "import numpy as np\n",
    "\n",
    "user_in = []\n",
    "\n",
    "valid_input = False\n",
    "while valid_input == False:\n",
    "    try:\n",
    "        add_car = str(input(\"Add a new car (yes / no):\"))\n",
    "        if add_car == \"yes\":\n",
    "            input_b = str(input(\"Please Enter Car Brand:\"))\n",
    "            input_m = str(input(\"Please Enter Car Model:\"))\n",
    "            input_p = int(input(\"Please Enter Car Buying Price:\"))\n",
    "            input_s = int(input(\"Please Enter Car Satisfaction from 1 to 5 (1 - least satisfied): \"))\n",
    "            print(f\"You have entered is {input_b}, {input_m}, {input_p}, {input_s}\")\n",
    "            \n",
    "            user_in.append({'Brand': input_b, 'Model': input_m, 'Price': input_p, 'Satisfaction':input_s})\n",
    "        \n",
    "        elif add_car == \"no\":\n",
    "            valid_input = True\n",
    "            print(f\"Goodbye!\")\n",
    "            break\n",
    "    \n",
    "    except ValueError:\n",
    "        print(f\"Your input is of the wrong type. Please try again\")\n",
    "        \n",
    "print(user_in)"
   ]
  },
  {
   "cell_type": "code",
   "execution_count": 2,
   "id": "d2936804",
   "metadata": {},
   "outputs": [
    {
     "data": {
      "text/html": [
       "<div>\n",
       "<style scoped>\n",
       "    .dataframe tbody tr th:only-of-type {\n",
       "        vertical-align: middle;\n",
       "    }\n",
       "\n",
       "    .dataframe tbody tr th {\n",
       "        vertical-align: top;\n",
       "    }\n",
       "\n",
       "    .dataframe thead th {\n",
       "        text-align: right;\n",
       "    }\n",
       "</style>\n",
       "<table border=\"1\" class=\"dataframe\">\n",
       "  <thead>\n",
       "    <tr style=\"text-align: right;\">\n",
       "      <th></th>\n",
       "      <th>Brand</th>\n",
       "      <th>Model</th>\n",
       "      <th>Price</th>\n",
       "      <th>Satisfaction</th>\n",
       "    </tr>\n",
       "  </thead>\n",
       "  <tbody>\n",
       "    <tr>\n",
       "      <th>0</th>\n",
       "      <td>Toyota</td>\n",
       "      <td>Harrier</td>\n",
       "      <td>560000</td>\n",
       "      <td>3</td>\n",
       "    </tr>\n",
       "    <tr>\n",
       "      <th>1</th>\n",
       "      <td>Toyota</td>\n",
       "      <td>Wish</td>\n",
       "      <td>340000</td>\n",
       "      <td>4</td>\n",
       "    </tr>\n",
       "    <tr>\n",
       "      <th>2</th>\n",
       "      <td>Ferrari</td>\n",
       "      <td>Spider</td>\n",
       "      <td>1300000</td>\n",
       "      <td>2</td>\n",
       "    </tr>\n",
       "  </tbody>\n",
       "</table>\n",
       "</div>"
      ],
      "text/plain": [
       "     Brand    Model    Price  Satisfaction\n",
       "0   Toyota  Harrier   560000             3\n",
       "1   Toyota     Wish   340000             4\n",
       "2  Ferrari   Spider  1300000             2"
      ]
     },
     "execution_count": 2,
     "metadata": {},
     "output_type": "execute_result"
    }
   ],
   "source": [
    "header = [\"Brand\", \"Model\", \"Price\", \"Satisfaction\"]\n",
    "#data = [x.split(',') for x in user_in]\n",
    "\n",
    "df = pd.DataFrame(user_in, columns=header)\n",
    "df"
   ]
  },
  {
   "cell_type": "code",
   "execution_count": 3,
   "id": "0fd43fa0",
   "metadata": {},
   "outputs": [],
   "source": [
    "df.to_csv(\"car_purchase.csv\", index = False)"
   ]
  },
  {
   "cell_type": "markdown",
   "id": "291713f5",
   "metadata": {},
   "source": [
    "##### Create a database and export the data to it."
   ]
  },
  {
   "cell_type": "code",
   "execution_count": 5,
   "id": "9e3a7211",
   "metadata": {},
   "outputs": [],
   "source": [
    "import sqlite3\n",
    "\n",
    "conn = sqlite3.connect(\"Car_model.db\")\n",
    "cur = conn.cursor()"
   ]
  },
  {
   "cell_type": "code",
   "execution_count": 6,
   "id": "8b29075c",
   "metadata": {},
   "outputs": [],
   "source": [
    "df.to_sql(\"df\", conn, if_exists = \"replace\", index = False)"
   ]
  },
  {
   "cell_type": "markdown",
   "id": "77f61936",
   "metadata": {},
   "source": [
    "##### Export the original data of “car_model” and “car_price” from Study Unit 4 to the database as well."
   ]
  },
  {
   "cell_type": "code",
   "execution_count": 9,
   "id": "25355b8b",
   "metadata": {},
   "outputs": [],
   "source": [
    "df1 = pd.read_csv(\"car_model.csv\")\n",
    "df2 = pd.read_csv(\"car_price.csv\")"
   ]
  },
  {
   "cell_type": "code",
   "execution_count": 10,
   "id": "b86437e5",
   "metadata": {},
   "outputs": [],
   "source": [
    "df1.to_sql(\"df1\", conn, if_exists = \"replace\", index = False)\n",
    "df2.to_sql(\"df2\", conn, if_exists = \"replace\", index = False)"
   ]
  },
  {
   "cell_type": "markdown",
   "id": "31c0815a",
   "metadata": {},
   "source": [
    "##### Did I create the database correctly - lets check"
   ]
  },
  {
   "cell_type": "code",
   "execution_count": 11,
   "id": "83b010ff",
   "metadata": {},
   "outputs": [
    {
     "data": {
      "text/plain": [
       "<sqlite3.Cursor at 0x18918c06ce0>"
      ]
     },
     "execution_count": 11,
     "metadata": {},
     "output_type": "execute_result"
    }
   ],
   "source": [
    "cur.execute(\"Select * FROM df1;\")"
   ]
  },
  {
   "cell_type": "code",
   "execution_count": 12,
   "id": "cfae9cdd",
   "metadata": {},
   "outputs": [
    {
     "name": "stdout",
     "output_type": "stream",
     "text": [
      "(2020, 'Audi', 'Q3', 'SUV')\n"
     ]
    }
   ],
   "source": [
    "print(cur.fetchone())"
   ]
  },
  {
   "cell_type": "code",
   "execution_count": 13,
   "id": "71167e34",
   "metadata": {},
   "outputs": [
    {
     "name": "stdout",
     "output_type": "stream",
     "text": [
      "(2021, 'Acura', 'ILX', 26100)\n"
     ]
    }
   ],
   "source": [
    "cur.execute(\"Select * FROM df2;\")\n",
    "print(cur.fetchone())"
   ]
  },
  {
   "cell_type": "code",
   "execution_count": 14,
   "id": "396cff24",
   "metadata": {},
   "outputs": [
    {
     "name": "stdout",
     "output_type": "stream",
     "text": [
      "('Toyota', 'Harrier', 560000, 3)\n"
     ]
    }
   ],
   "source": [
    "cur.execute(\"Select * FROM df;\")\n",
    "print(cur.fetchone())"
   ]
  }
 ],
 "metadata": {
  "kernelspec": {
   "display_name": "Python 3",
   "language": "python",
   "name": "python3"
  },
  "language_info": {
   "codemirror_mode": {
    "name": "ipython",
    "version": 3
   },
   "file_extension": ".py",
   "mimetype": "text/x-python",
   "name": "python",
   "nbconvert_exporter": "python",
   "pygments_lexer": "ipython3",
   "version": "3.8.10"
  }
 },
 "nbformat": 4,
 "nbformat_minor": 5
}
