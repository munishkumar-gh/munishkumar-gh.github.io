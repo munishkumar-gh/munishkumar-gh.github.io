{
 "cells": [
  {
   "cell_type": "markdown",
   "metadata": {
    "button": false,
    "new_sheet": false,
    "run_control": {
     "read_only": false
    }
   },
   "source": [
    "<a href=\"https://www.suss.edu.sg/courses/detail/anl252?urlname=bachelor-of-science-in-finance-with-minor-ftfnce\"><img src = \"https://www.python.org/static/community_logos/python-logo-master-v3-TM.png\" width = 400> </a>\n",
    "\n",
    "<h1 align=center><font size = 5>ANL252 - More on Matplotlib and Line Plots</font></h1>"
   ]
  },
  {
   "cell_type": "markdown",
   "metadata": {},
   "source": [
    "<h1 align=center><font size = 4> Munish Kumar </font></h1>\n",
    "<h1 align=center><font size = 3> Semester 2 2021 </font></h1>"
   ]
  },
  {
   "cell_type": "markdown",
   "metadata": {
    "button": false,
    "new_sheet": false,
    "run_control": {
     "read_only": false
    }
   },
   "source": [
    "## Introduction\n",
    "\n",
    "The aim of this lab is to practice data visualization with Python. I will also introduce different libraries which can be beneficial when we are discussing new visualization concepts.\n",
    "\n",
    "We will be generating plots and visualizations with data stored in the *pandas* dataframes. \n",
    "\n",
    "------------"
   ]
  },
  {
   "cell_type": "markdown",
   "metadata": {
    "button": false,
    "new_sheet": false,
    "run_control": {
     "read_only": false
    }
   },
   "source": [
    "## Table of Contents\n",
    "\n",
    "<div class=\"alert alert-block alert-info\" style=\"margin-top: 20px\">\n",
    "\n",
    "1. [Exploring Datasets with *pandas*](#0)<br>\n",
    "1.1 [The Dataset: Immigration to USA from 1980 to 2013](#2)<br>\n",
    "1.2 [Importing *pandas* (and Numpy)](#4) <br>\n",
    "1.3 [*pandas* Intermediate: Indexing and Selection](#6) <br>\n",
    "2. [Visualizing Data using Matplotlib](#8) <br>\n",
    "2.1 [Matplotlib: Standard Python Visualization Library](#10) <br>\n",
    "3. [Line Plots](#12)\n",
    "</div>\n",
    "<hr>"
   ]
  },
  {
   "cell_type": "markdown",
   "metadata": {
    "button": false,
    "new_sheet": false,
    "run_control": {
     "read_only": false
    }
   },
   "source": [
    "## The Dataset: Immigration to Canada from 1980 to 2013 <a id=\"2\"></a>"
   ]
  },
  {
   "cell_type": "markdown",
   "metadata": {
    "button": false,
    "new_sheet": false,
    "run_control": {
     "read_only": false
    }
   },
   "source": [
    "Dataset Source: [International migration flows to and from selected countries - The 2015 revision](http://www.un.org/en/development/desa/population/migration/data/empirical2/migrationflows.shtml).\n",
    "\n",
    "The dataset contains annual data on the flows of international immigrants as recorded by the countries of destination. The data presents both inflows and outflows according to the place of birth, citizenship or place of previous / next residence both for foreigners and nationals. The current version presents data pertaining to 45 countries.\n",
    "\n",
    "In this lab, we will focus on the United States of America immigration data.\n",
    "\n",
    "---"
   ]
  },
  {
   "cell_type": "markdown",
   "metadata": {
    "button": false,
    "new_sheet": false,
    "run_control": {
     "read_only": false
    }
   },
   "source": [
    "## Importing *pandas* (and numpy)<a id=\"4\"></a>"
   ]
  },
  {
   "cell_type": "markdown",
   "metadata": {
    "button": false,
    "new_sheet": false,
    "run_control": {
     "read_only": false
    }
   },
   "source": [
    "The first thing we'll do is import two key data analysis modules: *pandas* and **Numpy**."
   ]
  },
  {
   "cell_type": "code",
   "execution_count": 1,
   "metadata": {
    "button": false,
    "new_sheet": false,
    "run_control": {
     "read_only": false
    },
    "scrolled": false
   },
   "outputs": [],
   "source": [
    "import numpy as np  # useful for many scientific computing in Python\n",
    "import pandas as pd # primary data structure library"
   ]
  },
  {
   "cell_type": "markdown",
   "metadata": {
    "button": false,
    "new_sheet": false,
    "run_control": {
     "read_only": false
    }
   },
   "source": [
    "Let's download and import our primary Immigration dataset using *pandas* `read_excel()` method. To do this, you will would need to download a module which *pandas* requires to read in excel files called **xlrd**. Run the following line of code to install the **xlrd** module:\n",
    "```\n",
    "!conda install -c anaconda xlrd --yes\n",
    "```"
   ]
  },
  {
   "cell_type": "code",
   "execution_count": 2,
   "metadata": {},
   "outputs": [],
   "source": [
    "#!conda install -c anaconda xlrd --yes"
   ]
  },
  {
   "cell_type": "markdown",
   "metadata": {
    "button": false,
    "new_sheet": false,
    "run_control": {
     "read_only": false
    }
   },
   "source": [
    "Lets read in our data using 'read_excel' method"
   ]
  },
  {
   "cell_type": "code",
   "execution_count": 3,
   "metadata": {
    "button": false,
    "new_sheet": false,
    "run_control": {
     "read_only": false
    },
    "scrolled": false
   },
   "outputs": [
    {
     "name": "stdout",
     "output_type": "stream",
     "text": [
      "Data read into a pandas dataframe!\n"
     ]
    }
   ],
   "source": [
    "df_usa = pd.read_excel('United States of America.xlsx',\n",
    "                       sheet_name='USA by Place of birth',\n",
    "                       skiprows=range(20),\n",
    "                       skipfooter=2)\n",
    "\n",
    "print ('Data read into a pandas dataframe!')"
   ]
  },
  {
   "cell_type": "markdown",
   "metadata": {
    "button": false,
    "new_sheet": false,
    "run_control": {
     "read_only": false
    }
   },
   "source": [
    "Display the top 5 rows of the dataset using the `head()` function."
   ]
  },
  {
   "cell_type": "code",
   "execution_count": 4,
   "metadata": {
    "button": false,
    "new_sheet": false,
    "run_control": {
     "read_only": false
    }
   },
   "outputs": [
    {
     "data": {
      "text/html": [
       "<div>\n",
       "<style scoped>\n",
       "    .dataframe tbody tr th:only-of-type {\n",
       "        vertical-align: middle;\n",
       "    }\n",
       "\n",
       "    .dataframe tbody tr th {\n",
       "        vertical-align: top;\n",
       "    }\n",
       "\n",
       "    .dataframe thead th {\n",
       "        text-align: right;\n",
       "    }\n",
       "</style>\n",
       "<table border=\"1\" class=\"dataframe\">\n",
       "  <thead>\n",
       "    <tr style=\"text-align: right;\">\n",
       "      <th></th>\n",
       "      <th>Type</th>\n",
       "      <th>Coverage</th>\n",
       "      <th>OdName</th>\n",
       "      <th>AREA</th>\n",
       "      <th>AreaName</th>\n",
       "      <th>REG</th>\n",
       "      <th>RegName</th>\n",
       "      <th>DEV</th>\n",
       "      <th>DevName</th>\n",
       "      <th>1980</th>\n",
       "      <th>...</th>\n",
       "      <th>2012</th>\n",
       "      <th>2013</th>\n",
       "      <th>Unnamed: 43</th>\n",
       "      <th>Unnamed: 44</th>\n",
       "      <th>Unnamed: 45</th>\n",
       "      <th>Unnamed: 46</th>\n",
       "      <th>Unnamed: 47</th>\n",
       "      <th>Unnamed: 48</th>\n",
       "      <th>Unnamed: 49</th>\n",
       "      <th>Unnamed: 50</th>\n",
       "    </tr>\n",
       "  </thead>\n",
       "  <tbody>\n",
       "    <tr>\n",
       "      <th>0</th>\n",
       "      <td>Immigrants</td>\n",
       "      <td>Foreigners</td>\n",
       "      <td>Afghanistan</td>\n",
       "      <td>935</td>\n",
       "      <td>Asia</td>\n",
       "      <td>5501</td>\n",
       "      <td>Southern Asia</td>\n",
       "      <td>902</td>\n",
       "      <td>Less developed regions</td>\n",
       "      <td>722</td>\n",
       "      <td>...</td>\n",
       "      <td>1617</td>\n",
       "      <td>2196</td>\n",
       "      <td>NaN</td>\n",
       "      <td>NaN</td>\n",
       "      <td>NaN</td>\n",
       "      <td>NaN</td>\n",
       "      <td>NaN</td>\n",
       "      <td>NaN</td>\n",
       "      <td>NaN</td>\n",
       "      <td>NaN</td>\n",
       "    </tr>\n",
       "    <tr>\n",
       "      <th>1</th>\n",
       "      <td>Immigrants</td>\n",
       "      <td>Foreigners</td>\n",
       "      <td>Albania</td>\n",
       "      <td>908</td>\n",
       "      <td>Europe</td>\n",
       "      <td>925</td>\n",
       "      <td>Southern Europe</td>\n",
       "      <td>901</td>\n",
       "      <td>More developed regions</td>\n",
       "      <td>30</td>\n",
       "      <td>...</td>\n",
       "      <td>3364</td>\n",
       "      <td>3186</td>\n",
       "      <td>NaN</td>\n",
       "      <td>NaN</td>\n",
       "      <td>NaN</td>\n",
       "      <td>NaN</td>\n",
       "      <td>NaN</td>\n",
       "      <td>NaN</td>\n",
       "      <td>NaN</td>\n",
       "      <td>NaN</td>\n",
       "    </tr>\n",
       "    <tr>\n",
       "      <th>2</th>\n",
       "      <td>Immigrants</td>\n",
       "      <td>Foreigners</td>\n",
       "      <td>Algeria</td>\n",
       "      <td>903</td>\n",
       "      <td>Africa</td>\n",
       "      <td>912</td>\n",
       "      <td>Northern Africa</td>\n",
       "      <td>902</td>\n",
       "      <td>Less developed regions</td>\n",
       "      <td>175</td>\n",
       "      <td>...</td>\n",
       "      <td>1369</td>\n",
       "      <td>1241</td>\n",
       "      <td>NaN</td>\n",
       "      <td>NaN</td>\n",
       "      <td>NaN</td>\n",
       "      <td>NaN</td>\n",
       "      <td>NaN</td>\n",
       "      <td>NaN</td>\n",
       "      <td>NaN</td>\n",
       "      <td>NaN</td>\n",
       "    </tr>\n",
       "    <tr>\n",
       "      <th>3</th>\n",
       "      <td>Immigrants</td>\n",
       "      <td>Foreigners</td>\n",
       "      <td>American Samoa</td>\n",
       "      <td>909</td>\n",
       "      <td>Oceania</td>\n",
       "      <td>957</td>\n",
       "      <td>Polynesia</td>\n",
       "      <td>902</td>\n",
       "      <td>Less developed regions</td>\n",
       "      <td>0</td>\n",
       "      <td>...</td>\n",
       "      <td>-</td>\n",
       "      <td>D</td>\n",
       "      <td>NaN</td>\n",
       "      <td>NaN</td>\n",
       "      <td>NaN</td>\n",
       "      <td>NaN</td>\n",
       "      <td>NaN</td>\n",
       "      <td>NaN</td>\n",
       "      <td>NaN</td>\n",
       "      <td>NaN</td>\n",
       "    </tr>\n",
       "    <tr>\n",
       "      <th>4</th>\n",
       "      <td>Immigrants</td>\n",
       "      <td>Foreigners</td>\n",
       "      <td>Andorra</td>\n",
       "      <td>908</td>\n",
       "      <td>Europe</td>\n",
       "      <td>925</td>\n",
       "      <td>Southern Europe</td>\n",
       "      <td>901</td>\n",
       "      <td>More developed regions</td>\n",
       "      <td>2</td>\n",
       "      <td>...</td>\n",
       "      <td>..</td>\n",
       "      <td>..</td>\n",
       "      <td>NaN</td>\n",
       "      <td>NaN</td>\n",
       "      <td>NaN</td>\n",
       "      <td>NaN</td>\n",
       "      <td>NaN</td>\n",
       "      <td>NaN</td>\n",
       "      <td>NaN</td>\n",
       "      <td>NaN</td>\n",
       "    </tr>\n",
       "  </tbody>\n",
       "</table>\n",
       "<p>5 rows × 51 columns</p>\n",
       "</div>"
      ],
      "text/plain": [
       "         Type    Coverage          OdName  AREA AreaName   REG  \\\n",
       "0  Immigrants  Foreigners     Afghanistan   935     Asia  5501   \n",
       "1  Immigrants  Foreigners         Albania   908   Europe   925   \n",
       "2  Immigrants  Foreigners         Algeria   903   Africa   912   \n",
       "3  Immigrants  Foreigners  American Samoa   909  Oceania   957   \n",
       "4  Immigrants  Foreigners         Andorra   908   Europe   925   \n",
       "\n",
       "           RegName  DEV                 DevName 1980  ...  2012  2013  \\\n",
       "0    Southern Asia  902  Less developed regions  722  ...  1617  2196   \n",
       "1  Southern Europe  901  More developed regions   30  ...  3364  3186   \n",
       "2  Northern Africa  902  Less developed regions  175  ...  1369  1241   \n",
       "3        Polynesia  902  Less developed regions    0  ...     -     D   \n",
       "4  Southern Europe  901  More developed regions    2  ...    ..    ..   \n",
       "\n",
       "  Unnamed: 43 Unnamed: 44 Unnamed: 45 Unnamed: 46 Unnamed: 47 Unnamed: 48  \\\n",
       "0         NaN         NaN         NaN         NaN         NaN         NaN   \n",
       "1         NaN         NaN         NaN         NaN         NaN         NaN   \n",
       "2         NaN         NaN         NaN         NaN         NaN         NaN   \n",
       "3         NaN         NaN         NaN         NaN         NaN         NaN   \n",
       "4         NaN         NaN         NaN         NaN         NaN         NaN   \n",
       "\n",
       "  Unnamed: 49 Unnamed: 50  \n",
       "0         NaN         NaN  \n",
       "1         NaN         NaN  \n",
       "2         NaN         NaN  \n",
       "3         NaN         NaN  \n",
       "4         NaN         NaN  \n",
       "\n",
       "[5 rows x 51 columns]"
      ]
     },
     "execution_count": 4,
     "metadata": {},
     "output_type": "execute_result"
    }
   ],
   "source": [
    "df_usa.head()\n",
    "# tip: You can specify the number of rows you'd like to see as follows: df_can.head(10)"
   ]
  },
  {
   "cell_type": "markdown",
   "metadata": {
    "button": false,
    "new_sheet": false,
    "run_control": {
     "read_only": false
    }
   },
   "source": [
    "Display the bottom 5 rows of the dataset using the `tail()` function."
   ]
  },
  {
   "cell_type": "code",
   "execution_count": 5,
   "metadata": {
    "button": false,
    "new_sheet": false,
    "run_control": {
     "read_only": false
    }
   },
   "outputs": [
    {
     "data": {
      "text/html": [
       "<div>\n",
       "<style scoped>\n",
       "    .dataframe tbody tr th:only-of-type {\n",
       "        vertical-align: middle;\n",
       "    }\n",
       "\n",
       "    .dataframe tbody tr th {\n",
       "        vertical-align: top;\n",
       "    }\n",
       "\n",
       "    .dataframe thead th {\n",
       "        text-align: right;\n",
       "    }\n",
       "</style>\n",
       "<table border=\"1\" class=\"dataframe\">\n",
       "  <thead>\n",
       "    <tr style=\"text-align: right;\">\n",
       "      <th></th>\n",
       "      <th>Type</th>\n",
       "      <th>Coverage</th>\n",
       "      <th>OdName</th>\n",
       "      <th>AREA</th>\n",
       "      <th>AreaName</th>\n",
       "      <th>REG</th>\n",
       "      <th>RegName</th>\n",
       "      <th>DEV</th>\n",
       "      <th>DevName</th>\n",
       "      <th>1980</th>\n",
       "      <th>...</th>\n",
       "      <th>2012</th>\n",
       "      <th>2013</th>\n",
       "      <th>Unnamed: 43</th>\n",
       "      <th>Unnamed: 44</th>\n",
       "      <th>Unnamed: 45</th>\n",
       "      <th>Unnamed: 46</th>\n",
       "      <th>Unnamed: 47</th>\n",
       "      <th>Unnamed: 48</th>\n",
       "      <th>Unnamed: 49</th>\n",
       "      <th>Unnamed: 50</th>\n",
       "    </tr>\n",
       "  </thead>\n",
       "  <tbody>\n",
       "    <tr>\n",
       "      <th>214</th>\n",
       "      <td>Immigrants</td>\n",
       "      <td>Foreigners</td>\n",
       "      <td>Wallis and Futuna Islands</td>\n",
       "      <td>909</td>\n",
       "      <td>Oceania</td>\n",
       "      <td>957</td>\n",
       "      <td>Polynesia</td>\n",
       "      <td>902</td>\n",
       "      <td>Less developed regions</td>\n",
       "      <td>0</td>\n",
       "      <td>...</td>\n",
       "      <td>..</td>\n",
       "      <td>..</td>\n",
       "      <td>NaN</td>\n",
       "      <td>NaN</td>\n",
       "      <td>NaN</td>\n",
       "      <td>NaN</td>\n",
       "      <td>NaN</td>\n",
       "      <td>NaN</td>\n",
       "      <td>NaN</td>\n",
       "      <td>NaN</td>\n",
       "    </tr>\n",
       "    <tr>\n",
       "      <th>215</th>\n",
       "      <td>Immigrants</td>\n",
       "      <td>Foreigners</td>\n",
       "      <td>Western Sahara</td>\n",
       "      <td>903</td>\n",
       "      <td>Africa</td>\n",
       "      <td>912</td>\n",
       "      <td>Northern Africa</td>\n",
       "      <td>902</td>\n",
       "      <td>Less developed regions</td>\n",
       "      <td>0</td>\n",
       "      <td>...</td>\n",
       "      <td>..</td>\n",
       "      <td>..</td>\n",
       "      <td>NaN</td>\n",
       "      <td>NaN</td>\n",
       "      <td>NaN</td>\n",
       "      <td>NaN</td>\n",
       "      <td>NaN</td>\n",
       "      <td>NaN</td>\n",
       "      <td>NaN</td>\n",
       "      <td>NaN</td>\n",
       "    </tr>\n",
       "    <tr>\n",
       "      <th>216</th>\n",
       "      <td>Immigrants</td>\n",
       "      <td>Foreigners</td>\n",
       "      <td>Yemen</td>\n",
       "      <td>935</td>\n",
       "      <td>Asia</td>\n",
       "      <td>922</td>\n",
       "      <td>Western Asia</td>\n",
       "      <td>902</td>\n",
       "      <td>Less developed regions</td>\n",
       "      <td>160</td>\n",
       "      <td>...</td>\n",
       "      <td>2620</td>\n",
       "      <td>3532</td>\n",
       "      <td>NaN</td>\n",
       "      <td>NaN</td>\n",
       "      <td>NaN</td>\n",
       "      <td>NaN</td>\n",
       "      <td>NaN</td>\n",
       "      <td>NaN</td>\n",
       "      <td>NaN</td>\n",
       "      <td>NaN</td>\n",
       "    </tr>\n",
       "    <tr>\n",
       "      <th>217</th>\n",
       "      <td>Immigrants</td>\n",
       "      <td>Foreigners</td>\n",
       "      <td>Zambia</td>\n",
       "      <td>903</td>\n",
       "      <td>Africa</td>\n",
       "      <td>910</td>\n",
       "      <td>Eastern Africa</td>\n",
       "      <td>902</td>\n",
       "      <td>Less developed regions</td>\n",
       "      <td>178</td>\n",
       "      <td>...</td>\n",
       "      <td>643</td>\n",
       "      <td>505</td>\n",
       "      <td>NaN</td>\n",
       "      <td>NaN</td>\n",
       "      <td>NaN</td>\n",
       "      <td>NaN</td>\n",
       "      <td>NaN</td>\n",
       "      <td>NaN</td>\n",
       "      <td>NaN</td>\n",
       "      <td>NaN</td>\n",
       "    </tr>\n",
       "    <tr>\n",
       "      <th>218</th>\n",
       "      <td>Immigrants</td>\n",
       "      <td>Foreigners</td>\n",
       "      <td>Zimbabwe</td>\n",
       "      <td>903</td>\n",
       "      <td>Africa</td>\n",
       "      <td>910</td>\n",
       "      <td>Eastern Africa</td>\n",
       "      <td>902</td>\n",
       "      <td>Less developed regions</td>\n",
       "      <td>246</td>\n",
       "      <td>...</td>\n",
       "      <td>914</td>\n",
       "      <td>924</td>\n",
       "      <td>NaN</td>\n",
       "      <td>NaN</td>\n",
       "      <td>NaN</td>\n",
       "      <td>NaN</td>\n",
       "      <td>NaN</td>\n",
       "      <td>NaN</td>\n",
       "      <td>NaN</td>\n",
       "      <td>NaN</td>\n",
       "    </tr>\n",
       "  </tbody>\n",
       "</table>\n",
       "<p>5 rows × 51 columns</p>\n",
       "</div>"
      ],
      "text/plain": [
       "           Type    Coverage                     OdName  AREA AreaName  REG  \\\n",
       "214  Immigrants  Foreigners  Wallis and Futuna Islands   909  Oceania  957   \n",
       "215  Immigrants  Foreigners             Western Sahara   903   Africa  912   \n",
       "216  Immigrants  Foreigners                      Yemen   935     Asia  922   \n",
       "217  Immigrants  Foreigners                     Zambia   903   Africa  910   \n",
       "218  Immigrants  Foreigners                   Zimbabwe   903   Africa  910   \n",
       "\n",
       "             RegName  DEV                 DevName 1980  ...  2012  2013  \\\n",
       "214        Polynesia  902  Less developed regions    0  ...    ..    ..   \n",
       "215  Northern Africa  902  Less developed regions    0  ...    ..    ..   \n",
       "216     Western Asia  902  Less developed regions  160  ...  2620  3532   \n",
       "217   Eastern Africa  902  Less developed regions  178  ...   643   505   \n",
       "218   Eastern Africa  902  Less developed regions  246  ...   914   924   \n",
       "\n",
       "    Unnamed: 43 Unnamed: 44 Unnamed: 45 Unnamed: 46 Unnamed: 47 Unnamed: 48  \\\n",
       "214         NaN         NaN         NaN         NaN         NaN         NaN   \n",
       "215         NaN         NaN         NaN         NaN         NaN         NaN   \n",
       "216         NaN         NaN         NaN         NaN         NaN         NaN   \n",
       "217         NaN         NaN         NaN         NaN         NaN         NaN   \n",
       "218         NaN         NaN         NaN         NaN         NaN         NaN   \n",
       "\n",
       "    Unnamed: 49 Unnamed: 50  \n",
       "214         NaN         NaN  \n",
       "215         NaN         NaN  \n",
       "216         NaN         NaN  \n",
       "217         NaN         NaN  \n",
       "218         NaN         NaN  \n",
       "\n",
       "[5 rows x 51 columns]"
      ]
     },
     "execution_count": 5,
     "metadata": {},
     "output_type": "execute_result"
    }
   ],
   "source": [
    "df_usa.tail()"
   ]
  },
  {
   "cell_type": "markdown",
   "metadata": {
    "button": false,
    "new_sheet": false,
    "run_control": {
     "read_only": false
    }
   },
   "source": [
    "Please get some basic information of the dataframe using the `info()` method."
   ]
  },
  {
   "cell_type": "code",
   "execution_count": 6,
   "metadata": {
    "button": false,
    "new_sheet": false,
    "run_control": {
     "read_only": false
    },
    "scrolled": true
   },
   "outputs": [
    {
     "name": "stdout",
     "output_type": "stream",
     "text": [
      "<class 'pandas.core.frame.DataFrame'>\n",
      "RangeIndex: 219 entries, 0 to 218\n",
      "Data columns (total 51 columns):\n",
      " #   Column       Non-Null Count  Dtype  \n",
      "---  ------       --------------  -----  \n",
      " 0   Type         219 non-null    object \n",
      " 1   Coverage     219 non-null    object \n",
      " 2   OdName       219 non-null    object \n",
      " 3   AREA         219 non-null    int64  \n",
      " 4   AreaName     219 non-null    object \n",
      " 5   REG          219 non-null    int64  \n",
      " 6   RegName      219 non-null    object \n",
      " 7   DEV          219 non-null    int64  \n",
      " 8   DevName      219 non-null    object \n",
      " 9   1980         219 non-null    object \n",
      " 10  1981         219 non-null    object \n",
      " 11  1982         219 non-null    object \n",
      " 12  1983         219 non-null    object \n",
      " 13  1984         219 non-null    object \n",
      " 14  1985         219 non-null    object \n",
      " 15  1986         219 non-null    object \n",
      " 16  1987         219 non-null    object \n",
      " 17  1988         219 non-null    object \n",
      " 18  1989         219 non-null    object \n",
      " 19  1990         219 non-null    object \n",
      " 20  1991         219 non-null    object \n",
      " 21  1992         219 non-null    object \n",
      " 22  1993         219 non-null    object \n",
      " 23  1994         219 non-null    object \n",
      " 24  1995         219 non-null    object \n",
      " 25  1996         219 non-null    object \n",
      " 26  1997         219 non-null    object \n",
      " 27  1998         219 non-null    object \n",
      " 28  1999         219 non-null    object \n",
      " 29  2000         219 non-null    object \n",
      " 30  2001         219 non-null    object \n",
      " 31  2002         219 non-null    object \n",
      " 32  2003         219 non-null    object \n",
      " 33  2004         219 non-null    object \n",
      " 34  2005         219 non-null    object \n",
      " 35  2006         219 non-null    object \n",
      " 36  2007         219 non-null    object \n",
      " 37  2008         219 non-null    object \n",
      " 38  2009         219 non-null    object \n",
      " 39  2010         219 non-null    object \n",
      " 40  2011         219 non-null    object \n",
      " 41  2012         219 non-null    object \n",
      " 42  2013         219 non-null    object \n",
      " 43  Unnamed: 43  0 non-null      float64\n",
      " 44  Unnamed: 44  0 non-null      float64\n",
      " 45  Unnamed: 45  0 non-null      float64\n",
      " 46  Unnamed: 46  0 non-null      float64\n",
      " 47  Unnamed: 47  0 non-null      float64\n",
      " 48  Unnamed: 48  0 non-null      float64\n",
      " 49  Unnamed: 49  0 non-null      float64\n",
      " 50  Unnamed: 50  0 non-null      float64\n",
      "dtypes: float64(8), int64(3), object(40)\n",
      "memory usage: 87.4+ KB\n"
     ]
    }
   ],
   "source": [
    "df_usa.info()"
   ]
  },
  {
   "cell_type": "markdown",
   "metadata": {
    "button": false,
    "new_sheet": false,
    "run_control": {
     "read_only": false
    }
   },
   "source": [
    "Please list of column headers in the dataframe; use the '.columns' parameter."
   ]
  },
  {
   "cell_type": "code",
   "execution_count": 7,
   "metadata": {
    "button": false,
    "new_sheet": false,
    "run_control": {
     "read_only": false
    },
    "scrolled": false
   },
   "outputs": [
    {
     "data": {
      "text/plain": [
       "array(['Type', 'Coverage', 'OdName', 'AREA', 'AreaName', 'REG', 'RegName',\n",
       "       'DEV', 'DevName', 1980, 1981, 1982, 1983, 1984, 1985, 1986, 1987,\n",
       "       1988, 1989, 1990, 1991, 1992, 1993, 1994, 1995, 1996, 1997, 1998,\n",
       "       1999, 2000, 2001, 2002, 2003, 2004, 2005, 2006, 2007, 2008, 2009,\n",
       "       2010, 2011, 2012, 2013, 'Unnamed: 43', 'Unnamed: 44',\n",
       "       'Unnamed: 45', 'Unnamed: 46', 'Unnamed: 47', 'Unnamed: 48',\n",
       "       'Unnamed: 49', 'Unnamed: 50'], dtype=object)"
      ]
     },
     "execution_count": 7,
     "metadata": {},
     "output_type": "execute_result"
    }
   ],
   "source": [
    "df_usa.columns.values "
   ]
  },
  {
   "cell_type": "markdown",
   "metadata": {
    "button": false,
    "new_sheet": false,
    "run_control": {
     "read_only": false
    }
   },
   "source": [
    "Please list of indicies with '.index' parameter."
   ]
  },
  {
   "cell_type": "code",
   "execution_count": 8,
   "metadata": {
    "button": false,
    "new_sheet": false,
    "run_control": {
     "read_only": false
    },
    "scrolled": true
   },
   "outputs": [
    {
     "data": {
      "text/plain": [
       "array([  0,   1,   2,   3,   4,   5,   6,   7,   8,   9,  10,  11,  12,\n",
       "        13,  14,  15,  16,  17,  18,  19,  20,  21,  22,  23,  24,  25,\n",
       "        26,  27,  28,  29,  30,  31,  32,  33,  34,  35,  36,  37,  38,\n",
       "        39,  40,  41,  42,  43,  44,  45,  46,  47,  48,  49,  50,  51,\n",
       "        52,  53,  54,  55,  56,  57,  58,  59,  60,  61,  62,  63,  64,\n",
       "        65,  66,  67,  68,  69,  70,  71,  72,  73,  74,  75,  76,  77,\n",
       "        78,  79,  80,  81,  82,  83,  84,  85,  86,  87,  88,  89,  90,\n",
       "        91,  92,  93,  94,  95,  96,  97,  98,  99, 100, 101, 102, 103,\n",
       "       104, 105, 106, 107, 108, 109, 110, 111, 112, 113, 114, 115, 116,\n",
       "       117, 118, 119, 120, 121, 122, 123, 124, 125, 126, 127, 128, 129,\n",
       "       130, 131, 132, 133, 134, 135, 136, 137, 138, 139, 140, 141, 142,\n",
       "       143, 144, 145, 146, 147, 148, 149, 150, 151, 152, 153, 154, 155,\n",
       "       156, 157, 158, 159, 160, 161, 162, 163, 164, 165, 166, 167, 168,\n",
       "       169, 170, 171, 172, 173, 174, 175, 176, 177, 178, 179, 180, 181,\n",
       "       182, 183, 184, 185, 186, 187, 188, 189, 190, 191, 192, 193, 194,\n",
       "       195, 196, 197, 198, 199, 200, 201, 202, 203, 204, 205, 206, 207,\n",
       "       208, 209, 210, 211, 212, 213, 214, 215, 216, 217, 218], dtype=int64)"
      ]
     },
     "execution_count": 8,
     "metadata": {},
     "output_type": "execute_result"
    }
   ],
   "source": [
    "df_usa.index.values"
   ]
  },
  {
   "cell_type": "markdown",
   "metadata": {
    "button": false,
    "new_sheet": false,
    "run_control": {
     "read_only": false
    }
   },
   "source": [
    "As the default type of index and columns is NOT a list, can you use tolist() method to convert them both?"
   ]
  },
  {
   "cell_type": "code",
   "execution_count": 9,
   "metadata": {
    "button": false,
    "new_sheet": false,
    "run_control": {
     "read_only": false
    },
    "scrolled": false
   },
   "outputs": [
    {
     "name": "stdout",
     "output_type": "stream",
     "text": [
      "<class 'pandas.core.indexes.base.Index'>\n",
      "<class 'pandas.core.indexes.range.RangeIndex'>\n"
     ]
    }
   ],
   "source": [
    "print(type(df_usa.columns))\n",
    "print(type(df_usa.index))"
   ]
  },
  {
   "cell_type": "code",
   "execution_count": 10,
   "metadata": {
    "button": false,
    "new_sheet": false,
    "run_control": {
     "read_only": false
    },
    "scrolled": false
   },
   "outputs": [
    {
     "name": "stdout",
     "output_type": "stream",
     "text": [
      "<class 'list'>\n",
      "<class 'list'>\n"
     ]
    }
   ],
   "source": [
    "df_usa.columns.tolist()\n",
    "df_usa.index.tolist()\n",
    "\n",
    "print (type(df_usa.columns.tolist()))\n",
    "print (type(df_usa.index.tolist()))"
   ]
  },
  {
   "cell_type": "markdown",
   "metadata": {
    "button": false,
    "new_sheet": false,
    "run_control": {
     "read_only": false
    }
   },
   "source": [
    "Please display the dimensions of the dataframe with the '.shape' parameter."
   ]
  },
  {
   "cell_type": "code",
   "execution_count": 11,
   "metadata": {
    "button": false,
    "new_sheet": false,
    "run_control": {
     "read_only": false
    },
    "scrolled": false
   },
   "outputs": [
    {
     "data": {
      "text/plain": [
       "(219, 51)"
      ]
     },
     "execution_count": 11,
     "metadata": {},
     "output_type": "execute_result"
    }
   ],
   "source": [
    "# size of dataframe (rows, columns)\n",
    "df_usa.shape    "
   ]
  },
  {
   "cell_type": "markdown",
   "metadata": {
    "button": false,
    "new_sheet": false,
    "run_control": {
     "read_only": false
    }
   },
   "source": [
    "Note: The main types stored in *pandas* objects are *float*, *int*, *bool*, *datetime64[ns]* and *datetime64[ns, tz] (in >= 0.17.0)*, *timedelta[ns]*, *category (in >= 0.15.0)*, and *object* (string). In addition these dtypes have item sizes, e.g. int64 and int32. "
   ]
  },
  {
   "cell_type": "markdown",
   "metadata": {
    "button": false,
    "new_sheet": false,
    "run_control": {
     "read_only": false
    }
   },
   "source": [
    "Please clean the data set by removing the following unnecessary columns (hint: use the 'drop()' method): \n",
    "- 'AREA', 'REG', 'DEV', 'Type', 'Coverage'"
   ]
  },
  {
   "cell_type": "code",
   "execution_count": 12,
   "metadata": {
    "button": false,
    "new_sheet": false,
    "run_control": {
     "read_only": false
    },
    "scrolled": false
   },
   "outputs": [
    {
     "data": {
      "text/html": [
       "<div>\n",
       "<style scoped>\n",
       "    .dataframe tbody tr th:only-of-type {\n",
       "        vertical-align: middle;\n",
       "    }\n",
       "\n",
       "    .dataframe tbody tr th {\n",
       "        vertical-align: top;\n",
       "    }\n",
       "\n",
       "    .dataframe thead th {\n",
       "        text-align: right;\n",
       "    }\n",
       "</style>\n",
       "<table border=\"1\" class=\"dataframe\">\n",
       "  <thead>\n",
       "    <tr style=\"text-align: right;\">\n",
       "      <th></th>\n",
       "      <th>OdName</th>\n",
       "      <th>AreaName</th>\n",
       "      <th>RegName</th>\n",
       "      <th>DevName</th>\n",
       "      <th>1980</th>\n",
       "      <th>1981</th>\n",
       "      <th>1982</th>\n",
       "      <th>1983</th>\n",
       "      <th>1984</th>\n",
       "      <th>1985</th>\n",
       "      <th>...</th>\n",
       "      <th>2012</th>\n",
       "      <th>2013</th>\n",
       "      <th>Unnamed: 43</th>\n",
       "      <th>Unnamed: 44</th>\n",
       "      <th>Unnamed: 45</th>\n",
       "      <th>Unnamed: 46</th>\n",
       "      <th>Unnamed: 47</th>\n",
       "      <th>Unnamed: 48</th>\n",
       "      <th>Unnamed: 49</th>\n",
       "      <th>Unnamed: 50</th>\n",
       "    </tr>\n",
       "  </thead>\n",
       "  <tbody>\n",
       "    <tr>\n",
       "      <th>0</th>\n",
       "      <td>Afghanistan</td>\n",
       "      <td>Asia</td>\n",
       "      <td>Southern Asia</td>\n",
       "      <td>Less developed regions</td>\n",
       "      <td>722</td>\n",
       "      <td>1881</td>\n",
       "      <td>1569</td>\n",
       "      <td>2566</td>\n",
       "      <td>3222</td>\n",
       "      <td>2794</td>\n",
       "      <td>...</td>\n",
       "      <td>1617</td>\n",
       "      <td>2196</td>\n",
       "      <td>NaN</td>\n",
       "      <td>NaN</td>\n",
       "      <td>NaN</td>\n",
       "      <td>NaN</td>\n",
       "      <td>NaN</td>\n",
       "      <td>NaN</td>\n",
       "      <td>NaN</td>\n",
       "      <td>NaN</td>\n",
       "    </tr>\n",
       "    <tr>\n",
       "      <th>1</th>\n",
       "      <td>Albania</td>\n",
       "      <td>Europe</td>\n",
       "      <td>Southern Europe</td>\n",
       "      <td>More developed regions</td>\n",
       "      <td>30</td>\n",
       "      <td>11</td>\n",
       "      <td>23</td>\n",
       "      <td>22</td>\n",
       "      <td>32</td>\n",
       "      <td>45</td>\n",
       "      <td>...</td>\n",
       "      <td>3364</td>\n",
       "      <td>3186</td>\n",
       "      <td>NaN</td>\n",
       "      <td>NaN</td>\n",
       "      <td>NaN</td>\n",
       "      <td>NaN</td>\n",
       "      <td>NaN</td>\n",
       "      <td>NaN</td>\n",
       "      <td>NaN</td>\n",
       "      <td>NaN</td>\n",
       "    </tr>\n",
       "  </tbody>\n",
       "</table>\n",
       "<p>2 rows × 46 columns</p>\n",
       "</div>"
      ],
      "text/plain": [
       "        OdName AreaName          RegName                 DevName 1980  1981  \\\n",
       "0  Afghanistan     Asia    Southern Asia  Less developed regions  722  1881   \n",
       "1      Albania   Europe  Southern Europe  More developed regions   30    11   \n",
       "\n",
       "   1982  1983  1984  1985  ...  2012  2013 Unnamed: 43 Unnamed: 44  \\\n",
       "0  1569  2566  3222  2794  ...  1617  2196         NaN         NaN   \n",
       "1    23    22    32    45  ...  3364  3186         NaN         NaN   \n",
       "\n",
       "  Unnamed: 45 Unnamed: 46 Unnamed: 47 Unnamed: 48 Unnamed: 49 Unnamed: 50  \n",
       "0         NaN         NaN         NaN         NaN         NaN         NaN  \n",
       "1         NaN         NaN         NaN         NaN         NaN         NaN  \n",
       "\n",
       "[2 rows x 46 columns]"
      ]
     },
     "execution_count": 12,
     "metadata": {},
     "output_type": "execute_result"
    }
   ],
   "source": [
    "# in pandas axis=0 represents rows (default) and axis=1 represents columns.\n",
    "df_usa.drop(['AREA','REG','DEV','Type','Coverage'], axis=1, inplace=True)\n",
    "df_usa.head(2)"
   ]
  },
  {
   "cell_type": "markdown",
   "metadata": {
    "button": false,
    "new_sheet": false,
    "run_control": {
     "read_only": false
    }
   },
   "source": [
    "Rename the following columns by passing in a dictionary of old and new names (hint: use 'rename' method):\n",
    " - 'OdName' --> 'Country'\n",
    " - 'AreaName' --> 'Continent', \n",
    " - 'RegName' --> 'Region'\n",
    " - 'DevName' --> 'Dev_Status'"
   ]
  },
  {
   "cell_type": "code",
   "execution_count": 13,
   "metadata": {
    "button": false,
    "new_sheet": false,
    "run_control": {
     "read_only": false
    },
    "scrolled": false
   },
   "outputs": [
    {
     "data": {
      "text/plain": [
       "Index([    'Country',   'Continent',      'Region',  'Dev_Status',\n",
       "                1980,          1981,          1982,          1983,\n",
       "                1984,          1985,          1986,          1987,\n",
       "                1988,          1989,          1990,          1991,\n",
       "                1992,          1993,          1994,          1995,\n",
       "                1996,          1997,          1998,          1999,\n",
       "                2000,          2001,          2002,          2003,\n",
       "                2004,          2005,          2006,          2007,\n",
       "                2008,          2009,          2010,          2011,\n",
       "                2012,          2013, 'Unnamed: 43', 'Unnamed: 44',\n",
       "       'Unnamed: 45', 'Unnamed: 46', 'Unnamed: 47', 'Unnamed: 48',\n",
       "       'Unnamed: 49', 'Unnamed: 50'],\n",
       "      dtype='object')"
      ]
     },
     "execution_count": 13,
     "metadata": {},
     "output_type": "execute_result"
    }
   ],
   "source": [
    "df_usa.rename(columns={'OdName':'Country', 'AreaName':'Continent', 'RegName':'Region', 'DevName':'Dev_Status'}, inplace=True)\n",
    "df_usa.columns"
   ]
  },
  {
   "cell_type": "markdown",
   "metadata": {
    "button": false,
    "new_sheet": false,
    "run_control": {
     "read_only": false
    }
   },
   "source": [
    "Add a 'Total' column to sums up the total immigrants by country over the entire period 1980 - 2013"
   ]
  },
  {
   "cell_type": "code",
   "execution_count": 14,
   "metadata": {
    "button": false,
    "new_sheet": false,
    "run_control": {
     "read_only": false
    },
    "scrolled": false
   },
   "outputs": [],
   "source": [
    "df_usa['Total'] = df_usa.sum(axis=1)"
   ]
  },
  {
   "cell_type": "markdown",
   "metadata": {
    "button": false,
    "new_sheet": false,
    "run_control": {
     "read_only": false
    }
   },
   "source": [
    "Determine how many null objects there are in the dataset"
   ]
  },
  {
   "cell_type": "code",
   "execution_count": 15,
   "metadata": {
    "button": false,
    "new_sheet": false,
    "run_control": {
     "read_only": false
    },
    "scrolled": true
   },
   "outputs": [
    {
     "data": {
      "text/plain": [
       "Country          0\n",
       "Continent        0\n",
       "Region           0\n",
       "Dev_Status       0\n",
       "1980             0\n",
       "1981             0\n",
       "1982             0\n",
       "1983             0\n",
       "1984             0\n",
       "1985             0\n",
       "1986             0\n",
       "1987             0\n",
       "1988             0\n",
       "1989             0\n",
       "1990             0\n",
       "1991             0\n",
       "1992             0\n",
       "1993             0\n",
       "1994             0\n",
       "1995             0\n",
       "1996             0\n",
       "1997             0\n",
       "1998             0\n",
       "1999             0\n",
       "2000             0\n",
       "2001             0\n",
       "2002             0\n",
       "2003             0\n",
       "2004             0\n",
       "2005             0\n",
       "2006             0\n",
       "2007             0\n",
       "2008             0\n",
       "2009             0\n",
       "2010             0\n",
       "2011             0\n",
       "2012             0\n",
       "2013             0\n",
       "Unnamed: 43    219\n",
       "Unnamed: 44    219\n",
       "Unnamed: 45    219\n",
       "Unnamed: 46    219\n",
       "Unnamed: 47    219\n",
       "Unnamed: 48    219\n",
       "Unnamed: 49    219\n",
       "Unnamed: 50    219\n",
       "Total            0\n",
       "dtype: int64"
      ]
     },
     "execution_count": 15,
     "metadata": {},
     "output_type": "execute_result"
    }
   ],
   "source": [
    "df_usa.isnull().sum()"
   ]
  },
  {
   "cell_type": "markdown",
   "metadata": {
    "button": false,
    "new_sheet": false,
    "run_control": {
     "read_only": false
    }
   },
   "source": [
    "Finally, summarize using the 'describe()' method."
   ]
  },
  {
   "cell_type": "code",
   "execution_count": 16,
   "metadata": {
    "button": false,
    "new_sheet": false,
    "run_control": {
     "read_only": false
    },
    "scrolled": false
   },
   "outputs": [
    {
     "data": {
      "text/html": [
       "<div>\n",
       "<style scoped>\n",
       "    .dataframe tbody tr th:only-of-type {\n",
       "        vertical-align: middle;\n",
       "    }\n",
       "\n",
       "    .dataframe tbody tr th {\n",
       "        vertical-align: top;\n",
       "    }\n",
       "\n",
       "    .dataframe thead th {\n",
       "        text-align: right;\n",
       "    }\n",
       "</style>\n",
       "<table border=\"1\" class=\"dataframe\">\n",
       "  <thead>\n",
       "    <tr style=\"text-align: right;\">\n",
       "      <th></th>\n",
       "      <th>Unnamed: 43</th>\n",
       "      <th>Unnamed: 44</th>\n",
       "      <th>Unnamed: 45</th>\n",
       "      <th>Unnamed: 46</th>\n",
       "      <th>Unnamed: 47</th>\n",
       "      <th>Unnamed: 48</th>\n",
       "      <th>Unnamed: 49</th>\n",
       "      <th>Unnamed: 50</th>\n",
       "      <th>Total</th>\n",
       "    </tr>\n",
       "  </thead>\n",
       "  <tbody>\n",
       "    <tr>\n",
       "      <th>count</th>\n",
       "      <td>0.0</td>\n",
       "      <td>0.0</td>\n",
       "      <td>0.0</td>\n",
       "      <td>0.0</td>\n",
       "      <td>0.0</td>\n",
       "      <td>0.0</td>\n",
       "      <td>0.0</td>\n",
       "      <td>0.0</td>\n",
       "      <td>219.0</td>\n",
       "    </tr>\n",
       "    <tr>\n",
       "      <th>mean</th>\n",
       "      <td>NaN</td>\n",
       "      <td>NaN</td>\n",
       "      <td>NaN</td>\n",
       "      <td>NaN</td>\n",
       "      <td>NaN</td>\n",
       "      <td>NaN</td>\n",
       "      <td>NaN</td>\n",
       "      <td>NaN</td>\n",
       "      <td>0.0</td>\n",
       "    </tr>\n",
       "    <tr>\n",
       "      <th>std</th>\n",
       "      <td>NaN</td>\n",
       "      <td>NaN</td>\n",
       "      <td>NaN</td>\n",
       "      <td>NaN</td>\n",
       "      <td>NaN</td>\n",
       "      <td>NaN</td>\n",
       "      <td>NaN</td>\n",
       "      <td>NaN</td>\n",
       "      <td>0.0</td>\n",
       "    </tr>\n",
       "    <tr>\n",
       "      <th>min</th>\n",
       "      <td>NaN</td>\n",
       "      <td>NaN</td>\n",
       "      <td>NaN</td>\n",
       "      <td>NaN</td>\n",
       "      <td>NaN</td>\n",
       "      <td>NaN</td>\n",
       "      <td>NaN</td>\n",
       "      <td>NaN</td>\n",
       "      <td>0.0</td>\n",
       "    </tr>\n",
       "    <tr>\n",
       "      <th>25%</th>\n",
       "      <td>NaN</td>\n",
       "      <td>NaN</td>\n",
       "      <td>NaN</td>\n",
       "      <td>NaN</td>\n",
       "      <td>NaN</td>\n",
       "      <td>NaN</td>\n",
       "      <td>NaN</td>\n",
       "      <td>NaN</td>\n",
       "      <td>0.0</td>\n",
       "    </tr>\n",
       "    <tr>\n",
       "      <th>50%</th>\n",
       "      <td>NaN</td>\n",
       "      <td>NaN</td>\n",
       "      <td>NaN</td>\n",
       "      <td>NaN</td>\n",
       "      <td>NaN</td>\n",
       "      <td>NaN</td>\n",
       "      <td>NaN</td>\n",
       "      <td>NaN</td>\n",
       "      <td>0.0</td>\n",
       "    </tr>\n",
       "    <tr>\n",
       "      <th>75%</th>\n",
       "      <td>NaN</td>\n",
       "      <td>NaN</td>\n",
       "      <td>NaN</td>\n",
       "      <td>NaN</td>\n",
       "      <td>NaN</td>\n",
       "      <td>NaN</td>\n",
       "      <td>NaN</td>\n",
       "      <td>NaN</td>\n",
       "      <td>0.0</td>\n",
       "    </tr>\n",
       "    <tr>\n",
       "      <th>max</th>\n",
       "      <td>NaN</td>\n",
       "      <td>NaN</td>\n",
       "      <td>NaN</td>\n",
       "      <td>NaN</td>\n",
       "      <td>NaN</td>\n",
       "      <td>NaN</td>\n",
       "      <td>NaN</td>\n",
       "      <td>NaN</td>\n",
       "      <td>0.0</td>\n",
       "    </tr>\n",
       "  </tbody>\n",
       "</table>\n",
       "</div>"
      ],
      "text/plain": [
       "       Unnamed: 43  Unnamed: 44  Unnamed: 45  Unnamed: 46  Unnamed: 47  \\\n",
       "count          0.0          0.0          0.0          0.0          0.0   \n",
       "mean           NaN          NaN          NaN          NaN          NaN   \n",
       "std            NaN          NaN          NaN          NaN          NaN   \n",
       "min            NaN          NaN          NaN          NaN          NaN   \n",
       "25%            NaN          NaN          NaN          NaN          NaN   \n",
       "50%            NaN          NaN          NaN          NaN          NaN   \n",
       "75%            NaN          NaN          NaN          NaN          NaN   \n",
       "max            NaN          NaN          NaN          NaN          NaN   \n",
       "\n",
       "       Unnamed: 48  Unnamed: 49  Unnamed: 50  Total  \n",
       "count          0.0          0.0          0.0  219.0  \n",
       "mean           NaN          NaN          NaN    0.0  \n",
       "std            NaN          NaN          NaN    0.0  \n",
       "min            NaN          NaN          NaN    0.0  \n",
       "25%            NaN          NaN          NaN    0.0  \n",
       "50%            NaN          NaN          NaN    0.0  \n",
       "75%            NaN          NaN          NaN    0.0  \n",
       "max            NaN          NaN          NaN    0.0  "
      ]
     },
     "execution_count": 16,
     "metadata": {},
     "output_type": "execute_result"
    }
   ],
   "source": [
    "df_usa.describe()"
   ]
  },
  {
   "cell_type": "markdown",
   "metadata": {
    "button": false,
    "new_sheet": false,
    "run_control": {
     "read_only": false
    }
   },
   "source": [
    "---\n",
    "## *pandas* Intermediate: Indexing and Selection (slicing)<a id=\"6\"></a>\n"
   ]
  },
  {
   "cell_type": "markdown",
   "metadata": {
    "button": false,
    "new_sheet": false,
    "run_control": {
     "read_only": false
    }
   },
   "source": [
    "### Select Column\n",
    "**There are two ways to filter on a column name:**\n",
    "\n",
    "Method 1: Quick and easy, but only works if the column name does NOT have spaces or special characters.\n",
    "```python\n",
    "    df.column_name \n",
    "        (returns series)\n",
    "```\n",
    "\n",
    "Method 2: More robust, and can filter on multiple columns.\n",
    "\n",
    "```python\n",
    "    df['column']  \n",
    "        (returns series)\n",
    "```\n",
    "\n",
    "```python \n",
    "    df[['column 1', 'column 2']] \n",
    "        (returns dataframe)\n",
    "```\n",
    "---"
   ]
  },
  {
   "cell_type": "markdown",
   "metadata": {
    "button": false,
    "new_sheet": false,
    "run_control": {
     "read_only": false
    }
   },
   "source": [
    "Method 1: Filtering on the list of countries ('Country')."
   ]
  },
  {
   "cell_type": "code",
   "execution_count": 17,
   "metadata": {
    "button": false,
    "new_sheet": false,
    "run_control": {
     "read_only": false
    },
    "scrolled": true
   },
   "outputs": [
    {
     "data": {
      "text/plain": [
       "0                    Afghanistan\n",
       "1                        Albania\n",
       "2                        Algeria\n",
       "3                 American Samoa\n",
       "4                        Andorra\n",
       "                 ...            \n",
       "214    Wallis and Futuna Islands\n",
       "215               Western Sahara\n",
       "216                        Yemen\n",
       "217                       Zambia\n",
       "218                     Zimbabwe\n",
       "Name: Country, Length: 219, dtype: object"
      ]
     },
     "execution_count": 17,
     "metadata": {},
     "output_type": "execute_result"
    }
   ],
   "source": [
    "df_usa.Country  # returns a series"
   ]
  },
  {
   "cell_type": "markdown",
   "metadata": {
    "button": false,
    "new_sheet": false,
    "run_control": {
     "read_only": false
    }
   },
   "source": [
    "Method 2: Filtering on the list of countries ('Country') and the data for years 1980 - 1985 (inclusive)."
   ]
  },
  {
   "cell_type": "code",
   "execution_count": 18,
   "metadata": {
    "button": false,
    "new_sheet": false,
    "run_control": {
     "read_only": false
    }
   },
   "outputs": [
    {
     "data": {
      "text/html": [
       "<div>\n",
       "<style scoped>\n",
       "    .dataframe tbody tr th:only-of-type {\n",
       "        vertical-align: middle;\n",
       "    }\n",
       "\n",
       "    .dataframe tbody tr th {\n",
       "        vertical-align: top;\n",
       "    }\n",
       "\n",
       "    .dataframe thead th {\n",
       "        text-align: right;\n",
       "    }\n",
       "</style>\n",
       "<table border=\"1\" class=\"dataframe\">\n",
       "  <thead>\n",
       "    <tr style=\"text-align: right;\">\n",
       "      <th></th>\n",
       "      <th>Country</th>\n",
       "      <th>1980</th>\n",
       "      <th>1981</th>\n",
       "      <th>1982</th>\n",
       "      <th>1983</th>\n",
       "      <th>1984</th>\n",
       "      <th>1985</th>\n",
       "    </tr>\n",
       "  </thead>\n",
       "  <tbody>\n",
       "    <tr>\n",
       "      <th>0</th>\n",
       "      <td>Afghanistan</td>\n",
       "      <td>722</td>\n",
       "      <td>1881</td>\n",
       "      <td>1569</td>\n",
       "      <td>2566</td>\n",
       "      <td>3222</td>\n",
       "      <td>2794</td>\n",
       "    </tr>\n",
       "    <tr>\n",
       "      <th>1</th>\n",
       "      <td>Albania</td>\n",
       "      <td>30</td>\n",
       "      <td>11</td>\n",
       "      <td>23</td>\n",
       "      <td>22</td>\n",
       "      <td>32</td>\n",
       "      <td>45</td>\n",
       "    </tr>\n",
       "    <tr>\n",
       "      <th>2</th>\n",
       "      <td>Algeria</td>\n",
       "      <td>175</td>\n",
       "      <td>184</td>\n",
       "      <td>190</td>\n",
       "      <td>201</td>\n",
       "      <td>197</td>\n",
       "      <td>202</td>\n",
       "    </tr>\n",
       "    <tr>\n",
       "      <th>3</th>\n",
       "      <td>American Samoa</td>\n",
       "      <td>0</td>\n",
       "      <td>0</td>\n",
       "      <td>7</td>\n",
       "      <td>7</td>\n",
       "      <td>0</td>\n",
       "      <td>0</td>\n",
       "    </tr>\n",
       "    <tr>\n",
       "      <th>4</th>\n",
       "      <td>Andorra</td>\n",
       "      <td>2</td>\n",
       "      <td>3</td>\n",
       "      <td>2</td>\n",
       "      <td>1</td>\n",
       "      <td>0</td>\n",
       "      <td>0</td>\n",
       "    </tr>\n",
       "    <tr>\n",
       "      <th>...</th>\n",
       "      <td>...</td>\n",
       "      <td>...</td>\n",
       "      <td>...</td>\n",
       "      <td>...</td>\n",
       "      <td>...</td>\n",
       "      <td>...</td>\n",
       "      <td>...</td>\n",
       "    </tr>\n",
       "    <tr>\n",
       "      <th>214</th>\n",
       "      <td>Wallis and Futuna Islands</td>\n",
       "      <td>0</td>\n",
       "      <td>0</td>\n",
       "      <td>0</td>\n",
       "      <td>0</td>\n",
       "      <td>0</td>\n",
       "      <td>0</td>\n",
       "    </tr>\n",
       "    <tr>\n",
       "      <th>215</th>\n",
       "      <td>Western Sahara</td>\n",
       "      <td>0</td>\n",
       "      <td>1</td>\n",
       "      <td>1</td>\n",
       "      <td>2</td>\n",
       "      <td>0</td>\n",
       "      <td>0</td>\n",
       "    </tr>\n",
       "    <tr>\n",
       "      <th>216</th>\n",
       "      <td>Yemen</td>\n",
       "      <td>160</td>\n",
       "      <td>230</td>\n",
       "      <td>305</td>\n",
       "      <td>268</td>\n",
       "      <td>324</td>\n",
       "      <td>432</td>\n",
       "    </tr>\n",
       "    <tr>\n",
       "      <th>217</th>\n",
       "      <td>Zambia</td>\n",
       "      <td>178</td>\n",
       "      <td>165</td>\n",
       "      <td>165</td>\n",
       "      <td>160</td>\n",
       "      <td>146</td>\n",
       "      <td>169</td>\n",
       "    </tr>\n",
       "    <tr>\n",
       "      <th>218</th>\n",
       "      <td>Zimbabwe</td>\n",
       "      <td>246</td>\n",
       "      <td>167</td>\n",
       "      <td>162</td>\n",
       "      <td>193</td>\n",
       "      <td>200</td>\n",
       "      <td>222</td>\n",
       "    </tr>\n",
       "  </tbody>\n",
       "</table>\n",
       "<p>219 rows × 7 columns</p>\n",
       "</div>"
      ],
      "text/plain": [
       "                       Country 1980  1981  1982  1983  1984  1985\n",
       "0                  Afghanistan  722  1881  1569  2566  3222  2794\n",
       "1                      Albania   30    11    23    22    32    45\n",
       "2                      Algeria  175   184   190   201   197   202\n",
       "3               American Samoa    0     0     7     7     0     0\n",
       "4                      Andorra    2     3     2     1     0     0\n",
       "..                         ...  ...   ...   ...   ...   ...   ...\n",
       "214  Wallis and Futuna Islands    0     0     0     0     0     0\n",
       "215             Western Sahara    0     1     1     2     0     0\n",
       "216                      Yemen  160   230   305   268   324   432\n",
       "217                     Zambia  178   165   165   160   146   169\n",
       "218                   Zimbabwe  246   167   162   193   200   222\n",
       "\n",
       "[219 rows x 7 columns]"
      ]
     },
     "execution_count": 18,
     "metadata": {},
     "output_type": "execute_result"
    }
   ],
   "source": [
    "df_usa[['Country', 1980, 1981, 1982, 1983, 1984, 1985]] # returns a dataframe\n",
    "# notice that 'Country' is string, and the years are integers. \n",
    "# for the sake of consistency, we will convert all column names to string later on."
   ]
  },
  {
   "cell_type": "markdown",
   "metadata": {
    "button": false,
    "new_sheet": false,
    "run_control": {
     "read_only": false
    }
   },
   "source": [
    "## Select Row\n",
    "\n",
    "Here are some ways to select rows:\n",
    "\n",
    "```python\n",
    "    df.loc[label]        \n",
    "        #filters by the labels of the index/column\n",
    "    df.iloc[index]       \n",
    "        #filters by the positions of the index/column\n",
    "```"
   ]
  },
  {
   "cell_type": "markdown",
   "metadata": {},
   "source": [
    "The default index of the dataset is a numeric range. This makes it very difficult to do a query by a specific country because you will need to know the corressponding index value.\n",
    "\n",
    "What is the index number for Singapore, Malaysia & Thailand?"
   ]
  },
  {
   "cell_type": "code",
   "execution_count": 19,
   "metadata": {},
   "outputs": [
    {
     "name": "stdout",
     "output_type": "stream",
     "text": [
      "index for Singapore: [177]\n",
      "index for Malaysia: [117]\n",
      "index for Thailand: [192]\n"
     ]
    }
   ],
   "source": [
    "print(f\"index for Singapore: {df_usa[df_usa['Country']=='Singapore'].index.values}\")\n",
    "print(f\"index for Malaysia: {df_usa[df_usa['Country']=='Malaysia'].index.values}\")\n",
    "print(f\"index for Thailand: {df_usa[df_usa['Country']=='Thailand'].index.values}\")"
   ]
  },
  {
   "cell_type": "markdown",
   "metadata": {
    "button": false,
    "new_sheet": false,
    "run_control": {
     "read_only": false
    }
   },
   "source": [
    "Please set the 'Country' column as the index using 'set_index()' method."
   ]
  },
  {
   "cell_type": "code",
   "execution_count": 20,
   "metadata": {
    "button": false,
    "new_sheet": false,
    "run_control": {
     "read_only": false
    },
    "scrolled": true
   },
   "outputs": [],
   "source": [
    "df_usa.set_index('Country', inplace=True)\n",
    "# tip: The opposite of set is reset. So to reset the index, we can use df_can.reset_index()"
   ]
  },
  {
   "cell_type": "code",
   "execution_count": 21,
   "metadata": {
    "button": false,
    "new_sheet": false,
    "run_control": {
     "read_only": false
    },
    "scrolled": false
   },
   "outputs": [
    {
     "data": {
      "text/html": [
       "<div>\n",
       "<style scoped>\n",
       "    .dataframe tbody tr th:only-of-type {\n",
       "        vertical-align: middle;\n",
       "    }\n",
       "\n",
       "    .dataframe tbody tr th {\n",
       "        vertical-align: top;\n",
       "    }\n",
       "\n",
       "    .dataframe thead th {\n",
       "        text-align: right;\n",
       "    }\n",
       "</style>\n",
       "<table border=\"1\" class=\"dataframe\">\n",
       "  <thead>\n",
       "    <tr style=\"text-align: right;\">\n",
       "      <th></th>\n",
       "      <th>Continent</th>\n",
       "      <th>Region</th>\n",
       "      <th>Dev_Status</th>\n",
       "      <th>1980</th>\n",
       "      <th>1981</th>\n",
       "      <th>1982</th>\n",
       "      <th>1983</th>\n",
       "      <th>1984</th>\n",
       "      <th>1985</th>\n",
       "      <th>1986</th>\n",
       "      <th>...</th>\n",
       "      <th>2013</th>\n",
       "      <th>Unnamed: 43</th>\n",
       "      <th>Unnamed: 44</th>\n",
       "      <th>Unnamed: 45</th>\n",
       "      <th>Unnamed: 46</th>\n",
       "      <th>Unnamed: 47</th>\n",
       "      <th>Unnamed: 48</th>\n",
       "      <th>Unnamed: 49</th>\n",
       "      <th>Unnamed: 50</th>\n",
       "      <th>Total</th>\n",
       "    </tr>\n",
       "    <tr>\n",
       "      <th>Country</th>\n",
       "      <th></th>\n",
       "      <th></th>\n",
       "      <th></th>\n",
       "      <th></th>\n",
       "      <th></th>\n",
       "      <th></th>\n",
       "      <th></th>\n",
       "      <th></th>\n",
       "      <th></th>\n",
       "      <th></th>\n",
       "      <th></th>\n",
       "      <th></th>\n",
       "      <th></th>\n",
       "      <th></th>\n",
       "      <th></th>\n",
       "      <th></th>\n",
       "      <th></th>\n",
       "      <th></th>\n",
       "      <th></th>\n",
       "      <th></th>\n",
       "      <th></th>\n",
       "    </tr>\n",
       "  </thead>\n",
       "  <tbody>\n",
       "    <tr>\n",
       "      <th>Afghanistan</th>\n",
       "      <td>Asia</td>\n",
       "      <td>Southern Asia</td>\n",
       "      <td>Less developed regions</td>\n",
       "      <td>722</td>\n",
       "      <td>1881</td>\n",
       "      <td>1569</td>\n",
       "      <td>2566</td>\n",
       "      <td>3222</td>\n",
       "      <td>2794</td>\n",
       "      <td>2831</td>\n",
       "      <td>...</td>\n",
       "      <td>2196</td>\n",
       "      <td>NaN</td>\n",
       "      <td>NaN</td>\n",
       "      <td>NaN</td>\n",
       "      <td>NaN</td>\n",
       "      <td>NaN</td>\n",
       "      <td>NaN</td>\n",
       "      <td>NaN</td>\n",
       "      <td>NaN</td>\n",
       "      <td>0.0</td>\n",
       "    </tr>\n",
       "    <tr>\n",
       "      <th>Albania</th>\n",
       "      <td>Europe</td>\n",
       "      <td>Southern Europe</td>\n",
       "      <td>More developed regions</td>\n",
       "      <td>30</td>\n",
       "      <td>11</td>\n",
       "      <td>23</td>\n",
       "      <td>22</td>\n",
       "      <td>32</td>\n",
       "      <td>45</td>\n",
       "      <td>53</td>\n",
       "      <td>...</td>\n",
       "      <td>3186</td>\n",
       "      <td>NaN</td>\n",
       "      <td>NaN</td>\n",
       "      <td>NaN</td>\n",
       "      <td>NaN</td>\n",
       "      <td>NaN</td>\n",
       "      <td>NaN</td>\n",
       "      <td>NaN</td>\n",
       "      <td>NaN</td>\n",
       "      <td>0.0</td>\n",
       "    </tr>\n",
       "    <tr>\n",
       "      <th>Algeria</th>\n",
       "      <td>Africa</td>\n",
       "      <td>Northern Africa</td>\n",
       "      <td>Less developed regions</td>\n",
       "      <td>175</td>\n",
       "      <td>184</td>\n",
       "      <td>190</td>\n",
       "      <td>201</td>\n",
       "      <td>197</td>\n",
       "      <td>202</td>\n",
       "      <td>183</td>\n",
       "      <td>...</td>\n",
       "      <td>1241</td>\n",
       "      <td>NaN</td>\n",
       "      <td>NaN</td>\n",
       "      <td>NaN</td>\n",
       "      <td>NaN</td>\n",
       "      <td>NaN</td>\n",
       "      <td>NaN</td>\n",
       "      <td>NaN</td>\n",
       "      <td>NaN</td>\n",
       "      <td>0.0</td>\n",
       "    </tr>\n",
       "  </tbody>\n",
       "</table>\n",
       "<p>3 rows × 46 columns</p>\n",
       "</div>"
      ],
      "text/plain": [
       "            Continent           Region              Dev_Status 1980  1981  \\\n",
       "Country                                                                     \n",
       "Afghanistan      Asia    Southern Asia  Less developed regions  722  1881   \n",
       "Albania        Europe  Southern Europe  More developed regions   30    11   \n",
       "Algeria        Africa  Northern Africa  Less developed regions  175   184   \n",
       "\n",
       "             1982  1983  1984  1985  1986  ...  2013 Unnamed: 43 Unnamed: 44  \\\n",
       "Country                                    ...                                 \n",
       "Afghanistan  1569  2566  3222  2794  2831  ...  2196         NaN         NaN   \n",
       "Albania        23    22    32    45    53  ...  3186         NaN         NaN   \n",
       "Algeria       190   201   197   202   183  ...  1241         NaN         NaN   \n",
       "\n",
       "            Unnamed: 45 Unnamed: 46 Unnamed: 47 Unnamed: 48 Unnamed: 49  \\\n",
       "Country                                                                   \n",
       "Afghanistan         NaN         NaN         NaN         NaN         NaN   \n",
       "Albania             NaN         NaN         NaN         NaN         NaN   \n",
       "Algeria             NaN         NaN         NaN         NaN         NaN   \n",
       "\n",
       "            Unnamed: 50 Total  \n",
       "Country                        \n",
       "Afghanistan         NaN   0.0  \n",
       "Albania             NaN   0.0  \n",
       "Algeria             NaN   0.0  \n",
       "\n",
       "[3 rows x 46 columns]"
      ]
     },
     "execution_count": 21,
     "metadata": {},
     "output_type": "execute_result"
    }
   ],
   "source": [
    "df_usa.head(3)"
   ]
  },
  {
   "cell_type": "code",
   "execution_count": 22,
   "metadata": {
    "button": false,
    "new_sheet": false,
    "run_control": {
     "read_only": false
    },
    "scrolled": false
   },
   "outputs": [],
   "source": [
    "# optional: to remove the name of the index\n",
    "#df_usa.index.name = None\n",
    "#df_usa.head(3)"
   ]
  },
  {
   "cell_type": "markdown",
   "metadata": {
    "button": false,
    "new_sheet": false,
    "run_control": {
     "read_only": false
    }
   },
   "source": [
    "Please display the number of immigrants for the following scenarios:\n",
    "    1. From Singapore - The full row data (all columns)\n",
    "    2. From Malaysia - For year 2013\n",
    "    3. From Thailand - For years 1980 to 1985"
   ]
  },
  {
   "cell_type": "code",
   "execution_count": 23,
   "metadata": {
    "button": false,
    "new_sheet": false,
    "run_control": {
     "read_only": false
    },
    "scrolled": true
   },
   "outputs": [
    {
     "name": "stdout",
     "output_type": "stream",
     "text": [
      "Continent                        Asia\n",
      "Region             South-Eastern Asia\n",
      "Dev_Status     Less developed regions\n",
      "1980                              322\n",
      "1981                              408\n",
      "1982                              390\n",
      "1983                              362\n",
      "1984                              377\n",
      "1985                              460\n",
      "1986                              480\n",
      "1987                              469\n",
      "1988                              492\n",
      "1989                              566\n",
      "1990                              620\n",
      "1991                              535\n",
      "1992                              774\n",
      "1993                              798\n",
      "1994                              542\n",
      "1995                              399\n",
      "1996                              561\n",
      "1997                              460\n",
      "1998                              388\n",
      "1999                              355\n",
      "2000                              668\n",
      "2001                             1100\n",
      "2002                             1033\n",
      "2003                              582\n",
      "2004                              966\n",
      "2005                             1204\n",
      "2006                              997\n",
      "2007                              985\n",
      "2008                              922\n",
      "2009                              832\n",
      "2010                              774\n",
      "2011                              690\n",
      "2012                              712\n",
      "2013                              835\n",
      "Unnamed: 43                       NaN\n",
      "Unnamed: 44                       NaN\n",
      "Unnamed: 45                       NaN\n",
      "Unnamed: 46                       NaN\n",
      "Unnamed: 47                       NaN\n",
      "Unnamed: 48                       NaN\n",
      "Unnamed: 49                       NaN\n",
      "Unnamed: 50                       NaN\n",
      "Total                             0.0\n",
      "Name: Singapore, dtype: object\n",
      "Continent                        Asia\n",
      "Region             South-Eastern Asia\n",
      "Dev_Status     Less developed regions\n",
      "1980                              322\n",
      "1981                              408\n",
      "1982                              390\n",
      "1983                              362\n",
      "1984                              377\n",
      "1985                              460\n",
      "1986                              480\n",
      "1987                              469\n",
      "1988                              492\n",
      "1989                              566\n",
      "1990                              620\n",
      "1991                              535\n",
      "1992                              774\n",
      "1993                              798\n",
      "1994                              542\n",
      "1995                              399\n",
      "1996                              561\n",
      "1997                              460\n",
      "1998                              388\n",
      "1999                              355\n",
      "2000                              668\n",
      "2001                             1100\n",
      "2002                             1033\n",
      "2003                              582\n",
      "2004                              966\n",
      "2005                             1204\n",
      "2006                              997\n",
      "2007                              985\n",
      "2008                              922\n",
      "2009                              832\n",
      "2010                              774\n",
      "2011                              690\n",
      "2012                              712\n",
      "2013                              835\n",
      "Unnamed: 43                       NaN\n",
      "Unnamed: 44                       NaN\n",
      "Unnamed: 45                       NaN\n",
      "Unnamed: 46                       NaN\n",
      "Unnamed: 47                       NaN\n",
      "Unnamed: 48                       NaN\n",
      "Unnamed: 49                       NaN\n",
      "Unnamed: 50                       NaN\n",
      "Total                             0.0\n",
      "Name: Singapore, dtype: object\n",
      "Continent                        Asia\n",
      "Region             South-Eastern Asia\n",
      "Dev_Status     Less developed regions\n",
      "1980                              322\n",
      "1981                              408\n",
      "1982                              390\n",
      "1983                              362\n",
      "1984                              377\n",
      "1985                              460\n",
      "1986                              480\n",
      "1987                              469\n",
      "1988                              492\n",
      "1989                              566\n",
      "1990                              620\n",
      "1991                              535\n",
      "1992                              774\n",
      "1993                              798\n",
      "1994                              542\n",
      "1995                              399\n",
      "1996                              561\n",
      "1997                              460\n",
      "1998                              388\n",
      "1999                              355\n",
      "2000                              668\n",
      "2001                             1100\n",
      "2002                             1033\n",
      "2003                              582\n",
      "2004                              966\n",
      "2005                             1204\n",
      "2006                              997\n",
      "2007                              985\n",
      "2008                              922\n",
      "2009                              832\n",
      "2010                              774\n",
      "2011                              690\n",
      "2012                              712\n",
      "2013                              835\n",
      "Unnamed: 43                       NaN\n",
      "Unnamed: 44                       NaN\n",
      "Unnamed: 45                       NaN\n",
      "Unnamed: 46                       NaN\n",
      "Unnamed: 47                       NaN\n",
      "Unnamed: 48                       NaN\n",
      "Unnamed: 49                       NaN\n",
      "Unnamed: 50                       NaN\n",
      "Total                             0.0\n",
      "Name: Singapore, dtype: object\n"
     ]
    }
   ],
   "source": [
    "# 1. the full row data (all columns)\n",
    "print(df_usa.loc['Singapore'])\n",
    "\n",
    "# alternate methods\n",
    "print(df_usa.iloc[177])\n",
    "print(df_usa[df_usa.index == 'Singapore'].T.squeeze())"
   ]
  },
  {
   "cell_type": "code",
   "execution_count": 24,
   "metadata": {
    "button": false,
    "new_sheet": false,
    "run_control": {
     "read_only": false
    },
    "scrolled": true
   },
   "outputs": [
    {
     "name": "stdout",
     "output_type": "stream",
     "text": [
      "2477\n"
     ]
    }
   ],
   "source": [
    "# 2. for year 2013\n",
    "print(df_usa.loc['Malaysia', 2013])"
   ]
  },
  {
   "cell_type": "code",
   "execution_count": 25,
   "metadata": {
    "button": false,
    "new_sheet": false,
    "run_control": {
     "read_only": false
    }
   },
   "outputs": [
    {
     "name": "stdout",
     "output_type": "stream",
     "text": [
      "1980    4115\n",
      "1981    4799\n",
      "1982    5568\n",
      "1983    5875\n",
      "1984    4885\n",
      "1984    4885\n",
      "Name: Thailand, dtype: object\n"
     ]
    }
   ],
   "source": [
    "# 3. for years 1980 to 1985\n",
    "print(df_usa.loc['Thailand', [1980, 1981, 1982, 1983, 1984, 1984]])"
   ]
  },
  {
   "cell_type": "markdown",
   "metadata": {
    "button": false,
    "new_sheet": false,
    "run_control": {
     "read_only": false
    }
   },
   "source": [
    "Please convert all column names into strings"
   ]
  },
  {
   "cell_type": "code",
   "execution_count": 26,
   "metadata": {
    "button": false,
    "new_sheet": false,
    "run_control": {
     "read_only": false
    },
    "scrolled": false
   },
   "outputs": [],
   "source": [
    "df_usa.columns = list(map(str, df_usa.columns))\n",
    "#[print (type(x)) for x in df_usa.columns.values] #<-- uncomment to check type of column headers"
   ]
  },
  {
   "cell_type": "markdown",
   "metadata": {
    "button": false,
    "new_sheet": false,
    "run_control": {
     "read_only": false
    }
   },
   "source": [
    "Since we converted the years to string, let's declare a variable that will allow us to easily call upon the full range of years:"
   ]
  },
  {
   "cell_type": "code",
   "execution_count": 27,
   "metadata": {
    "button": false,
    "new_sheet": false,
    "run_control": {
     "read_only": false
    },
    "scrolled": false
   },
   "outputs": [
    {
     "data": {
      "text/plain": [
       "['1980',\n",
       " '1981',\n",
       " '1982',\n",
       " '1983',\n",
       " '1984',\n",
       " '1985',\n",
       " '1986',\n",
       " '1987',\n",
       " '1988',\n",
       " '1989',\n",
       " '1990',\n",
       " '1991',\n",
       " '1992',\n",
       " '1993',\n",
       " '1994',\n",
       " '1995',\n",
       " '1996',\n",
       " '1997',\n",
       " '1998',\n",
       " '1999',\n",
       " '2000',\n",
       " '2001',\n",
       " '2002',\n",
       " '2003',\n",
       " '2004',\n",
       " '2005',\n",
       " '2006',\n",
       " '2007',\n",
       " '2008',\n",
       " '2009',\n",
       " '2010',\n",
       " '2011',\n",
       " '2012',\n",
       " '2013']"
      ]
     },
     "execution_count": 27,
     "metadata": {},
     "output_type": "execute_result"
    }
   ],
   "source": [
    "# useful for plotting later on\n",
    "years = list(map(str, range(1980, 2014)))\n",
    "years"
   ]
  },
  {
   "cell_type": "markdown",
   "metadata": {
    "button": false,
    "new_sheet": false,
    "run_control": {
     "read_only": false
    }
   },
   "source": [
    "### Filtering based on a criteria\n",
    "To filter the dataframe based on a condition, we simply pass the condition as a boolean vector. \n",
    "\n",
    "Please filter the dataframe on Asian countries (AreaName = Asia)."
   ]
  },
  {
   "cell_type": "code",
   "execution_count": 28,
   "metadata": {
    "button": false,
    "new_sheet": false,
    "run_control": {
     "read_only": false
    },
    "scrolled": true
   },
   "outputs": [
    {
     "name": "stdout",
     "output_type": "stream",
     "text": [
      "Country\n",
      "Afghanistan                   True\n",
      "Albania                      False\n",
      "Algeria                      False\n",
      "American Samoa               False\n",
      "Andorra                      False\n",
      "                             ...  \n",
      "Wallis and Futuna Islands    False\n",
      "Western Sahara               False\n",
      "Yemen                         True\n",
      "Zambia                       False\n",
      "Zimbabwe                     False\n",
      "Name: Continent, Length: 219, dtype: bool\n"
     ]
    }
   ],
   "source": [
    "# 1. create the condition boolean series\n",
    "condition = df_usa['Continent'] == 'Asia'\n",
    "print(condition)"
   ]
  },
  {
   "cell_type": "code",
   "execution_count": 29,
   "metadata": {
    "button": false,
    "new_sheet": false,
    "run_control": {
     "read_only": false
    }
   },
   "outputs": [
    {
     "data": {
      "text/html": [
       "<div>\n",
       "<style scoped>\n",
       "    .dataframe tbody tr th:only-of-type {\n",
       "        vertical-align: middle;\n",
       "    }\n",
       "\n",
       "    .dataframe tbody tr th {\n",
       "        vertical-align: top;\n",
       "    }\n",
       "\n",
       "    .dataframe thead th {\n",
       "        text-align: right;\n",
       "    }\n",
       "</style>\n",
       "<table border=\"1\" class=\"dataframe\">\n",
       "  <thead>\n",
       "    <tr style=\"text-align: right;\">\n",
       "      <th></th>\n",
       "      <th>Continent</th>\n",
       "      <th>Region</th>\n",
       "      <th>Dev_Status</th>\n",
       "      <th>1980</th>\n",
       "      <th>1981</th>\n",
       "      <th>1982</th>\n",
       "      <th>1983</th>\n",
       "      <th>1984</th>\n",
       "      <th>1985</th>\n",
       "      <th>1986</th>\n",
       "      <th>...</th>\n",
       "      <th>2013</th>\n",
       "      <th>Unnamed: 43</th>\n",
       "      <th>Unnamed: 44</th>\n",
       "      <th>Unnamed: 45</th>\n",
       "      <th>Unnamed: 46</th>\n",
       "      <th>Unnamed: 47</th>\n",
       "      <th>Unnamed: 48</th>\n",
       "      <th>Unnamed: 49</th>\n",
       "      <th>Unnamed: 50</th>\n",
       "      <th>Total</th>\n",
       "    </tr>\n",
       "    <tr>\n",
       "      <th>Country</th>\n",
       "      <th></th>\n",
       "      <th></th>\n",
       "      <th></th>\n",
       "      <th></th>\n",
       "      <th></th>\n",
       "      <th></th>\n",
       "      <th></th>\n",
       "      <th></th>\n",
       "      <th></th>\n",
       "      <th></th>\n",
       "      <th></th>\n",
       "      <th></th>\n",
       "      <th></th>\n",
       "      <th></th>\n",
       "      <th></th>\n",
       "      <th></th>\n",
       "      <th></th>\n",
       "      <th></th>\n",
       "      <th></th>\n",
       "      <th></th>\n",
       "      <th></th>\n",
       "    </tr>\n",
       "  </thead>\n",
       "  <tbody>\n",
       "    <tr>\n",
       "      <th>Afghanistan</th>\n",
       "      <td>Asia</td>\n",
       "      <td>Southern Asia</td>\n",
       "      <td>Less developed regions</td>\n",
       "      <td>722</td>\n",
       "      <td>1881</td>\n",
       "      <td>1569</td>\n",
       "      <td>2566</td>\n",
       "      <td>3222</td>\n",
       "      <td>2794</td>\n",
       "      <td>2831</td>\n",
       "      <td>...</td>\n",
       "      <td>2196</td>\n",
       "      <td>NaN</td>\n",
       "      <td>NaN</td>\n",
       "      <td>NaN</td>\n",
       "      <td>NaN</td>\n",
       "      <td>NaN</td>\n",
       "      <td>NaN</td>\n",
       "      <td>NaN</td>\n",
       "      <td>NaN</td>\n",
       "      <td>0.0</td>\n",
       "    </tr>\n",
       "    <tr>\n",
       "      <th>Armenia</th>\n",
       "      <td>Asia</td>\n",
       "      <td>Western Asia</td>\n",
       "      <td>Less developed regions</td>\n",
       "      <td>..</td>\n",
       "      <td>..</td>\n",
       "      <td>..</td>\n",
       "      <td>..</td>\n",
       "      <td>..</td>\n",
       "      <td>..</td>\n",
       "      <td>..</td>\n",
       "      <td>...</td>\n",
       "      <td>2722</td>\n",
       "      <td>NaN</td>\n",
       "      <td>NaN</td>\n",
       "      <td>NaN</td>\n",
       "      <td>NaN</td>\n",
       "      <td>NaN</td>\n",
       "      <td>NaN</td>\n",
       "      <td>NaN</td>\n",
       "      <td>NaN</td>\n",
       "      <td>0.0</td>\n",
       "    </tr>\n",
       "    <tr>\n",
       "      <th>Azerbaijan</th>\n",
       "      <td>Asia</td>\n",
       "      <td>Western Asia</td>\n",
       "      <td>Less developed regions</td>\n",
       "      <td>..</td>\n",
       "      <td>..</td>\n",
       "      <td>..</td>\n",
       "      <td>..</td>\n",
       "      <td>..</td>\n",
       "      <td>..</td>\n",
       "      <td>..</td>\n",
       "      <td>...</td>\n",
       "      <td>637</td>\n",
       "      <td>NaN</td>\n",
       "      <td>NaN</td>\n",
       "      <td>NaN</td>\n",
       "      <td>NaN</td>\n",
       "      <td>NaN</td>\n",
       "      <td>NaN</td>\n",
       "      <td>NaN</td>\n",
       "      <td>NaN</td>\n",
       "      <td>0.0</td>\n",
       "    </tr>\n",
       "    <tr>\n",
       "      <th>Bahrain</th>\n",
       "      <td>Asia</td>\n",
       "      <td>Western Asia</td>\n",
       "      <td>Less developed regions</td>\n",
       "      <td>39</td>\n",
       "      <td>28</td>\n",
       "      <td>22</td>\n",
       "      <td>25</td>\n",
       "      <td>29</td>\n",
       "      <td>43</td>\n",
       "      <td>30</td>\n",
       "      <td>...</td>\n",
       "      <td>115</td>\n",
       "      <td>NaN</td>\n",
       "      <td>NaN</td>\n",
       "      <td>NaN</td>\n",
       "      <td>NaN</td>\n",
       "      <td>NaN</td>\n",
       "      <td>NaN</td>\n",
       "      <td>NaN</td>\n",
       "      <td>NaN</td>\n",
       "      <td>0.0</td>\n",
       "    </tr>\n",
       "    <tr>\n",
       "      <th>Bangladesh</th>\n",
       "      <td>Asia</td>\n",
       "      <td>Southern Asia</td>\n",
       "      <td>Less developed regions</td>\n",
       "      <td>532</td>\n",
       "      <td>756</td>\n",
       "      <td>639</td>\n",
       "      <td>787</td>\n",
       "      <td>823</td>\n",
       "      <td>1146</td>\n",
       "      <td>1634</td>\n",
       "      <td>...</td>\n",
       "      <td>12099</td>\n",
       "      <td>NaN</td>\n",
       "      <td>NaN</td>\n",
       "      <td>NaN</td>\n",
       "      <td>NaN</td>\n",
       "      <td>NaN</td>\n",
       "      <td>NaN</td>\n",
       "      <td>NaN</td>\n",
       "      <td>NaN</td>\n",
       "      <td>0.0</td>\n",
       "    </tr>\n",
       "    <tr>\n",
       "      <th>Bhutan</th>\n",
       "      <td>Asia</td>\n",
       "      <td>Southern Asia</td>\n",
       "      <td>Less developed regions</td>\n",
       "      <td>13</td>\n",
       "      <td>8</td>\n",
       "      <td>14</td>\n",
       "      <td>10</td>\n",
       "      <td>0</td>\n",
       "      <td>0</td>\n",
       "      <td>1</td>\n",
       "      <td>...</td>\n",
       "      <td>8954</td>\n",
       "      <td>NaN</td>\n",
       "      <td>NaN</td>\n",
       "      <td>NaN</td>\n",
       "      <td>NaN</td>\n",
       "      <td>NaN</td>\n",
       "      <td>NaN</td>\n",
       "      <td>NaN</td>\n",
       "      <td>NaN</td>\n",
       "      <td>0.0</td>\n",
       "    </tr>\n",
       "    <tr>\n",
       "      <th>Brunei Darussalam</th>\n",
       "      <td>Asia</td>\n",
       "      <td>South-Eastern Asia</td>\n",
       "      <td>Less developed regions</td>\n",
       "      <td>13</td>\n",
       "      <td>31</td>\n",
       "      <td>13</td>\n",
       "      <td>18</td>\n",
       "      <td>5</td>\n",
       "      <td>16</td>\n",
       "      <td>29</td>\n",
       "      <td>...</td>\n",
       "      <td>21</td>\n",
       "      <td>NaN</td>\n",
       "      <td>NaN</td>\n",
       "      <td>NaN</td>\n",
       "      <td>NaN</td>\n",
       "      <td>NaN</td>\n",
       "      <td>NaN</td>\n",
       "      <td>NaN</td>\n",
       "      <td>NaN</td>\n",
       "      <td>0.0</td>\n",
       "    </tr>\n",
       "    <tr>\n",
       "      <th>Cambodia</th>\n",
       "      <td>Asia</td>\n",
       "      <td>South-Eastern Asia</td>\n",
       "      <td>Less developed regions</td>\n",
       "      <td>2801</td>\n",
       "      <td>12749</td>\n",
       "      <td>13438</td>\n",
       "      <td>18120</td>\n",
       "      <td>11856</td>\n",
       "      <td>13563</td>\n",
       "      <td>13501</td>\n",
       "      <td>...</td>\n",
       "      <td>2624</td>\n",
       "      <td>NaN</td>\n",
       "      <td>NaN</td>\n",
       "      <td>NaN</td>\n",
       "      <td>NaN</td>\n",
       "      <td>NaN</td>\n",
       "      <td>NaN</td>\n",
       "      <td>NaN</td>\n",
       "      <td>NaN</td>\n",
       "      <td>0.0</td>\n",
       "    </tr>\n",
       "    <tr>\n",
       "      <th>China</th>\n",
       "      <td>Asia</td>\n",
       "      <td>Eastern Asia</td>\n",
       "      <td>Less developed regions</td>\n",
       "      <td>27651</td>\n",
       "      <td>25803</td>\n",
       "      <td>27100</td>\n",
       "      <td>25777</td>\n",
       "      <td>23363</td>\n",
       "      <td>24787</td>\n",
       "      <td>25106</td>\n",
       "      <td>...</td>\n",
       "      <td>71798</td>\n",
       "      <td>NaN</td>\n",
       "      <td>NaN</td>\n",
       "      <td>NaN</td>\n",
       "      <td>NaN</td>\n",
       "      <td>NaN</td>\n",
       "      <td>NaN</td>\n",
       "      <td>NaN</td>\n",
       "      <td>NaN</td>\n",
       "      <td>0.0</td>\n",
       "    </tr>\n",
       "    <tr>\n",
       "      <th>China, Hong Kong Special Administrative Region</th>\n",
       "      <td>Asia</td>\n",
       "      <td>Eastern Asia</td>\n",
       "      <td>Less developed regions</td>\n",
       "      <td>3860</td>\n",
       "      <td>4055</td>\n",
       "      <td>4971</td>\n",
       "      <td>5948</td>\n",
       "      <td>5465</td>\n",
       "      <td>5171</td>\n",
       "      <td>5021</td>\n",
       "      <td>...</td>\n",
       "      <td>2226</td>\n",
       "      <td>NaN</td>\n",
       "      <td>NaN</td>\n",
       "      <td>NaN</td>\n",
       "      <td>NaN</td>\n",
       "      <td>NaN</td>\n",
       "      <td>NaN</td>\n",
       "      <td>NaN</td>\n",
       "      <td>NaN</td>\n",
       "      <td>0.0</td>\n",
       "    </tr>\n",
       "    <tr>\n",
       "      <th>China, Macao Special Administrative Region</th>\n",
       "      <td>Asia</td>\n",
       "      <td>Eastern Asia</td>\n",
       "      <td>Less developed regions</td>\n",
       "      <td>261</td>\n",
       "      <td>280</td>\n",
       "      <td>225</td>\n",
       "      <td>246</td>\n",
       "      <td>260</td>\n",
       "      <td>271</td>\n",
       "      <td>243</td>\n",
       "      <td>...</td>\n",
       "      <td>106</td>\n",
       "      <td>NaN</td>\n",
       "      <td>NaN</td>\n",
       "      <td>NaN</td>\n",
       "      <td>NaN</td>\n",
       "      <td>NaN</td>\n",
       "      <td>NaN</td>\n",
       "      <td>NaN</td>\n",
       "      <td>NaN</td>\n",
       "      <td>0.0</td>\n",
       "    </tr>\n",
       "    <tr>\n",
       "      <th>Cyprus</th>\n",
       "      <td>Asia</td>\n",
       "      <td>Western Asia</td>\n",
       "      <td>Less developed regions</td>\n",
       "      <td>279</td>\n",
       "      <td>326</td>\n",
       "      <td>276</td>\n",
       "      <td>265</td>\n",
       "      <td>291</td>\n",
       "      <td>294</td>\n",
       "      <td>307</td>\n",
       "      <td>...</td>\n",
       "      <td>126</td>\n",
       "      <td>NaN</td>\n",
       "      <td>NaN</td>\n",
       "      <td>NaN</td>\n",
       "      <td>NaN</td>\n",
       "      <td>NaN</td>\n",
       "      <td>NaN</td>\n",
       "      <td>NaN</td>\n",
       "      <td>NaN</td>\n",
       "      <td>0.0</td>\n",
       "    </tr>\n",
       "    <tr>\n",
       "      <th>Democratic People's Republic of Korea</th>\n",
       "      <td>Asia</td>\n",
       "      <td>Eastern Asia</td>\n",
       "      <td>Less developed regions</td>\n",
       "      <td>..</td>\n",
       "      <td>..</td>\n",
       "      <td>..</td>\n",
       "      <td>..</td>\n",
       "      <td>..</td>\n",
       "      <td>..</td>\n",
       "      <td>..</td>\n",
       "      <td>...</td>\n",
       "      <td>48</td>\n",
       "      <td>NaN</td>\n",
       "      <td>NaN</td>\n",
       "      <td>NaN</td>\n",
       "      <td>NaN</td>\n",
       "      <td>NaN</td>\n",
       "      <td>NaN</td>\n",
       "      <td>NaN</td>\n",
       "      <td>NaN</td>\n",
       "      <td>0.0</td>\n",
       "    </tr>\n",
       "    <tr>\n",
       "      <th>Georgia</th>\n",
       "      <td>Asia</td>\n",
       "      <td>Western Asia</td>\n",
       "      <td>Less developed regions</td>\n",
       "      <td>0</td>\n",
       "      <td>0</td>\n",
       "      <td>259</td>\n",
       "      <td>460</td>\n",
       "      <td>128</td>\n",
       "      <td>126</td>\n",
       "      <td>136</td>\n",
       "      <td>...</td>\n",
       "      <td>1368</td>\n",
       "      <td>NaN</td>\n",
       "      <td>NaN</td>\n",
       "      <td>NaN</td>\n",
       "      <td>NaN</td>\n",
       "      <td>NaN</td>\n",
       "      <td>NaN</td>\n",
       "      <td>NaN</td>\n",
       "      <td>NaN</td>\n",
       "      <td>0.0</td>\n",
       "    </tr>\n",
       "    <tr>\n",
       "      <th>India</th>\n",
       "      <td>Asia</td>\n",
       "      <td>Southern Asia</td>\n",
       "      <td>Less developed regions</td>\n",
       "      <td>22607</td>\n",
       "      <td>21522</td>\n",
       "      <td>21738</td>\n",
       "      <td>25451</td>\n",
       "      <td>24964</td>\n",
       "      <td>26026</td>\n",
       "      <td>26227</td>\n",
       "      <td>...</td>\n",
       "      <td>68458</td>\n",
       "      <td>NaN</td>\n",
       "      <td>NaN</td>\n",
       "      <td>NaN</td>\n",
       "      <td>NaN</td>\n",
       "      <td>NaN</td>\n",
       "      <td>NaN</td>\n",
       "      <td>NaN</td>\n",
       "      <td>NaN</td>\n",
       "      <td>0.0</td>\n",
       "    </tr>\n",
       "    <tr>\n",
       "      <th>Indonesia</th>\n",
       "      <td>Asia</td>\n",
       "      <td>South-Eastern Asia</td>\n",
       "      <td>Less developed regions</td>\n",
       "      <td>977</td>\n",
       "      <td>1006</td>\n",
       "      <td>1194</td>\n",
       "      <td>952</td>\n",
       "      <td>1113</td>\n",
       "      <td>1269</td>\n",
       "      <td>1183</td>\n",
       "      <td>...</td>\n",
       "      <td>2731</td>\n",
       "      <td>NaN</td>\n",
       "      <td>NaN</td>\n",
       "      <td>NaN</td>\n",
       "      <td>NaN</td>\n",
       "      <td>NaN</td>\n",
       "      <td>NaN</td>\n",
       "      <td>NaN</td>\n",
       "      <td>NaN</td>\n",
       "      <td>0.0</td>\n",
       "    </tr>\n",
       "    <tr>\n",
       "      <th>Iran (Islamic Republic of)</th>\n",
       "      <td>Asia</td>\n",
       "      <td>Southern Asia</td>\n",
       "      <td>Less developed regions</td>\n",
       "      <td>10410</td>\n",
       "      <td>11105</td>\n",
       "      <td>10314</td>\n",
       "      <td>11163</td>\n",
       "      <td>13807</td>\n",
       "      <td>16071</td>\n",
       "      <td>16505</td>\n",
       "      <td>...</td>\n",
       "      <td>12863</td>\n",
       "      <td>NaN</td>\n",
       "      <td>NaN</td>\n",
       "      <td>NaN</td>\n",
       "      <td>NaN</td>\n",
       "      <td>NaN</td>\n",
       "      <td>NaN</td>\n",
       "      <td>NaN</td>\n",
       "      <td>NaN</td>\n",
       "      <td>0.0</td>\n",
       "    </tr>\n",
       "    <tr>\n",
       "      <th>Iraq</th>\n",
       "      <td>Asia</td>\n",
       "      <td>Western Asia</td>\n",
       "      <td>Less developed regions</td>\n",
       "      <td>2658</td>\n",
       "      <td>2535</td>\n",
       "      <td>3105</td>\n",
       "      <td>2343</td>\n",
       "      <td>2930</td>\n",
       "      <td>1951</td>\n",
       "      <td>1323</td>\n",
       "      <td>...</td>\n",
       "      <td>9552</td>\n",
       "      <td>NaN</td>\n",
       "      <td>NaN</td>\n",
       "      <td>NaN</td>\n",
       "      <td>NaN</td>\n",
       "      <td>NaN</td>\n",
       "      <td>NaN</td>\n",
       "      <td>NaN</td>\n",
       "      <td>NaN</td>\n",
       "      <td>0.0</td>\n",
       "    </tr>\n",
       "    <tr>\n",
       "      <th>Israel</th>\n",
       "      <td>Asia</td>\n",
       "      <td>Western Asia</td>\n",
       "      <td>Less developed regions</td>\n",
       "      <td>3517</td>\n",
       "      <td>3542</td>\n",
       "      <td>3356</td>\n",
       "      <td>3239</td>\n",
       "      <td>3066</td>\n",
       "      <td>3113</td>\n",
       "      <td>3790</td>\n",
       "      <td>...</td>\n",
       "      <td>3996</td>\n",
       "      <td>NaN</td>\n",
       "      <td>NaN</td>\n",
       "      <td>NaN</td>\n",
       "      <td>NaN</td>\n",
       "      <td>NaN</td>\n",
       "      <td>NaN</td>\n",
       "      <td>NaN</td>\n",
       "      <td>NaN</td>\n",
       "      <td>0.0</td>\n",
       "    </tr>\n",
       "    <tr>\n",
       "      <th>Japan</th>\n",
       "      <td>Asia</td>\n",
       "      <td>Eastern Asia</td>\n",
       "      <td>More developed regions</td>\n",
       "      <td>4225</td>\n",
       "      <td>3896</td>\n",
       "      <td>3903</td>\n",
       "      <td>4092</td>\n",
       "      <td>4043</td>\n",
       "      <td>4086</td>\n",
       "      <td>3959</td>\n",
       "      <td>...</td>\n",
       "      <td>5925</td>\n",
       "      <td>NaN</td>\n",
       "      <td>NaN</td>\n",
       "      <td>NaN</td>\n",
       "      <td>NaN</td>\n",
       "      <td>NaN</td>\n",
       "      <td>NaN</td>\n",
       "      <td>NaN</td>\n",
       "      <td>NaN</td>\n",
       "      <td>0.0</td>\n",
       "    </tr>\n",
       "    <tr>\n",
       "      <th>Jordan</th>\n",
       "      <td>Asia</td>\n",
       "      <td>Western Asia</td>\n",
       "      <td>Less developed regions</td>\n",
       "      <td>3322</td>\n",
       "      <td>3825</td>\n",
       "      <td>2923</td>\n",
       "      <td>2718</td>\n",
       "      <td>2438</td>\n",
       "      <td>2998</td>\n",
       "      <td>3081</td>\n",
       "      <td>...</td>\n",
       "      <td>4188</td>\n",
       "      <td>NaN</td>\n",
       "      <td>NaN</td>\n",
       "      <td>NaN</td>\n",
       "      <td>NaN</td>\n",
       "      <td>NaN</td>\n",
       "      <td>NaN</td>\n",
       "      <td>NaN</td>\n",
       "      <td>NaN</td>\n",
       "      <td>0.0</td>\n",
       "    </tr>\n",
       "    <tr>\n",
       "      <th>Kazakhstan</th>\n",
       "      <td>Asia</td>\n",
       "      <td>Central Asia</td>\n",
       "      <td>Less developed regions</td>\n",
       "      <td>..</td>\n",
       "      <td>..</td>\n",
       "      <td>..</td>\n",
       "      <td>..</td>\n",
       "      <td>..</td>\n",
       "      <td>..</td>\n",
       "      <td>..</td>\n",
       "      <td>...</td>\n",
       "      <td>1241</td>\n",
       "      <td>NaN</td>\n",
       "      <td>NaN</td>\n",
       "      <td>NaN</td>\n",
       "      <td>NaN</td>\n",
       "      <td>NaN</td>\n",
       "      <td>NaN</td>\n",
       "      <td>NaN</td>\n",
       "      <td>NaN</td>\n",
       "      <td>0.0</td>\n",
       "    </tr>\n",
       "    <tr>\n",
       "      <th>Kuwait</th>\n",
       "      <td>Asia</td>\n",
       "      <td>Western Asia</td>\n",
       "      <td>Less developed regions</td>\n",
       "      <td>257</td>\n",
       "      <td>317</td>\n",
       "      <td>286</td>\n",
       "      <td>344</td>\n",
       "      <td>437</td>\n",
       "      <td>503</td>\n",
       "      <td>496</td>\n",
       "      <td>...</td>\n",
       "      <td>937</td>\n",
       "      <td>NaN</td>\n",
       "      <td>NaN</td>\n",
       "      <td>NaN</td>\n",
       "      <td>NaN</td>\n",
       "      <td>NaN</td>\n",
       "      <td>NaN</td>\n",
       "      <td>NaN</td>\n",
       "      <td>NaN</td>\n",
       "      <td>0.0</td>\n",
       "    </tr>\n",
       "    <tr>\n",
       "      <th>Kyrgyzstan</th>\n",
       "      <td>Asia</td>\n",
       "      <td>Central Asia</td>\n",
       "      <td>Less developed regions</td>\n",
       "      <td>..</td>\n",
       "      <td>..</td>\n",
       "      <td>..</td>\n",
       "      <td>..</td>\n",
       "      <td>..</td>\n",
       "      <td>..</td>\n",
       "      <td>..</td>\n",
       "      <td>...</td>\n",
       "      <td>652</td>\n",
       "      <td>NaN</td>\n",
       "      <td>NaN</td>\n",
       "      <td>NaN</td>\n",
       "      <td>NaN</td>\n",
       "      <td>NaN</td>\n",
       "      <td>NaN</td>\n",
       "      <td>NaN</td>\n",
       "      <td>NaN</td>\n",
       "      <td>0.0</td>\n",
       "    </tr>\n",
       "    <tr>\n",
       "      <th>Lao People's Democratic Republic</th>\n",
       "      <td>Asia</td>\n",
       "      <td>South-Eastern Asia</td>\n",
       "      <td>Less developed regions</td>\n",
       "      <td>13970</td>\n",
       "      <td>15805</td>\n",
       "      <td>36528</td>\n",
       "      <td>23662</td>\n",
       "      <td>12279</td>\n",
       "      <td>9133</td>\n",
       "      <td>7842</td>\n",
       "      <td>...</td>\n",
       "      <td>923</td>\n",
       "      <td>NaN</td>\n",
       "      <td>NaN</td>\n",
       "      <td>NaN</td>\n",
       "      <td>NaN</td>\n",
       "      <td>NaN</td>\n",
       "      <td>NaN</td>\n",
       "      <td>NaN</td>\n",
       "      <td>NaN</td>\n",
       "      <td>0.0</td>\n",
       "    </tr>\n",
       "    <tr>\n",
       "      <th>Lebanon</th>\n",
       "      <td>Asia</td>\n",
       "      <td>Western Asia</td>\n",
       "      <td>Less developed regions</td>\n",
       "      <td>4136</td>\n",
       "      <td>3955</td>\n",
       "      <td>3529</td>\n",
       "      <td>2941</td>\n",
       "      <td>3203</td>\n",
       "      <td>3385</td>\n",
       "      <td>3994</td>\n",
       "      <td>...</td>\n",
       "      <td>2783</td>\n",
       "      <td>NaN</td>\n",
       "      <td>NaN</td>\n",
       "      <td>NaN</td>\n",
       "      <td>NaN</td>\n",
       "      <td>NaN</td>\n",
       "      <td>NaN</td>\n",
       "      <td>NaN</td>\n",
       "      <td>NaN</td>\n",
       "      <td>0.0</td>\n",
       "    </tr>\n",
       "    <tr>\n",
       "      <th>Malaysia</th>\n",
       "      <td>Asia</td>\n",
       "      <td>South-Eastern Asia</td>\n",
       "      <td>Less developed regions</td>\n",
       "      <td>795</td>\n",
       "      <td>1033</td>\n",
       "      <td>1046</td>\n",
       "      <td>852</td>\n",
       "      <td>879</td>\n",
       "      <td>939</td>\n",
       "      <td>886</td>\n",
       "      <td>...</td>\n",
       "      <td>2477</td>\n",
       "      <td>NaN</td>\n",
       "      <td>NaN</td>\n",
       "      <td>NaN</td>\n",
       "      <td>NaN</td>\n",
       "      <td>NaN</td>\n",
       "      <td>NaN</td>\n",
       "      <td>NaN</td>\n",
       "      <td>NaN</td>\n",
       "      <td>0.0</td>\n",
       "    </tr>\n",
       "    <tr>\n",
       "      <th>Maldives</th>\n",
       "      <td>Asia</td>\n",
       "      <td>Southern Asia</td>\n",
       "      <td>Less developed regions</td>\n",
       "      <td>2</td>\n",
       "      <td>1</td>\n",
       "      <td>1</td>\n",
       "      <td>1</td>\n",
       "      <td>0</td>\n",
       "      <td>0</td>\n",
       "      <td>0</td>\n",
       "      <td>...</td>\n",
       "      <td>..</td>\n",
       "      <td>NaN</td>\n",
       "      <td>NaN</td>\n",
       "      <td>NaN</td>\n",
       "      <td>NaN</td>\n",
       "      <td>NaN</td>\n",
       "      <td>NaN</td>\n",
       "      <td>NaN</td>\n",
       "      <td>NaN</td>\n",
       "      <td>0.0</td>\n",
       "    </tr>\n",
       "    <tr>\n",
       "      <th>Mongolia</th>\n",
       "      <td>Asia</td>\n",
       "      <td>Eastern Asia</td>\n",
       "      <td>Less developed regions</td>\n",
       "      <td>..</td>\n",
       "      <td>..</td>\n",
       "      <td>..</td>\n",
       "      <td>..</td>\n",
       "      <td>..</td>\n",
       "      <td>..</td>\n",
       "      <td>..</td>\n",
       "      <td>...</td>\n",
       "      <td>729</td>\n",
       "      <td>NaN</td>\n",
       "      <td>NaN</td>\n",
       "      <td>NaN</td>\n",
       "      <td>NaN</td>\n",
       "      <td>NaN</td>\n",
       "      <td>NaN</td>\n",
       "      <td>NaN</td>\n",
       "      <td>NaN</td>\n",
       "      <td>0.0</td>\n",
       "    </tr>\n",
       "    <tr>\n",
       "      <th>Myanmar</th>\n",
       "      <td>Asia</td>\n",
       "      <td>South-Eastern Asia</td>\n",
       "      <td>Less developed regions</td>\n",
       "      <td>1211</td>\n",
       "      <td>1083</td>\n",
       "      <td>820</td>\n",
       "      <td>723</td>\n",
       "      <td>719</td>\n",
       "      <td>990</td>\n",
       "      <td>863</td>\n",
       "      <td>...</td>\n",
       "      <td>12565</td>\n",
       "      <td>NaN</td>\n",
       "      <td>NaN</td>\n",
       "      <td>NaN</td>\n",
       "      <td>NaN</td>\n",
       "      <td>NaN</td>\n",
       "      <td>NaN</td>\n",
       "      <td>NaN</td>\n",
       "      <td>NaN</td>\n",
       "      <td>0.0</td>\n",
       "    </tr>\n",
       "    <tr>\n",
       "      <th>Nepal</th>\n",
       "      <td>Asia</td>\n",
       "      <td>Southern Asia</td>\n",
       "      <td>Less developed regions</td>\n",
       "      <td>98</td>\n",
       "      <td>83</td>\n",
       "      <td>97</td>\n",
       "      <td>105</td>\n",
       "      <td>75</td>\n",
       "      <td>63</td>\n",
       "      <td>86</td>\n",
       "      <td>...</td>\n",
       "      <td>13046</td>\n",
       "      <td>NaN</td>\n",
       "      <td>NaN</td>\n",
       "      <td>NaN</td>\n",
       "      <td>NaN</td>\n",
       "      <td>NaN</td>\n",
       "      <td>NaN</td>\n",
       "      <td>NaN</td>\n",
       "      <td>NaN</td>\n",
       "      <td>0.0</td>\n",
       "    </tr>\n",
       "    <tr>\n",
       "      <th>Oman</th>\n",
       "      <td>Asia</td>\n",
       "      <td>Western Asia</td>\n",
       "      <td>Less developed regions</td>\n",
       "      <td>20</td>\n",
       "      <td>18</td>\n",
       "      <td>13</td>\n",
       "      <td>15</td>\n",
       "      <td>7</td>\n",
       "      <td>7</td>\n",
       "      <td>11</td>\n",
       "      <td>...</td>\n",
       "      <td>73</td>\n",
       "      <td>NaN</td>\n",
       "      <td>NaN</td>\n",
       "      <td>NaN</td>\n",
       "      <td>NaN</td>\n",
       "      <td>NaN</td>\n",
       "      <td>NaN</td>\n",
       "      <td>NaN</td>\n",
       "      <td>NaN</td>\n",
       "      <td>0.0</td>\n",
       "    </tr>\n",
       "    <tr>\n",
       "      <th>Pakistan</th>\n",
       "      <td>Asia</td>\n",
       "      <td>Southern Asia</td>\n",
       "      <td>Less developed regions</td>\n",
       "      <td>4265</td>\n",
       "      <td>5288</td>\n",
       "      <td>4536</td>\n",
       "      <td>4807</td>\n",
       "      <td>5509</td>\n",
       "      <td>5744</td>\n",
       "      <td>5994</td>\n",
       "      <td>...</td>\n",
       "      <td>13251</td>\n",
       "      <td>NaN</td>\n",
       "      <td>NaN</td>\n",
       "      <td>NaN</td>\n",
       "      <td>NaN</td>\n",
       "      <td>NaN</td>\n",
       "      <td>NaN</td>\n",
       "      <td>NaN</td>\n",
       "      <td>NaN</td>\n",
       "      <td>0.0</td>\n",
       "    </tr>\n",
       "    <tr>\n",
       "      <th>Philippines</th>\n",
       "      <td>Asia</td>\n",
       "      <td>South-Eastern Asia</td>\n",
       "      <td>Less developed regions</td>\n",
       "      <td>42316</td>\n",
       "      <td>43772</td>\n",
       "      <td>45102</td>\n",
       "      <td>41546</td>\n",
       "      <td>42768</td>\n",
       "      <td>47978</td>\n",
       "      <td>52558</td>\n",
       "      <td>...</td>\n",
       "      <td>54446</td>\n",
       "      <td>NaN</td>\n",
       "      <td>NaN</td>\n",
       "      <td>NaN</td>\n",
       "      <td>NaN</td>\n",
       "      <td>NaN</td>\n",
       "      <td>NaN</td>\n",
       "      <td>NaN</td>\n",
       "      <td>NaN</td>\n",
       "      <td>0.0</td>\n",
       "    </tr>\n",
       "    <tr>\n",
       "      <th>Qatar</th>\n",
       "      <td>Asia</td>\n",
       "      <td>Western Asia</td>\n",
       "      <td>Less developed regions</td>\n",
       "      <td>16</td>\n",
       "      <td>22</td>\n",
       "      <td>13</td>\n",
       "      <td>19</td>\n",
       "      <td>17</td>\n",
       "      <td>28</td>\n",
       "      <td>41</td>\n",
       "      <td>...</td>\n",
       "      <td>191</td>\n",
       "      <td>NaN</td>\n",
       "      <td>NaN</td>\n",
       "      <td>NaN</td>\n",
       "      <td>NaN</td>\n",
       "      <td>NaN</td>\n",
       "      <td>NaN</td>\n",
       "      <td>NaN</td>\n",
       "      <td>NaN</td>\n",
       "      <td>0.0</td>\n",
       "    </tr>\n",
       "    <tr>\n",
       "      <th>Republic of Korea</th>\n",
       "      <td>Asia</td>\n",
       "      <td>Eastern Asia</td>\n",
       "      <td>Less developed regions</td>\n",
       "      <td>32320</td>\n",
       "      <td>32663</td>\n",
       "      <td>31724</td>\n",
       "      <td>33339</td>\n",
       "      <td>33042</td>\n",
       "      <td>35253</td>\n",
       "      <td>35776</td>\n",
       "      <td>...</td>\n",
       "      <td>23166</td>\n",
       "      <td>NaN</td>\n",
       "      <td>NaN</td>\n",
       "      <td>NaN</td>\n",
       "      <td>NaN</td>\n",
       "      <td>NaN</td>\n",
       "      <td>NaN</td>\n",
       "      <td>NaN</td>\n",
       "      <td>NaN</td>\n",
       "      <td>0.0</td>\n",
       "    </tr>\n",
       "    <tr>\n",
       "      <th>Saudi Arabia</th>\n",
       "      <td>Asia</td>\n",
       "      <td>Western Asia</td>\n",
       "      <td>Less developed regions</td>\n",
       "      <td>133</td>\n",
       "      <td>159</td>\n",
       "      <td>134</td>\n",
       "      <td>170</td>\n",
       "      <td>208</td>\n",
       "      <td>228</td>\n",
       "      <td>275</td>\n",
       "      <td>...</td>\n",
       "      <td>1463</td>\n",
       "      <td>NaN</td>\n",
       "      <td>NaN</td>\n",
       "      <td>NaN</td>\n",
       "      <td>NaN</td>\n",
       "      <td>NaN</td>\n",
       "      <td>NaN</td>\n",
       "      <td>NaN</td>\n",
       "      <td>NaN</td>\n",
       "      <td>0.0</td>\n",
       "    </tr>\n",
       "    <tr>\n",
       "      <th>Singapore</th>\n",
       "      <td>Asia</td>\n",
       "      <td>South-Eastern Asia</td>\n",
       "      <td>Less developed regions</td>\n",
       "      <td>322</td>\n",
       "      <td>408</td>\n",
       "      <td>390</td>\n",
       "      <td>362</td>\n",
       "      <td>377</td>\n",
       "      <td>460</td>\n",
       "      <td>480</td>\n",
       "      <td>...</td>\n",
       "      <td>835</td>\n",
       "      <td>NaN</td>\n",
       "      <td>NaN</td>\n",
       "      <td>NaN</td>\n",
       "      <td>NaN</td>\n",
       "      <td>NaN</td>\n",
       "      <td>NaN</td>\n",
       "      <td>NaN</td>\n",
       "      <td>NaN</td>\n",
       "      <td>0.0</td>\n",
       "    </tr>\n",
       "    <tr>\n",
       "      <th>Sri Lanka</th>\n",
       "      <td>Asia</td>\n",
       "      <td>Southern Asia</td>\n",
       "      <td>Less developed regions</td>\n",
       "      <td>397</td>\n",
       "      <td>448</td>\n",
       "      <td>505</td>\n",
       "      <td>472</td>\n",
       "      <td>554</td>\n",
       "      <td>553</td>\n",
       "      <td>596</td>\n",
       "      <td>...</td>\n",
       "      <td>1847</td>\n",
       "      <td>NaN</td>\n",
       "      <td>NaN</td>\n",
       "      <td>NaN</td>\n",
       "      <td>NaN</td>\n",
       "      <td>NaN</td>\n",
       "      <td>NaN</td>\n",
       "      <td>NaN</td>\n",
       "      <td>NaN</td>\n",
       "      <td>0.0</td>\n",
       "    </tr>\n",
       "    <tr>\n",
       "      <th>Syrian Arab Republic</th>\n",
       "      <td>Asia</td>\n",
       "      <td>Western Asia</td>\n",
       "      <td>Less developed regions</td>\n",
       "      <td>1658</td>\n",
       "      <td>2127</td>\n",
       "      <td>2354</td>\n",
       "      <td>1683</td>\n",
       "      <td>1724</td>\n",
       "      <td>1581</td>\n",
       "      <td>1604</td>\n",
       "      <td>...</td>\n",
       "      <td>3366</td>\n",
       "      <td>NaN</td>\n",
       "      <td>NaN</td>\n",
       "      <td>NaN</td>\n",
       "      <td>NaN</td>\n",
       "      <td>NaN</td>\n",
       "      <td>NaN</td>\n",
       "      <td>NaN</td>\n",
       "      <td>NaN</td>\n",
       "      <td>0.0</td>\n",
       "    </tr>\n",
       "    <tr>\n",
       "      <th>Tajikistan</th>\n",
       "      <td>Asia</td>\n",
       "      <td>Central Asia</td>\n",
       "      <td>Less developed regions</td>\n",
       "      <td>..</td>\n",
       "      <td>..</td>\n",
       "      <td>..</td>\n",
       "      <td>..</td>\n",
       "      <td>..</td>\n",
       "      <td>..</td>\n",
       "      <td>..</td>\n",
       "      <td>...</td>\n",
       "      <td>550</td>\n",
       "      <td>NaN</td>\n",
       "      <td>NaN</td>\n",
       "      <td>NaN</td>\n",
       "      <td>NaN</td>\n",
       "      <td>NaN</td>\n",
       "      <td>NaN</td>\n",
       "      <td>NaN</td>\n",
       "      <td>NaN</td>\n",
       "      <td>0.0</td>\n",
       "    </tr>\n",
       "    <tr>\n",
       "      <th>Thailand</th>\n",
       "      <td>Asia</td>\n",
       "      <td>South-Eastern Asia</td>\n",
       "      <td>Less developed regions</td>\n",
       "      <td>4115</td>\n",
       "      <td>4799</td>\n",
       "      <td>5568</td>\n",
       "      <td>5875</td>\n",
       "      <td>4885</td>\n",
       "      <td>5239</td>\n",
       "      <td>6204</td>\n",
       "      <td>...</td>\n",
       "      <td>7583</td>\n",
       "      <td>NaN</td>\n",
       "      <td>NaN</td>\n",
       "      <td>NaN</td>\n",
       "      <td>NaN</td>\n",
       "      <td>NaN</td>\n",
       "      <td>NaN</td>\n",
       "      <td>NaN</td>\n",
       "      <td>NaN</td>\n",
       "      <td>0.0</td>\n",
       "    </tr>\n",
       "    <tr>\n",
       "      <th>Turkey</th>\n",
       "      <td>Asia</td>\n",
       "      <td>Western Asia</td>\n",
       "      <td>Less developed regions</td>\n",
       "      <td>2233</td>\n",
       "      <td>2766</td>\n",
       "      <td>2864</td>\n",
       "      <td>2263</td>\n",
       "      <td>1793</td>\n",
       "      <td>1691</td>\n",
       "      <td>1753</td>\n",
       "      <td>...</td>\n",
       "      <td>4144</td>\n",
       "      <td>NaN</td>\n",
       "      <td>NaN</td>\n",
       "      <td>NaN</td>\n",
       "      <td>NaN</td>\n",
       "      <td>NaN</td>\n",
       "      <td>NaN</td>\n",
       "      <td>NaN</td>\n",
       "      <td>NaN</td>\n",
       "      <td>0.0</td>\n",
       "    </tr>\n",
       "    <tr>\n",
       "      <th>Turkmenistan</th>\n",
       "      <td>Asia</td>\n",
       "      <td>Central Asia</td>\n",
       "      <td>Less developed regions</td>\n",
       "      <td>..</td>\n",
       "      <td>..</td>\n",
       "      <td>..</td>\n",
       "      <td>..</td>\n",
       "      <td>..</td>\n",
       "      <td>..</td>\n",
       "      <td>..</td>\n",
       "      <td>...</td>\n",
       "      <td>210</td>\n",
       "      <td>NaN</td>\n",
       "      <td>NaN</td>\n",
       "      <td>NaN</td>\n",
       "      <td>NaN</td>\n",
       "      <td>NaN</td>\n",
       "      <td>NaN</td>\n",
       "      <td>NaN</td>\n",
       "      <td>NaN</td>\n",
       "      <td>0.0</td>\n",
       "    </tr>\n",
       "    <tr>\n",
       "      <th>United Arab Emirates</th>\n",
       "      <td>Asia</td>\n",
       "      <td>Western Asia</td>\n",
       "      <td>Less developed regions</td>\n",
       "      <td>32</td>\n",
       "      <td>24</td>\n",
       "      <td>40</td>\n",
       "      <td>31</td>\n",
       "      <td>76</td>\n",
       "      <td>92</td>\n",
       "      <td>121</td>\n",
       "      <td>...</td>\n",
       "      <td>910</td>\n",
       "      <td>NaN</td>\n",
       "      <td>NaN</td>\n",
       "      <td>NaN</td>\n",
       "      <td>NaN</td>\n",
       "      <td>NaN</td>\n",
       "      <td>NaN</td>\n",
       "      <td>NaN</td>\n",
       "      <td>NaN</td>\n",
       "      <td>0.0</td>\n",
       "    </tr>\n",
       "    <tr>\n",
       "      <th>Uzbekistan</th>\n",
       "      <td>Asia</td>\n",
       "      <td>Central Asia</td>\n",
       "      <td>Less developed regions</td>\n",
       "      <td>..</td>\n",
       "      <td>..</td>\n",
       "      <td>..</td>\n",
       "      <td>..</td>\n",
       "      <td>..</td>\n",
       "      <td>..</td>\n",
       "      <td>..</td>\n",
       "      <td>...</td>\n",
       "      <td>4382</td>\n",
       "      <td>NaN</td>\n",
       "      <td>NaN</td>\n",
       "      <td>NaN</td>\n",
       "      <td>NaN</td>\n",
       "      <td>NaN</td>\n",
       "      <td>NaN</td>\n",
       "      <td>NaN</td>\n",
       "      <td>NaN</td>\n",
       "      <td>0.0</td>\n",
       "    </tr>\n",
       "    <tr>\n",
       "      <th>Viet Nam</th>\n",
       "      <td>Asia</td>\n",
       "      <td>South-Eastern Asia</td>\n",
       "      <td>Less developed regions</td>\n",
       "      <td>43483</td>\n",
       "      <td>55631</td>\n",
       "      <td>72553</td>\n",
       "      <td>37560</td>\n",
       "      <td>37236</td>\n",
       "      <td>31895</td>\n",
       "      <td>29993</td>\n",
       "      <td>...</td>\n",
       "      <td>27101</td>\n",
       "      <td>NaN</td>\n",
       "      <td>NaN</td>\n",
       "      <td>NaN</td>\n",
       "      <td>NaN</td>\n",
       "      <td>NaN</td>\n",
       "      <td>NaN</td>\n",
       "      <td>NaN</td>\n",
       "      <td>NaN</td>\n",
       "      <td>0.0</td>\n",
       "    </tr>\n",
       "    <tr>\n",
       "      <th>Yemen</th>\n",
       "      <td>Asia</td>\n",
       "      <td>Western Asia</td>\n",
       "      <td>Less developed regions</td>\n",
       "      <td>160</td>\n",
       "      <td>230</td>\n",
       "      <td>305</td>\n",
       "      <td>268</td>\n",
       "      <td>324</td>\n",
       "      <td>432</td>\n",
       "      <td>420</td>\n",
       "      <td>...</td>\n",
       "      <td>3532</td>\n",
       "      <td>NaN</td>\n",
       "      <td>NaN</td>\n",
       "      <td>NaN</td>\n",
       "      <td>NaN</td>\n",
       "      <td>NaN</td>\n",
       "      <td>NaN</td>\n",
       "      <td>NaN</td>\n",
       "      <td>NaN</td>\n",
       "      <td>0.0</td>\n",
       "    </tr>\n",
       "  </tbody>\n",
       "</table>\n",
       "<p>48 rows × 46 columns</p>\n",
       "</div>"
      ],
      "text/plain": [
       "                                               Continent              Region  \\\n",
       "Country                                                                        \n",
       "Afghanistan                                         Asia       Southern Asia   \n",
       "Armenia                                             Asia        Western Asia   \n",
       "Azerbaijan                                          Asia        Western Asia   \n",
       "Bahrain                                             Asia        Western Asia   \n",
       "Bangladesh                                          Asia       Southern Asia   \n",
       "Bhutan                                              Asia       Southern Asia   \n",
       "Brunei Darussalam                                   Asia  South-Eastern Asia   \n",
       "Cambodia                                            Asia  South-Eastern Asia   \n",
       "China                                               Asia        Eastern Asia   \n",
       "China, Hong Kong Special Administrative Region      Asia        Eastern Asia   \n",
       "China, Macao Special Administrative Region          Asia        Eastern Asia   \n",
       "Cyprus                                              Asia        Western Asia   \n",
       "Democratic People's Republic of Korea               Asia        Eastern Asia   \n",
       "Georgia                                             Asia        Western Asia   \n",
       "India                                               Asia       Southern Asia   \n",
       "Indonesia                                           Asia  South-Eastern Asia   \n",
       "Iran (Islamic Republic of)                          Asia       Southern Asia   \n",
       "Iraq                                                Asia        Western Asia   \n",
       "Israel                                              Asia        Western Asia   \n",
       "Japan                                               Asia        Eastern Asia   \n",
       "Jordan                                              Asia        Western Asia   \n",
       "Kazakhstan                                          Asia        Central Asia   \n",
       "Kuwait                                              Asia        Western Asia   \n",
       "Kyrgyzstan                                          Asia        Central Asia   \n",
       "Lao People's Democratic Republic                    Asia  South-Eastern Asia   \n",
       "Lebanon                                             Asia        Western Asia   \n",
       "Malaysia                                            Asia  South-Eastern Asia   \n",
       "Maldives                                            Asia       Southern Asia   \n",
       "Mongolia                                            Asia        Eastern Asia   \n",
       "Myanmar                                             Asia  South-Eastern Asia   \n",
       "Nepal                                               Asia       Southern Asia   \n",
       "Oman                                                Asia        Western Asia   \n",
       "Pakistan                                            Asia       Southern Asia   \n",
       "Philippines                                         Asia  South-Eastern Asia   \n",
       "Qatar                                               Asia        Western Asia   \n",
       "Republic of Korea                                   Asia        Eastern Asia   \n",
       "Saudi Arabia                                        Asia        Western Asia   \n",
       "Singapore                                           Asia  South-Eastern Asia   \n",
       "Sri Lanka                                           Asia       Southern Asia   \n",
       "Syrian Arab Republic                                Asia        Western Asia   \n",
       "Tajikistan                                          Asia        Central Asia   \n",
       "Thailand                                            Asia  South-Eastern Asia   \n",
       "Turkey                                              Asia        Western Asia   \n",
       "Turkmenistan                                        Asia        Central Asia   \n",
       "United Arab Emirates                                Asia        Western Asia   \n",
       "Uzbekistan                                          Asia        Central Asia   \n",
       "Viet Nam                                            Asia  South-Eastern Asia   \n",
       "Yemen                                               Asia        Western Asia   \n",
       "\n",
       "                                                            Dev_Status   1980  \\\n",
       "Country                                                                         \n",
       "Afghanistan                                     Less developed regions    722   \n",
       "Armenia                                         Less developed regions     ..   \n",
       "Azerbaijan                                      Less developed regions     ..   \n",
       "Bahrain                                         Less developed regions     39   \n",
       "Bangladesh                                      Less developed regions    532   \n",
       "Bhutan                                          Less developed regions     13   \n",
       "Brunei Darussalam                               Less developed regions     13   \n",
       "Cambodia                                        Less developed regions   2801   \n",
       "China                                           Less developed regions  27651   \n",
       "China, Hong Kong Special Administrative Region  Less developed regions   3860   \n",
       "China, Macao Special Administrative Region      Less developed regions    261   \n",
       "Cyprus                                          Less developed regions    279   \n",
       "Democratic People's Republic of Korea           Less developed regions     ..   \n",
       "Georgia                                         Less developed regions      0   \n",
       "India                                           Less developed regions  22607   \n",
       "Indonesia                                       Less developed regions    977   \n",
       "Iran (Islamic Republic of)                      Less developed regions  10410   \n",
       "Iraq                                            Less developed regions   2658   \n",
       "Israel                                          Less developed regions   3517   \n",
       "Japan                                           More developed regions   4225   \n",
       "Jordan                                          Less developed regions   3322   \n",
       "Kazakhstan                                      Less developed regions     ..   \n",
       "Kuwait                                          Less developed regions    257   \n",
       "Kyrgyzstan                                      Less developed regions     ..   \n",
       "Lao People's Democratic Republic                Less developed regions  13970   \n",
       "Lebanon                                         Less developed regions   4136   \n",
       "Malaysia                                        Less developed regions    795   \n",
       "Maldives                                        Less developed regions      2   \n",
       "Mongolia                                        Less developed regions     ..   \n",
       "Myanmar                                         Less developed regions   1211   \n",
       "Nepal                                           Less developed regions     98   \n",
       "Oman                                            Less developed regions     20   \n",
       "Pakistan                                        Less developed regions   4265   \n",
       "Philippines                                     Less developed regions  42316   \n",
       "Qatar                                           Less developed regions     16   \n",
       "Republic of Korea                               Less developed regions  32320   \n",
       "Saudi Arabia                                    Less developed regions    133   \n",
       "Singapore                                       Less developed regions    322   \n",
       "Sri Lanka                                       Less developed regions    397   \n",
       "Syrian Arab Republic                            Less developed regions   1658   \n",
       "Tajikistan                                      Less developed regions     ..   \n",
       "Thailand                                        Less developed regions   4115   \n",
       "Turkey                                          Less developed regions   2233   \n",
       "Turkmenistan                                    Less developed regions     ..   \n",
       "United Arab Emirates                            Less developed regions     32   \n",
       "Uzbekistan                                      Less developed regions     ..   \n",
       "Viet Nam                                        Less developed regions  43483   \n",
       "Yemen                                           Less developed regions    160   \n",
       "\n",
       "                                                 1981   1982   1983   1984  \\\n",
       "Country                                                                      \n",
       "Afghanistan                                      1881   1569   2566   3222   \n",
       "Armenia                                            ..     ..     ..     ..   \n",
       "Azerbaijan                                         ..     ..     ..     ..   \n",
       "Bahrain                                            28     22     25     29   \n",
       "Bangladesh                                        756    639    787    823   \n",
       "Bhutan                                              8     14     10      0   \n",
       "Brunei Darussalam                                  31     13     18      5   \n",
       "Cambodia                                        12749  13438  18120  11856   \n",
       "China                                           25803  27100  25777  23363   \n",
       "China, Hong Kong Special Administrative Region   4055   4971   5948   5465   \n",
       "China, Macao Special Administrative Region        280    225    246    260   \n",
       "Cyprus                                            326    276    265    291   \n",
       "Democratic People's Republic of Korea              ..     ..     ..     ..   \n",
       "Georgia                                             0    259    460    128   \n",
       "India                                           21522  21738  25451  24964   \n",
       "Indonesia                                        1006   1194    952   1113   \n",
       "Iran (Islamic Republic of)                      11105  10314  11163  13807   \n",
       "Iraq                                             2535   3105   2343   2930   \n",
       "Israel                                           3542   3356   3239   3066   \n",
       "Japan                                            3896   3903   4092   4043   \n",
       "Jordan                                           3825   2923   2718   2438   \n",
       "Kazakhstan                                         ..     ..     ..     ..   \n",
       "Kuwait                                            317    286    344    437   \n",
       "Kyrgyzstan                                         ..     ..     ..     ..   \n",
       "Lao People's Democratic Republic                15805  36528  23662  12279   \n",
       "Lebanon                                          3955   3529   2941   3203   \n",
       "Malaysia                                         1033   1046    852    879   \n",
       "Maldives                                            1      1      1      0   \n",
       "Mongolia                                           ..     ..     ..     ..   \n",
       "Myanmar                                          1083    820    723    719   \n",
       "Nepal                                              83     97    105     75   \n",
       "Oman                                               18     13     15      7   \n",
       "Pakistan                                         5288   4536   4807   5509   \n",
       "Philippines                                     43772  45102  41546  42768   \n",
       "Qatar                                              22     13     19     17   \n",
       "Republic of Korea                               32663  31724  33339  33042   \n",
       "Saudi Arabia                                      159    134    170    208   \n",
       "Singapore                                         408    390    362    377   \n",
       "Sri Lanka                                         448    505    472    554   \n",
       "Syrian Arab Republic                             2127   2354   1683   1724   \n",
       "Tajikistan                                         ..     ..     ..     ..   \n",
       "Thailand                                         4799   5568   5875   4885   \n",
       "Turkey                                           2766   2864   2263   1793   \n",
       "Turkmenistan                                       ..     ..     ..     ..   \n",
       "United Arab Emirates                               24     40     31     76   \n",
       "Uzbekistan                                         ..     ..     ..     ..   \n",
       "Viet Nam                                        55631  72553  37560  37236   \n",
       "Yemen                                             230    305    268    324   \n",
       "\n",
       "                                                 1985   1986  ...   2013  \\\n",
       "Country                                                       ...          \n",
       "Afghanistan                                      2794   2831  ...   2196   \n",
       "Armenia                                            ..     ..  ...   2722   \n",
       "Azerbaijan                                         ..     ..  ...    637   \n",
       "Bahrain                                            43     30  ...    115   \n",
       "Bangladesh                                       1146   1634  ...  12099   \n",
       "Bhutan                                              0      1  ...   8954   \n",
       "Brunei Darussalam                                  16     29  ...     21   \n",
       "Cambodia                                        13563  13501  ...   2624   \n",
       "China                                           24787  25106  ...  71798   \n",
       "China, Hong Kong Special Administrative Region   5171   5021  ...   2226   \n",
       "China, Macao Special Administrative Region        271    243  ...    106   \n",
       "Cyprus                                            294    307  ...    126   \n",
       "Democratic People's Republic of Korea              ..     ..  ...     48   \n",
       "Georgia                                           126    136  ...   1368   \n",
       "India                                           26026  26227  ...  68458   \n",
       "Indonesia                                        1269   1183  ...   2731   \n",
       "Iran (Islamic Republic of)                      16071  16505  ...  12863   \n",
       "Iraq                                             1951   1323  ...   9552   \n",
       "Israel                                           3113   3790  ...   3996   \n",
       "Japan                                            4086   3959  ...   5925   \n",
       "Jordan                                           2998   3081  ...   4188   \n",
       "Kazakhstan                                         ..     ..  ...   1241   \n",
       "Kuwait                                            503    496  ...    937   \n",
       "Kyrgyzstan                                         ..     ..  ...    652   \n",
       "Lao People's Democratic Republic                 9133   7842  ...    923   \n",
       "Lebanon                                          3385   3994  ...   2783   \n",
       "Malaysia                                          939    886  ...   2477   \n",
       "Maldives                                            0      0  ...     ..   \n",
       "Mongolia                                           ..     ..  ...    729   \n",
       "Myanmar                                           990    863  ...  12565   \n",
       "Nepal                                              63     86  ...  13046   \n",
       "Oman                                                7     11  ...     73   \n",
       "Pakistan                                         5744   5994  ...  13251   \n",
       "Philippines                                     47978  52558  ...  54446   \n",
       "Qatar                                              28     41  ...    191   \n",
       "Republic of Korea                               35253  35776  ...  23166   \n",
       "Saudi Arabia                                      228    275  ...   1463   \n",
       "Singapore                                         460    480  ...    835   \n",
       "Sri Lanka                                         553    596  ...   1847   \n",
       "Syrian Arab Republic                             1581   1604  ...   3366   \n",
       "Tajikistan                                         ..     ..  ...    550   \n",
       "Thailand                                         5239   6204  ...   7583   \n",
       "Turkey                                           1691   1753  ...   4144   \n",
       "Turkmenistan                                       ..     ..  ...    210   \n",
       "United Arab Emirates                               92    121  ...    910   \n",
       "Uzbekistan                                         ..     ..  ...   4382   \n",
       "Viet Nam                                        31895  29993  ...  27101   \n",
       "Yemen                                             432    420  ...   3532   \n",
       "\n",
       "                                               Unnamed: 43 Unnamed: 44  \\\n",
       "Country                                                                  \n",
       "Afghanistan                                            NaN         NaN   \n",
       "Armenia                                                NaN         NaN   \n",
       "Azerbaijan                                             NaN         NaN   \n",
       "Bahrain                                                NaN         NaN   \n",
       "Bangladesh                                             NaN         NaN   \n",
       "Bhutan                                                 NaN         NaN   \n",
       "Brunei Darussalam                                      NaN         NaN   \n",
       "Cambodia                                               NaN         NaN   \n",
       "China                                                  NaN         NaN   \n",
       "China, Hong Kong Special Administrative Region         NaN         NaN   \n",
       "China, Macao Special Administrative Region             NaN         NaN   \n",
       "Cyprus                                                 NaN         NaN   \n",
       "Democratic People's Republic of Korea                  NaN         NaN   \n",
       "Georgia                                                NaN         NaN   \n",
       "India                                                  NaN         NaN   \n",
       "Indonesia                                              NaN         NaN   \n",
       "Iran (Islamic Republic of)                             NaN         NaN   \n",
       "Iraq                                                   NaN         NaN   \n",
       "Israel                                                 NaN         NaN   \n",
       "Japan                                                  NaN         NaN   \n",
       "Jordan                                                 NaN         NaN   \n",
       "Kazakhstan                                             NaN         NaN   \n",
       "Kuwait                                                 NaN         NaN   \n",
       "Kyrgyzstan                                             NaN         NaN   \n",
       "Lao People's Democratic Republic                       NaN         NaN   \n",
       "Lebanon                                                NaN         NaN   \n",
       "Malaysia                                               NaN         NaN   \n",
       "Maldives                                               NaN         NaN   \n",
       "Mongolia                                               NaN         NaN   \n",
       "Myanmar                                                NaN         NaN   \n",
       "Nepal                                                  NaN         NaN   \n",
       "Oman                                                   NaN         NaN   \n",
       "Pakistan                                               NaN         NaN   \n",
       "Philippines                                            NaN         NaN   \n",
       "Qatar                                                  NaN         NaN   \n",
       "Republic of Korea                                      NaN         NaN   \n",
       "Saudi Arabia                                           NaN         NaN   \n",
       "Singapore                                              NaN         NaN   \n",
       "Sri Lanka                                              NaN         NaN   \n",
       "Syrian Arab Republic                                   NaN         NaN   \n",
       "Tajikistan                                             NaN         NaN   \n",
       "Thailand                                               NaN         NaN   \n",
       "Turkey                                                 NaN         NaN   \n",
       "Turkmenistan                                           NaN         NaN   \n",
       "United Arab Emirates                                   NaN         NaN   \n",
       "Uzbekistan                                             NaN         NaN   \n",
       "Viet Nam                                               NaN         NaN   \n",
       "Yemen                                                  NaN         NaN   \n",
       "\n",
       "                                               Unnamed: 45 Unnamed: 46  \\\n",
       "Country                                                                  \n",
       "Afghanistan                                            NaN         NaN   \n",
       "Armenia                                                NaN         NaN   \n",
       "Azerbaijan                                             NaN         NaN   \n",
       "Bahrain                                                NaN         NaN   \n",
       "Bangladesh                                             NaN         NaN   \n",
       "Bhutan                                                 NaN         NaN   \n",
       "Brunei Darussalam                                      NaN         NaN   \n",
       "Cambodia                                               NaN         NaN   \n",
       "China                                                  NaN         NaN   \n",
       "China, Hong Kong Special Administrative Region         NaN         NaN   \n",
       "China, Macao Special Administrative Region             NaN         NaN   \n",
       "Cyprus                                                 NaN         NaN   \n",
       "Democratic People's Republic of Korea                  NaN         NaN   \n",
       "Georgia                                                NaN         NaN   \n",
       "India                                                  NaN         NaN   \n",
       "Indonesia                                              NaN         NaN   \n",
       "Iran (Islamic Republic of)                             NaN         NaN   \n",
       "Iraq                                                   NaN         NaN   \n",
       "Israel                                                 NaN         NaN   \n",
       "Japan                                                  NaN         NaN   \n",
       "Jordan                                                 NaN         NaN   \n",
       "Kazakhstan                                             NaN         NaN   \n",
       "Kuwait                                                 NaN         NaN   \n",
       "Kyrgyzstan                                             NaN         NaN   \n",
       "Lao People's Democratic Republic                       NaN         NaN   \n",
       "Lebanon                                                NaN         NaN   \n",
       "Malaysia                                               NaN         NaN   \n",
       "Maldives                                               NaN         NaN   \n",
       "Mongolia                                               NaN         NaN   \n",
       "Myanmar                                                NaN         NaN   \n",
       "Nepal                                                  NaN         NaN   \n",
       "Oman                                                   NaN         NaN   \n",
       "Pakistan                                               NaN         NaN   \n",
       "Philippines                                            NaN         NaN   \n",
       "Qatar                                                  NaN         NaN   \n",
       "Republic of Korea                                      NaN         NaN   \n",
       "Saudi Arabia                                           NaN         NaN   \n",
       "Singapore                                              NaN         NaN   \n",
       "Sri Lanka                                              NaN         NaN   \n",
       "Syrian Arab Republic                                   NaN         NaN   \n",
       "Tajikistan                                             NaN         NaN   \n",
       "Thailand                                               NaN         NaN   \n",
       "Turkey                                                 NaN         NaN   \n",
       "Turkmenistan                                           NaN         NaN   \n",
       "United Arab Emirates                                   NaN         NaN   \n",
       "Uzbekistan                                             NaN         NaN   \n",
       "Viet Nam                                               NaN         NaN   \n",
       "Yemen                                                  NaN         NaN   \n",
       "\n",
       "                                               Unnamed: 47 Unnamed: 48  \\\n",
       "Country                                                                  \n",
       "Afghanistan                                            NaN         NaN   \n",
       "Armenia                                                NaN         NaN   \n",
       "Azerbaijan                                             NaN         NaN   \n",
       "Bahrain                                                NaN         NaN   \n",
       "Bangladesh                                             NaN         NaN   \n",
       "Bhutan                                                 NaN         NaN   \n",
       "Brunei Darussalam                                      NaN         NaN   \n",
       "Cambodia                                               NaN         NaN   \n",
       "China                                                  NaN         NaN   \n",
       "China, Hong Kong Special Administrative Region         NaN         NaN   \n",
       "China, Macao Special Administrative Region             NaN         NaN   \n",
       "Cyprus                                                 NaN         NaN   \n",
       "Democratic People's Republic of Korea                  NaN         NaN   \n",
       "Georgia                                                NaN         NaN   \n",
       "India                                                  NaN         NaN   \n",
       "Indonesia                                              NaN         NaN   \n",
       "Iran (Islamic Republic of)                             NaN         NaN   \n",
       "Iraq                                                   NaN         NaN   \n",
       "Israel                                                 NaN         NaN   \n",
       "Japan                                                  NaN         NaN   \n",
       "Jordan                                                 NaN         NaN   \n",
       "Kazakhstan                                             NaN         NaN   \n",
       "Kuwait                                                 NaN         NaN   \n",
       "Kyrgyzstan                                             NaN         NaN   \n",
       "Lao People's Democratic Republic                       NaN         NaN   \n",
       "Lebanon                                                NaN         NaN   \n",
       "Malaysia                                               NaN         NaN   \n",
       "Maldives                                               NaN         NaN   \n",
       "Mongolia                                               NaN         NaN   \n",
       "Myanmar                                                NaN         NaN   \n",
       "Nepal                                                  NaN         NaN   \n",
       "Oman                                                   NaN         NaN   \n",
       "Pakistan                                               NaN         NaN   \n",
       "Philippines                                            NaN         NaN   \n",
       "Qatar                                                  NaN         NaN   \n",
       "Republic of Korea                                      NaN         NaN   \n",
       "Saudi Arabia                                           NaN         NaN   \n",
       "Singapore                                              NaN         NaN   \n",
       "Sri Lanka                                              NaN         NaN   \n",
       "Syrian Arab Republic                                   NaN         NaN   \n",
       "Tajikistan                                             NaN         NaN   \n",
       "Thailand                                               NaN         NaN   \n",
       "Turkey                                                 NaN         NaN   \n",
       "Turkmenistan                                           NaN         NaN   \n",
       "United Arab Emirates                                   NaN         NaN   \n",
       "Uzbekistan                                             NaN         NaN   \n",
       "Viet Nam                                               NaN         NaN   \n",
       "Yemen                                                  NaN         NaN   \n",
       "\n",
       "                                               Unnamed: 49 Unnamed: 50 Total  \n",
       "Country                                                                       \n",
       "Afghanistan                                            NaN         NaN   0.0  \n",
       "Armenia                                                NaN         NaN   0.0  \n",
       "Azerbaijan                                             NaN         NaN   0.0  \n",
       "Bahrain                                                NaN         NaN   0.0  \n",
       "Bangladesh                                             NaN         NaN   0.0  \n",
       "Bhutan                                                 NaN         NaN   0.0  \n",
       "Brunei Darussalam                                      NaN         NaN   0.0  \n",
       "Cambodia                                               NaN         NaN   0.0  \n",
       "China                                                  NaN         NaN   0.0  \n",
       "China, Hong Kong Special Administrative Region         NaN         NaN   0.0  \n",
       "China, Macao Special Administrative Region             NaN         NaN   0.0  \n",
       "Cyprus                                                 NaN         NaN   0.0  \n",
       "Democratic People's Republic of Korea                  NaN         NaN   0.0  \n",
       "Georgia                                                NaN         NaN   0.0  \n",
       "India                                                  NaN         NaN   0.0  \n",
       "Indonesia                                              NaN         NaN   0.0  \n",
       "Iran (Islamic Republic of)                             NaN         NaN   0.0  \n",
       "Iraq                                                   NaN         NaN   0.0  \n",
       "Israel                                                 NaN         NaN   0.0  \n",
       "Japan                                                  NaN         NaN   0.0  \n",
       "Jordan                                                 NaN         NaN   0.0  \n",
       "Kazakhstan                                             NaN         NaN   0.0  \n",
       "Kuwait                                                 NaN         NaN   0.0  \n",
       "Kyrgyzstan                                             NaN         NaN   0.0  \n",
       "Lao People's Democratic Republic                       NaN         NaN   0.0  \n",
       "Lebanon                                                NaN         NaN   0.0  \n",
       "Malaysia                                               NaN         NaN   0.0  \n",
       "Maldives                                               NaN         NaN   0.0  \n",
       "Mongolia                                               NaN         NaN   0.0  \n",
       "Myanmar                                                NaN         NaN   0.0  \n",
       "Nepal                                                  NaN         NaN   0.0  \n",
       "Oman                                                   NaN         NaN   0.0  \n",
       "Pakistan                                               NaN         NaN   0.0  \n",
       "Philippines                                            NaN         NaN   0.0  \n",
       "Qatar                                                  NaN         NaN   0.0  \n",
       "Republic of Korea                                      NaN         NaN   0.0  \n",
       "Saudi Arabia                                           NaN         NaN   0.0  \n",
       "Singapore                                              NaN         NaN   0.0  \n",
       "Sri Lanka                                              NaN         NaN   0.0  \n",
       "Syrian Arab Republic                                   NaN         NaN   0.0  \n",
       "Tajikistan                                             NaN         NaN   0.0  \n",
       "Thailand                                               NaN         NaN   0.0  \n",
       "Turkey                                                 NaN         NaN   0.0  \n",
       "Turkmenistan                                           NaN         NaN   0.0  \n",
       "United Arab Emirates                                   NaN         NaN   0.0  \n",
       "Uzbekistan                                             NaN         NaN   0.0  \n",
       "Viet Nam                                               NaN         NaN   0.0  \n",
       "Yemen                                                  NaN         NaN   0.0  \n",
       "\n",
       "[48 rows x 46 columns]"
      ]
     },
     "execution_count": 29,
     "metadata": {},
     "output_type": "execute_result"
    }
   ],
   "source": [
    "# 2. pass this condition into the dataFrame\n",
    "df_usa[condition]"
   ]
  },
  {
   "cell_type": "code",
   "execution_count": 30,
   "metadata": {
    "button": false,
    "new_sheet": false,
    "run_control": {
     "read_only": false
    }
   },
   "outputs": [
    {
     "data": {
      "text/html": [
       "<div>\n",
       "<style scoped>\n",
       "    .dataframe tbody tr th:only-of-type {\n",
       "        vertical-align: middle;\n",
       "    }\n",
       "\n",
       "    .dataframe tbody tr th {\n",
       "        vertical-align: top;\n",
       "    }\n",
       "\n",
       "    .dataframe thead th {\n",
       "        text-align: right;\n",
       "    }\n",
       "</style>\n",
       "<table border=\"1\" class=\"dataframe\">\n",
       "  <thead>\n",
       "    <tr style=\"text-align: right;\">\n",
       "      <th></th>\n",
       "      <th>Continent</th>\n",
       "      <th>Region</th>\n",
       "      <th>Dev_Status</th>\n",
       "      <th>1980</th>\n",
       "      <th>1981</th>\n",
       "      <th>1982</th>\n",
       "      <th>1983</th>\n",
       "      <th>1984</th>\n",
       "      <th>1985</th>\n",
       "      <th>1986</th>\n",
       "      <th>...</th>\n",
       "      <th>2013</th>\n",
       "      <th>Unnamed: 43</th>\n",
       "      <th>Unnamed: 44</th>\n",
       "      <th>Unnamed: 45</th>\n",
       "      <th>Unnamed: 46</th>\n",
       "      <th>Unnamed: 47</th>\n",
       "      <th>Unnamed: 48</th>\n",
       "      <th>Unnamed: 49</th>\n",
       "      <th>Unnamed: 50</th>\n",
       "      <th>Total</th>\n",
       "    </tr>\n",
       "    <tr>\n",
       "      <th>Country</th>\n",
       "      <th></th>\n",
       "      <th></th>\n",
       "      <th></th>\n",
       "      <th></th>\n",
       "      <th></th>\n",
       "      <th></th>\n",
       "      <th></th>\n",
       "      <th></th>\n",
       "      <th></th>\n",
       "      <th></th>\n",
       "      <th></th>\n",
       "      <th></th>\n",
       "      <th></th>\n",
       "      <th></th>\n",
       "      <th></th>\n",
       "      <th></th>\n",
       "      <th></th>\n",
       "      <th></th>\n",
       "      <th></th>\n",
       "      <th></th>\n",
       "      <th></th>\n",
       "    </tr>\n",
       "  </thead>\n",
       "  <tbody>\n",
       "    <tr>\n",
       "      <th>Afghanistan</th>\n",
       "      <td>Asia</td>\n",
       "      <td>Southern Asia</td>\n",
       "      <td>Less developed regions</td>\n",
       "      <td>722</td>\n",
       "      <td>1881</td>\n",
       "      <td>1569</td>\n",
       "      <td>2566</td>\n",
       "      <td>3222</td>\n",
       "      <td>2794</td>\n",
       "      <td>2831</td>\n",
       "      <td>...</td>\n",
       "      <td>2196</td>\n",
       "      <td>NaN</td>\n",
       "      <td>NaN</td>\n",
       "      <td>NaN</td>\n",
       "      <td>NaN</td>\n",
       "      <td>NaN</td>\n",
       "      <td>NaN</td>\n",
       "      <td>NaN</td>\n",
       "      <td>NaN</td>\n",
       "      <td>0.0</td>\n",
       "    </tr>\n",
       "    <tr>\n",
       "      <th>Bangladesh</th>\n",
       "      <td>Asia</td>\n",
       "      <td>Southern Asia</td>\n",
       "      <td>Less developed regions</td>\n",
       "      <td>532</td>\n",
       "      <td>756</td>\n",
       "      <td>639</td>\n",
       "      <td>787</td>\n",
       "      <td>823</td>\n",
       "      <td>1146</td>\n",
       "      <td>1634</td>\n",
       "      <td>...</td>\n",
       "      <td>12099</td>\n",
       "      <td>NaN</td>\n",
       "      <td>NaN</td>\n",
       "      <td>NaN</td>\n",
       "      <td>NaN</td>\n",
       "      <td>NaN</td>\n",
       "      <td>NaN</td>\n",
       "      <td>NaN</td>\n",
       "      <td>NaN</td>\n",
       "      <td>0.0</td>\n",
       "    </tr>\n",
       "    <tr>\n",
       "      <th>Bhutan</th>\n",
       "      <td>Asia</td>\n",
       "      <td>Southern Asia</td>\n",
       "      <td>Less developed regions</td>\n",
       "      <td>13</td>\n",
       "      <td>8</td>\n",
       "      <td>14</td>\n",
       "      <td>10</td>\n",
       "      <td>0</td>\n",
       "      <td>0</td>\n",
       "      <td>1</td>\n",
       "      <td>...</td>\n",
       "      <td>8954</td>\n",
       "      <td>NaN</td>\n",
       "      <td>NaN</td>\n",
       "      <td>NaN</td>\n",
       "      <td>NaN</td>\n",
       "      <td>NaN</td>\n",
       "      <td>NaN</td>\n",
       "      <td>NaN</td>\n",
       "      <td>NaN</td>\n",
       "      <td>0.0</td>\n",
       "    </tr>\n",
       "    <tr>\n",
       "      <th>India</th>\n",
       "      <td>Asia</td>\n",
       "      <td>Southern Asia</td>\n",
       "      <td>Less developed regions</td>\n",
       "      <td>22607</td>\n",
       "      <td>21522</td>\n",
       "      <td>21738</td>\n",
       "      <td>25451</td>\n",
       "      <td>24964</td>\n",
       "      <td>26026</td>\n",
       "      <td>26227</td>\n",
       "      <td>...</td>\n",
       "      <td>68458</td>\n",
       "      <td>NaN</td>\n",
       "      <td>NaN</td>\n",
       "      <td>NaN</td>\n",
       "      <td>NaN</td>\n",
       "      <td>NaN</td>\n",
       "      <td>NaN</td>\n",
       "      <td>NaN</td>\n",
       "      <td>NaN</td>\n",
       "      <td>0.0</td>\n",
       "    </tr>\n",
       "    <tr>\n",
       "      <th>Iran (Islamic Republic of)</th>\n",
       "      <td>Asia</td>\n",
       "      <td>Southern Asia</td>\n",
       "      <td>Less developed regions</td>\n",
       "      <td>10410</td>\n",
       "      <td>11105</td>\n",
       "      <td>10314</td>\n",
       "      <td>11163</td>\n",
       "      <td>13807</td>\n",
       "      <td>16071</td>\n",
       "      <td>16505</td>\n",
       "      <td>...</td>\n",
       "      <td>12863</td>\n",
       "      <td>NaN</td>\n",
       "      <td>NaN</td>\n",
       "      <td>NaN</td>\n",
       "      <td>NaN</td>\n",
       "      <td>NaN</td>\n",
       "      <td>NaN</td>\n",
       "      <td>NaN</td>\n",
       "      <td>NaN</td>\n",
       "      <td>0.0</td>\n",
       "    </tr>\n",
       "    <tr>\n",
       "      <th>Maldives</th>\n",
       "      <td>Asia</td>\n",
       "      <td>Southern Asia</td>\n",
       "      <td>Less developed regions</td>\n",
       "      <td>2</td>\n",
       "      <td>1</td>\n",
       "      <td>1</td>\n",
       "      <td>1</td>\n",
       "      <td>0</td>\n",
       "      <td>0</td>\n",
       "      <td>0</td>\n",
       "      <td>...</td>\n",
       "      <td>..</td>\n",
       "      <td>NaN</td>\n",
       "      <td>NaN</td>\n",
       "      <td>NaN</td>\n",
       "      <td>NaN</td>\n",
       "      <td>NaN</td>\n",
       "      <td>NaN</td>\n",
       "      <td>NaN</td>\n",
       "      <td>NaN</td>\n",
       "      <td>0.0</td>\n",
       "    </tr>\n",
       "    <tr>\n",
       "      <th>Nepal</th>\n",
       "      <td>Asia</td>\n",
       "      <td>Southern Asia</td>\n",
       "      <td>Less developed regions</td>\n",
       "      <td>98</td>\n",
       "      <td>83</td>\n",
       "      <td>97</td>\n",
       "      <td>105</td>\n",
       "      <td>75</td>\n",
       "      <td>63</td>\n",
       "      <td>86</td>\n",
       "      <td>...</td>\n",
       "      <td>13046</td>\n",
       "      <td>NaN</td>\n",
       "      <td>NaN</td>\n",
       "      <td>NaN</td>\n",
       "      <td>NaN</td>\n",
       "      <td>NaN</td>\n",
       "      <td>NaN</td>\n",
       "      <td>NaN</td>\n",
       "      <td>NaN</td>\n",
       "      <td>0.0</td>\n",
       "    </tr>\n",
       "    <tr>\n",
       "      <th>Pakistan</th>\n",
       "      <td>Asia</td>\n",
       "      <td>Southern Asia</td>\n",
       "      <td>Less developed regions</td>\n",
       "      <td>4265</td>\n",
       "      <td>5288</td>\n",
       "      <td>4536</td>\n",
       "      <td>4807</td>\n",
       "      <td>5509</td>\n",
       "      <td>5744</td>\n",
       "      <td>5994</td>\n",
       "      <td>...</td>\n",
       "      <td>13251</td>\n",
       "      <td>NaN</td>\n",
       "      <td>NaN</td>\n",
       "      <td>NaN</td>\n",
       "      <td>NaN</td>\n",
       "      <td>NaN</td>\n",
       "      <td>NaN</td>\n",
       "      <td>NaN</td>\n",
       "      <td>NaN</td>\n",
       "      <td>0.0</td>\n",
       "    </tr>\n",
       "    <tr>\n",
       "      <th>Sri Lanka</th>\n",
       "      <td>Asia</td>\n",
       "      <td>Southern Asia</td>\n",
       "      <td>Less developed regions</td>\n",
       "      <td>397</td>\n",
       "      <td>448</td>\n",
       "      <td>505</td>\n",
       "      <td>472</td>\n",
       "      <td>554</td>\n",
       "      <td>553</td>\n",
       "      <td>596</td>\n",
       "      <td>...</td>\n",
       "      <td>1847</td>\n",
       "      <td>NaN</td>\n",
       "      <td>NaN</td>\n",
       "      <td>NaN</td>\n",
       "      <td>NaN</td>\n",
       "      <td>NaN</td>\n",
       "      <td>NaN</td>\n",
       "      <td>NaN</td>\n",
       "      <td>NaN</td>\n",
       "      <td>0.0</td>\n",
       "    </tr>\n",
       "  </tbody>\n",
       "</table>\n",
       "<p>9 rows × 46 columns</p>\n",
       "</div>"
      ],
      "text/plain": [
       "                           Continent         Region              Dev_Status  \\\n",
       "Country                                                                       \n",
       "Afghanistan                     Asia  Southern Asia  Less developed regions   \n",
       "Bangladesh                      Asia  Southern Asia  Less developed regions   \n",
       "Bhutan                          Asia  Southern Asia  Less developed regions   \n",
       "India                           Asia  Southern Asia  Less developed regions   \n",
       "Iran (Islamic Republic of)      Asia  Southern Asia  Less developed regions   \n",
       "Maldives                        Asia  Southern Asia  Less developed regions   \n",
       "Nepal                           Asia  Southern Asia  Less developed regions   \n",
       "Pakistan                        Asia  Southern Asia  Less developed regions   \n",
       "Sri Lanka                       Asia  Southern Asia  Less developed regions   \n",
       "\n",
       "                             1980   1981   1982   1983   1984   1985   1986  \\\n",
       "Country                                                                       \n",
       "Afghanistan                   722   1881   1569   2566   3222   2794   2831   \n",
       "Bangladesh                    532    756    639    787    823   1146   1634   \n",
       "Bhutan                         13      8     14     10      0      0      1   \n",
       "India                       22607  21522  21738  25451  24964  26026  26227   \n",
       "Iran (Islamic Republic of)  10410  11105  10314  11163  13807  16071  16505   \n",
       "Maldives                        2      1      1      1      0      0      0   \n",
       "Nepal                          98     83     97    105     75     63     86   \n",
       "Pakistan                     4265   5288   4536   4807   5509   5744   5994   \n",
       "Sri Lanka                     397    448    505    472    554    553    596   \n",
       "\n",
       "                            ...   2013 Unnamed: 43 Unnamed: 44 Unnamed: 45  \\\n",
       "Country                     ...                                              \n",
       "Afghanistan                 ...   2196         NaN         NaN         NaN   \n",
       "Bangladesh                  ...  12099         NaN         NaN         NaN   \n",
       "Bhutan                      ...   8954         NaN         NaN         NaN   \n",
       "India                       ...  68458         NaN         NaN         NaN   \n",
       "Iran (Islamic Republic of)  ...  12863         NaN         NaN         NaN   \n",
       "Maldives                    ...     ..         NaN         NaN         NaN   \n",
       "Nepal                       ...  13046         NaN         NaN         NaN   \n",
       "Pakistan                    ...  13251         NaN         NaN         NaN   \n",
       "Sri Lanka                   ...   1847         NaN         NaN         NaN   \n",
       "\n",
       "                           Unnamed: 46 Unnamed: 47 Unnamed: 48 Unnamed: 49  \\\n",
       "Country                                                                      \n",
       "Afghanistan                        NaN         NaN         NaN         NaN   \n",
       "Bangladesh                         NaN         NaN         NaN         NaN   \n",
       "Bhutan                             NaN         NaN         NaN         NaN   \n",
       "India                              NaN         NaN         NaN         NaN   \n",
       "Iran (Islamic Republic of)         NaN         NaN         NaN         NaN   \n",
       "Maldives                           NaN         NaN         NaN         NaN   \n",
       "Nepal                              NaN         NaN         NaN         NaN   \n",
       "Pakistan                           NaN         NaN         NaN         NaN   \n",
       "Sri Lanka                          NaN         NaN         NaN         NaN   \n",
       "\n",
       "                           Unnamed: 50 Total  \n",
       "Country                                       \n",
       "Afghanistan                        NaN   0.0  \n",
       "Bangladesh                         NaN   0.0  \n",
       "Bhutan                             NaN   0.0  \n",
       "India                              NaN   0.0  \n",
       "Iran (Islamic Republic of)         NaN   0.0  \n",
       "Maldives                           NaN   0.0  \n",
       "Nepal                              NaN   0.0  \n",
       "Pakistan                           NaN   0.0  \n",
       "Sri Lanka                          NaN   0.0  \n",
       "\n",
       "[9 rows x 46 columns]"
      ]
     },
     "execution_count": 30,
     "metadata": {},
     "output_type": "execute_result"
    }
   ],
   "source": [
    "# We can also pass mutliple criteria in the same line. \n",
    "# let's filter for AreaNAme = Asia and RegName = Southern Asia\n",
    "\n",
    "df_usa[(df_usa['Continent']=='Asia') & (df_usa['Region']=='Southern Asia')]\n",
    "\n",
    "# note: When using 'and' and 'or' operators, pandas requires we use '&' and '|' instead of 'and' and 'or'\n",
    "# don't forget to enclose the two conditions in parentheses"
   ]
  },
  {
   "cell_type": "markdown",
   "metadata": {
    "button": false,
    "new_sheet": false,
    "run_control": {
     "read_only": false
    }
   },
   "source": [
    "Final Check: Review the changes made to dataframe, and create a checkpoint file."
   ]
  },
  {
   "cell_type": "code",
   "execution_count": 31,
   "metadata": {
    "button": false,
    "new_sheet": false,
    "run_control": {
     "read_only": false
    },
    "scrolled": true
   },
   "outputs": [
    {
     "name": "stdout",
     "output_type": "stream",
     "text": [
      "data dimensions: (219, 46)\n",
      "Index(['Continent', 'Region', 'Dev_Status', '1980', '1981', '1982', '1983',\n",
      "       '1984', '1985', '1986', '1987', '1988', '1989', '1990', '1991', '1992',\n",
      "       '1993', '1994', '1995', '1996', '1997', '1998', '1999', '2000', '2001',\n",
      "       '2002', '2003', '2004', '2005', '2006', '2007', '2008', '2009', '2010',\n",
      "       '2011', '2012', '2013', 'Unnamed: 43', 'Unnamed: 44', 'Unnamed: 45',\n",
      "       'Unnamed: 46', 'Unnamed: 47', 'Unnamed: 48', 'Unnamed: 49',\n",
      "       'Unnamed: 50', 'Total'],\n",
      "      dtype='object')\n"
     ]
    }
   ],
   "source": [
    "print('data dimensions:', df_usa.shape)\n",
    "print(df_usa.columns)\n",
    "df_usa.head(2)\n",
    "\n",
    "#Checkpoint File\n",
    "df_usa.to_csv(\"df_usa.csv\", index = False)"
   ]
  },
  {
   "cell_type": "markdown",
   "metadata": {
    "button": false,
    "new_sheet": false,
    "run_control": {
     "read_only": false
    }
   },
   "source": [
    "---\n",
    "# Visualizing Data using Matplotlib<a id=\"8\"></a>"
   ]
  },
  {
   "cell_type": "markdown",
   "metadata": {
    "button": false,
    "new_sheet": false,
    "run_control": {
     "read_only": false
    }
   },
   "source": [
    "## Matplotlib: Standard Python Visualization Library<a id=\"10\"></a>\n",
    "\n",
    "The primary plotting library in the course is [Matplotlib](http://matplotlib.org/).  As mentioned on their website: \n",
    ">Matplotlib is a Python 2D plotting library which produces publication quality figures in a variety of hardcopy formats and interactive environments across platforms. Matplotlib can be used in Python scripts, the Python and IPython shell, the jupyter notebook, web application servers, and four graphical user interface toolkits.\n",
    "\n",
    "Learning how to use Matplotlib to create impactful visualisations is essential, because a very crucial part of data science is being able to communicate your results"
   ]
  },
  {
   "cell_type": "markdown",
   "metadata": {
    "button": false,
    "new_sheet": false,
    "run_control": {
     "read_only": false
    }
   },
   "source": [
    "### Matplotlib.Pyplot\n",
    "\n",
    "One of the core aspects of Matplotlib is 'matplotlib.pyplot'. It is Matplotlib's scripting layer which we studied about in seminar 3. Recall that it is a collection of command style functions that make Matplotlib work. \n",
    "\n",
    "Each 'pyplot' function is able to make some change to a figure: e.g., creates a figure, creates a plotting area in a figure, plots some lines in a plotting area, decorates the plot with labels, etc. "
   ]
  },
  {
   "cell_type": "markdown",
   "metadata": {
    "button": false,
    "new_sheet": false,
    "run_control": {
     "read_only": false
    }
   },
   "source": [
    "Let's start by importing `Matplotlib` and `Matplotlib.pyplot` as follows:"
   ]
  },
  {
   "cell_type": "code",
   "execution_count": 32,
   "metadata": {
    "button": false,
    "new_sheet": false,
    "run_control": {
     "read_only": false
    },
    "scrolled": false
   },
   "outputs": [],
   "source": [
    "# we are using the inline backend\n",
    "%matplotlib inline \n",
    "\n",
    "import matplotlib as mpl\n",
    "import matplotlib.pyplot as plt"
   ]
  },
  {
   "cell_type": "markdown",
   "metadata": {
    "button": false,
    "new_sheet": false,
    "run_control": {
     "read_only": false
    }
   },
   "source": [
    "*optional: check if Matplotlib is loaded."
   ]
  },
  {
   "cell_type": "code",
   "execution_count": 33,
   "metadata": {
    "button": false,
    "new_sheet": false,
    "run_control": {
     "read_only": false
    },
    "scrolled": false
   },
   "outputs": [
    {
     "name": "stdout",
     "output_type": "stream",
     "text": [
      "Matplotlib version:  3.3.4\n"
     ]
    }
   ],
   "source": [
    "print ('Matplotlib version: ', mpl.__version__) # >= 2.0.0"
   ]
  },
  {
   "cell_type": "markdown",
   "metadata": {
    "button": false,
    "new_sheet": false,
    "run_control": {
     "read_only": false
    }
   },
   "source": [
    "*optional: apply a style to Matplotlib."
   ]
  },
  {
   "cell_type": "code",
   "execution_count": 34,
   "metadata": {
    "button": false,
    "new_sheet": false,
    "run_control": {
     "read_only": false
    },
    "scrolled": false
   },
   "outputs": [
    {
     "name": "stdout",
     "output_type": "stream",
     "text": [
      "['Solarize_Light2', '_classic_test_patch', 'bmh', 'classic', 'dark_background', 'fast', 'fivethirtyeight', 'ggplot', 'grayscale', 'seaborn', 'seaborn-bright', 'seaborn-colorblind', 'seaborn-dark', 'seaborn-dark-palette', 'seaborn-darkgrid', 'seaborn-deep', 'seaborn-muted', 'seaborn-notebook', 'seaborn-paper', 'seaborn-pastel', 'seaborn-poster', 'seaborn-talk', 'seaborn-ticks', 'seaborn-white', 'seaborn-whitegrid', 'tableau-colorblind10']\n"
     ]
    }
   ],
   "source": [
    "print(plt.style.available)\n",
    "mpl.style.use(['ggplot']) # optional: for ggplot-like style"
   ]
  },
  {
   "cell_type": "markdown",
   "metadata": {
    "button": false,
    "new_sheet": false,
    "run_control": {
     "read_only": false
    }
   },
   "source": [
    "### Plotting in *pandas*\n",
    "\n",
    "Fortunately, pandas has a built-in implementation of Matplotlib that we can use. Plotting in *pandas* is as simple as appending a `.plot()` method to a series or dataframe.\n",
    "\n",
    "Documentation:\n",
    "- [Plotting with Series](http://pandas.pydata.org/pandas-docs/stable/api.html#plotting)<br>\n",
    "- [Plotting with Dataframes](http://pandas.pydata.org/pandas-docs/stable/api.html#api-dataframe-plotting)"
   ]
  },
  {
   "cell_type": "markdown",
   "metadata": {
    "button": false,
    "new_sheet": false,
    "run_control": {
     "read_only": false
    }
   },
   "source": [
    "# Line Pots (Series/Dataframe) <a id=\"12\"></a>"
   ]
  },
  {
   "cell_type": "markdown",
   "metadata": {
    "button": false,
    "new_sheet": false,
    "run_control": {
     "read_only": false
    }
   },
   "source": [
    "**What is a line plot and why use it?**\n",
    "\n",
    "A line chart (line plot) is a type of plot which displays information as a series of data points called 'markers' connected by straight line segments. It is a basic type of chart common in many fields.\n",
    "\n",
    "Line plots are best used when data is continuous data or if you are trying to observe for trends."
   ]
  },
  {
   "cell_type": "markdown",
   "metadata": {
    "button": false,
    "new_sheet": false,
    "run_control": {
     "read_only": false
    }
   },
   "source": [
    "**Let's start with a case study:**\n",
    "\n",
    "In 2001, Setemner 11th occured where the world trade center was destroyed. As part of more inward looking government policies, the United Staes Government stopped the influx of immigrants and refugees from many countries. However, was Singapore affected? We can quickly visualize this effort using a `Line` plot:\n",
    "\n",
    "**Question:** Plot a line graph of immigration from Singapore using 'df.plot()'.\n"
   ]
  },
  {
   "cell_type": "markdown",
   "metadata": {
    "button": false,
    "new_sheet": false,
    "run_control": {
     "read_only": false
    }
   },
   "source": [
    "First, please extract the data series for Singapore."
   ]
  },
  {
   "cell_type": "code",
   "execution_count": 35,
   "metadata": {
    "button": false,
    "new_sheet": false,
    "run_control": {
     "read_only": false
    },
    "scrolled": false
   },
   "outputs": [
    {
     "data": {
      "text/plain": [
       "1999     355\n",
       "2000     668\n",
       "2001    1100\n",
       "2002    1033\n",
       "2003     582\n",
       "2004     966\n",
       "2005    1204\n",
       "2006     997\n",
       "2007     985\n",
       "2008     922\n",
       "2009     832\n",
       "2010     774\n",
       "2011     690\n",
       "2012     712\n",
       "2013     835\n",
       "Name: Singapore, dtype: object"
      ]
     },
     "execution_count": 35,
     "metadata": {},
     "output_type": "execute_result"
    }
   ],
   "source": [
    "Singapore = df_usa.loc['Singapore', years] # passing in years 1980 - 2013 to exclude the 'total' column\n",
    "Singapore.tail(15)"
   ]
  },
  {
   "cell_type": "markdown",
   "metadata": {
    "button": false,
    "new_sheet": false,
    "run_control": {
     "read_only": false
    }
   },
   "source": [
    "Next, please plot a line plot by appending '.plot()' to the 'Singapore' dataframe."
   ]
  },
  {
   "cell_type": "code",
   "execution_count": 36,
   "metadata": {
    "button": false,
    "new_sheet": false,
    "run_control": {
     "read_only": false
    },
    "scrolled": false
   },
   "outputs": [
    {
     "data": {
      "text/plain": [
       "<AxesSubplot:>"
      ]
     },
     "execution_count": 36,
     "metadata": {},
     "output_type": "execute_result"
    },
    {
     "data": {
      "image/png": "[encoded data removed]",
      "text/plain": [
       "<Figure size 432x288 with 1 Axes>"
      ]
     },
     "metadata": {},
     "output_type": "display_data"
    }
   ],
   "source": [
    "Singapore.plot()"
   ]
  },
  {
   "cell_type": "markdown",
   "metadata": {
    "button": false,
    "new_sheet": false,
    "run_control": {
     "read_only": false
    }
   },
   "source": [
    "*pandas* automatically populated the x-axis with the index values (years), and the y-axis with the column values (population). \n",
    "\n",
    "However, notice how the years were not displayed because they are of type *string*. We need to change the type of the index values to *integer* for plotting.\n",
    "\n",
    "Also, its unclear what each axis is or what this plot is about - so please label the x and y axis using 'plt.title()', 'plt.ylabel()', and 'plt.xlabel()':"
   ]
  },
  {
   "cell_type": "code",
   "execution_count": 37,
   "metadata": {
    "button": false,
    "new_sheet": false,
    "run_control": {
     "read_only": false
    },
    "scrolled": true
   },
   "outputs": [
    {
     "data": {
      "image/png": "[encoded data removed]",
      "text/plain": [
       "<Figure size 432x288 with 1 Axes>"
      ]
     },
     "metadata": {},
     "output_type": "display_data"
    }
   ],
   "source": [
    "# Change the index values to type integer for plotting\n",
    "Singapore.index = Singapore.index.map(int)\n",
    "Singapore.plot(kind='line')\n",
    "\n",
    "plt.title('Immigration from Singapore')\n",
    "plt.ylabel('Number of immigrants')\n",
    "plt.xlabel('Years')\n",
    "\n",
    "plt.show() # need this line to show the updates made to the figure"
   ]
  },
  {
   "cell_type": "markdown",
   "metadata": {
    "button": false,
    "new_sheet": false,
    "run_control": {
     "read_only": false
    }
   },
   "source": [
    "We can clearly notice how number of immigrants from Singapore was on the upawrd trend but spiked down from 2001-2003 as the United States stepped up its efforts to counter Terrorism. \n",
    "\n",
    "Please annotate this spike in the plot by using the 'plt.text()' method."
   ]
  },
  {
   "cell_type": "code",
   "execution_count": 42,
   "metadata": {
    "button": false,
    "new_sheet": false,
    "run_control": {
     "read_only": false
    }
   },
   "outputs": [
    {
     "data": {
      "image/png": "[encoded data removed]",
      "text/plain": [
       "<Figure size 432x288 with 1 Axes>"
      ]
     },
     "metadata": {},
     "output_type": "display_data"
    }
   ],
   "source": [
    "Singapore.plot(kind='line')\n",
    "\n",
    "plt.title('Immigration from Singapore')\n",
    "plt.ylabel('Number of Immigrants')\n",
    "plt.xlabel('Years')\n",
    "\n",
    "# annotate the 2001 Event. \n",
    "# syntax: plt.text(x, y, label)\n",
    "#plt.text(2000, 6000, '2010 Earthquake') # see note below\n",
    "\n",
    "plt.show() "
   ]
  },
  {
   "cell_type": "markdown",
   "metadata": {
    "button": false,
    "new_sheet": false,
    "run_control": {
     "read_only": false
    }
   },
   "source": [
    "With just a few lines of code, you were able to quickly identify and visualize the spike in immigration!\n",
    "\n",
    "Quick note on x and y values in `plt.text(x, y, label)`:\n",
    "    \n",
    "     Since the x-axis (years) is type 'integer', we specified x as a year. The y axis (number of immigrants) is type 'integer', so we can just specify the value y = 6000.\n",
    "    \n",
    "```python\n",
    "    plt.text(2000, 6000, '2010 Earthquake') # years stored as type int\n",
    "```\n",
    "    If the years were stored as type 'string', we would need to specify x as the index position of the year. Eg 20th index is year 2000 since it is the 20th year with a base year of 1980.\n",
    "```python\n",
    "    plt.text(20, 6000, '2010 Earthquake') # years stored as type int\n",
    "```\n",
    "    We will cover advanced annotation methods in later modules."
   ]
  },
  {
   "cell_type": "markdown",
   "metadata": {
    "button": false,
    "new_sheet": false,
    "run_control": {
     "read_only": false
    }
   },
   "source": [
    "We can easily add more countries to line plot to make meaningful comparisons immigration from different countries. \n",
    "\n",
    "**Question:** Let's compare the number of immigrants from India and China from 1980 to 2013.\n"
   ]
  },
  {
   "cell_type": "markdown",
   "metadata": {
    "button": false,
    "new_sheet": false,
    "run_control": {
     "read_only": false
    }
   },
   "source": [
    "Step 1: Get the data set for China and India, and display dataframe."
   ]
  },
  {
   "cell_type": "code",
   "execution_count": 39,
   "metadata": {
    "button": false,
    "new_sheet": false,
    "run_control": {
     "read_only": false
    },
    "scrolled": true
   },
   "outputs": [],
   "source": [
    "### type your answer here\n",
    "\n"
   ]
  },
  {
   "cell_type": "markdown",
   "metadata": {
    "button": false,
    "new_sheet": false,
    "run_control": {
     "read_only": false
    }
   },
   "source": [
    "Double-click __here__ for the solution.\n",
    "<!-- The correct answer is:\n",
    "df_CI = df_can.loc[['India', 'China'], years]\n",
    "df_CI.head()\n",
    "-->"
   ]
  },
  {
   "cell_type": "markdown",
   "metadata": {
    "button": false,
    "new_sheet": false,
    "run_control": {
     "read_only": false
    }
   },
   "source": [
    "Step 2: Plot graph. We will explicitly specify line plot by passing in `kind` parameter to `plot()`."
   ]
  },
  {
   "cell_type": "code",
   "execution_count": 40,
   "metadata": {
    "button": false,
    "new_sheet": false,
    "run_control": {
     "read_only": false
    },
    "scrolled": true
   },
   "outputs": [],
   "source": [
    "### type your answer here\n",
    "\n"
   ]
  },
  {
   "cell_type": "markdown",
   "metadata": {
    "button": false,
    "new_sheet": false,
    "run_control": {
     "read_only": false
    }
   },
   "source": [
    "Double-click __here__ for the solution.\n",
    "<!-- The correct answer is:\n",
    "df_CI.plot(kind='line')\n",
    "-->"
   ]
  },
  {
   "cell_type": "markdown",
   "metadata": {
    "button": false,
    "new_sheet": false,
    "run_control": {
     "read_only": false
    }
   },
   "source": [
    "That doesn't look right...\n",
    "\n",
    "Recall that *pandas* plots the indices on the x-axis and the columns as individual lines on the y-axis. Since `df_CI` is a dataframe with the `country` as the index and `years` as the columns, we must first transpose the dataframe using `transpose()` method to swap the row and columns."
   ]
  },
  {
   "cell_type": "code",
   "execution_count": 41,
   "metadata": {
    "button": false,
    "new_sheet": false,
    "run_control": {
     "read_only": false
    }
   },
   "outputs": [
    {
     "ename": "NameError",
     "evalue": "name 'df_CI' is not defined",
     "output_type": "error",
     "traceback": [
      "\u001b[1;31m---------------------------------------------------------------------------\u001b[0m",
      "\u001b[1;31mNameError\u001b[0m                                 Traceback (most recent call last)",
      "\u001b[1;32m<ipython-input-41-e83dfc14c4c9>\u001b[0m in \u001b[0;36m<module>\u001b[1;34m\u001b[0m\n\u001b[1;32m----> 1\u001b[1;33m \u001b[0mdf_CI\u001b[0m \u001b[1;33m=\u001b[0m \u001b[0mdf_CI\u001b[0m\u001b[1;33m.\u001b[0m\u001b[0mtranspose\u001b[0m\u001b[1;33m(\u001b[0m\u001b[1;33m)\u001b[0m\u001b[1;33m\u001b[0m\u001b[1;33m\u001b[0m\u001b[0m\n\u001b[0m\u001b[0;32m      2\u001b[0m \u001b[0mdf_CI\u001b[0m\u001b[1;33m.\u001b[0m\u001b[0mhead\u001b[0m\u001b[1;33m(\u001b[0m\u001b[1;33m)\u001b[0m\u001b[1;33m\u001b[0m\u001b[1;33m\u001b[0m\u001b[0m\n",
      "\u001b[1;31mNameError\u001b[0m: name 'df_CI' is not defined"
     ]
    }
   ],
   "source": [
    "df_CI = df_CI.transpose()\n",
    "df_CI.head()"
   ]
  },
  {
   "cell_type": "markdown",
   "metadata": {
    "button": false,
    "new_sheet": false,
    "run_control": {
     "read_only": false
    }
   },
   "source": [
    "*pandas* will auomatically graph the two countries on the same graph. Go ahead and plot the new transposed dataframe. Make sure to add a title to the plot and label the axes."
   ]
  },
  {
   "cell_type": "code",
   "execution_count": null,
   "metadata": {
    "button": false,
    "new_sheet": false,
    "run_control": {
     "read_only": false
    }
   },
   "outputs": [],
   "source": [
    "### type your answer here\n",
    "\n",
    "\n",
    "\n"
   ]
  },
  {
   "cell_type": "markdown",
   "metadata": {
    "button": false,
    "new_sheet": false,
    "run_control": {
     "read_only": false
    }
   },
   "source": [
    "Double-click __here__ for the solution.\n",
    "<!-- The correct answer is:\n",
    "df_CI.index = df_CI.index.map(int) # let's change the index values of df_CI to type integer for plotting\n",
    "df_CI.plot(kind='line')\n",
    "-->\n",
    "\n",
    "<!--\n",
    "plt.title('Immigrants from China and India')\n",
    "plt.ylabel('Number of Immigrants')\n",
    "plt.xlabel('Years')\n",
    "-->\n",
    "\n",
    "<!--\n",
    "plt.show()\n",
    "--> "
   ]
  },
  {
   "cell_type": "markdown",
   "metadata": {
    "button": false,
    "new_sheet": false,
    "run_control": {
     "read_only": false
    }
   },
   "source": [
    "From the above plot, we can observe that the China and India have very similar immigration trends through the years. "
   ]
  },
  {
   "cell_type": "markdown",
   "metadata": {
    "button": false,
    "new_sheet": false,
    "run_control": {
     "read_only": false
    }
   },
   "source": [
    "*Note*: How come we didn't need to transpose Haiti's dataframe before plotting (like we did for df_CI)?\n",
    "\n",
    "That's because `haiti` is a series as opposed to a dataframe, and has the years as its indices as shown below. \n",
    "```python\n",
    "print(type(haiti))\n",
    "print(haiti.head(5))\n",
    "```\n",
    ">class 'pandas.core.series.Series' <br>\n",
    ">1980    1666 <br>\n",
    ">1981    3692 <br>\n",
    ">1982    3498 <br>\n",
    ">1983    2860 <br>\n",
    ">1984    1418 <br>\n",
    ">Name: Haiti, dtype: int64 <br>"
   ]
  },
  {
   "cell_type": "markdown",
   "metadata": {
    "button": false,
    "new_sheet": false,
    "run_control": {
     "read_only": false
    }
   },
   "source": [
    "Line plot is a handy tool to display several dependent variables against one independent variable. However, it is recommended that no more than 5-10 lines on a single graph; any more than that and it becomes difficult to interpret."
   ]
  },
  {
   "cell_type": "markdown",
   "metadata": {
    "button": false,
    "new_sheet": false,
    "run_control": {
     "read_only": false
    }
   },
   "source": [
    "**Question:** Compare the trend of top 5 countries that contributed the most to immigration to Canada."
   ]
  },
  {
   "cell_type": "code",
   "execution_count": null,
   "metadata": {
    "button": false,
    "new_sheet": false,
    "run_control": {
     "read_only": false
    }
   },
   "outputs": [],
   "source": [
    "### type your answer here\n",
    "\n",
    "\n",
    "\n"
   ]
  },
  {
   "cell_type": "markdown",
   "metadata": {
    "button": false,
    "new_sheet": false,
    "run_control": {
     "read_only": false
    }
   },
   "source": [
    "Double-click __here__ for the solution.\n",
    "<!-- The correct answer is:\n",
    "\\\\ # Step 1: Get the dataset. Recall that we created a Total column that calculates the cumulative immigration by country. \\\\ We will sort on this column to get our top 5 countries using pandas sort_values() method.\n",
    "\\\\ inplace = True paramemter saves the changes to the original df_can dataframe\n",
    "df_can.sort_values(by='Total', ascending=False, axis=0, inplace=True)\n",
    "-->\n",
    "\n",
    "<!--\n",
    "# get the top 5 entries\n",
    "df_top5 = df_can.head(5)\n",
    "-->\n",
    "\n",
    "<!--\n",
    "# transpose the dataframe\n",
    "df_top5 = df_top5[years].transpose() \n",
    "-->\n",
    "\n",
    "<!--\n",
    "print(df_top5)\n",
    "-->\n",
    "\n",
    "<!--\n",
    "\\\\ # Step 2: Plot the dataframe. To make the plot more readeable, we will change the size using the `figsize` parameter.\n",
    "df_top5.index = df_top5.index.map(int) # let's change the index values of df_top5 to type integer for plotting\n",
    "df_top5.plot(kind='line', figsize=(14, 8)) # pass a tuple (x, y) size\n",
    "-->\n",
    "\n",
    "<!--\n",
    "plt.title('Immigration Trend of Top 5 Countries')\n",
    "plt.ylabel('Number of Immigrants')\n",
    "plt.xlabel('Years')\n",
    "-->\n",
    "\n",
    "<!--\n",
    "plt.show()\n",
    "-->"
   ]
  },
  {
   "cell_type": "markdown",
   "metadata": {
    "button": false,
    "new_sheet": false,
    "run_control": {
     "read_only": false
    }
   },
   "source": [
    "### Other Plots\n",
    "\n",
    "Congratulations! you have learned how to wrangle data with python and create a line plot with Matplotlib. There are many other plotting styles available other than the default Line plot, all of which can be accessed by passing `kind` keyword to `plot()`. The full list of available plots are as follows:\n",
    "\n",
    "* `bar` for vertical bar plots\n",
    "* `barh` for horizontal bar plots\n",
    "* `hist` for histogram\n",
    "* `box` for boxplot\n",
    "* `kde` or `density` for density plots\n",
    "* `area` for area plots\n",
    "* `pie` for pie plots\n",
    "* `scatter` for scatter plots\n",
    "* `hexbin` for hexbin plot"
   ]
  },
  {
   "cell_type": "markdown",
   "metadata": {
    "button": false,
    "new_sheet": false,
    "run_control": {
     "read_only": false
    }
   },
   "source": [
    "### Thank you for completing this lab!\n",
    "\n",
    "This notebook was originally created by [Jay Rajasekharan](https://www.linkedin.com/in/jayrajasekharan) with contributions from [Ehsan M. Kermani](https://www.linkedin.com/in/ehsanmkermani), and [Slobodan Markovic](https://www.linkedin.com/in/slobodan-markovic).\n",
    "\n",
    "This notebook was recently revised by [Alex Aklson](https://www.linkedin.com/in/aklson/). I hope you found this lab session interesting. Feel free to contact me if you have any questions!"
   ]
  },
  {
   "cell_type": "markdown",
   "metadata": {
    "button": false,
    "new_sheet": false,
    "run_control": {
     "read_only": false
    }
   },
   "source": [
    "This notebook is part of a course on **Coursera** called *Data Visualization with Python*. If you accessed this notebook outside the course, you can take this course online by clicking [here](http://cocl.us/DV0101EN_Coursera_Week1_LAB1)."
   ]
  },
  {
   "cell_type": "markdown",
   "metadata": {
    "button": false,
    "new_sheet": false,
    "run_control": {
     "read_only": false
    }
   },
   "source": [
    "<hr>\n",
    "\n",
    "Copyright &copy; 2019 [Cognitive Class](https://cognitiveclass.ai/?utm_source=bducopyrightlink&utm_medium=dswb&utm_campaign=bdu). This notebook and its source code are released under the terms of the [MIT License](https://bigdatauniversity.com/mit-license/)."
   ]
  }
 ],
 "metadata": {
  "kernelspec": {
   "display_name": "Python 3",
   "language": "python",
   "name": "python3"
  },
  "language_info": {
   "codemirror_mode": {
    "name": "ipython",
    "version": 3
   },
   "file_extension": ".py",
   "mimetype": "text/x-python",
   "name": "python",
   "nbconvert_exporter": "python",
   "pygments_lexer": "ipython3",
   "version": "3.8.10"
  },
  "widgets": {
   "state": {},
   "version": "1.1.2"
  }
 },
 "nbformat": 4,
 "nbformat_minor": 2
}
