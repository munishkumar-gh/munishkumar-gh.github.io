{
 "cells": [
  {
   "cell_type": "markdown",
   "id": "538fd826",
   "metadata": {},
   "source": [
    "#### 2a_Car_Sales_Soln (repaired)"
   ]
  },
  {
   "cell_type": "code",
   "execution_count": 1,
   "id": "8131f53a",
   "metadata": {},
   "outputs": [
    {
     "name": "stdout",
     "output_type": "stream",
     "text": [
      "The car brand is Toyota\n",
      "The car brand is Kia\n",
      "The car brand is BMW\n",
      "The car brand is Chrysler\n",
      "The car brand is Mercedes Benz\n",
      "The car brand is Porsche\n",
      "The car brand is Fiat\n",
      "The car brand is Honda\n",
      "The car brand is Nissan\n",
      "The car brand is Volswagon\n",
      "The car brand is Renault\n",
      "The car brand is Lambo\n",
      "The car brand is Hyundai\n",
      "Which car brand do you want?:Toyota\n",
      "You have entered a valid car brand Toyota\n"
     ]
    }
   ],
   "source": [
    "# Car sales program:\n",
    "# Construct a tuple of the car brands you know (e.g., Toyota, Kia, BMW,\n",
    "# Chrysler, Mercedes Benz, Porsche, Fiat, etc.).\n",
    "\n",
    "# Extend the Car sales program from Study Unit 1 by listing the car brands\n",
    "# stored in the tuples and listed them out on the screen when the user is asked\n",
    "# to enter the brand of the car.\n",
    "\n",
    "# Note that the user must enter one of the brands in the tuple, i.e.,\n",
    "# any brand not stored in the tuple is considered as invalid input.\n",
    "# Furthermore, the exact spelling of the brand in the tuple should also be\n",
    "# stored in the variable for the car brand input.\n",
    "\n",
    "# Recall - Tuples are defined by round brackets \"(\" & \")\"\n",
    "car_brands = (\n",
    "\"Toyota\", \"Kia\", \"BMW\", \"Chrysler\", \"Mercedes Benz\", \"Porsche\", \"Fiat\",\n",
    "\"Honda\", \"Nissan\", \"Volswagon\", \"Renault\", \"Lambo\", \"Hyundai\"\n",
    ")\n",
    "\n",
    "lenlist = len(car_brands)\n",
    "for i in range(lenlist):\n",
    "    print(f\"The car brand is {car_brands[i]}\")\n",
    "\n",
    "User_qn = str(input(\"Which car brand do you want?:\"))\n",
    "\n",
    "count_car = 0\n",
    "for j in range(lenlist):\n",
    "    if car_brands[j] == User_qn:\n",
    "        count_car = j\n",
    "        break\n",
    "\n",
    "# This part of the code is buggy - can you fix it? \n",
    "# Ans: We need to change '0' to '-1' for Toyota to be considered a valid car brand?\n",
    "\n",
    "if count_car > -1:\n",
    "    print(f\"You have entered a valid car brand {car_brands[count_car]}\")\n",
    "else:\n",
    "    print(\"You have entered an invalid car brand\")"
   ]
  },
  {
   "cell_type": "markdown",
   "id": "b5d7108c",
   "metadata": {},
   "source": [
    "#### 2b_Car_Sales_Soln (repaired)"
   ]
  },
  {
   "cell_type": "code",
   "execution_count": 2,
   "id": "b0934cfe",
   "metadata": {},
   "outputs": [
    {
     "name": "stdout",
     "output_type": "stream",
     "text": [
      "\n",
      "Please enter following data (ENTER to quit):\n",
      "\n",
      " Brand of Car 1: Toyota\n",
      "\n",
      " Model of Car 1: Camy\n",
      "\n",
      " Price of Car 1: 200000.00\n",
      "\n",
      "The following data has been entered:\n",
      "[['Toyota', 'Camy', 200000.0]]\n",
      "\n",
      "\n",
      " Brand of Car 2: \n"
     ]
    }
   ],
   "source": [
    "# Car sales program:\n",
    "# Extend the Car sales program by storing all the car brand,\n",
    "# model and price of each entry in a list within the “outer”\n",
    "# list in which all the entries of the user inputs are stored.\n",
    "\n",
    "finallist = []\n",
    "i = 1\n",
    "proceed = True\n",
    "\n",
    "print(\"\\nPlease enter following data (ENTER to quit):\")\n",
    "\n",
    "while proceed == True:\n",
    "    std_brand = str(input(f\"\\n Brand of Car {i}: \"))\n",
    "    if std_brand == \"\":\n",
    "        proceed = False\n",
    "        break\n",
    "    std_model = str(input(f\"\\n Model of Car {i}: \"))\n",
    "    if std_model == \"\":\n",
    "        proceed = False\n",
    "        break\n",
    "\n",
    "# There is a bug in this code - can you fix it?\n",
    "# Ans: There was an indentation error occured in the last line code? if i > 1:....................\n",
    "\n",
    "    valid_in2 = False\n",
    "    while valid_in2 == False:\n",
    "        std_price = input(f\"\\n Price of Car {i}: \")\n",
    "        if std_price == \"\":\n",
    "            proceed = False\n",
    "            break\n",
    "        try:\n",
    "            std_price = float(std_price)\n",
    "        except ValueError:\n",
    "            print(\"Non-Numeric input - try again\")\n",
    "        else:\n",
    "            valid_in2 = True\n",
    "\n",
    "        if proceed == True:\n",
    "            templist = [std_brand, std_model, std_price]\n",
    "            finallist = finallist + [templist]\n",
    "            i = i+1\n",
    "\n",
    "        if i > 1:\n",
    "            print(f\"\\nThe following data has been entered:\\n{finallist}\\n\")\n"
   ]
  },
  {
   "cell_type": "markdown",
   "id": "dae9bb9d",
   "metadata": {},
   "source": [
    "#### 2c_Car_Sales_Soln (repaired)\n"
   ]
  },
  {
   "cell_type": "code",
   "execution_count": null,
   "id": "5e02808e",
   "metadata": {},
   "outputs": [
    {
     "name": "stdout",
     "output_type": "stream",
     "text": [
      "\n",
      "Please enter following data (ENTER to quit):\n",
      "\n",
      " Brand of Car 1: Toyota\n",
      "\n",
      " Model of Car 1: Camy\n",
      "\n",
      " Price of Car 1: 200000.0\n",
      "\n",
      "The following data has been entered:\n",
      "{'Toyota': {'Camy': 200000.0}}\n",
      "\n"
     ]
    }
   ],
   "source": [
    "# Car sales program:\n",
    "# Modify the Car sales program in a way that the car brands are\n",
    "# stored as the keys of a dictionary. The value of the corresponding\n",
    "# dictionary key is a sub-dictionary in which the model is used\n",
    "# as key and the price is stored as value.\n",
    "\n",
    "# Note that we should only have one key for each brand\n",
    "# in the dictionary. That means, if the user enters multiple cars\n",
    "# for the same brand, the value of that key should be a\n",
    "# sub-dictionary which contains multiple keys. And the value\n",
    "# for each of the key in the sub-dictionary is the price of one\n",
    "# model.\n",
    "\n",
    "\n",
    "finallist = {}\n",
    "i = 1\n",
    "proceed = True\n",
    "\n",
    "print(\"\\nPlease enter following data (ENTER to quit):\")\n",
    "\n",
    "while proceed == True:\n",
    "    std_brand = str(input(f\"\\n Brand of Car {i}: \"))\n",
    "    if std_brand == \"\":\n",
    "        proceed = False\n",
    "        break\n",
    "    std_model = str(input(f\"\\n Model of Car {i}: \"))\n",
    "    if std_model == \"\":\n",
    "        proceed = False\n",
    "        break\n",
    "\n",
    "# This code is buggy, can you fix it?\n",
    "# Ans: There was an indentation error occured in the last line code? if i > 1:....................\n",
    "\n",
    "    valid_in2 = False\n",
    "    while valid_in2 == False:\n",
    "        std_price = input(f\"\\n Price of Car {i}: \")\n",
    "        if std_price == \"\":\n",
    "            proceed = False\n",
    "            break\n",
    "        try:\n",
    "            std_price = float(std_price)\n",
    "        except ValueError:\n",
    "            print(\"Non-Numeric input - try again\")\n",
    "        else:\n",
    "            valid_in2 = True\n",
    "\n",
    "        # Nested Dict\n",
    "        if proceed == True:\n",
    "            templist = {std_brand: {std_model: std_price}}\n",
    "            finallist = {**finallist, **templist} #merge 2 dict\n",
    "\n",
    "            i = i+1\n",
    "\n",
    "        if i > 1:\n",
    "            print(f\"\\nThe following data has been entered:\\n{finallist}\\n\")\n"
   ]
  },
  {
   "cell_type": "code",
   "execution_count": null,
   "id": "8486e8ef",
   "metadata": {},
   "outputs": [],
   "source": []
  }
 ],
 "metadata": {
  "kernelspec": {
   "display_name": "Python 3 (ipykernel)",
   "language": "python",
   "name": "python3"
  },
  "language_info": {
   "codemirror_mode": {
    "name": "ipython",
    "version": 3
   },
   "file_extension": ".py",
   "mimetype": "text/x-python",
   "name": "python",
   "nbconvert_exporter": "python",
   "pygments_lexer": "ipython3",
   "version": "3.10.9"
  }
 },
 "nbformat": 4,
 "nbformat_minor": 5
}
