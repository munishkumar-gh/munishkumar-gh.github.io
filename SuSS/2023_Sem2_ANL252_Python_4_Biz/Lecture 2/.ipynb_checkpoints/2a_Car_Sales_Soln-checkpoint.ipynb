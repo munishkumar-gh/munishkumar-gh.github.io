{
 "cells": [
  {
   "cell_type": "code",
   "execution_count": 1,
   "id": "1787cbac",
   "metadata": {},
   "outputs": [],
   "source": [
    "car_brands = (\n",
    "\"Toyota\", \"Kia\", \"BMW\", \"Chrysler\", \"Mercedes Benz\", \"Porsche\", \"Fiat\",\n",
    "\"Honda\", \"Nissan\", \"Volswagon\", \"Renault\", \"Lambo\", \"Hyundai\"\n",
    ")"
   ]
  },
  {
   "cell_type": "code",
   "execution_count": 2,
   "id": "666899c8",
   "metadata": {},
   "outputs": [
    {
     "name": "stdout",
     "output_type": "stream",
     "text": [
      "13\n"
     ]
    }
   ],
   "source": [
    "lenlist = len(car_brands)\n",
    "print(lenlist)"
   ]
  },
  {
   "cell_type": "code",
   "execution_count": 3,
   "id": "fdc25ef2",
   "metadata": {},
   "outputs": [
    {
     "name": "stdout",
     "output_type": "stream",
     "text": [
      "The car brand is Toyota\n",
      "The car brand is Kia\n",
      "The car brand is BMW\n",
      "The car brand is Chrysler\n",
      "The car brand is Mercedes Benz\n",
      "The car brand is Porsche\n",
      "The car brand is Fiat\n",
      "The car brand is Honda\n",
      "The car brand is Nissan\n",
      "The car brand is Volswagon\n",
      "The car brand is Renault\n",
      "The car brand is Lambo\n",
      "The car brand is Hyundai\n"
     ]
    }
   ],
   "source": [
    "\n",
    "for i in range(lenlist):\n",
    "    print(f\"The car brand is {car_brands[i]}\")\n"
   ]
  },
  {
   "cell_type": "code",
   "execution_count": 13,
   "id": "4d44b6fc",
   "metadata": {},
   "outputs": [
    {
     "name": "stdout",
     "output_type": "stream",
     "text": [
      "Which car brand do you want?:Fer\n",
      "You have entered an invalid car brand\n"
     ]
    }
   ],
   "source": [
    "User_qn = str(input(\"Which car brand do you want?:\"))\n",
    "\n",
    "count_car = 0\n",
    "for j in range(lenlist):\n",
    "    if car_brands[j] == User_qn:\n",
    "        count_car = j\n",
    "        break\n",
    "        \n",
    "# This part of the code is buggy - can you fix it?\n",
    "if car_brands[count_car] == User_qn:\n",
    "    print(f\"You have entered a valid car brand {car_brands[count_car]}\")\n",
    "else:\n",
    "    print(\"You have entered an invalid car brand\")"
   ]
  }
 ],
 "metadata": {
  "kernelspec": {
   "display_name": "Python 3 (ipykernel)",
   "language": "python",
   "name": "python3"
  },
  "language_info": {
   "codemirror_mode": {
    "name": "ipython",
    "version": 3
   },
   "file_extension": ".py",
   "mimetype": "text/x-python",
   "name": "python",
   "nbconvert_exporter": "python",
   "pygments_lexer": "ipython3",
   "version": "3.10.9"
  }
 },
 "nbformat": 4,
 "nbformat_minor": 5
}
