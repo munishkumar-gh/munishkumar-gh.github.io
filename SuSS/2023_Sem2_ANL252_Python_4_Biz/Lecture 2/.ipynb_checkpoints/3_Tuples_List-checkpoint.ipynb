{
 "cells": [
  {
   "cell_type": "markdown",
   "id": "0b9306d6",
   "metadata": {},
   "source": [
    "## Learn about concating Tuples and Lists"
   ]
  },
  {
   "cell_type": "markdown",
   "id": "b298e328",
   "metadata": {},
   "source": [
    "### This is a tuple"
   ]
  },
  {
   "cell_type": "code",
   "execution_count": 1,
   "id": "d766a270",
   "metadata": {},
   "outputs": [],
   "source": [
    "tup_num1 = (1, 2, 3)\n",
    "tup_alp1 = ('a', 'b', 'c')"
   ]
  },
  {
   "cell_type": "code",
   "execution_count": 2,
   "id": "324bc545",
   "metadata": {},
   "outputs": [],
   "source": [
    "tup_num2 = 4\n",
    "tup_alp2 = 'd'"
   ]
  },
  {
   "cell_type": "code",
   "execution_count": 5,
   "id": "e49de4a6",
   "metadata": {},
   "outputs": [
    {
     "ename": "TypeError",
     "evalue": "can only concatenate tuple (not \"int\") to tuple",
     "output_type": "error",
     "traceback": [
      "\u001b[1;31m---------------------------------------------------------------------------\u001b[0m",
      "\u001b[1;31mTypeError\u001b[0m                                 Traceback (most recent call last)",
      "Cell \u001b[1;32mIn[5], line 1\u001b[0m\n\u001b[1;32m----> 1\u001b[0m tup3 \u001b[38;5;241m=\u001b[39m \u001b[43mtup_num1\u001b[49m\u001b[43m \u001b[49m\u001b[38;5;241;43m+\u001b[39;49m\u001b[43m \u001b[49m\u001b[43m(\u001b[49m\u001b[43mtup_num2\u001b[49m\u001b[43m)\u001b[49m\n\u001b[0;32m      2\u001b[0m \u001b[38;5;28mprint\u001b[39m(tup3)\n",
      "\u001b[1;31mTypeError\u001b[0m: can only concatenate tuple (not \"int\") to tuple"
     ]
    }
   ],
   "source": [
    "tup3 = tup_num1 + (tup_num2)\n",
    "print(tup3)"
   ]
  },
  {
   "cell_type": "code",
   "execution_count": 3,
   "id": "f20b9ecf",
   "metadata": {},
   "outputs": [
    {
     "name": "stdout",
     "output_type": "stream",
     "text": [
      "(1, 2, 3, 4)\n"
     ]
    }
   ],
   "source": [
    "tup3 = tup_num1 + (tup_num2,)\n",
    "print(tup3)"
   ]
  },
  {
   "cell_type": "code",
   "execution_count": 6,
   "id": "2f14f9c2",
   "metadata": {
    "scrolled": false
   },
   "outputs": [
    {
     "ename": "TypeError",
     "evalue": "can only concatenate tuple (not \"str\") to tuple",
     "output_type": "error",
     "traceback": [
      "\u001b[1;31m---------------------------------------------------------------------------\u001b[0m",
      "\u001b[1;31mTypeError\u001b[0m                                 Traceback (most recent call last)",
      "Cell \u001b[1;32mIn[6], line 1\u001b[0m\n\u001b[1;32m----> 1\u001b[0m tup4 \u001b[38;5;241m=\u001b[39m \u001b[43mtup_alp1\u001b[49m\u001b[43m \u001b[49m\u001b[38;5;241;43m+\u001b[39;49m\u001b[43m \u001b[49m\u001b[43m(\u001b[49m\u001b[43mtup_alp2\u001b[49m\u001b[43m)\u001b[49m\n\u001b[0;32m      2\u001b[0m \u001b[38;5;28mprint\u001b[39m(tup4)\n",
      "\u001b[1;31mTypeError\u001b[0m: can only concatenate tuple (not \"str\") to tuple"
     ]
    }
   ],
   "source": [
    "tup4 = tup_alp1 + (tup_alp2)\n",
    "print(tup4)"
   ]
  },
  {
   "cell_type": "code",
   "execution_count": 7,
   "id": "29967968",
   "metadata": {
    "scrolled": false
   },
   "outputs": [
    {
     "name": "stdout",
     "output_type": "stream",
     "text": [
      "('a', 'b', 'c', 'd')\n"
     ]
    }
   ],
   "source": [
    "tup4 = tup_alp1 + (tup_alp2,)\n",
    "print(tup4)"
   ]
  },
  {
   "cell_type": "markdown",
   "id": "e22bb63a",
   "metadata": {},
   "source": [
    "### This is a list"
   ]
  },
  {
   "cell_type": "code",
   "execution_count": 8,
   "id": "81a5cd3d",
   "metadata": {},
   "outputs": [],
   "source": [
    "a = [1, 2, 3]\n",
    "b = ['a', 'b', 'c']"
   ]
  },
  {
   "cell_type": "code",
   "execution_count": 11,
   "id": "5bc07681",
   "metadata": {},
   "outputs": [
    {
     "ename": "TypeError",
     "evalue": "can only concatenate list (not \"int\") to list",
     "output_type": "error",
     "traceback": [
      "\u001b[1;31m---------------------------------------------------------------------------\u001b[0m",
      "\u001b[1;31mTypeError\u001b[0m                                 Traceback (most recent call last)",
      "Cell \u001b[1;32mIn[11], line 2\u001b[0m\n\u001b[0;32m      1\u001b[0m add_a \u001b[38;5;241m=\u001b[39m \u001b[38;5;241m4\u001b[39m\n\u001b[1;32m----> 2\u001b[0m list_new \u001b[38;5;241m=\u001b[39m \u001b[43ma\u001b[49m\u001b[43m \u001b[49m\u001b[38;5;241;43m+\u001b[39;49m\u001b[43m \u001b[49m\u001b[43madd_a\u001b[49m\n\u001b[0;32m      3\u001b[0m \u001b[38;5;28mprint\u001b[39m(list_new)\n",
      "\u001b[1;31mTypeError\u001b[0m: can only concatenate list (not \"int\") to list"
     ]
    }
   ],
   "source": [
    "add_a = 4\n",
    "list_new = a + add_a\n",
    "print(list_new)"
   ]
  },
  {
   "cell_type": "code",
   "execution_count": 9,
   "id": "d42d74de",
   "metadata": {},
   "outputs": [
    {
     "name": "stdout",
     "output_type": "stream",
     "text": [
      "[1, 2, 3, 4]\n"
     ]
    }
   ],
   "source": [
    "add_a = 4\n",
    "list_new = a + [add_a]\n",
    "print(list_new)"
   ]
  },
  {
   "cell_type": "code",
   "execution_count": 10,
   "id": "da66b313",
   "metadata": {},
   "outputs": [
    {
     "name": "stdout",
     "output_type": "stream",
     "text": [
      "[1, 2, 3, 4]\n"
     ]
    }
   ],
   "source": [
    "add_a = [4]\n",
    "\n",
    "list_new = a + add_a\n",
    "print(list_new)"
   ]
  },
  {
   "cell_type": "code",
   "execution_count": 12,
   "id": "52bdcb7d",
   "metadata": {},
   "outputs": [
    {
     "name": "stdout",
     "output_type": "stream",
     "text": [
      "['a', 'b', 'c', 'a', 'b', 'c']\n"
     ]
    }
   ],
   "source": [
    "b = ['a', 'b', 'c']\n",
    "list_a = b + b\n",
    "print(list_a)"
   ]
  },
  {
   "cell_type": "code",
   "execution_count": 13,
   "id": "8b0fe4ee",
   "metadata": {},
   "outputs": [
    {
     "name": "stdout",
     "output_type": "stream",
     "text": [
      "['a', 'b', 'c', 'd']\n"
     ]
    }
   ],
   "source": [
    "b_new = 'd'\n",
    "\n",
    "list_a = b + [b_new]\n",
    "print(list_a)"
   ]
  },
  {
   "cell_type": "markdown",
   "id": "39a32d4b",
   "metadata": {},
   "source": [
    "### Dictionary"
   ]
  },
  {
   "cell_type": "code",
   "execution_count": 14,
   "id": "6b5207f9",
   "metadata": {},
   "outputs": [],
   "source": [
    "my_dict = {\"Rome\": 1000, \"Singapore\": 2, \"India\": 17}"
   ]
  },
  {
   "cell_type": "code",
   "execution_count": 15,
   "id": "7306e2bd",
   "metadata": {},
   "outputs": [
    {
     "data": {
      "text/plain": [
       "{'Rome': 1000, 'Singapore': 2, 'India': 17}"
      ]
     },
     "execution_count": 15,
     "metadata": {},
     "output_type": "execute_result"
    }
   ],
   "source": [
    "my_dict"
   ]
  },
  {
   "cell_type": "code",
   "execution_count": 16,
   "id": "08fb0e1c",
   "metadata": {},
   "outputs": [
    {
     "data": {
      "text/plain": [
       "1000"
      ]
     },
     "execution_count": 16,
     "metadata": {},
     "output_type": "execute_result"
    }
   ],
   "source": [
    "my_dict[\"Rome\"]"
   ]
  },
  {
   "cell_type": "code",
   "execution_count": 17,
   "id": "ca171f4f",
   "metadata": {},
   "outputs": [
    {
     "data": {
      "text/plain": [
       "dict_keys(['Rome', 'Singapore', 'India'])"
      ]
     },
     "execution_count": 17,
     "metadata": {},
     "output_type": "execute_result"
    }
   ],
   "source": [
    "my_dict.keys()"
   ]
  },
  {
   "cell_type": "code",
   "execution_count": 18,
   "id": "9a6cd6e3",
   "metadata": {},
   "outputs": [
    {
     "data": {
      "text/plain": [
       "dict_values([1000, 2, 17])"
      ]
     },
     "execution_count": 18,
     "metadata": {},
     "output_type": "execute_result"
    }
   ],
   "source": [
    "my_dict.values()"
   ]
  },
  {
   "cell_type": "code",
   "execution_count": 19,
   "id": "0b63f4d6",
   "metadata": {},
   "outputs": [
    {
     "data": {
      "text/plain": [
       "dict_items([('Rome', 1000), ('Singapore', 2), ('India', 17)])"
      ]
     },
     "execution_count": 19,
     "metadata": {},
     "output_type": "execute_result"
    }
   ],
   "source": [
    "my_dict.items()"
   ]
  },
  {
   "cell_type": "code",
   "execution_count": 20,
   "id": "eea5a84a",
   "metadata": {},
   "outputs": [],
   "source": [
    "my_dict2 = {\"Rome\": [1000, 2000], \"Singapore\": 2, \"India\": 17}"
   ]
  },
  {
   "cell_type": "code",
   "execution_count": 21,
   "id": "8b308274",
   "metadata": {},
   "outputs": [
    {
     "data": {
      "text/plain": [
       "{'Rome': [1000, 2000], 'Singapore': 2, 'India': 17}"
      ]
     },
     "execution_count": 21,
     "metadata": {},
     "output_type": "execute_result"
    }
   ],
   "source": [
    "my_dict2"
   ]
  },
  {
   "cell_type": "code",
   "execution_count": 22,
   "id": "b6605aa8",
   "metadata": {},
   "outputs": [
    {
     "data": {
      "text/plain": [
       "[1000, 2000]"
      ]
     },
     "execution_count": 22,
     "metadata": {},
     "output_type": "execute_result"
    }
   ],
   "source": [
    "my_dict2[\"Rome\"]"
   ]
  },
  {
   "cell_type": "code",
   "execution_count": 23,
   "id": "fb0841da",
   "metadata": {},
   "outputs": [],
   "source": [
    "my_dict['Rome'] = 5000"
   ]
  },
  {
   "cell_type": "code",
   "execution_count": 24,
   "id": "40299fad",
   "metadata": {},
   "outputs": [
    {
     "data": {
      "text/plain": [
       "{'Rome': 5000, 'Singapore': 2, 'India': 17}"
      ]
     },
     "execution_count": 24,
     "metadata": {},
     "output_type": "execute_result"
    }
   ],
   "source": [
    "my_dict"
   ]
  },
  {
   "cell_type": "code",
   "execution_count": 25,
   "id": "002692e5",
   "metadata": {},
   "outputs": [
    {
     "data": {
      "text/plain": [
       "{'Rome': 5000, 'Singapore': 2, 'India': 17}"
      ]
     },
     "execution_count": 25,
     "metadata": {},
     "output_type": "execute_result"
    }
   ],
   "source": [
    "my_dict"
   ]
  },
  {
   "cell_type": "code",
   "execution_count": 26,
   "id": "d2424d20",
   "metadata": {},
   "outputs": [
    {
     "data": {
      "text/plain": [
       "{'Rome': [1000, 2000], 'Singapore': 2, 'India': 17}"
      ]
     },
     "execution_count": 26,
     "metadata": {},
     "output_type": "execute_result"
    }
   ],
   "source": [
    "my_dict2"
   ]
  }
 ],
 "metadata": {
  "kernelspec": {
   "display_name": "Python 3 (ipykernel)",
   "language": "python",
   "name": "python3"
  },
  "language_info": {
   "codemirror_mode": {
    "name": "ipython",
    "version": 3
   },
   "file_extension": ".py",
   "mimetype": "text/x-python",
   "name": "python",
   "nbconvert_exporter": "python",
   "pygments_lexer": "ipython3",
   "version": "3.10.9"
  }
 },
 "nbformat": 4,
 "nbformat_minor": 5
}
