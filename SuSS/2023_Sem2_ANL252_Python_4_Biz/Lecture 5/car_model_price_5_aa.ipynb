{
 "cells": [
  {
   "cell_type": "markdown",
   "id": "a7d5a72a",
   "metadata": {},
   "source": [
    "### 1. Install scikit-learn using pip.\n",
    "\n",
    "### 2. Import the following algorithms of scikit-learn into your JupyterLab notebook:\n",
    " - pre-processing\n",
    " - train_test_split\n",
    " - Module “KMeans” from “cluster” \n",
    " - Module “PCA” from “decomposition”\n",
    " - tree\n",
    " - metrics"
   ]
  },
  {
   "cell_type": "code",
   "execution_count": 1,
   "id": "b7d04c82",
   "metadata": {},
   "outputs": [],
   "source": [
    "#!pip install scikit-learn"
   ]
  },
  {
   "cell_type": "code",
   "execution_count": 2,
   "id": "d814d0d2",
   "metadata": {},
   "outputs": [],
   "source": [
    "import pandas as pd\n",
    "\n",
    "# Sklearn Liraries\n",
    "\n",
    "#Train Test Split\n",
    "from sklearn.model_selection import train_test_split\n",
    "\n",
    "#metrics\n",
    "from sklearn.metrics import confusion_matrix\n",
    "from sklearn.metrics import accuracy_score \n",
    "from sklearn.metrics import precision_score \n",
    "from sklearn.metrics import recall_score\n",
    "\n",
    "# Pre-processing\n",
    "from sklearn import preprocessing\n",
    "from sklearn.preprocessing import StandardScaler\n",
    "\n",
    "#tree\n",
    "from sklearn import tree\n",
    "\n",
    "# KMeans\n",
    "from sklearn.cluster import KMeans\n",
    "\n",
    "# PCA\n",
    "from sklearn.decomposition import PCA"
   ]
  }
 ],
 "metadata": {
  "kernelspec": {
   "display_name": "Python 3 (ipykernel)",
   "language": "python",
   "name": "python3"
  },
  "language_info": {
   "codemirror_mode": {
    "name": "ipython",
    "version": 3
   },
   "file_extension": ".py",
   "mimetype": "text/x-python",
   "name": "python",
   "nbconvert_exporter": "python",
   "pygments_lexer": "ipython3",
   "version": "3.8.13"
  }
 },
 "nbformat": 4,
 "nbformat_minor": 5
}
