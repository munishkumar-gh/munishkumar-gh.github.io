{
 "cells": [
  {
   "cell_type": "code",
   "execution_count": null,
   "id": "e49e7908",
   "metadata": {},
   "outputs": [],
   "source": [
    "# Extend the Car sales program created in the previous chapter with the\n",
    "# following functionality:\n",
    "\n",
    "# After entering the brand, model and price of the first car, the user is\n",
    "# required to answer they would like enter the same information of a second\n",
    "# car. If the user’s reply is yes, ask the user those questions from the\n",
    "# previous chapter again. If his reply is no, end the program"
   ]
  },
  {
   "cell_type": "code",
   "execution_count": 1,
   "id": "e18d7ec8",
   "metadata": {},
   "outputs": [
    {
     "name": "stdout",
     "output_type": "stream",
     "text": [
      "Please Enter Car Brand:T\n",
      "Please Enter Car Model:H\n",
      "Please Enter Car Selling Price:10\n",
      "The car you have entered is T, H, 10\n"
     ]
    }
   ],
   "source": [
    "input_brand = str(input(\"Please Enter Car Brand:\"))\n",
    "input_model = str(input(\"Please Enter Car Model:\"))\n",
    "input_price = int(input(\"Please Enter Car Selling Price:\"))\n",
    "\n",
    "print(\n",
    "f\"The car you have entered is {input_brand}, {input_model}, {input_price}\"\n",
    ")"
   ]
  },
  {
   "cell_type": "code",
   "execution_count": 4,
   "id": "ea68fd10",
   "metadata": {},
   "outputs": [
    {
     "name": "stdout",
     "output_type": "stream",
     "text": [
      "Do you want to go again (Y/N):N\n"
     ]
    }
   ],
   "source": [
    "terminate_qns = str(input(\"Do you want to go again (Y/N):\"))"
   ]
  },
  {
   "cell_type": "code",
   "execution_count": 5,
   "id": "70314e23",
   "metadata": {},
   "outputs": [
    {
     "name": "stdout",
     "output_type": "stream",
     "text": [
      "Goodbye\n"
     ]
    }
   ],
   "source": [
    "if terminate_qns == \"Y\":\n",
    "    input_brand = str(input(\"Please Enter Car Brand:\"))\n",
    "    input_model = str(input(\"Please Enter Car Model:\"))\n",
    "    input_price = int(input(\"Please Enter Car Selling Price:\"))\n",
    "    print(f\"The car you have entered is {input_brand}, {input_model}, {input_price}\")\n",
    "    \n",
    "elif terminate_qns == \"N\":\n",
    "    print(\"Goodbye\")\n",
    "    \n",
    "else:\n",
    "    print(\"Error in input\")"
   ]
  },
  {
   "cell_type": "code",
   "execution_count": null,
   "id": "d7464edc",
   "metadata": {},
   "outputs": [],
   "source": []
  },
  {
   "cell_type": "code",
   "execution_count": null,
   "id": "94025263",
   "metadata": {},
   "outputs": [],
   "source": []
  },
  {
   "cell_type": "code",
   "execution_count": null,
   "id": "10c9134a",
   "metadata": {},
   "outputs": [],
   "source": []
  }
 ],
 "metadata": {
  "kernelspec": {
   "display_name": "Python 3 (ipykernel)",
   "language": "python",
   "name": "python3"
  },
  "language_info": {
   "codemirror_mode": {
    "name": "ipython",
    "version": 3
   },
   "file_extension": ".py",
   "mimetype": "text/x-python",
   "name": "python",
   "nbconvert_exporter": "python",
   "pygments_lexer": "ipython3",
   "version": "3.8.13"
  }
 },
 "nbformat": 4,
 "nbformat_minor": 5
}
