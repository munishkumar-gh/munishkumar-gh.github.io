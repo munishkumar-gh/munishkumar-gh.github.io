{
 "cells": [
  {
   "cell_type": "markdown",
   "id": "4bf28e40",
   "metadata": {},
   "source": [
    "<a href=\"https://www.spe.org/events/en/2022/conference/22apog/asia-pacific-oil-and-gas-conference-and-exhibition.html\"><img src = \"https://www.spe.org/binaries/content/gallery/specms/speevents/organization-logos/spe-logo-2020.png\" width = 200> \n",
    "\n",
    "<h1 align=center><font size = 5>Prediction of Recovery Factor using Machine Learning Methods</font></h1>"
   ]
  },
  {
   "cell_type": "markdown",
   "id": "2a9078d0",
   "metadata": {},
   "source": [
    "<h1 align=center><font size = 4> Munish Kumar, Kannapan Swaminathan</font></h1>\n",
    "<h1 align=center><font size = 4> Part 4: Modelling of Recovery Factor</font></h1>\n",
    "<h1 align=center><font size = 3> ERCE 2022 </font></h1>"
   ]
  },
  {
   "cell_type": "markdown",
   "id": "022d719e",
   "metadata": {},
   "source": [
    "###### References"
   ]
  },
  {
   "cell_type": "markdown",
   "id": "1616885f",
   "metadata": {},
   "source": [
    "1. https://www.kaggle.com/code/kkhandekar/an-introduction-to-pycaret/notebook.\n",
    "2. https://towardsdatascience.com/5-things-you-dont-know-about-pycaret-528db0436eec\n",
    "3. https://www.dataquest.io/blog/understanding-regression-error-metrics/ \n",
    "4. https://www.analyticsvidhya.com/blog/2021/07/automl-using-pycaret-with-a-regression-use-case/\n",
    "5. https://www.datacamp.com/community/tutorials/guide-for-automating-ml-workflows-using-pycaret\n",
    "6. https://pycaret.readthedocs.io/en/latest/api/regression.html\n",
    "7. http://www.pycaret.org/tutorials/html/REG102.html\n",
    "8. https://githubhelp.com/ray-project/tune-sklearn"
   ]
  },
  {
   "cell_type": "markdown",
   "id": "4477f2be",
   "metadata": {},
   "source": [
    "## Check PyCaret Version"
   ]
  },
  {
   "cell_type": "code",
   "execution_count": null,
   "id": "e6b96c3d",
   "metadata": {},
   "outputs": [],
   "source": [
    "from pycaret.utils import version"
   ]
  },
  {
   "cell_type": "code",
   "execution_count": null,
   "id": "247c5978",
   "metadata": {},
   "outputs": [],
   "source": [
    "version()"
   ]
  },
  {
   "cell_type": "markdown",
   "id": "46ea9670",
   "metadata": {},
   "source": [
    "#### Libraries"
   ]
  },
  {
   "cell_type": "code",
   "execution_count": null,
   "id": "11e93744",
   "metadata": {},
   "outputs": [],
   "source": [
    "# Only install the following libraries if you dont have it, otherwise leave it commented out\n",
    "\n",
    "#!conda install -c anaconda natsort --yes\n",
    "#!conda install -c anaconda xlrd --yes\n",
    "\n",
    "#!pip install natsort --user\n",
    "#!pip install xlrd --user\n",
    "#!pip install pycaret[full] --user\n",
    "#!pip install mlflow --user\n",
    "#!pip install tune-sklearn ray[tune] --user\n",
    "#!pip install optuna -- user\n",
    "#!pip install hyperopt --user\n",
    "#!pip install redis --user\n",
    "\n",
    "# General Libraries\n",
    "import itertools\n",
    "import pandas as pd\n",
    "import numpy as np\n",
    "import matplotlib.pyplot as plt\n",
    "import matplotlib.ticker as ticker\n",
    "from matplotlib.ticker import NullFormatter\n",
    "import time\n",
    "import re\n",
    "import requests\n",
    "import pickle\n",
    "import seaborn as sns\n",
    "import os\n",
    "import glob\n",
    "import sys\n",
    "from natsort import natsorted\n",
    "sns.set()\n",
    "\n",
    "import plotly.graph_objects as go\n",
    "import plotly.express as px\n",
    "import warnings\n",
    "warnings.filterwarnings('ignore')\n",
    "\n",
    "# Sklearn Liraries\n",
    "from sklearn import preprocessing\n",
    "\n",
    "import datetime\n",
    "from datetime import timedelta, date \n",
    "start = time.time()\n",
    "%matplotlib inline\n",
    "\n",
    "import ray\n",
    "from ray import tune\n",
    "\n",
    "# Forces the print statement to show everything and not truncate\n",
    "# np.set_printoptions(threshold=sys.maxsize) \n",
    "print('Libraries imported')"
   ]
  },
  {
   "cell_type": "code",
   "execution_count": null,
   "id": "f4424111",
   "metadata": {},
   "outputs": [],
   "source": [
    "#Receive Data\n",
    "#dir_name = r'C:\\Users\\kswaminathan\\OneDrive\\01_KannaLibrary\\15_Analogs'\n",
    "dir_name = r'C:\\Users\\mkumar\\Documents\\GitHub\\@Papers\\SPE2022\\Final'\n",
    "filename_suffix = 'csv'"
   ]
  },
  {
   "cell_type": "markdown",
   "id": "3566ed04",
   "metadata": {},
   "source": [
    "##### Read in the data "
   ]
  },
  {
   "cell_type": "code",
   "execution_count": null,
   "id": "1b416f6e",
   "metadata": {},
   "outputs": [],
   "source": [
    "skiprows = 0\n",
    "#Means read in the ',' as thousand seperator. Also drops all columns which are unnamed.\n",
    "df = pd.read_excel(\"dftorisv2.xlsx\", thousands=',', skiprows = skiprows)\n",
    "df = df.loc[:, ~df.columns.str.contains('^Unnamed')] \n",
    "df.head()"
   ]
  },
  {
   "cell_type": "code",
   "execution_count": null,
   "id": "efbee492",
   "metadata": {},
   "outputs": [],
   "source": [
    "# Plot as Heat map to check for highly correlated variables\n",
    "plt.figure(figsize=(15, 15))\n",
    "ax = sns.heatmap(df.corr(), annot=True, fmt=\".2f\")"
   ]
  },
  {
   "cell_type": "markdown",
   "id": "bb8f55ca",
   "metadata": {},
   "source": [
    "In observing the heat map above, I define highly correlated variables as having collinearity coeeficients of > 0.7. There was no highly correlated values"
   ]
  },
  {
   "cell_type": "markdown",
   "id": "f0da5531",
   "metadata": {},
   "source": [
    "##### Convert to float - to ensure it is a numerical feature"
   ]
  },
  {
   "cell_type": "code",
   "execution_count": null,
   "id": "68535e70",
   "metadata": {},
   "outputs": [],
   "source": [
    "df_drop = df.copy()\n",
    "df_drop = df_drop.astype(float)\n",
    "\n",
    "# Confirm properties of final dataframe\n",
    "print(len(df_drop))\n",
    "print(df_drop.info())\n",
    "print(df_drop.describe(include='all'))\n",
    "print(df_drop.columns.values)"
   ]
  },
  {
   "cell_type": "markdown",
   "id": "e7768961",
   "metadata": {},
   "source": [
    "Final Data set has 450 rows and 24 columns."
   ]
  },
  {
   "cell_type": "markdown",
   "id": "f0eb8c7a",
   "metadata": {},
   "source": [
    "### Train, Validation, and Test Split"
   ]
  },
  {
   "cell_type": "code",
   "execution_count": null,
   "id": "4f22b17e",
   "metadata": {},
   "outputs": [],
   "source": [
    "# Creates a mask where values that are true go into the training/test set\n",
    "# Note that I done it so that the random number is predictable\n",
    "\n",
    "msk = np.random.seed(0)\n",
    "msk = np.random.rand(len(df_drop))<0.8\n",
    "\n",
    "raw_train_validate_set = df_drop[msk]\n",
    "raw_test_set = df_drop[~msk]\n",
    "\n",
    "print(raw_train_validate_set.shape)\n",
    "print(raw_test_set.shape)"
   ]
  },
  {
   "cell_type": "code",
   "execution_count": null,
   "id": "d8f30b36",
   "metadata": {},
   "outputs": [],
   "source": [
    "raw_train_validate_set.to_excel(r'dfssoil.xlsx', index = False, header=True)\n",
    "raw_test_set.to_excel(r'BlindTest_SSOIL.xlsx', index = False, header=True)"
   ]
  },
  {
   "cell_type": "markdown",
   "id": "78ee3203",
   "metadata": {},
   "source": [
    "We split the data set 80-20 into a \"train-validate\" set and a \"test\" set. The test set is external asn will never be seen by the model."
   ]
  },
  {
   "cell_type": "markdown",
   "id": "d8fb589d",
   "metadata": {},
   "source": [
    "## 1. Pycaret Implementation"
   ]
  },
  {
   "cell_type": "markdown",
   "id": "1c1d2477",
   "metadata": {},
   "source": [
    "Pycaret will be used in the machine learning portion. Pycaret is a low-code machine learning library in Python that automates machine learning workflows. One of its key benefits is its ability to run a large number of differnt machine learning algorithms, but with only a few lines of code"
   ]
  },
  {
   "cell_type": "code",
   "execution_count": null,
   "id": "cf463969",
   "metadata": {},
   "outputs": [],
   "source": [
    "skiprows = 0\n",
    "#Means read in the ',' as thousand seperator. Also drops all columns which are unnamed.\n",
    "df = pd.read_excel(\"dfssoil.xlsx\", thousands=',', skiprows = skiprows)\n",
    "df = df.loc[:, ~df.columns.str.contains('^Unnamed')] \n",
    "df.head()"
   ]
  },
  {
   "cell_type": "code",
   "execution_count": null,
   "id": "d37193bd",
   "metadata": {},
   "outputs": [],
   "source": [
    "from pycaret.regression import *\n",
    "\n",
    "#Create a copy\n",
    "model_df = df_drop.copy()\n",
    "target = 'URF'\n",
    "\n",
    "# no resampling\n",
    "clf_none = setup(\n",
    "            data=model_df,\n",
    "            target=target,\n",
    "            session_id=42,\n",
    "            normalize=True,\n",
    "            transformation = True,\n",
    "            ignore_low_variance=True,\n",
    "            remove_outliers = True, outliers_threshold = 0.1,\n",
    "            remove_multicollinearity = True, multicollinearity_threshold = 0.7,\n",
    "            train_size=0.7)"
   ]
  },
  {
   "cell_type": "code",
   "execution_count": null,
   "id": "3c249567",
   "metadata": {},
   "outputs": [],
   "source": [
    "best = compare_models()"
   ]
  },
  {
   "cell_type": "code",
   "execution_count": null,
   "id": "63def093",
   "metadata": {
    "scrolled": true
   },
   "outputs": [],
   "source": [
    "top3_fold_5 = compare_models(include=['rf', 'et', 'gbr'], fold = 5, sort='MAE')"
   ]
  },
  {
   "cell_type": "code",
   "execution_count": null,
   "id": "78ae6c0b",
   "metadata": {
    "scrolled": true
   },
   "outputs": [],
   "source": [
    "top3 = compare_models(include=['rf', 'et', 'gbr'], fold = 10, sort='MAE')"
   ]
  },
  {
   "cell_type": "markdown",
   "id": "c7a04d8d",
   "metadata": {},
   "source": [
    "There is a performance improvement in going from 5 folds to 10 folds for all 3 models. To keep computation time reasonable, folds is kept at 10."
   ]
  },
  {
   "cell_type": "markdown",
   "id": "8f3a0361",
   "metadata": {},
   "source": [
    "## 2. Plot each Model and Check Features"
   ]
  },
  {
   "cell_type": "markdown",
   "id": "0736e5b3",
   "metadata": {},
   "source": [
    "##### Random Forest (RFR)"
   ]
  },
  {
   "cell_type": "code",
   "execution_count": null,
   "id": "d6eb65e2",
   "metadata": {},
   "outputs": [],
   "source": [
    "rfr = create_model('rf')\n",
    "rfr_results = pull()\n",
    "\n",
    "rfr_feature_imp = pd.DataFrame({'Feature': get_config('X_train').columns, 'Value' : abs(rfr.feature_importances_)}).sort_values(by='Value', ascending=False)\n",
    "rfr_feature_imp.to_csv('Feature_importance_RFR.csv')"
   ]
  },
  {
   "cell_type": "code",
   "execution_count": null,
   "id": "5108099c",
   "metadata": {},
   "outputs": [],
   "source": [
    "plot_model(rfr, plot = 'feature')"
   ]
  },
  {
   "cell_type": "markdown",
   "id": "3ba5a018",
   "metadata": {},
   "source": [
    "##### Extra Trees Regressor (et)"
   ]
  },
  {
   "cell_type": "code",
   "execution_count": null,
   "id": "e2b54b9b",
   "metadata": {},
   "outputs": [],
   "source": [
    "et = create_model('et')\n",
    "et_results = pull()\n",
    "#print(gbr_results)\n",
    "\n",
    "et_feature_imp = pd.DataFrame({'Feature': get_config('X_train').columns, 'Value' : abs(et.feature_importances_)}).sort_values(by='Value', ascending=False)\n",
    "et_feature_imp.to_csv('Feature_importance_ET.csv')"
   ]
  },
  {
   "cell_type": "code",
   "execution_count": null,
   "id": "3435c140",
   "metadata": {},
   "outputs": [],
   "source": [
    "plot_model(et, plot = 'feature')"
   ]
  },
  {
   "cell_type": "markdown",
   "id": "29ad8f5d",
   "metadata": {},
   "source": [
    "##### Gradient Boost Regressor (gbr)"
   ]
  },
  {
   "cell_type": "code",
   "execution_count": null,
   "id": "33aabc2f",
   "metadata": {},
   "outputs": [],
   "source": [
    "gbr = create_model('gbr')\n",
    "gbr_results = pull()\n",
    "#print(cb_results)\n",
    "\n",
    "gbr_feature_imp = pd.DataFrame({'Feature': get_config('X_train').columns, 'Value' : abs(gbr.feature_importances_)}).sort_values(by='Value', ascending=False)\n",
    "#print(cb_feature_imp)\n",
    "gbr_feature_imp.to_csv('Feature_importance_GBR.csv')"
   ]
  },
  {
   "cell_type": "code",
   "execution_count": null,
   "id": "a896a806",
   "metadata": {},
   "outputs": [],
   "source": [
    "# Given the sheer number of variables, will only plot the first 10\n",
    "# 'feature_all' will plot everything\n",
    "plot_model(gbr, plot = 'feature')"
   ]
  },
  {
   "cell_type": "markdown",
   "id": "fc8d0474",
   "metadata": {},
   "source": [
    "## 3a. Testing for Optimisation - Not necessary to run\n",
    "-----------------------------------------------------------------------------------"
   ]
  },
  {
   "cell_type": "markdown",
   "id": "98400ca7",
   "metadata": {},
   "source": [
    "One of the important parameters in the hyperparameters is the number of iterations over which the K fold cross validation is done. \n",
    "\n",
    "2 checks are done for this. The first scenario is over the range(0, 1000, 50). The optimisation ran overnight and showed that the ML algorithm did not see much improvement past 50."
   ]
  },
  {
   "cell_type": "code",
   "execution_count": null,
   "id": "00dd7bc0",
   "metadata": {},
   "outputs": [],
   "source": [
    "# elapsed = []\n",
    "# MAE_mean_iter = []\n",
    "# MSE_mean_iter = []\n",
    "# RMSE_mean_iter = []\n",
    "\n",
    "# # The output from the (0, 1000, 50) is saved; there is no need to run this again. \n",
    "# # Line has been modified just so the code can run.\n",
    "# for i in range(0, 51, 50):\n",
    "#     start = time.time()\n",
    "#     if i == 0:\n",
    "#         i += 1    \n",
    "#     tuned_cb = tune_model(cb, optimize = 'MSE', n_iter = i)\n",
    "#     #print(tuned_cb)\n",
    "#     MAE_mean_iter.append(pull()['MAE']['Mean'])\n",
    "#     MSE_mean_iter.append(pull()['MSE']['Mean'])\n",
    "#     RMSE_mean_iter.append(pull()['RMSE']['Mean'])\n",
    "#     elapsed.append((time.time() - start))\n",
    "\n",
    "# MAE_Mean = pd.DataFrame(MAE_mean_iter, index = elapsed, columns=['MAE Mean Error'])\n",
    "# MAE_Mean.index.name = 'Elapsed Time'\n",
    "\n",
    "# MSE_Mean = pd.DataFrame(MSE_mean_iter, index = elapsed, columns=['MSE Mean Error']) \n",
    "# MSE_Mean.index.name = 'Elapsed Time'\n",
    "\n",
    "# RMSE_Mean = pd.DataFrame(RMSE_mean_iter, index = elapsed, columns=['RMSE Mean Error'])\n",
    "# RMSE_Mean.index.name = 'Elapsed Time'\n",
    "\n",
    "# res_50_iter = pd.concat([MAE_Mean, MSE_Mean, RMSE_Mean], axis=1)\n",
    "\n",
    "# print(res_50_iter)"
   ]
  },
  {
   "cell_type": "code",
   "execution_count": null,
   "id": "1b162574",
   "metadata": {},
   "outputs": [],
   "source": [
    "# b = sns.lineplot(data=res_50_iter)\n",
    "# b.axes.set_title(\"Error as function of Elapsed Time\",fontsize=20)\n",
    "# b.set_xlabel(\"Elapsed Time\",fontsize=20)\n",
    "# b.set_ylabel(\"Error\",fontsize=20)\n",
    "# #b.set_yscale('log')\n",
    "# b.tick_params(labelsize=18)"
   ]
  },
  {
   "cell_type": "code",
   "execution_count": null,
   "id": "1ab92107",
   "metadata": {},
   "outputs": [],
   "source": [
    "#res.to_csv('Run_Catboost_1000_Itr.csv')"
   ]
  },
  {
   "cell_type": "code",
   "execution_count": null,
   "id": "d464daba",
   "metadata": {},
   "outputs": [],
   "source": [
    "# elapsed = []\n",
    "# MAE_mean_iter = []\n",
    "# MSE_mean_iter = []\n",
    "# RMSE_mean_iter = []\n",
    "\n",
    "# # This was run at (1, 51, 1) to get increments of 1\n",
    "# # Right now, this is changed to (1, 51, 50) to allow the code to run efficiently\n",
    "# for i in range(1, 51, 50):\n",
    "#     start = time.time()\n",
    "#     tuned_cb = tune_model(cb, optimize = 'MSE', n_iter = i)\n",
    "#     MAE_mean_iter.append(pull()['MAE']['Mean'])\n",
    "#     MSE_mean_iter.append(pull()['MSE']['Mean'])\n",
    "#     RMSE_mean_iter.append(pull()['RMSE']['Mean'])\n",
    "#     elapsed.append((time.time() - start))\n",
    "\n",
    "# MAE_Mean = pd.DataFrame(MAE_mean_iter, index = elapsed, columns=['MAE Mean Error'])\n",
    "# MAE_Mean.index.name = 'Elapsed Time'\n",
    "\n",
    "# MSE_Mean = pd.DataFrame(MSE_mean_iter, index = elapsed, columns=['MSE Mean Error']) \n",
    "# MSE_Mean.index.name = 'Elapsed Time'\n",
    "\n",
    "# RMSE_Mean = pd.DataFrame(RMSE_mean_iter, index = elapsed, columns=['RMSE Mean Error'])\n",
    "# RMSE_Mean.index.name = 'Elapsed Time'\n",
    "\n",
    "# res_1_iter = pd.concat([MAE_Mean, MSE_Mean, RMSE_Mean], axis=1)\n",
    "\n",
    "# print(res_1_iter)\n",
    "\n",
    "# res_1_iter.to_csv('Run_Catboost_50_Itr.csv')"
   ]
  },
  {
   "cell_type": "code",
   "execution_count": null,
   "id": "9c1892bd",
   "metadata": {},
   "outputs": [],
   "source": [
    "# b = sns.lineplot(data=res_1_iter)\n",
    "# b.axes.set_title(\"Error as function of Elapsed Time\",fontsize=20)\n",
    "# b.set_xlabel(\"Elapsed Time\",fontsize=20)\n",
    "# b.set_ylabel(\"Error\",fontsize=20)\n",
    "# #b.set_yscale('log')\n",
    "# b.tick_params(labelsize=18)"
   ]
  },
  {
   "cell_type": "code",
   "execution_count": null,
   "id": "991a7ca4",
   "metadata": {},
   "outputs": [],
   "source": [
    "# tuned_cb3 = tune_model(cb, optimize = 'RMSE', n_iter = 10)"
   ]
  },
  {
   "cell_type": "code",
   "execution_count": null,
   "id": "f75bf260",
   "metadata": {},
   "outputs": [],
   "source": [
    "# plot_model(tuned_cb3, plot = 'parameter')"
   ]
  },
  {
   "cell_type": "markdown",
   "id": "cee78bd4",
   "metadata": {},
   "source": [
    "##### Gradient Boosting Regression"
   ]
  },
  {
   "cell_type": "code",
   "execution_count": null,
   "id": "17efa5b3",
   "metadata": {},
   "outputs": [],
   "source": [
    "# gbr = create_model('gbr')\n",
    "# print(gbr)"
   ]
  },
  {
   "cell_type": "code",
   "execution_count": null,
   "id": "a15c0a60",
   "metadata": {},
   "outputs": [],
   "source": [
    "# tuned_gbr = tune_model(gbr, search_library = \"tune-sklearn\", search_algorithm=\"hyperopt\", optimize=\"RMSE\", n_iter=50)\n",
    "# print(tuned_gbr)"
   ]
  },
  {
   "cell_type": "markdown",
   "id": "f2d893c0",
   "metadata": {},
   "source": [
    "----------------------------------------------------------------------------------------------------------------------------"
   ]
  },
  {
   "cell_type": "markdown",
   "id": "3562780e",
   "metadata": {},
   "source": [
    "## 3. Optimisation"
   ]
  },
  {
   "cell_type": "markdown",
   "id": "1acd85d0",
   "metadata": {},
   "source": [
    "### a. Tune the Model"
   ]
  },
  {
   "cell_type": "markdown",
   "id": "f45ffc5d",
   "metadata": {},
   "source": [
    "The earlier experiments allow one to determine which model performs efficiently, and the tuning needed to arrive at the answer. Here, we will create the 3 specific models , which we will than blend, and than finally produce a \"tuned\" blended model based on earlier optimised parameters"
   ]
  },
  {
   "cell_type": "markdown",
   "id": "0ac4fd33",
   "metadata": {},
   "source": [
    "from pycaret.distributions import UniformDistribution, CategoricalDistribution\n",
    "\n",
    "catboost_param_dists = {\n",
    "    'iterations': CategoricalDistribution([500,100,300]),\n",
    "    'colsample_bylevel': UniformDistribution(0.5, 1.0),\n",
    "    'random_strength': CategoricalDistribution([0,0.1,0.2,1,10]),\n",
    "    'max_depth' : CategoricalDistribution([5,6,7,8,9])\n",
    "}"
   ]
  },
  {
   "cell_type": "code",
   "execution_count": null,
   "id": "6e064830",
   "metadata": {},
   "outputs": [],
   "source": [
    "tuned_models = []"
   ]
  },
  {
   "cell_type": "code",
   "execution_count": null,
   "id": "583c9e7a",
   "metadata": {},
   "outputs": [],
   "source": [
    "rf = create_model('rf', fold = 10)\n",
    "rf = tune_model(rf, \n",
    "                optimize = 'RMSE', \n",
    "                n_iter = 50, \n",
    "                choose_better = True, \n",
    "                 #search_library = \"tune-sklearn\", \n",
    "                 #search_algorithm=\"Hyperopt\",\n",
    "                 #search_algorithm=\"Optuna\",\n",
    "                 #search_algorithm=\"bayesian\",\n",
    "                )\n",
    "tuned_models.append(rf)"
   ]
  },
  {
   "cell_type": "code",
   "execution_count": null,
   "id": "38b9a6de",
   "metadata": {},
   "outputs": [],
   "source": [
    "et = create_model('et', fold = 10)\n",
    "et = tune_model(et, \n",
    "                optimize = 'RMSE', \n",
    "                n_iter = 50, \n",
    "                choose_better = True,\n",
    "                #search_library = \"optuna\", \n",
    "                #search_library = \"tune-sklearn\", \n",
    "                #search_algorithm=\"bayesian\",\n",
    "                #search_algorithm=\"hyperopt\",\n",
    "                #custom_grid = catboost_param_dists ,\n",
    "                #early_stopping = \"asha\",\n",
    "                #early_stopping_max_iters = 10,\n",
    "                #return_tuner = False ,   \n",
    "               )\n",
    "\n",
    "tuned_models.append(et)"
   ]
  },
  {
   "cell_type": "code",
   "execution_count": null,
   "id": "da515463",
   "metadata": {},
   "outputs": [],
   "source": [
    "gbr = create_model('gbr', fold = 10)\n",
    "gbr = tune_model(gbr, \n",
    "                 optimize = 'RMSE', \n",
    "                 n_iter = 50, \n",
    "                 choose_better = True, \n",
    "                 #search_library = \"tune-sklearn\", \n",
    "                 #search_algorithm=\"Hyperopt\",\n",
    "                 #search_algorithm=\"Optuna\",\n",
    "                 #search_algorithm=\"bayesian\",\n",
    "                )\n",
    "tuned_models.append(gbr)"
   ]
  },
  {
   "cell_type": "markdown",
   "id": "b6a5c75d",
   "metadata": {},
   "source": [
    "### b. Ensemble the Model"
   ]
  },
  {
   "cell_type": "markdown",
   "id": "4760d0d5",
   "metadata": {},
   "source": [
    "pycaret.regression.ensemble_model(estimator, method: str = 'Bagging', fold: Optional[Union[int, Any]] = None, n_estimators: int = 10, round: int = 4, choose_better: bool = False, optimize: str = 'R2', fit_kwargs: Optional[dict] = None, groups: Optional[Union[str, Any]] = None, verbose: bool = True, return_train_score: bool = False)"
   ]
  },
  {
   "cell_type": "code",
   "execution_count": null,
   "id": "5590973e",
   "metadata": {},
   "outputs": [],
   "source": [
    "prediction_model = []"
   ]
  },
  {
   "cell_type": "code",
   "execution_count": null,
   "id": "6382539c",
   "metadata": {},
   "outputs": [],
   "source": [
    "tuned_bagged_rf = ensemble_model(estimator = rf, method = 'Bagging', n_estimators=50, optimize = 'RMSE')\n",
    "prediction_model.append(tuned_bagged_rf)"
   ]
  },
  {
   "cell_type": "code",
   "execution_count": null,
   "id": "5e1d28b8",
   "metadata": {},
   "outputs": [],
   "source": [
    "tuned_boosted_rf = ensemble_model(estimator = rf, method = 'Boosting', n_estimators=50, optimize = 'RMSE')\n",
    "prediction_model.append(tuned_boosted_rf)"
   ]
  },
  {
   "cell_type": "markdown",
   "id": "6831dcef",
   "metadata": {},
   "source": [
    "Based on the output here, the 'bagging' method has improved the statistics."
   ]
  },
  {
   "cell_type": "code",
   "execution_count": null,
   "id": "f51c9075",
   "metadata": {},
   "outputs": [],
   "source": [
    "tuned_bagged_et = ensemble_model(estimator = et, method = 'Bagging', n_estimators=50, optimize = 'RMSE')\n",
    "prediction_model.append(tuned_bagged_et)"
   ]
  },
  {
   "cell_type": "code",
   "execution_count": null,
   "id": "91548586",
   "metadata": {},
   "outputs": [],
   "source": [
    "tuned_boosted_et = ensemble_model(estimator = et, method = 'Boosting', n_estimators=50, optimize = 'RMSE')\n",
    "prediction_model.append(tuned_boosted_et)"
   ]
  },
  {
   "cell_type": "markdown",
   "id": "3a21dcdc",
   "metadata": {},
   "source": [
    "Based on the output here, the 'bagging' method has dropped the MAE, MSE and RMSE"
   ]
  },
  {
   "cell_type": "code",
   "execution_count": null,
   "id": "ae62012a",
   "metadata": {},
   "outputs": [],
   "source": [
    "tuned_bagged_gbr = ensemble_model(estimator = gbr, method = 'Bagging', n_estimators=50, optimize = 'RMSE')\n",
    "prediction_model.append(tuned_bagged_gbr)"
   ]
  },
  {
   "cell_type": "code",
   "execution_count": null,
   "id": "ff188ae1",
   "metadata": {},
   "outputs": [],
   "source": [
    "tuned_boosted_gbr = ensemble_model(estimator = gbr, method = 'Boosting', n_estimators=50, optimize = 'RMSE')\n",
    "prediction_model.append(tuned_boosted_gbr)"
   ]
  },
  {
   "cell_type": "markdown",
   "id": "bf4e65f4",
   "metadata": {},
   "source": [
    "Based on the output here, the 'bagging' method has improved the MAE, MSE and RMSE"
   ]
  },
  {
   "cell_type": "markdown",
   "id": "2dffe2c9",
   "metadata": {},
   "source": [
    "### c. Blending all Models"
   ]
  },
  {
   "cell_type": "markdown",
   "id": "36dea74d",
   "metadata": {},
   "source": [
    "pycaret.regression.blend_models(\n",
    "estimator_list: list, fold: Optional[Union[int, Any]] = None, round: int = 4, choose_better: bool = False, optimize: str = 'R2', weights: Optional[List[float]] = None, fit_kwargs: Optional[dict] = None, groups: Optional[Union[str, Any]] = None, verbose: bool = True, return_train_score: bool = False )"
   ]
  },
  {
   "cell_type": "code",
   "execution_count": null,
   "id": "05a90b94",
   "metadata": {},
   "outputs": [],
   "source": [
    "blend_5_soft = blend_models(estimator_list = tuned_models, fold=5, optimize = 'RMSE', choose_better = True)\n",
    "prediction_model.append(blend_5_soft)"
   ]
  },
  {
   "cell_type": "code",
   "execution_count": null,
   "id": "fe0ed136",
   "metadata": {},
   "outputs": [],
   "source": [
    "blend_10_soft = blend_models(estimator_list = tuned_models, fold=10, optimize = 'RMSE', choose_better = True)\n",
    "prediction_model.append(blend_10_soft)"
   ]
  },
  {
   "cell_type": "markdown",
   "id": "7abc6542",
   "metadata": {},
   "source": [
    "### d. Stacking all Models"
   ]
  },
  {
   "cell_type": "markdown",
   "id": "63432d4a",
   "metadata": {},
   "source": [
    "pycaret.regression.stack_models(estimator_list: list, meta_model=None, meta_model_fold: Optional[Union[int, Any]] = 5, fold: Optional[Union[int, Any]] = None, round: int = 4, restack: bool = True, choose_better: bool = False, optimize: str = 'R2', fit_kwargs: Optional[dict] = None, groups: Optional[Union[str, Any]] = None, verbose: bool = True, return_train_score: bool = False)"
   ]
  },
  {
   "cell_type": "code",
   "execution_count": null,
   "id": "045115ca",
   "metadata": {},
   "outputs": [],
   "source": [
    "stack_5 = stack_models(estimator_list = tuned_models, meta_model = rf, fold = 5, optimize = 'RMSE', choose_better= True)\n",
    "prediction_model.append(stack_5)"
   ]
  },
  {
   "cell_type": "code",
   "execution_count": null,
   "id": "41d10839",
   "metadata": {},
   "outputs": [],
   "source": [
    "stack_10 = stack_models(estimator_list = tuned_models, meta_model = rf, fold = 10, optimize = 'RMSE', choose_better= True)\n",
    "prediction_model.append(stack_10)"
   ]
  },
  {
   "cell_type": "code",
   "execution_count": null,
   "id": "68b003e8",
   "metadata": {},
   "outputs": [],
   "source": [
    "prediction_model"
   ]
  },
  {
   "cell_type": "code",
   "execution_count": null,
   "id": "7b4a8a11",
   "metadata": {},
   "outputs": [],
   "source": [
    "for model in prediction_model:\n",
    "    print(model.__class__.__name__)\n",
    "    display(predict_model(model))"
   ]
  },
  {
   "cell_type": "markdown",
   "id": "54c6693d",
   "metadata": {},
   "source": [
    "## 4. Save the Model"
   ]
  },
  {
   "cell_type": "markdown",
   "id": "5194fab5",
   "metadata": {},
   "source": [
    "#### Lowest Mean RMSE is \"blend_10_soft\" which is the blending of all models with 10 K-folds"
   ]
  },
  {
   "cell_type": "code",
   "execution_count": null,
   "id": "4f58219f",
   "metadata": {},
   "outputs": [],
   "source": [
    "save_model(blend_10_soft, 'Blended_model_15072022')"
   ]
  },
  {
   "cell_type": "markdown",
   "id": "6f55f61e",
   "metadata": {},
   "source": [
    "#### 2nd Lowest Mean RMSE is \"tuned_bagged_gbr\" which is the bagged gradient boost"
   ]
  },
  {
   "cell_type": "code",
   "execution_count": null,
   "id": "545a8829",
   "metadata": {},
   "outputs": [],
   "source": [
    "save_model(tuned_bagged_gbr, 'Bagged_GradBoost_15072022')"
   ]
  },
  {
   "cell_type": "markdown",
   "id": "bb17e90f",
   "metadata": {},
   "source": [
    "#### 3rd Lowest Mean is \"stack_10\" which is the Stacked Models"
   ]
  },
  {
   "cell_type": "code",
   "execution_count": null,
   "id": "eecea289",
   "metadata": {},
   "outputs": [],
   "source": [
    "save_model(stack_10, 'Stack_10_15072022')"
   ]
  },
  {
   "cell_type": "markdown",
   "id": "a2e587af",
   "metadata": {},
   "source": [
    "#### 4th Lowest Mean  is \"tuned_bagged_et\" which is the Extra Trees Regressor"
   ]
  },
  {
   "cell_type": "code",
   "execution_count": null,
   "id": "3aac2dbc",
   "metadata": {},
   "outputs": [],
   "source": [
    "save_model(tuned_bagged_et, 'Bagged_ET_15072022')"
   ]
  },
  {
   "cell_type": "markdown",
   "id": "4880257f",
   "metadata": {},
   "source": [
    "## 5. Finalise the model"
   ]
  },
  {
   "cell_type": "code",
   "execution_count": null,
   "id": "b961efda",
   "metadata": {},
   "outputs": [],
   "source": [
    "final_blend = finalize_model(blend_10_soft)"
   ]
  },
  {
   "cell_type": "code",
   "execution_count": null,
   "id": "52d98183",
   "metadata": {},
   "outputs": [],
   "source": [
    "final_gbr = finalize_model(tuned_bagged_gbr)"
   ]
  },
  {
   "cell_type": "code",
   "execution_count": null,
   "id": "0dc70a9c",
   "metadata": {},
   "outputs": [],
   "source": [
    "final_stack = finalize_model(stack_10)"
   ]
  },
  {
   "cell_type": "code",
   "execution_count": null,
   "id": "c601d8d6",
   "metadata": {},
   "outputs": [],
   "source": [
    "final_et = finalize_model(tuned_bagged_et)\n",
    "#final_et = finalize_model(et)"
   ]
  },
  {
   "cell_type": "markdown",
   "id": "3a321594",
   "metadata": {},
   "source": [
    "### Plots to analyse Model"
   ]
  },
  {
   "cell_type": "code",
   "execution_count": null,
   "id": "f2c00ad3",
   "metadata": {},
   "outputs": [],
   "source": [
    "model = final_et\n",
    "predict_model(model)"
   ]
  },
  {
   "cell_type": "code",
   "execution_count": null,
   "id": "d69ef747",
   "metadata": {},
   "outputs": [],
   "source": [
    "plot_model(model)"
   ]
  },
  {
   "cell_type": "code",
   "execution_count": null,
   "id": "8db1af0a",
   "metadata": {},
   "outputs": [],
   "source": [
    "# Prediction Error \n",
    "plot_model(model, plot = 'error')"
   ]
  },
  {
   "cell_type": "code",
   "execution_count": null,
   "id": "6bed9036",
   "metadata": {},
   "outputs": [],
   "source": [
    "# Cooks Distance Plot\n",
    "plot_model(model, plot='cooks')"
   ]
  },
  {
   "cell_type": "code",
   "execution_count": null,
   "id": "80116b78",
   "metadata": {},
   "outputs": [],
   "source": [
    "# Learning Curve\n",
    "plot_model(model, plot='learning')"
   ]
  },
  {
   "cell_type": "code",
   "execution_count": null,
   "id": "85165855",
   "metadata": {},
   "outputs": [],
   "source": [
    "# Manifold Learning\n",
    "plot_model(model, plot='manifold')"
   ]
  },
  {
   "cell_type": "code",
   "execution_count": null,
   "id": "fe9df87b",
   "metadata": {},
   "outputs": [],
   "source": [
    "# Model Hyperparameter\n",
    "plot_model(model, plot='parameter')"
   ]
  },
  {
   "cell_type": "markdown",
   "id": "a7342d6e",
   "metadata": {},
   "source": [
    "## 6. Blind Test"
   ]
  },
  {
   "cell_type": "code",
   "execution_count": null,
   "id": "f1c4f952",
   "metadata": {},
   "outputs": [],
   "source": [
    "dfblind = pd.read_excel(\"BlindTest_SSOIL.xlsx\", thousands=',', skiprows = skiprows)\n",
    "#dfblind = dfblind.loc[:, ~df.columns.str.contains('^Unnamed')] \n",
    "dfblind.head()"
   ]
  },
  {
   "cell_type": "code",
   "execution_count": null,
   "id": "d20cf9b3",
   "metadata": {},
   "outputs": [],
   "source": [
    "BlindPredict = predict_model(final_et, data=dfblind, round=2)"
   ]
  },
  {
   "cell_type": "code",
   "execution_count": null,
   "id": "9841e4d9",
   "metadata": {},
   "outputs": [],
   "source": [
    "BlindPredict"
   ]
  },
  {
   "cell_type": "code",
   "execution_count": null,
   "id": "c367756d",
   "metadata": {},
   "outputs": [],
   "source": [
    "a = BlindPredict['URF']\n",
    "b = BlindPredict['Label']\n",
    "\n",
    "plt.figure(figsize=(14, 8))\n",
    "plt.scatter(a, b, color='blue')\n",
    "plt.plot(a, a, color = 'red', label = 'x=y')\n",
    "plt.xlabel(\"Recovery Factor (%)\", size=14)\n",
    "plt.ylabel(\"Evaluated Recovery Factor (%)\", size=14)\n",
    "\n",
    "#plt.tight_layout()\n",
    "plt.show()"
   ]
  },
  {
   "cell_type": "code",
   "execution_count": null,
   "id": "23655847",
   "metadata": {},
   "outputs": [],
   "source": [
    "count = 'Completed Process'\n",
    "elapsed = (time.time() - start)\n",
    "print (\"%s in %s seconds\" % (count,elapsed))"
   ]
  }
 ],
 "metadata": {
  "kernelspec": {
   "display_name": "Python 3 (ipykernel)",
   "language": "python",
   "name": "python3"
  },
  "language_info": {
   "codemirror_mode": {
    "name": "ipython",
    "version": 3
   },
   "file_extension": ".py",
   "mimetype": "text/x-python",
   "name": "python",
   "nbconvert_exporter": "python",
   "pygments_lexer": "ipython3",
   "version": "3.8.8"
  }
 },
 "nbformat": 4,
 "nbformat_minor": 5
}
