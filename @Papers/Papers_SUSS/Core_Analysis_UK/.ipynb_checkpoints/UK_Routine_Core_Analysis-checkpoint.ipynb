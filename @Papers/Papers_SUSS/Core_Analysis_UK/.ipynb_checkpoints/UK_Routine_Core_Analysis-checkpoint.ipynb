{
 "cells": [
  {
   "cell_type": "markdown",
   "id": "822a7528",
   "metadata": {},
   "source": [
    "<table><tr>\n",
    "<td> \n",
    "<td> <img src=\"https://npc-core.com/npc-content/uploads/2021/03/core-analysis-cores-combo.jpeg\" alt=\"Drawing\" style=\"width: 250px;\"/> </td>\n",
    "</tr></table>"
   ]
  },
  {
   "cell_type": "markdown",
   "id": "a60489b7",
   "metadata": {},
   "source": [
    "<h1 align=center><font size = 4> Munish Kumar </font></h1>\n",
    "<h1 align=center><font size = 4> UK Routine Core Analysis </font></h1>\n",
    "<h1 align=center><font size = 3> 2022 </font></h1>"
   ]
  },
  {
   "cell_type": "markdown",
   "id": "663d360f",
   "metadata": {},
   "source": [
    "#### Libraries"
   ]
  },
  {
   "cell_type": "code",
   "execution_count": 1,
   "id": "89afe242",
   "metadata": {},
   "outputs": [
    {
     "name": "stdout",
     "output_type": "stream",
     "text": [
      "Libraries imported\n"
     ]
    }
   ],
   "source": [
    "# Only install the following libraries if you dont have it, otherwise leave it commented out\n",
    "\n",
    "#!conda install -c anaconda natsort --yes\n",
    "#!conda install -c anaconda xlrd --yes\n",
    "#!pip install sympy --user\n",
    "\n",
    "# General Libraries\n",
    "import itertools\n",
    "import pandas as pd\n",
    "import numpy as np\n",
    "import matplotlib.pyplot as plt\n",
    "import matplotlib.ticker as ticker\n",
    "from matplotlib.ticker import NullFormatter\n",
    "import time\n",
    "import re\n",
    "import requests\n",
    "import pickle\n",
    "import seaborn as sns\n",
    "import os\n",
    "import glob\n",
    "import sys\n",
    "from natsort import natsorted\n",
    "sns.set()\n",
    "\n",
    "# Sklearn Liraries\n",
    "from sklearn import preprocessing\n",
    "\n",
    "# For Latex style text\n",
    "from sympy import S, symbols, printing\n",
    "\n",
    "import datetime\n",
    "from datetime import timedelta, date \n",
    "start = time.time()\n",
    "%matplotlib inline\n",
    "\n",
    "# Display max rows\n",
    "pd.set_option('display.max_rows', 500)\n",
    "\n",
    "# Forces the print statement to show everything and not truncate\n",
    "# np.set_printoptions(threshold=sys.maxsize) \n",
    "print('Libraries imported')"
   ]
  },
  {
   "cell_type": "markdown",
   "id": "af4d5f6e",
   "metadata": {},
   "source": [
    "###### Declare some global variables"
   ]
  },
  {
   "cell_type": "code",
   "execution_count": 2,
   "id": "a6b69527",
   "metadata": {},
   "outputs": [],
   "source": [
    "dir_name = r'C:\\Users\\mkumar\\Documents\\GitHub\\munishkumar-gh.github.io\\@Papers\\Papers_SUSS\\Core_Analysis_UK'\n",
    "filename_suffix = 'csv'\n",
    "\n",
    "# Font, marker size and axis rotation\n",
    "edgecolors = 'black'\n",
    "markersize = 16\n",
    "alpha = 0.5\n",
    "size = 18\n",
    "rotation = 0"
   ]
  },
  {
   "cell_type": "markdown",
   "id": "c12e7ecb",
   "metadata": {},
   "source": [
    "###### Series of Functions"
   ]
  },
  {
   "cell_type": "code",
   "execution_count": 3,
   "id": "7e2f4b52",
   "metadata": {},
   "outputs": [],
   "source": [
    "# Function to look at first 5 and last 5 elements in a dataframe\n",
    "def ends(df, x=5):\n",
    "    return df.head(x).append(df.tail(x))\n",
    "setattr(pd.DataFrame,'ends',ends)"
   ]
  },
  {
   "cell_type": "code",
   "execution_count": 4,
   "id": "daff0ca1",
   "metadata": {},
   "outputs": [],
   "source": [
    "# Function to read out file\n",
    "def file_out(df, dir_name, base_filename, filename_suffix):\n",
    "    try:\n",
    "        csvs_sht = os.path.join(dir_name, base_filename + \".\" + filename_suffix)\n",
    "        df.to_csv(csvs_sht, index = False, header=True)\n",
    "        print (\"Final File Extract Produced\")\n",
    "    except IOError:\n",
    "        print(\"I/O error\")\n",
    "    return"
   ]
  },
  {
   "cell_type": "code",
   "execution_count": 5,
   "id": "0959348a",
   "metadata": {},
   "outputs": [],
   "source": [
    "# Function to search for a text string\n",
    "def search_words(text):\n",
    "    result = re.findall(r'\\b[^\\d\\W]+\\b', text)\n",
    "    return \" \".join(result)"
   ]
  },
  {
   "cell_type": "code",
   "execution_count": 6,
   "id": "3a16e935",
   "metadata": {},
   "outputs": [],
   "source": [
    "# Function to plot grain density\n",
    "def plot_grain_density(mod_df, title, bins, xmin, xmax, savefn):\n",
    "    sns.set()\n",
    "    sns.set_style(\"whitegrid\")     \n",
    "    sns.set_style(\"ticks\", \n",
    "                  {\"xtick.major.size\":size,\n",
    "                  \"ytick.major.size\":size}\n",
    "                 )\n",
    "    sns.axes_style(\"whitegrid\")\n",
    "    kwargs = {'cumulative': True}\n",
    "\n",
    "    ax = sns.distplot(mod_df, \n",
    "                      bins = bins, \n",
    "                      kde=False, \n",
    "                      norm_hist=False, \n",
    "                      color = 'r',\n",
    "                      #bw_adjust=.25,\n",
    "                      #hist_kws=kwargs, \n",
    "                      #kde_kws=kwargs\n",
    "                     )\n",
    "\n",
    "    ax.set(ylabel='Frequency', \n",
    "           #xlabel='common ylabel',\n",
    "           xlim = (xmin, xmax),\n",
    "          )\n",
    "\n",
    "    ax.legend(labels=['Histogram', 'Frequency'])\n",
    "    plt.title(title)\n",
    "    plt.grid(True)\n",
    "\n",
    "    plt.savefig(savefn, transparent=True)\n",
    "    return"
   ]
  },
  {
   "cell_type": "code",
   "execution_count": 7,
   "id": "79ea8e1e",
   "metadata": {},
   "outputs": [],
   "source": [
    "# Plotting the effect of NOBP\n",
    "def plot_NOBP(mod_df, df_sub, grouped, color, savefn):\n",
    "    # Plot per group\n",
    "    fig = plt.figure(figsize=(14, 8))\n",
    "    ax = fig.add_subplot(121)\n",
    "\n",
    "    for i, (name, group) in enumerate(grouped):\n",
    "        sc = ax.scatter(\n",
    "            group[\"NOB (psi)\"],\n",
    "            group[\"Porosity (%)\"],\n",
    "            s = markersize**2,\n",
    "            alpha=0.5,\n",
    "            label=name,\n",
    "            edgecolors = edgecolors,\n",
    "        )  \n",
    "\n",
    "    # Add legends (one for gender, other for size)\n",
    "    ax.add_artist(ax.legend(title='Well Name'))\n",
    "    ax.legend(*sc.legend_elements(\"colors\", num=6))\n",
    "    ax.set_xlabel('Net Overburden Pressure (psi)', fontsize=size)\n",
    "    ax.set_ylabel('Porosity (%)', fontsize=size)\n",
    "\n",
    "    plt.xticks(rotation = rotation, fontsize=size)\n",
    "    plt.yticks(rotation = rotation, fontsize=size)\n",
    "    plt.ylim(0,20) \n",
    "    plt.grid(True)\n",
    "    \n",
    "    ax1 = fig.add_subplot(122)\n",
    "\n",
    "    for i, (name, group) in enumerate(grouped):\n",
    "        sc1 = ax1.scatter(\n",
    "            group[\"NOB (psi)\"],\n",
    "            group[\"K (mD)\"],\n",
    "            s = markersize**2,\n",
    "            alpha=0.5,\n",
    "            label=name,\n",
    "            edgecolors = edgecolors,\n",
    "        )  \n",
    "\n",
    "    # Add legends \n",
    "    ax1.add_artist(ax1.legend(title='Well Name'))\n",
    "    ax1.legend(*sc1.legend_elements(\"colors\", num=6))\n",
    "    ax1.set_xlabel('Net Overburden Pressure (psi)', fontsize=size)\n",
    "    ax1.set_ylabel('Permeability (mD)', fontsize=size)\n",
    "\n",
    "    plt.xticks(rotation = rotation, fontsize=size)\n",
    "    plt.yticks(rotation = rotation, fontsize=size)\n",
    "    #plt.ylim(0,20)\n",
    "\n",
    "    plt.tight_layout()\n",
    "    plt.grid(True)\n",
    "\n",
    "    plt.savefig(savefn, transparent=True)\n",
    "    return"
   ]
  },
  {
   "cell_type": "code",
   "execution_count": 8,
   "id": "4053d0af",
   "metadata": {},
   "outputs": [],
   "source": [
    "def plot_PP(df_sub, grouped, color, title, savefn, xint1, yint1, xint2, yint2, xlimit, ylimit, plot_line_eqn):\n",
    "    fig = plt.figure(figsize=(14, 8))\n",
    "    ax = fig.add_subplot(111)\n",
    "\n",
    "    for i, (name, group) in enumerate(grouped):\n",
    "        sc = ax.scatter(\n",
    "            group[\"Porosity (%)\"],\n",
    "            group[\"K (mD)\"],\n",
    "            s = markersize**2,\n",
    "            alpha=0.5,\n",
    "            label=name,\n",
    "            edgecolors = edgecolors,\n",
    "        )  \n",
    "\n",
    "    # Add legends\n",
    "    ax.add_artist(ax.legend(title='Well Name'))\n",
    "    ax.legend(*sc.legend_elements(\"colors\", num=6), prop={'size': 20})\n",
    "    ax.set_xlabel('Porosity (%)', fontsize=size)\n",
    "    ax.set_ylabel('Permeability (mD)', fontsize=size)\n",
    "\n",
    "    plt.xticks(rotation = rotation, fontsize=size)\n",
    "    plt.yticks(rotation = rotation, fontsize=size)\n",
    "    plt.xlim(0, xlimit)\n",
    "    plt.ylim(0.001, ylimit)\n",
    "    \n",
    "    df_sub = df_sub[['Porosity (%)', 'K (mD)']].sort_values(by = 'Porosity (%)', ascending = True)\n",
    "    \n",
    "    # Fit to linear-log\n",
    "    y1 = df_sub[\"Porosity (%)\"] #x-value\n",
    "    y2 = df_sub[\"K (mD)\"] #y-value \n",
    "   \n",
    "    ## Eqn Fit 1 ##\n",
    "    # For fitting y = Ax^B, ln y = ln A + B ln x. So fit (ln y) against (ln x).\n",
    "    # p = np.polyfit(np.log(y1), np.log(y2), 1, w=np.sqrt(y2/2)) # w is weight to bias against larger values of y\n",
    "    # p = np.polyfit(np.log(y1), np.log(y2), 1)\n",
    "    # f = np.poly1d(p)\n",
    "\n",
    "    ## Eqn Fit 2 ##\n",
    "    # For fitting y = Ae^(Bx), ln y = ln A + Bx. So fit (ln y) against x.\n",
    "    # p = np.polyfit(y1, np.log(y2), 1, w=np.sqrt(y2)) # w is weight to bias against larger values of y\n",
    "    p = np.polyfit(y1, np.log(y2), 1)\n",
    "    f = np.poly1d(p)\n",
    "\n",
    "    if plot_line_eqn == True: \n",
    "        ax.semilogy(y1, np.exp(p[0] * np.log(y1) + p[1]), 'k--', linewidth = 2.5)\n",
    "        # Display Equation\n",
    "        plt.text(17.5, 100, r'Equation ={}'.format(f), fontsize = size,bbox=dict(facecolor='white', alpha=0.25))\n",
    "        plt.title (title, fontsize = size)\n",
    "    else:\n",
    "        p[0] = 0\n",
    "        p [1] = 0\n",
    "        f = np.poly1d(p)\n",
    "    \n",
    "    # here we add the vertical and horizontal line 1\n",
    "    plt.axvline(x=xint1, color='darkorange',linestyle='--',linewidth=2)\n",
    "    plt.axhline(y=yint1, color='darkorange',linestyle='--',linewidth=2)\n",
    "    \n",
    "    # here we add the horizontal and horizontal line 2\n",
    "    plt.axvline(x=xint2, color='darkgreen',linestyle=':',linewidth=2)\n",
    "    plt.axhline(y=yint2, color='darkgreen',linestyle=':',linewidth=2)\n",
    "\n",
    "    ax.set_yscale('log')\n",
    "\n",
    "    plt.tight_layout()\n",
    "    plt.grid(True)\n",
    "    \n",
    "    plt.savefig(savefn, transparent=True)\n",
    "    return f, p[0], p[1]"
   ]
  },
  {
   "cell_type": "markdown",
   "id": "0e77274f",
   "metadata": {},
   "source": [
    "##### Read in the data and some preprocessing"
   ]
  },
  {
   "cell_type": "code",
   "execution_count": null,
   "id": "c09303dc",
   "metadata": {},
   "outputs": [],
   "source": [
    "# Header file comes preformatted as 1st row is variable name, 2nd row reads \"Low, Best, High\"\n",
    "# Combines the first 2 rows of header into 1 header\n",
    "\n",
    "df = pd.read_excel(\n",
    "    'UK_not_normalised.xlsx', \n",
    "    header=[0, 1], \n",
    "    sheet_name='MASTER', \n",
    "    keep_default_na=False,\n",
    "    #usecols=\"A,C:AA\"\n",
    ")\n",
    "df.columns=df.columns.to_flat_index()\n",
    "\n",
    "# renaming the columns\n",
    "df.columns = ['Well Name', 'Sample ID', 'Depth (m)', 'NOB (psi)', 'K (mD)', 'Porosity (%)', 'Grain Density (g/cc)', 'Core Type']\n",
    "df.ends(10)"
   ]
  },
  {
   "cell_type": "markdown",
   "id": "66b8873a",
   "metadata": {},
   "source": [
    "##### Remove Missing Rows based on Missing Permeability and Porosity Values"
   ]
  },
  {
   "cell_type": "code",
   "execution_count": null,
   "id": "f52a3ee9",
   "metadata": {
    "scrolled": true
   },
   "outputs": [],
   "source": [
    "df = df.replace(r'^\\s*$', np.nan, regex=True)\n",
    "\n",
    "cols = ['K (mD)', 'Porosity (%)']\n",
    "\n",
    "mod_df = df.dropna(how='any', subset=cols)\n",
    "mod_df = df[df['K (mD)'] > 0]\n",
    "mod_df = mod_df[mod_df['Grain Density (g/cc)'] > 2.55]\n",
    "mod_df = mod_df[mod_df['Grain Density (g/cc)'] < 2.85]\n",
    "mod_df"
   ]
  },
  {
   "cell_type": "markdown",
   "id": "930fa559",
   "metadata": {},
   "source": [
    "###### Mapping each well to a colour"
   ]
  },
  {
   "cell_type": "code",
   "execution_count": null,
   "id": "4dae4038",
   "metadata": {},
   "outputs": [],
   "source": [
    "df_colors = pd.read_csv('https://raw.githubusercontent.com/codebrainz/color-names/master/output/colors.csv',header=None)\n",
    "df_colors.columns = ['color_name', 'color_description', 'hex_value', 'r', 'g','b']\n",
    "\n",
    "names = mod_df['Well Name'].unique()\n",
    "c = df_colors[['hex_value']].astype(str).agg(','.join,axis=1).tolist()\n",
    "colors = dict(zip(names,c))\n",
    "\n",
    "mod_df['color'] = mod_df['Well Name'].apply(lambda x: colors[x])\n",
    "mod_df.info()"
   ]
  },
  {
   "cell_type": "code",
   "execution_count": null,
   "id": "25cc1e70",
   "metadata": {
    "scrolled": false
   },
   "outputs": [],
   "source": [
    "for well in mod_df['Well Name'].unique():\n",
    "        print(mod_df[mod_df['Well Name'] == well].info())      \n",
    "        print(mod_df[mod_df['Well Name'] == well].describe(include='all'))       "
   ]
  },
  {
   "cell_type": "code",
   "execution_count": null,
   "id": "6519b83e",
   "metadata": {},
   "outputs": [],
   "source": [
    "print(mod_df.info())\n",
    "print(mod_df.describe(include='all'))"
   ]
  },
  {
   "cell_type": "markdown",
   "id": "c5dd3270",
   "metadata": {},
   "source": [
    "## Determine Properties based on a particular Net Overburden Pressure (NOBP) value"
   ]
  },
  {
   "cell_type": "code",
   "execution_count": null,
   "id": "dfe080d8",
   "metadata": {},
   "outputs": [],
   "source": [
    "a = mod_df['NOB (psi)'].unique()\n",
    "print(sorted(a))"
   ]
  },
  {
   "cell_type": "markdown",
   "id": "0b4dc64c",
   "metadata": {},
   "source": [
    "Some of the net overburden values are missing. It will be assumed that these are ambient values i.e. 800 psi"
   ]
  },
  {
   "cell_type": "code",
   "execution_count": null,
   "id": "e273f615",
   "metadata": {},
   "outputs": [],
   "source": [
    "mod_df['NOB (psi)'].fillna(14.7, inplace=True)\n",
    "mod_df['NOB (psi)'].isnull().values.any()"
   ]
  },
  {
   "cell_type": "markdown",
   "id": "28d505cb",
   "metadata": {},
   "source": [
    "#### Histogram - Plotting the Grain Density, Porosity and Permeability at Ambient (800 psi)"
   ]
  },
  {
   "cell_type": "code",
   "execution_count": null,
   "id": "a3af7fc6",
   "metadata": {},
   "outputs": [],
   "source": [
    "NOBP = 0"
   ]
  },
  {
   "cell_type": "code",
   "execution_count": null,
   "id": "fb0fad80",
   "metadata": {},
   "outputs": [],
   "source": [
    "df_sub = mod_df[mod_df['NOB (psi)'] <= NOBP]\n",
    "grouped = df_sub.groupby(\"Well Name\")\n",
    "color = df_sub['color']"
   ]
  },
  {
   "cell_type": "code",
   "execution_count": null,
   "id": "f6608d26",
   "metadata": {},
   "outputs": [],
   "source": [
    "savefn = \"Hist_GD_amb.png\"\n",
    "\n",
    "## fuction to plot - usage\n",
    "## plot_grain_density (dataframe_column, plot_title, number_bins, x-axis_min, x_axis_max savefile_name)\n",
    "plot_grain_density(df_sub['Grain Density (g/cc)'], \"Grain Density (Ambient)\", 20, 2.55, 2.85, savefn)"
   ]
  },
  {
   "cell_type": "code",
   "execution_count": null,
   "id": "50f88f31",
   "metadata": {},
   "outputs": [],
   "source": [
    "savefn = \"Hist_Poro_amb.png\"\n",
    "plot_grain_density(df_sub[\"Porosity (%)\"], \"Porosity (%) (Ambient)\", 20, 0, 30, savefn)"
   ]
  },
  {
   "cell_type": "code",
   "execution_count": null,
   "id": "b060b313",
   "metadata": {},
   "outputs": [],
   "source": [
    "savefn = \"Hist_Perm_amb.png\"\n",
    "\n",
    "x= df_sub[\"K (mD)\"]\n",
    "\n",
    "logbins = np.geomspace(x.min(), x.max(), 20)\n",
    "plot_grain_density(df_sub[\"K (mD)\"], \"Permeability (mD) (Ambient)\", logbins, 0.001, x.max()+5000, savefn)\n",
    "plt.xscale('log')"
   ]
  },
  {
   "cell_type": "markdown",
   "id": "6bdee4ef",
   "metadata": {},
   "source": [
    "#### Plot cross-plot of Porosity-Permeability"
   ]
  },
  {
   "cell_type": "code",
   "execution_count": null,
   "id": "be996541",
   "metadata": {
    "scrolled": false
   },
   "outputs": [],
   "source": [
    "savefn = \"Poro_Perm_amb.png\"\n",
    "\n",
    "xlimit = 30\n",
    "ylimit = 100000\n",
    "\n",
    "#Cutoff intercept\n",
    "yint1 = 0.1\n",
    "xint1 = 4\n",
    "\n",
    "yint2 = 1\n",
    "xint2 = 5\n",
    "\n",
    "plot_line_eqn = False\n",
    "\n",
    "f, p0, p1 = plot_PP(df_sub, grouped, color, \n",
    "                    \"Ambient Porosity vs Permeability\", savefn, xint1, yint1, \n",
    "                    xint2, yint2, xlimit, ylimit, plot_line_eqn)\n",
    "print(\"Equation of line:\", f)\n",
    "print(\"Intercept:\", p0)\n",
    "print(\"Gradient Coefficient:\", p1)"
   ]
  },
  {
   "cell_type": "markdown",
   "id": "a9e1c0dc",
   "metadata": {},
   "source": [
    "##### Cross-plot for values at overburden"
   ]
  },
  {
   "cell_type": "markdown",
   "id": "dd6641bf",
   "metadata": {},
   "source": [
    "df_sub = mod_df[mod_df['NOB (psi)'] > NOBP]\n",
    "grouped = df_sub.groupby(\"Well Name\")\n",
    "color = df_sub['color']"
   ]
  },
  {
   "cell_type": "markdown",
   "id": "3826afd0",
   "metadata": {},
   "source": [
    "savefn = \"Hist_GD_OB.png\"\n",
    "\n",
    "# fuction to plot - usage\n",
    "# plot_grain_density (dataframe_column, plot_title, number_bins, x-axis_min, x_axis_max, savefile_name)\n",
    "\n",
    "plot_grain_density(df_sub['Grain Density (g/cc)'], \"Grain Density (Overburden)\", 20, 2.55, 2.9, savefn)"
   ]
  },
  {
   "cell_type": "markdown",
   "id": "ce74bb47",
   "metadata": {},
   "source": [
    "savefn = \"Hist_Poro_OB.png\"\n",
    "plot_grain_density(df_sub[\"Porosity (%)\"], \"Porosity (%) (Overburden)\", 20, 0, 35, savefn)"
   ]
  },
  {
   "cell_type": "markdown",
   "id": "14d0a38e",
   "metadata": {},
   "source": [
    "savefn = \"Hist_Perm_OB.png\"\n",
    "\n",
    "x= df_sub[\"K (mD)\"]\n",
    "\n",
    "logbins = np.geomspace(x.min(), x.max(), 20)\n",
    "plot_grain_density(df_sub[\"K (mD)\"], \"Permeability (mD) (Ambient)\", logbins, 0.01, x.max()+1000, savefn)\n",
    "plt.xscale('log')"
   ]
  },
  {
   "cell_type": "markdown",
   "id": "f09c1bf2",
   "metadata": {
    "scrolled": false
   },
   "source": [
    "savefn = \"Poro_Perm_Overburden.png\"\n",
    "\n",
    "xlimit = 35\n",
    "ylimit = 10000\n",
    "\n",
    "#Cutoff intercept\n",
    "yint1 = 1\n",
    "xint1 = 16\n",
    "\n",
    "yint2 = 0.1\n",
    "xint2 = 12\n",
    "\n",
    "plot_line_eqn = True\n",
    "\n",
    "f, p0, p1 = plot_PP(df_sub, grouped, color, \n",
    "                    \"Overburden Porosity vs Permeability\", savefn, \n",
    "                    xint1, yint1, xint2, yint2, xlimit, ylimit, plot_line_eqn)\n",
    "print(\"Equation of line:\", f)\n",
    "print(\"Intercept:\", p0)\n",
    "print(\"Gradient Coefficient:\", p1)\n"
   ]
  },
  {
   "cell_type": "markdown",
   "id": "688e667d",
   "metadata": {},
   "source": [
    "### K means clustering of Core Data"
   ]
  },
  {
   "cell_type": "markdown",
   "id": "0d6eee7a",
   "metadata": {},
   "source": [
    "#### Step 1: Normalise Data Set"
   ]
  },
  {
   "cell_type": "code",
   "execution_count": null,
   "id": "dd871e8b",
   "metadata": {},
   "outputs": [],
   "source": [
    "from sklearn.preprocessing import StandardScaler\n",
    "from sklearn.cluster import KMeans"
   ]
  },
  {
   "cell_type": "markdown",
   "id": "f7e9a8b6",
   "metadata": {},
   "source": [
    "#### Step 1: Elbow Plot"
   ]
  },
  {
   "cell_type": "code",
   "execution_count": null,
   "id": "acfe0232",
   "metadata": {},
   "outputs": [],
   "source": [
    "mod_df_copy = mod_df.copy()\n",
    "mod_df_copy.columns.values"
   ]
  },
  {
   "cell_type": "code",
   "execution_count": null,
   "id": "97ea58a1",
   "metadata": {},
   "outputs": [],
   "source": [
    "# Select columns to do prediction on\n",
    "X_drop = mod_df_copy.drop(['Well Name', 'Sample ID', 'Depth (m)', 'NOB (psi)',\n",
    "                           #'Grain Density (g/cc)', \n",
    "                           'Core Type', 'color'], axis = 1)"
   ]
  },
  {
   "cell_type": "code",
   "execution_count": null,
   "id": "008e27f9",
   "metadata": {},
   "outputs": [],
   "source": [
    "distortions = []\n",
    "\n",
    "min_el = 1\n",
    "max_el = 10\n",
    "\n",
    "# A loop runs thorugh your min and max clusters. \n",
    "# We dont complicate the K-Means at this stage\n",
    "# We store an \"intertia\" number which is the measurement of the distortions in different K clustering solutions\n",
    "\n",
    "for i in range (min_el,max_el):\n",
    "    km = KMeans(n_clusters= i, init = \"k-means++\")\n",
    "    km.fit(X_drop)\n",
    "    distortions.append(km.inertia_)  "
   ]
  },
  {
   "cell_type": "code",
   "execution_count": null,
   "id": "dc35cb1e",
   "metadata": {},
   "outputs": [],
   "source": [
    "# elbow curve\n",
    "fig, axes = plt.subplots(nrows = 1, ncols = 1, figsize = (5,3), dpi = 150)\n",
    "plt.plot(range (min_el,max_el), distortions, marker='o', markersize=5,\n",
    "    markeredgewidth=2, markeredgecolor='r', markerfacecolor='None')\n",
    "plt.grid(True)\n",
    "plt.xlabel('Number of clusters')\n",
    "plt.ylabel('Average within-cluster sum of squares')\n",
    "plt.title('Elbow for KMeans clustering')"
   ]
  },
  {
   "cell_type": "markdown",
   "id": "3ec13bc4",
   "metadata": {},
   "source": [
    "#### Looks like 3 is the optimal number of clusters. Lets do the K means proper now"
   ]
  },
  {
   "cell_type": "markdown",
   "id": "b639a9fc",
   "metadata": {},
   "source": [
    "#### Step 2: K-means Plot"
   ]
  },
  {
   "cell_type": "code",
   "execution_count": null,
   "id": "cbf1608a",
   "metadata": {},
   "outputs": [],
   "source": [
    "# This normalizes the data set\n",
    "scaler = preprocessing.StandardScaler()\n",
    "scaler.fit(X_drop)\n",
    "X_drop_Norm = scaler.transform(X_drop)\n",
    "\n",
    "# Now we convert to a pandas array\n",
    "#car_norm_price = pd.DataFrame(X_drop_Norm, columns = DF_model_toNorm_colnam, index = DF_model_toNorm_rownam)\n",
    "#car_norm_price"
   ]
  },
  {
   "cell_type": "code",
   "execution_count": null,
   "id": "bbd3d2f6",
   "metadata": {},
   "outputs": [],
   "source": [
    "# Fitting the K-Means with the optimal number of cluster\n",
    "k = 3\n",
    "km = KMeans(n_clusters=k, init = \"k-means++\", random_state = 0)\n",
    "km_fit = km.fit(X_drop_Norm)\n",
    "\n",
    "# Predicting the Classificaiton of the Data\n",
    "y_pred = km.fit_predict(X_drop_Norm)\n",
    "display(y_pred)"
   ]
  },
  {
   "cell_type": "code",
   "execution_count": null,
   "id": "c5445407",
   "metadata": {},
   "outputs": [],
   "source": [
    "# The predicted results should now be converted to a pandas dataframe\n",
    "y_pred_data = pd.DataFrame({\"cluster\":y_pred},index = X_drop.index)\n",
    "y_pred_data"
   ]
  },
  {
   "cell_type": "code",
   "execution_count": null,
   "id": "4036f6e5",
   "metadata": {},
   "outputs": [],
   "source": [
    "core_pred = pd.concat([X_drop , y_pred_data], axis = 1)\n",
    "core_pred"
   ]
  },
  {
   "cell_type": "code",
   "execution_count": null,
   "id": "78766f8d",
   "metadata": {},
   "outputs": [],
   "source": [
    "names = core_pred['cluster'].unique()\n",
    "c = df_colors[['hex_value']].astype(str).agg(','.join,axis=1).tolist()\n",
    "colors = dict(zip(names,c))\n",
    "\n",
    "core_pred['color'] = core_pred['cluster'].apply(lambda x: colors[x])\n",
    "core_pred = core_pred.sort_values(by = 'Porosity (%)', ascending = True)\n",
    "core_pred"
   ]
  },
  {
   "cell_type": "code",
   "execution_count": null,
   "id": "c0254199",
   "metadata": {},
   "outputs": [],
   "source": [
    "pd.crosstab(core_pred['Porosity (%)'], core_pred['cluster'], normalize='index', margins = True)"
   ]
  },
  {
   "cell_type": "code",
   "execution_count": null,
   "id": "6c7c8755",
   "metadata": {},
   "outputs": [],
   "source": [
    "filtered_label0 = core_pred[core_pred['cluster'] == 0]\n",
    "filtered_label1 = core_pred[core_pred['cluster'] == 1]\n",
    "filtered_label2 = core_pred[core_pred['cluster'] == 2]\n",
    "#filtered_label3 = core_pred[core_pred['cluster'] == 3]"
   ]
  },
  {
   "cell_type": "code",
   "execution_count": null,
   "id": "22951bdf",
   "metadata": {
    "scrolled": false
   },
   "outputs": [],
   "source": [
    "fs = 12\n",
    "\n",
    "#markers - https://matplotlib.org/stable/api/markers_api.html\n",
    "fig, axes = plt.subplots(nrows = 1, ncols = 1, figsize = (5,3), dpi = 150,)\n",
    "plt.scatter(filtered_label0['Porosity (%)'], filtered_label0['K (mD)'], marker='o')\n",
    "plt.scatter(filtered_label1['Porosity (%)'], filtered_label1['K (mD)'], marker='v')\n",
    "plt.scatter(filtered_label2['Porosity (%)'], filtered_label2['K (mD)'], marker='+')\n",
    "#plt.scatter(filtered_label3['Porosity (%)'], filtered_label3['K (mD)'], marker='s')\n",
    "\n",
    "x_pts = list(range(0,20,1))\n",
    "\n",
    "#Line styles - https://matplotlib.org/2.0.2/api/lines_api.html\n",
    "p = np.polyfit(np.log(filtered_label0['Porosity (%)']), np.log(filtered_label0['K (mD)']), 1)\n",
    "f = np.poly1d(p)\n",
    "plt.semilogy(x_pts, np.exp(p[0] * np.log(x_pts) + p[1]), 'k-', linewidth = 1.5)\n",
    "plt.text(12.5, 15, r'Equation ={}'.format(f), fontsize = fs/1.5, bbox=dict(facecolor='white', alpha=0.25))\n",
    "\n",
    "p = np.polyfit(np.log(filtered_label1['Porosity (%)']), np.log(filtered_label1['K (mD)']), 1)\n",
    "f = np.poly1d(p)\n",
    "plt.semilogy(x_pts, np.exp(p[0] * np.log(x_pts) + p[1]), 'k--', linewidth = 1.5)\n",
    "plt.text(6, 0.5, r'Equation ={}'.format(f), fontsize = fs/1.5, bbox=dict(facecolor='white', alpha=0.25))\n",
    "\n",
    "p = np.polyfit(np.log(filtered_label2['Porosity (%)']), np.log(filtered_label2['K (mD)']), 1)\n",
    "f = np.poly1d(p)\n",
    "plt.semilogy(x_pts, np.exp(p[0] * np.log(x_pts) + p[1]), 'k-.', linewidth = 1.5)\n",
    "plt.text(17.8, 200, r'Equation ={}'.format(f), fontsize = fs/1.5, bbox=dict(facecolor='white', alpha=0.5))\n",
    "\n",
    "# p = np.polyfit(np.log(filtered_label3['Porosity (%)']), np.log(filtered_label3['K (mD)']), 1)\n",
    "# f = np.poly1d(p)\n",
    "# plt.semilogy(filtered_label3['Porosity (%)'], np.exp(p[0] * np.log(filtered_label3['Porosity (%)']) + p[1]), 'k.', linewidth = 1.5)\n",
    "# plt.text(17.8, 200, r'Equation ={}'.format(f), fontsize = fs/1.5, bbox=dict(facecolor='white', alpha=0.5))\n",
    "\n",
    "plt.yscale('log')\n",
    "plt.xlim(0, xlimit)\n",
    "plt.ylim(1, ylimit)\n",
    "plt.xticks(fontsize=fs-3)\n",
    "plt.xlabel('Porosity (%)',fontsize=fs)\n",
    "plt.ylabel('Permeability (mD)',fontsize=fs)\n",
    "plt.title('Cluster Distribution',fontsize=fs+2)\n",
    "plt.grid(True)\n",
    "\n",
    "plt.savefig('Cluster_Dist.png', transparent=True)"
   ]
  },
  {
   "cell_type": "code",
   "execution_count": null,
   "id": "1f84bc8f",
   "metadata": {},
   "outputs": [],
   "source": [
    "count = 'Completed Process'\n",
    "elapsed = (time.time() - start)\n",
    "print (\"%s in %s seconds\" % (count,elapsed))"
   ]
  }
 ],
 "metadata": {
  "kernelspec": {
   "display_name": "Python 3 (ipykernel)",
   "language": "python",
   "name": "python3"
  },
  "language_info": {
   "codemirror_mode": {
    "name": "ipython",
    "version": 3
   },
   "file_extension": ".py",
   "mimetype": "text/x-python",
   "name": "python",
   "nbconvert_exporter": "python",
   "pygments_lexer": "ipython3",
   "version": "3.9.12"
  }
 },
 "nbformat": 4,
 "nbformat_minor": 5
}
