{
 "cells": [
  {
   "cell_type": "markdown",
   "id": "d789d3f3",
   "metadata": {},
   "source": [
    "<a href=\"https://www.spe.org/events/en/2022/conference/22apog/asia-pacific-oil-and-gas-conference-and-exhibition.html\"><img src = \"https://www.spe.org/binaries/content/gallery/specms/speevents/organization-logos/spe-logo-2020.png\" width = 200> \n",
    "\n",
    "<h1 align=center><font size = 5>Prediction of Recovery Factor using Machine Learning Methods</font></h1>"
   ]
  },
  {
   "cell_type": "markdown",
   "id": "031e52d8",
   "metadata": {},
   "source": [
    "<h1 align=center><font size = 4> Munish Kumar, Kannapan Swaminathan</font></h1>\n",
    "<h1 align=center><font size = 4> Part 5: Prediction of Recovery Factor</font></h1>\n",
    "<h1 align=center><font size = 3> ERCE 2022 </font></h1>"
   ]
  },
  {
   "cell_type": "markdown",
   "id": "d78a214f",
   "metadata": {},
   "source": [
    "#### Libraries"
   ]
  },
  {
   "cell_type": "code",
   "execution_count": null,
   "id": "1f268e6b",
   "metadata": {},
   "outputs": [],
   "source": [
    "# Only install the following libraries if you dont have it, otherwise leave it commented out\n",
    "\n",
    "#!conda install -c anaconda natsort --yes\n",
    "#!conda install -c anaconda xlrd --yes\n",
    "#!pip install pycaret[full] --user\n",
    "#!pip install mlflow --user\n",
    "#!pip install tune-sklearn ray[tune] --user\n",
    "#!pip install optuna -- user\n",
    "#!pip install hyperopt --user\n",
    "\n",
    "# General Libraries\n",
    "import itertools\n",
    "import pandas as pd\n",
    "import numpy as np\n",
    "import matplotlib.pyplot as plt\n",
    "import matplotlib.ticker as ticker\n",
    "from matplotlib.ticker import NullFormatter\n",
    "import time\n",
    "import re\n",
    "import requests\n",
    "import pickle\n",
    "import seaborn as sns\n",
    "import os\n",
    "import glob\n",
    "import sys\n",
    "from natsort import natsorted\n",
    "sns.set()\n",
    "\n",
    "import plotly.graph_objects as go\n",
    "import plotly.express as px\n",
    "import warnings\n",
    "warnings.filterwarnings('ignore')\n",
    "\n",
    "# Sklearn Liraries\n",
    "from sklearn import preprocessing\n",
    "\n",
    "import datetime\n",
    "from datetime import timedelta, date \n",
    "start = time.time()\n",
    "%matplotlib inline\n",
    "\n",
    "import ray\n",
    "from ray import tune\n",
    "\n",
    "# Forces the print statement to show everything and not truncate\n",
    "# np.set_printoptions(threshold=sys.maxsize) \n",
    "print('Libraries imported')"
   ]
  },
  {
   "cell_type": "code",
   "execution_count": null,
   "id": "25c9c9bd",
   "metadata": {},
   "outputs": [],
   "source": [
    "# Function to read out file\n",
    "def file_out(df, dir_name, base_filename, filename_suffix):\n",
    "    try:\n",
    "        csvs_sht = os.path.join(dir_name, base_filename + \".\" + filename_suffix)\n",
    "        df.to_csv(csvs_sht, index = False, header=True)\n",
    "        print (\"Final File Extract Produced\")\n",
    "    except IOError:\n",
    "        print(\"I/O error\")\n",
    "    return"
   ]
  },
  {
   "cell_type": "markdown",
   "id": "afe91139",
   "metadata": {},
   "source": [
    "###### Declare some global variables"
   ]
  },
  {
   "cell_type": "code",
   "execution_count": null,
   "id": "9b3d2afc",
   "metadata": {},
   "outputs": [],
   "source": [
    "#Input Data\n",
    "#dir_name = r'C:\\Users\\kswaminathan\\OneDrive\\01_KannaLibrary\\15_Analogs'\n",
    "dir_name = r'C:\\Users\\mkumar\\Documents\\GitHub\\SPE_Paper\\Final'\n",
    "filename_suffix = 'csv'"
   ]
  },
  {
   "cell_type": "markdown",
   "id": "854740fe",
   "metadata": {},
   "source": [
    "##### Read in the data "
   ]
  },
  {
   "cell_type": "code",
   "execution_count": null,
   "id": "5b8e1915",
   "metadata": {},
   "outputs": [],
   "source": [
    "skiprows = 0\n",
    "dfblind = pd.read_excel(\"BlindTest_SSOIL.xlsx\", sheet_name='Inputs', thousands=',', skiprows = skiprows)\n",
    "#dfblind = dfblind.loc[:, ~df.columns.str.contains('^Unnamed')] \n",
    "#dfblind_ori = dfblind.copy()\n",
    "dfblind.drop('307_Recovery factor (ultimate oil) (%)', axis=1, inplace=True)\n",
    "dfblind.dropna(axis = 0, inplace=True)\n",
    "\n",
    "dfblind.head(10)"
   ]
  },
  {
   "cell_type": "markdown",
   "id": "de14c600",
   "metadata": {},
   "source": [
    "## Load the Model"
   ]
  },
  {
   "cell_type": "code",
   "execution_count": null,
   "id": "0523a947",
   "metadata": {},
   "outputs": [],
   "source": [
    "from pycaret.regression import load_model\n",
    "from pycaret.regression import predict_model\n",
    "\n",
    "from functools import reduce\n",
    "\n",
    "final_blend = load_model('Blended_model_21042022')\n",
    "final_db = load_model('Boosted_CatBoost_21042022')\n",
    "final_gbr = load_model('Boosted_GBR_21042022')\n",
    "final_rf = load_model('Boosted_RF_21042022')"
   ]
  },
  {
   "cell_type": "code",
   "execution_count": null,
   "id": "d3658a3e",
   "metadata": {},
   "outputs": [],
   "source": [
    "print(final_blend)"
   ]
  },
  {
   "cell_type": "code",
   "execution_count": null,
   "id": "0c842236",
   "metadata": {
    "scrolled": true
   },
   "outputs": [],
   "source": [
    "BlindPredict1 = predict_model(final_blend, data=dfblind, round=2)\n",
    "BlindPredict2 = predict_model(final_db, data=dfblind, round=2)\n",
    "BlindPredict3 = predict_model(final_gbr, data=dfblind, round=2)\n",
    "BlindPredict4 = predict_model(final_rf, data=dfblind, round=2)\n",
    "\n",
    "BlindPredict1 = BlindPredict1.rename(columns={'Label': 'Blended Predicted Recovery factor (ultimate oil) (%)'\n",
    "                                 })\n",
    "BlindPredict2 = BlindPredict2.rename(columns={'Label': 'CatBoost Predicted Recovery factor (ultimate oil) (%)'\n",
    "                                 })\n",
    "BlindPredict3 = BlindPredict3.rename(columns={'Label': 'Gradient Boost Predicted Recovery factor (ultimate oil) (%)'\n",
    "                                 })\n",
    "BlindPredict4 = BlindPredict4.rename(columns={'Label': 'Random Forest Predicted Recovery factor (ultimate oil) (%)'\n",
    "                                 })\n",
    "\n",
    "BlindPredict_df = [BlindPredict1, BlindPredict2, BlindPredict3, BlindPredict4]\n",
    "\n",
    "BlindPredict = pd.concat(BlindPredict_df, axis = 0, join = 'outer').drop_duplicates()\n",
    "BlindPredict = BlindPredict.reset_index(drop=True)\n",
    "\n",
    "BlindPredict"
   ]
  },
  {
   "cell_type": "code",
   "execution_count": null,
   "id": "b11ea7b7",
   "metadata": {},
   "outputs": [],
   "source": [
    "aggregation_functions = {\n",
    "    'Blended Predicted Recovery factor (ultimate oil) (%)': 'sum', \n",
    "    'CatBoost Predicted Recovery factor (ultimate oil) (%)': 'sum',\n",
    "    'Gradient Boost Predicted Recovery factor (ultimate oil) (%)': 'sum',\n",
    "    'Random Forest Predicted Recovery factor (ultimate oil) (%)': 'sum',\n",
    "}\n",
    "\n",
    "labels = dfblind.columns.tolist()\n",
    "\n",
    "BlindPredict_new = BlindPredict.groupby(labels).aggregate(aggregation_functions)\n",
    "\n",
    "file_out(BlindPredict, dir_name, 'Blind_Test_Out' , filename_suffix)\n",
    "\n",
    "BlindPredict_new"
   ]
  }
 ],
 "metadata": {
  "kernelspec": {
   "display_name": "Python 3 (ipykernel)",
   "language": "python",
   "name": "python3"
  },
  "language_info": {
   "codemirror_mode": {
    "name": "ipython",
    "version": 3
   },
   "file_extension": ".py",
   "mimetype": "text/x-python",
   "name": "python",
   "nbconvert_exporter": "python",
   "pygments_lexer": "ipython3",
   "version": "3.8.13"
  }
 },
 "nbformat": 4,
 "nbformat_minor": 5
}
