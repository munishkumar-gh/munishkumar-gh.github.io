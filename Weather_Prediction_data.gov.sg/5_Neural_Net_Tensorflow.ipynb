{
 "cells": [
  {
   "cell_type": "markdown",
   "metadata": {},
   "source": [
    "# Tensorflow to generate Neural Net"
   ]
  },
  {
   "cell_type": "markdown",
   "metadata": {},
   "source": [
    "In the workbook '4_Supervised_Classification', a series of machine learning algoritms were applied, with the conclusion that the SVM had the highest accuracy\n",
    "\n",
    "Using tensortflow, I will compare the accuracy of this method against the SVM."
   ]
  },
  {
   "cell_type": "markdown",
   "metadata": {},
   "source": [
    "### Import the relevant libraries"
   ]
  },
  {
   "cell_type": "code",
   "execution_count": 1,
   "metadata": {},
   "outputs": [
    {
     "name": "stdout",
     "output_type": "stream",
     "text": [
      "Libraries imported\n"
     ]
    }
   ],
   "source": [
    "# General Libraries\n",
    "import itertools\n",
    "import numpy as np\n",
    "import time\n",
    "import pickle\n",
    "import os\n",
    "import glob\n",
    "import sys\n",
    "\n",
    "# plotting\n",
    "import matplotlib.pyplot as plt\n",
    "import matplotlib.image as mpimg\n",
    "import matplotlib.ticker as ticker\n",
    "from matplotlib.ticker import NullFormatter\n",
    "%matplotlib inline\n",
    "\n",
    "#sklearn\n",
    "from sklearn.metrics import classification_report, confusion_matrix\n",
    "\n",
    "import seaborn as sns\n",
    "sns.set()\n",
    "\n",
    "import tensorflow as tf\n",
    "\n",
    "# Forces the print statement to show everything and not truncate\n",
    "# np.set_printoptions(threshold=sys.maxsize) \n",
    "start = time.time()\n",
    "print('Libraries imported')"
   ]
  },
  {
   "cell_type": "markdown",
   "metadata": {},
   "source": [
    "### Data"
   ]
  },
  {
   "cell_type": "code",
   "execution_count": 2,
   "metadata": {},
   "outputs": [],
   "source": [
    "# Extract inputs to temp sets\n",
    "#npz1 = np.load('Train_Set.npz')\n",
    "npz2 = np.load('Train_Set_Bool.npz')\n",
    "#npz3 = np.load('Test_Set.npz')\n",
    "npz4 = np.load('Test_Set_Bool.npz')\n",
    "\n",
    "# To see headers in files\n",
    "#for k in npz3.files:\n",
    "#    print(k)"
   ]
  },
  {
   "cell_type": "code",
   "execution_count": 3,
   "metadata": {},
   "outputs": [],
   "source": [
    "# Inputs in npz are extracted to relevant sets\n",
    "# Variables cast to type to ensure format is correct\n",
    "#train_inputs=npz1['inputs'].astype(np.float)\n",
    "#train_targets=npz1['targets'].astype(np.int)\n",
    "#validate_inputs=npz3['inputs'].astype(np.float)\n",
    "#validate_targets=npz3['targets'].astype(np.int)\n",
    "\n",
    "train_inputs_bool=npz2['inputs'].astype(np.float)\n",
    "train_targets_bool=npz2['targets'].astype(np.int)\n",
    "validate_inputs_bool=npz4['inputs'].astype(np.float)\n",
    "validate_targets_bool=npz4['targets'].astype(np.int)"
   ]
  },
  {
   "cell_type": "code",
   "execution_count": 4,
   "metadata": {},
   "outputs": [
    {
     "name": "stdout",
     "output_type": "stream",
     "text": [
      "[0 1 2] 3\n",
      "[0 1 2] 3\n"
     ]
    }
   ],
   "source": [
    "#print(np.unique(train_targets), len(np.unique(train_targets)))\n",
    "#print(np.unique(test_targets), len(np.unique(test_targets)))\n",
    "print(np.unique(train_targets_bool), len(np.unique(train_targets_bool)))\n",
    "print(np.unique(validate_targets_bool), len(np.unique(validate_targets_bool)))"
   ]
  },
  {
   "cell_type": "markdown",
   "metadata": {},
   "source": [
    "### Model\n",
    "In this section, I will cover the following:\n",
    "1. Outline of the model\n",
    "2. Optimizers & loss funtion\n",
    "3. Early stopping and training"
   ]
  },
  {
   "cell_type": "code",
   "execution_count": 5,
   "metadata": {},
   "outputs": [],
   "source": [
    "# Intialize hyperparameters learning rate, epochs and batch size\n",
    "epochs = 20 # Too large a value will overfit\n",
    "batch_size = 10 # mini-batch gradient descent\n",
    "\n",
    "# Learning rate - should be high enough so we dont iterate forever\n",
    "# but also low enough so we dont osciallate about local min\n",
    "# Looking for global min\n",
    "init_lr = 1e-3\n",
    "\n",
    "# Input size is dependent on number of inputs, output size on number of \n",
    "# outputs and hidden layer size is kept constant for every dense layer\n",
    "input_size = 12\n",
    "output_size = 3 \n",
    "hidden_layer_size = 50 # Width of the hidden layer"
   ]
  },
  {
   "cell_type": "markdown",
   "metadata": {},
   "source": [
    "I will start with a model that is 3 layers 'depth'. The 'Hidden layer' is defined as a combination of linear + non-linear function, and is created using tf.keras.layers.Dense. \n",
    "\n",
    "This is basically implementing: output = activation(dot(input, weight) + bias). \n",
    "\n",
    "The function takes several arguments, but the most critical ones are the hidden_layer_size and the activation function"
   ]
  },
  {
   "cell_type": "code",
   "execution_count": 6,
   "metadata": {},
   "outputs": [],
   "source": [
    "# Outline the model will look like\n",
    "model = tf.keras.Sequential([\n",
    "    tf.keras.layers.Dense(hidden_layer_size, activation='sigmoid'), # 1st hidden layer\n",
    "    tf.keras.layers.Dense(hidden_layer_size, activation='sigmoid'), # 2nd hidden layer\n",
    "    tf.keras.layers.Dense(hidden_layer_size, activation='sigmoid'), # 3rd hidden layer\n",
    "    # the final layer is activated with softmax\n",
    "    tf.keras.layers.Dense(output_size, activation='softmax'), # output layer\n",
    "])\n",
    "\n",
    "\n",
    "# Using the optimizer which is the \"Adaptive Momentum Estimate (adam)\"\n",
    "# and determining the Loss function as the 'sparse_categorical_crossentropy'\n",
    "# produce the metric 'accuracy' per iteration.\n",
    "model.compile(optimizer='adam', loss='sparse_categorical_crossentropy',\n",
    "             metrics=['accuracy'])"
   ]
  },
  {
   "cell_type": "markdown",
   "metadata": {},
   "source": [
    "### Training"
   ]
  },
  {
   "cell_type": "code",
   "execution_count": 7,
   "metadata": {},
   "outputs": [
    {
     "name": "stdout",
     "output_type": "stream",
     "text": [
      "Train on 259 samples, validate on 112 samples\n",
      "Epoch 1/20\n",
      "259/259 - 0s - loss: 0.9910 - accuracy: 0.3745 - val_loss: 0.0677 - val_accuracy: 0.6000\n",
      "Epoch 2/20\n",
      "259/259 - 0s - loss: 0.8190 - accuracy: 0.5097 - val_loss: 0.0631 - val_accuracy: 1.0000\n",
      "Epoch 3/20\n",
      "259/259 - 0s - loss: 0.7987 - accuracy: 0.6139 - val_loss: 0.0593 - val_accuracy: 0.8000\n",
      "Epoch 4/20\n",
      "259/259 - 0s - loss: 0.7810 - accuracy: 0.6255 - val_loss: 0.0559 - val_accuracy: 1.0000\n",
      "Epoch 5/20\n",
      "259/259 - 0s - loss: 0.7596 - accuracy: 0.6795 - val_loss: 0.0514 - val_accuracy: 1.0000\n",
      "Epoch 6/20\n",
      "259/259 - 0s - loss: 0.7209 - accuracy: 0.7066 - val_loss: 0.0455 - val_accuracy: 1.0000\n",
      "Epoch 7/20\n",
      "259/259 - 0s - loss: 0.6869 - accuracy: 0.7220 - val_loss: 0.0389 - val_accuracy: 0.9000\n",
      "Epoch 8/20\n",
      "259/259 - 0s - loss: 0.6519 - accuracy: 0.7606 - val_loss: 0.0347 - val_accuracy: 1.0000\n",
      "Epoch 9/20\n",
      "259/259 - 0s - loss: 0.6310 - accuracy: 0.7413 - val_loss: 0.0304 - val_accuracy: 1.0000\n",
      "Epoch 10/20\n",
      "259/259 - 0s - loss: 0.6059 - accuracy: 0.7722 - val_loss: 0.0269 - val_accuracy: 1.0000\n",
      "Epoch 11/20\n",
      "259/259 - 0s - loss: 0.5897 - accuracy: 0.7606 - val_loss: 0.0249 - val_accuracy: 1.0000\n",
      "Epoch 12/20\n",
      "259/259 - 0s - loss: 0.5776 - accuracy: 0.7799 - val_loss: 0.0226 - val_accuracy: 1.0000\n",
      "Epoch 13/20\n",
      "259/259 - 0s - loss: 0.5677 - accuracy: 0.7683 - val_loss: 0.0230 - val_accuracy: 1.0000\n",
      "Epoch 14/20\n",
      "259/259 - 0s - loss: 0.5607 - accuracy: 0.7722 - val_loss: 0.0207 - val_accuracy: 1.0000\n",
      "Epoch 15/20\n",
      "259/259 - 0s - loss: 0.5527 - accuracy: 0.7876 - val_loss: 0.0198 - val_accuracy: 1.0000\n",
      "Epoch 16/20\n",
      "259/259 - 0s - loss: 0.5403 - accuracy: 0.7954 - val_loss: 0.0197 - val_accuracy: 1.0000\n",
      "Epoch 17/20\n",
      "259/259 - 0s - loss: 0.5363 - accuracy: 0.7915 - val_loss: 0.0188 - val_accuracy: 1.0000\n",
      "Epoch 18/20\n",
      "259/259 - 0s - loss: 0.5283 - accuracy: 0.7876 - val_loss: 0.0187 - val_accuracy: 1.0000\n",
      "Epoch 19/20\n",
      "259/259 - 0s - loss: 0.5247 - accuracy: 0.7992 - val_loss: 0.0181 - val_accuracy: 1.0000\n",
      "Epoch 20/20\n",
      "259/259 - 0s - loss: 0.5219 - accuracy: 0.7876 - val_loss: 0.0178 - val_accuracy: 1.0000\n"
     ]
    },
    {
     "data": {
      "text/plain": [
       "<tensorflow.python.keras.callbacks.History at 0x19d9eca4e08>"
      ]
     },
     "execution_count": 7,
     "metadata": {},
     "output_type": "execute_result"
    }
   ],
   "source": [
    "# Moniter validation loss and set an early stopping mechanism \n",
    "# once there is an increase. At patience=2, will be tolerant \n",
    "# against random validation loss increases and will allow x\n",
    "# consecutive increases\n",
    "early_stopping = tf.keras.callbacks.EarlyStopping(patience=2)\n",
    "\n",
    "model.fit(train_inputs_bool, train_targets_bool,\n",
    "         batch_size = batch_size,\n",
    "         epochs=epochs,\n",
    "         callbacks=[early_stopping],\n",
    "         validation_data = (validate_inputs_bool, validate_targets_bool),\n",
    "         validation_steps = 1,\n",
    "         verbose = 2\n",
    "         )"
   ]
  },
  {
   "cell_type": "markdown",
   "metadata": {},
   "source": [
    "After training on the training data and validating on the validation data, we obtain an accuracy of ~0.78. This will be the final model; no further adjustments will now be made. Parameters are:\n",
    "\n",
    " - epochs = 20\n",
    " - batch_size = 10\n",
    " - init_lr = 1e-3\n",
    " - input_size = 12\n",
    " - output_size = 3 \n",
    " - hidden_layer_size = 50\n",
    "\n",
    "I will now test the final prediction power of the model by running it on the test dataset that the algorithm has NEVER seen before.\n",
    "\n",
    "It is very important to do this, as modifying the hyperparameters can potentially cause an overfit in the validation dataset. The test is the absolute final instance. "
   ]
  },
  {
   "cell_type": "markdown",
   "metadata": {},
   "source": [
    "## Test the model"
   ]
  },
  {
   "cell_type": "code",
   "execution_count": 8,
   "metadata": {},
   "outputs": [
    {
     "name": "stdout",
     "output_type": "stream",
     "text": [
      "Validation Set:     Year-month  temp_mean_daily_min  temp_extremes_min  temp_mean_daily_max  \\\n",
      "7  1982-08-01                 26.1               21.9                 31.1   \n",
      "8  1982-09-01                 25.8               23.5                 31.4   \n",
      "13 1983-02-01                 26.0               23.1                 33.1   \n",
      "17 1983-06-01                 25.8               21.3                 31.9   \n",
      "19 1983-08-01                 26.1               22.1                 31.5   \n",
      "\n",
      "    mean_temp  max_temperature  mean_sunshine_hrs  wet_bulb_temperature  \\\n",
      "7        27.7             33.2                5.4                  25.4   \n",
      "8        27.9             33.2                5.2                  25.0   \n",
      "13       28.1             34.6                9.3                  25.5   \n",
      "17       28.3             33.6                5.9                  25.3   \n",
      "19       28.1             32.7                6.3                  25.1   \n",
      "\n",
      "    maximum_rainfall_in_a_day  total_rainfall  rh_extremes_minimum  mean_rh  \\\n",
      "7                        57.7           169.5                 52.0     80.4   \n",
      "8                        18.0            54.1                 49.0     80.6   \n",
      "13                        5.1             5.6                 41.0     78.0   \n",
      "17                       27.7            94.0                 51.0     82.4   \n",
      "19                      181.8           262.2                 44.0     81.2   \n",
      "\n",
      "    no_of_rainy_days  month  Year  Prob_rain  \n",
      "7               11.0      8  1982          1  \n",
      "8                9.0      9  1982          1  \n",
      "13               2.0      2  1983          0  \n",
      "17              11.0      6  1983          1  \n",
      "19              10.0      8  1983          1  \n",
      "Shape Validation Set:  (88, 16)\n"
     ]
    }
   ],
   "source": [
    "validate_set  = pickle.load(open(\"validate_set\", \"rb\"))\n",
    "print('Validation Set: ', validate_set[0:5])\n",
    "print('Shape Validation Set: ', validate_set.shape)"
   ]
  },
  {
   "cell_type": "code",
   "execution_count": 9,
   "metadata": {},
   "outputs": [
    {
     "data": {
      "text/html": [
       "<div>\n",
       "<style scoped>\n",
       "    .dataframe tbody tr th:only-of-type {\n",
       "        vertical-align: middle;\n",
       "    }\n",
       "\n",
       "    .dataframe tbody tr th {\n",
       "        vertical-align: top;\n",
       "    }\n",
       "\n",
       "    .dataframe thead th {\n",
       "        text-align: right;\n",
       "    }\n",
       "</style>\n",
       "<table border=\"1\" class=\"dataframe\">\n",
       "  <thead>\n",
       "    <tr style=\"text-align: right;\">\n",
       "      <th></th>\n",
       "      <th>temp_mean_daily_min</th>\n",
       "      <th>temp_extremes_min</th>\n",
       "      <th>temp_mean_daily_max</th>\n",
       "      <th>mean_temp</th>\n",
       "      <th>max_temperature</th>\n",
       "      <th>mean_sunshine_hrs</th>\n",
       "      <th>wet_bulb_temperature</th>\n",
       "      <th>maximum_rainfall_in_a_day</th>\n",
       "      <th>total_rainfall</th>\n",
       "      <th>rh_extremes_minimum</th>\n",
       "      <th>mean_rh</th>\n",
       "      <th>month</th>\n",
       "    </tr>\n",
       "  </thead>\n",
       "  <tbody>\n",
       "    <tr>\n",
       "      <th>7</th>\n",
       "      <td>26.1</td>\n",
       "      <td>21.9</td>\n",
       "      <td>31.1</td>\n",
       "      <td>27.7</td>\n",
       "      <td>33.2</td>\n",
       "      <td>5.4</td>\n",
       "      <td>25.4</td>\n",
       "      <td>57.7</td>\n",
       "      <td>169.5</td>\n",
       "      <td>52.0</td>\n",
       "      <td>80.4</td>\n",
       "      <td>8</td>\n",
       "    </tr>\n",
       "    <tr>\n",
       "      <th>8</th>\n",
       "      <td>25.8</td>\n",
       "      <td>23.5</td>\n",
       "      <td>31.4</td>\n",
       "      <td>27.9</td>\n",
       "      <td>33.2</td>\n",
       "      <td>5.2</td>\n",
       "      <td>25.0</td>\n",
       "      <td>18.0</td>\n",
       "      <td>54.1</td>\n",
       "      <td>49.0</td>\n",
       "      <td>80.6</td>\n",
       "      <td>9</td>\n",
       "    </tr>\n",
       "    <tr>\n",
       "      <th>13</th>\n",
       "      <td>26.0</td>\n",
       "      <td>23.1</td>\n",
       "      <td>33.1</td>\n",
       "      <td>28.1</td>\n",
       "      <td>34.6</td>\n",
       "      <td>9.3</td>\n",
       "      <td>25.5</td>\n",
       "      <td>5.1</td>\n",
       "      <td>5.6</td>\n",
       "      <td>41.0</td>\n",
       "      <td>78.0</td>\n",
       "      <td>2</td>\n",
       "    </tr>\n",
       "    <tr>\n",
       "      <th>17</th>\n",
       "      <td>25.8</td>\n",
       "      <td>21.3</td>\n",
       "      <td>31.9</td>\n",
       "      <td>28.3</td>\n",
       "      <td>33.6</td>\n",
       "      <td>5.9</td>\n",
       "      <td>25.3</td>\n",
       "      <td>27.7</td>\n",
       "      <td>94.0</td>\n",
       "      <td>51.0</td>\n",
       "      <td>82.4</td>\n",
       "      <td>6</td>\n",
       "    </tr>\n",
       "    <tr>\n",
       "      <th>19</th>\n",
       "      <td>26.1</td>\n",
       "      <td>22.1</td>\n",
       "      <td>31.5</td>\n",
       "      <td>28.1</td>\n",
       "      <td>32.7</td>\n",
       "      <td>6.3</td>\n",
       "      <td>25.1</td>\n",
       "      <td>181.8</td>\n",
       "      <td>262.2</td>\n",
       "      <td>44.0</td>\n",
       "      <td>81.2</td>\n",
       "      <td>8</td>\n",
       "    </tr>\n",
       "  </tbody>\n",
       "</table>\n",
       "</div>"
      ],
      "text/plain": [
       "    temp_mean_daily_min  temp_extremes_min  temp_mean_daily_max  mean_temp  \\\n",
       "7                  26.1               21.9                 31.1       27.7   \n",
       "8                  25.8               23.5                 31.4       27.9   \n",
       "13                 26.0               23.1                 33.1       28.1   \n",
       "17                 25.8               21.3                 31.9       28.3   \n",
       "19                 26.1               22.1                 31.5       28.1   \n",
       "\n",
       "    max_temperature  mean_sunshine_hrs  wet_bulb_temperature  \\\n",
       "7              33.2                5.4                  25.4   \n",
       "8              33.2                5.2                  25.0   \n",
       "13             34.6                9.3                  25.5   \n",
       "17             33.6                5.9                  25.3   \n",
       "19             32.7                6.3                  25.1   \n",
       "\n",
       "    maximum_rainfall_in_a_day  total_rainfall  rh_extremes_minimum  mean_rh  \\\n",
       "7                        57.7           169.5                 52.0     80.4   \n",
       "8                        18.0            54.1                 49.0     80.6   \n",
       "13                        5.1             5.6                 41.0     78.0   \n",
       "17                       27.7            94.0                 51.0     82.4   \n",
       "19                      181.8           262.2                 44.0     81.2   \n",
       "\n",
       "    month  \n",
       "7       8  \n",
       "8       9  \n",
       "13      2  \n",
       "17      6  \n",
       "19      8  "
      ]
     },
     "execution_count": 9,
     "metadata": {},
     "output_type": "execute_result"
    }
   ],
   "source": [
    "Feature = validate_set[[\n",
    "    'temp_mean_daily_min', 'temp_extremes_min', 'temp_mean_daily_max', 'mean_temp', \n",
    "    'max_temperature', 'mean_sunshine_hrs', 'wet_bulb_temperature', 'maximum_rainfall_in_a_day', \n",
    "    'total_rainfall', 'rh_extremes_minimum', 'mean_rh', 'month'\n",
    "]]\n",
    "a=Feature\n",
    "a.head()"
   ]
  },
  {
   "cell_type": "code",
   "execution_count": 10,
   "metadata": {},
   "outputs": [
    {
     "name": "stdout",
     "output_type": "stream",
     "text": [
      "Normalized Test Set:  [[ 0.87561346 -1.14120547 -0.47950557 -0.01400913 -0.28471983 -0.24439754\n",
      "   0.29516771  0.19785743  0.03828159  0.31999354 -0.45419571  0.39841309]\n",
      " [ 0.43780673  1.14770806 -0.1317323   0.25994713 -0.28471983 -0.39639035\n",
      "  -0.52293491 -0.88745378 -0.93482784 -0.1655139  -0.39841173  0.6834566 ]\n",
      " [ 0.72967789  0.57547968  1.83898289  0.53390339  1.6320825   2.71946234\n",
      "   0.49969336 -1.24011158 -1.34380364 -1.46020041 -1.12360349 -1.31184798]\n",
      " [ 0.43780673 -1.99954804  0.44788982  0.80785965  0.26293798  0.1355845\n",
      "   0.09064205 -0.62227699 -0.59837146  0.15815773  0.1036441  -0.17167393]\n",
      " [ 0.87561346 -0.85509128 -0.01580788  0.53390339 -0.96929209  0.43957013\n",
      "  -0.31840926  3.59048011  0.81997348 -0.97469297 -0.23105979  0.39841309]]\n"
     ]
    }
   ],
   "source": [
    "# Sklearn Liraries\n",
    "from sklearn import preprocessing\n",
    "\n",
    "b = validate_set['no_of_rainy_days'].values\n",
    "b_bool = validate_set['Prob_rain'].values\n",
    "\n",
    "# Normalize to give 0 mean and unit variance\n",
    "A_norm=preprocessing.StandardScaler().fit(a).transform(a)\n",
    "print('Normalized Test Set: ', A_norm[0:5])"
   ]
  },
  {
   "cell_type": "code",
   "execution_count": 11,
   "metadata": {},
   "outputs": [
    {
     "name": "stdout",
     "output_type": "stream",
     "text": [
      "88/88 [==============================] - 0s 68us/sample - loss: 0.5125 - accuracy: 0.7273\n"
     ]
    }
   ],
   "source": [
    "test_loss, test_acc = model.evaluate(A_norm, b_bool)"
   ]
  },
  {
   "cell_type": "code",
   "execution_count": 12,
   "metadata": {},
   "outputs": [
    {
     "data": {
      "text/plain": [
       "array([2, 1, 1, 1, 2, 2, 1, 1, 1, 1, 2, 2, 1, 1, 1, 2, 1, 1, 1, 2, 2, 1,\n",
       "       1, 2, 1, 1, 2, 1, 2, 2, 2, 1, 2, 2, 1, 1, 1, 2, 2, 2, 2, 2, 1, 2,\n",
       "       1, 2, 2, 2, 1, 2, 2, 1, 1, 1, 2, 2, 2, 2, 2, 2, 2, 1, 2, 1, 2, 1,\n",
       "       1, 2, 2, 1, 1, 1, 1, 2, 1, 1, 1, 2, 1, 1, 2, 2, 1, 1, 1, 1, 1, 1],\n",
       "      dtype=int64)"
      ]
     },
     "execution_count": 12,
     "metadata": {},
     "output_type": "execute_result"
    }
   ],
   "source": [
    "# Predict classes of new data\n",
    "b_pred = model.predict_classes(A_norm)\n",
    "b_pred"
   ]
  },
  {
   "cell_type": "code",
   "execution_count": 13,
   "metadata": {},
   "outputs": [],
   "source": [
    "# Look at it in a confusion matrix\n",
    "def plot_conf_mat(cnf_matrix, classes, normalize, cmap, width, height):\n",
    "    plt.figure(figsize=(width, height))\n",
    "    if normalize == True:\n",
    "        # np.newaxis - make it as column vector by inserting an axis \n",
    "        # along second dimension\n",
    "        cnf_matrix = cnf_matrix.astype('float')/ cnf_matrix.sum(\n",
    "            axis=1)[:,np.newaxis]\n",
    "        print(\"Normalized Confusion Matrix\")\n",
    "    else:\n",
    "        print(\"Confusion Matrix, non-normalized\")\n",
    "    \n",
    "    #imshow() - creates image from 2D numpy array.\n",
    "    plt.imshow(cnf_matrix, interpolation = 'nearest', cmap=cmap)\n",
    "    plt.title('Confusion Matrix')\n",
    "    plt.colorbar()\n",
    "    tick_marks = np.arange(len(classes))\n",
    "    plt.xticks (tick_marks, classes, rotation=45)\n",
    "    plt.yticks (tick_marks, classes)\n",
    "    \n",
    "    fmt = '.2f'if normalize else 'd'\n",
    "    thres = cnf_matrix.max()/2\n",
    "    for i, j in itertools.product(range(cnf_matrix.shape[0]), range(cnf_matrix.shape[1])):\n",
    "        plt.text(j, i, format(cnf_matrix[i, j], fmt),\n",
    "                 horizontalalignment='center',\n",
    "                 fontsize=20,\n",
    "                 color = 'yellow' if cnf_matrix[i, j] > thres else 'white'\n",
    "                )\n",
    "    # plt.tight_layout()\n",
    "    plt.ylabel('True Label')\n",
    "    plt.xlabel('Predicted Label')\n",
    "    plt.grid(None)\n",
    "    return"
   ]
  },
  {
   "cell_type": "code",
   "execution_count": 14,
   "metadata": {},
   "outputs": [
    {
     "name": "stdout",
     "output_type": "stream",
     "text": [
      "F1 Score:\n",
      "               precision    recall  f1-score   support\n",
      "\n",
      "           0       0.00      0.00      0.00         3\n",
      "           1       0.79      0.73      0.76        51\n",
      "           2       0.66      0.79      0.72        34\n",
      "\n",
      "    accuracy                           0.73        88\n",
      "   macro avg       0.48      0.51      0.49        88\n",
      "weighted avg       0.71      0.73      0.72        88\n",
      "\n",
      "Confusion Matrix, non-normalized\n"
     ]
    },
    {
     "name": "stderr",
     "output_type": "stream",
     "text": [
      "C:\\Users\\quant\\Anaconda3\\lib\\site-packages\\sklearn\\metrics\\_classification.py:1272: UndefinedMetricWarning: Precision and F-score are ill-defined and being set to 0.0 in labels with no predicted samples. Use `zero_division` parameter to control this behavior.\n",
      "  _warn_prf(average, modifier, msg_start, len(result))\n"
     ]
    },
    {
     "data": {
      "image/png": "[encoded data removed]",
      "text/plain": [
       "<Figure size 720x360 with 2 Axes>"
      ]
     },
     "metadata": {},
     "output_type": "display_data"
    }
   ],
   "source": [
    "conf_mat_nn = confusion_matrix(b_bool, b_pred)\n",
    "print('F1 Score:\\n',classification_report(b_bool, b_pred))\n",
    "\n",
    "# Set normalize to true for the confusion matrix to print normalized values\n",
    "# Call Total Rain Days = TRD\n",
    "normalize = False\n",
    "cmap = plt.cm.seismic\n",
    "width=10\n",
    "height=width/2\n",
    "\n",
    "plot_conf_mat(conf_mat_nn, \n",
    "              classes=['TRD<5 (0)', \n",
    "                       '5=<TRD<15 (1)', \n",
    "                       'TRD>=15 (2)'],\n",
    "              normalize=normalize, cmap=cmap, width=width, height=height)"
   ]
  },
  {
   "cell_type": "markdown",
   "metadata": {},
   "source": [
    "#### Compare this result against the other Machine Learning models"
   ]
  },
  {
   "cell_type": "markdown",
   "metadata": {},
   "source": [
    "I will compare the validation set result here against that of the SVM model built earlier"
   ]
  },
  {
   "cell_type": "code",
   "execution_count": 15,
   "metadata": {},
   "outputs": [],
   "source": [
    "model_svm  = pickle.load(open(\"model_SVM\", \"rb\"))"
   ]
  },
  {
   "cell_type": "code",
   "execution_count": 16,
   "metadata": {},
   "outputs": [
    {
     "data": {
      "text/plain": [
       "array([1, 1, 1, 1, 1, 2, 1, 1, 1, 1, 2, 2, 1, 1, 1, 2, 1, 1, 1, 2, 2, 1,\n",
       "       1, 2, 1, 2, 2, 1, 2, 2, 2, 1, 1, 2, 1, 1, 1, 2, 2, 2, 2, 2, 1, 2,\n",
       "       1, 2, 2, 2, 1, 2, 2, 1, 1, 1, 2, 2, 1, 2, 2, 2, 1, 1, 2, 1, 2, 1,\n",
       "       1, 2, 2, 1, 1, 1, 1, 2, 1, 1, 1, 2, 1, 1, 2, 2, 1, 1, 1, 2, 1, 1])"
      ]
     },
     "execution_count": 16,
     "metadata": {},
     "output_type": "execute_result"
    }
   ],
   "source": [
    "b_pred_SVM = model_svm.predict(A_norm)\n",
    "b_pred_SVM"
   ]
  },
  {
   "cell_type": "code",
   "execution_count": 17,
   "metadata": {},
   "outputs": [
    {
     "name": "stdout",
     "output_type": "stream",
     "text": [
      "F1 Score:\n",
      "               precision    recall  f1-score   support\n",
      "\n",
      "           0       0.00      0.00      0.00         3\n",
      "           1       0.82      0.80      0.81        51\n",
      "           2       0.74      0.82      0.78        34\n",
      "\n",
      "    accuracy                           0.78        88\n",
      "   macro avg       0.52      0.54      0.53        88\n",
      "weighted avg       0.76      0.78      0.77        88\n",
      "\n",
      "Confusion Matrix, non-normalized\n"
     ]
    },
    {
     "name": "stderr",
     "output_type": "stream",
     "text": [
      "C:\\Users\\quant\\Anaconda3\\lib\\site-packages\\sklearn\\metrics\\_classification.py:1272: UndefinedMetricWarning: Precision and F-score are ill-defined and being set to 0.0 in labels with no predicted samples. Use `zero_division` parameter to control this behavior.\n",
      "  _warn_prf(average, modifier, msg_start, len(result))\n"
     ]
    },
    {
     "data": {
      "image/png": "[encoded data removed]",
      "text/plain": [
       "<Figure size 720x360 with 2 Axes>"
      ]
     },
     "metadata": {},
     "output_type": "display_data"
    }
   ],
   "source": [
    "conf_mat_svm = confusion_matrix(b_bool, b_pred_SVM)\n",
    "print('F1 Score:\\n',classification_report(b_bool, b_pred_SVM))\n",
    "\n",
    "plot_conf_mat(conf_mat_svm, \n",
    "              classes=['TRD<5 (0)', \n",
    "                       '5=<TRD<15 (1)', \n",
    "                       'TRD>=15 (2)'],\n",
    "              normalize=normalize, cmap=cmap, width=width, height=height)"
   ]
  },
  {
   "cell_type": "markdown",
   "metadata": {},
   "source": [
    "# Conclusion"
   ]
  },
  {
   "cell_type": "markdown",
   "metadata": {},
   "source": [
    "In terms of accuracy, both SVM and the neural net are similar. \n",
    "\n",
    "Training/Validation Set\n",
    " - NN accuracy ~ 0.79\n",
    " - SVM accuracy ~ 0.81\n",
    "\n",
    "Test set\n",
    " - NN accuracy ~ 0.73\n",
    " - SVM accuracy ~ 0.78\n",
    "\n",
    "However, the neural net performance is slightly poorer as it predicts more FP (i.e. row 2, col 3 of the confusion matrix)\n"
   ]
  },
  {
   "cell_type": "code",
   "execution_count": 18,
   "metadata": {},
   "outputs": [
    {
     "name": "stdout",
     "output_type": "stream",
     "text": [
      "Completed Process in 1.6421198844909668 seconds\n"
     ]
    }
   ],
   "source": [
    "count = 'Completed Process'\n",
    "elapsed = (time.time() - start)\n",
    "print (\"%s in %s seconds\" % (count,elapsed))"
   ]
  }
 ],
 "metadata": {
  "kernelspec": {
   "display_name": "Python 3",
   "language": "python",
   "name": "python3"
  },
  "language_info": {
   "codemirror_mode": {
    "name": "ipython",
    "version": 3
   },
   "file_extension": ".py",
   "mimetype": "text/x-python",
   "name": "python",
   "nbconvert_exporter": "python",
   "pygments_lexer": "ipython3",
   "version": "3.7.7"
  }
 },
 "nbformat": 4,
 "nbformat_minor": 4
}
